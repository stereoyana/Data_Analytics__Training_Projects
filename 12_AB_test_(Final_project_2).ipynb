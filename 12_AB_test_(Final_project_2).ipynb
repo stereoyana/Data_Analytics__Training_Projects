{
  "cells": [
    {
      "cell_type": "markdown",
      "metadata": {
        "id": "-tZYAOUye0De"
      },
      "source": [
        "# A/B-тестирование"
      ]
    },
    {
      "cell_type": "markdown",
      "metadata": {
        "id": "owl52NFjhwbB"
      },
      "source": [
        "## Описание проекта"
      ]
    },
    {
      "cell_type": "markdown",
      "metadata": {
        "id": "m9hpK3_XkZRx"
      },
      "source": [
        "Заказчик провел тестирование изменений, связанных с внедрением улучшенной рекомендательной системы. \n",
        "\n",
        "Ожидаемый эффект: за 14 дней с момента регистрации пользователи покажут улучшение каждой метрики не менее, чем на 10%."
      ]
    },
    {
      "cell_type": "markdown",
      "metadata": {
        "id": "sPDS999fiCln"
      },
      "source": [
        "**Цели исследования:** оценить корректность проведения теста, проанализировать его результаты и выявить, было ли улучшение метрик."
      ]
    },
    {
      "cell_type": "markdown",
      "metadata": {
        "id": "Qqv7K8WCh0xz"
      },
      "source": [
        "## Обзор данных"
      ]
    },
    {
      "cell_type": "markdown",
      "metadata": {
        "id": "2pdiJ22NA1Jp"
      },
      "source": [
        "### Импорт библиотек и данных"
      ]
    },
    {
      "cell_type": "code",
      "execution_count": 1,
      "metadata": {
        "id": "09F204-yexxO"
      },
      "outputs": [],
      "source": [
        "import pandas as pd\n",
        "import numpy as np\n",
        "import seaborn as sns\n",
        "import math as mth\n",
        "import warnings\n",
        "\n",
        "from datetime import date, datetime, timedelta\n",
        "from matplotlib import pyplot as plt\n",
        "\n",
        "from scipy import stats as st\n",
        "from plotly import graph_objects as go\n",
        "import plotly.express as px\n",
        "from plotly.subplots import make_subplots\n",
        "\n",
        "\n",
        "pd.set_option('display.float_format', '{:.2f}'.format)\n",
        "%config InlineBackend.figure_format = 'retina'\n",
        "pd.options.mode.chained_assignment = None\n",
        "warnings.simplefilter(action='ignore', category=FutureWarning)"
      ]
    },
    {
      "cell_type": "code",
      "execution_count": 2,
      "metadata": {
        "id": "ELrQPi_qe94X"
      },
      "outputs": [],
      "source": [
        "marketing = pd.read_csv('https://code.s3.yandex.net/datasets/ab_project_marketing_events.csv')\n",
        "events = pd.read_csv('https://code.s3.yandex.net/datasets/final_ab_events.csv')\n",
        "users = pd.read_csv('https://code.s3.yandex.net/datasets/final_ab_new_users.csv') \n",
        "participants = pd.read_csv('https://code.s3.yandex.net/datasets/final_ab_participants.csv')"
      ]
    },
    {
      "cell_type": "markdown",
      "metadata": {
        "id": "qYgUu0Prwzb2"
      },
      "source": [
        "### Обзор датасета marketing "
      ]
    },
    {
      "cell_type": "markdown",
      "metadata": {
        "id": "DsEJYIsSxGJj"
      },
      "source": [
        "Календарь маркетинговых событий на 2020 год.\n",
        "\n",
        "Структура файла:\n",
        "\n",
        "- `name` — название маркетингового события;\n",
        "- `regions` — регионы, в которых будет проводиться рекламная кампания;\n",
        "- `start_dt` — дата начала кампании;\n",
        "- `finish_dt` — дата завершения кампании.\n"
      ]
    },
    {
      "cell_type": "code",
      "execution_count": 3,
      "metadata": {
        "colab": {
          "base_uri": "https://localhost:8080/",
          "height": 403
        },
        "id": "lj0K7zKtjzvA",
        "outputId": "259e50b0-89e0-4792-a7ed-2da22d5ff061"
      },
      "outputs": [
        {
          "output_type": "stream",
          "name": "stdout",
          "text": [
            "<class 'pandas.core.frame.DataFrame'>\n",
            "RangeIndex: 14 entries, 0 to 13\n",
            "Data columns (total 4 columns):\n",
            " #   Column     Non-Null Count  Dtype \n",
            "---  ------     --------------  ----- \n",
            " 0   name       14 non-null     object\n",
            " 1   regions    14 non-null     object\n",
            " 2   start_dt   14 non-null     object\n",
            " 3   finish_dt  14 non-null     object\n",
            "dtypes: object(4)\n",
            "memory usage: 576.0+ bytes\n"
          ]
        },
        {
          "output_type": "execute_result",
          "data": {
            "text/plain": [
              "                           name                   regions    start_dt  \\\n",
              "0      Christmas&New Year Promo             EU, N.America  2020-12-25   \n",
              "1  St. Valentine's Day Giveaway  EU, CIS, APAC, N.America  2020-02-14   \n",
              "2        St. Patric's Day Promo             EU, N.America  2020-03-17   \n",
              "3                  Easter Promo  EU, CIS, APAC, N.America  2020-04-12   \n",
              "4             4th of July Promo                 N.America  2020-07-04   \n",
              "\n",
              "    finish_dt  \n",
              "0  2021-01-03  \n",
              "1  2020-02-16  \n",
              "2  2020-03-19  \n",
              "3  2020-04-19  \n",
              "4  2020-07-11  "
            ],
            "text/html": [
              "\n",
              "  <div id=\"df-2d537da7-7ed4-4550-8124-682960eab7b6\">\n",
              "    <div class=\"colab-df-container\">\n",
              "      <div>\n",
              "<style scoped>\n",
              "    .dataframe tbody tr th:only-of-type {\n",
              "        vertical-align: middle;\n",
              "    }\n",
              "\n",
              "    .dataframe tbody tr th {\n",
              "        vertical-align: top;\n",
              "    }\n",
              "\n",
              "    .dataframe thead th {\n",
              "        text-align: right;\n",
              "    }\n",
              "</style>\n",
              "<table border=\"1\" class=\"dataframe\">\n",
              "  <thead>\n",
              "    <tr style=\"text-align: right;\">\n",
              "      <th></th>\n",
              "      <th>name</th>\n",
              "      <th>regions</th>\n",
              "      <th>start_dt</th>\n",
              "      <th>finish_dt</th>\n",
              "    </tr>\n",
              "  </thead>\n",
              "  <tbody>\n",
              "    <tr>\n",
              "      <th>0</th>\n",
              "      <td>Christmas&amp;New Year Promo</td>\n",
              "      <td>EU, N.America</td>\n",
              "      <td>2020-12-25</td>\n",
              "      <td>2021-01-03</td>\n",
              "    </tr>\n",
              "    <tr>\n",
              "      <th>1</th>\n",
              "      <td>St. Valentine's Day Giveaway</td>\n",
              "      <td>EU, CIS, APAC, N.America</td>\n",
              "      <td>2020-02-14</td>\n",
              "      <td>2020-02-16</td>\n",
              "    </tr>\n",
              "    <tr>\n",
              "      <th>2</th>\n",
              "      <td>St. Patric's Day Promo</td>\n",
              "      <td>EU, N.America</td>\n",
              "      <td>2020-03-17</td>\n",
              "      <td>2020-03-19</td>\n",
              "    </tr>\n",
              "    <tr>\n",
              "      <th>3</th>\n",
              "      <td>Easter Promo</td>\n",
              "      <td>EU, CIS, APAC, N.America</td>\n",
              "      <td>2020-04-12</td>\n",
              "      <td>2020-04-19</td>\n",
              "    </tr>\n",
              "    <tr>\n",
              "      <th>4</th>\n",
              "      <td>4th of July Promo</td>\n",
              "      <td>N.America</td>\n",
              "      <td>2020-07-04</td>\n",
              "      <td>2020-07-11</td>\n",
              "    </tr>\n",
              "  </tbody>\n",
              "</table>\n",
              "</div>\n",
              "      <button class=\"colab-df-convert\" onclick=\"convertToInteractive('df-2d537da7-7ed4-4550-8124-682960eab7b6')\"\n",
              "              title=\"Convert this dataframe to an interactive table.\"\n",
              "              style=\"display:none;\">\n",
              "        \n",
              "  <svg xmlns=\"http://www.w3.org/2000/svg\" height=\"24px\"viewBox=\"0 0 24 24\"\n",
              "       width=\"24px\">\n",
              "    <path d=\"M0 0h24v24H0V0z\" fill=\"none\"/>\n",
              "    <path d=\"M18.56 5.44l.94 2.06.94-2.06 2.06-.94-2.06-.94-.94-2.06-.94 2.06-2.06.94zm-11 1L8.5 8.5l.94-2.06 2.06-.94-2.06-.94L8.5 2.5l-.94 2.06-2.06.94zm10 10l.94 2.06.94-2.06 2.06-.94-2.06-.94-.94-2.06-.94 2.06-2.06.94z\"/><path d=\"M17.41 7.96l-1.37-1.37c-.4-.4-.92-.59-1.43-.59-.52 0-1.04.2-1.43.59L10.3 9.45l-7.72 7.72c-.78.78-.78 2.05 0 2.83L4 21.41c.39.39.9.59 1.41.59.51 0 1.02-.2 1.41-.59l7.78-7.78 2.81-2.81c.8-.78.8-2.07 0-2.86zM5.41 20L4 18.59l7.72-7.72 1.47 1.35L5.41 20z\"/>\n",
              "  </svg>\n",
              "      </button>\n",
              "      \n",
              "  <style>\n",
              "    .colab-df-container {\n",
              "      display:flex;\n",
              "      flex-wrap:wrap;\n",
              "      gap: 12px;\n",
              "    }\n",
              "\n",
              "    .colab-df-convert {\n",
              "      background-color: #E8F0FE;\n",
              "      border: none;\n",
              "      border-radius: 50%;\n",
              "      cursor: pointer;\n",
              "      display: none;\n",
              "      fill: #1967D2;\n",
              "      height: 32px;\n",
              "      padding: 0 0 0 0;\n",
              "      width: 32px;\n",
              "    }\n",
              "\n",
              "    .colab-df-convert:hover {\n",
              "      background-color: #E2EBFA;\n",
              "      box-shadow: 0px 1px 2px rgba(60, 64, 67, 0.3), 0px 1px 3px 1px rgba(60, 64, 67, 0.15);\n",
              "      fill: #174EA6;\n",
              "    }\n",
              "\n",
              "    [theme=dark] .colab-df-convert {\n",
              "      background-color: #3B4455;\n",
              "      fill: #D2E3FC;\n",
              "    }\n",
              "\n",
              "    [theme=dark] .colab-df-convert:hover {\n",
              "      background-color: #434B5C;\n",
              "      box-shadow: 0px 1px 3px 1px rgba(0, 0, 0, 0.15);\n",
              "      filter: drop-shadow(0px 1px 2px rgba(0, 0, 0, 0.3));\n",
              "      fill: #FFFFFF;\n",
              "    }\n",
              "  </style>\n",
              "\n",
              "      <script>\n",
              "        const buttonEl =\n",
              "          document.querySelector('#df-2d537da7-7ed4-4550-8124-682960eab7b6 button.colab-df-convert');\n",
              "        buttonEl.style.display =\n",
              "          google.colab.kernel.accessAllowed ? 'block' : 'none';\n",
              "\n",
              "        async function convertToInteractive(key) {\n",
              "          const element = document.querySelector('#df-2d537da7-7ed4-4550-8124-682960eab7b6');\n",
              "          const dataTable =\n",
              "            await google.colab.kernel.invokeFunction('convertToInteractive',\n",
              "                                                     [key], {});\n",
              "          if (!dataTable) return;\n",
              "\n",
              "          const docLinkHtml = 'Like what you see? Visit the ' +\n",
              "            '<a target=\"_blank\" href=https://colab.research.google.com/notebooks/data_table.ipynb>data table notebook</a>'\n",
              "            + ' to learn more about interactive tables.';\n",
              "          element.innerHTML = '';\n",
              "          dataTable['output_type'] = 'display_data';\n",
              "          await google.colab.output.renderOutput(dataTable, element);\n",
              "          const docLink = document.createElement('div');\n",
              "          docLink.innerHTML = docLinkHtml;\n",
              "          element.appendChild(docLink);\n",
              "        }\n",
              "      </script>\n",
              "    </div>\n",
              "  </div>\n",
              "  "
            ]
          },
          "metadata": {},
          "execution_count": 3
        }
      ],
      "source": [
        "# просмотр датасета с маркетинговыми событиями \n",
        "marketing.info()\n",
        "marketing.head()"
      ]
    },
    {
      "cell_type": "code",
      "execution_count": 4,
      "metadata": {
        "colab": {
          "base_uri": "https://localhost:8080/"
        },
        "id": "_GnyXAfsmhEh",
        "outputId": "8f8a0133-5a14-406d-84ed-04b3bfca2cfd"
      },
      "outputs": [
        {
          "output_type": "stream",
          "name": "stdout",
          "text": [
            "Полные дубликаты: 0\n",
            "\n",
            "Пропущенные значения:\n",
            "name         0\n",
            "regions      0\n",
            "start_dt     0\n",
            "finish_dt    0\n",
            "dtype: int64\n",
            "\n"
          ]
        }
      ],
      "source": [
        "# проверка на дубликаты и пропущенные значения\n",
        "print('Полные дубликаты: {}\\n'.format(marketing.duplicated().sum()))\n",
        "print('Пропущенные значения:\\n{}\\n'.format(marketing.isna().sum()))"
      ]
    },
    {
      "cell_type": "code",
      "execution_count": 5,
      "metadata": {
        "colab": {
          "base_uri": "https://localhost:8080/"
        },
        "id": "8lqwVHRktuXH",
        "outputId": "85d20724-284b-4805-8d4a-df3c80819397"
      },
      "outputs": [
        {
          "output_type": "stream",
          "name": "stdout",
          "text": [
            "Названия маркетинговых событий: ['4th of July Promo' 'Black Friday Ads Campaign'\n",
            " 'CIS New Year Gift Lottery' 'Chinese Moon Festival'\n",
            " 'Chinese New Year Promo' 'Christmas&New Year Promo'\n",
            " 'Dragon Boat Festival Giveaway' 'Easter Promo'\n",
            " \"International Women's Day Promo\" 'Labor day (May 1st) Ads Campaign'\n",
            " \"Single's Day Gift Promo\" \"St. Patric's Day Promo\"\n",
            " \"St. Valentine's Day Giveaway\" 'Victory Day CIS (May 9th) Event']\n",
            "\n",
            "Названия регионов: ['APAC' 'CIS' 'EU, CIS, APAC' 'EU, CIS, APAC, N.America' 'EU, N.America'\n",
            " 'N.America']\n",
            "\n"
          ]
        }
      ],
      "source": [
        "# вывод уникальных значений\n",
        "print('Названия маркетинговых событий: {}\\n'.format(marketing['name'].sort_values().unique()))\n",
        "print('Названия регионов: {}\\n'.format(marketing['regions'].sort_values().unique()))"
      ]
    },
    {
      "cell_type": "code",
      "execution_count": 6,
      "metadata": {
        "colab": {
          "base_uri": "https://localhost:8080/"
        },
        "id": "46iv-LxC1S49",
        "outputId": "9b9e1478-bd0f-491e-efd5-80c38748258e"
      },
      "outputs": [
        {
          "output_type": "stream",
          "name": "stdout",
          "text": [
            "Начало мероприятий: 2020-01-25 \n",
            "Конец мероприятий: 2021-01-07\n",
            "\n"
          ]
        }
      ],
      "source": [
        "# вывод диапазона дат\n",
        "print('Начало мероприятий: {} \\nКонец мероприятий: {}\\n'\\\n",
        "      .format(marketing['start_dt'].min(), marketing['finish_dt'].max()))"
      ]
    },
    {
      "cell_type": "markdown",
      "metadata": {
        "id": "nPyfmihNj6Tx"
      },
      "source": [
        "Небольшой набор данных о маркетинговых событиях (календарь) на 14 записей и 4 столбца.\n",
        "- Полных дубликатов не выявлено\n",
        "- Пропущенные значения не обнаружены\n",
        "- Дубликатов названий маркетинговых событий и регионов не обнаружено\n",
        "- Даты проведения мероприятий пересекаются с датами тестирования по ТЗ\n",
        "\n",
        "Возможные правки:\n",
        "- Столбцы с меткой времени нужно привести к корректному типу данных"
      ]
    },
    {
      "cell_type": "markdown",
      "metadata": {
        "id": "L0vHbQ_sw5Wm"
      },
      "source": [
        "### Обзор датасета events "
      ]
    },
    {
      "cell_type": "markdown",
      "metadata": {
        "id": "mRXrVBdsxRkL"
      },
      "source": [
        "Действия новых пользователей в период с 7 декабря 2020 по 4 января 2021 года.\n",
        "\n",
        "Структура файла:\n",
        "\n",
        "- `user_id` — идентификатор пользователя;\n",
        "- `event_dt` — дата и время покупки;\n",
        "- `event_name` — тип события;\n",
        "- `details` — дополнительные данные о событии. Например, для покупок, `purchase,` в этом поле хранится стоимость покупки в долларах."
      ]
    },
    {
      "cell_type": "code",
      "execution_count": 7,
      "metadata": {
        "colab": {
          "base_uri": "https://localhost:8080/",
          "height": 403
        },
        "id": "n9zKE1-nfjk3",
        "outputId": "f15ec409-037a-4bc5-e8fc-75bf5af7dc2a"
      },
      "outputs": [
        {
          "output_type": "stream",
          "name": "stdout",
          "text": [
            "<class 'pandas.core.frame.DataFrame'>\n",
            "RangeIndex: 440317 entries, 0 to 440316\n",
            "Data columns (total 4 columns):\n",
            " #   Column      Non-Null Count   Dtype  \n",
            "---  ------      --------------   -----  \n",
            " 0   user_id     440317 non-null  object \n",
            " 1   event_dt    440317 non-null  object \n",
            " 2   event_name  440317 non-null  object \n",
            " 3   details     62740 non-null   float64\n",
            "dtypes: float64(1), object(3)\n",
            "memory usage: 13.4+ MB\n"
          ]
        },
        {
          "output_type": "execute_result",
          "data": {
            "text/plain": [
              "            user_id             event_dt event_name  details\n",
              "0  E1BDDCE0DAFA2679  2020-12-07 20:22:03   purchase    99.99\n",
              "1  7B6452F081F49504  2020-12-07 09:22:53   purchase     9.99\n",
              "2  9CD9F34546DF254C  2020-12-07 12:59:29   purchase     4.99\n",
              "3  96F27A054B191457  2020-12-07 04:02:40   purchase     4.99\n",
              "4  1FD7660FDF94CA1F  2020-12-07 10:15:09   purchase     4.99"
            ],
            "text/html": [
              "\n",
              "  <div id=\"df-5fc288fc-c408-4639-8bba-4b169356ebbe\">\n",
              "    <div class=\"colab-df-container\">\n",
              "      <div>\n",
              "<style scoped>\n",
              "    .dataframe tbody tr th:only-of-type {\n",
              "        vertical-align: middle;\n",
              "    }\n",
              "\n",
              "    .dataframe tbody tr th {\n",
              "        vertical-align: top;\n",
              "    }\n",
              "\n",
              "    .dataframe thead th {\n",
              "        text-align: right;\n",
              "    }\n",
              "</style>\n",
              "<table border=\"1\" class=\"dataframe\">\n",
              "  <thead>\n",
              "    <tr style=\"text-align: right;\">\n",
              "      <th></th>\n",
              "      <th>user_id</th>\n",
              "      <th>event_dt</th>\n",
              "      <th>event_name</th>\n",
              "      <th>details</th>\n",
              "    </tr>\n",
              "  </thead>\n",
              "  <tbody>\n",
              "    <tr>\n",
              "      <th>0</th>\n",
              "      <td>E1BDDCE0DAFA2679</td>\n",
              "      <td>2020-12-07 20:22:03</td>\n",
              "      <td>purchase</td>\n",
              "      <td>99.99</td>\n",
              "    </tr>\n",
              "    <tr>\n",
              "      <th>1</th>\n",
              "      <td>7B6452F081F49504</td>\n",
              "      <td>2020-12-07 09:22:53</td>\n",
              "      <td>purchase</td>\n",
              "      <td>9.99</td>\n",
              "    </tr>\n",
              "    <tr>\n",
              "      <th>2</th>\n",
              "      <td>9CD9F34546DF254C</td>\n",
              "      <td>2020-12-07 12:59:29</td>\n",
              "      <td>purchase</td>\n",
              "      <td>4.99</td>\n",
              "    </tr>\n",
              "    <tr>\n",
              "      <th>3</th>\n",
              "      <td>96F27A054B191457</td>\n",
              "      <td>2020-12-07 04:02:40</td>\n",
              "      <td>purchase</td>\n",
              "      <td>4.99</td>\n",
              "    </tr>\n",
              "    <tr>\n",
              "      <th>4</th>\n",
              "      <td>1FD7660FDF94CA1F</td>\n",
              "      <td>2020-12-07 10:15:09</td>\n",
              "      <td>purchase</td>\n",
              "      <td>4.99</td>\n",
              "    </tr>\n",
              "  </tbody>\n",
              "</table>\n",
              "</div>\n",
              "      <button class=\"colab-df-convert\" onclick=\"convertToInteractive('df-5fc288fc-c408-4639-8bba-4b169356ebbe')\"\n",
              "              title=\"Convert this dataframe to an interactive table.\"\n",
              "              style=\"display:none;\">\n",
              "        \n",
              "  <svg xmlns=\"http://www.w3.org/2000/svg\" height=\"24px\"viewBox=\"0 0 24 24\"\n",
              "       width=\"24px\">\n",
              "    <path d=\"M0 0h24v24H0V0z\" fill=\"none\"/>\n",
              "    <path d=\"M18.56 5.44l.94 2.06.94-2.06 2.06-.94-2.06-.94-.94-2.06-.94 2.06-2.06.94zm-11 1L8.5 8.5l.94-2.06 2.06-.94-2.06-.94L8.5 2.5l-.94 2.06-2.06.94zm10 10l.94 2.06.94-2.06 2.06-.94-2.06-.94-.94-2.06-.94 2.06-2.06.94z\"/><path d=\"M17.41 7.96l-1.37-1.37c-.4-.4-.92-.59-1.43-.59-.52 0-1.04.2-1.43.59L10.3 9.45l-7.72 7.72c-.78.78-.78 2.05 0 2.83L4 21.41c.39.39.9.59 1.41.59.51 0 1.02-.2 1.41-.59l7.78-7.78 2.81-2.81c.8-.78.8-2.07 0-2.86zM5.41 20L4 18.59l7.72-7.72 1.47 1.35L5.41 20z\"/>\n",
              "  </svg>\n",
              "      </button>\n",
              "      \n",
              "  <style>\n",
              "    .colab-df-container {\n",
              "      display:flex;\n",
              "      flex-wrap:wrap;\n",
              "      gap: 12px;\n",
              "    }\n",
              "\n",
              "    .colab-df-convert {\n",
              "      background-color: #E8F0FE;\n",
              "      border: none;\n",
              "      border-radius: 50%;\n",
              "      cursor: pointer;\n",
              "      display: none;\n",
              "      fill: #1967D2;\n",
              "      height: 32px;\n",
              "      padding: 0 0 0 0;\n",
              "      width: 32px;\n",
              "    }\n",
              "\n",
              "    .colab-df-convert:hover {\n",
              "      background-color: #E2EBFA;\n",
              "      box-shadow: 0px 1px 2px rgba(60, 64, 67, 0.3), 0px 1px 3px 1px rgba(60, 64, 67, 0.15);\n",
              "      fill: #174EA6;\n",
              "    }\n",
              "\n",
              "    [theme=dark] .colab-df-convert {\n",
              "      background-color: #3B4455;\n",
              "      fill: #D2E3FC;\n",
              "    }\n",
              "\n",
              "    [theme=dark] .colab-df-convert:hover {\n",
              "      background-color: #434B5C;\n",
              "      box-shadow: 0px 1px 3px 1px rgba(0, 0, 0, 0.15);\n",
              "      filter: drop-shadow(0px 1px 2px rgba(0, 0, 0, 0.3));\n",
              "      fill: #FFFFFF;\n",
              "    }\n",
              "  </style>\n",
              "\n",
              "      <script>\n",
              "        const buttonEl =\n",
              "          document.querySelector('#df-5fc288fc-c408-4639-8bba-4b169356ebbe button.colab-df-convert');\n",
              "        buttonEl.style.display =\n",
              "          google.colab.kernel.accessAllowed ? 'block' : 'none';\n",
              "\n",
              "        async function convertToInteractive(key) {\n",
              "          const element = document.querySelector('#df-5fc288fc-c408-4639-8bba-4b169356ebbe');\n",
              "          const dataTable =\n",
              "            await google.colab.kernel.invokeFunction('convertToInteractive',\n",
              "                                                     [key], {});\n",
              "          if (!dataTable) return;\n",
              "\n",
              "          const docLinkHtml = 'Like what you see? Visit the ' +\n",
              "            '<a target=\"_blank\" href=https://colab.research.google.com/notebooks/data_table.ipynb>data table notebook</a>'\n",
              "            + ' to learn more about interactive tables.';\n",
              "          element.innerHTML = '';\n",
              "          dataTable['output_type'] = 'display_data';\n",
              "          await google.colab.output.renderOutput(dataTable, element);\n",
              "          const docLink = document.createElement('div');\n",
              "          docLink.innerHTML = docLinkHtml;\n",
              "          element.appendChild(docLink);\n",
              "        }\n",
              "      </script>\n",
              "    </div>\n",
              "  </div>\n",
              "  "
            ]
          },
          "metadata": {},
          "execution_count": 7
        }
      ],
      "source": [
        "# просмотр датасета с действиями пользователей \n",
        "events.info()\n",
        "events.head()"
      ]
    },
    {
      "cell_type": "code",
      "execution_count": 8,
      "metadata": {
        "colab": {
          "base_uri": "https://localhost:8080/"
        },
        "id": "8A6C0EsonEzp",
        "outputId": "0f5b2a4d-c510-4434-b2f4-7e8ec004202a"
      },
      "outputs": [
        {
          "output_type": "stream",
          "name": "stdout",
          "text": [
            "Полные дубликаты: 0\n",
            "\n",
            "Пропущенные значения:\n",
            "user_id            0\n",
            "event_dt           0\n",
            "event_name         0\n",
            "details       377577\n",
            "dtype: int64\n",
            "\n"
          ]
        }
      ],
      "source": [
        "# проверка на дубликаты и пропуски\n",
        "print('Полные дубликаты: {}\\n'.format(events.duplicated().sum()))\n",
        "print('Пропущенные значения:\\n{}\\n'.format(events.isna().sum()))"
      ]
    },
    {
      "cell_type": "code",
      "execution_count": 9,
      "metadata": {
        "colab": {
          "base_uri": "https://localhost:8080/"
        },
        "id": "1IJZey2T3yM7",
        "outputId": "44b55615-07af-4b88-b736-52a1f8886eda"
      },
      "outputs": [
        {
          "output_type": "stream",
          "name": "stdout",
          "text": [
            "Наблюдений всего: 440317\n",
            "Названия событий: ['login' 'product_cart' 'product_page' 'purchase']\n",
            "Названия событий без details: ['product_cart' 'product_page' 'login']\n",
            "\n",
            "Дубликаты по user_id: 381614\n",
            "Количество уникальных user_id: 58703\n",
            "\n",
            "Начало отслеживания событий: 2020-12-07 00:00:33 \n",
            "Конец отслеживания событий: 2020-12-30 23:36:33\n",
            "\n"
          ]
        }
      ],
      "source": [
        "# количество событий в логе\n",
        "total_events = events['event_name'].count()\n",
        "print('Наблюдений всего: {}'.format(total_events))\n",
        "\n",
        "# вывод уникальных значений\n",
        "print('Названия событий: {}'.format(events['event_name'].sort_values().unique()))\n",
        "print('Названия событий без details: {}\\n'.format(events.query('details != details')['event_name'].unique()))\n",
        "\n",
        "# количество дубликатов\n",
        "print('Дубликаты по user_id: {}'.format(events['user_id'].duplicated().sum()))\n",
        "print('Количество уникальных user_id: {}\\n'.format(events['user_id'].nunique()))\n",
        "\n",
        "\n",
        "# вывод диапазона дат\n",
        "print('Начало отслеживания событий: {} \\nКонец отслеживания событий: {}\\n'\\\n",
        "      .format(events['event_dt'].min(), events['event_dt'].max()))\n"
      ]
    },
    {
      "cell_type": "markdown",
      "metadata": {
        "id": "ZapBrBoGjCxB"
      },
      "source": [
        "Большая база событий на 440317 строки и 4 столбца.\n",
        "- Полных дубликатов не выявлено\n",
        "- Дубликаты по `user_id`: 381614. Это нормально, так как один пользователь обычно совершает более чем 1 уникальное действие\n",
        "- Уникальные `user_id`: 58703\n",
        "- Сбор данных прекращается до даты завершения теста\n",
        "\n",
        "\n",
        "\n",
        "Возможные правки:\n",
        "- Столбец с меткой времени нужно привести к корректному типу данных\n",
        "- Обнаружено большое количество пропущенных значений в столбце `details`, содержащем сведения о стоимости покупки при совершении события `purchase`. Пропуски в столбце закономерны – относятся только к событиям без ценности (стоимости), можно заменить на `0`\n"
      ]
    },
    {
      "cell_type": "markdown",
      "metadata": {
        "id": "YC1chW53w8C3"
      },
      "source": [
        "### Обзор датасета users "
      ]
    },
    {
      "cell_type": "markdown",
      "metadata": {
        "id": "wJspovb2xLae"
      },
      "source": [
        "Пользователи, зарегистрировавшиеся с 7 по 21 декабря 2020 года.\n",
        "\n",
        "Структура файла:\n",
        "\n",
        "- `user_id` — идентификатор пользователя;\n",
        "- `first_date` — дата регистрации;\n",
        "- `region` — регион пользователя;\n",
        "- `device` — устройство, с которого происходила регистрация."
      ]
    },
    {
      "cell_type": "code",
      "execution_count": 10,
      "metadata": {
        "colab": {
          "base_uri": "https://localhost:8080/",
          "height": 403
        },
        "id": "xVfacQBGfobB",
        "outputId": "627469ae-0f6a-4c4e-e9b8-25436d182534"
      },
      "outputs": [
        {
          "output_type": "stream",
          "name": "stdout",
          "text": [
            "<class 'pandas.core.frame.DataFrame'>\n",
            "RangeIndex: 61733 entries, 0 to 61732\n",
            "Data columns (total 4 columns):\n",
            " #   Column      Non-Null Count  Dtype \n",
            "---  ------      --------------  ----- \n",
            " 0   user_id     61733 non-null  object\n",
            " 1   first_date  61733 non-null  object\n",
            " 2   region      61733 non-null  object\n",
            " 3   device      61733 non-null  object\n",
            "dtypes: object(4)\n",
            "memory usage: 1.9+ MB\n"
          ]
        },
        {
          "output_type": "execute_result",
          "data": {
            "text/plain": [
              "            user_id  first_date     region   device\n",
              "0  D72A72121175D8BE  2020-12-07         EU       PC\n",
              "1  F1C668619DFE6E65  2020-12-07  N.America  Android\n",
              "2  2E1BF1D4C37EA01F  2020-12-07         EU       PC\n",
              "3  50734A22C0C63768  2020-12-07         EU   iPhone\n",
              "4  E1BDDCE0DAFA2679  2020-12-07  N.America   iPhone"
            ],
            "text/html": [
              "\n",
              "  <div id=\"df-5e773473-6187-4d60-be5e-08db2a78b04d\">\n",
              "    <div class=\"colab-df-container\">\n",
              "      <div>\n",
              "<style scoped>\n",
              "    .dataframe tbody tr th:only-of-type {\n",
              "        vertical-align: middle;\n",
              "    }\n",
              "\n",
              "    .dataframe tbody tr th {\n",
              "        vertical-align: top;\n",
              "    }\n",
              "\n",
              "    .dataframe thead th {\n",
              "        text-align: right;\n",
              "    }\n",
              "</style>\n",
              "<table border=\"1\" class=\"dataframe\">\n",
              "  <thead>\n",
              "    <tr style=\"text-align: right;\">\n",
              "      <th></th>\n",
              "      <th>user_id</th>\n",
              "      <th>first_date</th>\n",
              "      <th>region</th>\n",
              "      <th>device</th>\n",
              "    </tr>\n",
              "  </thead>\n",
              "  <tbody>\n",
              "    <tr>\n",
              "      <th>0</th>\n",
              "      <td>D72A72121175D8BE</td>\n",
              "      <td>2020-12-07</td>\n",
              "      <td>EU</td>\n",
              "      <td>PC</td>\n",
              "    </tr>\n",
              "    <tr>\n",
              "      <th>1</th>\n",
              "      <td>F1C668619DFE6E65</td>\n",
              "      <td>2020-12-07</td>\n",
              "      <td>N.America</td>\n",
              "      <td>Android</td>\n",
              "    </tr>\n",
              "    <tr>\n",
              "      <th>2</th>\n",
              "      <td>2E1BF1D4C37EA01F</td>\n",
              "      <td>2020-12-07</td>\n",
              "      <td>EU</td>\n",
              "      <td>PC</td>\n",
              "    </tr>\n",
              "    <tr>\n",
              "      <th>3</th>\n",
              "      <td>50734A22C0C63768</td>\n",
              "      <td>2020-12-07</td>\n",
              "      <td>EU</td>\n",
              "      <td>iPhone</td>\n",
              "    </tr>\n",
              "    <tr>\n",
              "      <th>4</th>\n",
              "      <td>E1BDDCE0DAFA2679</td>\n",
              "      <td>2020-12-07</td>\n",
              "      <td>N.America</td>\n",
              "      <td>iPhone</td>\n",
              "    </tr>\n",
              "  </tbody>\n",
              "</table>\n",
              "</div>\n",
              "      <button class=\"colab-df-convert\" onclick=\"convertToInteractive('df-5e773473-6187-4d60-be5e-08db2a78b04d')\"\n",
              "              title=\"Convert this dataframe to an interactive table.\"\n",
              "              style=\"display:none;\">\n",
              "        \n",
              "  <svg xmlns=\"http://www.w3.org/2000/svg\" height=\"24px\"viewBox=\"0 0 24 24\"\n",
              "       width=\"24px\">\n",
              "    <path d=\"M0 0h24v24H0V0z\" fill=\"none\"/>\n",
              "    <path d=\"M18.56 5.44l.94 2.06.94-2.06 2.06-.94-2.06-.94-.94-2.06-.94 2.06-2.06.94zm-11 1L8.5 8.5l.94-2.06 2.06-.94-2.06-.94L8.5 2.5l-.94 2.06-2.06.94zm10 10l.94 2.06.94-2.06 2.06-.94-2.06-.94-.94-2.06-.94 2.06-2.06.94z\"/><path d=\"M17.41 7.96l-1.37-1.37c-.4-.4-.92-.59-1.43-.59-.52 0-1.04.2-1.43.59L10.3 9.45l-7.72 7.72c-.78.78-.78 2.05 0 2.83L4 21.41c.39.39.9.59 1.41.59.51 0 1.02-.2 1.41-.59l7.78-7.78 2.81-2.81c.8-.78.8-2.07 0-2.86zM5.41 20L4 18.59l7.72-7.72 1.47 1.35L5.41 20z\"/>\n",
              "  </svg>\n",
              "      </button>\n",
              "      \n",
              "  <style>\n",
              "    .colab-df-container {\n",
              "      display:flex;\n",
              "      flex-wrap:wrap;\n",
              "      gap: 12px;\n",
              "    }\n",
              "\n",
              "    .colab-df-convert {\n",
              "      background-color: #E8F0FE;\n",
              "      border: none;\n",
              "      border-radius: 50%;\n",
              "      cursor: pointer;\n",
              "      display: none;\n",
              "      fill: #1967D2;\n",
              "      height: 32px;\n",
              "      padding: 0 0 0 0;\n",
              "      width: 32px;\n",
              "    }\n",
              "\n",
              "    .colab-df-convert:hover {\n",
              "      background-color: #E2EBFA;\n",
              "      box-shadow: 0px 1px 2px rgba(60, 64, 67, 0.3), 0px 1px 3px 1px rgba(60, 64, 67, 0.15);\n",
              "      fill: #174EA6;\n",
              "    }\n",
              "\n",
              "    [theme=dark] .colab-df-convert {\n",
              "      background-color: #3B4455;\n",
              "      fill: #D2E3FC;\n",
              "    }\n",
              "\n",
              "    [theme=dark] .colab-df-convert:hover {\n",
              "      background-color: #434B5C;\n",
              "      box-shadow: 0px 1px 3px 1px rgba(0, 0, 0, 0.15);\n",
              "      filter: drop-shadow(0px 1px 2px rgba(0, 0, 0, 0.3));\n",
              "      fill: #FFFFFF;\n",
              "    }\n",
              "  </style>\n",
              "\n",
              "      <script>\n",
              "        const buttonEl =\n",
              "          document.querySelector('#df-5e773473-6187-4d60-be5e-08db2a78b04d button.colab-df-convert');\n",
              "        buttonEl.style.display =\n",
              "          google.colab.kernel.accessAllowed ? 'block' : 'none';\n",
              "\n",
              "        async function convertToInteractive(key) {\n",
              "          const element = document.querySelector('#df-5e773473-6187-4d60-be5e-08db2a78b04d');\n",
              "          const dataTable =\n",
              "            await google.colab.kernel.invokeFunction('convertToInteractive',\n",
              "                                                     [key], {});\n",
              "          if (!dataTable) return;\n",
              "\n",
              "          const docLinkHtml = 'Like what you see? Visit the ' +\n",
              "            '<a target=\"_blank\" href=https://colab.research.google.com/notebooks/data_table.ipynb>data table notebook</a>'\n",
              "            + ' to learn more about interactive tables.';\n",
              "          element.innerHTML = '';\n",
              "          dataTable['output_type'] = 'display_data';\n",
              "          await google.colab.output.renderOutput(dataTable, element);\n",
              "          const docLink = document.createElement('div');\n",
              "          docLink.innerHTML = docLinkHtml;\n",
              "          element.appendChild(docLink);\n",
              "        }\n",
              "      </script>\n",
              "    </div>\n",
              "  </div>\n",
              "  "
            ]
          },
          "metadata": {},
          "execution_count": 10
        }
      ],
      "source": [
        "# просмотр датасета с информацией о новых пользователях \n",
        "users.info()\n",
        "users.head()"
      ]
    },
    {
      "cell_type": "code",
      "execution_count": 11,
      "metadata": {
        "colab": {
          "base_uri": "https://localhost:8080/"
        },
        "id": "c__xwkzGnNvU",
        "outputId": "8004c940-1d09-4143-b967-6747026a16de"
      },
      "outputs": [
        {
          "output_type": "stream",
          "name": "stdout",
          "text": [
            "Полные дубликаты: 0\n",
            "Дубликаты по user_id: 0\n",
            "\n",
            "Пропущенные значения:\n",
            "user_id       0\n",
            "first_date    0\n",
            "region        0\n",
            "device        0\n",
            "dtype: int64\n"
          ]
        }
      ],
      "source": [
        "# проверка на дубликаты и пропуски\n",
        "print('Полные дубликаты: {}'.format(users.duplicated().sum()))\n",
        "print('Дубликаты по user_id: {}\\n'.format(users['user_id'].duplicated().sum()))\n",
        "print('Пропущенные значения:\\n{}'.format(users.isna().sum()))"
      ]
    },
    {
      "cell_type": "code",
      "execution_count": 12,
      "metadata": {
        "colab": {
          "base_uri": "https://localhost:8080/"
        },
        "id": "sp25LLkIwpEd",
        "outputId": "5ba31a84-70fa-4ccf-949d-eba59883728f"
      },
      "outputs": [
        {
          "output_type": "stream",
          "name": "stdout",
          "text": [
            "Названия регионов: ['EU' 'N.America' 'APAC' 'CIS']\n",
            "Названия устройств: ['PC' 'Android' 'iPhone' 'Mac']\n",
            "Количество уникальных user_id: 61733\n"
          ]
        }
      ],
      "source": [
        "# вывод уникальных значений\n",
        "print('Названия регионов: {}'.format(users['region'].unique()))\n",
        "print('Названия устройств: {}'.format(users['device'].unique()))\n",
        "print('Количество уникальных user_id: {}'.format(users['user_id'].nunique()))"
      ]
    },
    {
      "cell_type": "code",
      "execution_count": 13,
      "metadata": {
        "colab": {
          "base_uri": "https://localhost:8080/"
        },
        "id": "5bEeJ51k1dTM",
        "outputId": "204ed334-c7bc-48d0-f915-65afeddf2ce4"
      },
      "outputs": [
        {
          "output_type": "stream",
          "name": "stdout",
          "text": [
            "Начало отслеживания событий: 2020-12-07 \n",
            "Конец отслеживания событий: 2020-12-23\n",
            "\n"
          ]
        }
      ],
      "source": [
        "# вывод диапазона дат\n",
        "print('Начало отслеживания событий: {} \\nКонец отслеживания событий: {}\\n'\\\n",
        "      .format(users['first_date'].min(), users['first_date'].max()))"
      ]
    },
    {
      "cell_type": "markdown",
      "metadata": {
        "id": "0iiItfeokY_e"
      },
      "source": [
        "Большая база данных о пользователях на 61733 строки и 4 столбца.\n",
        "\n",
        "- Полных дубликатов и дубликатов по `user_id` не выявлено\n",
        "- Уникальные  `user_id` : 61733\n",
        "- Пропущенные значения не обнаружены\n",
        "- Конечная дата отслеживания событий заканчивается раньше, чем дата остановки теста по ТЗ\n",
        "- Сбор данных прекращается до даты завершения теста\n",
        "\n",
        "\n",
        "Возможные правки:\n",
        "- Столбец с меткой времени нужно привести к корректному типу данных\n",
        "- Удаление данных, выходящих за 14-дневный диапазон теста"
      ]
    },
    {
      "cell_type": "markdown",
      "metadata": {
        "id": "qj1CrZHFw-8F"
      },
      "source": [
        "### Обзор датасета participants"
      ]
    },
    {
      "cell_type": "markdown",
      "metadata": {
        "id": "ryp7tLz6xWBc"
      },
      "source": [
        "Таблица участников тестов.\n",
        "\n",
        "Структура файла:\n",
        "\n",
        "- `user_id` — идентификатор пользователя;\n",
        "- `ab_test` — название теста;\n",
        "- `group` — группа пользователя."
      ]
    },
    {
      "cell_type": "code",
      "execution_count": 14,
      "metadata": {
        "colab": {
          "base_uri": "https://localhost:8080/",
          "height": 385
        },
        "id": "K_Tm3szDfsX1",
        "outputId": "0ee2cbe3-c820-41d7-af9e-3258fdd3d029"
      },
      "outputs": [
        {
          "output_type": "stream",
          "name": "stdout",
          "text": [
            "<class 'pandas.core.frame.DataFrame'>\n",
            "RangeIndex: 18268 entries, 0 to 18267\n",
            "Data columns (total 3 columns):\n",
            " #   Column   Non-Null Count  Dtype \n",
            "---  ------   --------------  ----- \n",
            " 0   user_id  18268 non-null  object\n",
            " 1   group    18268 non-null  object\n",
            " 2   ab_test  18268 non-null  object\n",
            "dtypes: object(3)\n",
            "memory usage: 428.3+ KB\n"
          ]
        },
        {
          "output_type": "execute_result",
          "data": {
            "text/plain": [
              "            user_id group                  ab_test\n",
              "0  D1ABA3E2887B6A73     A  recommender_system_test\n",
              "1  A7A3664BD6242119     A  recommender_system_test\n",
              "2  DABC14FDDFADD29E     A  recommender_system_test\n",
              "3  04988C5DF189632E     A  recommender_system_test\n",
              "4  482F14783456D21B     B  recommender_system_test"
            ],
            "text/html": [
              "\n",
              "  <div id=\"df-4091fc29-0b89-4f06-a257-25eb25afecbc\">\n",
              "    <div class=\"colab-df-container\">\n",
              "      <div>\n",
              "<style scoped>\n",
              "    .dataframe tbody tr th:only-of-type {\n",
              "        vertical-align: middle;\n",
              "    }\n",
              "\n",
              "    .dataframe tbody tr th {\n",
              "        vertical-align: top;\n",
              "    }\n",
              "\n",
              "    .dataframe thead th {\n",
              "        text-align: right;\n",
              "    }\n",
              "</style>\n",
              "<table border=\"1\" class=\"dataframe\">\n",
              "  <thead>\n",
              "    <tr style=\"text-align: right;\">\n",
              "      <th></th>\n",
              "      <th>user_id</th>\n",
              "      <th>group</th>\n",
              "      <th>ab_test</th>\n",
              "    </tr>\n",
              "  </thead>\n",
              "  <tbody>\n",
              "    <tr>\n",
              "      <th>0</th>\n",
              "      <td>D1ABA3E2887B6A73</td>\n",
              "      <td>A</td>\n",
              "      <td>recommender_system_test</td>\n",
              "    </tr>\n",
              "    <tr>\n",
              "      <th>1</th>\n",
              "      <td>A7A3664BD6242119</td>\n",
              "      <td>A</td>\n",
              "      <td>recommender_system_test</td>\n",
              "    </tr>\n",
              "    <tr>\n",
              "      <th>2</th>\n",
              "      <td>DABC14FDDFADD29E</td>\n",
              "      <td>A</td>\n",
              "      <td>recommender_system_test</td>\n",
              "    </tr>\n",
              "    <tr>\n",
              "      <th>3</th>\n",
              "      <td>04988C5DF189632E</td>\n",
              "      <td>A</td>\n",
              "      <td>recommender_system_test</td>\n",
              "    </tr>\n",
              "    <tr>\n",
              "      <th>4</th>\n",
              "      <td>482F14783456D21B</td>\n",
              "      <td>B</td>\n",
              "      <td>recommender_system_test</td>\n",
              "    </tr>\n",
              "  </tbody>\n",
              "</table>\n",
              "</div>\n",
              "      <button class=\"colab-df-convert\" onclick=\"convertToInteractive('df-4091fc29-0b89-4f06-a257-25eb25afecbc')\"\n",
              "              title=\"Convert this dataframe to an interactive table.\"\n",
              "              style=\"display:none;\">\n",
              "        \n",
              "  <svg xmlns=\"http://www.w3.org/2000/svg\" height=\"24px\"viewBox=\"0 0 24 24\"\n",
              "       width=\"24px\">\n",
              "    <path d=\"M0 0h24v24H0V0z\" fill=\"none\"/>\n",
              "    <path d=\"M18.56 5.44l.94 2.06.94-2.06 2.06-.94-2.06-.94-.94-2.06-.94 2.06-2.06.94zm-11 1L8.5 8.5l.94-2.06 2.06-.94-2.06-.94L8.5 2.5l-.94 2.06-2.06.94zm10 10l.94 2.06.94-2.06 2.06-.94-2.06-.94-.94-2.06-.94 2.06-2.06.94z\"/><path d=\"M17.41 7.96l-1.37-1.37c-.4-.4-.92-.59-1.43-.59-.52 0-1.04.2-1.43.59L10.3 9.45l-7.72 7.72c-.78.78-.78 2.05 0 2.83L4 21.41c.39.39.9.59 1.41.59.51 0 1.02-.2 1.41-.59l7.78-7.78 2.81-2.81c.8-.78.8-2.07 0-2.86zM5.41 20L4 18.59l7.72-7.72 1.47 1.35L5.41 20z\"/>\n",
              "  </svg>\n",
              "      </button>\n",
              "      \n",
              "  <style>\n",
              "    .colab-df-container {\n",
              "      display:flex;\n",
              "      flex-wrap:wrap;\n",
              "      gap: 12px;\n",
              "    }\n",
              "\n",
              "    .colab-df-convert {\n",
              "      background-color: #E8F0FE;\n",
              "      border: none;\n",
              "      border-radius: 50%;\n",
              "      cursor: pointer;\n",
              "      display: none;\n",
              "      fill: #1967D2;\n",
              "      height: 32px;\n",
              "      padding: 0 0 0 0;\n",
              "      width: 32px;\n",
              "    }\n",
              "\n",
              "    .colab-df-convert:hover {\n",
              "      background-color: #E2EBFA;\n",
              "      box-shadow: 0px 1px 2px rgba(60, 64, 67, 0.3), 0px 1px 3px 1px rgba(60, 64, 67, 0.15);\n",
              "      fill: #174EA6;\n",
              "    }\n",
              "\n",
              "    [theme=dark] .colab-df-convert {\n",
              "      background-color: #3B4455;\n",
              "      fill: #D2E3FC;\n",
              "    }\n",
              "\n",
              "    [theme=dark] .colab-df-convert:hover {\n",
              "      background-color: #434B5C;\n",
              "      box-shadow: 0px 1px 3px 1px rgba(0, 0, 0, 0.15);\n",
              "      filter: drop-shadow(0px 1px 2px rgba(0, 0, 0, 0.3));\n",
              "      fill: #FFFFFF;\n",
              "    }\n",
              "  </style>\n",
              "\n",
              "      <script>\n",
              "        const buttonEl =\n",
              "          document.querySelector('#df-4091fc29-0b89-4f06-a257-25eb25afecbc button.colab-df-convert');\n",
              "        buttonEl.style.display =\n",
              "          google.colab.kernel.accessAllowed ? 'block' : 'none';\n",
              "\n",
              "        async function convertToInteractive(key) {\n",
              "          const element = document.querySelector('#df-4091fc29-0b89-4f06-a257-25eb25afecbc');\n",
              "          const dataTable =\n",
              "            await google.colab.kernel.invokeFunction('convertToInteractive',\n",
              "                                                     [key], {});\n",
              "          if (!dataTable) return;\n",
              "\n",
              "          const docLinkHtml = 'Like what you see? Visit the ' +\n",
              "            '<a target=\"_blank\" href=https://colab.research.google.com/notebooks/data_table.ipynb>data table notebook</a>'\n",
              "            + ' to learn more about interactive tables.';\n",
              "          element.innerHTML = '';\n",
              "          dataTable['output_type'] = 'display_data';\n",
              "          await google.colab.output.renderOutput(dataTable, element);\n",
              "          const docLink = document.createElement('div');\n",
              "          docLink.innerHTML = docLinkHtml;\n",
              "          element.appendChild(docLink);\n",
              "        }\n",
              "      </script>\n",
              "    </div>\n",
              "  </div>\n",
              "  "
            ]
          },
          "metadata": {},
          "execution_count": 14
        }
      ],
      "source": [
        "# просмотр датасета с информацией об участниках теста\n",
        "participants.info()\n",
        "participants.head()"
      ]
    },
    {
      "cell_type": "code",
      "execution_count": 15,
      "metadata": {
        "colab": {
          "base_uri": "https://localhost:8080/"
        },
        "id": "8lAbUAZvoTcF",
        "outputId": "78877759-36b0-41b6-8183-ecd4658fc782"
      },
      "outputs": [
        {
          "output_type": "stream",
          "name": "stdout",
          "text": [
            "Полные дубликаты: 0\n",
            "Дубликаты по user_id: 1602\n",
            "Пересечения в группах по user_id: 776\n",
            "\n",
            "Пропущенные значения:\n",
            "user_id    0\n",
            "group      0\n",
            "ab_test    0\n",
            "dtype: int64\n",
            "\n"
          ]
        }
      ],
      "source": [
        "# проверка на дубликаты и пропуски\n",
        "print('Полные дубликаты: {}'.format(participants.duplicated().sum()))\n",
        "print('Дубликаты по user_id: {}'.format(participants['user_id'].duplicated().sum()))\n",
        "print('Пересечения в группах по user_id: {}\\n'.format(len(participants.groupby('user_id')\n",
        "                   .agg({'group': 'nunique'})\n",
        "                   .query('group > 1'))))\n",
        "print('Пропущенные значения:\\n{}\\n'.format(participants.isna().sum()))"
      ]
    },
    {
      "cell_type": "code",
      "execution_count": 16,
      "metadata": {
        "colab": {
          "base_uri": "https://localhost:8080/"
        },
        "id": "dAVSRQ7jwJby",
        "outputId": "376c08bd-448e-444a-d90b-ddf902c5f830"
      },
      "outputs": [
        {
          "output_type": "stream",
          "name": "stdout",
          "text": [
            "Названия тестов: ['recommender_system_test', 'interface_eu_test']\n",
            "Значения тестовых групп: ['A', 'B']\n",
            "\n",
            "Количество уникальных user_id: 16666\n"
          ]
        }
      ],
      "source": [
        "# вывод уникальных значений\n",
        "print('Названия тестов: {}'.format(list(participants['ab_test'].unique())))\n",
        "print('Значения тестовых групп: {}\\n'.format(list(participants['group'].unique())))\n",
        "print('Количество уникальных user_id: {}'.format(participants['user_id'].nunique()))"
      ]
    },
    {
      "cell_type": "markdown",
      "metadata": {
        "id": "AyOopxYKkrUJ"
      },
      "source": [
        "Большая база данных об участниках теста на 18268 строк и 3 столбца.\n",
        "\n",
        "- Полных дубликатов не выявлено\n",
        "- Пропущенные значения не обнаружены\n",
        "- Уникальные `user_id`: 16666\n",
        "\n",
        "Возможные правки:\n",
        "- Обнаружены разные наименования ab-тестов: `recommender_system_test`, `interface_eu_test`. По ТЗ нам нужно рассмотреть только первый тест, второй нужно отфильтровать и учесть, что он мог оказать какое-то влияние на результаты\n",
        "- Дубликаты по `user_id`: 1602 и Пересечения в группах по `user_id`: 776. Разобраться на этапе предобработки, с чем связаны, вероятно с наличием второго теста\n"
      ]
    },
    {
      "cell_type": "markdown",
      "metadata": {
        "id": "tUZlawxaexag"
      },
      "source": [
        "### Обзор технического задания\n",
        "\n",
        "- Название теста: `recommender_system_test`;\n",
        "- группы: А — контрольная, B — новая платёжная воронка;\n",
        "- дата запуска: 2020-12-07;\n",
        "- дата остановки набора новых пользователей: 2020-12-21;\n",
        "- дата остановки: 2021-01-04;\n",
        "- аудитория: 15% новых пользователей из региона EU;\n",
        "- назначение теста: тестирование изменений, связанных с внедрением улучшенной рекомендательной системы;\n",
        "- ожидаемое количество участников теста: 6000.\n",
        "- ожидаемый эффект: за 14 дней с момента регистрации пользователи покажут улучшение каждой метрики не менее, чем на 10%:\n",
        "    - конверсии в просмотр карточек товаров — событие `product_page`,\n",
        "    - просмотры корзины — `product_cart`,\n",
        "    - покупки — `purchase`."
      ]
    },
    {
      "cell_type": "code",
      "execution_count": 17,
      "metadata": {
        "colab": {
          "base_uri": "https://localhost:8080/"
        },
        "id": "RfAuRHQE-wEb",
        "outputId": "d1725134-69ee-4f0c-f409-59685a4f14dc"
      },
      "outputs": [
        {
          "output_type": "stream",
          "name": "stdout",
          "text": [
            "Длительность теста: 28 days, 0:00:00\n"
          ]
        }
      ],
      "source": [
        "# границы дат теста\n",
        "date_threshold_min = date(2020, 12, 7)\n",
        "date_threshold_max = date(2021, 1, 4)\n",
        "\n",
        "# расчет длительности теста\n",
        "test_duration = date_threshold_max - date_threshold_min\n",
        "\n",
        "print('Длительность теста:', test_duration)"
      ]
    },
    {
      "cell_type": "markdown",
      "metadata": {
        "id": "ZjwIJtiCz62D"
      },
      "source": [
        "### Вывод по шагу\n",
        "\n",
        "\n",
        "Мы рассмотрели информацию о данных в четырех предоставленных датасетах. \n",
        "\n",
        "Обнаруженные особенности:\n",
        "\n",
        "- `marketing`: столбцы с меткой времени нужно привести к корректному типу данных\n",
        "- `events`: большое количество пропущенных значений в столбце `details`, содержащем сведения о стоимости покупки при совершении события `purchase` – не требует исправления; столбец с меткой времени нужно привести к корректному типу данных; сбор данных прекращается до даты завершения теста\n",
        "- `users`: столбец с меткой времени нужно привести к корректному типу данных; можно добавить столбец с датой без времени события; сбор данных прекращается до даты завершения теста\n",
        "- `participants`: в датасете содержится информация не об одном тесте, а сразу о двух; найдены дубликаты и пересечения в группах по `user_id`\n",
        "- Длительность теста по ТЗ 28 дней\n",
        "\n",
        "На следующем этапе необходимо исправить недочеты и привести данные в пригодный вид по техническому заданию."
      ]
    },
    {
      "cell_type": "markdown",
      "metadata": {
        "id": "9wSJLVd90pL4"
      },
      "source": [
        "## Предобработка данных\n"
      ]
    },
    {
      "cell_type": "markdown",
      "metadata": {
        "id": "2XmYZe5T0tCu"
      },
      "source": [
        "### Преобразование типов данных"
      ]
    },
    {
      "cell_type": "code",
      "execution_count": 18,
      "metadata": {
        "colab": {
          "base_uri": "https://localhost:8080/"
        },
        "id": "wjvkE6SFfv1S",
        "outputId": "7c88caa1-af02-422d-a815-c1d846617192"
      },
      "outputs": [
        {
          "output_type": "stream",
          "name": "stdout",
          "text": [
            "Before: object\n",
            "After: datetime64[ns]\n",
            "\n",
            "Before: object\n",
            "After: datetime64[ns]\n",
            "\n",
            "Before: object\n",
            "After: datetime64[ns]\n",
            "\n",
            "Before: object\n",
            "After: datetime64[ns]\n",
            "\n"
          ]
        }
      ],
      "source": [
        "# преобразование данных о времени в корректный тип\n",
        "\n",
        "print('Before: {}'.format(marketing['start_dt'].dtype))\n",
        "try:\n",
        "  marketing['start_dt'] = pd.to_datetime(marketing['start_dt'], utc=False)\n",
        "except:\n",
        "    print('При смене типа данных произошла ошибка')\n",
        "print('After: {}\\n'.format(marketing['start_dt'].dtype))\n",
        "\n",
        "print('Before: {}'.format(marketing['finish_dt'].dtype))\n",
        "try:\n",
        "  marketing['finish_dt'] = pd.to_datetime(marketing['finish_dt'], utc=False)\n",
        "except:\n",
        "    print('При смене типа данных произошла ошибка')\n",
        "print('After: {}\\n'.format(marketing['finish_dt'].dtype))\n",
        "\n",
        "print('Before: {}'.format(events['event_dt'].dtype))\n",
        "try:\n",
        "  events['event_dt'] = pd.to_datetime(events['event_dt'], utc=False)\n",
        "except:\n",
        "    print('При смене типа данных произошла ошибка')\n",
        "print('After: {}\\n'.format(events['event_dt'].dtype))\n",
        "\n",
        "print('Before: {}'.format(users['first_date'].dtype))\n",
        "try:\n",
        "  users['first_date'] = pd.to_datetime(users['first_date'], utc=False)\n",
        "except:\n",
        "    print('При смене типа данных произошла ошибка')\n",
        "print('After: {}\\n'.format(users['first_date'].dtype))"
      ]
    },
    {
      "cell_type": "markdown",
      "metadata": {
        "id": "T0ijgmzY3SDx"
      },
      "source": [
        "### Обработка датасета events"
      ]
    },
    {
      "cell_type": "markdown",
      "metadata": {
        "id": "VGKTgY-SBvtF"
      },
      "source": [
        "#### Обработка пропущенных значений"
      ]
    },
    {
      "cell_type": "markdown",
      "metadata": {
        "id": "JMfvh3vxB2zl"
      },
      "source": [
        "Стоимость событий кроме `purchase` равна `0`, поэтому можно заменить на нулевые значения. \n",
        "\n",
        "Чтобы не размывать среднюю стоимость покупок, можно будет применять фильтр для событий не равных `0`:"
      ]
    },
    {
      "cell_type": "code",
      "execution_count": 19,
      "metadata": {
        "colab": {
          "base_uri": "https://localhost:8080/"
        },
        "id": "jQMSfAWRBgA7",
        "outputId": "b246ad00-6fe9-4a2d-9702-0b2532755d2c"
      },
      "outputs": [
        {
          "output_type": "stream",
          "name": "stdout",
          "text": [
            "<class 'pandas.core.frame.DataFrame'>\n",
            "RangeIndex: 440317 entries, 0 to 440316\n",
            "Data columns (total 4 columns):\n",
            " #   Column      Non-Null Count   Dtype         \n",
            "---  ------      --------------   -----         \n",
            " 0   user_id     440317 non-null  object        \n",
            " 1   event_dt    440317 non-null  datetime64[ns]\n",
            " 2   event_name  440317 non-null  object        \n",
            " 3   details     440317 non-null  float64       \n",
            "dtypes: datetime64[ns](1), float64(1), object(2)\n",
            "memory usage: 13.4+ MB\n"
          ]
        }
      ],
      "source": [
        "# замена пропущенных значений стоимости кроме покупок на 0\n",
        "events['details'] = events['details'].fillna(0)\n",
        "events.info()"
      ]
    },
    {
      "cell_type": "markdown",
      "metadata": {
        "id": "m5wTX1CsDSUA"
      },
      "source": [
        "### Обработка датасета participants"
      ]
    },
    {
      "cell_type": "markdown",
      "metadata": {
        "id": "e043NTjBDMdu"
      },
      "source": [
        "#### Разделение на тесты"
      ]
    },
    {
      "cell_type": "code",
      "execution_count": 20,
      "metadata": {
        "colab": {
          "base_uri": "https://localhost:8080/"
        },
        "id": "flxiw7WnEiLr",
        "outputId": "3d9a8eec-1125-49ae-b261-80274488c83c"
      },
      "outputs": [
        {
          "output_type": "stream",
          "name": "stdout",
          "text": [
            "Записей в recommender_system_test: 6701\n",
            "Пересечения в AB-группах по user_id: 0\n",
            "Дубликаты по user_id: 0\n",
            "\n",
            "Записей в interface_eu_test: 11567\n",
            "Пересечения в AB-группах по user_id: 0\n",
            "Дубликаты по user_id: 0\n"
          ]
        }
      ],
      "source": [
        "# создание 2 датасетов по имени теста\n",
        "\n",
        "# целевой тест\n",
        "recommender_system_test = participants.query('ab_test == \"recommender_system_test\"')\n",
        "print('Записей в recommender_system_test: {}'.format(len(recommender_system_test)))\n",
        "print('Пересечения в AB-группах по user_id: {}'.format(len(recommender_system_test.groupby('user_id')\n",
        "                   .agg({'group': 'nunique'})\n",
        "                   .query('group > 1'))))\n",
        "print('Дубликаты по user_id: {}\\n'.format(recommender_system_test['user_id'].duplicated().sum()))\n",
        "\n",
        "\n",
        "# нецелевой тест\n",
        "interface_eu_test = participants.query('ab_test != \"recommender_system_test\"')\n",
        "print('Записей в interface_eu_test: {}'.format(len(interface_eu_test)))\n",
        "print('Пересечения в AB-группах по user_id: {}'.format(len(interface_eu_test.groupby('user_id')\n",
        "                   .agg({'group': 'nunique'})\n",
        "                   .query('group > 1'))))\n",
        "print('Дубликаты по user_id: {}'.format(interface_eu_test['user_id'].duplicated().sum()))\n"
      ]
    },
    {
      "cell_type": "markdown",
      "metadata": {
        "id": "Gt_UU9oZVfyD"
      },
      "source": [
        "В нужном нам датасете осталась всего 6701 запись, во второй тест попало 11567 записей.\n",
        "\n",
        "Пересечений и дубликатов внутри обеих тестовых групп по `user_id` не обнаружено."
      ]
    },
    {
      "cell_type": "markdown",
      "metadata": {
        "id": "-9L9q12rVbKE"
      },
      "source": [
        "#### Удаление пересечений с нецелевым тестом"
      ]
    },
    {
      "cell_type": "markdown",
      "metadata": {
        "id": "fbGcbQZLFfBC"
      },
      "source": [
        "Проверим аудиторию теста. Удостоверимся, что нет пересечений с конкурирующим тестом и нет пользователей, участвующих в двух группах теста одновременно.\n",
        "\n",
        "Выделим пользователей в целевом тесте группы `B`, которые попали также в нецелевой тест. Пользователи из группы `A` не влияют на результаты, их можно не трогать.\n",
        "\n",
        "Чтобы сохранить оригинальные данные для проверки, сохраним отфильтрованные данные в новый датасет:\n"
      ]
    },
    {
      "cell_type": "code",
      "execution_count": 21,
      "metadata": {
        "colab": {
          "base_uri": "https://localhost:8080/"
        },
        "id": "kfYHsJIbSspx",
        "outputId": "fc5982c2-ab77-4a02-8704-a32debd56a73"
      },
      "outputs": [
        {
          "output_type": "stream",
          "name": "stdout",
          "text": [
            "Пользователи до удаления пересечений: 6701\n",
            "Пользователи после удаления пересечений: 5918\n"
          ]
        }
      ],
      "source": [
        "# создание списка с user_id группы B нецелевого теста\n",
        "group_B = participants.query('group == \"B\" and ab_test == \"interface_eu_test\"').drop(columns='ab_test')\n",
        "group_B_user_id = list(group_B['user_id'])\n",
        "\n",
        "\n",
        "# удаление пересечений из целевого теста\n",
        "print('Пользователи до удаления пересечений: {}'.format(recommender_system_test['user_id'].nunique()))\n",
        "recommender_system_test_filtered = recommender_system_test.query('user_id not in @group_B_user_id')\n",
        "print('Пользователи после удаления пересечений: {}'.format(recommender_system_test_filtered['user_id'].nunique()))"
      ]
    },
    {
      "cell_type": "code",
      "execution_count": 22,
      "metadata": {
        "colab": {
          "base_uri": "https://localhost:8080/"
        },
        "id": "fSyUCOYeso5E",
        "outputId": "734e37b2-f4b3-4bcd-ec80-974d20632c15"
      },
      "outputs": [
        {
          "output_type": "stream",
          "name": "stdout",
          "text": [
            "Количество удаленных пересечений: 783\n"
          ]
        }
      ],
      "source": [
        "print('Количество удаленных пересечений: {}'.format(6701-5918))"
      ]
    },
    {
      "cell_type": "markdown",
      "metadata": {
        "id": "vqfzIUi6nmeC"
      },
      "source": [
        "Наличие пересечений говорит о том, что тесты были проведены некорректно, параллельно было запущено 2 тестирования и часть пользователей попала под оба теста одновременно.\n",
        "\n",
        "Проверим равномерность распределения по тестовым группам и правильность их формирования."
      ]
    },
    {
      "cell_type": "code",
      "execution_count": 23,
      "metadata": {
        "colab": {
          "base_uri": "https://localhost:8080/",
          "height": 143
        },
        "id": "LiZjQbotG6oI",
        "outputId": "f1b25d95-03e7-4c07-81cd-01e06b399075"
      },
      "outputs": [
        {
          "output_type": "execute_result",
          "data": {
            "text/plain": [
              "       user_id\n",
              "group         \n",
              "A         3385\n",
              "B         2533"
            ],
            "text/html": [
              "\n",
              "  <div id=\"df-0f7db666-80e9-45b7-b5fb-74b76093efc8\">\n",
              "    <div class=\"colab-df-container\">\n",
              "      <div>\n",
              "<style scoped>\n",
              "    .dataframe tbody tr th:only-of-type {\n",
              "        vertical-align: middle;\n",
              "    }\n",
              "\n",
              "    .dataframe tbody tr th {\n",
              "        vertical-align: top;\n",
              "    }\n",
              "\n",
              "    .dataframe thead th {\n",
              "        text-align: right;\n",
              "    }\n",
              "</style>\n",
              "<table border=\"1\" class=\"dataframe\">\n",
              "  <thead>\n",
              "    <tr style=\"text-align: right;\">\n",
              "      <th></th>\n",
              "      <th>user_id</th>\n",
              "    </tr>\n",
              "    <tr>\n",
              "      <th>group</th>\n",
              "      <th></th>\n",
              "    </tr>\n",
              "  </thead>\n",
              "  <tbody>\n",
              "    <tr>\n",
              "      <th>A</th>\n",
              "      <td>3385</td>\n",
              "    </tr>\n",
              "    <tr>\n",
              "      <th>B</th>\n",
              "      <td>2533</td>\n",
              "    </tr>\n",
              "  </tbody>\n",
              "</table>\n",
              "</div>\n",
              "      <button class=\"colab-df-convert\" onclick=\"convertToInteractive('df-0f7db666-80e9-45b7-b5fb-74b76093efc8')\"\n",
              "              title=\"Convert this dataframe to an interactive table.\"\n",
              "              style=\"display:none;\">\n",
              "        \n",
              "  <svg xmlns=\"http://www.w3.org/2000/svg\" height=\"24px\"viewBox=\"0 0 24 24\"\n",
              "       width=\"24px\">\n",
              "    <path d=\"M0 0h24v24H0V0z\" fill=\"none\"/>\n",
              "    <path d=\"M18.56 5.44l.94 2.06.94-2.06 2.06-.94-2.06-.94-.94-2.06-.94 2.06-2.06.94zm-11 1L8.5 8.5l.94-2.06 2.06-.94-2.06-.94L8.5 2.5l-.94 2.06-2.06.94zm10 10l.94 2.06.94-2.06 2.06-.94-2.06-.94-.94-2.06-.94 2.06-2.06.94z\"/><path d=\"M17.41 7.96l-1.37-1.37c-.4-.4-.92-.59-1.43-.59-.52 0-1.04.2-1.43.59L10.3 9.45l-7.72 7.72c-.78.78-.78 2.05 0 2.83L4 21.41c.39.39.9.59 1.41.59.51 0 1.02-.2 1.41-.59l7.78-7.78 2.81-2.81c.8-.78.8-2.07 0-2.86zM5.41 20L4 18.59l7.72-7.72 1.47 1.35L5.41 20z\"/>\n",
              "  </svg>\n",
              "      </button>\n",
              "      \n",
              "  <style>\n",
              "    .colab-df-container {\n",
              "      display:flex;\n",
              "      flex-wrap:wrap;\n",
              "      gap: 12px;\n",
              "    }\n",
              "\n",
              "    .colab-df-convert {\n",
              "      background-color: #E8F0FE;\n",
              "      border: none;\n",
              "      border-radius: 50%;\n",
              "      cursor: pointer;\n",
              "      display: none;\n",
              "      fill: #1967D2;\n",
              "      height: 32px;\n",
              "      padding: 0 0 0 0;\n",
              "      width: 32px;\n",
              "    }\n",
              "\n",
              "    .colab-df-convert:hover {\n",
              "      background-color: #E2EBFA;\n",
              "      box-shadow: 0px 1px 2px rgba(60, 64, 67, 0.3), 0px 1px 3px 1px rgba(60, 64, 67, 0.15);\n",
              "      fill: #174EA6;\n",
              "    }\n",
              "\n",
              "    [theme=dark] .colab-df-convert {\n",
              "      background-color: #3B4455;\n",
              "      fill: #D2E3FC;\n",
              "    }\n",
              "\n",
              "    [theme=dark] .colab-df-convert:hover {\n",
              "      background-color: #434B5C;\n",
              "      box-shadow: 0px 1px 3px 1px rgba(0, 0, 0, 0.15);\n",
              "      filter: drop-shadow(0px 1px 2px rgba(0, 0, 0, 0.3));\n",
              "      fill: #FFFFFF;\n",
              "    }\n",
              "  </style>\n",
              "\n",
              "      <script>\n",
              "        const buttonEl =\n",
              "          document.querySelector('#df-0f7db666-80e9-45b7-b5fb-74b76093efc8 button.colab-df-convert');\n",
              "        buttonEl.style.display =\n",
              "          google.colab.kernel.accessAllowed ? 'block' : 'none';\n",
              "\n",
              "        async function convertToInteractive(key) {\n",
              "          const element = document.querySelector('#df-0f7db666-80e9-45b7-b5fb-74b76093efc8');\n",
              "          const dataTable =\n",
              "            await google.colab.kernel.invokeFunction('convertToInteractive',\n",
              "                                                     [key], {});\n",
              "          if (!dataTable) return;\n",
              "\n",
              "          const docLinkHtml = 'Like what you see? Visit the ' +\n",
              "            '<a target=\"_blank\" href=https://colab.research.google.com/notebooks/data_table.ipynb>data table notebook</a>'\n",
              "            + ' to learn more about interactive tables.';\n",
              "          element.innerHTML = '';\n",
              "          dataTable['output_type'] = 'display_data';\n",
              "          await google.colab.output.renderOutput(dataTable, element);\n",
              "          const docLink = document.createElement('div');\n",
              "          docLink.innerHTML = docLinkHtml;\n",
              "          element.appendChild(docLink);\n",
              "        }\n",
              "      </script>\n",
              "    </div>\n",
              "  </div>\n",
              "  "
            ]
          },
          "metadata": {},
          "execution_count": 23
        }
      ],
      "source": [
        "# срез по количеству пользователей в группах\n",
        "recommender_system_test_filtered.groupby('group').agg({'user_id':'count'})"
      ]
    },
    {
      "cell_type": "code",
      "execution_count": 24,
      "metadata": {
        "colab": {
          "base_uri": "https://localhost:8080/",
          "height": 408
        },
        "id": "1Qy4qpGvdPaY",
        "outputId": "17150177-8c9d-4f52-fde5-1cf20dc56df8"
      },
      "outputs": [
        {
          "output_type": "display_data",
          "data": {
            "text/plain": [
              "<Figure size 720x432 with 1 Axes>"
            ],
            "image/png": "[encoded data removed]"
          },
          "metadata": {
            "image/png": {
              "width": 621,
              "height": 391
            },
            "needs_background": "light"
          }
        }
      ],
      "source": [
        "# визуализация диаграммы распределения пользователей по группам\n",
        "fig = plt.figure(figsize=(10,6))\n",
        "ax = sns.countplot(data=recommender_system_test_filtered,\\\n",
        "                  x='group', palette='Set2_r')\n",
        "plt.title('Распределение пользователей по группам', fontsize=16)\n",
        "plt.xlabel('Группа', fontsize=12)\n",
        "plt.ylabel('Доля пользователей', fontsize=12)\n",
        "\n",
        "for p in ax.patches:\n",
        "    percentage = '{:.0f}%'.format(100 * p.get_height()\\\n",
        "                                  / recommender_system_test_filtered['user_id']\\\n",
        "                                  .count())\n",
        "    x = p.get_x() + p.get_width()\n",
        "    y = p.get_height()\n",
        "    ax.annotate(percentage, (x, y), ha='right')\n",
        "\n",
        "plt.show()"
      ]
    },
    {
      "cell_type": "markdown",
      "metadata": {
        "id": "p4_PbsXoq6n9"
      },
      "source": [
        "Количество пользователей в двух группах распределено неравномерно – контрольная выборка 57%, а тестовая – всего 43%. \n",
        "\n",
        "Учтем это при анализе."
      ]
    },
    {
      "cell_type": "markdown",
      "metadata": {
        "id": "tzqo6GsmOVCM"
      },
      "source": [
        "### Создание датасетов с данными теста"
      ]
    },
    {
      "cell_type": "markdown",
      "metadata": {
        "id": "nIpasFvXQGwd"
      },
      "source": [
        "Объединим датасеты тестовой выборки и данных о пользователях:\n"
      ]
    },
    {
      "cell_type": "code",
      "execution_count": 25,
      "metadata": {
        "id": "0hY3HBb2PCAA"
      },
      "outputs": [],
      "source": [
        "df_participants = users.merge(recommender_system_test_filtered, how='inner', on='user_id')"
      ]
    },
    {
      "cell_type": "markdown",
      "metadata": {
        "id": "oqnZV152zdwP"
      },
      "source": [
        "Получился датасет с данными пользователей в тестовой выборке на 5918 записей.\n",
        "\n",
        "Создадим сырой датасет, добавив данные по событиям:"
      ]
    },
    {
      "cell_type": "code",
      "execution_count": 26,
      "metadata": {
        "colab": {
          "base_uri": "https://localhost:8080/"
        },
        "id": "UdtSF7sul7ln",
        "outputId": "b246ddcc-c3c4-42ff-da55-867b0b6126c5"
      },
      "outputs": [
        {
          "output_type": "execute_result",
          "data": {
            "text/plain": [
              "(24516, 9)"
            ]
          },
          "metadata": {},
          "execution_count": 26
        }
      ],
      "source": [
        "df_raw = events.merge(df_participants, how='right', on='user_id')\n",
        "df_raw.shape"
      ]
    },
    {
      "cell_type": "markdown",
      "metadata": {
        "id": "v8qhxOYxlQQN"
      },
      "source": [
        "По условиям ТЗ, в выборку должны входить новые пользователи за 14 дней с момента регистрации.\n",
        "\n",
        "Отфильтруем датасет по этому признаку, удалив пользователей, которые пришли более чем через 14 дней после начала теста:"
      ]
    },
    {
      "cell_type": "code",
      "execution_count": 27,
      "metadata": {
        "colab": {
          "base_uri": "https://localhost:8080/"
        },
        "id": "OgL3eVdKl9N7",
        "outputId": "be868dbd-228a-4f04-c618-efe286c88fef"
      },
      "outputs": [
        {
          "output_type": "execute_result",
          "data": {
            "text/plain": [
              "(24516, 9)"
            ]
          },
          "metadata": {},
          "execution_count": 27
        }
      ],
      "source": [
        "# создадим копию датафрейма с очищенными данными\n",
        "df_final = df_raw.copy()\n",
        "df_final['delta'] = df_final['first_date'] + pd.Timedelta(days=14)\n",
        "\n",
        "df_final = df_final.query('first_date <= delta')\n",
        "df_final.drop(columns='delta', inplace=True)\n",
        "df_final.shape"
      ]
    },
    {
      "cell_type": "code",
      "execution_count": 28,
      "metadata": {
        "colab": {
          "base_uri": "https://localhost:8080/"
        },
        "id": "rlkweZoWHMaN",
        "outputId": "9044be2f-5949-44de-d081-f3766f680025"
      },
      "outputs": [
        {
          "output_type": "stream",
          "name": "stdout",
          "text": [
            "Количество уникальных пользователей: 5918\n",
            "Количество уникальных пользователей с событиями (активных): 3244\n"
          ]
        }
      ],
      "source": [
        "print('Количество уникальных пользователей:', df_final['user_id'].nunique())\n",
        "print('Количество уникальных пользователей с событиями (активных):',\\\n",
        "      df_final.query('event_dt == event_dt')['user_id'].nunique())"
      ]
    },
    {
      "cell_type": "markdown",
      "metadata": {
        "id": "Hj9nZ3Qtxq_8"
      },
      "source": [
        "Получили финальный датасет для анализа на 21085 записей, где всего 3244 пользователя из выборки целевого теста совершали события.\n",
        "\n",
        "Запомним это число, чтобы оценить соответствие теста ТЗ."
      ]
    },
    {
      "cell_type": "markdown",
      "metadata": {
        "id": "zMGsvHb0Kgjs"
      },
      "source": [
        "### Оценка корректности проведения теста\n"
      ]
    },
    {
      "cell_type": "markdown",
      "metadata": {
        "id": "6daYHCuoLJ9n"
      },
      "source": [
        "**Техническое задание**\n",
        "\n",
        "- Название теста: `recommender_system_test`;\n",
        "- группы: А — контрольная, B — новая платёжная воронка;\n",
        "- дата запуска: 2020-12-07;\n",
        "- дата остановки набора новых пользователей: 2020-12-21;\n",
        "- дата остановки: 2021-01-04;\n",
        "- аудитория: 15% новых пользователей из региона EU;\n",
        "- назначение теста: тестирование изменений, связанных с внедрением улучшенной рекомендательной системы;\n",
        "- ожидаемое количество участников теста: 6000.\n",
        "- ожидаемый эффект: за 14 дней с момента регистрации пользователи покажут улучшение каждой метрики не менее, чем на 10%:\n",
        "    - конверсии в просмотр карточек товаров — событие `product_page`,\n",
        "    - просмотры корзины — `product_cart`,\n",
        "    - покупки — `purchase`."
      ]
    },
    {
      "cell_type": "markdown",
      "metadata": {
        "id": "7fYznw8nrvHJ"
      },
      "source": [
        "1. Название теста и контрольные группы **соответствуют** ТЗ."
      ]
    },
    {
      "cell_type": "markdown",
      "metadata": {
        "id": "YMgZauC9rrwB"
      },
      "source": [
        "2. Проверим временные диапазоны сбора данных в датасете с тестом:"
      ]
    },
    {
      "cell_type": "code",
      "execution_count": 29,
      "metadata": {
        "colab": {
          "base_uri": "https://localhost:8080/"
        },
        "id": "o98t3ws1mVya",
        "outputId": "13632c8f-f588-4330-9b7c-8a05707e2e9b"
      },
      "outputs": [
        {
          "output_type": "stream",
          "name": "stdout",
          "text": [
            "Дата начала набора новых пользователей: 2020-12-07 00:00:00 \n",
            "Дата окончания набора новых пользователей: 2020-12-21 00:00:00\n",
            "\n",
            "Длительность набора новых пользователей: 14 days 00:00:00 \n",
            "\n"
          ]
        }
      ],
      "source": [
        "# вывод диапазона дат\n",
        "print('Дата начала набора новых пользователей: {} \\nДата окончания набора новых пользователей: {}\\n'\\\n",
        "      .format(df_final['first_date'].min(),\\\n",
        "              df_final['first_date'].max()))\n",
        "\n",
        "# вывод длительности теста\n",
        "print('Длительность набора новых пользователей: {} \\n'\\\n",
        "      .format(df_final['first_date'].max() -\\\n",
        "              df_final['first_date'].min()))"
      ]
    },
    {
      "cell_type": "markdown",
      "metadata": {
        "id": "vepk5U63rnaM"
      },
      "source": [
        "Даты старта и остановки набора новых пользователей **соответствуют** ТЗ."
      ]
    },
    {
      "cell_type": "code",
      "execution_count": 30,
      "metadata": {
        "colab": {
          "base_uri": "https://localhost:8080/"
        },
        "id": "SG4S53ZuNUh2",
        "outputId": "514c925e-749f-40ef-f7c8-326240d79e89"
      },
      "outputs": [
        {
          "output_type": "stream",
          "name": "stdout",
          "text": [
            "Дата последнего события в тесте: 2020-12-30 12:42:57\n"
          ]
        }
      ],
      "source": [
        "# вывод даты остановки сбора данных\n",
        "print('Дата последнего события в тесте: {}'\\\n",
        "      .format(df_final['event_dt'].max()))"
      ]
    },
    {
      "cell_type": "markdown",
      "metadata": {
        "id": "-Vt_03rhNY1X"
      },
      "source": [
        "По факту сбор данных завершился на несколько дней раньше, что **не соответствует** ТЗ.\n"
      ]
    },
    {
      "cell_type": "markdown",
      "metadata": {
        "id": "hJKJ3gqoOp_B"
      },
      "source": [
        "3. По ТЗ аудитория теста должна составлять 15% новых пользователей из региона EU.\n",
        "\n",
        "Посчитаем число пользователей регионов и выведем их доли:"
      ]
    },
    {
      "cell_type": "code",
      "execution_count": 31,
      "metadata": {
        "colab": {
          "base_uri": "https://localhost:8080/",
          "height": 175
        },
        "id": "4MacZUPZlWoE",
        "outputId": "463dceea-b9cb-498d-f733-cfbd675bc15f"
      },
      "outputs": [
        {
          "output_type": "execute_result",
          "data": {
            "text/plain": [
              "      region  total  ratio\n",
              "0         EU   5568  12.03\n",
              "1  N.America    223   0.48\n",
              "2       APAC     72   0.16\n",
              "3        CIS     55   0.12"
            ],
            "text/html": [
              "\n",
              "  <div id=\"df-a1c761cc-406f-407d-8a18-baf822f8b2c7\">\n",
              "    <div class=\"colab-df-container\">\n",
              "      <div>\n",
              "<style scoped>\n",
              "    .dataframe tbody tr th:only-of-type {\n",
              "        vertical-align: middle;\n",
              "    }\n",
              "\n",
              "    .dataframe tbody tr th {\n",
              "        vertical-align: top;\n",
              "    }\n",
              "\n",
              "    .dataframe thead th {\n",
              "        text-align: right;\n",
              "    }\n",
              "</style>\n",
              "<table border=\"1\" class=\"dataframe\">\n",
              "  <thead>\n",
              "    <tr style=\"text-align: right;\">\n",
              "      <th></th>\n",
              "      <th>region</th>\n",
              "      <th>total</th>\n",
              "      <th>ratio</th>\n",
              "    </tr>\n",
              "  </thead>\n",
              "  <tbody>\n",
              "    <tr>\n",
              "      <th>0</th>\n",
              "      <td>EU</td>\n",
              "      <td>5568</td>\n",
              "      <td>12.03</td>\n",
              "    </tr>\n",
              "    <tr>\n",
              "      <th>1</th>\n",
              "      <td>N.America</td>\n",
              "      <td>223</td>\n",
              "      <td>0.48</td>\n",
              "    </tr>\n",
              "    <tr>\n",
              "      <th>2</th>\n",
              "      <td>APAC</td>\n",
              "      <td>72</td>\n",
              "      <td>0.16</td>\n",
              "    </tr>\n",
              "    <tr>\n",
              "      <th>3</th>\n",
              "      <td>CIS</td>\n",
              "      <td>55</td>\n",
              "      <td>0.12</td>\n",
              "    </tr>\n",
              "  </tbody>\n",
              "</table>\n",
              "</div>\n",
              "      <button class=\"colab-df-convert\" onclick=\"convertToInteractive('df-a1c761cc-406f-407d-8a18-baf822f8b2c7')\"\n",
              "              title=\"Convert this dataframe to an interactive table.\"\n",
              "              style=\"display:none;\">\n",
              "        \n",
              "  <svg xmlns=\"http://www.w3.org/2000/svg\" height=\"24px\"viewBox=\"0 0 24 24\"\n",
              "       width=\"24px\">\n",
              "    <path d=\"M0 0h24v24H0V0z\" fill=\"none\"/>\n",
              "    <path d=\"M18.56 5.44l.94 2.06.94-2.06 2.06-.94-2.06-.94-.94-2.06-.94 2.06-2.06.94zm-11 1L8.5 8.5l.94-2.06 2.06-.94-2.06-.94L8.5 2.5l-.94 2.06-2.06.94zm10 10l.94 2.06.94-2.06 2.06-.94-2.06-.94-.94-2.06-.94 2.06-2.06.94z\"/><path d=\"M17.41 7.96l-1.37-1.37c-.4-.4-.92-.59-1.43-.59-.52 0-1.04.2-1.43.59L10.3 9.45l-7.72 7.72c-.78.78-.78 2.05 0 2.83L4 21.41c.39.39.9.59 1.41.59.51 0 1.02-.2 1.41-.59l7.78-7.78 2.81-2.81c.8-.78.8-2.07 0-2.86zM5.41 20L4 18.59l7.72-7.72 1.47 1.35L5.41 20z\"/>\n",
              "  </svg>\n",
              "      </button>\n",
              "      \n",
              "  <style>\n",
              "    .colab-df-container {\n",
              "      display:flex;\n",
              "      flex-wrap:wrap;\n",
              "      gap: 12px;\n",
              "    }\n",
              "\n",
              "    .colab-df-convert {\n",
              "      background-color: #E8F0FE;\n",
              "      border: none;\n",
              "      border-radius: 50%;\n",
              "      cursor: pointer;\n",
              "      display: none;\n",
              "      fill: #1967D2;\n",
              "      height: 32px;\n",
              "      padding: 0 0 0 0;\n",
              "      width: 32px;\n",
              "    }\n",
              "\n",
              "    .colab-df-convert:hover {\n",
              "      background-color: #E2EBFA;\n",
              "      box-shadow: 0px 1px 2px rgba(60, 64, 67, 0.3), 0px 1px 3px 1px rgba(60, 64, 67, 0.15);\n",
              "      fill: #174EA6;\n",
              "    }\n",
              "\n",
              "    [theme=dark] .colab-df-convert {\n",
              "      background-color: #3B4455;\n",
              "      fill: #D2E3FC;\n",
              "    }\n",
              "\n",
              "    [theme=dark] .colab-df-convert:hover {\n",
              "      background-color: #434B5C;\n",
              "      box-shadow: 0px 1px 3px 1px rgba(0, 0, 0, 0.15);\n",
              "      filter: drop-shadow(0px 1px 2px rgba(0, 0, 0, 0.3));\n",
              "      fill: #FFFFFF;\n",
              "    }\n",
              "  </style>\n",
              "\n",
              "      <script>\n",
              "        const buttonEl =\n",
              "          document.querySelector('#df-a1c761cc-406f-407d-8a18-baf822f8b2c7 button.colab-df-convert');\n",
              "        buttonEl.style.display =\n",
              "          google.colab.kernel.accessAllowed ? 'block' : 'none';\n",
              "\n",
              "        async function convertToInteractive(key) {\n",
              "          const element = document.querySelector('#df-a1c761cc-406f-407d-8a18-baf822f8b2c7');\n",
              "          const dataTable =\n",
              "            await google.colab.kernel.invokeFunction('convertToInteractive',\n",
              "                                                     [key], {});\n",
              "          if (!dataTable) return;\n",
              "\n",
              "          const docLinkHtml = 'Like what you see? Visit the ' +\n",
              "            '<a target=\"_blank\" href=https://colab.research.google.com/notebooks/data_table.ipynb>data table notebook</a>'\n",
              "            + ' to learn more about interactive tables.';\n",
              "          element.innerHTML = '';\n",
              "          dataTable['output_type'] = 'display_data';\n",
              "          await google.colab.output.renderOutput(dataTable, element);\n",
              "          const docLink = document.createElement('div');\n",
              "          docLink.innerHTML = docLinkHtml;\n",
              "          element.appendChild(docLink);\n",
              "        }\n",
              "      </script>\n",
              "    </div>\n",
              "  </div>\n",
              "  "
            ]
          },
          "metadata": {},
          "execution_count": 31
        }
      ],
      "source": [
        "# группировка пользователей теста по региону\n",
        "region_ab_ratio = df_participants.groupby('region').agg({'user_id':'count'})\\\n",
        "                  .rename(columns={'user_id': 'total'})\\\n",
        "                  .sort_values(by='total', ascending=False).reset_index()\n",
        "\n",
        "# добавим столбец с долей от всех пользователей группы\n",
        "region_ab_ratio['ratio'] = (region_ab_ratio['total'] \\\n",
        "                         / users.query('region == \"EU\"')['user_id'].count())\\\n",
        "                          * 100\n",
        "\n",
        "# сохранение выборки с пользователями теста из EU\n",
        "eu_participants = df_participants.query('region == \"EU\"')\n",
        "\n",
        "# вывод значений\n",
        "region_ab_ratio.sort_values(by='total', ascending=False)"
      ]
    },
    {
      "cell_type": "markdown",
      "metadata": {
        "id": "_a8wUyQEy7bt"
      },
      "source": [
        "Процент пользователей из региона `EU` **не соответствует** ТЗ и составляет всего 12% вместо необходимых 15%.\n",
        "\n",
        "Количество пользователей из других регионов незначительное, можно не отфильтровывать."
      ]
    },
    {
      "cell_type": "markdown",
      "metadata": {
        "id": "fjpl84XoCzwJ"
      },
      "source": [
        "4. По ТЗ ожидаемое количество участников теста должно быть 6000.\n",
        "\n",
        "Выведем число пользователей теста по факту:"
      ]
    },
    {
      "cell_type": "code",
      "execution_count": 32,
      "metadata": {
        "colab": {
          "base_uri": "https://localhost:8080/"
        },
        "id": "K1GqFYCaC8Ot",
        "outputId": "deee140b-322e-4171-c171-f52d1068da5b"
      },
      "outputs": [
        {
          "output_type": "stream",
          "name": "stdout",
          "text": [
            "Ожидаемое число пользователей: 6000\n",
            "Фактическое число пользователей: 5918\n",
            "Разница план/факт по пользователям: 1%\n"
          ]
        }
      ],
      "source": [
        "print('Ожидаемое число пользователей: {}'.format(6000))\n",
        "print('Фактическое число пользователей: {}'.format(len(df_participants)))\n",
        "print('Разница план/факт по пользователям: {}%'.format(round(len(df_participants) / 6000)))"
      ]
    },
    {
      "cell_type": "markdown",
      "metadata": {
        "id": "xzaWwaqeF0U0"
      },
      "source": [
        "Число пользователей в тесте незначительно **не соответствует** ТЗ."
      ]
    },
    {
      "cell_type": "markdown",
      "metadata": {
        "id": "kNwJ-ME1lNA4"
      },
      "source": [
        "### Проверка пересечения с маркетингом"
      ]
    },
    {
      "cell_type": "markdown",
      "metadata": {
        "id": "Gw3NgxSPlS0N"
      },
      "source": [
        "Время проведения теста не должно совпадать с маркетинговыми и другими активностями – иначе результаты теста нельзя считать достоверными, так как на конверсию могли повлиять внешние факторы.\n",
        "\n",
        "Проверим, не пересекаются ли тесты с диапазоном проведения маркетинговых акций."
      ]
    },
    {
      "cell_type": "code",
      "execution_count": 33,
      "metadata": {
        "id": "WvizPUG7lkru"
      },
      "outputs": [],
      "source": [
        "# добавление времени проведения теста в датасет маркетинговых мероприятий\n",
        "test = {'name': 'recommender_system_test',\\\n",
        "        'regions': 'EU, CIS, APAC, N.America',\\\n",
        "        'start_dt': date_threshold_min,\\\n",
        "        'finish_dt': date_threshold_max}\n",
        "marketing_test = marketing.append(test, ignore_index = True)"
      ]
    },
    {
      "cell_type": "code",
      "execution_count": 34,
      "metadata": {
        "colab": {
          "base_uri": "https://localhost:8080/",
          "height": 467
        },
        "id": "TSC9vvu9nqHL",
        "outputId": "f99283b6-7a16-49ad-abd8-555e3a8f3d95"
      },
      "outputs": [
        {
          "output_type": "display_data",
          "data": {
            "text/html": [
              "<html>\n",
              "<head><meta charset=\"utf-8\" /></head>\n",
              "<body>\n",
              "    <div>            <script src=\"https://cdnjs.cloudflare.com/ajax/libs/mathjax/2.7.5/MathJax.js?config=TeX-AMS-MML_SVG\"></script><script type=\"text/javascript\">if (window.MathJax) {MathJax.Hub.Config({SVG: {font: \"STIX-Web\"}});}</script>                <script type=\"text/javascript\">window.PlotlyConfig = {MathJaxConfig: 'local'};</script>\n",
              "        <script src=\"https://cdn.plot.ly/plotly-2.8.3.min.js\"></script>                <div id=\"519882a2-f79c-4963-9072-e2a7ea1f81dc\" class=\"plotly-graph-div\" style=\"height:450px; width:1200px;\"></div>            <script type=\"text/javascript\">                                    window.PLOTLYENV=window.PLOTLYENV || {};                                    if (document.getElementById(\"519882a2-f79c-4963-9072-e2a7ea1f81dc\")) {                    Plotly.newPlot(                        \"519882a2-f79c-4963-9072-e2a7ea1f81dc\",                        [{\"alignmentgroup\":\"True\",\"base\":[\"2020-12-25T00:00:00\"],\"hovertemplate\":\"\\u0420\\u0435\\u0433\\u0438\\u043e\\u043d\\u044b \\u043f\\u0440\\u043e\\u0432\\u0435\\u0434\\u0435\\u043d\\u0438\\u044f=EU, N.America<br>start_dt=%{base}<br>finish_dt=%{x}<br>\\u041d\\u0430\\u0437\\u0432\\u0430\\u043d\\u0438\\u0435 \\u043c\\u0435\\u0440\\u043e\\u043f\\u0440\\u0438\\u044f\\u0442\\u0438\\u044f=%{y}<extra></extra>\",\"legendgroup\":\"EU, N.America\",\"marker\":{\"color\":\"#636efa\"},\"name\":\"EU, N.America\",\"offsetgroup\":\"EU, N.America\",\"orientation\":\"h\",\"showlegend\":true,\"textposition\":\"auto\",\"x\":[777600000.0],\"xaxis\":\"x\",\"y\":[\"Christmas&New Year Promo\"],\"yaxis\":\"y\",\"type\":\"bar\"},{\"alignmentgroup\":\"True\",\"base\":[\"2020-12-30T00:00:00\"],\"hovertemplate\":\"\\u0420\\u0435\\u0433\\u0438\\u043e\\u043d\\u044b \\u043f\\u0440\\u043e\\u0432\\u0435\\u0434\\u0435\\u043d\\u0438\\u044f=CIS<br>start_dt=%{base}<br>finish_dt=%{x}<br>\\u041d\\u0430\\u0437\\u0432\\u0430\\u043d\\u0438\\u0435 \\u043c\\u0435\\u0440\\u043e\\u043f\\u0440\\u0438\\u044f\\u0442\\u0438\\u044f=%{y}<extra></extra>\",\"legendgroup\":\"CIS\",\"marker\":{\"color\":\"#EF553B\"},\"name\":\"CIS\",\"offsetgroup\":\"CIS\",\"orientation\":\"h\",\"showlegend\":true,\"textposition\":\"auto\",\"x\":[691200000.0],\"xaxis\":\"x\",\"y\":[\"CIS New Year Gift Lottery\"],\"yaxis\":\"y\",\"type\":\"bar\"},{\"alignmentgroup\":\"True\",\"base\":[\"2020-12-07T00:00:00\"],\"hovertemplate\":\"\\u0420\\u0435\\u0433\\u0438\\u043e\\u043d\\u044b \\u043f\\u0440\\u043e\\u0432\\u0435\\u0434\\u0435\\u043d\\u0438\\u044f=EU, CIS, APAC, N.America<br>start_dt=%{base}<br>finish_dt=%{x}<br>\\u041d\\u0430\\u0437\\u0432\\u0430\\u043d\\u0438\\u0435 \\u043c\\u0435\\u0440\\u043e\\u043f\\u0440\\u0438\\u044f\\u0442\\u0438\\u044f=%{y}<extra></extra>\",\"legendgroup\":\"EU, CIS, APAC, N.America\",\"marker\":{\"color\":\"#00cc96\"},\"name\":\"EU, CIS, APAC, N.America\",\"offsetgroup\":\"EU, CIS, APAC, N.America\",\"orientation\":\"h\",\"showlegend\":true,\"textposition\":\"auto\",\"x\":[2419200000.0],\"xaxis\":\"x\",\"y\":[\"recommender_system_test\"],\"yaxis\":\"y\",\"type\":\"bar\"}],                        {\"template\":{\"data\":{\"bar\":[{\"error_x\":{\"color\":\"#2a3f5f\"},\"error_y\":{\"color\":\"#2a3f5f\"},\"marker\":{\"line\":{\"color\":\"#E5ECF6\",\"width\":0.5},\"pattern\":{\"fillmode\":\"overlay\",\"size\":10,\"solidity\":0.2}},\"type\":\"bar\"}],\"barpolar\":[{\"marker\":{\"line\":{\"color\":\"#E5ECF6\",\"width\":0.5},\"pattern\":{\"fillmode\":\"overlay\",\"size\":10,\"solidity\":0.2}},\"type\":\"barpolar\"}],\"carpet\":[{\"aaxis\":{\"endlinecolor\":\"#2a3f5f\",\"gridcolor\":\"white\",\"linecolor\":\"white\",\"minorgridcolor\":\"white\",\"startlinecolor\":\"#2a3f5f\"},\"baxis\":{\"endlinecolor\":\"#2a3f5f\",\"gridcolor\":\"white\",\"linecolor\":\"white\",\"minorgridcolor\":\"white\",\"startlinecolor\":\"#2a3f5f\"},\"type\":\"carpet\"}],\"choropleth\":[{\"colorbar\":{\"outlinewidth\":0,\"ticks\":\"\"},\"type\":\"choropleth\"}],\"contour\":[{\"colorbar\":{\"outlinewidth\":0,\"ticks\":\"\"},\"colorscale\":[[0.0,\"#0d0887\"],[0.1111111111111111,\"#46039f\"],[0.2222222222222222,\"#7201a8\"],[0.3333333333333333,\"#9c179e\"],[0.4444444444444444,\"#bd3786\"],[0.5555555555555556,\"#d8576b\"],[0.6666666666666666,\"#ed7953\"],[0.7777777777777778,\"#fb9f3a\"],[0.8888888888888888,\"#fdca26\"],[1.0,\"#f0f921\"]],\"type\":\"contour\"}],\"contourcarpet\":[{\"colorbar\":{\"outlinewidth\":0,\"ticks\":\"\"},\"type\":\"contourcarpet\"}],\"heatmap\":[{\"colorbar\":{\"outlinewidth\":0,\"ticks\":\"\"},\"colorscale\":[[0.0,\"#0d0887\"],[0.1111111111111111,\"#46039f\"],[0.2222222222222222,\"#7201a8\"],[0.3333333333333333,\"#9c179e\"],[0.4444444444444444,\"#bd3786\"],[0.5555555555555556,\"#d8576b\"],[0.6666666666666666,\"#ed7953\"],[0.7777777777777778,\"#fb9f3a\"],[0.8888888888888888,\"#fdca26\"],[1.0,\"#f0f921\"]],\"type\":\"heatmap\"}],\"heatmapgl\":[{\"colorbar\":{\"outlinewidth\":0,\"ticks\":\"\"},\"colorscale\":[[0.0,\"#0d0887\"],[0.1111111111111111,\"#46039f\"],[0.2222222222222222,\"#7201a8\"],[0.3333333333333333,\"#9c179e\"],[0.4444444444444444,\"#bd3786\"],[0.5555555555555556,\"#d8576b\"],[0.6666666666666666,\"#ed7953\"],[0.7777777777777778,\"#fb9f3a\"],[0.8888888888888888,\"#fdca26\"],[1.0,\"#f0f921\"]],\"type\":\"heatmapgl\"}],\"histogram\":[{\"marker\":{\"pattern\":{\"fillmode\":\"overlay\",\"size\":10,\"solidity\":0.2}},\"type\":\"histogram\"}],\"histogram2d\":[{\"colorbar\":{\"outlinewidth\":0,\"ticks\":\"\"},\"colorscale\":[[0.0,\"#0d0887\"],[0.1111111111111111,\"#46039f\"],[0.2222222222222222,\"#7201a8\"],[0.3333333333333333,\"#9c179e\"],[0.4444444444444444,\"#bd3786\"],[0.5555555555555556,\"#d8576b\"],[0.6666666666666666,\"#ed7953\"],[0.7777777777777778,\"#fb9f3a\"],[0.8888888888888888,\"#fdca26\"],[1.0,\"#f0f921\"]],\"type\":\"histogram2d\"}],\"histogram2dcontour\":[{\"colorbar\":{\"outlinewidth\":0,\"ticks\":\"\"},\"colorscale\":[[0.0,\"#0d0887\"],[0.1111111111111111,\"#46039f\"],[0.2222222222222222,\"#7201a8\"],[0.3333333333333333,\"#9c179e\"],[0.4444444444444444,\"#bd3786\"],[0.5555555555555556,\"#d8576b\"],[0.6666666666666666,\"#ed7953\"],[0.7777777777777778,\"#fb9f3a\"],[0.8888888888888888,\"#fdca26\"],[1.0,\"#f0f921\"]],\"type\":\"histogram2dcontour\"}],\"mesh3d\":[{\"colorbar\":{\"outlinewidth\":0,\"ticks\":\"\"},\"type\":\"mesh3d\"}],\"parcoords\":[{\"line\":{\"colorbar\":{\"outlinewidth\":0,\"ticks\":\"\"}},\"type\":\"parcoords\"}],\"pie\":[{\"automargin\":true,\"type\":\"pie\"}],\"scatter\":[{\"marker\":{\"colorbar\":{\"outlinewidth\":0,\"ticks\":\"\"}},\"type\":\"scatter\"}],\"scatter3d\":[{\"line\":{\"colorbar\":{\"outlinewidth\":0,\"ticks\":\"\"}},\"marker\":{\"colorbar\":{\"outlinewidth\":0,\"ticks\":\"\"}},\"type\":\"scatter3d\"}],\"scattercarpet\":[{\"marker\":{\"colorbar\":{\"outlinewidth\":0,\"ticks\":\"\"}},\"type\":\"scattercarpet\"}],\"scattergeo\":[{\"marker\":{\"colorbar\":{\"outlinewidth\":0,\"ticks\":\"\"}},\"type\":\"scattergeo\"}],\"scattergl\":[{\"marker\":{\"colorbar\":{\"outlinewidth\":0,\"ticks\":\"\"}},\"type\":\"scattergl\"}],\"scattermapbox\":[{\"marker\":{\"colorbar\":{\"outlinewidth\":0,\"ticks\":\"\"}},\"type\":\"scattermapbox\"}],\"scatterpolar\":[{\"marker\":{\"colorbar\":{\"outlinewidth\":0,\"ticks\":\"\"}},\"type\":\"scatterpolar\"}],\"scatterpolargl\":[{\"marker\":{\"colorbar\":{\"outlinewidth\":0,\"ticks\":\"\"}},\"type\":\"scatterpolargl\"}],\"scatterternary\":[{\"marker\":{\"colorbar\":{\"outlinewidth\":0,\"ticks\":\"\"}},\"type\":\"scatterternary\"}],\"surface\":[{\"colorbar\":{\"outlinewidth\":0,\"ticks\":\"\"},\"colorscale\":[[0.0,\"#0d0887\"],[0.1111111111111111,\"#46039f\"],[0.2222222222222222,\"#7201a8\"],[0.3333333333333333,\"#9c179e\"],[0.4444444444444444,\"#bd3786\"],[0.5555555555555556,\"#d8576b\"],[0.6666666666666666,\"#ed7953\"],[0.7777777777777778,\"#fb9f3a\"],[0.8888888888888888,\"#fdca26\"],[1.0,\"#f0f921\"]],\"type\":\"surface\"}],\"table\":[{\"cells\":{\"fill\":{\"color\":\"#EBF0F8\"},\"line\":{\"color\":\"white\"}},\"header\":{\"fill\":{\"color\":\"#C8D4E3\"},\"line\":{\"color\":\"white\"}},\"type\":\"table\"}]},\"layout\":{\"annotationdefaults\":{\"arrowcolor\":\"#2a3f5f\",\"arrowhead\":0,\"arrowwidth\":1},\"autotypenumbers\":\"strict\",\"coloraxis\":{\"colorbar\":{\"outlinewidth\":0,\"ticks\":\"\"}},\"colorscale\":{\"diverging\":[[0,\"#8e0152\"],[0.1,\"#c51b7d\"],[0.2,\"#de77ae\"],[0.3,\"#f1b6da\"],[0.4,\"#fde0ef\"],[0.5,\"#f7f7f7\"],[0.6,\"#e6f5d0\"],[0.7,\"#b8e186\"],[0.8,\"#7fbc41\"],[0.9,\"#4d9221\"],[1,\"#276419\"]],\"sequential\":[[0.0,\"#0d0887\"],[0.1111111111111111,\"#46039f\"],[0.2222222222222222,\"#7201a8\"],[0.3333333333333333,\"#9c179e\"],[0.4444444444444444,\"#bd3786\"],[0.5555555555555556,\"#d8576b\"],[0.6666666666666666,\"#ed7953\"],[0.7777777777777778,\"#fb9f3a\"],[0.8888888888888888,\"#fdca26\"],[1.0,\"#f0f921\"]],\"sequentialminus\":[[0.0,\"#0d0887\"],[0.1111111111111111,\"#46039f\"],[0.2222222222222222,\"#7201a8\"],[0.3333333333333333,\"#9c179e\"],[0.4444444444444444,\"#bd3786\"],[0.5555555555555556,\"#d8576b\"],[0.6666666666666666,\"#ed7953\"],[0.7777777777777778,\"#fb9f3a\"],[0.8888888888888888,\"#fdca26\"],[1.0,\"#f0f921\"]]},\"colorway\":[\"#636efa\",\"#EF553B\",\"#00cc96\",\"#ab63fa\",\"#FFA15A\",\"#19d3f3\",\"#FF6692\",\"#B6E880\",\"#FF97FF\",\"#FECB52\"],\"font\":{\"color\":\"#2a3f5f\"},\"geo\":{\"bgcolor\":\"white\",\"lakecolor\":\"white\",\"landcolor\":\"#E5ECF6\",\"showlakes\":true,\"showland\":true,\"subunitcolor\":\"white\"},\"hoverlabel\":{\"align\":\"left\"},\"hovermode\":\"closest\",\"mapbox\":{\"style\":\"light\"},\"paper_bgcolor\":\"white\",\"plot_bgcolor\":\"#E5ECF6\",\"polar\":{\"angularaxis\":{\"gridcolor\":\"white\",\"linecolor\":\"white\",\"ticks\":\"\"},\"bgcolor\":\"#E5ECF6\",\"radialaxis\":{\"gridcolor\":\"white\",\"linecolor\":\"white\",\"ticks\":\"\"}},\"scene\":{\"xaxis\":{\"backgroundcolor\":\"#E5ECF6\",\"gridcolor\":\"white\",\"gridwidth\":2,\"linecolor\":\"white\",\"showbackground\":true,\"ticks\":\"\",\"zerolinecolor\":\"white\"},\"yaxis\":{\"backgroundcolor\":\"#E5ECF6\",\"gridcolor\":\"white\",\"gridwidth\":2,\"linecolor\":\"white\",\"showbackground\":true,\"ticks\":\"\",\"zerolinecolor\":\"white\"},\"zaxis\":{\"backgroundcolor\":\"#E5ECF6\",\"gridcolor\":\"white\",\"gridwidth\":2,\"linecolor\":\"white\",\"showbackground\":true,\"ticks\":\"\",\"zerolinecolor\":\"white\"}},\"shapedefaults\":{\"line\":{\"color\":\"#2a3f5f\"}},\"ternary\":{\"aaxis\":{\"gridcolor\":\"white\",\"linecolor\":\"white\",\"ticks\":\"\"},\"baxis\":{\"gridcolor\":\"white\",\"linecolor\":\"white\",\"ticks\":\"\"},\"bgcolor\":\"#E5ECF6\",\"caxis\":{\"gridcolor\":\"white\",\"linecolor\":\"white\",\"ticks\":\"\"}},\"title\":{\"x\":0.05},\"xaxis\":{\"automargin\":true,\"gridcolor\":\"white\",\"linecolor\":\"white\",\"ticks\":\"\",\"title\":{\"standoff\":15},\"zerolinecolor\":\"white\",\"zerolinewidth\":2},\"yaxis\":{\"automargin\":true,\"gridcolor\":\"white\",\"linecolor\":\"white\",\"ticks\":\"\",\"title\":{\"standoff\":15},\"zerolinecolor\":\"white\",\"zerolinewidth\":2}}},\"xaxis\":{\"anchor\":\"y\",\"domain\":[0.0,1.0],\"type\":\"date\"},\"yaxis\":{\"anchor\":\"x\",\"domain\":[0.0,1.0],\"title\":{\"text\":\"\\u041d\\u0430\\u0437\\u0432\\u0430\\u043d\\u0438\\u0435 \\u043c\\u0435\\u0440\\u043e\\u043f\\u0440\\u0438\\u044f\\u0442\\u0438\\u044f\"}},\"legend\":{\"title\":{\"text\":\"\\u0420\\u0435\\u0433\\u0438\\u043e\\u043d\\u044b \\u043f\\u0440\\u043e\\u0432\\u0435\\u0434\\u0435\\u043d\\u0438\\u044f\"},\"tracegroupgap\":0},\"title\":{\"text\":\"\\u041f\\u0435\\u0440\\u0435\\u0441\\u0435\\u0447\\u0435\\u043d\\u0438\\u0435 \\u0442\\u0435\\u0441\\u0442\\u0430 \\u0438 \\u043c\\u0430\\u0440\\u043a\\u0435\\u0442\\u0438\\u043d\\u0433\\u043e\\u0432\\u044b\\u0445 \\u043c\\u0435\\u0440\\u043e\\u043f\\u0440\\u0438\\u044f\\u0442\\u0438\\u0439\"},\"barmode\":\"overlay\",\"height\":450,\"width\":1200},                        {\"responsive\": true}                    ).then(function(){\n",
              "                            \n",
              "var gd = document.getElementById('519882a2-f79c-4963-9072-e2a7ea1f81dc');\n",
              "var x = new MutationObserver(function (mutations, observer) {{\n",
              "        var display = window.getComputedStyle(gd).display;\n",
              "        if (!display || display === 'none') {{\n",
              "            console.log([gd, 'removed!']);\n",
              "            Plotly.purge(gd);\n",
              "            observer.disconnect();\n",
              "        }}\n",
              "}});\n",
              "\n",
              "// Listen for the removal of the full notebook cells\n",
              "var notebookContainer = gd.closest('#notebook-container');\n",
              "if (notebookContainer) {{\n",
              "    x.observe(notebookContainer, {childList: true});\n",
              "}}\n",
              "\n",
              "// Listen for the clearing of the current output cell\n",
              "var outputEl = gd.closest('.output');\n",
              "if (outputEl) {{\n",
              "    x.observe(outputEl, {childList: true});\n",
              "}}\n",
              "\n",
              "                        })                };                            </script>        </div>\n",
              "</body>\n",
              "</html>"
            ]
          },
          "metadata": {}
        }
      ],
      "source": [
        "# визуализация диаграммы Ганта\n",
        "fig = px.timeline(marketing_test.query('start_dt >= @date_threshold_min'),\\\n",
        "                  x_start='start_dt', x_end='finish_dt', y='name',\\\n",
        "                  color='regions', width=1200, height=450,\\\n",
        "                  title='Пересечение теста и маркетинговых мероприятий',\\\n",
        "                  labels={'name':'Название мероприятия', 'regions':'Регионы проведения'})\n",
        "\n",
        "fig.show()"
      ]
    },
    {
      "cell_type": "markdown",
      "source": [
        "![Screenshot 2022-10-20 at 13.25.30.png](data:image/png;base64,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)"
      ],
      "metadata": {
        "id": "AeyU3cWR7Unj"
      }
    },
    {
      "cell_type": "markdown",
      "metadata": {
        "id": "7TIBN--Rtf1h"
      },
      "source": [
        "Найдена еще одна **ошибка в проведении теста**: время проведения пересекается с маркетинговыми мероприятиями в тех же регионах, что могло повлиять на изменение конверсии.\n",
        "\n",
        "Даты начала промоакций, начиная с которых тест не валиден: 2020-12-25 для региона `EU` и `N.America` и 2020-12-30 для `CIS`."
      ]
    },
    {
      "cell_type": "markdown",
      "metadata": {
        "id": "sRwjHJYNGkrY"
      },
      "source": [
        "### Вывод по шагу\n",
        "\n",
        "\n",
        "Мы обработали недочеты и почистили данные, разделили датасет с тестами.\n",
        "\n",
        "После разделения тестовых датасетов пересечения по `user_id` пропали – они были связаны со смешением пользователей в двух тестах.\n",
        "\n",
        "Был создан общий датасет по тестовой выборке, включающий данные о пользователях и событиях. Он был проверен на соответствие техническому заданию. \n",
        "\n",
        "На этапе проверки соответствия ТЗ уже выявлены **ошибки проведения теста**:\n",
        "* Наличие пересечений пользователей в двух тестах говорит о том, что параллельно было запущено 2 тестирования и часть пользователей попала под оба теста одновременно\n",
        "* Число пользователей в тесте не соответствует ТЗ и составляет на 1% меньше запланированных 6000\n",
        "* Количество пользователей в двух группах целевого теста распределено неравномерно – контрольная выборка составляет 57%, а тестовая – всего 43%\n",
        "* Процент пользователей из региона `EU` не соответствует ТЗ и составляет всего 12% вместо необходимых 15%\n",
        "* Время проведения пересекается с маркетинговыми мероприятиями в тех же регионах, что могло повлиять на изменение конверсии\n",
        "* Всего 3244 пользователя из выборки целевого теста совершали события\n",
        "* По факту сбор данных завершился раньше\n",
        "\n",
        "\n",
        "Данные обработаны и подготовлены. Можно приступать к исследовательскому анализу."
      ]
    },
    {
      "cell_type": "markdown",
      "metadata": {
        "id": "w5eEIZldDdy9"
      },
      "source": [
        "## Исследовательский анализ данных (EDA)\n"
      ]
    },
    {
      "cell_type": "markdown",
      "metadata": {
        "id": "q0Lka_WJK0IZ"
      },
      "source": [
        "Рассмотрим следующие вопросы:\n",
        "\n",
        "- Количество событий на пользователя одинаково распределены в выборках?\n",
        "- Как число событий в выборках распределено по дням?\n",
        "- Как меняется конверсия в воронке в выборках на разных этапах?\n",
        "- Какие особенности данных нужно учесть, прежде чем приступать к A/B-тестированию?"
      ]
    },
    {
      "cell_type": "markdown",
      "metadata": {
        "id": "PMMktYl0ypNv"
      },
      "source": [
        "Рассмотрим неактивных пользователей, прежде чем проводить анализ по пользователям с совершенными действиями:"
      ]
    },
    {
      "cell_type": "code",
      "execution_count": 35,
      "metadata": {
        "colab": {
          "base_uri": "https://localhost:8080/"
        },
        "id": "CeLBQXk0ypNv",
        "outputId": "a8d66d2d-ccbe-40de-d00c-b5cdb5e61188"
      },
      "outputs": [
        {
          "output_type": "stream",
          "name": "stdout",
          "text": [
            "Количество пользователей без событий: 2674\n"
          ]
        }
      ],
      "source": [
        "# выделим пользователей без событий\n",
        "df_na = df_raw.query('event_dt != event_dt')\n",
        "print('Количество пользователей без событий:', df_na['event_dt'].isna().sum())"
      ]
    },
    {
      "cell_type": "code",
      "execution_count": 36,
      "metadata": {
        "scrolled": true,
        "colab": {
          "base_uri": "https://localhost:8080/",
          "height": 112
        },
        "id": "hJkgLWx5ypNv",
        "outputId": "3203a57e-a438-4020-8a83-d23bf5543c15"
      },
      "outputs": [
        {
          "output_type": "execute_result",
          "data": {
            "text/plain": [
              "  group  user_id\n",
              "0     A      963\n",
              "1     B     1711"
            ],
            "text/html": [
              "\n",
              "  <div id=\"df-ace7bea7-30d1-4eec-a2e8-57e8be838279\">\n",
              "    <div class=\"colab-df-container\">\n",
              "      <div>\n",
              "<style scoped>\n",
              "    .dataframe tbody tr th:only-of-type {\n",
              "        vertical-align: middle;\n",
              "    }\n",
              "\n",
              "    .dataframe tbody tr th {\n",
              "        vertical-align: top;\n",
              "    }\n",
              "\n",
              "    .dataframe thead th {\n",
              "        text-align: right;\n",
              "    }\n",
              "</style>\n",
              "<table border=\"1\" class=\"dataframe\">\n",
              "  <thead>\n",
              "    <tr style=\"text-align: right;\">\n",
              "      <th></th>\n",
              "      <th>group</th>\n",
              "      <th>user_id</th>\n",
              "    </tr>\n",
              "  </thead>\n",
              "  <tbody>\n",
              "    <tr>\n",
              "      <th>0</th>\n",
              "      <td>A</td>\n",
              "      <td>963</td>\n",
              "    </tr>\n",
              "    <tr>\n",
              "      <th>1</th>\n",
              "      <td>B</td>\n",
              "      <td>1711</td>\n",
              "    </tr>\n",
              "  </tbody>\n",
              "</table>\n",
              "</div>\n",
              "      <button class=\"colab-df-convert\" onclick=\"convertToInteractive('df-ace7bea7-30d1-4eec-a2e8-57e8be838279')\"\n",
              "              title=\"Convert this dataframe to an interactive table.\"\n",
              "              style=\"display:none;\">\n",
              "        \n",
              "  <svg xmlns=\"http://www.w3.org/2000/svg\" height=\"24px\"viewBox=\"0 0 24 24\"\n",
              "       width=\"24px\">\n",
              "    <path d=\"M0 0h24v24H0V0z\" fill=\"none\"/>\n",
              "    <path d=\"M18.56 5.44l.94 2.06.94-2.06 2.06-.94-2.06-.94-.94-2.06-.94 2.06-2.06.94zm-11 1L8.5 8.5l.94-2.06 2.06-.94-2.06-.94L8.5 2.5l-.94 2.06-2.06.94zm10 10l.94 2.06.94-2.06 2.06-.94-2.06-.94-.94-2.06-.94 2.06-2.06.94z\"/><path d=\"M17.41 7.96l-1.37-1.37c-.4-.4-.92-.59-1.43-.59-.52 0-1.04.2-1.43.59L10.3 9.45l-7.72 7.72c-.78.78-.78 2.05 0 2.83L4 21.41c.39.39.9.59 1.41.59.51 0 1.02-.2 1.41-.59l7.78-7.78 2.81-2.81c.8-.78.8-2.07 0-2.86zM5.41 20L4 18.59l7.72-7.72 1.47 1.35L5.41 20z\"/>\n",
              "  </svg>\n",
              "      </button>\n",
              "      \n",
              "  <style>\n",
              "    .colab-df-container {\n",
              "      display:flex;\n",
              "      flex-wrap:wrap;\n",
              "      gap: 12px;\n",
              "    }\n",
              "\n",
              "    .colab-df-convert {\n",
              "      background-color: #E8F0FE;\n",
              "      border: none;\n",
              "      border-radius: 50%;\n",
              "      cursor: pointer;\n",
              "      display: none;\n",
              "      fill: #1967D2;\n",
              "      height: 32px;\n",
              "      padding: 0 0 0 0;\n",
              "      width: 32px;\n",
              "    }\n",
              "\n",
              "    .colab-df-convert:hover {\n",
              "      background-color: #E2EBFA;\n",
              "      box-shadow: 0px 1px 2px rgba(60, 64, 67, 0.3), 0px 1px 3px 1px rgba(60, 64, 67, 0.15);\n",
              "      fill: #174EA6;\n",
              "    }\n",
              "\n",
              "    [theme=dark] .colab-df-convert {\n",
              "      background-color: #3B4455;\n",
              "      fill: #D2E3FC;\n",
              "    }\n",
              "\n",
              "    [theme=dark] .colab-df-convert:hover {\n",
              "      background-color: #434B5C;\n",
              "      box-shadow: 0px 1px 3px 1px rgba(0, 0, 0, 0.15);\n",
              "      filter: drop-shadow(0px 1px 2px rgba(0, 0, 0, 0.3));\n",
              "      fill: #FFFFFF;\n",
              "    }\n",
              "  </style>\n",
              "\n",
              "      <script>\n",
              "        const buttonEl =\n",
              "          document.querySelector('#df-ace7bea7-30d1-4eec-a2e8-57e8be838279 button.colab-df-convert');\n",
              "        buttonEl.style.display =\n",
              "          google.colab.kernel.accessAllowed ? 'block' : 'none';\n",
              "\n",
              "        async function convertToInteractive(key) {\n",
              "          const element = document.querySelector('#df-ace7bea7-30d1-4eec-a2e8-57e8be838279');\n",
              "          const dataTable =\n",
              "            await google.colab.kernel.invokeFunction('convertToInteractive',\n",
              "                                                     [key], {});\n",
              "          if (!dataTable) return;\n",
              "\n",
              "          const docLinkHtml = 'Like what you see? Visit the ' +\n",
              "            '<a target=\"_blank\" href=https://colab.research.google.com/notebooks/data_table.ipynb>data table notebook</a>'\n",
              "            + ' to learn more about interactive tables.';\n",
              "          element.innerHTML = '';\n",
              "          dataTable['output_type'] = 'display_data';\n",
              "          await google.colab.output.renderOutput(dataTable, element);\n",
              "          const docLink = document.createElement('div');\n",
              "          docLink.innerHTML = docLinkHtml;\n",
              "          element.appendChild(docLink);\n",
              "        }\n",
              "      </script>\n",
              "    </div>\n",
              "  </div>\n",
              "  "
            ]
          },
          "metadata": {},
          "execution_count": 36
        }
      ],
      "source": [
        "# группировка по неактивным пользователям в тестовых группах\n",
        "user_na_events = df_final.query('event_dt != event_dt') \\\n",
        "    .groupby(['group'], as_index=False) \\\n",
        "    .agg({'user_id' : 'nunique'}) \\\n",
        "    .rename(columns=({'event_name' : 'total_events'})) \\\n",
        "    .sort_values(by='group', ascending=True)\n",
        "\n",
        "user_na_events "
      ]
    },
    {
      "cell_type": "code",
      "execution_count": 37,
      "metadata": {
        "colab": {
          "base_uri": "https://localhost:8080/"
        },
        "id": "AxrU8Zu0ypNw",
        "outputId": "d36f96cf-868b-4138-a3a7-f6f0529d38ed"
      },
      "outputs": [
        {
          "output_type": "stream",
          "name": "stdout",
          "text": [
            "Доля неактивных пользователей в группе A: 28%\n",
            "Доля неактивных пользователей в группе B: 68%\n"
          ]
        }
      ],
      "source": [
        "# расчитаем доли неактивных пользователей по группам\n",
        "\n",
        "na_ratio_b = df_final.query('event_dt != event_dt and group == \"B\"')['user_id'].nunique() \\\n",
        "                 / (df_final.query('group == \"B\"')['user_id'].nunique()) * 100\n",
        "na_ratio_a = df_final.query('event_dt != event_dt and group == \"A\"')['user_id'].nunique() \\\n",
        "                 / (df_final.query('group == \"A\"')['user_id'].nunique()) * 100\n",
        "\n",
        "\n",
        "print('Доля неактивных пользователей в группе A: {}%'.format(round(na_ratio_a)))\n",
        "print('Доля неактивных пользователей в группе B: {}%'.format(round(na_ratio_b)))"
      ]
    },
    {
      "cell_type": "markdown",
      "metadata": {
        "id": "DZ6I_9tgypNw"
      },
      "source": [
        "Большая часть неактивных пользователей – из тестовой группы `B`.\n",
        "\n",
        "Кроме того, доля неактивных пользователей в группе в несколько раз выше, чем в контрольной.\n",
        "\n",
        "**Это может указывать на то, что новая версия рекомендательной системы на самом верхнем этапе воронки – вовлечение пользователя в пользование продуктом – работает хуже.**\n",
        "\n",
        "Рассмотрим теперь пользователей с событиями."
      ]
    },
    {
      "cell_type": "markdown",
      "metadata": {
        "id": "5zHDd1rGuxsS"
      },
      "source": [
        "### Распределение событий на пользователя в выборках"
      ]
    },
    {
      "cell_type": "markdown",
      "metadata": {
        "id": "bO4FkLj15x5L"
      },
      "source": [
        "Сгруппируем данные по событиям пользователей теста и выведем основные статистики:"
      ]
    },
    {
      "cell_type": "code",
      "execution_count": 38,
      "metadata": {
        "id": "Sjl1Za8n0PCP"
      },
      "outputs": [],
      "source": [
        "# группировка по пользователю и количеству событий\n",
        "user_events = df_final.query('event_dt == event_dt') \\\n",
        "    .groupby(['user_id', 'group'], as_index=False) \\\n",
        "    .agg({'event_name' : 'count'}) \\\n",
        "    .rename(columns=({'event_name' : 'total_events'})) \\\n",
        "    .sort_values(by='group', ascending=True)"
      ]
    },
    {
      "cell_type": "code",
      "execution_count": 39,
      "metadata": {
        "colab": {
          "base_uri": "https://localhost:8080/"
        },
        "id": "BMtrgSD15vRd",
        "outputId": "856de671-26a2-4b96-a6b5-8f579b2e1a68"
      },
      "outputs": [
        {
          "output_type": "stream",
          "name": "stdout",
          "text": [
            "Уникальных пользователей теста: 5918\n",
            "Активных пользователей теста: 3244\n",
            "Доля активных пользователей теста: 55% \n",
            "\n",
            "== По всем пользователям теста ==\n",
            "Минимальное число событий на пользователя: 1       \n",
            "Максимальное число событий на пользователя: 28\n",
            "\n",
            "Среднее число событий на пользователя: 6       \n",
            "Медиана числа событий на пользователя: 6       \n",
            "Мода числа событий на пользователя: 6       \n",
            "\n",
            "== По пользователям в группе B ==\n",
            "Минимальное число событий на пользователя: 1       \n",
            "Максимальное число событий на пользователя: 28\n",
            "\n",
            "Среднее число событий на пользователя: 5       \n",
            "Медиана числа событий на пользователя: 5       \n",
            "Мода числа событий на пользователя: 4       \n",
            "\n"
          ]
        }
      ],
      "source": [
        "# выведем количество уникальных пользователей теста\n",
        "total_users = df_final['user_id'].nunique()\n",
        "print('Уникальных пользователей теста: {}'\n",
        "      .format(total_users))\n",
        "\n",
        "# выведем количество уникальных пользователей теста с событиями (активные)\n",
        "active_users = df_final.query('event_dt == event_dt')['user_id'].nunique()\n",
        "print('Активных пользователей теста: {}'\n",
        "      .format(active_users))\n",
        "\n",
        "# выведем долю активных пользователей теста\n",
        "active_users_ratio = active_users / total_users * 100\n",
        "print('Доля активных пользователей теста: {}% \\n'\n",
        "      .format(round(active_users_ratio)))\n",
        "\n",
        "\n",
        "# расчеты для всей тестовой выборки\n",
        "print('== По всем пользователям теста ==')\n",
        "print('Минимальное число событий на пользователя: {} \\\n",
        "      \\nМаксимальное число событий на пользователя: {}\\n'\\\n",
        "      .format(int(user_events['total_events'].min()),\n",
        "              int(user_events['total_events'].max())))\n",
        "\n",
        "print('Среднее число событий на пользователя: {} \\\n",
        "      \\nМедиана числа событий на пользователя: {} \\\n",
        "      \\nМода числа событий на пользователя: {} \\\n",
        "      \\n'\\\n",
        "      .format(int(user_events['total_events'].mean()),\n",
        "              int(user_events['total_events'].median()),\n",
        "              int(user_events['total_events'].mode())))\n",
        "\n",
        "\n",
        "# расчеты для пользователей в группе B\n",
        "print('== По пользователям в группе B ==')\n",
        "user_events_b = user_events.query('group == \"B\"')\n",
        "\n",
        "print('Минимальное число событий на пользователя: {} \\\n",
        "      \\nМаксимальное число событий на пользователя: {}\\n'\\\n",
        "      .format(int(user_events_b['total_events'].min()),\n",
        "              int(user_events_b['total_events'].max())))\n",
        "\n",
        "print('Среднее число событий на пользователя: {} \\\n",
        "      \\nМедиана числа событий на пользователя: {} \\\n",
        "      \\nМода числа событий на пользователя: {} \\\n",
        "      \\n'\\\n",
        "      .format(int(user_events_b['total_events'].mean()),\n",
        "              int(user_events_b['total_events'].median()),\n",
        "              int(user_events_b['total_events'].mode())))"
      ]
    },
    {
      "cell_type": "code",
      "execution_count": 40,
      "metadata": {
        "colab": {
          "base_uri": "https://localhost:8080/",
          "height": 408
        },
        "id": "cVw9jxdm_DIk",
        "outputId": "7f82c3ee-3217-4a19-9ac8-7c5872e6d6bb"
      },
      "outputs": [
        {
          "output_type": "display_data",
          "data": {
            "text/plain": [
              "<Figure size 864x432 with 1 Axes>"
            ],
            "image/png": "[encoded data removed]"
          },
          "metadata": {
            "image/png": {
              "width": 740,
              "height": 391
            },
            "needs_background": "light"
          }
        }
      ],
      "source": [
        "# визуализация гистограммы числа событий на одного пользователя\n",
        "plt.figure(figsize=(12,6))\n",
        "ax = sns.histplot(data=user_events, x='total_events',\\\n",
        "                  hue='group', palette='Set2')\n",
        "plt.title('Распределение количества событий на одного активного пользователя в группах', fontsize=16)\n",
        "plt.xlabel('Количество событий', fontsize=12)\n",
        "plt.ylabel('Количество пользователей', fontsize=12)\n",
        "plt.show()"
      ]
    },
    {
      "cell_type": "code",
      "execution_count": 41,
      "metadata": {
        "colab": {
          "base_uri": "https://localhost:8080/",
          "height": 517
        },
        "id": "L5B9hOFq-rU4",
        "outputId": "39452817-c5b7-4221-83a7-02616812a6c8"
      },
      "outputs": [
        {
          "output_type": "display_data",
          "data": {
            "text/plain": [
              "<Figure size 864x576 with 1 Axes>"
            ],
            "image/png": "[encoded data removed]"
          },
          "metadata": {
            "image/png": {
              "width": 719,
              "height": 500
            },
            "needs_background": "light"
          }
        }
      ],
      "source": [
        "# визуализация диаграммы размаха числа событий по каждой группе\n",
        "plt.figure(figsize=(12,8))\n",
        "sns.boxplot(data=user_events, x='group', y='total_events', palette='Set2_r')\n",
        "plt.title('Сравнение количества событий активных пользователей в группах', fontsize=16);\n",
        "plt.xlabel('Группа', fontsize=12)\n",
        "plt.ylabel('Количество событий', fontsize=12)\n",
        "plt.show()"
      ]
    },
    {
      "cell_type": "markdown",
      "metadata": {
        "id": "y06zWc6O4ewN"
      },
      "source": [
        "Распределение по обеим группам ожидаемо смещено вправо. \n",
        "\n",
        "Мода, медиана и среднее количество событий у пользователей группы `B` негативно отличаются от контрольной группы.\n",
        "\n",
        "В группе `B` значительно больше событий вне основного диапазона – выбросов.\n",
        "\n"
      ]
    },
    {
      "cell_type": "markdown",
      "metadata": {
        "id": "jia8K8As6yXr"
      },
      "source": [
        "### Распределение событий по дням"
      ]
    },
    {
      "cell_type": "code",
      "execution_count": 42,
      "metadata": {
        "colab": {
          "base_uri": "https://localhost:8080/",
          "height": 517
        },
        "id": "h3R5aN0663qO",
        "outputId": "a2aaf697-238c-4ad2-9fce-efe09fed4dbf"
      },
      "outputs": [
        {
          "output_type": "display_data",
          "data": {
            "text/plain": [
              "<Figure size 1152x576 with 1 Axes>"
            ],
            "image/png": "[encoded data removed]"
          },
          "metadata": {
            "image/png": {
              "width": 949,
              "height": 500
            },
            "needs_background": "light"
          }
        }
      ],
      "source": [
        "# визуализация гистограммы числа событий по дням и тестовым группам\n",
        "plt.figure(figsize=(16,8))\n",
        "ax = sns.histplot(data=df_final, x='event_dt',\\\n",
        "                  hue='group', palette='Set2')\n",
        "plt.title('Распределение событий в группах по дням теста', fontsize=16)\n",
        "plt.xlabel('Дата', fontsize=12)\n",
        "plt.ylabel('Количество событий', fontsize=12)\n",
        "plt.show()"
      ]
    },
    {
      "cell_type": "markdown",
      "metadata": {
        "id": "DE3m7qH7EYZT"
      },
      "source": [
        "Интересно, что в первые 2 дня теста пользователи группы B совершили больше событий.\n",
        "\n",
        "Спустя 1 неделю теста количество событий в группе `А` резко возрастает, тогда как в группе `B` остается почти на том же уровне. \n",
        "\n",
        "Маркетинговых мероприятий в это время по календарю не проводилось. Возможно, настройки теста были изменены случайно или специально, в выборочную совокупность стало поступать больше пользователей тестовой группы.\n",
        "\n",
        "Выделяется рост трафика с 14.12.2020.\n",
        "\n",
        "Соответственно, имеет место быть невалидность результатов теста на 3 и 4 неделях тестирования. Похоже, что корректные результаты теста можно увидеть только в первые несколько дней теста.\n"
      ]
    },
    {
      "cell_type": "markdown",
      "metadata": {
        "id": "E6iUqeeiKnfA"
      },
      "source": [
        "### Конверсия в воронке"
      ]
    },
    {
      "cell_type": "markdown",
      "metadata": {
        "id": "hhWMo7qfKujW"
      },
      "source": [
        "Рассмотрим, как меняется конверсия воронки в выборках на разных этапах."
      ]
    },
    {
      "cell_type": "markdown",
      "metadata": {
        "id": "TcUZimFRLETF"
      },
      "source": [
        "Посмотрим, какие события есть в логах, как часто они встречаются. \n",
        "\n",
        "Отсортируем события по частоте:"
      ]
    },
    {
      "cell_type": "code",
      "execution_count": 43,
      "metadata": {
        "colab": {
          "base_uri": "https://localhost:8080/",
          "height": 175
        },
        "id": "NcaUgYefFYnR",
        "outputId": "5bb1f9d5-9870-45b3-87c4-22f1d435ff3c"
      },
      "outputs": [
        {
          "output_type": "execute_result",
          "data": {
            "text/plain": [
              "     event_name  total_events\n",
              "0         login          9901\n",
              "1  product_page          6116\n",
              "2  product_cart          2886\n",
              "3      purchase          2939"
            ],
            "text/html": [
              "\n",
              "  <div id=\"df-b43a13f4-3250-489d-bfdb-4f05de893d6c\">\n",
              "    <div class=\"colab-df-container\">\n",
              "      <div>\n",
              "<style scoped>\n",
              "    .dataframe tbody tr th:only-of-type {\n",
              "        vertical-align: middle;\n",
              "    }\n",
              "\n",
              "    .dataframe tbody tr th {\n",
              "        vertical-align: top;\n",
              "    }\n",
              "\n",
              "    .dataframe thead th {\n",
              "        text-align: right;\n",
              "    }\n",
              "</style>\n",
              "<table border=\"1\" class=\"dataframe\">\n",
              "  <thead>\n",
              "    <tr style=\"text-align: right;\">\n",
              "      <th></th>\n",
              "      <th>event_name</th>\n",
              "      <th>total_events</th>\n",
              "    </tr>\n",
              "  </thead>\n",
              "  <tbody>\n",
              "    <tr>\n",
              "      <th>0</th>\n",
              "      <td>login</td>\n",
              "      <td>9901</td>\n",
              "    </tr>\n",
              "    <tr>\n",
              "      <th>1</th>\n",
              "      <td>product_page</td>\n",
              "      <td>6116</td>\n",
              "    </tr>\n",
              "    <tr>\n",
              "      <th>2</th>\n",
              "      <td>product_cart</td>\n",
              "      <td>2886</td>\n",
              "    </tr>\n",
              "    <tr>\n",
              "      <th>3</th>\n",
              "      <td>purchase</td>\n",
              "      <td>2939</td>\n",
              "    </tr>\n",
              "  </tbody>\n",
              "</table>\n",
              "</div>\n",
              "      <button class=\"colab-df-convert\" onclick=\"convertToInteractive('df-b43a13f4-3250-489d-bfdb-4f05de893d6c')\"\n",
              "              title=\"Convert this dataframe to an interactive table.\"\n",
              "              style=\"display:none;\">\n",
              "        \n",
              "  <svg xmlns=\"http://www.w3.org/2000/svg\" height=\"24px\"viewBox=\"0 0 24 24\"\n",
              "       width=\"24px\">\n",
              "    <path d=\"M0 0h24v24H0V0z\" fill=\"none\"/>\n",
              "    <path d=\"M18.56 5.44l.94 2.06.94-2.06 2.06-.94-2.06-.94-.94-2.06-.94 2.06-2.06.94zm-11 1L8.5 8.5l.94-2.06 2.06-.94-2.06-.94L8.5 2.5l-.94 2.06-2.06.94zm10 10l.94 2.06.94-2.06 2.06-.94-2.06-.94-.94-2.06-.94 2.06-2.06.94z\"/><path d=\"M17.41 7.96l-1.37-1.37c-.4-.4-.92-.59-1.43-.59-.52 0-1.04.2-1.43.59L10.3 9.45l-7.72 7.72c-.78.78-.78 2.05 0 2.83L4 21.41c.39.39.9.59 1.41.59.51 0 1.02-.2 1.41-.59l7.78-7.78 2.81-2.81c.8-.78.8-2.07 0-2.86zM5.41 20L4 18.59l7.72-7.72 1.47 1.35L5.41 20z\"/>\n",
              "  </svg>\n",
              "      </button>\n",
              "      \n",
              "  <style>\n",
              "    .colab-df-container {\n",
              "      display:flex;\n",
              "      flex-wrap:wrap;\n",
              "      gap: 12px;\n",
              "    }\n",
              "\n",
              "    .colab-df-convert {\n",
              "      background-color: #E8F0FE;\n",
              "      border: none;\n",
              "      border-radius: 50%;\n",
              "      cursor: pointer;\n",
              "      display: none;\n",
              "      fill: #1967D2;\n",
              "      height: 32px;\n",
              "      padding: 0 0 0 0;\n",
              "      width: 32px;\n",
              "    }\n",
              "\n",
              "    .colab-df-convert:hover {\n",
              "      background-color: #E2EBFA;\n",
              "      box-shadow: 0px 1px 2px rgba(60, 64, 67, 0.3), 0px 1px 3px 1px rgba(60, 64, 67, 0.15);\n",
              "      fill: #174EA6;\n",
              "    }\n",
              "\n",
              "    [theme=dark] .colab-df-convert {\n",
              "      background-color: #3B4455;\n",
              "      fill: #D2E3FC;\n",
              "    }\n",
              "\n",
              "    [theme=dark] .colab-df-convert:hover {\n",
              "      background-color: #434B5C;\n",
              "      box-shadow: 0px 1px 3px 1px rgba(0, 0, 0, 0.15);\n",
              "      filter: drop-shadow(0px 1px 2px rgba(0, 0, 0, 0.3));\n",
              "      fill: #FFFFFF;\n",
              "    }\n",
              "  </style>\n",
              "\n",
              "      <script>\n",
              "        const buttonEl =\n",
              "          document.querySelector('#df-b43a13f4-3250-489d-bfdb-4f05de893d6c button.colab-df-convert');\n",
              "        buttonEl.style.display =\n",
              "          google.colab.kernel.accessAllowed ? 'block' : 'none';\n",
              "\n",
              "        async function convertToInteractive(key) {\n",
              "          const element = document.querySelector('#df-b43a13f4-3250-489d-bfdb-4f05de893d6c');\n",
              "          const dataTable =\n",
              "            await google.colab.kernel.invokeFunction('convertToInteractive',\n",
              "                                                     [key], {});\n",
              "          if (!dataTable) return;\n",
              "\n",
              "          const docLinkHtml = 'Like what you see? Visit the ' +\n",
              "            '<a target=\"_blank\" href=https://colab.research.google.com/notebooks/data_table.ipynb>data table notebook</a>'\n",
              "            + ' to learn more about interactive tables.';\n",
              "          element.innerHTML = '';\n",
              "          dataTable['output_type'] = 'display_data';\n",
              "          await google.colab.output.renderOutput(dataTable, element);\n",
              "          const docLink = document.createElement('div');\n",
              "          docLink.innerHTML = docLinkHtml;\n",
              "          element.appendChild(docLink);\n",
              "        }\n",
              "      </script>\n",
              "    </div>\n",
              "  </div>\n",
              "  "
            ]
          },
          "metadata": {},
          "execution_count": 43
        }
      ],
      "source": [
        "# группировка по событиям с сортировкой по частоте\n",
        "events_count = df_final\\\n",
        "              .groupby(['event_name']) \\\n",
        "              .agg({'event_dt' : 'count'}) \\\n",
        "              .rename(columns=({'event_dt' : 'total_events'})) \\\n",
        "              .sort_values(by='total_events', ascending=False) \\\n",
        "              .reindex(['login', 'product_page', 'product_cart', 'purchase']) \\\n",
        "              .reset_index()\n",
        "              \n",
        "events_count"
      ]
    },
    {
      "cell_type": "markdown",
      "metadata": {
        "id": "9Njv9c9BLq5f"
      },
      "source": [
        "Видим, что число событий Покупка больше, чем число Просмотров корзины. \n",
        "\n",
        "Это не ошибка, если в нашей базе покупкой считается каждый отдельный продукт, а не вся корзина сразу. Значит, в части покупательских корзин было по несколько товаров (комбо?)."
      ]
    },
    {
      "cell_type": "markdown",
      "metadata": {
        "id": "p-sQMPwLO_AB"
      },
      "source": [
        "Посчитаем, сколько пользователей совершали каждое из этих событий. \n",
        "\n",
        "Отсортируем события по числу пользователей. \n",
        "Посчитаем долю пользователей, которые хоть раз совершали событие."
      ]
    },
    {
      "cell_type": "code",
      "execution_count": 44,
      "metadata": {
        "colab": {
          "base_uri": "https://localhost:8080/",
          "height": 175
        },
        "id": "s49g6dtALNO8",
        "outputId": "d7eb16b5-a081-45c4-963c-e1ec83bdaf35"
      },
      "outputs": [
        {
          "output_type": "execute_result",
          "data": {
            "text/plain": [
              "     event_name  total_users  percent_initial  percent_previous  percent_total\n",
              "0         login         3244           100.00            100.00          54.82\n",
              "1  product_page         2030            62.58             62.58          34.30\n",
              "2  product_cart          953            29.38             46.95          16.10\n",
              "3      purchase          999            30.80            104.83          16.88"
            ],
            "text/html": [
              "\n",
              "  <div id=\"df-d2b57d7d-126f-4cf1-b225-bc519e8ebf24\">\n",
              "    <div class=\"colab-df-container\">\n",
              "      <div>\n",
              "<style scoped>\n",
              "    .dataframe tbody tr th:only-of-type {\n",
              "        vertical-align: middle;\n",
              "    }\n",
              "\n",
              "    .dataframe tbody tr th {\n",
              "        vertical-align: top;\n",
              "    }\n",
              "\n",
              "    .dataframe thead th {\n",
              "        text-align: right;\n",
              "    }\n",
              "</style>\n",
              "<table border=\"1\" class=\"dataframe\">\n",
              "  <thead>\n",
              "    <tr style=\"text-align: right;\">\n",
              "      <th></th>\n",
              "      <th>event_name</th>\n",
              "      <th>total_users</th>\n",
              "      <th>percent_initial</th>\n",
              "      <th>percent_previous</th>\n",
              "      <th>percent_total</th>\n",
              "    </tr>\n",
              "  </thead>\n",
              "  <tbody>\n",
              "    <tr>\n",
              "      <th>0</th>\n",
              "      <td>login</td>\n",
              "      <td>3244</td>\n",
              "      <td>100.00</td>\n",
              "      <td>100.00</td>\n",
              "      <td>54.82</td>\n",
              "    </tr>\n",
              "    <tr>\n",
              "      <th>1</th>\n",
              "      <td>product_page</td>\n",
              "      <td>2030</td>\n",
              "      <td>62.58</td>\n",
              "      <td>62.58</td>\n",
              "      <td>34.30</td>\n",
              "    </tr>\n",
              "    <tr>\n",
              "      <th>2</th>\n",
              "      <td>product_cart</td>\n",
              "      <td>953</td>\n",
              "      <td>29.38</td>\n",
              "      <td>46.95</td>\n",
              "      <td>16.10</td>\n",
              "    </tr>\n",
              "    <tr>\n",
              "      <th>3</th>\n",
              "      <td>purchase</td>\n",
              "      <td>999</td>\n",
              "      <td>30.80</td>\n",
              "      <td>104.83</td>\n",
              "      <td>16.88</td>\n",
              "    </tr>\n",
              "  </tbody>\n",
              "</table>\n",
              "</div>\n",
              "      <button class=\"colab-df-convert\" onclick=\"convertToInteractive('df-d2b57d7d-126f-4cf1-b225-bc519e8ebf24')\"\n",
              "              title=\"Convert this dataframe to an interactive table.\"\n",
              "              style=\"display:none;\">\n",
              "        \n",
              "  <svg xmlns=\"http://www.w3.org/2000/svg\" height=\"24px\"viewBox=\"0 0 24 24\"\n",
              "       width=\"24px\">\n",
              "    <path d=\"M0 0h24v24H0V0z\" fill=\"none\"/>\n",
              "    <path d=\"M18.56 5.44l.94 2.06.94-2.06 2.06-.94-2.06-.94-.94-2.06-.94 2.06-2.06.94zm-11 1L8.5 8.5l.94-2.06 2.06-.94-2.06-.94L8.5 2.5l-.94 2.06-2.06.94zm10 10l.94 2.06.94-2.06 2.06-.94-2.06-.94-.94-2.06-.94 2.06-2.06.94z\"/><path d=\"M17.41 7.96l-1.37-1.37c-.4-.4-.92-.59-1.43-.59-.52 0-1.04.2-1.43.59L10.3 9.45l-7.72 7.72c-.78.78-.78 2.05 0 2.83L4 21.41c.39.39.9.59 1.41.59.51 0 1.02-.2 1.41-.59l7.78-7.78 2.81-2.81c.8-.78.8-2.07 0-2.86zM5.41 20L4 18.59l7.72-7.72 1.47 1.35L5.41 20z\"/>\n",
              "  </svg>\n",
              "      </button>\n",
              "      \n",
              "  <style>\n",
              "    .colab-df-container {\n",
              "      display:flex;\n",
              "      flex-wrap:wrap;\n",
              "      gap: 12px;\n",
              "    }\n",
              "\n",
              "    .colab-df-convert {\n",
              "      background-color: #E8F0FE;\n",
              "      border: none;\n",
              "      border-radius: 50%;\n",
              "      cursor: pointer;\n",
              "      display: none;\n",
              "      fill: #1967D2;\n",
              "      height: 32px;\n",
              "      padding: 0 0 0 0;\n",
              "      width: 32px;\n",
              "    }\n",
              "\n",
              "    .colab-df-convert:hover {\n",
              "      background-color: #E2EBFA;\n",
              "      box-shadow: 0px 1px 2px rgba(60, 64, 67, 0.3), 0px 1px 3px 1px rgba(60, 64, 67, 0.15);\n",
              "      fill: #174EA6;\n",
              "    }\n",
              "\n",
              "    [theme=dark] .colab-df-convert {\n",
              "      background-color: #3B4455;\n",
              "      fill: #D2E3FC;\n",
              "    }\n",
              "\n",
              "    [theme=dark] .colab-df-convert:hover {\n",
              "      background-color: #434B5C;\n",
              "      box-shadow: 0px 1px 3px 1px rgba(0, 0, 0, 0.15);\n",
              "      filter: drop-shadow(0px 1px 2px rgba(0, 0, 0, 0.3));\n",
              "      fill: #FFFFFF;\n",
              "    }\n",
              "  </style>\n",
              "\n",
              "      <script>\n",
              "        const buttonEl =\n",
              "          document.querySelector('#df-d2b57d7d-126f-4cf1-b225-bc519e8ebf24 button.colab-df-convert');\n",
              "        buttonEl.style.display =\n",
              "          google.colab.kernel.accessAllowed ? 'block' : 'none';\n",
              "\n",
              "        async function convertToInteractive(key) {\n",
              "          const element = document.querySelector('#df-d2b57d7d-126f-4cf1-b225-bc519e8ebf24');\n",
              "          const dataTable =\n",
              "            await google.colab.kernel.invokeFunction('convertToInteractive',\n",
              "                                                     [key], {});\n",
              "          if (!dataTable) return;\n",
              "\n",
              "          const docLinkHtml = 'Like what you see? Visit the ' +\n",
              "            '<a target=\"_blank\" href=https://colab.research.google.com/notebooks/data_table.ipynb>data table notebook</a>'\n",
              "            + ' to learn more about interactive tables.';\n",
              "          element.innerHTML = '';\n",
              "          dataTable['output_type'] = 'display_data';\n",
              "          await google.colab.output.renderOutput(dataTable, element);\n",
              "          const docLink = document.createElement('div');\n",
              "          docLink.innerHTML = docLinkHtml;\n",
              "          element.appendChild(docLink);\n",
              "        }\n",
              "      </script>\n",
              "    </div>\n",
              "  </div>\n",
              "  "
            ]
          },
          "metadata": {},
          "execution_count": 44
        }
      ],
      "source": [
        "# сгруппируем данные по событиям и количеству пользователей с сортировкой\n",
        "events_by_users = df_final \\\n",
        "    .groupby(['event_name']) \\\n",
        "    .agg({'user_id' : 'nunique'}) \\\n",
        "    .rename(columns=({'user_id' : 'total_users'})) \\\n",
        "    .sort_values(by='total_users', ascending=False) \\\n",
        "    .reindex(['login', 'product_page', 'product_cart', 'purchase']) \\\n",
        "    .reset_index()\n",
        "\n",
        "# добавим столбцы с процентными соотношениями шагов воронки\n",
        "events_by_users['percent_initial'] = events_by_users['total_users'] \\\n",
        "    .apply(lambda x: (x/events_by_users['total_users'][0]*100))\n",
        "\n",
        "events_by_users['percent_previous'] = (events_by_users['total_users'] \\\n",
        "                                            / events_by_users['total_users'].shift() * 100)\n",
        "events_by_users['percent_previous'][0]=100\n",
        "events_by_users['percent_previous']=events_by_users['percent_previous']\n",
        "\n",
        "events_by_users['percent_total'] = events_by_users['total_users'] \\\n",
        "    .apply(lambda x: (x/total_users*100))\n",
        "\n",
        "events_by_users"
      ]
    },
    {
      "cell_type": "markdown",
      "metadata": {
        "id": "vbBKR9jZPqsL"
      },
      "source": [
        "Изучим воронки событий в разрезе групп:"
      ]
    },
    {
      "cell_type": "code",
      "execution_count": 45,
      "metadata": {
        "id": "i4o_DpgoT3ou"
      },
      "outputs": [],
      "source": [
        "# группировка по событиям и группам\n",
        "df_events = df_final \\\n",
        "    .groupby(['event_name', 'group']) \\\n",
        "    .agg({'user_id' : 'nunique'}) \\\n",
        "    .rename(columns=({'user_id' : 'total_users'})) \\\n",
        "    .sort_values(by='total_users', ascending=False) \\\n",
        "    .reset_index()\n",
        "\n",
        "# фильтр по группам и сортировка событий\n",
        "events_A = df_events.query('group == \"A\"').reindex([0,1,4,3])\n",
        "events_B = df_events.query('group == \"B\"').reindex([2,5,7,6])"
      ]
    },
    {
      "cell_type": "code",
      "execution_count": 46,
      "metadata": {
        "colab": {
          "base_uri": "https://localhost:8080/",
          "height": 467
        },
        "id": "Q8pniNv1Wv1S",
        "outputId": "cc5aaf0c-046f-43be-d997-d286409021cf"
      },
      "outputs": [
        {
          "output_type": "display_data",
          "data": {
            "text/html": [
              "<html>\n",
              "<head><meta charset=\"utf-8\" /></head>\n",
              "<body>\n",
              "    <div>            <script src=\"https://cdnjs.cloudflare.com/ajax/libs/mathjax/2.7.5/MathJax.js?config=TeX-AMS-MML_SVG\"></script><script type=\"text/javascript\">if (window.MathJax) {MathJax.Hub.Config({SVG: {font: \"STIX-Web\"}});}</script>                <script type=\"text/javascript\">window.PlotlyConfig = {MathJaxConfig: 'local'};</script>\n",
              "        <script src=\"https://cdn.plot.ly/plotly-2.8.3.min.js\"></script>                <div id=\"79fb57de-f1e1-4fd2-a9a3-12d6a3922592\" class=\"plotly-graph-div\" style=\"height:450px; width:1200px;\"></div>            <script type=\"text/javascript\">                                    window.PLOTLYENV=window.PLOTLYENV || {};                                    if (document.getElementById(\"79fb57de-f1e1-4fd2-a9a3-12d6a3922592\")) {                    Plotly.newPlot(                        \"79fb57de-f1e1-4fd2-a9a3-12d6a3922592\",                        [{\"marker\":{\"color\":\"lightblue\"},\"textinfo\":\"value+percent previous+percent total\",\"textposition\":\"inside\",\"x\":[2422,1571,728,773],\"y\":[\"login\",\"product_page\",\"product_cart\",\"purchase\"],\"type\":\"funnel\",\"xaxis\":\"x\",\"yaxis\":\"y\"},{\"marker\":{\"color\":\"coral\"},\"orientation\":\"h\",\"textinfo\":\"value+percent previous+percent total\",\"textposition\":\"inside\",\"x\":[822,459,225,226],\"y\":[\"login\",\"product_page\",\"product_cart\",\"purchase\"],\"type\":\"funnel\",\"xaxis\":\"x2\",\"yaxis\":\"y2\"}],                        {\"template\":{\"data\":{\"bar\":[{\"error_x\":{\"color\":\"#2a3f5f\"},\"error_y\":{\"color\":\"#2a3f5f\"},\"marker\":{\"line\":{\"color\":\"#E5ECF6\",\"width\":0.5},\"pattern\":{\"fillmode\":\"overlay\",\"size\":10,\"solidity\":0.2}},\"type\":\"bar\"}],\"barpolar\":[{\"marker\":{\"line\":{\"color\":\"#E5ECF6\",\"width\":0.5},\"pattern\":{\"fillmode\":\"overlay\",\"size\":10,\"solidity\":0.2}},\"type\":\"barpolar\"}],\"carpet\":[{\"aaxis\":{\"endlinecolor\":\"#2a3f5f\",\"gridcolor\":\"white\",\"linecolor\":\"white\",\"minorgridcolor\":\"white\",\"startlinecolor\":\"#2a3f5f\"},\"baxis\":{\"endlinecolor\":\"#2a3f5f\",\"gridcolor\":\"white\",\"linecolor\":\"white\",\"minorgridcolor\":\"white\",\"startlinecolor\":\"#2a3f5f\"},\"type\":\"carpet\"}],\"choropleth\":[{\"colorbar\":{\"outlinewidth\":0,\"ticks\":\"\"},\"type\":\"choropleth\"}],\"contour\":[{\"colorbar\":{\"outlinewidth\":0,\"ticks\":\"\"},\"colorscale\":[[0.0,\"#0d0887\"],[0.1111111111111111,\"#46039f\"],[0.2222222222222222,\"#7201a8\"],[0.3333333333333333,\"#9c179e\"],[0.4444444444444444,\"#bd3786\"],[0.5555555555555556,\"#d8576b\"],[0.6666666666666666,\"#ed7953\"],[0.7777777777777778,\"#fb9f3a\"],[0.8888888888888888,\"#fdca26\"],[1.0,\"#f0f921\"]],\"type\":\"contour\"}],\"contourcarpet\":[{\"colorbar\":{\"outlinewidth\":0,\"ticks\":\"\"},\"type\":\"contourcarpet\"}],\"heatmap\":[{\"colorbar\":{\"outlinewidth\":0,\"ticks\":\"\"},\"colorscale\":[[0.0,\"#0d0887\"],[0.1111111111111111,\"#46039f\"],[0.2222222222222222,\"#7201a8\"],[0.3333333333333333,\"#9c179e\"],[0.4444444444444444,\"#bd3786\"],[0.5555555555555556,\"#d8576b\"],[0.6666666666666666,\"#ed7953\"],[0.7777777777777778,\"#fb9f3a\"],[0.8888888888888888,\"#fdca26\"],[1.0,\"#f0f921\"]],\"type\":\"heatmap\"}],\"heatmapgl\":[{\"colorbar\":{\"outlinewidth\":0,\"ticks\":\"\"},\"colorscale\":[[0.0,\"#0d0887\"],[0.1111111111111111,\"#46039f\"],[0.2222222222222222,\"#7201a8\"],[0.3333333333333333,\"#9c179e\"],[0.4444444444444444,\"#bd3786\"],[0.5555555555555556,\"#d8576b\"],[0.6666666666666666,\"#ed7953\"],[0.7777777777777778,\"#fb9f3a\"],[0.8888888888888888,\"#fdca26\"],[1.0,\"#f0f921\"]],\"type\":\"heatmapgl\"}],\"histogram\":[{\"marker\":{\"pattern\":{\"fillmode\":\"overlay\",\"size\":10,\"solidity\":0.2}},\"type\":\"histogram\"}],\"histogram2d\":[{\"colorbar\":{\"outlinewidth\":0,\"ticks\":\"\"},\"colorscale\":[[0.0,\"#0d0887\"],[0.1111111111111111,\"#46039f\"],[0.2222222222222222,\"#7201a8\"],[0.3333333333333333,\"#9c179e\"],[0.4444444444444444,\"#bd3786\"],[0.5555555555555556,\"#d8576b\"],[0.6666666666666666,\"#ed7953\"],[0.7777777777777778,\"#fb9f3a\"],[0.8888888888888888,\"#fdca26\"],[1.0,\"#f0f921\"]],\"type\":\"histogram2d\"}],\"histogram2dcontour\":[{\"colorbar\":{\"outlinewidth\":0,\"ticks\":\"\"},\"colorscale\":[[0.0,\"#0d0887\"],[0.1111111111111111,\"#46039f\"],[0.2222222222222222,\"#7201a8\"],[0.3333333333333333,\"#9c179e\"],[0.4444444444444444,\"#bd3786\"],[0.5555555555555556,\"#d8576b\"],[0.6666666666666666,\"#ed7953\"],[0.7777777777777778,\"#fb9f3a\"],[0.8888888888888888,\"#fdca26\"],[1.0,\"#f0f921\"]],\"type\":\"histogram2dcontour\"}],\"mesh3d\":[{\"colorbar\":{\"outlinewidth\":0,\"ticks\":\"\"},\"type\":\"mesh3d\"}],\"parcoords\":[{\"line\":{\"colorbar\":{\"outlinewidth\":0,\"ticks\":\"\"}},\"type\":\"parcoords\"}],\"pie\":[{\"automargin\":true,\"type\":\"pie\"}],\"scatter\":[{\"marker\":{\"colorbar\":{\"outlinewidth\":0,\"ticks\":\"\"}},\"type\":\"scatter\"}],\"scatter3d\":[{\"line\":{\"colorbar\":{\"outlinewidth\":0,\"ticks\":\"\"}},\"marker\":{\"colorbar\":{\"outlinewidth\":0,\"ticks\":\"\"}},\"type\":\"scatter3d\"}],\"scattercarpet\":[{\"marker\":{\"colorbar\":{\"outlinewidth\":0,\"ticks\":\"\"}},\"type\":\"scattercarpet\"}],\"scattergeo\":[{\"marker\":{\"colorbar\":{\"outlinewidth\":0,\"ticks\":\"\"}},\"type\":\"scattergeo\"}],\"scattergl\":[{\"marker\":{\"colorbar\":{\"outlinewidth\":0,\"ticks\":\"\"}},\"type\":\"scattergl\"}],\"scattermapbox\":[{\"marker\":{\"colorbar\":{\"outlinewidth\":0,\"ticks\":\"\"}},\"type\":\"scattermapbox\"}],\"scatterpolar\":[{\"marker\":{\"colorbar\":{\"outlinewidth\":0,\"ticks\":\"\"}},\"type\":\"scatterpolar\"}],\"scatterpolargl\":[{\"marker\":{\"colorbar\":{\"outlinewidth\":0,\"ticks\":\"\"}},\"type\":\"scatterpolargl\"}],\"scatterternary\":[{\"marker\":{\"colorbar\":{\"outlinewidth\":0,\"ticks\":\"\"}},\"type\":\"scatterternary\"}],\"surface\":[{\"colorbar\":{\"outlinewidth\":0,\"ticks\":\"\"},\"colorscale\":[[0.0,\"#0d0887\"],[0.1111111111111111,\"#46039f\"],[0.2222222222222222,\"#7201a8\"],[0.3333333333333333,\"#9c179e\"],[0.4444444444444444,\"#bd3786\"],[0.5555555555555556,\"#d8576b\"],[0.6666666666666666,\"#ed7953\"],[0.7777777777777778,\"#fb9f3a\"],[0.8888888888888888,\"#fdca26\"],[1.0,\"#f0f921\"]],\"type\":\"surface\"}],\"table\":[{\"cells\":{\"fill\":{\"color\":\"#EBF0F8\"},\"line\":{\"color\":\"white\"}},\"header\":{\"fill\":{\"color\":\"#C8D4E3\"},\"line\":{\"color\":\"white\"}},\"type\":\"table\"}]},\"layout\":{\"annotationdefaults\":{\"arrowcolor\":\"#2a3f5f\",\"arrowhead\":0,\"arrowwidth\":1},\"autotypenumbers\":\"strict\",\"coloraxis\":{\"colorbar\":{\"outlinewidth\":0,\"ticks\":\"\"}},\"colorscale\":{\"diverging\":[[0,\"#8e0152\"],[0.1,\"#c51b7d\"],[0.2,\"#de77ae\"],[0.3,\"#f1b6da\"],[0.4,\"#fde0ef\"],[0.5,\"#f7f7f7\"],[0.6,\"#e6f5d0\"],[0.7,\"#b8e186\"],[0.8,\"#7fbc41\"],[0.9,\"#4d9221\"],[1,\"#276419\"]],\"sequential\":[[0.0,\"#0d0887\"],[0.1111111111111111,\"#46039f\"],[0.2222222222222222,\"#7201a8\"],[0.3333333333333333,\"#9c179e\"],[0.4444444444444444,\"#bd3786\"],[0.5555555555555556,\"#d8576b\"],[0.6666666666666666,\"#ed7953\"],[0.7777777777777778,\"#fb9f3a\"],[0.8888888888888888,\"#fdca26\"],[1.0,\"#f0f921\"]],\"sequentialminus\":[[0.0,\"#0d0887\"],[0.1111111111111111,\"#46039f\"],[0.2222222222222222,\"#7201a8\"],[0.3333333333333333,\"#9c179e\"],[0.4444444444444444,\"#bd3786\"],[0.5555555555555556,\"#d8576b\"],[0.6666666666666666,\"#ed7953\"],[0.7777777777777778,\"#fb9f3a\"],[0.8888888888888888,\"#fdca26\"],[1.0,\"#f0f921\"]]},\"colorway\":[\"#636efa\",\"#EF553B\",\"#00cc96\",\"#ab63fa\",\"#FFA15A\",\"#19d3f3\",\"#FF6692\",\"#B6E880\",\"#FF97FF\",\"#FECB52\"],\"font\":{\"color\":\"#2a3f5f\"},\"geo\":{\"bgcolor\":\"white\",\"lakecolor\":\"white\",\"landcolor\":\"#E5ECF6\",\"showlakes\":true,\"showland\":true,\"subunitcolor\":\"white\"},\"hoverlabel\":{\"align\":\"left\"},\"hovermode\":\"closest\",\"mapbox\":{\"style\":\"light\"},\"paper_bgcolor\":\"white\",\"plot_bgcolor\":\"#E5ECF6\",\"polar\":{\"angularaxis\":{\"gridcolor\":\"white\",\"linecolor\":\"white\",\"ticks\":\"\"},\"bgcolor\":\"#E5ECF6\",\"radialaxis\":{\"gridcolor\":\"white\",\"linecolor\":\"white\",\"ticks\":\"\"}},\"scene\":{\"xaxis\":{\"backgroundcolor\":\"#E5ECF6\",\"gridcolor\":\"white\",\"gridwidth\":2,\"linecolor\":\"white\",\"showbackground\":true,\"ticks\":\"\",\"zerolinecolor\":\"white\"},\"yaxis\":{\"backgroundcolor\":\"#E5ECF6\",\"gridcolor\":\"white\",\"gridwidth\":2,\"linecolor\":\"white\",\"showbackground\":true,\"ticks\":\"\",\"zerolinecolor\":\"white\"},\"zaxis\":{\"backgroundcolor\":\"#E5ECF6\",\"gridcolor\":\"white\",\"gridwidth\":2,\"linecolor\":\"white\",\"showbackground\":true,\"ticks\":\"\",\"zerolinecolor\":\"white\"}},\"shapedefaults\":{\"line\":{\"color\":\"#2a3f5f\"}},\"ternary\":{\"aaxis\":{\"gridcolor\":\"white\",\"linecolor\":\"white\",\"ticks\":\"\"},\"baxis\":{\"gridcolor\":\"white\",\"linecolor\":\"white\",\"ticks\":\"\"},\"bgcolor\":\"#E5ECF6\",\"caxis\":{\"gridcolor\":\"white\",\"linecolor\":\"white\",\"ticks\":\"\"}},\"title\":{\"x\":0.05},\"xaxis\":{\"automargin\":true,\"gridcolor\":\"white\",\"linecolor\":\"white\",\"ticks\":\"\",\"title\":{\"standoff\":15},\"zerolinecolor\":\"white\",\"zerolinewidth\":2},\"yaxis\":{\"automargin\":true,\"gridcolor\":\"white\",\"linecolor\":\"white\",\"ticks\":\"\",\"title\":{\"standoff\":15},\"zerolinecolor\":\"white\",\"zerolinewidth\":2}}},\"xaxis\":{\"anchor\":\"y\",\"domain\":[0.0,0.45]},\"yaxis\":{\"anchor\":\"x\",\"domain\":[0.0,1.0]},\"xaxis2\":{\"anchor\":\"y2\",\"domain\":[0.55,1.0]},\"yaxis2\":{\"anchor\":\"x2\",\"domain\":[0.0,1.0]},\"annotations\":[{\"font\":{\"size\":16},\"showarrow\":false,\"text\":\"Group A\",\"x\":0.225,\"xanchor\":\"center\",\"xref\":\"paper\",\"y\":1.0,\"yanchor\":\"bottom\",\"yref\":\"paper\"},{\"font\":{\"size\":16},\"showarrow\":false,\"text\":\"Group B\",\"x\":0.775,\"xanchor\":\"center\",\"xref\":\"paper\",\"y\":1.0,\"yanchor\":\"bottom\",\"yref\":\"paper\"}],\"autosize\":false,\"width\":1200,\"height\":450,\"title\":{\"text\":\"\\u0412\\u043e\\u0440\\u043e\\u043d\\u043a\\u0438 \\u0441\\u043e\\u0431\\u044b\\u0442\\u0438\\u0439 \\u0442\\u0435\\u0441\\u0442\\u0430 \\u043f\\u043e \\u0433\\u0440\\u0443\\u043f\\u043f\\u0430\\u043c\"},\"showlegend\":false},                        {\"responsive\": true}                    ).then(function(){\n",
              "                            \n",
              "var gd = document.getElementById('79fb57de-f1e1-4fd2-a9a3-12d6a3922592');\n",
              "var x = new MutationObserver(function (mutations, observer) {{\n",
              "        var display = window.getComputedStyle(gd).display;\n",
              "        if (!display || display === 'none') {{\n",
              "            console.log([gd, 'removed!']);\n",
              "            Plotly.purge(gd);\n",
              "            observer.disconnect();\n",
              "        }}\n",
              "}});\n",
              "\n",
              "// Listen for the removal of the full notebook cells\n",
              "var notebookContainer = gd.closest('#notebook-container');\n",
              "if (notebookContainer) {{\n",
              "    x.observe(notebookContainer, {childList: true});\n",
              "}}\n",
              "\n",
              "// Listen for the clearing of the current output cell\n",
              "var outputEl = gd.closest('.output');\n",
              "if (outputEl) {{\n",
              "    x.observe(outputEl, {childList: true});\n",
              "}}\n",
              "\n",
              "                        })                };                            </script>        </div>\n",
              "</body>\n",
              "</html>"
            ]
          },
          "metadata": {}
        }
      ],
      "source": [
        "# визуализация воронки событий по группам\n",
        "fig = go.Figure()\n",
        "fig = make_subplots(rows=1, cols=2, subplot_titles=(\"Group A\",\"Group B\"))\n",
        "\n",
        "fig.add_trace(go.Funnel(\n",
        "    x=events_A['total_users'],\n",
        "    y=events_A['event_name'],\n",
        "    textinfo = 'value+percent previous+percent total',\n",
        "    textposition = 'inside',\n",
        "    marker = {'color': 'lightblue'}),\n",
        "    row=1, col=1)\n",
        "\n",
        "\n",
        "fig.add_trace(go.Funnel(\n",
        "    orientation = \"h\",\n",
        "    x=events_B['total_users'],\n",
        "    y=events_B['event_name'],\n",
        "    textinfo = 'value+percent previous+percent total',\n",
        "    textposition = 'inside',\n",
        "    marker = {'color': 'coral'}),\n",
        "    row=1, col=2)\n",
        "\n",
        "fig.update_layout(\n",
        "    autosize=False,\n",
        "    width=1200,\n",
        "    height=450,\n",
        "    title='Воронки событий теста по группам',\n",
        "    showlegend=False)\n",
        "\n",
        "fig.show()"
      ]
    },
    {
      "cell_type": "markdown",
      "source": [
        "![Screenshot 2022-10-20 at 13.26.07.png](data:image/png;base64,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)"
      ],
      "metadata": {
        "id": "2FYqeTaO7dBO"
      }
    },
    {
      "cell_type": "markdown",
      "metadata": {
        "id": "ExIrcSHTTBqx"
      },
      "source": [
        "Что видим:\n",
        "- конверсия в `login` в тестовой группе лучше контрольной\n",
        "- конверсия в просмотр продуктов в тестовой группе снижается, вместо того, чтобы вырасти на 10% (как предполагалось по ТЗ)\n",
        "- конверсия в корзину тоже не растет, одинакова в обеих группах\n",
        "- конверсия в целевое действие Покупка в тестовой группе оказалась даже ниже, чем в контрольной\n",
        "\n",
        "Если бы тест был проведен корректно, можно было бы сделать вывод, что улучшенная рекомендательная система не работает.\n",
        "\n",
        "Но так как тест был проведен некорректно, то выводы о качестве изменений делать нельзя.\n",
        "\n",
        "**Дополнение**: количество событий Покупка может быть больше, если:\n",
        "* в системе считается Покупкой не корзина полностью, а каждый товар в ней отдельно. Таким образом, если в корзине несколько товаров, то и число покупок будет больше посещений корзины\n",
        "* или если покупкой является товар по подписке, списывания могут происходить автоматически, без участия корзины"
      ]
    },
    {
      "cell_type": "markdown",
      "metadata": {
        "id": "yqV01Lfcozis"
      },
      "source": [
        "### Вывод по шагу\n",
        "\n",
        "Доля активных пользователей теста: 55%. Доля неактивных пользователей в тестовой группе в несколько раз выше, чем в контрольной.\n",
        "\n",
        "**Это может указывать на то, что новая версия рекомендательной системы на самом верхнем этапе воронки – вовлечение пользователя в пользование продуктом – работает хуже.**\n",
        "\n",
        "В целом, тестирование было проведено некорректно, результаты не могут ответить на вопрос о качестве изменений рекомендалельной системы.\n",
        "\n"
      ]
    },
    {
      "cell_type": "markdown",
      "metadata": {
        "id": "RFQ0pkMHousN"
      },
      "source": [
        "## Результаты A/B-тестирования"
      ]
    },
    {
      "cell_type": "markdown",
      "metadata": {
        "id": "vVtthJMtpXwK"
      },
      "source": [
        "### Изучение результатов эксперимента"
      ]
    },
    {
      "cell_type": "code",
      "execution_count": 47,
      "metadata": {
        "colab": {
          "base_uri": "https://localhost:8080/",
          "height": 143
        },
        "id": "Sy87bQTgPu-8",
        "outputId": "9b37faeb-19ca-4db7-b225-b06e67c04dfe"
      },
      "outputs": [
        {
          "output_type": "execute_result",
          "data": {
            "text/plain": [
              "       group_users\n",
              "group             \n",
              "A             3385\n",
              "B             2533"
            ],
            "text/html": [
              "\n",
              "  <div id=\"df-5ced2693-7a26-42f2-a547-0ddc320e8e82\">\n",
              "    <div class=\"colab-df-container\">\n",
              "      <div>\n",
              "<style scoped>\n",
              "    .dataframe tbody tr th:only-of-type {\n",
              "        vertical-align: middle;\n",
              "    }\n",
              "\n",
              "    .dataframe tbody tr th {\n",
              "        vertical-align: top;\n",
              "    }\n",
              "\n",
              "    .dataframe thead th {\n",
              "        text-align: right;\n",
              "    }\n",
              "</style>\n",
              "<table border=\"1\" class=\"dataframe\">\n",
              "  <thead>\n",
              "    <tr style=\"text-align: right;\">\n",
              "      <th></th>\n",
              "      <th>group_users</th>\n",
              "    </tr>\n",
              "    <tr>\n",
              "      <th>group</th>\n",
              "      <th></th>\n",
              "    </tr>\n",
              "  </thead>\n",
              "  <tbody>\n",
              "    <tr>\n",
              "      <th>A</th>\n",
              "      <td>3385</td>\n",
              "    </tr>\n",
              "    <tr>\n",
              "      <th>B</th>\n",
              "      <td>2533</td>\n",
              "    </tr>\n",
              "  </tbody>\n",
              "</table>\n",
              "</div>\n",
              "      <button class=\"colab-df-convert\" onclick=\"convertToInteractive('df-5ced2693-7a26-42f2-a547-0ddc320e8e82')\"\n",
              "              title=\"Convert this dataframe to an interactive table.\"\n",
              "              style=\"display:none;\">\n",
              "        \n",
              "  <svg xmlns=\"http://www.w3.org/2000/svg\" height=\"24px\"viewBox=\"0 0 24 24\"\n",
              "       width=\"24px\">\n",
              "    <path d=\"M0 0h24v24H0V0z\" fill=\"none\"/>\n",
              "    <path d=\"M18.56 5.44l.94 2.06.94-2.06 2.06-.94-2.06-.94-.94-2.06-.94 2.06-2.06.94zm-11 1L8.5 8.5l.94-2.06 2.06-.94-2.06-.94L8.5 2.5l-.94 2.06-2.06.94zm10 10l.94 2.06.94-2.06 2.06-.94-2.06-.94-.94-2.06-.94 2.06-2.06.94z\"/><path d=\"M17.41 7.96l-1.37-1.37c-.4-.4-.92-.59-1.43-.59-.52 0-1.04.2-1.43.59L10.3 9.45l-7.72 7.72c-.78.78-.78 2.05 0 2.83L4 21.41c.39.39.9.59 1.41.59.51 0 1.02-.2 1.41-.59l7.78-7.78 2.81-2.81c.8-.78.8-2.07 0-2.86zM5.41 20L4 18.59l7.72-7.72 1.47 1.35L5.41 20z\"/>\n",
              "  </svg>\n",
              "      </button>\n",
              "      \n",
              "  <style>\n",
              "    .colab-df-container {\n",
              "      display:flex;\n",
              "      flex-wrap:wrap;\n",
              "      gap: 12px;\n",
              "    }\n",
              "\n",
              "    .colab-df-convert {\n",
              "      background-color: #E8F0FE;\n",
              "      border: none;\n",
              "      border-radius: 50%;\n",
              "      cursor: pointer;\n",
              "      display: none;\n",
              "      fill: #1967D2;\n",
              "      height: 32px;\n",
              "      padding: 0 0 0 0;\n",
              "      width: 32px;\n",
              "    }\n",
              "\n",
              "    .colab-df-convert:hover {\n",
              "      background-color: #E2EBFA;\n",
              "      box-shadow: 0px 1px 2px rgba(60, 64, 67, 0.3), 0px 1px 3px 1px rgba(60, 64, 67, 0.15);\n",
              "      fill: #174EA6;\n",
              "    }\n",
              "\n",
              "    [theme=dark] .colab-df-convert {\n",
              "      background-color: #3B4455;\n",
              "      fill: #D2E3FC;\n",
              "    }\n",
              "\n",
              "    [theme=dark] .colab-df-convert:hover {\n",
              "      background-color: #434B5C;\n",
              "      box-shadow: 0px 1px 3px 1px rgba(0, 0, 0, 0.15);\n",
              "      filter: drop-shadow(0px 1px 2px rgba(0, 0, 0, 0.3));\n",
              "      fill: #FFFFFF;\n",
              "    }\n",
              "  </style>\n",
              "\n",
              "      <script>\n",
              "        const buttonEl =\n",
              "          document.querySelector('#df-5ced2693-7a26-42f2-a547-0ddc320e8e82 button.colab-df-convert');\n",
              "        buttonEl.style.display =\n",
              "          google.colab.kernel.accessAllowed ? 'block' : 'none';\n",
              "\n",
              "        async function convertToInteractive(key) {\n",
              "          const element = document.querySelector('#df-5ced2693-7a26-42f2-a547-0ddc320e8e82');\n",
              "          const dataTable =\n",
              "            await google.colab.kernel.invokeFunction('convertToInteractive',\n",
              "                                                     [key], {});\n",
              "          if (!dataTable) return;\n",
              "\n",
              "          const docLinkHtml = 'Like what you see? Visit the ' +\n",
              "            '<a target=\"_blank\" href=https://colab.research.google.com/notebooks/data_table.ipynb>data table notebook</a>'\n",
              "            + ' to learn more about interactive tables.';\n",
              "          element.innerHTML = '';\n",
              "          dataTable['output_type'] = 'display_data';\n",
              "          await google.colab.output.renderOutput(dataTable, element);\n",
              "          const docLink = document.createElement('div');\n",
              "          docLink.innerHTML = docLinkHtml;\n",
              "          element.appendChild(docLink);\n",
              "        }\n",
              "      </script>\n",
              "    </div>\n",
              "  </div>\n",
              "  "
            ]
          },
          "metadata": {},
          "execution_count": 47
        }
      ],
      "source": [
        "# группировка пользователей по тестовым группам\n",
        "test_users = df_final.groupby('group')\\\n",
        "                    .agg({'user_id':'nunique'})\\\n",
        "                    .rename(columns=({'user_id' : 'group_users'}))\n",
        "\n",
        "test_users"
      ]
    },
    {
      "cell_type": "code",
      "execution_count": 48,
      "metadata": {
        "colab": {
          "base_uri": "https://localhost:8080/",
          "height": 408
        },
        "id": "oBatwcSipfCM",
        "outputId": "9067a6d7-efa6-4a96-c3a2-d8a24927f74f"
      },
      "outputs": [
        {
          "output_type": "display_data",
          "data": {
            "text/plain": [
              "<Figure size 720x432 with 1 Axes>"
            ],
            "image/png": "[encoded data removed]"
          },
          "metadata": {
            "image/png": {
              "width": 621,
              "height": 391
            },
            "needs_background": "light"
          }
        }
      ],
      "source": [
        "# визуализация диаграммы распределения пользователей по группам\n",
        "fig = plt.figure(figsize=(10,6))\n",
        "ax = sns.barplot(data=test_users,\\\n",
        "                  x=test_users.index, y='group_users', palette='Set2_r')\n",
        "plt.title('Распределение активных пользователей теста по группам', fontsize=16)\n",
        "plt.xlabel('Группа', fontsize=12)\n",
        "plt.ylabel('Количество пользователей', fontsize=12)\n",
        "plt.show()"
      ]
    },
    {
      "cell_type": "markdown",
      "metadata": {
        "id": "m7bq2m1Pr4Ws"
      },
      "source": [
        "Мало того, что в выборке осталось очень мало активных пользователей, при этом распределение получилось неравномерное."
      ]
    },
    {
      "cell_type": "markdown",
      "metadata": {
        "id": "Kb6ZXGSWteBt"
      },
      "source": [
        "Посчитаем число пользователей, совершивших каждое из событий в каждой из контрольных групп. \n",
        "\n",
        "Добавим в таблицу долю пользователей, совершивших это событие в данной группе:"
      ]
    },
    {
      "cell_type": "code",
      "execution_count": 49,
      "metadata": {
        "id": "VQK2OjpHtc5V",
        "colab": {
          "base_uri": "https://localhost:8080/",
          "height": 300
        },
        "outputId": "8e235f35-04c0-4731-b911-f37c0f2eb6aa"
      },
      "outputs": [
        {
          "output_type": "execute_result",
          "data": {
            "text/plain": [
              "     event_name group  total_users  percent_of_group\n",
              "0         login     A         2422             71.55\n",
              "1  product_page     A         1571             46.41\n",
              "2      purchase     A          773             22.84\n",
              "3  product_cart     A          728             21.51\n",
              "4         login     B          822             32.45\n",
              "5  product_page     B          459             18.12\n",
              "6      purchase     B          226              8.92\n",
              "7  product_cart     B          225              8.88"
            ],
            "text/html": [
              "\n",
              "  <div id=\"df-4a6f2001-e116-4495-93fa-9f5a456c9062\">\n",
              "    <div class=\"colab-df-container\">\n",
              "      <div>\n",
              "<style scoped>\n",
              "    .dataframe tbody tr th:only-of-type {\n",
              "        vertical-align: middle;\n",
              "    }\n",
              "\n",
              "    .dataframe tbody tr th {\n",
              "        vertical-align: top;\n",
              "    }\n",
              "\n",
              "    .dataframe thead th {\n",
              "        text-align: right;\n",
              "    }\n",
              "</style>\n",
              "<table border=\"1\" class=\"dataframe\">\n",
              "  <thead>\n",
              "    <tr style=\"text-align: right;\">\n",
              "      <th></th>\n",
              "      <th>event_name</th>\n",
              "      <th>group</th>\n",
              "      <th>total_users</th>\n",
              "      <th>percent_of_group</th>\n",
              "    </tr>\n",
              "  </thead>\n",
              "  <tbody>\n",
              "    <tr>\n",
              "      <th>0</th>\n",
              "      <td>login</td>\n",
              "      <td>A</td>\n",
              "      <td>2422</td>\n",
              "      <td>71.55</td>\n",
              "    </tr>\n",
              "    <tr>\n",
              "      <th>1</th>\n",
              "      <td>product_page</td>\n",
              "      <td>A</td>\n",
              "      <td>1571</td>\n",
              "      <td>46.41</td>\n",
              "    </tr>\n",
              "    <tr>\n",
              "      <th>2</th>\n",
              "      <td>purchase</td>\n",
              "      <td>A</td>\n",
              "      <td>773</td>\n",
              "      <td>22.84</td>\n",
              "    </tr>\n",
              "    <tr>\n",
              "      <th>3</th>\n",
              "      <td>product_cart</td>\n",
              "      <td>A</td>\n",
              "      <td>728</td>\n",
              "      <td>21.51</td>\n",
              "    </tr>\n",
              "    <tr>\n",
              "      <th>4</th>\n",
              "      <td>login</td>\n",
              "      <td>B</td>\n",
              "      <td>822</td>\n",
              "      <td>32.45</td>\n",
              "    </tr>\n",
              "    <tr>\n",
              "      <th>5</th>\n",
              "      <td>product_page</td>\n",
              "      <td>B</td>\n",
              "      <td>459</td>\n",
              "      <td>18.12</td>\n",
              "    </tr>\n",
              "    <tr>\n",
              "      <th>6</th>\n",
              "      <td>purchase</td>\n",
              "      <td>B</td>\n",
              "      <td>226</td>\n",
              "      <td>8.92</td>\n",
              "    </tr>\n",
              "    <tr>\n",
              "      <th>7</th>\n",
              "      <td>product_cart</td>\n",
              "      <td>B</td>\n",
              "      <td>225</td>\n",
              "      <td>8.88</td>\n",
              "    </tr>\n",
              "  </tbody>\n",
              "</table>\n",
              "</div>\n",
              "      <button class=\"colab-df-convert\" onclick=\"convertToInteractive('df-4a6f2001-e116-4495-93fa-9f5a456c9062')\"\n",
              "              title=\"Convert this dataframe to an interactive table.\"\n",
              "              style=\"display:none;\">\n",
              "        \n",
              "  <svg xmlns=\"http://www.w3.org/2000/svg\" height=\"24px\"viewBox=\"0 0 24 24\"\n",
              "       width=\"24px\">\n",
              "    <path d=\"M0 0h24v24H0V0z\" fill=\"none\"/>\n",
              "    <path d=\"M18.56 5.44l.94 2.06.94-2.06 2.06-.94-2.06-.94-.94-2.06-.94 2.06-2.06.94zm-11 1L8.5 8.5l.94-2.06 2.06-.94-2.06-.94L8.5 2.5l-.94 2.06-2.06.94zm10 10l.94 2.06.94-2.06 2.06-.94-2.06-.94-.94-2.06-.94 2.06-2.06.94z\"/><path d=\"M17.41 7.96l-1.37-1.37c-.4-.4-.92-.59-1.43-.59-.52 0-1.04.2-1.43.59L10.3 9.45l-7.72 7.72c-.78.78-.78 2.05 0 2.83L4 21.41c.39.39.9.59 1.41.59.51 0 1.02-.2 1.41-.59l7.78-7.78 2.81-2.81c.8-.78.8-2.07 0-2.86zM5.41 20L4 18.59l7.72-7.72 1.47 1.35L5.41 20z\"/>\n",
              "  </svg>\n",
              "      </button>\n",
              "      \n",
              "  <style>\n",
              "    .colab-df-container {\n",
              "      display:flex;\n",
              "      flex-wrap:wrap;\n",
              "      gap: 12px;\n",
              "    }\n",
              "\n",
              "    .colab-df-convert {\n",
              "      background-color: #E8F0FE;\n",
              "      border: none;\n",
              "      border-radius: 50%;\n",
              "      cursor: pointer;\n",
              "      display: none;\n",
              "      fill: #1967D2;\n",
              "      height: 32px;\n",
              "      padding: 0 0 0 0;\n",
              "      width: 32px;\n",
              "    }\n",
              "\n",
              "    .colab-df-convert:hover {\n",
              "      background-color: #E2EBFA;\n",
              "      box-shadow: 0px 1px 2px rgba(60, 64, 67, 0.3), 0px 1px 3px 1px rgba(60, 64, 67, 0.15);\n",
              "      fill: #174EA6;\n",
              "    }\n",
              "\n",
              "    [theme=dark] .colab-df-convert {\n",
              "      background-color: #3B4455;\n",
              "      fill: #D2E3FC;\n",
              "    }\n",
              "\n",
              "    [theme=dark] .colab-df-convert:hover {\n",
              "      background-color: #434B5C;\n",
              "      box-shadow: 0px 1px 3px 1px rgba(0, 0, 0, 0.15);\n",
              "      filter: drop-shadow(0px 1px 2px rgba(0, 0, 0, 0.3));\n",
              "      fill: #FFFFFF;\n",
              "    }\n",
              "  </style>\n",
              "\n",
              "      <script>\n",
              "        const buttonEl =\n",
              "          document.querySelector('#df-4a6f2001-e116-4495-93fa-9f5a456c9062 button.colab-df-convert');\n",
              "        buttonEl.style.display =\n",
              "          google.colab.kernel.accessAllowed ? 'block' : 'none';\n",
              "\n",
              "        async function convertToInteractive(key) {\n",
              "          const element = document.querySelector('#df-4a6f2001-e116-4495-93fa-9f5a456c9062');\n",
              "          const dataTable =\n",
              "            await google.colab.kernel.invokeFunction('convertToInteractive',\n",
              "                                                     [key], {});\n",
              "          if (!dataTable) return;\n",
              "\n",
              "          const docLinkHtml = 'Like what you see? Visit the ' +\n",
              "            '<a target=\"_blank\" href=https://colab.research.google.com/notebooks/data_table.ipynb>data table notebook</a>'\n",
              "            + ' to learn more about interactive tables.';\n",
              "          element.innerHTML = '';\n",
              "          dataTable['output_type'] = 'display_data';\n",
              "          await google.colab.output.renderOutput(dataTable, element);\n",
              "          const docLink = document.createElement('div');\n",
              "          docLink.innerHTML = docLinkHtml;\n",
              "          element.appendChild(docLink);\n",
              "        }\n",
              "      </script>\n",
              "    </div>\n",
              "  </div>\n",
              "  "
            ]
          },
          "metadata": {},
          "execution_count": 49
        }
      ],
      "source": [
        "# объединим датасеты, добавив столбец с общим количеством в группе\n",
        "test_events = df_events.merge(test_users, how='inner', on='group').rename(columns={'user_id' : 'group_users'})\n",
        "\n",
        "# добавим столбец с долей от всех пользователей группы\n",
        "test_events['percent_of_group'] = (test_events['total_users'] / test_events['group_users']*100)\n",
        "\n",
        "# удалим столбец, он больше не нужен   \n",
        "test_events = test_events.drop(['group_users'], axis=1)\n",
        "test_events"
      ]
    },
    {
      "cell_type": "markdown",
      "metadata": {
        "id": "F0jw2ylXuqbk"
      },
      "source": [
        "Проверим, будет ли отличие между группами по совершенным событиям статистически достоверным.\n",
        "\n",
        "Обернем проверку в отдельную функцию: "
      ]
    },
    {
      "cell_type": "code",
      "execution_count": 50,
      "metadata": {
        "id": "1OV5TWbFsIWN"
      },
      "outputs": [],
      "source": [
        "# создадим список событий\n",
        "names = list(test_events['event_name'].unique())\n",
        "\n",
        "# зададим функцию для проверки гипотезы для двух групп\n",
        "def z_test(test_users, test_events, group_1, group_2):\n",
        "\n",
        "    \n",
        "    alpha = .05 # критический уровень статистической значимости\n",
        "\n",
        "    for event in names:\n",
        "        # рассчитываемое событие\n",
        "        successes = np.array([int(test_events.query('group == @group_1 \\\n",
        "                              & event_name == @event')['total_users']), \\\n",
        "                              int(test_events.query('group == @group_2 \\\n",
        "                              & event_name == @event')['total_users'])])\n",
        "\n",
        "        # все события\n",
        "        trials = np.array([test_users.loc[group_1, 'group_users'],\\\n",
        "                           test_users.loc[group_2, 'group_users']])\n",
        "\n",
        "        # пропорция успехов в первой группе\n",
        "        p1 = successes[0]/trials[0]\n",
        "\n",
        "        # пропорция успехов во второй группе\n",
        "        p2 = successes[1]/trials[1]\n",
        "\n",
        "        # пропорция успехов в комбинированном датасете\n",
        "        p_combined = (successes[0] + successes[1]) / (trials[0] + trials[1])\n",
        "\n",
        "        # разница пропорций в датасетах\n",
        "        difference = p1 - p2\n",
        "\n",
        "        # считаем статистику в ст.отклонениях стандартного нормального распределения\n",
        "        z_value = difference / mth.sqrt(p_combined * (1 - p_combined) \\\n",
        "                                        * (1/trials[0] + 1/trials[1]))\n",
        "\n",
        "        # задаем стандартное нормальное распределение (среднее 0, ст.отклонение 1)\n",
        "        distr = st.norm(0, 1)\n",
        "\n",
        "        p_value = (1 - distr.cdf(abs(z_value))) * 2\n",
        "\n",
        "        print('\\nГруппы: {} и {}\\\n",
        "        \\np-значение: {}'.format(group_1, group_2, p_value.round(2)))\n",
        "\n",
        "        if (p_value < alpha):\n",
        "            print('Событие: {}\\\n",
        "            \\nОтвергаем нулевую гипотезу. \\n---'\\\n",
        "                  .format(event))\n",
        "        else:\n",
        "            print('Событие: {} \\\n",
        "            \\nНе получилось отвергнуть нулевую гипотезу. \\n---'\\\n",
        "                  .format(event))"
      ]
    },
    {
      "cell_type": "markdown",
      "metadata": {
        "id": "34rlZP4-uxK-"
      },
      "source": [
        "Теперь сформулируем гипотезу и проверим контрольные группы."
      ]
    },
    {
      "cell_type": "markdown",
      "metadata": {
        "id": "4-4X7N7D-KTb"
      },
      "source": [
        "### Проверка гипотезы о равенстве долей в контрольной и тестовой группах"
      ]
    },
    {
      "cell_type": "markdown",
      "metadata": {
        "id": "jbzIN8UW01Oe"
      },
      "source": [
        "**Гипотеза:** доли пользователей с событиями в контрольной и тестовой группах равны"
      ]
    },
    {
      "cell_type": "markdown",
      "metadata": {
        "id": "8ZEzx3RgYFCp"
      },
      "source": [
        "- $H_0$: доли пользователей в группах A и B равны\n",
        "- $H_1$: доли пользователей в группах A и B отличаются"
      ]
    },
    {
      "cell_type": "code",
      "execution_count": 51,
      "metadata": {
        "colab": {
          "base_uri": "https://localhost:8080/"
        },
        "id": "tS0pEmTAATsW",
        "outputId": "9477c8c1-8624-4f6d-d91a-94b64bde283d"
      },
      "outputs": [
        {
          "output_type": "stream",
          "name": "stdout",
          "text": [
            "\n",
            "Группы: A и B        \n",
            "p-значение: 0.0\n",
            "Событие: login            \n",
            "Отвергаем нулевую гипотезу. \n",
            "---\n",
            "\n",
            "Группы: A и B        \n",
            "p-значение: 0.0\n",
            "Событие: product_page            \n",
            "Отвергаем нулевую гипотезу. \n",
            "---\n",
            "\n",
            "Группы: A и B        \n",
            "p-значение: 0.0\n",
            "Событие: purchase            \n",
            "Отвергаем нулевую гипотезу. \n",
            "---\n",
            "\n",
            "Группы: A и B        \n",
            "p-значение: 0.0\n",
            "Событие: product_cart            \n",
            "Отвергаем нулевую гипотезу. \n",
            "---\n"
          ]
        }
      ],
      "source": [
        "# запускаем функцию для расчета\n",
        "z_test(test_users, test_events, 'A', 'B')"
      ]
    },
    {
      "cell_type": "markdown",
      "metadata": {
        "id": "18-fBTT_w6vM"
      },
      "source": [
        "При расчете с критическим уровнем статистической значимости в 5% у контрольных групп `A` и `B` гипотеза для каждого шага событий не подтвердилась, доли групп разные."
      ]
    },
    {
      "cell_type": "markdown",
      "metadata": {
        "id": "NBN8bqpnz-2U"
      },
      "source": [
        "### Вывод по шагу\n",
        "\n",
        "\n",
        "Результаты эксперимента для контрольных и тестовой групп по целевым действиям не имеют статистической значимости. "
      ]
    },
    {
      "cell_type": "markdown",
      "metadata": {
        "id": "2h1rJHi7z0yu"
      },
      "source": [
        "## Общее заключение"
      ]
    },
    {
      "cell_type": "markdown",
      "metadata": {
        "id": "iJ8Y3Ptiz7EO"
      },
      "source": [
        "\n",
        "**В исследовании были выявлены ошибки проведения теста**:\n",
        "* Было выявлено, что параллельно было запущено 2 разных теста. Наличие пересечений пользователей в двух тестах говорит о том, часть пользователей попала под оба теста одновременно. Их пришлось удалить из выборки\n",
        "* Общее число пользователей в тесте не соответствует ТЗ и составило на 1% меньше запланированных 6000. При этом всего 3244 пользователя из выборки целевого теста совершали события\n",
        "* Доля активных пользователей теста: 55%. Количество активных пользователей в двух группах целевого теста распределено неравномерно, контрольная группа значительно больше тестовой. Вероятно, был сбой в настройках теста, вызвавший расширение контрольной выборки\n",
        "* Процент пользователей из региона `EU` не соответствует ТЗ и составляет всего 12% вместо необходимых 15%\n",
        "* Время проведения пересекается с маркетинговыми мероприятиями в тех же регионах, что повлияло на количество событий у пользователей, которые участвовали в акциях\n",
        "* По факту сбор данных завершился раньше, чем запланировано по ТЗ\n",
        "\n",
        "**Обнаруженные инсайты:**\n",
        "Доля неактивных пользователей в тестовой группе в несколько раз выше, чем в контрольной – целых 68% пользователей вообще не совершили никаких действий (в контрольной группе – лишь 28%). Это может указывать на то, что новая версия рекомендательной системы на самом верхнем этапе воронки – вовлечение пользователя в пользование продуктом – работает хуже.\n",
        "\n",
        "\n",
        "**Тест следует признать статистически незначимым, сделать достоверные выводы о качестве изменения продукта нельзя.**\n",
        "\n"
      ]
    },
    {
      "cell_type": "markdown",
      "metadata": {
        "id": "9YMVJquvIBi0"
      },
      "source": [
        "**Рекомендации по коррекции теста для повторного проведения:**\n",
        "\n",
        "* Запуск теста возможен только в даты, не пересекающиеся с периодом проведения маркетинговых акций или других тестов. По маркетинговым акциям возможен вариант, когда обе тестовые группы участвовуют в акциях, чтобы изменения конверсии можно было посчитать значимыми для обеих групп\n",
        "* Общее число пользователей в тесте *очистки данных должно* соответствовать ТЗ – для этого рекомендуется либбо увеличить длительность проведения теста, либо включать увеличить объем выборочной совокупности. Это также повлияет на рекомендуемый процент пользователей по нужному региону\n",
        "* Контролировать успешность проведения теста в период его проведения, отслеживая количество активных пользователей до набора рекомендуемого по ТЗ (6000)\n",
        "* Следить за наполнением выборки, чтобы распределение тестовой и контрольной группы приближалось к равномерному. Идеальное распределение: 50/50\n",
        "* Не завершать тест до накопления достаточного количества данных. Прерывание допустимо, если дата завершения пересекается с началом других активностей (маркетинговых, тестовых)\n",
        "* Не допускается изменение настроек теста во время его проведения"
      ]
    }
  ],
  "metadata": {
    "ExecuteTimeLog": [
      {
        "duration": 1450,
        "start_time": "2022-06-13T18:39:18.083Z"
      },
      {
        "duration": 1049,
        "start_time": "2022-06-13T18:39:19.536Z"
      },
      {
        "duration": 23,
        "start_time": "2022-06-13T18:39:20.587Z"
      },
      {
        "duration": 9,
        "start_time": "2022-06-13T18:39:20.612Z"
      },
      {
        "duration": 5,
        "start_time": "2022-06-13T18:39:20.622Z"
      },
      {
        "duration": 6,
        "start_time": "2022-06-13T18:39:20.628Z"
      },
      {
        "duration": 73,
        "start_time": "2022-06-13T18:39:20.635Z"
      },
      {
        "duration": 263,
        "start_time": "2022-06-13T18:39:20.710Z"
      },
      {
        "duration": 409,
        "start_time": "2022-06-13T18:39:20.975Z"
      },
      {
        "duration": 29,
        "start_time": "2022-06-13T18:39:21.386Z"
      },
      {
        "duration": 43,
        "start_time": "2022-06-13T18:39:21.416Z"
      },
      {
        "duration": 39,
        "start_time": "2022-06-13T18:39:21.460Z"
      },
      {
        "duration": 10,
        "start_time": "2022-06-13T18:39:21.501Z"
      },
      {
        "duration": 19,
        "start_time": "2022-06-13T18:39:21.513Z"
      },
      {
        "duration": 38,
        "start_time": "2022-06-13T18:39:21.533Z"
      },
      {
        "duration": 36,
        "start_time": "2022-06-13T18:39:21.573Z"
      },
      {
        "duration": 3,
        "start_time": "2022-06-13T18:39:21.611Z"
      },
      {
        "duration": 96,
        "start_time": "2022-06-13T18:39:21.616Z"
      },
      {
        "duration": 51,
        "start_time": "2022-06-13T18:39:21.714Z"
      },
      {
        "duration": 65,
        "start_time": "2022-06-13T18:39:21.767Z"
      },
      {
        "duration": 13,
        "start_time": "2022-06-13T18:39:21.834Z"
      },
      {
        "duration": 4,
        "start_time": "2022-06-13T18:39:21.849Z"
      },
      {
        "duration": 10,
        "start_time": "2022-06-13T18:39:21.854Z"
      },
      {
        "duration": 232,
        "start_time": "2022-06-13T18:39:21.865Z"
      },
      {
        "duration": 28,
        "start_time": "2022-06-13T18:39:22.102Z"
      },
      {
        "duration": 106,
        "start_time": "2022-06-13T18:39:22.132Z"
      },
      {
        "duration": 19,
        "start_time": "2022-06-13T18:39:22.240Z"
      },
      {
        "duration": 28,
        "start_time": "2022-06-13T18:39:22.265Z"
      },
      {
        "duration": 29,
        "start_time": "2022-06-13T18:39:22.295Z"
      },
      {
        "duration": 8,
        "start_time": "2022-06-13T18:39:22.327Z"
      },
      {
        "duration": 33,
        "start_time": "2022-06-13T18:39:22.337Z"
      },
      {
        "duration": 4,
        "start_time": "2022-06-13T18:39:22.372Z"
      },
      {
        "duration": 15,
        "start_time": "2022-06-13T18:39:22.378Z"
      },
      {
        "duration": 379,
        "start_time": "2022-06-13T18:39:22.397Z"
      },
      {
        "duration": 21,
        "start_time": "2022-06-13T18:39:22.778Z"
      },
      {
        "duration": 42,
        "start_time": "2022-06-13T18:39:22.804Z"
      },
      {
        "duration": 500,
        "start_time": "2022-06-13T18:39:22.848Z"
      },
      {
        "duration": 226,
        "start_time": "2022-06-13T18:39:23.350Z"
      },
      {
        "duration": 586,
        "start_time": "2022-06-13T18:39:23.578Z"
      },
      {
        "duration": 17,
        "start_time": "2022-06-13T18:39:24.166Z"
      },
      {
        "duration": 29,
        "start_time": "2022-06-13T18:39:24.194Z"
      },
      {
        "duration": 25,
        "start_time": "2022-06-13T18:39:24.225Z"
      },
      {
        "duration": 66,
        "start_time": "2022-06-13T18:39:24.252Z"
      },
      {
        "duration": 15,
        "start_time": "2022-06-13T18:39:24.320Z"
      },
      {
        "duration": 196,
        "start_time": "2022-06-13T18:39:24.337Z"
      },
      {
        "duration": 8,
        "start_time": "2022-06-13T18:39:24.535Z"
      },
      {
        "duration": 12,
        "start_time": "2022-06-13T18:39:24.544Z"
      },
      {
        "duration": 46,
        "start_time": "2022-06-13T18:39:24.558Z"
      },
      {
        "duration": 57,
        "start_time": "2022-06-13T18:39:48.340Z"
      },
      {
        "duration": 55,
        "start_time": "2022-06-13T18:39:53.220Z"
      },
      {
        "duration": 64,
        "start_time": "2022-06-13T18:39:57.357Z"
      },
      {
        "duration": 49,
        "start_time": "2022-06-13T18:40:01.627Z"
      },
      {
        "duration": 230,
        "start_time": "2022-06-13T18:40:11.857Z"
      },
      {
        "duration": 310,
        "start_time": "2022-06-13T18:40:14.968Z"
      },
      {
        "duration": 228,
        "start_time": "2022-06-13T18:40:18.309Z"
      },
      {
        "duration": 28,
        "start_time": "2022-06-13T18:40:28.644Z"
      },
      {
        "duration": 35,
        "start_time": "2022-06-13T18:40:34.082Z"
      },
      {
        "duration": 28,
        "start_time": "2022-06-13T18:40:37.682Z"
      },
      {
        "duration": 1280,
        "start_time": "2022-06-14T09:41:03.883Z"
      },
      {
        "duration": 1231,
        "start_time": "2022-06-14T09:41:05.166Z"
      },
      {
        "duration": 22,
        "start_time": "2022-06-14T09:41:06.399Z"
      },
      {
        "duration": 72,
        "start_time": "2022-06-14T09:41:06.423Z"
      },
      {
        "duration": 29,
        "start_time": "2022-06-14T09:41:06.497Z"
      },
      {
        "duration": 63,
        "start_time": "2022-06-14T09:41:06.533Z"
      },
      {
        "duration": 121,
        "start_time": "2022-06-14T09:41:06.598Z"
      },
      {
        "duration": 326,
        "start_time": "2022-06-14T09:41:06.721Z"
      },
      {
        "duration": 617,
        "start_time": "2022-06-14T09:41:07.050Z"
      },
      {
        "duration": 23,
        "start_time": "2022-06-14T09:41:07.675Z"
      },
      {
        "duration": 73,
        "start_time": "2022-06-14T09:41:07.700Z"
      },
      {
        "duration": 25,
        "start_time": "2022-06-14T09:41:07.775Z"
      },
      {
        "duration": 30,
        "start_time": "2022-06-14T09:41:07.802Z"
      },
      {
        "duration": 58,
        "start_time": "2022-06-14T09:41:07.837Z"
      },
      {
        "duration": 49,
        "start_time": "2022-06-14T09:41:07.896Z"
      },
      {
        "duration": 13,
        "start_time": "2022-06-14T09:41:07.947Z"
      },
      {
        "duration": 22,
        "start_time": "2022-06-14T09:41:07.962Z"
      },
      {
        "duration": 118,
        "start_time": "2022-06-14T09:41:07.986Z"
      },
      {
        "duration": 88,
        "start_time": "2022-06-14T09:41:08.106Z"
      },
      {
        "duration": 62,
        "start_time": "2022-06-14T09:41:08.196Z"
      },
      {
        "duration": 23,
        "start_time": "2022-06-14T09:41:08.261Z"
      },
      {
        "duration": 4,
        "start_time": "2022-06-14T09:41:08.286Z"
      },
      {
        "duration": 12,
        "start_time": "2022-06-14T09:41:08.291Z"
      },
      {
        "duration": 286,
        "start_time": "2022-06-14T09:41:08.304Z"
      },
      {
        "duration": 45,
        "start_time": "2022-06-14T09:41:08.592Z"
      },
      {
        "duration": 111,
        "start_time": "2022-06-14T09:41:08.649Z"
      },
      {
        "duration": 18,
        "start_time": "2022-06-14T09:41:08.762Z"
      },
      {
        "duration": 11,
        "start_time": "2022-06-14T09:41:08.784Z"
      },
      {
        "duration": 7,
        "start_time": "2022-06-14T09:41:08.797Z"
      },
      {
        "duration": 26,
        "start_time": "2022-06-14T09:41:08.806Z"
      },
      {
        "duration": 31,
        "start_time": "2022-06-14T09:41:08.833Z"
      },
      {
        "duration": 18,
        "start_time": "2022-06-14T09:41:08.866Z"
      },
      {
        "duration": 8,
        "start_time": "2022-06-14T09:41:08.886Z"
      },
      {
        "duration": 476,
        "start_time": "2022-06-14T09:41:08.896Z"
      },
      {
        "duration": 26,
        "start_time": "2022-06-14T09:41:09.373Z"
      },
      {
        "duration": 27,
        "start_time": "2022-06-14T09:41:09.428Z"
      },
      {
        "duration": 668,
        "start_time": "2022-06-14T09:41:09.457Z"
      },
      {
        "duration": 290,
        "start_time": "2022-06-14T09:41:10.127Z"
      },
      {
        "duration": 688,
        "start_time": "2022-06-14T09:41:10.419Z"
      },
      {
        "duration": 23,
        "start_time": "2022-06-14T09:41:11.108Z"
      },
      {
        "duration": 29,
        "start_time": "2022-06-14T09:41:11.133Z"
      },
      {
        "duration": 39,
        "start_time": "2022-06-14T09:41:11.164Z"
      },
      {
        "duration": 132,
        "start_time": "2022-06-14T09:41:11.205Z"
      },
      {
        "duration": 24,
        "start_time": "2022-06-14T09:41:11.338Z"
      },
      {
        "duration": 249,
        "start_time": "2022-06-14T09:41:11.365Z"
      },
      {
        "duration": 9,
        "start_time": "2022-06-14T09:41:11.615Z"
      },
      {
        "duration": 81,
        "start_time": "2022-06-14T09:41:11.625Z"
      },
      {
        "duration": 36,
        "start_time": "2022-06-14T09:41:11.708Z"
      },
      {
        "duration": 47,
        "start_time": "2022-06-14T09:54:25.413Z"
      },
      {
        "duration": 1346,
        "start_time": "2022-06-14T09:54:36.864Z"
      },
      {
        "duration": 1316,
        "start_time": "2022-06-14T09:54:38.212Z"
      },
      {
        "duration": 19,
        "start_time": "2022-06-14T09:54:39.530Z"
      },
      {
        "duration": 25,
        "start_time": "2022-06-14T09:54:39.551Z"
      },
      {
        "duration": 7,
        "start_time": "2022-06-14T09:54:39.578Z"
      },
      {
        "duration": 9,
        "start_time": "2022-06-14T09:54:39.587Z"
      },
      {
        "duration": 70,
        "start_time": "2022-06-14T09:54:39.597Z"
      },
      {
        "duration": 324,
        "start_time": "2022-06-14T09:54:39.668Z"
      },
      {
        "duration": 497,
        "start_time": "2022-06-14T09:54:39.993Z"
      },
      {
        "duration": 38,
        "start_time": "2022-06-14T09:54:40.492Z"
      },
      {
        "duration": 51,
        "start_time": "2022-06-14T09:54:40.532Z"
      },
      {
        "duration": 25,
        "start_time": "2022-06-14T09:54:40.585Z"
      },
      {
        "duration": 10,
        "start_time": "2022-06-14T09:54:40.627Z"
      },
      {
        "duration": 25,
        "start_time": "2022-06-14T09:54:40.639Z"
      },
      {
        "duration": 41,
        "start_time": "2022-06-14T09:54:40.666Z"
      },
      {
        "duration": 25,
        "start_time": "2022-06-14T09:54:40.709Z"
      },
      {
        "duration": 5,
        "start_time": "2022-06-14T09:54:40.735Z"
      },
      {
        "duration": 119,
        "start_time": "2022-06-14T09:54:40.742Z"
      },
      {
        "duration": 67,
        "start_time": "2022-06-14T09:54:40.863Z"
      },
      {
        "duration": 43,
        "start_time": "2022-06-14T09:54:40.932Z"
      },
      {
        "duration": 17,
        "start_time": "2022-06-14T09:54:40.977Z"
      },
      {
        "duration": 4,
        "start_time": "2022-06-14T09:54:40.996Z"
      },
      {
        "duration": 10,
        "start_time": "2022-06-14T09:54:41.026Z"
      },
      {
        "duration": 238,
        "start_time": "2022-06-14T09:54:41.038Z"
      },
      {
        "duration": 33,
        "start_time": "2022-06-14T09:54:41.277Z"
      },
      {
        "duration": 252,
        "start_time": "2022-06-14T09:54:41.312Z"
      },
      {
        "duration": 160,
        "start_time": "2022-06-14T09:54:41.566Z"
      },
      {
        "duration": 7,
        "start_time": "2022-06-14T09:54:41.730Z"
      },
      {
        "duration": 17,
        "start_time": "2022-06-14T09:54:41.740Z"
      },
      {
        "duration": 10,
        "start_time": "2022-06-14T09:54:41.759Z"
      },
      {
        "duration": 32,
        "start_time": "2022-06-14T09:54:41.771Z"
      },
      {
        "duration": 4,
        "start_time": "2022-06-14T09:54:41.805Z"
      },
      {
        "duration": 16,
        "start_time": "2022-06-14T09:54:41.810Z"
      },
      {
        "duration": 378,
        "start_time": "2022-06-14T09:54:41.828Z"
      },
      {
        "duration": 21,
        "start_time": "2022-06-14T09:54:42.208Z"
      },
      {
        "duration": 21,
        "start_time": "2022-06-14T09:54:42.231Z"
      },
      {
        "duration": 542,
        "start_time": "2022-06-14T09:54:42.254Z"
      },
      {
        "duration": 271,
        "start_time": "2022-06-14T09:54:42.797Z"
      },
      {
        "duration": 626,
        "start_time": "2022-06-14T09:54:43.070Z"
      },
      {
        "duration": 13,
        "start_time": "2022-06-14T09:54:43.697Z"
      },
      {
        "duration": 33,
        "start_time": "2022-06-14T09:54:43.711Z"
      },
      {
        "duration": 18,
        "start_time": "2022-06-14T09:54:43.745Z"
      },
      {
        "duration": 35,
        "start_time": "2022-06-14T09:54:43.764Z"
      },
      {
        "duration": 32,
        "start_time": "2022-06-14T09:54:43.800Z"
      },
      {
        "duration": 206,
        "start_time": "2022-06-14T09:54:43.834Z"
      },
      {
        "duration": 9,
        "start_time": "2022-06-14T09:54:44.042Z"
      },
      {
        "duration": 25,
        "start_time": "2022-06-14T09:54:44.053Z"
      },
      {
        "duration": 35,
        "start_time": "2022-06-14T09:54:44.079Z"
      },
      {
        "duration": 173,
        "start_time": "2022-06-14T09:55:38.954Z"
      },
      {
        "duration": 116,
        "start_time": "2022-06-14T09:55:42.764Z"
      },
      {
        "duration": 104,
        "start_time": "2022-06-14T09:55:46.566Z"
      },
      {
        "duration": 148,
        "start_time": "2022-06-14T09:55:51.752Z"
      },
      {
        "duration": 105,
        "start_time": "2022-06-14T09:55:55.507Z"
      },
      {
        "duration": 16,
        "start_time": "2022-06-14T09:55:59.301Z"
      },
      {
        "duration": 8,
        "start_time": "2022-06-14T09:56:04.156Z"
      },
      {
        "duration": 211,
        "start_time": "2022-06-14T09:56:09.154Z"
      },
      {
        "duration": 138,
        "start_time": "2022-06-14T09:56:10.270Z"
      },
      {
        "duration": 8,
        "start_time": "2022-06-14T09:56:11.392Z"
      },
      {
        "duration": 193,
        "start_time": "2022-06-14T09:56:19.312Z"
      },
      {
        "duration": 137,
        "start_time": "2022-06-14T09:56:21.630Z"
      },
      {
        "duration": 11,
        "start_time": "2022-06-14T09:56:22.757Z"
      },
      {
        "duration": 6,
        "start_time": "2022-06-14T09:56:43.129Z"
      },
      {
        "duration": 5,
        "start_time": "2022-06-14T09:56:44.209Z"
      },
      {
        "duration": 27,
        "start_time": "2022-06-14T09:56:44.739Z"
      },
      {
        "duration": 4,
        "start_time": "2022-06-14T09:56:47.194Z"
      },
      {
        "duration": 8,
        "start_time": "2022-06-14T09:56:48.613Z"
      },
      {
        "duration": 59,
        "start_time": "2022-06-14T09:56:48.872Z"
      },
      {
        "duration": 19,
        "start_time": "2022-06-14T09:56:51.648Z"
      },
      {
        "duration": 20,
        "start_time": "2022-06-14T09:56:51.919Z"
      },
      {
        "duration": 416,
        "start_time": "2022-06-14T09:56:52.548Z"
      },
      {
        "duration": 249,
        "start_time": "2022-06-14T09:56:52.966Z"
      },
      {
        "duration": 640,
        "start_time": "2022-06-14T09:56:54.761Z"
      },
      {
        "duration": 13,
        "start_time": "2022-06-14T09:56:57.966Z"
      },
      {
        "duration": 23,
        "start_time": "2022-06-14T09:56:59.566Z"
      },
      {
        "duration": 21,
        "start_time": "2022-06-14T09:56:59.894Z"
      },
      {
        "duration": 29,
        "start_time": "2022-06-14T09:57:00.046Z"
      },
      {
        "duration": 15,
        "start_time": "2022-06-14T09:57:01.194Z"
      },
      {
        "duration": 214,
        "start_time": "2022-06-14T09:57:01.340Z"
      },
      {
        "duration": 119,
        "start_time": "2022-06-14T09:57:17.610Z"
      },
      {
        "duration": 119,
        "start_time": "2022-06-14T09:58:25.836Z"
      },
      {
        "duration": 19,
        "start_time": "2022-06-14T09:58:35.744Z"
      },
      {
        "duration": 9,
        "start_time": "2022-06-14T09:58:36.578Z"
      },
      {
        "duration": 18,
        "start_time": "2022-06-14T09:58:52.204Z"
      },
      {
        "duration": 156,
        "start_time": "2022-06-14T10:01:48.089Z"
      },
      {
        "duration": 14,
        "start_time": "2022-06-14T10:01:51.335Z"
      },
      {
        "duration": 12,
        "start_time": "2022-06-14T10:02:22.954Z"
      },
      {
        "duration": 42,
        "start_time": "2022-06-14T10:03:48.014Z"
      },
      {
        "duration": 9,
        "start_time": "2022-06-14T10:04:01.837Z"
      },
      {
        "duration": 20,
        "start_time": "2022-06-14T10:04:34.912Z"
      },
      {
        "duration": 13,
        "start_time": "2022-06-14T10:04:56.132Z"
      },
      {
        "duration": 13,
        "start_time": "2022-06-14T10:05:04.236Z"
      },
      {
        "duration": 8,
        "start_time": "2022-06-14T10:05:36.195Z"
      },
      {
        "duration": 5,
        "start_time": "2022-06-14T10:05:43.877Z"
      },
      {
        "duration": 5,
        "start_time": "2022-06-14T10:06:01.598Z"
      },
      {
        "duration": 8,
        "start_time": "2022-06-14T10:06:11.666Z"
      },
      {
        "duration": 10,
        "start_time": "2022-06-14T10:06:23.439Z"
      },
      {
        "duration": 9,
        "start_time": "2022-06-14T10:06:39.780Z"
      },
      {
        "duration": 11,
        "start_time": "2022-06-14T10:06:40.286Z"
      },
      {
        "duration": 21,
        "start_time": "2022-06-14T10:17:58.817Z"
      },
      {
        "duration": 19,
        "start_time": "2022-06-14T10:18:07.003Z"
      },
      {
        "duration": 15,
        "start_time": "2022-06-14T10:18:27.976Z"
      },
      {
        "duration": 11,
        "start_time": "2022-06-14T10:18:44.569Z"
      },
      {
        "duration": 24,
        "start_time": "2022-06-14T10:19:23.195Z"
      },
      {
        "duration": 20,
        "start_time": "2022-06-14T10:19:32.948Z"
      },
      {
        "duration": 20,
        "start_time": "2022-06-14T10:19:35.967Z"
      },
      {
        "duration": 7,
        "start_time": "2022-06-14T10:22:28.016Z"
      },
      {
        "duration": 6,
        "start_time": "2022-06-14T10:22:31.844Z"
      },
      {
        "duration": 27,
        "start_time": "2022-06-14T10:22:33.189Z"
      },
      {
        "duration": 6,
        "start_time": "2022-06-14T10:22:50.081Z"
      },
      {
        "duration": 21,
        "start_time": "2022-06-14T10:22:57.577Z"
      },
      {
        "duration": 4,
        "start_time": "2022-06-14T10:23:16.433Z"
      },
      {
        "duration": 6,
        "start_time": "2022-06-14T10:23:18.215Z"
      },
      {
        "duration": 55,
        "start_time": "2022-06-14T10:23:19.069Z"
      },
      {
        "duration": 31,
        "start_time": "2022-06-14T10:24:26.422Z"
      },
      {
        "duration": 32,
        "start_time": "2022-06-14T10:24:37.354Z"
      },
      {
        "duration": 70,
        "start_time": "2022-06-14T10:25:02.128Z"
      },
      {
        "duration": 30,
        "start_time": "2022-06-14T10:25:04.987Z"
      },
      {
        "duration": 28,
        "start_time": "2022-06-14T10:25:18.129Z"
      },
      {
        "duration": 32,
        "start_time": "2022-06-14T10:25:43.071Z"
      },
      {
        "duration": 27,
        "start_time": "2022-06-14T10:25:53.141Z"
      },
      {
        "duration": 39,
        "start_time": "2022-06-14T10:26:04.387Z"
      },
      {
        "duration": 29,
        "start_time": "2022-06-14T10:26:10.471Z"
      },
      {
        "duration": 4,
        "start_time": "2022-06-14T10:26:38.336Z"
      },
      {
        "duration": 24,
        "start_time": "2022-06-14T10:26:54.218Z"
      },
      {
        "duration": 24,
        "start_time": "2022-06-14T10:26:55.159Z"
      },
      {
        "duration": 19,
        "start_time": "2022-06-14T10:27:42.305Z"
      },
      {
        "duration": 30,
        "start_time": "2022-06-14T10:28:13.834Z"
      },
      {
        "duration": 26,
        "start_time": "2022-06-14T10:28:25.835Z"
      },
      {
        "duration": 33,
        "start_time": "2022-06-14T10:28:29.974Z"
      },
      {
        "duration": 42,
        "start_time": "2022-06-14T10:28:48.787Z"
      },
      {
        "duration": 40,
        "start_time": "2022-06-14T10:28:55.877Z"
      },
      {
        "duration": 33,
        "start_time": "2022-06-14T10:29:02.094Z"
      },
      {
        "duration": 32,
        "start_time": "2022-06-14T10:29:33.043Z"
      },
      {
        "duration": 28,
        "start_time": "2022-06-14T10:29:54.954Z"
      },
      {
        "duration": 28,
        "start_time": "2022-06-14T10:30:23.173Z"
      },
      {
        "duration": 476,
        "start_time": "2022-06-14T10:30:32.998Z"
      },
      {
        "duration": 273,
        "start_time": "2022-06-14T10:30:52.397Z"
      },
      {
        "duration": 764,
        "start_time": "2022-06-14T10:32:01.317Z"
      },
      {
        "duration": 1303,
        "start_time": "2022-06-14T10:33:06.983Z"
      },
      {
        "duration": 1250,
        "start_time": "2022-06-14T10:33:08.288Z"
      },
      {
        "duration": 20,
        "start_time": "2022-06-14T10:33:09.541Z"
      },
      {
        "duration": 6,
        "start_time": "2022-06-14T10:33:09.563Z"
      },
      {
        "duration": 10,
        "start_time": "2022-06-14T10:33:09.570Z"
      },
      {
        "duration": 40,
        "start_time": "2022-06-14T10:33:09.582Z"
      },
      {
        "duration": 107,
        "start_time": "2022-06-14T10:33:09.628Z"
      },
      {
        "duration": 367,
        "start_time": "2022-06-14T10:33:09.737Z"
      },
      {
        "duration": 558,
        "start_time": "2022-06-14T10:33:10.105Z"
      },
      {
        "duration": 24,
        "start_time": "2022-06-14T10:33:10.665Z"
      },
      {
        "duration": 64,
        "start_time": "2022-06-14T10:33:10.690Z"
      },
      {
        "duration": 26,
        "start_time": "2022-06-14T10:33:10.756Z"
      },
      {
        "duration": 18,
        "start_time": "2022-06-14T10:33:10.784Z"
      },
      {
        "duration": 37,
        "start_time": "2022-06-14T10:33:10.803Z"
      },
      {
        "duration": 58,
        "start_time": "2022-06-14T10:33:10.842Z"
      },
      {
        "duration": 10,
        "start_time": "2022-06-14T10:33:10.902Z"
      },
      {
        "duration": 8,
        "start_time": "2022-06-14T10:33:10.913Z"
      },
      {
        "duration": 121,
        "start_time": "2022-06-14T10:33:10.923Z"
      },
      {
        "duration": 50,
        "start_time": "2022-06-14T10:33:11.046Z"
      },
      {
        "duration": 58,
        "start_time": "2022-06-14T10:33:11.098Z"
      },
      {
        "duration": 15,
        "start_time": "2022-06-14T10:33:11.158Z"
      },
      {
        "duration": 13,
        "start_time": "2022-06-14T10:33:11.175Z"
      },
      {
        "duration": 13,
        "start_time": "2022-06-14T10:33:11.189Z"
      },
      {
        "duration": 258,
        "start_time": "2022-06-14T10:33:11.204Z"
      },
      {
        "duration": 31,
        "start_time": "2022-06-14T10:33:11.464Z"
      },
      {
        "duration": 136,
        "start_time": "2022-06-14T10:33:11.496Z"
      },
      {
        "duration": 13,
        "start_time": "2022-06-14T10:33:11.633Z"
      },
      {
        "duration": 9,
        "start_time": "2022-06-14T10:33:11.649Z"
      },
      {
        "duration": 16,
        "start_time": "2022-06-14T10:33:11.660Z"
      },
      {
        "duration": 17,
        "start_time": "2022-06-14T10:33:11.678Z"
      },
      {
        "duration": 31,
        "start_time": "2022-06-14T10:33:11.697Z"
      },
      {
        "duration": 18,
        "start_time": "2022-06-14T10:33:11.730Z"
      },
      {
        "duration": 34,
        "start_time": "2022-06-14T10:33:11.750Z"
      },
      {
        "duration": 5,
        "start_time": "2022-06-14T10:33:11.785Z"
      },
      {
        "duration": 20,
        "start_time": "2022-06-14T10:33:11.791Z"
      },
      {
        "duration": 389,
        "start_time": "2022-06-14T10:33:11.812Z"
      },
      {
        "duration": 38,
        "start_time": "2022-06-14T10:33:12.203Z"
      },
      {
        "duration": 28,
        "start_time": "2022-06-14T10:33:12.244Z"
      },
      {
        "duration": 573,
        "start_time": "2022-06-14T10:33:12.336Z"
      },
      {
        "duration": 300,
        "start_time": "2022-06-14T10:33:12.910Z"
      },
      {
        "duration": 670,
        "start_time": "2022-06-14T10:33:13.212Z"
      },
      {
        "duration": 15,
        "start_time": "2022-06-14T10:33:13.884Z"
      },
      {
        "duration": 45,
        "start_time": "2022-06-14T10:33:13.901Z"
      },
      {
        "duration": 23,
        "start_time": "2022-06-14T10:33:13.948Z"
      },
      {
        "duration": 36,
        "start_time": "2022-06-14T10:33:13.973Z"
      },
      {
        "duration": 30,
        "start_time": "2022-06-14T10:33:14.011Z"
      },
      {
        "duration": 240,
        "start_time": "2022-06-14T10:33:14.043Z"
      },
      {
        "duration": 11,
        "start_time": "2022-06-14T10:33:14.285Z"
      },
      {
        "duration": 12,
        "start_time": "2022-06-14T10:33:14.298Z"
      },
      {
        "duration": 43,
        "start_time": "2022-06-14T10:33:14.312Z"
      },
      {
        "duration": 189,
        "start_time": "2022-06-14T10:39:07.096Z"
      },
      {
        "duration": 25,
        "start_time": "2022-06-14T10:39:11.956Z"
      },
      {
        "duration": 32,
        "start_time": "2022-06-14T10:39:12.525Z"
      },
      {
        "duration": 424,
        "start_time": "2022-06-14T10:39:15.514Z"
      },
      {
        "duration": 294,
        "start_time": "2022-06-14T10:39:16.992Z"
      },
      {
        "duration": 394,
        "start_time": "2022-06-14T10:39:32.123Z"
      },
      {
        "duration": 456,
        "start_time": "2022-06-14T10:39:52.357Z"
      },
      {
        "duration": 26,
        "start_time": "2022-06-14T10:42:00.016Z"
      },
      {
        "duration": 27,
        "start_time": "2022-06-14T10:42:09.034Z"
      },
      {
        "duration": 18,
        "start_time": "2022-06-14T10:42:12.639Z"
      },
      {
        "duration": 277,
        "start_time": "2022-06-14T10:42:41.956Z"
      },
      {
        "duration": 46,
        "start_time": "2022-06-14T10:42:54.506Z"
      },
      {
        "duration": 20,
        "start_time": "2022-06-14T10:43:15.044Z"
      },
      {
        "duration": 19,
        "start_time": "2022-06-14T10:43:32.006Z"
      },
      {
        "duration": 27,
        "start_time": "2022-06-14T10:43:36.813Z"
      },
      {
        "duration": 126,
        "start_time": "2022-06-14T10:45:13.211Z"
      },
      {
        "duration": 46,
        "start_time": "2022-06-14T10:45:18.299Z"
      },
      {
        "duration": 22,
        "start_time": "2022-06-14T10:45:33.344Z"
      },
      {
        "duration": 24,
        "start_time": "2022-06-14T10:45:41.412Z"
      },
      {
        "duration": 17,
        "start_time": "2022-06-14T10:45:46.040Z"
      },
      {
        "duration": 20,
        "start_time": "2022-06-14T10:46:03.003Z"
      },
      {
        "duration": 17,
        "start_time": "2022-06-14T10:46:06.614Z"
      },
      {
        "duration": 16,
        "start_time": "2022-06-14T10:46:12.451Z"
      },
      {
        "duration": 25,
        "start_time": "2022-06-14T10:46:32.664Z"
      },
      {
        "duration": 22,
        "start_time": "2022-06-14T10:46:42.922Z"
      },
      {
        "duration": 17,
        "start_time": "2022-06-14T10:46:46.882Z"
      },
      {
        "duration": 16,
        "start_time": "2022-06-14T10:47:21.003Z"
      },
      {
        "duration": 20,
        "start_time": "2022-06-14T10:47:33.388Z"
      },
      {
        "duration": 15,
        "start_time": "2022-06-14T10:47:37.987Z"
      },
      {
        "duration": 1416,
        "start_time": "2022-06-14T12:20:43.502Z"
      },
      {
        "duration": 1314,
        "start_time": "2022-06-14T12:20:44.920Z"
      },
      {
        "duration": 21,
        "start_time": "2022-06-14T12:20:46.236Z"
      },
      {
        "duration": 13,
        "start_time": "2022-06-14T12:20:46.259Z"
      },
      {
        "duration": 9,
        "start_time": "2022-06-14T12:20:46.274Z"
      },
      {
        "duration": 11,
        "start_time": "2022-06-14T12:20:46.285Z"
      },
      {
        "duration": 78,
        "start_time": "2022-06-14T12:20:46.298Z"
      },
      {
        "duration": 330,
        "start_time": "2022-06-14T12:20:46.378Z"
      },
      {
        "duration": 516,
        "start_time": "2022-06-14T12:20:46.710Z"
      },
      {
        "duration": 23,
        "start_time": "2022-06-14T12:20:47.228Z"
      },
      {
        "duration": 70,
        "start_time": "2022-06-14T12:20:47.253Z"
      },
      {
        "duration": 26,
        "start_time": "2022-06-14T12:20:47.325Z"
      },
      {
        "duration": 11,
        "start_time": "2022-06-14T12:20:47.353Z"
      },
      {
        "duration": 25,
        "start_time": "2022-06-14T12:20:47.366Z"
      },
      {
        "duration": 75,
        "start_time": "2022-06-14T12:20:47.393Z"
      },
      {
        "duration": 9,
        "start_time": "2022-06-14T12:20:47.470Z"
      },
      {
        "duration": 4,
        "start_time": "2022-06-14T12:20:47.481Z"
      },
      {
        "duration": 126,
        "start_time": "2022-06-14T12:20:47.487Z"
      },
      {
        "duration": 50,
        "start_time": "2022-06-14T12:20:47.623Z"
      },
      {
        "duration": 62,
        "start_time": "2022-06-14T12:20:47.675Z"
      },
      {
        "duration": 16,
        "start_time": "2022-06-14T12:20:47.738Z"
      },
      {
        "duration": 4,
        "start_time": "2022-06-14T12:20:47.755Z"
      },
      {
        "duration": 13,
        "start_time": "2022-06-14T12:20:47.760Z"
      },
      {
        "duration": 257,
        "start_time": "2022-06-14T12:20:47.775Z"
      },
      {
        "duration": 31,
        "start_time": "2022-06-14T12:20:48.034Z"
      },
      {
        "duration": 120,
        "start_time": "2022-06-14T12:20:48.067Z"
      },
      {
        "duration": 9,
        "start_time": "2022-06-14T12:20:48.189Z"
      },
      {
        "duration": 28,
        "start_time": "2022-06-14T12:20:48.201Z"
      },
      {
        "duration": 15,
        "start_time": "2022-06-14T12:20:48.231Z"
      },
      {
        "duration": 19,
        "start_time": "2022-06-14T12:20:48.248Z"
      },
      {
        "duration": 7,
        "start_time": "2022-06-14T12:20:48.269Z"
      },
      {
        "duration": 7,
        "start_time": "2022-06-14T12:20:48.278Z"
      },
      {
        "duration": 49,
        "start_time": "2022-06-14T12:20:48.286Z"
      },
      {
        "duration": 4,
        "start_time": "2022-06-14T12:20:48.337Z"
      },
      {
        "duration": 10,
        "start_time": "2022-06-14T12:20:48.343Z"
      },
      {
        "duration": 403,
        "start_time": "2022-06-14T12:20:48.354Z"
      },
      {
        "duration": 27,
        "start_time": "2022-06-14T12:20:48.759Z"
      },
      {
        "duration": 48,
        "start_time": "2022-06-14T12:20:48.788Z"
      },
      {
        "duration": 558,
        "start_time": "2022-06-14T12:20:48.838Z"
      },
      {
        "duration": 273,
        "start_time": "2022-06-14T12:20:49.398Z"
      },
      {
        "duration": 637,
        "start_time": "2022-06-14T12:20:49.673Z"
      },
      {
        "duration": 18,
        "start_time": "2022-06-14T12:20:50.311Z"
      },
      {
        "duration": 23,
        "start_time": "2022-06-14T12:20:50.331Z"
      },
      {
        "duration": 20,
        "start_time": "2022-06-14T12:20:50.356Z"
      },
      {
        "duration": 75,
        "start_time": "2022-06-14T12:20:50.378Z"
      },
      {
        "duration": 15,
        "start_time": "2022-06-14T12:20:50.454Z"
      },
      {
        "duration": 199,
        "start_time": "2022-06-14T12:20:50.470Z"
      },
      {
        "duration": 9,
        "start_time": "2022-06-14T12:20:50.671Z"
      },
      {
        "duration": 13,
        "start_time": "2022-06-14T12:20:50.682Z"
      },
      {
        "duration": 37,
        "start_time": "2022-06-14T12:20:50.697Z"
      },
      {
        "duration": 8,
        "start_time": "2022-06-14T12:21:07.369Z"
      },
      {
        "duration": 16,
        "start_time": "2022-06-14T12:26:16.609Z"
      },
      {
        "duration": 20,
        "start_time": "2022-06-14T12:27:30.880Z"
      },
      {
        "duration": 10,
        "start_time": "2022-06-14T12:27:47.585Z"
      },
      {
        "duration": 16,
        "start_time": "2022-06-14T12:28:38.778Z"
      },
      {
        "duration": 15,
        "start_time": "2022-06-14T12:28:43.354Z"
      },
      {
        "duration": 15,
        "start_time": "2022-06-14T12:28:58.445Z"
      },
      {
        "duration": 10,
        "start_time": "2022-06-14T12:29:15.035Z"
      },
      {
        "duration": 14,
        "start_time": "2022-06-14T12:29:27.868Z"
      },
      {
        "duration": 9,
        "start_time": "2022-06-14T12:29:34.724Z"
      },
      {
        "duration": 14,
        "start_time": "2022-06-14T12:29:42.016Z"
      },
      {
        "duration": 15,
        "start_time": "2022-06-14T12:30:56.754Z"
      },
      {
        "duration": 15,
        "start_time": "2022-06-14T12:31:20.560Z"
      },
      {
        "duration": 16,
        "start_time": "2022-06-14T12:31:28.963Z"
      },
      {
        "duration": 14,
        "start_time": "2022-06-14T12:31:40.742Z"
      },
      {
        "duration": 15,
        "start_time": "2022-06-14T12:31:46.136Z"
      },
      {
        "duration": 28,
        "start_time": "2022-06-14T12:32:09.659Z"
      },
      {
        "duration": 28,
        "start_time": "2022-06-14T12:32:18.129Z"
      },
      {
        "duration": 36,
        "start_time": "2022-06-14T12:32:29.994Z"
      },
      {
        "duration": 41,
        "start_time": "2022-06-14T12:32:34.863Z"
      },
      {
        "duration": 35,
        "start_time": "2022-06-14T12:32:39.426Z"
      },
      {
        "duration": 33,
        "start_time": "2022-06-14T12:33:03.233Z"
      },
      {
        "duration": 24,
        "start_time": "2022-06-14T12:34:16.279Z"
      },
      {
        "duration": 27,
        "start_time": "2022-06-14T12:34:23.341Z"
      },
      {
        "duration": 26,
        "start_time": "2022-06-14T12:34:28.059Z"
      },
      {
        "duration": 35,
        "start_time": "2022-06-14T12:34:42.552Z"
      },
      {
        "duration": 33,
        "start_time": "2022-06-14T12:37:02.938Z"
      },
      {
        "duration": 1335,
        "start_time": "2022-06-14T12:38:22.749Z"
      },
      {
        "duration": 1121,
        "start_time": "2022-06-14T12:38:24.086Z"
      },
      {
        "duration": 24,
        "start_time": "2022-06-14T12:38:25.209Z"
      },
      {
        "duration": 15,
        "start_time": "2022-06-14T12:38:25.235Z"
      },
      {
        "duration": 8,
        "start_time": "2022-06-14T12:38:25.252Z"
      },
      {
        "duration": 5,
        "start_time": "2022-06-14T12:38:25.262Z"
      },
      {
        "duration": 105,
        "start_time": "2022-06-14T12:38:25.274Z"
      },
      {
        "duration": 330,
        "start_time": "2022-06-14T12:38:25.380Z"
      },
      {
        "duration": 597,
        "start_time": "2022-06-14T12:38:25.711Z"
      },
      {
        "duration": 36,
        "start_time": "2022-06-14T12:38:26.311Z"
      },
      {
        "duration": 51,
        "start_time": "2022-06-14T12:38:26.349Z"
      },
      {
        "duration": 44,
        "start_time": "2022-06-14T12:38:26.402Z"
      },
      {
        "duration": 11,
        "start_time": "2022-06-14T12:38:26.447Z"
      },
      {
        "duration": 18,
        "start_time": "2022-06-14T12:38:26.460Z"
      },
      {
        "duration": 80,
        "start_time": "2022-06-14T12:38:26.479Z"
      },
      {
        "duration": 10,
        "start_time": "2022-06-14T12:38:26.562Z"
      },
      {
        "duration": 4,
        "start_time": "2022-06-14T12:38:26.574Z"
      },
      {
        "duration": 133,
        "start_time": "2022-06-14T12:38:26.580Z"
      },
      {
        "duration": 60,
        "start_time": "2022-06-14T12:38:26.723Z"
      },
      {
        "duration": 65,
        "start_time": "2022-06-14T12:38:26.785Z"
      },
      {
        "duration": 16,
        "start_time": "2022-06-14T12:38:26.852Z"
      },
      {
        "duration": 4,
        "start_time": "2022-06-14T12:38:26.869Z"
      },
      {
        "duration": 13,
        "start_time": "2022-06-14T12:38:26.875Z"
      },
      {
        "duration": 264,
        "start_time": "2022-06-14T12:38:26.891Z"
      },
      {
        "duration": 28,
        "start_time": "2022-06-14T12:38:27.157Z"
      },
      {
        "duration": 129,
        "start_time": "2022-06-14T12:38:27.187Z"
      },
      {
        "duration": 30,
        "start_time": "2022-06-14T12:38:27.318Z"
      },
      {
        "duration": 31,
        "start_time": "2022-06-14T12:38:27.352Z"
      },
      {
        "duration": 6,
        "start_time": "2022-06-14T12:38:27.385Z"
      },
      {
        "duration": 11,
        "start_time": "2022-06-14T12:38:27.393Z"
      },
      {
        "duration": 34,
        "start_time": "2022-06-14T12:38:27.405Z"
      },
      {
        "duration": 3,
        "start_time": "2022-06-14T12:38:27.442Z"
      },
      {
        "duration": 8,
        "start_time": "2022-06-14T12:38:27.447Z"
      },
      {
        "duration": 389,
        "start_time": "2022-06-14T12:38:27.457Z"
      },
      {
        "duration": 10,
        "start_time": "2022-06-14T12:38:27.848Z"
      },
      {
        "duration": 17,
        "start_time": "2022-06-14T12:38:27.860Z"
      },
      {
        "duration": 83,
        "start_time": "2022-06-14T12:38:27.879Z"
      },
      {
        "duration": 80,
        "start_time": "2022-06-14T12:38:27.965Z"
      },
      {
        "duration": 26,
        "start_time": "2022-06-14T12:38:28.047Z"
      },
      {
        "duration": 569,
        "start_time": "2022-06-14T12:38:28.075Z"
      },
      {
        "duration": 268,
        "start_time": "2022-06-14T12:38:28.646Z"
      },
      {
        "duration": 697,
        "start_time": "2022-06-14T12:38:28.916Z"
      },
      {
        "duration": 20,
        "start_time": "2022-06-14T12:38:29.615Z"
      },
      {
        "duration": 25,
        "start_time": "2022-06-14T12:38:29.638Z"
      },
      {
        "duration": 20,
        "start_time": "2022-06-14T12:38:29.665Z"
      },
      {
        "duration": 64,
        "start_time": "2022-06-14T12:38:29.687Z"
      },
      {
        "duration": 21,
        "start_time": "2022-06-14T12:38:29.753Z"
      },
      {
        "duration": 231,
        "start_time": "2022-06-14T12:38:29.775Z"
      },
      {
        "duration": 25,
        "start_time": "2022-06-14T12:38:30.008Z"
      },
      {
        "duration": 17,
        "start_time": "2022-06-14T12:38:30.035Z"
      },
      {
        "duration": 38,
        "start_time": "2022-06-14T12:38:30.053Z"
      },
      {
        "duration": 21,
        "start_time": "2022-06-14T12:40:08.593Z"
      },
      {
        "duration": 12,
        "start_time": "2022-06-14T12:40:18.378Z"
      },
      {
        "duration": 39,
        "start_time": "2022-06-14T12:40:20.893Z"
      },
      {
        "duration": 7,
        "start_time": "2022-06-14T12:54:07.737Z"
      },
      {
        "duration": 27,
        "start_time": "2022-06-14T12:54:11.849Z"
      },
      {
        "duration": 16,
        "start_time": "2022-06-14T12:54:38.351Z"
      },
      {
        "duration": 196,
        "start_time": "2022-06-14T12:54:40.352Z"
      },
      {
        "duration": 14,
        "start_time": "2022-06-14T12:54:41.867Z"
      },
      {
        "duration": 9,
        "start_time": "2022-06-14T12:54:42.647Z"
      },
      {
        "duration": 33,
        "start_time": "2022-06-14T12:54:44.635Z"
      },
      {
        "duration": 1244,
        "start_time": "2022-06-14T12:58:36.667Z"
      },
      {
        "duration": 2662,
        "start_time": "2022-06-14T12:58:37.913Z"
      },
      {
        "duration": 29,
        "start_time": "2022-06-14T12:58:40.578Z"
      },
      {
        "duration": 9,
        "start_time": "2022-06-14T12:58:40.609Z"
      },
      {
        "duration": 33,
        "start_time": "2022-06-14T12:58:40.620Z"
      },
      {
        "duration": 23,
        "start_time": "2022-06-14T12:58:40.656Z"
      },
      {
        "duration": 92,
        "start_time": "2022-06-14T12:58:40.682Z"
      },
      {
        "duration": 415,
        "start_time": "2022-06-14T12:58:40.776Z"
      },
      {
        "duration": 621,
        "start_time": "2022-06-14T12:58:41.192Z"
      },
      {
        "duration": 35,
        "start_time": "2022-06-14T12:58:41.822Z"
      },
      {
        "duration": 74,
        "start_time": "2022-06-14T12:58:41.860Z"
      },
      {
        "duration": 43,
        "start_time": "2022-06-14T12:58:41.936Z"
      },
      {
        "duration": 46,
        "start_time": "2022-06-14T12:58:41.981Z"
      },
      {
        "duration": 49,
        "start_time": "2022-06-14T12:58:42.031Z"
      },
      {
        "duration": 60,
        "start_time": "2022-06-14T12:58:42.082Z"
      },
      {
        "duration": 14,
        "start_time": "2022-06-14T12:58:42.148Z"
      },
      {
        "duration": 6,
        "start_time": "2022-06-14T12:58:42.164Z"
      },
      {
        "duration": 136,
        "start_time": "2022-06-14T12:58:42.172Z"
      },
      {
        "duration": 63,
        "start_time": "2022-06-14T12:58:42.323Z"
      },
      {
        "duration": 75,
        "start_time": "2022-06-14T12:58:42.388Z"
      },
      {
        "duration": 23,
        "start_time": "2022-06-14T12:58:42.465Z"
      },
      {
        "duration": 6,
        "start_time": "2022-06-14T12:58:42.490Z"
      },
      {
        "duration": 33,
        "start_time": "2022-06-14T12:58:42.499Z"
      },
      {
        "duration": 335,
        "start_time": "2022-06-14T12:58:42.535Z"
      },
      {
        "duration": 70,
        "start_time": "2022-06-14T12:58:42.873Z"
      },
      {
        "duration": 231,
        "start_time": "2022-06-14T12:58:42.945Z"
      },
      {
        "duration": 28,
        "start_time": "2022-06-14T12:58:43.178Z"
      },
      {
        "duration": 26,
        "start_time": "2022-06-14T12:58:43.208Z"
      },
      {
        "duration": 29,
        "start_time": "2022-06-14T12:58:43.236Z"
      },
      {
        "duration": 24,
        "start_time": "2022-06-14T12:58:43.267Z"
      },
      {
        "duration": 48,
        "start_time": "2022-06-14T12:58:43.294Z"
      },
      {
        "duration": 7,
        "start_time": "2022-06-14T12:58:43.344Z"
      },
      {
        "duration": 17,
        "start_time": "2022-06-14T12:58:43.354Z"
      },
      {
        "duration": 347,
        "start_time": "2022-06-14T12:58:43.374Z"
      },
      {
        "duration": 14,
        "start_time": "2022-06-14T12:58:43.730Z"
      },
      {
        "duration": 78,
        "start_time": "2022-06-14T12:58:43.746Z"
      },
      {
        "duration": 42,
        "start_time": "2022-06-14T12:58:43.827Z"
      },
      {
        "duration": 88,
        "start_time": "2022-06-14T12:58:43.872Z"
      },
      {
        "duration": 40,
        "start_time": "2022-06-14T12:58:43.962Z"
      },
      {
        "duration": 604,
        "start_time": "2022-06-14T12:58:44.004Z"
      },
      {
        "duration": 326,
        "start_time": "2022-06-14T12:58:44.613Z"
      },
      {
        "duration": 648,
        "start_time": "2022-06-14T12:58:44.944Z"
      },
      {
        "duration": 29,
        "start_time": "2022-06-14T12:58:45.595Z"
      },
      {
        "duration": 42,
        "start_time": "2022-06-14T12:58:45.626Z"
      },
      {
        "duration": 31,
        "start_time": "2022-06-14T12:58:45.670Z"
      },
      {
        "duration": 68,
        "start_time": "2022-06-14T12:58:45.703Z"
      },
      {
        "duration": 16,
        "start_time": "2022-06-14T12:58:45.773Z"
      },
      {
        "duration": 273,
        "start_time": "2022-06-14T12:58:45.791Z"
      },
      {
        "duration": 22,
        "start_time": "2022-06-14T12:58:46.066Z"
      },
      {
        "duration": 9,
        "start_time": "2022-06-14T12:58:46.090Z"
      },
      {
        "duration": 49,
        "start_time": "2022-06-14T12:58:46.102Z"
      }
    ],
    "kernelspec": {
      "display_name": "Python 3 (ipykernel)",
      "language": "python",
      "name": "python3"
    },
    "language_info": {
      "codemirror_mode": {
        "name": "ipython",
        "version": 3
      },
      "file_extension": ".py",
      "mimetype": "text/x-python",
      "name": "python",
      "nbconvert_exporter": "python",
      "pygments_lexer": "ipython3",
      "version": "3.9.5"
    },
    "toc": {
      "base_numbering": 1,
      "nav_menu": {},
      "number_sections": true,
      "sideBar": true,
      "skip_h1_title": true,
      "title_cell": "Содержание проекта",
      "title_sidebar": "Содержание проекта",
      "toc_cell": true,
      "toc_position": {},
      "toc_section_display": true,
      "toc_window_display": false
    },
    "colab": {
      "provenance": [],
      "collapsed_sections": []
    }
  },
  "nbformat": 4,
  "nbformat_minor": 0
}