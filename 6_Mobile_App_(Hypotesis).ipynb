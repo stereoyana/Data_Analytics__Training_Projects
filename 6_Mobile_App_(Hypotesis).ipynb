{
  "cells": [
    {
      "cell_type": "markdown",
      "metadata": {
        "id": "w8TECTmMKy-H"
      },
      "source": [
        "# Принятие решений в бизнес-аналитике\n",
        "\n",
        "Вы — аналитик крупного интернет-магазина. Вместе с отделом маркетинга вы подготовили список гипотез для увеличения выручки.\n",
        "Приоритизируйте гипотезы, запустите A/B-тест и проанализируйте результаты."
      ]
    },
    {
      "cell_type": "markdown",
      "metadata": {
        "id": "Wup8T_nZKy-H"
      },
      "source": [
        "\n",
        "**Данные для первой части**\n",
        "\n",
        "Файл [/datasets/hypothesis.csv](https://code.s3.yandex.net/datasets/hypothesis.csv)\n",
        "- `Hypothesis` — краткое описание гипотезы;\n",
        "- `Reach` — охват пользователей по 10-балльной шкале;\n",
        "- `Impact` — влияние на пользователей по 10-балльной шкале;\n",
        "- `Confidence` — уверенность в гипотезе по 10-балльной шкале;\n",
        "- `Efforts` — затраты ресурсов на проверку гипотезы по 10-балльной шкале. Чем больше значение Efforts, тем дороже проверка гипотезы.\n",
        "\n",
        "\n",
        "**Данные для второй части**\n",
        "\n",
        "Файл [/datasets/orders.csv](https://code.s3.yandex.net/datasets/orders.csv)\n",
        "- `transactionId` — идентификатор заказа;\n",
        "- `visitorId` — идентификатор пользователя, совершившего заказ;\n",
        "- `date` — дата, когда был совершён заказ;\n",
        "- `revenue` — выручка заказа;\n",
        "- `group` — группа A/B-теста, в которую попал заказ.\n",
        "\n",
        "Файл [/datasets/visitors.csv](https://code.s3.yandex.net/datasets/visitors.csv)\n",
        "- `date` — дата;\n",
        "- `group` — группа A/B-теста;\n",
        "- `visitors` — количество пользователей в указанную дату в указанной группе A/B-теста"
      ]
    },
    {
      "cell_type": "markdown",
      "metadata": {
        "id": "iTOb-bhWKy-J"
      },
      "source": [
        "## Общая информация"
      ]
    },
    {
      "cell_type": "code",
      "execution_count": 1,
      "metadata": {
        "id": "tIZtk8FaKy-J"
      },
      "outputs": [],
      "source": [
        "# подключим необходимые библиотеки и настройки отображения\n",
        "\n",
        "import pandas as pd\n",
        "import numpy as np\n",
        "import matplotlib\n",
        "import matplotlib.pyplot as plt\n",
        "import datetime as dt\n",
        "import scipy.stats as stats\n",
        "\n",
        "pd.set_option('display.float_format', '{:.3f}'.format)\n",
        "pd.options.display.max_colwidth = 100\n",
        "\n",
        "%config InlineBackend.figure_format = 'retina'\n",
        "pd.options.mode.chained_assignment = None  # default='warn'"
      ]
    },
    {
      "cell_type": "code",
      "execution_count": 2,
      "metadata": {
        "id": "A1PXQEaHKy-M"
      },
      "outputs": [],
      "source": [
        "# прочитаем датасеты из файлов и запишем в переменные\n",
        "\n",
        "hypothesis = pd.read_csv('https://code.s3.yandex.net/datasets/hypothesis.csv')\n",
        "orders = pd.read_csv('https://code.s3.yandex.net/datasets/orders.csv')\n",
        "visitors = pd.read_csv('https://code.s3.yandex.net/datasets/visitors.csv')"
      ]
    },
    {
      "cell_type": "code",
      "execution_count": 3,
      "metadata": {
        "id": "whUnMM4nKy-N",
        "outputId": "4c60d61b-2616-4c0e-9440-39d6c8a6618e",
        "colab": {
          "base_uri": "https://localhost:8080/",
          "height": 546
        }
      },
      "outputs": [
        {
          "output_type": "stream",
          "name": "stdout",
          "text": [
            "<class 'pandas.core.frame.DataFrame'>\n",
            "RangeIndex: 9 entries, 0 to 8\n",
            "Data columns (total 5 columns):\n",
            " #   Column      Non-Null Count  Dtype \n",
            "---  ------      --------------  ----- \n",
            " 0   Hypothesis  9 non-null      object\n",
            " 1   Reach       9 non-null      int64 \n",
            " 2   Impact      9 non-null      int64 \n",
            " 3   Confidence  9 non-null      int64 \n",
            " 4   Efforts     9 non-null      int64 \n",
            "dtypes: int64(4), object(1)\n",
            "memory usage: 488.0+ bytes\n"
          ]
        },
        {
          "output_type": "execute_result",
          "data": {
            "text/plain": [
              "                                                                                            Hypothesis  \\\n",
              "0   Добавить два новых канала привлечения трафика, что позволит привлекать на 30% больше пользователей   \n",
              "1                            Запустить собственную службу доставки, что сократит срок доставки заказов   \n",
              "2  Добавить блоки рекомендаций товаров на сайт интернет магазина, чтобы повысить конверсию и средни...   \n",
              "3  Изменить структура категорий, что увеличит конверсию, т.к. пользователи быстрее найдут нужный товар   \n",
              "4                     Изменить цвет фона главной страницы, чтобы увеличить вовлеченность пользователей   \n",
              "5             Добавить страницу отзывов клиентов о магазине, что позволит увеличить количество заказов   \n",
              "6  Показать на главной странице баннеры с актуальными акциями и распродажами, чтобы увеличить конве...   \n",
              "7     Добавить форму подписки на все основные страницы, чтобы собрать базу клиентов для email-рассылок   \n",
              "8                                              Запустить акцию, дающую скидку на товар в день рождения   \n",
              "\n",
              "   Reach  Impact  Confidence  Efforts  \n",
              "0      3      10           8        6  \n",
              "1      2       5           4       10  \n",
              "2      8       3           7        3  \n",
              "3      8       3           3        8  \n",
              "4      3       1           1        1  \n",
              "5      3       2           2        3  \n",
              "6      5       3           8        3  \n",
              "7     10       7           8        5  \n",
              "8      1       9           9        5  "
            ],
            "text/html": [
              "\n",
              "  <div id=\"df-95af7678-55ea-478a-9e04-7d82389bde87\">\n",
              "    <div class=\"colab-df-container\">\n",
              "      <div>\n",
              "<style scoped>\n",
              "    .dataframe tbody tr th:only-of-type {\n",
              "        vertical-align: middle;\n",
              "    }\n",
              "\n",
              "    .dataframe tbody tr th {\n",
              "        vertical-align: top;\n",
              "    }\n",
              "\n",
              "    .dataframe thead th {\n",
              "        text-align: right;\n",
              "    }\n",
              "</style>\n",
              "<table border=\"1\" class=\"dataframe\">\n",
              "  <thead>\n",
              "    <tr style=\"text-align: right;\">\n",
              "      <th></th>\n",
              "      <th>Hypothesis</th>\n",
              "      <th>Reach</th>\n",
              "      <th>Impact</th>\n",
              "      <th>Confidence</th>\n",
              "      <th>Efforts</th>\n",
              "    </tr>\n",
              "  </thead>\n",
              "  <tbody>\n",
              "    <tr>\n",
              "      <th>0</th>\n",
              "      <td>Добавить два новых канала привлечения трафика, что позволит привлекать на 30% больше пользователей</td>\n",
              "      <td>3</td>\n",
              "      <td>10</td>\n",
              "      <td>8</td>\n",
              "      <td>6</td>\n",
              "    </tr>\n",
              "    <tr>\n",
              "      <th>1</th>\n",
              "      <td>Запустить собственную службу доставки, что сократит срок доставки заказов</td>\n",
              "      <td>2</td>\n",
              "      <td>5</td>\n",
              "      <td>4</td>\n",
              "      <td>10</td>\n",
              "    </tr>\n",
              "    <tr>\n",
              "      <th>2</th>\n",
              "      <td>Добавить блоки рекомендаций товаров на сайт интернет магазина, чтобы повысить конверсию и средни...</td>\n",
              "      <td>8</td>\n",
              "      <td>3</td>\n",
              "      <td>7</td>\n",
              "      <td>3</td>\n",
              "    </tr>\n",
              "    <tr>\n",
              "      <th>3</th>\n",
              "      <td>Изменить структура категорий, что увеличит конверсию, т.к. пользователи быстрее найдут нужный товар</td>\n",
              "      <td>8</td>\n",
              "      <td>3</td>\n",
              "      <td>3</td>\n",
              "      <td>8</td>\n",
              "    </tr>\n",
              "    <tr>\n",
              "      <th>4</th>\n",
              "      <td>Изменить цвет фона главной страницы, чтобы увеличить вовлеченность пользователей</td>\n",
              "      <td>3</td>\n",
              "      <td>1</td>\n",
              "      <td>1</td>\n",
              "      <td>1</td>\n",
              "    </tr>\n",
              "    <tr>\n",
              "      <th>5</th>\n",
              "      <td>Добавить страницу отзывов клиентов о магазине, что позволит увеличить количество заказов</td>\n",
              "      <td>3</td>\n",
              "      <td>2</td>\n",
              "      <td>2</td>\n",
              "      <td>3</td>\n",
              "    </tr>\n",
              "    <tr>\n",
              "      <th>6</th>\n",
              "      <td>Показать на главной странице баннеры с актуальными акциями и распродажами, чтобы увеличить конве...</td>\n",
              "      <td>5</td>\n",
              "      <td>3</td>\n",
              "      <td>8</td>\n",
              "      <td>3</td>\n",
              "    </tr>\n",
              "    <tr>\n",
              "      <th>7</th>\n",
              "      <td>Добавить форму подписки на все основные страницы, чтобы собрать базу клиентов для email-рассылок</td>\n",
              "      <td>10</td>\n",
              "      <td>7</td>\n",
              "      <td>8</td>\n",
              "      <td>5</td>\n",
              "    </tr>\n",
              "    <tr>\n",
              "      <th>8</th>\n",
              "      <td>Запустить акцию, дающую скидку на товар в день рождения</td>\n",
              "      <td>1</td>\n",
              "      <td>9</td>\n",
              "      <td>9</td>\n",
              "      <td>5</td>\n",
              "    </tr>\n",
              "  </tbody>\n",
              "</table>\n",
              "</div>\n",
              "      <button class=\"colab-df-convert\" onclick=\"convertToInteractive('df-95af7678-55ea-478a-9e04-7d82389bde87')\"\n",
              "              title=\"Convert this dataframe to an interactive table.\"\n",
              "              style=\"display:none;\">\n",
              "        \n",
              "  <svg xmlns=\"http://www.w3.org/2000/svg\" height=\"24px\"viewBox=\"0 0 24 24\"\n",
              "       width=\"24px\">\n",
              "    <path d=\"M0 0h24v24H0V0z\" fill=\"none\"/>\n",
              "    <path d=\"M18.56 5.44l.94 2.06.94-2.06 2.06-.94-2.06-.94-.94-2.06-.94 2.06-2.06.94zm-11 1L8.5 8.5l.94-2.06 2.06-.94-2.06-.94L8.5 2.5l-.94 2.06-2.06.94zm10 10l.94 2.06.94-2.06 2.06-.94-2.06-.94-.94-2.06-.94 2.06-2.06.94z\"/><path d=\"M17.41 7.96l-1.37-1.37c-.4-.4-.92-.59-1.43-.59-.52 0-1.04.2-1.43.59L10.3 9.45l-7.72 7.72c-.78.78-.78 2.05 0 2.83L4 21.41c.39.39.9.59 1.41.59.51 0 1.02-.2 1.41-.59l7.78-7.78 2.81-2.81c.8-.78.8-2.07 0-2.86zM5.41 20L4 18.59l7.72-7.72 1.47 1.35L5.41 20z\"/>\n",
              "  </svg>\n",
              "      </button>\n",
              "      \n",
              "  <style>\n",
              "    .colab-df-container {\n",
              "      display:flex;\n",
              "      flex-wrap:wrap;\n",
              "      gap: 12px;\n",
              "    }\n",
              "\n",
              "    .colab-df-convert {\n",
              "      background-color: #E8F0FE;\n",
              "      border: none;\n",
              "      border-radius: 50%;\n",
              "      cursor: pointer;\n",
              "      display: none;\n",
              "      fill: #1967D2;\n",
              "      height: 32px;\n",
              "      padding: 0 0 0 0;\n",
              "      width: 32px;\n",
              "    }\n",
              "\n",
              "    .colab-df-convert:hover {\n",
              "      background-color: #E2EBFA;\n",
              "      box-shadow: 0px 1px 2px rgba(60, 64, 67, 0.3), 0px 1px 3px 1px rgba(60, 64, 67, 0.15);\n",
              "      fill: #174EA6;\n",
              "    }\n",
              "\n",
              "    [theme=dark] .colab-df-convert {\n",
              "      background-color: #3B4455;\n",
              "      fill: #D2E3FC;\n",
              "    }\n",
              "\n",
              "    [theme=dark] .colab-df-convert:hover {\n",
              "      background-color: #434B5C;\n",
              "      box-shadow: 0px 1px 3px 1px rgba(0, 0, 0, 0.15);\n",
              "      filter: drop-shadow(0px 1px 2px rgba(0, 0, 0, 0.3));\n",
              "      fill: #FFFFFF;\n",
              "    }\n",
              "  </style>\n",
              "\n",
              "      <script>\n",
              "        const buttonEl =\n",
              "          document.querySelector('#df-95af7678-55ea-478a-9e04-7d82389bde87 button.colab-df-convert');\n",
              "        buttonEl.style.display =\n",
              "          google.colab.kernel.accessAllowed ? 'block' : 'none';\n",
              "\n",
              "        async function convertToInteractive(key) {\n",
              "          const element = document.querySelector('#df-95af7678-55ea-478a-9e04-7d82389bde87');\n",
              "          const dataTable =\n",
              "            await google.colab.kernel.invokeFunction('convertToInteractive',\n",
              "                                                     [key], {});\n",
              "          if (!dataTable) return;\n",
              "\n",
              "          const docLinkHtml = 'Like what you see? Visit the ' +\n",
              "            '<a target=\"_blank\" href=https://colab.research.google.com/notebooks/data_table.ipynb>data table notebook</a>'\n",
              "            + ' to learn more about interactive tables.';\n",
              "          element.innerHTML = '';\n",
              "          dataTable['output_type'] = 'display_data';\n",
              "          await google.colab.output.renderOutput(dataTable, element);\n",
              "          const docLink = document.createElement('div');\n",
              "          docLink.innerHTML = docLinkHtml;\n",
              "          element.appendChild(docLink);\n",
              "        }\n",
              "      </script>\n",
              "    </div>\n",
              "  </div>\n",
              "  "
            ]
          },
          "metadata": {},
          "execution_count": 3
        }
      ],
      "source": [
        "# посмотрим информацию о датасете hypothesis\n",
        "\n",
        "hypothesis.info()\n",
        "hypothesis.head(10)"
      ]
    },
    {
      "cell_type": "code",
      "execution_count": 4,
      "metadata": {
        "id": "dG8Sr5bLKy-O",
        "outputId": "37f19b3a-1d30-4d54-c92f-c811ebedbe75",
        "colab": {
          "base_uri": "https://localhost:8080/",
          "height": 420
        }
      },
      "outputs": [
        {
          "output_type": "stream",
          "name": "stdout",
          "text": [
            "<class 'pandas.core.frame.DataFrame'>\n",
            "RangeIndex: 1197 entries, 0 to 1196\n",
            "Data columns (total 5 columns):\n",
            " #   Column         Non-Null Count  Dtype \n",
            "---  ------         --------------  ----- \n",
            " 0   transactionId  1197 non-null   int64 \n",
            " 1   visitorId      1197 non-null   int64 \n",
            " 2   date           1197 non-null   object\n",
            " 3   revenue        1197 non-null   int64 \n",
            " 4   group          1197 non-null   object\n",
            "dtypes: int64(3), object(2)\n",
            "memory usage: 46.9+ KB\n"
          ]
        },
        {
          "output_type": "execute_result",
          "data": {
            "text/plain": [
              "   transactionId   visitorId        date  revenue group\n",
              "0     3667963787  3312258926  2019-08-15     1650     B\n",
              "1     2804400009  3642806036  2019-08-15      730     B\n",
              "2     2961555356  4069496402  2019-08-15      400     A\n",
              "3     3797467345  1196621759  2019-08-15     9759     B\n",
              "4     2282983706  2322279887  2019-08-15     2308     B"
            ],
            "text/html": [
              "\n",
              "  <div id=\"df-b39a6b24-eb17-4bfa-bf00-a88114cf0c0c\">\n",
              "    <div class=\"colab-df-container\">\n",
              "      <div>\n",
              "<style scoped>\n",
              "    .dataframe tbody tr th:only-of-type {\n",
              "        vertical-align: middle;\n",
              "    }\n",
              "\n",
              "    .dataframe tbody tr th {\n",
              "        vertical-align: top;\n",
              "    }\n",
              "\n",
              "    .dataframe thead th {\n",
              "        text-align: right;\n",
              "    }\n",
              "</style>\n",
              "<table border=\"1\" class=\"dataframe\">\n",
              "  <thead>\n",
              "    <tr style=\"text-align: right;\">\n",
              "      <th></th>\n",
              "      <th>transactionId</th>\n",
              "      <th>visitorId</th>\n",
              "      <th>date</th>\n",
              "      <th>revenue</th>\n",
              "      <th>group</th>\n",
              "    </tr>\n",
              "  </thead>\n",
              "  <tbody>\n",
              "    <tr>\n",
              "      <th>0</th>\n",
              "      <td>3667963787</td>\n",
              "      <td>3312258926</td>\n",
              "      <td>2019-08-15</td>\n",
              "      <td>1650</td>\n",
              "      <td>B</td>\n",
              "    </tr>\n",
              "    <tr>\n",
              "      <th>1</th>\n",
              "      <td>2804400009</td>\n",
              "      <td>3642806036</td>\n",
              "      <td>2019-08-15</td>\n",
              "      <td>730</td>\n",
              "      <td>B</td>\n",
              "    </tr>\n",
              "    <tr>\n",
              "      <th>2</th>\n",
              "      <td>2961555356</td>\n",
              "      <td>4069496402</td>\n",
              "      <td>2019-08-15</td>\n",
              "      <td>400</td>\n",
              "      <td>A</td>\n",
              "    </tr>\n",
              "    <tr>\n",
              "      <th>3</th>\n",
              "      <td>3797467345</td>\n",
              "      <td>1196621759</td>\n",
              "      <td>2019-08-15</td>\n",
              "      <td>9759</td>\n",
              "      <td>B</td>\n",
              "    </tr>\n",
              "    <tr>\n",
              "      <th>4</th>\n",
              "      <td>2282983706</td>\n",
              "      <td>2322279887</td>\n",
              "      <td>2019-08-15</td>\n",
              "      <td>2308</td>\n",
              "      <td>B</td>\n",
              "    </tr>\n",
              "  </tbody>\n",
              "</table>\n",
              "</div>\n",
              "      <button class=\"colab-df-convert\" onclick=\"convertToInteractive('df-b39a6b24-eb17-4bfa-bf00-a88114cf0c0c')\"\n",
              "              title=\"Convert this dataframe to an interactive table.\"\n",
              "              style=\"display:none;\">\n",
              "        \n",
              "  <svg xmlns=\"http://www.w3.org/2000/svg\" height=\"24px\"viewBox=\"0 0 24 24\"\n",
              "       width=\"24px\">\n",
              "    <path d=\"M0 0h24v24H0V0z\" fill=\"none\"/>\n",
              "    <path d=\"M18.56 5.44l.94 2.06.94-2.06 2.06-.94-2.06-.94-.94-2.06-.94 2.06-2.06.94zm-11 1L8.5 8.5l.94-2.06 2.06-.94-2.06-.94L8.5 2.5l-.94 2.06-2.06.94zm10 10l.94 2.06.94-2.06 2.06-.94-2.06-.94-.94-2.06-.94 2.06-2.06.94z\"/><path d=\"M17.41 7.96l-1.37-1.37c-.4-.4-.92-.59-1.43-.59-.52 0-1.04.2-1.43.59L10.3 9.45l-7.72 7.72c-.78.78-.78 2.05 0 2.83L4 21.41c.39.39.9.59 1.41.59.51 0 1.02-.2 1.41-.59l7.78-7.78 2.81-2.81c.8-.78.8-2.07 0-2.86zM5.41 20L4 18.59l7.72-7.72 1.47 1.35L5.41 20z\"/>\n",
              "  </svg>\n",
              "      </button>\n",
              "      \n",
              "  <style>\n",
              "    .colab-df-container {\n",
              "      display:flex;\n",
              "      flex-wrap:wrap;\n",
              "      gap: 12px;\n",
              "    }\n",
              "\n",
              "    .colab-df-convert {\n",
              "      background-color: #E8F0FE;\n",
              "      border: none;\n",
              "      border-radius: 50%;\n",
              "      cursor: pointer;\n",
              "      display: none;\n",
              "      fill: #1967D2;\n",
              "      height: 32px;\n",
              "      padding: 0 0 0 0;\n",
              "      width: 32px;\n",
              "    }\n",
              "\n",
              "    .colab-df-convert:hover {\n",
              "      background-color: #E2EBFA;\n",
              "      box-shadow: 0px 1px 2px rgba(60, 64, 67, 0.3), 0px 1px 3px 1px rgba(60, 64, 67, 0.15);\n",
              "      fill: #174EA6;\n",
              "    }\n",
              "\n",
              "    [theme=dark] .colab-df-convert {\n",
              "      background-color: #3B4455;\n",
              "      fill: #D2E3FC;\n",
              "    }\n",
              "\n",
              "    [theme=dark] .colab-df-convert:hover {\n",
              "      background-color: #434B5C;\n",
              "      box-shadow: 0px 1px 3px 1px rgba(0, 0, 0, 0.15);\n",
              "      filter: drop-shadow(0px 1px 2px rgba(0, 0, 0, 0.3));\n",
              "      fill: #FFFFFF;\n",
              "    }\n",
              "  </style>\n",
              "\n",
              "      <script>\n",
              "        const buttonEl =\n",
              "          document.querySelector('#df-b39a6b24-eb17-4bfa-bf00-a88114cf0c0c button.colab-df-convert');\n",
              "        buttonEl.style.display =\n",
              "          google.colab.kernel.accessAllowed ? 'block' : 'none';\n",
              "\n",
              "        async function convertToInteractive(key) {\n",
              "          const element = document.querySelector('#df-b39a6b24-eb17-4bfa-bf00-a88114cf0c0c');\n",
              "          const dataTable =\n",
              "            await google.colab.kernel.invokeFunction('convertToInteractive',\n",
              "                                                     [key], {});\n",
              "          if (!dataTable) return;\n",
              "\n",
              "          const docLinkHtml = 'Like what you see? Visit the ' +\n",
              "            '<a target=\"_blank\" href=https://colab.research.google.com/notebooks/data_table.ipynb>data table notebook</a>'\n",
              "            + ' to learn more about interactive tables.';\n",
              "          element.innerHTML = '';\n",
              "          dataTable['output_type'] = 'display_data';\n",
              "          await google.colab.output.renderOutput(dataTable, element);\n",
              "          const docLink = document.createElement('div');\n",
              "          docLink.innerHTML = docLinkHtml;\n",
              "          element.appendChild(docLink);\n",
              "        }\n",
              "      </script>\n",
              "    </div>\n",
              "  </div>\n",
              "  "
            ]
          },
          "metadata": {},
          "execution_count": 4
        }
      ],
      "source": [
        "# посмотрим информацию о датасете orders\n",
        "\n",
        "orders.info()\n",
        "orders.head()"
      ]
    },
    {
      "cell_type": "code",
      "execution_count": 5,
      "metadata": {
        "id": "yODTxBIXKy-O"
      },
      "outputs": [],
      "source": [
        "# находим крайние даты заказов\n",
        "min_order_date = orders['date'].min()\n",
        "max_order_date = orders['date'].max()"
      ]
    },
    {
      "cell_type": "code",
      "execution_count": 6,
      "metadata": {
        "id": "UL2_KPusKy-O",
        "outputId": "fb7dd20e-65d6-4c1a-891b-f218fb1796da",
        "colab": {
          "base_uri": "https://localhost:8080/",
          "height": 35
        }
      },
      "outputs": [
        {
          "output_type": "execute_result",
          "data": {
            "text/plain": [
              "'2019-08-01'"
            ],
            "application/vnd.google.colaboratory.intrinsic+json": {
              "type": "string"
            }
          },
          "metadata": {},
          "execution_count": 6
        }
      ],
      "source": [
        "min_order_date"
      ]
    },
    {
      "cell_type": "code",
      "execution_count": 7,
      "metadata": {
        "id": "jHnN6q5sKy-P",
        "outputId": "0ea44355-ab8a-4e35-a2c8-0771d8e5d69f",
        "colab": {
          "base_uri": "https://localhost:8080/",
          "height": 35
        }
      },
      "outputs": [
        {
          "output_type": "execute_result",
          "data": {
            "text/plain": [
              "'2019-08-31'"
            ],
            "application/vnd.google.colaboratory.intrinsic+json": {
              "type": "string"
            }
          },
          "metadata": {},
          "execution_count": 7
        }
      ],
      "source": [
        "max_order_date"
      ]
    },
    {
      "cell_type": "markdown",
      "metadata": {
        "id": "Zeha8eS_Ky-P"
      },
      "source": [
        "В наборе данных рассматриваем промежуток заказов за месяц: с 01.08.2019 по 31.08.2019."
      ]
    },
    {
      "cell_type": "code",
      "execution_count": 8,
      "metadata": {
        "id": "7yGkYMcmKy-P",
        "outputId": "e16a2d9a-cbe7-4e92-c646-d104f812e19a",
        "colab": {
          "base_uri": "https://localhost:8080/",
          "height": 143
        }
      },
      "outputs": [
        {
          "output_type": "execute_result",
          "data": {
            "text/plain": [
              "       visitorId\n",
              "group           \n",
              "A            503\n",
              "B            586"
            ],
            "text/html": [
              "\n",
              "  <div id=\"df-55fc3ff4-aa33-46e3-9df3-14d17921af39\">\n",
              "    <div class=\"colab-df-container\">\n",
              "      <div>\n",
              "<style scoped>\n",
              "    .dataframe tbody tr th:only-of-type {\n",
              "        vertical-align: middle;\n",
              "    }\n",
              "\n",
              "    .dataframe tbody tr th {\n",
              "        vertical-align: top;\n",
              "    }\n",
              "\n",
              "    .dataframe thead th {\n",
              "        text-align: right;\n",
              "    }\n",
              "</style>\n",
              "<table border=\"1\" class=\"dataframe\">\n",
              "  <thead>\n",
              "    <tr style=\"text-align: right;\">\n",
              "      <th></th>\n",
              "      <th>visitorId</th>\n",
              "    </tr>\n",
              "    <tr>\n",
              "      <th>group</th>\n",
              "      <th></th>\n",
              "    </tr>\n",
              "  </thead>\n",
              "  <tbody>\n",
              "    <tr>\n",
              "      <th>A</th>\n",
              "      <td>503</td>\n",
              "    </tr>\n",
              "    <tr>\n",
              "      <th>B</th>\n",
              "      <td>586</td>\n",
              "    </tr>\n",
              "  </tbody>\n",
              "</table>\n",
              "</div>\n",
              "      <button class=\"colab-df-convert\" onclick=\"convertToInteractive('df-55fc3ff4-aa33-46e3-9df3-14d17921af39')\"\n",
              "              title=\"Convert this dataframe to an interactive table.\"\n",
              "              style=\"display:none;\">\n",
              "        \n",
              "  <svg xmlns=\"http://www.w3.org/2000/svg\" height=\"24px\"viewBox=\"0 0 24 24\"\n",
              "       width=\"24px\">\n",
              "    <path d=\"M0 0h24v24H0V0z\" fill=\"none\"/>\n",
              "    <path d=\"M18.56 5.44l.94 2.06.94-2.06 2.06-.94-2.06-.94-.94-2.06-.94 2.06-2.06.94zm-11 1L8.5 8.5l.94-2.06 2.06-.94-2.06-.94L8.5 2.5l-.94 2.06-2.06.94zm10 10l.94 2.06.94-2.06 2.06-.94-2.06-.94-.94-2.06-.94 2.06-2.06.94z\"/><path d=\"M17.41 7.96l-1.37-1.37c-.4-.4-.92-.59-1.43-.59-.52 0-1.04.2-1.43.59L10.3 9.45l-7.72 7.72c-.78.78-.78 2.05 0 2.83L4 21.41c.39.39.9.59 1.41.59.51 0 1.02-.2 1.41-.59l7.78-7.78 2.81-2.81c.8-.78.8-2.07 0-2.86zM5.41 20L4 18.59l7.72-7.72 1.47 1.35L5.41 20z\"/>\n",
              "  </svg>\n",
              "      </button>\n",
              "      \n",
              "  <style>\n",
              "    .colab-df-container {\n",
              "      display:flex;\n",
              "      flex-wrap:wrap;\n",
              "      gap: 12px;\n",
              "    }\n",
              "\n",
              "    .colab-df-convert {\n",
              "      background-color: #E8F0FE;\n",
              "      border: none;\n",
              "      border-radius: 50%;\n",
              "      cursor: pointer;\n",
              "      display: none;\n",
              "      fill: #1967D2;\n",
              "      height: 32px;\n",
              "      padding: 0 0 0 0;\n",
              "      width: 32px;\n",
              "    }\n",
              "\n",
              "    .colab-df-convert:hover {\n",
              "      background-color: #E2EBFA;\n",
              "      box-shadow: 0px 1px 2px rgba(60, 64, 67, 0.3), 0px 1px 3px 1px rgba(60, 64, 67, 0.15);\n",
              "      fill: #174EA6;\n",
              "    }\n",
              "\n",
              "    [theme=dark] .colab-df-convert {\n",
              "      background-color: #3B4455;\n",
              "      fill: #D2E3FC;\n",
              "    }\n",
              "\n",
              "    [theme=dark] .colab-df-convert:hover {\n",
              "      background-color: #434B5C;\n",
              "      box-shadow: 0px 1px 3px 1px rgba(0, 0, 0, 0.15);\n",
              "      filter: drop-shadow(0px 1px 2px rgba(0, 0, 0, 0.3));\n",
              "      fill: #FFFFFF;\n",
              "    }\n",
              "  </style>\n",
              "\n",
              "      <script>\n",
              "        const buttonEl =\n",
              "          document.querySelector('#df-55fc3ff4-aa33-46e3-9df3-14d17921af39 button.colab-df-convert');\n",
              "        buttonEl.style.display =\n",
              "          google.colab.kernel.accessAllowed ? 'block' : 'none';\n",
              "\n",
              "        async function convertToInteractive(key) {\n",
              "          const element = document.querySelector('#df-55fc3ff4-aa33-46e3-9df3-14d17921af39');\n",
              "          const dataTable =\n",
              "            await google.colab.kernel.invokeFunction('convertToInteractive',\n",
              "                                                     [key], {});\n",
              "          if (!dataTable) return;\n",
              "\n",
              "          const docLinkHtml = 'Like what you see? Visit the ' +\n",
              "            '<a target=\"_blank\" href=https://colab.research.google.com/notebooks/data_table.ipynb>data table notebook</a>'\n",
              "            + ' to learn more about interactive tables.';\n",
              "          element.innerHTML = '';\n",
              "          dataTable['output_type'] = 'display_data';\n",
              "          await google.colab.output.renderOutput(dataTable, element);\n",
              "          const docLink = document.createElement('div');\n",
              "          docLink.innerHTML = docLinkHtml;\n",
              "          element.appendChild(docLink);\n",
              "        }\n",
              "      </script>\n",
              "    </div>\n",
              "  </div>\n",
              "  "
            ]
          },
          "metadata": {},
          "execution_count": 8
        }
      ],
      "source": [
        "# смотрим количество пользователей в обеих группах\n",
        "orders.groupby('group').agg({'visitorId' : 'nunique'})"
      ]
    },
    {
      "cell_type": "markdown",
      "metadata": {
        "id": "Hj_PiOklKy-P"
      },
      "source": [
        "<div class=\"alert alert-info\"> <b>Комментарий:</b> Выборки различаются. По-хорошему, нужно удалить дубликаты пользователей и выровнять результат. \n",
        "Но преподаватель курса написал, что \"именно для этого исследования не важно, результаты будут такими же\". Поэтому не буду заострять на этом внимание.</div>\n",
        "\n"
      ]
    },
    {
      "cell_type": "code",
      "execution_count": 9,
      "metadata": {
        "id": "1VOukELIKy-Q",
        "outputId": "f90c4670-dcb7-4423-ec0b-06ae018ecb17",
        "colab": {
          "base_uri": "https://localhost:8080/",
          "height": 385
        }
      },
      "outputs": [
        {
          "output_type": "stream",
          "name": "stdout",
          "text": [
            "<class 'pandas.core.frame.DataFrame'>\n",
            "RangeIndex: 62 entries, 0 to 61\n",
            "Data columns (total 3 columns):\n",
            " #   Column    Non-Null Count  Dtype \n",
            "---  ------    --------------  ----- \n",
            " 0   date      62 non-null     object\n",
            " 1   group     62 non-null     object\n",
            " 2   visitors  62 non-null     int64 \n",
            "dtypes: int64(1), object(2)\n",
            "memory usage: 1.6+ KB\n"
          ]
        },
        {
          "output_type": "execute_result",
          "data": {
            "text/plain": [
              "         date group  visitors\n",
              "0  2019-08-01     A       719\n",
              "1  2019-08-02     A       619\n",
              "2  2019-08-03     A       507\n",
              "3  2019-08-04     A       717\n",
              "4  2019-08-05     A       756"
            ],
            "text/html": [
              "\n",
              "  <div id=\"df-e9cf7ddb-25ab-40f7-a098-df3dba8c085f\">\n",
              "    <div class=\"colab-df-container\">\n",
              "      <div>\n",
              "<style scoped>\n",
              "    .dataframe tbody tr th:only-of-type {\n",
              "        vertical-align: middle;\n",
              "    }\n",
              "\n",
              "    .dataframe tbody tr th {\n",
              "        vertical-align: top;\n",
              "    }\n",
              "\n",
              "    .dataframe thead th {\n",
              "        text-align: right;\n",
              "    }\n",
              "</style>\n",
              "<table border=\"1\" class=\"dataframe\">\n",
              "  <thead>\n",
              "    <tr style=\"text-align: right;\">\n",
              "      <th></th>\n",
              "      <th>date</th>\n",
              "      <th>group</th>\n",
              "      <th>visitors</th>\n",
              "    </tr>\n",
              "  </thead>\n",
              "  <tbody>\n",
              "    <tr>\n",
              "      <th>0</th>\n",
              "      <td>2019-08-01</td>\n",
              "      <td>A</td>\n",
              "      <td>719</td>\n",
              "    </tr>\n",
              "    <tr>\n",
              "      <th>1</th>\n",
              "      <td>2019-08-02</td>\n",
              "      <td>A</td>\n",
              "      <td>619</td>\n",
              "    </tr>\n",
              "    <tr>\n",
              "      <th>2</th>\n",
              "      <td>2019-08-03</td>\n",
              "      <td>A</td>\n",
              "      <td>507</td>\n",
              "    </tr>\n",
              "    <tr>\n",
              "      <th>3</th>\n",
              "      <td>2019-08-04</td>\n",
              "      <td>A</td>\n",
              "      <td>717</td>\n",
              "    </tr>\n",
              "    <tr>\n",
              "      <th>4</th>\n",
              "      <td>2019-08-05</td>\n",
              "      <td>A</td>\n",
              "      <td>756</td>\n",
              "    </tr>\n",
              "  </tbody>\n",
              "</table>\n",
              "</div>\n",
              "      <button class=\"colab-df-convert\" onclick=\"convertToInteractive('df-e9cf7ddb-25ab-40f7-a098-df3dba8c085f')\"\n",
              "              title=\"Convert this dataframe to an interactive table.\"\n",
              "              style=\"display:none;\">\n",
              "        \n",
              "  <svg xmlns=\"http://www.w3.org/2000/svg\" height=\"24px\"viewBox=\"0 0 24 24\"\n",
              "       width=\"24px\">\n",
              "    <path d=\"M0 0h24v24H0V0z\" fill=\"none\"/>\n",
              "    <path d=\"M18.56 5.44l.94 2.06.94-2.06 2.06-.94-2.06-.94-.94-2.06-.94 2.06-2.06.94zm-11 1L8.5 8.5l.94-2.06 2.06-.94-2.06-.94L8.5 2.5l-.94 2.06-2.06.94zm10 10l.94 2.06.94-2.06 2.06-.94-2.06-.94-.94-2.06-.94 2.06-2.06.94z\"/><path d=\"M17.41 7.96l-1.37-1.37c-.4-.4-.92-.59-1.43-.59-.52 0-1.04.2-1.43.59L10.3 9.45l-7.72 7.72c-.78.78-.78 2.05 0 2.83L4 21.41c.39.39.9.59 1.41.59.51 0 1.02-.2 1.41-.59l7.78-7.78 2.81-2.81c.8-.78.8-2.07 0-2.86zM5.41 20L4 18.59l7.72-7.72 1.47 1.35L5.41 20z\"/>\n",
              "  </svg>\n",
              "      </button>\n",
              "      \n",
              "  <style>\n",
              "    .colab-df-container {\n",
              "      display:flex;\n",
              "      flex-wrap:wrap;\n",
              "      gap: 12px;\n",
              "    }\n",
              "\n",
              "    .colab-df-convert {\n",
              "      background-color: #E8F0FE;\n",
              "      border: none;\n",
              "      border-radius: 50%;\n",
              "      cursor: pointer;\n",
              "      display: none;\n",
              "      fill: #1967D2;\n",
              "      height: 32px;\n",
              "      padding: 0 0 0 0;\n",
              "      width: 32px;\n",
              "    }\n",
              "\n",
              "    .colab-df-convert:hover {\n",
              "      background-color: #E2EBFA;\n",
              "      box-shadow: 0px 1px 2px rgba(60, 64, 67, 0.3), 0px 1px 3px 1px rgba(60, 64, 67, 0.15);\n",
              "      fill: #174EA6;\n",
              "    }\n",
              "\n",
              "    [theme=dark] .colab-df-convert {\n",
              "      background-color: #3B4455;\n",
              "      fill: #D2E3FC;\n",
              "    }\n",
              "\n",
              "    [theme=dark] .colab-df-convert:hover {\n",
              "      background-color: #434B5C;\n",
              "      box-shadow: 0px 1px 3px 1px rgba(0, 0, 0, 0.15);\n",
              "      filter: drop-shadow(0px 1px 2px rgba(0, 0, 0, 0.3));\n",
              "      fill: #FFFFFF;\n",
              "    }\n",
              "  </style>\n",
              "\n",
              "      <script>\n",
              "        const buttonEl =\n",
              "          document.querySelector('#df-e9cf7ddb-25ab-40f7-a098-df3dba8c085f button.colab-df-convert');\n",
              "        buttonEl.style.display =\n",
              "          google.colab.kernel.accessAllowed ? 'block' : 'none';\n",
              "\n",
              "        async function convertToInteractive(key) {\n",
              "          const element = document.querySelector('#df-e9cf7ddb-25ab-40f7-a098-df3dba8c085f');\n",
              "          const dataTable =\n",
              "            await google.colab.kernel.invokeFunction('convertToInteractive',\n",
              "                                                     [key], {});\n",
              "          if (!dataTable) return;\n",
              "\n",
              "          const docLinkHtml = 'Like what you see? Visit the ' +\n",
              "            '<a target=\"_blank\" href=https://colab.research.google.com/notebooks/data_table.ipynb>data table notebook</a>'\n",
              "            + ' to learn more about interactive tables.';\n",
              "          element.innerHTML = '';\n",
              "          dataTable['output_type'] = 'display_data';\n",
              "          await google.colab.output.renderOutput(dataTable, element);\n",
              "          const docLink = document.createElement('div');\n",
              "          docLink.innerHTML = docLinkHtml;\n",
              "          element.appendChild(docLink);\n",
              "        }\n",
              "      </script>\n",
              "    </div>\n",
              "  </div>\n",
              "  "
            ]
          },
          "metadata": {},
          "execution_count": 9
        }
      ],
      "source": [
        "# посмотрим информацию о датасете visitors\n",
        "\n",
        "visitors.info()\n",
        "visitors.head()"
      ]
    },
    {
      "cell_type": "markdown",
      "metadata": {
        "id": "Cr8kZH87Ky-Q"
      },
      "source": [
        "Похоже, что данные в целом в порядке – пропущенных значений не обнаружено.\n",
        "\n",
        "Нужно поправить стилистические недочеты в названиях столбцов некоторых датафреймов и привести столбцы о времени к корректному типу данных."
      ]
    },
    {
      "cell_type": "code",
      "execution_count": 10,
      "metadata": {
        "id": "Za6BOimIKy-Q"
      },
      "outputs": [],
      "source": [
        "# приведем названия столбцов к нижнему регистру\n",
        "hypothesis = hypothesis.rename(str.lower, axis='columns')\n",
        "\n",
        "# переименуем названия столбцов в snake_case\n",
        "orders = orders.rename(columns={'transactionId': 'transaction_id' \\\n",
        "                                , 'visitorId': 'visitor_id'})\n",
        "\n",
        "# преобразуем данные о времени для дальнейших расчётов\n",
        "visitors['date'] = visitors['date'].map(lambda x: dt.datetime.strptime(x, '%Y-%m-%d'))\n",
        "orders['date'] = orders['date'].map(lambda x: dt.datetime.strptime(x, '%Y-%m-%d'))\n"
      ]
    },
    {
      "cell_type": "markdown",
      "metadata": {
        "id": "EA7hYYB5Ky-R"
      },
      "source": [
        "**Вывод по шагу:**\n",
        "\n",
        "У нас есть 3 датасета с данными: список гипотез, а также список заказов за месяц и список с количеством посещений. \n",
        "\n",
        "Пропущенных значений не обнаружено. Недочеты в наименованиях столбцов и типах данных исправлены. \n",
        "\n",
        "Данные готовы к анализу."
      ]
    },
    {
      "cell_type": "markdown",
      "metadata": {
        "id": "Rvf3wYAVKy-R"
      },
      "source": [
        "## Анализ данных\n"
      ]
    },
    {
      "cell_type": "markdown",
      "metadata": {
        "id": "AzpDMk4gKy-R"
      },
      "source": [
        "### Часть 1. Приоритизация гипотез."
      ]
    },
    {
      "cell_type": "markdown",
      "metadata": {
        "id": "vOt6P3VIKy-R"
      },
      "source": [
        "**Задание:** В файле `hypothesis.csv` 9 гипотез по увеличению выручки интернет-магазина с указанными параметрами `Reach`, `Impact`, `Confidence`, `Effort`."
      ]
    },
    {
      "cell_type": "markdown",
      "metadata": {
        "id": "rqiKSsI1Ky-R"
      },
      "source": [
        "1. Применим фреймворк `ICE` для приоритизации гипотез. Отсортируем их по убыванию приоритета."
      ]
    },
    {
      "cell_type": "code",
      "execution_count": 11,
      "metadata": {
        "id": "7Jn9PyyHKy-S",
        "outputId": "d4a0426e-e5ae-4b0c-9c12-0fc5c672451b",
        "colab": {
          "base_uri": "https://localhost:8080/",
          "height": 332
        }
      },
      "outputs": [
        {
          "output_type": "execute_result",
          "data": {
            "text/plain": [
              "                                                                                            hypothesis  \\\n",
              "8                                              Запустить акцию, дающую скидку на товар в день рождения   \n",
              "0   Добавить два новых канала привлечения трафика, что позволит привлекать на 30% больше пользователей   \n",
              "7     Добавить форму подписки на все основные страницы, чтобы собрать базу клиентов для email-рассылок   \n",
              "6  Показать на главной странице баннеры с актуальными акциями и распродажами, чтобы увеличить конве...   \n",
              "2  Добавить блоки рекомендаций товаров на сайт интернет магазина, чтобы повысить конверсию и средни...   \n",
              "1                            Запустить собственную службу доставки, что сократит срок доставки заказов   \n",
              "5             Добавить страницу отзывов клиентов о магазине, что позволит увеличить количество заказов   \n",
              "3  Изменить структура категорий, что увеличит конверсию, т.к. пользователи быстрее найдут нужный товар   \n",
              "4                     Изменить цвет фона главной страницы, чтобы увеличить вовлеченность пользователей   \n",
              "\n",
              "     ICE  \n",
              "8 16.200  \n",
              "0 13.333  \n",
              "7 11.200  \n",
              "6  8.000  \n",
              "2  7.000  \n",
              "1  2.000  \n",
              "5  1.333  \n",
              "3  1.125  \n",
              "4  1.000  "
            ],
            "text/html": [
              "\n",
              "  <div id=\"df-cd6c96f5-12c0-4c7d-9355-56d632c7a6f9\">\n",
              "    <div class=\"colab-df-container\">\n",
              "      <div>\n",
              "<style scoped>\n",
              "    .dataframe tbody tr th:only-of-type {\n",
              "        vertical-align: middle;\n",
              "    }\n",
              "\n",
              "    .dataframe tbody tr th {\n",
              "        vertical-align: top;\n",
              "    }\n",
              "\n",
              "    .dataframe thead th {\n",
              "        text-align: right;\n",
              "    }\n",
              "</style>\n",
              "<table border=\"1\" class=\"dataframe\">\n",
              "  <thead>\n",
              "    <tr style=\"text-align: right;\">\n",
              "      <th></th>\n",
              "      <th>hypothesis</th>\n",
              "      <th>ICE</th>\n",
              "    </tr>\n",
              "  </thead>\n",
              "  <tbody>\n",
              "    <tr>\n",
              "      <th>8</th>\n",
              "      <td>Запустить акцию, дающую скидку на товар в день рождения</td>\n",
              "      <td>16.200</td>\n",
              "    </tr>\n",
              "    <tr>\n",
              "      <th>0</th>\n",
              "      <td>Добавить два новых канала привлечения трафика, что позволит привлекать на 30% больше пользователей</td>\n",
              "      <td>13.333</td>\n",
              "    </tr>\n",
              "    <tr>\n",
              "      <th>7</th>\n",
              "      <td>Добавить форму подписки на все основные страницы, чтобы собрать базу клиентов для email-рассылок</td>\n",
              "      <td>11.200</td>\n",
              "    </tr>\n",
              "    <tr>\n",
              "      <th>6</th>\n",
              "      <td>Показать на главной странице баннеры с актуальными акциями и распродажами, чтобы увеличить конве...</td>\n",
              "      <td>8.000</td>\n",
              "    </tr>\n",
              "    <tr>\n",
              "      <th>2</th>\n",
              "      <td>Добавить блоки рекомендаций товаров на сайт интернет магазина, чтобы повысить конверсию и средни...</td>\n",
              "      <td>7.000</td>\n",
              "    </tr>\n",
              "    <tr>\n",
              "      <th>1</th>\n",
              "      <td>Запустить собственную службу доставки, что сократит срок доставки заказов</td>\n",
              "      <td>2.000</td>\n",
              "    </tr>\n",
              "    <tr>\n",
              "      <th>5</th>\n",
              "      <td>Добавить страницу отзывов клиентов о магазине, что позволит увеличить количество заказов</td>\n",
              "      <td>1.333</td>\n",
              "    </tr>\n",
              "    <tr>\n",
              "      <th>3</th>\n",
              "      <td>Изменить структура категорий, что увеличит конверсию, т.к. пользователи быстрее найдут нужный товар</td>\n",
              "      <td>1.125</td>\n",
              "    </tr>\n",
              "    <tr>\n",
              "      <th>4</th>\n",
              "      <td>Изменить цвет фона главной страницы, чтобы увеличить вовлеченность пользователей</td>\n",
              "      <td>1.000</td>\n",
              "    </tr>\n",
              "  </tbody>\n",
              "</table>\n",
              "</div>\n",
              "      <button class=\"colab-df-convert\" onclick=\"convertToInteractive('df-cd6c96f5-12c0-4c7d-9355-56d632c7a6f9')\"\n",
              "              title=\"Convert this dataframe to an interactive table.\"\n",
              "              style=\"display:none;\">\n",
              "        \n",
              "  <svg xmlns=\"http://www.w3.org/2000/svg\" height=\"24px\"viewBox=\"0 0 24 24\"\n",
              "       width=\"24px\">\n",
              "    <path d=\"M0 0h24v24H0V0z\" fill=\"none\"/>\n",
              "    <path d=\"M18.56 5.44l.94 2.06.94-2.06 2.06-.94-2.06-.94-.94-2.06-.94 2.06-2.06.94zm-11 1L8.5 8.5l.94-2.06 2.06-.94-2.06-.94L8.5 2.5l-.94 2.06-2.06.94zm10 10l.94 2.06.94-2.06 2.06-.94-2.06-.94-.94-2.06-.94 2.06-2.06.94z\"/><path d=\"M17.41 7.96l-1.37-1.37c-.4-.4-.92-.59-1.43-.59-.52 0-1.04.2-1.43.59L10.3 9.45l-7.72 7.72c-.78.78-.78 2.05 0 2.83L4 21.41c.39.39.9.59 1.41.59.51 0 1.02-.2 1.41-.59l7.78-7.78 2.81-2.81c.8-.78.8-2.07 0-2.86zM5.41 20L4 18.59l7.72-7.72 1.47 1.35L5.41 20z\"/>\n",
              "  </svg>\n",
              "      </button>\n",
              "      \n",
              "  <style>\n",
              "    .colab-df-container {\n",
              "      display:flex;\n",
              "      flex-wrap:wrap;\n",
              "      gap: 12px;\n",
              "    }\n",
              "\n",
              "    .colab-df-convert {\n",
              "      background-color: #E8F0FE;\n",
              "      border: none;\n",
              "      border-radius: 50%;\n",
              "      cursor: pointer;\n",
              "      display: none;\n",
              "      fill: #1967D2;\n",
              "      height: 32px;\n",
              "      padding: 0 0 0 0;\n",
              "      width: 32px;\n",
              "    }\n",
              "\n",
              "    .colab-df-convert:hover {\n",
              "      background-color: #E2EBFA;\n",
              "      box-shadow: 0px 1px 2px rgba(60, 64, 67, 0.3), 0px 1px 3px 1px rgba(60, 64, 67, 0.15);\n",
              "      fill: #174EA6;\n",
              "    }\n",
              "\n",
              "    [theme=dark] .colab-df-convert {\n",
              "      background-color: #3B4455;\n",
              "      fill: #D2E3FC;\n",
              "    }\n",
              "\n",
              "    [theme=dark] .colab-df-convert:hover {\n",
              "      background-color: #434B5C;\n",
              "      box-shadow: 0px 1px 3px 1px rgba(0, 0, 0, 0.15);\n",
              "      filter: drop-shadow(0px 1px 2px rgba(0, 0, 0, 0.3));\n",
              "      fill: #FFFFFF;\n",
              "    }\n",
              "  </style>\n",
              "\n",
              "      <script>\n",
              "        const buttonEl =\n",
              "          document.querySelector('#df-cd6c96f5-12c0-4c7d-9355-56d632c7a6f9 button.colab-df-convert');\n",
              "        buttonEl.style.display =\n",
              "          google.colab.kernel.accessAllowed ? 'block' : 'none';\n",
              "\n",
              "        async function convertToInteractive(key) {\n",
              "          const element = document.querySelector('#df-cd6c96f5-12c0-4c7d-9355-56d632c7a6f9');\n",
              "          const dataTable =\n",
              "            await google.colab.kernel.invokeFunction('convertToInteractive',\n",
              "                                                     [key], {});\n",
              "          if (!dataTable) return;\n",
              "\n",
              "          const docLinkHtml = 'Like what you see? Visit the ' +\n",
              "            '<a target=\"_blank\" href=https://colab.research.google.com/notebooks/data_table.ipynb>data table notebook</a>'\n",
              "            + ' to learn more about interactive tables.';\n",
              "          element.innerHTML = '';\n",
              "          dataTable['output_type'] = 'display_data';\n",
              "          await google.colab.output.renderOutput(dataTable, element);\n",
              "          const docLink = document.createElement('div');\n",
              "          docLink.innerHTML = docLinkHtml;\n",
              "          element.appendChild(docLink);\n",
              "        }\n",
              "      </script>\n",
              "    </div>\n",
              "  </div>\n",
              "  "
            ]
          },
          "metadata": {},
          "execution_count": 11
        }
      ],
      "source": [
        "hypothesis['ICE'] = (hypothesis['impact'] \\\n",
        "                     * hypothesis['confidence']) / hypothesis['efforts']\n",
        "\n",
        "hypothesis[['hypothesis', 'ICE']].sort_values(by='ICE', ascending=False)"
      ]
    },
    {
      "cell_type": "markdown",
      "metadata": {
        "id": "UCjRShdNKy-S"
      },
      "source": [
        "По методу оценки приоритетов `ICE`: 8 гипотеза самая перспективная, далее идут \n",
        "гипотезы 0 и 7."
      ]
    },
    {
      "cell_type": "markdown",
      "metadata": {
        "id": "tV8J3p3bKy-S"
      },
      "source": [
        "2. Применим фреймворк `RICE` для приоритизации гипотез. Отсортируем их по убыванию приоритета.\n"
      ]
    },
    {
      "cell_type": "code",
      "execution_count": 12,
      "metadata": {
        "id": "kk-PsmEIKy-S",
        "outputId": "6728b1c5-7bf8-4490-9a23-85ddcb83dba4",
        "colab": {
          "base_uri": "https://localhost:8080/",
          "height": 332
        }
      },
      "outputs": [
        {
          "output_type": "execute_result",
          "data": {
            "text/plain": [
              "                                                                                            hypothesis  \\\n",
              "7     Добавить форму подписки на все основные страницы, чтобы собрать базу клиентов для email-рассылок   \n",
              "2  Добавить блоки рекомендаций товаров на сайт интернет магазина, чтобы повысить конверсию и средни...   \n",
              "0   Добавить два новых канала привлечения трафика, что позволит привлекать на 30% больше пользователей   \n",
              "6  Показать на главной странице баннеры с актуальными акциями и распродажами, чтобы увеличить конве...   \n",
              "8                                              Запустить акцию, дающую скидку на товар в день рождения   \n",
              "3  Изменить структура категорий, что увеличит конверсию, т.к. пользователи быстрее найдут нужный товар   \n",
              "1                            Запустить собственную службу доставки, что сократит срок доставки заказов   \n",
              "5             Добавить страницу отзывов клиентов о магазине, что позволит увеличить количество заказов   \n",
              "4                     Изменить цвет фона главной страницы, чтобы увеличить вовлеченность пользователей   \n",
              "\n",
              "     RICE  \n",
              "7 112.000  \n",
              "2  56.000  \n",
              "0  40.000  \n",
              "6  40.000  \n",
              "8  16.200  \n",
              "3   9.000  \n",
              "1   4.000  \n",
              "5   4.000  \n",
              "4   3.000  "
            ],
            "text/html": [
              "\n",
              "  <div id=\"df-1ddc31a2-e02e-4f35-97e5-df0733b22aab\">\n",
              "    <div class=\"colab-df-container\">\n",
              "      <div>\n",
              "<style scoped>\n",
              "    .dataframe tbody tr th:only-of-type {\n",
              "        vertical-align: middle;\n",
              "    }\n",
              "\n",
              "    .dataframe tbody tr th {\n",
              "        vertical-align: top;\n",
              "    }\n",
              "\n",
              "    .dataframe thead th {\n",
              "        text-align: right;\n",
              "    }\n",
              "</style>\n",
              "<table border=\"1\" class=\"dataframe\">\n",
              "  <thead>\n",
              "    <tr style=\"text-align: right;\">\n",
              "      <th></th>\n",
              "      <th>hypothesis</th>\n",
              "      <th>RICE</th>\n",
              "    </tr>\n",
              "  </thead>\n",
              "  <tbody>\n",
              "    <tr>\n",
              "      <th>7</th>\n",
              "      <td>Добавить форму подписки на все основные страницы, чтобы собрать базу клиентов для email-рассылок</td>\n",
              "      <td>112.000</td>\n",
              "    </tr>\n",
              "    <tr>\n",
              "      <th>2</th>\n",
              "      <td>Добавить блоки рекомендаций товаров на сайт интернет магазина, чтобы повысить конверсию и средни...</td>\n",
              "      <td>56.000</td>\n",
              "    </tr>\n",
              "    <tr>\n",
              "      <th>0</th>\n",
              "      <td>Добавить два новых канала привлечения трафика, что позволит привлекать на 30% больше пользователей</td>\n",
              "      <td>40.000</td>\n",
              "    </tr>\n",
              "    <tr>\n",
              "      <th>6</th>\n",
              "      <td>Показать на главной странице баннеры с актуальными акциями и распродажами, чтобы увеличить конве...</td>\n",
              "      <td>40.000</td>\n",
              "    </tr>\n",
              "    <tr>\n",
              "      <th>8</th>\n",
              "      <td>Запустить акцию, дающую скидку на товар в день рождения</td>\n",
              "      <td>16.200</td>\n",
              "    </tr>\n",
              "    <tr>\n",
              "      <th>3</th>\n",
              "      <td>Изменить структура категорий, что увеличит конверсию, т.к. пользователи быстрее найдут нужный товар</td>\n",
              "      <td>9.000</td>\n",
              "    </tr>\n",
              "    <tr>\n",
              "      <th>1</th>\n",
              "      <td>Запустить собственную службу доставки, что сократит срок доставки заказов</td>\n",
              "      <td>4.000</td>\n",
              "    </tr>\n",
              "    <tr>\n",
              "      <th>5</th>\n",
              "      <td>Добавить страницу отзывов клиентов о магазине, что позволит увеличить количество заказов</td>\n",
              "      <td>4.000</td>\n",
              "    </tr>\n",
              "    <tr>\n",
              "      <th>4</th>\n",
              "      <td>Изменить цвет фона главной страницы, чтобы увеличить вовлеченность пользователей</td>\n",
              "      <td>3.000</td>\n",
              "    </tr>\n",
              "  </tbody>\n",
              "</table>\n",
              "</div>\n",
              "      <button class=\"colab-df-convert\" onclick=\"convertToInteractive('df-1ddc31a2-e02e-4f35-97e5-df0733b22aab')\"\n",
              "              title=\"Convert this dataframe to an interactive table.\"\n",
              "              style=\"display:none;\">\n",
              "        \n",
              "  <svg xmlns=\"http://www.w3.org/2000/svg\" height=\"24px\"viewBox=\"0 0 24 24\"\n",
              "       width=\"24px\">\n",
              "    <path d=\"M0 0h24v24H0V0z\" fill=\"none\"/>\n",
              "    <path d=\"M18.56 5.44l.94 2.06.94-2.06 2.06-.94-2.06-.94-.94-2.06-.94 2.06-2.06.94zm-11 1L8.5 8.5l.94-2.06 2.06-.94-2.06-.94L8.5 2.5l-.94 2.06-2.06.94zm10 10l.94 2.06.94-2.06 2.06-.94-2.06-.94-.94-2.06-.94 2.06-2.06.94z\"/><path d=\"M17.41 7.96l-1.37-1.37c-.4-.4-.92-.59-1.43-.59-.52 0-1.04.2-1.43.59L10.3 9.45l-7.72 7.72c-.78.78-.78 2.05 0 2.83L4 21.41c.39.39.9.59 1.41.59.51 0 1.02-.2 1.41-.59l7.78-7.78 2.81-2.81c.8-.78.8-2.07 0-2.86zM5.41 20L4 18.59l7.72-7.72 1.47 1.35L5.41 20z\"/>\n",
              "  </svg>\n",
              "      </button>\n",
              "      \n",
              "  <style>\n",
              "    .colab-df-container {\n",
              "      display:flex;\n",
              "      flex-wrap:wrap;\n",
              "      gap: 12px;\n",
              "    }\n",
              "\n",
              "    .colab-df-convert {\n",
              "      background-color: #E8F0FE;\n",
              "      border: none;\n",
              "      border-radius: 50%;\n",
              "      cursor: pointer;\n",
              "      display: none;\n",
              "      fill: #1967D2;\n",
              "      height: 32px;\n",
              "      padding: 0 0 0 0;\n",
              "      width: 32px;\n",
              "    }\n",
              "\n",
              "    .colab-df-convert:hover {\n",
              "      background-color: #E2EBFA;\n",
              "      box-shadow: 0px 1px 2px rgba(60, 64, 67, 0.3), 0px 1px 3px 1px rgba(60, 64, 67, 0.15);\n",
              "      fill: #174EA6;\n",
              "    }\n",
              "\n",
              "    [theme=dark] .colab-df-convert {\n",
              "      background-color: #3B4455;\n",
              "      fill: #D2E3FC;\n",
              "    }\n",
              "\n",
              "    [theme=dark] .colab-df-convert:hover {\n",
              "      background-color: #434B5C;\n",
              "      box-shadow: 0px 1px 3px 1px rgba(0, 0, 0, 0.15);\n",
              "      filter: drop-shadow(0px 1px 2px rgba(0, 0, 0, 0.3));\n",
              "      fill: #FFFFFF;\n",
              "    }\n",
              "  </style>\n",
              "\n",
              "      <script>\n",
              "        const buttonEl =\n",
              "          document.querySelector('#df-1ddc31a2-e02e-4f35-97e5-df0733b22aab button.colab-df-convert');\n",
              "        buttonEl.style.display =\n",
              "          google.colab.kernel.accessAllowed ? 'block' : 'none';\n",
              "\n",
              "        async function convertToInteractive(key) {\n",
              "          const element = document.querySelector('#df-1ddc31a2-e02e-4f35-97e5-df0733b22aab');\n",
              "          const dataTable =\n",
              "            await google.colab.kernel.invokeFunction('convertToInteractive',\n",
              "                                                     [key], {});\n",
              "          if (!dataTable) return;\n",
              "\n",
              "          const docLinkHtml = 'Like what you see? Visit the ' +\n",
              "            '<a target=\"_blank\" href=https://colab.research.google.com/notebooks/data_table.ipynb>data table notebook</a>'\n",
              "            + ' to learn more about interactive tables.';\n",
              "          element.innerHTML = '';\n",
              "          dataTable['output_type'] = 'display_data';\n",
              "          await google.colab.output.renderOutput(dataTable, element);\n",
              "          const docLink = document.createElement('div');\n",
              "          docLink.innerHTML = docLinkHtml;\n",
              "          element.appendChild(docLink);\n",
              "        }\n",
              "      </script>\n",
              "    </div>\n",
              "  </div>\n",
              "  "
            ]
          },
          "metadata": {},
          "execution_count": 12
        }
      ],
      "source": [
        "hypothesis['RICE'] = (hypothesis['reach'] * hypothesis['impact'] \\\n",
        "                      * hypothesis['confidence']) / hypothesis['efforts']\n",
        "\n",
        "hypothesis[['hypothesis', 'RICE']].sort_values(by='RICE', ascending=False)"
      ]
    },
    {
      "cell_type": "markdown",
      "metadata": {
        "id": "Ctim_DAVKy-S"
      },
      "source": [
        "По методу оценки приоритетов `RICE`: 7 гипотеза самая перспективная, далее идут \n",
        "гипотезы 2, 0 и 6. \n",
        "\n",
        "При этом гипотеза 8, которая была первой по методу оценки `ICE`, опустилась в рейтинге на 5 место."
      ]
    },
    {
      "cell_type": "markdown",
      "metadata": {
        "id": "1N4BvG2iKy-T"
      },
      "source": [
        "**Вывод по части:**\n",
        "\n",
        "Приоритезация именилась из-за высокой ценности параметра Reach, который оценивается только по методу `RICE`: у 7 гипотезы – 10 баллов. В то же время у гипотезы 8 этот показатель самый низкий – 1 балл, поэтому ее приоритет снизился.\n",
        "\n",
        "Если кроме силы гипотез учитывается сколько пользователей затронет изменение, то гипотеза номер 7 выглядит наиболее перспективной.\n",
        "\n",
        "Мы убедились, как важно учитывать объем пользователей, на которых скажется изменение, чтобы выбрать верную гипотезу для тестирования.\n"
      ]
    },
    {
      "cell_type": "markdown",
      "metadata": {
        "id": "bDt_VD7lKy-T"
      },
      "source": [
        "### Часть 2. Анализ A/B-теста."
      ]
    },
    {
      "cell_type": "markdown",
      "metadata": {
        "id": "Bmv-PlAwKy-T"
      },
      "source": [
        "**Задание:** Мы провели A/B-тест и получили результаты, которые описаны в файлах `orders.csv` и `visitors.csv`.\n",
        "\n",
        "Проанализируем A/B-тест:"
      ]
    },
    {
      "cell_type": "code",
      "execution_count": 13,
      "metadata": {
        "id": "PO89qjEPKy-T",
        "outputId": "74d04923-9e1d-4dec-c602-97c5d9d2878d",
        "colab": {
          "base_uri": "https://localhost:8080/",
          "height": 206
        }
      },
      "outputs": [
        {
          "output_type": "execute_result",
          "data": {
            "text/plain": [
              "         date group\n",
              "0  2019-08-15     B\n",
              "2  2019-08-15     A\n",
              "45 2019-08-16     A\n",
              "47 2019-08-16     B\n",
              "55 2019-08-01     A"
            ],
            "text/html": [
              "\n",
              "  <div id=\"df-e5143af6-6099-4071-baed-804436ffbec5\">\n",
              "    <div class=\"colab-df-container\">\n",
              "      <div>\n",
              "<style scoped>\n",
              "    .dataframe tbody tr th:only-of-type {\n",
              "        vertical-align: middle;\n",
              "    }\n",
              "\n",
              "    .dataframe tbody tr th {\n",
              "        vertical-align: top;\n",
              "    }\n",
              "\n",
              "    .dataframe thead th {\n",
              "        text-align: right;\n",
              "    }\n",
              "</style>\n",
              "<table border=\"1\" class=\"dataframe\">\n",
              "  <thead>\n",
              "    <tr style=\"text-align: right;\">\n",
              "      <th></th>\n",
              "      <th>date</th>\n",
              "      <th>group</th>\n",
              "    </tr>\n",
              "  </thead>\n",
              "  <tbody>\n",
              "    <tr>\n",
              "      <th>0</th>\n",
              "      <td>2019-08-15</td>\n",
              "      <td>B</td>\n",
              "    </tr>\n",
              "    <tr>\n",
              "      <th>2</th>\n",
              "      <td>2019-08-15</td>\n",
              "      <td>A</td>\n",
              "    </tr>\n",
              "    <tr>\n",
              "      <th>45</th>\n",
              "      <td>2019-08-16</td>\n",
              "      <td>A</td>\n",
              "    </tr>\n",
              "    <tr>\n",
              "      <th>47</th>\n",
              "      <td>2019-08-16</td>\n",
              "      <td>B</td>\n",
              "    </tr>\n",
              "    <tr>\n",
              "      <th>55</th>\n",
              "      <td>2019-08-01</td>\n",
              "      <td>A</td>\n",
              "    </tr>\n",
              "  </tbody>\n",
              "</table>\n",
              "</div>\n",
              "      <button class=\"colab-df-convert\" onclick=\"convertToInteractive('df-e5143af6-6099-4071-baed-804436ffbec5')\"\n",
              "              title=\"Convert this dataframe to an interactive table.\"\n",
              "              style=\"display:none;\">\n",
              "        \n",
              "  <svg xmlns=\"http://www.w3.org/2000/svg\" height=\"24px\"viewBox=\"0 0 24 24\"\n",
              "       width=\"24px\">\n",
              "    <path d=\"M0 0h24v24H0V0z\" fill=\"none\"/>\n",
              "    <path d=\"M18.56 5.44l.94 2.06.94-2.06 2.06-.94-2.06-.94-.94-2.06-.94 2.06-2.06.94zm-11 1L8.5 8.5l.94-2.06 2.06-.94-2.06-.94L8.5 2.5l-.94 2.06-2.06.94zm10 10l.94 2.06.94-2.06 2.06-.94-2.06-.94-.94-2.06-.94 2.06-2.06.94z\"/><path d=\"M17.41 7.96l-1.37-1.37c-.4-.4-.92-.59-1.43-.59-.52 0-1.04.2-1.43.59L10.3 9.45l-7.72 7.72c-.78.78-.78 2.05 0 2.83L4 21.41c.39.39.9.59 1.41.59.51 0 1.02-.2 1.41-.59l7.78-7.78 2.81-2.81c.8-.78.8-2.07 0-2.86zM5.41 20L4 18.59l7.72-7.72 1.47 1.35L5.41 20z\"/>\n",
              "  </svg>\n",
              "      </button>\n",
              "      \n",
              "  <style>\n",
              "    .colab-df-container {\n",
              "      display:flex;\n",
              "      flex-wrap:wrap;\n",
              "      gap: 12px;\n",
              "    }\n",
              "\n",
              "    .colab-df-convert {\n",
              "      background-color: #E8F0FE;\n",
              "      border: none;\n",
              "      border-radius: 50%;\n",
              "      cursor: pointer;\n",
              "      display: none;\n",
              "      fill: #1967D2;\n",
              "      height: 32px;\n",
              "      padding: 0 0 0 0;\n",
              "      width: 32px;\n",
              "    }\n",
              "\n",
              "    .colab-df-convert:hover {\n",
              "      background-color: #E2EBFA;\n",
              "      box-shadow: 0px 1px 2px rgba(60, 64, 67, 0.3), 0px 1px 3px 1px rgba(60, 64, 67, 0.15);\n",
              "      fill: #174EA6;\n",
              "    }\n",
              "\n",
              "    [theme=dark] .colab-df-convert {\n",
              "      background-color: #3B4455;\n",
              "      fill: #D2E3FC;\n",
              "    }\n",
              "\n",
              "    [theme=dark] .colab-df-convert:hover {\n",
              "      background-color: #434B5C;\n",
              "      box-shadow: 0px 1px 3px 1px rgba(0, 0, 0, 0.15);\n",
              "      filter: drop-shadow(0px 1px 2px rgba(0, 0, 0, 0.3));\n",
              "      fill: #FFFFFF;\n",
              "    }\n",
              "  </style>\n",
              "\n",
              "      <script>\n",
              "        const buttonEl =\n",
              "          document.querySelector('#df-e5143af6-6099-4071-baed-804436ffbec5 button.colab-df-convert');\n",
              "        buttonEl.style.display =\n",
              "          google.colab.kernel.accessAllowed ? 'block' : 'none';\n",
              "\n",
              "        async function convertToInteractive(key) {\n",
              "          const element = document.querySelector('#df-e5143af6-6099-4071-baed-804436ffbec5');\n",
              "          const dataTable =\n",
              "            await google.colab.kernel.invokeFunction('convertToInteractive',\n",
              "                                                     [key], {});\n",
              "          if (!dataTable) return;\n",
              "\n",
              "          const docLinkHtml = 'Like what you see? Visit the ' +\n",
              "            '<a target=\"_blank\" href=https://colab.research.google.com/notebooks/data_table.ipynb>data table notebook</a>'\n",
              "            + ' to learn more about interactive tables.';\n",
              "          element.innerHTML = '';\n",
              "          dataTable['output_type'] = 'display_data';\n",
              "          await google.colab.output.renderOutput(dataTable, element);\n",
              "          const docLink = document.createElement('div');\n",
              "          docLink.innerHTML = docLinkHtml;\n",
              "          element.appendChild(docLink);\n",
              "        }\n",
              "      </script>\n",
              "    </div>\n",
              "  </div>\n",
              "  "
            ]
          },
          "metadata": {},
          "execution_count": 13
        }
      ],
      "source": [
        "# создаем массив уникальных пар значений дат и групп теста\n",
        "\n",
        "datesGroups = orders[['date','group']].drop_duplicates()\n",
        "datesGroups.head()"
      ]
    },
    {
      "cell_type": "markdown",
      "metadata": {
        "id": "KRjLkqvXKy-T"
      },
      "source": [
        "Соберём агрегированные кумулятивные по дням данные о заказах в несколько действий."
      ]
    },
    {
      "cell_type": "code",
      "execution_count": 14,
      "metadata": {
        "id": "C9zK4XKcKy-U",
        "outputId": "58d2f4ec-7c5b-4569-bbf4-2479929a0dc1",
        "colab": {
          "base_uri": "https://localhost:8080/",
          "height": 206
        }
      },
      "outputs": [
        {
          "output_type": "execute_result",
          "data": {
            "text/plain": [
              "        date group  orders  buyers  revenue  visitors\n",
              "0 2019-08-01     A      24      20   148579       719\n",
              "1 2019-08-01     B      21      20   101217       713\n",
              "2 2019-08-02     A      44      38   242401      1338\n",
              "3 2019-08-02     B      45      43   266748      1294\n",
              "4 2019-08-03     A      68      62   354874      1845"
            ],
            "text/html": [
              "\n",
              "  <div id=\"df-a1a48da9-b896-4e83-b4c0-d583206df7b2\">\n",
              "    <div class=\"colab-df-container\">\n",
              "      <div>\n",
              "<style scoped>\n",
              "    .dataframe tbody tr th:only-of-type {\n",
              "        vertical-align: middle;\n",
              "    }\n",
              "\n",
              "    .dataframe tbody tr th {\n",
              "        vertical-align: top;\n",
              "    }\n",
              "\n",
              "    .dataframe thead th {\n",
              "        text-align: right;\n",
              "    }\n",
              "</style>\n",
              "<table border=\"1\" class=\"dataframe\">\n",
              "  <thead>\n",
              "    <tr style=\"text-align: right;\">\n",
              "      <th></th>\n",
              "      <th>date</th>\n",
              "      <th>group</th>\n",
              "      <th>orders</th>\n",
              "      <th>buyers</th>\n",
              "      <th>revenue</th>\n",
              "      <th>visitors</th>\n",
              "    </tr>\n",
              "  </thead>\n",
              "  <tbody>\n",
              "    <tr>\n",
              "      <th>0</th>\n",
              "      <td>2019-08-01</td>\n",
              "      <td>A</td>\n",
              "      <td>24</td>\n",
              "      <td>20</td>\n",
              "      <td>148579</td>\n",
              "      <td>719</td>\n",
              "    </tr>\n",
              "    <tr>\n",
              "      <th>1</th>\n",
              "      <td>2019-08-01</td>\n",
              "      <td>B</td>\n",
              "      <td>21</td>\n",
              "      <td>20</td>\n",
              "      <td>101217</td>\n",
              "      <td>713</td>\n",
              "    </tr>\n",
              "    <tr>\n",
              "      <th>2</th>\n",
              "      <td>2019-08-02</td>\n",
              "      <td>A</td>\n",
              "      <td>44</td>\n",
              "      <td>38</td>\n",
              "      <td>242401</td>\n",
              "      <td>1338</td>\n",
              "    </tr>\n",
              "    <tr>\n",
              "      <th>3</th>\n",
              "      <td>2019-08-02</td>\n",
              "      <td>B</td>\n",
              "      <td>45</td>\n",
              "      <td>43</td>\n",
              "      <td>266748</td>\n",
              "      <td>1294</td>\n",
              "    </tr>\n",
              "    <tr>\n",
              "      <th>4</th>\n",
              "      <td>2019-08-03</td>\n",
              "      <td>A</td>\n",
              "      <td>68</td>\n",
              "      <td>62</td>\n",
              "      <td>354874</td>\n",
              "      <td>1845</td>\n",
              "    </tr>\n",
              "  </tbody>\n",
              "</table>\n",
              "</div>\n",
              "      <button class=\"colab-df-convert\" onclick=\"convertToInteractive('df-a1a48da9-b896-4e83-b4c0-d583206df7b2')\"\n",
              "              title=\"Convert this dataframe to an interactive table.\"\n",
              "              style=\"display:none;\">\n",
              "        \n",
              "  <svg xmlns=\"http://www.w3.org/2000/svg\" height=\"24px\"viewBox=\"0 0 24 24\"\n",
              "       width=\"24px\">\n",
              "    <path d=\"M0 0h24v24H0V0z\" fill=\"none\"/>\n",
              "    <path d=\"M18.56 5.44l.94 2.06.94-2.06 2.06-.94-2.06-.94-.94-2.06-.94 2.06-2.06.94zm-11 1L8.5 8.5l.94-2.06 2.06-.94-2.06-.94L8.5 2.5l-.94 2.06-2.06.94zm10 10l.94 2.06.94-2.06 2.06-.94-2.06-.94-.94-2.06-.94 2.06-2.06.94z\"/><path d=\"M17.41 7.96l-1.37-1.37c-.4-.4-.92-.59-1.43-.59-.52 0-1.04.2-1.43.59L10.3 9.45l-7.72 7.72c-.78.78-.78 2.05 0 2.83L4 21.41c.39.39.9.59 1.41.59.51 0 1.02-.2 1.41-.59l7.78-7.78 2.81-2.81c.8-.78.8-2.07 0-2.86zM5.41 20L4 18.59l7.72-7.72 1.47 1.35L5.41 20z\"/>\n",
              "  </svg>\n",
              "      </button>\n",
              "      \n",
              "  <style>\n",
              "    .colab-df-container {\n",
              "      display:flex;\n",
              "      flex-wrap:wrap;\n",
              "      gap: 12px;\n",
              "    }\n",
              "\n",
              "    .colab-df-convert {\n",
              "      background-color: #E8F0FE;\n",
              "      border: none;\n",
              "      border-radius: 50%;\n",
              "      cursor: pointer;\n",
              "      display: none;\n",
              "      fill: #1967D2;\n",
              "      height: 32px;\n",
              "      padding: 0 0 0 0;\n",
              "      width: 32px;\n",
              "    }\n",
              "\n",
              "    .colab-df-convert:hover {\n",
              "      background-color: #E2EBFA;\n",
              "      box-shadow: 0px 1px 2px rgba(60, 64, 67, 0.3), 0px 1px 3px 1px rgba(60, 64, 67, 0.15);\n",
              "      fill: #174EA6;\n",
              "    }\n",
              "\n",
              "    [theme=dark] .colab-df-convert {\n",
              "      background-color: #3B4455;\n",
              "      fill: #D2E3FC;\n",
              "    }\n",
              "\n",
              "    [theme=dark] .colab-df-convert:hover {\n",
              "      background-color: #434B5C;\n",
              "      box-shadow: 0px 1px 3px 1px rgba(0, 0, 0, 0.15);\n",
              "      filter: drop-shadow(0px 1px 2px rgba(0, 0, 0, 0.3));\n",
              "      fill: #FFFFFF;\n",
              "    }\n",
              "  </style>\n",
              "\n",
              "      <script>\n",
              "        const buttonEl =\n",
              "          document.querySelector('#df-a1a48da9-b896-4e83-b4c0-d583206df7b2 button.colab-df-convert');\n",
              "        buttonEl.style.display =\n",
              "          google.colab.kernel.accessAllowed ? 'block' : 'none';\n",
              "\n",
              "        async function convertToInteractive(key) {\n",
              "          const element = document.querySelector('#df-a1a48da9-b896-4e83-b4c0-d583206df7b2');\n",
              "          const dataTable =\n",
              "            await google.colab.kernel.invokeFunction('convertToInteractive',\n",
              "                                                     [key], {});\n",
              "          if (!dataTable) return;\n",
              "\n",
              "          const docLinkHtml = 'Like what you see? Visit the ' +\n",
              "            '<a target=\"_blank\" href=https://colab.research.google.com/notebooks/data_table.ipynb>data table notebook</a>'\n",
              "            + ' to learn more about interactive tables.';\n",
              "          element.innerHTML = '';\n",
              "          dataTable['output_type'] = 'display_data';\n",
              "          await google.colab.output.renderOutput(dataTable, element);\n",
              "          const docLink = document.createElement('div');\n",
              "          docLink.innerHTML = docLinkHtml;\n",
              "          element.appendChild(docLink);\n",
              "        }\n",
              "      </script>\n",
              "    </div>\n",
              "  </div>\n",
              "  "
            ]
          },
          "metadata": {},
          "execution_count": 14
        }
      ],
      "source": [
        "# получаем агрегированные кумулятивные по дням данные о заказах \n",
        "ordersAggregated = datesGroups \\\n",
        "  .apply(lambda x: orders[np.logical_and(orders['date'] <= x['date'], \\\n",
        "                                         orders['group'] == x['group'])] \\\n",
        "         .agg({'date' : 'max', 'group' : 'max', 'transaction_id' : 'nunique', \\\n",
        "               'visitor_id' : 'nunique', 'revenue' : 'sum'}), \\\n",
        "          axis=1).sort_values(by=['date','group'])\n",
        "\n",
        "# получаем агрегированные кумулятивные по дням данные о посетителях интернет-магазина \n",
        "visitorsAggregated = datesGroups \\\n",
        "  .apply(lambda x: visitors[np.logical_and(visitors['date'] <= x['date'], \\\n",
        "                                           visitors['group'] == x['group'])] \\\n",
        "         .agg({'date' : 'max', 'group' : 'max', 'visitors' : 'sum'}), \\\n",
        "         axis=1).sort_values(by=['date','group'])\n",
        "\n",
        "# объединяем кумулятивные данные в одной таблице и присваиваем ее столбцам понятные названия\n",
        "cumulativeData = ordersAggregated.merge(visitorsAggregated, \\\n",
        "                                        left_on=['date', 'group'], \\\n",
        "                                        right_on=['date', 'group'])\n",
        "cumulativeData.columns = ['date', 'group', 'orders', \\\n",
        "                          'buyers', 'revenue', 'visitors']\n",
        "\n",
        "cumulativeData.head(5)"
      ]
    },
    {
      "cell_type": "markdown",
      "metadata": {
        "id": "x4H81NJPKy-U"
      },
      "source": [
        "1. Построим график кумулятивной выручки по группам. "
      ]
    },
    {
      "cell_type": "code",
      "execution_count": 15,
      "metadata": {
        "id": "4HNAorV7Ky-U",
        "outputId": "4a131727-bf97-40b5-f3e0-365d3e70f0a9",
        "colab": {
          "base_uri": "https://localhost:8080/",
          "height": 403
        }
      },
      "outputs": [
        {
          "output_type": "display_data",
          "data": {
            "text/plain": [
              "<Figure size 864x432 with 1 Axes>"
            ],
            "image/png": "[encoded data removed]"
          },
          "metadata": {
            "image/png": {
              "width": 716,
              "height": 386
            },
            "needs_background": "light"
          }
        }
      ],
      "source": [
        "# датафрейм с кумулятивным количеством заказов и кумулятивной выручкой по дням в группе А\n",
        "cumulativeRevenueA = cumulativeData[cumulativeData['group']=='A'] \\\n",
        "  [['date','revenue', 'orders']]\n",
        "\n",
        "# датафрейм с кумулятивным количеством заказов и кумулятивной выручкой по дням в группе B\n",
        "cumulativeRevenueB = cumulativeData[cumulativeData['group']=='B'] \\\n",
        "  [['date','revenue', 'orders']]\n",
        "\n",
        "plt.figure(figsize=(12,6))\n",
        "\n",
        "# Строим график выручки группы А\n",
        "plt.plot(cumulativeRevenueA['date'], cumulativeRevenueA['revenue'], label='A')\n",
        "\n",
        "# Строим график выручки группы B\n",
        "plt.plot(cumulativeRevenueB['date'], cumulativeRevenueB['revenue'], label='B')\n",
        "\n",
        "plt.xlabel('Дата')\n",
        "plt.title('Выручка')\n",
        "plt.legend();"
      ]
    },
    {
      "cell_type": "markdown",
      "metadata": {
        "id": "8eLpTXxCKy-U"
      },
      "source": [
        "Выручка увеличивается в течение всего месяца в обеих группах.\n",
        "\n",
        "В середине теста выручка по группе B вырвалась вперед и продолжала лидировать весь остаток теста. \n",
        "\n",
        "Это может сигнализировать о всплесках числа заказов в этой группе, либо о появлении очень дорогих заказов в выборке. Такие выбросы при заключительном анализе нужно проанализировать и исключить."
      ]
    },
    {
      "cell_type": "markdown",
      "metadata": {
        "id": "l9Do3D0sKy-V"
      },
      "source": [
        "2. Построим график кумулятивного среднего чека по группам."
      ]
    },
    {
      "cell_type": "code",
      "execution_count": 16,
      "metadata": {
        "id": "kt7kzhwUKy-V",
        "outputId": "43263bfd-87b7-44a9-820a-d318ff865e26",
        "colab": {
          "base_uri": "https://localhost:8080/",
          "height": 403
        }
      },
      "outputs": [
        {
          "output_type": "display_data",
          "data": {
            "text/plain": [
              "<Figure size 864x432 with 1 Axes>"
            ],
            "image/png": "[encoded data removed]"
          },
          "metadata": {
            "image/png": {
              "width": 742,
              "height": 386
            },
            "needs_background": "light"
          }
        }
      ],
      "source": [
        "# Построим графики среднего чека по группам:\n",
        "plt.figure(figsize=(12,6))\n",
        "\n",
        "plt.plot(cumulativeRevenueA['date'], cumulativeRevenueA['revenue'] \\\n",
        "        /cumulativeRevenueA['orders'], label='A')\n",
        "plt.plot(cumulativeRevenueB['date'], cumulativeRevenueB['revenue'] \\\n",
        "         /cumulativeRevenueB['orders'], label='B')\n",
        "\n",
        "plt.xlabel('Дата')\n",
        "plt.title('Средний чек')\n",
        "plt.legend();"
      ]
    },
    {
      "cell_type": "markdown",
      "metadata": {
        "id": "OpMYkpuzKy-V"
      },
      "source": [
        "Средний чек тоже вырос за месяц теста.\n",
        "\n",
        "В группе A было падение среднего чека в начале теста, но затем резко увеличился и стабилизировался на одном уровне с середницы до конца теста. \n",
        "\n",
        "В группе B чек резко вырос на 50% в середине месяца, а затем стал плавно снижаться. Возможно, в эту группу во второй половине теста попали крупные заказы (резкий всплеск на графике). Тогда ей нужно больше данных, чтобы прийти к реальному среднему чеку и установиться на его уровне."
      ]
    },
    {
      "cell_type": "markdown",
      "metadata": {
        "id": "MMp0DLLEKy-V"
      },
      "source": [
        "3. Построим график относительного изменения кумулятивного среднего чека группы B к группе A."
      ]
    },
    {
      "cell_type": "code",
      "execution_count": 17,
      "metadata": {
        "id": "AKuEMwmLKy-V",
        "outputId": "791892e8-3850-4886-e1c4-14fc1b5832cc",
        "colab": {
          "base_uri": "https://localhost:8080/",
          "height": 403
        }
      },
      "outputs": [
        {
          "output_type": "display_data",
          "data": {
            "text/plain": [
              "<Figure size 864x432 with 1 Axes>"
            ],
            "image/png": "[encoded data removed]"
          },
          "metadata": {
            "image/png": {
              "width": 734,
              "height": 386
            },
            "needs_background": "light"
          }
        }
      ],
      "source": [
        "# собираем данные в одном датафрейме\n",
        "mergedCumulativeRevenue = cumulativeRevenueA.merge(cumulativeRevenueB, \\\n",
        "   left_on='date', right_on='date', how='left', suffixes=['A', 'B'])\n",
        "\n",
        "# cтроим отношение средних чеков\n",
        "plt.figure(figsize=(12,6))\n",
        "plt.plot(mergedCumulativeRevenue['date'], \\\n",
        "         (mergedCumulativeRevenue['revenueB'] \\\n",
        "          /mergedCumulativeRevenue['ordersB']) \\\n",
        "         /(mergedCumulativeRevenue['revenueA'] \\\n",
        "           /mergedCumulativeRevenue['ordersA'])-1)\n",
        "\n",
        "# добавляем ось X\n",
        "plt.axhline(y=0, color='red', linestyle='--')\n",
        "plt.xlabel('Дата')\n",
        "plt.title('Относительное изменение среднего чека');"
      ]
    },
    {
      "cell_type": "markdown",
      "metadata": {
        "id": "o0nPMrZKKy-W"
      },
      "source": [
        "На протяжении всего теста график различия между сегментами резко «скачет». \n",
        "\n",
        "Похоже, что в заказах много аномалий. Найдем их позже."
      ]
    },
    {
      "cell_type": "markdown",
      "metadata": {
        "id": "UsNfb37lKy-W"
      },
      "source": [
        "\n",
        "4. Построим график кумулятивной конверсии по группам. "
      ]
    },
    {
      "cell_type": "code",
      "execution_count": 18,
      "metadata": {
        "id": "596wcd99Ky-W",
        "outputId": "c2d57e6b-f425-4b49-cf0d-d5977f5dab3f",
        "colab": {
          "base_uri": "https://localhost:8080/",
          "height": 403
        }
      },
      "outputs": [
        {
          "output_type": "display_data",
          "data": {
            "text/plain": [
              "<Figure size 864x432 with 1 Axes>"
            ],
            "image/png": "[encoded data removed]"
          },
          "metadata": {
            "image/png": {
              "width": 738,
              "height": 386
            },
            "needs_background": "light"
          }
        }
      ],
      "source": [
        "# считаем кумулятивную конверсию\n",
        "cumulativeData['conversion'] = cumulativeData['orders'] \\\n",
        "  /cumulativeData['visitors']\n",
        "\n",
        "# отделяем данные по группе A\n",
        "cumulativeDataA = cumulativeData[cumulativeData['group']=='A']\n",
        "\n",
        "# отделяем данные по группе B\n",
        "cumulativeDataB = cumulativeData[cumulativeData['group']=='B']\n",
        "\n",
        "# строим графики\n",
        "plt.figure(figsize=(12,6))\n",
        "plt.plot(cumulativeDataA['date'], cumulativeDataA['conversion'], label='A')\n",
        "plt.plot(cumulativeDataB['date'], cumulativeDataB['conversion'], label='B')\n",
        "plt.legend()\n",
        "plt.xlabel('Дата')\n",
        "plt.title('Кумулятивная конверсия');"
      ]
    },
    {
      "cell_type": "markdown",
      "metadata": {
        "id": "UHFKTX1cKy-X"
      },
      "source": [
        "Первые несколько дней теста конверсия сильно скакала у обеих групп, но затем конверсия группы B вырвалась вперёд и зафиксировалась, а конверсия группы A просела и также зафиксировалась.\n"
      ]
    },
    {
      "cell_type": "markdown",
      "metadata": {
        "id": "9TmFkl9VKy-X"
      },
      "source": [
        "5. Построим график относительного изменения кумулятивной конверсии группы B к группе A.\n"
      ]
    },
    {
      "cell_type": "code",
      "execution_count": 19,
      "metadata": {
        "id": "2WQ-oFeCKy-X",
        "outputId": "d2421019-bd92-4c6e-aec8-daf08e4f1473",
        "colab": {
          "base_uri": "https://localhost:8080/",
          "height": 403
        }
      },
      "outputs": [
        {
          "output_type": "display_data",
          "data": {
            "text/plain": [
              "<Figure size 864x432 with 1 Axes>"
            ],
            "image/png": "[encoded data removed]"
          },
          "metadata": {
            "image/png": {
              "width": 740,
              "height": 386
            },
            "needs_background": "light"
          }
        }
      ],
      "source": [
        "# строим график относительного различия кумулятивных конверсий\n",
        "\n",
        "mergedCumulativeConversions = cumulativeDataA[['date','conversion']] \\\n",
        "  .merge(cumulativeDataB[['date','conversion']], \\\n",
        "         left_on='date', right_on='date', how='left', suffixes=['A', 'B'])\n",
        "\n",
        "plt.figure(figsize=(12,6))\n",
        "\n",
        "plt.plot(mergedCumulativeConversions['date'], \\\n",
        "         mergedCumulativeConversions['conversionB'] \\\n",
        "         /mergedCumulativeConversions['conversionA']-1, \\\n",
        "         label=\"Относительный прирост конверсии группы B относительно группы A\")\n",
        "plt.legend()\n",
        "\n",
        "plt.axhline(y=0, color='black', linestyle='--')\n",
        "plt.axhline(y=-0.1, color='grey', linestyle='--')\n",
        "plt.xlabel('Дата')\n",
        "plt.title('Относительное изменение кумулятивной конверсии');"
      ]
    },
    {
      "cell_type": "markdown",
      "metadata": {
        "id": "ugtGEAFzKy-X"
      },
      "source": [
        "В начале теста группа B проигрывала группе A, затем вырвалась вперёд. Потом её конверсия снова падала, но теперь постепенно растёт.\n",
        "\n",
        "В целом отношение конверсии ещё не установилось, и сейчас делать какие-либо выводы по тесту нельзя. Впрочем, сперва стоит проанализировать аномалии, возможно, они изменят картину. "
      ]
    },
    {
      "cell_type": "markdown",
      "metadata": {
        "id": "eAHErG-6Ky-Y"
      },
      "source": [
        "6. Построим точечный график количества заказов по пользователям. \n"
      ]
    },
    {
      "cell_type": "markdown",
      "metadata": {
        "id": "2vGIv_J3Ky-Y"
      },
      "source": [
        "Пользователи, совершившие много заказов, влияют на числитель формулы конверсии. Скорее всего, их поведение отличается от нормального. "
      ]
    },
    {
      "cell_type": "code",
      "execution_count": 20,
      "metadata": {
        "id": "olFvuq1RKy-Y",
        "outputId": "605fd8ee-020c-435b-8b12-94115454f6f5",
        "colab": {
          "base_uri": "https://localhost:8080/",
          "height": 363
        }
      },
      "outputs": [
        {
          "output_type": "execute_result",
          "data": {
            "text/plain": [
              "      visitor_id  orders\n",
              "1023  4256040402      11\n",
              "591   2458001652      11\n",
              "569   2378935119       9\n",
              "487   2038680547       8\n",
              "44     199603092       5\n",
              "744   3062433592       5\n",
              "55     237748145       5\n",
              "917   3803269165       5\n",
              "299   1230306981       5\n",
              "897   3717692402       5"
            ],
            "text/html": [
              "\n",
              "  <div id=\"df-6b0435c4-8374-41be-85e5-768bfb007b50\">\n",
              "    <div class=\"colab-df-container\">\n",
              "      <div>\n",
              "<style scoped>\n",
              "    .dataframe tbody tr th:only-of-type {\n",
              "        vertical-align: middle;\n",
              "    }\n",
              "\n",
              "    .dataframe tbody tr th {\n",
              "        vertical-align: top;\n",
              "    }\n",
              "\n",
              "    .dataframe thead th {\n",
              "        text-align: right;\n",
              "    }\n",
              "</style>\n",
              "<table border=\"1\" class=\"dataframe\">\n",
              "  <thead>\n",
              "    <tr style=\"text-align: right;\">\n",
              "      <th></th>\n",
              "      <th>visitor_id</th>\n",
              "      <th>orders</th>\n",
              "    </tr>\n",
              "  </thead>\n",
              "  <tbody>\n",
              "    <tr>\n",
              "      <th>1023</th>\n",
              "      <td>4256040402</td>\n",
              "      <td>11</td>\n",
              "    </tr>\n",
              "    <tr>\n",
              "      <th>591</th>\n",
              "      <td>2458001652</td>\n",
              "      <td>11</td>\n",
              "    </tr>\n",
              "    <tr>\n",
              "      <th>569</th>\n",
              "      <td>2378935119</td>\n",
              "      <td>9</td>\n",
              "    </tr>\n",
              "    <tr>\n",
              "      <th>487</th>\n",
              "      <td>2038680547</td>\n",
              "      <td>8</td>\n",
              "    </tr>\n",
              "    <tr>\n",
              "      <th>44</th>\n",
              "      <td>199603092</td>\n",
              "      <td>5</td>\n",
              "    </tr>\n",
              "    <tr>\n",
              "      <th>744</th>\n",
              "      <td>3062433592</td>\n",
              "      <td>5</td>\n",
              "    </tr>\n",
              "    <tr>\n",
              "      <th>55</th>\n",
              "      <td>237748145</td>\n",
              "      <td>5</td>\n",
              "    </tr>\n",
              "    <tr>\n",
              "      <th>917</th>\n",
              "      <td>3803269165</td>\n",
              "      <td>5</td>\n",
              "    </tr>\n",
              "    <tr>\n",
              "      <th>299</th>\n",
              "      <td>1230306981</td>\n",
              "      <td>5</td>\n",
              "    </tr>\n",
              "    <tr>\n",
              "      <th>897</th>\n",
              "      <td>3717692402</td>\n",
              "      <td>5</td>\n",
              "    </tr>\n",
              "  </tbody>\n",
              "</table>\n",
              "</div>\n",
              "      <button class=\"colab-df-convert\" onclick=\"convertToInteractive('df-6b0435c4-8374-41be-85e5-768bfb007b50')\"\n",
              "              title=\"Convert this dataframe to an interactive table.\"\n",
              "              style=\"display:none;\">\n",
              "        \n",
              "  <svg xmlns=\"http://www.w3.org/2000/svg\" height=\"24px\"viewBox=\"0 0 24 24\"\n",
              "       width=\"24px\">\n",
              "    <path d=\"M0 0h24v24H0V0z\" fill=\"none\"/>\n",
              "    <path d=\"M18.56 5.44l.94 2.06.94-2.06 2.06-.94-2.06-.94-.94-2.06-.94 2.06-2.06.94zm-11 1L8.5 8.5l.94-2.06 2.06-.94-2.06-.94L8.5 2.5l-.94 2.06-2.06.94zm10 10l.94 2.06.94-2.06 2.06-.94-2.06-.94-.94-2.06-.94 2.06-2.06.94z\"/><path d=\"M17.41 7.96l-1.37-1.37c-.4-.4-.92-.59-1.43-.59-.52 0-1.04.2-1.43.59L10.3 9.45l-7.72 7.72c-.78.78-.78 2.05 0 2.83L4 21.41c.39.39.9.59 1.41.59.51 0 1.02-.2 1.41-.59l7.78-7.78 2.81-2.81c.8-.78.8-2.07 0-2.86zM5.41 20L4 18.59l7.72-7.72 1.47 1.35L5.41 20z\"/>\n",
              "  </svg>\n",
              "      </button>\n",
              "      \n",
              "  <style>\n",
              "    .colab-df-container {\n",
              "      display:flex;\n",
              "      flex-wrap:wrap;\n",
              "      gap: 12px;\n",
              "    }\n",
              "\n",
              "    .colab-df-convert {\n",
              "      background-color: #E8F0FE;\n",
              "      border: none;\n",
              "      border-radius: 50%;\n",
              "      cursor: pointer;\n",
              "      display: none;\n",
              "      fill: #1967D2;\n",
              "      height: 32px;\n",
              "      padding: 0 0 0 0;\n",
              "      width: 32px;\n",
              "    }\n",
              "\n",
              "    .colab-df-convert:hover {\n",
              "      background-color: #E2EBFA;\n",
              "      box-shadow: 0px 1px 2px rgba(60, 64, 67, 0.3), 0px 1px 3px 1px rgba(60, 64, 67, 0.15);\n",
              "      fill: #174EA6;\n",
              "    }\n",
              "\n",
              "    [theme=dark] .colab-df-convert {\n",
              "      background-color: #3B4455;\n",
              "      fill: #D2E3FC;\n",
              "    }\n",
              "\n",
              "    [theme=dark] .colab-df-convert:hover {\n",
              "      background-color: #434B5C;\n",
              "      box-shadow: 0px 1px 3px 1px rgba(0, 0, 0, 0.15);\n",
              "      filter: drop-shadow(0px 1px 2px rgba(0, 0, 0, 0.3));\n",
              "      fill: #FFFFFF;\n",
              "    }\n",
              "  </style>\n",
              "\n",
              "      <script>\n",
              "        const buttonEl =\n",
              "          document.querySelector('#df-6b0435c4-8374-41be-85e5-768bfb007b50 button.colab-df-convert');\n",
              "        buttonEl.style.display =\n",
              "          google.colab.kernel.accessAllowed ? 'block' : 'none';\n",
              "\n",
              "        async function convertToInteractive(key) {\n",
              "          const element = document.querySelector('#df-6b0435c4-8374-41be-85e5-768bfb007b50');\n",
              "          const dataTable =\n",
              "            await google.colab.kernel.invokeFunction('convertToInteractive',\n",
              "                                                     [key], {});\n",
              "          if (!dataTable) return;\n",
              "\n",
              "          const docLinkHtml = 'Like what you see? Visit the ' +\n",
              "            '<a target=\"_blank\" href=https://colab.research.google.com/notebooks/data_table.ipynb>data table notebook</a>'\n",
              "            + ' to learn more about interactive tables.';\n",
              "          element.innerHTML = '';\n",
              "          dataTable['output_type'] = 'display_data';\n",
              "          await google.colab.output.renderOutput(dataTable, element);\n",
              "          const docLink = document.createElement('div');\n",
              "          docLink.innerHTML = docLinkHtml;\n",
              "          element.appendChild(docLink);\n",
              "        }\n",
              "      </script>\n",
              "    </div>\n",
              "  </div>\n",
              "  "
            ]
          },
          "metadata": {},
          "execution_count": 20
        }
      ],
      "source": [
        "# подсчитаем количество заказов по пользователям и посмотрим на результат:\n",
        "\n",
        "ordersByUsers = (\n",
        "    orders.groupby('visitor_id', as_index=False)\n",
        "    .agg({'transaction_id': 'nunique'})\n",
        ")\n",
        "\n",
        "ordersByUsers.columns = ['visitor_id', 'orders']\n",
        "ordersByUsers.sort_values(by='orders', ascending=False).head(10)"
      ]
    },
    {
      "cell_type": "markdown",
      "metadata": {
        "id": "Gnt-Reg4Ky-Y"
      },
      "source": [
        "Имеются пользователи, которые совершали 5, 8, 9 и 11 заказов. Проверим, намного ли это больше, чем обычное количество заказов за неделю."
      ]
    },
    {
      "cell_type": "code",
      "execution_count": 21,
      "metadata": {
        "id": "yKxwv4jMKy-Y",
        "outputId": "6cd7ec9d-8433-4992-cc3a-44579594e764",
        "colab": {
          "base_uri": "https://localhost:8080/",
          "height": 389
        }
      },
      "outputs": [
        {
          "output_type": "display_data",
          "data": {
            "text/plain": [
              "<Figure size 864x432 with 1 Axes>"
            ],
            "image/png": "[encoded data removed]"
          },
          "metadata": {
            "image/png": {
              "width": 703,
              "height": 372
            },
            "needs_background": "light"
          }
        }
      ],
      "source": [
        "# построим точечную диаграмму числа заказов\n",
        "\n",
        "x_values = pd.Series(range(0,len(ordersByUsers)))\n",
        "\n",
        "plt.figure(figsize=(12,6))\n",
        "plt.scatter(x_values, ordersByUsers['orders'])\n",
        "plt.title('Распределение пользователей по частоте заказов');"
      ]
    },
    {
      "cell_type": "markdown",
      "metadata": {
        "id": "m7EHcdjdKy-Z"
      },
      "source": [
        "Выводы подтверждаются: подавляющая часть пользователей с 1 заказом, довольно много с 2. \n",
        "\n",
        "Некоторое количество пользователей с количеством заказов в месяц до 4.\n",
        "\n",
        "Единичны случаи 4-11 заказов в месяц.\n"
      ]
    },
    {
      "cell_type": "markdown",
      "metadata": {
        "id": "J31EIH66Ky-Z"
      },
      "source": [
        "7. Посчитаем 95-й и 99-й перцентили количества заказов на пользователя. Выберем границу для определения аномальных пользователей.\n"
      ]
    },
    {
      "cell_type": "code",
      "execution_count": 22,
      "metadata": {
        "id": "HfhQ3AkmKy-Z",
        "outputId": "5d821986-3795-4b51-dd3d-20318cdda8d6",
        "colab": {
          "base_uri": "https://localhost:8080/"
        }
      },
      "outputs": [
        {
          "output_type": "execute_result",
          "data": {
            "text/plain": [
              "array([2., 4.])"
            ]
          },
          "metadata": {},
          "execution_count": 22
        }
      ],
      "source": [
        "# посчитаем выборочные перцентили количества заказов\n",
        "\n",
        "np.percentile(ordersByUsers['orders'], [95, 99])"
      ]
    },
    {
      "cell_type": "markdown",
      "metadata": {
        "id": "KRARpqbgKy-Z"
      },
      "source": [
        "Не более 5% пользователей совершило более 2 заказа. Не более 1% купило за месяц более 4 раз.\n",
        "\n",
        "За крайнюю границу выбросов можно считать 4 заказа."
      ]
    },
    {
      "cell_type": "markdown",
      "metadata": {
        "id": "EZOESN30Ky-Z"
      },
      "source": [
        "8. Построим точечный график стоимостей заказов. \n"
      ]
    },
    {
      "cell_type": "code",
      "execution_count": 23,
      "metadata": {
        "id": "Ojxp7suQKy-a",
        "outputId": "ccbc2eb4-8dd1-4d23-aaf7-917309414c0d",
        "colab": {
          "base_uri": "https://localhost:8080/",
          "height": 389
        }
      },
      "outputs": [
        {
          "output_type": "display_data",
          "data": {
            "text/plain": [
              "<Figure size 864x432 with 1 Axes>"
            ],
            "image/png": "[encoded data removed]"
          },
          "metadata": {
            "image/png": {
              "width": 707,
              "height": 372
            },
            "needs_background": "light"
          }
        }
      ],
      "source": [
        "# построим точечную диаграмму стоимостей заказов\n",
        "x_values = pd.Series(range(0,len(orders)))\n",
        "\n",
        "plt.figure(figsize=(12,6))\n",
        "plt.scatter(x_values, orders['revenue'])\n",
        "plt.title('Распределение пользователей по стоимости заказов');"
      ]
    },
    {
      "cell_type": "markdown",
      "metadata": {
        "id": "Wb__xcN9Ky-a"
      },
      "source": [
        "Обнаружено несколько дорогих заказов-выбросов, один из которых – экстремально сильно отличается от остальных и составляет более 1.2 млн."
      ]
    },
    {
      "cell_type": "markdown",
      "metadata": {
        "id": "KLjS7wmbKy-a"
      },
      "source": [
        "9. Посчитаем 95-й и 99-й перцентили стоимости заказов. Выберем границу для определения аномальных заказов.\n"
      ]
    },
    {
      "cell_type": "code",
      "execution_count": 24,
      "metadata": {
        "id": "evzHaGlEKy-a",
        "outputId": "3a2e3b67-5305-45ff-90d5-e859d517ecb2",
        "colab": {
          "base_uri": "https://localhost:8080/"
        }
      },
      "outputs": [
        {
          "output_type": "execute_result",
          "data": {
            "text/plain": [
              "array([28000. , 58233.2])"
            ]
          },
          "metadata": {},
          "execution_count": 24
        }
      ],
      "source": [
        "# посчитаем выборочные перцентили стоимости заказов\n",
        "\n",
        "np.percentile(orders['revenue'], [95, 99])"
      ]
    },
    {
      "cell_type": "markdown",
      "metadata": {
        "id": "k5dAdRu0Ky-a"
      },
      "source": [
        "Не более 5% пользователей совершает покупку стоимостью 28000 рублей. Не более 1% купило на 58233 рубля.\n",
        "\n",
        "Все суммы выше последней можно считать выбросами и исключить из анализа."
      ]
    },
    {
      "cell_type": "markdown",
      "metadata": {
        "id": "Ha_tjbHcKy-b"
      },
      "source": [
        "Мы онаружили, что в данных присутствуют аномалии. Продолжим анализ, учитывая этот момент и попытаемся вычислить корректные показатели.\n",
        "\n",
        "**Теперь посчитаем статистическую значимость различий в конверсии и среднем чеке между группами по «сырым» данным — без удаления аномальных пользователей.**"
      ]
    },
    {
      "cell_type": "markdown",
      "metadata": {
        "id": "zSz5w-gMKy-b"
      },
      "source": [
        "#### Подготовка «сырых» данных"
      ]
    },
    {
      "cell_type": "code",
      "execution_count": 25,
      "metadata": {
        "id": "y5ZrtSaQKy-b"
      },
      "outputs": [],
      "source": [
        "# подготовим данные для анализа, собрав новый датафрейм с нужными значениями\n",
        "\n",
        "visitorsADaily = visitors[visitors['group'] == 'A'][['date', 'visitors']]\n",
        "visitorsADaily.columns = ['date', 'visitorsPerDateA']\n",
        "\n",
        "visitorsACummulative = visitorsADaily.apply(\n",
        "    lambda x: visitorsADaily[visitorsADaily['date'] <= x['date']].agg(\n",
        "        {'date': 'max', 'visitorsPerDateA': 'sum'}\n",
        "    ),\n",
        "    axis=1,\n",
        ")\n",
        "visitorsACummulative.columns = ['date', 'visitorsCummulativeA']\n",
        "\n",
        "visitorsBDaily = visitors[visitors['group'] == 'B'][['date', 'visitors']]\n",
        "visitorsBDaily.columns = ['date', 'visitorsPerDateB']\n",
        "\n",
        "visitorsBCummulative = visitorsBDaily.apply(\n",
        "    lambda x: visitorsBDaily[visitorsBDaily['date'] <= x['date']].agg(\n",
        "        {'date': 'max', 'visitorsPerDateB': 'sum'}\n",
        "    ),\n",
        "    axis=1,\n",
        ")\n",
        "visitorsBCummulative.columns = ['date', 'visitorsCummulativeB']\n",
        "\n",
        "ordersADaily = (\n",
        "    orders[orders['group'] == 'A'][['date', 'transaction_id', 'visitor_id', 'revenue']]\n",
        "    .groupby('date', as_index=False)\n",
        "    .agg({'transaction_id': pd.Series.nunique, 'revenue': 'sum'})\n",
        ")\n",
        "ordersADaily.columns = ['date', 'ordersPerDateA', 'revenuePerDateA']\n",
        "\n",
        "ordersACummulative = ordersADaily.apply(\n",
        "    lambda x: ordersADaily[ordersADaily['date'] <= x['date']].agg(\n",
        "        {'date': 'max', 'ordersPerDateA': 'sum', 'revenuePerDateA': 'sum'}\n",
        "    ),\n",
        "    axis=1,\n",
        ").sort_values(by=['date'])\n",
        "ordersACummulative.columns = [\n",
        "    'date',\n",
        "    'ordersCummulativeA',\n",
        "    'revenueCummulativeA',\n",
        "]\n",
        "\n",
        "ordersBDaily = (\n",
        "    orders[orders['group'] == 'B'][['date', 'transaction_id', 'visitor_id', 'revenue']]\n",
        "    .groupby('date', as_index=False)\n",
        "    .agg({'transaction_id': pd.Series.nunique, 'revenue': 'sum'})\n",
        ")\n",
        "ordersBDaily.columns = ['date', 'ordersPerDateB', 'revenuePerDateB']\n",
        "\n",
        "ordersBCummulative = ordersBDaily.apply(\n",
        "    lambda x: ordersBDaily[ordersBDaily['date'] <= x['date']].agg(\n",
        "        {'date': 'max', 'ordersPerDateB': 'sum', 'revenuePerDateB': 'sum'}\n",
        "    ),\n",
        "    axis=1,\n",
        ").sort_values(by=['date'])\n",
        "ordersBCummulative.columns = [\n",
        "    'date',\n",
        "    'ordersCummulativeB',\n",
        "    'revenueCummulativeB',\n",
        "]\n",
        "\n",
        "data = (\n",
        "    ordersADaily.merge(\n",
        "        ordersBDaily, left_on='date', right_on='date', how='left'\n",
        "    )\n",
        "    .merge(ordersACummulative, left_on='date', right_on='date', how='left')\n",
        "    .merge(ordersBCummulative, left_on='date', right_on='date', how='left')\n",
        "    .merge(visitorsADaily, left_on='date', right_on='date', how='left')\n",
        "    .merge(visitorsBDaily, left_on='date', right_on='date', how='left')\n",
        "    .merge(visitorsACummulative, left_on='date', right_on='date', how='left')\n",
        "    .merge(visitorsBCummulative, left_on='date', right_on='date', how='left')\n",
        ")"
      ]
    },
    {
      "cell_type": "code",
      "execution_count": 26,
      "metadata": {
        "id": "0acHYjlRKy-b",
        "outputId": "50e026ca-a07b-49e1-a5c9-3fb45ae3de1c",
        "colab": {
          "base_uri": "https://localhost:8080/",
          "height": 457
        }
      },
      "outputs": [
        {
          "output_type": "execute_result",
          "data": {
            "text/plain": [
              "                                        0                    1  \\\n",
              "date                  2019-08-01 00:00:00  2019-08-02 00:00:00   \n",
              "ordersPerDateA                         24                   20   \n",
              "revenuePerDateA                    148579                93822   \n",
              "ordersPerDateB                         21                   24   \n",
              "revenuePerDateB                    101217               165531   \n",
              "ordersCummulativeA                     24                   44   \n",
              "revenueCummulativeA                148579               242401   \n",
              "ordersCummulativeB                     21                   45   \n",
              "revenueCummulativeB                101217               266748   \n",
              "visitorsPerDateA                      719                  619   \n",
              "visitorsPerDateB                      713                  581   \n",
              "visitorsCummulativeA                  719                 1338   \n",
              "visitorsCummulativeB                  713                 1294   \n",
              "\n",
              "                                        2                    3  \\\n",
              "date                  2019-08-03 00:00:00  2019-08-04 00:00:00   \n",
              "ordersPerDateA                         24                   16   \n",
              "revenuePerDateA                    112473                70825   \n",
              "ordersPerDateB                         16                   17   \n",
              "revenuePerDateB                    114248               108571   \n",
              "ordersCummulativeA                     68                   84   \n",
              "revenueCummulativeA                354874               425699   \n",
              "ordersCummulativeB                     61                   78   \n",
              "revenueCummulativeB                380996               489567   \n",
              "visitorsPerDateA                      507                  717   \n",
              "visitorsPerDateB                      509                  770   \n",
              "visitorsCummulativeA                 1845                 2562   \n",
              "visitorsCummulativeB                 1803                 2573   \n",
              "\n",
              "                                        4  \n",
              "date                  2019-08-05 00:00:00  \n",
              "ordersPerDateA                         25  \n",
              "revenuePerDateA                    124218  \n",
              "ordersPerDateB                         23  \n",
              "revenuePerDateB                     92428  \n",
              "ordersCummulativeA                    109  \n",
              "revenueCummulativeA                549917  \n",
              "ordersCummulativeB                    101  \n",
              "revenueCummulativeB                581995  \n",
              "visitorsPerDateA                      756  \n",
              "visitorsPerDateB                      707  \n",
              "visitorsCummulativeA                 3318  \n",
              "visitorsCummulativeB                 3280  "
            ],
            "text/html": [
              "\n",
              "  <div id=\"df-4b15ea0f-0921-4bbc-9ce4-39d028eef1e6\">\n",
              "    <div class=\"colab-df-container\">\n",
              "      <div>\n",
              "<style scoped>\n",
              "    .dataframe tbody tr th:only-of-type {\n",
              "        vertical-align: middle;\n",
              "    }\n",
              "\n",
              "    .dataframe tbody tr th {\n",
              "        vertical-align: top;\n",
              "    }\n",
              "\n",
              "    .dataframe thead th {\n",
              "        text-align: right;\n",
              "    }\n",
              "</style>\n",
              "<table border=\"1\" class=\"dataframe\">\n",
              "  <thead>\n",
              "    <tr style=\"text-align: right;\">\n",
              "      <th></th>\n",
              "      <th>0</th>\n",
              "      <th>1</th>\n",
              "      <th>2</th>\n",
              "      <th>3</th>\n",
              "      <th>4</th>\n",
              "    </tr>\n",
              "  </thead>\n",
              "  <tbody>\n",
              "    <tr>\n",
              "      <th>date</th>\n",
              "      <td>2019-08-01 00:00:00</td>\n",
              "      <td>2019-08-02 00:00:00</td>\n",
              "      <td>2019-08-03 00:00:00</td>\n",
              "      <td>2019-08-04 00:00:00</td>\n",
              "      <td>2019-08-05 00:00:00</td>\n",
              "    </tr>\n",
              "    <tr>\n",
              "      <th>ordersPerDateA</th>\n",
              "      <td>24</td>\n",
              "      <td>20</td>\n",
              "      <td>24</td>\n",
              "      <td>16</td>\n",
              "      <td>25</td>\n",
              "    </tr>\n",
              "    <tr>\n",
              "      <th>revenuePerDateA</th>\n",
              "      <td>148579</td>\n",
              "      <td>93822</td>\n",
              "      <td>112473</td>\n",
              "      <td>70825</td>\n",
              "      <td>124218</td>\n",
              "    </tr>\n",
              "    <tr>\n",
              "      <th>ordersPerDateB</th>\n",
              "      <td>21</td>\n",
              "      <td>24</td>\n",
              "      <td>16</td>\n",
              "      <td>17</td>\n",
              "      <td>23</td>\n",
              "    </tr>\n",
              "    <tr>\n",
              "      <th>revenuePerDateB</th>\n",
              "      <td>101217</td>\n",
              "      <td>165531</td>\n",
              "      <td>114248</td>\n",
              "      <td>108571</td>\n",
              "      <td>92428</td>\n",
              "    </tr>\n",
              "    <tr>\n",
              "      <th>ordersCummulativeA</th>\n",
              "      <td>24</td>\n",
              "      <td>44</td>\n",
              "      <td>68</td>\n",
              "      <td>84</td>\n",
              "      <td>109</td>\n",
              "    </tr>\n",
              "    <tr>\n",
              "      <th>revenueCummulativeA</th>\n",
              "      <td>148579</td>\n",
              "      <td>242401</td>\n",
              "      <td>354874</td>\n",
              "      <td>425699</td>\n",
              "      <td>549917</td>\n",
              "    </tr>\n",
              "    <tr>\n",
              "      <th>ordersCummulativeB</th>\n",
              "      <td>21</td>\n",
              "      <td>45</td>\n",
              "      <td>61</td>\n",
              "      <td>78</td>\n",
              "      <td>101</td>\n",
              "    </tr>\n",
              "    <tr>\n",
              "      <th>revenueCummulativeB</th>\n",
              "      <td>101217</td>\n",
              "      <td>266748</td>\n",
              "      <td>380996</td>\n",
              "      <td>489567</td>\n",
              "      <td>581995</td>\n",
              "    </tr>\n",
              "    <tr>\n",
              "      <th>visitorsPerDateA</th>\n",
              "      <td>719</td>\n",
              "      <td>619</td>\n",
              "      <td>507</td>\n",
              "      <td>717</td>\n",
              "      <td>756</td>\n",
              "    </tr>\n",
              "    <tr>\n",
              "      <th>visitorsPerDateB</th>\n",
              "      <td>713</td>\n",
              "      <td>581</td>\n",
              "      <td>509</td>\n",
              "      <td>770</td>\n",
              "      <td>707</td>\n",
              "    </tr>\n",
              "    <tr>\n",
              "      <th>visitorsCummulativeA</th>\n",
              "      <td>719</td>\n",
              "      <td>1338</td>\n",
              "      <td>1845</td>\n",
              "      <td>2562</td>\n",
              "      <td>3318</td>\n",
              "    </tr>\n",
              "    <tr>\n",
              "      <th>visitorsCummulativeB</th>\n",
              "      <td>713</td>\n",
              "      <td>1294</td>\n",
              "      <td>1803</td>\n",
              "      <td>2573</td>\n",
              "      <td>3280</td>\n",
              "    </tr>\n",
              "  </tbody>\n",
              "</table>\n",
              "</div>\n",
              "      <button class=\"colab-df-convert\" onclick=\"convertToInteractive('df-4b15ea0f-0921-4bbc-9ce4-39d028eef1e6')\"\n",
              "              title=\"Convert this dataframe to an interactive table.\"\n",
              "              style=\"display:none;\">\n",
              "        \n",
              "  <svg xmlns=\"http://www.w3.org/2000/svg\" height=\"24px\"viewBox=\"0 0 24 24\"\n",
              "       width=\"24px\">\n",
              "    <path d=\"M0 0h24v24H0V0z\" fill=\"none\"/>\n",
              "    <path d=\"M18.56 5.44l.94 2.06.94-2.06 2.06-.94-2.06-.94-.94-2.06-.94 2.06-2.06.94zm-11 1L8.5 8.5l.94-2.06 2.06-.94-2.06-.94L8.5 2.5l-.94 2.06-2.06.94zm10 10l.94 2.06.94-2.06 2.06-.94-2.06-.94-.94-2.06-.94 2.06-2.06.94z\"/><path d=\"M17.41 7.96l-1.37-1.37c-.4-.4-.92-.59-1.43-.59-.52 0-1.04.2-1.43.59L10.3 9.45l-7.72 7.72c-.78.78-.78 2.05 0 2.83L4 21.41c.39.39.9.59 1.41.59.51 0 1.02-.2 1.41-.59l7.78-7.78 2.81-2.81c.8-.78.8-2.07 0-2.86zM5.41 20L4 18.59l7.72-7.72 1.47 1.35L5.41 20z\"/>\n",
              "  </svg>\n",
              "      </button>\n",
              "      \n",
              "  <style>\n",
              "    .colab-df-container {\n",
              "      display:flex;\n",
              "      flex-wrap:wrap;\n",
              "      gap: 12px;\n",
              "    }\n",
              "\n",
              "    .colab-df-convert {\n",
              "      background-color: #E8F0FE;\n",
              "      border: none;\n",
              "      border-radius: 50%;\n",
              "      cursor: pointer;\n",
              "      display: none;\n",
              "      fill: #1967D2;\n",
              "      height: 32px;\n",
              "      padding: 0 0 0 0;\n",
              "      width: 32px;\n",
              "    }\n",
              "\n",
              "    .colab-df-convert:hover {\n",
              "      background-color: #E2EBFA;\n",
              "      box-shadow: 0px 1px 2px rgba(60, 64, 67, 0.3), 0px 1px 3px 1px rgba(60, 64, 67, 0.15);\n",
              "      fill: #174EA6;\n",
              "    }\n",
              "\n",
              "    [theme=dark] .colab-df-convert {\n",
              "      background-color: #3B4455;\n",
              "      fill: #D2E3FC;\n",
              "    }\n",
              "\n",
              "    [theme=dark] .colab-df-convert:hover {\n",
              "      background-color: #434B5C;\n",
              "      box-shadow: 0px 1px 3px 1px rgba(0, 0, 0, 0.15);\n",
              "      filter: drop-shadow(0px 1px 2px rgba(0, 0, 0, 0.3));\n",
              "      fill: #FFFFFF;\n",
              "    }\n",
              "  </style>\n",
              "\n",
              "      <script>\n",
              "        const buttonEl =\n",
              "          document.querySelector('#df-4b15ea0f-0921-4bbc-9ce4-39d028eef1e6 button.colab-df-convert');\n",
              "        buttonEl.style.display =\n",
              "          google.colab.kernel.accessAllowed ? 'block' : 'none';\n",
              "\n",
              "        async function convertToInteractive(key) {\n",
              "          const element = document.querySelector('#df-4b15ea0f-0921-4bbc-9ce4-39d028eef1e6');\n",
              "          const dataTable =\n",
              "            await google.colab.kernel.invokeFunction('convertToInteractive',\n",
              "                                                     [key], {});\n",
              "          if (!dataTable) return;\n",
              "\n",
              "          const docLinkHtml = 'Like what you see? Visit the ' +\n",
              "            '<a target=\"_blank\" href=https://colab.research.google.com/notebooks/data_table.ipynb>data table notebook</a>'\n",
              "            + ' to learn more about interactive tables.';\n",
              "          element.innerHTML = '';\n",
              "          dataTable['output_type'] = 'display_data';\n",
              "          await google.colab.output.renderOutput(dataTable, element);\n",
              "          const docLink = document.createElement('div');\n",
              "          docLink.innerHTML = docLinkHtml;\n",
              "          element.appendChild(docLink);\n",
              "        }\n",
              "      </script>\n",
              "    </div>\n",
              "  </div>\n",
              "  "
            ]
          },
          "metadata": {},
          "execution_count": 26
        }
      ],
      "source": [
        "data.head(5).T"
      ]
    },
    {
      "cell_type": "markdown",
      "metadata": {
        "id": "odP9No43Ky-c"
      },
      "source": [
        "Названия столбцов данных:\n",
        "\n",
        "- `date` — дата;\n",
        "- `ordersPerDateA` — количество заказов в выбранную дату в группе A;\n",
        "- `revenuePerDateA` — суммарная выручка в выбранную дату в группе A;\n",
        "- `ordersPerDateB` — количество заказов в выбранную дату в группе B;\n",
        "- `revenuePerDateB` — суммарная выручка в выбранную дату в группе B;\n",
        "- `ordersCummulativeA` — суммарное число заказов до выбранной даты включительно в группе A;\n",
        "- `revenueCummulativeA` — суммарная выручка до выбранной даты включительно в группе A;\n",
        "- `ordersCummulativeB` — суммарное количество заказов до выбранной даты включительно в группе B;\n",
        "- `revenueCummulativeB` — суммарная выручка до выбранной даты включительно в группе B;\n",
        "- `visitorsPerDateA` — количество пользователей в выбранную дату в группе A;\n",
        "- `visitorsPerDateB` — количество пользователей в выбранную дату в группе B;\n",
        "- `visitorsCummulativeA` — количество пользователей до выбранной даты включительно в группе A;\n",
        "- `visitorsCummulativeB` — количество пользователей до выбранной даты включительно в группе B."
      ]
    },
    {
      "cell_type": "markdown",
      "metadata": {
        "id": "HL0UpWtlKy-c"
      },
      "source": [
        "#### Анализ «сырых» данных"
      ]
    },
    {
      "cell_type": "markdown",
      "metadata": {
        "id": "vQbyP21_Ky-c"
      },
      "source": [
        "10. Посчитаем статистическую значимость различий в конверсии между группами по «сырым» данным.\n"
      ]
    },
    {
      "cell_type": "markdown",
      "metadata": {
        "id": "xl7PSQQlKy-c"
      },
      "source": [
        "**Гипотеза 1: Различий в конверсии между группами A и B нет**\n",
        "\n",
        "\n",
        "- $H_0$: различий в конверсии между группами нет. \n",
        "- $H_1$: различия в конверсии между группами есть.\n"
      ]
    },
    {
      "cell_type": "code",
      "execution_count": 27,
      "metadata": {
        "id": "FSJxG2iwKy-c",
        "outputId": "c37ba99e-d0e6-4eb9-8d3d-79a914201f8a",
        "colab": {
          "base_uri": "https://localhost:8080/"
        }
      },
      "outputs": [
        {
          "output_type": "stream",
          "name": "stdout",
          "text": [
            "0.017\n",
            "0.138\n"
          ]
        }
      ],
      "source": [
        "# создадим переменные с пользователями обеих групп хотя бы с 1 заказом и укажем число заказов\n",
        "ordersByUsersA = (\n",
        "    orders[orders['group'] == 'A']\n",
        "    .groupby('visitor_id', as_index=False)\n",
        "    .agg({'transaction_id': pd.Series.nunique})\n",
        ")\n",
        "ordersByUsersA.columns = ['visitor_id', 'orders']\n",
        "\n",
        "ordersByUsersB = (\n",
        "    orders[orders['group'] == 'B']\n",
        "    .groupby('visitor_id', as_index=False)\n",
        "    .agg({'transaction_id': pd.Series.nunique})\n",
        ")\n",
        "ordersByUsersB.columns = ['visitor_id', 'orders']\n",
        "\n",
        "# объявим переменные, где пользователям разных групп будет соответствовать количество заказов\n",
        "sampleA = pd.concat(\n",
        "    [\n",
        "        ordersByUsersA['orders'],\n",
        "        pd.Series(\n",
        "            0,\n",
        "            index=np.arange(\n",
        "                data['visitorsPerDateA'].sum() - len(ordersByUsersA['orders'])\n",
        "            ),\n",
        "            name='orders',\n",
        "        ),\n",
        "    ],\n",
        "    axis=0,\n",
        ")\n",
        "\n",
        "sampleB = pd.concat(\n",
        "    [\n",
        "        ordersByUsersB['orders'],\n",
        "        pd.Series(\n",
        "            0,\n",
        "            index=np.arange(\n",
        "                data['visitorsPerDateB'].sum() - len(ordersByUsersB['orders'])\n",
        "            ),\n",
        "            name='orders',\n",
        "        ),\n",
        "    ],\n",
        "    axis=0,\n",
        ")\n",
        "\n",
        "# применим критерий и отформатируем p-value, округлив его до трёх знаков после запятой\n",
        "\n",
        "print(\"{0:.3f}\".format(stats.mannwhitneyu(sampleA, sampleB)[1]))\n",
        "\n",
        "print(\"{0:.3f}\".format(sampleB.mean() / sampleA.mean() - 1))"
      ]
    },
    {
      "cell_type": "markdown",
      "metadata": {
        "id": "c5pfrBjcKy-d"
      },
      "source": [
        "По «сырым» данным видим различие в конверсии групп A и B.\n",
        "\n",
        "Первое число — p-value = 0.008 меньше 0.05. Значит, нулевую гипотезу о том, что статистически значимых различий в конверсии между группами нет, отвергаем. \n",
        "\n",
        "**Относительный прирост конверсии группы B равен 13.8%.**"
      ]
    },
    {
      "cell_type": "markdown",
      "metadata": {
        "id": "D6_51na2Ky-d"
      },
      "source": [
        "11. Посчитаем статистическую значимость различий в среднем чеке заказа между группами по «сырым» данным.\n",
        "\n",
        "Чтобы рассчитать статистическую значимость различий в среднем чеке, передадим критерию mannwhitneyu() данные о выручке с заказов.\n"
      ]
    },
    {
      "cell_type": "markdown",
      "metadata": {
        "id": "R635NNFBKy-d"
      },
      "source": [
        "**Гипотеза 2: Различий в среднем чеке между группами A и B нет**\n",
        "\n",
        "\n",
        "- $H_0$: различий в среднем чеке между группами нет. \n",
        "- $H_1$: различия в среднем чеке между группами есть."
      ]
    },
    {
      "cell_type": "code",
      "execution_count": 28,
      "metadata": {
        "id": "B7HkIhFVKy-d",
        "outputId": "c11b734e-7983-406c-b79e-58b161c1ecff",
        "colab": {
          "base_uri": "https://localhost:8080/"
        }
      },
      "outputs": [
        {
          "output_type": "stream",
          "name": "stdout",
          "text": [
            "0.729\n",
            "0.259\n"
          ]
        }
      ],
      "source": [
        "print('{0:.3f}'.format(stats.mannwhitneyu(orders[orders['group']=='A'] \\\n",
        "                                          ['revenue'], \\\n",
        "                                          orders[orders['group']=='B']\\\n",
        "                                          ['revenue'])[1]))\n",
        "print('{0:.3f}'.format(orders[orders['group']=='B']['revenue'] \\\n",
        "                       .mean()/orders[orders['group']=='A']\\\n",
        "                       ['revenue'].mean()-1))"
      ]
    },
    {
      "cell_type": "markdown",
      "metadata": {
        "id": "ZWLVW0jdKy-e"
      },
      "source": [
        "P-value значительно больше 0.05. Значит, причин отвергать нулевую гипотезу и считать, что в среднем чеке есть различия, нет. \n",
        "\n",
        "**По этим данным средний чек группы B выше среднего чека группы A на 25.9%.**\n"
      ]
    },
    {
      "cell_type": "markdown",
      "metadata": {
        "id": "Y-vbv9ZWKy-e"
      },
      "source": [
        "**Вывод по «сырым» данным:** группа B показывает лучшие результаты по конверсии в сравнении с группой A на 13.8%, а по среднему чеку на 25.9%."
      ]
    },
    {
      "cell_type": "markdown",
      "metadata": {
        "id": "XPuirmBgKy-e"
      },
      "source": [
        "#### Подготовка «очищенных» данных"
      ]
    },
    {
      "cell_type": "markdown",
      "metadata": {
        "id": "tZ_lIznuKy-e"
      },
      "source": [
        "Напомним, что найденные в прошлых шагах 95-й и 99-й перцентили средних чеков равны 28000 и 58233 рублям. \n",
        "\n",
        "А 95-й и 99-й перцентили количества заказов на одного пользователя равны 2 и 4 заказа на пользователя.\n",
        "\n",
        "Примем за аномальных пользователей тех, кто совершил от 2 заказов или совершил заказ дороже 30 000 рублей. Так мы уберём 5% пользователей с наибольшим числом заказов и от 1% до 5% пользователей с дорогими заказами. \n",
        "\n",
        "Сделаем срезы пользователей с числом заказов больше 2 — `usersWithManyOrders` и пользователей, совершивших заказы дороже 30 000 — `usersWithExpensiveOrders`. Объединим их в таблице `abnormalUsers`.\n"
      ]
    },
    {
      "cell_type": "code",
      "execution_count": 29,
      "metadata": {
        "id": "er2wWOgtKy-e",
        "outputId": "32110b8a-67d7-4590-b697-752374a7608c",
        "colab": {
          "base_uri": "https://localhost:8080/"
        }
      },
      "outputs": [
        {
          "output_type": "execute_result",
          "data": {
            "text/plain": [
              "(68,)"
            ]
          },
          "metadata": {},
          "execution_count": 29
        }
      ],
      "source": [
        "# узнаем, сколько всего аномальных пользователей методом shape()\n",
        "\n",
        "usersWithManyOrders = pd.concat(\n",
        "    [\n",
        "        ordersByUsersA[ordersByUsersA['orders'] > 2]['visitor_id'],\n",
        "        ordersByUsersB[ordersByUsersB['orders'] > 2]['visitor_id'],\n",
        "    ],\n",
        "    axis=0,\n",
        ")\n",
        "usersWithExpensiveOrders = orders[orders['revenue'] > 30000]['visitor_id']\n",
        "abnormalUsers = (\n",
        "    pd.concat([usersWithManyOrders, usersWithExpensiveOrders], axis=0)\n",
        "    .drop_duplicates()\n",
        "    .sort_values()\n",
        ")\n",
        "\n",
        "\n",
        "abnormalUsers.shape"
      ]
    },
    {
      "cell_type": "markdown",
      "metadata": {
        "id": "Ckn7pw6dKy-f"
      },
      "source": [
        "Видим 68 пользователей с аномальными заказами, выходящими за рамки среза – это довольно много, около 7%.\n",
        "\n",
        "Узнаем, как их действия повлияли на результаты теста. Посчитаем статистическую значимость различий в конверсии между группами теста по очищенным данным. \n",
        "\n",
        "Подготовим выборки количества заказов по пользователям по группам теста."
      ]
    },
    {
      "cell_type": "code",
      "execution_count": 30,
      "metadata": {
        "id": "PamOBnZxKy-f"
      },
      "outputs": [],
      "source": [
        "# создание выборок количества заказов по группам теста\n",
        "\n",
        "sampleAFiltered = pd.concat(\n",
        "    [\n",
        "        ordersByUsersA[\n",
        "            np.logical_not(ordersByUsersA['visitor_id'].isin(abnormalUsers))\n",
        "        ]['orders'],\n",
        "        pd.Series(\n",
        "            0,\n",
        "            index=np.arange(\n",
        "                data['visitorsPerDateA'].sum() - len(ordersByUsersA['orders'])\n",
        "            ),\n",
        "            name='orders',\n",
        "        ),\n",
        "    ],\n",
        "    axis=0,\n",
        ")\n",
        "\n",
        "sampleBFiltered = pd.concat(\n",
        "    [\n",
        "        ordersByUsersB[\n",
        "            np.logical_not(ordersByUsersB['visitor_id'].isin(abnormalUsers))\n",
        "        ]['orders'],\n",
        "        pd.Series(\n",
        "            0,\n",
        "            index=np.arange(\n",
        "                data['visitorsPerDateB'].sum() - len(ordersByUsersB['orders'])\n",
        "            ),\n",
        "            name='orders',\n",
        "        ),\n",
        "    ],\n",
        "    axis=0,\n",
        ") "
      ]
    },
    {
      "cell_type": "markdown",
      "metadata": {
        "id": "qv4yFS2vKy-f"
      },
      "source": [
        "12. Посчитаем статистическую значимость различий в конверсии между группами по «очищенным» данным. \n"
      ]
    },
    {
      "cell_type": "markdown",
      "metadata": {
        "id": "FKEwR-OSKy-f"
      },
      "source": [
        "**Гипотеза 1: Различий в конверсии между группами A и B нет**\n",
        "\n",
        "\n",
        "- $H_0$: различий в конверсии между группами нет. \n",
        "- $H_1$: различия в конверсии между группами есть.\n"
      ]
    },
    {
      "cell_type": "code",
      "execution_count": 31,
      "metadata": {
        "id": "p4b8_uh3Ky-f",
        "outputId": "a012d2fd-eb68-44e4-d959-bc43c8553ec6",
        "colab": {
          "base_uri": "https://localhost:8080/"
        }
      },
      "outputs": [
        {
          "output_type": "stream",
          "name": "stdout",
          "text": [
            "0.013\n",
            "0.172\n"
          ]
        }
      ],
      "source": [
        "print('{0:.3f}'.format(stats.mannwhitneyu(sampleAFiltered, sampleBFiltered)[1]))\n",
        "print('{0:.3f}'.format(sampleBFiltered.mean()/sampleAFiltered.mean()-1)) "
      ]
    },
    {
      "cell_type": "markdown",
      "metadata": {
        "id": "oxP9tpdEKy-f"
      },
      "source": [
        "По «очищенным» данным тоже видим различие в конверсии групп A и B.\n",
        "\n",
        "Первое число — p-value = 0.007 меньше 0.05. Значит, нулевую гипотезу о том, что статистически значимых различий в конверсии между группами нет, отвергаем. \n",
        "\n",
        "**Относительный прирост конверсии группы B равен 17.2%.**"
      ]
    },
    {
      "cell_type": "markdown",
      "metadata": {
        "id": "nePc89AHKy-g"
      },
      "source": [
        "13. Посчитаем статистическую значимость различий в среднем чеке заказа между группами по «очищенным» данным."
      ]
    },
    {
      "cell_type": "markdown",
      "metadata": {
        "id": "U3T9V01JKy-g"
      },
      "source": [
        "**Гипотеза 2: Различий в среднем чеке между группами A и B нет**\n",
        "\n",
        "\n",
        "- $H_0$: различий в среднем чеке между группами нет. \n",
        "- $H_1$: различия в среднем чеке между группами есть."
      ]
    },
    {
      "cell_type": "code",
      "execution_count": 32,
      "metadata": {
        "id": "OJp3lzogKy-g",
        "outputId": "d1247698-7f76-439f-ada4-fba2a7c66946",
        "colab": {
          "base_uri": "https://localhost:8080/"
        }
      },
      "outputs": [
        {
          "output_type": "stream",
          "name": "stdout",
          "text": [
            "0.720\n",
            "-0.023\n"
          ]
        }
      ],
      "source": [
        "print(\n",
        "    '{0:.3f}'.format(\n",
        "        stats.mannwhitneyu(\n",
        "            orders[\n",
        "                np.logical_and(\n",
        "                    orders['group'] == 'A',\n",
        "                    np.logical_not(orders['visitor_id'].isin(abnormalUsers)),\n",
        "                )\n",
        "            ]['revenue'],\n",
        "            orders[\n",
        "                np.logical_and(\n",
        "                    orders['group'] == 'B',\n",
        "                    np.logical_not(orders['visitor_id'].isin(abnormalUsers)),\n",
        "                )\n",
        "            ]['revenue'],\n",
        "        )[1]\n",
        "    )\n",
        ")\n",
        "\n",
        "print(\n",
        "    \"{0:.3f}\".format(\n",
        "        orders[\n",
        "            np.logical_and(\n",
        "                orders['group'] == 'B',\n",
        "                np.logical_not(orders['visitor_id'].isin(abnormalUsers)),\n",
        "            )\n",
        "        ]['revenue'].mean()\n",
        "        / orders[\n",
        "            np.logical_and(\n",
        "                orders['group'] == 'A',\n",
        "                np.logical_not(orders['visitor_id'].isin(abnormalUsers)),\n",
        "            )\n",
        "        ]['revenue'].mean()\n",
        "        - 1\n",
        "    )\n",
        ") "
      ]
    },
    {
      "cell_type": "markdown",
      "metadata": {
        "id": "DT18gZaWKy-g"
      },
      "source": [
        "P-value значительно больше 0.05. Значит, причин отвергать нулевую гипотезу и считать, что в среднем чеке есть различия, нет. \n",
        "\n",
        "**Хотя теперь выясняется, что средний чек группы B меньше среднего чека группы A на 2.3%. Но это не статистически значимо.**\n",
        "\n"
      ]
    },
    {
      "cell_type": "markdown",
      "metadata": {
        "id": "MfrzajKJKy-g"
      },
      "source": [
        "**Вывод по «очищенным» данным:** результаты теста изменились – аномалии сильно повлияли на результаты A/B-теста и исказили реальную картину почти до обратного результата.\n",
        "\n",
        "Относительный прирост конверсии группы B по «очищенным» данным равен 17.2%, но средний чек немного ниже группы A – на 2.3% (что не является статистически значимым)."
      ]
    },
    {
      "cell_type": "markdown",
      "metadata": {
        "id": "ApFHpWDqKy-g"
      },
      "source": [
        "## Общий вывод"
      ]
    },
    {
      "cell_type": "markdown",
      "metadata": {
        "id": "QLOS0FDJKy-h"
      },
      "source": [
        "Имеющиеся факты:\n",
        "- Есть статистически значимое различие по конверсии между группами как по «сырым данным», так и после фильтрации аномалий. Минимум на 13.8% конверсия группы B лучше\n",
        "- По «сырым данным», средний чек группы B выше, но по отфильтрованным от выбросов – на 2.3% ниже. По очищенным данным нет статистически значимого различия по среднему чеку между группами\n",
        "- График различия конверсии между группами сообщает, что результаты группы B намного и стабильно выше группы A\n",
        "- График различия среднего чека колеблется, но сделать из этого графика определённые выводы нельзя\n"
      ]
    },
    {
      "cell_type": "markdown",
      "metadata": {
        "id": "1mPUVh9FKy-h"
      },
      "source": [
        "Исходя из обнаруженных фактов, **тест следует остановить и зафиксировать победу группы B**. \n",
        "\n",
        "Повышенная конверсия показывает, что в будущем можно получить прибыль выше. А статистически незначимое падение среднего чека можно пока проигнорировать, передав маркетологам и отделу продаж задачу на увеличение среднего чека в принципе."
      ]
    }
  ],
  "metadata": {
    "ExecuteTimeLog": [
      {
        "duration": 1731,
        "start_time": "2022-03-27T19:36:37.629Z"
      },
      {
        "duration": 338,
        "start_time": "2022-03-27T19:37:09.860Z"
      },
      {
        "duration": 29,
        "start_time": "2022-03-27T19:37:15.833Z"
      },
      {
        "duration": 24,
        "start_time": "2022-03-27T19:37:22.782Z"
      },
      {
        "duration": 4,
        "start_time": "2022-03-27T19:37:29.941Z"
      },
      {
        "duration": 5,
        "start_time": "2022-03-27T19:37:35.053Z"
      },
      {
        "duration": 5,
        "start_time": "2022-03-27T19:37:38.510Z"
      },
      {
        "duration": 12,
        "start_time": "2022-03-27T19:38:12.299Z"
      },
      {
        "duration": 23,
        "start_time": "2022-03-27T19:38:29.301Z"
      },
      {
        "duration": 24,
        "start_time": "2022-03-27T19:38:53.924Z"
      },
      {
        "duration": 4,
        "start_time": "2022-03-27T19:39:12.790Z"
      },
      {
        "duration": 18,
        "start_time": "2022-03-27T19:40:03.971Z"
      },
      {
        "duration": 16,
        "start_time": "2022-03-27T19:40:25.859Z"
      },
      {
        "duration": 14,
        "start_time": "2022-03-27T19:41:24.414Z"
      },
      {
        "duration": 533,
        "start_time": "2022-03-27T19:41:40.375Z"
      },
      {
        "duration": 666,
        "start_time": "2022-03-27T19:41:55.612Z"
      },
      {
        "duration": 570,
        "start_time": "2022-03-27T19:42:30.359Z"
      },
      {
        "duration": 681,
        "start_time": "2022-03-27T19:42:55.810Z"
      },
      {
        "duration": 571,
        "start_time": "2022-03-27T19:43:33.560Z"
      },
      {
        "duration": 701,
        "start_time": "2022-03-27T19:44:03.351Z"
      },
      {
        "duration": 17,
        "start_time": "2022-03-27T19:44:46.477Z"
      },
      {
        "duration": 425,
        "start_time": "2022-03-27T19:45:31.953Z"
      },
      {
        "duration": 415,
        "start_time": "2022-03-27T19:45:52.318Z"
      },
      {
        "duration": 6,
        "start_time": "2022-03-27T19:47:08.952Z"
      },
      {
        "duration": 438,
        "start_time": "2022-03-27T19:47:49.474Z"
      },
      {
        "duration": 7,
        "start_time": "2022-03-27T19:48:14.209Z"
      },
      {
        "duration": 372,
        "start_time": "2022-03-27T19:49:46.075Z"
      },
      {
        "duration": 18,
        "start_time": "2022-03-27T19:49:51.911Z"
      },
      {
        "duration": 99,
        "start_time": "2022-03-27T19:50:16.314Z"
      },
      {
        "duration": 341,
        "start_time": "2022-03-27T19:50:39.432Z"
      },
      {
        "duration": 13,
        "start_time": "2022-03-27T19:51:21.376Z"
      },
      {
        "duration": 13,
        "start_time": "2022-03-27T19:51:47.482Z"
      },
      {
        "duration": 14,
        "start_time": "2022-03-27T19:52:58.221Z"
      },
      {
        "duration": 12,
        "start_time": "2022-03-27T19:53:12.471Z"
      },
      {
        "duration": 28,
        "start_time": "2022-03-27T19:53:37.748Z"
      },
      {
        "duration": 21,
        "start_time": "2022-03-27T19:54:24.206Z"
      },
      {
        "duration": 233,
        "start_time": "2022-03-28T18:31:52.419Z"
      },
      {
        "duration": 1321,
        "start_time": "2022-03-29T10:59:29.307Z"
      },
      {
        "duration": 1162,
        "start_time": "2022-03-29T10:59:38.352Z"
      },
      {
        "duration": 243,
        "start_time": "2022-03-29T10:59:39.516Z"
      },
      {
        "duration": 20,
        "start_time": "2022-03-29T10:59:39.761Z"
      },
      {
        "duration": 17,
        "start_time": "2022-03-29T10:59:39.783Z"
      },
      {
        "duration": 9,
        "start_time": "2022-03-29T10:59:39.802Z"
      },
      {
        "duration": 6,
        "start_time": "2022-03-29T10:59:39.813Z"
      },
      {
        "duration": 24,
        "start_time": "2022-03-29T10:59:39.821Z"
      },
      {
        "duration": 12,
        "start_time": "2022-03-29T10:59:39.863Z"
      },
      {
        "duration": 13,
        "start_time": "2022-03-29T10:59:39.877Z"
      },
      {
        "duration": 14,
        "start_time": "2022-03-29T10:59:39.893Z"
      },
      {
        "duration": 25,
        "start_time": "2022-03-29T10:59:39.909Z"
      },
      {
        "duration": 9,
        "start_time": "2022-03-29T10:59:39.936Z"
      },
      {
        "duration": 16,
        "start_time": "2022-03-29T10:59:39.963Z"
      },
      {
        "duration": 279,
        "start_time": "2022-03-29T10:59:39.981Z"
      },
      {
        "duration": 349,
        "start_time": "2022-03-29T10:59:40.261Z"
      },
      {
        "duration": 304,
        "start_time": "2022-03-29T10:59:40.611Z"
      },
      {
        "duration": 397,
        "start_time": "2022-03-29T10:59:40.917Z"
      },
      {
        "duration": 302,
        "start_time": "2022-03-29T10:59:41.315Z"
      },
      {
        "duration": 582,
        "start_time": "2022-03-29T10:59:41.619Z"
      },
      {
        "duration": 16,
        "start_time": "2022-03-29T10:59:42.204Z"
      },
      {
        "duration": 324,
        "start_time": "2022-03-29T10:59:42.223Z"
      },
      {
        "duration": 15,
        "start_time": "2022-03-29T10:59:42.550Z"
      },
      {
        "duration": 398,
        "start_time": "2022-03-29T10:59:42.568Z"
      },
      {
        "duration": 6,
        "start_time": "2022-03-29T10:59:42.968Z"
      },
      {
        "duration": 345,
        "start_time": "2022-03-29T10:59:42.976Z"
      },
      {
        "duration": 16,
        "start_time": "2022-03-29T10:59:43.324Z"
      },
      {
        "duration": 169,
        "start_time": "2022-03-29T10:59:43.342Z"
      },
      {
        "duration": 10,
        "start_time": "2022-03-29T10:59:43.514Z"
      },
      {
        "duration": 9,
        "start_time": "2022-03-29T10:59:43.526Z"
      },
      {
        "duration": 11,
        "start_time": "2022-03-29T10:59:43.536Z"
      },
      {
        "duration": 36,
        "start_time": "2022-03-29T10:59:43.548Z"
      },
      {
        "duration": 13,
        "start_time": "2022-03-29T10:59:43.586Z"
      }
    ],
    "kernelspec": {
      "display_name": "Python 3 (ipykernel)",
      "language": "python",
      "name": "python3"
    },
    "language_info": {
      "codemirror_mode": {
        "name": "ipython",
        "version": 3
      },
      "file_extension": ".py",
      "mimetype": "text/x-python",
      "name": "python",
      "nbconvert_exporter": "python",
      "pygments_lexer": "ipython3",
      "version": "3.9.7"
    },
    "toc": {
      "base_numbering": 1,
      "nav_menu": {},
      "number_sections": true,
      "sideBar": true,
      "skip_h1_title": true,
      "title_cell": "Table of Contents",
      "title_sidebar": "Contents",
      "toc_cell": false,
      "toc_position": {},
      "toc_section_display": true,
      "toc_window_display": false
    },
    "colab": {
      "provenance": [],
      "collapsed_sections": []
    }
  },
  "nbformat": 4,
  "nbformat_minor": 0
}