{
  "cells": [
    {
      "cell_type": "markdown",
      "metadata": {
        "id": "8E3J9YiIHSqj"
      },
      "source": [
        "# Исследование надёжности заёмщиков\n",
        "\n",
        "Заказчик — кредитный отдел банка. Нужно разобраться, влияет ли семейное положение и количество детей клиента на факт погашения кредита в срок. \n",
        "\n",
        "**Цель исследования** – ответить на следующие вопросы: \n",
        "* Есть ли зависимость между наличием детей и возвратом кредита в срок?\n",
        "* Есть ли зависимость между семейным положением и возвратом кредита в срок?\n",
        "* Есть ли зависимость между уровнем дохода и возвратом кредита в срок?\n",
        "* Как разные цели кредита влияют на его возврат в срок?\n",
        "\n",
        "Входные данные от банка — статистика о платёжеспособности клиентов из файла datasets/data.csv. \n",
        "\n",
        "Результаты исследования будут учтены при построении модели **кредитного скоринга** — специальной системы, которая оценивает способность потенциального заёмщика вернуть кредит банку.\n"
      ]
    },
    {
      "cell_type": "markdown",
      "metadata": {
        "id": "Xd3cFV4ZHSqk"
      },
      "source": [
        "## Шаг 1. Общая информация"
      ]
    },
    {
      "cell_type": "markdown",
      "metadata": {
        "id": "0z8qGhALHSqk"
      },
      "source": [
        "Покдлючим необходимые для работы библиотеки и инструменты, начнем работу с базой:"
      ]
    },
    {
      "cell_type": "code",
      "source": [
        "# for pymystem proper work https://github.com/nlpub/pymystem3/issues/28\n",
        "!wget http://download.cdn.yandex.net/mystem/mystem-3.0-linux3.1-64bit.tar.gz\n",
        "!tar -xvf mystem-3.0-linux3.1-64bit.tar.gz\n",
        "!cp mystem /root/.local/bin/mystem"
      ],
      "metadata": {
        "colab": {
          "base_uri": "https://localhost:8080/"
        },
        "id": "vT3y587Zs3pj",
        "outputId": "d77b7c52-4e75-41da-a187-c5b5d3e51a87"
      },
      "execution_count": 67,
      "outputs": [
        {
          "output_type": "stream",
          "name": "stdout",
          "text": [
            "--2022-10-19 10:21:46--  http://download.cdn.yandex.net/mystem/mystem-3.0-linux3.1-64bit.tar.gz\n",
            "Resolving download.cdn.yandex.net (download.cdn.yandex.net)... 5.45.205.245, 5.45.205.241, 5.45.205.242, ...\n",
            "Connecting to download.cdn.yandex.net (download.cdn.yandex.net)|5.45.205.245|:80... connected.\n",
            "HTTP request sent, awaiting response... 302 Found\n",
            "Location: http://cachev2-mskm910.cdn.yandex.net/download.cdn.yandex.net/mystem/mystem-3.0-linux3.1-64bit.tar.gz?lid=235 [following]\n",
            "--2022-10-19 10:21:46--  http://cachev2-mskm910.cdn.yandex.net/download.cdn.yandex.net/mystem/mystem-3.0-linux3.1-64bit.tar.gz?lid=235\n",
            "Resolving cachev2-mskm910.cdn.yandex.net (cachev2-mskm910.cdn.yandex.net)... 5.45.220.121, 2a02:6b8:0:2002::921\n",
            "Connecting to cachev2-mskm910.cdn.yandex.net (cachev2-mskm910.cdn.yandex.net)|5.45.220.121|:80... connected.\n",
            "HTTP request sent, awaiting response... 200 OK\n",
            "Length: 16457938 (16M) [application/octet-stream]\n",
            "Saving to: ‘mystem-3.0-linux3.1-64bit.tar.gz.4’\n",
            "\n",
            "mystem-3.0-linux3.1 100%[===================>]  15.70M  10.3MB/s    in 1.5s    \n",
            "\n",
            "2022-10-19 10:21:48 (10.3 MB/s) - ‘mystem-3.0-linux3.1-64bit.tar.gz.4’ saved [16457938/16457938]\n",
            "\n",
            "mystem\n",
            "cp: cannot create regular file '/root/.local/bin/mystem': Text file busy\n"
          ]
        }
      ]
    },
    {
      "cell_type": "code",
      "execution_count": 68,
      "metadata": {
        "id": "Osa5bC9-HSqk"
      },
      "outputs": [],
      "source": [
        "import pandas as pd\n",
        "import seaborn as sns # импорт библиотеки для визуализации\n",
        "from pymystem3 import Mystem # импорт библиотеки для лемматизации\n",
        "m = Mystem()"
      ]
    },
    {
      "cell_type": "code",
      "source": [
        "# настройка параметров отображения\n",
        "custom_params = {'axes.spines.right': False, 'axes.spines.top': False}\n",
        "sns.set_theme(style='ticks', rc=custom_params)\n",
        "sns.set_style('whitegrid')\n",
        "%config InlineBackend.figure_format = 'retina'\n",
        "pd.options.mode.chained_assignment = None\n",
        "pd.set_option('display.float_format', '{:.2f}'.format)"
      ],
      "metadata": {
        "id": "r04h7xC-s6G6"
      },
      "execution_count": 69,
      "outputs": []
    },
    {
      "cell_type": "code",
      "execution_count": 70,
      "metadata": {
        "id": "azllXyb9HSql"
      },
      "outputs": [],
      "source": [
        "clients = pd.read_csv('https://code.s3.yandex.net/datasets/data.csv') # чтение файла с данными и сохранение в таблицу clients"
      ]
    },
    {
      "cell_type": "code",
      "execution_count": 71,
      "metadata": {
        "scrolled": true,
        "colab": {
          "base_uri": "https://localhost:8080/"
        },
        "id": "0K_02t7cHSqm",
        "outputId": "0f4bc56b-21f9-4e91-b005-c3b43bf61ef1"
      },
      "outputs": [
        {
          "output_type": "stream",
          "name": "stdout",
          "text": [
            "<class 'pandas.core.frame.DataFrame'>\n",
            "RangeIndex: 21525 entries, 0 to 21524\n",
            "Data columns (total 12 columns):\n",
            " #   Column            Non-Null Count  Dtype  \n",
            "---  ------            --------------  -----  \n",
            " 0   children          21525 non-null  int64  \n",
            " 1   days_employed     19351 non-null  float64\n",
            " 2   dob_years         21525 non-null  int64  \n",
            " 3   education         21525 non-null  object \n",
            " 4   education_id      21525 non-null  int64  \n",
            " 5   family_status     21525 non-null  object \n",
            " 6   family_status_id  21525 non-null  int64  \n",
            " 7   gender            21525 non-null  object \n",
            " 8   income_type       21525 non-null  object \n",
            " 9   debt              21525 non-null  int64  \n",
            " 10  total_income      19351 non-null  float64\n",
            " 11  purpose           21525 non-null  object \n",
            "dtypes: float64(2), int64(5), object(5)\n",
            "memory usage: 2.0+ MB\n"
          ]
        }
      ],
      "source": [
        "clients.info() # получение общей информации о данных в таблице"
      ]
    },
    {
      "cell_type": "markdown",
      "metadata": {
        "id": "JoVFm7gIHSqm"
      },
      "source": [
        "В исходной таблице 12 столбцов и 21525 записей с разными типами данных.\n",
        "\n",
        "\n",
        "\n",
        "Видим, что количество записей в столбцах `days_employed` и `total_income` отличается от общего в меньшую сторону, значит там есть **пропуски значений**."
      ]
    },
    {
      "cell_type": "code",
      "execution_count": 72,
      "metadata": {
        "colab": {
          "base_uri": "https://localhost:8080/",
          "height": 520
        },
        "id": "5P6ErIdUHSqn",
        "outputId": "1beabe06-1633-4a26-98e8-9ce82fc38ab8"
      },
      "outputs": [
        {
          "output_type": "execute_result",
          "data": {
            "text/plain": [
              "    children  days_employed  dob_years            education  education_id  \\\n",
              "0          1       -8437.67         42               высшее             0   \n",
              "1          1       -4024.80         36              среднее             1   \n",
              "2          0       -5623.42         33              Среднее             1   \n",
              "3          3       -4124.75         32              среднее             1   \n",
              "4          0      340266.07         53              среднее             1   \n",
              "5          0        -926.19         27               высшее             0   \n",
              "6          0       -2879.20         43               высшее             0   \n",
              "7          0        -152.78         50              СРЕДНЕЕ             1   \n",
              "8          2       -6929.87         35               ВЫСШЕЕ             0   \n",
              "9          0       -2188.76         41              среднее             1   \n",
              "10         2       -4171.48         36               высшее             0   \n",
              "11         0        -792.70         40              среднее             1   \n",
              "12         0            NaN         65              среднее             1   \n",
              "13         0       -1846.64         54  неоконченное высшее             2   \n",
              "14         0       -1844.96         56               высшее             0   \n",
              "\n",
              "       family_status  family_status_id gender income_type  debt  total_income  \\\n",
              "0    женат / замужем                 0      F   сотрудник     0     253875.64   \n",
              "1    женат / замужем                 0      F   сотрудник     0     112080.01   \n",
              "2    женат / замужем                 0      M   сотрудник     0     145885.95   \n",
              "3    женат / замужем                 0      M   сотрудник     0     267628.55   \n",
              "4   гражданский брак                 1      F   пенсионер     0     158616.08   \n",
              "5   гражданский брак                 1      M   компаньон     0     255763.57   \n",
              "6    женат / замужем                 0      F   компаньон     0     240525.97   \n",
              "7    женат / замужем                 0      M   сотрудник     0     135823.93   \n",
              "8   гражданский брак                 1      F   сотрудник     0      95856.83   \n",
              "9    женат / замужем                 0      M   сотрудник     0     144425.94   \n",
              "10   женат / замужем                 0      M   компаньон     0     113943.49   \n",
              "11   женат / замужем                 0      F   сотрудник     0      77069.23   \n",
              "12  гражданский брак                 1      M   пенсионер     0           NaN   \n",
              "13   женат / замужем                 0      F   сотрудник     0     130458.23   \n",
              "14  гражданский брак                 1      F   компаньон     1     165127.91   \n",
              "\n",
              "                              purpose  \n",
              "0                       покупка жилья  \n",
              "1             приобретение автомобиля  \n",
              "2                       покупка жилья  \n",
              "3          дополнительное образование  \n",
              "4                     сыграть свадьбу  \n",
              "5                       покупка жилья  \n",
              "6                   операции с жильем  \n",
              "7                         образование  \n",
              "8               на проведение свадьбы  \n",
              "9             покупка жилья для семьи  \n",
              "10               покупка недвижимости  \n",
              "11  покупка коммерческой недвижимости  \n",
              "12                    сыграть свадьбу  \n",
              "13            приобретение автомобиля  \n",
              "14         покупка жилой недвижимости  "
            ],
            "text/html": [
              "\n",
              "  <div id=\"df-4af0100d-5969-4ea1-8593-cfac67d514d7\">\n",
              "    <div class=\"colab-df-container\">\n",
              "      <div>\n",
              "<style scoped>\n",
              "    .dataframe tbody tr th:only-of-type {\n",
              "        vertical-align: middle;\n",
              "    }\n",
              "\n",
              "    .dataframe tbody tr th {\n",
              "        vertical-align: top;\n",
              "    }\n",
              "\n",
              "    .dataframe thead th {\n",
              "        text-align: right;\n",
              "    }\n",
              "</style>\n",
              "<table border=\"1\" class=\"dataframe\">\n",
              "  <thead>\n",
              "    <tr style=\"text-align: right;\">\n",
              "      <th></th>\n",
              "      <th>children</th>\n",
              "      <th>days_employed</th>\n",
              "      <th>dob_years</th>\n",
              "      <th>education</th>\n",
              "      <th>education_id</th>\n",
              "      <th>family_status</th>\n",
              "      <th>family_status_id</th>\n",
              "      <th>gender</th>\n",
              "      <th>income_type</th>\n",
              "      <th>debt</th>\n",
              "      <th>total_income</th>\n",
              "      <th>purpose</th>\n",
              "    </tr>\n",
              "  </thead>\n",
              "  <tbody>\n",
              "    <tr>\n",
              "      <th>0</th>\n",
              "      <td>1</td>\n",
              "      <td>-8437.67</td>\n",
              "      <td>42</td>\n",
              "      <td>высшее</td>\n",
              "      <td>0</td>\n",
              "      <td>женат / замужем</td>\n",
              "      <td>0</td>\n",
              "      <td>F</td>\n",
              "      <td>сотрудник</td>\n",
              "      <td>0</td>\n",
              "      <td>253875.64</td>\n",
              "      <td>покупка жилья</td>\n",
              "    </tr>\n",
              "    <tr>\n",
              "      <th>1</th>\n",
              "      <td>1</td>\n",
              "      <td>-4024.80</td>\n",
              "      <td>36</td>\n",
              "      <td>среднее</td>\n",
              "      <td>1</td>\n",
              "      <td>женат / замужем</td>\n",
              "      <td>0</td>\n",
              "      <td>F</td>\n",
              "      <td>сотрудник</td>\n",
              "      <td>0</td>\n",
              "      <td>112080.01</td>\n",
              "      <td>приобретение автомобиля</td>\n",
              "    </tr>\n",
              "    <tr>\n",
              "      <th>2</th>\n",
              "      <td>0</td>\n",
              "      <td>-5623.42</td>\n",
              "      <td>33</td>\n",
              "      <td>Среднее</td>\n",
              "      <td>1</td>\n",
              "      <td>женат / замужем</td>\n",
              "      <td>0</td>\n",
              "      <td>M</td>\n",
              "      <td>сотрудник</td>\n",
              "      <td>0</td>\n",
              "      <td>145885.95</td>\n",
              "      <td>покупка жилья</td>\n",
              "    </tr>\n",
              "    <tr>\n",
              "      <th>3</th>\n",
              "      <td>3</td>\n",
              "      <td>-4124.75</td>\n",
              "      <td>32</td>\n",
              "      <td>среднее</td>\n",
              "      <td>1</td>\n",
              "      <td>женат / замужем</td>\n",
              "      <td>0</td>\n",
              "      <td>M</td>\n",
              "      <td>сотрудник</td>\n",
              "      <td>0</td>\n",
              "      <td>267628.55</td>\n",
              "      <td>дополнительное образование</td>\n",
              "    </tr>\n",
              "    <tr>\n",
              "      <th>4</th>\n",
              "      <td>0</td>\n",
              "      <td>340266.07</td>\n",
              "      <td>53</td>\n",
              "      <td>среднее</td>\n",
              "      <td>1</td>\n",
              "      <td>гражданский брак</td>\n",
              "      <td>1</td>\n",
              "      <td>F</td>\n",
              "      <td>пенсионер</td>\n",
              "      <td>0</td>\n",
              "      <td>158616.08</td>\n",
              "      <td>сыграть свадьбу</td>\n",
              "    </tr>\n",
              "    <tr>\n",
              "      <th>5</th>\n",
              "      <td>0</td>\n",
              "      <td>-926.19</td>\n",
              "      <td>27</td>\n",
              "      <td>высшее</td>\n",
              "      <td>0</td>\n",
              "      <td>гражданский брак</td>\n",
              "      <td>1</td>\n",
              "      <td>M</td>\n",
              "      <td>компаньон</td>\n",
              "      <td>0</td>\n",
              "      <td>255763.57</td>\n",
              "      <td>покупка жилья</td>\n",
              "    </tr>\n",
              "    <tr>\n",
              "      <th>6</th>\n",
              "      <td>0</td>\n",
              "      <td>-2879.20</td>\n",
              "      <td>43</td>\n",
              "      <td>высшее</td>\n",
              "      <td>0</td>\n",
              "      <td>женат / замужем</td>\n",
              "      <td>0</td>\n",
              "      <td>F</td>\n",
              "      <td>компаньон</td>\n",
              "      <td>0</td>\n",
              "      <td>240525.97</td>\n",
              "      <td>операции с жильем</td>\n",
              "    </tr>\n",
              "    <tr>\n",
              "      <th>7</th>\n",
              "      <td>0</td>\n",
              "      <td>-152.78</td>\n",
              "      <td>50</td>\n",
              "      <td>СРЕДНЕЕ</td>\n",
              "      <td>1</td>\n",
              "      <td>женат / замужем</td>\n",
              "      <td>0</td>\n",
              "      <td>M</td>\n",
              "      <td>сотрудник</td>\n",
              "      <td>0</td>\n",
              "      <td>135823.93</td>\n",
              "      <td>образование</td>\n",
              "    </tr>\n",
              "    <tr>\n",
              "      <th>8</th>\n",
              "      <td>2</td>\n",
              "      <td>-6929.87</td>\n",
              "      <td>35</td>\n",
              "      <td>ВЫСШЕЕ</td>\n",
              "      <td>0</td>\n",
              "      <td>гражданский брак</td>\n",
              "      <td>1</td>\n",
              "      <td>F</td>\n",
              "      <td>сотрудник</td>\n",
              "      <td>0</td>\n",
              "      <td>95856.83</td>\n",
              "      <td>на проведение свадьбы</td>\n",
              "    </tr>\n",
              "    <tr>\n",
              "      <th>9</th>\n",
              "      <td>0</td>\n",
              "      <td>-2188.76</td>\n",
              "      <td>41</td>\n",
              "      <td>среднее</td>\n",
              "      <td>1</td>\n",
              "      <td>женат / замужем</td>\n",
              "      <td>0</td>\n",
              "      <td>M</td>\n",
              "      <td>сотрудник</td>\n",
              "      <td>0</td>\n",
              "      <td>144425.94</td>\n",
              "      <td>покупка жилья для семьи</td>\n",
              "    </tr>\n",
              "    <tr>\n",
              "      <th>10</th>\n",
              "      <td>2</td>\n",
              "      <td>-4171.48</td>\n",
              "      <td>36</td>\n",
              "      <td>высшее</td>\n",
              "      <td>0</td>\n",
              "      <td>женат / замужем</td>\n",
              "      <td>0</td>\n",
              "      <td>M</td>\n",
              "      <td>компаньон</td>\n",
              "      <td>0</td>\n",
              "      <td>113943.49</td>\n",
              "      <td>покупка недвижимости</td>\n",
              "    </tr>\n",
              "    <tr>\n",
              "      <th>11</th>\n",
              "      <td>0</td>\n",
              "      <td>-792.70</td>\n",
              "      <td>40</td>\n",
              "      <td>среднее</td>\n",
              "      <td>1</td>\n",
              "      <td>женат / замужем</td>\n",
              "      <td>0</td>\n",
              "      <td>F</td>\n",
              "      <td>сотрудник</td>\n",
              "      <td>0</td>\n",
              "      <td>77069.23</td>\n",
              "      <td>покупка коммерческой недвижимости</td>\n",
              "    </tr>\n",
              "    <tr>\n",
              "      <th>12</th>\n",
              "      <td>0</td>\n",
              "      <td>NaN</td>\n",
              "      <td>65</td>\n",
              "      <td>среднее</td>\n",
              "      <td>1</td>\n",
              "      <td>гражданский брак</td>\n",
              "      <td>1</td>\n",
              "      <td>M</td>\n",
              "      <td>пенсионер</td>\n",
              "      <td>0</td>\n",
              "      <td>NaN</td>\n",
              "      <td>сыграть свадьбу</td>\n",
              "    </tr>\n",
              "    <tr>\n",
              "      <th>13</th>\n",
              "      <td>0</td>\n",
              "      <td>-1846.64</td>\n",
              "      <td>54</td>\n",
              "      <td>неоконченное высшее</td>\n",
              "      <td>2</td>\n",
              "      <td>женат / замужем</td>\n",
              "      <td>0</td>\n",
              "      <td>F</td>\n",
              "      <td>сотрудник</td>\n",
              "      <td>0</td>\n",
              "      <td>130458.23</td>\n",
              "      <td>приобретение автомобиля</td>\n",
              "    </tr>\n",
              "    <tr>\n",
              "      <th>14</th>\n",
              "      <td>0</td>\n",
              "      <td>-1844.96</td>\n",
              "      <td>56</td>\n",
              "      <td>высшее</td>\n",
              "      <td>0</td>\n",
              "      <td>гражданский брак</td>\n",
              "      <td>1</td>\n",
              "      <td>F</td>\n",
              "      <td>компаньон</td>\n",
              "      <td>1</td>\n",
              "      <td>165127.91</td>\n",
              "      <td>покупка жилой недвижимости</td>\n",
              "    </tr>\n",
              "  </tbody>\n",
              "</table>\n",
              "</div>\n",
              "      <button class=\"colab-df-convert\" onclick=\"convertToInteractive('df-4af0100d-5969-4ea1-8593-cfac67d514d7')\"\n",
              "              title=\"Convert this dataframe to an interactive table.\"\n",
              "              style=\"display:none;\">\n",
              "        \n",
              "  <svg xmlns=\"http://www.w3.org/2000/svg\" height=\"24px\"viewBox=\"0 0 24 24\"\n",
              "       width=\"24px\">\n",
              "    <path d=\"M0 0h24v24H0V0z\" fill=\"none\"/>\n",
              "    <path d=\"M18.56 5.44l.94 2.06.94-2.06 2.06-.94-2.06-.94-.94-2.06-.94 2.06-2.06.94zm-11 1L8.5 8.5l.94-2.06 2.06-.94-2.06-.94L8.5 2.5l-.94 2.06-2.06.94zm10 10l.94 2.06.94-2.06 2.06-.94-2.06-.94-.94-2.06-.94 2.06-2.06.94z\"/><path d=\"M17.41 7.96l-1.37-1.37c-.4-.4-.92-.59-1.43-.59-.52 0-1.04.2-1.43.59L10.3 9.45l-7.72 7.72c-.78.78-.78 2.05 0 2.83L4 21.41c.39.39.9.59 1.41.59.51 0 1.02-.2 1.41-.59l7.78-7.78 2.81-2.81c.8-.78.8-2.07 0-2.86zM5.41 20L4 18.59l7.72-7.72 1.47 1.35L5.41 20z\"/>\n",
              "  </svg>\n",
              "      </button>\n",
              "      \n",
              "  <style>\n",
              "    .colab-df-container {\n",
              "      display:flex;\n",
              "      flex-wrap:wrap;\n",
              "      gap: 12px;\n",
              "    }\n",
              "\n",
              "    .colab-df-convert {\n",
              "      background-color: #E8F0FE;\n",
              "      border: none;\n",
              "      border-radius: 50%;\n",
              "      cursor: pointer;\n",
              "      display: none;\n",
              "      fill: #1967D2;\n",
              "      height: 32px;\n",
              "      padding: 0 0 0 0;\n",
              "      width: 32px;\n",
              "    }\n",
              "\n",
              "    .colab-df-convert:hover {\n",
              "      background-color: #E2EBFA;\n",
              "      box-shadow: 0px 1px 2px rgba(60, 64, 67, 0.3), 0px 1px 3px 1px rgba(60, 64, 67, 0.15);\n",
              "      fill: #174EA6;\n",
              "    }\n",
              "\n",
              "    [theme=dark] .colab-df-convert {\n",
              "      background-color: #3B4455;\n",
              "      fill: #D2E3FC;\n",
              "    }\n",
              "\n",
              "    [theme=dark] .colab-df-convert:hover {\n",
              "      background-color: #434B5C;\n",
              "      box-shadow: 0px 1px 3px 1px rgba(0, 0, 0, 0.15);\n",
              "      filter: drop-shadow(0px 1px 2px rgba(0, 0, 0, 0.3));\n",
              "      fill: #FFFFFF;\n",
              "    }\n",
              "  </style>\n",
              "\n",
              "      <script>\n",
              "        const buttonEl =\n",
              "          document.querySelector('#df-4af0100d-5969-4ea1-8593-cfac67d514d7 button.colab-df-convert');\n",
              "        buttonEl.style.display =\n",
              "          google.colab.kernel.accessAllowed ? 'block' : 'none';\n",
              "\n",
              "        async function convertToInteractive(key) {\n",
              "          const element = document.querySelector('#df-4af0100d-5969-4ea1-8593-cfac67d514d7');\n",
              "          const dataTable =\n",
              "            await google.colab.kernel.invokeFunction('convertToInteractive',\n",
              "                                                     [key], {});\n",
              "          if (!dataTable) return;\n",
              "\n",
              "          const docLinkHtml = 'Like what you see? Visit the ' +\n",
              "            '<a target=\"_blank\" href=https://colab.research.google.com/notebooks/data_table.ipynb>data table notebook</a>'\n",
              "            + ' to learn more about interactive tables.';\n",
              "          element.innerHTML = '';\n",
              "          dataTable['output_type'] = 'display_data';\n",
              "          await google.colab.output.renderOutput(dataTable, element);\n",
              "          const docLink = document.createElement('div');\n",
              "          docLink.innerHTML = docLinkHtml;\n",
              "          element.appendChild(docLink);\n",
              "        }\n",
              "      </script>\n",
              "    </div>\n",
              "  </div>\n",
              "  "
            ]
          },
          "metadata": {},
          "execution_count": 72
        }
      ],
      "source": [
        "clients.head(15) # просмотр первых 15 строк таблицы"
      ]
    },
    {
      "cell_type": "markdown",
      "metadata": {
        "id": "SDMMqY60HSqn"
      },
      "source": [
        "Видим отрицательные значения в столбце `days_employed` и записи, которые выглядят аномально (340266 дней трудового стажа в строке с индексом 4) – вероятно, введены **ошибочные данные**. Также видим пример **пропущенных значений** в строке с индексом 12."
      ]
    },
    {
      "cell_type": "markdown",
      "metadata": {
        "id": "_WVZSkitHSqn"
      },
      "source": [
        "**Вывод**\n",
        "\n",
        "Мы получили и изучили файл с данными в формате csv. В каждой строке таблицы — информация о клиентах банка. Колонки имеют разные типы данных. \n",
        "\n",
        "<br>Согласно документации к данным:\n",
        "\n",
        "* `children` — количество детей в семье\n",
        "* `days_employed` — общий трудовой стаж в днях\n",
        "* `dob_years` — возраст клиента в годах\n",
        "* `education` — уровень образования клиента\n",
        "* `education_id` — идентификатор уровня образования\n",
        "* `family_status` — семейное положение\n",
        "* `family_status_id` — идентификатор семейного положения\n",
        "* `gender` — пол клиента\n",
        "* `income_type` — тип занятости\n",
        "* `debt` — имел ли задолженность по возврату кредитов\n",
        "* `total_income` — ежемесячный доход\n",
        "* `purpose` — цель получения кредита\n",
        "\n",
        "Стилистических ошибок в названиях столбцов нет. \n",
        "\n",
        "**Обнаруженные проблемы:**\n",
        "1. пропуски значений в столбце `days_employed`\n",
        "2. отрицательные значения в столбце `days_employed`\n",
        "3. ошибочные значения (выбросы) в столбце `days_employed`\n",
        "4. пропуски значений в столбце `total_income`\n",
        "5. некорректный тип данных в столбце `days_employed`\n",
        "6. дубликаты из-за различия в регистре в столбце `education`\n",
        "7. дубликаты из-за различных формулировок в столбце `purpose`\n",
        "\n",
        "Предварительно можно утверждать, что данных в таблице достаточно для получения ответов на вопросы клиента. \n",
        "Чтобы двигаться дальше, нужно устранить проблемы в данных."
      ]
    },
    {
      "cell_type": "markdown",
      "metadata": {
        "id": "llqlwHxmHSqo"
      },
      "source": [
        "## Шаг 2. Предобработка данных"
      ]
    },
    {
      "cell_type": "markdown",
      "metadata": {
        "id": "EhM1bTryHSqo"
      },
      "source": [
        "### Обработка пропусков"
      ]
    },
    {
      "cell_type": "markdown",
      "metadata": {
        "id": "3UKq4imOHSqo"
      },
      "source": [
        "Посчитаем количество пропущенных значений в таблице."
      ]
    },
    {
      "cell_type": "code",
      "execution_count": 73,
      "metadata": {
        "colab": {
          "base_uri": "https://localhost:8080/"
        },
        "id": "RI3UC1DOHSqo",
        "outputId": "c7f8415c-6afe-4c93-bc2d-ced41497894c"
      },
      "outputs": [
        {
          "output_type": "execute_result",
          "data": {
            "text/plain": [
              "children               0\n",
              "days_employed       2174\n",
              "dob_years              0\n",
              "education              0\n",
              "education_id           0\n",
              "family_status          0\n",
              "family_status_id       0\n",
              "gender                 0\n",
              "income_type            0\n",
              "debt                   0\n",
              "total_income        2174\n",
              "purpose                0\n",
              "dtype: int64"
            ]
          },
          "metadata": {},
          "execution_count": 73
        }
      ],
      "source": [
        "clients.isna().sum() # подсчет суммы пропущенных значений в столбцах"
      ]
    },
    {
      "cell_type": "markdown",
      "metadata": {
        "id": "ijmcCLiXHSqp"
      },
      "source": [
        "Мы обнаружили пропущенные значения в столбцах `days_employed` и `total_income`.\n",
        "\n",
        "Вероятно, отсутствие данных здесь **неслучайно** – некоторые клиенты могут не иметь официального трудового стажа и официального дохода или просто не желают заполнять эти поля, если они не обязательны."
      ]
    },
    {
      "cell_type": "markdown",
      "metadata": {
        "id": "90wVXk6UHSqp"
      },
      "source": [
        "<br>\n",
        "Для начала оценим, насколько удаление пропусков может повредить расчётам и, если доля велика, будем заполнять пропуски явными обозначениями. "
      ]
    },
    {
      "cell_type": "code",
      "execution_count": 74,
      "metadata": {
        "colab": {
          "base_uri": "https://localhost:8080/",
          "height": 35
        },
        "id": "7yp1pu6iHSqp",
        "outputId": "f2d2b27b-a0bb-4de9-b14b-ca6d76f72131"
      },
      "outputs": [
        {
          "output_type": "display_data",
          "data": {
            "text/plain": [
              "10.099883855981417"
            ]
          },
          "metadata": {}
        }
      ],
      "source": [
        "nan_percentage = 2174 / 21525 * 100 # расчет процента пропусков от всей базы \n",
        "display(nan_percentage)"
      ]
    },
    {
      "cell_type": "markdown",
      "metadata": {
        "id": "4hS2FSyPHSqp"
      },
      "source": [
        "Доля пропущенных значений – 10%, это довольно большой сегмент, поэтому мы не будем его удалять, а заполним рассчитанными данными."
      ]
    },
    {
      "cell_type": "markdown",
      "metadata": {
        "id": "k-ro73Z9HSqp"
      },
      "source": [
        "#### Обработка найденных проблем в столбце `days_employed`"
      ]
    },
    {
      "cell_type": "markdown",
      "metadata": {
        "id": "jZ2vH6q0HSqp"
      },
      "source": [
        "Начнем со столбца `days_employed` и решим сразу 3 найденные в нем проблемы: отрицательные значения, пропущенные значения и выбросы."
      ]
    },
    {
      "cell_type": "markdown",
      "metadata": {
        "id": "CDhFXIxjHSqq"
      },
      "source": [
        "\n",
        "1. Исправим проблему с отрицательными значениями, переведя их в абсолютные:"
      ]
    },
    {
      "cell_type": "code",
      "execution_count": 75,
      "metadata": {
        "id": "q5j0R-x3HSqq"
      },
      "outputs": [],
      "source": [
        "clients['days_employed'] = abs(clients['days_employed']) # перевод значений в абсолютные"
      ]
    },
    {
      "cell_type": "code",
      "execution_count": 76,
      "metadata": {
        "colab": {
          "base_uri": "https://localhost:8080/",
          "height": 206
        },
        "id": "AMwiVOVZHSqq",
        "outputId": "cef4ec56-0254-4f3a-b5b7-bd4a61702990"
      },
      "outputs": [
        {
          "output_type": "execute_result",
          "data": {
            "text/plain": [
              "   children  days_employed  dob_years education  education_id  \\\n",
              "0         1        8437.67         42    высшее             0   \n",
              "1         1        4024.80         36   среднее             1   \n",
              "2         0        5623.42         33   Среднее             1   \n",
              "3         3        4124.75         32   среднее             1   \n",
              "4         0      340266.07         53   среднее             1   \n",
              "\n",
              "      family_status  family_status_id gender income_type  debt  total_income  \\\n",
              "0   женат / замужем                 0      F   сотрудник     0     253875.64   \n",
              "1   женат / замужем                 0      F   сотрудник     0     112080.01   \n",
              "2   женат / замужем                 0      M   сотрудник     0     145885.95   \n",
              "3   женат / замужем                 0      M   сотрудник     0     267628.55   \n",
              "4  гражданский брак                 1      F   пенсионер     0     158616.08   \n",
              "\n",
              "                      purpose  \n",
              "0               покупка жилья  \n",
              "1     приобретение автомобиля  \n",
              "2               покупка жилья  \n",
              "3  дополнительное образование  \n",
              "4             сыграть свадьбу  "
            ],
            "text/html": [
              "\n",
              "  <div id=\"df-12bb4691-4c84-40b1-9f1c-6c7291a19bf3\">\n",
              "    <div class=\"colab-df-container\">\n",
              "      <div>\n",
              "<style scoped>\n",
              "    .dataframe tbody tr th:only-of-type {\n",
              "        vertical-align: middle;\n",
              "    }\n",
              "\n",
              "    .dataframe tbody tr th {\n",
              "        vertical-align: top;\n",
              "    }\n",
              "\n",
              "    .dataframe thead th {\n",
              "        text-align: right;\n",
              "    }\n",
              "</style>\n",
              "<table border=\"1\" class=\"dataframe\">\n",
              "  <thead>\n",
              "    <tr style=\"text-align: right;\">\n",
              "      <th></th>\n",
              "      <th>children</th>\n",
              "      <th>days_employed</th>\n",
              "      <th>dob_years</th>\n",
              "      <th>education</th>\n",
              "      <th>education_id</th>\n",
              "      <th>family_status</th>\n",
              "      <th>family_status_id</th>\n",
              "      <th>gender</th>\n",
              "      <th>income_type</th>\n",
              "      <th>debt</th>\n",
              "      <th>total_income</th>\n",
              "      <th>purpose</th>\n",
              "    </tr>\n",
              "  </thead>\n",
              "  <tbody>\n",
              "    <tr>\n",
              "      <th>0</th>\n",
              "      <td>1</td>\n",
              "      <td>8437.67</td>\n",
              "      <td>42</td>\n",
              "      <td>высшее</td>\n",
              "      <td>0</td>\n",
              "      <td>женат / замужем</td>\n",
              "      <td>0</td>\n",
              "      <td>F</td>\n",
              "      <td>сотрудник</td>\n",
              "      <td>0</td>\n",
              "      <td>253875.64</td>\n",
              "      <td>покупка жилья</td>\n",
              "    </tr>\n",
              "    <tr>\n",
              "      <th>1</th>\n",
              "      <td>1</td>\n",
              "      <td>4024.80</td>\n",
              "      <td>36</td>\n",
              "      <td>среднее</td>\n",
              "      <td>1</td>\n",
              "      <td>женат / замужем</td>\n",
              "      <td>0</td>\n",
              "      <td>F</td>\n",
              "      <td>сотрудник</td>\n",
              "      <td>0</td>\n",
              "      <td>112080.01</td>\n",
              "      <td>приобретение автомобиля</td>\n",
              "    </tr>\n",
              "    <tr>\n",
              "      <th>2</th>\n",
              "      <td>0</td>\n",
              "      <td>5623.42</td>\n",
              "      <td>33</td>\n",
              "      <td>Среднее</td>\n",
              "      <td>1</td>\n",
              "      <td>женат / замужем</td>\n",
              "      <td>0</td>\n",
              "      <td>M</td>\n",
              "      <td>сотрудник</td>\n",
              "      <td>0</td>\n",
              "      <td>145885.95</td>\n",
              "      <td>покупка жилья</td>\n",
              "    </tr>\n",
              "    <tr>\n",
              "      <th>3</th>\n",
              "      <td>3</td>\n",
              "      <td>4124.75</td>\n",
              "      <td>32</td>\n",
              "      <td>среднее</td>\n",
              "      <td>1</td>\n",
              "      <td>женат / замужем</td>\n",
              "      <td>0</td>\n",
              "      <td>M</td>\n",
              "      <td>сотрудник</td>\n",
              "      <td>0</td>\n",
              "      <td>267628.55</td>\n",
              "      <td>дополнительное образование</td>\n",
              "    </tr>\n",
              "    <tr>\n",
              "      <th>4</th>\n",
              "      <td>0</td>\n",
              "      <td>340266.07</td>\n",
              "      <td>53</td>\n",
              "      <td>среднее</td>\n",
              "      <td>1</td>\n",
              "      <td>гражданский брак</td>\n",
              "      <td>1</td>\n",
              "      <td>F</td>\n",
              "      <td>пенсионер</td>\n",
              "      <td>0</td>\n",
              "      <td>158616.08</td>\n",
              "      <td>сыграть свадьбу</td>\n",
              "    </tr>\n",
              "  </tbody>\n",
              "</table>\n",
              "</div>\n",
              "      <button class=\"colab-df-convert\" onclick=\"convertToInteractive('df-12bb4691-4c84-40b1-9f1c-6c7291a19bf3')\"\n",
              "              title=\"Convert this dataframe to an interactive table.\"\n",
              "              style=\"display:none;\">\n",
              "        \n",
              "  <svg xmlns=\"http://www.w3.org/2000/svg\" height=\"24px\"viewBox=\"0 0 24 24\"\n",
              "       width=\"24px\">\n",
              "    <path d=\"M0 0h24v24H0V0z\" fill=\"none\"/>\n",
              "    <path d=\"M18.56 5.44l.94 2.06.94-2.06 2.06-.94-2.06-.94-.94-2.06-.94 2.06-2.06.94zm-11 1L8.5 8.5l.94-2.06 2.06-.94-2.06-.94L8.5 2.5l-.94 2.06-2.06.94zm10 10l.94 2.06.94-2.06 2.06-.94-2.06-.94-.94-2.06-.94 2.06-2.06.94z\"/><path d=\"M17.41 7.96l-1.37-1.37c-.4-.4-.92-.59-1.43-.59-.52 0-1.04.2-1.43.59L10.3 9.45l-7.72 7.72c-.78.78-.78 2.05 0 2.83L4 21.41c.39.39.9.59 1.41.59.51 0 1.02-.2 1.41-.59l7.78-7.78 2.81-2.81c.8-.78.8-2.07 0-2.86zM5.41 20L4 18.59l7.72-7.72 1.47 1.35L5.41 20z\"/>\n",
              "  </svg>\n",
              "      </button>\n",
              "      \n",
              "  <style>\n",
              "    .colab-df-container {\n",
              "      display:flex;\n",
              "      flex-wrap:wrap;\n",
              "      gap: 12px;\n",
              "    }\n",
              "\n",
              "    .colab-df-convert {\n",
              "      background-color: #E8F0FE;\n",
              "      border: none;\n",
              "      border-radius: 50%;\n",
              "      cursor: pointer;\n",
              "      display: none;\n",
              "      fill: #1967D2;\n",
              "      height: 32px;\n",
              "      padding: 0 0 0 0;\n",
              "      width: 32px;\n",
              "    }\n",
              "\n",
              "    .colab-df-convert:hover {\n",
              "      background-color: #E2EBFA;\n",
              "      box-shadow: 0px 1px 2px rgba(60, 64, 67, 0.3), 0px 1px 3px 1px rgba(60, 64, 67, 0.15);\n",
              "      fill: #174EA6;\n",
              "    }\n",
              "\n",
              "    [theme=dark] .colab-df-convert {\n",
              "      background-color: #3B4455;\n",
              "      fill: #D2E3FC;\n",
              "    }\n",
              "\n",
              "    [theme=dark] .colab-df-convert:hover {\n",
              "      background-color: #434B5C;\n",
              "      box-shadow: 0px 1px 3px 1px rgba(0, 0, 0, 0.15);\n",
              "      filter: drop-shadow(0px 1px 2px rgba(0, 0, 0, 0.3));\n",
              "      fill: #FFFFFF;\n",
              "    }\n",
              "  </style>\n",
              "\n",
              "      <script>\n",
              "        const buttonEl =\n",
              "          document.querySelector('#df-12bb4691-4c84-40b1-9f1c-6c7291a19bf3 button.colab-df-convert');\n",
              "        buttonEl.style.display =\n",
              "          google.colab.kernel.accessAllowed ? 'block' : 'none';\n",
              "\n",
              "        async function convertToInteractive(key) {\n",
              "          const element = document.querySelector('#df-12bb4691-4c84-40b1-9f1c-6c7291a19bf3');\n",
              "          const dataTable =\n",
              "            await google.colab.kernel.invokeFunction('convertToInteractive',\n",
              "                                                     [key], {});\n",
              "          if (!dataTable) return;\n",
              "\n",
              "          const docLinkHtml = 'Like what you see? Visit the ' +\n",
              "            '<a target=\"_blank\" href=https://colab.research.google.com/notebooks/data_table.ipynb>data table notebook</a>'\n",
              "            + ' to learn more about interactive tables.';\n",
              "          element.innerHTML = '';\n",
              "          dataTable['output_type'] = 'display_data';\n",
              "          await google.colab.output.renderOutput(dataTable, element);\n",
              "          const docLink = document.createElement('div');\n",
              "          docLink.innerHTML = docLinkHtml;\n",
              "          element.appendChild(docLink);\n",
              "        }\n",
              "      </script>\n",
              "    </div>\n",
              "  </div>\n",
              "  "
            ]
          },
          "metadata": {},
          "execution_count": 76
        }
      ],
      "source": [
        "clients.head() # проверка, значения в `days_employed` стали положительными"
      ]
    },
    {
      "cell_type": "markdown",
      "metadata": {
        "id": "eVju_o3qHSqq"
      },
      "source": [
        "<div class=\"alert alert-info\">\n",
        "<b>Комментарий:</b>\n",
        "<br>Далее буду реже приводить промежуточные этапы-проверки успешности замены данных или этапы расчетов с выводом медианных значений, чтобы не захламлять проект. Для промежуточных проверок на разных этапах использовались .head, .loc и display().\n",
        "</div>"
      ]
    },
    {
      "cell_type": "markdown",
      "metadata": {
        "id": "FMGnt8jKHSqq"
      },
      "source": [
        "2. Посчитаем количество артефактов (выбросов) в этом столбце. \n",
        "\n",
        "Преположим, что максимальное значение трудового стажа может быть 65 лет или около 24000 дней."
      ]
    },
    {
      "cell_type": "code",
      "execution_count": 77,
      "metadata": {
        "colab": {
          "base_uri": "https://localhost:8080/"
        },
        "id": "pZT9KQEZHSqq",
        "outputId": "dfb40963-6ef2-4dff-c005-7ca0f5bd0776"
      },
      "outputs": [
        {
          "output_type": "execute_result",
          "data": {
            "text/plain": [
              "3445"
            ]
          },
          "metadata": {},
          "execution_count": 77
        }
      ],
      "source": [
        "clients[clients['days_employed'] > 24000]['days_employed'].count() # подсчет количества выбросов"
      ]
    },
    {
      "cell_type": "markdown",
      "metadata": {
        "id": "CBK5Fo8UHSqr"
      },
      "source": [
        "\n",
        "Заполним выбросы приближенными к реальным значениями, предположив, что имел место быть **ошибочный ввод трудового стажа в часах вместо дней**. Разделим значения в часах на 24, чтобы получить значения в днях:"
      ]
    },
    {
      "cell_type": "code",
      "execution_count": 78,
      "metadata": {
        "id": "lzNDnXnEHSqr"
      },
      "outputs": [],
      "source": [
        "for row in clients['days_employed']:\n",
        "        if row > 24000:\n",
        "            clients['days_employed'] = clients['days_employed'].replace(row, row / 24)\n",
        "        \n",
        "# заполнение выбросов в столбце days_employed методом replace"
      ]
    },
    {
      "cell_type": "markdown",
      "metadata": {
        "id": "HqZVGQAlHSqr"
      },
      "source": [
        "3. Заполним пропущенные значения в столбце `days_employed` медианой по `dob_years`.\n",
        "\n",
        "Предположим, что количество дней трудового стажа больше всего коррелирует с возрастом клиента, поэтому средний показатель будем высчитывать исходя из этой гипотезы."
      ]
    },
    {
      "cell_type": "code",
      "execution_count": 79,
      "metadata": {
        "id": "1-Qn2KC4HSqr"
      },
      "outputs": [],
      "source": [
        "for year in clients['dob_years'].unique():\n",
        "    median = clients.loc[clients['dob_years']==year, 'days_employed'].median()\n",
        "    clients.loc[(clients['days_employed'].isna()) & (clients['dob_years']==year), 'days_employed'] = median\n",
        "    \n",
        "# заполнение пропусков в столбце days_employed медианным значением dob_years с помощью loc"
      ]
    },
    {
      "cell_type": "markdown",
      "metadata": {
        "id": "STBKsa59HSqr"
      },
      "source": [
        "#### Обработка найденных проблем в столбце `total_income`"
      ]
    },
    {
      "cell_type": "markdown",
      "metadata": {
        "id": "drCk53FUHSqr"
      },
      "source": [
        "Заполним пропуски в столбце `total_income` медианными значениями по `income_type`.\n",
        "\n",
        "Предположим, что месячный доход больше всего коррелирует с типом занятости, поэтому средний показатель будет высчитывать исходя из этой гипотезы."
      ]
    },
    {
      "cell_type": "code",
      "execution_count": 80,
      "metadata": {
        "id": "j9DCJmWcHSqs"
      },
      "outputs": [],
      "source": [
        "for value in clients['income_type'].unique(): \n",
        "    median = clients.loc[clients['income_type']==value, 'total_income'].median()\n",
        "    clients.loc[(clients['total_income'].isna()) & (clients['income_type']==value), 'total_income'] = median\n",
        "    \n",
        "# заполнение пропусков в столбце total_income медианным значением группы по income_type с помощью loc"
      ]
    },
    {
      "cell_type": "markdown",
      "metadata": {
        "id": "puVz3rMWHSqs"
      },
      "source": [
        "<div class=\"alert alert-block alert-success\">\n",
        "<b>Комментарий:</b> В будущем такой препроцессинг можно свести к одной строчке кода:\n",
        "<code>clients['total_income'].fillna(clients.groupby('income_type')['total_income'].transform('median'))</code>\n",
        "</div>"
      ]
    },
    {
      "cell_type": "code",
      "execution_count": 81,
      "metadata": {
        "colab": {
          "base_uri": "https://localhost:8080/"
        },
        "id": "pVDG1GI3HSqs",
        "outputId": "cc515f9c-fdee-44aa-d8d7-a1bce14f57f3"
      },
      "outputs": [
        {
          "output_type": "execute_result",
          "data": {
            "text/plain": [
              "children            0\n",
              "days_employed       0\n",
              "dob_years           0\n",
              "education           0\n",
              "education_id        0\n",
              "family_status       0\n",
              "family_status_id    0\n",
              "gender              0\n",
              "income_type         0\n",
              "debt                0\n",
              "total_income        0\n",
              "purpose             0\n",
              "dtype: int64"
            ]
          },
          "metadata": {},
          "execution_count": 81
        }
      ],
      "source": [
        "clients.isna().sum() # проверка пропусков, должны быть нули"
      ]
    },
    {
      "cell_type": "code",
      "execution_count": 82,
      "metadata": {
        "colab": {
          "base_uri": "https://localhost:8080/"
        },
        "id": "hlBvAJpsHSqs",
        "outputId": "88ae9bbf-da20-40b2-d0fa-1520f53e9b4f"
      },
      "outputs": [
        {
          "output_type": "execute_result",
          "data": {
            "text/plain": [
              "children                           0\n",
              "days_employed               14902.85\n",
              "dob_years                         65\n",
              "education                    среднее\n",
              "education_id                       1\n",
              "family_status       гражданский брак\n",
              "family_status_id                   1\n",
              "gender                             M\n",
              "income_type                пенсионер\n",
              "debt                               0\n",
              "total_income               118514.49\n",
              "purpose              сыграть свадьбу\n",
              "Name: 12, dtype: object"
            ]
          },
          "metadata": {},
          "execution_count": 82
        }
      ],
      "source": [
        "clients.loc[12] # проверка, что в строке с индексом 12 пропуски поменялись на медианы"
      ]
    },
    {
      "cell_type": "markdown",
      "metadata": {
        "id": "ROOaskxMHSqs"
      },
      "source": [
        "**Вывод**\n",
        "\n",
        "Мы проверили, повлияет ли удаление пропущенных данных на расчет и приняли решение, что удалять эти строки не стоит. \n",
        "\n",
        "Заменили пропущенные значения на медианные, исходя из предположений корреляции одних данных с другими. Поменяли неверный формат у выбросов и сохранили остальные данные. \n",
        "\n",
        "Теперь заполнены все ячейки, но столбец `days_employed` имеет вещественный формат (числа с запятой), хотя дни изменяются целыми числами. Вероятнее всего, это ошибка типа данных. Продолжим предобработку и исправим этот недостаток для улучшения внешнего вида таблицы."
      ]
    },
    {
      "cell_type": "markdown",
      "metadata": {
        "id": "1CdO2LnnHSqt"
      },
      "source": [
        "### Замена типа данных"
      ]
    },
    {
      "cell_type": "markdown",
      "metadata": {
        "id": "czH0ooBgHSqt"
      },
      "source": [
        "У столбца `days_employed` вещественный тип данных, хотя для записи общего трудового стажа в днях очевидно нужен целочисленный – дни не измеряются дробными числами. В столбце с доходами `total_income` тоже удобнее будет использовать целые числа, поэтому можно сменить тип, округлив до рубля."
      ]
    },
    {
      "cell_type": "markdown",
      "metadata": {
        "id": "AuJVZmfVHSqt"
      },
      "source": [
        "Сменим тип данных в обоих столбцах простым встроенным методом `astype`:"
      ]
    },
    {
      "cell_type": "code",
      "execution_count": 83,
      "metadata": {
        "id": "wPz62CdDHSqt"
      },
      "outputs": [],
      "source": [
        "try:\n",
        "    clients['days_employed'] = clients['days_employed'].astype('int')\n",
        "except:\n",
        "    print('при смене типа данных в days_employed произошла ошибка')\n",
        "\n",
        "try: \n",
        "    clients['total_income'] = clients['total_income'].astype('int')\n",
        "except:\n",
        "    print('при смене типа данных в total_income произошла ошибка')\n",
        "\n",
        "\n",
        "# замена типа данных и приведение значений к абсолютным с проверкой try-except"
      ]
    },
    {
      "cell_type": "code",
      "execution_count": 84,
      "metadata": {
        "colab": {
          "base_uri": "https://localhost:8080/"
        },
        "id": "b-71ML5iHSqt",
        "outputId": "72e404ff-ef6c-4c5c-932a-3b77cc3d505c"
      },
      "outputs": [
        {
          "output_type": "execute_result",
          "data": {
            "text/plain": [
              "children             int64\n",
              "days_employed        int64\n",
              "dob_years            int64\n",
              "education           object\n",
              "education_id         int64\n",
              "family_status       object\n",
              "family_status_id     int64\n",
              "gender              object\n",
              "income_type         object\n",
              "debt                 int64\n",
              "total_income         int64\n",
              "purpose             object\n",
              "dtype: object"
            ]
          },
          "metadata": {},
          "execution_count": 84
        }
      ],
      "source": [
        "clients.dtypes # проверка смены типа данных"
      ]
    },
    {
      "cell_type": "markdown",
      "metadata": {
        "id": "EPKBYjIaHSqu"
      },
      "source": [
        "**Вывод**\n",
        "\n",
        "Мы улучшили человекочитабельность и внешний вид таблицы, поменяв тип данных с вещественного на целочисленный методом astype. \n",
        "\n",
        "При этом мы использовали конструкцию try - except, чтобы предотвратить пропажу расчётов для правильных строк, если бы случилась ошибка во время исполнения кода."
      ]
    },
    {
      "cell_type": "markdown",
      "metadata": {
        "id": "8AOLecwrHSqu"
      },
      "source": [
        "### Обработка дубликатов"
      ]
    },
    {
      "cell_type": "markdown",
      "metadata": {
        "id": "hst07z20HSqu"
      },
      "source": [
        "#### Сначала посчитаем и удалим **явные дубликаты** в таблице."
      ]
    },
    {
      "cell_type": "code",
      "execution_count": 85,
      "metadata": {
        "colab": {
          "base_uri": "https://localhost:8080/"
        },
        "id": "8fUaCGAAHSqu",
        "outputId": "ead522c9-4c4e-4918-c0c6-2230933af2c8"
      },
      "outputs": [
        {
          "output_type": "execute_result",
          "data": {
            "text/plain": [
              "54"
            ]
          },
          "metadata": {},
          "execution_count": 85
        }
      ],
      "source": [
        "clients.duplicated().sum() # подсчет явных дубликатов"
      ]
    },
    {
      "cell_type": "markdown",
      "metadata": {
        "id": "SJBL-RmKHSqu"
      },
      "source": [
        "Явные дубликаты означают полное совпадение строк. Вероятно, это повторные заявки на кредит, которые попали в систему по ошибке. \n",
        "\n",
        "Их можно просто удалить:"
      ]
    },
    {
      "cell_type": "code",
      "execution_count": 86,
      "metadata": {
        "id": "pO9t9fH8HSqu"
      },
      "outputs": [],
      "source": [
        "clients = clients.drop_duplicates().reset_index(drop=True) \n",
        "# удаление явных дубликатов со сбросом старых индексов и формированием новых, перезапись таблицы"
      ]
    },
    {
      "cell_type": "markdown",
      "metadata": {
        "id": "7AdDTCjIHSqv"
      },
      "source": [
        "#### Теперь посчитаем и удалим **неявные дубликаты** в столбце `education`."
      ]
    },
    {
      "cell_type": "code",
      "execution_count": 87,
      "metadata": {
        "colab": {
          "base_uri": "https://localhost:8080/"
        },
        "id": "5mgR7a_1HSqv",
        "outputId": "9c251964-7a04-44a4-8896-5d8b70fe789e"
      },
      "outputs": [
        {
          "output_type": "execute_result",
          "data": {
            "text/plain": [
              "array(['ВЫСШЕЕ', 'Высшее', 'НАЧАЛЬНОЕ', 'НЕОКОНЧЕННОЕ ВЫСШЕЕ',\n",
              "       'Начальное', 'Неоконченное высшее', 'СРЕДНЕЕ', 'Среднее',\n",
              "       'УЧЕНАЯ СТЕПЕНЬ', 'Ученая степень', 'высшее', 'начальное',\n",
              "       'неоконченное высшее', 'среднее', 'ученая степень'], dtype=object)"
            ]
          },
          "metadata": {},
          "execution_count": 87
        }
      ],
      "source": [
        "clients['education'].sort_values().unique() # просмотр уникальных значений в столбце education"
      ]
    },
    {
      "cell_type": "markdown",
      "metadata": {
        "id": "b80oat0LHSqv"
      },
      "source": [
        "Записи одинаковые по значению, но написаны в разном регистре – приведем их к одному регистру, перезапишем данные и сравним внешний вид:"
      ]
    },
    {
      "cell_type": "code",
      "execution_count": 88,
      "metadata": {
        "id": "92e6vQaSHSqv"
      },
      "outputs": [],
      "source": [
        "clients['education'] = clients['education'].str.lower()  # приведение строк к нижнему регистру встроенным методом"
      ]
    },
    {
      "cell_type": "code",
      "execution_count": 89,
      "metadata": {
        "colab": {
          "base_uri": "https://localhost:8080/"
        },
        "id": "0uRi0NR8HSqv",
        "outputId": "e3341ffd-f62e-4900-b1f9-a895f66bcc91"
      },
      "outputs": [
        {
          "output_type": "execute_result",
          "data": {
            "text/plain": [
              "array(['высшее', 'начальное', 'неоконченное высшее', 'среднее',\n",
              "       'ученая степень'], dtype=object)"
            ]
          },
          "metadata": {},
          "execution_count": 89
        }
      ],
      "source": [
        "clients['education'].sort_values().unique() # просмотр уникальных значений в столбце education после обработки"
      ]
    },
    {
      "cell_type": "markdown",
      "metadata": {
        "id": "pXrZaQcJHSqw"
      },
      "source": [
        "После очистки значений от неявных дубликатов могли появится новые явные дубликаты. \n",
        "\n",
        "Еще раз запустим удаление явных дубликатов со сбросом индексов таблицы и выведем результат:"
      ]
    },
    {
      "cell_type": "code",
      "execution_count": 90,
      "metadata": {
        "colab": {
          "base_uri": "https://localhost:8080/"
        },
        "id": "kFu-UBo4HSqw",
        "outputId": "9a906b0a-9e79-46df-c2fc-a0d018fbb14f"
      },
      "outputs": [
        {
          "output_type": "stream",
          "name": "stdout",
          "text": [
            "<class 'pandas.core.frame.DataFrame'>\n",
            "RangeIndex: 21454 entries, 0 to 21453\n",
            "Data columns (total 12 columns):\n",
            " #   Column            Non-Null Count  Dtype \n",
            "---  ------            --------------  ----- \n",
            " 0   children          21454 non-null  int64 \n",
            " 1   days_employed     21454 non-null  int64 \n",
            " 2   dob_years         21454 non-null  int64 \n",
            " 3   education         21454 non-null  object\n",
            " 4   education_id      21454 non-null  int64 \n",
            " 5   family_status     21454 non-null  object\n",
            " 6   family_status_id  21454 non-null  int64 \n",
            " 7   gender            21454 non-null  object\n",
            " 8   income_type       21454 non-null  object\n",
            " 9   debt              21454 non-null  int64 \n",
            " 10  total_income      21454 non-null  int64 \n",
            " 11  purpose           21454 non-null  object\n",
            "dtypes: int64(7), object(5)\n",
            "memory usage: 2.0+ MB\n"
          ]
        }
      ],
      "source": [
        "clients = clients.drop_duplicates().reset_index(drop=True) \n",
        "clients.info()"
      ]
    },
    {
      "cell_type": "markdown",
      "metadata": {
        "id": "ZAp7ABRYHSqw"
      },
      "source": [
        "**Вывод**\n",
        "\n",
        "Мы почистили таблицу от явных дубликатов. После удаления от 21525 записей осталось 21454. Исследование станет более точным.\n",
        "\n",
        "Из-за разного написания одинаковых терминов в столбце с уровнем образования, количество значений в нем дублировалось неявно (компьютер не мог распознать их как однозначные, тогда как человек может). Мы избавились от неявных дублей в названиях и улучшили читаемость таблицы – как для компьютера, так и для человека."
      ]
    },
    {
      "cell_type": "markdown",
      "metadata": {
        "id": "onc993AqHSqw"
      },
      "source": [
        "### Лемматизация"
      ]
    },
    {
      "cell_type": "markdown",
      "metadata": {
        "id": "mc9Cdeq-HSqw"
      },
      "source": [
        "Посмотрим на значения в столбце `purpose`. В нем текстовый тип данных, что значит большую вероятность наличия ошибок, опечаток или неявных дублей."
      ]
    },
    {
      "cell_type": "code",
      "execution_count": 91,
      "metadata": {
        "colab": {
          "base_uri": "https://localhost:8080/"
        },
        "id": "RuuZtt9cHSqx",
        "outputId": "7bf469e7-4cf0-4c48-944e-a79fdceb293b"
      },
      "outputs": [
        {
          "output_type": "execute_result",
          "data": {
            "text/plain": [
              "свадьба                                   791\n",
              "на проведение свадьбы                     768\n",
              "сыграть свадьбу                           765\n",
              "операции с недвижимостью                  675\n",
              "покупка коммерческой недвижимости         661\n",
              "операции с жильем                         652\n",
              "покупка жилья для сдачи                   651\n",
              "операции с коммерческой недвижимостью     650\n",
              "покупка жилья                             646\n",
              "жилье                                     646\n",
              "покупка жилья для семьи                   638\n",
              "строительство собственной недвижимости    635\n",
              "недвижимость                              633\n",
              "операции со своей недвижимостью           627\n",
              "строительство жилой недвижимости          624\n",
              "покупка недвижимости                      621\n",
              "покупка своего жилья                      620\n",
              "строительство недвижимости                619\n",
              "ремонт жилью                              607\n",
              "покупка жилой недвижимости                606\n",
              "на покупку своего автомобиля              505\n",
              "заняться высшим образованием              496\n",
              "автомобиль                                494\n",
              "сделка с подержанным автомобилем          486\n",
              "свой автомобиль                           478\n",
              "на покупку подержанного автомобиля        478\n",
              "автомобили                                478\n",
              "на покупку автомобиля                     471\n",
              "приобретение автомобиля                   461\n",
              "дополнительное образование                460\n",
              "сделка с автомобилем                      455\n",
              "высшее образование                        452\n",
              "образование                               447\n",
              "получение дополнительного образования     446\n",
              "получение образования                     442\n",
              "профильное образование                    436\n",
              "получение высшего образования             426\n",
              "заняться образованием                     408\n",
              "Name: purpose, dtype: int64"
            ]
          },
          "metadata": {},
          "execution_count": 91
        }
      ],
      "source": [
        "clients['purpose'].value_counts() # просмотр уникальных значений в столбце purpose с сортировкой по частоте"
      ]
    },
    {
      "cell_type": "markdown",
      "metadata": {
        "id": "a4mOBbD4HSqx"
      },
      "source": [
        "Обнаружены одинаковые по смыслу значения в разном написании. Снова **неявные дубли**, но уже с более сложной проблемой – не просто разница в регистре, а различные формулировки с однокоренными словами."
      ]
    },
    {
      "cell_type": "markdown",
      "metadata": {
        "id": "CQGatQJZHSqx"
      },
      "source": [
        "<br>Чтобы опознать разные формы слов, воспользуемся библиотекой `pymystem3` для лемматизации – приведения слов к их словарной форме."
      ]
    },
    {
      "cell_type": "markdown",
      "metadata": {
        "id": "z78TqFKQHSqx"
      },
      "source": [
        "Создадим список для работы из всех значений столбца `purpose`."
      ]
    },
    {
      "cell_type": "code",
      "execution_count": 92,
      "metadata": {
        "colab": {
          "base_uri": "https://localhost:8080/"
        },
        "id": "4WdGKPNdHSqy",
        "outputId": "f7eb0dd4-86fa-4d5c-8ffe-c69325a6b8a2"
      },
      "outputs": [
        {
          "output_type": "stream",
          "name": "stdout",
          "text": [
            "['покупка жилья', 'приобретение автомобиля', 'дополнительное образование', 'сыграть свадьбу', 'операции с жильем', 'образование', 'на проведение свадьбы', 'покупка жилья для семьи', 'покупка недвижимости', 'покупка коммерческой недвижимости', 'покупка жилой недвижимости', 'строительство собственной недвижимости', 'недвижимость', 'строительство недвижимости', 'на покупку подержанного автомобиля', 'на покупку своего автомобиля', 'операции с коммерческой недвижимостью', 'строительство жилой недвижимости', 'жилье', 'операции со своей недвижимостью', 'автомобили', 'заняться образованием', 'сделка с подержанным автомобилем', 'получение образования', 'автомобиль', 'свадьба', 'получение дополнительного образования', 'покупка своего жилья', 'операции с недвижимостью', 'получение высшего образования', 'свой автомобиль', 'сделка с автомобилем', 'профильное образование', 'высшее образование', 'покупка жилья для сдачи', 'на покупку автомобиля', 'ремонт жилью', 'заняться высшим образованием']\n"
          ]
        }
      ],
      "source": [
        "purposes = [] # создание списка из всех уникальных значений в столбце purpose\n",
        "for row in clients['purpose']:\n",
        "    if row not in purposes:\n",
        "        purposes.append(row)\n",
        "\n",
        "print(purposes)"
      ]
    },
    {
      "cell_type": "code",
      "execution_count": 93,
      "metadata": {
        "id": "377OmK7mHSqy",
        "colab": {
          "base_uri": "https://localhost:8080/"
        },
        "outputId": "b9b09098-a504-4ce1-c256-223cb198b05e"
      },
      "outputs": [
        {
          "output_type": "stream",
          "name": "stdout",
          "text": [
            "['покупка', ' ', 'жилье', ' ', 'приобретение', ' ', 'автомобиль', ' ', 'дополнительный', ' ', 'образование', ' ', 'сыграть', ' ', 'свадьба', ' ', 'операция', ' ', 'с', ' ', 'жилье', ' ', 'образование', ' ', 'на', ' ', 'проведение', ' ', 'свадьба', ' ', 'покупка', ' ', 'жилье', ' ', 'для', ' ', 'семья', ' ', 'покупка', ' ', 'недвижимость', ' ', 'покупка', ' ', 'коммерческий', ' ', 'недвижимость', ' ', 'покупка', ' ', 'жилой', ' ', 'недвижимость', ' ', 'строительство', ' ', 'собственный', ' ', 'недвижимость', ' ', 'недвижимость', ' ', 'строительство', ' ', 'недвижимость', ' ', 'на', ' ', 'покупка', ' ', 'подержать', ' ', 'автомобиль', ' ', 'на', ' ', 'покупка', ' ', 'свой', ' ', 'автомобиль', ' ', 'операция', ' ', 'с', ' ', 'коммерческий', ' ', 'недвижимость', ' ', 'строительство', ' ', 'жилой', ' ', 'недвижимость', ' ', 'жилье', ' ', 'операция', ' ', 'со', ' ', 'свой', ' ', 'недвижимость', ' ', 'автомобиль', ' ', 'заниматься', ' ', 'образование', ' ', 'сделка', ' ', 'с', ' ', 'подержать', ' ', 'автомобиль', ' ', 'получение', ' ', 'образование', ' ', 'автомобиль', ' ', 'свадьба', ' ', 'получение', ' ', 'дополнительный', ' ', 'образование', ' ', 'покупка', ' ', 'свой', ' ', 'жилье', ' ', 'операция', ' ', 'с', ' ', 'недвижимость', ' ', 'получение', ' ', 'высокий', ' ', 'образование', ' ', 'свой', ' ', 'автомобиль', ' ', 'сделка', ' ', 'с', ' ', 'автомобиль', ' ', 'профильный', ' ', 'образование', ' ', 'высокий', ' ', 'образование', ' ', 'покупка', ' ', 'жилье', ' ', 'для', ' ', 'сдача', ' ', 'на', ' ', 'покупка', ' ', 'автомобиль', ' ', 'ремонт', ' ', 'жилье', ' ', 'заниматься', ' ', 'высокий', ' ', 'образование', '\\n']\n"
          ]
        }
      ],
      "source": [
        "lemmas = m.lemmatize(' '.join(purposes)) # поиск лемм в списке, сконвертированном в строку\n",
        "print(lemmas)"
      ]
    },
    {
      "cell_type": "markdown",
      "metadata": {
        "id": "eamFQNPDHSqy"
      },
      "source": [
        "<br>Посчитаем количество упоминаний уникальных лемм в тексте."
      ]
    },
    {
      "cell_type": "code",
      "execution_count": 94,
      "metadata": {
        "id": "kiJZVk8kHSqy",
        "colab": {
          "base_uri": "https://localhost:8080/"
        },
        "outputId": "af0c18f0-f992-4488-c164-c11bf6275b60"
      },
      "outputs": [
        {
          "output_type": "stream",
          "name": "stdout",
          "text": [
            "Counter({' ': 96, 'покупка': 10, 'недвижимость': 10, 'автомобиль': 9, 'образование': 9, 'жилье': 7, 'с': 5, 'операция': 4, 'на': 4, 'свой': 4, 'свадьба': 3, 'строительство': 3, 'получение': 3, 'высокий': 3, 'дополнительный': 2, 'для': 2, 'коммерческий': 2, 'жилой': 2, 'подержать': 2, 'заниматься': 2, 'сделка': 2, 'приобретение': 1, 'сыграть': 1, 'проведение': 1, 'семья': 1, 'собственный': 1, 'со': 1, 'профильный': 1, 'сдача': 1, 'ремонт': 1, '\\n': 1})\n"
          ]
        }
      ],
      "source": [
        "from collections import Counter # подключение контейнера Counter из модуля collections\n",
        "print(Counter(lemmas)) # подсчёт числа лемм в тексте"
      ]
    },
    {
      "cell_type": "markdown",
      "metadata": {
        "id": "lR-Yi9DHHSqy"
      },
      "source": [
        "Разделим полученные леммы на категории, обобщив схожие понятия целей кредитования.\n",
        "Глаголы и прилагательные здесь не значимы, оставляем только конечные цели.\n",
        "\n",
        "<br>Получилось **5 категорий**:\n",
        "\n",
        "1. жилая недвижимость\n",
        "2. коммерческая недвижимость\n",
        "3. автомобиль\n",
        "4. образование\n",
        "5. свадьба\n"
      ]
    },
    {
      "cell_type": "markdown",
      "metadata": {
        "id": "Yl9piXmeHSqy"
      },
      "source": [
        "Теперь нужно присвоить эти категории записям с разными формулировками.\n",
        "\n",
        "Создадим функцию для поиска частей слов:"
      ]
    },
    {
      "cell_type": "code",
      "execution_count": 95,
      "metadata": {
        "id": "0oeJGRboHSqy"
      },
      "outputs": [],
      "source": [
        "def purpose_group(purpose):\n",
        "    \"\"\"\n",
        "    Возвращает название категории по вхождению корня слова в значения purpose, используя правила:\n",
        "    - 'жилая недвижимость' = 'недвиж', 'жил', 'строит'\n",
        "    - 'коммерческая недвижимость' = 'коммерч'\n",
        "    - 'автомобиль' =  'автомоб'\n",
        "    - 'свадьба' = 'свад'\n",
        "    - 'образование' = 'образов'\n",
        "    \"\"\"\n",
        "    \n",
        "    if ('недвиж' in purpose \n",
        "       or 'жил' in purpose \n",
        "       or 'строит' in purpose):\n",
        "        if 'коммерч' in purpose:\n",
        "            return 'коммерческая недвижимость'\n",
        "        return 'жилая недвижимость'\n",
        "    if 'автомоб' in purpose:\n",
        "        return 'автомобиль'\n",
        "    if 'образов' in purpose:\n",
        "        return 'образование'\n",
        "    if 'свад' in purpose:\n",
        "        return 'свадьба'\n",
        "    return 'другое' # подстраховочный вариант"
      ]
    },
    {
      "cell_type": "markdown",
      "metadata": {
        "id": "X9NrDQjWHSqz"
      },
      "source": [
        " Создадим отдельный столбец с новыми категориями, а в его ячейках запишем значения, возвращаемые функцией:"
      ]
    },
    {
      "cell_type": "code",
      "execution_count": 96,
      "metadata": {
        "id": "tZHrQ69vHSqz"
      },
      "outputs": [],
      "source": [
        "clients['purpose_grouped'] = clients['purpose'].apply(purpose_group) # аргументом метода является сама функция"
      ]
    },
    {
      "cell_type": "code",
      "execution_count": 97,
      "metadata": {
        "id": "RGvKzmDVHSqz",
        "colab": {
          "base_uri": "https://localhost:8080/"
        },
        "outputId": "af1881a0-a581-4017-dd89-121dcbfbc6aa"
      },
      "outputs": [
        {
          "output_type": "execute_result",
          "data": {
            "text/plain": [
              "array(['жилая недвижимость', 'автомобиль', 'образование', 'свадьба',\n",
              "       'коммерческая недвижимость'], dtype=object)"
            ]
          },
          "metadata": {},
          "execution_count": 97
        }
      ],
      "source": [
        "clients['purpose_grouped'].unique()"
      ]
    },
    {
      "cell_type": "markdown",
      "metadata": {
        "id": "_uTwsZPGHSqz"
      },
      "source": [
        "**Вывод**\n",
        "\n",
        "Мы выделили неявные дубли с помощью лемматизации, категоризировали запросы на основе подобия формулировок и создали столбец с новыми категориями, которых получилось 5."
      ]
    },
    {
      "cell_type": "markdown",
      "metadata": {
        "id": "bxTKISebHSqz"
      },
      "source": [
        "### Категоризация данных"
      ]
    },
    {
      "cell_type": "markdown",
      "metadata": {
        "id": "LbGyVgMAHSqz"
      },
      "source": [
        "Для ответа на вопросы клиента нам нужны столбцы с данными по наличию детей, семейному положению, уровню дохода, целью кредита и наличию задолженностей по кредитам. \n",
        "\n",
        "Для успешного анализа сгруппируем данные, присвоив им категории."
      ]
    },
    {
      "cell_type": "markdown",
      "metadata": {
        "id": "o5AM-nkVHSqz"
      },
      "source": [
        "#### Категоризируем столбец `children` – количество детей в семье:"
      ]
    },
    {
      "cell_type": "code",
      "execution_count": 98,
      "metadata": {
        "id": "53RVlbyOHSq0",
        "colab": {
          "base_uri": "https://localhost:8080/"
        },
        "outputId": "d8420fff-1b3c-4e38-e3fb-651d34c3c0cb"
      },
      "outputs": [
        {
          "output_type": "execute_result",
          "data": {
            "text/plain": [
              " 0     14091\n",
              " 1      4808\n",
              " 2      2052\n",
              " 3       330\n",
              " 20       76\n",
              "-1        47\n",
              " 4        41\n",
              " 5         9\n",
              "Name: children, dtype: int64"
            ]
          },
          "metadata": {},
          "execution_count": 98
        }
      ],
      "source": [
        "clients['children'].value_counts() "
      ]
    },
    {
      "cell_type": "markdown",
      "metadata": {
        "id": "tFteutzTHSq0"
      },
      "source": [
        "Мы обнаружили 2 артефакта: значения -1 и 20 детей. Вероятно, это **случайные ошибки**. Мы не знаем точную причину их появления и можем либо удалить эти строки, либо попробовать угадать, какие данные на самом деле имелись ввиду.\n",
        "\n",
        "Я выбрала удаление, так как количество записей с артефактами незначительное, значит их удаление не повлияет на результат вычислений."
      ]
    },
    {
      "cell_type": "code",
      "execution_count": 99,
      "metadata": {
        "id": "BBw_8KZ-HSq0"
      },
      "outputs": [],
      "source": [
        "clients.drop(clients[clients.children == 20].index, inplace=True) # последовательно удалим ненужные строки методом drop inplace\n",
        "clients.drop(clients[clients.children == -1].index, inplace=True)"
      ]
    },
    {
      "cell_type": "markdown",
      "metadata": {
        "id": "nlH1WTYiHSq0"
      },
      "source": [
        "**Классифицируем данные** на 3 группы по следующим правилам:\n",
        "1. 0 = бездетные\n",
        "2. 1-2 = с 1-2 детьми\n",
        "3. 3 и более = многодетные"
      ]
    },
    {
      "cell_type": "code",
      "execution_count": 100,
      "metadata": {
        "id": "lxJWJWOdHSq1"
      },
      "outputs": [],
      "source": [
        "def children_group(children):\n",
        "    \"\"\"\n",
        "    Возвращает группу по значению количества детей в семье, используя правила:\n",
        "    1. 0 = 'бездетные'\n",
        "    2. 1-2 = 'с 1-2 детьми'\n",
        "    3. 3 и более = 'многодетные'\n",
        "    \"\"\"\n",
        "    \n",
        "    if children == 0:\n",
        "        return 'бездетные'\n",
        "    elif 1 <= children <= 2:\n",
        "        return 'с 1-2 детьми'\n",
        "    return 'многодетные' \n"
      ]
    },
    {
      "cell_type": "markdown",
      "metadata": {
        "id": "uRLzp_82HSq1"
      },
      "source": [
        "Добавим в таблицу новый столбец с полученными значениями методом apply."
      ]
    },
    {
      "cell_type": "code",
      "execution_count": 101,
      "metadata": {
        "id": "j1SIQOfqHSq1",
        "colab": {
          "base_uri": "https://localhost:8080/"
        },
        "outputId": "2d5c1021-3266-4837-d756-8c11218499f5"
      },
      "outputs": [
        {
          "output_type": "execute_result",
          "data": {
            "text/plain": [
              "бездетные       14091\n",
              "с 1-2 детьми     6860\n",
              "многодетные       380\n",
              "Name: children_category, dtype: int64"
            ]
          },
          "metadata": {},
          "execution_count": 101
        }
      ],
      "source": [
        "clients['children_category'] = clients['children'].apply(children_group)\n",
        "# добавление нового столбца с применением метода apply и расчетом функции\n",
        "\n",
        "clients['children_category'].value_counts()"
      ]
    },
    {
      "cell_type": "markdown",
      "metadata": {
        "id": "zo4ALcsaHSq1"
      },
      "source": [
        "Создадим словарь соответствия значений новым категориям и посмотрим все возможные варианты соответствия категориям:"
      ]
    },
    {
      "cell_type": "code",
      "execution_count": 102,
      "metadata": {
        "id": "zrYwj6jGHSq1",
        "colab": {
          "base_uri": "https://localhost:8080/",
          "height": 238
        },
        "outputId": "f58fce3c-772c-477c-a7e1-09202b00073e"
      },
      "outputs": [
        {
          "output_type": "execute_result",
          "data": {
            "text/plain": [
              "  children_category  children\n",
              "0      с 1-2 детьми         1\n",
              "1         бездетные         0\n",
              "2       многодетные         3\n",
              "3      с 1-2 детьми         2\n",
              "4       многодетные         4\n",
              "5       многодетные         5"
            ],
            "text/html": [
              "\n",
              "  <div id=\"df-0c7c1db4-f3dc-425f-9a93-584967236a29\">\n",
              "    <div class=\"colab-df-container\">\n",
              "      <div>\n",
              "<style scoped>\n",
              "    .dataframe tbody tr th:only-of-type {\n",
              "        vertical-align: middle;\n",
              "    }\n",
              "\n",
              "    .dataframe tbody tr th {\n",
              "        vertical-align: top;\n",
              "    }\n",
              "\n",
              "    .dataframe thead th {\n",
              "        text-align: right;\n",
              "    }\n",
              "</style>\n",
              "<table border=\"1\" class=\"dataframe\">\n",
              "  <thead>\n",
              "    <tr style=\"text-align: right;\">\n",
              "      <th></th>\n",
              "      <th>children_category</th>\n",
              "      <th>children</th>\n",
              "    </tr>\n",
              "  </thead>\n",
              "  <tbody>\n",
              "    <tr>\n",
              "      <th>0</th>\n",
              "      <td>с 1-2 детьми</td>\n",
              "      <td>1</td>\n",
              "    </tr>\n",
              "    <tr>\n",
              "      <th>1</th>\n",
              "      <td>бездетные</td>\n",
              "      <td>0</td>\n",
              "    </tr>\n",
              "    <tr>\n",
              "      <th>2</th>\n",
              "      <td>многодетные</td>\n",
              "      <td>3</td>\n",
              "    </tr>\n",
              "    <tr>\n",
              "      <th>3</th>\n",
              "      <td>с 1-2 детьми</td>\n",
              "      <td>2</td>\n",
              "    </tr>\n",
              "    <tr>\n",
              "      <th>4</th>\n",
              "      <td>многодетные</td>\n",
              "      <td>4</td>\n",
              "    </tr>\n",
              "    <tr>\n",
              "      <th>5</th>\n",
              "      <td>многодетные</td>\n",
              "      <td>5</td>\n",
              "    </tr>\n",
              "  </tbody>\n",
              "</table>\n",
              "</div>\n",
              "      <button class=\"colab-df-convert\" onclick=\"convertToInteractive('df-0c7c1db4-f3dc-425f-9a93-584967236a29')\"\n",
              "              title=\"Convert this dataframe to an interactive table.\"\n",
              "              style=\"display:none;\">\n",
              "        \n",
              "  <svg xmlns=\"http://www.w3.org/2000/svg\" height=\"24px\"viewBox=\"0 0 24 24\"\n",
              "       width=\"24px\">\n",
              "    <path d=\"M0 0h24v24H0V0z\" fill=\"none\"/>\n",
              "    <path d=\"M18.56 5.44l.94 2.06.94-2.06 2.06-.94-2.06-.94-.94-2.06-.94 2.06-2.06.94zm-11 1L8.5 8.5l.94-2.06 2.06-.94-2.06-.94L8.5 2.5l-.94 2.06-2.06.94zm10 10l.94 2.06.94-2.06 2.06-.94-2.06-.94-.94-2.06-.94 2.06-2.06.94z\"/><path d=\"M17.41 7.96l-1.37-1.37c-.4-.4-.92-.59-1.43-.59-.52 0-1.04.2-1.43.59L10.3 9.45l-7.72 7.72c-.78.78-.78 2.05 0 2.83L4 21.41c.39.39.9.59 1.41.59.51 0 1.02-.2 1.41-.59l7.78-7.78 2.81-2.81c.8-.78.8-2.07 0-2.86zM5.41 20L4 18.59l7.72-7.72 1.47 1.35L5.41 20z\"/>\n",
              "  </svg>\n",
              "      </button>\n",
              "      \n",
              "  <style>\n",
              "    .colab-df-container {\n",
              "      display:flex;\n",
              "      flex-wrap:wrap;\n",
              "      gap: 12px;\n",
              "    }\n",
              "\n",
              "    .colab-df-convert {\n",
              "      background-color: #E8F0FE;\n",
              "      border: none;\n",
              "      border-radius: 50%;\n",
              "      cursor: pointer;\n",
              "      display: none;\n",
              "      fill: #1967D2;\n",
              "      height: 32px;\n",
              "      padding: 0 0 0 0;\n",
              "      width: 32px;\n",
              "    }\n",
              "\n",
              "    .colab-df-convert:hover {\n",
              "      background-color: #E2EBFA;\n",
              "      box-shadow: 0px 1px 2px rgba(60, 64, 67, 0.3), 0px 1px 3px 1px rgba(60, 64, 67, 0.15);\n",
              "      fill: #174EA6;\n",
              "    }\n",
              "\n",
              "    [theme=dark] .colab-df-convert {\n",
              "      background-color: #3B4455;\n",
              "      fill: #D2E3FC;\n",
              "    }\n",
              "\n",
              "    [theme=dark] .colab-df-convert:hover {\n",
              "      background-color: #434B5C;\n",
              "      box-shadow: 0px 1px 3px 1px rgba(0, 0, 0, 0.15);\n",
              "      filter: drop-shadow(0px 1px 2px rgba(0, 0, 0, 0.3));\n",
              "      fill: #FFFFFF;\n",
              "    }\n",
              "  </style>\n",
              "\n",
              "      <script>\n",
              "        const buttonEl =\n",
              "          document.querySelector('#df-0c7c1db4-f3dc-425f-9a93-584967236a29 button.colab-df-convert');\n",
              "        buttonEl.style.display =\n",
              "          google.colab.kernel.accessAllowed ? 'block' : 'none';\n",
              "\n",
              "        async function convertToInteractive(key) {\n",
              "          const element = document.querySelector('#df-0c7c1db4-f3dc-425f-9a93-584967236a29');\n",
              "          const dataTable =\n",
              "            await google.colab.kernel.invokeFunction('convertToInteractive',\n",
              "                                                     [key], {});\n",
              "          if (!dataTable) return;\n",
              "\n",
              "          const docLinkHtml = 'Like what you see? Visit the ' +\n",
              "            '<a target=\"_blank\" href=https://colab.research.google.com/notebooks/data_table.ipynb>data table notebook</a>'\n",
              "            + ' to learn more about interactive tables.';\n",
              "          element.innerHTML = '';\n",
              "          dataTable['output_type'] = 'display_data';\n",
              "          await google.colab.output.renderOutput(dataTable, element);\n",
              "          const docLink = document.createElement('div');\n",
              "          docLink.innerHTML = docLinkHtml;\n",
              "          element.appendChild(docLink);\n",
              "        }\n",
              "      </script>\n",
              "    </div>\n",
              "  </div>\n",
              "  "
            ]
          },
          "metadata": {},
          "execution_count": 102
        }
      ],
      "source": [
        "children_dict = clients[['children_category', 'children']] # создание словаря из 2 столбцов\n",
        "children_dict = children_dict.drop_duplicates().reset_index(drop=True)\n",
        "children_dict"
      ]
    },
    {
      "cell_type": "markdown",
      "metadata": {
        "id": "i5t5H7K8HSq1"
      },
      "source": [
        "#### Категоризируем столбец `family_status` – семейное положение:"
      ]
    },
    {
      "cell_type": "code",
      "execution_count": 103,
      "metadata": {
        "id": "0rgdVDRlHSq2",
        "colab": {
          "base_uri": "https://localhost:8080/"
        },
        "outputId": "8e3dafcb-d739-42d8-e881-2a2ad1c1c6c5"
      },
      "outputs": [
        {
          "output_type": "execute_result",
          "data": {
            "text/plain": [
              "женат / замужем          12261\n",
              "гражданский брак          4134\n",
              "Не женат / не замужем     2796\n",
              "в разводе                 1189\n",
              "вдовец / вдова             951\n",
              "Name: family_status, dtype: int64"
            ]
          },
          "metadata": {},
          "execution_count": 103
        }
      ],
      "source": [
        "clients['family_status'].value_counts()"
      ]
    },
    {
      "cell_type": "markdown",
      "metadata": {
        "id": "eOnSUSyqHSq2"
      },
      "source": [
        "Здесь у нас тоже готовые 5 категорий, а также в файле уже присутствует группировка по  `family_status_id`. \n",
        "\n",
        "Улучшим внешний вид записей, приведя их в нижний регистр:"
      ]
    },
    {
      "cell_type": "code",
      "execution_count": 104,
      "metadata": {
        "id": "5RVDCYDGHSq2",
        "colab": {
          "base_uri": "https://localhost:8080/"
        },
        "outputId": "b28d19a7-651b-45d4-efdf-b073ed34dc76"
      },
      "outputs": [
        {
          "output_type": "execute_result",
          "data": {
            "text/plain": [
              "женат / замужем          12261\n",
              "гражданский брак          4134\n",
              "не женат / не замужем     2796\n",
              "в разводе                 1189\n",
              "вдовец / вдова             951\n",
              "Name: family_status, dtype: int64"
            ]
          },
          "metadata": {},
          "execution_count": 104
        }
      ],
      "source": [
        "clients['family_status'] = clients['family_status'].str.lower()  # приведение строк к нижнему регистру\n",
        "clients['family_status'].value_counts()"
      ]
    },
    {
      "cell_type": "code",
      "execution_count": 105,
      "metadata": {
        "id": "dmtAmhAYHSq2",
        "colab": {
          "base_uri": "https://localhost:8080/",
          "height": 206
        },
        "outputId": "52f41294-85a8-45ae-e68b-f2ddf4079876"
      },
      "outputs": [
        {
          "output_type": "execute_result",
          "data": {
            "text/plain": [
              "   family_status_id          family_status\n",
              "0                 0        женат / замужем\n",
              "1                 1       гражданский брак\n",
              "2                 2         вдовец / вдова\n",
              "3                 3              в разводе\n",
              "4                 4  не женат / не замужем"
            ],
            "text/html": [
              "\n",
              "  <div id=\"df-72d4c71f-7c55-4c3d-8762-42a0549ab2ad\">\n",
              "    <div class=\"colab-df-container\">\n",
              "      <div>\n",
              "<style scoped>\n",
              "    .dataframe tbody tr th:only-of-type {\n",
              "        vertical-align: middle;\n",
              "    }\n",
              "\n",
              "    .dataframe tbody tr th {\n",
              "        vertical-align: top;\n",
              "    }\n",
              "\n",
              "    .dataframe thead th {\n",
              "        text-align: right;\n",
              "    }\n",
              "</style>\n",
              "<table border=\"1\" class=\"dataframe\">\n",
              "  <thead>\n",
              "    <tr style=\"text-align: right;\">\n",
              "      <th></th>\n",
              "      <th>family_status_id</th>\n",
              "      <th>family_status</th>\n",
              "    </tr>\n",
              "  </thead>\n",
              "  <tbody>\n",
              "    <tr>\n",
              "      <th>0</th>\n",
              "      <td>0</td>\n",
              "      <td>женат / замужем</td>\n",
              "    </tr>\n",
              "    <tr>\n",
              "      <th>1</th>\n",
              "      <td>1</td>\n",
              "      <td>гражданский брак</td>\n",
              "    </tr>\n",
              "    <tr>\n",
              "      <th>2</th>\n",
              "      <td>2</td>\n",
              "      <td>вдовец / вдова</td>\n",
              "    </tr>\n",
              "    <tr>\n",
              "      <th>3</th>\n",
              "      <td>3</td>\n",
              "      <td>в разводе</td>\n",
              "    </tr>\n",
              "    <tr>\n",
              "      <th>4</th>\n",
              "      <td>4</td>\n",
              "      <td>не женат / не замужем</td>\n",
              "    </tr>\n",
              "  </tbody>\n",
              "</table>\n",
              "</div>\n",
              "      <button class=\"colab-df-convert\" onclick=\"convertToInteractive('df-72d4c71f-7c55-4c3d-8762-42a0549ab2ad')\"\n",
              "              title=\"Convert this dataframe to an interactive table.\"\n",
              "              style=\"display:none;\">\n",
              "        \n",
              "  <svg xmlns=\"http://www.w3.org/2000/svg\" height=\"24px\"viewBox=\"0 0 24 24\"\n",
              "       width=\"24px\">\n",
              "    <path d=\"M0 0h24v24H0V0z\" fill=\"none\"/>\n",
              "    <path d=\"M18.56 5.44l.94 2.06.94-2.06 2.06-.94-2.06-.94-.94-2.06-.94 2.06-2.06.94zm-11 1L8.5 8.5l.94-2.06 2.06-.94-2.06-.94L8.5 2.5l-.94 2.06-2.06.94zm10 10l.94 2.06.94-2.06 2.06-.94-2.06-.94-.94-2.06-.94 2.06-2.06.94z\"/><path d=\"M17.41 7.96l-1.37-1.37c-.4-.4-.92-.59-1.43-.59-.52 0-1.04.2-1.43.59L10.3 9.45l-7.72 7.72c-.78.78-.78 2.05 0 2.83L4 21.41c.39.39.9.59 1.41.59.51 0 1.02-.2 1.41-.59l7.78-7.78 2.81-2.81c.8-.78.8-2.07 0-2.86zM5.41 20L4 18.59l7.72-7.72 1.47 1.35L5.41 20z\"/>\n",
              "  </svg>\n",
              "      </button>\n",
              "      \n",
              "  <style>\n",
              "    .colab-df-container {\n",
              "      display:flex;\n",
              "      flex-wrap:wrap;\n",
              "      gap: 12px;\n",
              "    }\n",
              "\n",
              "    .colab-df-convert {\n",
              "      background-color: #E8F0FE;\n",
              "      border: none;\n",
              "      border-radius: 50%;\n",
              "      cursor: pointer;\n",
              "      display: none;\n",
              "      fill: #1967D2;\n",
              "      height: 32px;\n",
              "      padding: 0 0 0 0;\n",
              "      width: 32px;\n",
              "    }\n",
              "\n",
              "    .colab-df-convert:hover {\n",
              "      background-color: #E2EBFA;\n",
              "      box-shadow: 0px 1px 2px rgba(60, 64, 67, 0.3), 0px 1px 3px 1px rgba(60, 64, 67, 0.15);\n",
              "      fill: #174EA6;\n",
              "    }\n",
              "\n",
              "    [theme=dark] .colab-df-convert {\n",
              "      background-color: #3B4455;\n",
              "      fill: #D2E3FC;\n",
              "    }\n",
              "\n",
              "    [theme=dark] .colab-df-convert:hover {\n",
              "      background-color: #434B5C;\n",
              "      box-shadow: 0px 1px 3px 1px rgba(0, 0, 0, 0.15);\n",
              "      filter: drop-shadow(0px 1px 2px rgba(0, 0, 0, 0.3));\n",
              "      fill: #FFFFFF;\n",
              "    }\n",
              "  </style>\n",
              "\n",
              "      <script>\n",
              "        const buttonEl =\n",
              "          document.querySelector('#df-72d4c71f-7c55-4c3d-8762-42a0549ab2ad button.colab-df-convert');\n",
              "        buttonEl.style.display =\n",
              "          google.colab.kernel.accessAllowed ? 'block' : 'none';\n",
              "\n",
              "        async function convertToInteractive(key) {\n",
              "          const element = document.querySelector('#df-72d4c71f-7c55-4c3d-8762-42a0549ab2ad');\n",
              "          const dataTable =\n",
              "            await google.colab.kernel.invokeFunction('convertToInteractive',\n",
              "                                                     [key], {});\n",
              "          if (!dataTable) return;\n",
              "\n",
              "          const docLinkHtml = 'Like what you see? Visit the ' +\n",
              "            '<a target=\"_blank\" href=https://colab.research.google.com/notebooks/data_table.ipynb>data table notebook</a>'\n",
              "            + ' to learn more about interactive tables.';\n",
              "          element.innerHTML = '';\n",
              "          dataTable['output_type'] = 'display_data';\n",
              "          await google.colab.output.renderOutput(dataTable, element);\n",
              "          const docLink = document.createElement('div');\n",
              "          docLink.innerHTML = docLinkHtml;\n",
              "          element.appendChild(docLink);\n",
              "        }\n",
              "      </script>\n",
              "    </div>\n",
              "  </div>\n",
              "  "
            ]
          },
          "metadata": {},
          "execution_count": 105
        }
      ],
      "source": [
        "family_dict = clients[['family_status_id', 'family_status']] # создание словаря из 2 столбцов\n",
        "family_dict = family_dict.drop_duplicates().reset_index(drop=True)\n",
        "family_dict"
      ]
    },
    {
      "cell_type": "markdown",
      "metadata": {
        "id": "Ll4OJGQzHSq2"
      },
      "source": [
        "#### Категоризируем столбец `purpose_grouped` – цель кредита:"
      ]
    },
    {
      "cell_type": "code",
      "execution_count": 106,
      "metadata": {
        "id": "YZlyhla9HSq2",
        "colab": {
          "base_uri": "https://localhost:8080/"
        },
        "outputId": "e8bd8218-70fb-42c4-f71f-330c2e03fb19"
      },
      "outputs": [
        {
          "output_type": "execute_result",
          "data": {
            "text/plain": [
              "жилая недвижимость           9448\n",
              "автомобиль                   4279\n",
              "образование                  3988\n",
              "свадьба                      2313\n",
              "коммерческая недвижимость    1303\n",
              "Name: purpose_grouped, dtype: int64"
            ]
          },
          "metadata": {},
          "execution_count": 106
        }
      ],
      "source": [
        "clients['purpose_grouped'].value_counts()"
      ]
    },
    {
      "cell_type": "code",
      "execution_count": 107,
      "metadata": {
        "id": "615c8BTjHSq2",
        "colab": {
          "base_uri": "https://localhost:8080/",
          "height": 363
        },
        "outputId": "3e596dea-db3b-427b-9e1e-e414abe774ab"
      },
      "outputs": [
        {
          "output_type": "execute_result",
          "data": {
            "text/plain": [
              "             purpose_grouped                            purpose\n",
              "0         жилая недвижимость                      покупка жилья\n",
              "1                 автомобиль            приобретение автомобиля\n",
              "2                образование         дополнительное образование\n",
              "3                    свадьба                    сыграть свадьбу\n",
              "4         жилая недвижимость                  операции с жильем\n",
              "5                образование                        образование\n",
              "6                    свадьба              на проведение свадьбы\n",
              "7         жилая недвижимость            покупка жилья для семьи\n",
              "8         жилая недвижимость               покупка недвижимости\n",
              "9  коммерческая недвижимость  покупка коммерческой недвижимости"
            ],
            "text/html": [
              "\n",
              "  <div id=\"df-dc7041b8-8d4b-4e47-9fdc-79b72d3c3bf4\">\n",
              "    <div class=\"colab-df-container\">\n",
              "      <div>\n",
              "<style scoped>\n",
              "    .dataframe tbody tr th:only-of-type {\n",
              "        vertical-align: middle;\n",
              "    }\n",
              "\n",
              "    .dataframe tbody tr th {\n",
              "        vertical-align: top;\n",
              "    }\n",
              "\n",
              "    .dataframe thead th {\n",
              "        text-align: right;\n",
              "    }\n",
              "</style>\n",
              "<table border=\"1\" class=\"dataframe\">\n",
              "  <thead>\n",
              "    <tr style=\"text-align: right;\">\n",
              "      <th></th>\n",
              "      <th>purpose_grouped</th>\n",
              "      <th>purpose</th>\n",
              "    </tr>\n",
              "  </thead>\n",
              "  <tbody>\n",
              "    <tr>\n",
              "      <th>0</th>\n",
              "      <td>жилая недвижимость</td>\n",
              "      <td>покупка жилья</td>\n",
              "    </tr>\n",
              "    <tr>\n",
              "      <th>1</th>\n",
              "      <td>автомобиль</td>\n",
              "      <td>приобретение автомобиля</td>\n",
              "    </tr>\n",
              "    <tr>\n",
              "      <th>2</th>\n",
              "      <td>образование</td>\n",
              "      <td>дополнительное образование</td>\n",
              "    </tr>\n",
              "    <tr>\n",
              "      <th>3</th>\n",
              "      <td>свадьба</td>\n",
              "      <td>сыграть свадьбу</td>\n",
              "    </tr>\n",
              "    <tr>\n",
              "      <th>4</th>\n",
              "      <td>жилая недвижимость</td>\n",
              "      <td>операции с жильем</td>\n",
              "    </tr>\n",
              "    <tr>\n",
              "      <th>5</th>\n",
              "      <td>образование</td>\n",
              "      <td>образование</td>\n",
              "    </tr>\n",
              "    <tr>\n",
              "      <th>6</th>\n",
              "      <td>свадьба</td>\n",
              "      <td>на проведение свадьбы</td>\n",
              "    </tr>\n",
              "    <tr>\n",
              "      <th>7</th>\n",
              "      <td>жилая недвижимость</td>\n",
              "      <td>покупка жилья для семьи</td>\n",
              "    </tr>\n",
              "    <tr>\n",
              "      <th>8</th>\n",
              "      <td>жилая недвижимость</td>\n",
              "      <td>покупка недвижимости</td>\n",
              "    </tr>\n",
              "    <tr>\n",
              "      <th>9</th>\n",
              "      <td>коммерческая недвижимость</td>\n",
              "      <td>покупка коммерческой недвижимости</td>\n",
              "    </tr>\n",
              "  </tbody>\n",
              "</table>\n",
              "</div>\n",
              "      <button class=\"colab-df-convert\" onclick=\"convertToInteractive('df-dc7041b8-8d4b-4e47-9fdc-79b72d3c3bf4')\"\n",
              "              title=\"Convert this dataframe to an interactive table.\"\n",
              "              style=\"display:none;\">\n",
              "        \n",
              "  <svg xmlns=\"http://www.w3.org/2000/svg\" height=\"24px\"viewBox=\"0 0 24 24\"\n",
              "       width=\"24px\">\n",
              "    <path d=\"M0 0h24v24H0V0z\" fill=\"none\"/>\n",
              "    <path d=\"M18.56 5.44l.94 2.06.94-2.06 2.06-.94-2.06-.94-.94-2.06-.94 2.06-2.06.94zm-11 1L8.5 8.5l.94-2.06 2.06-.94-2.06-.94L8.5 2.5l-.94 2.06-2.06.94zm10 10l.94 2.06.94-2.06 2.06-.94-2.06-.94-.94-2.06-.94 2.06-2.06.94z\"/><path d=\"M17.41 7.96l-1.37-1.37c-.4-.4-.92-.59-1.43-.59-.52 0-1.04.2-1.43.59L10.3 9.45l-7.72 7.72c-.78.78-.78 2.05 0 2.83L4 21.41c.39.39.9.59 1.41.59.51 0 1.02-.2 1.41-.59l7.78-7.78 2.81-2.81c.8-.78.8-2.07 0-2.86zM5.41 20L4 18.59l7.72-7.72 1.47 1.35L5.41 20z\"/>\n",
              "  </svg>\n",
              "      </button>\n",
              "      \n",
              "  <style>\n",
              "    .colab-df-container {\n",
              "      display:flex;\n",
              "      flex-wrap:wrap;\n",
              "      gap: 12px;\n",
              "    }\n",
              "\n",
              "    .colab-df-convert {\n",
              "      background-color: #E8F0FE;\n",
              "      border: none;\n",
              "      border-radius: 50%;\n",
              "      cursor: pointer;\n",
              "      display: none;\n",
              "      fill: #1967D2;\n",
              "      height: 32px;\n",
              "      padding: 0 0 0 0;\n",
              "      width: 32px;\n",
              "    }\n",
              "\n",
              "    .colab-df-convert:hover {\n",
              "      background-color: #E2EBFA;\n",
              "      box-shadow: 0px 1px 2px rgba(60, 64, 67, 0.3), 0px 1px 3px 1px rgba(60, 64, 67, 0.15);\n",
              "      fill: #174EA6;\n",
              "    }\n",
              "\n",
              "    [theme=dark] .colab-df-convert {\n",
              "      background-color: #3B4455;\n",
              "      fill: #D2E3FC;\n",
              "    }\n",
              "\n",
              "    [theme=dark] .colab-df-convert:hover {\n",
              "      background-color: #434B5C;\n",
              "      box-shadow: 0px 1px 3px 1px rgba(0, 0, 0, 0.15);\n",
              "      filter: drop-shadow(0px 1px 2px rgba(0, 0, 0, 0.3));\n",
              "      fill: #FFFFFF;\n",
              "    }\n",
              "  </style>\n",
              "\n",
              "      <script>\n",
              "        const buttonEl =\n",
              "          document.querySelector('#df-dc7041b8-8d4b-4e47-9fdc-79b72d3c3bf4 button.colab-df-convert');\n",
              "        buttonEl.style.display =\n",
              "          google.colab.kernel.accessAllowed ? 'block' : 'none';\n",
              "\n",
              "        async function convertToInteractive(key) {\n",
              "          const element = document.querySelector('#df-dc7041b8-8d4b-4e47-9fdc-79b72d3c3bf4');\n",
              "          const dataTable =\n",
              "            await google.colab.kernel.invokeFunction('convertToInteractive',\n",
              "                                                     [key], {});\n",
              "          if (!dataTable) return;\n",
              "\n",
              "          const docLinkHtml = 'Like what you see? Visit the ' +\n",
              "            '<a target=\"_blank\" href=https://colab.research.google.com/notebooks/data_table.ipynb>data table notebook</a>'\n",
              "            + ' to learn more about interactive tables.';\n",
              "          element.innerHTML = '';\n",
              "          dataTable['output_type'] = 'display_data';\n",
              "          await google.colab.output.renderOutput(dataTable, element);\n",
              "          const docLink = document.createElement('div');\n",
              "          docLink.innerHTML = docLinkHtml;\n",
              "          element.appendChild(docLink);\n",
              "        }\n",
              "      </script>\n",
              "    </div>\n",
              "  </div>\n",
              "  "
            ]
          },
          "metadata": {},
          "execution_count": 107
        }
      ],
      "source": [
        "purpose_dict = clients[['purpose_grouped', 'purpose']] # создание словаря из 2 столбцов\n",
        "purpose_dict = purpose_dict.drop_duplicates().reset_index(drop=True)\n",
        "purpose_dict.head(10)"
      ]
    },
    {
      "cell_type": "markdown",
      "metadata": {
        "id": "jwds5yr6HSq3"
      },
      "source": [
        "#### Категоризируем столбец дохода `total_income` –  ежемесячный доход:"
      ]
    },
    {
      "cell_type": "code",
      "execution_count": 108,
      "metadata": {
        "id": "ldRv9DcMHSq3",
        "colab": {
          "base_uri": "https://localhost:8080/"
        },
        "outputId": "09175084-9b9a-494d-ceb2-c8b8c5cfd919"
      },
      "outputs": [
        {
          "output_type": "execute_result",
          "data": {
            "text/plain": [
              "142594    1066\n",
              "172357     498\n",
              "118514     384\n",
              "150447     144\n",
              "150684       3\n",
              "          ... \n",
              "127332       1\n",
              "213236       1\n",
              "67366        1\n",
              "300306       1\n",
              "82047        1\n",
              "Name: total_income, Length: 18504, dtype: int64"
            ]
          },
          "metadata": {},
          "execution_count": 108
        }
      ],
      "source": [
        "clients['total_income'].value_counts()"
      ]
    },
    {
      "cell_type": "markdown",
      "metadata": {
        "id": "pzNu3XEKHSq3"
      },
      "source": [
        "Столбец содержит количественные данные – приведем их в категориальный вид, разделив доходы на следующие группы:\n",
        "\n",
        "1. до 50 тысяч\n",
        "2. от 50 до 100\n",
        "3. от 100 до 150\n",
        "4. от 150 до 200\n",
        "5. от 200 и выше"
      ]
    },
    {
      "cell_type": "code",
      "execution_count": 109,
      "metadata": {
        "id": "6f-ltSO8HSq3"
      },
      "outputs": [],
      "source": [
        "def total_income_group(income):\n",
        "    \"\"\"\n",
        "    Возвращает группу по значению дохода, используя правила:\n",
        "    - Доход до 50\n",
        "    - от 50 до 100\n",
        "    - От 100 до 150\n",
        "    - От 150 до 200\n",
        "    - От 200 и выше\n",
        "    \"\"\"\n",
        "    \n",
        "    if income < 50000:\n",
        "        return 'до 50 тысяч'\n",
        "    elif 50000 <= income < 100000:\n",
        "        return 'от 50 до 100'\n",
        "    elif 100000 <= income < 150000:\n",
        "        return 'от 100 до 150'\n",
        "    elif 150000 <= income < 200000:\n",
        "        return 'от 150 до 200'\n",
        "    return 'от 200 и выше'"
      ]
    },
    {
      "cell_type": "code",
      "execution_count": 110,
      "metadata": {
        "id": "uukB99-sHSq3"
      },
      "outputs": [],
      "source": [
        "clients['total_income_grouped'] = clients['total_income'].apply(total_income_group) \n",
        "# добавление нового столбца с применением метода apply и расчетом функции"
      ]
    },
    {
      "cell_type": "code",
      "execution_count": 111,
      "metadata": {
        "id": "ahlVQ3ZEHSq4",
        "colab": {
          "base_uri": "https://localhost:8080/",
          "height": 363
        },
        "outputId": "1bc3c04f-416c-4146-ebb9-0740ff7a6253"
      },
      "outputs": [
        {
          "output_type": "execute_result",
          "data": {
            "text/plain": [
              "  total_income_grouped  total_income\n",
              "0        от 200 и выше        253875\n",
              "1        от 100 до 150        112080\n",
              "2        от 100 до 150        145885\n",
              "3        от 200 и выше        267628\n",
              "4        от 150 до 200        158616\n",
              "5        от 200 и выше        255763\n",
              "6        от 200 и выше        240525\n",
              "7        от 100 до 150        135823\n",
              "8         от 50 до 100         95856\n",
              "9        от 100 до 150        144425"
            ],
            "text/html": [
              "\n",
              "  <div id=\"df-6a1ab93d-edd1-4e71-822c-a8196f9447e1\">\n",
              "    <div class=\"colab-df-container\">\n",
              "      <div>\n",
              "<style scoped>\n",
              "    .dataframe tbody tr th:only-of-type {\n",
              "        vertical-align: middle;\n",
              "    }\n",
              "\n",
              "    .dataframe tbody tr th {\n",
              "        vertical-align: top;\n",
              "    }\n",
              "\n",
              "    .dataframe thead th {\n",
              "        text-align: right;\n",
              "    }\n",
              "</style>\n",
              "<table border=\"1\" class=\"dataframe\">\n",
              "  <thead>\n",
              "    <tr style=\"text-align: right;\">\n",
              "      <th></th>\n",
              "      <th>total_income_grouped</th>\n",
              "      <th>total_income</th>\n",
              "    </tr>\n",
              "  </thead>\n",
              "  <tbody>\n",
              "    <tr>\n",
              "      <th>0</th>\n",
              "      <td>от 200 и выше</td>\n",
              "      <td>253875</td>\n",
              "    </tr>\n",
              "    <tr>\n",
              "      <th>1</th>\n",
              "      <td>от 100 до 150</td>\n",
              "      <td>112080</td>\n",
              "    </tr>\n",
              "    <tr>\n",
              "      <th>2</th>\n",
              "      <td>от 100 до 150</td>\n",
              "      <td>145885</td>\n",
              "    </tr>\n",
              "    <tr>\n",
              "      <th>3</th>\n",
              "      <td>от 200 и выше</td>\n",
              "      <td>267628</td>\n",
              "    </tr>\n",
              "    <tr>\n",
              "      <th>4</th>\n",
              "      <td>от 150 до 200</td>\n",
              "      <td>158616</td>\n",
              "    </tr>\n",
              "    <tr>\n",
              "      <th>5</th>\n",
              "      <td>от 200 и выше</td>\n",
              "      <td>255763</td>\n",
              "    </tr>\n",
              "    <tr>\n",
              "      <th>6</th>\n",
              "      <td>от 200 и выше</td>\n",
              "      <td>240525</td>\n",
              "    </tr>\n",
              "    <tr>\n",
              "      <th>7</th>\n",
              "      <td>от 100 до 150</td>\n",
              "      <td>135823</td>\n",
              "    </tr>\n",
              "    <tr>\n",
              "      <th>8</th>\n",
              "      <td>от 50 до 100</td>\n",
              "      <td>95856</td>\n",
              "    </tr>\n",
              "    <tr>\n",
              "      <th>9</th>\n",
              "      <td>от 100 до 150</td>\n",
              "      <td>144425</td>\n",
              "    </tr>\n",
              "  </tbody>\n",
              "</table>\n",
              "</div>\n",
              "      <button class=\"colab-df-convert\" onclick=\"convertToInteractive('df-6a1ab93d-edd1-4e71-822c-a8196f9447e1')\"\n",
              "              title=\"Convert this dataframe to an interactive table.\"\n",
              "              style=\"display:none;\">\n",
              "        \n",
              "  <svg xmlns=\"http://www.w3.org/2000/svg\" height=\"24px\"viewBox=\"0 0 24 24\"\n",
              "       width=\"24px\">\n",
              "    <path d=\"M0 0h24v24H0V0z\" fill=\"none\"/>\n",
              "    <path d=\"M18.56 5.44l.94 2.06.94-2.06 2.06-.94-2.06-.94-.94-2.06-.94 2.06-2.06.94zm-11 1L8.5 8.5l.94-2.06 2.06-.94-2.06-.94L8.5 2.5l-.94 2.06-2.06.94zm10 10l.94 2.06.94-2.06 2.06-.94-2.06-.94-.94-2.06-.94 2.06-2.06.94z\"/><path d=\"M17.41 7.96l-1.37-1.37c-.4-.4-.92-.59-1.43-.59-.52 0-1.04.2-1.43.59L10.3 9.45l-7.72 7.72c-.78.78-.78 2.05 0 2.83L4 21.41c.39.39.9.59 1.41.59.51 0 1.02-.2 1.41-.59l7.78-7.78 2.81-2.81c.8-.78.8-2.07 0-2.86zM5.41 20L4 18.59l7.72-7.72 1.47 1.35L5.41 20z\"/>\n",
              "  </svg>\n",
              "      </button>\n",
              "      \n",
              "  <style>\n",
              "    .colab-df-container {\n",
              "      display:flex;\n",
              "      flex-wrap:wrap;\n",
              "      gap: 12px;\n",
              "    }\n",
              "\n",
              "    .colab-df-convert {\n",
              "      background-color: #E8F0FE;\n",
              "      border: none;\n",
              "      border-radius: 50%;\n",
              "      cursor: pointer;\n",
              "      display: none;\n",
              "      fill: #1967D2;\n",
              "      height: 32px;\n",
              "      padding: 0 0 0 0;\n",
              "      width: 32px;\n",
              "    }\n",
              "\n",
              "    .colab-df-convert:hover {\n",
              "      background-color: #E2EBFA;\n",
              "      box-shadow: 0px 1px 2px rgba(60, 64, 67, 0.3), 0px 1px 3px 1px rgba(60, 64, 67, 0.15);\n",
              "      fill: #174EA6;\n",
              "    }\n",
              "\n",
              "    [theme=dark] .colab-df-convert {\n",
              "      background-color: #3B4455;\n",
              "      fill: #D2E3FC;\n",
              "    }\n",
              "\n",
              "    [theme=dark] .colab-df-convert:hover {\n",
              "      background-color: #434B5C;\n",
              "      box-shadow: 0px 1px 3px 1px rgba(0, 0, 0, 0.15);\n",
              "      filter: drop-shadow(0px 1px 2px rgba(0, 0, 0, 0.3));\n",
              "      fill: #FFFFFF;\n",
              "    }\n",
              "  </style>\n",
              "\n",
              "      <script>\n",
              "        const buttonEl =\n",
              "          document.querySelector('#df-6a1ab93d-edd1-4e71-822c-a8196f9447e1 button.colab-df-convert');\n",
              "        buttonEl.style.display =\n",
              "          google.colab.kernel.accessAllowed ? 'block' : 'none';\n",
              "\n",
              "        async function convertToInteractive(key) {\n",
              "          const element = document.querySelector('#df-6a1ab93d-edd1-4e71-822c-a8196f9447e1');\n",
              "          const dataTable =\n",
              "            await google.colab.kernel.invokeFunction('convertToInteractive',\n",
              "                                                     [key], {});\n",
              "          if (!dataTable) return;\n",
              "\n",
              "          const docLinkHtml = 'Like what you see? Visit the ' +\n",
              "            '<a target=\"_blank\" href=https://colab.research.google.com/notebooks/data_table.ipynb>data table notebook</a>'\n",
              "            + ' to learn more about interactive tables.';\n",
              "          element.innerHTML = '';\n",
              "          dataTable['output_type'] = 'display_data';\n",
              "          await google.colab.output.renderOutput(dataTable, element);\n",
              "          const docLink = document.createElement('div');\n",
              "          docLink.innerHTML = docLinkHtml;\n",
              "          element.appendChild(docLink);\n",
              "        }\n",
              "      </script>\n",
              "    </div>\n",
              "  </div>\n",
              "  "
            ]
          },
          "metadata": {},
          "execution_count": 111
        }
      ],
      "source": [
        "income_dict = clients[['total_income_grouped', 'total_income']] # создание словаря из 2 столбцов\n",
        "income_dict = income_dict.drop_duplicates().reset_index(drop=True)\n",
        "income_dict.head(10)"
      ]
    },
    {
      "cell_type": "markdown",
      "metadata": {
        "id": "F9cl_C0SHSq4"
      },
      "source": [
        "#### Категоризируем столбец `debt` – имелась ли задолженность по возврату кредитов:"
      ]
    },
    {
      "cell_type": "code",
      "execution_count": 112,
      "metadata": {
        "id": "2qkUvgSOHSq4",
        "colab": {
          "base_uri": "https://localhost:8080/"
        },
        "outputId": "5ba4aa88-4288-4cda-fee9-43cd8d9a8709"
      },
      "outputs": [
        {
          "output_type": "execute_result",
          "data": {
            "text/plain": [
              "0    19599\n",
              "1     1732\n",
              "Name: debt, dtype: int64"
            ]
          },
          "metadata": {},
          "execution_count": 112
        }
      ],
      "source": [
        "clients['debt'].value_counts()"
      ]
    },
    {
      "cell_type": "code",
      "execution_count": 113,
      "metadata": {
        "id": "JI-6ggQSHSq4"
      },
      "outputs": [],
      "source": [
        "def debt_groupping(debt):\n",
        "    if debt == 1:\n",
        "        return 'есть задолженность'\n",
        "    return 'нет задолженности'"
      ]
    },
    {
      "cell_type": "code",
      "execution_count": 114,
      "metadata": {
        "id": "uB-PG-I-HSq4"
      },
      "outputs": [],
      "source": [
        "clients['debt_grouped'] = clients['debt'].apply(debt_groupping) \n",
        "# добавление нового столбца с применением метода apply и расчетом функции"
      ]
    },
    {
      "cell_type": "code",
      "execution_count": 115,
      "metadata": {
        "id": "7tdcXBpJHSq4",
        "colab": {
          "base_uri": "https://localhost:8080/",
          "height": 112
        },
        "outputId": "5f3c62b1-af5a-4a46-b69e-313aecd7a6a4"
      },
      "outputs": [
        {
          "output_type": "execute_result",
          "data": {
            "text/plain": [
              "         debt_grouped  debt\n",
              "0   нет задолженности     0\n",
              "1  есть задолженность     1"
            ],
            "text/html": [
              "\n",
              "  <div id=\"df-a0327b00-d626-4bc2-8781-6cf4e71c01a2\">\n",
              "    <div class=\"colab-df-container\">\n",
              "      <div>\n",
              "<style scoped>\n",
              "    .dataframe tbody tr th:only-of-type {\n",
              "        vertical-align: middle;\n",
              "    }\n",
              "\n",
              "    .dataframe tbody tr th {\n",
              "        vertical-align: top;\n",
              "    }\n",
              "\n",
              "    .dataframe thead th {\n",
              "        text-align: right;\n",
              "    }\n",
              "</style>\n",
              "<table border=\"1\" class=\"dataframe\">\n",
              "  <thead>\n",
              "    <tr style=\"text-align: right;\">\n",
              "      <th></th>\n",
              "      <th>debt_grouped</th>\n",
              "      <th>debt</th>\n",
              "    </tr>\n",
              "  </thead>\n",
              "  <tbody>\n",
              "    <tr>\n",
              "      <th>0</th>\n",
              "      <td>нет задолженности</td>\n",
              "      <td>0</td>\n",
              "    </tr>\n",
              "    <tr>\n",
              "      <th>1</th>\n",
              "      <td>есть задолженность</td>\n",
              "      <td>1</td>\n",
              "    </tr>\n",
              "  </tbody>\n",
              "</table>\n",
              "</div>\n",
              "      <button class=\"colab-df-convert\" onclick=\"convertToInteractive('df-a0327b00-d626-4bc2-8781-6cf4e71c01a2')\"\n",
              "              title=\"Convert this dataframe to an interactive table.\"\n",
              "              style=\"display:none;\">\n",
              "        \n",
              "  <svg xmlns=\"http://www.w3.org/2000/svg\" height=\"24px\"viewBox=\"0 0 24 24\"\n",
              "       width=\"24px\">\n",
              "    <path d=\"M0 0h24v24H0V0z\" fill=\"none\"/>\n",
              "    <path d=\"M18.56 5.44l.94 2.06.94-2.06 2.06-.94-2.06-.94-.94-2.06-.94 2.06-2.06.94zm-11 1L8.5 8.5l.94-2.06 2.06-.94-2.06-.94L8.5 2.5l-.94 2.06-2.06.94zm10 10l.94 2.06.94-2.06 2.06-.94-2.06-.94-.94-2.06-.94 2.06-2.06.94z\"/><path d=\"M17.41 7.96l-1.37-1.37c-.4-.4-.92-.59-1.43-.59-.52 0-1.04.2-1.43.59L10.3 9.45l-7.72 7.72c-.78.78-.78 2.05 0 2.83L4 21.41c.39.39.9.59 1.41.59.51 0 1.02-.2 1.41-.59l7.78-7.78 2.81-2.81c.8-.78.8-2.07 0-2.86zM5.41 20L4 18.59l7.72-7.72 1.47 1.35L5.41 20z\"/>\n",
              "  </svg>\n",
              "      </button>\n",
              "      \n",
              "  <style>\n",
              "    .colab-df-container {\n",
              "      display:flex;\n",
              "      flex-wrap:wrap;\n",
              "      gap: 12px;\n",
              "    }\n",
              "\n",
              "    .colab-df-convert {\n",
              "      background-color: #E8F0FE;\n",
              "      border: none;\n",
              "      border-radius: 50%;\n",
              "      cursor: pointer;\n",
              "      display: none;\n",
              "      fill: #1967D2;\n",
              "      height: 32px;\n",
              "      padding: 0 0 0 0;\n",
              "      width: 32px;\n",
              "    }\n",
              "\n",
              "    .colab-df-convert:hover {\n",
              "      background-color: #E2EBFA;\n",
              "      box-shadow: 0px 1px 2px rgba(60, 64, 67, 0.3), 0px 1px 3px 1px rgba(60, 64, 67, 0.15);\n",
              "      fill: #174EA6;\n",
              "    }\n",
              "\n",
              "    [theme=dark] .colab-df-convert {\n",
              "      background-color: #3B4455;\n",
              "      fill: #D2E3FC;\n",
              "    }\n",
              "\n",
              "    [theme=dark] .colab-df-convert:hover {\n",
              "      background-color: #434B5C;\n",
              "      box-shadow: 0px 1px 3px 1px rgba(0, 0, 0, 0.15);\n",
              "      filter: drop-shadow(0px 1px 2px rgba(0, 0, 0, 0.3));\n",
              "      fill: #FFFFFF;\n",
              "    }\n",
              "  </style>\n",
              "\n",
              "      <script>\n",
              "        const buttonEl =\n",
              "          document.querySelector('#df-a0327b00-d626-4bc2-8781-6cf4e71c01a2 button.colab-df-convert');\n",
              "        buttonEl.style.display =\n",
              "          google.colab.kernel.accessAllowed ? 'block' : 'none';\n",
              "\n",
              "        async function convertToInteractive(key) {\n",
              "          const element = document.querySelector('#df-a0327b00-d626-4bc2-8781-6cf4e71c01a2');\n",
              "          const dataTable =\n",
              "            await google.colab.kernel.invokeFunction('convertToInteractive',\n",
              "                                                     [key], {});\n",
              "          if (!dataTable) return;\n",
              "\n",
              "          const docLinkHtml = 'Like what you see? Visit the ' +\n",
              "            '<a target=\"_blank\" href=https://colab.research.google.com/notebooks/data_table.ipynb>data table notebook</a>'\n",
              "            + ' to learn more about interactive tables.';\n",
              "          element.innerHTML = '';\n",
              "          dataTable['output_type'] = 'display_data';\n",
              "          await google.colab.output.renderOutput(dataTable, element);\n",
              "          const docLink = document.createElement('div');\n",
              "          docLink.innerHTML = docLinkHtml;\n",
              "          element.appendChild(docLink);\n",
              "        }\n",
              "      </script>\n",
              "    </div>\n",
              "  </div>\n",
              "  "
            ]
          },
          "metadata": {},
          "execution_count": 115
        }
      ],
      "source": [
        "debt_dict = clients[['debt_grouped', 'debt']] # создание словаря из 2 столбцов\n",
        "debt_dict = debt_dict.drop_duplicates().reset_index(drop=True)\n",
        "debt_dict"
      ]
    },
    {
      "cell_type": "code",
      "execution_count": 116,
      "metadata": {
        "id": "yLV4xlybHSq4",
        "colab": {
          "base_uri": "https://localhost:8080/"
        },
        "outputId": "ea8fc697-fd02-43bf-e462-f3abf0082907"
      },
      "outputs": [
        {
          "output_type": "stream",
          "name": "stdout",
          "text": [
            "<class 'pandas.core.frame.DataFrame'>\n",
            "RangeIndex: 21331 entries, 0 to 21330\n",
            "Data columns (total 16 columns):\n",
            " #   Column                Non-Null Count  Dtype \n",
            "---  ------                --------------  ----- \n",
            " 0   children              21331 non-null  int64 \n",
            " 1   days_employed         21331 non-null  int64 \n",
            " 2   dob_years             21331 non-null  int64 \n",
            " 3   education             21331 non-null  object\n",
            " 4   education_id          21331 non-null  int64 \n",
            " 5   family_status         21331 non-null  object\n",
            " 6   family_status_id      21331 non-null  int64 \n",
            " 7   gender                21331 non-null  object\n",
            " 8   income_type           21331 non-null  object\n",
            " 9   debt                  21331 non-null  int64 \n",
            " 10  total_income          21331 non-null  int64 \n",
            " 11  purpose               21331 non-null  object\n",
            " 12  purpose_grouped       21331 non-null  object\n",
            " 13  children_category     21331 non-null  object\n",
            " 14  total_income_grouped  21331 non-null  object\n",
            " 15  debt_grouped          21331 non-null  object\n",
            "dtypes: int64(7), object(9)\n",
            "memory usage: 2.6+ MB\n"
          ]
        }
      ],
      "source": [
        "clients.reset_index(drop=True).info() # сброс индексов таблицы после удаления строк"
      ]
    },
    {
      "cell_type": "markdown",
      "metadata": {
        "id": "jiqD09wQHSq5"
      },
      "source": [
        "**Вывод**\n",
        "\n",
        "Мы рассмотрели столбцы, необходимые для расчетов, категоризировали данные в них и сгруппировали данные по словарям. \n",
        "\n",
        "Из-за артефактов в столбце с количеством детей пришлось удалить некоторые строки и сбросить индекс таблицы. Осталась 21331 строка.\n",
        "\n",
        "В таком виде данные годятся для анализа."
      ]
    },
    {
      "cell_type": "markdown",
      "metadata": {
        "id": "h_Kk6SS9HSq5"
      },
      "source": [
        "## Шаг 3. Ответы на вопросы проекта"
      ]
    },
    {
      "cell_type": "markdown",
      "metadata": {
        "id": "oZo1ZNIXHSq5"
      },
      "source": [
        "### Есть ли зависимость между наличием детей и возвратом кредита в срок?"
      ]
    },
    {
      "cell_type": "markdown",
      "metadata": {
        "id": "g02jZn8hHSq5"
      },
      "source": [
        "<div class=\"alert alert-info\">\n",
        "<b>Комментарий:</b>\n",
        "<br>В первом вопросе я опишу подробно по шагам свои действия для формирования вывода, а в следующих вопросах буду сразу показывать результаты с выводами, без объяснений по шагам, так как действия повторяются.\n",
        "</div>"
      ]
    },
    {
      "cell_type": "markdown",
      "metadata": {
        "id": "m8N9WIv7HSq6"
      },
      "source": [
        "1. Построим сводную таблицу с параметрами, необходимыми для расчета ответа на вопрос – категория с наличием детей и фактор задолженности:"
      ]
    },
    {
      "cell_type": "code",
      "execution_count": 117,
      "metadata": {
        "id": "Nv_cNeXWHSq6",
        "colab": {
          "base_uri": "https://localhost:8080/",
          "height": 175
        },
        "outputId": "8bb4e6f2-631c-47ca-b9dc-0a2164524f97"
      },
      "outputs": [
        {
          "output_type": "execute_result",
          "data": {
            "text/plain": [
              "debt                   0     1\n",
              "children_category             \n",
              "бездетные          13028  1063\n",
              "многодетные          349    31\n",
              "с 1-2 детьми        6222   638"
            ],
            "text/html": [
              "\n",
              "  <div id=\"df-aaba4809-c890-42cb-91d8-b7b97bcfeefa\">\n",
              "    <div class=\"colab-df-container\">\n",
              "      <div>\n",
              "<style scoped>\n",
              "    .dataframe tbody tr th:only-of-type {\n",
              "        vertical-align: middle;\n",
              "    }\n",
              "\n",
              "    .dataframe tbody tr th {\n",
              "        vertical-align: top;\n",
              "    }\n",
              "\n",
              "    .dataframe thead th {\n",
              "        text-align: right;\n",
              "    }\n",
              "</style>\n",
              "<table border=\"1\" class=\"dataframe\">\n",
              "  <thead>\n",
              "    <tr style=\"text-align: right;\">\n",
              "      <th>debt</th>\n",
              "      <th>0</th>\n",
              "      <th>1</th>\n",
              "    </tr>\n",
              "    <tr>\n",
              "      <th>children_category</th>\n",
              "      <th></th>\n",
              "      <th></th>\n",
              "    </tr>\n",
              "  </thead>\n",
              "  <tbody>\n",
              "    <tr>\n",
              "      <th>бездетные</th>\n",
              "      <td>13028</td>\n",
              "      <td>1063</td>\n",
              "    </tr>\n",
              "    <tr>\n",
              "      <th>многодетные</th>\n",
              "      <td>349</td>\n",
              "      <td>31</td>\n",
              "    </tr>\n",
              "    <tr>\n",
              "      <th>с 1-2 детьми</th>\n",
              "      <td>6222</td>\n",
              "      <td>638</td>\n",
              "    </tr>\n",
              "  </tbody>\n",
              "</table>\n",
              "</div>\n",
              "      <button class=\"colab-df-convert\" onclick=\"convertToInteractive('df-aaba4809-c890-42cb-91d8-b7b97bcfeefa')\"\n",
              "              title=\"Convert this dataframe to an interactive table.\"\n",
              "              style=\"display:none;\">\n",
              "        \n",
              "  <svg xmlns=\"http://www.w3.org/2000/svg\" height=\"24px\"viewBox=\"0 0 24 24\"\n",
              "       width=\"24px\">\n",
              "    <path d=\"M0 0h24v24H0V0z\" fill=\"none\"/>\n",
              "    <path d=\"M18.56 5.44l.94 2.06.94-2.06 2.06-.94-2.06-.94-.94-2.06-.94 2.06-2.06.94zm-11 1L8.5 8.5l.94-2.06 2.06-.94-2.06-.94L8.5 2.5l-.94 2.06-2.06.94zm10 10l.94 2.06.94-2.06 2.06-.94-2.06-.94-.94-2.06-.94 2.06-2.06.94z\"/><path d=\"M17.41 7.96l-1.37-1.37c-.4-.4-.92-.59-1.43-.59-.52 0-1.04.2-1.43.59L10.3 9.45l-7.72 7.72c-.78.78-.78 2.05 0 2.83L4 21.41c.39.39.9.59 1.41.59.51 0 1.02-.2 1.41-.59l7.78-7.78 2.81-2.81c.8-.78.8-2.07 0-2.86zM5.41 20L4 18.59l7.72-7.72 1.47 1.35L5.41 20z\"/>\n",
              "  </svg>\n",
              "      </button>\n",
              "      \n",
              "  <style>\n",
              "    .colab-df-container {\n",
              "      display:flex;\n",
              "      flex-wrap:wrap;\n",
              "      gap: 12px;\n",
              "    }\n",
              "\n",
              "    .colab-df-convert {\n",
              "      background-color: #E8F0FE;\n",
              "      border: none;\n",
              "      border-radius: 50%;\n",
              "      cursor: pointer;\n",
              "      display: none;\n",
              "      fill: #1967D2;\n",
              "      height: 32px;\n",
              "      padding: 0 0 0 0;\n",
              "      width: 32px;\n",
              "    }\n",
              "\n",
              "    .colab-df-convert:hover {\n",
              "      background-color: #E2EBFA;\n",
              "      box-shadow: 0px 1px 2px rgba(60, 64, 67, 0.3), 0px 1px 3px 1px rgba(60, 64, 67, 0.15);\n",
              "      fill: #174EA6;\n",
              "    }\n",
              "\n",
              "    [theme=dark] .colab-df-convert {\n",
              "      background-color: #3B4455;\n",
              "      fill: #D2E3FC;\n",
              "    }\n",
              "\n",
              "    [theme=dark] .colab-df-convert:hover {\n",
              "      background-color: #434B5C;\n",
              "      box-shadow: 0px 1px 3px 1px rgba(0, 0, 0, 0.15);\n",
              "      filter: drop-shadow(0px 1px 2px rgba(0, 0, 0, 0.3));\n",
              "      fill: #FFFFFF;\n",
              "    }\n",
              "  </style>\n",
              "\n",
              "      <script>\n",
              "        const buttonEl =\n",
              "          document.querySelector('#df-aaba4809-c890-42cb-91d8-b7b97bcfeefa button.colab-df-convert');\n",
              "        buttonEl.style.display =\n",
              "          google.colab.kernel.accessAllowed ? 'block' : 'none';\n",
              "\n",
              "        async function convertToInteractive(key) {\n",
              "          const element = document.querySelector('#df-aaba4809-c890-42cb-91d8-b7b97bcfeefa');\n",
              "          const dataTable =\n",
              "            await google.colab.kernel.invokeFunction('convertToInteractive',\n",
              "                                                     [key], {});\n",
              "          if (!dataTable) return;\n",
              "\n",
              "          const docLinkHtml = 'Like what you see? Visit the ' +\n",
              "            '<a target=\"_blank\" href=https://colab.research.google.com/notebooks/data_table.ipynb>data table notebook</a>'\n",
              "            + ' to learn more about interactive tables.';\n",
              "          element.innerHTML = '';\n",
              "          dataTable['output_type'] = 'display_data';\n",
              "          await google.colab.output.renderOutput(dataTable, element);\n",
              "          const docLink = document.createElement('div');\n",
              "          docLink.innerHTML = docLinkHtml;\n",
              "          element.appendChild(docLink);\n",
              "        }\n",
              "      </script>\n",
              "    </div>\n",
              "  </div>\n",
              "  "
            ]
          },
          "metadata": {},
          "execution_count": 117
        }
      ],
      "source": [
        "children_pivot = clients.pivot_table(index=['children_category'], columns='debt', values='children', aggfunc='count')\n",
        "children_pivot"
      ]
    },
    {
      "cell_type": "markdown",
      "metadata": {
        "id": "v_egdz3WHSq6"
      },
      "source": [
        "2. Создадим функцию, которая будет считать процент задолженностей для каждой исследуемой категории. Ее мы будем вызывать и в последующих шагах:"
      ]
    },
    {
      "cell_type": "code",
      "execution_count": 118,
      "metadata": {
        "id": "bMfIcPyZHSq6"
      },
      "outputs": [],
      "source": [
        "def research_result(pivot):\n",
        "    pivot['debt_ratio'] = (pivot[1] / (pivot[0] + pivot[1])) * 100\n",
        "    return pivot.sort_values('debt_ratio', ascending=True)\n",
        "\n",
        "# считаем долю клиентов с задолженностью для каждой исследуемой категории и выводим отсортированную по возрастанию доли таблицу"
      ]
    },
    {
      "cell_type": "markdown",
      "metadata": {
        "id": "qshjLP2qHSq6"
      },
      "source": [
        "3. Создадим новую таблицу, вызвав функцию и передав аргументом сводную таблицу из 1 шага:"
      ]
    },
    {
      "cell_type": "code",
      "execution_count": 119,
      "metadata": {
        "id": "EsnIxD9jHSq6"
      },
      "outputs": [],
      "source": [
        "research_children = research_result(children_pivot)"
      ]
    },
    {
      "cell_type": "markdown",
      "metadata": {
        "id": "S18FvRHfHSq6"
      },
      "source": [
        "4. Построим столбчатую диаграмму, передавая в ось x значения с процентом задолженностей, а в ось y - значения исследуемой категории:"
      ]
    },
    {
      "cell_type": "code",
      "execution_count": 120,
      "metadata": {
        "scrolled": true,
        "id": "i7s5sT99HSq6",
        "colab": {
          "base_uri": "https://localhost:8080/",
          "height": 284
        },
        "outputId": "e376078c-73d8-4b4d-db6d-3b130cddb56e"
      },
      "outputs": [
        {
          "output_type": "display_data",
          "data": {
            "text/plain": [
              "<Figure size 432x288 with 1 Axes>"
            ],
            "image/png": "[encoded data removed]"
          },
          "metadata": {
            "image/png": {
              "width": 453,
              "height": 267
            }
          }
        }
      ],
      "source": [
        "sns.barplot(x=\"debt_ratio\", y=research_result(children_pivot).index, data=research_result(children_pivot), palette=\"coolwarm\");\n",
        "\n",
        "# строим график зависимости процента задолженности от наличия детей"
      ]
    },
    {
      "cell_type": "markdown",
      "metadata": {
        "id": "ZF4vBmb7HSq7"
      },
      "source": [
        "На самом верху диаграммы находится самая ответственная группа заемщиков – отмечена холодным синим цветом. У нее самая низкая доля задолженностей среди всех займов по группе.\n",
        "\n",
        "В самом низу диаграммы находятся заемщики с самым высоким процентом задолженностей – отмечены красным цветом. У нее самая большая доля задолженностей среди всех займов по группе."
      ]
    },
    {
      "cell_type": "markdown",
      "metadata": {
        "id": "LQ0NvBauHSq7"
      },
      "source": [
        "5. Выведем средний коэфициент задолженности по всей выборке, чтобы сравнивать полученные значения с ним:"
      ]
    },
    {
      "cell_type": "code",
      "execution_count": 121,
      "metadata": {
        "id": "k28YhcJWHSq7",
        "colab": {
          "base_uri": "https://localhost:8080/"
        },
        "outputId": "4a296e84-b76d-49b9-e393-49a533ae37a2"
      },
      "outputs": [
        {
          "output_type": "stream",
          "name": "stdout",
          "text": [
            "Средний процент задолженности по кредитам для всей выборки: 8.12%\n"
          ]
        }
      ],
      "source": [
        "debt_mean = (clients['debt'].mean()) * 100\n",
        "print('Средний процент задолженности по кредитам для всей выборки: {:.2f}%'.format(debt_mean))"
      ]
    },
    {
      "cell_type": "markdown",
      "metadata": {
        "id": "4sFzYR6XHSq7"
      },
      "source": [
        "6. Напишем функцию, которая сравнит процент задолженности в категории со средним:"
      ]
    },
    {
      "cell_type": "code",
      "execution_count": 122,
      "metadata": {
        "id": "Fs5NULo6HSq7"
      },
      "outputs": [],
      "source": [
        "def debt_research(table):\n",
        "    for idx, row in table.iterrows():\n",
        "        row['children_category'] = idx\n",
        "        debt_ratio = format(row['debt_ratio'], '.2f')\n",
        "        if row['debt_ratio'] <= debt_mean:\n",
        "            print('В категории \"{idx}\" задолженность составляет {debt_ratio}%. Это меньше среднего значения по выборке.'.format(idx=idx, debt_ratio=debt_ratio))  \n",
        "        else:\n",
        "            print('В категории \"{idx}\" задолженность составляет {debt_ratio}%. Это БОЛЬШЕ среднего значения по выборке.'.format(idx=idx, debt_ratio=debt_ratio))\n"
      ]
    },
    {
      "cell_type": "code",
      "execution_count": 123,
      "metadata": {
        "id": "WR6K3-rAHSq7",
        "colab": {
          "base_uri": "https://localhost:8080/"
        },
        "outputId": "e9420e08-073a-4404-8b6e-21a3a428b0d1"
      },
      "outputs": [
        {
          "output_type": "stream",
          "name": "stdout",
          "text": [
            "В категории \"бездетные\" задолженность составляет 7.54%. Это меньше среднего значения по выборке.\n",
            "В категории \"многодетные\" задолженность составляет 8.16%. Это БОЛЬШЕ среднего значения по выборке.\n",
            "В категории \"с 1-2 детьми\" задолженность составляет 9.30%. Это БОЛЬШЕ среднего значения по выборке.\n"
          ]
        }
      ],
      "source": [
        "debt_research(research_children) # применение функции к таблице research_children"
      ]
    },
    {
      "cell_type": "markdown",
      "metadata": {
        "id": "cA_-zqUzHSq7"
      },
      "source": [
        "**Вывод**\n",
        "\n",
        "На диаграмме видно, что значения задолженности в категориях значительно отличаются. <br><br>\n",
        "Также мы определили, что в некоторых категориях присутствуют отклонения в большую сторону от среднего значения по выборке.<br>\n",
        "Это категории семей с детьми.<br>\n",
        "Самый благоприятный (низкий) процент задолженности у клиентов категории \"бездетные\".\n",
        "\n",
        "\n",
        "Таким образом, можно утверждать, что зависимость между количеством детей в семье и возвратом кредита в срок **есть**."
      ]
    },
    {
      "cell_type": "markdown",
      "metadata": {
        "id": "AwJaS759HSq8"
      },
      "source": [
        "<div class=\"alert alert-info\">\n",
        "<b>Комментарий:</b>\n",
        "<br>Здесь я даже боюсь строить гипотезы. Казалось, что наоборот – люди без детей имеют более высокий процент рисков. Оказывается, наоборот.<br>\n",
        "    Может быть это связано с наличием свободного времени у бездетных на расчет бюджетов? Или с большей вероятностью непредвиденных расходов у семей с детьми (болезнь, покупка одежды, ремонт), которые могут помешать оплате кредита в срок.<br><br> Если данные предоставлены реальные, то очень интересно узнать мнение настоящих аналитиков, почему получились такие цифры.\n",
        "</div>"
      ]
    },
    {
      "cell_type": "markdown",
      "metadata": {
        "id": "yW14AspfHSq8"
      },
      "source": [
        "### Есть ли зависимость между семейным положением и возвратом кредита в срок?"
      ]
    },
    {
      "cell_type": "code",
      "execution_count": 124,
      "metadata": {
        "id": "ZzrZXF-WHSq8",
        "colab": {
          "base_uri": "https://localhost:8080/",
          "height": 238
        },
        "outputId": "c013856b-4745-47e7-a378-08ecd8cf29b8"
      },
      "outputs": [
        {
          "output_type": "execute_result",
          "data": {
            "text/plain": [
              "debt                       0    1  debt_ratio\n",
              "family_status                                \n",
              "вдовец / вдова           888   63        6.62\n",
              "в разводе               1105   84        7.06\n",
              "женат / замужем        11334  927        7.56\n",
              "гражданский брак        3749  385        9.31\n",
              "не женат / не замужем   2523  273        9.76"
            ],
            "text/html": [
              "\n",
              "  <div id=\"df-9c80e1c4-8e4d-42d7-8b66-d5a52d61fe88\">\n",
              "    <div class=\"colab-df-container\">\n",
              "      <div>\n",
              "<style scoped>\n",
              "    .dataframe tbody tr th:only-of-type {\n",
              "        vertical-align: middle;\n",
              "    }\n",
              "\n",
              "    .dataframe tbody tr th {\n",
              "        vertical-align: top;\n",
              "    }\n",
              "\n",
              "    .dataframe thead th {\n",
              "        text-align: right;\n",
              "    }\n",
              "</style>\n",
              "<table border=\"1\" class=\"dataframe\">\n",
              "  <thead>\n",
              "    <tr style=\"text-align: right;\">\n",
              "      <th>debt</th>\n",
              "      <th>0</th>\n",
              "      <th>1</th>\n",
              "      <th>debt_ratio</th>\n",
              "    </tr>\n",
              "    <tr>\n",
              "      <th>family_status</th>\n",
              "      <th></th>\n",
              "      <th></th>\n",
              "      <th></th>\n",
              "    </tr>\n",
              "  </thead>\n",
              "  <tbody>\n",
              "    <tr>\n",
              "      <th>вдовец / вдова</th>\n",
              "      <td>888</td>\n",
              "      <td>63</td>\n",
              "      <td>6.62</td>\n",
              "    </tr>\n",
              "    <tr>\n",
              "      <th>в разводе</th>\n",
              "      <td>1105</td>\n",
              "      <td>84</td>\n",
              "      <td>7.06</td>\n",
              "    </tr>\n",
              "    <tr>\n",
              "      <th>женат / замужем</th>\n",
              "      <td>11334</td>\n",
              "      <td>927</td>\n",
              "      <td>7.56</td>\n",
              "    </tr>\n",
              "    <tr>\n",
              "      <th>гражданский брак</th>\n",
              "      <td>3749</td>\n",
              "      <td>385</td>\n",
              "      <td>9.31</td>\n",
              "    </tr>\n",
              "    <tr>\n",
              "      <th>не женат / не замужем</th>\n",
              "      <td>2523</td>\n",
              "      <td>273</td>\n",
              "      <td>9.76</td>\n",
              "    </tr>\n",
              "  </tbody>\n",
              "</table>\n",
              "</div>\n",
              "      <button class=\"colab-df-convert\" onclick=\"convertToInteractive('df-9c80e1c4-8e4d-42d7-8b66-d5a52d61fe88')\"\n",
              "              title=\"Convert this dataframe to an interactive table.\"\n",
              "              style=\"display:none;\">\n",
              "        \n",
              "  <svg xmlns=\"http://www.w3.org/2000/svg\" height=\"24px\"viewBox=\"0 0 24 24\"\n",
              "       width=\"24px\">\n",
              "    <path d=\"M0 0h24v24H0V0z\" fill=\"none\"/>\n",
              "    <path d=\"M18.56 5.44l.94 2.06.94-2.06 2.06-.94-2.06-.94-.94-2.06-.94 2.06-2.06.94zm-11 1L8.5 8.5l.94-2.06 2.06-.94-2.06-.94L8.5 2.5l-.94 2.06-2.06.94zm10 10l.94 2.06.94-2.06 2.06-.94-2.06-.94-.94-2.06-.94 2.06-2.06.94z\"/><path d=\"M17.41 7.96l-1.37-1.37c-.4-.4-.92-.59-1.43-.59-.52 0-1.04.2-1.43.59L10.3 9.45l-7.72 7.72c-.78.78-.78 2.05 0 2.83L4 21.41c.39.39.9.59 1.41.59.51 0 1.02-.2 1.41-.59l7.78-7.78 2.81-2.81c.8-.78.8-2.07 0-2.86zM5.41 20L4 18.59l7.72-7.72 1.47 1.35L5.41 20z\"/>\n",
              "  </svg>\n",
              "      </button>\n",
              "      \n",
              "  <style>\n",
              "    .colab-df-container {\n",
              "      display:flex;\n",
              "      flex-wrap:wrap;\n",
              "      gap: 12px;\n",
              "    }\n",
              "\n",
              "    .colab-df-convert {\n",
              "      background-color: #E8F0FE;\n",
              "      border: none;\n",
              "      border-radius: 50%;\n",
              "      cursor: pointer;\n",
              "      display: none;\n",
              "      fill: #1967D2;\n",
              "      height: 32px;\n",
              "      padding: 0 0 0 0;\n",
              "      width: 32px;\n",
              "    }\n",
              "\n",
              "    .colab-df-convert:hover {\n",
              "      background-color: #E2EBFA;\n",
              "      box-shadow: 0px 1px 2px rgba(60, 64, 67, 0.3), 0px 1px 3px 1px rgba(60, 64, 67, 0.15);\n",
              "      fill: #174EA6;\n",
              "    }\n",
              "\n",
              "    [theme=dark] .colab-df-convert {\n",
              "      background-color: #3B4455;\n",
              "      fill: #D2E3FC;\n",
              "    }\n",
              "\n",
              "    [theme=dark] .colab-df-convert:hover {\n",
              "      background-color: #434B5C;\n",
              "      box-shadow: 0px 1px 3px 1px rgba(0, 0, 0, 0.15);\n",
              "      filter: drop-shadow(0px 1px 2px rgba(0, 0, 0, 0.3));\n",
              "      fill: #FFFFFF;\n",
              "    }\n",
              "  </style>\n",
              "\n",
              "      <script>\n",
              "        const buttonEl =\n",
              "          document.querySelector('#df-9c80e1c4-8e4d-42d7-8b66-d5a52d61fe88 button.colab-df-convert');\n",
              "        buttonEl.style.display =\n",
              "          google.colab.kernel.accessAllowed ? 'block' : 'none';\n",
              "\n",
              "        async function convertToInteractive(key) {\n",
              "          const element = document.querySelector('#df-9c80e1c4-8e4d-42d7-8b66-d5a52d61fe88');\n",
              "          const dataTable =\n",
              "            await google.colab.kernel.invokeFunction('convertToInteractive',\n",
              "                                                     [key], {});\n",
              "          if (!dataTable) return;\n",
              "\n",
              "          const docLinkHtml = 'Like what you see? Visit the ' +\n",
              "            '<a target=\"_blank\" href=https://colab.research.google.com/notebooks/data_table.ipynb>data table notebook</a>'\n",
              "            + ' to learn more about interactive tables.';\n",
              "          element.innerHTML = '';\n",
              "          dataTable['output_type'] = 'display_data';\n",
              "          await google.colab.output.renderOutput(dataTable, element);\n",
              "          const docLink = document.createElement('div');\n",
              "          docLink.innerHTML = docLinkHtml;\n",
              "          element.appendChild(docLink);\n",
              "        }\n",
              "      </script>\n",
              "    </div>\n",
              "  </div>\n",
              "  "
            ]
          },
          "metadata": {},
          "execution_count": 124
        }
      ],
      "source": [
        "family_pivot = clients.pivot_table(index=['family_status'], columns='debt', values = 'children', aggfunc='count')\n",
        "research_family = research_result(family_pivot)\n",
        "research_family"
      ]
    },
    {
      "cell_type": "code",
      "execution_count": 125,
      "metadata": {
        "id": "CnH-VVuAHSq8",
        "colab": {
          "base_uri": "https://localhost:8080/",
          "height": 284
        },
        "outputId": "dd6c4eb3-8b96-40b3-e6ef-7b012883b7f4"
      },
      "outputs": [
        {
          "output_type": "display_data",
          "data": {
            "text/plain": [
              "<Figure size 432x288 with 1 Axes>"
            ],
            "image/png": "[encoded data removed]"
          },
          "metadata": {
            "image/png": {
              "width": 510,
              "height": 267
            }
          }
        }
      ],
      "source": [
        "sns.barplot(x=\"debt_ratio\", y=research_result(research_family).index, data=research_result(research_family), palette=\"coolwarm\");"
      ]
    },
    {
      "cell_type": "code",
      "execution_count": 126,
      "metadata": {
        "id": "cxXWyl34HSq8",
        "colab": {
          "base_uri": "https://localhost:8080/"
        },
        "outputId": "07c107c4-c229-4b34-948f-192a1b580d53"
      },
      "outputs": [
        {
          "output_type": "stream",
          "name": "stdout",
          "text": [
            "В категории \"вдовец / вдова\" задолженность составляет 6.62%. Это меньше среднего значения по выборке.\n",
            "В категории \"в разводе\" задолженность составляет 7.06%. Это меньше среднего значения по выборке.\n",
            "В категории \"женат / замужем\" задолженность составляет 7.56%. Это меньше среднего значения по выборке.\n",
            "В категории \"гражданский брак\" задолженность составляет 9.31%. Это БОЛЬШЕ среднего значения по выборке.\n",
            "В категории \"не женат / не замужем\" задолженность составляет 9.76%. Это БОЛЬШЕ среднего значения по выборке.\n"
          ]
        }
      ],
      "source": [
        "debt_research(research_family)"
      ]
    },
    {
      "cell_type": "markdown",
      "metadata": {
        "id": "CXqBFgSeHSq9"
      },
      "source": [
        "**Вывод**\n",
        "\n",
        "На диаграмме видно, что значения задолженности в категориях значительно отличаются. <br><br>\n",
        "Также мы определили, что в некоторых категориях присутствуют отклонения в большую сторону от среднего значения по выборке.<br>\n",
        "Это категории с семейным положением \"гражданский брак\" и \"не женат / не замужем\".<br>\n",
        "Самый благоприятный (низкий) процент задолженности у клиентов категории \"вдовец / вдова\".\n",
        "\n",
        "\n",
        "Таким образом, можно утверждать, что зависимость между семейным положением и возвратом кредита в срок **есть**."
      ]
    },
    {
      "cell_type": "markdown",
      "metadata": {
        "id": "pzlmU6ZiHSq9"
      },
      "source": [
        "<div class=\"alert alert-info\">\n",
        "<b>Комментарий:</b>\n",
        "<br>Есть гипотеза, что высокий процент долгов у неженатых может быть связан с пониженным уровнем социальной ответственности – они отвечают персонально за себя, но не за семью, поэтому могут себе позволить погрешности.<br>\n",
        "У женатых людей есть поддержка от супруга – многие семьи кредиты выплачивают вместе.<br><br>\n",
        "Насчет овдовевших и разведенных гипотез нет – разве что это в целом более зрелые люди, как по уровню ответственности, так и по возрасту. Тут уже нужно глубже смотреть корреляции с другими метриками – возрастом, целью кредита, наличием детей, уровнем зп и т.д.<br><br>\n",
        "Вообще, это интересная тема для социологического исследования :)\n",
        "</div>"
      ]
    },
    {
      "cell_type": "markdown",
      "metadata": {
        "id": "-i7IYvlZHSq9"
      },
      "source": [
        "### Есть ли зависимость между уровнем дохода и возвратом кредита в срок?"
      ]
    },
    {
      "cell_type": "code",
      "execution_count": 127,
      "metadata": {
        "id": "If-3swtqHSq9",
        "colab": {
          "base_uri": "https://localhost:8080/",
          "height": 238
        },
        "outputId": "f6769261-e8e5-4c70-ccda-f99bfece0665"
      },
      "outputs": [
        {
          "output_type": "execute_result",
          "data": {
            "text/plain": [
              "debt                     0    1  debt_ratio\n",
              "total_income_grouped                       \n",
              "до 50 тысяч            348   23        6.20\n",
              "от 200 и выше         4683  356        7.06\n",
              "от 50 до 100          3742  331        8.13\n",
              "от 150 до 200         4335  403        8.51\n",
              "от 100 до 150         6491  619        8.71"
            ],
            "text/html": [
              "\n",
              "  <div id=\"df-1c26f76c-2319-424c-91e8-7c7ca48b3b17\">\n",
              "    <div class=\"colab-df-container\">\n",
              "      <div>\n",
              "<style scoped>\n",
              "    .dataframe tbody tr th:only-of-type {\n",
              "        vertical-align: middle;\n",
              "    }\n",
              "\n",
              "    .dataframe tbody tr th {\n",
              "        vertical-align: top;\n",
              "    }\n",
              "\n",
              "    .dataframe thead th {\n",
              "        text-align: right;\n",
              "    }\n",
              "</style>\n",
              "<table border=\"1\" class=\"dataframe\">\n",
              "  <thead>\n",
              "    <tr style=\"text-align: right;\">\n",
              "      <th>debt</th>\n",
              "      <th>0</th>\n",
              "      <th>1</th>\n",
              "      <th>debt_ratio</th>\n",
              "    </tr>\n",
              "    <tr>\n",
              "      <th>total_income_grouped</th>\n",
              "      <th></th>\n",
              "      <th></th>\n",
              "      <th></th>\n",
              "    </tr>\n",
              "  </thead>\n",
              "  <tbody>\n",
              "    <tr>\n",
              "      <th>до 50 тысяч</th>\n",
              "      <td>348</td>\n",
              "      <td>23</td>\n",
              "      <td>6.20</td>\n",
              "    </tr>\n",
              "    <tr>\n",
              "      <th>от 200 и выше</th>\n",
              "      <td>4683</td>\n",
              "      <td>356</td>\n",
              "      <td>7.06</td>\n",
              "    </tr>\n",
              "    <tr>\n",
              "      <th>от 50 до 100</th>\n",
              "      <td>3742</td>\n",
              "      <td>331</td>\n",
              "      <td>8.13</td>\n",
              "    </tr>\n",
              "    <tr>\n",
              "      <th>от 150 до 200</th>\n",
              "      <td>4335</td>\n",
              "      <td>403</td>\n",
              "      <td>8.51</td>\n",
              "    </tr>\n",
              "    <tr>\n",
              "      <th>от 100 до 150</th>\n",
              "      <td>6491</td>\n",
              "      <td>619</td>\n",
              "      <td>8.71</td>\n",
              "    </tr>\n",
              "  </tbody>\n",
              "</table>\n",
              "</div>\n",
              "      <button class=\"colab-df-convert\" onclick=\"convertToInteractive('df-1c26f76c-2319-424c-91e8-7c7ca48b3b17')\"\n",
              "              title=\"Convert this dataframe to an interactive table.\"\n",
              "              style=\"display:none;\">\n",
              "        \n",
              "  <svg xmlns=\"http://www.w3.org/2000/svg\" height=\"24px\"viewBox=\"0 0 24 24\"\n",
              "       width=\"24px\">\n",
              "    <path d=\"M0 0h24v24H0V0z\" fill=\"none\"/>\n",
              "    <path d=\"M18.56 5.44l.94 2.06.94-2.06 2.06-.94-2.06-.94-.94-2.06-.94 2.06-2.06.94zm-11 1L8.5 8.5l.94-2.06 2.06-.94-2.06-.94L8.5 2.5l-.94 2.06-2.06.94zm10 10l.94 2.06.94-2.06 2.06-.94-2.06-.94-.94-2.06-.94 2.06-2.06.94z\"/><path d=\"M17.41 7.96l-1.37-1.37c-.4-.4-.92-.59-1.43-.59-.52 0-1.04.2-1.43.59L10.3 9.45l-7.72 7.72c-.78.78-.78 2.05 0 2.83L4 21.41c.39.39.9.59 1.41.59.51 0 1.02-.2 1.41-.59l7.78-7.78 2.81-2.81c.8-.78.8-2.07 0-2.86zM5.41 20L4 18.59l7.72-7.72 1.47 1.35L5.41 20z\"/>\n",
              "  </svg>\n",
              "      </button>\n",
              "      \n",
              "  <style>\n",
              "    .colab-df-container {\n",
              "      display:flex;\n",
              "      flex-wrap:wrap;\n",
              "      gap: 12px;\n",
              "    }\n",
              "\n",
              "    .colab-df-convert {\n",
              "      background-color: #E8F0FE;\n",
              "      border: none;\n",
              "      border-radius: 50%;\n",
              "      cursor: pointer;\n",
              "      display: none;\n",
              "      fill: #1967D2;\n",
              "      height: 32px;\n",
              "      padding: 0 0 0 0;\n",
              "      width: 32px;\n",
              "    }\n",
              "\n",
              "    .colab-df-convert:hover {\n",
              "      background-color: #E2EBFA;\n",
              "      box-shadow: 0px 1px 2px rgba(60, 64, 67, 0.3), 0px 1px 3px 1px rgba(60, 64, 67, 0.15);\n",
              "      fill: #174EA6;\n",
              "    }\n",
              "\n",
              "    [theme=dark] .colab-df-convert {\n",
              "      background-color: #3B4455;\n",
              "      fill: #D2E3FC;\n",
              "    }\n",
              "\n",
              "    [theme=dark] .colab-df-convert:hover {\n",
              "      background-color: #434B5C;\n",
              "      box-shadow: 0px 1px 3px 1px rgba(0, 0, 0, 0.15);\n",
              "      filter: drop-shadow(0px 1px 2px rgba(0, 0, 0, 0.3));\n",
              "      fill: #FFFFFF;\n",
              "    }\n",
              "  </style>\n",
              "\n",
              "      <script>\n",
              "        const buttonEl =\n",
              "          document.querySelector('#df-1c26f76c-2319-424c-91e8-7c7ca48b3b17 button.colab-df-convert');\n",
              "        buttonEl.style.display =\n",
              "          google.colab.kernel.accessAllowed ? 'block' : 'none';\n",
              "\n",
              "        async function convertToInteractive(key) {\n",
              "          const element = document.querySelector('#df-1c26f76c-2319-424c-91e8-7c7ca48b3b17');\n",
              "          const dataTable =\n",
              "            await google.colab.kernel.invokeFunction('convertToInteractive',\n",
              "                                                     [key], {});\n",
              "          if (!dataTable) return;\n",
              "\n",
              "          const docLinkHtml = 'Like what you see? Visit the ' +\n",
              "            '<a target=\"_blank\" href=https://colab.research.google.com/notebooks/data_table.ipynb>data table notebook</a>'\n",
              "            + ' to learn more about interactive tables.';\n",
              "          element.innerHTML = '';\n",
              "          dataTable['output_type'] = 'display_data';\n",
              "          await google.colab.output.renderOutput(dataTable, element);\n",
              "          const docLink = document.createElement('div');\n",
              "          docLink.innerHTML = docLinkHtml;\n",
              "          element.appendChild(docLink);\n",
              "        }\n",
              "      </script>\n",
              "    </div>\n",
              "  </div>\n",
              "  "
            ]
          },
          "metadata": {},
          "execution_count": 127
        }
      ],
      "source": [
        "income_pivot = clients.pivot_table(index=['total_income_grouped'], columns='debt', values = 'children', aggfunc='count')\n",
        "research_income = research_result(income_pivot)\n",
        "research_income"
      ]
    },
    {
      "cell_type": "code",
      "execution_count": 128,
      "metadata": {
        "id": "YdnIjD2IHSq9",
        "colab": {
          "base_uri": "https://localhost:8080/",
          "height": 284
        },
        "outputId": "ab715fb6-7cda-418a-ad01-80b2d20aa312"
      },
      "outputs": [
        {
          "output_type": "display_data",
          "data": {
            "text/plain": [
              "<Figure size 432x288 with 1 Axes>"
            ],
            "image/png": "[encoded data removed]"
          },
          "metadata": {
            "image/png": {
              "width": 459,
              "height": 267
            }
          }
        }
      ],
      "source": [
        "sns.barplot(x=\"debt_ratio\", y=research_income.index, data=research_income, palette=\"coolwarm\");"
      ]
    },
    {
      "cell_type": "code",
      "execution_count": 129,
      "metadata": {
        "id": "waL2wZI-HSq-",
        "colab": {
          "base_uri": "https://localhost:8080/"
        },
        "outputId": "e498d232-5d55-47bf-c6b4-0d04e9134d81"
      },
      "outputs": [
        {
          "output_type": "stream",
          "name": "stdout",
          "text": [
            "В категории \"до 50 тысяч\" задолженность составляет 6.20%. Это меньше среднего значения по выборке.\n",
            "В категории \"от 200 и выше\" задолженность составляет 7.06%. Это меньше среднего значения по выборке.\n",
            "В категории \"от 50 до 100\" задолженность составляет 8.13%. Это БОЛЬШЕ среднего значения по выборке.\n",
            "В категории \"от 150 до 200\" задолженность составляет 8.51%. Это БОЛЬШЕ среднего значения по выборке.\n",
            "В категории \"от 100 до 150\" задолженность составляет 8.71%. Это БОЛЬШЕ среднего значения по выборке.\n"
          ]
        }
      ],
      "source": [
        "debt_research(research_income)"
      ]
    },
    {
      "cell_type": "markdown",
      "metadata": {
        "id": "AoU9B8cBHSq-"
      },
      "source": [
        "**Вывод**\n",
        "\n",
        "На диаграмме видно, что значения задолженности в категориях значительно отличаются. <br><br>\n",
        "Также мы определили, что в некоторых категориях присутствуют отклонения в большую сторону от среднего значения по выборке.<br>\n",
        "Это категории с уровнем дохода \"от 50 до 100\", \"от 100 до 150\" и \"от 150 до 200\".<br>\n",
        "Самый благоприятный (низкий) процент задолженности у клиентов с доходом \"до 50 тысяч\".\n",
        "\n",
        "\n",
        "Таким образом, можно утверждать, что зависимость между уровнем дохода и возвратом кредита в срок **есть**."
      ]
    },
    {
      "cell_type": "markdown",
      "metadata": {
        "id": "JJ-flutnHSq-"
      },
      "source": [
        "<div class=\"alert alert-info\">\n",
        "<b>Комментарий:</b>\n",
        "Предположу, что люди с низким доходом более педантичны в расчетах бюджетов, стараются не допустить лишних расходов – пени и штрафов. <br><br>\n",
        "Категория со средним доходом получилась довольно объемная, туда входят очень разные типажи личностей и демографические портреты. В целом в этом сегменте наверняка кредиты распространены и часты. Возможно даже берут сразу несколько кредитов, за которыми сложно следить. Но и штрафы/пени не так критичны, если доход позволяет. Поэтому относятся к этому более беспечно.<br><br>\n",
        "Тут тоже интересно бы посмотреть корреляцию с другими метриками, в том числе которых в файле нет (например, интерсно количество открытых кредитов на 1 клиента).\n",
        "</div>"
      ]
    },
    {
      "cell_type": "markdown",
      "metadata": {
        "id": "UHBz5_WKHSq-"
      },
      "source": [
        "### Как разные цели кредита влияют на его возврат в срок?"
      ]
    },
    {
      "cell_type": "code",
      "execution_count": 130,
      "metadata": {
        "id": "EsvixqluHSq-",
        "colab": {
          "base_uri": "https://localhost:8080/",
          "height": 238
        },
        "outputId": "fdf2598e-c051-484a-cb01-a072980cc466"
      },
      "outputs": [
        {
          "output_type": "execute_result",
          "data": {
            "text/plain": [
              "debt                          0    1  debt_ratio\n",
              "purpose_grouped                                 \n",
              "жилая недвижимость         8766  682        7.22\n",
              "коммерческая недвижимость  1205   98        7.52\n",
              "свадьба                    2130  183        7.91\n",
              "образование                3619  369        9.25\n",
              "автомобиль                 3879  400        9.35"
            ],
            "text/html": [
              "\n",
              "  <div id=\"df-45c3ab4f-f2da-4bbb-a9e5-af88ed212e5d\">\n",
              "    <div class=\"colab-df-container\">\n",
              "      <div>\n",
              "<style scoped>\n",
              "    .dataframe tbody tr th:only-of-type {\n",
              "        vertical-align: middle;\n",
              "    }\n",
              "\n",
              "    .dataframe tbody tr th {\n",
              "        vertical-align: top;\n",
              "    }\n",
              "\n",
              "    .dataframe thead th {\n",
              "        text-align: right;\n",
              "    }\n",
              "</style>\n",
              "<table border=\"1\" class=\"dataframe\">\n",
              "  <thead>\n",
              "    <tr style=\"text-align: right;\">\n",
              "      <th>debt</th>\n",
              "      <th>0</th>\n",
              "      <th>1</th>\n",
              "      <th>debt_ratio</th>\n",
              "    </tr>\n",
              "    <tr>\n",
              "      <th>purpose_grouped</th>\n",
              "      <th></th>\n",
              "      <th></th>\n",
              "      <th></th>\n",
              "    </tr>\n",
              "  </thead>\n",
              "  <tbody>\n",
              "    <tr>\n",
              "      <th>жилая недвижимость</th>\n",
              "      <td>8766</td>\n",
              "      <td>682</td>\n",
              "      <td>7.22</td>\n",
              "    </tr>\n",
              "    <tr>\n",
              "      <th>коммерческая недвижимость</th>\n",
              "      <td>1205</td>\n",
              "      <td>98</td>\n",
              "      <td>7.52</td>\n",
              "    </tr>\n",
              "    <tr>\n",
              "      <th>свадьба</th>\n",
              "      <td>2130</td>\n",
              "      <td>183</td>\n",
              "      <td>7.91</td>\n",
              "    </tr>\n",
              "    <tr>\n",
              "      <th>образование</th>\n",
              "      <td>3619</td>\n",
              "      <td>369</td>\n",
              "      <td>9.25</td>\n",
              "    </tr>\n",
              "    <tr>\n",
              "      <th>автомобиль</th>\n",
              "      <td>3879</td>\n",
              "      <td>400</td>\n",
              "      <td>9.35</td>\n",
              "    </tr>\n",
              "  </tbody>\n",
              "</table>\n",
              "</div>\n",
              "      <button class=\"colab-df-convert\" onclick=\"convertToInteractive('df-45c3ab4f-f2da-4bbb-a9e5-af88ed212e5d')\"\n",
              "              title=\"Convert this dataframe to an interactive table.\"\n",
              "              style=\"display:none;\">\n",
              "        \n",
              "  <svg xmlns=\"http://www.w3.org/2000/svg\" height=\"24px\"viewBox=\"0 0 24 24\"\n",
              "       width=\"24px\">\n",
              "    <path d=\"M0 0h24v24H0V0z\" fill=\"none\"/>\n",
              "    <path d=\"M18.56 5.44l.94 2.06.94-2.06 2.06-.94-2.06-.94-.94-2.06-.94 2.06-2.06.94zm-11 1L8.5 8.5l.94-2.06 2.06-.94-2.06-.94L8.5 2.5l-.94 2.06-2.06.94zm10 10l.94 2.06.94-2.06 2.06-.94-2.06-.94-.94-2.06-.94 2.06-2.06.94z\"/><path d=\"M17.41 7.96l-1.37-1.37c-.4-.4-.92-.59-1.43-.59-.52 0-1.04.2-1.43.59L10.3 9.45l-7.72 7.72c-.78.78-.78 2.05 0 2.83L4 21.41c.39.39.9.59 1.41.59.51 0 1.02-.2 1.41-.59l7.78-7.78 2.81-2.81c.8-.78.8-2.07 0-2.86zM5.41 20L4 18.59l7.72-7.72 1.47 1.35L5.41 20z\"/>\n",
              "  </svg>\n",
              "      </button>\n",
              "      \n",
              "  <style>\n",
              "    .colab-df-container {\n",
              "      display:flex;\n",
              "      flex-wrap:wrap;\n",
              "      gap: 12px;\n",
              "    }\n",
              "\n",
              "    .colab-df-convert {\n",
              "      background-color: #E8F0FE;\n",
              "      border: none;\n",
              "      border-radius: 50%;\n",
              "      cursor: pointer;\n",
              "      display: none;\n",
              "      fill: #1967D2;\n",
              "      height: 32px;\n",
              "      padding: 0 0 0 0;\n",
              "      width: 32px;\n",
              "    }\n",
              "\n",
              "    .colab-df-convert:hover {\n",
              "      background-color: #E2EBFA;\n",
              "      box-shadow: 0px 1px 2px rgba(60, 64, 67, 0.3), 0px 1px 3px 1px rgba(60, 64, 67, 0.15);\n",
              "      fill: #174EA6;\n",
              "    }\n",
              "\n",
              "    [theme=dark] .colab-df-convert {\n",
              "      background-color: #3B4455;\n",
              "      fill: #D2E3FC;\n",
              "    }\n",
              "\n",
              "    [theme=dark] .colab-df-convert:hover {\n",
              "      background-color: #434B5C;\n",
              "      box-shadow: 0px 1px 3px 1px rgba(0, 0, 0, 0.15);\n",
              "      filter: drop-shadow(0px 1px 2px rgba(0, 0, 0, 0.3));\n",
              "      fill: #FFFFFF;\n",
              "    }\n",
              "  </style>\n",
              "\n",
              "      <script>\n",
              "        const buttonEl =\n",
              "          document.querySelector('#df-45c3ab4f-f2da-4bbb-a9e5-af88ed212e5d button.colab-df-convert');\n",
              "        buttonEl.style.display =\n",
              "          google.colab.kernel.accessAllowed ? 'block' : 'none';\n",
              "\n",
              "        async function convertToInteractive(key) {\n",
              "          const element = document.querySelector('#df-45c3ab4f-f2da-4bbb-a9e5-af88ed212e5d');\n",
              "          const dataTable =\n",
              "            await google.colab.kernel.invokeFunction('convertToInteractive',\n",
              "                                                     [key], {});\n",
              "          if (!dataTable) return;\n",
              "\n",
              "          const docLinkHtml = 'Like what you see? Visit the ' +\n",
              "            '<a target=\"_blank\" href=https://colab.research.google.com/notebooks/data_table.ipynb>data table notebook</a>'\n",
              "            + ' to learn more about interactive tables.';\n",
              "          element.innerHTML = '';\n",
              "          dataTable['output_type'] = 'display_data';\n",
              "          await google.colab.output.renderOutput(dataTable, element);\n",
              "          const docLink = document.createElement('div');\n",
              "          docLink.innerHTML = docLinkHtml;\n",
              "          element.appendChild(docLink);\n",
              "        }\n",
              "      </script>\n",
              "    </div>\n",
              "  </div>\n",
              "  "
            ]
          },
          "metadata": {},
          "execution_count": 130
        }
      ],
      "source": [
        "purpose_pivot = clients.pivot_table(index=['purpose_grouped'], columns='debt', values = 'children', aggfunc='count')\n",
        "research_purpose = research_result(purpose_pivot)\n",
        "research_purpose"
      ]
    },
    {
      "cell_type": "code",
      "execution_count": 131,
      "metadata": {
        "id": "-J3s8NJpHSq-",
        "colab": {
          "base_uri": "https://localhost:8080/",
          "height": 284
        },
        "outputId": "84e35edb-4d2b-4936-a3ee-575e0c7f8992"
      },
      "outputs": [
        {
          "output_type": "display_data",
          "data": {
            "text/plain": [
              "<Figure size 432x288 with 1 Axes>"
            ],
            "image/png": "[encoded data removed]"
          },
          "metadata": {
            "image/png": {
              "width": 548,
              "height": 267
            }
          }
        }
      ],
      "source": [
        "sns.barplot(x=\"debt_ratio\", y=research_purpose.index, data=research_purpose, palette=\"coolwarm\");"
      ]
    },
    {
      "cell_type": "code",
      "execution_count": 132,
      "metadata": {
        "id": "qMM335IKHSq_",
        "colab": {
          "base_uri": "https://localhost:8080/"
        },
        "outputId": "3f72bb95-fb65-4c4b-f292-9a87ae4459eb"
      },
      "outputs": [
        {
          "output_type": "stream",
          "name": "stdout",
          "text": [
            "В категории \"жилая недвижимость\" задолженность составляет 7.22%. Это меньше среднего значения по выборке.\n",
            "В категории \"коммерческая недвижимость\" задолженность составляет 7.52%. Это меньше среднего значения по выборке.\n",
            "В категории \"свадьба\" задолженность составляет 7.91%. Это меньше среднего значения по выборке.\n",
            "В категории \"образование\" задолженность составляет 9.25%. Это БОЛЬШЕ среднего значения по выборке.\n",
            "В категории \"автомобиль\" задолженность составляет 9.35%. Это БОЛЬШЕ среднего значения по выборке.\n"
          ]
        }
      ],
      "source": [
        "debt_research(research_purpose)"
      ]
    },
    {
      "cell_type": "markdown",
      "metadata": {
        "id": "b1ZjpvvVHSq_"
      },
      "source": [
        "**Вывод**\n",
        "\n",
        "На диаграмме видно, что значения задолженности в категориях значительно отличаются. <br><br>\n",
        "Также мы определили, что в некоторых категориях присутствуют отклонения в большую сторону от среднего значения по выборке.<br>\n",
        "Это категории с целью кредита \"образование\" и \"автомобиль\".<br>\n",
        "Самый благоприятный (низкий) процент задолженности у клиентов с целью \"жилая недвижимость\".\n",
        "\n",
        "\n",
        "Таким образом, можно утверждать, что зависимость между целью кредита и возвратом кредита в срок **есть**."
      ]
    },
    {
      "cell_type": "markdown",
      "metadata": {
        "id": "InY3G-v_HSq_"
      },
      "source": [
        "<div class=\"alert alert-info\">\n",
        "<b>Комментарий:</b>\n",
        "<br>Предположу, что кредиты на автомобиль и образование склонны брать более молодые и рисковые клиенты. Кроме того, кредит на образование сейчас зачастую подразумевает смену профессиональной деятельности ради более высоких доходов (например, свитчеры в IT). Это тоже оставляет свой след – одновременно работать и учиться, при этом отдавая часть дохода на образование, довольно сложно. Особенно в молодом возрасте, когда есть много расходов на личную жизнь, аренду квартиры и т.д.<br><br>\n",
        "Займы на жилую недвижимость скорее всего берут люди семейные, которые выплачивают кредит вместе, иногда и с помощью родственников. Это ответственный жизненный этап, а платежи по ипотеке довольно крупные – пени могут быть болезненными. И отказаться от ипотеки довольно сложно – это жилье, основа существования. Так что приходится следить за бюджетом и отдавать в срок.\n",
        "</div>"
      ]
    },
    {
      "cell_type": "markdown",
      "metadata": {
        "id": "EwzM5bS_HSq_"
      },
      "source": [
        "## Шаг 4. Общий вывод"
      ]
    },
    {
      "cell_type": "markdown",
      "metadata": {
        "id": "2vLURbCSHSq_"
      },
      "source": [
        "В проекте для расчета способностей потенциального заёмщика вернуть кредит банку мы использовали инструментарий Python, pandas и seaborn.\n",
        "\n",
        "Были расчитаны средние значения по выборкам и даны аргументированные ответы на вопросы:\n",
        "- Есть ли зависимость между наличием детей и возвратом кредита в срок?\n",
        "- Есть ли зависимость между семейным положением и возвратом кредита в срок?\n",
        "- Есть ли зависимость между уровнем дохода и возвратом кредита в срок?\n",
        "- Как разные цели кредита влияют на его возврат в срок?\n",
        "\n",
        "По всем вопросам дан положительный ответ – **найдена корреляция между рассмотренными категориями заемщиков и возвратом кредита в срок**."
      ]
    }
  ],
  "metadata": {
    "ExecuteTimeLog": [
      {
        "duration": 866,
        "start_time": "2021-12-17T20:36:18.073Z"
      },
      {
        "duration": 20,
        "start_time": "2021-12-17T20:36:43.862Z"
      },
      {
        "duration": 757,
        "start_time": "2021-12-19T15:21:42.829Z"
      },
      {
        "duration": 56,
        "start_time": "2021-12-19T15:44:49.778Z"
      },
      {
        "duration": 13,
        "start_time": "2021-12-19T15:44:51.589Z"
      },
      {
        "duration": 20,
        "start_time": "2021-12-19T15:44:53.552Z"
      },
      {
        "duration": 12,
        "start_time": "2021-12-19T15:44:58.527Z"
      },
      {
        "duration": 3,
        "start_time": "2021-12-19T15:45:04.225Z"
      },
      {
        "duration": 5,
        "start_time": "2021-12-19T15:45:31.477Z"
      },
      {
        "duration": 4,
        "start_time": "2021-12-19T15:45:33.071Z"
      },
      {
        "duration": 5,
        "start_time": "2021-12-19T15:45:40.405Z"
      },
      {
        "duration": 5,
        "start_time": "2021-12-19T15:45:48.445Z"
      },
      {
        "duration": 11,
        "start_time": "2021-12-19T15:45:59.741Z"
      },
      {
        "duration": 14,
        "start_time": "2021-12-19T15:46:04.348Z"
      },
      {
        "duration": 76,
        "start_time": "2021-12-19T15:49:28.340Z"
      },
      {
        "duration": 5,
        "start_time": "2021-12-19T15:56:41.648Z"
      },
      {
        "duration": 16,
        "start_time": "2021-12-19T15:56:42.240Z"
      },
      {
        "duration": 20,
        "start_time": "2021-12-19T15:56:43.741Z"
      },
      {
        "duration": 11,
        "start_time": "2021-12-19T15:56:48.511Z"
      },
      {
        "duration": 11,
        "start_time": "2021-12-19T15:57:06.650Z"
      },
      {
        "duration": 15,
        "start_time": "2021-12-19T16:07:07.762Z"
      },
      {
        "duration": 15,
        "start_time": "2021-12-19T16:07:43.679Z"
      },
      {
        "duration": 10,
        "start_time": "2021-12-19T16:07:47.871Z"
      },
      {
        "duration": 16,
        "start_time": "2021-12-19T16:09:50.432Z"
      },
      {
        "duration": 11,
        "start_time": "2021-12-19T16:09:51.712Z"
      },
      {
        "duration": 12,
        "start_time": "2021-12-19T16:09:55.075Z"
      },
      {
        "duration": 19,
        "start_time": "2021-12-19T16:18:11.790Z"
      },
      {
        "duration": 26,
        "start_time": "2021-12-19T16:18:15.184Z"
      },
      {
        "duration": 15,
        "start_time": "2021-12-19T16:18:16.889Z"
      },
      {
        "duration": 16,
        "start_time": "2021-12-19T16:19:37.847Z"
      },
      {
        "duration": 16,
        "start_time": "2021-12-19T16:19:39.954Z"
      },
      {
        "duration": 13,
        "start_time": "2021-12-19T16:19:40.541Z"
      },
      {
        "duration": 16,
        "start_time": "2021-12-19T16:20:02.863Z"
      },
      {
        "duration": 21,
        "start_time": "2021-12-19T16:21:51.193Z"
      },
      {
        "duration": 16,
        "start_time": "2021-12-19T16:21:53.640Z"
      },
      {
        "duration": 36,
        "start_time": "2021-12-19T16:21:53.947Z"
      },
      {
        "duration": 11,
        "start_time": "2021-12-19T16:22:58.697Z"
      },
      {
        "duration": 23,
        "start_time": "2021-12-19T16:22:59.458Z"
      },
      {
        "duration": 19,
        "start_time": "2021-12-19T16:27:56.741Z"
      },
      {
        "duration": 9,
        "start_time": "2021-12-19T16:28:26.974Z"
      },
      {
        "duration": 5,
        "start_time": "2021-12-19T16:29:52.864Z"
      },
      {
        "duration": 317,
        "start_time": "2021-12-19T16:30:32.460Z"
      },
      {
        "duration": 6,
        "start_time": "2021-12-19T16:30:42.533Z"
      },
      {
        "duration": 7,
        "start_time": "2021-12-19T16:30:49.834Z"
      },
      {
        "duration": 5,
        "start_time": "2021-12-19T16:30:55.509Z"
      },
      {
        "duration": 8,
        "start_time": "2021-12-19T16:31:52.257Z"
      },
      {
        "duration": 36,
        "start_time": "2021-12-19T16:34:24.963Z"
      },
      {
        "duration": 9,
        "start_time": "2021-12-19T16:34:26.258Z"
      },
      {
        "duration": 3,
        "start_time": "2021-12-19T16:34:27.260Z"
      },
      {
        "duration": 2,
        "start_time": "2021-12-19T16:35:12.176Z"
      },
      {
        "duration": 10,
        "start_time": "2021-12-19T16:35:14.468Z"
      },
      {
        "duration": 10,
        "start_time": "2021-12-19T16:35:22.629Z"
      },
      {
        "duration": 9,
        "start_time": "2021-12-19T16:38:38.833Z"
      },
      {
        "duration": 46,
        "start_time": "2021-12-19T16:38:51.916Z"
      },
      {
        "duration": 11,
        "start_time": "2021-12-19T16:38:55.029Z"
      },
      {
        "duration": 581,
        "start_time": "2021-12-19T16:39:57.848Z"
      },
      {
        "duration": 624,
        "start_time": "2021-12-19T16:40:07.630Z"
      },
      {
        "duration": 10,
        "start_time": "2021-12-19T16:40:08.256Z"
      },
      {
        "duration": 23,
        "start_time": "2021-12-19T16:40:08.268Z"
      },
      {
        "duration": 9,
        "start_time": "2021-12-19T16:40:08.293Z"
      },
      {
        "duration": 4,
        "start_time": "2021-12-19T16:40:08.303Z"
      },
      {
        "duration": 6,
        "start_time": "2021-12-19T16:40:08.309Z"
      },
      {
        "duration": 10,
        "start_time": "2021-12-19T16:40:08.316Z"
      },
      {
        "duration": 9,
        "start_time": "2021-12-19T16:40:08.329Z"
      },
      {
        "duration": 17,
        "start_time": "2021-12-19T16:40:08.339Z"
      },
      {
        "duration": 30,
        "start_time": "2021-12-19T16:40:08.358Z"
      },
      {
        "duration": 13,
        "start_time": "2021-12-19T16:40:08.390Z"
      },
      {
        "duration": 10,
        "start_time": "2021-12-19T16:40:08.405Z"
      },
      {
        "duration": 17,
        "start_time": "2021-12-19T16:40:08.417Z"
      },
      {
        "duration": 16,
        "start_time": "2021-12-19T16:40:08.435Z"
      },
      {
        "duration": 36,
        "start_time": "2021-12-19T16:40:08.452Z"
      },
      {
        "duration": 16,
        "start_time": "2021-12-19T16:40:08.490Z"
      },
      {
        "duration": 11,
        "start_time": "2021-12-19T16:40:08.508Z"
      },
      {
        "duration": 27,
        "start_time": "2021-12-19T16:40:08.520Z"
      },
      {
        "duration": 7,
        "start_time": "2021-12-19T16:40:08.548Z"
      },
      {
        "duration": 6,
        "start_time": "2021-12-19T16:40:08.556Z"
      },
      {
        "duration": 29,
        "start_time": "2021-12-19T16:40:08.564Z"
      },
      {
        "duration": 649,
        "start_time": "2021-12-19T16:40:08.595Z"
      },
      {
        "duration": 3,
        "start_time": "2021-12-19T16:40:09.247Z"
      },
      {
        "duration": 5,
        "start_time": "2021-12-19T16:40:09.252Z"
      },
      {
        "duration": 12,
        "start_time": "2021-12-19T16:40:09.258Z"
      },
      {
        "duration": 17,
        "start_time": "2021-12-19T16:40:09.271Z"
      },
      {
        "duration": 15,
        "start_time": "2021-12-19T16:40:09.290Z"
      },
      {
        "duration": 49,
        "start_time": "2021-12-19T16:40:09.306Z"
      },
      {
        "duration": 10,
        "start_time": "2021-12-19T16:40:09.356Z"
      },
      {
        "duration": 3,
        "start_time": "2021-12-19T16:41:37.209Z"
      },
      {
        "duration": 15,
        "start_time": "2021-12-19T16:43:08.664Z"
      },
      {
        "duration": 17,
        "start_time": "2021-12-19T16:43:15.983Z"
      },
      {
        "duration": 11,
        "start_time": "2021-12-19T16:43:16.443Z"
      },
      {
        "duration": 619,
        "start_time": "2021-12-19T16:43:38.770Z"
      },
      {
        "duration": 11,
        "start_time": "2021-12-19T16:43:40.344Z"
      },
      {
        "duration": 19,
        "start_time": "2021-12-19T16:43:43.277Z"
      },
      {
        "duration": 10,
        "start_time": "2021-12-19T16:43:50.550Z"
      },
      {
        "duration": 4,
        "start_time": "2021-12-19T16:44:00.678Z"
      },
      {
        "duration": 5,
        "start_time": "2021-12-19T16:44:04.321Z"
      },
      {
        "duration": 4,
        "start_time": "2021-12-19T16:44:04.993Z"
      },
      {
        "duration": 10,
        "start_time": "2021-12-19T16:44:06.511Z"
      },
      {
        "duration": 15,
        "start_time": "2021-12-19T16:44:08.469Z"
      },
      {
        "duration": 5,
        "start_time": "2021-12-19T16:44:17.351Z"
      },
      {
        "duration": 13,
        "start_time": "2021-12-19T16:44:20.460Z"
      },
      {
        "duration": 11,
        "start_time": "2021-12-19T16:44:21.915Z"
      },
      {
        "duration": 15,
        "start_time": "2021-12-19T16:44:27.430Z"
      },
      {
        "duration": 19,
        "start_time": "2021-12-19T16:44:28.582Z"
      },
      {
        "duration": 10,
        "start_time": "2021-12-19T16:44:29.719Z"
      },
      {
        "duration": 14,
        "start_time": "2021-12-19T16:44:36.715Z"
      },
      {
        "duration": 11,
        "start_time": "2021-12-19T16:44:39.195Z"
      },
      {
        "duration": 24,
        "start_time": "2021-12-19T16:44:39.706Z"
      },
      {
        "duration": 8,
        "start_time": "2021-12-19T16:45:06.070Z"
      },
      {
        "duration": 12,
        "start_time": "2021-12-19T16:46:11.830Z"
      },
      {
        "duration": 10,
        "start_time": "2021-12-19T16:46:32.567Z"
      },
      {
        "duration": 7,
        "start_time": "2021-12-19T16:46:42.452Z"
      },
      {
        "duration": 9,
        "start_time": "2021-12-19T16:46:55.451Z"
      },
      {
        "duration": 585,
        "start_time": "2021-12-19T16:46:57.082Z"
      },
      {
        "duration": 9,
        "start_time": "2021-12-19T16:48:26.995Z"
      },
      {
        "duration": 9,
        "start_time": "2021-12-19T16:49:02.962Z"
      },
      {
        "duration": 46,
        "start_time": "2021-12-19T16:49:10.540Z"
      },
      {
        "duration": 14,
        "start_time": "2021-12-19T16:49:14.939Z"
      },
      {
        "duration": 17,
        "start_time": "2021-12-19T16:49:16.337Z"
      },
      {
        "duration": 88,
        "start_time": "2021-12-19T16:49:47.036Z"
      },
      {
        "duration": 79,
        "start_time": "2021-12-19T16:49:56.662Z"
      },
      {
        "duration": 79,
        "start_time": "2021-12-19T16:50:06.682Z"
      },
      {
        "duration": 105,
        "start_time": "2021-12-19T16:50:10.296Z"
      },
      {
        "duration": 84,
        "start_time": "2021-12-19T16:50:14.674Z"
      },
      {
        "duration": 83,
        "start_time": "2021-12-19T16:50:17.670Z"
      },
      {
        "duration": 100,
        "start_time": "2021-12-19T16:50:32.197Z"
      },
      {
        "duration": 5,
        "start_time": "2021-12-19T16:50:44.137Z"
      },
      {
        "duration": 9,
        "start_time": "2021-12-19T16:50:50.998Z"
      },
      {
        "duration": 80,
        "start_time": "2021-12-19T16:51:25.689Z"
      },
      {
        "duration": 82,
        "start_time": "2021-12-19T16:51:44.063Z"
      },
      {
        "duration": 87,
        "start_time": "2021-12-19T16:51:50.352Z"
      },
      {
        "duration": 13,
        "start_time": "2021-12-19T16:51:52.703Z"
      },
      {
        "duration": 411,
        "start_time": "2021-12-19T16:52:32.148Z"
      },
      {
        "duration": 14,
        "start_time": "2021-12-19T16:52:40.015Z"
      },
      {
        "duration": 15,
        "start_time": "2021-12-19T16:52:47.828Z"
      },
      {
        "duration": 4,
        "start_time": "2021-12-19T16:54:20.236Z"
      },
      {
        "duration": 4,
        "start_time": "2021-12-19T16:54:22.480Z"
      },
      {
        "duration": 5,
        "start_time": "2021-12-19T16:54:22.932Z"
      },
      {
        "duration": 9,
        "start_time": "2021-12-19T16:54:23.706Z"
      },
      {
        "duration": 9,
        "start_time": "2021-12-19T16:54:27.138Z"
      },
      {
        "duration": 11,
        "start_time": "2021-12-19T16:55:44.015Z"
      },
      {
        "duration": 5,
        "start_time": "2021-12-19T16:55:48.564Z"
      },
      {
        "duration": 11,
        "start_time": "2021-12-19T16:55:48.807Z"
      },
      {
        "duration": 11,
        "start_time": "2021-12-19T16:55:49.302Z"
      },
      {
        "duration": 4,
        "start_time": "2021-12-19T16:57:16.019Z"
      },
      {
        "duration": 4,
        "start_time": "2021-12-19T16:57:16.253Z"
      },
      {
        "duration": 10,
        "start_time": "2021-12-19T16:57:17.200Z"
      },
      {
        "duration": 8,
        "start_time": "2021-12-19T17:11:07.334Z"
      },
      {
        "duration": 6,
        "start_time": "2021-12-19T17:11:07.965Z"
      },
      {
        "duration": 3,
        "start_time": "2021-12-19T17:11:17.574Z"
      },
      {
        "duration": 3,
        "start_time": "2021-12-19T17:12:04.858Z"
      },
      {
        "duration": 10,
        "start_time": "2021-12-19T17:12:07.718Z"
      },
      {
        "duration": 5,
        "start_time": "2021-12-19T17:12:08.139Z"
      },
      {
        "duration": 16,
        "start_time": "2021-12-19T17:12:10.731Z"
      },
      {
        "duration": 3,
        "start_time": "2021-12-19T17:13:02.204Z"
      },
      {
        "duration": 10,
        "start_time": "2021-12-19T17:13:03.601Z"
      },
      {
        "duration": 5,
        "start_time": "2021-12-19T17:13:04.206Z"
      },
      {
        "duration": 355,
        "start_time": "2021-12-19T17:14:40.635Z"
      },
      {
        "duration": 258,
        "start_time": "2021-12-19T17:14:47.858Z"
      },
      {
        "duration": 225,
        "start_time": "2021-12-19T17:16:23.474Z"
      },
      {
        "duration": 241,
        "start_time": "2021-12-19T17:16:42.945Z"
      },
      {
        "duration": 3,
        "start_time": "2021-12-19T17:17:47.397Z"
      },
      {
        "duration": 4,
        "start_time": "2021-12-19T17:18:02.440Z"
      },
      {
        "duration": 3,
        "start_time": "2021-12-19T17:18:10.228Z"
      },
      {
        "duration": 10,
        "start_time": "2021-12-19T17:18:34.387Z"
      },
      {
        "duration": 6,
        "start_time": "2021-12-19T17:18:35.231Z"
      },
      {
        "duration": 230,
        "start_time": "2021-12-19T17:18:39.949Z"
      },
      {
        "duration": 7,
        "start_time": "2021-12-19T17:19:18.327Z"
      },
      {
        "duration": 240,
        "start_time": "2021-12-19T17:34:54.386Z"
      },
      {
        "duration": 16,
        "start_time": "2021-12-19T17:35:43.880Z"
      },
      {
        "duration": 23,
        "start_time": "2021-12-19T17:35:47.429Z"
      },
      {
        "duration": 236,
        "start_time": "2021-12-19T17:35:54.131Z"
      },
      {
        "duration": 241,
        "start_time": "2021-12-19T17:36:01.642Z"
      },
      {
        "duration": 7,
        "start_time": "2021-12-19T17:36:04.582Z"
      },
      {
        "duration": 6,
        "start_time": "2021-12-19T17:36:49.108Z"
      },
      {
        "duration": 6,
        "start_time": "2021-12-19T17:36:55.242Z"
      },
      {
        "duration": 8,
        "start_time": "2021-12-19T17:36:59.888Z"
      },
      {
        "duration": 8,
        "start_time": "2021-12-19T17:37:37.503Z"
      },
      {
        "duration": 6,
        "start_time": "2021-12-19T17:37:40.492Z"
      },
      {
        "duration": 6,
        "start_time": "2021-12-19T17:38:23.394Z"
      },
      {
        "duration": 6,
        "start_time": "2021-12-19T17:38:30.952Z"
      },
      {
        "duration": 4,
        "start_time": "2021-12-19T17:38:45.906Z"
      },
      {
        "duration": 232,
        "start_time": "2021-12-19T17:38:57.240Z"
      },
      {
        "duration": 267,
        "start_time": "2021-12-19T17:39:04.358Z"
      },
      {
        "duration": 3064,
        "start_time": "2021-12-19T17:39:11.849Z"
      },
      {
        "duration": 244,
        "start_time": "2021-12-19T17:40:01.143Z"
      },
      {
        "duration": 241,
        "start_time": "2021-12-19T17:40:12.414Z"
      },
      {
        "duration": 225,
        "start_time": "2021-12-19T17:40:57.654Z"
      },
      {
        "duration": 232,
        "start_time": "2021-12-19T17:41:01.244Z"
      },
      {
        "duration": 20,
        "start_time": "2021-12-19T17:41:14.434Z"
      },
      {
        "duration": 4,
        "start_time": "2021-12-19T17:52:57.298Z"
      },
      {
        "duration": 619,
        "start_time": "2021-12-19T17:57:45.260Z"
      },
      {
        "duration": 11,
        "start_time": "2021-12-19T17:57:46.366Z"
      },
      {
        "duration": 21,
        "start_time": "2021-12-19T17:57:49.706Z"
      },
      {
        "duration": 14,
        "start_time": "2021-12-19T18:03:06.346Z"
      },
      {
        "duration": 5,
        "start_time": "2021-12-19T18:05:54.677Z"
      },
      {
        "duration": 5,
        "start_time": "2021-12-19T18:07:03.684Z"
      },
      {
        "duration": 8,
        "start_time": "2021-12-19T18:08:34.289Z"
      },
      {
        "duration": 8,
        "start_time": "2021-12-19T18:08:50.344Z"
      },
      {
        "duration": 5,
        "start_time": "2021-12-19T18:08:53.501Z"
      },
      {
        "duration": 7,
        "start_time": "2021-12-19T18:08:57.470Z"
      },
      {
        "duration": 8,
        "start_time": "2021-12-19T18:09:06.823Z"
      },
      {
        "duration": 79,
        "start_time": "2021-12-19T18:09:25.817Z"
      },
      {
        "duration": 8,
        "start_time": "2021-12-19T18:09:30.116Z"
      },
      {
        "duration": 3079,
        "start_time": "2021-12-19T18:09:53.927Z"
      },
      {
        "duration": 233,
        "start_time": "2021-12-19T18:10:01.544Z"
      },
      {
        "duration": 8,
        "start_time": "2021-12-19T18:10:07.266Z"
      },
      {
        "duration": 4,
        "start_time": "2021-12-19T18:10:54.629Z"
      },
      {
        "duration": 13,
        "start_time": "2021-12-19T18:11:03.928Z"
      },
      {
        "duration": 12,
        "start_time": "2021-12-19T18:11:07.302Z"
      },
      {
        "duration": 9,
        "start_time": "2021-12-19T18:11:46.648Z"
      },
      {
        "duration": 45,
        "start_time": "2021-12-19T18:11:50.938Z"
      },
      {
        "duration": 11,
        "start_time": "2021-12-19T18:11:51.978Z"
      },
      {
        "duration": 10,
        "start_time": "2021-12-19T18:11:58.056Z"
      },
      {
        "duration": 4,
        "start_time": "2021-12-19T18:12:02.632Z"
      },
      {
        "duration": 5,
        "start_time": "2021-12-19T18:12:04.985Z"
      },
      {
        "duration": 46,
        "start_time": "2021-12-19T18:12:19.569Z"
      },
      {
        "duration": 10,
        "start_time": "2021-12-19T18:12:24.992Z"
      },
      {
        "duration": 5,
        "start_time": "2021-12-19T18:15:06.548Z"
      },
      {
        "duration": 3,
        "start_time": "2021-12-19T18:22:33.672Z"
      },
      {
        "duration": 5,
        "start_time": "2021-12-19T18:22:34.839Z"
      },
      {
        "duration": 7,
        "start_time": "2021-12-19T18:22:36.890Z"
      },
      {
        "duration": 9,
        "start_time": "2021-12-19T18:22:44.587Z"
      },
      {
        "duration": 5,
        "start_time": "2021-12-19T18:22:46.091Z"
      },
      {
        "duration": 8,
        "start_time": "2021-12-19T18:25:18.044Z"
      },
      {
        "duration": 7,
        "start_time": "2021-12-19T18:26:12.273Z"
      },
      {
        "duration": 15,
        "start_time": "2021-12-19T18:26:17.406Z"
      },
      {
        "duration": 13,
        "start_time": "2021-12-19T18:27:01.476Z"
      },
      {
        "duration": 7,
        "start_time": "2021-12-19T18:27:07.708Z"
      },
      {
        "duration": 5,
        "start_time": "2021-12-19T18:27:09.635Z"
      },
      {
        "duration": 9,
        "start_time": "2021-12-19T18:27:14.846Z"
      },
      {
        "duration": 349,
        "start_time": "2021-12-19T18:29:22.569Z"
      },
      {
        "duration": 6,
        "start_time": "2021-12-19T18:29:33.658Z"
      },
      {
        "duration": 253,
        "start_time": "2021-12-19T18:32:45.350Z"
      },
      {
        "duration": 8,
        "start_time": "2021-12-19T18:33:07.048Z"
      },
      {
        "duration": 4,
        "start_time": "2021-12-19T18:33:10.745Z"
      },
      {
        "duration": 5,
        "start_time": "2021-12-19T18:33:13.258Z"
      },
      {
        "duration": 5,
        "start_time": "2021-12-19T18:33:14.197Z"
      },
      {
        "duration": 6,
        "start_time": "2021-12-19T18:33:22.086Z"
      },
      {
        "duration": 20,
        "start_time": "2021-12-19T18:34:02.457Z"
      },
      {
        "duration": 46,
        "start_time": "2021-12-19T18:34:44.205Z"
      },
      {
        "duration": 5,
        "start_time": "2021-12-19T18:34:49.768Z"
      },
      {
        "duration": 3,
        "start_time": "2021-12-19T18:34:58.437Z"
      },
      {
        "duration": 14,
        "start_time": "2021-12-19T18:35:01.802Z"
      },
      {
        "duration": 5,
        "start_time": "2021-12-19T18:35:09.599Z"
      },
      {
        "duration": 14,
        "start_time": "2021-12-19T18:35:11.632Z"
      },
      {
        "duration": 44,
        "start_time": "2021-12-19T18:35:36.503Z"
      },
      {
        "duration": 4,
        "start_time": "2021-12-19T18:35:43.108Z"
      },
      {
        "duration": 15,
        "start_time": "2021-12-19T18:35:45.532Z"
      },
      {
        "duration": 16,
        "start_time": "2021-12-19T18:35:52.583Z"
      },
      {
        "duration": 13,
        "start_time": "2021-12-19T18:35:59.777Z"
      },
      {
        "duration": 22,
        "start_time": "2021-12-19T18:36:05.991Z"
      },
      {
        "duration": 5,
        "start_time": "2021-12-19T18:36:13.529Z"
      },
      {
        "duration": 13,
        "start_time": "2021-12-19T18:36:15.210Z"
      },
      {
        "duration": 6,
        "start_time": "2021-12-19T18:36:23.908Z"
      },
      {
        "duration": 641,
        "start_time": "2021-12-19T18:36:41.758Z"
      },
      {
        "duration": 12,
        "start_time": "2021-12-19T18:36:42.401Z"
      },
      {
        "duration": 22,
        "start_time": "2021-12-19T18:36:43.037Z"
      },
      {
        "duration": 9,
        "start_time": "2021-12-19T18:36:45.588Z"
      },
      {
        "duration": 3,
        "start_time": "2021-12-19T18:36:47.222Z"
      },
      {
        "duration": 4,
        "start_time": "2021-12-19T18:36:49.186Z"
      },
      {
        "duration": 14,
        "start_time": "2021-12-19T18:36:56.254Z"
      },
      {
        "duration": 5,
        "start_time": "2021-12-19T18:37:04.952Z"
      },
      {
        "duration": 4,
        "start_time": "2021-12-19T18:37:10.432Z"
      },
      {
        "duration": 14,
        "start_time": "2021-12-19T18:37:13.292Z"
      },
      {
        "duration": 6,
        "start_time": "2021-12-19T18:37:23.847Z"
      },
      {
        "duration": 3,
        "start_time": "2021-12-19T18:37:40.228Z"
      },
      {
        "duration": 2836,
        "start_time": "2021-12-19T18:38:06.954Z"
      },
      {
        "duration": 1598,
        "start_time": "2021-12-19T18:38:12.219Z"
      },
      {
        "duration": 13,
        "start_time": "2021-12-19T18:38:14.301Z"
      },
      {
        "duration": 1771,
        "start_time": "2021-12-19T18:38:18.957Z"
      },
      {
        "duration": 14,
        "start_time": "2021-12-19T18:38:20.730Z"
      },
      {
        "duration": 1601,
        "start_time": "2021-12-19T18:38:49.077Z"
      },
      {
        "duration": 17,
        "start_time": "2021-12-19T18:38:50.680Z"
      },
      {
        "duration": 7,
        "start_time": "2021-12-19T18:39:06.162Z"
      },
      {
        "duration": 14,
        "start_time": "2021-12-19T18:39:07.127Z"
      },
      {
        "duration": 44,
        "start_time": "2021-12-19T18:39:13.501Z"
      },
      {
        "duration": 10,
        "start_time": "2021-12-19T18:39:19.443Z"
      },
      {
        "duration": 3,
        "start_time": "2021-12-19T18:39:22.872Z"
      },
      {
        "duration": 5,
        "start_time": "2021-12-19T18:39:26.169Z"
      },
      {
        "duration": 6,
        "start_time": "2021-12-19T18:39:27.214Z"
      },
      {
        "duration": 5728,
        "start_time": "2021-12-19T18:39:40.620Z"
      },
      {
        "duration": 2002,
        "start_time": "2021-12-19T18:40:04.493Z"
      },
      {
        "duration": 19,
        "start_time": "2021-12-19T18:40:10.445Z"
      },
      {
        "duration": 5,
        "start_time": "2021-12-19T18:40:44.403Z"
      },
      {
        "duration": 1867,
        "start_time": "2021-12-19T18:40:56.104Z"
      },
      {
        "duration": 2831,
        "start_time": "2021-12-19T18:41:31.894Z"
      },
      {
        "duration": 13,
        "start_time": "2021-12-19T18:41:38.442Z"
      },
      {
        "duration": 682,
        "start_time": "2021-12-19T18:41:47.828Z"
      },
      {
        "duration": 297,
        "start_time": "2021-12-19T18:42:04.004Z"
      },
      {
        "duration": 1677,
        "start_time": "2021-12-19T18:42:15.639Z"
      },
      {
        "duration": 14,
        "start_time": "2021-12-19T18:42:17.888Z"
      },
      {
        "duration": 46,
        "start_time": "2021-12-19T18:43:01.908Z"
      },
      {
        "duration": 6,
        "start_time": "2021-12-19T18:43:14.315Z"
      },
      {
        "duration": 3007,
        "start_time": "2021-12-19T18:46:32.940Z"
      },
      {
        "duration": 14,
        "start_time": "2021-12-19T18:46:35.949Z"
      },
      {
        "duration": 4,
        "start_time": "2021-12-19T18:46:40.790Z"
      },
      {
        "duration": 4,
        "start_time": "2021-12-19T18:46:42.130Z"
      },
      {
        "duration": 8,
        "start_time": "2021-12-19T18:46:43.059Z"
      },
      {
        "duration": 3049,
        "start_time": "2021-12-19T18:46:44.154Z"
      },
      {
        "duration": 13,
        "start_time": "2021-12-19T18:46:47.205Z"
      },
      {
        "duration": 24,
        "start_time": "2021-12-19T18:46:47.220Z"
      },
      {
        "duration": 6,
        "start_time": "2021-12-19T18:46:48.758Z"
      },
      {
        "duration": 14,
        "start_time": "2021-12-19T18:46:49.778Z"
      },
      {
        "duration": 20,
        "start_time": "2021-12-19T18:46:50.610Z"
      },
      {
        "duration": 5,
        "start_time": "2021-12-19T18:49:08.920Z"
      },
      {
        "duration": 6,
        "start_time": "2021-12-19T18:49:09.728Z"
      },
      {
        "duration": 2494,
        "start_time": "2021-12-19T18:49:10.840Z"
      },
      {
        "duration": 14,
        "start_time": "2021-12-19T18:49:13.336Z"
      },
      {
        "duration": 3555,
        "start_time": "2021-12-19T18:49:24.457Z"
      },
      {
        "duration": 4215,
        "start_time": "2021-12-19T18:49:57.508Z"
      },
      {
        "duration": 12,
        "start_time": "2021-12-19T18:50:01.725Z"
      },
      {
        "duration": 44,
        "start_time": "2021-12-19T18:50:50.178Z"
      },
      {
        "duration": 11,
        "start_time": "2021-12-19T18:50:51.035Z"
      },
      {
        "duration": 14,
        "start_time": "2021-12-19T18:50:51.669Z"
      },
      {
        "duration": 10,
        "start_time": "2021-12-19T18:50:53.028Z"
      },
      {
        "duration": 4,
        "start_time": "2021-12-19T18:50:53.744Z"
      },
      {
        "duration": 4,
        "start_time": "2021-12-19T18:50:55.151Z"
      },
      {
        "duration": 5,
        "start_time": "2021-12-19T18:50:56.723Z"
      },
      {
        "duration": 6,
        "start_time": "2021-12-19T18:50:57.878Z"
      },
      {
        "duration": 3197,
        "start_time": "2021-12-19T18:50:59.800Z"
      },
      {
        "duration": 12,
        "start_time": "2021-12-19T18:51:03.000Z"
      },
      {
        "duration": 5,
        "start_time": "2021-12-19T18:51:12.870Z"
      },
      {
        "duration": 6,
        "start_time": "2021-12-19T18:52:02.755Z"
      },
      {
        "duration": 12,
        "start_time": "2021-12-19T18:52:03.768Z"
      },
      {
        "duration": 13,
        "start_time": "2021-12-19T18:52:26.313Z"
      },
      {
        "duration": 5,
        "start_time": "2021-12-19T19:05:32.074Z"
      },
      {
        "duration": 3518,
        "start_time": "2021-12-19T19:06:16.371Z"
      },
      {
        "duration": 275,
        "start_time": "2021-12-19T19:08:04.385Z"
      },
      {
        "duration": 77,
        "start_time": "2021-12-19T19:08:20.144Z"
      },
      {
        "duration": 307,
        "start_time": "2021-12-19T19:08:57.718Z"
      },
      {
        "duration": -4,
        "start_time": "2021-12-19T19:10:03.591Z"
      },
      {
        "duration": 4372,
        "start_time": "2021-12-19T19:10:06.628Z"
      },
      {
        "duration": 80,
        "start_time": "2021-12-19T19:10:48.364Z"
      },
      {
        "duration": 229,
        "start_time": "2021-12-19T19:10:52.690Z"
      },
      {
        "duration": 411,
        "start_time": "2021-12-19T19:11:06.730Z"
      },
      {
        "duration": 48,
        "start_time": "2021-12-19T19:11:34.774Z"
      },
      {
        "duration": 229,
        "start_time": "2021-12-19T19:11:39.266Z"
      },
      {
        "duration": 231,
        "start_time": "2021-12-19T19:12:50.898Z"
      },
      {
        "duration": 22,
        "start_time": "2021-12-19T19:12:56.120Z"
      },
      {
        "duration": 239,
        "start_time": "2021-12-19T19:15:00.942Z"
      },
      {
        "duration": 307,
        "start_time": "2021-12-19T19:15:30.102Z"
      },
      {
        "duration": 244,
        "start_time": "2021-12-19T19:15:39.435Z"
      },
      {
        "duration": 229,
        "start_time": "2021-12-19T19:15:44.400Z"
      },
      {
        "duration": 238,
        "start_time": "2021-12-19T19:15:53.188Z"
      },
      {
        "duration": 5,
        "start_time": "2021-12-19T19:16:01.532Z"
      },
      {
        "duration": 238,
        "start_time": "2021-12-19T19:16:19.745Z"
      },
      {
        "duration": 5,
        "start_time": "2021-12-19T19:16:24.365Z"
      },
      {
        "duration": 16,
        "start_time": "2021-12-19T19:16:30.135Z"
      },
      {
        "duration": 16,
        "start_time": "2021-12-19T19:16:38.396Z"
      },
      {
        "duration": 13,
        "start_time": "2021-12-19T19:16:55.070Z"
      },
      {
        "duration": 16,
        "start_time": "2021-12-19T19:17:22.919Z"
      },
      {
        "duration": 7,
        "start_time": "2021-12-19T19:23:28.802Z"
      },
      {
        "duration": 8,
        "start_time": "2021-12-19T19:23:48.487Z"
      },
      {
        "duration": 9,
        "start_time": "2021-12-19T19:24:03.137Z"
      },
      {
        "duration": 7,
        "start_time": "2021-12-19T19:24:10.317Z"
      },
      {
        "duration": 7,
        "start_time": "2021-12-19T19:24:11.906Z"
      },
      {
        "duration": 8,
        "start_time": "2021-12-19T19:24:22.942Z"
      },
      {
        "duration": 10,
        "start_time": "2021-12-19T19:24:24.492Z"
      },
      {
        "duration": 9,
        "start_time": "2021-12-19T19:24:26.753Z"
      },
      {
        "duration": 7,
        "start_time": "2021-12-19T19:24:36.088Z"
      },
      {
        "duration": 10,
        "start_time": "2021-12-19T19:24:37.391Z"
      },
      {
        "duration": 8,
        "start_time": "2021-12-19T19:24:41.884Z"
      },
      {
        "duration": 7,
        "start_time": "2021-12-19T19:24:57.794Z"
      },
      {
        "duration": 8,
        "start_time": "2021-12-19T19:24:58.638Z"
      },
      {
        "duration": 7,
        "start_time": "2021-12-19T19:25:08.009Z"
      },
      {
        "duration": 7,
        "start_time": "2021-12-19T19:25:09.975Z"
      },
      {
        "duration": 7,
        "start_time": "2021-12-19T19:25:43.655Z"
      },
      {
        "duration": 12328,
        "start_time": "2021-12-19T19:29:51.006Z"
      },
      {
        "duration": 12810,
        "start_time": "2021-12-19T19:30:43.275Z"
      },
      {
        "duration": 9,
        "start_time": "2021-12-19T19:33:30.527Z"
      },
      {
        "duration": 3,
        "start_time": "2021-12-19T19:33:52.970Z"
      },
      {
        "duration": 4,
        "start_time": "2021-12-19T19:34:23.790Z"
      },
      {
        "duration": 4,
        "start_time": "2021-12-19T19:34:28.410Z"
      },
      {
        "duration": 3,
        "start_time": "2021-12-19T19:34:36.229Z"
      },
      {
        "duration": 3,
        "start_time": "2021-12-19T19:35:08.717Z"
      },
      {
        "duration": 21929,
        "start_time": "2021-12-19T19:35:12.326Z"
      },
      {
        "duration": 79,
        "start_time": "2021-12-19T19:36:11.128Z"
      },
      {
        "duration": 9214,
        "start_time": "2021-12-19T19:36:15.214Z"
      },
      {
        "duration": 82,
        "start_time": "2021-12-19T19:36:35.169Z"
      },
      {
        "duration": 74,
        "start_time": "2021-12-19T19:36:40.805Z"
      },
      {
        "duration": 2933,
        "start_time": "2021-12-19T19:36:53.901Z"
      },
      {
        "duration": 2953,
        "start_time": "2021-12-19T19:37:07.583Z"
      },
      {
        "duration": 35716,
        "start_time": "2021-12-19T19:37:15.563Z"
      },
      {
        "duration": 3261,
        "start_time": "2021-12-19T19:38:03.113Z"
      },
      {
        "duration": 3297,
        "start_time": "2021-12-19T19:38:19.402Z"
      },
      {
        "duration": 88,
        "start_time": "2021-12-19T19:40:58.970Z"
      },
      {
        "duration": 3317,
        "start_time": "2021-12-19T19:41:11.023Z"
      },
      {
        "duration": 3145,
        "start_time": "2021-12-19T19:41:14.688Z"
      },
      {
        "duration": 5094,
        "start_time": "2021-12-19T19:41:48.944Z"
      },
      {
        "duration": 2888,
        "start_time": "2021-12-19T19:41:56.930Z"
      },
      {
        "duration": 3188,
        "start_time": "2021-12-19T19:42:24.474Z"
      },
      {
        "duration": 110,
        "start_time": "2021-12-19T19:42:29.664Z"
      },
      {
        "duration": 3153,
        "start_time": "2021-12-19T19:42:47.561Z"
      },
      {
        "duration": 47,
        "start_time": "2021-12-19T19:43:37.136Z"
      },
      {
        "duration": 11,
        "start_time": "2021-12-19T19:43:39.989Z"
      },
      {
        "duration": 15,
        "start_time": "2021-12-19T19:43:42.264Z"
      },
      {
        "duration": 4,
        "start_time": "2021-12-19T19:43:55.852Z"
      },
      {
        "duration": 4,
        "start_time": "2021-12-19T19:43:57.913Z"
      },
      {
        "duration": 7,
        "start_time": "2021-12-19T19:44:00.099Z"
      },
      {
        "duration": 3132,
        "start_time": "2021-12-19T19:44:01.838Z"
      },
      {
        "duration": 12,
        "start_time": "2021-12-19T19:44:07.195Z"
      },
      {
        "duration": 5,
        "start_time": "2021-12-19T19:44:11.356Z"
      },
      {
        "duration": 18,
        "start_time": "2021-12-19T19:44:13.553Z"
      },
      {
        "duration": 10,
        "start_time": "2021-12-19T19:44:17.555Z"
      },
      {
        "duration": 9,
        "start_time": "2021-12-19T19:44:57.399Z"
      },
      {
        "duration": 14,
        "start_time": "2021-12-19T19:45:09.393Z"
      },
      {
        "duration": 13,
        "start_time": "2021-12-19T19:45:13.720Z"
      },
      {
        "duration": 9,
        "start_time": "2021-12-19T19:45:41.950Z"
      },
      {
        "duration": 14,
        "start_time": "2021-12-19T19:45:42.521Z"
      },
      {
        "duration": 45,
        "start_time": "2021-12-19T19:45:52.338Z"
      },
      {
        "duration": 14,
        "start_time": "2021-12-19T19:45:55.354Z"
      },
      {
        "duration": 9,
        "start_time": "2021-12-19T19:46:07.029Z"
      },
      {
        "duration": 3,
        "start_time": "2021-12-19T19:46:12.385Z"
      },
      {
        "duration": 4,
        "start_time": "2021-12-19T19:46:13.629Z"
      },
      {
        "duration": 7,
        "start_time": "2021-12-19T19:46:14.774Z"
      },
      {
        "duration": 3189,
        "start_time": "2021-12-19T19:46:16.533Z"
      },
      {
        "duration": 13,
        "start_time": "2021-12-19T19:46:24.465Z"
      },
      {
        "duration": 8,
        "start_time": "2021-12-19T19:46:42.343Z"
      },
      {
        "duration": 14,
        "start_time": "2021-12-19T19:46:44.893Z"
      },
      {
        "duration": 17,
        "start_time": "2021-12-19T19:46:55.983Z"
      },
      {
        "duration": 17,
        "start_time": "2021-12-19T19:46:58.238Z"
      },
      {
        "duration": 5,
        "start_time": "2021-12-19T19:47:17.361Z"
      },
      {
        "duration": 15,
        "start_time": "2021-12-19T19:47:31.375Z"
      },
      {
        "duration": 45,
        "start_time": "2021-12-19T19:47:41.545Z"
      },
      {
        "duration": 3,
        "start_time": "2021-12-19T19:47:47.965Z"
      },
      {
        "duration": 4,
        "start_time": "2021-12-19T19:47:50.357Z"
      },
      {
        "duration": 6,
        "start_time": "2021-12-19T19:47:52.684Z"
      },
      {
        "duration": 2978,
        "start_time": "2021-12-19T19:47:55.133Z"
      },
      {
        "duration": 14,
        "start_time": "2021-12-19T19:47:58.113Z"
      },
      {
        "duration": 10,
        "start_time": "2021-12-19T19:48:23.541Z"
      },
      {
        "duration": 5,
        "start_time": "2021-12-19T19:48:29.504Z"
      },
      {
        "duration": 311,
        "start_time": "2021-12-19T19:48:48.987Z"
      },
      {
        "duration": 4,
        "start_time": "2021-12-19T19:48:56.826Z"
      },
      {
        "duration": 3,
        "start_time": "2021-12-19T19:49:17.707Z"
      },
      {
        "duration": 3,
        "start_time": "2021-12-19T19:49:24.511Z"
      },
      {
        "duration": 12,
        "start_time": "2021-12-19T19:49:42.347Z"
      },
      {
        "duration": 241,
        "start_time": "2021-12-19T19:49:54.889Z"
      },
      {
        "duration": 11,
        "start_time": "2021-12-19T19:50:06.750Z"
      },
      {
        "duration": 4,
        "start_time": "2021-12-19T19:51:13.459Z"
      },
      {
        "duration": 20577,
        "start_time": "2021-12-19T19:51:21.944Z"
      },
      {
        "duration": 3244,
        "start_time": "2021-12-19T19:51:47.271Z"
      },
      {
        "duration": 3,
        "start_time": "2021-12-19T19:51:57.741Z"
      },
      {
        "duration": 6422,
        "start_time": "2021-12-19T19:52:24.287Z"
      },
      {
        "duration": 56550,
        "start_time": "2021-12-19T19:52:53.541Z"
      },
      {
        "duration": 9,
        "start_time": "2021-12-19T19:55:28.463Z"
      },
      {
        "duration": 15,
        "start_time": "2021-12-19T19:55:29.837Z"
      },
      {
        "duration": 63525,
        "start_time": "2021-12-19T19:55:45.277Z"
      },
      {
        "duration": 62,
        "start_time": "2021-12-19T19:56:58.251Z"
      },
      {
        "duration": 7,
        "start_time": "2021-12-19T19:57:07.031Z"
      },
      {
        "duration": 28,
        "start_time": "2021-12-19T19:57:08.483Z"
      },
      {
        "duration": 16,
        "start_time": "2021-12-19T19:57:12.136Z"
      },
      {
        "duration": 60573,
        "start_time": "2021-12-19T19:57:15.069Z"
      },
      {
        "duration": 15,
        "start_time": "2021-12-19T19:58:19.328Z"
      },
      {
        "duration": 46,
        "start_time": "2021-12-19T19:58:34.398Z"
      },
      {
        "duration": 14,
        "start_time": "2021-12-19T19:58:37.641Z"
      },
      {
        "duration": 11,
        "start_time": "2021-12-19T19:58:41.309Z"
      },
      {
        "duration": 4,
        "start_time": "2021-12-19T19:58:42.726Z"
      },
      {
        "duration": 4,
        "start_time": "2021-12-19T19:58:44.574Z"
      },
      {
        "duration": 4,
        "start_time": "2021-12-19T19:58:45.770Z"
      },
      {
        "duration": 6,
        "start_time": "2021-12-19T19:58:54.944Z"
      },
      {
        "duration": 3041,
        "start_time": "2021-12-19T19:58:55.923Z"
      },
      {
        "duration": 14,
        "start_time": "2021-12-19T19:58:58.966Z"
      },
      {
        "duration": 90,
        "start_time": "2021-12-19T20:01:18.803Z"
      },
      {
        "duration": 246,
        "start_time": "2021-12-19T20:01:23.869Z"
      },
      {
        "duration": 30,
        "start_time": "2021-12-19T20:01:31.672Z"
      },
      {
        "duration": 14,
        "start_time": "2021-12-19T20:01:39.967Z"
      },
      {
        "duration": 19,
        "start_time": "2021-12-19T20:02:36.400Z"
      },
      {
        "duration": 6804,
        "start_time": "2021-12-19T20:03:18.646Z"
      },
      {
        "duration": 6437,
        "start_time": "2021-12-19T20:03:28.085Z"
      },
      {
        "duration": 278,
        "start_time": "2021-12-19T20:03:41.094Z"
      },
      {
        "duration": 16,
        "start_time": "2021-12-19T20:03:46.096Z"
      },
      {
        "duration": 7170,
        "start_time": "2021-12-19T20:04:04.077Z"
      },
      {
        "duration": 6360,
        "start_time": "2021-12-19T20:05:36.242Z"
      },
      {
        "duration": 6746,
        "start_time": "2021-12-19T20:06:34.315Z"
      },
      {
        "duration": 84,
        "start_time": "2021-12-19T20:07:39.259Z"
      },
      {
        "duration": 80,
        "start_time": "2021-12-19T20:08:16.746Z"
      },
      {
        "duration": 10,
        "start_time": "2021-12-19T20:08:23.966Z"
      },
      {
        "duration": 15,
        "start_time": "2021-12-19T20:08:25.004Z"
      },
      {
        "duration": 5883,
        "start_time": "2021-12-19T20:08:49.466Z"
      },
      {
        "duration": 7524,
        "start_time": "2021-12-19T20:09:33.595Z"
      },
      {
        "duration": 6039,
        "start_time": "2021-12-19T20:09:56.666Z"
      },
      {
        "duration": 6970,
        "start_time": "2021-12-19T20:10:27.707Z"
      },
      {
        "duration": 6203,
        "start_time": "2021-12-19T20:10:39.244Z"
      },
      {
        "duration": 6552,
        "start_time": "2021-12-19T20:10:49.450Z"
      },
      {
        "duration": 7,
        "start_time": "2021-12-19T20:11:04.790Z"
      },
      {
        "duration": 7,
        "start_time": "2021-12-19T20:11:10.768Z"
      },
      {
        "duration": 6474,
        "start_time": "2021-12-19T20:11:21.059Z"
      },
      {
        "duration": 6012,
        "start_time": "2021-12-19T20:12:13.640Z"
      },
      {
        "duration": 6128,
        "start_time": "2021-12-19T20:13:17.107Z"
      },
      {
        "duration": 75,
        "start_time": "2021-12-19T20:14:08.070Z"
      },
      {
        "duration": 5819,
        "start_time": "2021-12-19T20:14:13.966Z"
      },
      {
        "duration": -7,
        "start_time": "2021-12-19T20:14:33.059Z"
      },
      {
        "duration": 4,
        "start_time": "2021-12-19T20:14:39.179Z"
      },
      {
        "duration": 6551,
        "start_time": "2021-12-19T20:14:45.267Z"
      },
      {
        "duration": 5735,
        "start_time": "2021-12-19T20:16:55.083Z"
      },
      {
        "duration": 6419,
        "start_time": "2021-12-19T20:17:02.744Z"
      },
      {
        "duration": 13,
        "start_time": "2021-12-19T20:17:22.159Z"
      },
      {
        "duration": 18,
        "start_time": "2021-12-19T20:17:32.260Z"
      },
      {
        "duration": 370,
        "start_time": "2021-12-21T16:49:36.815Z"
      },
      {
        "duration": 718,
        "start_time": "2021-12-21T16:49:50.665Z"
      },
      {
        "duration": 15,
        "start_time": "2021-12-21T16:49:51.385Z"
      },
      {
        "duration": 52,
        "start_time": "2021-12-21T16:49:51.402Z"
      },
      {
        "duration": 12,
        "start_time": "2021-12-21T16:49:51.456Z"
      },
      {
        "duration": 13,
        "start_time": "2021-12-21T16:49:51.470Z"
      },
      {
        "duration": 8,
        "start_time": "2021-12-21T16:49:51.485Z"
      },
      {
        "duration": 11,
        "start_time": "2021-12-21T16:49:51.495Z"
      },
      {
        "duration": 14,
        "start_time": "2021-12-21T16:49:51.509Z"
      },
      {
        "duration": 3269,
        "start_time": "2021-12-21T16:49:51.525Z"
      },
      {
        "duration": 17,
        "start_time": "2021-12-21T16:49:54.796Z"
      },
      {
        "duration": 7,
        "start_time": "2021-12-21T16:49:54.816Z"
      },
      {
        "duration": 27,
        "start_time": "2021-12-21T16:49:54.825Z"
      },
      {
        "duration": 471,
        "start_time": "2021-12-21T16:49:54.854Z"
      },
      {
        "duration": 78,
        "start_time": "2021-12-21T16:49:55.250Z"
      },
      {
        "duration": 75,
        "start_time": "2021-12-21T16:49:55.254Z"
      },
      {
        "duration": 47,
        "start_time": "2021-12-21T16:49:55.283Z"
      },
      {
        "duration": 44,
        "start_time": "2021-12-21T16:49:55.287Z"
      },
      {
        "duration": 42,
        "start_time": "2021-12-21T16:49:55.290Z"
      },
      {
        "duration": 39,
        "start_time": "2021-12-21T16:49:55.293Z"
      },
      {
        "duration": 38,
        "start_time": "2021-12-21T16:49:55.296Z"
      },
      {
        "duration": 36,
        "start_time": "2021-12-21T16:49:55.299Z"
      },
      {
        "duration": 34,
        "start_time": "2021-12-21T16:49:55.302Z"
      },
      {
        "duration": 32,
        "start_time": "2021-12-21T16:49:55.305Z"
      },
      {
        "duration": 29,
        "start_time": "2021-12-21T16:49:55.309Z"
      },
      {
        "duration": 26,
        "start_time": "2021-12-21T16:49:55.313Z"
      },
      {
        "duration": 24,
        "start_time": "2021-12-21T16:49:55.316Z"
      },
      {
        "duration": 22,
        "start_time": "2021-12-21T16:49:55.319Z"
      },
      {
        "duration": 20,
        "start_time": "2021-12-21T16:49:55.322Z"
      },
      {
        "duration": 18,
        "start_time": "2021-12-21T16:49:55.325Z"
      },
      {
        "duration": 16,
        "start_time": "2021-12-21T16:49:55.328Z"
      },
      {
        "duration": 15,
        "start_time": "2021-12-21T16:49:55.330Z"
      },
      {
        "duration": 13,
        "start_time": "2021-12-21T16:49:55.333Z"
      },
      {
        "duration": 11,
        "start_time": "2021-12-21T16:49:55.336Z"
      },
      {
        "duration": 9,
        "start_time": "2021-12-21T16:49:55.339Z"
      },
      {
        "duration": 8,
        "start_time": "2021-12-21T16:49:55.341Z"
      },
      {
        "duration": 6,
        "start_time": "2021-12-21T16:49:55.344Z"
      },
      {
        "duration": 341,
        "start_time": "2021-12-21T16:51:29.497Z"
      },
      {
        "duration": 142,
        "start_time": "2021-12-21T16:52:08.070Z"
      },
      {
        "duration": 111,
        "start_time": "2021-12-21T16:52:13.407Z"
      },
      {
        "duration": 127,
        "start_time": "2021-12-21T16:52:16.211Z"
      },
      {
        "duration": 123,
        "start_time": "2021-12-21T16:52:21.504Z"
      },
      {
        "duration": 335,
        "start_time": "2021-12-21T16:52:25.276Z"
      },
      {
        "duration": 3,
        "start_time": "2021-12-21T16:52:39.583Z"
      },
      {
        "duration": 366,
        "start_time": "2021-12-21T16:52:53.246Z"
      },
      {
        "duration": 359,
        "start_time": "2021-12-21T16:53:13.096Z"
      },
      {
        "duration": 19536,
        "start_time": "2021-12-21T16:53:25.415Z"
      },
      {
        "duration": 418,
        "start_time": "2021-12-21T16:54:16.549Z"
      },
      {
        "duration": 398,
        "start_time": "2021-12-21T16:55:04.535Z"
      },
      {
        "duration": 116,
        "start_time": "2021-12-21T16:55:10.174Z"
      },
      {
        "duration": 133,
        "start_time": "2021-12-21T16:55:36.091Z"
      },
      {
        "duration": 451,
        "start_time": "2021-12-21T16:55:51.594Z"
      },
      {
        "duration": 115,
        "start_time": "2021-12-21T16:55:58.108Z"
      },
      {
        "duration": 119,
        "start_time": "2021-12-21T16:56:13.123Z"
      },
      {
        "duration": 531,
        "start_time": "2021-12-21T16:56:16.198Z"
      },
      {
        "duration": 336,
        "start_time": "2021-12-21T16:59:39.920Z"
      },
      {
        "duration": 19,
        "start_time": "2021-12-21T16:59:43.509Z"
      },
      {
        "duration": 643,
        "start_time": "2021-12-21T16:59:51.239Z"
      },
      {
        "duration": 345,
        "start_time": "2021-12-21T16:59:55.982Z"
      },
      {
        "duration": 6,
        "start_time": "2021-12-21T17:04:23.573Z"
      },
      {
        "duration": 49,
        "start_time": "2021-12-21T17:04:27.399Z"
      },
      {
        "duration": 10,
        "start_time": "2021-12-21T17:04:31.270Z"
      },
      {
        "duration": 3,
        "start_time": "2021-12-21T17:04:34.366Z"
      },
      {
        "duration": 5,
        "start_time": "2021-12-21T17:04:37.901Z"
      },
      {
        "duration": 6,
        "start_time": "2021-12-21T17:04:39.273Z"
      },
      {
        "duration": 8,
        "start_time": "2021-12-21T17:05:00.843Z"
      },
      {
        "duration": 6,
        "start_time": "2021-12-21T17:05:32.529Z"
      },
      {
        "duration": 115,
        "start_time": "2021-12-21T17:06:42.289Z"
      },
      {
        "duration": 29237,
        "start_time": "2021-12-21T17:06:46.247Z"
      },
      {
        "duration": 88,
        "start_time": "2021-12-21T17:07:15.401Z"
      },
      {
        "duration": 114,
        "start_time": "2021-12-21T17:07:17.045Z"
      },
      {
        "duration": 3,
        "start_time": "2021-12-21T17:07:42.303Z"
      },
      {
        "duration": 81063,
        "start_time": "2021-12-21T17:07:51.785Z"
      },
      {
        "duration": 4,
        "start_time": "2021-12-21T17:09:14.587Z"
      },
      {
        "duration": 6,
        "start_time": "2021-12-21T17:09:16.129Z"
      },
      {
        "duration": 1692,
        "start_time": "2021-12-21T17:17:21.797Z"
      },
      {
        "duration": 19,
        "start_time": "2021-12-21T17:17:26.101Z"
      },
      {
        "duration": 1748,
        "start_time": "2021-12-21T17:18:49.827Z"
      },
      {
        "duration": 14,
        "start_time": "2021-12-21T17:18:51.577Z"
      },
      {
        "duration": 6,
        "start_time": "2021-12-21T17:19:16.377Z"
      },
      {
        "duration": 406,
        "start_time": "2021-12-21T17:21:03.729Z"
      },
      {
        "duration": 6,
        "start_time": "2021-12-21T17:31:38.421Z"
      },
      {
        "duration": 10,
        "start_time": "2021-12-21T17:31:40.607Z"
      },
      {
        "duration": 15,
        "start_time": "2021-12-21T17:31:41.828Z"
      },
      {
        "duration": 7,
        "start_time": "2021-12-21T17:33:08.420Z"
      },
      {
        "duration": 7,
        "start_time": "2021-12-21T17:33:16.535Z"
      },
      {
        "duration": 10,
        "start_time": "2021-12-21T17:33:20.916Z"
      },
      {
        "duration": 16,
        "start_time": "2021-12-21T17:33:21.962Z"
      },
      {
        "duration": 5,
        "start_time": "2021-12-21T17:37:09.214Z"
      },
      {
        "duration": 14,
        "start_time": "2021-12-21T17:37:10.461Z"
      },
      {
        "duration": 12,
        "start_time": "2021-12-21T17:37:14.986Z"
      },
      {
        "duration": 4,
        "start_time": "2021-12-21T17:48:57.700Z"
      },
      {
        "duration": 16,
        "start_time": "2021-12-21T17:48:58.541Z"
      },
      {
        "duration": 12,
        "start_time": "2021-12-21T17:49:04.259Z"
      },
      {
        "duration": 51,
        "start_time": "2021-12-21T17:51:07.270Z"
      },
      {
        "duration": 11,
        "start_time": "2021-12-21T17:51:07.945Z"
      },
      {
        "duration": 16,
        "start_time": "2021-12-21T17:51:10.888Z"
      },
      {
        "duration": 12,
        "start_time": "2021-12-21T17:51:14.357Z"
      },
      {
        "duration": 4,
        "start_time": "2021-12-21T17:51:15.746Z"
      },
      {
        "duration": 4,
        "start_time": "2021-12-21T17:51:18.423Z"
      },
      {
        "duration": 13,
        "start_time": "2021-12-21T17:51:54.728Z"
      },
      {
        "duration": 12,
        "start_time": "2021-12-21T17:52:42.195Z"
      },
      {
        "duration": 8,
        "start_time": "2021-12-21T17:52:44.305Z"
      },
      {
        "duration": 7,
        "start_time": "2021-12-21T17:53:12.745Z"
      },
      {
        "duration": 9347,
        "start_time": "2021-12-21T17:53:36.567Z"
      },
      {
        "duration": 14,
        "start_time": "2021-12-21T17:54:35.344Z"
      },
      {
        "duration": 9101,
        "start_time": "2021-12-21T17:54:38.121Z"
      },
      {
        "duration": 14,
        "start_time": "2021-12-21T17:54:47.239Z"
      },
      {
        "duration": 6,
        "start_time": "2021-12-21T17:54:57.666Z"
      },
      {
        "duration": 8536,
        "start_time": "2021-12-21T17:54:58.527Z"
      },
      {
        "duration": 13,
        "start_time": "2021-12-21T17:55:17.399Z"
      },
      {
        "duration": 51,
        "start_time": "2021-12-21T17:55:31.113Z"
      },
      {
        "duration": 12,
        "start_time": "2021-12-21T17:55:31.752Z"
      },
      {
        "duration": 15,
        "start_time": "2021-12-21T17:55:34.810Z"
      },
      {
        "duration": 11,
        "start_time": "2021-12-21T17:55:37.728Z"
      },
      {
        "duration": 3,
        "start_time": "2021-12-21T17:55:40.327Z"
      },
      {
        "duration": 4,
        "start_time": "2021-12-21T17:55:44.814Z"
      },
      {
        "duration": 11,
        "start_time": "2021-12-21T17:55:48.693Z"
      },
      {
        "duration": 7,
        "start_time": "2021-12-21T17:55:51.322Z"
      },
      {
        "duration": 8931,
        "start_time": "2021-12-21T17:56:01.682Z"
      },
      {
        "duration": 16,
        "start_time": "2021-12-21T17:56:10.615Z"
      },
      {
        "duration": 10093,
        "start_time": "2021-12-21T17:56:23.874Z"
      },
      {
        "duration": 14,
        "start_time": "2021-12-21T17:56:33.969Z"
      },
      {
        "duration": 8622,
        "start_time": "2021-12-21T17:56:55.337Z"
      },
      {
        "duration": 7,
        "start_time": "2021-12-21T17:57:03.960Z"
      },
      {
        "duration": 7,
        "start_time": "2021-12-21T17:57:07.881Z"
      },
      {
        "duration": 8736,
        "start_time": "2021-12-21T17:57:16.786Z"
      },
      {
        "duration": 14,
        "start_time": "2021-12-21T17:57:28.439Z"
      },
      {
        "duration": 5,
        "start_time": "2021-12-21T17:57:40.899Z"
      },
      {
        "duration": 14,
        "start_time": "2021-12-21T17:57:43.952Z"
      },
      {
        "duration": 8349,
        "start_time": "2021-12-21T17:57:48.484Z"
      },
      {
        "duration": 14,
        "start_time": "2021-12-21T17:57:58.572Z"
      },
      {
        "duration": -11,
        "start_time": "2021-12-21T17:59:02.424Z"
      },
      {
        "duration": 53694,
        "start_time": "2021-12-21T17:59:03.659Z"
      },
      {
        "duration": 741,
        "start_time": "2021-12-21T18:00:05.403Z"
      },
      {
        "duration": 12,
        "start_time": "2021-12-21T18:00:07.557Z"
      },
      {
        "duration": 22,
        "start_time": "2021-12-21T18:00:11.813Z"
      },
      {
        "duration": 13,
        "start_time": "2021-12-21T18:00:42.361Z"
      },
      {
        "duration": 12,
        "start_time": "2021-12-21T18:01:42.829Z"
      },
      {
        "duration": 14,
        "start_time": "2021-12-21T18:05:01.379Z"
      },
      {
        "duration": 4,
        "start_time": "2021-12-21T18:05:57.127Z"
      },
      {
        "duration": 5,
        "start_time": "2021-12-21T18:06:17.710Z"
      },
      {
        "duration": 4,
        "start_time": "2021-12-21T18:06:25.110Z"
      },
      {
        "duration": 4,
        "start_time": "2021-12-21T18:07:34.534Z"
      },
      {
        "duration": 12,
        "start_time": "2021-12-21T18:07:35.914Z"
      },
      {
        "duration": 12,
        "start_time": "2021-12-21T18:07:42.671Z"
      },
      {
        "duration": 7,
        "start_time": "2021-12-21T18:07:44.440Z"
      },
      {
        "duration": 16214,
        "start_time": "2021-12-21T18:07:49.359Z"
      },
      {
        "duration": 6,
        "start_time": "2021-12-21T18:08:15.450Z"
      },
      {
        "duration": 15,
        "start_time": "2021-12-21T18:08:18.332Z"
      },
      {
        "duration": 6,
        "start_time": "2021-12-21T18:08:58.909Z"
      },
      {
        "duration": 54,
        "start_time": "2021-12-21T18:09:34.897Z"
      },
      {
        "duration": 12,
        "start_time": "2021-12-21T18:09:35.228Z"
      },
      {
        "duration": 14,
        "start_time": "2021-12-21T18:09:36.015Z"
      },
      {
        "duration": 11,
        "start_time": "2021-12-21T18:09:37.071Z"
      },
      {
        "duration": 4,
        "start_time": "2021-12-21T18:09:38.047Z"
      },
      {
        "duration": 3,
        "start_time": "2021-12-21T18:09:39.722Z"
      },
      {
        "duration": 12,
        "start_time": "2021-12-21T18:09:40.721Z"
      },
      {
        "duration": 6,
        "start_time": "2021-12-21T18:09:43.311Z"
      },
      {
        "duration": 457,
        "start_time": "2021-12-21T18:10:00.749Z"
      },
      {
        "duration": 429,
        "start_time": "2021-12-21T18:10:13.729Z"
      },
      {
        "duration": 1567,
        "start_time": "2021-12-21T18:10:27.382Z"
      },
      {
        "duration": 18,
        "start_time": "2021-12-21T18:10:28.951Z"
      },
      {
        "duration": 11,
        "start_time": "2021-12-21T18:10:55.899Z"
      },
      {
        "duration": 5,
        "start_time": "2021-12-21T18:11:30.316Z"
      },
      {
        "duration": 7,
        "start_time": "2021-12-21T18:11:31.467Z"
      },
      {
        "duration": 13,
        "start_time": "2021-12-21T18:11:34.639Z"
      },
      {
        "duration": 4,
        "start_time": "2021-12-21T18:11:54.806Z"
      },
      {
        "duration": 12,
        "start_time": "2021-12-21T18:11:56.727Z"
      },
      {
        "duration": 12,
        "start_time": "2021-12-21T18:15:22.480Z"
      },
      {
        "duration": 5,
        "start_time": "2021-12-21T18:15:24.462Z"
      },
      {
        "duration": 6,
        "start_time": "2021-12-21T18:15:38.848Z"
      },
      {
        "duration": 6,
        "start_time": "2021-12-21T18:16:11.958Z"
      },
      {
        "duration": 11,
        "start_time": "2021-12-21T18:16:27.444Z"
      },
      {
        "duration": 14,
        "start_time": "2021-12-21T18:16:35.679Z"
      },
      {
        "duration": 14,
        "start_time": "2021-12-21T18:16:45.834Z"
      },
      {
        "duration": 63,
        "start_time": "2021-12-21T18:16:51.056Z"
      },
      {
        "duration": 12,
        "start_time": "2021-12-21T18:16:52.254Z"
      },
      {
        "duration": 14,
        "start_time": "2021-12-21T18:16:55.775Z"
      },
      {
        "duration": 11,
        "start_time": "2021-12-21T18:17:29.366Z"
      },
      {
        "duration": 4,
        "start_time": "2021-12-21T18:17:33.392Z"
      },
      {
        "duration": 18,
        "start_time": "2021-12-21T18:17:35.798Z"
      },
      {
        "duration": 7,
        "start_time": "2021-12-21T18:17:40.458Z"
      },
      {
        "duration": 1331,
        "start_time": "2021-12-21T18:17:49.833Z"
      },
      {
        "duration": 11,
        "start_time": "2021-12-21T18:17:55.409Z"
      },
      {
        "duration": 5,
        "start_time": "2021-12-21T18:18:02.584Z"
      },
      {
        "duration": 15,
        "start_time": "2021-12-21T18:19:24.696Z"
      },
      {
        "duration": 10,
        "start_time": "2021-12-21T18:19:36.343Z"
      },
      {
        "duration": 52,
        "start_time": "2021-12-21T18:19:42.328Z"
      },
      {
        "duration": 11,
        "start_time": "2021-12-21T18:19:44.916Z"
      },
      {
        "duration": 14,
        "start_time": "2021-12-21T18:19:53.632Z"
      },
      {
        "duration": 11,
        "start_time": "2021-12-21T18:19:58.270Z"
      },
      {
        "duration": 4,
        "start_time": "2021-12-21T18:20:03.120Z"
      },
      {
        "duration": 14,
        "start_time": "2021-12-21T18:20:07.251Z"
      },
      {
        "duration": 8,
        "start_time": "2021-12-21T18:20:11.286Z"
      },
      {
        "duration": 1304,
        "start_time": "2021-12-21T18:20:14.430Z"
      },
      {
        "duration": 12,
        "start_time": "2021-12-21T18:20:18.660Z"
      },
      {
        "duration": 5,
        "start_time": "2021-12-21T18:20:27.416Z"
      },
      {
        "duration": 14,
        "start_time": "2021-12-21T18:20:30.262Z"
      },
      {
        "duration": 22,
        "start_time": "2021-12-21T18:20:50.297Z"
      },
      {
        "duration": 8,
        "start_time": "2021-12-21T18:21:39.658Z"
      },
      {
        "duration": 6,
        "start_time": "2021-12-21T18:21:52.034Z"
      },
      {
        "duration": 10,
        "start_time": "2021-12-21T18:21:54.581Z"
      },
      {
        "duration": 15,
        "start_time": "2021-12-21T18:21:57.293Z"
      },
      {
        "duration": 14,
        "start_time": "2021-12-21T18:22:14.133Z"
      },
      {
        "duration": 13,
        "start_time": "2021-12-21T18:22:22.856Z"
      },
      {
        "duration": 4,
        "start_time": "2021-12-21T18:23:56.320Z"
      },
      {
        "duration": 13,
        "start_time": "2021-12-21T18:23:57.090Z"
      },
      {
        "duration": 12,
        "start_time": "2021-12-21T18:24:23.946Z"
      },
      {
        "duration": 14,
        "start_time": "2021-12-21T18:24:26.473Z"
      },
      {
        "duration": 12,
        "start_time": "2021-12-21T18:24:30.357Z"
      },
      {
        "duration": 16,
        "start_time": "2021-12-21T18:26:28.562Z"
      },
      {
        "duration": 20,
        "start_time": "2021-12-21T18:26:31.703Z"
      },
      {
        "duration": 11,
        "start_time": "2021-12-21T18:26:33.815Z"
      },
      {
        "duration": 17,
        "start_time": "2021-12-21T18:28:27.194Z"
      },
      {
        "duration": 12,
        "start_time": "2021-12-21T18:28:33.128Z"
      },
      {
        "duration": 25,
        "start_time": "2021-12-21T18:28:35.257Z"
      },
      {
        "duration": 8,
        "start_time": "2021-12-21T18:29:07.693Z"
      },
      {
        "duration": 7,
        "start_time": "2021-12-21T18:30:40.443Z"
      },
      {
        "duration": 12,
        "start_time": "2021-12-21T18:30:44.741Z"
      },
      {
        "duration": 784,
        "start_time": "2021-12-21T18:30:51.125Z"
      },
      {
        "duration": 4,
        "start_time": "2021-12-21T18:30:55.321Z"
      },
      {
        "duration": 646,
        "start_time": "2021-12-21T18:32:01.216Z"
      },
      {
        "duration": 644,
        "start_time": "2021-12-21T18:33:40.019Z"
      },
      {
        "duration": 122,
        "start_time": "2021-12-21T18:34:17.081Z"
      },
      {
        "duration": 657,
        "start_time": "2021-12-21T18:34:34.061Z"
      },
      {
        "duration": 636,
        "start_time": "2021-12-21T18:34:54.945Z"
      },
      {
        "duration": 701,
        "start_time": "2021-12-21T18:35:42.938Z"
      },
      {
        "duration": 6,
        "start_time": "2021-12-21T18:36:06.850Z"
      },
      {
        "duration": 12,
        "start_time": "2021-12-21T18:36:10.084Z"
      },
      {
        "duration": 5,
        "start_time": "2021-12-21T18:36:13.156Z"
      },
      {
        "duration": 17,
        "start_time": "2021-12-21T18:36:15.642Z"
      },
      {
        "duration": 19,
        "start_time": "2021-12-21T18:38:45.560Z"
      },
      {
        "duration": 695,
        "start_time": "2021-12-21T18:39:57.231Z"
      },
      {
        "duration": 10,
        "start_time": "2021-12-21T18:39:57.928Z"
      },
      {
        "duration": 20,
        "start_time": "2021-12-21T18:39:57.940Z"
      },
      {
        "duration": 11,
        "start_time": "2021-12-21T18:39:57.963Z"
      },
      {
        "duration": 4,
        "start_time": "2021-12-21T18:39:57.976Z"
      },
      {
        "duration": 27,
        "start_time": "2021-12-21T18:39:57.981Z"
      },
      {
        "duration": 13,
        "start_time": "2021-12-21T18:39:58.010Z"
      },
      {
        "duration": 7,
        "start_time": "2021-12-21T18:39:58.026Z"
      },
      {
        "duration": 2119,
        "start_time": "2021-12-21T18:39:58.036Z"
      },
      {
        "duration": 18,
        "start_time": "2021-12-21T18:40:00.157Z"
      },
      {
        "duration": 13,
        "start_time": "2021-12-21T18:40:00.177Z"
      },
      {
        "duration": 23,
        "start_time": "2021-12-21T18:40:00.192Z"
      },
      {
        "duration": 18,
        "start_time": "2021-12-21T18:40:00.218Z"
      },
      {
        "duration": 20,
        "start_time": "2021-12-21T18:40:00.238Z"
      },
      {
        "duration": 21,
        "start_time": "2021-12-21T18:40:00.260Z"
      },
      {
        "duration": 14,
        "start_time": "2021-12-21T18:40:00.283Z"
      },
      {
        "duration": 12,
        "start_time": "2021-12-21T18:40:00.307Z"
      },
      {
        "duration": 15,
        "start_time": "2021-12-21T18:40:00.321Z"
      },
      {
        "duration": 19,
        "start_time": "2021-12-21T18:40:00.338Z"
      },
      {
        "duration": 48,
        "start_time": "2021-12-21T18:40:00.359Z"
      },
      {
        "duration": 12,
        "start_time": "2021-12-21T18:40:00.409Z"
      },
      {
        "duration": 22,
        "start_time": "2021-12-21T18:40:00.422Z"
      },
      {
        "duration": 12,
        "start_time": "2021-12-21T18:40:00.447Z"
      },
      {
        "duration": 46,
        "start_time": "2021-12-21T18:40:00.461Z"
      },
      {
        "duration": 14,
        "start_time": "2021-12-21T18:40:00.509Z"
      },
      {
        "duration": 21,
        "start_time": "2021-12-21T18:40:00.525Z"
      },
      {
        "duration": 21,
        "start_time": "2021-12-21T18:40:00.547Z"
      },
      {
        "duration": 1009,
        "start_time": "2021-12-21T18:40:00.570Z"
      },
      {
        "duration": 4,
        "start_time": "2021-12-21T18:40:01.581Z"
      },
      {
        "duration": 21,
        "start_time": "2021-12-21T18:40:01.587Z"
      },
      {
        "duration": 23,
        "start_time": "2021-12-21T18:40:01.611Z"
      },
      {
        "duration": 9,
        "start_time": "2021-12-21T18:40:01.636Z"
      },
      {
        "duration": 56,
        "start_time": "2021-12-21T18:40:01.647Z"
      },
      {
        "duration": 48,
        "start_time": "2021-12-21T18:40:01.706Z"
      },
      {
        "duration": 55,
        "start_time": "2021-12-21T18:40:01.756Z"
      },
      {
        "duration": 12,
        "start_time": "2021-12-21T18:40:01.813Z"
      },
      {
        "duration": 25,
        "start_time": "2021-12-21T18:41:15.516Z"
      },
      {
        "duration": 27,
        "start_time": "2021-12-21T18:41:21.031Z"
      },
      {
        "duration": 759,
        "start_time": "2021-12-21T18:42:31.710Z"
      },
      {
        "duration": 12,
        "start_time": "2021-12-21T18:42:33.787Z"
      },
      {
        "duration": 16,
        "start_time": "2021-12-21T18:42:39.584Z"
      },
      {
        "duration": 4,
        "start_time": "2021-12-21T18:42:47.946Z"
      },
      {
        "duration": 13,
        "start_time": "2021-12-21T18:42:48.975Z"
      },
      {
        "duration": 7,
        "start_time": "2021-12-21T18:42:50.337Z"
      },
      {
        "duration": 1268,
        "start_time": "2021-12-21T18:42:51.330Z"
      },
      {
        "duration": 12,
        "start_time": "2021-12-21T18:42:52.599Z"
      },
      {
        "duration": 4,
        "start_time": "2021-12-21T18:42:54.914Z"
      },
      {
        "duration": 13,
        "start_time": "2021-12-21T18:42:55.308Z"
      },
      {
        "duration": 6,
        "start_time": "2021-12-21T18:42:57.260Z"
      },
      {
        "duration": 9,
        "start_time": "2021-12-21T18:42:58.102Z"
      },
      {
        "duration": 13,
        "start_time": "2021-12-21T18:42:58.340Z"
      },
      {
        "duration": 4,
        "start_time": "2021-12-21T18:42:59.426Z"
      },
      {
        "duration": 11,
        "start_time": "2021-12-21T18:42:59.876Z"
      },
      {
        "duration": 11,
        "start_time": "2021-12-21T18:43:00.506Z"
      },
      {
        "duration": 16,
        "start_time": "2021-12-21T18:43:02.182Z"
      },
      {
        "duration": 19,
        "start_time": "2021-12-21T18:43:04.474Z"
      },
      {
        "duration": 11,
        "start_time": "2021-12-21T18:43:04.910Z"
      },
      {
        "duration": 17,
        "start_time": "2021-12-21T18:43:08.418Z"
      },
      {
        "duration": 13,
        "start_time": "2021-12-21T18:43:09.133Z"
      },
      {
        "duration": 27,
        "start_time": "2021-12-21T18:43:09.499Z"
      },
      {
        "duration": 17,
        "start_time": "2021-12-21T18:43:16.450Z"
      },
      {
        "duration": 21,
        "start_time": "2021-12-21T18:43:59.261Z"
      },
      {
        "duration": 15,
        "start_time": "2021-12-21T18:44:21.782Z"
      },
      {
        "duration": 9,
        "start_time": "2021-12-21T18:45:29.489Z"
      },
      {
        "duration": 12,
        "start_time": "2021-12-21T18:45:32.549Z"
      },
      {
        "duration": 11,
        "start_time": "2021-12-21T18:45:33.409Z"
      },
      {
        "duration": 685,
        "start_time": "2021-12-21T18:45:34.019Z"
      },
      {
        "duration": 5,
        "start_time": "2021-12-21T18:45:34.944Z"
      },
      {
        "duration": 5,
        "start_time": "2021-12-21T18:45:52.021Z"
      },
      {
        "duration": 11,
        "start_time": "2021-12-21T18:45:53.952Z"
      },
      {
        "duration": 6,
        "start_time": "2021-12-21T18:45:55.024Z"
      },
      {
        "duration": 18,
        "start_time": "2021-12-21T18:45:55.514Z"
      },
      {
        "duration": 19,
        "start_time": "2021-12-21T18:45:57.376Z"
      },
      {
        "duration": 435,
        "start_time": "2021-12-22T16:36:18.866Z"
      },
      {
        "duration": 892,
        "start_time": "2021-12-22T16:36:27.392Z"
      },
      {
        "duration": 18,
        "start_time": "2021-12-22T16:36:28.287Z"
      },
      {
        "duration": 67,
        "start_time": "2021-12-22T16:36:28.308Z"
      },
      {
        "duration": 19,
        "start_time": "2021-12-22T16:36:28.378Z"
      },
      {
        "duration": 7,
        "start_time": "2021-12-22T16:36:28.400Z"
      },
      {
        "duration": 6,
        "start_time": "2021-12-22T16:36:28.410Z"
      },
      {
        "duration": 61,
        "start_time": "2021-12-22T16:36:28.419Z"
      },
      {
        "duration": 11,
        "start_time": "2021-12-22T16:36:28.486Z"
      },
      {
        "duration": 2393,
        "start_time": "2021-12-22T16:36:28.499Z"
      },
      {
        "duration": 19,
        "start_time": "2021-12-22T16:36:30.895Z"
      },
      {
        "duration": 31,
        "start_time": "2021-12-22T16:36:30.918Z"
      },
      {
        "duration": 39,
        "start_time": "2021-12-22T16:36:30.952Z"
      },
      {
        "duration": 17,
        "start_time": "2021-12-22T16:36:30.993Z"
      },
      {
        "duration": 28,
        "start_time": "2021-12-22T16:36:31.012Z"
      },
      {
        "duration": 35,
        "start_time": "2021-12-22T16:36:31.042Z"
      },
      {
        "duration": 12,
        "start_time": "2021-12-22T16:36:31.079Z"
      },
      {
        "duration": 18,
        "start_time": "2021-12-22T16:36:31.094Z"
      },
      {
        "duration": 22,
        "start_time": "2021-12-22T16:36:31.114Z"
      },
      {
        "duration": 41,
        "start_time": "2021-12-22T16:36:31.139Z"
      },
      {
        "duration": 28,
        "start_time": "2021-12-22T16:36:31.182Z"
      },
      {
        "duration": 15,
        "start_time": "2021-12-22T16:36:31.213Z"
      },
      {
        "duration": 35,
        "start_time": "2021-12-22T16:36:31.261Z"
      },
      {
        "duration": 19,
        "start_time": "2021-12-22T16:36:31.303Z"
      },
      {
        "duration": 78,
        "start_time": "2021-12-22T16:36:31.325Z"
      },
      {
        "duration": 29,
        "start_time": "2021-12-22T16:36:31.405Z"
      },
      {
        "duration": 36,
        "start_time": "2021-12-22T16:36:31.436Z"
      },
      {
        "duration": 12,
        "start_time": "2021-12-22T16:36:31.474Z"
      },
      {
        "duration": 27,
        "start_time": "2021-12-22T16:36:31.489Z"
      },
      {
        "duration": 19,
        "start_time": "2021-12-22T16:36:31.518Z"
      },
      {
        "duration": 976,
        "start_time": "2021-12-22T16:36:31.540Z"
      },
      {
        "duration": 4,
        "start_time": "2021-12-22T16:36:32.518Z"
      },
      {
        "duration": 8,
        "start_time": "2021-12-22T16:36:32.526Z"
      },
      {
        "duration": 24,
        "start_time": "2021-12-22T16:36:32.560Z"
      },
      {
        "duration": 10,
        "start_time": "2021-12-22T16:36:32.587Z"
      },
      {
        "duration": 61,
        "start_time": "2021-12-22T16:36:32.600Z"
      },
      {
        "duration": 100,
        "start_time": "2021-12-22T16:36:32.665Z"
      },
      {
        "duration": 23,
        "start_time": "2021-12-22T16:36:32.768Z"
      },
      {
        "duration": 11,
        "start_time": "2021-12-22T16:52:21.851Z"
      },
      {
        "duration": 124,
        "start_time": "2021-12-22T16:54:34.380Z"
      },
      {
        "duration": 121,
        "start_time": "2021-12-22T16:54:39.904Z"
      },
      {
        "duration": 29,
        "start_time": "2021-12-22T16:54:42.821Z"
      },
      {
        "duration": 462,
        "start_time": "2021-12-22T16:54:52.815Z"
      },
      {
        "duration": 459,
        "start_time": "2021-12-22T16:55:15.645Z"
      },
      {
        "duration": 405,
        "start_time": "2021-12-22T16:55:22.030Z"
      },
      {
        "duration": 459,
        "start_time": "2021-12-22T16:55:41.000Z"
      },
      {
        "duration": 428,
        "start_time": "2021-12-22T16:55:45.737Z"
      },
      {
        "duration": 485,
        "start_time": "2021-12-22T16:55:51.940Z"
      },
      {
        "duration": 531,
        "start_time": "2021-12-22T16:56:04.311Z"
      },
      {
        "duration": 605,
        "start_time": "2021-12-22T16:56:15.463Z"
      },
      {
        "duration": 547,
        "start_time": "2021-12-22T16:56:26.343Z"
      },
      {
        "duration": 714,
        "start_time": "2021-12-22T16:56:53.538Z"
      },
      {
        "duration": 33,
        "start_time": "2021-12-22T16:57:01.463Z"
      },
      {
        "duration": 8134,
        "start_time": "2021-12-22T16:58:08.281Z"
      },
      {
        "duration": 5,
        "start_time": "2021-12-22T16:58:47.932Z"
      },
      {
        "duration": 6,
        "start_time": "2021-12-22T16:58:53.076Z"
      },
      {
        "duration": 6,
        "start_time": "2021-12-22T16:59:10.632Z"
      },
      {
        "duration": 5,
        "start_time": "2021-12-22T16:59:16.728Z"
      },
      {
        "duration": 6,
        "start_time": "2021-12-22T16:59:19.604Z"
      },
      {
        "duration": 336,
        "start_time": "2021-12-22T16:59:29.301Z"
      },
      {
        "duration": 188,
        "start_time": "2021-12-22T16:59:56.501Z"
      },
      {
        "duration": 1027,
        "start_time": "2021-12-22T16:59:59.079Z"
      },
      {
        "duration": 5,
        "start_time": "2021-12-22T17:00:03.965Z"
      },
      {
        "duration": 5,
        "start_time": "2021-12-22T17:00:10.276Z"
      },
      {
        "duration": 5,
        "start_time": "2021-12-22T17:00:17.038Z"
      },
      {
        "duration": 4,
        "start_time": "2021-12-22T17:00:23.250Z"
      },
      {
        "duration": 5,
        "start_time": "2021-12-22T17:00:26.405Z"
      },
      {
        "duration": 6,
        "start_time": "2021-12-22T17:00:33.570Z"
      },
      {
        "duration": 8,
        "start_time": "2021-12-22T17:01:36.598Z"
      },
      {
        "duration": 7,
        "start_time": "2021-12-22T17:01:58.321Z"
      },
      {
        "duration": 9,
        "start_time": "2021-12-22T17:02:03.141Z"
      },
      {
        "duration": 7,
        "start_time": "2021-12-22T17:02:09.108Z"
      },
      {
        "duration": 9,
        "start_time": "2021-12-22T17:02:20.319Z"
      },
      {
        "duration": 9,
        "start_time": "2021-12-22T17:02:31.106Z"
      },
      {
        "duration": 426,
        "start_time": "2021-12-22T17:10:34.320Z"
      },
      {
        "duration": 602,
        "start_time": "2021-12-22T17:10:49.063Z"
      },
      {
        "duration": 506,
        "start_time": "2021-12-22T17:10:51.786Z"
      },
      {
        "duration": 10423,
        "start_time": "2021-12-22T17:11:05.839Z"
      },
      {
        "duration": 1029,
        "start_time": "2021-12-22T17:12:51.581Z"
      },
      {
        "duration": 1044,
        "start_time": "2021-12-22T17:13:05.168Z"
      },
      {
        "duration": 530,
        "start_time": "2021-12-22T17:13:14.771Z"
      },
      {
        "duration": 157,
        "start_time": "2021-12-22T17:13:56.031Z"
      },
      {
        "duration": 130,
        "start_time": "2021-12-22T17:14:04.487Z"
      },
      {
        "duration": 356,
        "start_time": "2021-12-22T17:14:17.428Z"
      },
      {
        "duration": 373,
        "start_time": "2021-12-22T17:14:21.424Z"
      },
      {
        "duration": 370,
        "start_time": "2021-12-22T17:14:27.587Z"
      },
      {
        "duration": 139,
        "start_time": "2021-12-22T17:14:35.158Z"
      },
      {
        "duration": 122,
        "start_time": "2021-12-22T17:14:38.725Z"
      },
      {
        "duration": 1164,
        "start_time": "2021-12-22T17:14:47.253Z"
      },
      {
        "duration": 122,
        "start_time": "2021-12-22T17:14:53.657Z"
      },
      {
        "duration": 11,
        "start_time": "2021-12-22T17:16:08.053Z"
      },
      {
        "duration": 10,
        "start_time": "2021-12-22T17:16:13.932Z"
      },
      {
        "duration": 25,
        "start_time": "2021-12-22T17:16:30.888Z"
      },
      {
        "duration": 11,
        "start_time": "2021-12-22T17:16:34.211Z"
      },
      {
        "duration": 25,
        "start_time": "2021-12-22T17:16:48.954Z"
      },
      {
        "duration": 10,
        "start_time": "2021-12-22T17:16:55.934Z"
      },
      {
        "duration": 21,
        "start_time": "2021-12-22T17:17:19.155Z"
      },
      {
        "duration": 10,
        "start_time": "2021-12-22T17:17:21.861Z"
      },
      {
        "duration": 8,
        "start_time": "2021-12-22T17:17:32.271Z"
      },
      {
        "duration": 19,
        "start_time": "2021-12-22T17:18:05.680Z"
      },
      {
        "duration": 8,
        "start_time": "2021-12-22T17:18:06.059Z"
      },
      {
        "duration": 397,
        "start_time": "2021-12-22T17:20:30.917Z"
      },
      {
        "duration": 5,
        "start_time": "2021-12-22T17:20:33.744Z"
      },
      {
        "duration": 9,
        "start_time": "2021-12-22T17:20:44.774Z"
      },
      {
        "duration": 13,
        "start_time": "2021-12-22T17:23:18.064Z"
      },
      {
        "duration": 14,
        "start_time": "2021-12-22T17:23:39.610Z"
      },
      {
        "duration": 4,
        "start_time": "2021-12-22T17:25:11.652Z"
      },
      {
        "duration": 17,
        "start_time": "2021-12-22T17:28:12.760Z"
      },
      {
        "duration": 10,
        "start_time": "2021-12-22T17:30:07.929Z"
      },
      {
        "duration": 10,
        "start_time": "2021-12-22T17:30:15.092Z"
      },
      {
        "duration": 10457,
        "start_time": "2021-12-22T17:31:40.440Z"
      },
      {
        "duration": 9646,
        "start_time": "2021-12-22T17:31:58.915Z"
      },
      {
        "duration": 10,
        "start_time": "2021-12-22T17:32:09.241Z"
      },
      {
        "duration": 10,
        "start_time": "2021-12-22T17:32:14.709Z"
      },
      {
        "duration": 8,
        "start_time": "2021-12-22T17:33:20.120Z"
      },
      {
        "duration": 20,
        "start_time": "2021-12-22T17:33:59.020Z"
      },
      {
        "duration": 12,
        "start_time": "2021-12-22T17:34:00.978Z"
      },
      {
        "duration": 15,
        "start_time": "2021-12-22T17:34:27.613Z"
      },
      {
        "duration": 18,
        "start_time": "2021-12-22T17:34:28.778Z"
      },
      {
        "duration": 10180,
        "start_time": "2021-12-22T17:34:50.882Z"
      },
      {
        "duration": 24,
        "start_time": "2021-12-22T17:35:36.859Z"
      },
      {
        "duration": 4,
        "start_time": "2021-12-22T17:35:43.074Z"
      },
      {
        "duration": 6,
        "start_time": "2021-12-22T17:35:47.033Z"
      },
      {
        "duration": 15,
        "start_time": "2021-12-22T17:35:49.276Z"
      },
      {
        "duration": 8,
        "start_time": "2021-12-22T17:35:50.888Z"
      },
      {
        "duration": 25,
        "start_time": "2021-12-22T17:35:52.152Z"
      },
      {
        "duration": 10,
        "start_time": "2021-12-22T17:35:57.500Z"
      },
      {
        "duration": 12,
        "start_time": "2021-12-22T17:36:55.725Z"
      },
      {
        "duration": 28,
        "start_time": "2021-12-22T17:39:10.280Z"
      },
      {
        "duration": 38,
        "start_time": "2021-12-22T17:39:20.740Z"
      },
      {
        "duration": 27,
        "start_time": "2021-12-22T17:39:32.158Z"
      },
      {
        "duration": 387,
        "start_time": "2021-12-22T17:45:08.281Z"
      },
      {
        "duration": 861,
        "start_time": "2021-12-22T17:45:29.133Z"
      },
      {
        "duration": 15,
        "start_time": "2021-12-22T17:45:29.997Z"
      },
      {
        "duration": 47,
        "start_time": "2021-12-22T17:45:30.016Z"
      },
      {
        "duration": 13,
        "start_time": "2021-12-22T17:45:30.066Z"
      },
      {
        "duration": 13,
        "start_time": "2021-12-22T17:45:30.081Z"
      },
      {
        "duration": 21,
        "start_time": "2021-12-22T17:45:30.096Z"
      },
      {
        "duration": 22,
        "start_time": "2021-12-22T17:45:30.119Z"
      },
      {
        "duration": 11,
        "start_time": "2021-12-22T17:45:30.163Z"
      },
      {
        "duration": 2563,
        "start_time": "2021-12-22T17:45:30.177Z"
      },
      {
        "duration": 21,
        "start_time": "2021-12-22T17:45:32.743Z"
      },
      {
        "duration": 22,
        "start_time": "2021-12-22T17:45:32.766Z"
      },
      {
        "duration": 26,
        "start_time": "2021-12-22T17:45:32.790Z"
      },
      {
        "duration": 16,
        "start_time": "2021-12-22T17:45:32.819Z"
      },
      {
        "duration": 23,
        "start_time": "2021-12-22T17:45:32.837Z"
      },
      {
        "duration": 24,
        "start_time": "2021-12-22T17:45:32.862Z"
      },
      {
        "duration": 22,
        "start_time": "2021-12-22T17:45:32.888Z"
      },
      {
        "duration": 29,
        "start_time": "2021-12-22T17:45:32.912Z"
      },
      {
        "duration": 17,
        "start_time": "2021-12-22T17:45:32.944Z"
      },
      {
        "duration": 27,
        "start_time": "2021-12-22T17:45:32.963Z"
      },
      {
        "duration": 24,
        "start_time": "2021-12-22T17:45:32.992Z"
      },
      {
        "duration": 42,
        "start_time": "2021-12-22T17:45:33.019Z"
      },
      {
        "duration": 20,
        "start_time": "2021-12-22T17:45:33.064Z"
      },
      {
        "duration": 18,
        "start_time": "2021-12-22T17:45:33.089Z"
      },
      {
        "duration": 57,
        "start_time": "2021-12-22T17:45:33.110Z"
      },
      {
        "duration": 26,
        "start_time": "2021-12-22T17:45:33.170Z"
      },
      {
        "duration": 14,
        "start_time": "2021-12-22T17:45:33.198Z"
      },
      {
        "duration": 11,
        "start_time": "2021-12-22T17:45:33.214Z"
      },
      {
        "duration": 20,
        "start_time": "2021-12-22T17:45:33.259Z"
      },
      {
        "duration": 26,
        "start_time": "2021-12-22T17:45:33.281Z"
      },
      {
        "duration": 924,
        "start_time": "2021-12-22T17:45:33.310Z"
      },
      {
        "duration": 5,
        "start_time": "2021-12-22T17:45:34.237Z"
      },
      {
        "duration": 17,
        "start_time": "2021-12-22T17:45:34.244Z"
      },
      {
        "duration": 16,
        "start_time": "2021-12-22T17:45:34.264Z"
      },
      {
        "duration": 7,
        "start_time": "2021-12-22T17:45:34.282Z"
      },
      {
        "duration": 27,
        "start_time": "2021-12-22T17:45:34.291Z"
      },
      {
        "duration": 41,
        "start_time": "2021-12-22T17:45:34.321Z"
      },
      {
        "duration": 25,
        "start_time": "2021-12-22T17:45:34.364Z"
      },
      {
        "duration": 8,
        "start_time": "2021-12-22T17:45:34.392Z"
      },
      {
        "duration": 10,
        "start_time": "2021-12-22T17:45:34.403Z"
      },
      {
        "duration": 57,
        "start_time": "2021-12-22T17:45:34.415Z"
      },
      {
        "duration": 10,
        "start_time": "2021-12-22T17:45:34.474Z"
      },
      {
        "duration": 5,
        "start_time": "2021-12-22T17:45:34.487Z"
      },
      {
        "duration": 6,
        "start_time": "2021-12-22T17:47:19.685Z"
      },
      {
        "duration": 25,
        "start_time": "2021-12-22T17:47:52.601Z"
      },
      {
        "duration": 18,
        "start_time": "2021-12-22T17:47:53.821Z"
      },
      {
        "duration": 5,
        "start_time": "2021-12-22T17:47:55.584Z"
      },
      {
        "duration": 6,
        "start_time": "2021-12-22T17:47:56.965Z"
      },
      {
        "duration": 15,
        "start_time": "2021-12-22T17:47:58.733Z"
      },
      {
        "duration": 7,
        "start_time": "2021-12-22T17:47:59.338Z"
      },
      {
        "duration": 24,
        "start_time": "2021-12-22T17:47:59.706Z"
      },
      {
        "duration": 10,
        "start_time": "2021-12-22T17:48:05.221Z"
      },
      {
        "duration": 21,
        "start_time": "2021-12-22T17:48:31.096Z"
      },
      {
        "duration": 11,
        "start_time": "2021-12-22T17:48:31.870Z"
      },
      {
        "duration": 5,
        "start_time": "2021-12-22T17:49:21.852Z"
      },
      {
        "duration": 4,
        "start_time": "2021-12-22T17:49:47.611Z"
      },
      {
        "duration": 6,
        "start_time": "2021-12-22T17:50:19.272Z"
      },
      {
        "duration": 4,
        "start_time": "2021-12-22T17:50:20.013Z"
      },
      {
        "duration": 4,
        "start_time": "2021-12-22T17:50:23.602Z"
      },
      {
        "duration": 5,
        "start_time": "2021-12-22T17:50:31.827Z"
      },
      {
        "duration": 5,
        "start_time": "2021-12-22T17:50:34.481Z"
      },
      {
        "duration": 5,
        "start_time": "2021-12-22T17:50:41.004Z"
      },
      {
        "duration": 4,
        "start_time": "2021-12-22T17:50:41.399Z"
      },
      {
        "duration": 5,
        "start_time": "2021-12-22T17:51:10.227Z"
      },
      {
        "duration": 5,
        "start_time": "2021-12-22T17:51:16.051Z"
      },
      {
        "duration": 5,
        "start_time": "2021-12-22T17:51:27.640Z"
      },
      {
        "duration": 5,
        "start_time": "2021-12-22T17:51:28.816Z"
      },
      {
        "duration": 5,
        "start_time": "2021-12-22T17:51:46.058Z"
      },
      {
        "duration": 5,
        "start_time": "2021-12-22T17:51:47.674Z"
      },
      {
        "duration": 5,
        "start_time": "2021-12-22T17:51:53.125Z"
      },
      {
        "duration": 5,
        "start_time": "2021-12-22T17:52:04.949Z"
      },
      {
        "duration": 7,
        "start_time": "2021-12-22T17:52:22.335Z"
      },
      {
        "duration": 7,
        "start_time": "2021-12-22T17:52:45.451Z"
      },
      {
        "duration": 5,
        "start_time": "2021-12-22T17:53:53.757Z"
      },
      {
        "duration": 7,
        "start_time": "2021-12-22T17:53:54.206Z"
      },
      {
        "duration": 7,
        "start_time": "2021-12-22T17:54:05.352Z"
      },
      {
        "duration": 450,
        "start_time": "2021-12-22T17:55:33.582Z"
      },
      {
        "duration": 15,
        "start_time": "2021-12-22T17:56:37.022Z"
      },
      {
        "duration": 12,
        "start_time": "2021-12-22T17:56:51.967Z"
      },
      {
        "duration": 15,
        "start_time": "2021-12-22T17:57:46.047Z"
      },
      {
        "duration": 13,
        "start_time": "2021-12-22T17:57:47.027Z"
      },
      {
        "duration": 5,
        "start_time": "2021-12-22T17:57:55.217Z"
      },
      {
        "duration": 7,
        "start_time": "2021-12-22T17:57:58.947Z"
      },
      {
        "duration": 10,
        "start_time": "2021-12-22T17:58:15.332Z"
      },
      {
        "duration": 9,
        "start_time": "2021-12-22T17:58:21.831Z"
      },
      {
        "duration": 10,
        "start_time": "2021-12-22T17:59:02.636Z"
      },
      {
        "duration": 10,
        "start_time": "2021-12-22T17:59:14.001Z"
      },
      {
        "duration": 9,
        "start_time": "2021-12-22T17:59:18.763Z"
      },
      {
        "duration": 44,
        "start_time": "2021-12-22T18:04:31.340Z"
      },
      {
        "duration": 26,
        "start_time": "2021-12-22T18:04:48.580Z"
      },
      {
        "duration": 6,
        "start_time": "2021-12-22T18:13:29.545Z"
      },
      {
        "duration": 5,
        "start_time": "2021-12-22T18:13:34.786Z"
      },
      {
        "duration": 7,
        "start_time": "2021-12-22T18:13:58.319Z"
      },
      {
        "duration": 457,
        "start_time": "2021-12-22T18:22:32.068Z"
      },
      {
        "duration": 380,
        "start_time": "2021-12-22T18:22:40.650Z"
      },
      {
        "duration": 24,
        "start_time": "2021-12-22T18:23:58.025Z"
      },
      {
        "duration": 5,
        "start_time": "2021-12-22T18:24:18.788Z"
      },
      {
        "duration": 17,
        "start_time": "2021-12-22T18:25:03.302Z"
      },
      {
        "duration": 16,
        "start_time": "2021-12-22T18:25:06.716Z"
      },
      {
        "duration": 18,
        "start_time": "2021-12-22T18:26:09.603Z"
      },
      {
        "duration": 17,
        "start_time": "2021-12-22T18:26:18.105Z"
      },
      {
        "duration": 18,
        "start_time": "2021-12-22T18:26:32.939Z"
      },
      {
        "duration": 13,
        "start_time": "2021-12-22T18:28:24.913Z"
      },
      {
        "duration": 15,
        "start_time": "2021-12-22T18:28:36.498Z"
      },
      {
        "duration": 14,
        "start_time": "2021-12-22T18:28:43.145Z"
      },
      {
        "duration": 13,
        "start_time": "2021-12-22T18:28:52.900Z"
      },
      {
        "duration": 6,
        "start_time": "2021-12-22T18:29:15.964Z"
      },
      {
        "duration": 19,
        "start_time": "2021-12-22T18:29:45.811Z"
      },
      {
        "duration": 6,
        "start_time": "2021-12-22T18:29:46.232Z"
      },
      {
        "duration": 13,
        "start_time": "2021-12-22T18:29:56.928Z"
      },
      {
        "duration": 14,
        "start_time": "2021-12-22T18:30:57.952Z"
      },
      {
        "duration": 13,
        "start_time": "2021-12-22T18:31:59.777Z"
      },
      {
        "duration": 8,
        "start_time": "2021-12-22T18:32:06.654Z"
      },
      {
        "duration": 11,
        "start_time": "2021-12-22T18:33:41.083Z"
      },
      {
        "duration": 130,
        "start_time": "2021-12-22T18:33:46.916Z"
      },
      {
        "duration": 23,
        "start_time": "2021-12-22T18:34:37.475Z"
      },
      {
        "duration": 4,
        "start_time": "2021-12-22T18:35:32.066Z"
      },
      {
        "duration": 19,
        "start_time": "2021-12-22T18:36:53.347Z"
      },
      {
        "duration": 11,
        "start_time": "2021-12-22T18:36:54.788Z"
      },
      {
        "duration": 19,
        "start_time": "2021-12-22T18:36:57.336Z"
      },
      {
        "duration": 14,
        "start_time": "2021-12-22T18:36:57.958Z"
      },
      {
        "duration": 10,
        "start_time": "2021-12-22T18:37:00.681Z"
      },
      {
        "duration": 13,
        "start_time": "2021-12-22T18:37:01.438Z"
      },
      {
        "duration": 12,
        "start_time": "2021-12-22T18:37:53.543Z"
      },
      {
        "duration": 18,
        "start_time": "2021-12-22T18:37:58.040Z"
      },
      {
        "duration": 12,
        "start_time": "2021-12-22T18:37:59.283Z"
      },
      {
        "duration": 10,
        "start_time": "2021-12-22T18:38:15.423Z"
      },
      {
        "duration": 13,
        "start_time": "2021-12-22T18:38:16.291Z"
      },
      {
        "duration": 12,
        "start_time": "2021-12-22T18:38:21.686Z"
      },
      {
        "duration": 13,
        "start_time": "2021-12-22T18:38:24.484Z"
      },
      {
        "duration": 13,
        "start_time": "2021-12-22T18:38:33.186Z"
      },
      {
        "duration": 13,
        "start_time": "2021-12-22T18:38:36.424Z"
      },
      {
        "duration": 6,
        "start_time": "2021-12-22T18:40:32.898Z"
      },
      {
        "duration": 6,
        "start_time": "2021-12-22T18:40:41.956Z"
      },
      {
        "duration": 24,
        "start_time": "2021-12-22T18:40:42.899Z"
      },
      {
        "duration": 23,
        "start_time": "2021-12-22T18:40:52.230Z"
      },
      {
        "duration": 1318,
        "start_time": "2021-12-22T18:44:25.047Z"
      },
      {
        "duration": 698,
        "start_time": "2021-12-22T18:47:59.952Z"
      },
      {
        "duration": 6,
        "start_time": "2021-12-22T18:48:04.109Z"
      },
      {
        "duration": 6,
        "start_time": "2021-12-22T18:48:27.842Z"
      },
      {
        "duration": 4,
        "start_time": "2021-12-22T18:48:36.491Z"
      },
      {
        "duration": 30,
        "start_time": "2021-12-22T18:49:07.982Z"
      },
      {
        "duration": 6,
        "start_time": "2021-12-22T18:49:22.464Z"
      },
      {
        "duration": 19,
        "start_time": "2021-12-22T18:49:22.708Z"
      },
      {
        "duration": 19,
        "start_time": "2021-12-22T18:49:27.231Z"
      },
      {
        "duration": 12,
        "start_time": "2021-12-22T18:49:38.511Z"
      },
      {
        "duration": 451,
        "start_time": "2021-12-22T18:49:46.651Z"
      },
      {
        "duration": 23,
        "start_time": "2021-12-22T18:50:20.632Z"
      },
      {
        "duration": 24,
        "start_time": "2021-12-22T18:50:23.231Z"
      },
      {
        "duration": 4,
        "start_time": "2021-12-22T18:50:25.236Z"
      },
      {
        "duration": 23,
        "start_time": "2021-12-22T18:50:25.946Z"
      },
      {
        "duration": 23,
        "start_time": "2021-12-22T18:51:01.913Z"
      },
      {
        "duration": 24,
        "start_time": "2021-12-22T18:51:03.944Z"
      },
      {
        "duration": 22,
        "start_time": "2021-12-22T18:51:07.982Z"
      },
      {
        "duration": 4,
        "start_time": "2021-12-22T18:51:09.293Z"
      },
      {
        "duration": 358,
        "start_time": "2021-12-22T18:51:18.603Z"
      },
      {
        "duration": 375,
        "start_time": "2021-12-22T18:51:41.595Z"
      },
      {
        "duration": 1798,
        "start_time": "2021-12-22T18:51:54.405Z"
      },
      {
        "duration": 1886,
        "start_time": "2021-12-22T18:52:13.504Z"
      },
      {
        "duration": 688,
        "start_time": "2021-12-22T18:55:15.382Z"
      },
      {
        "duration": 525,
        "start_time": "2021-12-22T18:56:39.708Z"
      },
      {
        "duration": 1122,
        "start_time": "2021-12-22T18:56:53.220Z"
      },
      {
        "duration": 11,
        "start_time": "2021-12-22T18:57:14.462Z"
      },
      {
        "duration": 13,
        "start_time": "2021-12-22T18:57:22.324Z"
      },
      {
        "duration": 376,
        "start_time": "2021-12-22T18:58:12.874Z"
      },
      {
        "duration": 30,
        "start_time": "2021-12-22T18:58:23.833Z"
      },
      {
        "duration": 30,
        "start_time": "2021-12-22T18:58:35.588Z"
      },
      {
        "duration": 419,
        "start_time": "2021-12-22T18:58:45.051Z"
      },
      {
        "duration": 30,
        "start_time": "2021-12-22T18:58:51.448Z"
      },
      {
        "duration": 42,
        "start_time": "2021-12-22T18:58:56.476Z"
      },
      {
        "duration": 43,
        "start_time": "2021-12-22T18:59:00.280Z"
      },
      {
        "duration": 1187,
        "start_time": "2021-12-22T18:59:45.407Z"
      },
      {
        "duration": 16,
        "start_time": "2021-12-22T18:59:46.600Z"
      },
      {
        "duration": 56,
        "start_time": "2021-12-22T18:59:46.619Z"
      },
      {
        "duration": 14,
        "start_time": "2021-12-22T18:59:46.677Z"
      },
      {
        "duration": 5,
        "start_time": "2021-12-22T18:59:46.693Z"
      },
      {
        "duration": 4,
        "start_time": "2021-12-22T18:59:46.701Z"
      },
      {
        "duration": 62,
        "start_time": "2021-12-22T18:59:46.710Z"
      },
      {
        "duration": 11,
        "start_time": "2021-12-22T18:59:46.775Z"
      },
      {
        "duration": 3461,
        "start_time": "2021-12-22T18:59:46.789Z"
      },
      {
        "duration": 30,
        "start_time": "2021-12-22T18:59:50.253Z"
      },
      {
        "duration": 9,
        "start_time": "2021-12-22T18:59:50.286Z"
      },
      {
        "duration": 24,
        "start_time": "2021-12-22T18:59:50.297Z"
      },
      {
        "duration": 37,
        "start_time": "2021-12-22T18:59:50.323Z"
      },
      {
        "duration": 13,
        "start_time": "2021-12-22T18:59:50.363Z"
      },
      {
        "duration": 25,
        "start_time": "2021-12-22T18:59:50.379Z"
      },
      {
        "duration": 51,
        "start_time": "2021-12-22T18:59:50.408Z"
      },
      {
        "duration": 24,
        "start_time": "2021-12-22T18:59:50.462Z"
      },
      {
        "duration": 24,
        "start_time": "2021-12-22T18:59:50.489Z"
      },
      {
        "duration": 56,
        "start_time": "2021-12-22T18:59:50.515Z"
      },
      {
        "duration": 27,
        "start_time": "2021-12-22T18:59:50.573Z"
      },
      {
        "duration": 14,
        "start_time": "2021-12-22T18:59:50.603Z"
      },
      {
        "duration": 46,
        "start_time": "2021-12-22T18:59:50.619Z"
      },
      {
        "duration": 18,
        "start_time": "2021-12-22T18:59:50.668Z"
      },
      {
        "duration": 43,
        "start_time": "2021-12-22T18:59:50.689Z"
      },
      {
        "duration": 28,
        "start_time": "2021-12-22T18:59:50.760Z"
      },
      {
        "duration": 17,
        "start_time": "2021-12-22T18:59:50.792Z"
      },
      {
        "duration": 11,
        "start_time": "2021-12-22T18:59:50.812Z"
      },
      {
        "duration": 10,
        "start_time": "2021-12-22T18:59:50.861Z"
      },
      {
        "duration": 17,
        "start_time": "2021-12-22T18:59:50.874Z"
      },
      {
        "duration": 1399,
        "start_time": "2021-12-22T18:59:50.895Z"
      },
      {
        "duration": 5,
        "start_time": "2021-12-22T18:59:52.297Z"
      },
      {
        "duration": 21,
        "start_time": "2021-12-22T18:59:52.306Z"
      },
      {
        "duration": 30,
        "start_time": "2021-12-22T18:59:52.329Z"
      },
      {
        "duration": 7,
        "start_time": "2021-12-22T18:59:52.362Z"
      },
      {
        "duration": 25,
        "start_time": "2021-12-22T18:59:52.372Z"
      },
      {
        "duration": 10,
        "start_time": "2021-12-22T18:59:52.400Z"
      },
      {
        "duration": 60,
        "start_time": "2021-12-22T18:59:52.413Z"
      },
      {
        "duration": 8,
        "start_time": "2021-12-22T18:59:52.475Z"
      },
      {
        "duration": 5,
        "start_time": "2021-12-22T18:59:52.485Z"
      },
      {
        "duration": 25,
        "start_time": "2021-12-22T18:59:52.493Z"
      },
      {
        "duration": 9,
        "start_time": "2021-12-22T18:59:52.520Z"
      },
      {
        "duration": 18,
        "start_time": "2021-12-22T18:59:52.560Z"
      },
      {
        "duration": 17,
        "start_time": "2021-12-22T18:59:52.580Z"
      },
      {
        "duration": 12,
        "start_time": "2021-12-22T18:59:52.599Z"
      },
      {
        "duration": 50,
        "start_time": "2021-12-22T18:59:52.613Z"
      },
      {
        "duration": 4,
        "start_time": "2021-12-22T18:59:52.666Z"
      },
      {
        "duration": 38,
        "start_time": "2021-12-22T18:59:52.673Z"
      },
      {
        "duration": 4,
        "start_time": "2021-12-22T18:59:52.714Z"
      },
      {
        "duration": 49,
        "start_time": "2021-12-22T18:59:52.721Z"
      },
      {
        "duration": 32,
        "start_time": "2021-12-22T18:59:52.772Z"
      },
      {
        "duration": 29,
        "start_time": "2021-12-22T19:00:34.754Z"
      },
      {
        "duration": 31,
        "start_time": "2021-12-22T19:00:42.661Z"
      },
      {
        "duration": 27,
        "start_time": "2021-12-22T19:00:46.772Z"
      },
      {
        "duration": 42,
        "start_time": "2021-12-22T19:01:40.226Z"
      },
      {
        "duration": 1030,
        "start_time": "2021-12-22T19:01:58.105Z"
      },
      {
        "duration": 41,
        "start_time": "2021-12-22T19:02:18.084Z"
      },
      {
        "duration": 30,
        "start_time": "2021-12-22T19:04:25.368Z"
      },
      {
        "duration": 30,
        "start_time": "2021-12-22T19:05:23.949Z"
      },
      {
        "duration": 69,
        "start_time": "2021-12-22T19:05:28.191Z"
      },
      {
        "duration": 67,
        "start_time": "2021-12-22T19:05:36.959Z"
      },
      {
        "duration": 65,
        "start_time": "2021-12-22T19:05:49.155Z"
      },
      {
        "duration": 369,
        "start_time": "2021-12-22T19:06:03.711Z"
      },
      {
        "duration": 75,
        "start_time": "2021-12-22T19:06:10.080Z"
      },
      {
        "duration": 5,
        "start_time": "2021-12-22T19:07:38.127Z"
      },
      {
        "duration": 655,
        "start_time": "2021-12-22T19:08:11.652Z"
      },
      {
        "duration": 39,
        "start_time": "2021-12-22T19:08:27.258Z"
      },
      {
        "duration": 34,
        "start_time": "2021-12-22T19:08:48.092Z"
      },
      {
        "duration": 11755,
        "start_time": "2021-12-22T19:09:02.305Z"
      },
      {
        "duration": 11842,
        "start_time": "2021-12-22T19:09:21.958Z"
      },
      {
        "duration": -66,
        "start_time": "2021-12-22T19:09:33.869Z"
      },
      {
        "duration": 863,
        "start_time": "2021-12-22T19:09:40.936Z"
      },
      {
        "duration": 15,
        "start_time": "2021-12-22T19:09:41.802Z"
      },
      {
        "duration": 49,
        "start_time": "2021-12-22T19:09:41.820Z"
      },
      {
        "duration": 13,
        "start_time": "2021-12-22T19:09:41.872Z"
      },
      {
        "duration": 5,
        "start_time": "2021-12-22T19:09:41.887Z"
      },
      {
        "duration": 5,
        "start_time": "2021-12-22T19:09:41.894Z"
      },
      {
        "duration": 60,
        "start_time": "2021-12-22T19:09:41.901Z"
      },
      {
        "duration": 9,
        "start_time": "2021-12-22T19:09:41.964Z"
      },
      {
        "duration": 2068,
        "start_time": "2021-12-22T19:09:41.976Z"
      },
      {
        "duration": 21,
        "start_time": "2021-12-22T19:09:44.047Z"
      },
      {
        "duration": 9,
        "start_time": "2021-12-22T19:09:44.070Z"
      },
      {
        "duration": 21,
        "start_time": "2021-12-22T19:09:44.081Z"
      },
      {
        "duration": 8,
        "start_time": "2021-12-22T19:09:44.104Z"
      },
      {
        "duration": 51,
        "start_time": "2021-12-22T19:09:44.115Z"
      },
      {
        "duration": 22,
        "start_time": "2021-12-22T19:09:44.169Z"
      },
      {
        "duration": 8,
        "start_time": "2021-12-22T19:09:44.194Z"
      },
      {
        "duration": 60,
        "start_time": "2021-12-22T19:09:44.205Z"
      },
      {
        "duration": 17,
        "start_time": "2021-12-22T19:09:44.268Z"
      },
      {
        "duration": 21,
        "start_time": "2021-12-22T19:09:44.288Z"
      },
      {
        "duration": 57,
        "start_time": "2021-12-22T19:09:44.311Z"
      },
      {
        "duration": 14,
        "start_time": "2021-12-22T19:09:44.370Z"
      },
      {
        "duration": 21,
        "start_time": "2021-12-22T19:09:44.386Z"
      },
      {
        "duration": 15,
        "start_time": "2021-12-22T19:09:44.413Z"
      },
      {
        "duration": 32,
        "start_time": "2021-12-22T19:09:44.460Z"
      },
      {
        "duration": 25,
        "start_time": "2021-12-22T19:09:44.495Z"
      },
      {
        "duration": 13,
        "start_time": "2021-12-22T19:09:44.522Z"
      },
      {
        "duration": 11,
        "start_time": "2021-12-22T19:09:44.560Z"
      },
      {
        "duration": 14,
        "start_time": "2021-12-22T19:09:44.573Z"
      },
      {
        "duration": 16,
        "start_time": "2021-12-22T19:09:44.590Z"
      },
      {
        "duration": 1010,
        "start_time": "2021-12-22T19:09:44.608Z"
      },
      {
        "duration": 5,
        "start_time": "2021-12-22T19:09:45.621Z"
      },
      {
        "duration": 31,
        "start_time": "2021-12-22T19:09:45.628Z"
      },
      {
        "duration": 19,
        "start_time": "2021-12-22T19:09:45.662Z"
      },
      {
        "duration": 8,
        "start_time": "2021-12-22T19:09:45.683Z"
      },
      {
        "duration": 25,
        "start_time": "2021-12-22T19:09:45.694Z"
      },
      {
        "duration": 44,
        "start_time": "2021-12-22T19:09:45.721Z"
      },
      {
        "duration": 21,
        "start_time": "2021-12-22T19:09:45.768Z"
      },
      {
        "duration": 8,
        "start_time": "2021-12-22T19:09:45.791Z"
      },
      {
        "duration": 4,
        "start_time": "2021-12-22T19:09:45.801Z"
      },
      {
        "duration": 61,
        "start_time": "2021-12-22T19:09:45.808Z"
      },
      {
        "duration": 10,
        "start_time": "2021-12-22T19:09:45.871Z"
      },
      {
        "duration": 19,
        "start_time": "2021-12-22T19:09:45.883Z"
      },
      {
        "duration": 12,
        "start_time": "2021-12-22T19:09:45.904Z"
      },
      {
        "duration": 43,
        "start_time": "2021-12-22T19:09:45.918Z"
      },
      {
        "duration": 13,
        "start_time": "2021-12-22T19:09:45.963Z"
      },
      {
        "duration": 5,
        "start_time": "2021-12-22T19:09:45.978Z"
      },
      {
        "duration": 35,
        "start_time": "2021-12-22T19:09:45.985Z"
      },
      {
        "duration": 37,
        "start_time": "2021-12-22T19:09:46.023Z"
      },
      {
        "duration": 21,
        "start_time": "2021-12-22T19:09:46.063Z"
      },
      {
        "duration": 87,
        "start_time": "2021-12-22T19:09:46.086Z"
      },
      {
        "duration": 85,
        "start_time": "2021-12-22T19:09:46.175Z"
      },
      {
        "duration": 63,
        "start_time": "2021-12-22T19:09:46.263Z"
      },
      {
        "duration": 9763,
        "start_time": "2021-12-22T19:09:46.328Z"
      },
      {
        "duration": 11203,
        "start_time": "2021-12-22T19:10:50.739Z"
      },
      {
        "duration": 1356,
        "start_time": "2021-12-22T19:12:21.852Z"
      },
      {
        "duration": 1098,
        "start_time": "2021-12-22T19:12:28.357Z"
      },
      {
        "duration": 16413,
        "start_time": "2021-12-22T19:12:40.057Z"
      },
      {
        "duration": 18,
        "start_time": "2021-12-22T19:13:54.764Z"
      },
      {
        "duration": 880,
        "start_time": "2021-12-22T19:14:05.302Z"
      },
      {
        "duration": 16,
        "start_time": "2021-12-22T19:14:06.185Z"
      },
      {
        "duration": 34,
        "start_time": "2021-12-22T19:14:09.037Z"
      },
      {
        "duration": 14,
        "start_time": "2021-12-22T19:14:12.112Z"
      },
      {
        "duration": 5,
        "start_time": "2021-12-22T19:14:27.607Z"
      },
      {
        "duration": 5,
        "start_time": "2021-12-22T19:14:33.044Z"
      },
      {
        "duration": 21,
        "start_time": "2021-12-22T19:14:34.462Z"
      },
      {
        "duration": 10,
        "start_time": "2021-12-22T19:14:38.423Z"
      },
      {
        "duration": 2547,
        "start_time": "2021-12-22T19:14:39.420Z"
      },
      {
        "duration": 19,
        "start_time": "2021-12-22T19:14:41.969Z"
      },
      {
        "duration": 6,
        "start_time": "2021-12-22T19:15:19.766Z"
      },
      {
        "duration": 23,
        "start_time": "2021-12-22T19:15:21.576Z"
      },
      {
        "duration": 8,
        "start_time": "2021-12-22T19:15:35.540Z"
      },
      {
        "duration": 13,
        "start_time": "2021-12-22T19:15:35.971Z"
      },
      {
        "duration": 21,
        "start_time": "2021-12-22T19:15:36.807Z"
      },
      {
        "duration": 7,
        "start_time": "2021-12-22T19:16:06.034Z"
      },
      {
        "duration": 17,
        "start_time": "2021-12-22T19:16:07.328Z"
      },
      {
        "duration": 17,
        "start_time": "2021-12-22T19:16:12.440Z"
      },
      {
        "duration": 23,
        "start_time": "2021-12-22T19:16:19.163Z"
      },
      {
        "duration": 21,
        "start_time": "2021-12-22T19:16:25.843Z"
      },
      {
        "duration": 26,
        "start_time": "2021-12-22T19:16:26.464Z"
      },
      {
        "duration": 16,
        "start_time": "2021-12-22T19:16:27.686Z"
      },
      {
        "duration": 15,
        "start_time": "2021-12-22T19:16:36.301Z"
      },
      {
        "duration": 21,
        "start_time": "2021-12-22T19:16:37.114Z"
      },
      {
        "duration": 16,
        "start_time": "2021-12-22T19:16:38.444Z"
      },
      {
        "duration": 32,
        "start_time": "2021-12-22T19:16:38.857Z"
      },
      {
        "duration": 31,
        "start_time": "2021-12-22T19:16:49.686Z"
      },
      {
        "duration": 17,
        "start_time": "2021-12-22T19:16:50.324Z"
      },
      {
        "duration": 33,
        "start_time": "2021-12-22T19:16:50.750Z"
      },
      {
        "duration": 28,
        "start_time": "2021-12-22T19:16:52.726Z"
      },
      {
        "duration": 17,
        "start_time": "2021-12-22T19:16:55.511Z"
      },
      {
        "duration": 10,
        "start_time": "2021-12-22T19:17:02.378Z"
      },
      {
        "duration": 76,
        "start_time": "2021-12-22T19:17:12.957Z"
      },
      {
        "duration": 16,
        "start_time": "2021-12-22T19:17:14.076Z"
      },
      {
        "duration": 925,
        "start_time": "2021-12-22T19:17:16.445Z"
      },
      {
        "duration": 5,
        "start_time": "2021-12-22T19:17:19.546Z"
      },
      {
        "duration": 6,
        "start_time": "2021-12-22T19:17:26.306Z"
      },
      {
        "duration": 18,
        "start_time": "2021-12-22T19:17:27.094Z"
      },
      {
        "duration": 7,
        "start_time": "2021-12-22T19:17:28.863Z"
      },
      {
        "duration": 25,
        "start_time": "2021-12-22T19:17:32.987Z"
      },
      {
        "duration": 10,
        "start_time": "2021-12-22T19:17:51.451Z"
      },
      {
        "duration": 7,
        "start_time": "2021-12-22T19:17:54.632Z"
      },
      {
        "duration": 10,
        "start_time": "2021-12-22T19:18:27.615Z"
      },
      {
        "duration": 20,
        "start_time": "2021-12-22T19:18:44.771Z"
      },
      {
        "duration": 8,
        "start_time": "2021-12-22T19:18:46.386Z"
      },
      {
        "duration": 4,
        "start_time": "2021-12-22T19:18:53.103Z"
      },
      {
        "duration": 23,
        "start_time": "2021-12-22T19:18:54.679Z"
      },
      {
        "duration": 10,
        "start_time": "2021-12-22T19:19:39.289Z"
      },
      {
        "duration": 9,
        "start_time": "2021-12-22T19:19:57.534Z"
      },
      {
        "duration": 20,
        "start_time": "2021-12-22T19:19:58.583Z"
      },
      {
        "duration": 9,
        "start_time": "2021-12-22T19:19:58.808Z"
      },
      {
        "duration": 4,
        "start_time": "2021-12-22T19:20:01.468Z"
      },
      {
        "duration": 10,
        "start_time": "2021-12-22T19:20:09.247Z"
      },
      {
        "duration": 935,
        "start_time": "2021-12-22T19:20:29.601Z"
      },
      {
        "duration": 502,
        "start_time": "2021-12-22T19:20:37.855Z"
      },
      {
        "duration": 13,
        "start_time": "2021-12-22T19:21:05.269Z"
      },
      {
        "duration": 14,
        "start_time": "2021-12-22T19:21:29.628Z"
      },
      {
        "duration": 10,
        "start_time": "2021-12-22T19:21:33.594Z"
      },
      {
        "duration": 18,
        "start_time": "2021-12-22T19:21:35.210Z"
      },
      {
        "duration": 13,
        "start_time": "2021-12-22T19:21:37.173Z"
      },
      {
        "duration": 23,
        "start_time": "2021-12-22T19:21:49.179Z"
      },
      {
        "duration": 10,
        "start_time": "2021-12-22T19:21:57.326Z"
      },
      {
        "duration": 10,
        "start_time": "2021-12-22T19:22:10.378Z"
      },
      {
        "duration": 23,
        "start_time": "2021-12-22T19:22:16.255Z"
      },
      {
        "duration": 27,
        "start_time": "2021-12-22T19:22:29.730Z"
      },
      {
        "duration": 26,
        "start_time": "2021-12-22T19:22:35.656Z"
      },
      {
        "duration": 28,
        "start_time": "2021-12-22T19:22:42.184Z"
      },
      {
        "duration": 10,
        "start_time": "2021-12-22T19:22:50.342Z"
      },
      {
        "duration": 11,
        "start_time": "2021-12-22T19:22:59.923Z"
      },
      {
        "duration": 8,
        "start_time": "2021-12-22T19:23:15.342Z"
      },
      {
        "duration": 187,
        "start_time": "2021-12-22T19:23:23.816Z"
      },
      {
        "duration": 9,
        "start_time": "2021-12-22T19:23:26.942Z"
      },
      {
        "duration": 8,
        "start_time": "2021-12-22T19:23:32.314Z"
      },
      {
        "duration": 9,
        "start_time": "2021-12-22T19:23:34.450Z"
      },
      {
        "duration": 21,
        "start_time": "2021-12-22T19:23:35.350Z"
      },
      {
        "duration": 8,
        "start_time": "2021-12-22T19:23:35.810Z"
      },
      {
        "duration": 9,
        "start_time": "2021-12-22T19:23:52.642Z"
      },
      {
        "duration": 6,
        "start_time": "2021-12-22T19:23:56.048Z"
      },
      {
        "duration": 19,
        "start_time": "2021-12-22T19:23:57.379Z"
      },
      {
        "duration": 17,
        "start_time": "2021-12-22T19:24:05.525Z"
      },
      {
        "duration": 35,
        "start_time": "2021-12-22T19:24:27.859Z"
      },
      {
        "duration": 18,
        "start_time": "2021-12-22T19:24:35.998Z"
      },
      {
        "duration": 359,
        "start_time": "2021-12-22T19:24:55.076Z"
      },
      {
        "duration": 390,
        "start_time": "2021-12-22T19:24:58.115Z"
      },
      {
        "duration": 369,
        "start_time": "2021-12-22T19:25:26.876Z"
      },
      {
        "duration": 6,
        "start_time": "2021-12-22T19:25:32.262Z"
      },
      {
        "duration": 28,
        "start_time": "2021-12-22T19:25:32.272Z"
      },
      {
        "duration": 7,
        "start_time": "2021-12-22T19:25:41.074Z"
      },
      {
        "duration": 17,
        "start_time": "2021-12-22T19:25:50.090Z"
      },
      {
        "duration": 93,
        "start_time": "2021-12-22T19:26:21.050Z"
      },
      {
        "duration": 10813,
        "start_time": "2021-12-22T19:26:33.918Z"
      },
      {
        "duration": 10046,
        "start_time": "2021-12-22T19:27:02.801Z"
      },
      {
        "duration": 1232,
        "start_time": "2021-12-22T19:27:45.973Z"
      },
      {
        "duration": 6,
        "start_time": "2021-12-22T19:28:19.175Z"
      },
      {
        "duration": 18,
        "start_time": "2021-12-22T19:28:19.491Z"
      },
      {
        "duration": 34,
        "start_time": "2021-12-22T19:28:28.210Z"
      },
      {
        "duration": 4,
        "start_time": "2021-12-22T19:28:30.316Z"
      },
      {
        "duration": 28,
        "start_time": "2021-12-22T19:28:31.025Z"
      },
      {
        "duration": 4,
        "start_time": "2021-12-22T19:29:02.901Z"
      },
      {
        "duration": 18,
        "start_time": "2021-12-22T19:29:03.792Z"
      },
      {
        "duration": 17,
        "start_time": "2021-12-22T19:29:10.356Z"
      },
      {
        "duration": 29,
        "start_time": "2021-12-22T19:29:12.109Z"
      },
      {
        "duration": 11031,
        "start_time": "2021-12-22T19:29:21.969Z"
      },
      {
        "duration": 5,
        "start_time": "2021-12-22T19:29:36.438Z"
      },
      {
        "duration": 15,
        "start_time": "2021-12-22T19:29:37.237Z"
      },
      {
        "duration": 8,
        "start_time": "2021-12-22T19:29:37.722Z"
      },
      {
        "duration": 8,
        "start_time": "2021-12-22T19:29:39.933Z"
      },
      {
        "duration": 40,
        "start_time": "2021-12-22T19:29:40.629Z"
      },
      {
        "duration": 11,
        "start_time": "2021-12-22T19:29:40.963Z"
      },
      {
        "duration": 4,
        "start_time": "2021-12-22T19:29:41.856Z"
      },
      {
        "duration": 17,
        "start_time": "2021-12-22T19:29:42.596Z"
      },
      {
        "duration": 11,
        "start_time": "2021-12-22T19:29:43.383Z"
      },
      {
        "duration": 28,
        "start_time": "2021-12-22T19:29:44.060Z"
      },
      {
        "duration": 12,
        "start_time": "2021-12-22T19:29:49.194Z"
      },
      {
        "duration": 6,
        "start_time": "2021-12-22T19:29:51.564Z"
      },
      {
        "duration": 21,
        "start_time": "2021-12-22T19:29:53.631Z"
      },
      {
        "duration": 5,
        "start_time": "2021-12-22T19:29:55.349Z"
      },
      {
        "duration": 22,
        "start_time": "2021-12-22T19:29:56.054Z"
      },
      {
        "duration": 63,
        "start_time": "2021-12-22T19:30:02.873Z"
      },
      {
        "duration": 353,
        "start_time": "2021-12-22T19:30:09.304Z"
      },
      {
        "duration": 17,
        "start_time": "2021-12-22T19:30:24.410Z"
      },
      {
        "duration": 76,
        "start_time": "2021-12-22T19:30:25.861Z"
      },
      {
        "duration": 68,
        "start_time": "2021-12-22T19:30:28.024Z"
      },
      {
        "duration": 579,
        "start_time": "2021-12-22T19:30:33.884Z"
      },
      {
        "duration": 11,
        "start_time": "2021-12-22T19:30:45.967Z"
      },
      {
        "duration": 18,
        "start_time": "2021-12-22T19:30:46.385Z"
      },
      {
        "duration": 371,
        "start_time": "2021-12-22T19:30:52.322Z"
      },
      {
        "duration": 365,
        "start_time": "2021-12-22T19:30:58.264Z"
      },
      {
        "duration": 404,
        "start_time": "2021-12-22T19:31:09.021Z"
      },
      {
        "duration": 22,
        "start_time": "2021-12-22T19:32:31.088Z"
      },
      {
        "duration": 34,
        "start_time": "2021-12-22T19:32:31.873Z"
      },
      {
        "duration": 62,
        "start_time": "2021-12-22T19:32:33.655Z"
      },
      {
        "duration": 874,
        "start_time": "2021-12-22T19:33:38.769Z"
      },
      {
        "duration": 18,
        "start_time": "2021-12-22T19:33:39.646Z"
      },
      {
        "duration": 33,
        "start_time": "2021-12-22T19:33:39.668Z"
      },
      {
        "duration": 13,
        "start_time": "2021-12-22T19:33:39.704Z"
      },
      {
        "duration": 5,
        "start_time": "2021-12-22T19:33:39.719Z"
      },
      {
        "duration": 41,
        "start_time": "2021-12-22T19:33:39.727Z"
      },
      {
        "duration": 24,
        "start_time": "2021-12-22T19:33:39.771Z"
      },
      {
        "duration": 9,
        "start_time": "2021-12-22T19:33:39.799Z"
      },
      {
        "duration": 2210,
        "start_time": "2021-12-22T19:33:39.811Z"
      },
      {
        "duration": 18,
        "start_time": "2021-12-22T19:33:42.023Z"
      },
      {
        "duration": 7,
        "start_time": "2021-12-22T19:33:42.059Z"
      },
      {
        "duration": 28,
        "start_time": "2021-12-22T19:33:42.073Z"
      },
      {
        "duration": 8,
        "start_time": "2021-12-22T19:33:42.104Z"
      },
      {
        "duration": 12,
        "start_time": "2021-12-22T19:33:42.115Z"
      },
      {
        "duration": 56,
        "start_time": "2021-12-22T19:33:42.129Z"
      },
      {
        "duration": 6,
        "start_time": "2021-12-22T19:33:42.188Z"
      },
      {
        "duration": 15,
        "start_time": "2021-12-22T19:33:42.197Z"
      },
      {
        "duration": 54,
        "start_time": "2021-12-22T19:33:42.214Z"
      },
      {
        "duration": 27,
        "start_time": "2021-12-22T19:33:42.271Z"
      },
      {
        "duration": 26,
        "start_time": "2021-12-22T19:33:42.300Z"
      },
      {
        "duration": 62,
        "start_time": "2021-12-22T19:33:42.329Z"
      },
      {
        "duration": 17,
        "start_time": "2021-12-22T19:33:42.393Z"
      },
      {
        "duration": 66,
        "start_time": "2021-12-22T19:33:42.417Z"
      },
      {
        "duration": 27,
        "start_time": "2021-12-22T19:33:42.486Z"
      },
      {
        "duration": 15,
        "start_time": "2021-12-22T19:33:42.516Z"
      },
      {
        "duration": 42,
        "start_time": "2021-12-22T19:33:42.533Z"
      },
      {
        "duration": 10,
        "start_time": "2021-12-22T19:33:42.577Z"
      },
      {
        "duration": 15,
        "start_time": "2021-12-22T19:33:42.590Z"
      },
      {
        "duration": 1000,
        "start_time": "2021-12-22T19:33:42.608Z"
      },
      {
        "duration": 5,
        "start_time": "2021-12-22T19:33:43.611Z"
      },
      {
        "duration": 9,
        "start_time": "2021-12-22T19:33:43.619Z"
      },
      {
        "duration": 43,
        "start_time": "2021-12-22T19:33:43.630Z"
      },
      {
        "duration": 7,
        "start_time": "2021-12-22T19:33:43.675Z"
      },
      {
        "duration": 9,
        "start_time": "2021-12-22T19:33:43.684Z"
      },
      {
        "duration": 26,
        "start_time": "2021-12-22T19:33:43.695Z"
      },
      {
        "duration": 53,
        "start_time": "2021-12-22T19:33:43.724Z"
      },
      {
        "duration": 6,
        "start_time": "2021-12-22T19:33:43.780Z"
      },
      {
        "duration": 20,
        "start_time": "2021-12-22T19:33:43.789Z"
      },
      {
        "duration": 11,
        "start_time": "2021-12-22T19:33:43.812Z"
      },
      {
        "duration": 59,
        "start_time": "2021-12-22T19:33:43.827Z"
      },
      {
        "duration": 10,
        "start_time": "2021-12-22T19:33:43.889Z"
      },
      {
        "duration": 5,
        "start_time": "2021-12-22T19:33:43.902Z"
      },
      {
        "duration": 54,
        "start_time": "2021-12-22T19:33:43.909Z"
      },
      {
        "duration": 8,
        "start_time": "2021-12-22T19:33:43.967Z"
      },
      {
        "duration": 24,
        "start_time": "2021-12-22T19:33:43.978Z"
      },
      {
        "duration": 98,
        "start_time": "2021-12-22T19:33:44.005Z"
      },
      {
        "duration": 1274,
        "start_time": "2021-12-22T19:33:44.105Z"
      },
      {
        "duration": 125,
        "start_time": "2021-12-22T19:33:45.257Z"
      },
      {
        "duration": 125,
        "start_time": "2021-12-22T19:33:45.259Z"
      },
      {
        "duration": 21,
        "start_time": "2021-12-22T19:34:25.782Z"
      },
      {
        "duration": 52,
        "start_time": "2021-12-22T19:34:55.299Z"
      },
      {
        "duration": 20,
        "start_time": "2021-12-22T19:34:59.846Z"
      },
      {
        "duration": 43,
        "start_time": "2021-12-22T19:35:03.731Z"
      },
      {
        "duration": 49,
        "start_time": "2021-12-22T19:35:24.388Z"
      },
      {
        "duration": 20,
        "start_time": "2021-12-22T19:35:24.805Z"
      },
      {
        "duration": 918,
        "start_time": "2021-12-22T19:35:44.617Z"
      },
      {
        "duration": 35,
        "start_time": "2021-12-22T19:35:45.539Z"
      },
      {
        "duration": 35,
        "start_time": "2021-12-22T19:35:45.578Z"
      },
      {
        "duration": 15,
        "start_time": "2021-12-22T19:35:45.616Z"
      },
      {
        "duration": 34,
        "start_time": "2021-12-22T19:35:45.634Z"
      },
      {
        "duration": 14,
        "start_time": "2021-12-22T19:35:45.671Z"
      },
      {
        "duration": 19,
        "start_time": "2021-12-22T19:35:45.687Z"
      },
      {
        "duration": 11,
        "start_time": "2021-12-22T19:35:45.710Z"
      },
      {
        "duration": 2276,
        "start_time": "2021-12-22T19:35:45.724Z"
      },
      {
        "duration": 17,
        "start_time": "2021-12-22T19:35:48.003Z"
      },
      {
        "duration": 9,
        "start_time": "2021-12-22T19:35:48.022Z"
      },
      {
        "duration": 54,
        "start_time": "2021-12-22T19:35:48.033Z"
      },
      {
        "duration": 10,
        "start_time": "2021-12-22T19:35:48.092Z"
      },
      {
        "duration": 12,
        "start_time": "2021-12-22T19:35:48.105Z"
      },
      {
        "duration": 42,
        "start_time": "2021-12-22T19:35:48.119Z"
      },
      {
        "duration": 8,
        "start_time": "2021-12-22T19:35:48.164Z"
      },
      {
        "duration": 24,
        "start_time": "2021-12-22T19:35:48.174Z"
      },
      {
        "duration": 17,
        "start_time": "2021-12-22T19:35:48.201Z"
      },
      {
        "duration": 63,
        "start_time": "2021-12-22T19:35:48.220Z"
      },
      {
        "duration": 26,
        "start_time": "2021-12-22T19:35:48.286Z"
      },
      {
        "duration": 50,
        "start_time": "2021-12-22T19:35:48.314Z"
      },
      {
        "duration": 20,
        "start_time": "2021-12-22T19:35:48.367Z"
      },
      {
        "duration": 33,
        "start_time": "2021-12-22T19:35:48.393Z"
      },
      {
        "duration": 32,
        "start_time": "2021-12-22T19:35:48.461Z"
      },
      {
        "duration": 14,
        "start_time": "2021-12-22T19:35:48.495Z"
      },
      {
        "duration": 10,
        "start_time": "2021-12-22T19:35:48.511Z"
      },
      {
        "duration": 16,
        "start_time": "2021-12-22T19:35:48.568Z"
      },
      {
        "duration": 18,
        "start_time": "2021-12-22T19:35:48.586Z"
      },
      {
        "duration": 994,
        "start_time": "2021-12-22T19:35:48.607Z"
      },
      {
        "duration": 5,
        "start_time": "2021-12-22T19:35:49.605Z"
      },
      {
        "duration": 6,
        "start_time": "2021-12-22T19:35:49.613Z"
      },
      {
        "duration": 45,
        "start_time": "2021-12-22T19:35:49.622Z"
      },
      {
        "duration": 10,
        "start_time": "2021-12-22T19:35:49.670Z"
      },
      {
        "duration": 9,
        "start_time": "2021-12-22T19:35:49.684Z"
      },
      {
        "duration": 21,
        "start_time": "2021-12-22T19:35:49.696Z"
      },
      {
        "duration": 42,
        "start_time": "2021-12-22T19:35:49.720Z"
      },
      {
        "duration": 15,
        "start_time": "2021-12-22T19:35:49.764Z"
      },
      {
        "duration": 21,
        "start_time": "2021-12-22T19:35:49.782Z"
      },
      {
        "duration": 10,
        "start_time": "2021-12-22T19:35:49.805Z"
      },
      {
        "duration": 66,
        "start_time": "2021-12-22T19:35:49.817Z"
      },
      {
        "duration": 9,
        "start_time": "2021-12-22T19:35:49.885Z"
      },
      {
        "duration": 5,
        "start_time": "2021-12-22T19:35:49.897Z"
      },
      {
        "duration": 25,
        "start_time": "2021-12-22T19:35:49.905Z"
      },
      {
        "duration": 5,
        "start_time": "2021-12-22T19:35:49.968Z"
      },
      {
        "duration": 141,
        "start_time": "2021-12-22T19:35:49.976Z"
      },
      {
        "duration": 55,
        "start_time": "2021-12-22T19:35:50.120Z"
      },
      {
        "duration": 74,
        "start_time": "2021-12-22T19:35:50.178Z"
      },
      {
        "duration": 1474,
        "start_time": "2021-12-22T19:35:50.254Z"
      },
      {
        "duration": 115,
        "start_time": "2021-12-22T19:35:51.615Z"
      },
      {
        "duration": 112,
        "start_time": "2021-12-22T19:35:51.619Z"
      },
      {
        "duration": 20,
        "start_time": "2021-12-22T19:36:09.208Z"
      },
      {
        "duration": 910,
        "start_time": "2021-12-22T19:36:35.696Z"
      },
      {
        "duration": 23,
        "start_time": "2021-12-22T19:36:36.610Z"
      },
      {
        "duration": 50,
        "start_time": "2021-12-22T19:36:36.638Z"
      },
      {
        "duration": 13,
        "start_time": "2021-12-22T19:36:37.220Z"
      },
      {
        "duration": 7,
        "start_time": "2021-12-22T19:36:37.697Z"
      },
      {
        "duration": 7,
        "start_time": "2021-12-22T19:36:38.337Z"
      },
      {
        "duration": 26,
        "start_time": "2021-12-22T19:36:38.662Z"
      },
      {
        "duration": 10,
        "start_time": "2021-12-22T19:36:38.985Z"
      },
      {
        "duration": 2243,
        "start_time": "2021-12-22T19:36:39.293Z"
      },
      {
        "duration": 27,
        "start_time": "2021-12-22T19:36:41.539Z"
      },
      {
        "duration": 7,
        "start_time": "2021-12-22T19:36:41.570Z"
      },
      {
        "duration": 32,
        "start_time": "2021-12-22T19:36:41.580Z"
      },
      {
        "duration": 9,
        "start_time": "2021-12-22T19:36:41.615Z"
      },
      {
        "duration": 17,
        "start_time": "2021-12-22T19:36:41.668Z"
      },
      {
        "duration": 23,
        "start_time": "2021-12-22T19:36:41.687Z"
      },
      {
        "duration": 8,
        "start_time": "2021-12-22T19:36:43.709Z"
      },
      {
        "duration": 16,
        "start_time": "2021-12-22T19:36:44.078Z"
      },
      {
        "duration": 21,
        "start_time": "2021-12-22T19:36:44.360Z"
      },
      {
        "duration": 22,
        "start_time": "2021-12-22T19:36:46.817Z"
      },
      {
        "duration": 26,
        "start_time": "2021-12-22T19:36:47.102Z"
      },
      {
        "duration": 22,
        "start_time": "2021-12-22T19:36:47.475Z"
      },
      {
        "duration": 17,
        "start_time": "2021-12-22T19:36:47.803Z"
      },
      {
        "duration": 34,
        "start_time": "2021-12-22T19:36:48.001Z"
      },
      {
        "duration": 25,
        "start_time": "2021-12-22T19:36:48.394Z"
      },
      {
        "duration": 15,
        "start_time": "2021-12-22T19:36:48.602Z"
      },
      {
        "duration": 12,
        "start_time": "2021-12-22T19:36:50.939Z"
      },
      {
        "duration": 11,
        "start_time": "2021-12-22T19:37:00.975Z"
      },
      {
        "duration": 17,
        "start_time": "2021-12-22T19:37:01.542Z"
      },
      {
        "duration": 1022,
        "start_time": "2021-12-22T19:37:01.929Z"
      },
      {
        "duration": 12,
        "start_time": "2021-12-22T19:37:02.958Z"
      },
      {
        "duration": 6,
        "start_time": "2021-12-22T19:37:04.225Z"
      },
      {
        "duration": 17,
        "start_time": "2021-12-22T19:37:05.047Z"
      },
      {
        "duration": 9,
        "start_time": "2021-12-22T19:37:05.597Z"
      },
      {
        "duration": 24,
        "start_time": "2021-12-22T19:37:11.052Z"
      },
      {
        "duration": 12,
        "start_time": "2021-12-22T19:37:16.735Z"
      },
      {
        "duration": 18,
        "start_time": "2021-12-22T19:37:17.837Z"
      },
      {
        "duration": 10,
        "start_time": "2021-12-22T19:37:18.369Z"
      },
      {
        "duration": 11,
        "start_time": "2021-12-22T19:37:49.933Z"
      },
      {
        "duration": 18,
        "start_time": "2021-12-22T19:38:01.649Z"
      },
      {
        "duration": 10,
        "start_time": "2021-12-22T19:38:29.269Z"
      },
      {
        "duration": 18,
        "start_time": "2021-12-22T19:38:34.323Z"
      },
      {
        "duration": 4,
        "start_time": "2021-12-22T19:39:01.497Z"
      },
      {
        "duration": 17,
        "start_time": "2021-12-22T19:39:02.433Z"
      },
      {
        "duration": 22,
        "start_time": "2021-12-22T19:39:09.846Z"
      },
      {
        "duration": 13,
        "start_time": "2021-12-22T19:39:14.965Z"
      },
      {
        "duration": 26,
        "start_time": "2021-12-22T19:39:16.025Z"
      },
      {
        "duration": 10,
        "start_time": "2021-12-22T19:39:18.701Z"
      },
      {
        "duration": 10,
        "start_time": "2021-12-22T19:39:19.762Z"
      },
      {
        "duration": 26,
        "start_time": "2021-12-22T19:39:20.768Z"
      },
      {
        "duration": 5,
        "start_time": "2021-12-22T19:39:23.469Z"
      },
      {
        "duration": 17,
        "start_time": "2021-12-22T19:39:23.733Z"
      },
      {
        "duration": 24,
        "start_time": "2021-12-22T19:40:17.123Z"
      },
      {
        "duration": 12372,
        "start_time": "2021-12-22T19:42:54.015Z"
      },
      {
        "duration": 22,
        "start_time": "2021-12-22T19:43:16.077Z"
      },
      {
        "duration": 368,
        "start_time": "2021-12-22T19:43:41.145Z"
      },
      {
        "duration": 18,
        "start_time": "2021-12-22T19:43:58.577Z"
      },
      {
        "duration": 69,
        "start_time": "2021-12-22T19:44:01.565Z"
      },
      {
        "duration": 682,
        "start_time": "2021-12-22T19:44:15.008Z"
      },
      {
        "duration": 70,
        "start_time": "2021-12-22T19:44:24.215Z"
      },
      {
        "duration": 370,
        "start_time": "2021-12-22T19:45:04.175Z"
      },
      {
        "duration": 72,
        "start_time": "2021-12-22T19:45:08.523Z"
      },
      {
        "duration": 70,
        "start_time": "2021-12-22T19:45:32.659Z"
      },
      {
        "duration": 380,
        "start_time": "2021-12-22T19:46:16.699Z"
      },
      {
        "duration": 451,
        "start_time": "2021-12-22T19:47:04.932Z"
      },
      {
        "duration": 412,
        "start_time": "2021-12-22T19:47:13.031Z"
      },
      {
        "duration": 444,
        "start_time": "2021-12-22T19:47:35.130Z"
      },
      {
        "duration": 530,
        "start_time": "2021-12-22T19:47:45.573Z"
      },
      {
        "duration": 71,
        "start_time": "2021-12-22T19:47:51.749Z"
      },
      {
        "duration": 409,
        "start_time": "2021-12-22T19:47:56.797Z"
      },
      {
        "duration": 426,
        "start_time": "2021-12-22T19:48:02.773Z"
      },
      {
        "duration": 70,
        "start_time": "2021-12-22T19:48:47.824Z"
      },
      {
        "duration": 67,
        "start_time": "2021-12-22T19:49:00.658Z"
      },
      {
        "duration": 70,
        "start_time": "2021-12-22T19:49:03.620Z"
      },
      {
        "duration": 70,
        "start_time": "2021-12-22T19:49:12.651Z"
      },
      {
        "duration": 67,
        "start_time": "2021-12-22T19:49:17.960Z"
      },
      {
        "duration": 990,
        "start_time": "2021-12-22T19:49:36.597Z"
      },
      {
        "duration": 79,
        "start_time": "2021-12-22T19:49:49.114Z"
      },
      {
        "duration": 68,
        "start_time": "2021-12-22T19:49:53.374Z"
      },
      {
        "duration": 72,
        "start_time": "2021-12-22T19:49:58.005Z"
      },
      {
        "duration": 5,
        "start_time": "2021-12-22T19:51:26.386Z"
      },
      {
        "duration": 21,
        "start_time": "2021-12-22T19:51:27.304Z"
      },
      {
        "duration": 69,
        "start_time": "2021-12-22T19:51:34.645Z"
      },
      {
        "duration": 69,
        "start_time": "2021-12-22T19:51:36.331Z"
      },
      {
        "duration": 62,
        "start_time": "2021-12-22T19:51:40.544Z"
      },
      {
        "duration": 69,
        "start_time": "2021-12-22T19:51:44.009Z"
      },
      {
        "duration": 956,
        "start_time": "2021-12-22T19:51:55.937Z"
      },
      {
        "duration": 16,
        "start_time": "2021-12-22T19:51:56.896Z"
      },
      {
        "duration": 63,
        "start_time": "2021-12-22T19:51:56.919Z"
      },
      {
        "duration": 16,
        "start_time": "2021-12-22T19:51:56.986Z"
      },
      {
        "duration": 7,
        "start_time": "2021-12-22T19:51:57.005Z"
      },
      {
        "duration": 54,
        "start_time": "2021-12-22T19:51:57.015Z"
      },
      {
        "duration": 20,
        "start_time": "2021-12-22T19:51:57.074Z"
      },
      {
        "duration": 8,
        "start_time": "2021-12-22T19:51:57.098Z"
      },
      {
        "duration": 2254,
        "start_time": "2021-12-22T19:51:57.109Z"
      },
      {
        "duration": 23,
        "start_time": "2021-12-22T19:51:59.366Z"
      },
      {
        "duration": 7,
        "start_time": "2021-12-22T19:51:59.391Z"
      },
      {
        "duration": 24,
        "start_time": "2021-12-22T19:51:59.400Z"
      },
      {
        "duration": 46,
        "start_time": "2021-12-22T19:51:59.426Z"
      },
      {
        "duration": 21,
        "start_time": "2021-12-22T19:51:59.475Z"
      },
      {
        "duration": 23,
        "start_time": "2021-12-22T19:51:59.499Z"
      },
      {
        "duration": 43,
        "start_time": "2021-12-22T19:51:59.524Z"
      },
      {
        "duration": 18,
        "start_time": "2021-12-22T19:51:59.570Z"
      },
      {
        "duration": 16,
        "start_time": "2021-12-22T19:51:59.591Z"
      },
      {
        "duration": 50,
        "start_time": "2021-12-22T19:51:59.609Z"
      },
      {
        "duration": 31,
        "start_time": "2021-12-22T19:51:59.662Z"
      },
      {
        "duration": 24,
        "start_time": "2021-12-22T19:51:59.696Z"
      },
      {
        "duration": 57,
        "start_time": "2021-12-22T19:51:59.727Z"
      },
      {
        "duration": 36,
        "start_time": "2021-12-22T19:51:59.788Z"
      },
      {
        "duration": 59,
        "start_time": "2021-12-22T19:51:59.826Z"
      },
      {
        "duration": 14,
        "start_time": "2021-12-22T19:51:59.888Z"
      },
      {
        "duration": 10,
        "start_time": "2021-12-22T19:51:59.905Z"
      },
      {
        "duration": 10,
        "start_time": "2021-12-22T19:51:59.917Z"
      },
      {
        "duration": 40,
        "start_time": "2021-12-22T19:51:59.930Z"
      },
      {
        "duration": 1143,
        "start_time": "2021-12-22T19:51:59.972Z"
      },
      {
        "duration": 7,
        "start_time": "2021-12-22T19:52:01.119Z"
      },
      {
        "duration": 7,
        "start_time": "2021-12-22T19:52:01.130Z"
      },
      {
        "duration": 23,
        "start_time": "2021-12-22T19:52:01.169Z"
      },
      {
        "duration": 10,
        "start_time": "2021-12-22T19:52:01.195Z"
      },
      {
        "duration": 12,
        "start_time": "2021-12-22T19:52:01.208Z"
      },
      {
        "duration": 60,
        "start_time": "2021-12-22T19:52:01.223Z"
      },
      {
        "duration": 10,
        "start_time": "2021-12-22T19:52:01.286Z"
      },
      {
        "duration": 9,
        "start_time": "2021-12-22T19:52:01.298Z"
      },
      {
        "duration": 26,
        "start_time": "2021-12-22T19:52:01.310Z"
      },
      {
        "duration": 42,
        "start_time": "2021-12-22T19:52:01.339Z"
      },
      {
        "duration": 42,
        "start_time": "2021-12-22T19:52:01.385Z"
      },
      {
        "duration": 35,
        "start_time": "2021-12-22T19:52:01.430Z"
      },
      {
        "duration": 5,
        "start_time": "2021-12-22T19:52:01.467Z"
      },
      {
        "duration": 32,
        "start_time": "2021-12-22T19:52:01.475Z"
      },
      {
        "duration": 6,
        "start_time": "2021-12-22T19:52:01.510Z"
      },
      {
        "duration": 50,
        "start_time": "2021-12-22T19:52:01.519Z"
      },
      {
        "duration": 23,
        "start_time": "2021-12-22T19:52:01.572Z"
      },
      {
        "duration": 90,
        "start_time": "2021-12-22T19:52:01.597Z"
      },
      {
        "duration": 79,
        "start_time": "2021-12-22T19:52:01.689Z"
      },
      {
        "duration": 142,
        "start_time": "2021-12-22T19:52:01.772Z"
      },
      {
        "duration": 121,
        "start_time": "2021-12-22T19:52:01.917Z"
      },
      {
        "duration": 79,
        "start_time": "2021-12-22T19:52:29.845Z"
      },
      {
        "duration": 68,
        "start_time": "2021-12-22T19:52:50.749Z"
      },
      {
        "duration": 872,
        "start_time": "2021-12-22T19:56:11.548Z"
      },
      {
        "duration": 15,
        "start_time": "2021-12-22T19:56:12.423Z"
      },
      {
        "duration": 48,
        "start_time": "2021-12-22T19:56:12.444Z"
      },
      {
        "duration": 12,
        "start_time": "2021-12-22T19:56:12.494Z"
      },
      {
        "duration": 5,
        "start_time": "2021-12-22T19:56:12.508Z"
      },
      {
        "duration": 6,
        "start_time": "2021-12-22T19:56:12.515Z"
      },
      {
        "duration": 55,
        "start_time": "2021-12-22T19:56:12.524Z"
      },
      {
        "duration": 10,
        "start_time": "2021-12-22T19:56:12.582Z"
      },
      {
        "duration": 2377,
        "start_time": "2021-12-22T19:56:12.594Z"
      },
      {
        "duration": 18,
        "start_time": "2021-12-22T19:56:14.974Z"
      },
      {
        "duration": 6,
        "start_time": "2021-12-22T19:56:14.995Z"
      },
      {
        "duration": 23,
        "start_time": "2021-12-22T19:56:15.003Z"
      },
      {
        "duration": 63,
        "start_time": "2021-12-22T19:56:15.028Z"
      },
      {
        "duration": 13,
        "start_time": "2021-12-22T19:56:15.094Z"
      },
      {
        "duration": 21,
        "start_time": "2021-12-22T19:56:15.110Z"
      },
      {
        "duration": 26,
        "start_time": "2021-12-22T19:56:15.133Z"
      },
      {
        "duration": 21,
        "start_time": "2021-12-22T19:56:15.162Z"
      },
      {
        "duration": 18,
        "start_time": "2021-12-22T19:56:15.186Z"
      },
      {
        "duration": 22,
        "start_time": "2021-12-22T19:56:15.206Z"
      },
      {
        "duration": 29,
        "start_time": "2021-12-22T19:56:15.261Z"
      },
      {
        "duration": 21,
        "start_time": "2021-12-22T19:56:15.292Z"
      },
      {
        "duration": 43,
        "start_time": "2021-12-22T19:56:15.320Z"
      },
      {
        "duration": 38,
        "start_time": "2021-12-22T19:56:15.367Z"
      },
      {
        "duration": 59,
        "start_time": "2021-12-22T19:56:15.408Z"
      },
      {
        "duration": 18,
        "start_time": "2021-12-22T19:56:15.470Z"
      },
      {
        "duration": 10,
        "start_time": "2021-12-22T19:56:15.491Z"
      },
      {
        "duration": 12,
        "start_time": "2021-12-22T19:56:15.503Z"
      },
      {
        "duration": 50,
        "start_time": "2021-12-22T19:56:15.518Z"
      },
      {
        "duration": 1107,
        "start_time": "2021-12-22T19:56:15.572Z"
      },
      {
        "duration": 5,
        "start_time": "2021-12-22T19:56:16.681Z"
      },
      {
        "duration": 7,
        "start_time": "2021-12-22T19:56:16.689Z"
      },
      {
        "duration": 21,
        "start_time": "2021-12-22T19:56:16.698Z"
      },
      {
        "duration": 36,
        "start_time": "2021-12-22T19:56:16.722Z"
      },
      {
        "duration": 15,
        "start_time": "2021-12-22T19:56:16.763Z"
      },
      {
        "duration": 23,
        "start_time": "2021-12-22T19:56:16.781Z"
      },
      {
        "duration": 12,
        "start_time": "2021-12-22T19:56:16.806Z"
      },
      {
        "duration": 11,
        "start_time": "2021-12-22T19:56:16.860Z"
      },
      {
        "duration": 27,
        "start_time": "2021-12-22T19:56:16.874Z"
      },
      {
        "duration": 9,
        "start_time": "2021-12-22T19:56:16.904Z"
      },
      {
        "duration": 52,
        "start_time": "2021-12-22T19:56:16.915Z"
      },
      {
        "duration": 11,
        "start_time": "2021-12-22T19:56:16.972Z"
      },
      {
        "duration": 7,
        "start_time": "2021-12-22T19:56:16.985Z"
      },
      {
        "duration": 22,
        "start_time": "2021-12-22T19:56:16.994Z"
      },
      {
        "duration": 4,
        "start_time": "2021-12-22T19:56:17.018Z"
      },
      {
        "duration": 23,
        "start_time": "2021-12-22T19:56:17.060Z"
      },
      {
        "duration": 24,
        "start_time": "2021-12-22T19:56:17.085Z"
      },
      {
        "duration": 97,
        "start_time": "2021-12-22T19:56:17.111Z"
      },
      {
        "duration": 85,
        "start_time": "2021-12-22T19:56:17.210Z"
      },
      {
        "duration": 76,
        "start_time": "2021-12-22T19:56:17.298Z"
      },
      {
        "duration": 64,
        "start_time": "2021-12-22T19:56:17.377Z"
      },
      {
        "duration": 774,
        "start_time": "2021-12-22T19:58:30.685Z"
      },
      {
        "duration": 121,
        "start_time": "2021-12-22T19:59:03.025Z"
      },
      {
        "duration": 176,
        "start_time": "2021-12-22T19:59:10.251Z"
      },
      {
        "duration": 120,
        "start_time": "2021-12-22T19:59:45.787Z"
      },
      {
        "duration": 4,
        "start_time": "2021-12-22T19:59:49.418Z"
      },
      {
        "duration": 42,
        "start_time": "2021-12-22T20:02:28.646Z"
      },
      {
        "duration": 37,
        "start_time": "2021-12-22T20:11:51.595Z"
      },
      {
        "duration": 543,
        "start_time": "2021-12-22T20:13:16.943Z"
      },
      {
        "duration": 429,
        "start_time": "2021-12-22T20:13:29.048Z"
      },
      {
        "duration": 9280,
        "start_time": "2021-12-22T20:13:38.287Z"
      },
      {
        "duration": 135,
        "start_time": "2021-12-22T20:14:37.677Z"
      },
      {
        "duration": 12024,
        "start_time": "2021-12-22T20:14:42.462Z"
      },
      {
        "duration": 9976,
        "start_time": "2021-12-22T20:15:04.096Z"
      },
      {
        "duration": -20,
        "start_time": "2021-12-22T20:15:38.913Z"
      },
      {
        "duration": 9960,
        "start_time": "2021-12-22T20:15:49.189Z"
      },
      {
        "duration": 11392,
        "start_time": "2021-12-22T20:16:03.940Z"
      },
      {
        "duration": 128,
        "start_time": "2021-12-22T20:17:40.826Z"
      },
      {
        "duration": 133,
        "start_time": "2021-12-22T20:17:48.961Z"
      },
      {
        "duration": 428,
        "start_time": "2021-12-22T20:18:08.656Z"
      },
      {
        "duration": 40,
        "start_time": "2021-12-22T20:18:27.295Z"
      },
      {
        "duration": 667,
        "start_time": "2021-12-24T17:01:40.511Z"
      },
      {
        "duration": 11,
        "start_time": "2021-12-24T17:01:41.179Z"
      },
      {
        "duration": 17,
        "start_time": "2021-12-24T17:01:41.192Z"
      },
      {
        "duration": 10,
        "start_time": "2021-12-24T17:01:41.211Z"
      },
      {
        "duration": 6,
        "start_time": "2021-12-24T17:01:41.222Z"
      },
      {
        "duration": 3,
        "start_time": "2021-12-24T17:01:41.230Z"
      },
      {
        "duration": 11,
        "start_time": "2021-12-24T17:01:41.235Z"
      },
      {
        "duration": 7,
        "start_time": "2021-12-24T17:01:41.248Z"
      },
      {
        "duration": 1261,
        "start_time": "2021-12-24T17:01:41.257Z"
      },
      {
        "duration": 15,
        "start_time": "2021-12-24T17:01:42.519Z"
      },
      {
        "duration": 8,
        "start_time": "2021-12-24T17:01:42.536Z"
      },
      {
        "duration": 15,
        "start_time": "2021-12-24T17:01:42.546Z"
      },
      {
        "duration": 9,
        "start_time": "2021-12-24T17:01:42.563Z"
      },
      {
        "duration": 17,
        "start_time": "2021-12-24T17:01:42.574Z"
      },
      {
        "duration": 16,
        "start_time": "2021-12-24T17:01:42.592Z"
      },
      {
        "duration": 18,
        "start_time": "2021-12-24T17:01:42.609Z"
      },
      {
        "duration": 11,
        "start_time": "2021-12-24T17:01:42.628Z"
      },
      {
        "duration": 10,
        "start_time": "2021-12-24T17:01:42.640Z"
      },
      {
        "duration": 16,
        "start_time": "2021-12-24T17:01:42.652Z"
      },
      {
        "duration": 16,
        "start_time": "2021-12-24T17:01:42.669Z"
      },
      {
        "duration": 42,
        "start_time": "2021-12-24T17:01:42.686Z"
      },
      {
        "duration": 11,
        "start_time": "2021-12-24T17:01:42.730Z"
      },
      {
        "duration": 25,
        "start_time": "2021-12-24T17:01:42.744Z"
      },
      {
        "duration": 18,
        "start_time": "2021-12-24T17:01:42.770Z"
      },
      {
        "duration": 10,
        "start_time": "2021-12-24T17:01:42.789Z"
      },
      {
        "duration": 32,
        "start_time": "2021-12-24T17:01:42.801Z"
      },
      {
        "duration": 9,
        "start_time": "2021-12-24T17:01:42.835Z"
      },
      {
        "duration": 10,
        "start_time": "2021-12-24T17:01:42.846Z"
      },
      {
        "duration": 647,
        "start_time": "2021-12-24T17:01:42.858Z"
      },
      {
        "duration": 3,
        "start_time": "2021-12-24T17:01:43.507Z"
      },
      {
        "duration": 16,
        "start_time": "2021-12-24T17:01:43.512Z"
      },
      {
        "duration": 15,
        "start_time": "2021-12-24T17:01:43.529Z"
      },
      {
        "duration": 6,
        "start_time": "2021-12-24T17:01:43.545Z"
      },
      {
        "duration": 10,
        "start_time": "2021-12-24T17:01:43.552Z"
      },
      {
        "duration": 16,
        "start_time": "2021-12-24T17:01:43.563Z"
      },
      {
        "duration": 6,
        "start_time": "2021-12-24T17:01:43.580Z"
      },
      {
        "duration": 3,
        "start_time": "2021-12-24T17:01:43.587Z"
      },
      {
        "duration": 12,
        "start_time": "2021-12-24T17:01:43.591Z"
      },
      {
        "duration": 23,
        "start_time": "2021-12-24T17:01:43.605Z"
      },
      {
        "duration": 18,
        "start_time": "2021-12-24T17:01:43.630Z"
      },
      {
        "duration": 11,
        "start_time": "2021-12-24T17:01:43.649Z"
      },
      {
        "duration": 8,
        "start_time": "2021-12-24T17:01:43.661Z"
      },
      {
        "duration": 17,
        "start_time": "2021-12-24T17:01:43.670Z"
      },
      {
        "duration": 4,
        "start_time": "2021-12-24T17:01:43.689Z"
      },
      {
        "duration": 38,
        "start_time": "2021-12-24T17:01:43.694Z"
      },
      {
        "duration": 16,
        "start_time": "2021-12-24T17:01:43.734Z"
      },
      {
        "duration": 38,
        "start_time": "2021-12-24T17:01:43.752Z"
      },
      {
        "duration": 8394,
        "start_time": "2021-12-24T17:01:43.792Z"
      },
      {
        "duration": -8,
        "start_time": "2021-12-24T17:01:52.196Z"
      },
      {
        "duration": -9,
        "start_time": "2021-12-24T17:01:52.198Z"
      },
      {
        "duration": -13,
        "start_time": "2021-12-24T17:01:52.202Z"
      },
      {
        "duration": -15,
        "start_time": "2021-12-24T17:01:52.205Z"
      },
      {
        "duration": 6,
        "start_time": "2021-12-24T17:08:44.759Z"
      },
      {
        "duration": 3,
        "start_time": "2021-12-24T17:11:09.496Z"
      },
      {
        "duration": 3,
        "start_time": "2021-12-24T17:11:10.898Z"
      },
      {
        "duration": 372,
        "start_time": "2021-12-24T17:11:20.696Z"
      },
      {
        "duration": 17,
        "start_time": "2021-12-24T17:11:41.484Z"
      },
      {
        "duration": 7855,
        "start_time": "2021-12-24T17:14:51.388Z"
      },
      {
        "duration": 321,
        "start_time": "2021-12-24T17:15:17.343Z"
      },
      {
        "duration": 7968,
        "start_time": "2021-12-24T17:15:34.986Z"
      },
      {
        "duration": 8178,
        "start_time": "2021-12-24T17:16:22.880Z"
      },
      {
        "duration": 577,
        "start_time": "2021-12-24T17:21:58.479Z"
      },
      {
        "duration": 11,
        "start_time": "2021-12-24T17:21:59.843Z"
      },
      {
        "duration": 19,
        "start_time": "2021-12-24T17:22:02.644Z"
      },
      {
        "duration": 9,
        "start_time": "2021-12-24T17:22:06.801Z"
      },
      {
        "duration": 3,
        "start_time": "2021-12-24T17:22:11.401Z"
      },
      {
        "duration": 14,
        "start_time": "2021-12-24T17:22:14.325Z"
      },
      {
        "duration": 6,
        "start_time": "2021-12-24T17:22:23.489Z"
      },
      {
        "duration": 1248,
        "start_time": "2021-12-24T17:22:25.645Z"
      },
      {
        "duration": 13,
        "start_time": "2021-12-24T17:22:29.753Z"
      },
      {
        "duration": 7,
        "start_time": "2021-12-24T17:22:32.070Z"
      },
      {
        "duration": 13,
        "start_time": "2021-12-24T17:22:35.114Z"
      },
      {
        "duration": 8,
        "start_time": "2021-12-24T17:23:16.897Z"
      },
      {
        "duration": 9,
        "start_time": "2021-12-24T17:23:19.490Z"
      },
      {
        "duration": 13,
        "start_time": "2021-12-24T17:23:20.667Z"
      },
      {
        "duration": 4,
        "start_time": "2021-12-24T17:23:26.995Z"
      },
      {
        "duration": 11,
        "start_time": "2021-12-24T17:23:29.689Z"
      },
      {
        "duration": 11,
        "start_time": "2021-12-24T17:23:29.867Z"
      },
      {
        "duration": 761,
        "start_time": "2021-12-24T17:33:16.199Z"
      },
      {
        "duration": 12,
        "start_time": "2021-12-24T17:33:16.961Z"
      },
      {
        "duration": 19,
        "start_time": "2021-12-24T17:33:19.941Z"
      },
      {
        "duration": 9,
        "start_time": "2021-12-24T17:33:25.636Z"
      },
      {
        "duration": 4,
        "start_time": "2021-12-24T17:33:28.060Z"
      },
      {
        "duration": 4,
        "start_time": "2021-12-24T17:33:31.236Z"
      },
      {
        "duration": 10,
        "start_time": "2021-12-24T17:33:31.650Z"
      },
      {
        "duration": 7,
        "start_time": "2021-12-24T17:33:34.251Z"
      },
      {
        "duration": 1694,
        "start_time": "2021-12-24T17:33:36.139Z"
      },
      {
        "duration": 11,
        "start_time": "2021-12-24T17:33:39.135Z"
      },
      {
        "duration": 6,
        "start_time": "2021-12-24T17:33:50.325Z"
      },
      {
        "duration": 13,
        "start_time": "2021-12-24T17:33:51.612Z"
      },
      {
        "duration": 642,
        "start_time": "2021-12-24T17:34:47.629Z"
      },
      {
        "duration": 11,
        "start_time": "2021-12-24T17:34:48.273Z"
      },
      {
        "duration": 19,
        "start_time": "2021-12-24T17:34:50.390Z"
      },
      {
        "duration": 9,
        "start_time": "2021-12-24T17:34:54.416Z"
      },
      {
        "duration": 4,
        "start_time": "2021-12-24T17:34:55.580Z"
      },
      {
        "duration": 4,
        "start_time": "2021-12-24T17:34:59.293Z"
      },
      {
        "duration": 10,
        "start_time": "2021-12-24T17:35:00.965Z"
      },
      {
        "duration": 6,
        "start_time": "2021-12-24T17:35:06.402Z"
      },
      {
        "duration": 1180,
        "start_time": "2021-12-24T17:35:11.123Z"
      },
      {
        "duration": 11,
        "start_time": "2021-12-24T17:35:12.591Z"
      },
      {
        "duration": 22706,
        "start_time": "2021-12-24T17:51:44.560Z"
      },
      {
        "duration": 62,
        "start_time": "2021-12-24T17:52:09.986Z"
      },
      {
        "duration": 38,
        "start_time": "2021-12-24T17:53:05.221Z"
      },
      {
        "duration": 132,
        "start_time": "2021-12-24T17:55:47.812Z"
      },
      {
        "duration": 13,
        "start_time": "2021-12-24T17:55:48.399Z"
      },
      {
        "duration": 112,
        "start_time": "2021-12-24T17:56:03.344Z"
      },
      {
        "duration": 114,
        "start_time": "2021-12-24T17:56:11.116Z"
      },
      {
        "duration": 120,
        "start_time": "2021-12-24T17:56:16.597Z"
      },
      {
        "duration": 142,
        "start_time": "2021-12-24T17:56:22.206Z"
      },
      {
        "duration": 143,
        "start_time": "2021-12-24T17:56:48.275Z"
      },
      {
        "duration": 13,
        "start_time": "2021-12-24T17:56:49.640Z"
      },
      {
        "duration": 52,
        "start_time": "2021-12-24T18:01:47.299Z"
      },
      {
        "duration": 11,
        "start_time": "2021-12-24T18:01:48.359Z"
      },
      {
        "duration": 17,
        "start_time": "2021-12-24T18:01:49.370Z"
      },
      {
        "duration": 59,
        "start_time": "2021-12-24T18:02:07.041Z"
      },
      {
        "duration": 13,
        "start_time": "2021-12-24T18:02:07.622Z"
      },
      {
        "duration": 37,
        "start_time": "2021-12-24T18:02:26.840Z"
      },
      {
        "duration": 9,
        "start_time": "2021-12-24T18:02:27.346Z"
      },
      {
        "duration": 13,
        "start_time": "2021-12-24T18:02:28.079Z"
      },
      {
        "duration": 38,
        "start_time": "2021-12-24T18:02:39.964Z"
      },
      {
        "duration": 10,
        "start_time": "2021-12-24T18:02:40.554Z"
      },
      {
        "duration": 13,
        "start_time": "2021-12-24T18:02:41.166Z"
      },
      {
        "duration": 4,
        "start_time": "2021-12-24T18:02:45.893Z"
      },
      {
        "duration": 13,
        "start_time": "2021-12-24T18:02:46.584Z"
      },
      {
        "duration": 10,
        "start_time": "2021-12-24T18:02:47.775Z"
      },
      {
        "duration": 14,
        "start_time": "2021-12-24T18:02:50.702Z"
      },
      {
        "duration": 17,
        "start_time": "2021-12-24T18:02:51.289Z"
      },
      {
        "duration": 15,
        "start_time": "2021-12-24T18:02:52.181Z"
      },
      {
        "duration": 10,
        "start_time": "2021-12-24T18:02:53.117Z"
      },
      {
        "duration": 23,
        "start_time": "2021-12-24T18:02:53.862Z"
      },
      {
        "duration": 17,
        "start_time": "2021-12-24T18:02:54.766Z"
      },
      {
        "duration": 11,
        "start_time": "2021-12-24T18:02:55.438Z"
      },
      {
        "duration": 7,
        "start_time": "2021-12-24T18:02:59.191Z"
      },
      {
        "duration": 6,
        "start_time": "2021-12-24T18:03:07.925Z"
      },
      {
        "duration": 10,
        "start_time": "2021-12-24T18:03:08.777Z"
      },
      {
        "duration": 597,
        "start_time": "2021-12-24T18:03:11.293Z"
      },
      {
        "duration": 3,
        "start_time": "2021-12-24T18:03:12.191Z"
      },
      {
        "duration": 4,
        "start_time": "2021-12-24T18:03:13.860Z"
      },
      {
        "duration": 10,
        "start_time": "2021-12-24T18:03:16.081Z"
      },
      {
        "duration": 5,
        "start_time": "2021-12-24T18:03:16.506Z"
      },
      {
        "duration": 6,
        "start_time": "2021-12-24T18:03:18.693Z"
      },
      {
        "duration": 14,
        "start_time": "2021-12-24T18:03:24.527Z"
      },
      {
        "duration": 7,
        "start_time": "2021-12-24T18:03:25.054Z"
      },
      {
        "duration": 3,
        "start_time": "2021-12-24T18:03:26.519Z"
      },
      {
        "duration": 10,
        "start_time": "2021-12-24T18:03:28.155Z"
      },
      {
        "duration": 7,
        "start_time": "2021-12-24T18:03:38.083Z"
      },
      {
        "duration": 16,
        "start_time": "2021-12-24T18:03:41.707Z"
      },
      {
        "duration": 7,
        "start_time": "2021-12-24T18:03:44.011Z"
      },
      {
        "duration": 3,
        "start_time": "2021-12-24T18:03:50.481Z"
      },
      {
        "duration": 13,
        "start_time": "2021-12-24T18:03:52.200Z"
      },
      {
        "duration": 3,
        "start_time": "2021-12-24T18:03:55.033Z"
      },
      {
        "duration": 11,
        "start_time": "2021-12-24T18:03:55.552Z"
      },
      {
        "duration": 15,
        "start_time": "2021-12-24T18:03:58.789Z"
      },
      {
        "duration": 649,
        "start_time": "2021-12-24T18:05:40.495Z"
      },
      {
        "duration": 11,
        "start_time": "2021-12-24T18:05:41.145Z"
      },
      {
        "duration": 18,
        "start_time": "2021-12-24T18:05:41.160Z"
      },
      {
        "duration": 9,
        "start_time": "2021-12-24T18:05:41.179Z"
      },
      {
        "duration": 3,
        "start_time": "2021-12-24T18:05:41.190Z"
      },
      {
        "duration": 4,
        "start_time": "2021-12-24T18:05:41.195Z"
      },
      {
        "duration": 10,
        "start_time": "2021-12-24T18:05:41.228Z"
      },
      {
        "duration": 7,
        "start_time": "2021-12-24T18:05:41.240Z"
      },
      {
        "duration": 1229,
        "start_time": "2021-12-24T18:05:41.249Z"
      },
      {
        "duration": 10,
        "start_time": "2021-12-24T18:05:42.480Z"
      },
      {
        "duration": 149,
        "start_time": "2021-12-24T18:05:42.491Z"
      },
      {
        "duration": 13,
        "start_time": "2021-12-24T18:05:42.641Z"
      },
      {
        "duration": 43,
        "start_time": "2021-12-24T18:05:42.656Z"
      },
      {
        "duration": 27,
        "start_time": "2021-12-24T18:05:42.701Z"
      },
      {
        "duration": 13,
        "start_time": "2021-12-24T18:05:42.730Z"
      },
      {
        "duration": 7,
        "start_time": "2021-12-24T18:05:42.744Z"
      },
      {
        "duration": 12,
        "start_time": "2021-12-24T18:05:42.752Z"
      },
      {
        "duration": 11,
        "start_time": "2021-12-24T18:05:42.765Z"
      },
      {
        "duration": 18,
        "start_time": "2021-12-24T18:05:42.777Z"
      },
      {
        "duration": 48,
        "start_time": "2021-12-24T18:05:42.796Z"
      },
      {
        "duration": 17,
        "start_time": "2021-12-24T18:05:42.845Z"
      },
      {
        "duration": 12,
        "start_time": "2021-12-24T18:05:42.865Z"
      },
      {
        "duration": 49,
        "start_time": "2021-12-24T18:05:42.879Z"
      },
      {
        "duration": 18,
        "start_time": "2021-12-24T18:05:42.930Z"
      },
      {
        "duration": 10,
        "start_time": "2021-12-24T18:05:42.950Z"
      },
      {
        "duration": 7,
        "start_time": "2021-12-24T18:05:42.961Z"
      },
      {
        "duration": 9,
        "start_time": "2021-12-24T18:05:42.970Z"
      },
      {
        "duration": 9,
        "start_time": "2021-12-24T18:05:42.981Z"
      },
      {
        "duration": 640,
        "start_time": "2021-12-24T18:05:42.992Z"
      },
      {
        "duration": 3,
        "start_time": "2021-12-24T18:05:43.634Z"
      },
      {
        "duration": 4,
        "start_time": "2021-12-24T18:05:43.638Z"
      },
      {
        "duration": 11,
        "start_time": "2021-12-24T18:05:43.644Z"
      },
      {
        "duration": 5,
        "start_time": "2021-12-24T18:05:43.656Z"
      },
      {
        "duration": 5,
        "start_time": "2021-12-24T18:05:43.663Z"
      },
      {
        "duration": 15,
        "start_time": "2021-12-24T18:05:43.669Z"
      },
      {
        "duration": 7,
        "start_time": "2021-12-24T18:05:43.728Z"
      },
      {
        "duration": 3,
        "start_time": "2021-12-24T18:05:43.737Z"
      },
      {
        "duration": 13,
        "start_time": "2021-12-24T18:05:43.741Z"
      },
      {
        "duration": 5,
        "start_time": "2021-12-24T18:05:43.756Z"
      },
      {
        "duration": 17,
        "start_time": "2021-12-24T18:05:43.763Z"
      },
      {
        "duration": 6,
        "start_time": "2021-12-24T18:05:43.781Z"
      },
      {
        "duration": 3,
        "start_time": "2021-12-24T18:05:43.789Z"
      },
      {
        "duration": 19,
        "start_time": "2021-12-24T18:05:43.827Z"
      },
      {
        "duration": 4,
        "start_time": "2021-12-24T18:05:43.847Z"
      },
      {
        "duration": 12,
        "start_time": "2021-12-24T18:05:43.853Z"
      },
      {
        "duration": 21,
        "start_time": "2021-12-24T18:05:43.867Z"
      },
      {
        "duration": 57,
        "start_time": "2021-12-24T18:05:43.889Z"
      },
      {
        "duration": 36,
        "start_time": "2021-12-24T18:05:43.947Z"
      },
      {
        "duration": 54,
        "start_time": "2021-12-24T18:05:43.984Z"
      },
      {
        "duration": 15,
        "start_time": "2021-12-24T18:10:50.048Z"
      },
      {
        "duration": 111,
        "start_time": "2021-12-24T18:11:32.269Z"
      },
      {
        "duration": 4,
        "start_time": "2021-12-24T18:11:37.115Z"
      },
      {
        "duration": 4,
        "start_time": "2021-12-24T18:12:50.153Z"
      },
      {
        "duration": 5,
        "start_time": "2021-12-24T18:20:14.142Z"
      },
      {
        "duration": 137,
        "start_time": "2021-12-24T18:20:14.912Z"
      },
      {
        "duration": 599,
        "start_time": "2021-12-24T18:20:28.475Z"
      },
      {
        "duration": 11,
        "start_time": "2021-12-24T18:20:29.075Z"
      },
      {
        "duration": 18,
        "start_time": "2021-12-24T18:20:31.440Z"
      },
      {
        "duration": 10,
        "start_time": "2021-12-24T18:20:36.205Z"
      },
      {
        "duration": 5,
        "start_time": "2021-12-24T18:20:40.293Z"
      },
      {
        "duration": 4,
        "start_time": "2021-12-24T18:20:46.963Z"
      },
      {
        "duration": 11,
        "start_time": "2021-12-24T18:20:49.145Z"
      },
      {
        "duration": 6,
        "start_time": "2021-12-24T18:21:16.872Z"
      },
      {
        "duration": 1196,
        "start_time": "2021-12-24T18:21:18.726Z"
      },
      {
        "duration": 5,
        "start_time": "2021-12-24T18:21:59.130Z"
      },
      {
        "duration": 9,
        "start_time": "2021-12-24T18:22:08.129Z"
      },
      {
        "duration": 137,
        "start_time": "2021-12-24T18:22:54.721Z"
      },
      {
        "duration": 37,
        "start_time": "2021-12-24T18:23:10.624Z"
      },
      {
        "duration": 9,
        "start_time": "2021-12-24T18:23:11.092Z"
      },
      {
        "duration": 13,
        "start_time": "2021-12-24T18:23:13.779Z"
      },
      {
        "duration": 19,
        "start_time": "2021-12-24T18:23:53.121Z"
      },
      {
        "duration": 5,
        "start_time": "2021-12-24T18:24:47.918Z"
      },
      {
        "duration": 14,
        "start_time": "2021-12-24T18:25:38.619Z"
      },
      {
        "duration": 6,
        "start_time": "2021-12-24T18:25:39.041Z"
      },
      {
        "duration": 5,
        "start_time": "2021-12-24T18:26:07.584Z"
      },
      {
        "duration": 5,
        "start_time": "2021-12-24T18:26:18.379Z"
      },
      {
        "duration": 11,
        "start_time": "2021-12-24T18:26:19.362Z"
      },
      {
        "duration": 10,
        "start_time": "2021-12-24T18:26:30.903Z"
      },
      {
        "duration": 392,
        "start_time": "2021-12-24T18:27:10.879Z"
      },
      {
        "duration": 314,
        "start_time": "2021-12-24T18:27:19.264Z"
      },
      {
        "duration": 7,
        "start_time": "2021-12-24T18:27:35.238Z"
      },
      {
        "duration": 4,
        "start_time": "2021-12-24T18:27:52.061Z"
      },
      {
        "duration": 4,
        "start_time": "2021-12-24T18:27:59.503Z"
      },
      {
        "duration": 4,
        "start_time": "2021-12-24T18:28:04.852Z"
      },
      {
        "duration": 15,
        "start_time": "2021-12-24T18:28:10.284Z"
      },
      {
        "duration": 15,
        "start_time": "2021-12-24T18:28:10.301Z"
      },
      {
        "duration": 15,
        "start_time": "2021-12-24T18:28:13.888Z"
      },
      {
        "duration": 4,
        "start_time": "2021-12-24T18:29:23.730Z"
      },
      {
        "duration": 97,
        "start_time": "2021-12-24T18:29:48.263Z"
      },
      {
        "duration": 8155,
        "start_time": "2021-12-24T18:29:56.699Z"
      },
      {
        "duration": 5,
        "start_time": "2021-12-24T18:30:27.956Z"
      },
      {
        "duration": 105,
        "start_time": "2021-12-24T18:32:58.858Z"
      },
      {
        "duration": 4,
        "start_time": "2021-12-24T18:33:15.577Z"
      },
      {
        "duration": 4,
        "start_time": "2021-12-24T18:33:54.746Z"
      },
      {
        "duration": 5,
        "start_time": "2021-12-24T18:33:56.404Z"
      },
      {
        "duration": 641,
        "start_time": "2021-12-24T18:34:04.438Z"
      },
      {
        "duration": 11,
        "start_time": "2021-12-24T18:34:05.081Z"
      },
      {
        "duration": 18,
        "start_time": "2021-12-24T18:34:05.095Z"
      },
      {
        "duration": 16,
        "start_time": "2021-12-24T18:34:05.114Z"
      },
      {
        "duration": 4,
        "start_time": "2021-12-24T18:34:05.131Z"
      },
      {
        "duration": 6,
        "start_time": "2021-12-24T18:34:05.136Z"
      },
      {
        "duration": 12,
        "start_time": "2021-12-24T18:34:05.143Z"
      },
      {
        "duration": 6,
        "start_time": "2021-12-24T18:34:05.157Z"
      },
      {
        "duration": 1181,
        "start_time": "2021-12-24T18:34:05.165Z"
      },
      {
        "duration": 141,
        "start_time": "2021-12-24T18:34:06.347Z"
      },
      {
        "duration": 41,
        "start_time": "2021-12-24T18:34:06.490Z"
      },
      {
        "duration": 8,
        "start_time": "2021-12-24T18:34:06.533Z"
      },
      {
        "duration": 5,
        "start_time": "2021-12-24T18:34:06.543Z"
      },
      {
        "duration": 5,
        "start_time": "2021-12-24T18:34:06.550Z"
      },
      {
        "duration": 8,
        "start_time": "2021-12-24T18:34:06.557Z"
      },
      {
        "duration": 16,
        "start_time": "2021-12-24T18:34:06.567Z"
      },
      {
        "duration": 15,
        "start_time": "2021-12-24T18:34:06.585Z"
      },
      {
        "duration": 35,
        "start_time": "2021-12-24T18:34:06.601Z"
      },
      {
        "duration": 12,
        "start_time": "2021-12-24T18:34:06.637Z"
      },
      {
        "duration": 26,
        "start_time": "2021-12-24T18:34:06.651Z"
      },
      {
        "duration": 16,
        "start_time": "2021-12-24T18:34:06.678Z"
      },
      {
        "duration": 34,
        "start_time": "2021-12-24T18:34:06.695Z"
      },
      {
        "duration": 6,
        "start_time": "2021-12-24T18:34:06.732Z"
      },
      {
        "duration": 7,
        "start_time": "2021-12-24T18:34:06.740Z"
      },
      {
        "duration": 9,
        "start_time": "2021-12-24T18:34:06.749Z"
      },
      {
        "duration": 616,
        "start_time": "2021-12-24T18:34:06.759Z"
      },
      {
        "duration": 3,
        "start_time": "2021-12-24T18:34:07.376Z"
      },
      {
        "duration": 6,
        "start_time": "2021-12-24T18:34:07.380Z"
      },
      {
        "duration": 13,
        "start_time": "2021-12-24T18:34:07.387Z"
      },
      {
        "duration": 5,
        "start_time": "2021-12-24T18:34:07.401Z"
      },
      {
        "duration": 23,
        "start_time": "2021-12-24T18:34:07.407Z"
      },
      {
        "duration": 13,
        "start_time": "2021-12-24T18:34:07.431Z"
      },
      {
        "duration": 6,
        "start_time": "2021-12-24T18:34:07.445Z"
      },
      {
        "duration": 6,
        "start_time": "2021-12-24T18:34:07.452Z"
      },
      {
        "duration": 15,
        "start_time": "2021-12-24T18:34:07.460Z"
      },
      {
        "duration": 6,
        "start_time": "2021-12-24T18:34:07.477Z"
      },
      {
        "duration": 18,
        "start_time": "2021-12-24T18:34:07.484Z"
      },
      {
        "duration": 27,
        "start_time": "2021-12-24T18:34:07.503Z"
      },
      {
        "duration": 5,
        "start_time": "2021-12-24T18:34:07.531Z"
      },
      {
        "duration": 14,
        "start_time": "2021-12-24T18:34:07.537Z"
      },
      {
        "duration": 6,
        "start_time": "2021-12-24T18:34:07.553Z"
      },
      {
        "duration": 11,
        "start_time": "2021-12-24T18:34:07.560Z"
      },
      {
        "duration": 20,
        "start_time": "2021-12-24T18:34:07.573Z"
      },
      {
        "duration": 65,
        "start_time": "2021-12-24T18:34:07.594Z"
      },
      {
        "duration": 36,
        "start_time": "2021-12-24T18:34:07.660Z"
      },
      {
        "duration": 52,
        "start_time": "2021-12-24T18:34:07.697Z"
      },
      {
        "duration": 5,
        "start_time": "2021-12-24T18:34:26.388Z"
      },
      {
        "duration": 13,
        "start_time": "2021-12-24T18:34:50.898Z"
      },
      {
        "duration": 13,
        "start_time": "2021-12-24T18:34:55.508Z"
      },
      {
        "duration": 13,
        "start_time": "2021-12-24T18:34:59.589Z"
      },
      {
        "duration": 12,
        "start_time": "2021-12-24T18:35:08.336Z"
      },
      {
        "duration": 21,
        "start_time": "2021-12-24T18:35:16.593Z"
      },
      {
        "duration": 13,
        "start_time": "2021-12-24T18:35:21.205Z"
      },
      {
        "duration": 31,
        "start_time": "2021-12-24T18:36:24.287Z"
      },
      {
        "duration": 22,
        "start_time": "2021-12-24T18:36:29.271Z"
      },
      {
        "duration": 394,
        "start_time": "2021-12-24T18:36:51.009Z"
      },
      {
        "duration": 19,
        "start_time": "2021-12-24T18:36:56.350Z"
      },
      {
        "duration": 21,
        "start_time": "2021-12-24T18:37:00.638Z"
      },
      {
        "duration": 15,
        "start_time": "2021-12-24T18:37:06.878Z"
      },
      {
        "duration": 14,
        "start_time": "2021-12-24T18:37:38.016Z"
      },
      {
        "duration": 10,
        "start_time": "2021-12-24T18:37:46.911Z"
      },
      {
        "duration": 12,
        "start_time": "2021-12-24T18:37:59.469Z"
      },
      {
        "duration": 647,
        "start_time": "2021-12-24T18:38:35.444Z"
      },
      {
        "duration": 9,
        "start_time": "2021-12-24T18:38:36.093Z"
      },
      {
        "duration": 18,
        "start_time": "2021-12-24T18:38:36.104Z"
      },
      {
        "duration": 10,
        "start_time": "2021-12-24T18:38:36.124Z"
      },
      {
        "duration": 3,
        "start_time": "2021-12-24T18:38:36.136Z"
      },
      {
        "duration": 6,
        "start_time": "2021-12-24T18:38:36.140Z"
      },
      {
        "duration": 11,
        "start_time": "2021-12-24T18:38:36.147Z"
      },
      {
        "duration": 7,
        "start_time": "2021-12-24T18:38:36.160Z"
      },
      {
        "duration": 1251,
        "start_time": "2021-12-24T18:38:36.169Z"
      },
      {
        "duration": 144,
        "start_time": "2021-12-24T18:38:37.421Z"
      },
      {
        "duration": 36,
        "start_time": "2021-12-24T18:38:37.566Z"
      },
      {
        "duration": 8,
        "start_time": "2021-12-24T18:38:37.604Z"
      },
      {
        "duration": 17,
        "start_time": "2021-12-24T18:38:37.613Z"
      },
      {
        "duration": 6,
        "start_time": "2021-12-24T18:38:37.631Z"
      },
      {
        "duration": 9,
        "start_time": "2021-12-24T18:38:37.639Z"
      },
      {
        "duration": 17,
        "start_time": "2021-12-24T18:38:37.649Z"
      },
      {
        "duration": 16,
        "start_time": "2021-12-24T18:38:37.667Z"
      },
      {
        "duration": 13,
        "start_time": "2021-12-24T18:38:37.685Z"
      },
      {
        "duration": 34,
        "start_time": "2021-12-24T18:38:37.700Z"
      },
      {
        "duration": 25,
        "start_time": "2021-12-24T18:38:37.735Z"
      },
      {
        "duration": 16,
        "start_time": "2021-12-24T18:38:37.761Z"
      },
      {
        "duration": 9,
        "start_time": "2021-12-24T18:38:37.779Z"
      },
      {
        "duration": 6,
        "start_time": "2021-12-24T18:38:37.791Z"
      },
      {
        "duration": 29,
        "start_time": "2021-12-24T18:38:37.799Z"
      },
      {
        "duration": 10,
        "start_time": "2021-12-24T18:38:37.829Z"
      },
      {
        "duration": 649,
        "start_time": "2021-12-24T18:38:37.841Z"
      },
      {
        "duration": 4,
        "start_time": "2021-12-24T18:38:38.492Z"
      },
      {
        "duration": 5,
        "start_time": "2021-12-24T18:38:38.497Z"
      },
      {
        "duration": 14,
        "start_time": "2021-12-24T18:38:38.503Z"
      },
      {
        "duration": 5,
        "start_time": "2021-12-24T18:38:38.526Z"
      },
      {
        "duration": 6,
        "start_time": "2021-12-24T18:38:38.533Z"
      },
      {
        "duration": 14,
        "start_time": "2021-12-24T18:38:38.540Z"
      },
      {
        "duration": 3,
        "start_time": "2021-12-24T18:38:38.555Z"
      },
      {
        "duration": 14,
        "start_time": "2021-12-24T18:38:38.559Z"
      },
      {
        "duration": 8,
        "start_time": "2021-12-24T18:38:38.575Z"
      },
      {
        "duration": 49,
        "start_time": "2021-12-24T18:38:38.585Z"
      },
      {
        "duration": 6,
        "start_time": "2021-12-24T18:38:38.636Z"
      },
      {
        "duration": 5,
        "start_time": "2021-12-24T18:38:38.644Z"
      },
      {
        "duration": 21,
        "start_time": "2021-12-24T18:38:38.650Z"
      },
      {
        "duration": 3,
        "start_time": "2021-12-24T18:38:38.672Z"
      },
      {
        "duration": 13,
        "start_time": "2021-12-24T18:38:38.676Z"
      },
      {
        "duration": 38,
        "start_time": "2021-12-24T18:38:38.690Z"
      },
      {
        "duration": 19,
        "start_time": "2021-12-24T18:38:38.729Z"
      },
      {
        "duration": 43,
        "start_time": "2021-12-24T18:38:38.750Z"
      },
      {
        "duration": 56,
        "start_time": "2021-12-24T18:38:38.794Z"
      },
      {
        "duration": 35,
        "start_time": "2021-12-24T18:38:38.852Z"
      },
      {
        "duration": 16,
        "start_time": "2021-12-24T18:38:45.547Z"
      },
      {
        "duration": 419,
        "start_time": "2021-12-24T18:39:08.720Z"
      },
      {
        "duration": 23,
        "start_time": "2021-12-24T18:39:19.291Z"
      },
      {
        "duration": 642,
        "start_time": "2021-12-24T18:39:37.803Z"
      },
      {
        "duration": 12,
        "start_time": "2021-12-24T18:39:38.447Z"
      },
      {
        "duration": 19,
        "start_time": "2021-12-24T18:39:38.461Z"
      },
      {
        "duration": 9,
        "start_time": "2021-12-24T18:39:38.482Z"
      },
      {
        "duration": 4,
        "start_time": "2021-12-24T18:39:38.493Z"
      },
      {
        "duration": 28,
        "start_time": "2021-12-24T18:39:38.499Z"
      },
      {
        "duration": 11,
        "start_time": "2021-12-24T18:39:38.529Z"
      },
      {
        "duration": 6,
        "start_time": "2021-12-24T18:39:38.542Z"
      },
      {
        "duration": 1199,
        "start_time": "2021-12-24T18:39:38.551Z"
      },
      {
        "duration": 146,
        "start_time": "2021-12-24T18:39:39.752Z"
      },
      {
        "duration": 41,
        "start_time": "2021-12-24T18:39:39.900Z"
      },
      {
        "duration": 9,
        "start_time": "2021-12-24T18:39:39.943Z"
      },
      {
        "duration": 6,
        "start_time": "2021-12-24T18:39:39.953Z"
      },
      {
        "duration": 5,
        "start_time": "2021-12-24T18:39:39.960Z"
      },
      {
        "duration": 5,
        "start_time": "2021-12-24T18:39:39.966Z"
      },
      {
        "duration": 15,
        "start_time": "2021-12-24T18:39:39.972Z"
      },
      {
        "duration": 45,
        "start_time": "2021-12-24T18:39:39.989Z"
      },
      {
        "duration": 15,
        "start_time": "2021-12-24T18:39:40.035Z"
      },
      {
        "duration": 11,
        "start_time": "2021-12-24T18:39:40.052Z"
      },
      {
        "duration": 23,
        "start_time": "2021-12-24T18:39:40.064Z"
      },
      {
        "duration": 42,
        "start_time": "2021-12-24T18:39:40.089Z"
      },
      {
        "duration": 10,
        "start_time": "2021-12-24T18:39:40.133Z"
      },
      {
        "duration": 7,
        "start_time": "2021-12-24T18:39:40.144Z"
      },
      {
        "duration": 7,
        "start_time": "2021-12-24T18:39:40.153Z"
      },
      {
        "duration": 9,
        "start_time": "2021-12-24T18:39:40.162Z"
      },
      {
        "duration": 644,
        "start_time": "2021-12-24T18:39:40.172Z"
      },
      {
        "duration": 3,
        "start_time": "2021-12-24T18:39:40.827Z"
      },
      {
        "duration": 5,
        "start_time": "2021-12-24T18:39:40.832Z"
      },
      {
        "duration": 13,
        "start_time": "2021-12-24T18:39:40.838Z"
      },
      {
        "duration": 4,
        "start_time": "2021-12-24T18:39:40.853Z"
      },
      {
        "duration": 5,
        "start_time": "2021-12-24T18:39:40.859Z"
      },
      {
        "duration": 14,
        "start_time": "2021-12-24T18:39:40.865Z"
      },
      {
        "duration": 2,
        "start_time": "2021-12-24T18:39:40.881Z"
      },
      {
        "duration": 13,
        "start_time": "2021-12-24T18:39:40.885Z"
      },
      {
        "duration": 30,
        "start_time": "2021-12-24T18:39:40.900Z"
      },
      {
        "duration": 17,
        "start_time": "2021-12-24T18:39:40.931Z"
      },
      {
        "duration": 6,
        "start_time": "2021-12-24T18:39:40.949Z"
      },
      {
        "duration": 4,
        "start_time": "2021-12-24T18:39:40.956Z"
      },
      {
        "duration": 14,
        "start_time": "2021-12-24T18:39:40.961Z"
      },
      {
        "duration": 5,
        "start_time": "2021-12-24T18:39:40.976Z"
      },
      {
        "duration": 11,
        "start_time": "2021-12-24T18:39:40.983Z"
      },
      {
        "duration": 19,
        "start_time": "2021-12-24T18:39:41.028Z"
      },
      {
        "duration": 17,
        "start_time": "2021-12-24T18:39:41.049Z"
      },
      {
        "duration": 61,
        "start_time": "2021-12-24T18:39:41.067Z"
      },
      {
        "duration": 35,
        "start_time": "2021-12-24T18:39:41.130Z"
      },
      {
        "duration": 36,
        "start_time": "2021-12-24T18:39:41.167Z"
      },
      {
        "duration": 9554,
        "start_time": "2021-12-24T18:42:01.689Z"
      },
      {
        "duration": 8526,
        "start_time": "2021-12-24T18:42:11.379Z"
      },
      {
        "duration": 359,
        "start_time": "2021-12-24T18:42:31.693Z"
      },
      {
        "duration": 1574,
        "start_time": "2021-12-24T18:43:47.857Z"
      },
      {
        "duration": 22038,
        "start_time": "2021-12-24T18:44:00.762Z"
      },
      {
        "duration": 8182,
        "start_time": "2021-12-24T18:46:36.246Z"
      },
      {
        "duration": 8168,
        "start_time": "2021-12-24T18:47:24.632Z"
      },
      {
        "duration": 137,
        "start_time": "2021-12-24T18:48:16.797Z"
      },
      {
        "duration": 18,
        "start_time": "2021-12-24T18:48:35.180Z"
      },
      {
        "duration": 19,
        "start_time": "2021-12-24T18:48:38.751Z"
      },
      {
        "duration": 45,
        "start_time": "2021-12-24T18:48:48.541Z"
      },
      {
        "duration": 918,
        "start_time": "2021-12-24T18:48:59.584Z"
      },
      {
        "duration": 18,
        "start_time": "2021-12-24T18:49:03.445Z"
      },
      {
        "duration": 38,
        "start_time": "2021-12-24T18:49:20.317Z"
      },
      {
        "duration": 41,
        "start_time": "2021-12-24T18:50:03.538Z"
      },
      {
        "duration": 37,
        "start_time": "2021-12-24T18:50:08.951Z"
      },
      {
        "duration": 39,
        "start_time": "2021-12-24T18:51:35.596Z"
      },
      {
        "duration": 10092,
        "start_time": "2021-12-24T18:51:48.121Z"
      },
      {
        "duration": 39,
        "start_time": "2021-12-24T18:53:18.100Z"
      },
      {
        "duration": 363,
        "start_time": "2021-12-24T18:54:06.099Z"
      },
      {
        "duration": 41,
        "start_time": "2021-12-24T18:54:09.319Z"
      },
      {
        "duration": 1359,
        "start_time": "2021-12-24T18:54:17.809Z"
      },
      {
        "duration": 489,
        "start_time": "2021-12-24T18:54:23.093Z"
      },
      {
        "duration": 326,
        "start_time": "2021-12-24T18:54:32.566Z"
      },
      {
        "duration": 40,
        "start_time": "2021-12-24T18:54:38.861Z"
      },
      {
        "duration": 19,
        "start_time": "2021-12-24T18:54:47.934Z"
      },
      {
        "duration": 20,
        "start_time": "2021-12-24T18:59:25.942Z"
      },
      {
        "duration": 41,
        "start_time": "2021-12-24T18:59:39.596Z"
      },
      {
        "duration": 19,
        "start_time": "2021-12-24T18:59:51.180Z"
      },
      {
        "duration": 21,
        "start_time": "2021-12-24T19:00:35.337Z"
      },
      {
        "duration": 8014,
        "start_time": "2021-12-24T19:01:20.579Z"
      },
      {
        "duration": 8340,
        "start_time": "2021-12-24T19:01:33.554Z"
      },
      {
        "duration": 8023,
        "start_time": "2021-12-24T19:01:56.250Z"
      },
      {
        "duration": 8202,
        "start_time": "2021-12-24T19:02:13.801Z"
      },
      {
        "duration": 18,
        "start_time": "2021-12-24T19:02:23.873Z"
      },
      {
        "duration": 10088,
        "start_time": "2021-12-24T19:02:28.635Z"
      },
      {
        "duration": 312,
        "start_time": "2021-12-24T19:02:59.363Z"
      },
      {
        "duration": 327,
        "start_time": "2021-12-24T19:03:02.317Z"
      },
      {
        "duration": 18,
        "start_time": "2021-12-24T19:03:13.541Z"
      },
      {
        "duration": 10007,
        "start_time": "2021-12-24T19:03:32.671Z"
      },
      {
        "duration": 359,
        "start_time": "2021-12-24T19:04:14.578Z"
      },
      {
        "duration": 25,
        "start_time": "2021-12-24T19:04:19.225Z"
      },
      {
        "duration": 21,
        "start_time": "2021-12-24T19:04:42.782Z"
      },
      {
        "duration": 7924,
        "start_time": "2021-12-24T19:04:55.036Z"
      },
      {
        "duration": 8235,
        "start_time": "2021-12-24T19:05:26.860Z"
      },
      {
        "duration": 17,
        "start_time": "2021-12-24T19:05:43.443Z"
      },
      {
        "duration": 329,
        "start_time": "2021-12-24T19:05:58.293Z"
      },
      {
        "duration": 18,
        "start_time": "2021-12-24T19:06:01.648Z"
      },
      {
        "duration": 29,
        "start_time": "2021-12-24T19:06:28.690Z"
      },
      {
        "duration": 18,
        "start_time": "2021-12-24T19:06:37.405Z"
      },
      {
        "duration": 7934,
        "start_time": "2021-12-24T19:06:42.468Z"
      },
      {
        "duration": 22,
        "start_time": "2021-12-24T19:06:51.267Z"
      },
      {
        "duration": 19,
        "start_time": "2021-12-24T19:06:55.376Z"
      },
      {
        "duration": 18,
        "start_time": "2021-12-24T19:07:05.621Z"
      },
      {
        "duration": 20,
        "start_time": "2021-12-24T19:07:57.040Z"
      },
      {
        "duration": 19,
        "start_time": "2021-12-24T19:08:04.330Z"
      },
      {
        "duration": 20,
        "start_time": "2021-12-24T19:08:07.857Z"
      },
      {
        "duration": 21,
        "start_time": "2021-12-24T19:08:23.111Z"
      },
      {
        "duration": 20,
        "start_time": "2021-12-24T19:08:31.016Z"
      },
      {
        "duration": 20,
        "start_time": "2021-12-24T19:08:47.804Z"
      },
      {
        "duration": 18,
        "start_time": "2021-12-24T19:08:51.623Z"
      },
      {
        "duration": 18,
        "start_time": "2021-12-24T19:09:03.347Z"
      },
      {
        "duration": 6,
        "start_time": "2021-12-24T19:09:38.866Z"
      },
      {
        "duration": 109,
        "start_time": "2021-12-24T19:10:24.310Z"
      },
      {
        "duration": 4,
        "start_time": "2021-12-24T19:10:27.791Z"
      },
      {
        "duration": 3,
        "start_time": "2021-12-24T19:10:32.827Z"
      },
      {
        "duration": 13,
        "start_time": "2021-12-24T19:10:37.027Z"
      },
      {
        "duration": 3,
        "start_time": "2021-12-24T19:10:43.880Z"
      },
      {
        "duration": 10,
        "start_time": "2021-12-24T19:10:44.567Z"
      },
      {
        "duration": 4,
        "start_time": "2021-12-24T19:10:49.125Z"
      },
      {
        "duration": 11,
        "start_time": "2021-12-24T19:10:50.217Z"
      },
      {
        "duration": 21,
        "start_time": "2021-12-24T19:11:04.365Z"
      },
      {
        "duration": 20,
        "start_time": "2021-12-24T19:12:05.383Z"
      },
      {
        "duration": 154,
        "start_time": "2021-12-24T19:12:44.505Z"
      },
      {
        "duration": 106,
        "start_time": "2021-12-24T19:13:24.019Z"
      },
      {
        "duration": 141,
        "start_time": "2021-12-24T19:13:51.222Z"
      },
      {
        "duration": 19,
        "start_time": "2021-12-24T19:14:44.298Z"
      },
      {
        "duration": 3,
        "start_time": "2021-12-24T19:15:00.013Z"
      },
      {
        "duration": 373,
        "start_time": "2021-12-24T19:15:40.331Z"
      },
      {
        "duration": 124,
        "start_time": "2021-12-24T19:15:46.054Z"
      },
      {
        "duration": 3,
        "start_time": "2021-12-24T19:16:20.220Z"
      },
      {
        "duration": 126,
        "start_time": "2021-12-24T19:16:23.964Z"
      },
      {
        "duration": 119,
        "start_time": "2021-12-24T19:16:53.369Z"
      },
      {
        "duration": 314,
        "start_time": "2021-12-24T19:17:16.622Z"
      },
      {
        "duration": 117,
        "start_time": "2021-12-24T19:17:21.005Z"
      },
      {
        "duration": 8983,
        "start_time": "2021-12-24T19:18:10.369Z"
      },
      {
        "duration": 23,
        "start_time": "2021-12-24T19:18:46.853Z"
      },
      {
        "duration": 137,
        "start_time": "2021-12-24T19:18:50.557Z"
      },
      {
        "duration": 151,
        "start_time": "2021-12-24T19:19:06.166Z"
      },
      {
        "duration": 318,
        "start_time": "2021-12-24T19:19:14.302Z"
      },
      {
        "duration": 132,
        "start_time": "2021-12-24T19:19:17.326Z"
      },
      {
        "duration": 23,
        "start_time": "2021-12-24T19:19:30.717Z"
      },
      {
        "duration": 144,
        "start_time": "2021-12-24T19:19:32.975Z"
      },
      {
        "duration": 21,
        "start_time": "2021-12-24T19:19:56.157Z"
      },
      {
        "duration": 144,
        "start_time": "2021-12-24T19:19:57.830Z"
      },
      {
        "duration": 578,
        "start_time": "2021-12-24T19:20:27.139Z"
      },
      {
        "duration": 309,
        "start_time": "2021-12-24T19:20:55.688Z"
      },
      {
        "duration": 331,
        "start_time": "2021-12-24T19:21:01.352Z"
      },
      {
        "duration": 360,
        "start_time": "2021-12-24T19:21:13.631Z"
      },
      {
        "duration": 328,
        "start_time": "2021-12-24T19:21:20.652Z"
      },
      {
        "duration": 449,
        "start_time": "2021-12-24T19:21:26.504Z"
      },
      {
        "duration": 398,
        "start_time": "2021-12-24T19:21:32.357Z"
      },
      {
        "duration": 336,
        "start_time": "2021-12-24T19:21:38.254Z"
      },
      {
        "duration": 388,
        "start_time": "2021-12-24T19:23:24.214Z"
      },
      {
        "duration": 345,
        "start_time": "2021-12-24T19:23:45.807Z"
      },
      {
        "duration": 327,
        "start_time": "2021-12-24T19:24:38.994Z"
      },
      {
        "duration": 331,
        "start_time": "2021-12-24T19:25:01.481Z"
      },
      {
        "duration": 332,
        "start_time": "2021-12-24T19:25:07.429Z"
      },
      {
        "duration": 343,
        "start_time": "2021-12-24T19:25:10.693Z"
      },
      {
        "duration": 339,
        "start_time": "2021-12-24T19:25:17.576Z"
      },
      {
        "duration": 338,
        "start_time": "2021-12-24T19:25:22.825Z"
      },
      {
        "duration": 325,
        "start_time": "2021-12-24T19:27:22.243Z"
      },
      {
        "duration": 333,
        "start_time": "2021-12-24T19:27:28.395Z"
      },
      {
        "duration": 342,
        "start_time": "2021-12-24T19:27:39.841Z"
      },
      {
        "duration": 321,
        "start_time": "2021-12-24T19:27:42.863Z"
      },
      {
        "duration": 123,
        "start_time": "2021-12-24T19:27:48.091Z"
      },
      {
        "duration": 122,
        "start_time": "2021-12-24T19:27:58.943Z"
      },
      {
        "duration": 140,
        "start_time": "2021-12-24T19:28:06.696Z"
      },
      {
        "duration": 355,
        "start_time": "2021-12-24T19:28:28.618Z"
      },
      {
        "duration": 147,
        "start_time": "2021-12-24T19:28:37.514Z"
      },
      {
        "duration": 159,
        "start_time": "2021-12-24T19:29:09.022Z"
      },
      {
        "duration": 147,
        "start_time": "2021-12-24T19:29:12.527Z"
      },
      {
        "duration": 835,
        "start_time": "2021-12-24T19:29:25.970Z"
      },
      {
        "duration": 148,
        "start_time": "2021-12-24T19:29:29.110Z"
      },
      {
        "duration": 152,
        "start_time": "2021-12-24T19:30:06.423Z"
      },
      {
        "duration": 142,
        "start_time": "2021-12-24T19:30:12.567Z"
      },
      {
        "duration": 127,
        "start_time": "2021-12-24T19:30:31.760Z"
      },
      {
        "duration": 141,
        "start_time": "2021-12-24T19:31:35.702Z"
      },
      {
        "duration": 320,
        "start_time": "2021-12-24T19:31:49.055Z"
      },
      {
        "duration": 141,
        "start_time": "2021-12-24T19:31:53.792Z"
      },
      {
        "duration": 283,
        "start_time": "2021-12-24T19:32:02.698Z"
      },
      {
        "duration": 160,
        "start_time": "2021-12-24T19:32:11.923Z"
      },
      {
        "duration": 124,
        "start_time": "2021-12-24T19:32:19.585Z"
      },
      {
        "duration": 128,
        "start_time": "2021-12-24T19:32:26.440Z"
      },
      {
        "duration": 153,
        "start_time": "2021-12-24T19:32:29.966Z"
      },
      {
        "duration": 125,
        "start_time": "2021-12-24T19:32:39.164Z"
      },
      {
        "duration": 600,
        "start_time": "2021-12-24T19:33:29.143Z"
      },
      {
        "duration": 546,
        "start_time": "2021-12-24T19:33:34.409Z"
      },
      {
        "duration": 375,
        "start_time": "2021-12-24T19:33:46.794Z"
      },
      {
        "duration": 1261,
        "start_time": "2021-12-24T19:33:52.454Z"
      },
      {
        "duration": 21,
        "start_time": "2021-12-24T19:33:59.950Z"
      },
      {
        "duration": 153,
        "start_time": "2021-12-24T19:34:00.220Z"
      },
      {
        "duration": 21,
        "start_time": "2021-12-24T19:34:03.827Z"
      },
      {
        "duration": 3,
        "start_time": "2021-12-24T19:34:04.157Z"
      },
      {
        "duration": 616,
        "start_time": "2021-12-24T19:34:10.678Z"
      },
      {
        "duration": 10,
        "start_time": "2021-12-24T19:34:11.296Z"
      },
      {
        "duration": 18,
        "start_time": "2021-12-24T19:34:11.307Z"
      },
      {
        "duration": 8,
        "start_time": "2021-12-24T19:34:11.326Z"
      },
      {
        "duration": 5,
        "start_time": "2021-12-24T19:34:11.336Z"
      },
      {
        "duration": 4,
        "start_time": "2021-12-24T19:34:11.342Z"
      },
      {
        "duration": 14,
        "start_time": "2021-12-24T19:34:11.348Z"
      },
      {
        "duration": 6,
        "start_time": "2021-12-24T19:34:11.365Z"
      },
      {
        "duration": 1233,
        "start_time": "2021-12-24T19:34:11.373Z"
      },
      {
        "duration": 142,
        "start_time": "2021-12-24T19:34:12.607Z"
      },
      {
        "duration": 37,
        "start_time": "2021-12-24T19:34:12.750Z"
      },
      {
        "duration": 8,
        "start_time": "2021-12-24T19:34:12.789Z"
      },
      {
        "duration": 5,
        "start_time": "2021-12-24T19:34:12.798Z"
      },
      {
        "duration": 23,
        "start_time": "2021-12-24T19:34:12.804Z"
      },
      {
        "duration": 5,
        "start_time": "2021-12-24T19:34:12.828Z"
      },
      {
        "duration": 17,
        "start_time": "2021-12-24T19:34:12.834Z"
      },
      {
        "duration": 16,
        "start_time": "2021-12-24T19:34:12.853Z"
      },
      {
        "duration": 14,
        "start_time": "2021-12-24T19:34:12.871Z"
      },
      {
        "duration": 12,
        "start_time": "2021-12-24T19:34:12.887Z"
      },
      {
        "duration": 49,
        "start_time": "2021-12-24T19:34:12.900Z"
      },
      {
        "duration": 16,
        "start_time": "2021-12-24T19:34:12.950Z"
      },
      {
        "duration": 9,
        "start_time": "2021-12-24T19:34:12.968Z"
      },
      {
        "duration": 9,
        "start_time": "2021-12-24T19:34:12.979Z"
      },
      {
        "duration": 10,
        "start_time": "2021-12-24T19:34:12.990Z"
      },
      {
        "duration": 29,
        "start_time": "2021-12-24T19:34:13.001Z"
      },
      {
        "duration": 632,
        "start_time": "2021-12-24T19:34:13.032Z"
      },
      {
        "duration": 3,
        "start_time": "2021-12-24T19:34:13.666Z"
      },
      {
        "duration": 5,
        "start_time": "2021-12-24T19:34:13.671Z"
      },
      {
        "duration": 13,
        "start_time": "2021-12-24T19:34:13.678Z"
      },
      {
        "duration": 5,
        "start_time": "2021-12-24T19:34:13.693Z"
      },
      {
        "duration": 8,
        "start_time": "2021-12-24T19:34:13.699Z"
      },
      {
        "duration": 30,
        "start_time": "2021-12-24T19:34:13.708Z"
      },
      {
        "duration": 2,
        "start_time": "2021-12-24T19:34:13.740Z"
      },
      {
        "duration": 14,
        "start_time": "2021-12-24T19:34:13.744Z"
      },
      {
        "duration": 7,
        "start_time": "2021-12-24T19:34:13.759Z"
      },
      {
        "duration": 17,
        "start_time": "2021-12-24T19:34:13.768Z"
      },
      {
        "duration": 6,
        "start_time": "2021-12-24T19:34:13.786Z"
      },
      {
        "duration": 4,
        "start_time": "2021-12-24T19:34:13.793Z"
      },
      {
        "duration": 13,
        "start_time": "2021-12-24T19:34:13.827Z"
      },
      {
        "duration": 4,
        "start_time": "2021-12-24T19:34:13.842Z"
      },
      {
        "duration": 11,
        "start_time": "2021-12-24T19:34:13.847Z"
      },
      {
        "duration": 18,
        "start_time": "2021-12-24T19:34:13.860Z"
      },
      {
        "duration": 20,
        "start_time": "2021-12-24T19:34:13.879Z"
      },
      {
        "duration": 565,
        "start_time": "2021-12-24T19:34:13.900Z"
      },
      {
        "duration": 135,
        "start_time": "2021-12-24T19:34:14.466Z"
      },
      {
        "duration": 30,
        "start_time": "2021-12-24T19:34:14.603Z"
      },
      {
        "duration": 157,
        "start_time": "2021-12-24T19:34:14.635Z"
      },
      {
        "duration": 46,
        "start_time": "2021-12-24T19:34:14.794Z"
      },
      {
        "duration": 37,
        "start_time": "2021-12-24T19:34:14.841Z"
      },
      {
        "duration": 993,
        "start_time": "2021-12-24T19:35:19.388Z"
      },
      {
        "duration": 128,
        "start_time": "2021-12-24T19:35:25.193Z"
      },
      {
        "duration": 139,
        "start_time": "2021-12-24T19:36:07.134Z"
      },
      {
        "duration": 146,
        "start_time": "2021-12-24T19:36:17.647Z"
      },
      {
        "duration": 145,
        "start_time": "2021-12-24T19:36:36.318Z"
      },
      {
        "duration": 139,
        "start_time": "2021-12-24T19:36:41.234Z"
      },
      {
        "duration": 445,
        "start_time": "2021-12-24T19:37:23.955Z"
      },
      {
        "duration": 210,
        "start_time": "2021-12-24T19:37:29.018Z"
      },
      {
        "duration": 142,
        "start_time": "2021-12-24T19:37:34.466Z"
      },
      {
        "duration": 144,
        "start_time": "2021-12-24T19:37:39.920Z"
      },
      {
        "duration": 144,
        "start_time": "2021-12-24T19:38:08.196Z"
      },
      {
        "duration": 140,
        "start_time": "2021-12-24T19:38:11.924Z"
      },
      {
        "duration": 139,
        "start_time": "2021-12-24T19:38:22.504Z"
      },
      {
        "duration": 361,
        "start_time": "2021-12-24T19:41:06.137Z"
      },
      {
        "duration": 22,
        "start_time": "2021-12-24T19:41:34.094Z"
      },
      {
        "duration": 22,
        "start_time": "2021-12-24T19:41:38.306Z"
      },
      {
        "duration": 142,
        "start_time": "2021-12-24T19:41:45.243Z"
      },
      {
        "duration": 20,
        "start_time": "2021-12-24T19:42:13.720Z"
      },
      {
        "duration": 119,
        "start_time": "2021-12-24T19:42:21.132Z"
      },
      {
        "duration": 21,
        "start_time": "2021-12-24T19:43:13.685Z"
      },
      {
        "duration": 168,
        "start_time": "2021-12-24T19:43:28.174Z"
      },
      {
        "duration": 21,
        "start_time": "2021-12-24T19:44:59.417Z"
      },
      {
        "duration": 139,
        "start_time": "2021-12-24T19:45:16.219Z"
      },
      {
        "duration": 3,
        "start_time": "2021-12-24T19:48:18.321Z"
      },
      {
        "duration": 117,
        "start_time": "2021-12-24T19:48:28.620Z"
      },
      {
        "duration": 3,
        "start_time": "2021-12-24T19:48:32.773Z"
      },
      {
        "duration": 21,
        "start_time": "2021-12-24T19:48:33.544Z"
      },
      {
        "duration": 19,
        "start_time": "2021-12-24T19:48:39.582Z"
      },
      {
        "duration": 124,
        "start_time": "2021-12-24T19:49:26.435Z"
      },
      {
        "duration": 19,
        "start_time": "2021-12-24T19:50:14.562Z"
      },
      {
        "duration": 3,
        "start_time": "2021-12-24T19:50:15.334Z"
      },
      {
        "duration": 124,
        "start_time": "2021-12-24T19:50:15.986Z"
      },
      {
        "duration": 106,
        "start_time": "2021-12-24T19:51:31.371Z"
      },
      {
        "duration": 111,
        "start_time": "2021-12-24T19:51:54.898Z"
      },
      {
        "duration": 368,
        "start_time": "2021-12-24T19:52:00.173Z"
      },
      {
        "duration": 3,
        "start_time": "2021-12-24T19:53:09.520Z"
      },
      {
        "duration": 3,
        "start_time": "2021-12-24T19:53:15.276Z"
      },
      {
        "duration": 3,
        "start_time": "2021-12-24T19:55:22.937Z"
      },
      {
        "duration": 3,
        "start_time": "2021-12-24T19:55:33.278Z"
      },
      {
        "duration": 3,
        "start_time": "2021-12-24T19:55:52.099Z"
      },
      {
        "duration": 3,
        "start_time": "2021-12-24T19:55:54.759Z"
      },
      {
        "duration": 14,
        "start_time": "2021-12-24T19:58:03.865Z"
      },
      {
        "duration": 9,
        "start_time": "2021-12-24T19:58:10.678Z"
      },
      {
        "duration": 2,
        "start_time": "2021-12-24T19:58:18.803Z"
      },
      {
        "duration": 8,
        "start_time": "2021-12-24T19:58:35.174Z"
      },
      {
        "duration": 341,
        "start_time": "2021-12-24T19:59:36.558Z"
      },
      {
        "duration": 10,
        "start_time": "2021-12-24T20:00:14.154Z"
      },
      {
        "duration": 16,
        "start_time": "2021-12-24T20:00:21.864Z"
      },
      {
        "duration": 10,
        "start_time": "2021-12-24T20:00:54.103Z"
      },
      {
        "duration": 13,
        "start_time": "2021-12-24T20:01:40.980Z"
      },
      {
        "duration": 16,
        "start_time": "2021-12-24T20:01:42.186Z"
      },
      {
        "duration": 733,
        "start_time": "2021-12-24T20:01:51.314Z"
      },
      {
        "duration": 9,
        "start_time": "2021-12-24T20:01:52.049Z"
      },
      {
        "duration": 19,
        "start_time": "2021-12-24T20:01:52.060Z"
      },
      {
        "duration": 13,
        "start_time": "2021-12-24T20:01:52.081Z"
      },
      {
        "duration": 8,
        "start_time": "2021-12-24T20:01:52.095Z"
      },
      {
        "duration": 22,
        "start_time": "2021-12-24T20:01:52.105Z"
      },
      {
        "duration": 14,
        "start_time": "2021-12-24T20:01:52.129Z"
      },
      {
        "duration": 6,
        "start_time": "2021-12-24T20:01:52.146Z"
      },
      {
        "duration": 1213,
        "start_time": "2021-12-24T20:01:52.155Z"
      },
      {
        "duration": 140,
        "start_time": "2021-12-24T20:01:53.370Z"
      },
      {
        "duration": 41,
        "start_time": "2021-12-24T20:01:53.512Z"
      },
      {
        "duration": 8,
        "start_time": "2021-12-24T20:01:53.555Z"
      },
      {
        "duration": 10,
        "start_time": "2021-12-24T20:01:53.564Z"
      },
      {
        "duration": 5,
        "start_time": "2021-12-24T20:01:53.575Z"
      },
      {
        "duration": 4,
        "start_time": "2021-12-24T20:01:53.582Z"
      },
      {
        "duration": 40,
        "start_time": "2021-12-24T20:01:53.588Z"
      },
      {
        "duration": 17,
        "start_time": "2021-12-24T20:01:53.630Z"
      },
      {
        "duration": 14,
        "start_time": "2021-12-24T20:01:53.648Z"
      },
      {
        "duration": 11,
        "start_time": "2021-12-24T20:01:53.664Z"
      },
      {
        "duration": 53,
        "start_time": "2021-12-24T20:01:53.676Z"
      },
      {
        "duration": 17,
        "start_time": "2021-12-24T20:01:53.731Z"
      },
      {
        "duration": 9,
        "start_time": "2021-12-24T20:01:53.750Z"
      },
      {
        "duration": 9,
        "start_time": "2021-12-24T20:01:53.763Z"
      },
      {
        "duration": 9,
        "start_time": "2021-12-24T20:01:53.775Z"
      },
      {
        "duration": 9,
        "start_time": "2021-12-24T20:01:53.786Z"
      },
      {
        "duration": 766,
        "start_time": "2021-12-24T20:01:53.797Z"
      },
      {
        "duration": 3,
        "start_time": "2021-12-24T20:01:54.566Z"
      },
      {
        "duration": 7,
        "start_time": "2021-12-24T20:01:54.570Z"
      },
      {
        "duration": 17,
        "start_time": "2021-12-24T20:01:54.579Z"
      },
      {
        "duration": 5,
        "start_time": "2021-12-24T20:01:54.598Z"
      },
      {
        "duration": 27,
        "start_time": "2021-12-24T20:01:54.605Z"
      },
      {
        "duration": 14,
        "start_time": "2021-12-24T20:01:54.633Z"
      },
      {
        "duration": 2,
        "start_time": "2021-12-24T20:01:54.649Z"
      },
      {
        "duration": 13,
        "start_time": "2021-12-24T20:01:54.653Z"
      },
      {
        "duration": 9,
        "start_time": "2021-12-24T20:01:54.668Z"
      },
      {
        "duration": 52,
        "start_time": "2021-12-24T20:01:54.678Z"
      },
      {
        "duration": 7,
        "start_time": "2021-12-24T20:01:54.731Z"
      },
      {
        "duration": 5,
        "start_time": "2021-12-24T20:01:54.739Z"
      },
      {
        "duration": 14,
        "start_time": "2021-12-24T20:01:54.745Z"
      },
      {
        "duration": 3,
        "start_time": "2021-12-24T20:01:54.761Z"
      },
      {
        "duration": 14,
        "start_time": "2021-12-24T20:01:54.767Z"
      },
      {
        "duration": 50,
        "start_time": "2021-12-24T20:01:54.783Z"
      },
      {
        "duration": 409,
        "start_time": "2021-12-24T20:01:54.835Z"
      },
      {
        "duration": -109,
        "start_time": "2021-12-24T20:01:55.355Z"
      },
      {
        "duration": -112,
        "start_time": "2021-12-24T20:01:55.359Z"
      },
      {
        "duration": -115,
        "start_time": "2021-12-24T20:01:55.363Z"
      },
      {
        "duration": -117,
        "start_time": "2021-12-24T20:01:55.366Z"
      },
      {
        "duration": -119,
        "start_time": "2021-12-24T20:01:55.369Z"
      },
      {
        "duration": -122,
        "start_time": "2021-12-24T20:01:55.373Z"
      },
      {
        "duration": -125,
        "start_time": "2021-12-24T20:01:55.376Z"
      },
      {
        "duration": -127,
        "start_time": "2021-12-24T20:01:55.379Z"
      },
      {
        "duration": -129,
        "start_time": "2021-12-24T20:01:55.382Z"
      },
      {
        "duration": -131,
        "start_time": "2021-12-24T20:01:55.385Z"
      },
      {
        "duration": 337,
        "start_time": "2021-12-24T20:02:13.488Z"
      },
      {
        "duration": 427,
        "start_time": "2021-12-24T20:02:16.432Z"
      },
      {
        "duration": 18,
        "start_time": "2021-12-24T20:02:19.670Z"
      },
      {
        "duration": 3,
        "start_time": "2021-12-24T20:02:23.870Z"
      },
      {
        "duration": 9026,
        "start_time": "2021-12-24T20:02:24.719Z"
      },
      {
        "duration": 7,
        "start_time": "2021-12-24T20:02:47.255Z"
      },
      {
        "duration": 8340,
        "start_time": "2021-12-24T20:02:55.627Z"
      },
      {
        "duration": 8,
        "start_time": "2021-12-24T20:03:23.224Z"
      },
      {
        "duration": 17,
        "start_time": "2021-12-24T20:03:27.827Z"
      },
      {
        "duration": 7,
        "start_time": "2021-12-24T20:03:28.658Z"
      },
      {
        "duration": 3,
        "start_time": "2021-12-24T20:03:41.264Z"
      },
      {
        "duration": 376,
        "start_time": "2021-12-24T20:03:49.939Z"
      },
      {
        "duration": 4,
        "start_time": "2021-12-24T20:03:50.540Z"
      },
      {
        "duration": 16,
        "start_time": "2021-12-24T20:04:04.075Z"
      },
      {
        "duration": 3,
        "start_time": "2021-12-24T20:04:06.062Z"
      },
      {
        "duration": 14,
        "start_time": "2021-12-24T20:04:07.275Z"
      },
      {
        "duration": 352,
        "start_time": "2021-12-24T20:04:18.640Z"
      },
      {
        "duration": 330,
        "start_time": "2021-12-24T20:06:24.282Z"
      },
      {
        "duration": 333,
        "start_time": "2021-12-24T20:06:38.401Z"
      },
      {
        "duration": 351,
        "start_time": "2021-12-24T20:06:49.768Z"
      },
      {
        "duration": 10,
        "start_time": "2021-12-24T20:07:07.159Z"
      },
      {
        "duration": 23,
        "start_time": "2021-12-24T20:07:08.214Z"
      },
      {
        "duration": 16,
        "start_time": "2021-12-24T20:08:36.832Z"
      },
      {
        "duration": 324,
        "start_time": "2021-12-24T20:08:57.921Z"
      },
      {
        "duration": 13,
        "start_time": "2021-12-24T20:09:21.729Z"
      },
      {
        "duration": 3,
        "start_time": "2021-12-24T20:09:28.527Z"
      },
      {
        "duration": 9,
        "start_time": "2021-12-24T20:09:29.066Z"
      },
      {
        "duration": 335,
        "start_time": "2021-12-24T20:09:40.512Z"
      },
      {
        "duration": 13,
        "start_time": "2021-12-24T20:09:56.500Z"
      },
      {
        "duration": 3,
        "start_time": "2021-12-24T20:09:59.372Z"
      },
      {
        "duration": 21,
        "start_time": "2021-12-24T20:10:28.446Z"
      },
      {
        "duration": 3,
        "start_time": "2021-12-24T20:10:30.040Z"
      },
      {
        "duration": 9670,
        "start_time": "2021-12-24T20:10:30.827Z"
      },
      {
        "duration": 326,
        "start_time": "2021-12-24T20:11:41.338Z"
      },
      {
        "duration": 398,
        "start_time": "2021-12-24T20:11:56.854Z"
      },
      {
        "duration": 22,
        "start_time": "2021-12-24T20:12:03.300Z"
      },
      {
        "duration": 3,
        "start_time": "2021-12-24T20:12:04.604Z"
      },
      {
        "duration": -117,
        "start_time": "2021-12-24T20:12:15.699Z"
      },
      {
        "duration": 8825,
        "start_time": "2021-12-24T20:12:33.681Z"
      },
      {
        "duration": 613,
        "start_time": "2021-12-24T20:12:55.875Z"
      },
      {
        "duration": 10,
        "start_time": "2021-12-24T20:12:56.490Z"
      },
      {
        "duration": 18,
        "start_time": "2021-12-24T20:12:56.502Z"
      },
      {
        "duration": 13,
        "start_time": "2021-12-24T20:12:56.521Z"
      },
      {
        "duration": 4,
        "start_time": "2021-12-24T20:12:56.535Z"
      },
      {
        "duration": 5,
        "start_time": "2021-12-24T20:12:56.540Z"
      },
      {
        "duration": 12,
        "start_time": "2021-12-24T20:12:56.546Z"
      },
      {
        "duration": 8,
        "start_time": "2021-12-24T20:12:56.560Z"
      },
      {
        "duration": 1179,
        "start_time": "2021-12-24T20:12:56.570Z"
      },
      {
        "duration": 141,
        "start_time": "2021-12-24T20:12:57.750Z"
      },
      {
        "duration": 42,
        "start_time": "2021-12-24T20:12:57.893Z"
      },
      {
        "duration": 8,
        "start_time": "2021-12-24T20:12:57.936Z"
      },
      {
        "duration": 5,
        "start_time": "2021-12-24T20:12:57.946Z"
      },
      {
        "duration": 6,
        "start_time": "2021-12-24T20:12:57.952Z"
      },
      {
        "duration": 9,
        "start_time": "2021-12-24T20:12:57.959Z"
      },
      {
        "duration": 14,
        "start_time": "2021-12-24T20:12:57.970Z"
      },
      {
        "duration": 16,
        "start_time": "2021-12-24T20:12:57.985Z"
      },
      {
        "duration": 36,
        "start_time": "2021-12-24T20:12:58.002Z"
      },
      {
        "duration": 12,
        "start_time": "2021-12-24T20:12:58.040Z"
      },
      {
        "duration": 25,
        "start_time": "2021-12-24T20:12:58.053Z"
      },
      {
        "duration": 17,
        "start_time": "2021-12-24T20:12:58.080Z"
      },
      {
        "duration": 36,
        "start_time": "2021-12-24T20:12:58.099Z"
      },
      {
        "duration": 6,
        "start_time": "2021-12-24T20:12:58.139Z"
      },
      {
        "duration": 7,
        "start_time": "2021-12-24T20:12:58.148Z"
      },
      {
        "duration": 10,
        "start_time": "2021-12-24T20:12:58.156Z"
      },
      {
        "duration": 651,
        "start_time": "2021-12-24T20:12:58.168Z"
      },
      {
        "duration": 3,
        "start_time": "2021-12-24T20:12:58.827Z"
      },
      {
        "duration": 5,
        "start_time": "2021-12-24T20:12:58.831Z"
      },
      {
        "duration": 13,
        "start_time": "2021-12-24T20:12:58.837Z"
      },
      {
        "duration": 5,
        "start_time": "2021-12-24T20:12:58.852Z"
      },
      {
        "duration": 5,
        "start_time": "2021-12-24T20:12:58.858Z"
      },
      {
        "duration": 13,
        "start_time": "2021-12-24T20:12:58.865Z"
      },
      {
        "duration": 3,
        "start_time": "2021-12-24T20:12:58.879Z"
      },
      {
        "duration": 19,
        "start_time": "2021-12-24T20:12:58.883Z"
      },
      {
        "duration": 7,
        "start_time": "2021-12-24T20:12:58.927Z"
      },
      {
        "duration": 18,
        "start_time": "2021-12-24T20:12:58.936Z"
      },
      {
        "duration": 6,
        "start_time": "2021-12-24T20:12:58.955Z"
      },
      {
        "duration": 4,
        "start_time": "2021-12-24T20:12:58.962Z"
      },
      {
        "duration": 16,
        "start_time": "2021-12-24T20:12:58.968Z"
      },
      {
        "duration": 17,
        "start_time": "2021-12-24T20:12:58.985Z"
      },
      {
        "duration": 20,
        "start_time": "2021-12-24T20:12:59.028Z"
      },
      {
        "duration": 2,
        "start_time": "2021-12-24T20:12:59.050Z"
      },
      {
        "duration": 9567,
        "start_time": "2021-12-24T20:12:59.054Z"
      },
      {
        "duration": -12,
        "start_time": "2021-12-24T20:13:08.635Z"
      },
      {
        "duration": -16,
        "start_time": "2021-12-24T20:13:08.639Z"
      },
      {
        "duration": -18,
        "start_time": "2021-12-24T20:13:08.642Z"
      },
      {
        "duration": -22,
        "start_time": "2021-12-24T20:13:08.647Z"
      },
      {
        "duration": -23,
        "start_time": "2021-12-24T20:13:08.649Z"
      },
      {
        "duration": -26,
        "start_time": "2021-12-24T20:13:08.653Z"
      },
      {
        "duration": -32,
        "start_time": "2021-12-24T20:13:08.661Z"
      },
      {
        "duration": -34,
        "start_time": "2021-12-24T20:13:08.664Z"
      },
      {
        "duration": 329,
        "start_time": "2021-12-24T20:13:31.411Z"
      },
      {
        "duration": 15,
        "start_time": "2021-12-24T20:13:40.679Z"
      },
      {
        "duration": 3,
        "start_time": "2021-12-24T20:13:42.974Z"
      },
      {
        "duration": 12,
        "start_time": "2021-12-24T20:13:44.250Z"
      },
      {
        "duration": 13,
        "start_time": "2021-12-24T20:13:58.644Z"
      },
      {
        "duration": 3,
        "start_time": "2021-12-24T20:13:59.826Z"
      },
      {
        "duration": 8,
        "start_time": "2021-12-24T20:14:00.746Z"
      },
      {
        "duration": 21,
        "start_time": "2021-12-24T20:14:06.313Z"
      },
      {
        "duration": 3,
        "start_time": "2021-12-24T20:14:07.633Z"
      },
      {
        "duration": 8283,
        "start_time": "2021-12-24T20:14:08.313Z"
      },
      {
        "duration": 412,
        "start_time": "2021-12-24T20:14:16.687Z"
      },
      {
        "duration": 13,
        "start_time": "2021-12-24T20:14:23.383Z"
      },
      {
        "duration": 3,
        "start_time": "2021-12-24T20:14:24.238Z"
      },
      {
        "duration": 8,
        "start_time": "2021-12-24T20:14:25.047Z"
      },
      {
        "duration": 554,
        "start_time": "2021-12-24T20:14:31.986Z"
      },
      {
        "duration": 3,
        "start_time": "2021-12-24T20:14:32.542Z"
      },
      {
        "duration": 129,
        "start_time": "2021-12-24T20:14:58.994Z"
      },
      {
        "duration": 2,
        "start_time": "2021-12-24T20:16:35.243Z"
      },
      {
        "duration": 14,
        "start_time": "2021-12-24T20:17:17.518Z"
      },
      {
        "duration": 4,
        "start_time": "2021-12-24T20:18:52.445Z"
      },
      {
        "duration": 9,
        "start_time": "2021-12-24T20:18:54.581Z"
      },
      {
        "duration": 8,
        "start_time": "2021-12-24T20:19:43.671Z"
      },
      {
        "duration": 118,
        "start_time": "2021-12-24T20:19:44.747Z"
      },
      {
        "duration": 14,
        "start_time": "2021-12-24T20:24:53.940Z"
      },
      {
        "duration": 14,
        "start_time": "2021-12-24T20:25:04.672Z"
      },
      {
        "duration": 25,
        "start_time": "2021-12-24T20:25:09.128Z"
      },
      {
        "duration": 3,
        "start_time": "2021-12-24T20:25:34.168Z"
      },
      {
        "duration": 8,
        "start_time": "2021-12-24T20:25:48.868Z"
      },
      {
        "duration": 2,
        "start_time": "2021-12-24T20:26:19.996Z"
      },
      {
        "duration": 134,
        "start_time": "2021-12-24T20:28:25.019Z"
      },
      {
        "duration": 123,
        "start_time": "2021-12-24T20:28:41.362Z"
      },
      {
        "duration": 127,
        "start_time": "2021-12-24T20:33:38.651Z"
      },
      {
        "duration": 110,
        "start_time": "2021-12-24T20:34:01.688Z"
      },
      {
        "duration": 114,
        "start_time": "2021-12-24T20:34:06.712Z"
      },
      {
        "duration": 103,
        "start_time": "2021-12-24T20:34:09.460Z"
      },
      {
        "duration": 341,
        "start_time": "2021-12-24T20:34:13.682Z"
      },
      {
        "duration": 18,
        "start_time": "2021-12-24T20:34:20.856Z"
      },
      {
        "duration": 32,
        "start_time": "2021-12-24T20:35:58.940Z"
      },
      {
        "duration": 16,
        "start_time": "2021-12-24T20:37:18.559Z"
      },
      {
        "duration": 14,
        "start_time": "2021-12-24T20:37:36.685Z"
      },
      {
        "duration": 16,
        "start_time": "2021-12-24T20:37:43.102Z"
      },
      {
        "duration": 16,
        "start_time": "2021-12-24T20:37:53.066Z"
      },
      {
        "duration": 4,
        "start_time": "2021-12-24T20:38:01.583Z"
      },
      {
        "duration": 5,
        "start_time": "2021-12-24T20:38:37.048Z"
      },
      {
        "duration": 336,
        "start_time": "2021-12-24T20:38:59.852Z"
      },
      {
        "duration": 331,
        "start_time": "2021-12-24T20:39:03.352Z"
      },
      {
        "duration": 322,
        "start_time": "2021-12-24T20:39:07.815Z"
      },
      {
        "duration": 325,
        "start_time": "2021-12-24T20:39:44.557Z"
      },
      {
        "duration": 4,
        "start_time": "2021-12-24T20:39:47.067Z"
      },
      {
        "duration": 4,
        "start_time": "2021-12-24T20:39:50.462Z"
      },
      {
        "duration": 4,
        "start_time": "2021-12-24T20:39:54.330Z"
      },
      {
        "duration": 4,
        "start_time": "2021-12-24T20:39:57.563Z"
      },
      {
        "duration": 4,
        "start_time": "2021-12-24T20:40:05.194Z"
      },
      {
        "duration": 13,
        "start_time": "2021-12-24T20:41:54.507Z"
      },
      {
        "duration": 3,
        "start_time": "2021-12-24T20:41:56.570Z"
      },
      {
        "duration": 8,
        "start_time": "2021-12-24T20:41:57.972Z"
      },
      {
        "duration": 2,
        "start_time": "2021-12-24T20:42:00.838Z"
      },
      {
        "duration": 142,
        "start_time": "2021-12-24T20:42:03.027Z"
      },
      {
        "duration": 14,
        "start_time": "2021-12-24T20:42:13.841Z"
      },
      {
        "duration": 4,
        "start_time": "2021-12-24T20:42:14.589Z"
      },
      {
        "duration": 8,
        "start_time": "2021-12-24T20:42:19.677Z"
      },
      {
        "duration": 2,
        "start_time": "2021-12-24T20:42:24.330Z"
      },
      {
        "duration": 3,
        "start_time": "2021-12-24T20:42:40.461Z"
      },
      {
        "duration": 127,
        "start_time": "2021-12-24T20:42:48.556Z"
      },
      {
        "duration": 359,
        "start_time": "2021-12-24T20:45:47.103Z"
      },
      {
        "duration": 192,
        "start_time": "2021-12-24T20:46:17.595Z"
      },
      {
        "duration": 488,
        "start_time": "2021-12-24T20:48:17.721Z"
      },
      {
        "duration": 475,
        "start_time": "2021-12-24T20:48:27.850Z"
      },
      {
        "duration": 127,
        "start_time": "2021-12-24T20:48:35.609Z"
      },
      {
        "duration": 472,
        "start_time": "2021-12-24T20:51:00.897Z"
      },
      {
        "duration": 128,
        "start_time": "2021-12-24T20:51:10.554Z"
      },
      {
        "duration": 332,
        "start_time": "2021-12-24T20:52:29.466Z"
      },
      {
        "duration": 277,
        "start_time": "2021-12-24T20:52:35.332Z"
      },
      {
        "duration": 214,
        "start_time": "2021-12-24T20:52:49.559Z"
      },
      {
        "duration": 244,
        "start_time": "2021-12-24T20:52:53.927Z"
      },
      {
        "duration": 244,
        "start_time": "2021-12-24T20:52:56.517Z"
      },
      {
        "duration": 258,
        "start_time": "2021-12-24T20:53:01.685Z"
      },
      {
        "duration": 334,
        "start_time": "2021-12-24T20:53:20.603Z"
      },
      {
        "duration": 335,
        "start_time": "2021-12-24T20:53:26.892Z"
      },
      {
        "duration": 197,
        "start_time": "2021-12-24T20:53:31.372Z"
      },
      {
        "duration": 339,
        "start_time": "2021-12-24T20:53:37.348Z"
      },
      {
        "duration": 331,
        "start_time": "2021-12-24T20:53:42.876Z"
      },
      {
        "duration": 305,
        "start_time": "2021-12-24T20:53:47.663Z"
      },
      {
        "duration": 335,
        "start_time": "2021-12-24T20:54:01.067Z"
      },
      {
        "duration": 273,
        "start_time": "2021-12-24T20:54:07.187Z"
      },
      {
        "duration": 132,
        "start_time": "2021-12-24T20:56:31.438Z"
      },
      {
        "duration": 130,
        "start_time": "2021-12-24T20:56:38.048Z"
      },
      {
        "duration": 135,
        "start_time": "2021-12-24T20:56:41.398Z"
      },
      {
        "duration": 135,
        "start_time": "2021-12-24T20:56:46.373Z"
      },
      {
        "duration": 121,
        "start_time": "2021-12-24T20:58:52.361Z"
      },
      {
        "duration": 5,
        "start_time": "2021-12-24T21:00:06.955Z"
      },
      {
        "duration": 8,
        "start_time": "2021-12-24T21:00:21.076Z"
      },
      {
        "duration": 8293,
        "start_time": "2021-12-24T21:05:46.829Z"
      },
      {
        "duration": 4,
        "start_time": "2021-12-24T21:05:59.530Z"
      },
      {
        "duration": 14,
        "start_time": "2021-12-24T21:06:00.461Z"
      },
      {
        "duration": 3,
        "start_time": "2021-12-24T21:06:01.806Z"
      },
      {
        "duration": 8,
        "start_time": "2021-12-24T21:06:02.937Z"
      },
      {
        "duration": 421,
        "start_time": "2021-12-24T21:06:26.427Z"
      },
      {
        "duration": 362,
        "start_time": "2021-12-24T21:06:35.175Z"
      },
      {
        "duration": 6,
        "start_time": "2021-12-24T21:06:57.497Z"
      },
      {
        "duration": 8267,
        "start_time": "2021-12-24T21:07:07.439Z"
      },
      {
        "duration": 331,
        "start_time": "2021-12-24T21:07:23.394Z"
      },
      {
        "duration": 14554,
        "start_time": "2021-12-24T21:07:35.751Z"
      },
      {
        "duration": 146,
        "start_time": "2021-12-24T21:08:21.996Z"
      },
      {
        "duration": 7,
        "start_time": "2021-12-24T21:08:23.414Z"
      },
      {
        "duration": 8070,
        "start_time": "2021-12-24T21:08:41.872Z"
      },
      {
        "duration": 8647,
        "start_time": "2021-12-24T21:08:51.641Z"
      },
      {
        "duration": 6,
        "start_time": "2021-12-24T21:09:59.943Z"
      },
      {
        "duration": 5,
        "start_time": "2021-12-24T21:10:16.267Z"
      },
      {
        "duration": 4,
        "start_time": "2021-12-24T21:13:19.580Z"
      },
      {
        "duration": 2,
        "start_time": "2021-12-24T21:13:47.943Z"
      },
      {
        "duration": 3,
        "start_time": "2021-12-24T21:13:50.213Z"
      },
      {
        "duration": 5,
        "start_time": "2021-12-24T21:14:25.709Z"
      },
      {
        "duration": 568,
        "start_time": "2021-12-24T21:14:59.228Z"
      },
      {
        "duration": 565,
        "start_time": "2021-12-24T21:15:36.343Z"
      },
      {
        "duration": 547,
        "start_time": "2021-12-24T21:16:02.565Z"
      },
      {
        "duration": 597,
        "start_time": "2021-12-24T21:16:07.695Z"
      },
      {
        "duration": 551,
        "start_time": "2021-12-24T21:16:20.145Z"
      },
      {
        "duration": 9494,
        "start_time": "2021-12-24T21:16:46.926Z"
      },
      {
        "duration": 146,
        "start_time": "2021-12-24T21:17:11.969Z"
      },
      {
        "duration": 9301,
        "start_time": "2021-12-24T21:17:13.878Z"
      },
      {
        "duration": 3,
        "start_time": "2021-12-24T21:17:35.866Z"
      },
      {
        "duration": 9724,
        "start_time": "2021-12-24T21:17:47.193Z"
      },
      {
        "duration": 10454,
        "start_time": "2021-12-24T21:18:02.101Z"
      },
      {
        "duration": 9441,
        "start_time": "2021-12-24T21:18:23.319Z"
      },
      {
        "duration": 8948,
        "start_time": "2021-12-24T21:18:59.903Z"
      },
      {
        "duration": 9683,
        "start_time": "2021-12-24T21:19:12.658Z"
      },
      {
        "duration": 3,
        "start_time": "2021-12-24T21:19:31.882Z"
      },
      {
        "duration": 849,
        "start_time": "2021-12-24T21:20:08.837Z"
      },
      {
        "duration": 429,
        "start_time": "2021-12-24T21:20:26.697Z"
      },
      {
        "duration": -53,
        "start_time": "2021-12-24T21:20:44.371Z"
      },
      {
        "duration": 633,
        "start_time": "2021-12-24T21:20:49.237Z"
      },
      {
        "duration": 594,
        "start_time": "2021-12-24T21:21:04.592Z"
      },
      {
        "duration": 607,
        "start_time": "2021-12-24T21:21:08.901Z"
      },
      {
        "duration": 594,
        "start_time": "2021-12-24T21:21:25.070Z"
      },
      {
        "duration": 560,
        "start_time": "2021-12-24T21:21:57.780Z"
      },
      {
        "duration": 545,
        "start_time": "2021-12-24T21:22:06.098Z"
      },
      {
        "duration": 550,
        "start_time": "2021-12-24T21:22:17.208Z"
      },
      {
        "duration": 4,
        "start_time": "2021-12-24T21:22:49.415Z"
      },
      {
        "duration": 5,
        "start_time": "2021-12-24T21:22:53.788Z"
      },
      {
        "duration": 4,
        "start_time": "2021-12-24T21:23:01.510Z"
      },
      {
        "duration": 3,
        "start_time": "2021-12-24T21:23:06.433Z"
      },
      {
        "duration": 380,
        "start_time": "2021-12-24T21:23:42.628Z"
      },
      {
        "duration": 4,
        "start_time": "2021-12-24T21:24:00.051Z"
      },
      {
        "duration": 557,
        "start_time": "2021-12-24T21:24:43.515Z"
      },
      {
        "duration": 3,
        "start_time": "2021-12-24T21:25:18.389Z"
      },
      {
        "duration": 631,
        "start_time": "2021-12-24T21:25:31.438Z"
      },
      {
        "duration": 4,
        "start_time": "2021-12-24T21:25:35.150Z"
      },
      {
        "duration": 4,
        "start_time": "2021-12-24T21:25:40.115Z"
      },
      {
        "duration": 598,
        "start_time": "2021-12-24T21:25:59.800Z"
      },
      {
        "duration": 331,
        "start_time": "2021-12-24T21:26:17.668Z"
      },
      {
        "duration": 614,
        "start_time": "2021-12-24T21:26:21.995Z"
      },
      {
        "duration": 622,
        "start_time": "2021-12-24T21:26:35.499Z"
      },
      {
        "duration": 564,
        "start_time": "2021-12-24T21:26:42.115Z"
      },
      {
        "duration": 560,
        "start_time": "2021-12-24T21:27:15.035Z"
      },
      {
        "duration": 560,
        "start_time": "2021-12-24T21:28:00.779Z"
      },
      {
        "duration": 554,
        "start_time": "2021-12-24T21:28:13.496Z"
      },
      {
        "duration": 1178,
        "start_time": "2021-12-24T21:28:21.187Z"
      },
      {
        "duration": 552,
        "start_time": "2021-12-24T21:29:05.976Z"
      },
      {
        "duration": 540,
        "start_time": "2021-12-24T21:29:14.196Z"
      },
      {
        "duration": 4,
        "start_time": "2021-12-24T21:29:28.962Z"
      },
      {
        "duration": 520,
        "start_time": "2021-12-24T21:29:39.049Z"
      },
      {
        "duration": 696,
        "start_time": "2021-12-24T21:29:44.898Z"
      },
      {
        "duration": 585,
        "start_time": "2021-12-24T21:29:53.752Z"
      },
      {
        "duration": 558,
        "start_time": "2021-12-24T21:30:06.340Z"
      },
      {
        "duration": 4,
        "start_time": "2021-12-24T21:30:16.178Z"
      },
      {
        "duration": -64,
        "start_time": "2021-12-24T21:30:29.254Z"
      },
      {
        "duration": 5,
        "start_time": "2021-12-24T21:30:36.650Z"
      },
      {
        "duration": 538,
        "start_time": "2021-12-24T21:30:52.037Z"
      },
      {
        "duration": 532,
        "start_time": "2021-12-24T21:30:56.092Z"
      },
      {
        "duration": 123,
        "start_time": "2021-12-24T21:31:05.189Z"
      },
      {
        "duration": 582,
        "start_time": "2021-12-24T21:31:08.760Z"
      },
      {
        "duration": 3,
        "start_time": "2021-12-24T21:31:30.131Z"
      },
      {
        "duration": 379,
        "start_time": "2021-12-24T21:31:33.430Z"
      },
      {
        "duration": 331,
        "start_time": "2021-12-24T21:31:36.319Z"
      },
      {
        "duration": 322,
        "start_time": "2021-12-24T21:31:44.701Z"
      },
      {
        "duration": 99,
        "start_time": "2021-12-24T21:31:49.295Z"
      },
      {
        "duration": 331,
        "start_time": "2021-12-24T21:31:51.990Z"
      },
      {
        "duration": 113,
        "start_time": "2021-12-24T21:32:29.304Z"
      },
      {
        "duration": 326,
        "start_time": "2021-12-24T21:32:33.458Z"
      },
      {
        "duration": 3,
        "start_time": "2021-12-24T21:32:51.303Z"
      },
      {
        "duration": 4,
        "start_time": "2021-12-24T21:32:57.962Z"
      },
      {
        "duration": 4,
        "start_time": "2021-12-24T21:33:18.047Z"
      },
      {
        "duration": -18,
        "start_time": "2021-12-24T21:33:39.717Z"
      },
      {
        "duration": 4,
        "start_time": "2021-12-24T21:33:42.261Z"
      },
      {
        "duration": 10840,
        "start_time": "2021-12-24T21:34:03.528Z"
      },
      {
        "duration": 4,
        "start_time": "2021-12-24T21:34:15.849Z"
      },
      {
        "duration": -13,
        "start_time": "2021-12-24T21:34:30.943Z"
      },
      {
        "duration": -74,
        "start_time": "2021-12-24T21:34:48.753Z"
      },
      {
        "duration": 4,
        "start_time": "2021-12-24T21:34:51.431Z"
      },
      {
        "duration": 5,
        "start_time": "2021-12-24T21:35:17.619Z"
      },
      {
        "duration": 4,
        "start_time": "2021-12-24T21:35:27.163Z"
      },
      {
        "duration": 3,
        "start_time": "2021-12-24T21:35:33.701Z"
      },
      {
        "duration": 4,
        "start_time": "2021-12-24T21:35:43.995Z"
      },
      {
        "duration": 4,
        "start_time": "2021-12-24T21:35:45.908Z"
      },
      {
        "duration": 3,
        "start_time": "2021-12-24T21:35:49.678Z"
      },
      {
        "duration": 4,
        "start_time": "2021-12-24T21:35:52.552Z"
      },
      {
        "duration": 665,
        "start_time": "2021-12-24T21:54:29.807Z"
      },
      {
        "duration": 10,
        "start_time": "2021-12-24T21:54:30.474Z"
      },
      {
        "duration": 21,
        "start_time": "2021-12-24T21:54:30.486Z"
      },
      {
        "duration": 7,
        "start_time": "2021-12-24T21:54:30.509Z"
      },
      {
        "duration": 11,
        "start_time": "2021-12-24T21:54:30.518Z"
      },
      {
        "duration": 5,
        "start_time": "2021-12-24T21:54:30.531Z"
      },
      {
        "duration": 15,
        "start_time": "2021-12-24T21:54:30.537Z"
      },
      {
        "duration": 10,
        "start_time": "2021-12-24T21:54:30.555Z"
      },
      {
        "duration": 1201,
        "start_time": "2021-12-24T21:54:30.567Z"
      },
      {
        "duration": 145,
        "start_time": "2021-12-24T21:54:31.770Z"
      },
      {
        "duration": 36,
        "start_time": "2021-12-24T21:54:31.917Z"
      },
      {
        "duration": 8,
        "start_time": "2021-12-24T21:54:31.954Z"
      },
      {
        "duration": 5,
        "start_time": "2021-12-24T21:54:31.964Z"
      },
      {
        "duration": 6,
        "start_time": "2021-12-24T21:54:31.970Z"
      },
      {
        "duration": 6,
        "start_time": "2021-12-24T21:54:31.977Z"
      },
      {
        "duration": 44,
        "start_time": "2021-12-24T21:54:31.984Z"
      },
      {
        "duration": 17,
        "start_time": "2021-12-24T21:54:32.030Z"
      },
      {
        "duration": 15,
        "start_time": "2021-12-24T21:54:32.049Z"
      },
      {
        "duration": 13,
        "start_time": "2021-12-24T21:54:32.065Z"
      },
      {
        "duration": 23,
        "start_time": "2021-12-24T21:54:32.079Z"
      },
      {
        "duration": 38,
        "start_time": "2021-12-24T21:54:32.103Z"
      },
      {
        "duration": 9,
        "start_time": "2021-12-24T21:54:32.142Z"
      },
      {
        "duration": 10,
        "start_time": "2021-12-24T21:54:32.154Z"
      },
      {
        "duration": 18,
        "start_time": "2021-12-24T21:54:32.166Z"
      },
      {
        "duration": 13,
        "start_time": "2021-12-24T21:54:32.185Z"
      },
      {
        "duration": 639,
        "start_time": "2021-12-24T21:54:32.199Z"
      },
      {
        "duration": 3,
        "start_time": "2021-12-24T21:54:32.840Z"
      },
      {
        "duration": 8,
        "start_time": "2021-12-24T21:54:32.845Z"
      },
      {
        "duration": 23,
        "start_time": "2021-12-24T21:54:32.855Z"
      },
      {
        "duration": 9,
        "start_time": "2021-12-24T21:54:32.879Z"
      },
      {
        "duration": 18,
        "start_time": "2021-12-24T21:54:32.889Z"
      },
      {
        "duration": 21,
        "start_time": "2021-12-24T21:54:32.908Z"
      },
      {
        "duration": 2,
        "start_time": "2021-12-24T21:54:32.931Z"
      },
      {
        "duration": 20,
        "start_time": "2021-12-24T21:54:32.935Z"
      },
      {
        "duration": 7,
        "start_time": "2021-12-24T21:54:32.957Z"
      },
      {
        "duration": 28,
        "start_time": "2021-12-24T21:54:32.966Z"
      },
      {
        "duration": 19,
        "start_time": "2021-12-24T21:54:32.996Z"
      },
      {
        "duration": 7,
        "start_time": "2021-12-24T21:54:33.017Z"
      },
      {
        "duration": 14,
        "start_time": "2021-12-24T21:54:33.026Z"
      },
      {
        "duration": 26,
        "start_time": "2021-12-24T21:54:33.042Z"
      },
      {
        "duration": 13,
        "start_time": "2021-12-24T21:54:33.069Z"
      },
      {
        "duration": 7,
        "start_time": "2021-12-24T21:54:33.083Z"
      },
      {
        "duration": 17,
        "start_time": "2021-12-24T21:54:33.091Z"
      },
      {
        "duration": 519,
        "start_time": "2021-12-24T21:54:33.110Z"
      },
      {
        "duration": 132,
        "start_time": "2021-12-24T21:54:33.631Z"
      },
      {
        "duration": 3,
        "start_time": "2021-12-24T21:54:33.765Z"
      },
      {
        "duration": 7,
        "start_time": "2021-12-24T21:54:33.769Z"
      },
      {
        "duration": 5,
        "start_time": "2021-12-24T21:54:33.777Z"
      },
      {
        "duration": 4,
        "start_time": "2021-12-24T21:54:33.783Z"
      },
      {
        "duration": 452,
        "start_time": "2021-12-24T21:54:33.788Z"
      },
      {
        "duration": -4,
        "start_time": "2021-12-24T21:54:34.246Z"
      },
      {
        "duration": -6,
        "start_time": "2021-12-24T21:54:34.249Z"
      },
      {
        "duration": -14,
        "start_time": "2021-12-24T21:54:34.258Z"
      },
      {
        "duration": -16,
        "start_time": "2021-12-24T21:54:34.261Z"
      },
      {
        "duration": -18,
        "start_time": "2021-12-24T21:54:34.264Z"
      },
      {
        "duration": 24,
        "start_time": "2021-12-24T21:55:33.240Z"
      },
      {
        "duration": 125,
        "start_time": "2021-12-24T21:55:37.502Z"
      },
      {
        "duration": 145,
        "start_time": "2021-12-24T21:55:48.984Z"
      },
      {
        "duration": 358,
        "start_time": "2021-12-24T21:58:04.458Z"
      },
      {
        "duration": 346,
        "start_time": "2021-12-24T21:58:12.455Z"
      },
      {
        "duration": 666,
        "start_time": "2021-12-24T21:58:16.288Z"
      },
      {
        "duration": 21,
        "start_time": "2021-12-24T21:58:25.668Z"
      },
      {
        "duration": 348,
        "start_time": "2021-12-24T21:58:34.934Z"
      },
      {
        "duration": 39,
        "start_time": "2021-12-24T21:58:35.245Z"
      },
      {
        "duration": 19,
        "start_time": "2021-12-24T21:58:44.975Z"
      },
      {
        "duration": 133,
        "start_time": "2021-12-24T21:58:48.443Z"
      },
      {
        "duration": 20,
        "start_time": "2021-12-24T21:59:12.828Z"
      },
      {
        "duration": 138,
        "start_time": "2021-12-24T21:59:14.143Z"
      },
      {
        "duration": 5,
        "start_time": "2021-12-24T22:03:03.762Z"
      },
      {
        "duration": 4,
        "start_time": "2021-12-24T22:03:10.569Z"
      },
      {
        "duration": 21,
        "start_time": "2021-12-24T22:08:35.373Z"
      },
      {
        "duration": 21,
        "start_time": "2021-12-24T22:08:57.957Z"
      },
      {
        "duration": 7,
        "start_time": "2021-12-24T22:09:14.731Z"
      },
      {
        "duration": 107,
        "start_time": "2021-12-24T22:09:23.123Z"
      },
      {
        "duration": 319,
        "start_time": "2021-12-24T22:09:27.266Z"
      },
      {
        "duration": 8,
        "start_time": "2021-12-24T22:09:32.645Z"
      },
      {
        "duration": 12,
        "start_time": "2021-12-24T22:09:39.022Z"
      },
      {
        "duration": 14,
        "start_time": "2021-12-24T22:11:08.912Z"
      },
      {
        "duration": 11,
        "start_time": "2021-12-24T22:11:12.726Z"
      },
      {
        "duration": 13,
        "start_time": "2021-12-24T22:11:30.005Z"
      },
      {
        "duration": 14,
        "start_time": "2021-12-24T22:11:31.759Z"
      },
      {
        "duration": 325,
        "start_time": "2021-12-24T22:13:35.442Z"
      },
      {
        "duration": 1325,
        "start_time": "2021-12-24T22:13:43.089Z"
      },
      {
        "duration": 315,
        "start_time": "2021-12-24T22:14:29.229Z"
      },
      {
        "duration": 355,
        "start_time": "2021-12-24T22:16:23.696Z"
      },
      {
        "duration": 342,
        "start_time": "2021-12-24T22:16:37.968Z"
      },
      {
        "duration": 337,
        "start_time": "2021-12-24T22:17:09.916Z"
      },
      {
        "duration": 333,
        "start_time": "2021-12-24T22:17:31.127Z"
      },
      {
        "duration": 373,
        "start_time": "2021-12-24T22:19:06.168Z"
      },
      {
        "duration": 342,
        "start_time": "2021-12-24T22:19:27.696Z"
      },
      {
        "duration": 392,
        "start_time": "2021-12-24T22:22:24.953Z"
      },
      {
        "duration": 109,
        "start_time": "2021-12-24T22:22:40.957Z"
      },
      {
        "duration": 342,
        "start_time": "2021-12-24T22:22:43.865Z"
      },
      {
        "duration": 446,
        "start_time": "2021-12-25T10:27:24.072Z"
      },
      {
        "duration": 1010,
        "start_time": "2021-12-25T10:27:29.676Z"
      },
      {
        "duration": 16,
        "start_time": "2021-12-25T10:27:30.689Z"
      },
      {
        "duration": 821,
        "start_time": "2021-12-25T10:27:37.587Z"
      },
      {
        "duration": 15,
        "start_time": "2021-12-25T10:27:38.411Z"
      },
      {
        "duration": 41,
        "start_time": "2021-12-25T10:27:38.429Z"
      },
      {
        "duration": 13,
        "start_time": "2021-12-25T10:27:38.473Z"
      },
      {
        "duration": 5,
        "start_time": "2021-12-25T10:27:38.489Z"
      },
      {
        "duration": 4,
        "start_time": "2021-12-25T10:27:38.496Z"
      },
      {
        "duration": 62,
        "start_time": "2021-12-25T10:27:38.503Z"
      },
      {
        "duration": 9,
        "start_time": "2021-12-25T10:27:38.569Z"
      },
      {
        "duration": 2057,
        "start_time": "2021-12-25T10:27:38.581Z"
      },
      {
        "duration": 240,
        "start_time": "2021-12-25T10:27:40.641Z"
      },
      {
        "duration": 58,
        "start_time": "2021-12-25T10:27:40.883Z"
      },
      {
        "duration": 21,
        "start_time": "2021-12-25T10:27:40.943Z"
      },
      {
        "duration": 8,
        "start_time": "2021-12-25T10:27:40.966Z"
      },
      {
        "duration": 7,
        "start_time": "2021-12-25T10:27:40.976Z"
      },
      {
        "duration": 13,
        "start_time": "2021-12-25T10:27:40.986Z"
      },
      {
        "duration": 69,
        "start_time": "2021-12-25T10:27:41.001Z"
      },
      {
        "duration": 36,
        "start_time": "2021-12-25T10:27:41.073Z"
      },
      {
        "duration": 49,
        "start_time": "2021-12-25T10:27:41.112Z"
      },
      {
        "duration": 22,
        "start_time": "2021-12-25T10:27:41.164Z"
      },
      {
        "duration": 45,
        "start_time": "2021-12-25T10:27:41.189Z"
      },
      {
        "duration": 50,
        "start_time": "2021-12-25T10:27:41.237Z"
      },
      {
        "duration": 13,
        "start_time": "2021-12-25T10:27:41.289Z"
      },
      {
        "duration": 9,
        "start_time": "2021-12-25T10:27:41.307Z"
      },
      {
        "duration": 10,
        "start_time": "2021-12-25T10:27:41.320Z"
      },
      {
        "duration": 16,
        "start_time": "2021-12-25T10:27:41.359Z"
      },
      {
        "duration": 997,
        "start_time": "2021-12-25T10:27:41.377Z"
      },
      {
        "duration": 6,
        "start_time": "2021-12-25T10:27:42.377Z"
      },
      {
        "duration": 8,
        "start_time": "2021-12-25T10:27:42.386Z"
      },
      {
        "duration": 19,
        "start_time": "2021-12-25T10:27:42.397Z"
      },
      {
        "duration": 44,
        "start_time": "2021-12-25T10:27:42.419Z"
      },
      {
        "duration": 9,
        "start_time": "2021-12-25T10:27:42.465Z"
      },
      {
        "duration": 24,
        "start_time": "2021-12-25T10:27:42.477Z"
      },
      {
        "duration": 4,
        "start_time": "2021-12-25T10:27:42.503Z"
      },
      {
        "duration": 52,
        "start_time": "2021-12-25T10:27:42.510Z"
      },
      {
        "duration": 10,
        "start_time": "2021-12-25T10:27:42.565Z"
      },
      {
        "duration": 25,
        "start_time": "2021-12-25T10:27:42.577Z"
      },
      {
        "duration": 10,
        "start_time": "2021-12-25T10:27:42.604Z"
      },
      {
        "duration": 45,
        "start_time": "2021-12-25T10:27:42.617Z"
      },
      {
        "duration": 22,
        "start_time": "2021-12-25T10:27:42.665Z"
      },
      {
        "duration": 23,
        "start_time": "2021-12-25T10:27:42.689Z"
      },
      {
        "duration": 56,
        "start_time": "2021-12-25T10:27:42.715Z"
      },
      {
        "duration": 4,
        "start_time": "2021-12-25T10:27:42.774Z"
      },
      {
        "duration": 19,
        "start_time": "2021-12-25T10:27:42.780Z"
      },
      {
        "duration": 723,
        "start_time": "2021-12-25T10:27:42.802Z"
      },
      {
        "duration": 238,
        "start_time": "2021-12-25T10:27:43.528Z"
      },
      {
        "duration": 5,
        "start_time": "2021-12-25T10:27:43.769Z"
      },
      {
        "duration": 5,
        "start_time": "2021-12-25T10:27:43.777Z"
      },
      {
        "duration": 33,
        "start_time": "2021-12-25T10:27:43.784Z"
      },
      {
        "duration": 514,
        "start_time": "2021-12-25T10:27:43.819Z"
      },
      {
        "duration": 54,
        "start_time": "2021-12-25T10:27:44.282Z"
      },
      {
        "duration": 50,
        "start_time": "2021-12-25T10:27:44.288Z"
      },
      {
        "duration": 44,
        "start_time": "2021-12-25T10:27:44.296Z"
      },
      {
        "duration": 42,
        "start_time": "2021-12-25T10:27:44.299Z"
      },
      {
        "duration": 41,
        "start_time": "2021-12-25T10:27:44.302Z"
      },
      {
        "duration": 21,
        "start_time": "2021-12-25T10:31:01.498Z"
      },
      {
        "duration": 8,
        "start_time": "2021-12-25T10:38:15.325Z"
      },
      {
        "duration": 30,
        "start_time": "2021-12-25T10:43:25.058Z"
      },
      {
        "duration": 17,
        "start_time": "2021-12-25T10:44:11.479Z"
      },
      {
        "duration": 18,
        "start_time": "2021-12-25T10:44:16.373Z"
      },
      {
        "duration": 17,
        "start_time": "2021-12-25T10:46:09.252Z"
      },
      {
        "duration": 23,
        "start_time": "2021-12-25T10:46:15.606Z"
      },
      {
        "duration": 16,
        "start_time": "2021-12-25T10:46:31.734Z"
      },
      {
        "duration": 362,
        "start_time": "2021-12-25T10:47:08.547Z"
      },
      {
        "duration": 8,
        "start_time": "2021-12-25T10:47:11.969Z"
      },
      {
        "duration": 6,
        "start_time": "2021-12-25T10:47:21.947Z"
      },
      {
        "duration": 5,
        "start_time": "2021-12-25T10:47:26.962Z"
      },
      {
        "duration": 6,
        "start_time": "2021-12-25T10:53:56.209Z"
      },
      {
        "duration": 7,
        "start_time": "2021-12-25T10:54:01.648Z"
      },
      {
        "duration": 375,
        "start_time": "2021-12-25T10:54:10.628Z"
      },
      {
        "duration": 6,
        "start_time": "2021-12-25T10:54:15.104Z"
      },
      {
        "duration": 6,
        "start_time": "2021-12-25T10:54:18.084Z"
      },
      {
        "duration": 10,
        "start_time": "2021-12-25T10:54:28.638Z"
      },
      {
        "duration": 9,
        "start_time": "2021-12-25T10:54:38.344Z"
      },
      {
        "duration": 33,
        "start_time": "2021-12-25T10:54:45.866Z"
      },
      {
        "duration": 9,
        "start_time": "2021-12-25T10:54:52.498Z"
      },
      {
        "duration": 42,
        "start_time": "2021-12-25T10:54:56.550Z"
      },
      {
        "duration": 23,
        "start_time": "2021-12-25T10:55:01.762Z"
      },
      {
        "duration": 21,
        "start_time": "2021-12-25T10:55:07.409Z"
      },
      {
        "duration": 11,
        "start_time": "2021-12-25T10:55:13.433Z"
      },
      {
        "duration": 25,
        "start_time": "2021-12-25T10:55:22.297Z"
      },
      {
        "duration": 34,
        "start_time": "2021-12-25T10:55:45.436Z"
      },
      {
        "duration": 11,
        "start_time": "2021-12-25T10:55:59.190Z"
      },
      {
        "duration": 6,
        "start_time": "2021-12-25T11:00:35.961Z"
      },
      {
        "duration": 15,
        "start_time": "2021-12-25T11:01:16.142Z"
      },
      {
        "duration": 12,
        "start_time": "2021-12-25T11:01:29.276Z"
      },
      {
        "duration": 13,
        "start_time": "2021-12-25T11:01:34.602Z"
      },
      {
        "duration": 20,
        "start_time": "2021-12-25T11:02:50.231Z"
      },
      {
        "duration": 21,
        "start_time": "2021-12-25T11:02:53.680Z"
      },
      {
        "duration": 22,
        "start_time": "2021-12-25T11:03:01.147Z"
      },
      {
        "duration": 22,
        "start_time": "2021-12-25T11:08:57.791Z"
      },
      {
        "duration": 21,
        "start_time": "2021-12-25T11:09:06.385Z"
      },
      {
        "duration": 1884,
        "start_time": "2021-12-25T11:10:12.214Z"
      },
      {
        "duration": 15,
        "start_time": "2021-12-25T11:10:14.101Z"
      },
      {
        "duration": 46,
        "start_time": "2021-12-25T11:10:14.119Z"
      },
      {
        "duration": 13,
        "start_time": "2021-12-25T11:10:14.168Z"
      },
      {
        "duration": 11,
        "start_time": "2021-12-25T11:10:14.183Z"
      },
      {
        "duration": 8,
        "start_time": "2021-12-25T11:10:14.196Z"
      },
      {
        "duration": 56,
        "start_time": "2021-12-25T11:10:14.206Z"
      },
      {
        "duration": 8,
        "start_time": "2021-12-25T11:10:14.266Z"
      },
      {
        "duration": 2114,
        "start_time": "2021-12-25T11:10:14.277Z"
      },
      {
        "duration": 239,
        "start_time": "2021-12-25T11:10:16.394Z"
      },
      {
        "duration": 70,
        "start_time": "2021-12-25T11:10:16.636Z"
      },
      {
        "duration": 12,
        "start_time": "2021-12-25T11:10:16.708Z"
      },
      {
        "duration": 7,
        "start_time": "2021-12-25T11:10:16.722Z"
      },
      {
        "duration": 31,
        "start_time": "2021-12-25T11:10:16.731Z"
      },
      {
        "duration": 8,
        "start_time": "2021-12-25T11:10:16.764Z"
      },
      {
        "duration": 25,
        "start_time": "2021-12-25T11:10:16.774Z"
      },
      {
        "duration": 58,
        "start_time": "2021-12-25T11:10:16.801Z"
      },
      {
        "duration": 31,
        "start_time": "2021-12-25T11:10:16.861Z"
      },
      {
        "duration": 16,
        "start_time": "2021-12-25T11:10:16.895Z"
      },
      {
        "duration": 73,
        "start_time": "2021-12-25T11:10:16.914Z"
      },
      {
        "duration": 27,
        "start_time": "2021-12-25T11:10:16.991Z"
      },
      {
        "duration": 40,
        "start_time": "2021-12-25T11:10:17.020Z"
      },
      {
        "duration": 10,
        "start_time": "2021-12-25T11:10:17.067Z"
      },
      {
        "duration": 10,
        "start_time": "2021-12-25T11:10:17.082Z"
      },
      {
        "duration": 17,
        "start_time": "2021-12-25T11:10:17.095Z"
      },
      {
        "duration": 974,
        "start_time": "2021-12-25T11:10:17.115Z"
      },
      {
        "duration": 6,
        "start_time": "2021-12-25T11:10:18.093Z"
      },
      {
        "duration": 8,
        "start_time": "2021-12-25T11:10:18.102Z"
      },
      {
        "duration": 53,
        "start_time": "2021-12-25T11:10:18.113Z"
      },
      {
        "duration": 472,
        "start_time": "2021-12-25T11:10:18.168Z"
      },
      {
        "duration": -24,
        "start_time": "2021-12-25T11:10:18.667Z"
      },
      {
        "duration": -26,
        "start_time": "2021-12-25T11:10:18.671Z"
      },
      {
        "duration": -28,
        "start_time": "2021-12-25T11:10:18.674Z"
      },
      {
        "duration": -29,
        "start_time": "2021-12-25T11:10:18.677Z"
      },
      {
        "duration": -33,
        "start_time": "2021-12-25T11:10:18.682Z"
      },
      {
        "duration": -35,
        "start_time": "2021-12-25T11:10:18.685Z"
      },
      {
        "duration": -38,
        "start_time": "2021-12-25T11:10:18.689Z"
      },
      {
        "duration": -39,
        "start_time": "2021-12-25T11:10:18.692Z"
      },
      {
        "duration": -40,
        "start_time": "2021-12-25T11:10:18.694Z"
      },
      {
        "duration": -41,
        "start_time": "2021-12-25T11:10:18.697Z"
      },
      {
        "duration": -43,
        "start_time": "2021-12-25T11:10:18.700Z"
      },
      {
        "duration": -50,
        "start_time": "2021-12-25T11:10:18.709Z"
      },
      {
        "duration": -53,
        "start_time": "2021-12-25T11:10:18.713Z"
      },
      {
        "duration": -54,
        "start_time": "2021-12-25T11:10:18.716Z"
      },
      {
        "duration": -56,
        "start_time": "2021-12-25T11:10:18.719Z"
      },
      {
        "duration": -59,
        "start_time": "2021-12-25T11:10:18.723Z"
      },
      {
        "duration": -61,
        "start_time": "2021-12-25T11:10:18.727Z"
      },
      {
        "duration": -62,
        "start_time": "2021-12-25T11:10:18.729Z"
      },
      {
        "duration": -63,
        "start_time": "2021-12-25T11:10:18.732Z"
      },
      {
        "duration": -64,
        "start_time": "2021-12-25T11:10:18.735Z"
      },
      {
        "duration": -65,
        "start_time": "2021-12-25T11:10:18.737Z"
      },
      {
        "duration": -66,
        "start_time": "2021-12-25T11:10:18.740Z"
      },
      {
        "duration": -68,
        "start_time": "2021-12-25T11:10:18.743Z"
      },
      {
        "duration": -68,
        "start_time": "2021-12-25T11:10:18.745Z"
      },
      {
        "duration": 17,
        "start_time": "2021-12-25T11:10:24.087Z"
      },
      {
        "duration": 24,
        "start_time": "2021-12-25T11:10:39.533Z"
      },
      {
        "duration": 933,
        "start_time": "2021-12-25T11:11:04.847Z"
      },
      {
        "duration": 16,
        "start_time": "2021-12-25T11:11:05.782Z"
      },
      {
        "duration": 31,
        "start_time": "2021-12-25T11:11:05.800Z"
      },
      {
        "duration": 35,
        "start_time": "2021-12-25T11:11:05.834Z"
      },
      {
        "duration": 5,
        "start_time": "2021-12-25T11:11:05.872Z"
      },
      {
        "duration": 5,
        "start_time": "2021-12-25T11:11:05.880Z"
      },
      {
        "duration": 21,
        "start_time": "2021-12-25T11:11:05.889Z"
      },
      {
        "duration": 50,
        "start_time": "2021-12-25T11:11:05.916Z"
      },
      {
        "duration": 2116,
        "start_time": "2021-12-25T11:11:05.970Z"
      },
      {
        "duration": 236,
        "start_time": "2021-12-25T11:11:08.089Z"
      },
      {
        "duration": 72,
        "start_time": "2021-12-25T11:11:08.327Z"
      },
      {
        "duration": 13,
        "start_time": "2021-12-25T11:11:08.401Z"
      },
      {
        "duration": 6,
        "start_time": "2021-12-25T11:11:08.417Z"
      },
      {
        "duration": 35,
        "start_time": "2021-12-25T11:11:08.426Z"
      },
      {
        "duration": 7,
        "start_time": "2021-12-25T11:11:08.463Z"
      },
      {
        "duration": 23,
        "start_time": "2021-12-25T11:11:08.472Z"
      },
      {
        "duration": 24,
        "start_time": "2021-12-25T11:11:08.498Z"
      },
      {
        "duration": 51,
        "start_time": "2021-12-25T11:11:08.524Z"
      },
      {
        "duration": 17,
        "start_time": "2021-12-25T11:11:08.578Z"
      },
      {
        "duration": 32,
        "start_time": "2021-12-25T11:11:08.598Z"
      },
      {
        "duration": 50,
        "start_time": "2021-12-25T11:11:08.632Z"
      },
      {
        "duration": 16,
        "start_time": "2021-12-25T11:11:08.685Z"
      },
      {
        "duration": 10,
        "start_time": "2021-12-25T11:11:08.708Z"
      },
      {
        "duration": 10,
        "start_time": "2021-12-25T11:11:08.760Z"
      },
      {
        "duration": 15,
        "start_time": "2021-12-25T11:11:08.772Z"
      },
      {
        "duration": 994,
        "start_time": "2021-12-25T11:11:08.789Z"
      },
      {
        "duration": 5,
        "start_time": "2021-12-25T11:11:09.786Z"
      },
      {
        "duration": 7,
        "start_time": "2021-12-25T11:11:09.793Z"
      },
      {
        "duration": 20,
        "start_time": "2021-12-25T11:11:09.802Z"
      },
      {
        "duration": 61,
        "start_time": "2021-12-25T11:11:09.825Z"
      },
      {
        "duration": 10,
        "start_time": "2021-12-25T11:11:09.890Z"
      },
      {
        "duration": 19,
        "start_time": "2021-12-25T11:11:09.902Z"
      },
      {
        "duration": 37,
        "start_time": "2021-12-25T11:11:09.923Z"
      },
      {
        "duration": 19,
        "start_time": "2021-12-25T11:11:09.963Z"
      },
      {
        "duration": 12,
        "start_time": "2021-12-25T11:11:09.985Z"
      },
      {
        "duration": 73,
        "start_time": "2021-12-25T11:11:10.000Z"
      },
      {
        "duration": 14,
        "start_time": "2021-12-25T11:11:10.076Z"
      },
      {
        "duration": 7,
        "start_time": "2021-12-25T11:11:10.093Z"
      },
      {
        "duration": 59,
        "start_time": "2021-12-25T11:11:10.103Z"
      },
      {
        "duration": 31,
        "start_time": "2021-12-25T11:11:10.164Z"
      },
      {
        "duration": 21,
        "start_time": "2021-12-25T11:11:10.198Z"
      },
      {
        "duration": 4,
        "start_time": "2021-12-25T11:11:10.221Z"
      },
      {
        "duration": 43,
        "start_time": "2021-12-25T11:11:10.227Z"
      },
      {
        "duration": 710,
        "start_time": "2021-12-25T11:11:10.273Z"
      },
      {
        "duration": 252,
        "start_time": "2021-12-25T11:11:10.986Z"
      },
      {
        "duration": 5,
        "start_time": "2021-12-25T11:11:11.241Z"
      },
      {
        "duration": 13,
        "start_time": "2021-12-25T11:11:11.248Z"
      },
      {
        "duration": 34,
        "start_time": "2021-12-25T11:11:11.263Z"
      },
      {
        "duration": 510,
        "start_time": "2021-12-25T11:11:11.300Z"
      },
      {
        "duration": -73,
        "start_time": "2021-12-25T11:11:11.885Z"
      },
      {
        "duration": -77,
        "start_time": "2021-12-25T11:11:11.891Z"
      },
      {
        "duration": -80,
        "start_time": "2021-12-25T11:11:11.895Z"
      },
      {
        "duration": -82,
        "start_time": "2021-12-25T11:11:11.898Z"
      },
      {
        "duration": -82,
        "start_time": "2021-12-25T11:11:11.900Z"
      },
      {
        "duration": 22,
        "start_time": "2021-12-25T11:11:36.773Z"
      },
      {
        "duration": 22,
        "start_time": "2021-12-25T11:11:57.284Z"
      },
      {
        "duration": 24,
        "start_time": "2021-12-25T11:11:59.494Z"
      },
      {
        "duration": 11,
        "start_time": "2021-12-25T11:13:33.370Z"
      },
      {
        "duration": 12,
        "start_time": "2021-12-25T11:13:41.821Z"
      },
      {
        "duration": 9,
        "start_time": "2021-12-25T11:13:54.724Z"
      },
      {
        "duration": 10,
        "start_time": "2021-12-25T11:14:01.651Z"
      },
      {
        "duration": 11,
        "start_time": "2021-12-25T11:14:05.735Z"
      },
      {
        "duration": 16,
        "start_time": "2021-12-25T11:14:10.241Z"
      },
      {
        "duration": 9,
        "start_time": "2021-12-25T11:14:11.725Z"
      },
      {
        "duration": 5,
        "start_time": "2021-12-25T11:14:13.263Z"
      },
      {
        "duration": 19,
        "start_time": "2021-12-25T11:14:32.868Z"
      },
      {
        "duration": 20,
        "start_time": "2021-12-25T11:14:38.091Z"
      },
      {
        "duration": 20,
        "start_time": "2021-12-25T11:14:56.866Z"
      },
      {
        "duration": 17,
        "start_time": "2021-12-25T11:15:09.625Z"
      },
      {
        "duration": 51,
        "start_time": "2021-12-25T11:15:35.678Z"
      },
      {
        "duration": 7,
        "start_time": "2021-12-25T11:17:10.735Z"
      },
      {
        "duration": 11,
        "start_time": "2021-12-25T11:19:30.865Z"
      },
      {
        "duration": 17,
        "start_time": "2021-12-25T11:19:32.420Z"
      },
      {
        "duration": 8,
        "start_time": "2021-12-25T11:19:39.851Z"
      },
      {
        "duration": 16,
        "start_time": "2021-12-25T11:19:45.890Z"
      },
      {
        "duration": 17,
        "start_time": "2021-12-25T11:20:40.734Z"
      },
      {
        "duration": 23,
        "start_time": "2021-12-25T11:20:52.977Z"
      },
      {
        "duration": 16,
        "start_time": "2021-12-25T11:20:57.833Z"
      },
      {
        "duration": 16,
        "start_time": "2021-12-25T11:21:21.898Z"
      },
      {
        "duration": 10,
        "start_time": "2021-12-25T11:21:47.791Z"
      },
      {
        "duration": 16,
        "start_time": "2021-12-25T11:21:52.005Z"
      },
      {
        "duration": 8,
        "start_time": "2021-12-25T11:21:57.116Z"
      },
      {
        "duration": 27,
        "start_time": "2021-12-25T11:23:13.044Z"
      },
      {
        "duration": 400,
        "start_time": "2021-12-25T11:23:32.535Z"
      },
      {
        "duration": 435,
        "start_time": "2021-12-25T11:23:37.173Z"
      },
      {
        "duration": 20,
        "start_time": "2021-12-25T11:23:48.669Z"
      },
      {
        "duration": 18,
        "start_time": "2021-12-25T11:25:15.355Z"
      },
      {
        "duration": 28,
        "start_time": "2021-12-25T11:25:57.279Z"
      },
      {
        "duration": 28,
        "start_time": "2021-12-25T11:26:09.849Z"
      },
      {
        "duration": 23,
        "start_time": "2021-12-25T11:26:10.756Z"
      },
      {
        "duration": 11,
        "start_time": "2021-12-25T11:27:10.811Z"
      },
      {
        "duration": 22,
        "start_time": "2021-12-25T11:27:11.068Z"
      },
      {
        "duration": 23,
        "start_time": "2021-12-25T11:28:51.992Z"
      },
      {
        "duration": 390,
        "start_time": "2021-12-25T11:29:25.032Z"
      },
      {
        "duration": 20,
        "start_time": "2021-12-25T11:29:31.596Z"
      },
      {
        "duration": 19,
        "start_time": "2021-12-25T11:29:39.902Z"
      },
      {
        "duration": 19,
        "start_time": "2021-12-25T11:29:59.563Z"
      },
      {
        "duration": 21,
        "start_time": "2021-12-25T11:30:10.979Z"
      },
      {
        "duration": 19,
        "start_time": "2021-12-25T11:30:11.639Z"
      },
      {
        "duration": 11,
        "start_time": "2021-12-25T11:31:42.524Z"
      },
      {
        "duration": 11,
        "start_time": "2021-12-25T11:31:52.675Z"
      },
      {
        "duration": 5,
        "start_time": "2021-12-25T11:31:58.415Z"
      },
      {
        "duration": 17,
        "start_time": "2021-12-25T11:31:59.439Z"
      },
      {
        "duration": 19,
        "start_time": "2021-12-25T11:31:59.633Z"
      },
      {
        "duration": 8,
        "start_time": "2021-12-25T11:32:11.292Z"
      },
      {
        "duration": -56,
        "start_time": "2021-12-25T11:34:16.279Z"
      },
      {
        "duration": 4,
        "start_time": "2021-12-25T11:34:28.500Z"
      },
      {
        "duration": 10465,
        "start_time": "2021-12-25T11:34:29.000Z"
      },
      {
        "duration": 593,
        "start_time": "2021-12-25T11:34:52.104Z"
      },
      {
        "duration": 10,
        "start_time": "2021-12-25T11:34:59.803Z"
      },
      {
        "duration": 26,
        "start_time": "2021-12-25T11:35:01.195Z"
      },
      {
        "duration": 4,
        "start_time": "2021-12-25T11:43:15.992Z"
      },
      {
        "duration": 10,
        "start_time": "2021-12-25T11:43:16.228Z"
      },
      {
        "duration": 15,
        "start_time": "2021-12-25T11:43:16.475Z"
      },
      {
        "duration": 3,
        "start_time": "2021-12-25T11:43:42.022Z"
      },
      {
        "duration": 10,
        "start_time": "2021-12-25T11:43:42.261Z"
      },
      {
        "duration": 16,
        "start_time": "2021-12-25T11:43:42.608Z"
      },
      {
        "duration": 24,
        "start_time": "2021-12-25T11:43:45.257Z"
      },
      {
        "duration": 408,
        "start_time": "2021-12-25T11:44:46.801Z"
      },
      {
        "duration": 380,
        "start_time": "2021-12-25T11:46:29.900Z"
      },
      {
        "duration": 22,
        "start_time": "2021-12-25T11:46:39.493Z"
      },
      {
        "duration": 23,
        "start_time": "2021-12-25T11:47:43.051Z"
      },
      {
        "duration": 22,
        "start_time": "2021-12-25T11:47:50.764Z"
      },
      {
        "duration": 26,
        "start_time": "2021-12-25T11:47:53.474Z"
      },
      {
        "duration": 4,
        "start_time": "2021-12-25T11:47:58.243Z"
      },
      {
        "duration": 14,
        "start_time": "2021-12-25T11:48:01.464Z"
      },
      {
        "duration": 13,
        "start_time": "2021-12-25T11:48:21.960Z"
      },
      {
        "duration": 6,
        "start_time": "2021-12-25T11:48:30.813Z"
      },
      {
        "duration": 36,
        "start_time": "2021-12-25T11:49:30.135Z"
      },
      {
        "duration": 5,
        "start_time": "2021-12-25T11:49:31.123Z"
      },
      {
        "duration": 12,
        "start_time": "2021-12-25T11:49:33.149Z"
      },
      {
        "duration": 5,
        "start_time": "2021-12-25T11:49:36.067Z"
      },
      {
        "duration": 247,
        "start_time": "2021-12-25T11:49:42.552Z"
      },
      {
        "duration": 5,
        "start_time": "2021-12-25T11:50:15.841Z"
      },
      {
        "duration": 5,
        "start_time": "2021-12-25T11:51:25.133Z"
      },
      {
        "duration": 380,
        "start_time": "2021-12-25T11:57:34.405Z"
      },
      {
        "duration": 177,
        "start_time": "2021-12-25T11:57:57.960Z"
      },
      {
        "duration": 123,
        "start_time": "2021-12-25T11:58:03.164Z"
      },
      {
        "duration": 179,
        "start_time": "2021-12-25T11:58:13.193Z"
      },
      {
        "duration": 9842,
        "start_time": "2021-12-25T11:58:20.912Z"
      },
      {
        "duration": 9804,
        "start_time": "2021-12-25T12:03:55.536Z"
      },
      {
        "duration": -64,
        "start_time": "2021-12-25T12:10:34.441Z"
      },
      {
        "duration": 453,
        "start_time": "2021-12-25T12:10:44.790Z"
      },
      {
        "duration": 9,
        "start_time": "2021-12-25T12:10:54.808Z"
      },
      {
        "duration": 4,
        "start_time": "2021-12-25T12:11:33.541Z"
      },
      {
        "duration": 5,
        "start_time": "2021-12-25T12:11:39.478Z"
      },
      {
        "duration": 635,
        "start_time": "2021-12-25T12:11:49.559Z"
      },
      {
        "duration": 398,
        "start_time": "2021-12-25T12:11:57.498Z"
      },
      {
        "duration": 434,
        "start_time": "2021-12-25T12:12:09.252Z"
      },
      {
        "duration": 410,
        "start_time": "2021-12-25T12:12:16.621Z"
      },
      {
        "duration": 459,
        "start_time": "2021-12-25T12:12:19.643Z"
      },
      {
        "duration": 6,
        "start_time": "2021-12-25T12:12:29.372Z"
      },
      {
        "duration": 6,
        "start_time": "2021-12-25T12:12:32.567Z"
      },
      {
        "duration": 360,
        "start_time": "2021-12-25T12:27:18.041Z"
      },
      {
        "duration": 5956,
        "start_time": "2021-12-25T12:27:51.843Z"
      },
      {
        "duration": 6266,
        "start_time": "2021-12-25T12:28:00.878Z"
      },
      {
        "duration": 7,
        "start_time": "2021-12-25T12:28:23.975Z"
      },
      {
        "duration": 10,
        "start_time": "2021-12-25T12:28:38.032Z"
      },
      {
        "duration": 11,
        "start_time": "2021-12-25T12:28:50.230Z"
      },
      {
        "duration": 10,
        "start_time": "2021-12-25T12:29:25.791Z"
      },
      {
        "duration": 5879,
        "start_time": "2021-12-25T12:29:31.797Z"
      },
      {
        "duration": 10,
        "start_time": "2021-12-25T12:29:44.000Z"
      },
      {
        "duration": 10,
        "start_time": "2021-12-25T12:29:52.121Z"
      },
      {
        "duration": 14,
        "start_time": "2021-12-25T12:29:58.840Z"
      },
      {
        "duration": 10,
        "start_time": "2021-12-25T12:30:04.369Z"
      },
      {
        "duration": 640,
        "start_time": "2021-12-25T12:30:29.381Z"
      },
      {
        "duration": 10,
        "start_time": "2021-12-25T12:30:41.774Z"
      },
      {
        "duration": 11,
        "start_time": "2021-12-25T12:30:54.688Z"
      },
      {
        "duration": 11,
        "start_time": "2021-12-25T12:31:03.757Z"
      },
      {
        "duration": 9,
        "start_time": "2021-12-25T12:31:12.619Z"
      },
      {
        "duration": 11,
        "start_time": "2021-12-25T12:31:24.422Z"
      },
      {
        "duration": 11,
        "start_time": "2021-12-25T12:32:38.943Z"
      },
      {
        "duration": 10,
        "start_time": "2021-12-25T12:32:41.713Z"
      },
      {
        "duration": 11,
        "start_time": "2021-12-25T12:32:45.951Z"
      },
      {
        "duration": 11,
        "start_time": "2021-12-25T12:32:52.644Z"
      },
      {
        "duration": 138,
        "start_time": "2021-12-25T12:34:35.056Z"
      },
      {
        "duration": 9,
        "start_time": "2021-12-25T12:34:40.873Z"
      },
      {
        "duration": 12,
        "start_time": "2021-12-25T12:34:58.889Z"
      },
      {
        "duration": 10,
        "start_time": "2021-12-25T12:35:27.081Z"
      },
      {
        "duration": 11,
        "start_time": "2021-12-25T12:35:39.776Z"
      },
      {
        "duration": 10,
        "start_time": "2021-12-25T12:35:46.587Z"
      },
      {
        "duration": 9,
        "start_time": "2021-12-25T12:35:54.113Z"
      },
      {
        "duration": 604,
        "start_time": "2021-12-25T12:37:18.078Z"
      },
      {
        "duration": 426,
        "start_time": "2021-12-25T12:37:34.781Z"
      },
      {
        "duration": 430,
        "start_time": "2021-12-25T12:37:46.152Z"
      },
      {
        "duration": 5,
        "start_time": "2021-12-25T12:37:54.194Z"
      },
      {
        "duration": 367,
        "start_time": "2021-12-25T12:37:54.715Z"
      },
      {
        "duration": 160,
        "start_time": "2021-12-25T12:38:15.593Z"
      },
      {
        "duration": 392,
        "start_time": "2021-12-25T12:38:23.709Z"
      },
      {
        "duration": 1524,
        "start_time": "2021-12-25T12:38:42.141Z"
      },
      {
        "duration": 10,
        "start_time": "2021-12-25T12:38:53.128Z"
      },
      {
        "duration": 11,
        "start_time": "2021-12-25T12:39:14.078Z"
      },
      {
        "duration": 11,
        "start_time": "2021-12-25T12:39:23.382Z"
      },
      {
        "duration": 12,
        "start_time": "2021-12-25T12:39:49.419Z"
      },
      {
        "duration": 12,
        "start_time": "2021-12-25T12:40:43.188Z"
      },
      {
        "duration": 5,
        "start_time": "2021-12-25T12:41:32.190Z"
      },
      {
        "duration": 27,
        "start_time": "2021-12-25T12:41:34.587Z"
      },
      {
        "duration": 4,
        "start_time": "2021-12-25T12:41:35.560Z"
      },
      {
        "duration": 10,
        "start_time": "2021-12-25T12:41:36.453Z"
      },
      {
        "duration": 11,
        "start_time": "2021-12-25T12:41:36.994Z"
      },
      {
        "duration": 3,
        "start_time": "2021-12-25T12:41:39.371Z"
      },
      {
        "duration": 222,
        "start_time": "2021-12-25T12:41:40.377Z"
      },
      {
        "duration": 133,
        "start_time": "2021-12-25T12:42:53.160Z"
      },
      {
        "duration": 5,
        "start_time": "2021-12-25T12:43:01.279Z"
      },
      {
        "duration": 378,
        "start_time": "2021-12-25T12:43:37.542Z"
      },
      {
        "duration": 396,
        "start_time": "2021-12-25T12:43:50.822Z"
      },
      {
        "duration": 5,
        "start_time": "2021-12-25T12:43:55.298Z"
      },
      {
        "duration": 9,
        "start_time": "2021-12-25T12:43:55.784Z"
      },
      {
        "duration": 7,
        "start_time": "2021-12-25T12:44:23.809Z"
      },
      {
        "duration": 9,
        "start_time": "2021-12-25T12:44:25.615Z"
      },
      {
        "duration": 6,
        "start_time": "2021-12-25T12:44:34.500Z"
      },
      {
        "duration": 10,
        "start_time": "2021-12-25T12:44:38.644Z"
      },
      {
        "duration": 5,
        "start_time": "2021-12-25T12:44:50.750Z"
      },
      {
        "duration": 16,
        "start_time": "2021-12-25T12:44:50.758Z"
      },
      {
        "duration": 9,
        "start_time": "2021-12-25T12:45:47.435Z"
      },
      {
        "duration": 6,
        "start_time": "2021-12-25T12:47:22.930Z"
      },
      {
        "duration": 9,
        "start_time": "2021-12-25T12:47:25.224Z"
      },
      {
        "duration": 34,
        "start_time": "2021-12-25T12:47:27.070Z"
      },
      {
        "duration": 5,
        "start_time": "2021-12-25T12:48:27.877Z"
      },
      {
        "duration": 8,
        "start_time": "2021-12-25T12:48:29.757Z"
      },
      {
        "duration": 5,
        "start_time": "2021-12-25T12:49:17.799Z"
      },
      {
        "duration": 6,
        "start_time": "2021-12-25T12:49:30.890Z"
      },
      {
        "duration": 4,
        "start_time": "2021-12-25T12:49:32.452Z"
      },
      {
        "duration": 5,
        "start_time": "2021-12-25T12:49:47.027Z"
      },
      {
        "duration": 9,
        "start_time": "2021-12-25T12:49:51.834Z"
      },
      {
        "duration": 4,
        "start_time": "2021-12-25T12:50:25.085Z"
      },
      {
        "duration": 257,
        "start_time": "2021-12-25T12:50:32.997Z"
      },
      {
        "duration": 6,
        "start_time": "2021-12-25T12:51:12.152Z"
      },
      {
        "duration": 6,
        "start_time": "2021-12-25T12:51:16.207Z"
      },
      {
        "duration": 318,
        "start_time": "2021-12-25T12:51:16.628Z"
      },
      {
        "duration": 31,
        "start_time": "2021-12-25T12:51:26.865Z"
      },
      {
        "duration": 32,
        "start_time": "2021-12-25T12:52:31.625Z"
      },
      {
        "duration": 32,
        "start_time": "2021-12-25T12:52:39.265Z"
      },
      {
        "duration": 274,
        "start_time": "2021-12-25T12:52:40.043Z"
      },
      {
        "duration": 12,
        "start_time": "2021-12-25T12:53:34.011Z"
      },
      {
        "duration": 45,
        "start_time": "2021-12-25T12:56:11.484Z"
      },
      {
        "duration": 49,
        "start_time": "2021-12-25T12:56:18.680Z"
      },
      {
        "duration": 34,
        "start_time": "2021-12-25T12:56:37.959Z"
      },
      {
        "duration": 265,
        "start_time": "2021-12-25T12:56:45.578Z"
      },
      {
        "duration": 11,
        "start_time": "2021-12-25T12:57:06.686Z"
      },
      {
        "duration": 5,
        "start_time": "2021-12-25T12:58:50.155Z"
      },
      {
        "duration": 10,
        "start_time": "2021-12-25T12:58:50.618Z"
      },
      {
        "duration": 32,
        "start_time": "2021-12-25T12:58:52.267Z"
      },
      {
        "duration": 256,
        "start_time": "2021-12-25T12:58:53.019Z"
      },
      {
        "duration": 11,
        "start_time": "2021-12-25T12:58:53.921Z"
      },
      {
        "duration": 37,
        "start_time": "2021-12-25T12:58:57.333Z"
      },
      {
        "duration": 249,
        "start_time": "2021-12-25T12:58:58.213Z"
      },
      {
        "duration": 12,
        "start_time": "2021-12-25T12:58:58.693Z"
      },
      {
        "duration": 33,
        "start_time": "2021-12-25T13:01:02.760Z"
      },
      {
        "duration": 252,
        "start_time": "2021-12-25T13:01:03.191Z"
      },
      {
        "duration": 260,
        "start_time": "2021-12-25T13:01:08.812Z"
      },
      {
        "duration": 245,
        "start_time": "2021-12-25T13:01:12.934Z"
      },
      {
        "duration": 13,
        "start_time": "2021-12-25T13:01:26.394Z"
      },
      {
        "duration": 875,
        "start_time": "2021-12-25T13:09:43.908Z"
      },
      {
        "duration": 15,
        "start_time": "2021-12-25T13:09:44.786Z"
      },
      {
        "duration": 32,
        "start_time": "2021-12-25T13:09:44.804Z"
      },
      {
        "duration": 14,
        "start_time": "2021-12-25T13:09:44.859Z"
      },
      {
        "duration": 5,
        "start_time": "2021-12-25T13:09:44.875Z"
      },
      {
        "duration": 7,
        "start_time": "2021-12-25T13:09:44.883Z"
      },
      {
        "duration": 18,
        "start_time": "2021-12-25T13:09:44.893Z"
      },
      {
        "duration": 8,
        "start_time": "2021-12-25T13:09:44.960Z"
      },
      {
        "duration": 2643,
        "start_time": "2021-12-25T13:09:44.971Z"
      },
      {
        "duration": 237,
        "start_time": "2021-12-25T13:09:47.616Z"
      },
      {
        "duration": 57,
        "start_time": "2021-12-25T13:09:47.855Z"
      },
      {
        "duration": 12,
        "start_time": "2021-12-25T13:09:47.914Z"
      },
      {
        "duration": 33,
        "start_time": "2021-12-25T13:09:47.928Z"
      },
      {
        "duration": 7,
        "start_time": "2021-12-25T13:09:47.963Z"
      },
      {
        "duration": 8,
        "start_time": "2021-12-25T13:09:47.972Z"
      },
      {
        "duration": 25,
        "start_time": "2021-12-25T13:09:47.982Z"
      },
      {
        "duration": 61,
        "start_time": "2021-12-25T13:09:48.010Z"
      },
      {
        "duration": 21,
        "start_time": "2021-12-25T13:09:48.073Z"
      },
      {
        "duration": 15,
        "start_time": "2021-12-25T13:09:48.096Z"
      },
      {
        "duration": 54,
        "start_time": "2021-12-25T13:09:48.113Z"
      },
      {
        "duration": 38,
        "start_time": "2021-12-25T13:09:48.169Z"
      },
      {
        "duration": 10,
        "start_time": "2021-12-25T13:09:48.209Z"
      },
      {
        "duration": 33,
        "start_time": "2021-12-25T13:09:48.227Z"
      },
      {
        "duration": 17,
        "start_time": "2021-12-25T13:09:48.264Z"
      },
      {
        "duration": 967,
        "start_time": "2021-12-25T13:09:48.283Z"
      },
      {
        "duration": 8,
        "start_time": "2021-12-25T13:09:49.253Z"
      },
      {
        "duration": 6,
        "start_time": "2021-12-25T13:09:49.264Z"
      },
      {
        "duration": 19,
        "start_time": "2021-12-25T13:09:49.272Z"
      },
      {
        "duration": 7,
        "start_time": "2021-12-25T13:09:49.293Z"
      },
      {
        "duration": 7,
        "start_time": "2021-12-25T13:09:49.303Z"
      },
      {
        "duration": 58,
        "start_time": "2021-12-25T13:09:49.313Z"
      },
      {
        "duration": 5,
        "start_time": "2021-12-25T13:09:49.373Z"
      },
      {
        "duration": 20,
        "start_time": "2021-12-25T13:09:49.380Z"
      },
      {
        "duration": 19,
        "start_time": "2021-12-25T13:09:49.402Z"
      },
      {
        "duration": 41,
        "start_time": "2021-12-25T13:09:49.423Z"
      },
      {
        "duration": 24,
        "start_time": "2021-12-25T13:09:49.467Z"
      },
      {
        "duration": 19,
        "start_time": "2021-12-25T13:09:49.494Z"
      },
      {
        "duration": 48,
        "start_time": "2021-12-25T13:09:49.516Z"
      },
      {
        "duration": 20,
        "start_time": "2021-12-25T13:09:49.566Z"
      },
      {
        "duration": 9,
        "start_time": "2021-12-25T13:09:49.588Z"
      },
      {
        "duration": 5,
        "start_time": "2021-12-25T13:09:49.599Z"
      },
      {
        "duration": 57,
        "start_time": "2021-12-25T13:09:49.607Z"
      },
      {
        "duration": 26,
        "start_time": "2021-12-25T13:09:49.666Z"
      },
      {
        "duration": 7,
        "start_time": "2021-12-25T13:09:49.694Z"
      },
      {
        "duration": 6,
        "start_time": "2021-12-25T13:09:49.703Z"
      },
      {
        "duration": 11,
        "start_time": "2021-12-25T13:09:49.711Z"
      },
      {
        "duration": 53,
        "start_time": "2021-12-25T13:09:49.725Z"
      },
      {
        "duration": 23,
        "start_time": "2021-12-25T13:09:49.780Z"
      },
      {
        "duration": 59,
        "start_time": "2021-12-25T13:09:49.805Z"
      },
      {
        "duration": 3,
        "start_time": "2021-12-25T13:09:49.867Z"
      },
      {
        "duration": 14,
        "start_time": "2021-12-25T13:09:49.873Z"
      },
      {
        "duration": 736,
        "start_time": "2021-12-25T13:09:49.889Z"
      },
      {
        "duration": 241,
        "start_time": "2021-12-25T13:09:50.627Z"
      },
      {
        "duration": 5,
        "start_time": "2021-12-25T13:09:50.871Z"
      },
      {
        "duration": 7,
        "start_time": "2021-12-25T13:09:50.878Z"
      },
      {
        "duration": 13,
        "start_time": "2021-12-25T13:09:50.888Z"
      },
      {
        "duration": 68,
        "start_time": "2021-12-25T13:09:50.903Z"
      },
      {
        "duration": 285,
        "start_time": "2021-12-25T13:09:50.974Z"
      },
      {
        "duration": 12,
        "start_time": "2021-12-25T13:09:51.261Z"
      },
      {
        "duration": 32,
        "start_time": "2021-12-25T13:09:51.275Z"
      },
      {
        "duration": 281,
        "start_time": "2021-12-25T13:09:51.309Z"
      },
      {
        "duration": 13,
        "start_time": "2021-12-25T13:09:51.592Z"
      },
      {
        "duration": 58,
        "start_time": "2021-12-25T13:09:51.607Z"
      },
      {
        "duration": 283,
        "start_time": "2021-12-25T13:09:51.668Z"
      },
      {
        "duration": 12,
        "start_time": "2021-12-25T13:09:51.954Z"
      },
      {
        "duration": 623,
        "start_time": "2021-12-26T10:12:58.908Z"
      },
      {
        "duration": 12,
        "start_time": "2021-12-26T10:12:59.533Z"
      },
      {
        "duration": 21,
        "start_time": "2021-12-26T10:12:59.547Z"
      },
      {
        "duration": 12,
        "start_time": "2021-12-26T10:12:59.571Z"
      },
      {
        "duration": 5,
        "start_time": "2021-12-26T10:12:59.584Z"
      },
      {
        "duration": 6,
        "start_time": "2021-12-26T10:12:59.590Z"
      },
      {
        "duration": 14,
        "start_time": "2021-12-26T10:12:59.598Z"
      },
      {
        "duration": 5,
        "start_time": "2021-12-26T10:12:59.615Z"
      },
      {
        "duration": 1325,
        "start_time": "2021-12-26T10:12:59.623Z"
      },
      {
        "duration": 154,
        "start_time": "2021-12-26T10:13:00.950Z"
      },
      {
        "duration": 40,
        "start_time": "2021-12-26T10:13:01.106Z"
      },
      {
        "duration": 18,
        "start_time": "2021-12-26T10:13:01.148Z"
      },
      {
        "duration": 11,
        "start_time": "2021-12-26T10:13:01.168Z"
      },
      {
        "duration": 14,
        "start_time": "2021-12-26T10:13:01.181Z"
      },
      {
        "duration": 18,
        "start_time": "2021-12-26T10:13:01.197Z"
      },
      {
        "duration": 22,
        "start_time": "2021-12-26T10:13:01.217Z"
      },
      {
        "duration": 23,
        "start_time": "2021-12-26T10:13:01.241Z"
      },
      {
        "duration": 15,
        "start_time": "2021-12-26T10:13:01.266Z"
      },
      {
        "duration": 38,
        "start_time": "2021-12-26T10:13:01.283Z"
      },
      {
        "duration": 39,
        "start_time": "2021-12-26T10:13:01.324Z"
      },
      {
        "duration": 36,
        "start_time": "2021-12-26T10:13:01.365Z"
      },
      {
        "duration": 8,
        "start_time": "2021-12-26T10:13:01.403Z"
      },
      {
        "duration": 9,
        "start_time": "2021-12-26T10:13:01.416Z"
      },
      {
        "duration": 12,
        "start_time": "2021-12-26T10:13:01.428Z"
      },
      {
        "duration": 799,
        "start_time": "2021-12-26T10:13:01.442Z"
      },
      {
        "duration": 4,
        "start_time": "2021-12-26T10:13:02.243Z"
      },
      {
        "duration": 16,
        "start_time": "2021-12-26T10:13:02.248Z"
      },
      {
        "duration": 21,
        "start_time": "2021-12-26T10:13:02.266Z"
      },
      {
        "duration": 6,
        "start_time": "2021-12-26T10:13:02.289Z"
      },
      {
        "duration": 9,
        "start_time": "2021-12-26T10:13:02.296Z"
      },
      {
        "duration": 32,
        "start_time": "2021-12-26T10:13:02.307Z"
      },
      {
        "duration": 3,
        "start_time": "2021-12-26T10:13:02.341Z"
      },
      {
        "duration": 24,
        "start_time": "2021-12-26T10:13:02.345Z"
      },
      {
        "duration": 22,
        "start_time": "2021-12-26T10:13:02.371Z"
      },
      {
        "duration": 12,
        "start_time": "2021-12-26T10:13:02.395Z"
      },
      {
        "duration": 38,
        "start_time": "2021-12-26T10:13:02.409Z"
      },
      {
        "duration": 29,
        "start_time": "2021-12-26T10:13:02.449Z"
      },
      {
        "duration": 18,
        "start_time": "2021-12-26T10:13:02.479Z"
      },
      {
        "duration": 20,
        "start_time": "2021-12-26T10:13:02.499Z"
      },
      {
        "duration": 7,
        "start_time": "2021-12-26T10:13:02.520Z"
      },
      {
        "duration": 5,
        "start_time": "2021-12-26T10:13:02.529Z"
      },
      {
        "duration": 21,
        "start_time": "2021-12-26T10:13:02.535Z"
      },
      {
        "duration": 54,
        "start_time": "2021-12-26T10:13:02.558Z"
      },
      {
        "duration": 27,
        "start_time": "2021-12-26T10:13:02.613Z"
      },
      {
        "duration": 12,
        "start_time": "2021-12-26T10:13:02.642Z"
      },
      {
        "duration": 23,
        "start_time": "2021-12-26T10:13:02.656Z"
      },
      {
        "duration": 25,
        "start_time": "2021-12-26T10:13:02.681Z"
      },
      {
        "duration": 24,
        "start_time": "2021-12-26T10:13:02.708Z"
      },
      {
        "duration": 17,
        "start_time": "2021-12-26T10:13:02.734Z"
      },
      {
        "duration": 3,
        "start_time": "2021-12-26T10:13:02.753Z"
      },
      {
        "duration": 36,
        "start_time": "2021-12-26T10:13:02.757Z"
      },
      {
        "duration": 594,
        "start_time": "2021-12-26T10:13:02.794Z"
      },
      {
        "duration": 145,
        "start_time": "2021-12-26T10:13:03.389Z"
      },
      {
        "duration": 4,
        "start_time": "2021-12-26T10:13:03.536Z"
      },
      {
        "duration": 6,
        "start_time": "2021-12-26T10:13:03.541Z"
      },
      {
        "duration": 7,
        "start_time": "2021-12-26T10:13:03.561Z"
      },
      {
        "duration": 23,
        "start_time": "2021-12-26T10:13:03.570Z"
      },
      {
        "duration": 182,
        "start_time": "2021-12-26T10:13:03.595Z"
      },
      {
        "duration": 7,
        "start_time": "2021-12-26T10:13:03.779Z"
      },
      {
        "duration": 22,
        "start_time": "2021-12-26T10:13:03.787Z"
      },
      {
        "duration": 163,
        "start_time": "2021-12-26T10:13:03.810Z"
      },
      {
        "duration": 7,
        "start_time": "2021-12-26T10:13:03.975Z"
      },
      {
        "duration": 23,
        "start_time": "2021-12-26T10:13:03.983Z"
      },
      {
        "duration": 173,
        "start_time": "2021-12-26T10:13:04.008Z"
      },
      {
        "duration": 8,
        "start_time": "2021-12-26T10:13:04.183Z"
      },
      {
        "duration": 7,
        "start_time": "2021-12-26T10:20:09.843Z"
      },
      {
        "duration": 1762,
        "start_time": "2021-12-26T10:49:21.782Z"
      },
      {
        "duration": 65,
        "start_time": "2021-12-26T10:49:25.204Z"
      },
      {
        "duration": 1472,
        "start_time": "2021-12-26T10:49:36.352Z"
      },
      {
        "duration": 67,
        "start_time": "2021-12-26T10:49:37.826Z"
      },
      {
        "duration": 14,
        "start_time": "2021-12-26T10:49:37.896Z"
      },
      {
        "duration": 23,
        "start_time": "2021-12-26T10:49:37.913Z"
      },
      {
        "duration": 28,
        "start_time": "2021-12-26T10:49:37.938Z"
      },
      {
        "duration": 7,
        "start_time": "2021-12-26T10:49:37.969Z"
      },
      {
        "duration": 5,
        "start_time": "2021-12-26T10:49:37.979Z"
      },
      {
        "duration": 17,
        "start_time": "2021-12-26T10:49:37.987Z"
      },
      {
        "duration": 8,
        "start_time": "2021-12-26T10:49:38.007Z"
      },
      {
        "duration": 2271,
        "start_time": "2021-12-26T10:49:38.017Z"
      },
      {
        "duration": 237,
        "start_time": "2021-12-26T10:49:40.290Z"
      },
      {
        "duration": 69,
        "start_time": "2021-12-26T10:49:40.529Z"
      },
      {
        "duration": 13,
        "start_time": "2021-12-26T10:49:40.600Z"
      },
      {
        "duration": 7,
        "start_time": "2021-12-26T10:49:40.616Z"
      },
      {
        "duration": 6,
        "start_time": "2021-12-26T10:49:40.626Z"
      },
      {
        "duration": 7,
        "start_time": "2021-12-26T10:49:40.660Z"
      },
      {
        "duration": 26,
        "start_time": "2021-12-26T10:49:40.670Z"
      },
      {
        "duration": 62,
        "start_time": "2021-12-26T10:49:40.698Z"
      },
      {
        "duration": 23,
        "start_time": "2021-12-26T10:49:40.762Z"
      },
      {
        "duration": 16,
        "start_time": "2021-12-26T10:49:40.787Z"
      },
      {
        "duration": 57,
        "start_time": "2021-12-26T10:49:40.805Z"
      },
      {
        "duration": 36,
        "start_time": "2021-12-26T10:49:40.864Z"
      },
      {
        "duration": 11,
        "start_time": "2021-12-26T10:49:40.906Z"
      },
      {
        "duration": 47,
        "start_time": "2021-12-26T10:49:40.920Z"
      },
      {
        "duration": 935,
        "start_time": "2021-12-26T10:49:40.969Z"
      },
      {
        "duration": 4,
        "start_time": "2021-12-26T10:49:41.907Z"
      },
      {
        "duration": 5,
        "start_time": "2021-12-26T10:49:41.914Z"
      },
      {
        "duration": 43,
        "start_time": "2021-12-26T10:49:41.922Z"
      },
      {
        "duration": 8,
        "start_time": "2021-12-26T10:49:41.967Z"
      },
      {
        "duration": 9,
        "start_time": "2021-12-26T10:49:41.978Z"
      },
      {
        "duration": 22,
        "start_time": "2021-12-26T10:49:41.989Z"
      },
      {
        "duration": 4,
        "start_time": "2021-12-26T10:49:42.014Z"
      },
      {
        "duration": 19,
        "start_time": "2021-12-26T10:49:42.060Z"
      },
      {
        "duration": 23,
        "start_time": "2021-12-26T10:49:42.082Z"
      },
      {
        "duration": 9,
        "start_time": "2021-12-26T10:49:42.107Z"
      },
      {
        "duration": 58,
        "start_time": "2021-12-26T10:49:42.118Z"
      },
      {
        "duration": 21,
        "start_time": "2021-12-26T10:49:42.178Z"
      },
      {
        "duration": 11,
        "start_time": "2021-12-26T10:49:42.202Z"
      },
      {
        "duration": 57,
        "start_time": "2021-12-26T10:49:42.216Z"
      },
      {
        "duration": 10,
        "start_time": "2021-12-26T10:49:42.275Z"
      },
      {
        "duration": 4,
        "start_time": "2021-12-26T10:49:42.287Z"
      },
      {
        "duration": 16,
        "start_time": "2021-12-26T10:49:42.294Z"
      },
      {
        "duration": 52,
        "start_time": "2021-12-26T10:49:42.312Z"
      },
      {
        "duration": 8,
        "start_time": "2021-12-26T10:49:42.366Z"
      },
      {
        "duration": 6,
        "start_time": "2021-12-26T10:49:42.376Z"
      },
      {
        "duration": 15,
        "start_time": "2021-12-26T10:49:42.385Z"
      },
      {
        "duration": 22,
        "start_time": "2021-12-26T10:49:42.403Z"
      },
      {
        "duration": 26,
        "start_time": "2021-12-26T10:49:42.460Z"
      },
      {
        "duration": 26,
        "start_time": "2021-12-26T10:49:42.488Z"
      },
      {
        "duration": 4,
        "start_time": "2021-12-26T10:49:42.516Z"
      },
      {
        "duration": 45,
        "start_time": "2021-12-26T10:49:42.523Z"
      },
      {
        "duration": 237,
        "start_time": "2021-12-26T10:49:42.570Z"
      },
      {
        "duration": 6,
        "start_time": "2021-12-26T10:49:42.809Z"
      },
      {
        "duration": 7,
        "start_time": "2021-12-26T10:49:42.817Z"
      },
      {
        "duration": 33,
        "start_time": "2021-12-26T10:49:42.826Z"
      },
      {
        "duration": 29,
        "start_time": "2021-12-26T10:49:42.861Z"
      },
      {
        "duration": 278,
        "start_time": "2021-12-26T10:49:42.892Z"
      },
      {
        "duration": 11,
        "start_time": "2021-12-26T10:49:43.173Z"
      },
      {
        "duration": 29,
        "start_time": "2021-12-26T10:49:43.187Z"
      },
      {
        "duration": 274,
        "start_time": "2021-12-26T10:49:43.219Z"
      },
      {
        "duration": 12,
        "start_time": "2021-12-26T10:49:43.495Z"
      },
      {
        "duration": 55,
        "start_time": "2021-12-26T10:49:43.509Z"
      },
      {
        "duration": 265,
        "start_time": "2021-12-26T10:49:43.566Z"
      },
      {
        "duration": 24,
        "start_time": "2021-12-26T10:49:43.834Z"
      }
    ],
    "kernelspec": {
      "display_name": "Python 3 (ipykernel)",
      "language": "python",
      "name": "python3"
    },
    "language_info": {
      "codemirror_mode": {
        "name": "ipython",
        "version": 3
      },
      "file_extension": ".py",
      "mimetype": "text/x-python",
      "name": "python",
      "nbconvert_exporter": "python",
      "pygments_lexer": "ipython3",
      "version": "3.9.7"
    },
    "toc": {
      "base_numbering": 1,
      "nav_menu": {},
      "number_sections": true,
      "sideBar": true,
      "skip_h1_title": true,
      "title_cell": "Table of Contents",
      "title_sidebar": "Contents",
      "toc_cell": false,
      "toc_position": {},
      "toc_section_display": true,
      "toc_window_display": false
    },
    "colab": {
      "provenance": [],
      "collapsed_sections": [
        "bxTKISebHSqz",
        "o5AM-nkVHSqz",
        "i5t5H7K8HSq1",
        "Ll4OJGQzHSq2",
        "jwds5yr6HSq3",
        "F9cl_C0SHSq4",
        "yW14AspfHSq8",
        "-i7IYvlZHSq9",
        "UHBz5_WKHSq-"
      ]
    }
  },
  "nbformat": 4,
  "nbformat_minor": 0
}