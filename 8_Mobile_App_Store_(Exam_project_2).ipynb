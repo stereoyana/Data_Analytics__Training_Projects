{
  "cells": [
    {
      "cell_type": "markdown",
      "metadata": {
        "id": "gqlDqMRlxkde"
      },
      "source": [
        "# Мобильное приложение Продукты питания\n"
      ]
    },
    {
      "cell_type": "markdown",
      "metadata": {
        "id": "nPfcmmcJxqaX"
      },
      "source": [
        "**Задание:**\n",
        "\n",
        "Вы работаете в стартапе, который продаёт продукты питания. Нужно разобраться, как ведут себя пользователи вашего мобильного приложения.\n",
        "\n",
        "1. Изучите воронку продаж. Узнайте, как пользователи доходят до покупки. \n",
        "Сколько пользователей доходит до покупки, а сколько — «застревает» на предыдущих шагах? На каких именно?\n",
        "\n",
        "\n",
        "2. После этого исследуйте результаты A/A/B-эксперимента. Дизайнеры захотели поменять шрифты во всём приложении, а менеджеры испугались, что пользователям будет непривычно. Договорились принять решение по результатам A/A/B-теста. Пользователей разбили на 3 группы: 2 контрольные со старыми шрифтами и одну экспериментальную — с новыми. Выясните, какой шрифт лучше."
      ]
    },
    {
      "cell_type": "markdown",
      "metadata": {
        "id": "Fd3cWkcWxqez"
      },
      "source": [
        "## Описание данных <a id=\"description\"></a>\n",
        "\n",
        "Каждая запись в логе — это действие пользователя, или событие.\n",
        "\n",
        "* `EventName` — название события;\n",
        "* `DeviceIDHash` — уникальный идентификатор пользователя;\n",
        "* `EventTimestamp` — время события;\n",
        "* `ExpId` — номер эксперимента: 246 и 247 — контрольные группы, а 248 — экспериментальная.\n"
      ]
    },
    {
      "cell_type": "markdown",
      "metadata": {
        "id": "zbucid94p3FC"
      },
      "source": [
        "---"
      ]
    },
    {
      "cell_type": "markdown",
      "metadata": {
        "id": "G2xBatMmm_we"
      },
      "source": [
        "## Общая информация"
      ]
    },
    {
      "cell_type": "code",
      "execution_count": 1,
      "metadata": {
        "id": "KxeKA4N4m_wf"
      },
      "outputs": [],
      "source": [
        "# подключим необходимые библиотеки и настройки отображения\n",
        "import pandas as pd\n",
        "import seaborn as sns\n",
        "import datetime\n",
        "import numpy as np\n",
        "import math as mth\n",
        "import matplotlib.pyplot as plt\n",
        "from scipy import stats as st\n",
        "import plotly.express as px\n",
        "from plotly import graph_objects as go \n",
        "\n",
        "custom_params = {'axes.spines.right': False, 'axes.spines.top': False}\n",
        "sns.set_theme(style='ticks', rc=custom_params)\n",
        "\n",
        "%config InlineBackend.figure_format = 'retina'\n",
        "pd.options.mode.chained_assignment = None  # default='warn'\n",
        "pd.set_option('display.float_format', '{:.2f}'.format)\n"
      ]
    },
    {
      "cell_type": "code",
      "execution_count": 2,
      "metadata": {
        "id": "mcn6Xu8uxf4_"
      },
      "outputs": [],
      "source": [
        "# прочитаем датасет и сохраним в переменную\n",
        "df = pd.read_csv('https://code.s3.yandex.net/datasets/logs_exp.csv', sep='\\t')"
      ]
    },
    {
      "cell_type": "code",
      "execution_count": 3,
      "metadata": {
        "colab": {
          "base_uri": "https://localhost:8080/",
          "height": 403
        },
        "id": "_ciLqVp2xpqn",
        "outputId": "b198e140-d5c5-4071-874b-6c83f1ef9823"
      },
      "outputs": [
        {
          "output_type": "stream",
          "name": "stdout",
          "text": [
            "<class 'pandas.core.frame.DataFrame'>\n",
            "RangeIndex: 244126 entries, 0 to 244125\n",
            "Data columns (total 4 columns):\n",
            " #   Column          Non-Null Count   Dtype \n",
            "---  ------          --------------   ----- \n",
            " 0   EventName       244126 non-null  object\n",
            " 1   DeviceIDHash    244126 non-null  int64 \n",
            " 2   EventTimestamp  244126 non-null  int64 \n",
            " 3   ExpId           244126 non-null  int64 \n",
            "dtypes: int64(3), object(1)\n",
            "memory usage: 7.5+ MB\n"
          ]
        },
        {
          "output_type": "execute_result",
          "data": {
            "text/plain": [
              "                 EventName         DeviceIDHash  EventTimestamp  ExpId\n",
              "0         MainScreenAppear  4575588528974610257      1564029816    246\n",
              "1         MainScreenAppear  7416695313311560658      1564053102    246\n",
              "2  PaymentScreenSuccessful  3518123091307005509      1564054127    248\n",
              "3         CartScreenAppear  3518123091307005509      1564054127    248\n",
              "4  PaymentScreenSuccessful  6217807653094995999      1564055322    248"
            ],
            "text/html": [
              "\n",
              "  <div id=\"df-1057c5c7-6f93-4ca1-8f98-426284a59183\">\n",
              "    <div class=\"colab-df-container\">\n",
              "      <div>\n",
              "<style scoped>\n",
              "    .dataframe tbody tr th:only-of-type {\n",
              "        vertical-align: middle;\n",
              "    }\n",
              "\n",
              "    .dataframe tbody tr th {\n",
              "        vertical-align: top;\n",
              "    }\n",
              "\n",
              "    .dataframe thead th {\n",
              "        text-align: right;\n",
              "    }\n",
              "</style>\n",
              "<table border=\"1\" class=\"dataframe\">\n",
              "  <thead>\n",
              "    <tr style=\"text-align: right;\">\n",
              "      <th></th>\n",
              "      <th>EventName</th>\n",
              "      <th>DeviceIDHash</th>\n",
              "      <th>EventTimestamp</th>\n",
              "      <th>ExpId</th>\n",
              "    </tr>\n",
              "  </thead>\n",
              "  <tbody>\n",
              "    <tr>\n",
              "      <th>0</th>\n",
              "      <td>MainScreenAppear</td>\n",
              "      <td>4575588528974610257</td>\n",
              "      <td>1564029816</td>\n",
              "      <td>246</td>\n",
              "    </tr>\n",
              "    <tr>\n",
              "      <th>1</th>\n",
              "      <td>MainScreenAppear</td>\n",
              "      <td>7416695313311560658</td>\n",
              "      <td>1564053102</td>\n",
              "      <td>246</td>\n",
              "    </tr>\n",
              "    <tr>\n",
              "      <th>2</th>\n",
              "      <td>PaymentScreenSuccessful</td>\n",
              "      <td>3518123091307005509</td>\n",
              "      <td>1564054127</td>\n",
              "      <td>248</td>\n",
              "    </tr>\n",
              "    <tr>\n",
              "      <th>3</th>\n",
              "      <td>CartScreenAppear</td>\n",
              "      <td>3518123091307005509</td>\n",
              "      <td>1564054127</td>\n",
              "      <td>248</td>\n",
              "    </tr>\n",
              "    <tr>\n",
              "      <th>4</th>\n",
              "      <td>PaymentScreenSuccessful</td>\n",
              "      <td>6217807653094995999</td>\n",
              "      <td>1564055322</td>\n",
              "      <td>248</td>\n",
              "    </tr>\n",
              "  </tbody>\n",
              "</table>\n",
              "</div>\n",
              "      <button class=\"colab-df-convert\" onclick=\"convertToInteractive('df-1057c5c7-6f93-4ca1-8f98-426284a59183')\"\n",
              "              title=\"Convert this dataframe to an interactive table.\"\n",
              "              style=\"display:none;\">\n",
              "        \n",
              "  <svg xmlns=\"http://www.w3.org/2000/svg\" height=\"24px\"viewBox=\"0 0 24 24\"\n",
              "       width=\"24px\">\n",
              "    <path d=\"M0 0h24v24H0V0z\" fill=\"none\"/>\n",
              "    <path d=\"M18.56 5.44l.94 2.06.94-2.06 2.06-.94-2.06-.94-.94-2.06-.94 2.06-2.06.94zm-11 1L8.5 8.5l.94-2.06 2.06-.94-2.06-.94L8.5 2.5l-.94 2.06-2.06.94zm10 10l.94 2.06.94-2.06 2.06-.94-2.06-.94-.94-2.06-.94 2.06-2.06.94z\"/><path d=\"M17.41 7.96l-1.37-1.37c-.4-.4-.92-.59-1.43-.59-.52 0-1.04.2-1.43.59L10.3 9.45l-7.72 7.72c-.78.78-.78 2.05 0 2.83L4 21.41c.39.39.9.59 1.41.59.51 0 1.02-.2 1.41-.59l7.78-7.78 2.81-2.81c.8-.78.8-2.07 0-2.86zM5.41 20L4 18.59l7.72-7.72 1.47 1.35L5.41 20z\"/>\n",
              "  </svg>\n",
              "      </button>\n",
              "      \n",
              "  <style>\n",
              "    .colab-df-container {\n",
              "      display:flex;\n",
              "      flex-wrap:wrap;\n",
              "      gap: 12px;\n",
              "    }\n",
              "\n",
              "    .colab-df-convert {\n",
              "      background-color: #E8F0FE;\n",
              "      border: none;\n",
              "      border-radius: 50%;\n",
              "      cursor: pointer;\n",
              "      display: none;\n",
              "      fill: #1967D2;\n",
              "      height: 32px;\n",
              "      padding: 0 0 0 0;\n",
              "      width: 32px;\n",
              "    }\n",
              "\n",
              "    .colab-df-convert:hover {\n",
              "      background-color: #E2EBFA;\n",
              "      box-shadow: 0px 1px 2px rgba(60, 64, 67, 0.3), 0px 1px 3px 1px rgba(60, 64, 67, 0.15);\n",
              "      fill: #174EA6;\n",
              "    }\n",
              "\n",
              "    [theme=dark] .colab-df-convert {\n",
              "      background-color: #3B4455;\n",
              "      fill: #D2E3FC;\n",
              "    }\n",
              "\n",
              "    [theme=dark] .colab-df-convert:hover {\n",
              "      background-color: #434B5C;\n",
              "      box-shadow: 0px 1px 3px 1px rgba(0, 0, 0, 0.15);\n",
              "      filter: drop-shadow(0px 1px 2px rgba(0, 0, 0, 0.3));\n",
              "      fill: #FFFFFF;\n",
              "    }\n",
              "  </style>\n",
              "\n",
              "      <script>\n",
              "        const buttonEl =\n",
              "          document.querySelector('#df-1057c5c7-6f93-4ca1-8f98-426284a59183 button.colab-df-convert');\n",
              "        buttonEl.style.display =\n",
              "          google.colab.kernel.accessAllowed ? 'block' : 'none';\n",
              "\n",
              "        async function convertToInteractive(key) {\n",
              "          const element = document.querySelector('#df-1057c5c7-6f93-4ca1-8f98-426284a59183');\n",
              "          const dataTable =\n",
              "            await google.colab.kernel.invokeFunction('convertToInteractive',\n",
              "                                                     [key], {});\n",
              "          if (!dataTable) return;\n",
              "\n",
              "          const docLinkHtml = 'Like what you see? Visit the ' +\n",
              "            '<a target=\"_blank\" href=https://colab.research.google.com/notebooks/data_table.ipynb>data table notebook</a>'\n",
              "            + ' to learn more about interactive tables.';\n",
              "          element.innerHTML = '';\n",
              "          dataTable['output_type'] = 'display_data';\n",
              "          await google.colab.output.renderOutput(dataTable, element);\n",
              "          const docLink = document.createElement('div');\n",
              "          docLink.innerHTML = docLinkHtml;\n",
              "          element.appendChild(docLink);\n",
              "        }\n",
              "      </script>\n",
              "    </div>\n",
              "  </div>\n",
              "  "
            ]
          },
          "metadata": {},
          "execution_count": 3
        }
      ],
      "source": [
        "# посмотрим информацию о датафрейме\n",
        "df.info()\n",
        "df.head()"
      ]
    },
    {
      "cell_type": "markdown",
      "metadata": {
        "id": "f8VN5VfA03DA"
      },
      "source": [
        "**Вывод:**\n",
        "\n",
        "Датафрейм содержит 244126 записей и 4 столбца (признака). Пропусков значений не обнаружено.\n",
        "\n",
        "Обнаруженные проблемы:\n",
        "\n",
        "- Стилистическая ошибка в названиях столбцов и событий (CamelCase)\n",
        "- Целочисленный тип данных в столбце со временной отметкой\n",
        "- Целочисленный тип данных в категориальном столбце со значением группы AB-теста\n",
        "\n",
        "Устраним проблемы на следующем этапе – предобработка данных. "
      ]
    },
    {
      "cell_type": "markdown",
      "metadata": {
        "id": "i-HKlJLop4WS"
      },
      "source": [
        "---"
      ]
    },
    {
      "cell_type": "markdown",
      "metadata": {
        "id": "6GWQQJBy_Gyh"
      },
      "source": [
        "## Подготовка данных"
      ]
    },
    {
      "cell_type": "code",
      "execution_count": 4,
      "metadata": {
        "colab": {
          "base_uri": "https://localhost:8080/",
          "height": 206
        },
        "id": "mtCQZ9HL1Ssg",
        "outputId": "36d32d6f-4fb1-4000-869b-a1295a111e29"
      },
      "outputs": [
        {
          "output_type": "execute_result",
          "data": {
            "text/plain": [
              "                     event              user_id   timestamp  group\n",
              "0         MainScreenAppear  4575588528974610257  1564029816    246\n",
              "1         MainScreenAppear  7416695313311560658  1564053102    246\n",
              "2  PaymentScreenSuccessful  3518123091307005509  1564054127    248\n",
              "3         CartScreenAppear  3518123091307005509  1564054127    248\n",
              "4  PaymentScreenSuccessful  6217807653094995999  1564055322    248"
            ],
            "text/html": [
              "\n",
              "  <div id=\"df-5b8004bc-9c6d-43c7-93e0-3627707c0ece\">\n",
              "    <div class=\"colab-df-container\">\n",
              "      <div>\n",
              "<style scoped>\n",
              "    .dataframe tbody tr th:only-of-type {\n",
              "        vertical-align: middle;\n",
              "    }\n",
              "\n",
              "    .dataframe tbody tr th {\n",
              "        vertical-align: top;\n",
              "    }\n",
              "\n",
              "    .dataframe thead th {\n",
              "        text-align: right;\n",
              "    }\n",
              "</style>\n",
              "<table border=\"1\" class=\"dataframe\">\n",
              "  <thead>\n",
              "    <tr style=\"text-align: right;\">\n",
              "      <th></th>\n",
              "      <th>event</th>\n",
              "      <th>user_id</th>\n",
              "      <th>timestamp</th>\n",
              "      <th>group</th>\n",
              "    </tr>\n",
              "  </thead>\n",
              "  <tbody>\n",
              "    <tr>\n",
              "      <th>0</th>\n",
              "      <td>MainScreenAppear</td>\n",
              "      <td>4575588528974610257</td>\n",
              "      <td>1564029816</td>\n",
              "      <td>246</td>\n",
              "    </tr>\n",
              "    <tr>\n",
              "      <th>1</th>\n",
              "      <td>MainScreenAppear</td>\n",
              "      <td>7416695313311560658</td>\n",
              "      <td>1564053102</td>\n",
              "      <td>246</td>\n",
              "    </tr>\n",
              "    <tr>\n",
              "      <th>2</th>\n",
              "      <td>PaymentScreenSuccessful</td>\n",
              "      <td>3518123091307005509</td>\n",
              "      <td>1564054127</td>\n",
              "      <td>248</td>\n",
              "    </tr>\n",
              "    <tr>\n",
              "      <th>3</th>\n",
              "      <td>CartScreenAppear</td>\n",
              "      <td>3518123091307005509</td>\n",
              "      <td>1564054127</td>\n",
              "      <td>248</td>\n",
              "    </tr>\n",
              "    <tr>\n",
              "      <th>4</th>\n",
              "      <td>PaymentScreenSuccessful</td>\n",
              "      <td>6217807653094995999</td>\n",
              "      <td>1564055322</td>\n",
              "      <td>248</td>\n",
              "    </tr>\n",
              "  </tbody>\n",
              "</table>\n",
              "</div>\n",
              "      <button class=\"colab-df-convert\" onclick=\"convertToInteractive('df-5b8004bc-9c6d-43c7-93e0-3627707c0ece')\"\n",
              "              title=\"Convert this dataframe to an interactive table.\"\n",
              "              style=\"display:none;\">\n",
              "        \n",
              "  <svg xmlns=\"http://www.w3.org/2000/svg\" height=\"24px\"viewBox=\"0 0 24 24\"\n",
              "       width=\"24px\">\n",
              "    <path d=\"M0 0h24v24H0V0z\" fill=\"none\"/>\n",
              "    <path d=\"M18.56 5.44l.94 2.06.94-2.06 2.06-.94-2.06-.94-.94-2.06-.94 2.06-2.06.94zm-11 1L8.5 8.5l.94-2.06 2.06-.94-2.06-.94L8.5 2.5l-.94 2.06-2.06.94zm10 10l.94 2.06.94-2.06 2.06-.94-2.06-.94-.94-2.06-.94 2.06-2.06.94z\"/><path d=\"M17.41 7.96l-1.37-1.37c-.4-.4-.92-.59-1.43-.59-.52 0-1.04.2-1.43.59L10.3 9.45l-7.72 7.72c-.78.78-.78 2.05 0 2.83L4 21.41c.39.39.9.59 1.41.59.51 0 1.02-.2 1.41-.59l7.78-7.78 2.81-2.81c.8-.78.8-2.07 0-2.86zM5.41 20L4 18.59l7.72-7.72 1.47 1.35L5.41 20z\"/>\n",
              "  </svg>\n",
              "      </button>\n",
              "      \n",
              "  <style>\n",
              "    .colab-df-container {\n",
              "      display:flex;\n",
              "      flex-wrap:wrap;\n",
              "      gap: 12px;\n",
              "    }\n",
              "\n",
              "    .colab-df-convert {\n",
              "      background-color: #E8F0FE;\n",
              "      border: none;\n",
              "      border-radius: 50%;\n",
              "      cursor: pointer;\n",
              "      display: none;\n",
              "      fill: #1967D2;\n",
              "      height: 32px;\n",
              "      padding: 0 0 0 0;\n",
              "      width: 32px;\n",
              "    }\n",
              "\n",
              "    .colab-df-convert:hover {\n",
              "      background-color: #E2EBFA;\n",
              "      box-shadow: 0px 1px 2px rgba(60, 64, 67, 0.3), 0px 1px 3px 1px rgba(60, 64, 67, 0.15);\n",
              "      fill: #174EA6;\n",
              "    }\n",
              "\n",
              "    [theme=dark] .colab-df-convert {\n",
              "      background-color: #3B4455;\n",
              "      fill: #D2E3FC;\n",
              "    }\n",
              "\n",
              "    [theme=dark] .colab-df-convert:hover {\n",
              "      background-color: #434B5C;\n",
              "      box-shadow: 0px 1px 3px 1px rgba(0, 0, 0, 0.15);\n",
              "      filter: drop-shadow(0px 1px 2px rgba(0, 0, 0, 0.3));\n",
              "      fill: #FFFFFF;\n",
              "    }\n",
              "  </style>\n",
              "\n",
              "      <script>\n",
              "        const buttonEl =\n",
              "          document.querySelector('#df-5b8004bc-9c6d-43c7-93e0-3627707c0ece button.colab-df-convert');\n",
              "        buttonEl.style.display =\n",
              "          google.colab.kernel.accessAllowed ? 'block' : 'none';\n",
              "\n",
              "        async function convertToInteractive(key) {\n",
              "          const element = document.querySelector('#df-5b8004bc-9c6d-43c7-93e0-3627707c0ece');\n",
              "          const dataTable =\n",
              "            await google.colab.kernel.invokeFunction('convertToInteractive',\n",
              "                                                     [key], {});\n",
              "          if (!dataTable) return;\n",
              "\n",
              "          const docLinkHtml = 'Like what you see? Visit the ' +\n",
              "            '<a target=\"_blank\" href=https://colab.research.google.com/notebooks/data_table.ipynb>data table notebook</a>'\n",
              "            + ' to learn more about interactive tables.';\n",
              "          element.innerHTML = '';\n",
              "          dataTable['output_type'] = 'display_data';\n",
              "          await google.colab.output.renderOutput(dataTable, element);\n",
              "          const docLink = document.createElement('div');\n",
              "          docLink.innerHTML = docLinkHtml;\n",
              "          element.appendChild(docLink);\n",
              "        }\n",
              "      </script>\n",
              "    </div>\n",
              "  </div>\n",
              "  "
            ]
          },
          "metadata": {},
          "execution_count": 4
        }
      ],
      "source": [
        "# переименуем столбцы в snake_case\n",
        "df = df.rename(columns={'DeviceIDHash':'user_id', 'EventName':'event', \\\n",
        "                        'EventTimestamp':'timestamp', 'ExpId':'group'}) \n",
        "df.head()"
      ]
    },
    {
      "cell_type": "code",
      "execution_count": 5,
      "metadata": {
        "colab": {
          "base_uri": "https://localhost:8080/",
          "height": 206
        },
        "id": "kvyRVi3K6jOf",
        "outputId": "734cd32f-f7f7-4030-f1e7-eb01089eb6c3"
      },
      "outputs": [
        {
          "output_type": "execute_result",
          "data": {
            "text/plain": [
              "                       event              user_id   timestamp  group\n",
              "0         main_screen_appear  4575588528974610257  1564029816    246\n",
              "1         main_screen_appear  7416695313311560658  1564053102    246\n",
              "2  payment_screen_successful  3518123091307005509  1564054127    248\n",
              "3         cart_screen_appear  3518123091307005509  1564054127    248\n",
              "4  payment_screen_successful  6217807653094995999  1564055322    248"
            ],
            "text/html": [
              "\n",
              "  <div id=\"df-58d4dd76-6e8b-495e-b8d7-18784fd84631\">\n",
              "    <div class=\"colab-df-container\">\n",
              "      <div>\n",
              "<style scoped>\n",
              "    .dataframe tbody tr th:only-of-type {\n",
              "        vertical-align: middle;\n",
              "    }\n",
              "\n",
              "    .dataframe tbody tr th {\n",
              "        vertical-align: top;\n",
              "    }\n",
              "\n",
              "    .dataframe thead th {\n",
              "        text-align: right;\n",
              "    }\n",
              "</style>\n",
              "<table border=\"1\" class=\"dataframe\">\n",
              "  <thead>\n",
              "    <tr style=\"text-align: right;\">\n",
              "      <th></th>\n",
              "      <th>event</th>\n",
              "      <th>user_id</th>\n",
              "      <th>timestamp</th>\n",
              "      <th>group</th>\n",
              "    </tr>\n",
              "  </thead>\n",
              "  <tbody>\n",
              "    <tr>\n",
              "      <th>0</th>\n",
              "      <td>main_screen_appear</td>\n",
              "      <td>4575588528974610257</td>\n",
              "      <td>1564029816</td>\n",
              "      <td>246</td>\n",
              "    </tr>\n",
              "    <tr>\n",
              "      <th>1</th>\n",
              "      <td>main_screen_appear</td>\n",
              "      <td>7416695313311560658</td>\n",
              "      <td>1564053102</td>\n",
              "      <td>246</td>\n",
              "    </tr>\n",
              "    <tr>\n",
              "      <th>2</th>\n",
              "      <td>payment_screen_successful</td>\n",
              "      <td>3518123091307005509</td>\n",
              "      <td>1564054127</td>\n",
              "      <td>248</td>\n",
              "    </tr>\n",
              "    <tr>\n",
              "      <th>3</th>\n",
              "      <td>cart_screen_appear</td>\n",
              "      <td>3518123091307005509</td>\n",
              "      <td>1564054127</td>\n",
              "      <td>248</td>\n",
              "    </tr>\n",
              "    <tr>\n",
              "      <th>4</th>\n",
              "      <td>payment_screen_successful</td>\n",
              "      <td>6217807653094995999</td>\n",
              "      <td>1564055322</td>\n",
              "      <td>248</td>\n",
              "    </tr>\n",
              "  </tbody>\n",
              "</table>\n",
              "</div>\n",
              "      <button class=\"colab-df-convert\" onclick=\"convertToInteractive('df-58d4dd76-6e8b-495e-b8d7-18784fd84631')\"\n",
              "              title=\"Convert this dataframe to an interactive table.\"\n",
              "              style=\"display:none;\">\n",
              "        \n",
              "  <svg xmlns=\"http://www.w3.org/2000/svg\" height=\"24px\"viewBox=\"0 0 24 24\"\n",
              "       width=\"24px\">\n",
              "    <path d=\"M0 0h24v24H0V0z\" fill=\"none\"/>\n",
              "    <path d=\"M18.56 5.44l.94 2.06.94-2.06 2.06-.94-2.06-.94-.94-2.06-.94 2.06-2.06.94zm-11 1L8.5 8.5l.94-2.06 2.06-.94-2.06-.94L8.5 2.5l-.94 2.06-2.06.94zm10 10l.94 2.06.94-2.06 2.06-.94-2.06-.94-.94-2.06-.94 2.06-2.06.94z\"/><path d=\"M17.41 7.96l-1.37-1.37c-.4-.4-.92-.59-1.43-.59-.52 0-1.04.2-1.43.59L10.3 9.45l-7.72 7.72c-.78.78-.78 2.05 0 2.83L4 21.41c.39.39.9.59 1.41.59.51 0 1.02-.2 1.41-.59l7.78-7.78 2.81-2.81c.8-.78.8-2.07 0-2.86zM5.41 20L4 18.59l7.72-7.72 1.47 1.35L5.41 20z\"/>\n",
              "  </svg>\n",
              "      </button>\n",
              "      \n",
              "  <style>\n",
              "    .colab-df-container {\n",
              "      display:flex;\n",
              "      flex-wrap:wrap;\n",
              "      gap: 12px;\n",
              "    }\n",
              "\n",
              "    .colab-df-convert {\n",
              "      background-color: #E8F0FE;\n",
              "      border: none;\n",
              "      border-radius: 50%;\n",
              "      cursor: pointer;\n",
              "      display: none;\n",
              "      fill: #1967D2;\n",
              "      height: 32px;\n",
              "      padding: 0 0 0 0;\n",
              "      width: 32px;\n",
              "    }\n",
              "\n",
              "    .colab-df-convert:hover {\n",
              "      background-color: #E2EBFA;\n",
              "      box-shadow: 0px 1px 2px rgba(60, 64, 67, 0.3), 0px 1px 3px 1px rgba(60, 64, 67, 0.15);\n",
              "      fill: #174EA6;\n",
              "    }\n",
              "\n",
              "    [theme=dark] .colab-df-convert {\n",
              "      background-color: #3B4455;\n",
              "      fill: #D2E3FC;\n",
              "    }\n",
              "\n",
              "    [theme=dark] .colab-df-convert:hover {\n",
              "      background-color: #434B5C;\n",
              "      box-shadow: 0px 1px 3px 1px rgba(0, 0, 0, 0.15);\n",
              "      filter: drop-shadow(0px 1px 2px rgba(0, 0, 0, 0.3));\n",
              "      fill: #FFFFFF;\n",
              "    }\n",
              "  </style>\n",
              "\n",
              "      <script>\n",
              "        const buttonEl =\n",
              "          document.querySelector('#df-58d4dd76-6e8b-495e-b8d7-18784fd84631 button.colab-df-convert');\n",
              "        buttonEl.style.display =\n",
              "          google.colab.kernel.accessAllowed ? 'block' : 'none';\n",
              "\n",
              "        async function convertToInteractive(key) {\n",
              "          const element = document.querySelector('#df-58d4dd76-6e8b-495e-b8d7-18784fd84631');\n",
              "          const dataTable =\n",
              "            await google.colab.kernel.invokeFunction('convertToInteractive',\n",
              "                                                     [key], {});\n",
              "          if (!dataTable) return;\n",
              "\n",
              "          const docLinkHtml = 'Like what you see? Visit the ' +\n",
              "            '<a target=\"_blank\" href=https://colab.research.google.com/notebooks/data_table.ipynb>data table notebook</a>'\n",
              "            + ' to learn more about interactive tables.';\n",
              "          element.innerHTML = '';\n",
              "          dataTable['output_type'] = 'display_data';\n",
              "          await google.colab.output.renderOutput(dataTable, element);\n",
              "          const docLink = document.createElement('div');\n",
              "          docLink.innerHTML = docLinkHtml;\n",
              "          element.appendChild(docLink);\n",
              "        }\n",
              "      </script>\n",
              "    </div>\n",
              "  </div>\n",
              "  "
            ]
          },
          "metadata": {},
          "execution_count": 5
        }
      ],
      "source": [
        "# переименуем названия событий в snake_case\n",
        "df['event'] = df['event'].str.replace(r'(?<!^)(?=[A-Z])', '_', regex=True) \\\n",
        "                         .str.lower()\n",
        "df.head()"
      ]
    },
    {
      "cell_type": "code",
      "execution_count": 6,
      "metadata": {
        "colab": {
          "base_uri": "https://localhost:8080/",
          "height": 206
        },
        "id": "p3UB_HDr_LCa",
        "outputId": "b32353ef-be16-40aa-cc10-03d9c148e777"
      },
      "outputs": [
        {
          "output_type": "execute_result",
          "data": {
            "text/plain": [
              "                       event              user_id           timestamp  group  \\\n",
              "0         main_screen_appear  4575588528974610257 2019-07-25 04:43:36    246   \n",
              "1         main_screen_appear  7416695313311560658 2019-07-25 11:11:42    246   \n",
              "2  payment_screen_successful  3518123091307005509 2019-07-25 11:28:47    248   \n",
              "3         cart_screen_appear  3518123091307005509 2019-07-25 11:28:47    248   \n",
              "4  payment_screen_successful  6217807653094995999 2019-07-25 11:48:42    248   \n",
              "\n",
              "         date  \n",
              "0  2019-07-25  \n",
              "1  2019-07-25  \n",
              "2  2019-07-25  \n",
              "3  2019-07-25  \n",
              "4  2019-07-25  "
            ],
            "text/html": [
              "\n",
              "  <div id=\"df-7de3ef98-9a56-4768-87a5-2b331388ec87\">\n",
              "    <div class=\"colab-df-container\">\n",
              "      <div>\n",
              "<style scoped>\n",
              "    .dataframe tbody tr th:only-of-type {\n",
              "        vertical-align: middle;\n",
              "    }\n",
              "\n",
              "    .dataframe tbody tr th {\n",
              "        vertical-align: top;\n",
              "    }\n",
              "\n",
              "    .dataframe thead th {\n",
              "        text-align: right;\n",
              "    }\n",
              "</style>\n",
              "<table border=\"1\" class=\"dataframe\">\n",
              "  <thead>\n",
              "    <tr style=\"text-align: right;\">\n",
              "      <th></th>\n",
              "      <th>event</th>\n",
              "      <th>user_id</th>\n",
              "      <th>timestamp</th>\n",
              "      <th>group</th>\n",
              "      <th>date</th>\n",
              "    </tr>\n",
              "  </thead>\n",
              "  <tbody>\n",
              "    <tr>\n",
              "      <th>0</th>\n",
              "      <td>main_screen_appear</td>\n",
              "      <td>4575588528974610257</td>\n",
              "      <td>2019-07-25 04:43:36</td>\n",
              "      <td>246</td>\n",
              "      <td>2019-07-25</td>\n",
              "    </tr>\n",
              "    <tr>\n",
              "      <th>1</th>\n",
              "      <td>main_screen_appear</td>\n",
              "      <td>7416695313311560658</td>\n",
              "      <td>2019-07-25 11:11:42</td>\n",
              "      <td>246</td>\n",
              "      <td>2019-07-25</td>\n",
              "    </tr>\n",
              "    <tr>\n",
              "      <th>2</th>\n",
              "      <td>payment_screen_successful</td>\n",
              "      <td>3518123091307005509</td>\n",
              "      <td>2019-07-25 11:28:47</td>\n",
              "      <td>248</td>\n",
              "      <td>2019-07-25</td>\n",
              "    </tr>\n",
              "    <tr>\n",
              "      <th>3</th>\n",
              "      <td>cart_screen_appear</td>\n",
              "      <td>3518123091307005509</td>\n",
              "      <td>2019-07-25 11:28:47</td>\n",
              "      <td>248</td>\n",
              "      <td>2019-07-25</td>\n",
              "    </tr>\n",
              "    <tr>\n",
              "      <th>4</th>\n",
              "      <td>payment_screen_successful</td>\n",
              "      <td>6217807653094995999</td>\n",
              "      <td>2019-07-25 11:48:42</td>\n",
              "      <td>248</td>\n",
              "      <td>2019-07-25</td>\n",
              "    </tr>\n",
              "  </tbody>\n",
              "</table>\n",
              "</div>\n",
              "      <button class=\"colab-df-convert\" onclick=\"convertToInteractive('df-7de3ef98-9a56-4768-87a5-2b331388ec87')\"\n",
              "              title=\"Convert this dataframe to an interactive table.\"\n",
              "              style=\"display:none;\">\n",
              "        \n",
              "  <svg xmlns=\"http://www.w3.org/2000/svg\" height=\"24px\"viewBox=\"0 0 24 24\"\n",
              "       width=\"24px\">\n",
              "    <path d=\"M0 0h24v24H0V0z\" fill=\"none\"/>\n",
              "    <path d=\"M18.56 5.44l.94 2.06.94-2.06 2.06-.94-2.06-.94-.94-2.06-.94 2.06-2.06.94zm-11 1L8.5 8.5l.94-2.06 2.06-.94-2.06-.94L8.5 2.5l-.94 2.06-2.06.94zm10 10l.94 2.06.94-2.06 2.06-.94-2.06-.94-.94-2.06-.94 2.06-2.06.94z\"/><path d=\"M17.41 7.96l-1.37-1.37c-.4-.4-.92-.59-1.43-.59-.52 0-1.04.2-1.43.59L10.3 9.45l-7.72 7.72c-.78.78-.78 2.05 0 2.83L4 21.41c.39.39.9.59 1.41.59.51 0 1.02-.2 1.41-.59l7.78-7.78 2.81-2.81c.8-.78.8-2.07 0-2.86zM5.41 20L4 18.59l7.72-7.72 1.47 1.35L5.41 20z\"/>\n",
              "  </svg>\n",
              "      </button>\n",
              "      \n",
              "  <style>\n",
              "    .colab-df-container {\n",
              "      display:flex;\n",
              "      flex-wrap:wrap;\n",
              "      gap: 12px;\n",
              "    }\n",
              "\n",
              "    .colab-df-convert {\n",
              "      background-color: #E8F0FE;\n",
              "      border: none;\n",
              "      border-radius: 50%;\n",
              "      cursor: pointer;\n",
              "      display: none;\n",
              "      fill: #1967D2;\n",
              "      height: 32px;\n",
              "      padding: 0 0 0 0;\n",
              "      width: 32px;\n",
              "    }\n",
              "\n",
              "    .colab-df-convert:hover {\n",
              "      background-color: #E2EBFA;\n",
              "      box-shadow: 0px 1px 2px rgba(60, 64, 67, 0.3), 0px 1px 3px 1px rgba(60, 64, 67, 0.15);\n",
              "      fill: #174EA6;\n",
              "    }\n",
              "\n",
              "    [theme=dark] .colab-df-convert {\n",
              "      background-color: #3B4455;\n",
              "      fill: #D2E3FC;\n",
              "    }\n",
              "\n",
              "    [theme=dark] .colab-df-convert:hover {\n",
              "      background-color: #434B5C;\n",
              "      box-shadow: 0px 1px 3px 1px rgba(0, 0, 0, 0.15);\n",
              "      filter: drop-shadow(0px 1px 2px rgba(0, 0, 0, 0.3));\n",
              "      fill: #FFFFFF;\n",
              "    }\n",
              "  </style>\n",
              "\n",
              "      <script>\n",
              "        const buttonEl =\n",
              "          document.querySelector('#df-7de3ef98-9a56-4768-87a5-2b331388ec87 button.colab-df-convert');\n",
              "        buttonEl.style.display =\n",
              "          google.colab.kernel.accessAllowed ? 'block' : 'none';\n",
              "\n",
              "        async function convertToInteractive(key) {\n",
              "          const element = document.querySelector('#df-7de3ef98-9a56-4768-87a5-2b331388ec87');\n",
              "          const dataTable =\n",
              "            await google.colab.kernel.invokeFunction('convertToInteractive',\n",
              "                                                     [key], {});\n",
              "          if (!dataTable) return;\n",
              "\n",
              "          const docLinkHtml = 'Like what you see? Visit the ' +\n",
              "            '<a target=\"_blank\" href=https://colab.research.google.com/notebooks/data_table.ipynb>data table notebook</a>'\n",
              "            + ' to learn more about interactive tables.';\n",
              "          element.innerHTML = '';\n",
              "          dataTable['output_type'] = 'display_data';\n",
              "          await google.colab.output.renderOutput(dataTable, element);\n",
              "          const docLink = document.createElement('div');\n",
              "          docLink.innerHTML = docLinkHtml;\n",
              "          element.appendChild(docLink);\n",
              "        }\n",
              "      </script>\n",
              "    </div>\n",
              "  </div>\n",
              "  "
            ]
          },
          "metadata": {},
          "execution_count": 6
        }
      ],
      "source": [
        "# переведем значения в столбце time в корректный тип данных\n",
        "df['timestamp'] = pd.to_datetime(df['timestamp'], unit='s')\n",
        "\n",
        "# добавим столбец с датой\n",
        "df['date'] = df['timestamp'].dt.date\n",
        "\n",
        "df.head() "
      ]
    },
    {
      "cell_type": "code",
      "execution_count": 7,
      "metadata": {
        "colab": {
          "base_uri": "https://localhost:8080/",
          "height": 363
        },
        "id": "tfKf_I8BAzYy",
        "outputId": "5760edcb-0c6b-434e-859d-c425ea389047"
      },
      "outputs": [
        {
          "output_type": "execute_result",
          "data": {
            "text/plain": [
              "                       event              user_id           timestamp group  \\\n",
              "0         main_screen_appear  4575588528974610257 2019-07-25 04:43:36    A1   \n",
              "1         main_screen_appear  7416695313311560658 2019-07-25 11:11:42    A1   \n",
              "2  payment_screen_successful  3518123091307005509 2019-07-25 11:28:47     B   \n",
              "3         cart_screen_appear  3518123091307005509 2019-07-25 11:28:47     B   \n",
              "4  payment_screen_successful  6217807653094995999 2019-07-25 11:48:42     B   \n",
              "5         cart_screen_appear  6217807653094995999 2019-07-25 11:48:43     B   \n",
              "6       offers_screen_appear  8351860793733343758 2019-07-25 14:50:42    A1   \n",
              "7         main_screen_appear  5682100281902512875 2019-07-25 20:14:37    A1   \n",
              "8         main_screen_appear  1850981295691852772 2019-07-25 20:31:42    A2   \n",
              "9         main_screen_appear  5407636962369102641 2019-07-26 03:35:12    A1   \n",
              "\n",
              "         date  \n",
              "0  2019-07-25  \n",
              "1  2019-07-25  \n",
              "2  2019-07-25  \n",
              "3  2019-07-25  \n",
              "4  2019-07-25  \n",
              "5  2019-07-25  \n",
              "6  2019-07-25  \n",
              "7  2019-07-25  \n",
              "8  2019-07-25  \n",
              "9  2019-07-26  "
            ],
            "text/html": [
              "\n",
              "  <div id=\"df-370ce8ee-2cc1-4e27-883b-f6ef66330ccd\">\n",
              "    <div class=\"colab-df-container\">\n",
              "      <div>\n",
              "<style scoped>\n",
              "    .dataframe tbody tr th:only-of-type {\n",
              "        vertical-align: middle;\n",
              "    }\n",
              "\n",
              "    .dataframe tbody tr th {\n",
              "        vertical-align: top;\n",
              "    }\n",
              "\n",
              "    .dataframe thead th {\n",
              "        text-align: right;\n",
              "    }\n",
              "</style>\n",
              "<table border=\"1\" class=\"dataframe\">\n",
              "  <thead>\n",
              "    <tr style=\"text-align: right;\">\n",
              "      <th></th>\n",
              "      <th>event</th>\n",
              "      <th>user_id</th>\n",
              "      <th>timestamp</th>\n",
              "      <th>group</th>\n",
              "      <th>date</th>\n",
              "    </tr>\n",
              "  </thead>\n",
              "  <tbody>\n",
              "    <tr>\n",
              "      <th>0</th>\n",
              "      <td>main_screen_appear</td>\n",
              "      <td>4575588528974610257</td>\n",
              "      <td>2019-07-25 04:43:36</td>\n",
              "      <td>A1</td>\n",
              "      <td>2019-07-25</td>\n",
              "    </tr>\n",
              "    <tr>\n",
              "      <th>1</th>\n",
              "      <td>main_screen_appear</td>\n",
              "      <td>7416695313311560658</td>\n",
              "      <td>2019-07-25 11:11:42</td>\n",
              "      <td>A1</td>\n",
              "      <td>2019-07-25</td>\n",
              "    </tr>\n",
              "    <tr>\n",
              "      <th>2</th>\n",
              "      <td>payment_screen_successful</td>\n",
              "      <td>3518123091307005509</td>\n",
              "      <td>2019-07-25 11:28:47</td>\n",
              "      <td>B</td>\n",
              "      <td>2019-07-25</td>\n",
              "    </tr>\n",
              "    <tr>\n",
              "      <th>3</th>\n",
              "      <td>cart_screen_appear</td>\n",
              "      <td>3518123091307005509</td>\n",
              "      <td>2019-07-25 11:28:47</td>\n",
              "      <td>B</td>\n",
              "      <td>2019-07-25</td>\n",
              "    </tr>\n",
              "    <tr>\n",
              "      <th>4</th>\n",
              "      <td>payment_screen_successful</td>\n",
              "      <td>6217807653094995999</td>\n",
              "      <td>2019-07-25 11:48:42</td>\n",
              "      <td>B</td>\n",
              "      <td>2019-07-25</td>\n",
              "    </tr>\n",
              "    <tr>\n",
              "      <th>5</th>\n",
              "      <td>cart_screen_appear</td>\n",
              "      <td>6217807653094995999</td>\n",
              "      <td>2019-07-25 11:48:43</td>\n",
              "      <td>B</td>\n",
              "      <td>2019-07-25</td>\n",
              "    </tr>\n",
              "    <tr>\n",
              "      <th>6</th>\n",
              "      <td>offers_screen_appear</td>\n",
              "      <td>8351860793733343758</td>\n",
              "      <td>2019-07-25 14:50:42</td>\n",
              "      <td>A1</td>\n",
              "      <td>2019-07-25</td>\n",
              "    </tr>\n",
              "    <tr>\n",
              "      <th>7</th>\n",
              "      <td>main_screen_appear</td>\n",
              "      <td>5682100281902512875</td>\n",
              "      <td>2019-07-25 20:14:37</td>\n",
              "      <td>A1</td>\n",
              "      <td>2019-07-25</td>\n",
              "    </tr>\n",
              "    <tr>\n",
              "      <th>8</th>\n",
              "      <td>main_screen_appear</td>\n",
              "      <td>1850981295691852772</td>\n",
              "      <td>2019-07-25 20:31:42</td>\n",
              "      <td>A2</td>\n",
              "      <td>2019-07-25</td>\n",
              "    </tr>\n",
              "    <tr>\n",
              "      <th>9</th>\n",
              "      <td>main_screen_appear</td>\n",
              "      <td>5407636962369102641</td>\n",
              "      <td>2019-07-26 03:35:12</td>\n",
              "      <td>A1</td>\n",
              "      <td>2019-07-26</td>\n",
              "    </tr>\n",
              "  </tbody>\n",
              "</table>\n",
              "</div>\n",
              "      <button class=\"colab-df-convert\" onclick=\"convertToInteractive('df-370ce8ee-2cc1-4e27-883b-f6ef66330ccd')\"\n",
              "              title=\"Convert this dataframe to an interactive table.\"\n",
              "              style=\"display:none;\">\n",
              "        \n",
              "  <svg xmlns=\"http://www.w3.org/2000/svg\" height=\"24px\"viewBox=\"0 0 24 24\"\n",
              "       width=\"24px\">\n",
              "    <path d=\"M0 0h24v24H0V0z\" fill=\"none\"/>\n",
              "    <path d=\"M18.56 5.44l.94 2.06.94-2.06 2.06-.94-2.06-.94-.94-2.06-.94 2.06-2.06.94zm-11 1L8.5 8.5l.94-2.06 2.06-.94-2.06-.94L8.5 2.5l-.94 2.06-2.06.94zm10 10l.94 2.06.94-2.06 2.06-.94-2.06-.94-.94-2.06-.94 2.06-2.06.94z\"/><path d=\"M17.41 7.96l-1.37-1.37c-.4-.4-.92-.59-1.43-.59-.52 0-1.04.2-1.43.59L10.3 9.45l-7.72 7.72c-.78.78-.78 2.05 0 2.83L4 21.41c.39.39.9.59 1.41.59.51 0 1.02-.2 1.41-.59l7.78-7.78 2.81-2.81c.8-.78.8-2.07 0-2.86zM5.41 20L4 18.59l7.72-7.72 1.47 1.35L5.41 20z\"/>\n",
              "  </svg>\n",
              "      </button>\n",
              "      \n",
              "  <style>\n",
              "    .colab-df-container {\n",
              "      display:flex;\n",
              "      flex-wrap:wrap;\n",
              "      gap: 12px;\n",
              "    }\n",
              "\n",
              "    .colab-df-convert {\n",
              "      background-color: #E8F0FE;\n",
              "      border: none;\n",
              "      border-radius: 50%;\n",
              "      cursor: pointer;\n",
              "      display: none;\n",
              "      fill: #1967D2;\n",
              "      height: 32px;\n",
              "      padding: 0 0 0 0;\n",
              "      width: 32px;\n",
              "    }\n",
              "\n",
              "    .colab-df-convert:hover {\n",
              "      background-color: #E2EBFA;\n",
              "      box-shadow: 0px 1px 2px rgba(60, 64, 67, 0.3), 0px 1px 3px 1px rgba(60, 64, 67, 0.15);\n",
              "      fill: #174EA6;\n",
              "    }\n",
              "\n",
              "    [theme=dark] .colab-df-convert {\n",
              "      background-color: #3B4455;\n",
              "      fill: #D2E3FC;\n",
              "    }\n",
              "\n",
              "    [theme=dark] .colab-df-convert:hover {\n",
              "      background-color: #434B5C;\n",
              "      box-shadow: 0px 1px 3px 1px rgba(0, 0, 0, 0.15);\n",
              "      filter: drop-shadow(0px 1px 2px rgba(0, 0, 0, 0.3));\n",
              "      fill: #FFFFFF;\n",
              "    }\n",
              "  </style>\n",
              "\n",
              "      <script>\n",
              "        const buttonEl =\n",
              "          document.querySelector('#df-370ce8ee-2cc1-4e27-883b-f6ef66330ccd button.colab-df-convert');\n",
              "        buttonEl.style.display =\n",
              "          google.colab.kernel.accessAllowed ? 'block' : 'none';\n",
              "\n",
              "        async function convertToInteractive(key) {\n",
              "          const element = document.querySelector('#df-370ce8ee-2cc1-4e27-883b-f6ef66330ccd');\n",
              "          const dataTable =\n",
              "            await google.colab.kernel.invokeFunction('convertToInteractive',\n",
              "                                                     [key], {});\n",
              "          if (!dataTable) return;\n",
              "\n",
              "          const docLinkHtml = 'Like what you see? Visit the ' +\n",
              "            '<a target=\"_blank\" href=https://colab.research.google.com/notebooks/data_table.ipynb>data table notebook</a>'\n",
              "            + ' to learn more about interactive tables.';\n",
              "          element.innerHTML = '';\n",
              "          dataTable['output_type'] = 'display_data';\n",
              "          await google.colab.output.renderOutput(dataTable, element);\n",
              "          const docLink = document.createElement('div');\n",
              "          docLink.innerHTML = docLinkHtml;\n",
              "          element.appendChild(docLink);\n",
              "        }\n",
              "      </script>\n",
              "    </div>\n",
              "  </div>\n",
              "  "
            ]
          },
          "metadata": {},
          "execution_count": 7
        }
      ],
      "source": [
        "# зададим функцию для определения группы теста\n",
        "def group_cat(df):\n",
        "    group = df['group']\n",
        "    if group == 246:\n",
        "        return 'A1'\n",
        "    if group == 247:\n",
        "        return 'A2'\n",
        "    if group == 248:\n",
        "        return 'B'\n",
        "    return 'error'\n",
        "\n",
        "\n",
        "# применим функцию к столбцу и проверим результат\n",
        "df['group'] = df.apply(group_cat, axis=1)\n",
        "df.head(10)"
      ]
    },
    {
      "cell_type": "code",
      "execution_count": 8,
      "metadata": {
        "colab": {
          "base_uri": "https://localhost:8080/"
        },
        "id": "PgbuOtnOKdUY",
        "outputId": "db0c3a69-60a1-484c-a42e-719930cb4d44"
      },
      "outputs": [
        {
          "output_type": "execute_result",
          "data": {
            "text/plain": [
              "event        0\n",
              "user_id      0\n",
              "timestamp    0\n",
              "group        0\n",
              "date         0\n",
              "dtype: int64"
            ]
          },
          "metadata": {},
          "execution_count": 8
        }
      ],
      "source": [
        "# проверим пропуски\n",
        "df.isna().sum()"
      ]
    },
    {
      "cell_type": "code",
      "execution_count": 9,
      "metadata": {
        "colab": {
          "base_uri": "https://localhost:8080/"
        },
        "id": "HcTCDsys1u-G",
        "outputId": "a10543d2-d685-4690-8c34-4dc5b60cce42"
      },
      "outputs": [
        {
          "output_type": "execute_result",
          "data": {
            "text/plain": [
              "413"
            ]
          },
          "metadata": {},
          "execution_count": 9
        }
      ],
      "source": [
        " # подсчитаем явные дубликаты\n",
        "df.duplicated().sum() "
      ]
    },
    {
      "cell_type": "code",
      "execution_count": 10,
      "metadata": {
        "id": "3wHbfn992aqa"
      },
      "outputs": [],
      "source": [
        "# удалим явные дубликаты со сбросом индексов таблицы\n",
        "df = df.drop_duplicates().reset_index(drop=True) "
      ]
    },
    {
      "cell_type": "code",
      "execution_count": 11,
      "metadata": {
        "id": "zW3HlbEGt_7D",
        "outputId": "55aa2ea8-2a08-4d4c-984f-92810e3783f4",
        "colab": {
          "base_uri": "https://localhost:8080/"
        }
      },
      "outputs": [
        {
          "output_type": "execute_result",
          "data": {
            "text/plain": [
              "0"
            ]
          },
          "metadata": {},
          "execution_count": 11
        }
      ],
      "source": [
        "# проверим количество повторений уникальных user_id в группах\n",
        "intersection = len(df.groupby('user_id')\n",
        "                   .agg({'group': 'nunique'})\n",
        "                   .query('group > 1'))\n",
        "intersection"
      ]
    },
    {
      "cell_type": "code",
      "execution_count": 12,
      "metadata": {
        "colab": {
          "base_uri": "https://localhost:8080/",
          "height": 420
        },
        "id": "i_B31Ag6LE3-",
        "outputId": "763b25ab-be35-48c9-9292-cc6fb8fdc74c"
      },
      "outputs": [
        {
          "output_type": "stream",
          "name": "stdout",
          "text": [
            "<class 'pandas.core.frame.DataFrame'>\n",
            "RangeIndex: 243713 entries, 0 to 243712\n",
            "Data columns (total 5 columns):\n",
            " #   Column     Non-Null Count   Dtype         \n",
            "---  ------     --------------   -----         \n",
            " 0   event      243713 non-null  object        \n",
            " 1   user_id    243713 non-null  int64         \n",
            " 2   timestamp  243713 non-null  datetime64[ns]\n",
            " 3   group      243713 non-null  object        \n",
            " 4   date       243713 non-null  object        \n",
            "dtypes: datetime64[ns](1), int64(1), object(3)\n",
            "memory usage: 9.3+ MB\n"
          ]
        },
        {
          "output_type": "execute_result",
          "data": {
            "text/plain": [
              "                       event              user_id           timestamp group  \\\n",
              "0         main_screen_appear  4575588528974610257 2019-07-25 04:43:36    A1   \n",
              "1         main_screen_appear  7416695313311560658 2019-07-25 11:11:42    A1   \n",
              "2  payment_screen_successful  3518123091307005509 2019-07-25 11:28:47     B   \n",
              "3         cart_screen_appear  3518123091307005509 2019-07-25 11:28:47     B   \n",
              "4  payment_screen_successful  6217807653094995999 2019-07-25 11:48:42     B   \n",
              "\n",
              "         date  \n",
              "0  2019-07-25  \n",
              "1  2019-07-25  \n",
              "2  2019-07-25  \n",
              "3  2019-07-25  \n",
              "4  2019-07-25  "
            ],
            "text/html": [
              "\n",
              "  <div id=\"df-1a4435a7-719a-4c39-8c5f-2e78668df3e8\">\n",
              "    <div class=\"colab-df-container\">\n",
              "      <div>\n",
              "<style scoped>\n",
              "    .dataframe tbody tr th:only-of-type {\n",
              "        vertical-align: middle;\n",
              "    }\n",
              "\n",
              "    .dataframe tbody tr th {\n",
              "        vertical-align: top;\n",
              "    }\n",
              "\n",
              "    .dataframe thead th {\n",
              "        text-align: right;\n",
              "    }\n",
              "</style>\n",
              "<table border=\"1\" class=\"dataframe\">\n",
              "  <thead>\n",
              "    <tr style=\"text-align: right;\">\n",
              "      <th></th>\n",
              "      <th>event</th>\n",
              "      <th>user_id</th>\n",
              "      <th>timestamp</th>\n",
              "      <th>group</th>\n",
              "      <th>date</th>\n",
              "    </tr>\n",
              "  </thead>\n",
              "  <tbody>\n",
              "    <tr>\n",
              "      <th>0</th>\n",
              "      <td>main_screen_appear</td>\n",
              "      <td>4575588528974610257</td>\n",
              "      <td>2019-07-25 04:43:36</td>\n",
              "      <td>A1</td>\n",
              "      <td>2019-07-25</td>\n",
              "    </tr>\n",
              "    <tr>\n",
              "      <th>1</th>\n",
              "      <td>main_screen_appear</td>\n",
              "      <td>7416695313311560658</td>\n",
              "      <td>2019-07-25 11:11:42</td>\n",
              "      <td>A1</td>\n",
              "      <td>2019-07-25</td>\n",
              "    </tr>\n",
              "    <tr>\n",
              "      <th>2</th>\n",
              "      <td>payment_screen_successful</td>\n",
              "      <td>3518123091307005509</td>\n",
              "      <td>2019-07-25 11:28:47</td>\n",
              "      <td>B</td>\n",
              "      <td>2019-07-25</td>\n",
              "    </tr>\n",
              "    <tr>\n",
              "      <th>3</th>\n",
              "      <td>cart_screen_appear</td>\n",
              "      <td>3518123091307005509</td>\n",
              "      <td>2019-07-25 11:28:47</td>\n",
              "      <td>B</td>\n",
              "      <td>2019-07-25</td>\n",
              "    </tr>\n",
              "    <tr>\n",
              "      <th>4</th>\n",
              "      <td>payment_screen_successful</td>\n",
              "      <td>6217807653094995999</td>\n",
              "      <td>2019-07-25 11:48:42</td>\n",
              "      <td>B</td>\n",
              "      <td>2019-07-25</td>\n",
              "    </tr>\n",
              "  </tbody>\n",
              "</table>\n",
              "</div>\n",
              "      <button class=\"colab-df-convert\" onclick=\"convertToInteractive('df-1a4435a7-719a-4c39-8c5f-2e78668df3e8')\"\n",
              "              title=\"Convert this dataframe to an interactive table.\"\n",
              "              style=\"display:none;\">\n",
              "        \n",
              "  <svg xmlns=\"http://www.w3.org/2000/svg\" height=\"24px\"viewBox=\"0 0 24 24\"\n",
              "       width=\"24px\">\n",
              "    <path d=\"M0 0h24v24H0V0z\" fill=\"none\"/>\n",
              "    <path d=\"M18.56 5.44l.94 2.06.94-2.06 2.06-.94-2.06-.94-.94-2.06-.94 2.06-2.06.94zm-11 1L8.5 8.5l.94-2.06 2.06-.94-2.06-.94L8.5 2.5l-.94 2.06-2.06.94zm10 10l.94 2.06.94-2.06 2.06-.94-2.06-.94-.94-2.06-.94 2.06-2.06.94z\"/><path d=\"M17.41 7.96l-1.37-1.37c-.4-.4-.92-.59-1.43-.59-.52 0-1.04.2-1.43.59L10.3 9.45l-7.72 7.72c-.78.78-.78 2.05 0 2.83L4 21.41c.39.39.9.59 1.41.59.51 0 1.02-.2 1.41-.59l7.78-7.78 2.81-2.81c.8-.78.8-2.07 0-2.86zM5.41 20L4 18.59l7.72-7.72 1.47 1.35L5.41 20z\"/>\n",
              "  </svg>\n",
              "      </button>\n",
              "      \n",
              "  <style>\n",
              "    .colab-df-container {\n",
              "      display:flex;\n",
              "      flex-wrap:wrap;\n",
              "      gap: 12px;\n",
              "    }\n",
              "\n",
              "    .colab-df-convert {\n",
              "      background-color: #E8F0FE;\n",
              "      border: none;\n",
              "      border-radius: 50%;\n",
              "      cursor: pointer;\n",
              "      display: none;\n",
              "      fill: #1967D2;\n",
              "      height: 32px;\n",
              "      padding: 0 0 0 0;\n",
              "      width: 32px;\n",
              "    }\n",
              "\n",
              "    .colab-df-convert:hover {\n",
              "      background-color: #E2EBFA;\n",
              "      box-shadow: 0px 1px 2px rgba(60, 64, 67, 0.3), 0px 1px 3px 1px rgba(60, 64, 67, 0.15);\n",
              "      fill: #174EA6;\n",
              "    }\n",
              "\n",
              "    [theme=dark] .colab-df-convert {\n",
              "      background-color: #3B4455;\n",
              "      fill: #D2E3FC;\n",
              "    }\n",
              "\n",
              "    [theme=dark] .colab-df-convert:hover {\n",
              "      background-color: #434B5C;\n",
              "      box-shadow: 0px 1px 3px 1px rgba(0, 0, 0, 0.15);\n",
              "      filter: drop-shadow(0px 1px 2px rgba(0, 0, 0, 0.3));\n",
              "      fill: #FFFFFF;\n",
              "    }\n",
              "  </style>\n",
              "\n",
              "      <script>\n",
              "        const buttonEl =\n",
              "          document.querySelector('#df-1a4435a7-719a-4c39-8c5f-2e78668df3e8 button.colab-df-convert');\n",
              "        buttonEl.style.display =\n",
              "          google.colab.kernel.accessAllowed ? 'block' : 'none';\n",
              "\n",
              "        async function convertToInteractive(key) {\n",
              "          const element = document.querySelector('#df-1a4435a7-719a-4c39-8c5f-2e78668df3e8');\n",
              "          const dataTable =\n",
              "            await google.colab.kernel.invokeFunction('convertToInteractive',\n",
              "                                                     [key], {});\n",
              "          if (!dataTable) return;\n",
              "\n",
              "          const docLinkHtml = 'Like what you see? Visit the ' +\n",
              "            '<a target=\"_blank\" href=https://colab.research.google.com/notebooks/data_table.ipynb>data table notebook</a>'\n",
              "            + ' to learn more about interactive tables.';\n",
              "          element.innerHTML = '';\n",
              "          dataTable['output_type'] = 'display_data';\n",
              "          await google.colab.output.renderOutput(dataTable, element);\n",
              "          const docLink = document.createElement('div');\n",
              "          docLink.innerHTML = docLinkHtml;\n",
              "          element.appendChild(docLink);\n",
              "        }\n",
              "      </script>\n",
              "    </div>\n",
              "  </div>\n",
              "  "
            ]
          },
          "metadata": {},
          "execution_count": 12
        }
      ],
      "source": [
        "# результат подготовки данных\n",
        "df.info()\n",
        "df.head()"
      ]
    },
    {
      "cell_type": "markdown",
      "metadata": {
        "id": "EHv371WfLQLD"
      },
      "source": [
        "**Вывод:**\n",
        "\n",
        "Мы обработали данные и подготовили датафрейм к анализу: переименовали столбцы и названия событий, поменяли тип данных у значений даты и времени события, поменяли значения в столбце с группой теста на категории, добавили новый столбец с датой и проверили на пересечение аудиторий.\n",
        "\n",
        "Было найдено 413 строк дубликатов – вероятно, они появились из-за технической ошибки. Количество незначительное относительно всего комлекта данных, поэтому мы их удалили. Осталось 243713 строк."
      ]
    },
    {
      "cell_type": "markdown",
      "metadata": {
        "id": "EeZjzTe1p6Lv"
      },
      "source": [
        "---"
      ]
    },
    {
      "cell_type": "markdown",
      "metadata": {
        "id": "DHd2rAkYHznn"
      },
      "source": [
        "## Изучение и проверка данных\n"
      ]
    },
    {
      "cell_type": "markdown",
      "metadata": {
        "id": "vg3BCBRIECCh"
      },
      "source": [
        "Сгруппируем данные по пользователю и количеству совершенных событий:\n",
        "\n",
        "---\n",
        "\n"
      ]
    },
    {
      "cell_type": "code",
      "execution_count": 13,
      "metadata": {
        "colab": {
          "base_uri": "https://localhost:8080/",
          "height": 424
        },
        "id": "ytzXjURkCx9I",
        "outputId": "d8ed276b-3dde-4781-f513-d0d81050d970"
      },
      "outputs": [
        {
          "output_type": "execute_result",
          "data": {
            "text/plain": [
              "                  user_id  events\n",
              "0        6888746892508752       1\n",
              "1        6909561520679493       5\n",
              "2        6922444491712477      47\n",
              "3        7435777799948366       6\n",
              "4        7702139951469979     137\n",
              "...                   ...     ...\n",
              "7546  9217594193087726423       9\n",
              "7547  9219463515465815368      17\n",
              "7548  9220879493065341500       7\n",
              "7549  9221926045299980007       7\n",
              "7550  9222603179720523844      59\n",
              "\n",
              "[7551 rows x 2 columns]"
            ],
            "text/html": [
              "\n",
              "  <div id=\"df-625c0880-5b52-420a-a6f2-39a74c9d6edb\">\n",
              "    <div class=\"colab-df-container\">\n",
              "      <div>\n",
              "<style scoped>\n",
              "    .dataframe tbody tr th:only-of-type {\n",
              "        vertical-align: middle;\n",
              "    }\n",
              "\n",
              "    .dataframe tbody tr th {\n",
              "        vertical-align: top;\n",
              "    }\n",
              "\n",
              "    .dataframe thead th {\n",
              "        text-align: right;\n",
              "    }\n",
              "</style>\n",
              "<table border=\"1\" class=\"dataframe\">\n",
              "  <thead>\n",
              "    <tr style=\"text-align: right;\">\n",
              "      <th></th>\n",
              "      <th>user_id</th>\n",
              "      <th>events</th>\n",
              "    </tr>\n",
              "  </thead>\n",
              "  <tbody>\n",
              "    <tr>\n",
              "      <th>0</th>\n",
              "      <td>6888746892508752</td>\n",
              "      <td>1</td>\n",
              "    </tr>\n",
              "    <tr>\n",
              "      <th>1</th>\n",
              "      <td>6909561520679493</td>\n",
              "      <td>5</td>\n",
              "    </tr>\n",
              "    <tr>\n",
              "      <th>2</th>\n",
              "      <td>6922444491712477</td>\n",
              "      <td>47</td>\n",
              "    </tr>\n",
              "    <tr>\n",
              "      <th>3</th>\n",
              "      <td>7435777799948366</td>\n",
              "      <td>6</td>\n",
              "    </tr>\n",
              "    <tr>\n",
              "      <th>4</th>\n",
              "      <td>7702139951469979</td>\n",
              "      <td>137</td>\n",
              "    </tr>\n",
              "    <tr>\n",
              "      <th>...</th>\n",
              "      <td>...</td>\n",
              "      <td>...</td>\n",
              "    </tr>\n",
              "    <tr>\n",
              "      <th>7546</th>\n",
              "      <td>9217594193087726423</td>\n",
              "      <td>9</td>\n",
              "    </tr>\n",
              "    <tr>\n",
              "      <th>7547</th>\n",
              "      <td>9219463515465815368</td>\n",
              "      <td>17</td>\n",
              "    </tr>\n",
              "    <tr>\n",
              "      <th>7548</th>\n",
              "      <td>9220879493065341500</td>\n",
              "      <td>7</td>\n",
              "    </tr>\n",
              "    <tr>\n",
              "      <th>7549</th>\n",
              "      <td>9221926045299980007</td>\n",
              "      <td>7</td>\n",
              "    </tr>\n",
              "    <tr>\n",
              "      <th>7550</th>\n",
              "      <td>9222603179720523844</td>\n",
              "      <td>59</td>\n",
              "    </tr>\n",
              "  </tbody>\n",
              "</table>\n",
              "<p>7551 rows × 2 columns</p>\n",
              "</div>\n",
              "      <button class=\"colab-df-convert\" onclick=\"convertToInteractive('df-625c0880-5b52-420a-a6f2-39a74c9d6edb')\"\n",
              "              title=\"Convert this dataframe to an interactive table.\"\n",
              "              style=\"display:none;\">\n",
              "        \n",
              "  <svg xmlns=\"http://www.w3.org/2000/svg\" height=\"24px\"viewBox=\"0 0 24 24\"\n",
              "       width=\"24px\">\n",
              "    <path d=\"M0 0h24v24H0V0z\" fill=\"none\"/>\n",
              "    <path d=\"M18.56 5.44l.94 2.06.94-2.06 2.06-.94-2.06-.94-.94-2.06-.94 2.06-2.06.94zm-11 1L8.5 8.5l.94-2.06 2.06-.94-2.06-.94L8.5 2.5l-.94 2.06-2.06.94zm10 10l.94 2.06.94-2.06 2.06-.94-2.06-.94-.94-2.06-.94 2.06-2.06.94z\"/><path d=\"M17.41 7.96l-1.37-1.37c-.4-.4-.92-.59-1.43-.59-.52 0-1.04.2-1.43.59L10.3 9.45l-7.72 7.72c-.78.78-.78 2.05 0 2.83L4 21.41c.39.39.9.59 1.41.59.51 0 1.02-.2 1.41-.59l7.78-7.78 2.81-2.81c.8-.78.8-2.07 0-2.86zM5.41 20L4 18.59l7.72-7.72 1.47 1.35L5.41 20z\"/>\n",
              "  </svg>\n",
              "      </button>\n",
              "      \n",
              "  <style>\n",
              "    .colab-df-container {\n",
              "      display:flex;\n",
              "      flex-wrap:wrap;\n",
              "      gap: 12px;\n",
              "    }\n",
              "\n",
              "    .colab-df-convert {\n",
              "      background-color: #E8F0FE;\n",
              "      border: none;\n",
              "      border-radius: 50%;\n",
              "      cursor: pointer;\n",
              "      display: none;\n",
              "      fill: #1967D2;\n",
              "      height: 32px;\n",
              "      padding: 0 0 0 0;\n",
              "      width: 32px;\n",
              "    }\n",
              "\n",
              "    .colab-df-convert:hover {\n",
              "      background-color: #E2EBFA;\n",
              "      box-shadow: 0px 1px 2px rgba(60, 64, 67, 0.3), 0px 1px 3px 1px rgba(60, 64, 67, 0.15);\n",
              "      fill: #174EA6;\n",
              "    }\n",
              "\n",
              "    [theme=dark] .colab-df-convert {\n",
              "      background-color: #3B4455;\n",
              "      fill: #D2E3FC;\n",
              "    }\n",
              "\n",
              "    [theme=dark] .colab-df-convert:hover {\n",
              "      background-color: #434B5C;\n",
              "      box-shadow: 0px 1px 3px 1px rgba(0, 0, 0, 0.15);\n",
              "      filter: drop-shadow(0px 1px 2px rgba(0, 0, 0, 0.3));\n",
              "      fill: #FFFFFF;\n",
              "    }\n",
              "  </style>\n",
              "\n",
              "      <script>\n",
              "        const buttonEl =\n",
              "          document.querySelector('#df-625c0880-5b52-420a-a6f2-39a74c9d6edb button.colab-df-convert');\n",
              "        buttonEl.style.display =\n",
              "          google.colab.kernel.accessAllowed ? 'block' : 'none';\n",
              "\n",
              "        async function convertToInteractive(key) {\n",
              "          const element = document.querySelector('#df-625c0880-5b52-420a-a6f2-39a74c9d6edb');\n",
              "          const dataTable =\n",
              "            await google.colab.kernel.invokeFunction('convertToInteractive',\n",
              "                                                     [key], {});\n",
              "          if (!dataTable) return;\n",
              "\n",
              "          const docLinkHtml = 'Like what you see? Visit the ' +\n",
              "            '<a target=\"_blank\" href=https://colab.research.google.com/notebooks/data_table.ipynb>data table notebook</a>'\n",
              "            + ' to learn more about interactive tables.';\n",
              "          element.innerHTML = '';\n",
              "          dataTable['output_type'] = 'display_data';\n",
              "          await google.colab.output.renderOutput(dataTable, element);\n",
              "          const docLink = document.createElement('div');\n",
              "          docLink.innerHTML = docLinkHtml;\n",
              "          element.appendChild(docLink);\n",
              "        }\n",
              "      </script>\n",
              "    </div>\n",
              "  </div>\n",
              "  "
            ]
          },
          "metadata": {},
          "execution_count": 13
        }
      ],
      "source": [
        "# группировка по пользователю и количеству событий\n",
        "user_events = df \\\n",
        "    .groupby(['user_id'], as_index=False) \\\n",
        "    .agg({'event' : 'count'}) \\\n",
        "    .rename(columns=({'event' : 'events'})) \\\n",
        "    .sort_values(by='user_id', ascending=True)\n",
        "\n",
        "user_events"
      ]
    },
    {
      "cell_type": "code",
      "execution_count": 14,
      "metadata": {
        "id": "Kpv2rH-4t_7F",
        "outputId": "15070b0f-03a0-4256-ebed-553706a9f5d7",
        "colab": {
          "base_uri": "https://localhost:8080/",
          "height": 300
        }
      },
      "outputs": [
        {
          "output_type": "execute_result",
          "data": {
            "text/plain": [
              "                     user_id  events\n",
              "count                7551.00 7551.00\n",
              "mean  4677318727102441472.00   32.28\n",
              "std   2655343100552021504.00   65.15\n",
              "min      6888746892508752.00    1.00\n",
              "25%   2397700422051031552.00    9.00\n",
              "50%   4688021588771745792.00   20.00\n",
              "75%   7007352523282521088.00   37.00\n",
              "max   9222603179720523776.00 2307.00"
            ],
            "text/html": [
              "\n",
              "  <div id=\"df-885b0d31-290c-427d-885c-b6d450703749\">\n",
              "    <div class=\"colab-df-container\">\n",
              "      <div>\n",
              "<style scoped>\n",
              "    .dataframe tbody tr th:only-of-type {\n",
              "        vertical-align: middle;\n",
              "    }\n",
              "\n",
              "    .dataframe tbody tr th {\n",
              "        vertical-align: top;\n",
              "    }\n",
              "\n",
              "    .dataframe thead th {\n",
              "        text-align: right;\n",
              "    }\n",
              "</style>\n",
              "<table border=\"1\" class=\"dataframe\">\n",
              "  <thead>\n",
              "    <tr style=\"text-align: right;\">\n",
              "      <th></th>\n",
              "      <th>user_id</th>\n",
              "      <th>events</th>\n",
              "    </tr>\n",
              "  </thead>\n",
              "  <tbody>\n",
              "    <tr>\n",
              "      <th>count</th>\n",
              "      <td>7551.00</td>\n",
              "      <td>7551.00</td>\n",
              "    </tr>\n",
              "    <tr>\n",
              "      <th>mean</th>\n",
              "      <td>4677318727102441472.00</td>\n",
              "      <td>32.28</td>\n",
              "    </tr>\n",
              "    <tr>\n",
              "      <th>std</th>\n",
              "      <td>2655343100552021504.00</td>\n",
              "      <td>65.15</td>\n",
              "    </tr>\n",
              "    <tr>\n",
              "      <th>min</th>\n",
              "      <td>6888746892508752.00</td>\n",
              "      <td>1.00</td>\n",
              "    </tr>\n",
              "    <tr>\n",
              "      <th>25%</th>\n",
              "      <td>2397700422051031552.00</td>\n",
              "      <td>9.00</td>\n",
              "    </tr>\n",
              "    <tr>\n",
              "      <th>50%</th>\n",
              "      <td>4688021588771745792.00</td>\n",
              "      <td>20.00</td>\n",
              "    </tr>\n",
              "    <tr>\n",
              "      <th>75%</th>\n",
              "      <td>7007352523282521088.00</td>\n",
              "      <td>37.00</td>\n",
              "    </tr>\n",
              "    <tr>\n",
              "      <th>max</th>\n",
              "      <td>9222603179720523776.00</td>\n",
              "      <td>2307.00</td>\n",
              "    </tr>\n",
              "  </tbody>\n",
              "</table>\n",
              "</div>\n",
              "      <button class=\"colab-df-convert\" onclick=\"convertToInteractive('df-885b0d31-290c-427d-885c-b6d450703749')\"\n",
              "              title=\"Convert this dataframe to an interactive table.\"\n",
              "              style=\"display:none;\">\n",
              "        \n",
              "  <svg xmlns=\"http://www.w3.org/2000/svg\" height=\"24px\"viewBox=\"0 0 24 24\"\n",
              "       width=\"24px\">\n",
              "    <path d=\"M0 0h24v24H0V0z\" fill=\"none\"/>\n",
              "    <path d=\"M18.56 5.44l.94 2.06.94-2.06 2.06-.94-2.06-.94-.94-2.06-.94 2.06-2.06.94zm-11 1L8.5 8.5l.94-2.06 2.06-.94-2.06-.94L8.5 2.5l-.94 2.06-2.06.94zm10 10l.94 2.06.94-2.06 2.06-.94-2.06-.94-.94-2.06-.94 2.06-2.06.94z\"/><path d=\"M17.41 7.96l-1.37-1.37c-.4-.4-.92-.59-1.43-.59-.52 0-1.04.2-1.43.59L10.3 9.45l-7.72 7.72c-.78.78-.78 2.05 0 2.83L4 21.41c.39.39.9.59 1.41.59.51 0 1.02-.2 1.41-.59l7.78-7.78 2.81-2.81c.8-.78.8-2.07 0-2.86zM5.41 20L4 18.59l7.72-7.72 1.47 1.35L5.41 20z\"/>\n",
              "  </svg>\n",
              "      </button>\n",
              "      \n",
              "  <style>\n",
              "    .colab-df-container {\n",
              "      display:flex;\n",
              "      flex-wrap:wrap;\n",
              "      gap: 12px;\n",
              "    }\n",
              "\n",
              "    .colab-df-convert {\n",
              "      background-color: #E8F0FE;\n",
              "      border: none;\n",
              "      border-radius: 50%;\n",
              "      cursor: pointer;\n",
              "      display: none;\n",
              "      fill: #1967D2;\n",
              "      height: 32px;\n",
              "      padding: 0 0 0 0;\n",
              "      width: 32px;\n",
              "    }\n",
              "\n",
              "    .colab-df-convert:hover {\n",
              "      background-color: #E2EBFA;\n",
              "      box-shadow: 0px 1px 2px rgba(60, 64, 67, 0.3), 0px 1px 3px 1px rgba(60, 64, 67, 0.15);\n",
              "      fill: #174EA6;\n",
              "    }\n",
              "\n",
              "    [theme=dark] .colab-df-convert {\n",
              "      background-color: #3B4455;\n",
              "      fill: #D2E3FC;\n",
              "    }\n",
              "\n",
              "    [theme=dark] .colab-df-convert:hover {\n",
              "      background-color: #434B5C;\n",
              "      box-shadow: 0px 1px 3px 1px rgba(0, 0, 0, 0.15);\n",
              "      filter: drop-shadow(0px 1px 2px rgba(0, 0, 0, 0.3));\n",
              "      fill: #FFFFFF;\n",
              "    }\n",
              "  </style>\n",
              "\n",
              "      <script>\n",
              "        const buttonEl =\n",
              "          document.querySelector('#df-885b0d31-290c-427d-885c-b6d450703749 button.colab-df-convert');\n",
              "        buttonEl.style.display =\n",
              "          google.colab.kernel.accessAllowed ? 'block' : 'none';\n",
              "\n",
              "        async function convertToInteractive(key) {\n",
              "          const element = document.querySelector('#df-885b0d31-290c-427d-885c-b6d450703749');\n",
              "          const dataTable =\n",
              "            await google.colab.kernel.invokeFunction('convertToInteractive',\n",
              "                                                     [key], {});\n",
              "          if (!dataTable) return;\n",
              "\n",
              "          const docLinkHtml = 'Like what you see? Visit the ' +\n",
              "            '<a target=\"_blank\" href=https://colab.research.google.com/notebooks/data_table.ipynb>data table notebook</a>'\n",
              "            + ' to learn more about interactive tables.';\n",
              "          element.innerHTML = '';\n",
              "          dataTable['output_type'] = 'display_data';\n",
              "          await google.colab.output.renderOutput(dataTable, element);\n",
              "          const docLink = document.createElement('div');\n",
              "          docLink.innerHTML = docLinkHtml;\n",
              "          element.appendChild(docLink);\n",
              "        }\n",
              "      </script>\n",
              "    </div>\n",
              "  </div>\n",
              "  "
            ]
          },
          "metadata": {},
          "execution_count": 14
        }
      ],
      "source": [
        "# посмотрим статистики\n",
        "user_events.describe()"
      ]
    },
    {
      "cell_type": "markdown",
      "metadata": {
        "id": "BrVuGT1gEIi3"
      },
      "source": [
        "Выведем важные статистики:"
      ]
    },
    {
      "cell_type": "code",
      "execution_count": 15,
      "metadata": {
        "colab": {
          "base_uri": "https://localhost:8080/"
        },
        "id": "IYUVNRB3HBgs",
        "outputId": "76d6731d-c03f-4ec9-c63b-d1f700a4f8cc"
      },
      "outputs": [
        {
          "output_type": "stream",
          "name": "stdout",
          "text": [
            "Наблюдений всего: 243713\n",
            "Уникальных пользователей: 7551 \n",
            "---\n",
            "Среднее число событий на пользователя: 32       \n",
            "Медиана числа событий на пользователя: 20       \n",
            "Мода числа событий на пользователя: 5       \n",
            "---\n",
            "Минимальное число событий на пользователя: 1       \n",
            "Максимальное число событий на пользователя: 2307       \n",
            "---\n",
            "Начало отслеживания событий: 2019-07-25 \n",
            "Конец отслеживания событий: 2019-08-07\n"
          ]
        }
      ],
      "source": [
        "# выведем количество событий в логе\n",
        "total_events = user_events['events'].sum()\n",
        "print('Наблюдений всего:', total_events)\n",
        "\n",
        "# выведем количество уникальных пользователей\n",
        "total_users = user_events['user_id'].nunique()\n",
        "print('Уникальных пользователей: {} \\n---'\n",
        "      .format(total_users))\n",
        "\n",
        "# среднее число и мода событий на пользователя\n",
        "print('Среднее число событий на пользователя: {} \\\n",
        "      \\nМедиана числа событий на пользователя: {} \\\n",
        "      \\nМода числа событий на пользователя: {} \\\n",
        "      \\n---'\\\n",
        "      .format(int(user_events['events'].mean()),\n",
        "              int(user_events['events'].median()),\n",
        "              int(user_events['events'].mode())))\n",
        "\n",
        "# минимальное и максимальное числособытий на пользователя\n",
        "print('Минимальное число событий на пользователя: {} \\\n",
        "      \\nМаксимальное число событий на пользователя: {} \\\n",
        "      \\n---'\\\n",
        "      .format(int(user_events['events'].min()),\n",
        "              int(user_events['events'].max())))\n",
        "\n",
        "# крайние даты событий\n",
        "print('Начало отслеживания событий: {} \\nКонец отслеживания событий: {}'\\\n",
        "      .format(df['date'].min(), df['date'].max()))"
      ]
    },
    {
      "cell_type": "markdown",
      "metadata": {
        "id": "14rGXH4Ot_7H"
      },
      "source": [
        "Видим большой разброс количества событий на пользователя, отфильтруем их до 100, чтобы посмотреть ближе без аномально больших значений, оценим распределение на графике:"
      ]
    },
    {
      "cell_type": "code",
      "execution_count": 16,
      "metadata": {
        "id": "P3Kz1vvNt_7H",
        "outputId": "eedb6e73-a1fb-4903-ab7f-cdc72b718633",
        "colab": {
          "base_uri": "https://localhost:8080/",
          "height": 410
        }
      },
      "outputs": [
        {
          "output_type": "display_data",
          "data": {
            "text/plain": [
              "<Figure size 864x432 with 1 Axes>"
            ],
            "image/png": "[encoded data removed]"
          },
          "metadata": {
            "image/png": {
              "width": 730,
              "height": 393
            }
          }
        }
      ],
      "source": [
        "# построим гистограмму для визуализации числа событий на пользователя\n",
        "plt.figure(figsize=(12,6))\n",
        "\n",
        "sns.histplot(data=user_events, x=user_events.query('0 < events <= 100')['events']);\n",
        "plt.title('Количество событий для одного пользователя', fontsize=14);\n",
        "plt.xlabel('Количество событий');\n",
        "plt.ylabel('Количество пользователей');"
      ]
    },
    {
      "cell_type": "markdown",
      "metadata": {
        "id": "pqGlQ05Ot_7H"
      },
      "source": [
        "Вывод: выделяется мода, а основная часть событий состредоточена в диапазоне до 40."
      ]
    },
    {
      "cell_type": "markdown",
      "metadata": {
        "id": "GOMMCG-rNgfm"
      },
      "source": [
        "Построим гистограмму по дате и времени:"
      ]
    },
    {
      "cell_type": "code",
      "execution_count": 17,
      "metadata": {
        "colab": {
          "base_uri": "https://localhost:8080/",
          "height": 460
        },
        "id": "eNHQPnqwc63f",
        "outputId": "581dd574-781c-43fc-e078-5f2a3c3513da"
      },
      "outputs": [
        {
          "output_type": "display_data",
          "data": {
            "text/plain": [
              "<Figure size 864x432 with 1 Axes>"
            ],
            "image/png": "[encoded data removed]"
          },
          "metadata": {
            "image/png": {
              "width": 737,
              "height": 443
            }
          }
        }
      ],
      "source": [
        "# построим гистограмму для визуализации по времени и дате\n",
        "plt.figure(figsize=(12,6))\n",
        "\n",
        "sns.histplot(data=df, x=df['timestamp']);\n",
        "plt.title('Количество событий по времени и дате', fontsize=14);\n",
        "plt.xlabel('Дата');\n",
        "plt.xticks(rotation=60);\n",
        "plt.ylabel('Количество событий');"
      ]
    },
    {
      "cell_type": "code",
      "execution_count": 18,
      "metadata": {
        "colab": {
          "base_uri": "https://localhost:8080/",
          "height": 488
        },
        "id": "UARrFNJtNlfR",
        "outputId": "5400daa5-4c49-4d1c-adec-38befdce2dd9"
      },
      "outputs": [
        {
          "output_type": "execute_result",
          "data": {
            "text/plain": [
              "          date  events\n",
              "0   2019-07-25       9\n",
              "1   2019-07-26      31\n",
              "2   2019-07-27      55\n",
              "3   2019-07-28     105\n",
              "4   2019-07-29     184\n",
              "5   2019-07-30     412\n",
              "6   2019-07-31    2030\n",
              "7   2019-08-01   36141\n",
              "8   2019-08-02   35554\n",
              "9   2019-08-03   33282\n",
              "10  2019-08-04   32968\n",
              "11  2019-08-05   36058\n",
              "12  2019-08-06   35788\n",
              "13  2019-08-07   31096"
            ],
            "text/html": [
              "\n",
              "  <div id=\"df-9381441d-257b-44a9-8925-cbc80553ccd3\">\n",
              "    <div class=\"colab-df-container\">\n",
              "      <div>\n",
              "<style scoped>\n",
              "    .dataframe tbody tr th:only-of-type {\n",
              "        vertical-align: middle;\n",
              "    }\n",
              "\n",
              "    .dataframe tbody tr th {\n",
              "        vertical-align: top;\n",
              "    }\n",
              "\n",
              "    .dataframe thead th {\n",
              "        text-align: right;\n",
              "    }\n",
              "</style>\n",
              "<table border=\"1\" class=\"dataframe\">\n",
              "  <thead>\n",
              "    <tr style=\"text-align: right;\">\n",
              "      <th></th>\n",
              "      <th>date</th>\n",
              "      <th>events</th>\n",
              "    </tr>\n",
              "  </thead>\n",
              "  <tbody>\n",
              "    <tr>\n",
              "      <th>0</th>\n",
              "      <td>2019-07-25</td>\n",
              "      <td>9</td>\n",
              "    </tr>\n",
              "    <tr>\n",
              "      <th>1</th>\n",
              "      <td>2019-07-26</td>\n",
              "      <td>31</td>\n",
              "    </tr>\n",
              "    <tr>\n",
              "      <th>2</th>\n",
              "      <td>2019-07-27</td>\n",
              "      <td>55</td>\n",
              "    </tr>\n",
              "    <tr>\n",
              "      <th>3</th>\n",
              "      <td>2019-07-28</td>\n",
              "      <td>105</td>\n",
              "    </tr>\n",
              "    <tr>\n",
              "      <th>4</th>\n",
              "      <td>2019-07-29</td>\n",
              "      <td>184</td>\n",
              "    </tr>\n",
              "    <tr>\n",
              "      <th>5</th>\n",
              "      <td>2019-07-30</td>\n",
              "      <td>412</td>\n",
              "    </tr>\n",
              "    <tr>\n",
              "      <th>6</th>\n",
              "      <td>2019-07-31</td>\n",
              "      <td>2030</td>\n",
              "    </tr>\n",
              "    <tr>\n",
              "      <th>7</th>\n",
              "      <td>2019-08-01</td>\n",
              "      <td>36141</td>\n",
              "    </tr>\n",
              "    <tr>\n",
              "      <th>8</th>\n",
              "      <td>2019-08-02</td>\n",
              "      <td>35554</td>\n",
              "    </tr>\n",
              "    <tr>\n",
              "      <th>9</th>\n",
              "      <td>2019-08-03</td>\n",
              "      <td>33282</td>\n",
              "    </tr>\n",
              "    <tr>\n",
              "      <th>10</th>\n",
              "      <td>2019-08-04</td>\n",
              "      <td>32968</td>\n",
              "    </tr>\n",
              "    <tr>\n",
              "      <th>11</th>\n",
              "      <td>2019-08-05</td>\n",
              "      <td>36058</td>\n",
              "    </tr>\n",
              "    <tr>\n",
              "      <th>12</th>\n",
              "      <td>2019-08-06</td>\n",
              "      <td>35788</td>\n",
              "    </tr>\n",
              "    <tr>\n",
              "      <th>13</th>\n",
              "      <td>2019-08-07</td>\n",
              "      <td>31096</td>\n",
              "    </tr>\n",
              "  </tbody>\n",
              "</table>\n",
              "</div>\n",
              "      <button class=\"colab-df-convert\" onclick=\"convertToInteractive('df-9381441d-257b-44a9-8925-cbc80553ccd3')\"\n",
              "              title=\"Convert this dataframe to an interactive table.\"\n",
              "              style=\"display:none;\">\n",
              "        \n",
              "  <svg xmlns=\"http://www.w3.org/2000/svg\" height=\"24px\"viewBox=\"0 0 24 24\"\n",
              "       width=\"24px\">\n",
              "    <path d=\"M0 0h24v24H0V0z\" fill=\"none\"/>\n",
              "    <path d=\"M18.56 5.44l.94 2.06.94-2.06 2.06-.94-2.06-.94-.94-2.06-.94 2.06-2.06.94zm-11 1L8.5 8.5l.94-2.06 2.06-.94-2.06-.94L8.5 2.5l-.94 2.06-2.06.94zm10 10l.94 2.06.94-2.06 2.06-.94-2.06-.94-.94-2.06-.94 2.06-2.06.94z\"/><path d=\"M17.41 7.96l-1.37-1.37c-.4-.4-.92-.59-1.43-.59-.52 0-1.04.2-1.43.59L10.3 9.45l-7.72 7.72c-.78.78-.78 2.05 0 2.83L4 21.41c.39.39.9.59 1.41.59.51 0 1.02-.2 1.41-.59l7.78-7.78 2.81-2.81c.8-.78.8-2.07 0-2.86zM5.41 20L4 18.59l7.72-7.72 1.47 1.35L5.41 20z\"/>\n",
              "  </svg>\n",
              "      </button>\n",
              "      \n",
              "  <style>\n",
              "    .colab-df-container {\n",
              "      display:flex;\n",
              "      flex-wrap:wrap;\n",
              "      gap: 12px;\n",
              "    }\n",
              "\n",
              "    .colab-df-convert {\n",
              "      background-color: #E8F0FE;\n",
              "      border: none;\n",
              "      border-radius: 50%;\n",
              "      cursor: pointer;\n",
              "      display: none;\n",
              "      fill: #1967D2;\n",
              "      height: 32px;\n",
              "      padding: 0 0 0 0;\n",
              "      width: 32px;\n",
              "    }\n",
              "\n",
              "    .colab-df-convert:hover {\n",
              "      background-color: #E2EBFA;\n",
              "      box-shadow: 0px 1px 2px rgba(60, 64, 67, 0.3), 0px 1px 3px 1px rgba(60, 64, 67, 0.15);\n",
              "      fill: #174EA6;\n",
              "    }\n",
              "\n",
              "    [theme=dark] .colab-df-convert {\n",
              "      background-color: #3B4455;\n",
              "      fill: #D2E3FC;\n",
              "    }\n",
              "\n",
              "    [theme=dark] .colab-df-convert:hover {\n",
              "      background-color: #434B5C;\n",
              "      box-shadow: 0px 1px 3px 1px rgba(0, 0, 0, 0.15);\n",
              "      filter: drop-shadow(0px 1px 2px rgba(0, 0, 0, 0.3));\n",
              "      fill: #FFFFFF;\n",
              "    }\n",
              "  </style>\n",
              "\n",
              "      <script>\n",
              "        const buttonEl =\n",
              "          document.querySelector('#df-9381441d-257b-44a9-8925-cbc80553ccd3 button.colab-df-convert');\n",
              "        buttonEl.style.display =\n",
              "          google.colab.kernel.accessAllowed ? 'block' : 'none';\n",
              "\n",
              "        async function convertToInteractive(key) {\n",
              "          const element = document.querySelector('#df-9381441d-257b-44a9-8925-cbc80553ccd3');\n",
              "          const dataTable =\n",
              "            await google.colab.kernel.invokeFunction('convertToInteractive',\n",
              "                                                     [key], {});\n",
              "          if (!dataTable) return;\n",
              "\n",
              "          const docLinkHtml = 'Like what you see? Visit the ' +\n",
              "            '<a target=\"_blank\" href=https://colab.research.google.com/notebooks/data_table.ipynb>data table notebook</a>'\n",
              "            + ' to learn more about interactive tables.';\n",
              "          element.innerHTML = '';\n",
              "          dataTable['output_type'] = 'display_data';\n",
              "          await google.colab.output.renderOutput(dataTable, element);\n",
              "          const docLink = document.createElement('div');\n",
              "          docLink.innerHTML = docLinkHtml;\n",
              "          element.appendChild(docLink);\n",
              "        }\n",
              "      </script>\n",
              "    </div>\n",
              "  </div>\n",
              "  "
            ]
          },
          "metadata": {},
          "execution_count": 18
        }
      ],
      "source": [
        "# сгруппируем данные по дате и количеству событий\n",
        "events_by_date = df \\\n",
        "    .groupby(['date'], as_index=False) \\\n",
        "    .agg({'timestamp' : 'count'}) \\\n",
        "    .rename(columns=({'timestamp' : 'events'})) \\\n",
        "    .sort_values(by='date', ascending=True)\n",
        "\n",
        "events_by_date"
      ]
    },
    {
      "cell_type": "markdown",
      "metadata": {
        "id": "AoP0zTzqN7vv"
      },
      "source": [
        "Видим, что у нас есть данные за 2 недели, но на первой неделе было мало событий.\n",
        "\n",
        "Полные данные отслеживаются с 2019-08-01 по 2019-08-07 – за 7 дней."
      ]
    },
    {
      "cell_type": "markdown",
      "metadata": {
        "id": "Tbhr-eYVecUG"
      },
      "source": [
        "Посчитаем, много ли событий и пользователей мы потеряли, отбросив старые данные:"
      ]
    },
    {
      "cell_type": "code",
      "execution_count": 19,
      "metadata": {
        "colab": {
          "base_uri": "https://localhost:8080/",
          "height": 206
        },
        "id": "MaWx5wXOecpu",
        "outputId": "4a853d56-5a61-4ed2-9cdd-9b8185a9d906"
      },
      "outputs": [
        {
          "output_type": "execute_result",
          "data": {
            "text/plain": [
              "   index                 event              user_id           timestamp group  \\\n",
              "0   2826              tutorial  3737462046622621720 2019-08-01 00:07:28    A1   \n",
              "1   2827    main_screen_appear  3737462046622621720 2019-08-01 00:08:00    A1   \n",
              "2   2828    main_screen_appear  3737462046622621720 2019-08-01 00:08:55    A1   \n",
              "3   2829  offers_screen_appear  3737462046622621720 2019-08-01 00:08:58    A1   \n",
              "4   2830    main_screen_appear  1433840883824088890 2019-08-01 00:08:59    A2   \n",
              "\n",
              "         date  \n",
              "0  2019-08-01  \n",
              "1  2019-08-01  \n",
              "2  2019-08-01  \n",
              "3  2019-08-01  \n",
              "4  2019-08-01  "
            ],
            "text/html": [
              "\n",
              "  <div id=\"df-958f6d8b-7af3-459a-a67b-c0ea76c42ae9\">\n",
              "    <div class=\"colab-df-container\">\n",
              "      <div>\n",
              "<style scoped>\n",
              "    .dataframe tbody tr th:only-of-type {\n",
              "        vertical-align: middle;\n",
              "    }\n",
              "\n",
              "    .dataframe tbody tr th {\n",
              "        vertical-align: top;\n",
              "    }\n",
              "\n",
              "    .dataframe thead th {\n",
              "        text-align: right;\n",
              "    }\n",
              "</style>\n",
              "<table border=\"1\" class=\"dataframe\">\n",
              "  <thead>\n",
              "    <tr style=\"text-align: right;\">\n",
              "      <th></th>\n",
              "      <th>index</th>\n",
              "      <th>event</th>\n",
              "      <th>user_id</th>\n",
              "      <th>timestamp</th>\n",
              "      <th>group</th>\n",
              "      <th>date</th>\n",
              "    </tr>\n",
              "  </thead>\n",
              "  <tbody>\n",
              "    <tr>\n",
              "      <th>0</th>\n",
              "      <td>2826</td>\n",
              "      <td>tutorial</td>\n",
              "      <td>3737462046622621720</td>\n",
              "      <td>2019-08-01 00:07:28</td>\n",
              "      <td>A1</td>\n",
              "      <td>2019-08-01</td>\n",
              "    </tr>\n",
              "    <tr>\n",
              "      <th>1</th>\n",
              "      <td>2827</td>\n",
              "      <td>main_screen_appear</td>\n",
              "      <td>3737462046622621720</td>\n",
              "      <td>2019-08-01 00:08:00</td>\n",
              "      <td>A1</td>\n",
              "      <td>2019-08-01</td>\n",
              "    </tr>\n",
              "    <tr>\n",
              "      <th>2</th>\n",
              "      <td>2828</td>\n",
              "      <td>main_screen_appear</td>\n",
              "      <td>3737462046622621720</td>\n",
              "      <td>2019-08-01 00:08:55</td>\n",
              "      <td>A1</td>\n",
              "      <td>2019-08-01</td>\n",
              "    </tr>\n",
              "    <tr>\n",
              "      <th>3</th>\n",
              "      <td>2829</td>\n",
              "      <td>offers_screen_appear</td>\n",
              "      <td>3737462046622621720</td>\n",
              "      <td>2019-08-01 00:08:58</td>\n",
              "      <td>A1</td>\n",
              "      <td>2019-08-01</td>\n",
              "    </tr>\n",
              "    <tr>\n",
              "      <th>4</th>\n",
              "      <td>2830</td>\n",
              "      <td>main_screen_appear</td>\n",
              "      <td>1433840883824088890</td>\n",
              "      <td>2019-08-01 00:08:59</td>\n",
              "      <td>A2</td>\n",
              "      <td>2019-08-01</td>\n",
              "    </tr>\n",
              "  </tbody>\n",
              "</table>\n",
              "</div>\n",
              "      <button class=\"colab-df-convert\" onclick=\"convertToInteractive('df-958f6d8b-7af3-459a-a67b-c0ea76c42ae9')\"\n",
              "              title=\"Convert this dataframe to an interactive table.\"\n",
              "              style=\"display:none;\">\n",
              "        \n",
              "  <svg xmlns=\"http://www.w3.org/2000/svg\" height=\"24px\"viewBox=\"0 0 24 24\"\n",
              "       width=\"24px\">\n",
              "    <path d=\"M0 0h24v24H0V0z\" fill=\"none\"/>\n",
              "    <path d=\"M18.56 5.44l.94 2.06.94-2.06 2.06-.94-2.06-.94-.94-2.06-.94 2.06-2.06.94zm-11 1L8.5 8.5l.94-2.06 2.06-.94-2.06-.94L8.5 2.5l-.94 2.06-2.06.94zm10 10l.94 2.06.94-2.06 2.06-.94-2.06-.94-.94-2.06-.94 2.06-2.06.94z\"/><path d=\"M17.41 7.96l-1.37-1.37c-.4-.4-.92-.59-1.43-.59-.52 0-1.04.2-1.43.59L10.3 9.45l-7.72 7.72c-.78.78-.78 2.05 0 2.83L4 21.41c.39.39.9.59 1.41.59.51 0 1.02-.2 1.41-.59l7.78-7.78 2.81-2.81c.8-.78.8-2.07 0-2.86zM5.41 20L4 18.59l7.72-7.72 1.47 1.35L5.41 20z\"/>\n",
              "  </svg>\n",
              "      </button>\n",
              "      \n",
              "  <style>\n",
              "    .colab-df-container {\n",
              "      display:flex;\n",
              "      flex-wrap:wrap;\n",
              "      gap: 12px;\n",
              "    }\n",
              "\n",
              "    .colab-df-convert {\n",
              "      background-color: #E8F0FE;\n",
              "      border: none;\n",
              "      border-radius: 50%;\n",
              "      cursor: pointer;\n",
              "      display: none;\n",
              "      fill: #1967D2;\n",
              "      height: 32px;\n",
              "      padding: 0 0 0 0;\n",
              "      width: 32px;\n",
              "    }\n",
              "\n",
              "    .colab-df-convert:hover {\n",
              "      background-color: #E2EBFA;\n",
              "      box-shadow: 0px 1px 2px rgba(60, 64, 67, 0.3), 0px 1px 3px 1px rgba(60, 64, 67, 0.15);\n",
              "      fill: #174EA6;\n",
              "    }\n",
              "\n",
              "    [theme=dark] .colab-df-convert {\n",
              "      background-color: #3B4455;\n",
              "      fill: #D2E3FC;\n",
              "    }\n",
              "\n",
              "    [theme=dark] .colab-df-convert:hover {\n",
              "      background-color: #434B5C;\n",
              "      box-shadow: 0px 1px 3px 1px rgba(0, 0, 0, 0.15);\n",
              "      filter: drop-shadow(0px 1px 2px rgba(0, 0, 0, 0.3));\n",
              "      fill: #FFFFFF;\n",
              "    }\n",
              "  </style>\n",
              "\n",
              "      <script>\n",
              "        const buttonEl =\n",
              "          document.querySelector('#df-958f6d8b-7af3-459a-a67b-c0ea76c42ae9 button.colab-df-convert');\n",
              "        buttonEl.style.display =\n",
              "          google.colab.kernel.accessAllowed ? 'block' : 'none';\n",
              "\n",
              "        async function convertToInteractive(key) {\n",
              "          const element = document.querySelector('#df-958f6d8b-7af3-459a-a67b-c0ea76c42ae9');\n",
              "          const dataTable =\n",
              "            await google.colab.kernel.invokeFunction('convertToInteractive',\n",
              "                                                     [key], {});\n",
              "          if (!dataTable) return;\n",
              "\n",
              "          const docLinkHtml = 'Like what you see? Visit the ' +\n",
              "            '<a target=\"_blank\" href=https://colab.research.google.com/notebooks/data_table.ipynb>data table notebook</a>'\n",
              "            + ' to learn more about interactive tables.';\n",
              "          element.innerHTML = '';\n",
              "          dataTable['output_type'] = 'display_data';\n",
              "          await google.colab.output.renderOutput(dataTable, element);\n",
              "          const docLink = document.createElement('div');\n",
              "          docLink.innerHTML = docLinkHtml;\n",
              "          element.appendChild(docLink);\n",
              "        }\n",
              "      </script>\n",
              "    </div>\n",
              "  </div>\n",
              "  "
            ]
          },
          "metadata": {},
          "execution_count": 19
        }
      ],
      "source": [
        "# создадим копию датафрейма с очищенными по дате данными\n",
        "date_threshold = datetime.date(2019, 8, 1)\n",
        "df_filtered = df.query('date >= @date_threshold').reset_index()\n",
        "\n",
        "total_events_filtered = len(df_filtered)\n",
        "total_users_filtered = df_filtered['user_id'].nunique()\n",
        "df_filtered.head()"
      ]
    },
    {
      "cell_type": "code",
      "execution_count": 20,
      "metadata": {
        "colab": {
          "base_uri": "https://localhost:8080/"
        },
        "id": "h-v-bJFQj3OY",
        "outputId": "ded083bb-4b79-42fa-9d9d-73b1a51e97f2"
      },
      "outputs": [
        {
          "output_type": "stream",
          "name": "stdout",
          "text": [
            "Количество событий до фильтрации: 243713, после: 240887. \n",
            "Разница: 2826 (1.16%)\n",
            "Количество пользователей до фильтрации: 7551, после: 7534. \n",
            "Разница: 17 (0.23%)\n"
          ]
        }
      ],
      "source": [
        "print('Количество событий до фильтрации: {}, после: {}. \\nРазница: {} ({}%)' \\\n",
        "      .format(total_events, total_events_filtered, \\\n",
        "              total_events - total_events_filtered, \\\n",
        "              round(100 - total_events_filtered / total_events * 100, 2)))\n",
        "print('Количество пользователей до фильтрации: {}, после: {}. \\nРазница: {} ({}%)' \\\n",
        "      .format(total_users, total_users_filtered, \\\n",
        "              total_users - total_users_filtered, \\\n",
        "              round(100 - total_users_filtered / total_users * 100, 2)))"
      ]
    },
    {
      "cell_type": "markdown",
      "metadata": {
        "id": "hBOytd6_l3pi"
      },
      "source": [
        "Проверим, что у нас есть пользователи из всех трёх экспериментальных групп:"
      ]
    },
    {
      "cell_type": "code",
      "execution_count": 21,
      "metadata": {
        "colab": {
          "base_uri": "https://localhost:8080/"
        },
        "id": "gcHpCQP627eL",
        "outputId": "0ddc099e-5f9d-4fc2-ace9-865b02479420"
      },
      "outputs": [
        {
          "output_type": "execute_result",
          "data": {
            "text/plain": [
              "group\n",
              "A1    80181\n",
              "A2    77950\n",
              "B     85582\n",
              "Name: event, dtype: int64"
            ]
          },
          "metadata": {},
          "execution_count": 21
        }
      ],
      "source": [
        "# подсчитаем количество событий в каждой экспериментальной группе оригинального датафрейма\n",
        "df_users = df.groupby('group')['event'].count()\n",
        "df_users"
      ]
    },
    {
      "cell_type": "code",
      "execution_count": 22,
      "metadata": {
        "colab": {
          "base_uri": "https://localhost:8080/"
        },
        "id": "dIYtgCgAjtuS",
        "outputId": "59076c99-acd6-4a6d-dd1e-833b703189f1"
      },
      "outputs": [
        {
          "output_type": "execute_result",
          "data": {
            "text/plain": [
              "group\n",
              "A1    79302\n",
              "A2    77022\n",
              "B     84563\n",
              "Name: event, dtype: int64"
            ]
          },
          "metadata": {},
          "execution_count": 22
        }
      ],
      "source": [
        "# подсчитаем количество событий в каждой экспериментальной группе отфильтрованного датафрейма\n",
        "df_filtered_groups = df_filtered.groupby('group')['event'].count()\n",
        "df_filtered_groups"
      ]
    },
    {
      "cell_type": "code",
      "execution_count": 23,
      "metadata": {
        "colab": {
          "base_uri": "https://localhost:8080/"
        },
        "id": "rUjv5ALQl9sF",
        "outputId": "f972c8d4-18ca-4654-ba43-7bef3b9da8bf"
      },
      "outputs": [
        {
          "output_type": "stream",
          "name": "stdout",
          "text": [
            "Потери в группах относительно оригинального датафрейма:        \n",
            "A1: 879 (1.1%) \n",
            "A2: 928 (1.19%) \n",
            "B: 1019 (1.19%)\n"
          ]
        }
      ],
      "source": [
        "# расссчитаем потери данных относительно оригинального датафрейма\n",
        "delta_a1 = df_users[0] - df_filtered_groups[0]\n",
        "delta_a2 = df_users[1] - df_filtered_groups[1]\n",
        "delta_b = df_users[2] - df_filtered_groups[2]\n",
        "\n",
        "\n",
        "print('Потери в группах относительно оригинального датафрейма: \\\n",
        "       \\nA1: {} ({}%) \\nA2: {} ({}%) \\nB: {} ({}%)' \\\n",
        "      .format(delta_a1, round(delta_a1 / df_users[0] * 100, 2), \\\n",
        "              delta_a2, round(delta_a2 / df_users[1] * 100, 2), \\\n",
        "              delta_b, round(delta_b / df_users[2] * 100, 2)))"
      ]
    },
    {
      "cell_type": "markdown",
      "metadata": {
        "id": "12Owdw3-qfiX"
      },
      "source": [
        "**Вывод:**\n",
        "\n",
        "Мы изучили и проверили данные. \n",
        "\n",
        "В начальном датафрейме имеются данные за 14 дней, но только 7 дней подходят для анализа, так как содержат полные данные. Мы собрали новый датафрейм с отфильтрованными данными с даты, когда события стали поступать полноценно.\n",
        "\n",
        "Мы проверили процент потерь данных – он оказался незначительным (не более 1.2%). Потери в тестовых группах также небольшие.\n",
        "\n",
        "Можно приступать к работе с отфильтрованным датафреймом."
      ]
    },
    {
      "cell_type": "markdown",
      "metadata": {
        "id": "HJ7IgFLDrQWi"
      },
      "source": [
        "---"
      ]
    },
    {
      "cell_type": "markdown",
      "metadata": {
        "id": "RxICR2tAqX5j"
      },
      "source": [
        "## Изучение воронки событий\n"
      ]
    },
    {
      "cell_type": "markdown",
      "metadata": {
        "id": "A_O_QdnGqPYs"
      },
      "source": [
        "Посмотрим, какие события есть в логах, как часто они встречаются. \n",
        "\n",
        "Отсортируем события по частоте:"
      ]
    },
    {
      "cell_type": "code",
      "execution_count": 24,
      "metadata": {
        "colab": {
          "base_uri": "https://localhost:8080/",
          "height": 206
        },
        "id": "Treu-HCnvIx5",
        "outputId": "b149c894-cccd-40ff-9947-be70c35b4191"
      },
      "outputs": [
        {
          "output_type": "execute_result",
          "data": {
            "text/plain": [
              "                       event  total_events\n",
              "0         main_screen_appear        117328\n",
              "1       offers_screen_appear         46333\n",
              "2         cart_screen_appear         42303\n",
              "3  payment_screen_successful         33918\n",
              "4                   tutorial          1005"
            ],
            "text/html": [
              "\n",
              "  <div id=\"df-7c65a683-6f9c-44c4-a0ac-80f97364ad7e\">\n",
              "    <div class=\"colab-df-container\">\n",
              "      <div>\n",
              "<style scoped>\n",
              "    .dataframe tbody tr th:only-of-type {\n",
              "        vertical-align: middle;\n",
              "    }\n",
              "\n",
              "    .dataframe tbody tr th {\n",
              "        vertical-align: top;\n",
              "    }\n",
              "\n",
              "    .dataframe thead th {\n",
              "        text-align: right;\n",
              "    }\n",
              "</style>\n",
              "<table border=\"1\" class=\"dataframe\">\n",
              "  <thead>\n",
              "    <tr style=\"text-align: right;\">\n",
              "      <th></th>\n",
              "      <th>event</th>\n",
              "      <th>total_events</th>\n",
              "    </tr>\n",
              "  </thead>\n",
              "  <tbody>\n",
              "    <tr>\n",
              "      <th>0</th>\n",
              "      <td>main_screen_appear</td>\n",
              "      <td>117328</td>\n",
              "    </tr>\n",
              "    <tr>\n",
              "      <th>1</th>\n",
              "      <td>offers_screen_appear</td>\n",
              "      <td>46333</td>\n",
              "    </tr>\n",
              "    <tr>\n",
              "      <th>2</th>\n",
              "      <td>cart_screen_appear</td>\n",
              "      <td>42303</td>\n",
              "    </tr>\n",
              "    <tr>\n",
              "      <th>3</th>\n",
              "      <td>payment_screen_successful</td>\n",
              "      <td>33918</td>\n",
              "    </tr>\n",
              "    <tr>\n",
              "      <th>4</th>\n",
              "      <td>tutorial</td>\n",
              "      <td>1005</td>\n",
              "    </tr>\n",
              "  </tbody>\n",
              "</table>\n",
              "</div>\n",
              "      <button class=\"colab-df-convert\" onclick=\"convertToInteractive('df-7c65a683-6f9c-44c4-a0ac-80f97364ad7e')\"\n",
              "              title=\"Convert this dataframe to an interactive table.\"\n",
              "              style=\"display:none;\">\n",
              "        \n",
              "  <svg xmlns=\"http://www.w3.org/2000/svg\" height=\"24px\"viewBox=\"0 0 24 24\"\n",
              "       width=\"24px\">\n",
              "    <path d=\"M0 0h24v24H0V0z\" fill=\"none\"/>\n",
              "    <path d=\"M18.56 5.44l.94 2.06.94-2.06 2.06-.94-2.06-.94-.94-2.06-.94 2.06-2.06.94zm-11 1L8.5 8.5l.94-2.06 2.06-.94-2.06-.94L8.5 2.5l-.94 2.06-2.06.94zm10 10l.94 2.06.94-2.06 2.06-.94-2.06-.94-.94-2.06-.94 2.06-2.06.94z\"/><path d=\"M17.41 7.96l-1.37-1.37c-.4-.4-.92-.59-1.43-.59-.52 0-1.04.2-1.43.59L10.3 9.45l-7.72 7.72c-.78.78-.78 2.05 0 2.83L4 21.41c.39.39.9.59 1.41.59.51 0 1.02-.2 1.41-.59l7.78-7.78 2.81-2.81c.8-.78.8-2.07 0-2.86zM5.41 20L4 18.59l7.72-7.72 1.47 1.35L5.41 20z\"/>\n",
              "  </svg>\n",
              "      </button>\n",
              "      \n",
              "  <style>\n",
              "    .colab-df-container {\n",
              "      display:flex;\n",
              "      flex-wrap:wrap;\n",
              "      gap: 12px;\n",
              "    }\n",
              "\n",
              "    .colab-df-convert {\n",
              "      background-color: #E8F0FE;\n",
              "      border: none;\n",
              "      border-radius: 50%;\n",
              "      cursor: pointer;\n",
              "      display: none;\n",
              "      fill: #1967D2;\n",
              "      height: 32px;\n",
              "      padding: 0 0 0 0;\n",
              "      width: 32px;\n",
              "    }\n",
              "\n",
              "    .colab-df-convert:hover {\n",
              "      background-color: #E2EBFA;\n",
              "      box-shadow: 0px 1px 2px rgba(60, 64, 67, 0.3), 0px 1px 3px 1px rgba(60, 64, 67, 0.15);\n",
              "      fill: #174EA6;\n",
              "    }\n",
              "\n",
              "    [theme=dark] .colab-df-convert {\n",
              "      background-color: #3B4455;\n",
              "      fill: #D2E3FC;\n",
              "    }\n",
              "\n",
              "    [theme=dark] .colab-df-convert:hover {\n",
              "      background-color: #434B5C;\n",
              "      box-shadow: 0px 1px 3px 1px rgba(0, 0, 0, 0.15);\n",
              "      filter: drop-shadow(0px 1px 2px rgba(0, 0, 0, 0.3));\n",
              "      fill: #FFFFFF;\n",
              "    }\n",
              "  </style>\n",
              "\n",
              "      <script>\n",
              "        const buttonEl =\n",
              "          document.querySelector('#df-7c65a683-6f9c-44c4-a0ac-80f97364ad7e button.colab-df-convert');\n",
              "        buttonEl.style.display =\n",
              "          google.colab.kernel.accessAllowed ? 'block' : 'none';\n",
              "\n",
              "        async function convertToInteractive(key) {\n",
              "          const element = document.querySelector('#df-7c65a683-6f9c-44c4-a0ac-80f97364ad7e');\n",
              "          const dataTable =\n",
              "            await google.colab.kernel.invokeFunction('convertToInteractive',\n",
              "                                                     [key], {});\n",
              "          if (!dataTable) return;\n",
              "\n",
              "          const docLinkHtml = 'Like what you see? Visit the ' +\n",
              "            '<a target=\"_blank\" href=https://colab.research.google.com/notebooks/data_table.ipynb>data table notebook</a>'\n",
              "            + ' to learn more about interactive tables.';\n",
              "          element.innerHTML = '';\n",
              "          dataTable['output_type'] = 'display_data';\n",
              "          await google.colab.output.renderOutput(dataTable, element);\n",
              "          const docLink = document.createElement('div');\n",
              "          docLink.innerHTML = docLinkHtml;\n",
              "          element.appendChild(docLink);\n",
              "        }\n",
              "      </script>\n",
              "    </div>\n",
              "  </div>\n",
              "  "
            ]
          },
          "metadata": {},
          "execution_count": 24
        }
      ],
      "source": [
        "# сгруппируем данные событиям с сортировкой по частоте\n",
        "events_count = df_filtered \\\n",
        "              .groupby(['event']) \\\n",
        "              .agg({'timestamp' : 'count'}) \\\n",
        "              .rename(columns=({'timestamp' : 'total_events'})) \\\n",
        "              .sort_values(by='total_events', ascending=False) \\\n",
        "              .reset_index()\n",
        "              \n",
        "events_count"
      ]
    },
    {
      "cell_type": "markdown",
      "metadata": {
        "id": "4k6N0_fJ1cUh"
      },
      "source": [
        "Всего имеется 5 типов событий. Самое частое – `main_screen_appear`."
      ]
    },
    {
      "cell_type": "markdown",
      "metadata": {
        "id": "9AM5Xgl7uHAa"
      },
      "source": [
        "Посчитаем, сколько пользователей совершали каждое из этих событий. \n",
        "\n",
        "Отсортируем события по числу пользователей. \n",
        "\n",
        "Посчитаем долю пользователей, которые хоть раз совершали событие."
      ]
    },
    {
      "cell_type": "code",
      "execution_count": 25,
      "metadata": {
        "id": "4UYxxOT7t_7K",
        "outputId": "5bcf6469-7013-44bd-913f-4ee31a62111b",
        "colab": {
          "base_uri": "https://localhost:8080/",
          "height": 206
        }
      },
      "outputs": [
        {
          "output_type": "execute_result",
          "data": {
            "text/plain": [
              "                       event  total_users  percent_initial  percent_previous  \\\n",
              "0         main_screen_appear         7419           100.00            100.00   \n",
              "1       offers_screen_appear         4593            61.91             61.91   \n",
              "2         cart_screen_appear         3734            50.33             81.30   \n",
              "3  payment_screen_successful         3539            47.70             94.78   \n",
              "4                   tutorial          840            11.32             23.74   \n",
              "\n",
              "   percent_total  \n",
              "0          98.25  \n",
              "1          60.83  \n",
              "2          49.45  \n",
              "3          46.87  \n",
              "4          11.12  "
            ],
            "text/html": [
              "\n",
              "  <div id=\"df-bec7c1e3-5631-4dd9-9863-86064d00555a\">\n",
              "    <div class=\"colab-df-container\">\n",
              "      <div>\n",
              "<style scoped>\n",
              "    .dataframe tbody tr th:only-of-type {\n",
              "        vertical-align: middle;\n",
              "    }\n",
              "\n",
              "    .dataframe tbody tr th {\n",
              "        vertical-align: top;\n",
              "    }\n",
              "\n",
              "    .dataframe thead th {\n",
              "        text-align: right;\n",
              "    }\n",
              "</style>\n",
              "<table border=\"1\" class=\"dataframe\">\n",
              "  <thead>\n",
              "    <tr style=\"text-align: right;\">\n",
              "      <th></th>\n",
              "      <th>event</th>\n",
              "      <th>total_users</th>\n",
              "      <th>percent_initial</th>\n",
              "      <th>percent_previous</th>\n",
              "      <th>percent_total</th>\n",
              "    </tr>\n",
              "  </thead>\n",
              "  <tbody>\n",
              "    <tr>\n",
              "      <th>0</th>\n",
              "      <td>main_screen_appear</td>\n",
              "      <td>7419</td>\n",
              "      <td>100.00</td>\n",
              "      <td>100.00</td>\n",
              "      <td>98.25</td>\n",
              "    </tr>\n",
              "    <tr>\n",
              "      <th>1</th>\n",
              "      <td>offers_screen_appear</td>\n",
              "      <td>4593</td>\n",
              "      <td>61.91</td>\n",
              "      <td>61.91</td>\n",
              "      <td>60.83</td>\n",
              "    </tr>\n",
              "    <tr>\n",
              "      <th>2</th>\n",
              "      <td>cart_screen_appear</td>\n",
              "      <td>3734</td>\n",
              "      <td>50.33</td>\n",
              "      <td>81.30</td>\n",
              "      <td>49.45</td>\n",
              "    </tr>\n",
              "    <tr>\n",
              "      <th>3</th>\n",
              "      <td>payment_screen_successful</td>\n",
              "      <td>3539</td>\n",
              "      <td>47.70</td>\n",
              "      <td>94.78</td>\n",
              "      <td>46.87</td>\n",
              "    </tr>\n",
              "    <tr>\n",
              "      <th>4</th>\n",
              "      <td>tutorial</td>\n",
              "      <td>840</td>\n",
              "      <td>11.32</td>\n",
              "      <td>23.74</td>\n",
              "      <td>11.12</td>\n",
              "    </tr>\n",
              "  </tbody>\n",
              "</table>\n",
              "</div>\n",
              "      <button class=\"colab-df-convert\" onclick=\"convertToInteractive('df-bec7c1e3-5631-4dd9-9863-86064d00555a')\"\n",
              "              title=\"Convert this dataframe to an interactive table.\"\n",
              "              style=\"display:none;\">\n",
              "        \n",
              "  <svg xmlns=\"http://www.w3.org/2000/svg\" height=\"24px\"viewBox=\"0 0 24 24\"\n",
              "       width=\"24px\">\n",
              "    <path d=\"M0 0h24v24H0V0z\" fill=\"none\"/>\n",
              "    <path d=\"M18.56 5.44l.94 2.06.94-2.06 2.06-.94-2.06-.94-.94-2.06-.94 2.06-2.06.94zm-11 1L8.5 8.5l.94-2.06 2.06-.94-2.06-.94L8.5 2.5l-.94 2.06-2.06.94zm10 10l.94 2.06.94-2.06 2.06-.94-2.06-.94-.94-2.06-.94 2.06-2.06.94z\"/><path d=\"M17.41 7.96l-1.37-1.37c-.4-.4-.92-.59-1.43-.59-.52 0-1.04.2-1.43.59L10.3 9.45l-7.72 7.72c-.78.78-.78 2.05 0 2.83L4 21.41c.39.39.9.59 1.41.59.51 0 1.02-.2 1.41-.59l7.78-7.78 2.81-2.81c.8-.78.8-2.07 0-2.86zM5.41 20L4 18.59l7.72-7.72 1.47 1.35L5.41 20z\"/>\n",
              "  </svg>\n",
              "      </button>\n",
              "      \n",
              "  <style>\n",
              "    .colab-df-container {\n",
              "      display:flex;\n",
              "      flex-wrap:wrap;\n",
              "      gap: 12px;\n",
              "    }\n",
              "\n",
              "    .colab-df-convert {\n",
              "      background-color: #E8F0FE;\n",
              "      border: none;\n",
              "      border-radius: 50%;\n",
              "      cursor: pointer;\n",
              "      display: none;\n",
              "      fill: #1967D2;\n",
              "      height: 32px;\n",
              "      padding: 0 0 0 0;\n",
              "      width: 32px;\n",
              "    }\n",
              "\n",
              "    .colab-df-convert:hover {\n",
              "      background-color: #E2EBFA;\n",
              "      box-shadow: 0px 1px 2px rgba(60, 64, 67, 0.3), 0px 1px 3px 1px rgba(60, 64, 67, 0.15);\n",
              "      fill: #174EA6;\n",
              "    }\n",
              "\n",
              "    [theme=dark] .colab-df-convert {\n",
              "      background-color: #3B4455;\n",
              "      fill: #D2E3FC;\n",
              "    }\n",
              "\n",
              "    [theme=dark] .colab-df-convert:hover {\n",
              "      background-color: #434B5C;\n",
              "      box-shadow: 0px 1px 3px 1px rgba(0, 0, 0, 0.15);\n",
              "      filter: drop-shadow(0px 1px 2px rgba(0, 0, 0, 0.3));\n",
              "      fill: #FFFFFF;\n",
              "    }\n",
              "  </style>\n",
              "\n",
              "      <script>\n",
              "        const buttonEl =\n",
              "          document.querySelector('#df-bec7c1e3-5631-4dd9-9863-86064d00555a button.colab-df-convert');\n",
              "        buttonEl.style.display =\n",
              "          google.colab.kernel.accessAllowed ? 'block' : 'none';\n",
              "\n",
              "        async function convertToInteractive(key) {\n",
              "          const element = document.querySelector('#df-bec7c1e3-5631-4dd9-9863-86064d00555a');\n",
              "          const dataTable =\n",
              "            await google.colab.kernel.invokeFunction('convertToInteractive',\n",
              "                                                     [key], {});\n",
              "          if (!dataTable) return;\n",
              "\n",
              "          const docLinkHtml = 'Like what you see? Visit the ' +\n",
              "            '<a target=\"_blank\" href=https://colab.research.google.com/notebooks/data_table.ipynb>data table notebook</a>'\n",
              "            + ' to learn more about interactive tables.';\n",
              "          element.innerHTML = '';\n",
              "          dataTable['output_type'] = 'display_data';\n",
              "          await google.colab.output.renderOutput(dataTable, element);\n",
              "          const docLink = document.createElement('div');\n",
              "          docLink.innerHTML = docLinkHtml;\n",
              "          element.appendChild(docLink);\n",
              "        }\n",
              "      </script>\n",
              "    </div>\n",
              "  </div>\n",
              "  "
            ]
          },
          "metadata": {},
          "execution_count": 25
        }
      ],
      "source": [
        "# сгруппируем данные по событиям и количеству пользователей с сортировкой\n",
        "events_by_users = df_filtered \\\n",
        "    .groupby(['event']) \\\n",
        "    .agg({'user_id' : 'nunique'}) \\\n",
        "    .rename(columns=({'user_id' : 'total_users'})) \\\n",
        "    .sort_values(by='total_users', ascending=False) \\\n",
        "    .reset_index()\n",
        "\n",
        "# добавим столбцы с процентными соотношениями шагов воронки\n",
        "events_by_users['percent_initial'] = events_by_users['total_users'] \\\n",
        "    .apply(lambda x: (x/events_by_users['total_users'][0]*100))\n",
        "\n",
        "events_by_users['percent_previous'] = (events_by_users['total_users'] \\\n",
        "                                            / events_by_users['total_users'].shift() * 100)\n",
        "events_by_users['percent_previous'][0]=100\n",
        "events_by_users['percent_previous']=events_by_users['percent_previous']\n",
        "\n",
        "events_by_users['percent_total'] = events_by_users['total_users'] \\\n",
        "    .apply(lambda x: (x/total_users*100))\n",
        "\n",
        "\n",
        "events_by_users"
      ]
    },
    {
      "cell_type": "markdown",
      "metadata": {
        "id": "xfjUMJwqBNEW"
      },
      "source": [
        "Изучим воронку событий:"
      ]
    },
    {
      "cell_type": "code",
      "execution_count": 26,
      "metadata": {
        "colab": {
          "base_uri": "https://localhost:8080/",
          "height": 617
        },
        "id": "1EK57Jwi3R3m",
        "outputId": "8d276560-2772-41cd-8431-967a93f31359"
      },
      "outputs": [
        {
          "output_type": "display_data",
          "data": {
            "text/html": [
              "<html>\n",
              "<head><meta charset=\"utf-8\" /></head>\n",
              "<body>\n",
              "    <div>            <script src=\"https://cdnjs.cloudflare.com/ajax/libs/mathjax/2.7.5/MathJax.js?config=TeX-AMS-MML_SVG\"></script><script type=\"text/javascript\">if (window.MathJax) {MathJax.Hub.Config({SVG: {font: \"STIX-Web\"}});}</script>                <script type=\"text/javascript\">window.PlotlyConfig = {MathJaxConfig: 'local'};</script>\n",
              "        <script src=\"https://cdn.plot.ly/plotly-2.8.3.min.js\"></script>                <div id=\"8e774805-0dee-4e06-b217-e0c59aaabb3c\" class=\"plotly-graph-div\" style=\"height:600px; width:1100px;\"></div>            <script type=\"text/javascript\">                                    window.PLOTLYENV=window.PLOTLYENV || {};                                    if (document.getElementById(\"8e774805-0dee-4e06-b217-e0c59aaabb3c\")) {                    Plotly.newPlot(                        \"8e774805-0dee-4e06-b217-e0c59aaabb3c\",                        [{\"textinfo\":\"value+percent initial+percent previous+percent total\",\"textposition\":\"inside\",\"x\":[7419,4593,3734,3539,840],\"y\":[\"main_screen_appear\",\"offers_screen_appear\",\"cart_screen_appear\",\"payment_screen_successful\",\"tutorial\"],\"type\":\"funnel\"}],                        {\"template\":{\"data\":{\"bar\":[{\"error_x\":{\"color\":\"#2a3f5f\"},\"error_y\":{\"color\":\"#2a3f5f\"},\"marker\":{\"line\":{\"color\":\"#E5ECF6\",\"width\":0.5},\"pattern\":{\"fillmode\":\"overlay\",\"size\":10,\"solidity\":0.2}},\"type\":\"bar\"}],\"barpolar\":[{\"marker\":{\"line\":{\"color\":\"#E5ECF6\",\"width\":0.5},\"pattern\":{\"fillmode\":\"overlay\",\"size\":10,\"solidity\":0.2}},\"type\":\"barpolar\"}],\"carpet\":[{\"aaxis\":{\"endlinecolor\":\"#2a3f5f\",\"gridcolor\":\"white\",\"linecolor\":\"white\",\"minorgridcolor\":\"white\",\"startlinecolor\":\"#2a3f5f\"},\"baxis\":{\"endlinecolor\":\"#2a3f5f\",\"gridcolor\":\"white\",\"linecolor\":\"white\",\"minorgridcolor\":\"white\",\"startlinecolor\":\"#2a3f5f\"},\"type\":\"carpet\"}],\"choropleth\":[{\"colorbar\":{\"outlinewidth\":0,\"ticks\":\"\"},\"type\":\"choropleth\"}],\"contour\":[{\"colorbar\":{\"outlinewidth\":0,\"ticks\":\"\"},\"colorscale\":[[0.0,\"#0d0887\"],[0.1111111111111111,\"#46039f\"],[0.2222222222222222,\"#7201a8\"],[0.3333333333333333,\"#9c179e\"],[0.4444444444444444,\"#bd3786\"],[0.5555555555555556,\"#d8576b\"],[0.6666666666666666,\"#ed7953\"],[0.7777777777777778,\"#fb9f3a\"],[0.8888888888888888,\"#fdca26\"],[1.0,\"#f0f921\"]],\"type\":\"contour\"}],\"contourcarpet\":[{\"colorbar\":{\"outlinewidth\":0,\"ticks\":\"\"},\"type\":\"contourcarpet\"}],\"heatmap\":[{\"colorbar\":{\"outlinewidth\":0,\"ticks\":\"\"},\"colorscale\":[[0.0,\"#0d0887\"],[0.1111111111111111,\"#46039f\"],[0.2222222222222222,\"#7201a8\"],[0.3333333333333333,\"#9c179e\"],[0.4444444444444444,\"#bd3786\"],[0.5555555555555556,\"#d8576b\"],[0.6666666666666666,\"#ed7953\"],[0.7777777777777778,\"#fb9f3a\"],[0.8888888888888888,\"#fdca26\"],[1.0,\"#f0f921\"]],\"type\":\"heatmap\"}],\"heatmapgl\":[{\"colorbar\":{\"outlinewidth\":0,\"ticks\":\"\"},\"colorscale\":[[0.0,\"#0d0887\"],[0.1111111111111111,\"#46039f\"],[0.2222222222222222,\"#7201a8\"],[0.3333333333333333,\"#9c179e\"],[0.4444444444444444,\"#bd3786\"],[0.5555555555555556,\"#d8576b\"],[0.6666666666666666,\"#ed7953\"],[0.7777777777777778,\"#fb9f3a\"],[0.8888888888888888,\"#fdca26\"],[1.0,\"#f0f921\"]],\"type\":\"heatmapgl\"}],\"histogram\":[{\"marker\":{\"pattern\":{\"fillmode\":\"overlay\",\"size\":10,\"solidity\":0.2}},\"type\":\"histogram\"}],\"histogram2d\":[{\"colorbar\":{\"outlinewidth\":0,\"ticks\":\"\"},\"colorscale\":[[0.0,\"#0d0887\"],[0.1111111111111111,\"#46039f\"],[0.2222222222222222,\"#7201a8\"],[0.3333333333333333,\"#9c179e\"],[0.4444444444444444,\"#bd3786\"],[0.5555555555555556,\"#d8576b\"],[0.6666666666666666,\"#ed7953\"],[0.7777777777777778,\"#fb9f3a\"],[0.8888888888888888,\"#fdca26\"],[1.0,\"#f0f921\"]],\"type\":\"histogram2d\"}],\"histogram2dcontour\":[{\"colorbar\":{\"outlinewidth\":0,\"ticks\":\"\"},\"colorscale\":[[0.0,\"#0d0887\"],[0.1111111111111111,\"#46039f\"],[0.2222222222222222,\"#7201a8\"],[0.3333333333333333,\"#9c179e\"],[0.4444444444444444,\"#bd3786\"],[0.5555555555555556,\"#d8576b\"],[0.6666666666666666,\"#ed7953\"],[0.7777777777777778,\"#fb9f3a\"],[0.8888888888888888,\"#fdca26\"],[1.0,\"#f0f921\"]],\"type\":\"histogram2dcontour\"}],\"mesh3d\":[{\"colorbar\":{\"outlinewidth\":0,\"ticks\":\"\"},\"type\":\"mesh3d\"}],\"parcoords\":[{\"line\":{\"colorbar\":{\"outlinewidth\":0,\"ticks\":\"\"}},\"type\":\"parcoords\"}],\"pie\":[{\"automargin\":true,\"type\":\"pie\"}],\"scatter\":[{\"marker\":{\"colorbar\":{\"outlinewidth\":0,\"ticks\":\"\"}},\"type\":\"scatter\"}],\"scatter3d\":[{\"line\":{\"colorbar\":{\"outlinewidth\":0,\"ticks\":\"\"}},\"marker\":{\"colorbar\":{\"outlinewidth\":0,\"ticks\":\"\"}},\"type\":\"scatter3d\"}],\"scattercarpet\":[{\"marker\":{\"colorbar\":{\"outlinewidth\":0,\"ticks\":\"\"}},\"type\":\"scattercarpet\"}],\"scattergeo\":[{\"marker\":{\"colorbar\":{\"outlinewidth\":0,\"ticks\":\"\"}},\"type\":\"scattergeo\"}],\"scattergl\":[{\"marker\":{\"colorbar\":{\"outlinewidth\":0,\"ticks\":\"\"}},\"type\":\"scattergl\"}],\"scattermapbox\":[{\"marker\":{\"colorbar\":{\"outlinewidth\":0,\"ticks\":\"\"}},\"type\":\"scattermapbox\"}],\"scatterpolar\":[{\"marker\":{\"colorbar\":{\"outlinewidth\":0,\"ticks\":\"\"}},\"type\":\"scatterpolar\"}],\"scatterpolargl\":[{\"marker\":{\"colorbar\":{\"outlinewidth\":0,\"ticks\":\"\"}},\"type\":\"scatterpolargl\"}],\"scatterternary\":[{\"marker\":{\"colorbar\":{\"outlinewidth\":0,\"ticks\":\"\"}},\"type\":\"scatterternary\"}],\"surface\":[{\"colorbar\":{\"outlinewidth\":0,\"ticks\":\"\"},\"colorscale\":[[0.0,\"#0d0887\"],[0.1111111111111111,\"#46039f\"],[0.2222222222222222,\"#7201a8\"],[0.3333333333333333,\"#9c179e\"],[0.4444444444444444,\"#bd3786\"],[0.5555555555555556,\"#d8576b\"],[0.6666666666666666,\"#ed7953\"],[0.7777777777777778,\"#fb9f3a\"],[0.8888888888888888,\"#fdca26\"],[1.0,\"#f0f921\"]],\"type\":\"surface\"}],\"table\":[{\"cells\":{\"fill\":{\"color\":\"#EBF0F8\"},\"line\":{\"color\":\"white\"}},\"header\":{\"fill\":{\"color\":\"#C8D4E3\"},\"line\":{\"color\":\"white\"}},\"type\":\"table\"}]},\"layout\":{\"annotationdefaults\":{\"arrowcolor\":\"#2a3f5f\",\"arrowhead\":0,\"arrowwidth\":1},\"autotypenumbers\":\"strict\",\"coloraxis\":{\"colorbar\":{\"outlinewidth\":0,\"ticks\":\"\"}},\"colorscale\":{\"diverging\":[[0,\"#8e0152\"],[0.1,\"#c51b7d\"],[0.2,\"#de77ae\"],[0.3,\"#f1b6da\"],[0.4,\"#fde0ef\"],[0.5,\"#f7f7f7\"],[0.6,\"#e6f5d0\"],[0.7,\"#b8e186\"],[0.8,\"#7fbc41\"],[0.9,\"#4d9221\"],[1,\"#276419\"]],\"sequential\":[[0.0,\"#0d0887\"],[0.1111111111111111,\"#46039f\"],[0.2222222222222222,\"#7201a8\"],[0.3333333333333333,\"#9c179e\"],[0.4444444444444444,\"#bd3786\"],[0.5555555555555556,\"#d8576b\"],[0.6666666666666666,\"#ed7953\"],[0.7777777777777778,\"#fb9f3a\"],[0.8888888888888888,\"#fdca26\"],[1.0,\"#f0f921\"]],\"sequentialminus\":[[0.0,\"#0d0887\"],[0.1111111111111111,\"#46039f\"],[0.2222222222222222,\"#7201a8\"],[0.3333333333333333,\"#9c179e\"],[0.4444444444444444,\"#bd3786\"],[0.5555555555555556,\"#d8576b\"],[0.6666666666666666,\"#ed7953\"],[0.7777777777777778,\"#fb9f3a\"],[0.8888888888888888,\"#fdca26\"],[1.0,\"#f0f921\"]]},\"colorway\":[\"#636efa\",\"#EF553B\",\"#00cc96\",\"#ab63fa\",\"#FFA15A\",\"#19d3f3\",\"#FF6692\",\"#B6E880\",\"#FF97FF\",\"#FECB52\"],\"font\":{\"color\":\"#2a3f5f\"},\"geo\":{\"bgcolor\":\"white\",\"lakecolor\":\"white\",\"landcolor\":\"#E5ECF6\",\"showlakes\":true,\"showland\":true,\"subunitcolor\":\"white\"},\"hoverlabel\":{\"align\":\"left\"},\"hovermode\":\"closest\",\"mapbox\":{\"style\":\"light\"},\"paper_bgcolor\":\"white\",\"plot_bgcolor\":\"#E5ECF6\",\"polar\":{\"angularaxis\":{\"gridcolor\":\"white\",\"linecolor\":\"white\",\"ticks\":\"\"},\"bgcolor\":\"#E5ECF6\",\"radialaxis\":{\"gridcolor\":\"white\",\"linecolor\":\"white\",\"ticks\":\"\"}},\"scene\":{\"xaxis\":{\"backgroundcolor\":\"#E5ECF6\",\"gridcolor\":\"white\",\"gridwidth\":2,\"linecolor\":\"white\",\"showbackground\":true,\"ticks\":\"\",\"zerolinecolor\":\"white\"},\"yaxis\":{\"backgroundcolor\":\"#E5ECF6\",\"gridcolor\":\"white\",\"gridwidth\":2,\"linecolor\":\"white\",\"showbackground\":true,\"ticks\":\"\",\"zerolinecolor\":\"white\"},\"zaxis\":{\"backgroundcolor\":\"#E5ECF6\",\"gridcolor\":\"white\",\"gridwidth\":2,\"linecolor\":\"white\",\"showbackground\":true,\"ticks\":\"\",\"zerolinecolor\":\"white\"}},\"shapedefaults\":{\"line\":{\"color\":\"#2a3f5f\"}},\"ternary\":{\"aaxis\":{\"gridcolor\":\"white\",\"linecolor\":\"white\",\"ticks\":\"\"},\"baxis\":{\"gridcolor\":\"white\",\"linecolor\":\"white\",\"ticks\":\"\"},\"bgcolor\":\"#E5ECF6\",\"caxis\":{\"gridcolor\":\"white\",\"linecolor\":\"white\",\"ticks\":\"\"}},\"title\":{\"x\":0.05},\"xaxis\":{\"automargin\":true,\"gridcolor\":\"white\",\"linecolor\":\"white\",\"ticks\":\"\",\"title\":{\"standoff\":15},\"zerolinecolor\":\"white\",\"zerolinewidth\":2},\"yaxis\":{\"automargin\":true,\"gridcolor\":\"white\",\"linecolor\":\"white\",\"ticks\":\"\",\"title\":{\"standoff\":15},\"zerolinecolor\":\"white\",\"zerolinewidth\":2}}},\"autosize\":false,\"width\":1100,\"height\":600,\"title\":{\"text\":\"\\u0412\\u043e\\u0440\\u043e\\u043d\\u043a\\u0430 \\u0432\\u0441\\u0435\\u0445 \\u0441\\u043e\\u0431\\u044b\\u0442\\u0438\\u0439 \\u0441 \\u0440\\u0430\\u0441\\u0447\\u0435\\u0442\\u043e\\u043c \\u0434\\u043e\\u043b\\u0438 \\u0448\\u0430\\u0433\\u043e\\u0432\"}},                        {\"responsive\": true}                    ).then(function(){\n",
              "                            \n",
              "var gd = document.getElementById('8e774805-0dee-4e06-b217-e0c59aaabb3c');\n",
              "var x = new MutationObserver(function (mutations, observer) {{\n",
              "        var display = window.getComputedStyle(gd).display;\n",
              "        if (!display || display === 'none') {{\n",
              "            console.log([gd, 'removed!']);\n",
              "            Plotly.purge(gd);\n",
              "            observer.disconnect();\n",
              "        }}\n",
              "}});\n",
              "\n",
              "// Listen for the removal of the full notebook cells\n",
              "var notebookContainer = gd.closest('#notebook-container');\n",
              "if (notebookContainer) {{\n",
              "    x.observe(notebookContainer, {childList: true});\n",
              "}}\n",
              "\n",
              "// Listen for the clearing of the current output cell\n",
              "var outputEl = gd.closest('.output');\n",
              "if (outputEl) {{\n",
              "    x.observe(outputEl, {childList: true});\n",
              "}}\n",
              "\n",
              "                        })                };                            </script>        </div>\n",
              "</body>\n",
              "</html>"
            ]
          },
          "metadata": {}
        }
      ],
      "source": [
        "# построим интерактивную воронку событий\n",
        "fig = go.Figure(\n",
        "    go.Funnel(\n",
        "        y=events_by_users['event'].unique(),\n",
        "        x=events_by_users['total_users'].unique(),\n",
        "        textposition = 'inside',\n",
        "        textinfo = 'value+percent initial+percent previous+percent total')\n",
        "    )\n",
        "\n",
        "fig.update_layout(\n",
        "    autosize=False,\n",
        "    width=1100,\n",
        "    height=600,\n",
        "    title='Воронка всех событий с расчетом доли шагов')\n",
        "\n",
        "fig.show() "
      ]
    },
    {
      "cell_type": "markdown",
      "metadata": {
        "id": "D_VKyEXN9LfZ"
      },
      "source": [
        "Предположим, что последовательность событий для пользователя может быть такой:\n",
        "\n",
        "1. `main_screen_appear` – показ главного экрана приложения\n",
        "2. `tutorial` – прохождение (завершение?) обучалки (онбординг приложения, который можно пропустить)\n",
        "3. `offers_screen_appear` – показ экрана со спецпредложением\n",
        "4. `cart_screen_appear` – показ корзины\n",
        "5. `payment_screen_successful` – показ экрана успешной оплаты заказа\n",
        "\n",
        "\n",
        "Записи со срабатыванием события `tutorial` можно исключить из анализа, так как оно не является обязательным для оценки конверсии и, судя по количеству срабатываний, его часто пропускают."
      ]
    },
    {
      "cell_type": "markdown",
      "metadata": {
        "id": "ia5AYX7BAOjz"
      },
      "source": [
        "По воронке событий можно увидеть, какая доля пользователей проходит на следующий шаг воронки (от числа пользователей на предыдущем).\n",
        "\n",
        "Для просмотра отфильтрум датасет от события `tutorial` и просмотрим оставшиеся шаги:"
      ]
    },
    {
      "cell_type": "code",
      "execution_count": 27,
      "metadata": {
        "colab": {
          "base_uri": "https://localhost:8080/",
          "height": 617
        },
        "id": "HE729D1P3CcF",
        "outputId": "1bc8ccdc-3343-42d1-c584-61e8e8d5a7c8"
      },
      "outputs": [
        {
          "output_type": "display_data",
          "data": {
            "text/html": [
              "<html>\n",
              "<head><meta charset=\"utf-8\" /></head>\n",
              "<body>\n",
              "    <div>            <script src=\"https://cdnjs.cloudflare.com/ajax/libs/mathjax/2.7.5/MathJax.js?config=TeX-AMS-MML_SVG\"></script><script type=\"text/javascript\">if (window.MathJax) {MathJax.Hub.Config({SVG: {font: \"STIX-Web\"}});}</script>                <script type=\"text/javascript\">window.PlotlyConfig = {MathJaxConfig: 'local'};</script>\n",
              "        <script src=\"https://cdn.plot.ly/plotly-2.8.3.min.js\"></script>                <div id=\"1e50c5b9-bbb6-4026-9373-30422d34be3c\" class=\"plotly-graph-div\" style=\"height:600px; width:1100px;\"></div>            <script type=\"text/javascript\">                                    window.PLOTLYENV=window.PLOTLYENV || {};                                    if (document.getElementById(\"1e50c5b9-bbb6-4026-9373-30422d34be3c\")) {                    Plotly.newPlot(                        \"1e50c5b9-bbb6-4026-9373-30422d34be3c\",                        [{\"marker\":{\"color\":\"indigo\"},\"textinfo\":\"value+percent initial+percent previous+percent total\",\"textposition\":\"inside\",\"x\":[7419,4593,3734,3539],\"y\":[\"main_screen_appear\",\"offers_screen_appear\",\"cart_screen_appear\",\"payment_screen_successful\"],\"type\":\"funnel\"}],                        {\"template\":{\"data\":{\"bar\":[{\"error_x\":{\"color\":\"#2a3f5f\"},\"error_y\":{\"color\":\"#2a3f5f\"},\"marker\":{\"line\":{\"color\":\"#E5ECF6\",\"width\":0.5},\"pattern\":{\"fillmode\":\"overlay\",\"size\":10,\"solidity\":0.2}},\"type\":\"bar\"}],\"barpolar\":[{\"marker\":{\"line\":{\"color\":\"#E5ECF6\",\"width\":0.5},\"pattern\":{\"fillmode\":\"overlay\",\"size\":10,\"solidity\":0.2}},\"type\":\"barpolar\"}],\"carpet\":[{\"aaxis\":{\"endlinecolor\":\"#2a3f5f\",\"gridcolor\":\"white\",\"linecolor\":\"white\",\"minorgridcolor\":\"white\",\"startlinecolor\":\"#2a3f5f\"},\"baxis\":{\"endlinecolor\":\"#2a3f5f\",\"gridcolor\":\"white\",\"linecolor\":\"white\",\"minorgridcolor\":\"white\",\"startlinecolor\":\"#2a3f5f\"},\"type\":\"carpet\"}],\"choropleth\":[{\"colorbar\":{\"outlinewidth\":0,\"ticks\":\"\"},\"type\":\"choropleth\"}],\"contour\":[{\"colorbar\":{\"outlinewidth\":0,\"ticks\":\"\"},\"colorscale\":[[0.0,\"#0d0887\"],[0.1111111111111111,\"#46039f\"],[0.2222222222222222,\"#7201a8\"],[0.3333333333333333,\"#9c179e\"],[0.4444444444444444,\"#bd3786\"],[0.5555555555555556,\"#d8576b\"],[0.6666666666666666,\"#ed7953\"],[0.7777777777777778,\"#fb9f3a\"],[0.8888888888888888,\"#fdca26\"],[1.0,\"#f0f921\"]],\"type\":\"contour\"}],\"contourcarpet\":[{\"colorbar\":{\"outlinewidth\":0,\"ticks\":\"\"},\"type\":\"contourcarpet\"}],\"heatmap\":[{\"colorbar\":{\"outlinewidth\":0,\"ticks\":\"\"},\"colorscale\":[[0.0,\"#0d0887\"],[0.1111111111111111,\"#46039f\"],[0.2222222222222222,\"#7201a8\"],[0.3333333333333333,\"#9c179e\"],[0.4444444444444444,\"#bd3786\"],[0.5555555555555556,\"#d8576b\"],[0.6666666666666666,\"#ed7953\"],[0.7777777777777778,\"#fb9f3a\"],[0.8888888888888888,\"#fdca26\"],[1.0,\"#f0f921\"]],\"type\":\"heatmap\"}],\"heatmapgl\":[{\"colorbar\":{\"outlinewidth\":0,\"ticks\":\"\"},\"colorscale\":[[0.0,\"#0d0887\"],[0.1111111111111111,\"#46039f\"],[0.2222222222222222,\"#7201a8\"],[0.3333333333333333,\"#9c179e\"],[0.4444444444444444,\"#bd3786\"],[0.5555555555555556,\"#d8576b\"],[0.6666666666666666,\"#ed7953\"],[0.7777777777777778,\"#fb9f3a\"],[0.8888888888888888,\"#fdca26\"],[1.0,\"#f0f921\"]],\"type\":\"heatmapgl\"}],\"histogram\":[{\"marker\":{\"pattern\":{\"fillmode\":\"overlay\",\"size\":10,\"solidity\":0.2}},\"type\":\"histogram\"}],\"histogram2d\":[{\"colorbar\":{\"outlinewidth\":0,\"ticks\":\"\"},\"colorscale\":[[0.0,\"#0d0887\"],[0.1111111111111111,\"#46039f\"],[0.2222222222222222,\"#7201a8\"],[0.3333333333333333,\"#9c179e\"],[0.4444444444444444,\"#bd3786\"],[0.5555555555555556,\"#d8576b\"],[0.6666666666666666,\"#ed7953\"],[0.7777777777777778,\"#fb9f3a\"],[0.8888888888888888,\"#fdca26\"],[1.0,\"#f0f921\"]],\"type\":\"histogram2d\"}],\"histogram2dcontour\":[{\"colorbar\":{\"outlinewidth\":0,\"ticks\":\"\"},\"colorscale\":[[0.0,\"#0d0887\"],[0.1111111111111111,\"#46039f\"],[0.2222222222222222,\"#7201a8\"],[0.3333333333333333,\"#9c179e\"],[0.4444444444444444,\"#bd3786\"],[0.5555555555555556,\"#d8576b\"],[0.6666666666666666,\"#ed7953\"],[0.7777777777777778,\"#fb9f3a\"],[0.8888888888888888,\"#fdca26\"],[1.0,\"#f0f921\"]],\"type\":\"histogram2dcontour\"}],\"mesh3d\":[{\"colorbar\":{\"outlinewidth\":0,\"ticks\":\"\"},\"type\":\"mesh3d\"}],\"parcoords\":[{\"line\":{\"colorbar\":{\"outlinewidth\":0,\"ticks\":\"\"}},\"type\":\"parcoords\"}],\"pie\":[{\"automargin\":true,\"type\":\"pie\"}],\"scatter\":[{\"marker\":{\"colorbar\":{\"outlinewidth\":0,\"ticks\":\"\"}},\"type\":\"scatter\"}],\"scatter3d\":[{\"line\":{\"colorbar\":{\"outlinewidth\":0,\"ticks\":\"\"}},\"marker\":{\"colorbar\":{\"outlinewidth\":0,\"ticks\":\"\"}},\"type\":\"scatter3d\"}],\"scattercarpet\":[{\"marker\":{\"colorbar\":{\"outlinewidth\":0,\"ticks\":\"\"}},\"type\":\"scattercarpet\"}],\"scattergeo\":[{\"marker\":{\"colorbar\":{\"outlinewidth\":0,\"ticks\":\"\"}},\"type\":\"scattergeo\"}],\"scattergl\":[{\"marker\":{\"colorbar\":{\"outlinewidth\":0,\"ticks\":\"\"}},\"type\":\"scattergl\"}],\"scattermapbox\":[{\"marker\":{\"colorbar\":{\"outlinewidth\":0,\"ticks\":\"\"}},\"type\":\"scattermapbox\"}],\"scatterpolar\":[{\"marker\":{\"colorbar\":{\"outlinewidth\":0,\"ticks\":\"\"}},\"type\":\"scatterpolar\"}],\"scatterpolargl\":[{\"marker\":{\"colorbar\":{\"outlinewidth\":0,\"ticks\":\"\"}},\"type\":\"scatterpolargl\"}],\"scatterternary\":[{\"marker\":{\"colorbar\":{\"outlinewidth\":0,\"ticks\":\"\"}},\"type\":\"scatterternary\"}],\"surface\":[{\"colorbar\":{\"outlinewidth\":0,\"ticks\":\"\"},\"colorscale\":[[0.0,\"#0d0887\"],[0.1111111111111111,\"#46039f\"],[0.2222222222222222,\"#7201a8\"],[0.3333333333333333,\"#9c179e\"],[0.4444444444444444,\"#bd3786\"],[0.5555555555555556,\"#d8576b\"],[0.6666666666666666,\"#ed7953\"],[0.7777777777777778,\"#fb9f3a\"],[0.8888888888888888,\"#fdca26\"],[1.0,\"#f0f921\"]],\"type\":\"surface\"}],\"table\":[{\"cells\":{\"fill\":{\"color\":\"#EBF0F8\"},\"line\":{\"color\":\"white\"}},\"header\":{\"fill\":{\"color\":\"#C8D4E3\"},\"line\":{\"color\":\"white\"}},\"type\":\"table\"}]},\"layout\":{\"annotationdefaults\":{\"arrowcolor\":\"#2a3f5f\",\"arrowhead\":0,\"arrowwidth\":1},\"autotypenumbers\":\"strict\",\"coloraxis\":{\"colorbar\":{\"outlinewidth\":0,\"ticks\":\"\"}},\"colorscale\":{\"diverging\":[[0,\"#8e0152\"],[0.1,\"#c51b7d\"],[0.2,\"#de77ae\"],[0.3,\"#f1b6da\"],[0.4,\"#fde0ef\"],[0.5,\"#f7f7f7\"],[0.6,\"#e6f5d0\"],[0.7,\"#b8e186\"],[0.8,\"#7fbc41\"],[0.9,\"#4d9221\"],[1,\"#276419\"]],\"sequential\":[[0.0,\"#0d0887\"],[0.1111111111111111,\"#46039f\"],[0.2222222222222222,\"#7201a8\"],[0.3333333333333333,\"#9c179e\"],[0.4444444444444444,\"#bd3786\"],[0.5555555555555556,\"#d8576b\"],[0.6666666666666666,\"#ed7953\"],[0.7777777777777778,\"#fb9f3a\"],[0.8888888888888888,\"#fdca26\"],[1.0,\"#f0f921\"]],\"sequentialminus\":[[0.0,\"#0d0887\"],[0.1111111111111111,\"#46039f\"],[0.2222222222222222,\"#7201a8\"],[0.3333333333333333,\"#9c179e\"],[0.4444444444444444,\"#bd3786\"],[0.5555555555555556,\"#d8576b\"],[0.6666666666666666,\"#ed7953\"],[0.7777777777777778,\"#fb9f3a\"],[0.8888888888888888,\"#fdca26\"],[1.0,\"#f0f921\"]]},\"colorway\":[\"#636efa\",\"#EF553B\",\"#00cc96\",\"#ab63fa\",\"#FFA15A\",\"#19d3f3\",\"#FF6692\",\"#B6E880\",\"#FF97FF\",\"#FECB52\"],\"font\":{\"color\":\"#2a3f5f\"},\"geo\":{\"bgcolor\":\"white\",\"lakecolor\":\"white\",\"landcolor\":\"#E5ECF6\",\"showlakes\":true,\"showland\":true,\"subunitcolor\":\"white\"},\"hoverlabel\":{\"align\":\"left\"},\"hovermode\":\"closest\",\"mapbox\":{\"style\":\"light\"},\"paper_bgcolor\":\"white\",\"plot_bgcolor\":\"#E5ECF6\",\"polar\":{\"angularaxis\":{\"gridcolor\":\"white\",\"linecolor\":\"white\",\"ticks\":\"\"},\"bgcolor\":\"#E5ECF6\",\"radialaxis\":{\"gridcolor\":\"white\",\"linecolor\":\"white\",\"ticks\":\"\"}},\"scene\":{\"xaxis\":{\"backgroundcolor\":\"#E5ECF6\",\"gridcolor\":\"white\",\"gridwidth\":2,\"linecolor\":\"white\",\"showbackground\":true,\"ticks\":\"\",\"zerolinecolor\":\"white\"},\"yaxis\":{\"backgroundcolor\":\"#E5ECF6\",\"gridcolor\":\"white\",\"gridwidth\":2,\"linecolor\":\"white\",\"showbackground\":true,\"ticks\":\"\",\"zerolinecolor\":\"white\"},\"zaxis\":{\"backgroundcolor\":\"#E5ECF6\",\"gridcolor\":\"white\",\"gridwidth\":2,\"linecolor\":\"white\",\"showbackground\":true,\"ticks\":\"\",\"zerolinecolor\":\"white\"}},\"shapedefaults\":{\"line\":{\"color\":\"#2a3f5f\"}},\"ternary\":{\"aaxis\":{\"gridcolor\":\"white\",\"linecolor\":\"white\",\"ticks\":\"\"},\"baxis\":{\"gridcolor\":\"white\",\"linecolor\":\"white\",\"ticks\":\"\"},\"bgcolor\":\"#E5ECF6\",\"caxis\":{\"gridcolor\":\"white\",\"linecolor\":\"white\",\"ticks\":\"\"}},\"title\":{\"x\":0.05},\"xaxis\":{\"automargin\":true,\"gridcolor\":\"white\",\"linecolor\":\"white\",\"ticks\":\"\",\"title\":{\"standoff\":15},\"zerolinecolor\":\"white\",\"zerolinewidth\":2},\"yaxis\":{\"automargin\":true,\"gridcolor\":\"white\",\"linecolor\":\"white\",\"ticks\":\"\",\"title\":{\"standoff\":15},\"zerolinecolor\":\"white\",\"zerolinewidth\":2}}},\"autosize\":false,\"width\":1100,\"height\":600,\"title\":{\"text\":\"\\u0412\\u043e\\u0440\\u043e\\u043d\\u043a\\u0430 \\u0430\\u043d\\u0430\\u043b\\u0438\\u0437\\u0438\\u0440\\u0443\\u0435\\u043c\\u044b\\u0445 \\u0441\\u043e\\u0431\\u044b\\u0442\\u0438\\u0439 \\u0441 \\u0440\\u0430\\u0441\\u0447\\u0435\\u0442\\u043e\\u043c \\u0434\\u043e\\u043b\\u0438 \\u0448\\u0430\\u0433\\u043e\\u0432\"}},                        {\"responsive\": true}                    ).then(function(){\n",
              "                            \n",
              "var gd = document.getElementById('1e50c5b9-bbb6-4026-9373-30422d34be3c');\n",
              "var x = new MutationObserver(function (mutations, observer) {{\n",
              "        var display = window.getComputedStyle(gd).display;\n",
              "        if (!display || display === 'none') {{\n",
              "            console.log([gd, 'removed!']);\n",
              "            Plotly.purge(gd);\n",
              "            observer.disconnect();\n",
              "        }}\n",
              "}});\n",
              "\n",
              "// Listen for the removal of the full notebook cells\n",
              "var notebookContainer = gd.closest('#notebook-container');\n",
              "if (notebookContainer) {{\n",
              "    x.observe(notebookContainer, {childList: true});\n",
              "}}\n",
              "\n",
              "// Listen for the clearing of the current output cell\n",
              "var outputEl = gd.closest('.output');\n",
              "if (outputEl) {{\n",
              "    x.observe(outputEl, {childList: true});\n",
              "}}\n",
              "\n",
              "                        })                };                            </script>        </div>\n",
              "</body>\n",
              "</html>"
            ]
          },
          "metadata": {}
        }
      ],
      "source": [
        "# исключим события tutorial из датафрейма\n",
        "df_final = df_filtered.query('event != \"tutorial\"').reset_index()\n",
        "\n",
        "# обновим расчет воронки\n",
        "events_by_users = df_final \\\n",
        "    .groupby(['event']) \\\n",
        "    .agg({'user_id' : 'nunique'}) \\\n",
        "    .rename(columns=({'user_id' : 'total_users'})) \\\n",
        "    .sort_values(by='total_users', ascending=False) \\\n",
        "    .reset_index()\n",
        "\n",
        "# построим интерактивную воронку с выводом процента от предыдущего шага\n",
        "fig = go.Figure(\n",
        "    go.Funnel(\n",
        "        y=events_by_users['event'].unique(),\n",
        "        x=events_by_users['total_users'].unique(),\n",
        "        textposition = 'inside',\n",
        "        textinfo = 'value+percent initial+percent previous+percent total',\n",
        "        marker = {'color': 'indigo'}\n",
        "    ))\n",
        "\n",
        "fig.update_layout(\n",
        "    autosize=False,\n",
        "    width=1100,\n",
        "    height=600,\n",
        "    title='Воронка анализируемых событий с расчетом доли шагов')\n",
        "\n",
        "fig.show()\n"
      ]
    },
    {
      "cell_type": "markdown",
      "metadata": {
        "id": "LTxkYMhqCp0P"
      },
      "source": [
        "**Вывод по шагу:**\n",
        "\n",
        "- Всего имеется 5 типов событий. Самое частое – `main_screen_appear`. Самое редкое – `tutorial` (исключено из анализа)\n",
        "- Больше всего пользователей приложение теряет на переходе с шага `main_screen_appear` на шаг `offers_screen_appear`: всего 62% после просмотра главного экрана увидели экран спецпредложения\n",
        "- При этом целых 48% пользователей доходит до шага `payment_screen_successful` (Оплата) – это хороший показатель конверсии."
      ]
    },
    {
      "cell_type": "markdown",
      "metadata": {
        "id": "9gOeGBIoEwAn"
      },
      "source": [
        "---"
      ]
    },
    {
      "cell_type": "markdown",
      "metadata": {
        "id": "aCVtbDdHEl6E"
      },
      "source": [
        "## Изучение результатов эксперимента"
      ]
    },
    {
      "cell_type": "markdown",
      "metadata": {
        "id": "88SBw-zX4EZY"
      },
      "source": [
        "Узнаем, сколько пользователей есть в каждой экспериментальной группе:\n"
      ]
    },
    {
      "cell_type": "code",
      "execution_count": 28,
      "metadata": {
        "colab": {
          "base_uri": "https://localhost:8080/",
          "height": 175
        },
        "id": "4Uc3QL114qRC",
        "outputId": "d6c0d9e4-5cdd-456f-fc06-38d6ac337485"
      },
      "outputs": [
        {
          "output_type": "execute_result",
          "data": {
            "text/plain": [
              "       group_users\n",
              "group             \n",
              "A1            2483\n",
              "A2            2512\n",
              "B             2535"
            ],
            "text/html": [
              "\n",
              "  <div id=\"df-d35daedd-5f68-4a9c-8044-cc120148150f\">\n",
              "    <div class=\"colab-df-container\">\n",
              "      <div>\n",
              "<style scoped>\n",
              "    .dataframe tbody tr th:only-of-type {\n",
              "        vertical-align: middle;\n",
              "    }\n",
              "\n",
              "    .dataframe tbody tr th {\n",
              "        vertical-align: top;\n",
              "    }\n",
              "\n",
              "    .dataframe thead th {\n",
              "        text-align: right;\n",
              "    }\n",
              "</style>\n",
              "<table border=\"1\" class=\"dataframe\">\n",
              "  <thead>\n",
              "    <tr style=\"text-align: right;\">\n",
              "      <th></th>\n",
              "      <th>group_users</th>\n",
              "    </tr>\n",
              "    <tr>\n",
              "      <th>group</th>\n",
              "      <th></th>\n",
              "    </tr>\n",
              "  </thead>\n",
              "  <tbody>\n",
              "    <tr>\n",
              "      <th>A1</th>\n",
              "      <td>2483</td>\n",
              "    </tr>\n",
              "    <tr>\n",
              "      <th>A2</th>\n",
              "      <td>2512</td>\n",
              "    </tr>\n",
              "    <tr>\n",
              "      <th>B</th>\n",
              "      <td>2535</td>\n",
              "    </tr>\n",
              "  </tbody>\n",
              "</table>\n",
              "</div>\n",
              "      <button class=\"colab-df-convert\" onclick=\"convertToInteractive('df-d35daedd-5f68-4a9c-8044-cc120148150f')\"\n",
              "              title=\"Convert this dataframe to an interactive table.\"\n",
              "              style=\"display:none;\">\n",
              "        \n",
              "  <svg xmlns=\"http://www.w3.org/2000/svg\" height=\"24px\"viewBox=\"0 0 24 24\"\n",
              "       width=\"24px\">\n",
              "    <path d=\"M0 0h24v24H0V0z\" fill=\"none\"/>\n",
              "    <path d=\"M18.56 5.44l.94 2.06.94-2.06 2.06-.94-2.06-.94-.94-2.06-.94 2.06-2.06.94zm-11 1L8.5 8.5l.94-2.06 2.06-.94-2.06-.94L8.5 2.5l-.94 2.06-2.06.94zm10 10l.94 2.06.94-2.06 2.06-.94-2.06-.94-.94-2.06-.94 2.06-2.06.94z\"/><path d=\"M17.41 7.96l-1.37-1.37c-.4-.4-.92-.59-1.43-.59-.52 0-1.04.2-1.43.59L10.3 9.45l-7.72 7.72c-.78.78-.78 2.05 0 2.83L4 21.41c.39.39.9.59 1.41.59.51 0 1.02-.2 1.41-.59l7.78-7.78 2.81-2.81c.8-.78.8-2.07 0-2.86zM5.41 20L4 18.59l7.72-7.72 1.47 1.35L5.41 20z\"/>\n",
              "  </svg>\n",
              "      </button>\n",
              "      \n",
              "  <style>\n",
              "    .colab-df-container {\n",
              "      display:flex;\n",
              "      flex-wrap:wrap;\n",
              "      gap: 12px;\n",
              "    }\n",
              "\n",
              "    .colab-df-convert {\n",
              "      background-color: #E8F0FE;\n",
              "      border: none;\n",
              "      border-radius: 50%;\n",
              "      cursor: pointer;\n",
              "      display: none;\n",
              "      fill: #1967D2;\n",
              "      height: 32px;\n",
              "      padding: 0 0 0 0;\n",
              "      width: 32px;\n",
              "    }\n",
              "\n",
              "    .colab-df-convert:hover {\n",
              "      background-color: #E2EBFA;\n",
              "      box-shadow: 0px 1px 2px rgba(60, 64, 67, 0.3), 0px 1px 3px 1px rgba(60, 64, 67, 0.15);\n",
              "      fill: #174EA6;\n",
              "    }\n",
              "\n",
              "    [theme=dark] .colab-df-convert {\n",
              "      background-color: #3B4455;\n",
              "      fill: #D2E3FC;\n",
              "    }\n",
              "\n",
              "    [theme=dark] .colab-df-convert:hover {\n",
              "      background-color: #434B5C;\n",
              "      box-shadow: 0px 1px 3px 1px rgba(0, 0, 0, 0.15);\n",
              "      filter: drop-shadow(0px 1px 2px rgba(0, 0, 0, 0.3));\n",
              "      fill: #FFFFFF;\n",
              "    }\n",
              "  </style>\n",
              "\n",
              "      <script>\n",
              "        const buttonEl =\n",
              "          document.querySelector('#df-d35daedd-5f68-4a9c-8044-cc120148150f button.colab-df-convert');\n",
              "        buttonEl.style.display =\n",
              "          google.colab.kernel.accessAllowed ? 'block' : 'none';\n",
              "\n",
              "        async function convertToInteractive(key) {\n",
              "          const element = document.querySelector('#df-d35daedd-5f68-4a9c-8044-cc120148150f');\n",
              "          const dataTable =\n",
              "            await google.colab.kernel.invokeFunction('convertToInteractive',\n",
              "                                                     [key], {});\n",
              "          if (!dataTable) return;\n",
              "\n",
              "          const docLinkHtml = 'Like what you see? Visit the ' +\n",
              "            '<a target=\"_blank\" href=https://colab.research.google.com/notebooks/data_table.ipynb>data table notebook</a>'\n",
              "            + ' to learn more about interactive tables.';\n",
              "          element.innerHTML = '';\n",
              "          dataTable['output_type'] = 'display_data';\n",
              "          await google.colab.output.renderOutput(dataTable, element);\n",
              "          const docLink = document.createElement('div');\n",
              "          docLink.innerHTML = docLinkHtml;\n",
              "          element.appendChild(docLink);\n",
              "        }\n",
              "      </script>\n",
              "    </div>\n",
              "  </div>\n",
              "  "
            ]
          },
          "metadata": {},
          "execution_count": 28
        }
      ],
      "source": [
        "# группируем пользователей по группам\n",
        "ab_users = df_final \\\n",
        "    .groupby(['group']) \\\n",
        "    .agg({'user_id' : 'nunique'}) \\\n",
        "    .rename(columns=({'user_id' : 'group_users'}))\n",
        "\n",
        "ab_users"
      ]
    },
    {
      "cell_type": "markdown",
      "metadata": {
        "id": "l-lTSNUQ4rUG"
      },
      "source": [
        "Есть 2 контрольные группы для А/А-эксперимента, чтобы проверить корректность всех механизмов и расчётов. \n",
        "\n",
        "Проверим, находят ли статистические критерии разницу между выборками A1 и A2."
      ]
    },
    {
      "cell_type": "markdown",
      "metadata": {
        "id": "g3RbnK0RRSow"
      },
      "source": [
        "Посчитаем число пользователей, совершивших каждое из событий в каждой из контрольных групп. \n",
        "\n",
        "Добавим в таблицу долю пользователей, совершивших это событие в данной группе:"
      ]
    },
    {
      "cell_type": "code",
      "execution_count": 29,
      "metadata": {
        "colab": {
          "base_uri": "https://localhost:8080/",
          "height": 426
        },
        "id": "LdFkhZ59bZxk",
        "outputId": "64ffd924-cae5-474f-d11f-aef9e057cd86",
        "scrolled": true
      },
      "outputs": [
        {
          "output_type": "execute_result",
          "data": {
            "text/plain": [
              "                        event group  total_users  percent_of_group\n",
              "0          cart_screen_appear    A1         1266             50.99\n",
              "1          main_screen_appear    A1         2450             98.67\n",
              "2        offers_screen_appear    A1         1542             62.10\n",
              "3   payment_screen_successful    A1         1200             48.33\n",
              "4          cart_screen_appear    A2         1238             49.28\n",
              "5          main_screen_appear    A2         2476             98.57\n",
              "6        offers_screen_appear    A2         1520             60.51\n",
              "7   payment_screen_successful    A2         1158             46.10\n",
              "8          cart_screen_appear     B         1230             48.52\n",
              "9          main_screen_appear     B         2493             98.34\n",
              "10       offers_screen_appear     B         1531             60.39\n",
              "11  payment_screen_successful     B         1181             46.59"
            ],
            "text/html": [
              "\n",
              "  <div id=\"df-716afda9-bfcb-4e67-a48d-82c35bbdab02\">\n",
              "    <div class=\"colab-df-container\">\n",
              "      <div>\n",
              "<style scoped>\n",
              "    .dataframe tbody tr th:only-of-type {\n",
              "        vertical-align: middle;\n",
              "    }\n",
              "\n",
              "    .dataframe tbody tr th {\n",
              "        vertical-align: top;\n",
              "    }\n",
              "\n",
              "    .dataframe thead th {\n",
              "        text-align: right;\n",
              "    }\n",
              "</style>\n",
              "<table border=\"1\" class=\"dataframe\">\n",
              "  <thead>\n",
              "    <tr style=\"text-align: right;\">\n",
              "      <th></th>\n",
              "      <th>event</th>\n",
              "      <th>group</th>\n",
              "      <th>total_users</th>\n",
              "      <th>percent_of_group</th>\n",
              "    </tr>\n",
              "  </thead>\n",
              "  <tbody>\n",
              "    <tr>\n",
              "      <th>0</th>\n",
              "      <td>cart_screen_appear</td>\n",
              "      <td>A1</td>\n",
              "      <td>1266</td>\n",
              "      <td>50.99</td>\n",
              "    </tr>\n",
              "    <tr>\n",
              "      <th>1</th>\n",
              "      <td>main_screen_appear</td>\n",
              "      <td>A1</td>\n",
              "      <td>2450</td>\n",
              "      <td>98.67</td>\n",
              "    </tr>\n",
              "    <tr>\n",
              "      <th>2</th>\n",
              "      <td>offers_screen_appear</td>\n",
              "      <td>A1</td>\n",
              "      <td>1542</td>\n",
              "      <td>62.10</td>\n",
              "    </tr>\n",
              "    <tr>\n",
              "      <th>3</th>\n",
              "      <td>payment_screen_successful</td>\n",
              "      <td>A1</td>\n",
              "      <td>1200</td>\n",
              "      <td>48.33</td>\n",
              "    </tr>\n",
              "    <tr>\n",
              "      <th>4</th>\n",
              "      <td>cart_screen_appear</td>\n",
              "      <td>A2</td>\n",
              "      <td>1238</td>\n",
              "      <td>49.28</td>\n",
              "    </tr>\n",
              "    <tr>\n",
              "      <th>5</th>\n",
              "      <td>main_screen_appear</td>\n",
              "      <td>A2</td>\n",
              "      <td>2476</td>\n",
              "      <td>98.57</td>\n",
              "    </tr>\n",
              "    <tr>\n",
              "      <th>6</th>\n",
              "      <td>offers_screen_appear</td>\n",
              "      <td>A2</td>\n",
              "      <td>1520</td>\n",
              "      <td>60.51</td>\n",
              "    </tr>\n",
              "    <tr>\n",
              "      <th>7</th>\n",
              "      <td>payment_screen_successful</td>\n",
              "      <td>A2</td>\n",
              "      <td>1158</td>\n",
              "      <td>46.10</td>\n",
              "    </tr>\n",
              "    <tr>\n",
              "      <th>8</th>\n",
              "      <td>cart_screen_appear</td>\n",
              "      <td>B</td>\n",
              "      <td>1230</td>\n",
              "      <td>48.52</td>\n",
              "    </tr>\n",
              "    <tr>\n",
              "      <th>9</th>\n",
              "      <td>main_screen_appear</td>\n",
              "      <td>B</td>\n",
              "      <td>2493</td>\n",
              "      <td>98.34</td>\n",
              "    </tr>\n",
              "    <tr>\n",
              "      <th>10</th>\n",
              "      <td>offers_screen_appear</td>\n",
              "      <td>B</td>\n",
              "      <td>1531</td>\n",
              "      <td>60.39</td>\n",
              "    </tr>\n",
              "    <tr>\n",
              "      <th>11</th>\n",
              "      <td>payment_screen_successful</td>\n",
              "      <td>B</td>\n",
              "      <td>1181</td>\n",
              "      <td>46.59</td>\n",
              "    </tr>\n",
              "  </tbody>\n",
              "</table>\n",
              "</div>\n",
              "      <button class=\"colab-df-convert\" onclick=\"convertToInteractive('df-716afda9-bfcb-4e67-a48d-82c35bbdab02')\"\n",
              "              title=\"Convert this dataframe to an interactive table.\"\n",
              "              style=\"display:none;\">\n",
              "        \n",
              "  <svg xmlns=\"http://www.w3.org/2000/svg\" height=\"24px\"viewBox=\"0 0 24 24\"\n",
              "       width=\"24px\">\n",
              "    <path d=\"M0 0h24v24H0V0z\" fill=\"none\"/>\n",
              "    <path d=\"M18.56 5.44l.94 2.06.94-2.06 2.06-.94-2.06-.94-.94-2.06-.94 2.06-2.06.94zm-11 1L8.5 8.5l.94-2.06 2.06-.94-2.06-.94L8.5 2.5l-.94 2.06-2.06.94zm10 10l.94 2.06.94-2.06 2.06-.94-2.06-.94-.94-2.06-.94 2.06-2.06.94z\"/><path d=\"M17.41 7.96l-1.37-1.37c-.4-.4-.92-.59-1.43-.59-.52 0-1.04.2-1.43.59L10.3 9.45l-7.72 7.72c-.78.78-.78 2.05 0 2.83L4 21.41c.39.39.9.59 1.41.59.51 0 1.02-.2 1.41-.59l7.78-7.78 2.81-2.81c.8-.78.8-2.07 0-2.86zM5.41 20L4 18.59l7.72-7.72 1.47 1.35L5.41 20z\"/>\n",
              "  </svg>\n",
              "      </button>\n",
              "      \n",
              "  <style>\n",
              "    .colab-df-container {\n",
              "      display:flex;\n",
              "      flex-wrap:wrap;\n",
              "      gap: 12px;\n",
              "    }\n",
              "\n",
              "    .colab-df-convert {\n",
              "      background-color: #E8F0FE;\n",
              "      border: none;\n",
              "      border-radius: 50%;\n",
              "      cursor: pointer;\n",
              "      display: none;\n",
              "      fill: #1967D2;\n",
              "      height: 32px;\n",
              "      padding: 0 0 0 0;\n",
              "      width: 32px;\n",
              "    }\n",
              "\n",
              "    .colab-df-convert:hover {\n",
              "      background-color: #E2EBFA;\n",
              "      box-shadow: 0px 1px 2px rgba(60, 64, 67, 0.3), 0px 1px 3px 1px rgba(60, 64, 67, 0.15);\n",
              "      fill: #174EA6;\n",
              "    }\n",
              "\n",
              "    [theme=dark] .colab-df-convert {\n",
              "      background-color: #3B4455;\n",
              "      fill: #D2E3FC;\n",
              "    }\n",
              "\n",
              "    [theme=dark] .colab-df-convert:hover {\n",
              "      background-color: #434B5C;\n",
              "      box-shadow: 0px 1px 3px 1px rgba(0, 0, 0, 0.15);\n",
              "      filter: drop-shadow(0px 1px 2px rgba(0, 0, 0, 0.3));\n",
              "      fill: #FFFFFF;\n",
              "    }\n",
              "  </style>\n",
              "\n",
              "      <script>\n",
              "        const buttonEl =\n",
              "          document.querySelector('#df-716afda9-bfcb-4e67-a48d-82c35bbdab02 button.colab-df-convert');\n",
              "        buttonEl.style.display =\n",
              "          google.colab.kernel.accessAllowed ? 'block' : 'none';\n",
              "\n",
              "        async function convertToInteractive(key) {\n",
              "          const element = document.querySelector('#df-716afda9-bfcb-4e67-a48d-82c35bbdab02');\n",
              "          const dataTable =\n",
              "            await google.colab.kernel.invokeFunction('convertToInteractive',\n",
              "                                                     [key], {});\n",
              "          if (!dataTable) return;\n",
              "\n",
              "          const docLinkHtml = 'Like what you see? Visit the ' +\n",
              "            '<a target=\"_blank\" href=https://colab.research.google.com/notebooks/data_table.ipynb>data table notebook</a>'\n",
              "            + ' to learn more about interactive tables.';\n",
              "          element.innerHTML = '';\n",
              "          dataTable['output_type'] = 'display_data';\n",
              "          await google.colab.output.renderOutput(dataTable, element);\n",
              "          const docLink = document.createElement('div');\n",
              "          docLink.innerHTML = docLinkHtml;\n",
              "          element.appendChild(docLink);\n",
              "        }\n",
              "      </script>\n",
              "    </div>\n",
              "  </div>\n",
              "  "
            ]
          },
          "metadata": {},
          "execution_count": 29
        }
      ],
      "source": [
        "# сгруппируем пользователей по событиям и группам\n",
        "ab_events = df_final \\\n",
        "    .groupby(['event', 'group'], as_index=False) \\\n",
        "    .agg({'user_id' : 'nunique'}) \\\n",
        "    .rename(columns=({'user_id' : 'total_users'}))\n",
        "    \n",
        "# объединим датасеты, добавив столбец с общим количеством в группе\n",
        "ab_events = ab_events.merge(ab_users.reset_index(), how='inner', on='group')\n",
        "\n",
        "# добавим столбец с долей от всех пользователей группы\n",
        "ab_events['percent_of_group'] = (ab_events['total_users'] / ab_events['group_users']*100)\n",
        "\n",
        "# удалим столбец, он больше не нужен   \n",
        "ab_events = ab_events.drop(['group_users'], axis=1)\n",
        "ab_events"
      ]
    },
    {
      "cell_type": "code",
      "execution_count": 30,
      "metadata": {
        "id": "G-V7iWHVt_7O",
        "outputId": "1c524c8f-39ac-42a3-ea40-31385649d048",
        "colab": {
          "base_uri": "https://localhost:8080/"
        }
      },
      "outputs": [
        {
          "output_type": "stream",
          "name": "stdout",
          "text": [
            "0.4928343949044586\n",
            "0.9856687898089171\n",
            "0.6050955414012739\n",
            "0.4609872611464968\n"
          ]
        }
      ],
      "source": [
        "#ячейка ревьюера\n",
        "for i in ab_events.index:\n",
        "    if ab_events.loc[i,'group'] == 'A2':\n",
        "        print(ab_events.loc[i,'total_users']/ab_users.loc['A2','group_users'])"
      ]
    },
    {
      "cell_type": "markdown",
      "metadata": {
        "id": "LfWyFknNe-re"
      },
      "source": [
        "Проверим, будет ли отличие между группами статистически достоверным.\n",
        "\n",
        "Обернем проверку в отдельную функцию: "
      ]
    },
    {
      "cell_type": "code",
      "execution_count": 31,
      "metadata": {
        "id": "M2v3WuWiIYEC"
      },
      "outputs": [],
      "source": [
        "# создадим список событий\n",
        "event_name = ['payment_screen_successful', 'cart_screen_appear', \\\n",
        "             'offers_screen_appear', 'main_screen_appear']\n",
        "\n",
        "# зададим функцию для проверки гипотезы для двух групп\n",
        "def event_diff_check(test_users, test_events, group_1, group_2):\n",
        "\n",
        "    \n",
        "    alpha = .05 # критический уровень статистической значимости\n",
        "\n",
        "    for name in event_name:\n",
        "        # рассчитываемое событие\n",
        "        successes = np.array([int(test_events.query('group == @group_1 \\\n",
        "                              & event == @name')['total_users']),\\\n",
        "                              int(test_events.query('group == @group_2 \\\n",
        "                              & event == @name')['total_users'])])\n",
        "\n",
        "        # все события\n",
        "        trials = np.array([test_users.loc[group_1, 'group_users'],\\\n",
        "                           test_users.loc[group_2, 'group_users']])\n",
        "\n",
        "        # пропорция успехов в первой группе\n",
        "        p1 = successes[0]/trials[0]\n",
        "\n",
        "        # пропорция успехов во второй группе\n",
        "        p2 = successes[1]/trials[1]\n",
        "\n",
        "        # пропорция успехов в комбинированном датасете\n",
        "        p_combined = (successes[0] + successes[1]) / (trials[0] + trials[1])\n",
        "\n",
        "        # разница пропорций в датасетах\n",
        "        difference = p1 - p2\n",
        "\n",
        "        # считаем статистику в ст.отклонениях стандартного нормального распределения\n",
        "        z_value = difference / mth.sqrt(p_combined * (1 - p_combined) \\\n",
        "                                        * (1/trials[0] + 1/trials[1]))\n",
        "\n",
        "        # задаем стандартное нормальное распределение (среднее 0, ст.отклонение 1)\n",
        "        distr = st.norm(0, 1)\n",
        "\n",
        "        p_value = (1 - distr.cdf(abs(z_value))) * 2\n",
        "\n",
        "        print('\\nГруппы: {} и {}\\\n",
        "        \\np-значение: {}'.format(group_1, group_2, p_value.round(2)))\n",
        "\n",
        "        if (p_value < alpha):\n",
        "            print('Событие: {}\\\n",
        "            \\nОтвергаем нулевую гипотезу. \\n---'\\\n",
        "                  .format(name))\n",
        "        else:\n",
        "            print('Событие: {} \\\n",
        "            \\nНе получилось отвергнуть нулевую гипотезу. \\n---'\\\n",
        "                  .format(name))"
      ]
    },
    {
      "cell_type": "code",
      "execution_count": 32,
      "metadata": {
        "id": "fuF2M-frt_7P"
      },
      "outputs": [],
      "source": [
        "# задаем уровень статистической значимости\n",
        "alpha = .05 \n",
        "\n",
        "# задаем универсальную функцию для статистического теста \n",
        "def z_test (successes1, successes2, trials1, trials2):\n",
        "    \n",
        "    # пропорция успехов в первой группе\n",
        "    p1 = successes1/trials1\n",
        "\n",
        "    # пропорция успехов во второй группе\n",
        "    p2 = successes2/trials2\n",
        "\n",
        "    # пропорция успехов в комбинированном датасете\n",
        "    p_combined = (successes1 + successes2) / (trials1 + trials2)\n",
        "\n",
        "    # разница пропорций в датасетах\n",
        "    difference = p1 - p2 \n",
        "    \n",
        "    # считаем статистику в ст.отклонениях стандартного нормального распределения\n",
        "    z_value = difference / mth.sqrt(p_combined * (1 - p_combined) * (1/trials1 + 1/trials2))\n",
        "    \n",
        "    # задаем стандартное нормальное распределение (среднее 0, ст.отклонение 1)\n",
        "    distr = st.norm(0, 1) \n",
        "    \n",
        "    p_value = (1 - distr.cdf(abs(z_value))) * 2\n",
        "    \n",
        "    print('p-значение: ', p_value)\n",
        "\n",
        "    if (p_value < alpha):\n",
        "        print('Отвергаем нулевую гипотезу: между долями есть значимая разница')\n",
        "    else:\n",
        "        print('Не получилось отвергнуть нулевую гипотезу, нет оснований считать доли разными')"
      ]
    },
    {
      "cell_type": "markdown",
      "metadata": {
        "id": "NiOx2aFNCvIZ"
      },
      "source": [
        "Теперь сформулируем гипотезу и проверим контрольные группы."
      ]
    },
    {
      "cell_type": "markdown",
      "metadata": {
        "id": "4-4X7N7D-KTb"
      },
      "source": [
        "### Гипотеза: статистически значимых различий после смены шрифта между группами нет."
      ]
    },
    {
      "cell_type": "markdown",
      "metadata": {
        "id": "8ZEzx3RgYFCp"
      },
      "source": [
        "- $H_0$: доли пользователей в группах A1 и A2 равны\n",
        "- $H_1$: доли пользователей в группах A1 и A2 отличаются"
      ]
    },
    {
      "cell_type": "code",
      "execution_count": 33,
      "metadata": {
        "colab": {
          "base_uri": "https://localhost:8080/"
        },
        "id": "tS0pEmTAATsW",
        "outputId": "bccb9c71-f280-4f62-d253-ef58e5b96c3f"
      },
      "outputs": [
        {
          "output_type": "stream",
          "name": "stdout",
          "text": [
            "\n",
            "Группы: A1 и A2        \n",
            "p-значение: 0.11\n",
            "Событие: payment_screen_successful             \n",
            "Не получилось отвергнуть нулевую гипотезу. \n",
            "---\n",
            "\n",
            "Группы: A1 и A2        \n",
            "p-значение: 0.23\n",
            "Событие: cart_screen_appear             \n",
            "Не получилось отвергнуть нулевую гипотезу. \n",
            "---\n",
            "\n",
            "Группы: A1 и A2        \n",
            "p-значение: 0.25\n",
            "Событие: offers_screen_appear             \n",
            "Не получилось отвергнуть нулевую гипотезу. \n",
            "---\n",
            "\n",
            "Группы: A1 и A2        \n",
            "p-значение: 0.75\n",
            "Событие: main_screen_appear             \n",
            "Не получилось отвергнуть нулевую гипотезу. \n",
            "---\n"
          ]
        }
      ],
      "source": [
        "# запускаем функцию для расчета\n",
        "event_diff_check(ab_users, ab_events, 'A1', 'A2')"
      ]
    },
    {
      "cell_type": "markdown",
      "metadata": {
        "id": "daUdxYUsQCwR"
      },
      "source": [
        "При расчете с критическим уровнем статистической значимости в 5% у групп A1 и A2 получились примерно одинаковые результаты.\n",
        "\n",
        "Гипотеза о равенстве групп подтвердилась. "
      ]
    },
    {
      "cell_type": "markdown",
      "metadata": {
        "id": "j1XZN139t_7R"
      },
      "source": [
        "**Вывод:** мы проверили контрольную группу и не обнаружили статистически значимой разницы между двумя группами пользователей – нет оснований считать доли разными."
      ]
    },
    {
      "cell_type": "markdown",
      "metadata": {
        "id": "5Vyaa1GORZPY"
      },
      "source": [
        "Аналогично поступим с группой с изменённым шрифтом (B). \n",
        "\n",
        "Сравним результаты с каждой из контрольных групп в отдельности по каждому событию:\n"
      ]
    },
    {
      "cell_type": "markdown",
      "metadata": {
        "id": "kr_6nnSUhHc7"
      },
      "source": [
        "### Проверка в группах A1 и B"
      ]
    },
    {
      "cell_type": "markdown",
      "metadata": {
        "id": "KMv3LKWohHdB"
      },
      "source": [
        "- $H_0$: доли пользователей в группах A1 и B равны\n",
        "- $H_1$: доли пользователей в группах A1 и B отличаются"
      ]
    },
    {
      "cell_type": "code",
      "execution_count": 34,
      "metadata": {
        "colab": {
          "base_uri": "https://localhost:8080/"
        },
        "id": "nCEI2lktRbnL",
        "outputId": "f89e41f2-5806-4e03-c986-217011c12896"
      },
      "outputs": [
        {
          "output_type": "stream",
          "name": "stdout",
          "text": [
            "\n",
            "Группы: A1 и B        \n",
            "p-значение: 0.22\n",
            "Событие: payment_screen_successful             \n",
            "Не получилось отвергнуть нулевую гипотезу. \n",
            "---\n",
            "\n",
            "Группы: A1 и B        \n",
            "p-значение: 0.08\n",
            "Событие: cart_screen_appear             \n",
            "Не получилось отвергнуть нулевую гипотезу. \n",
            "---\n",
            "\n",
            "Группы: A1 и B        \n",
            "p-значение: 0.21\n",
            "Событие: offers_screen_appear             \n",
            "Не получилось отвергнуть нулевую гипотезу. \n",
            "---\n",
            "\n",
            "Группы: A1 и B        \n",
            "p-значение: 0.34\n",
            "Событие: main_screen_appear             \n",
            "Не получилось отвергнуть нулевую гипотезу. \n",
            "---\n"
          ]
        }
      ],
      "source": [
        "# запускаем функцию для расчета\n",
        "event_diff_check(ab_users, ab_events, 'A1', 'B')"
      ]
    },
    {
      "cell_type": "markdown",
      "metadata": {
        "id": "IL3pSB1LhYgR"
      },
      "source": [
        "При расчете с критическим уровнем статистической значимости в 5% у контрольных групп A1 и B получились примерно одинаковые результаты.\n",
        "\n",
        "Гипотеза о равенстве групп подтвердилась. "
      ]
    },
    {
      "cell_type": "markdown",
      "metadata": {
        "id": "lXJ9_z6dt_7S"
      },
      "source": [
        "**Вывод:** для групп A1 и В нет оснований считать доли разными."
      ]
    },
    {
      "cell_type": "markdown",
      "metadata": {
        "id": "VHKJLziohMpw"
      },
      "source": [
        "### Проверка в группах A2 и B"
      ]
    },
    {
      "cell_type": "markdown",
      "metadata": {
        "id": "plcprnz0hMpw"
      },
      "source": [
        "- $H_0$: доли пользователей в группах A2 и B равны\n",
        "- $H_1$: доли пользователей в группах A2 и B отличаются"
      ]
    },
    {
      "cell_type": "code",
      "execution_count": 35,
      "metadata": {
        "colab": {
          "base_uri": "https://localhost:8080/"
        },
        "id": "ihd2Z1hRflar",
        "outputId": "73df1158-e7b0-4e81-9d8f-288bbc8a8a97"
      },
      "outputs": [
        {
          "output_type": "stream",
          "name": "stdout",
          "text": [
            "\n",
            "Группы: A2 и B        \n",
            "p-значение: 0.73\n",
            "Событие: payment_screen_successful             \n",
            "Не получилось отвергнуть нулевую гипотезу. \n",
            "---\n",
            "\n",
            "Группы: A2 и B        \n",
            "p-значение: 0.59\n",
            "Событие: cart_screen_appear             \n",
            "Не получилось отвергнуть нулевую гипотезу. \n",
            "---\n",
            "\n",
            "Группы: A2 и B        \n",
            "p-значение: 0.93\n",
            "Событие: offers_screen_appear             \n",
            "Не получилось отвергнуть нулевую гипотезу. \n",
            "---\n",
            "\n",
            "Группы: A2 и B        \n",
            "p-значение: 0.52\n",
            "Событие: main_screen_appear             \n",
            "Не получилось отвергнуть нулевую гипотезу. \n",
            "---\n"
          ]
        }
      ],
      "source": [
        "# запускаем функцию для расчета\n",
        "event_diff_check(ab_users, ab_events, 'A2', 'B')"
      ]
    },
    {
      "cell_type": "markdown",
      "metadata": {
        "id": "8wWyd5SVhb_6"
      },
      "source": [
        "При расчете с критическим уровнем статистической значимости в 5% у групп A2 и B получились примерно одинаковые результаты.\n",
        "\n",
        "Гипотеза о равенстве групп подтвердилась. "
      ]
    },
    {
      "cell_type": "markdown",
      "metadata": {
        "id": "OP0GyU7ct_7S"
      },
      "source": [
        "**Вывод:** для групп A2 и В нет оснований считать доли разными."
      ]
    },
    {
      "cell_type": "markdown",
      "metadata": {
        "id": "yXV3xz54plpV"
      },
      "source": [
        "Сравним результаты с объединённой контрольной группой:"
      ]
    },
    {
      "cell_type": "code",
      "execution_count": 36,
      "metadata": {
        "colab": {
          "base_uri": "https://localhost:8080/",
          "height": 143
        },
        "id": "7EK9hi-g2Xja",
        "outputId": "64bbbc64-8e1a-42e5-b6fa-d210ab8708e1"
      },
      "outputs": [
        {
          "output_type": "execute_result",
          "data": {
            "text/plain": [
              "       group_users\n",
              "group             \n",
              "AA            4995\n",
              "B             2535"
            ],
            "text/html": [
              "\n",
              "  <div id=\"df-262429dd-32d5-4b72-bdb1-8bff6c73ebb6\">\n",
              "    <div class=\"colab-df-container\">\n",
              "      <div>\n",
              "<style scoped>\n",
              "    .dataframe tbody tr th:only-of-type {\n",
              "        vertical-align: middle;\n",
              "    }\n",
              "\n",
              "    .dataframe tbody tr th {\n",
              "        vertical-align: top;\n",
              "    }\n",
              "\n",
              "    .dataframe thead th {\n",
              "        text-align: right;\n",
              "    }\n",
              "</style>\n",
              "<table border=\"1\" class=\"dataframe\">\n",
              "  <thead>\n",
              "    <tr style=\"text-align: right;\">\n",
              "      <th></th>\n",
              "      <th>group_users</th>\n",
              "    </tr>\n",
              "    <tr>\n",
              "      <th>group</th>\n",
              "      <th></th>\n",
              "    </tr>\n",
              "  </thead>\n",
              "  <tbody>\n",
              "    <tr>\n",
              "      <th>AA</th>\n",
              "      <td>4995</td>\n",
              "    </tr>\n",
              "    <tr>\n",
              "      <th>B</th>\n",
              "      <td>2535</td>\n",
              "    </tr>\n",
              "  </tbody>\n",
              "</table>\n",
              "</div>\n",
              "      <button class=\"colab-df-convert\" onclick=\"convertToInteractive('df-262429dd-32d5-4b72-bdb1-8bff6c73ebb6')\"\n",
              "              title=\"Convert this dataframe to an interactive table.\"\n",
              "              style=\"display:none;\">\n",
              "        \n",
              "  <svg xmlns=\"http://www.w3.org/2000/svg\" height=\"24px\"viewBox=\"0 0 24 24\"\n",
              "       width=\"24px\">\n",
              "    <path d=\"M0 0h24v24H0V0z\" fill=\"none\"/>\n",
              "    <path d=\"M18.56 5.44l.94 2.06.94-2.06 2.06-.94-2.06-.94-.94-2.06-.94 2.06-2.06.94zm-11 1L8.5 8.5l.94-2.06 2.06-.94-2.06-.94L8.5 2.5l-.94 2.06-2.06.94zm10 10l.94 2.06.94-2.06 2.06-.94-2.06-.94-.94-2.06-.94 2.06-2.06.94z\"/><path d=\"M17.41 7.96l-1.37-1.37c-.4-.4-.92-.59-1.43-.59-.52 0-1.04.2-1.43.59L10.3 9.45l-7.72 7.72c-.78.78-.78 2.05 0 2.83L4 21.41c.39.39.9.59 1.41.59.51 0 1.02-.2 1.41-.59l7.78-7.78 2.81-2.81c.8-.78.8-2.07 0-2.86zM5.41 20L4 18.59l7.72-7.72 1.47 1.35L5.41 20z\"/>\n",
              "  </svg>\n",
              "      </button>\n",
              "      \n",
              "  <style>\n",
              "    .colab-df-container {\n",
              "      display:flex;\n",
              "      flex-wrap:wrap;\n",
              "      gap: 12px;\n",
              "    }\n",
              "\n",
              "    .colab-df-convert {\n",
              "      background-color: #E8F0FE;\n",
              "      border: none;\n",
              "      border-radius: 50%;\n",
              "      cursor: pointer;\n",
              "      display: none;\n",
              "      fill: #1967D2;\n",
              "      height: 32px;\n",
              "      padding: 0 0 0 0;\n",
              "      width: 32px;\n",
              "    }\n",
              "\n",
              "    .colab-df-convert:hover {\n",
              "      background-color: #E2EBFA;\n",
              "      box-shadow: 0px 1px 2px rgba(60, 64, 67, 0.3), 0px 1px 3px 1px rgba(60, 64, 67, 0.15);\n",
              "      fill: #174EA6;\n",
              "    }\n",
              "\n",
              "    [theme=dark] .colab-df-convert {\n",
              "      background-color: #3B4455;\n",
              "      fill: #D2E3FC;\n",
              "    }\n",
              "\n",
              "    [theme=dark] .colab-df-convert:hover {\n",
              "      background-color: #434B5C;\n",
              "      box-shadow: 0px 1px 3px 1px rgba(0, 0, 0, 0.15);\n",
              "      filter: drop-shadow(0px 1px 2px rgba(0, 0, 0, 0.3));\n",
              "      fill: #FFFFFF;\n",
              "    }\n",
              "  </style>\n",
              "\n",
              "      <script>\n",
              "        const buttonEl =\n",
              "          document.querySelector('#df-262429dd-32d5-4b72-bdb1-8bff6c73ebb6 button.colab-df-convert');\n",
              "        buttonEl.style.display =\n",
              "          google.colab.kernel.accessAllowed ? 'block' : 'none';\n",
              "\n",
              "        async function convertToInteractive(key) {\n",
              "          const element = document.querySelector('#df-262429dd-32d5-4b72-bdb1-8bff6c73ebb6');\n",
              "          const dataTable =\n",
              "            await google.colab.kernel.invokeFunction('convertToInteractive',\n",
              "                                                     [key], {});\n",
              "          if (!dataTable) return;\n",
              "\n",
              "          const docLinkHtml = 'Like what you see? Visit the ' +\n",
              "            '<a target=\"_blank\" href=https://colab.research.google.com/notebooks/data_table.ipynb>data table notebook</a>'\n",
              "            + ' to learn more about interactive tables.';\n",
              "          element.innerHTML = '';\n",
              "          dataTable['output_type'] = 'display_data';\n",
              "          await google.colab.output.renderOutput(dataTable, element);\n",
              "          const docLink = document.createElement('div');\n",
              "          docLink.innerHTML = docLinkHtml;\n",
              "          element.appendChild(docLink);\n",
              "        }\n",
              "      </script>\n",
              "    </div>\n",
              "  </div>\n",
              "  "
            ]
          },
          "metadata": {},
          "execution_count": 36
        }
      ],
      "source": [
        "# создадим таблицу с комбинированной группой AA\n",
        "aab_users = df_final \\\n",
        "    .groupby(['group'], as_index=False) \\\n",
        "    .agg({'user_id' : 'nunique'}) \\\n",
        "    .rename(columns=({'user_id' : 'group_users'}))\n",
        "\n",
        "aab_users['group'] = ['AA','AA','B']\n",
        "aab_users = aab_users.groupby('group').sum()\n",
        "aab_users"
      ]
    },
    {
      "cell_type": "code",
      "execution_count": 37,
      "metadata": {
        "colab": {
          "base_uri": "https://localhost:8080/",
          "height": 300
        },
        "id": "CanGiDrT4F4C",
        "outputId": "f6b83bf5-f5fb-4a93-993a-4571ef5ffde8"
      },
      "outputs": [
        {
          "output_type": "execute_result",
          "data": {
            "text/plain": [
              "                       event group  total_users\n",
              "0         cart_screen_appear    AA         2504\n",
              "1         cart_screen_appear     B         1230\n",
              "2         main_screen_appear    AA         4926\n",
              "3         main_screen_appear     B         2493\n",
              "4       offers_screen_appear    AA         3062\n",
              "5       offers_screen_appear     B         1531\n",
              "6  payment_screen_successful    AA         2358\n",
              "7  payment_screen_successful     B         1181"
            ],
            "text/html": [
              "\n",
              "  <div id=\"df-ecabc176-9e0b-4655-84f6-13045c10bc5d\">\n",
              "    <div class=\"colab-df-container\">\n",
              "      <div>\n",
              "<style scoped>\n",
              "    .dataframe tbody tr th:only-of-type {\n",
              "        vertical-align: middle;\n",
              "    }\n",
              "\n",
              "    .dataframe tbody tr th {\n",
              "        vertical-align: top;\n",
              "    }\n",
              "\n",
              "    .dataframe thead th {\n",
              "        text-align: right;\n",
              "    }\n",
              "</style>\n",
              "<table border=\"1\" class=\"dataframe\">\n",
              "  <thead>\n",
              "    <tr style=\"text-align: right;\">\n",
              "      <th></th>\n",
              "      <th>event</th>\n",
              "      <th>group</th>\n",
              "      <th>total_users</th>\n",
              "    </tr>\n",
              "  </thead>\n",
              "  <tbody>\n",
              "    <tr>\n",
              "      <th>0</th>\n",
              "      <td>cart_screen_appear</td>\n",
              "      <td>AA</td>\n",
              "      <td>2504</td>\n",
              "    </tr>\n",
              "    <tr>\n",
              "      <th>1</th>\n",
              "      <td>cart_screen_appear</td>\n",
              "      <td>B</td>\n",
              "      <td>1230</td>\n",
              "    </tr>\n",
              "    <tr>\n",
              "      <th>2</th>\n",
              "      <td>main_screen_appear</td>\n",
              "      <td>AA</td>\n",
              "      <td>4926</td>\n",
              "    </tr>\n",
              "    <tr>\n",
              "      <th>3</th>\n",
              "      <td>main_screen_appear</td>\n",
              "      <td>B</td>\n",
              "      <td>2493</td>\n",
              "    </tr>\n",
              "    <tr>\n",
              "      <th>4</th>\n",
              "      <td>offers_screen_appear</td>\n",
              "      <td>AA</td>\n",
              "      <td>3062</td>\n",
              "    </tr>\n",
              "    <tr>\n",
              "      <th>5</th>\n",
              "      <td>offers_screen_appear</td>\n",
              "      <td>B</td>\n",
              "      <td>1531</td>\n",
              "    </tr>\n",
              "    <tr>\n",
              "      <th>6</th>\n",
              "      <td>payment_screen_successful</td>\n",
              "      <td>AA</td>\n",
              "      <td>2358</td>\n",
              "    </tr>\n",
              "    <tr>\n",
              "      <th>7</th>\n",
              "      <td>payment_screen_successful</td>\n",
              "      <td>B</td>\n",
              "      <td>1181</td>\n",
              "    </tr>\n",
              "  </tbody>\n",
              "</table>\n",
              "</div>\n",
              "      <button class=\"colab-df-convert\" onclick=\"convertToInteractive('df-ecabc176-9e0b-4655-84f6-13045c10bc5d')\"\n",
              "              title=\"Convert this dataframe to an interactive table.\"\n",
              "              style=\"display:none;\">\n",
              "        \n",
              "  <svg xmlns=\"http://www.w3.org/2000/svg\" height=\"24px\"viewBox=\"0 0 24 24\"\n",
              "       width=\"24px\">\n",
              "    <path d=\"M0 0h24v24H0V0z\" fill=\"none\"/>\n",
              "    <path d=\"M18.56 5.44l.94 2.06.94-2.06 2.06-.94-2.06-.94-.94-2.06-.94 2.06-2.06.94zm-11 1L8.5 8.5l.94-2.06 2.06-.94-2.06-.94L8.5 2.5l-.94 2.06-2.06.94zm10 10l.94 2.06.94-2.06 2.06-.94-2.06-.94-.94-2.06-.94 2.06-2.06.94z\"/><path d=\"M17.41 7.96l-1.37-1.37c-.4-.4-.92-.59-1.43-.59-.52 0-1.04.2-1.43.59L10.3 9.45l-7.72 7.72c-.78.78-.78 2.05 0 2.83L4 21.41c.39.39.9.59 1.41.59.51 0 1.02-.2 1.41-.59l7.78-7.78 2.81-2.81c.8-.78.8-2.07 0-2.86zM5.41 20L4 18.59l7.72-7.72 1.47 1.35L5.41 20z\"/>\n",
              "  </svg>\n",
              "      </button>\n",
              "      \n",
              "  <style>\n",
              "    .colab-df-container {\n",
              "      display:flex;\n",
              "      flex-wrap:wrap;\n",
              "      gap: 12px;\n",
              "    }\n",
              "\n",
              "    .colab-df-convert {\n",
              "      background-color: #E8F0FE;\n",
              "      border: none;\n",
              "      border-radius: 50%;\n",
              "      cursor: pointer;\n",
              "      display: none;\n",
              "      fill: #1967D2;\n",
              "      height: 32px;\n",
              "      padding: 0 0 0 0;\n",
              "      width: 32px;\n",
              "    }\n",
              "\n",
              "    .colab-df-convert:hover {\n",
              "      background-color: #E2EBFA;\n",
              "      box-shadow: 0px 1px 2px rgba(60, 64, 67, 0.3), 0px 1px 3px 1px rgba(60, 64, 67, 0.15);\n",
              "      fill: #174EA6;\n",
              "    }\n",
              "\n",
              "    [theme=dark] .colab-df-convert {\n",
              "      background-color: #3B4455;\n",
              "      fill: #D2E3FC;\n",
              "    }\n",
              "\n",
              "    [theme=dark] .colab-df-convert:hover {\n",
              "      background-color: #434B5C;\n",
              "      box-shadow: 0px 1px 3px 1px rgba(0, 0, 0, 0.15);\n",
              "      filter: drop-shadow(0px 1px 2px rgba(0, 0, 0, 0.3));\n",
              "      fill: #FFFFFF;\n",
              "    }\n",
              "  </style>\n",
              "\n",
              "      <script>\n",
              "        const buttonEl =\n",
              "          document.querySelector('#df-ecabc176-9e0b-4655-84f6-13045c10bc5d button.colab-df-convert');\n",
              "        buttonEl.style.display =\n",
              "          google.colab.kernel.accessAllowed ? 'block' : 'none';\n",
              "\n",
              "        async function convertToInteractive(key) {\n",
              "          const element = document.querySelector('#df-ecabc176-9e0b-4655-84f6-13045c10bc5d');\n",
              "          const dataTable =\n",
              "            await google.colab.kernel.invokeFunction('convertToInteractive',\n",
              "                                                     [key], {});\n",
              "          if (!dataTable) return;\n",
              "\n",
              "          const docLinkHtml = 'Like what you see? Visit the ' +\n",
              "            '<a target=\"_blank\" href=https://colab.research.google.com/notebooks/data_table.ipynb>data table notebook</a>'\n",
              "            + ' to learn more about interactive tables.';\n",
              "          element.innerHTML = '';\n",
              "          dataTable['output_type'] = 'display_data';\n",
              "          await google.colab.output.renderOutput(dataTable, element);\n",
              "          const docLink = document.createElement('div');\n",
              "          docLink.innerHTML = docLinkHtml;\n",
              "          element.appendChild(docLink);\n",
              "        }\n",
              "      </script>\n",
              "    </div>\n",
              "  </div>\n",
              "  "
            ]
          },
          "metadata": {},
          "execution_count": 37
        }
      ],
      "source": [
        "# создадим таблицу по событиям для двух групп\n",
        "aab_events = df_final.replace({'A1':'AA', 'A2':'AA'}) \\\n",
        "    .groupby(['event', 'group'], as_index=False) \\\n",
        "    .agg({'user_id' : 'nunique'}) \\\n",
        "    .rename(columns=({'user_id' : 'total_users'}))\n",
        "\n",
        "aab_events"
      ]
    },
    {
      "cell_type": "markdown",
      "metadata": {
        "id": "u1kjFxf5hhHr"
      },
      "source": [
        "### Проверка в группах AA и B"
      ]
    },
    {
      "cell_type": "markdown",
      "metadata": {
        "id": "c5eZZ5mHhhHs"
      },
      "source": [
        "- $H_0$: доли пользователей в группах AA и B равны\n",
        "- $H_1$: доли пользователей в группах AA и B отличаются"
      ]
    },
    {
      "cell_type": "code",
      "execution_count": 38,
      "metadata": {
        "colab": {
          "base_uri": "https://localhost:8080/"
        },
        "id": "2DxvFHlar5Mb",
        "outputId": "4184ddfc-3064-4d35-a764-9a7b21ed0da2"
      },
      "outputs": [
        {
          "output_type": "stream",
          "name": "stdout",
          "text": [
            "\n",
            "Группы: AA и B        \n",
            "p-значение: 0.61\n",
            "Событие: payment_screen_successful             \n",
            "Не получилось отвергнуть нулевую гипотезу. \n",
            "---\n",
            "\n",
            "Группы: AA и B        \n",
            "p-значение: 0.19\n",
            "Событие: cart_screen_appear             \n",
            "Не получилось отвергнуть нулевую гипотезу. \n",
            "---\n",
            "\n",
            "Группы: AA и B        \n",
            "p-значение: 0.45\n",
            "Событие: offers_screen_appear             \n",
            "Не получилось отвергнуть нулевую гипотезу. \n",
            "---\n",
            "\n",
            "Группы: AA и B        \n",
            "p-значение: 0.35\n",
            "Событие: main_screen_appear             \n",
            "Не получилось отвергнуть нулевую гипотезу. \n",
            "---\n"
          ]
        }
      ],
      "source": [
        "# запускаем функцию для расчета\n",
        "event_diff_check(aab_users, aab_events, 'AA', 'B')"
      ]
    },
    {
      "cell_type": "markdown",
      "metadata": {
        "id": "nxU_H2xQDju6"
      },
      "source": [
        "При расчете с критическим уровнем статистической значимости в 5% у групп AA и B получились примерно одинаковые результаты.\n",
        "\n",
        "Гипотеза о равенстве групп подтвердилась. "
      ]
    },
    {
      "cell_type": "markdown",
      "metadata": {
        "id": "Jsoksn0Pt_7T"
      },
      "source": [
        "**Вывод:** для групп AA и В нет оснований считать доли разными."
      ]
    },
    {
      "cell_type": "markdown",
      "metadata": {
        "id": "EcBFPSBMJ6u7"
      },
      "source": [
        "### Проверка с p_value=0.1"
      ]
    },
    {
      "cell_type": "markdown",
      "metadata": {
        "id": "RuD2sFL0-bvx"
      },
      "source": [
        "Проведено 16 тестов с уровнем значимости 5% – все они показали, что группы разбиты корректно и не имеют различий в долях.\n",
        "\n",
        "Попробуем изменить значение `p_value` на 10%, чтобы получить другой результат и предотвратить ошибку первого рода:"
      ]
    },
    {
      "cell_type": "code",
      "execution_count": 39,
      "metadata": {
        "id": "MaeSuRc2fhy3"
      },
      "outputs": [],
      "source": [
        "# зададим функцию для проверки гипотезы для двух групп\n",
        "def event_diff_check_01(test_users, test_events, group_1, group_2):\n",
        "\n",
        "    event_name = ['payment_screen_successful', 'cart_screen_appear', \\\n",
        "             'offers_screen_appear', 'main_screen_appear']\n",
        "\n",
        "    alpha = .1 # критический уровень статистической значимости\n",
        "\n",
        "    for name in event_name:\n",
        "        # рассчитываемое событие\n",
        "        successes = np.array([int(test_events.query('group == @group_1 \\\n",
        "                              & event == @name')['total_users']),\\\n",
        "                              int(test_events.query('group == @group_2 \\\n",
        "                              & event == @name')['total_users'])])\n",
        "\n",
        "        # все события\n",
        "        trials = np.array([test_users.loc[group_1, 'group_users'],\\\n",
        "                           test_users.loc[group_2, 'group_users']])\n",
        "\n",
        "        # пропорция успехов в первой группе\n",
        "        p1 = successes[0]/trials[0]\n",
        "\n",
        "        # пропорция успехов во второй группе\n",
        "        p2 = successes[1]/trials[1]\n",
        "\n",
        "        # пропорция успехов в комбинированном датасете\n",
        "        p_combined = (successes[0] + successes[1]) / (trials[0] + trials[1])\n",
        "\n",
        "        # разница пропорций в датасетах\n",
        "        difference = p1 - p2\n",
        "\n",
        "        # считаем статистику в ст.отклонениях стандартного нормального распределения\n",
        "        z_value = difference / mth.sqrt(p_combined * (1 - p_combined) \\\n",
        "                                        * (1/trials[0] + 1/trials[1]))\n",
        "\n",
        "        # задаем стандартное нормальное распределение (среднее 0, ст.отклонение 1)\n",
        "        distr = st.norm(0, 1)\n",
        "\n",
        "        p_value = (1 - distr.cdf(abs(z_value))) * 2\n",
        "\n",
        "        print('\\nГруппы: {} и {}\\\n",
        "        \\np-значение: {}'.format(group_1, group_2, p_value.round(2)))\n",
        "\n",
        "        if (p_value < alpha):\n",
        "            print('Событие: {}\\\n",
        "            \\nОтвергаем нулевую гипотезу! \\n---'\\\n",
        "                  .format(name))\n",
        "        else:\n",
        "            print('Событие: {} \\\n",
        "            \\nНе получилось отвергнуть нулевую гипотезу. \\n---'\\\n",
        "                  .format(name))"
      ]
    },
    {
      "cell_type": "code",
      "execution_count": 40,
      "metadata": {
        "colab": {
          "base_uri": "https://localhost:8080/"
        },
        "id": "DNaw97mA7-q7",
        "outputId": "1eaa6d5e-8dbf-4e55-9cb8-8b8720372976"
      },
      "outputs": [
        {
          "output_type": "stream",
          "name": "stdout",
          "text": [
            "\n",
            "Группы: A1 и A2        \n",
            "p-значение: 0.11\n",
            "Событие: payment_screen_successful             \n",
            "Не получилось отвергнуть нулевую гипотезу. \n",
            "---\n",
            "\n",
            "Группы: A1 и A2        \n",
            "p-значение: 0.23\n",
            "Событие: cart_screen_appear             \n",
            "Не получилось отвергнуть нулевую гипотезу. \n",
            "---\n",
            "\n",
            "Группы: A1 и A2        \n",
            "p-значение: 0.25\n",
            "Событие: offers_screen_appear             \n",
            "Не получилось отвергнуть нулевую гипотезу. \n",
            "---\n",
            "\n",
            "Группы: A1 и A2        \n",
            "p-значение: 0.75\n",
            "Событие: main_screen_appear             \n",
            "Не получилось отвергнуть нулевую гипотезу. \n",
            "---\n",
            "\n",
            "Группы: A1 и B        \n",
            "p-значение: 0.22\n",
            "Событие: payment_screen_successful             \n",
            "Не получилось отвергнуть нулевую гипотезу. \n",
            "---\n",
            "\n",
            "Группы: A1 и B        \n",
            "p-значение: 0.08\n",
            "Событие: cart_screen_appear            \n",
            "Отвергаем нулевую гипотезу! \n",
            "---\n",
            "\n",
            "Группы: A1 и B        \n",
            "p-значение: 0.21\n",
            "Событие: offers_screen_appear             \n",
            "Не получилось отвергнуть нулевую гипотезу. \n",
            "---\n",
            "\n",
            "Группы: A1 и B        \n",
            "p-значение: 0.34\n",
            "Событие: main_screen_appear             \n",
            "Не получилось отвергнуть нулевую гипотезу. \n",
            "---\n",
            "\n",
            "Группы: A2 и B        \n",
            "p-значение: 0.73\n",
            "Событие: payment_screen_successful             \n",
            "Не получилось отвергнуть нулевую гипотезу. \n",
            "---\n",
            "\n",
            "Группы: A2 и B        \n",
            "p-значение: 0.59\n",
            "Событие: cart_screen_appear             \n",
            "Не получилось отвергнуть нулевую гипотезу. \n",
            "---\n",
            "\n",
            "Группы: A2 и B        \n",
            "p-значение: 0.93\n",
            "Событие: offers_screen_appear             \n",
            "Не получилось отвергнуть нулевую гипотезу. \n",
            "---\n",
            "\n",
            "Группы: A2 и B        \n",
            "p-значение: 0.52\n",
            "Событие: main_screen_appear             \n",
            "Не получилось отвергнуть нулевую гипотезу. \n",
            "---\n",
            "\n",
            "Группы: AA и B        \n",
            "p-значение: 0.61\n",
            "Событие: payment_screen_successful             \n",
            "Не получилось отвергнуть нулевую гипотезу. \n",
            "---\n",
            "\n",
            "Группы: AA и B        \n",
            "p-значение: 0.19\n",
            "Событие: cart_screen_appear             \n",
            "Не получилось отвергнуть нулевую гипотезу. \n",
            "---\n",
            "\n",
            "Группы: AA и B        \n",
            "p-значение: 0.45\n",
            "Событие: offers_screen_appear             \n",
            "Не получилось отвергнуть нулевую гипотезу. \n",
            "---\n",
            "\n",
            "Группы: AA и B        \n",
            "p-значение: 0.35\n",
            "Событие: main_screen_appear             \n",
            "Не получилось отвергнуть нулевую гипотезу. \n",
            "---\n"
          ]
        }
      ],
      "source": [
        "event_diff_check_01(ab_users, ab_events, 'A1', 'A2')\n",
        "event_diff_check_01(ab_users, ab_events, 'A1', 'B')\n",
        "event_diff_check_01(ab_users, ab_events, 'A2', 'B')\n",
        "event_diff_check_01(aab_users, aab_events, 'AA', 'B')"
      ]
    },
    {
      "cell_type": "markdown",
      "metadata": {
        "id": "stPjFbpy-Ek1"
      },
      "source": [
        "**Вывод:**\n",
        "\n",
        "- По результатам можно сделать вывод, что результаты эксперимента со шрифтами для контрольных и тестовой групп не имеют статистической значимости. Можно сделать вывод, что изменение шрифтов в приложении не повлияли на поведение пользователей в рамках рассматриваемых событий.\n",
        "\n",
        "- При тестировании с уровнем значимости в 10% среди 16 тестов обнаружен один, который опроверг гипотезу о равентстве групп. Это ошибка первого рода, поэтому стоит оставить уровень значимости в 5%, как и было изначально."
      ]
    },
    {
      "cell_type": "markdown",
      "metadata": {
        "id": "VFDOJ4WA_AgV"
      },
      "source": [
        "## Общий вывод"
      ]
    },
    {
      "cell_type": "markdown",
      "metadata": {
        "id": "wt3whUzED7oM"
      },
      "source": [
        " - **Вводные данные:**\n",
        "- Мы рассмоторели набор данных на 244126 записей и провели предобработку: устранили стилистические ошибки, удалили дубликаты, привели к корректным типам данных\n",
        "\n",
        " - **Обработка данных:**\n",
        "- На этапе изучения данных выяснилось, что из 14 дней наблюдений являются пригодными для анализа только 7: они содержат полные данные. Мы удалили данные за первую неделю наблюдений и проверили, что процент потерь оказался незначимым (около 1,2%). Начало отслеживания событий: 2019-07-25. Конец отслеживания событий: 2019-08-07\n",
        "- Наблюдений всего: 243713. Уникальных пользователей: 7551. Среднее число событий на пользователя: 32. Мода числа событий на пользователя: 5\n",
        "\n",
        " -**Анализ воронки событий:**\n",
        "- Всего найдено 5 уникальных типов событий, самое частое из которых – `main_screen_appear` (Просмотр главного экрана)\n",
        "- Найдено событие, которое можно исключить из анализа, так как его можно пропустить при пользовании приложением – это обучалка (tutorial). Создан новый датасет без этого события\n",
        "- Больше всего пользователей приложение теряет на переходе с шага `main_screen_appear` на шаг `offers_screen_appear`: всего 62% после просмотра главного экрана увидели экран спецпредложения\n",
        "- 48% пользователей доходит до шага `payment_screen_successful` (Оплата) – это хороший показатель конверсии\n",
        "\n",
        " -**Изучение результатов эксперимента:**\n",
        "- Была сформулирована нулевая гипотеза: статистически значимых различий после смены шрифта между группами нет\n",
        "- Мы проверили результаты эксперимента в контрольной группе (A/A-тест): при расчете с критическим уровнем статистической значимости в 5% получились примерно одинаковые результаты. Не получилось отвергнуть нулевую гипотезу\n",
        "- Было проведено 16 тестов с уровнем значимости 5% – все они показали, что группы в A/B-тесте разбиты корректно и не имеют различий в результатах эксперимента. Не получилось отвергнуть нулевую гипотезу\n",
        "- Провели тесты с уровнем значимости в 10% – здесь 1 из 16 тестов опроверг нулевую гипотезу и выявил разницу между группами A1 и B по событию `cart_screen_appear`. Это ошибка первого рода, оставляем уровень значимости в 5%\n",
        "\n",
        "\n",
        "\n",
        "**Итог:**\n",
        "По результатам исследования можно сделать вывод, что эксперимент со шрифтами для контрольных и тестовой групп не имеет статистической значимости результатов. Судя по всему, изменение шрифтов в приложении не повлияли на поведение пользователей в рамках рассматриваемых событий. \n",
        "\n",
        "Однако были выявлены другие проблемы воронки, на которые стоит обратить внимание разработчикам приложения – потери пользователей на некоторых шагах лучше уменьшить, чтобы увеличит доходимость до оплаты."
      ]
    }
  ],
  "metadata": {
    "ExecuteTimeLog": [
      {
        "duration": 1698,
        "start_time": "2022-04-21T13:16:34.535Z"
      },
      {
        "duration": 396,
        "start_time": "2022-04-21T13:16:36.236Z"
      },
      {
        "duration": 48,
        "start_time": "2022-04-21T13:16:36.635Z"
      },
      {
        "duration": 18,
        "start_time": "2022-04-21T13:16:36.686Z"
      },
      {
        "duration": 721,
        "start_time": "2022-04-21T13:16:36.706Z"
      },
      {
        "duration": 126,
        "start_time": "2022-04-21T13:16:37.430Z"
      },
      {
        "duration": 3675,
        "start_time": "2022-04-21T13:16:37.558Z"
      },
      {
        "duration": 50,
        "start_time": "2022-04-21T13:16:41.235Z"
      },
      {
        "duration": 141,
        "start_time": "2022-04-21T13:16:41.287Z"
      },
      {
        "duration": 283,
        "start_time": "2022-04-21T13:16:41.431Z"
      },
      {
        "duration": 69,
        "start_time": "2022-04-21T13:16:41.716Z"
      },
      {
        "duration": 36,
        "start_time": "2022-04-21T13:16:41.787Z"
      },
      {
        "duration": 65,
        "start_time": "2022-04-21T13:16:41.825Z"
      },
      {
        "duration": 1121,
        "start_time": "2022-04-21T13:16:41.892Z"
      },
      {
        "duration": 37,
        "start_time": "2022-04-21T13:16:43.016Z"
      },
      {
        "duration": 73,
        "start_time": "2022-04-21T13:16:43.056Z"
      },
      {
        "duration": 5,
        "start_time": "2022-04-21T13:16:43.131Z"
      },
      {
        "duration": 61,
        "start_time": "2022-04-21T13:16:43.138Z"
      },
      {
        "duration": 42,
        "start_time": "2022-04-21T13:16:43.201Z"
      },
      {
        "duration": 7,
        "start_time": "2022-04-21T13:16:43.245Z"
      },
      {
        "duration": 46,
        "start_time": "2022-04-21T13:16:43.281Z"
      },
      {
        "duration": 99,
        "start_time": "2022-04-21T13:16:43.329Z"
      },
      {
        "duration": 193,
        "start_time": "2022-04-21T13:16:43.430Z"
      },
      {
        "duration": 257,
        "start_time": "2022-04-21T13:16:43.625Z"
      },
      {
        "duration": 64,
        "start_time": "2022-04-21T13:16:43.884Z"
      },
      {
        "duration": 133,
        "start_time": "2022-04-21T13:16:43.950Z"
      },
      {
        "duration": 10,
        "start_time": "2022-04-21T13:16:44.085Z"
      },
      {
        "duration": 46,
        "start_time": "2022-04-21T13:16:44.099Z"
      },
      {
        "duration": 58,
        "start_time": "2022-04-21T13:16:44.147Z"
      },
      {
        "duration": 38,
        "start_time": "2022-04-21T13:16:44.207Z"
      },
      {
        "duration": 90,
        "start_time": "2022-04-21T13:16:44.247Z"
      },
      {
        "duration": 295,
        "start_time": "2022-04-21T13:16:44.339Z"
      },
      {
        "duration": 47,
        "start_time": "2022-04-21T13:16:44.636Z"
      },
      {
        "duration": 10,
        "start_time": "2022-04-21T13:16:44.686Z"
      },
      {
        "duration": 151,
        "start_time": "2022-04-21T13:16:44.698Z"
      },
      {
        "duration": 1684,
        "start_time": "2022-04-21T13:17:10.659Z"
      },
      {
        "duration": 611,
        "start_time": "2022-04-21T13:17:12.345Z"
      },
      {
        "duration": 46,
        "start_time": "2022-04-21T13:17:12.959Z"
      },
      {
        "duration": 18,
        "start_time": "2022-04-21T13:17:13.008Z"
      },
      {
        "duration": 696,
        "start_time": "2022-04-21T13:17:13.028Z"
      },
      {
        "duration": 135,
        "start_time": "2022-04-21T13:17:13.726Z"
      },
      {
        "duration": 3611,
        "start_time": "2022-04-21T13:17:13.863Z"
      },
      {
        "duration": 45,
        "start_time": "2022-04-21T13:17:17.476Z"
      },
      {
        "duration": 145,
        "start_time": "2022-04-21T13:17:17.524Z"
      },
      {
        "duration": 189,
        "start_time": "2022-04-21T13:17:17.673Z"
      },
      {
        "duration": 62,
        "start_time": "2022-04-21T13:17:17.865Z"
      },
      {
        "duration": 54,
        "start_time": "2022-04-21T13:17:17.929Z"
      },
      {
        "duration": 44,
        "start_time": "2022-04-21T13:17:17.985Z"
      },
      {
        "duration": 1071,
        "start_time": "2022-04-21T13:17:18.031Z"
      },
      {
        "duration": 39,
        "start_time": "2022-04-21T13:17:19.105Z"
      },
      {
        "duration": 76,
        "start_time": "2022-04-21T13:17:19.146Z"
      },
      {
        "duration": 6,
        "start_time": "2022-04-21T13:17:19.224Z"
      },
      {
        "duration": 68,
        "start_time": "2022-04-21T13:17:19.232Z"
      },
      {
        "duration": 45,
        "start_time": "2022-04-21T13:17:19.303Z"
      },
      {
        "duration": 7,
        "start_time": "2022-04-21T13:17:19.350Z"
      },
      {
        "duration": 46,
        "start_time": "2022-04-21T13:17:19.382Z"
      },
      {
        "duration": 104,
        "start_time": "2022-04-21T13:17:19.430Z"
      },
      {
        "duration": 190,
        "start_time": "2022-04-21T13:17:19.536Z"
      },
      {
        "duration": 222,
        "start_time": "2022-04-21T13:17:19.728Z"
      },
      {
        "duration": 89,
        "start_time": "2022-04-21T13:17:19.952Z"
      },
      {
        "duration": 139,
        "start_time": "2022-04-21T13:17:20.043Z"
      },
      {
        "duration": 10,
        "start_time": "2022-04-21T13:17:20.184Z"
      },
      {
        "duration": 54,
        "start_time": "2022-04-21T13:17:20.198Z"
      },
      {
        "duration": 47,
        "start_time": "2022-04-21T13:17:20.254Z"
      },
      {
        "duration": 39,
        "start_time": "2022-04-21T13:17:20.304Z"
      },
      {
        "duration": 100,
        "start_time": "2022-04-21T13:17:20.345Z"
      },
      {
        "duration": 400,
        "start_time": "2022-04-21T13:17:20.447Z"
      },
      {
        "duration": 48,
        "start_time": "2022-04-21T13:17:20.849Z"
      },
      {
        "duration": 22,
        "start_time": "2022-04-21T13:17:20.899Z"
      },
      {
        "duration": 151,
        "start_time": "2022-04-21T13:17:20.923Z"
      },
      {
        "duration": 96,
        "start_time": "2022-04-21T13:30:56.782Z"
      },
      {
        "duration": 7,
        "start_time": "2022-04-21T14:00:32.794Z"
      },
      {
        "duration": 99,
        "start_time": "2022-04-21T14:15:52.670Z"
      },
      {
        "duration": 102,
        "start_time": "2022-04-21T17:06:14.396Z"
      },
      {
        "duration": 100,
        "start_time": "2022-04-21T17:06:29.748Z"
      },
      {
        "duration": 10,
        "start_time": "2022-04-21T17:06:44.835Z"
      },
      {
        "duration": 1715,
        "start_time": "2022-04-21T17:06:54.789Z"
      },
      {
        "duration": 491,
        "start_time": "2022-04-21T17:06:56.506Z"
      },
      {
        "duration": 48,
        "start_time": "2022-04-21T17:06:57.000Z"
      },
      {
        "duration": 18,
        "start_time": "2022-04-21T17:06:57.051Z"
      },
      {
        "duration": 756,
        "start_time": "2022-04-21T17:06:57.071Z"
      },
      {
        "duration": 218,
        "start_time": "2022-04-21T17:06:57.829Z"
      },
      {
        "duration": 4644,
        "start_time": "2022-04-21T17:06:58.049Z"
      },
      {
        "duration": 50,
        "start_time": "2022-04-21T17:07:02.695Z"
      },
      {
        "duration": 170,
        "start_time": "2022-04-21T17:07:02.748Z"
      },
      {
        "duration": 191,
        "start_time": "2022-04-21T17:07:02.928Z"
      },
      {
        "duration": 1807,
        "start_time": "2022-04-21T17:07:03.121Z"
      },
      {
        "duration": 0,
        "start_time": "2022-04-21T17:07:04.931Z"
      },
      {
        "duration": 0,
        "start_time": "2022-04-21T17:07:04.932Z"
      },
      {
        "duration": 0,
        "start_time": "2022-04-21T17:07:04.934Z"
      },
      {
        "duration": 0,
        "start_time": "2022-04-21T17:07:04.936Z"
      },
      {
        "duration": 0,
        "start_time": "2022-04-21T17:07:04.937Z"
      },
      {
        "duration": 0,
        "start_time": "2022-04-21T17:07:04.939Z"
      },
      {
        "duration": 0,
        "start_time": "2022-04-21T17:07:04.941Z"
      },
      {
        "duration": 0,
        "start_time": "2022-04-21T17:07:04.942Z"
      },
      {
        "duration": 0,
        "start_time": "2022-04-21T17:07:04.944Z"
      },
      {
        "duration": 0,
        "start_time": "2022-04-21T17:07:04.946Z"
      },
      {
        "duration": 1,
        "start_time": "2022-04-21T17:07:04.947Z"
      },
      {
        "duration": 0,
        "start_time": "2022-04-21T17:07:04.949Z"
      },
      {
        "duration": 0,
        "start_time": "2022-04-21T17:07:04.951Z"
      },
      {
        "duration": 0,
        "start_time": "2022-04-21T17:07:04.953Z"
      },
      {
        "duration": 0,
        "start_time": "2022-04-21T17:07:04.954Z"
      },
      {
        "duration": 0,
        "start_time": "2022-04-21T17:07:04.955Z"
      },
      {
        "duration": 0,
        "start_time": "2022-04-21T17:07:04.957Z"
      },
      {
        "duration": 0,
        "start_time": "2022-04-21T17:07:04.959Z"
      },
      {
        "duration": 0,
        "start_time": "2022-04-21T17:07:04.960Z"
      },
      {
        "duration": 0,
        "start_time": "2022-04-21T17:07:04.961Z"
      },
      {
        "duration": 0,
        "start_time": "2022-04-21T17:07:04.962Z"
      },
      {
        "duration": 1,
        "start_time": "2022-04-21T17:07:04.963Z"
      },
      {
        "duration": 0,
        "start_time": "2022-04-21T17:07:04.965Z"
      },
      {
        "duration": 0,
        "start_time": "2022-04-21T17:07:04.966Z"
      },
      {
        "duration": 0,
        "start_time": "2022-04-21T17:07:04.967Z"
      },
      {
        "duration": 1632,
        "start_time": "2022-04-21T17:08:24.851Z"
      },
      {
        "duration": 2417,
        "start_time": "2022-04-21T17:08:40.076Z"
      },
      {
        "duration": 17,
        "start_time": "2022-04-21T17:10:14.862Z"
      },
      {
        "duration": 15,
        "start_time": "2022-04-21T17:10:53.953Z"
      },
      {
        "duration": 11,
        "start_time": "2022-04-21T17:11:04.732Z"
      },
      {
        "duration": 12,
        "start_time": "2022-04-21T17:11:10.486Z"
      },
      {
        "duration": 14,
        "start_time": "2022-04-21T17:11:17.851Z"
      },
      {
        "duration": 65,
        "start_time": "2022-04-21T17:24:35.445Z"
      },
      {
        "duration": 64,
        "start_time": "2022-04-21T17:24:40.519Z"
      },
      {
        "duration": 66,
        "start_time": "2022-04-21T17:24:50.973Z"
      },
      {
        "duration": 63,
        "start_time": "2022-04-21T17:25:11.887Z"
      },
      {
        "duration": 1655,
        "start_time": "2022-04-21T17:27:14.180Z"
      },
      {
        "duration": 472,
        "start_time": "2022-04-21T17:27:15.838Z"
      },
      {
        "duration": 43,
        "start_time": "2022-04-21T17:27:16.312Z"
      },
      {
        "duration": 17,
        "start_time": "2022-04-21T17:27:16.358Z"
      },
      {
        "duration": 970,
        "start_time": "2022-04-21T17:27:16.377Z"
      },
      {
        "duration": 277,
        "start_time": "2022-04-21T17:27:17.350Z"
      },
      {
        "duration": 4360,
        "start_time": "2022-04-21T17:27:17.630Z"
      },
      {
        "duration": 50,
        "start_time": "2022-04-21T17:27:21.992Z"
      },
      {
        "duration": 155,
        "start_time": "2022-04-21T17:27:22.044Z"
      },
      {
        "duration": 193,
        "start_time": "2022-04-21T17:27:22.203Z"
      },
      {
        "duration": 177,
        "start_time": "2022-04-21T17:27:22.398Z"
      },
      {
        "duration": 0,
        "start_time": "2022-04-21T17:27:22.578Z"
      },
      {
        "duration": 0,
        "start_time": "2022-04-21T17:27:22.579Z"
      },
      {
        "duration": 0,
        "start_time": "2022-04-21T17:27:22.580Z"
      },
      {
        "duration": 0,
        "start_time": "2022-04-21T17:27:22.581Z"
      },
      {
        "duration": 0,
        "start_time": "2022-04-21T17:27:22.583Z"
      },
      {
        "duration": 0,
        "start_time": "2022-04-21T17:27:22.584Z"
      },
      {
        "duration": 0,
        "start_time": "2022-04-21T17:27:22.585Z"
      },
      {
        "duration": 0,
        "start_time": "2022-04-21T17:27:22.586Z"
      },
      {
        "duration": 0,
        "start_time": "2022-04-21T17:27:22.588Z"
      },
      {
        "duration": 0,
        "start_time": "2022-04-21T17:27:22.589Z"
      },
      {
        "duration": 0,
        "start_time": "2022-04-21T17:27:22.591Z"
      },
      {
        "duration": 0,
        "start_time": "2022-04-21T17:27:22.625Z"
      },
      {
        "duration": 0,
        "start_time": "2022-04-21T17:27:22.629Z"
      },
      {
        "duration": 0,
        "start_time": "2022-04-21T17:27:22.631Z"
      },
      {
        "duration": 0,
        "start_time": "2022-04-21T17:27:22.633Z"
      },
      {
        "duration": 0,
        "start_time": "2022-04-21T17:27:22.635Z"
      },
      {
        "duration": 0,
        "start_time": "2022-04-21T17:27:22.639Z"
      },
      {
        "duration": 0,
        "start_time": "2022-04-21T17:27:22.641Z"
      },
      {
        "duration": 0,
        "start_time": "2022-04-21T17:27:22.642Z"
      },
      {
        "duration": 0,
        "start_time": "2022-04-21T17:27:22.644Z"
      },
      {
        "duration": 0,
        "start_time": "2022-04-21T17:27:22.645Z"
      },
      {
        "duration": 0,
        "start_time": "2022-04-21T17:27:22.647Z"
      },
      {
        "duration": 0,
        "start_time": "2022-04-21T17:27:22.649Z"
      },
      {
        "duration": 0,
        "start_time": "2022-04-21T17:27:22.650Z"
      },
      {
        "duration": 0,
        "start_time": "2022-04-21T17:27:22.652Z"
      },
      {
        "duration": 0,
        "start_time": "2022-04-21T17:27:22.653Z"
      },
      {
        "duration": 65,
        "start_time": "2022-04-21T17:27:37.781Z"
      },
      {
        "duration": 1699,
        "start_time": "2022-04-21T17:27:44.200Z"
      },
      {
        "duration": 662,
        "start_time": "2022-04-21T17:27:45.901Z"
      },
      {
        "duration": 40,
        "start_time": "2022-04-21T17:27:46.566Z"
      },
      {
        "duration": 26,
        "start_time": "2022-04-21T17:27:46.608Z"
      },
      {
        "duration": 703,
        "start_time": "2022-04-21T17:27:46.636Z"
      },
      {
        "duration": 128,
        "start_time": "2022-04-21T17:27:47.341Z"
      },
      {
        "duration": 3789,
        "start_time": "2022-04-21T17:27:47.471Z"
      },
      {
        "duration": 43,
        "start_time": "2022-04-21T17:27:51.262Z"
      },
      {
        "duration": 151,
        "start_time": "2022-04-21T17:27:51.326Z"
      },
      {
        "duration": 191,
        "start_time": "2022-04-21T17:27:51.481Z"
      },
      {
        "duration": 78,
        "start_time": "2022-04-21T17:27:51.674Z"
      },
      {
        "duration": 75,
        "start_time": "2022-04-21T17:27:51.754Z"
      },
      {
        "duration": 37,
        "start_time": "2022-04-21T17:27:51.831Z"
      },
      {
        "duration": 73,
        "start_time": "2022-04-21T17:27:51.871Z"
      },
      {
        "duration": 1075,
        "start_time": "2022-04-21T17:27:51.946Z"
      },
      {
        "duration": 37,
        "start_time": "2022-04-21T17:27:53.024Z"
      },
      {
        "duration": 96,
        "start_time": "2022-04-21T17:27:53.063Z"
      },
      {
        "duration": 6,
        "start_time": "2022-04-21T17:27:53.161Z"
      },
      {
        "duration": 70,
        "start_time": "2022-04-21T17:27:53.170Z"
      },
      {
        "duration": 44,
        "start_time": "2022-04-21T17:27:53.243Z"
      },
      {
        "duration": 6,
        "start_time": "2022-04-21T17:27:53.290Z"
      },
      {
        "duration": 53,
        "start_time": "2022-04-21T17:27:53.323Z"
      },
      {
        "duration": 116,
        "start_time": "2022-04-21T17:27:53.380Z"
      },
      {
        "duration": 207,
        "start_time": "2022-04-21T17:27:53.498Z"
      },
      {
        "duration": 270,
        "start_time": "2022-04-21T17:27:53.708Z"
      },
      {
        "duration": 92,
        "start_time": "2022-04-21T17:27:53.981Z"
      },
      {
        "duration": 135,
        "start_time": "2022-04-21T17:27:54.075Z"
      },
      {
        "duration": 10,
        "start_time": "2022-04-21T17:27:54.224Z"
      },
      {
        "duration": 64,
        "start_time": "2022-04-21T17:27:54.236Z"
      },
      {
        "duration": 47,
        "start_time": "2022-04-21T17:27:54.302Z"
      },
      {
        "duration": 41,
        "start_time": "2022-04-21T17:27:54.351Z"
      },
      {
        "duration": 94,
        "start_time": "2022-04-21T17:27:54.395Z"
      },
      {
        "duration": 315,
        "start_time": "2022-04-21T17:27:54.492Z"
      },
      {
        "duration": 46,
        "start_time": "2022-04-21T17:27:54.809Z"
      },
      {
        "duration": 11,
        "start_time": "2022-04-21T17:27:54.858Z"
      },
      {
        "duration": 190,
        "start_time": "2022-04-21T17:27:54.872Z"
      },
      {
        "duration": 88,
        "start_time": "2022-04-21T19:37:47.500Z"
      },
      {
        "duration": 78,
        "start_time": "2022-04-21T19:38:23.284Z"
      },
      {
        "duration": 74,
        "start_time": "2022-04-21T19:38:52.264Z"
      },
      {
        "duration": 203,
        "start_time": "2022-04-21T19:39:57.580Z"
      },
      {
        "duration": 72,
        "start_time": "2022-04-21T19:40:05.765Z"
      },
      {
        "duration": 87,
        "start_time": "2022-04-21T19:40:19.216Z"
      },
      {
        "duration": 92,
        "start_time": "2022-04-21T19:41:49.848Z"
      },
      {
        "duration": 499,
        "start_time": "2022-04-21T19:42:50.320Z"
      },
      {
        "duration": 92,
        "start_time": "2022-04-21T19:43:04.301Z"
      },
      {
        "duration": 96,
        "start_time": "2022-04-21T19:43:11.991Z"
      },
      {
        "duration": 105,
        "start_time": "2022-04-21T19:45:08.696Z"
      },
      {
        "duration": 94,
        "start_time": "2022-04-21T19:49:56.367Z"
      },
      {
        "duration": 98,
        "start_time": "2022-04-21T19:50:47.118Z"
      },
      {
        "duration": 28,
        "start_time": "2022-04-21T19:51:51.572Z"
      },
      {
        "duration": 17,
        "start_time": "2022-04-21T19:51:55.281Z"
      },
      {
        "duration": 15,
        "start_time": "2022-04-21T19:52:11.694Z"
      },
      {
        "duration": 15,
        "start_time": "2022-04-21T19:52:21.772Z"
      },
      {
        "duration": 20,
        "start_time": "2022-04-21T19:52:24.822Z"
      },
      {
        "duration": 14,
        "start_time": "2022-04-21T19:52:56.831Z"
      },
      {
        "duration": 14,
        "start_time": "2022-04-21T19:53:29.138Z"
      },
      {
        "duration": 102,
        "start_time": "2022-04-21T19:56:59.499Z"
      },
      {
        "duration": 1797,
        "start_time": "2022-04-21T19:58:59.127Z"
      },
      {
        "duration": 89,
        "start_time": "2022-04-21T19:59:03.792Z"
      },
      {
        "duration": 87,
        "start_time": "2022-04-21T19:59:57.443Z"
      },
      {
        "duration": 93,
        "start_time": "2022-04-21T20:00:09.250Z"
      },
      {
        "duration": 15,
        "start_time": "2022-04-21T20:00:29.981Z"
      },
      {
        "duration": 24,
        "start_time": "2022-04-21T20:00:59.719Z"
      },
      {
        "duration": 14,
        "start_time": "2022-04-21T20:01:35.144Z"
      },
      {
        "duration": 148,
        "start_time": "2022-04-21T20:01:40.657Z"
      },
      {
        "duration": 140,
        "start_time": "2022-04-21T20:01:48.978Z"
      },
      {
        "duration": 15,
        "start_time": "2022-04-21T20:01:56.437Z"
      },
      {
        "duration": 140,
        "start_time": "2022-04-21T20:02:01.432Z"
      },
      {
        "duration": 144,
        "start_time": "2022-04-21T20:03:39.745Z"
      },
      {
        "duration": 155,
        "start_time": "2022-04-21T20:03:48.001Z"
      },
      {
        "duration": 377,
        "start_time": "2022-04-21T20:04:19.488Z"
      },
      {
        "duration": 148,
        "start_time": "2022-04-21T20:04:24.640Z"
      },
      {
        "duration": 125,
        "start_time": "2022-04-21T20:04:55.861Z"
      },
      {
        "duration": 144,
        "start_time": "2022-04-21T20:05:06.054Z"
      },
      {
        "duration": 149,
        "start_time": "2022-04-21T20:05:15.022Z"
      },
      {
        "duration": 158,
        "start_time": "2022-04-21T20:05:21.352Z"
      },
      {
        "duration": 191,
        "start_time": "2022-04-21T20:05:53.218Z"
      },
      {
        "duration": 151,
        "start_time": "2022-04-21T20:05:58.938Z"
      },
      {
        "duration": 136,
        "start_time": "2022-04-21T20:06:11.242Z"
      },
      {
        "duration": 143,
        "start_time": "2022-04-21T20:06:27.069Z"
      },
      {
        "duration": 156,
        "start_time": "2022-04-21T20:07:45.210Z"
      },
      {
        "duration": 145,
        "start_time": "2022-04-21T20:07:55.978Z"
      },
      {
        "duration": 146,
        "start_time": "2022-04-21T20:08:05.738Z"
      },
      {
        "duration": 144,
        "start_time": "2022-04-21T20:08:20.397Z"
      },
      {
        "duration": 133,
        "start_time": "2022-04-21T20:08:25.104Z"
      },
      {
        "duration": 136,
        "start_time": "2022-04-21T20:09:01.591Z"
      },
      {
        "duration": 146,
        "start_time": "2022-04-21T20:09:06.449Z"
      },
      {
        "duration": 146,
        "start_time": "2022-04-21T20:09:13.398Z"
      },
      {
        "duration": 134,
        "start_time": "2022-04-21T20:09:34.311Z"
      },
      {
        "duration": 20,
        "start_time": "2022-04-21T20:09:54.240Z"
      },
      {
        "duration": 180,
        "start_time": "2022-04-21T20:10:10.385Z"
      },
      {
        "duration": 93,
        "start_time": "2022-04-21T20:11:06.144Z"
      },
      {
        "duration": 2265,
        "start_time": "2022-04-21T20:12:59.874Z"
      },
      {
        "duration": 582,
        "start_time": "2022-04-21T20:13:06.645Z"
      },
      {
        "duration": 589,
        "start_time": "2022-04-21T20:13:14.057Z"
      },
      {
        "duration": 120,
        "start_time": "2022-04-21T20:13:30.432Z"
      },
      {
        "duration": 6,
        "start_time": "2022-04-21T20:13:47.957Z"
      },
      {
        "duration": 1429,
        "start_time": "2022-04-21T20:15:56.805Z"
      },
      {
        "duration": 1294,
        "start_time": "2022-04-21T20:16:00.879Z"
      },
      {
        "duration": 3752,
        "start_time": "2022-04-21T20:16:23.852Z"
      },
      {
        "duration": 2248,
        "start_time": "2022-04-21T20:17:02.061Z"
      },
      {
        "duration": 1520,
        "start_time": "2022-04-21T20:17:14.374Z"
      },
      {
        "duration": 15,
        "start_time": "2022-04-21T20:17:37.186Z"
      },
      {
        "duration": 1371,
        "start_time": "2022-04-21T20:18:12.849Z"
      },
      {
        "duration": 111,
        "start_time": "2022-04-21T20:18:44.304Z"
      },
      {
        "duration": 126,
        "start_time": "2022-04-21T20:19:07.321Z"
      },
      {
        "duration": 25,
        "start_time": "2022-04-21T20:19:33.497Z"
      },
      {
        "duration": 116,
        "start_time": "2022-04-21T20:20:14.189Z"
      },
      {
        "duration": 114,
        "start_time": "2022-04-21T20:20:28.470Z"
      },
      {
        "duration": 12,
        "start_time": "2022-04-21T20:20:44.820Z"
      },
      {
        "duration": 1787,
        "start_time": "2022-04-21T20:21:30.799Z"
      },
      {
        "duration": 2326,
        "start_time": "2022-04-21T20:21:41.608Z"
      },
      {
        "duration": 497,
        "start_time": "2022-04-21T20:21:58.878Z"
      },
      {
        "duration": 164,
        "start_time": "2022-04-21T20:22:07.509Z"
      },
      {
        "duration": 13,
        "start_time": "2022-04-21T20:26:16.369Z"
      },
      {
        "duration": 14,
        "start_time": "2022-04-21T20:26:25.594Z"
      },
      {
        "duration": 113,
        "start_time": "2022-04-21T20:27:56.112Z"
      },
      {
        "duration": 117,
        "start_time": "2022-04-21T20:28:11.786Z"
      },
      {
        "duration": 61,
        "start_time": "2022-04-21T20:28:37.938Z"
      },
      {
        "duration": 13,
        "start_time": "2022-04-21T20:28:42.148Z"
      },
      {
        "duration": 124,
        "start_time": "2022-04-21T20:28:49.541Z"
      },
      {
        "duration": 119,
        "start_time": "2022-04-21T20:29:09.538Z"
      },
      {
        "duration": 125,
        "start_time": "2022-04-21T20:29:13.634Z"
      },
      {
        "duration": 129,
        "start_time": "2022-04-21T20:29:21.409Z"
      },
      {
        "duration": 135,
        "start_time": "2022-04-21T20:29:24.878Z"
      },
      {
        "duration": 117,
        "start_time": "2022-04-21T20:29:34.501Z"
      },
      {
        "duration": 132,
        "start_time": "2022-04-21T20:29:53.215Z"
      },
      {
        "duration": 132,
        "start_time": "2022-04-21T20:30:51.569Z"
      },
      {
        "duration": 129,
        "start_time": "2022-04-21T20:31:08.972Z"
      },
      {
        "duration": 123,
        "start_time": "2022-04-21T20:31:19.338Z"
      },
      {
        "duration": 65,
        "start_time": "2022-04-21T20:31:42.878Z"
      },
      {
        "duration": 137,
        "start_time": "2022-04-21T20:31:45.519Z"
      },
      {
        "duration": 143,
        "start_time": "2022-04-21T20:31:56.226Z"
      },
      {
        "duration": 130,
        "start_time": "2022-04-21T20:32:10.075Z"
      },
      {
        "duration": 160,
        "start_time": "2022-04-21T20:32:18.559Z"
      },
      {
        "duration": 135,
        "start_time": "2022-04-21T20:32:27.566Z"
      },
      {
        "duration": 130,
        "start_time": "2022-04-21T20:32:51.646Z"
      },
      {
        "duration": 143,
        "start_time": "2022-04-21T20:33:08.312Z"
      },
      {
        "duration": 132,
        "start_time": "2022-04-21T20:33:14.571Z"
      },
      {
        "duration": 143,
        "start_time": "2022-04-21T20:33:18.798Z"
      },
      {
        "duration": 25,
        "start_time": "2022-04-21T20:33:56.559Z"
      },
      {
        "duration": 42,
        "start_time": "2022-04-21T20:34:04.656Z"
      },
      {
        "duration": 44,
        "start_time": "2022-04-21T20:34:23.154Z"
      },
      {
        "duration": 48,
        "start_time": "2022-04-21T20:34:28.089Z"
      },
      {
        "duration": 136,
        "start_time": "2022-04-21T20:34:45.582Z"
      },
      {
        "duration": 10,
        "start_time": "2022-04-21T20:36:29.338Z"
      },
      {
        "duration": 49,
        "start_time": "2022-04-21T20:36:33.841Z"
      },
      {
        "duration": 8,
        "start_time": "2022-04-21T20:44:07.484Z"
      },
      {
        "duration": 211,
        "start_time": "2022-04-21T20:44:15.255Z"
      },
      {
        "duration": 7,
        "start_time": "2022-04-21T20:50:04.041Z"
      },
      {
        "duration": 102,
        "start_time": "2022-04-21T20:53:20.128Z"
      },
      {
        "duration": 7,
        "start_time": "2022-04-21T20:54:40.298Z"
      },
      {
        "duration": 122,
        "start_time": "2022-04-21T20:55:51.224Z"
      },
      {
        "duration": 7,
        "start_time": "2022-04-21T20:55:54.737Z"
      },
      {
        "duration": 14,
        "start_time": "2022-04-21T20:56:03.325Z"
      },
      {
        "duration": 8,
        "start_time": "2022-04-21T20:56:05.424Z"
      },
      {
        "duration": 24,
        "start_time": "2022-04-21T20:56:07.523Z"
      },
      {
        "duration": 14,
        "start_time": "2022-04-21T20:56:15.623Z"
      },
      {
        "duration": 7,
        "start_time": "2022-04-21T20:56:16.816Z"
      },
      {
        "duration": 17,
        "start_time": "2022-04-21T20:56:18.340Z"
      },
      {
        "duration": 10,
        "start_time": "2022-04-21T20:56:30.471Z"
      },
      {
        "duration": 7,
        "start_time": "2022-04-21T20:56:31.155Z"
      },
      {
        "duration": 47,
        "start_time": "2022-04-21T20:56:35.442Z"
      },
      {
        "duration": 48,
        "start_time": "2022-04-21T21:00:49.114Z"
      },
      {
        "duration": 67,
        "start_time": "2022-04-21T21:01:56.651Z"
      },
      {
        "duration": 42,
        "start_time": "2022-04-21T21:02:03.562Z"
      },
      {
        "duration": 40,
        "start_time": "2022-04-21T21:02:52.592Z"
      },
      {
        "duration": 1738,
        "start_time": "2022-04-21T21:03:41.826Z"
      },
      {
        "duration": 512,
        "start_time": "2022-04-21T21:03:43.567Z"
      },
      {
        "duration": 58,
        "start_time": "2022-04-21T21:03:44.081Z"
      },
      {
        "duration": 19,
        "start_time": "2022-04-21T21:03:44.143Z"
      },
      {
        "duration": 772,
        "start_time": "2022-04-21T21:03:44.165Z"
      },
      {
        "duration": 137,
        "start_time": "2022-04-21T21:03:44.941Z"
      },
      {
        "duration": 3673,
        "start_time": "2022-04-21T21:03:45.081Z"
      },
      {
        "duration": 42,
        "start_time": "2022-04-21T21:03:48.757Z"
      },
      {
        "duration": 178,
        "start_time": "2022-04-21T21:03:48.801Z"
      },
      {
        "duration": 195,
        "start_time": "2022-04-21T21:03:48.983Z"
      },
      {
        "duration": 93,
        "start_time": "2022-04-21T21:03:49.180Z"
      },
      {
        "duration": 73,
        "start_time": "2022-04-21T21:03:49.275Z"
      },
      {
        "duration": 38,
        "start_time": "2022-04-21T21:03:49.350Z"
      },
      {
        "duration": 83,
        "start_time": "2022-04-21T21:03:49.391Z"
      },
      {
        "duration": 1233,
        "start_time": "2022-04-21T21:03:49.476Z"
      },
      {
        "duration": 49,
        "start_time": "2022-04-21T21:03:50.712Z"
      },
      {
        "duration": 95,
        "start_time": "2022-04-21T21:03:50.764Z"
      },
      {
        "duration": 6,
        "start_time": "2022-04-21T21:03:50.862Z"
      },
      {
        "duration": 76,
        "start_time": "2022-04-21T21:03:50.871Z"
      },
      {
        "duration": 45,
        "start_time": "2022-04-21T21:03:50.950Z"
      },
      {
        "duration": 30,
        "start_time": "2022-04-21T21:03:50.997Z"
      },
      {
        "duration": 48,
        "start_time": "2022-04-21T21:03:51.032Z"
      },
      {
        "duration": 110,
        "start_time": "2022-04-21T21:03:51.082Z"
      },
      {
        "duration": 220,
        "start_time": "2022-04-21T21:03:51.194Z"
      },
      {
        "duration": 270,
        "start_time": "2022-04-21T21:03:51.417Z"
      },
      {
        "duration": 72,
        "start_time": "2022-04-21T21:03:51.726Z"
      },
      {
        "duration": 150,
        "start_time": "2022-04-21T21:03:51.828Z"
      },
      {
        "duration": 10,
        "start_time": "2022-04-21T21:03:51.984Z"
      },
      {
        "duration": 31,
        "start_time": "2022-04-21T21:03:51.997Z"
      },
      {
        "duration": 67,
        "start_time": "2022-04-21T21:03:52.036Z"
      },
      {
        "duration": 57,
        "start_time": "2022-04-21T21:03:52.105Z"
      },
      {
        "duration": 64,
        "start_time": "2022-04-21T21:03:52.165Z"
      },
      {
        "duration": 70,
        "start_time": "2022-04-21T21:03:52.232Z"
      },
      {
        "duration": 306,
        "start_time": "2022-04-21T21:03:52.325Z"
      },
      {
        "duration": 40,
        "start_time": "2022-04-21T21:03:52.635Z"
      },
      {
        "duration": 14,
        "start_time": "2022-04-21T21:03:52.678Z"
      },
      {
        "duration": 150,
        "start_time": "2022-04-21T21:03:52.737Z"
      },
      {
        "duration": 46,
        "start_time": "2022-04-21T21:06:34.676Z"
      },
      {
        "duration": 77,
        "start_time": "2022-04-21T21:06:55.377Z"
      },
      {
        "duration": 1676,
        "start_time": "2022-04-22T10:25:02.123Z"
      },
      {
        "duration": 650,
        "start_time": "2022-04-22T10:25:03.802Z"
      },
      {
        "duration": 42,
        "start_time": "2022-04-22T10:25:04.454Z"
      },
      {
        "duration": 19,
        "start_time": "2022-04-22T10:25:04.500Z"
      },
      {
        "duration": 690,
        "start_time": "2022-04-22T10:25:04.552Z"
      },
      {
        "duration": 134,
        "start_time": "2022-04-22T10:25:05.252Z"
      },
      {
        "duration": 3686,
        "start_time": "2022-04-22T10:25:05.389Z"
      },
      {
        "duration": 42,
        "start_time": "2022-04-22T10:25:09.077Z"
      },
      {
        "duration": 147,
        "start_time": "2022-04-22T10:25:09.121Z"
      },
      {
        "duration": 181,
        "start_time": "2022-04-22T10:25:09.272Z"
      },
      {
        "duration": 72,
        "start_time": "2022-04-22T10:25:09.455Z"
      },
      {
        "duration": 77,
        "start_time": "2022-04-22T10:25:09.529Z"
      },
      {
        "duration": 52,
        "start_time": "2022-04-22T10:25:09.608Z"
      },
      {
        "duration": 45,
        "start_time": "2022-04-22T10:25:09.663Z"
      },
      {
        "duration": 1082,
        "start_time": "2022-04-22T10:25:09.710Z"
      },
      {
        "duration": 38,
        "start_time": "2022-04-22T10:25:10.794Z"
      },
      {
        "duration": 85,
        "start_time": "2022-04-22T10:25:10.834Z"
      },
      {
        "duration": 6,
        "start_time": "2022-04-22T10:25:10.921Z"
      },
      {
        "duration": 59,
        "start_time": "2022-04-22T10:25:10.931Z"
      },
      {
        "duration": 44,
        "start_time": "2022-04-22T10:25:10.992Z"
      },
      {
        "duration": 7,
        "start_time": "2022-04-22T10:25:11.052Z"
      },
      {
        "duration": 75,
        "start_time": "2022-04-22T10:25:11.060Z"
      },
      {
        "duration": 81,
        "start_time": "2022-04-22T10:25:11.137Z"
      },
      {
        "duration": 197,
        "start_time": "2022-04-22T10:25:11.220Z"
      },
      {
        "duration": 254,
        "start_time": "2022-04-22T10:25:11.419Z"
      },
      {
        "duration": 83,
        "start_time": "2022-04-22T10:25:11.675Z"
      },
      {
        "duration": 139,
        "start_time": "2022-04-22T10:25:11.761Z"
      },
      {
        "duration": 10,
        "start_time": "2022-04-22T10:25:11.906Z"
      },
      {
        "duration": 12,
        "start_time": "2022-04-22T10:25:11.919Z"
      },
      {
        "duration": 59,
        "start_time": "2022-04-22T10:25:11.934Z"
      },
      {
        "duration": 69,
        "start_time": "2022-04-22T10:25:11.996Z"
      },
      {
        "duration": 42,
        "start_time": "2022-04-22T10:25:12.067Z"
      },
      {
        "duration": 101,
        "start_time": "2022-04-22T10:25:12.112Z"
      },
      {
        "duration": 296,
        "start_time": "2022-04-22T10:25:12.216Z"
      },
      {
        "duration": 48,
        "start_time": "2022-04-22T10:25:12.514Z"
      },
      {
        "duration": 12,
        "start_time": "2022-04-22T10:25:12.565Z"
      },
      {
        "duration": 175,
        "start_time": "2022-04-22T10:25:12.579Z"
      },
      {
        "duration": 1509,
        "start_time": "2022-04-22T17:30:13.302Z"
      },
      {
        "duration": 491,
        "start_time": "2022-04-22T17:30:14.813Z"
      },
      {
        "duration": 31,
        "start_time": "2022-04-22T17:30:15.306Z"
      },
      {
        "duration": 37,
        "start_time": "2022-04-22T17:30:15.340Z"
      },
      {
        "duration": 491,
        "start_time": "2022-04-22T17:30:15.379Z"
      },
      {
        "duration": 89,
        "start_time": "2022-04-22T17:30:15.872Z"
      },
      {
        "duration": 2260,
        "start_time": "2022-04-22T17:30:15.972Z"
      },
      {
        "duration": 45,
        "start_time": "2022-04-22T17:30:18.234Z"
      },
      {
        "duration": 110,
        "start_time": "2022-04-22T17:30:18.281Z"
      },
      {
        "duration": 131,
        "start_time": "2022-04-22T17:30:18.394Z"
      },
      {
        "duration": 66,
        "start_time": "2022-04-22T17:30:18.527Z"
      },
      {
        "duration": 45,
        "start_time": "2022-04-22T17:30:18.595Z"
      },
      {
        "duration": 61,
        "start_time": "2022-04-22T17:30:18.642Z"
      },
      {
        "duration": 35,
        "start_time": "2022-04-22T17:30:18.705Z"
      },
      {
        "duration": 704,
        "start_time": "2022-04-22T17:30:18.742Z"
      },
      {
        "duration": 35,
        "start_time": "2022-04-22T17:30:19.447Z"
      },
      {
        "duration": 58,
        "start_time": "2022-04-22T17:30:19.484Z"
      },
      {
        "duration": 4,
        "start_time": "2022-04-22T17:30:19.544Z"
      },
      {
        "duration": 55,
        "start_time": "2022-04-22T17:30:19.550Z"
      },
      {
        "duration": 31,
        "start_time": "2022-04-22T17:30:19.606Z"
      },
      {
        "duration": 4,
        "start_time": "2022-04-22T17:30:19.639Z"
      },
      {
        "duration": 66,
        "start_time": "2022-04-22T17:30:19.645Z"
      },
      {
        "duration": 81,
        "start_time": "2022-04-22T17:30:19.713Z"
      },
      {
        "duration": 140,
        "start_time": "2022-04-22T17:30:19.796Z"
      },
      {
        "duration": 255,
        "start_time": "2022-04-22T17:30:19.938Z"
      },
      {
        "duration": 83,
        "start_time": "2022-04-22T17:30:20.195Z"
      },
      {
        "duration": 130,
        "start_time": "2022-04-22T17:30:20.281Z"
      },
      {
        "duration": 8,
        "start_time": "2022-04-22T17:30:20.414Z"
      },
      {
        "duration": 15,
        "start_time": "2022-04-22T17:30:20.424Z"
      },
      {
        "duration": 46,
        "start_time": "2022-04-22T17:30:20.441Z"
      },
      {
        "duration": 30,
        "start_time": "2022-04-22T17:30:20.489Z"
      },
      {
        "duration": 29,
        "start_time": "2022-04-22T17:30:20.521Z"
      },
      {
        "duration": 76,
        "start_time": "2022-04-22T17:30:20.552Z"
      },
      {
        "duration": 235,
        "start_time": "2022-04-22T17:30:20.630Z"
      },
      {
        "duration": 35,
        "start_time": "2022-04-22T17:30:20.867Z"
      },
      {
        "duration": 8,
        "start_time": "2022-04-22T17:30:20.904Z"
      },
      {
        "duration": 129,
        "start_time": "2022-04-22T17:30:20.914Z"
      },
      {
        "duration": 1322,
        "start_time": "2022-04-22T17:31:58.021Z"
      },
      {
        "duration": 36,
        "start_time": "2022-04-22T17:33:16.335Z"
      },
      {
        "duration": 1352,
        "start_time": "2022-04-22T17:34:56.219Z"
      },
      {
        "duration": 117,
        "start_time": "2022-04-22T17:35:57.023Z"
      },
      {
        "duration": 280,
        "start_time": "2022-04-22T17:36:05.005Z"
      },
      {
        "duration": 239,
        "start_time": "2022-04-22T17:36:15.263Z"
      },
      {
        "duration": 287,
        "start_time": "2022-04-22T17:36:22.287Z"
      },
      {
        "duration": 278,
        "start_time": "2022-04-22T17:36:31.187Z"
      },
      {
        "duration": 8,
        "start_time": "2022-04-22T17:36:58.254Z"
      },
      {
        "duration": 293,
        "start_time": "2022-04-22T17:37:22.766Z"
      },
      {
        "duration": 286,
        "start_time": "2022-04-22T17:37:37.316Z"
      },
      {
        "duration": 1342,
        "start_time": "2022-04-22T17:37:49.508Z"
      },
      {
        "duration": 314,
        "start_time": "2022-04-22T17:38:47.905Z"
      },
      {
        "duration": 447,
        "start_time": "2022-04-22T17:41:07.624Z"
      },
      {
        "duration": 300,
        "start_time": "2022-04-22T17:41:17.094Z"
      },
      {
        "duration": 71,
        "start_time": "2022-04-22T17:42:09.419Z"
      },
      {
        "duration": 63,
        "start_time": "2022-04-22T17:42:52.780Z"
      },
      {
        "duration": 577,
        "start_time": "2022-04-22T17:44:24.029Z"
      },
      {
        "duration": 1979,
        "start_time": "2022-04-22T17:44:34.961Z"
      },
      {
        "duration": 5,
        "start_time": "2022-04-22T17:44:46.540Z"
      },
      {
        "duration": 67,
        "start_time": "2022-04-22T17:44:50.771Z"
      },
      {
        "duration": 73,
        "start_time": "2022-04-22T17:44:55.438Z"
      },
      {
        "duration": 76,
        "start_time": "2022-04-22T17:45:11.854Z"
      },
      {
        "duration": 69,
        "start_time": "2022-04-22T17:45:16.931Z"
      },
      {
        "duration": 72,
        "start_time": "2022-04-22T17:45:24.310Z"
      },
      {
        "duration": 63,
        "start_time": "2022-04-22T17:45:29.295Z"
      },
      {
        "duration": 2166,
        "start_time": "2022-04-22T17:46:00.054Z"
      },
      {
        "duration": 65,
        "start_time": "2022-04-22T17:46:12.275Z"
      },
      {
        "duration": 69,
        "start_time": "2022-04-22T17:46:17.269Z"
      },
      {
        "duration": 73,
        "start_time": "2022-04-22T17:46:22.349Z"
      },
      {
        "duration": 69,
        "start_time": "2022-04-22T17:46:25.474Z"
      },
      {
        "duration": 71,
        "start_time": "2022-04-22T17:46:30.050Z"
      },
      {
        "duration": 67,
        "start_time": "2022-04-22T17:46:37.811Z"
      },
      {
        "duration": 68,
        "start_time": "2022-04-22T17:46:42.370Z"
      },
      {
        "duration": 69,
        "start_time": "2022-04-22T17:47:38.636Z"
      },
      {
        "duration": 78,
        "start_time": "2022-04-22T17:47:42.530Z"
      },
      {
        "duration": 72,
        "start_time": "2022-04-22T17:47:55.068Z"
      },
      {
        "duration": 74,
        "start_time": "2022-04-22T17:48:04.159Z"
      },
      {
        "duration": 155,
        "start_time": "2022-04-22T17:48:32.249Z"
      },
      {
        "duration": 112,
        "start_time": "2022-04-22T17:48:41.833Z"
      },
      {
        "duration": 1926,
        "start_time": "2022-04-22T17:48:52.846Z"
      },
      {
        "duration": 2421,
        "start_time": "2022-04-22T17:48:59.051Z"
      },
      {
        "duration": 2156,
        "start_time": "2022-04-22T17:49:12.130Z"
      },
      {
        "duration": 2169,
        "start_time": "2022-04-22T17:49:29.755Z"
      },
      {
        "duration": 1899,
        "start_time": "2022-04-22T17:49:35.087Z"
      },
      {
        "duration": 2173,
        "start_time": "2022-04-22T17:49:55.915Z"
      },
      {
        "duration": 67,
        "start_time": "2022-04-22T17:49:58.664Z"
      },
      {
        "duration": 2597,
        "start_time": "2022-04-22T17:50:22.287Z"
      },
      {
        "duration": 555,
        "start_time": "2022-04-22T17:50:27.414Z"
      },
      {
        "duration": 65,
        "start_time": "2022-04-22T17:50:42.288Z"
      },
      {
        "duration": 63,
        "start_time": "2022-04-22T17:50:59.083Z"
      },
      {
        "duration": 72,
        "start_time": "2022-04-22T17:51:05.034Z"
      },
      {
        "duration": 62,
        "start_time": "2022-04-22T17:51:15.607Z"
      },
      {
        "duration": 80,
        "start_time": "2022-04-22T17:51:40.529Z"
      },
      {
        "duration": 624,
        "start_time": "2022-04-22T17:53:05.351Z"
      },
      {
        "duration": 75,
        "start_time": "2022-04-22T17:53:46.045Z"
      },
      {
        "duration": 72,
        "start_time": "2022-04-22T17:53:55.430Z"
      },
      {
        "duration": 63,
        "start_time": "2022-04-22T17:54:04.597Z"
      },
      {
        "duration": 69,
        "start_time": "2022-04-22T17:54:10.422Z"
      },
      {
        "duration": 66,
        "start_time": "2022-04-22T17:54:35.013Z"
      },
      {
        "duration": 1946,
        "start_time": "2022-04-22T17:55:10.494Z"
      },
      {
        "duration": 2302,
        "start_time": "2022-04-22T17:55:16.613Z"
      },
      {
        "duration": 547,
        "start_time": "2022-04-22T17:56:01.124Z"
      },
      {
        "duration": 119,
        "start_time": "2022-04-22T17:56:25.226Z"
      },
      {
        "duration": 604,
        "start_time": "2022-04-22T17:56:30.100Z"
      },
      {
        "duration": 515,
        "start_time": "2022-04-22T17:56:38.857Z"
      },
      {
        "duration": 123,
        "start_time": "2022-04-22T17:56:46.849Z"
      },
      {
        "duration": 560,
        "start_time": "2022-04-22T17:56:55.427Z"
      },
      {
        "duration": 557,
        "start_time": "2022-04-22T17:57:30.932Z"
      },
      {
        "duration": 542,
        "start_time": "2022-04-22T17:57:47.963Z"
      },
      {
        "duration": 621,
        "start_time": "2022-04-22T17:58:02.867Z"
      },
      {
        "duration": 602,
        "start_time": "2022-04-22T17:58:10.511Z"
      },
      {
        "duration": 676,
        "start_time": "2022-04-22T17:58:38.569Z"
      },
      {
        "duration": 124,
        "start_time": "2022-04-22T17:58:46.264Z"
      },
      {
        "duration": 114,
        "start_time": "2022-04-22T17:58:53.088Z"
      },
      {
        "duration": 71,
        "start_time": "2022-04-22T17:58:58.135Z"
      },
      {
        "duration": 71,
        "start_time": "2022-04-22T17:59:13.113Z"
      },
      {
        "duration": 64,
        "start_time": "2022-04-22T17:59:32.983Z"
      },
      {
        "duration": 2091,
        "start_time": "2022-04-22T18:00:12.798Z"
      },
      {
        "duration": 673,
        "start_time": "2022-04-22T18:00:23.215Z"
      },
      {
        "duration": 2368,
        "start_time": "2022-04-22T18:00:26.587Z"
      },
      {
        "duration": 2199,
        "start_time": "2022-04-22T18:00:54.272Z"
      },
      {
        "duration": 2149,
        "start_time": "2022-04-22T18:01:27.788Z"
      },
      {
        "duration": 2317,
        "start_time": "2022-04-22T18:01:52.041Z"
      },
      {
        "duration": 2006,
        "start_time": "2022-04-22T18:02:07.892Z"
      },
      {
        "duration": 552,
        "start_time": "2022-04-22T18:03:04.517Z"
      },
      {
        "duration": 2150,
        "start_time": "2022-04-22T18:03:44.995Z"
      },
      {
        "duration": 68,
        "start_time": "2022-04-22T18:03:53.217Z"
      },
      {
        "duration": 538,
        "start_time": "2022-04-22T18:04:53.803Z"
      },
      {
        "duration": 71,
        "start_time": "2022-04-22T18:04:59.641Z"
      },
      {
        "duration": 580,
        "start_time": "2022-04-22T18:05:06.762Z"
      },
      {
        "duration": 742,
        "start_time": "2022-04-22T18:05:16.786Z"
      },
      {
        "duration": 72,
        "start_time": "2022-04-22T18:05:20.830Z"
      },
      {
        "duration": 117,
        "start_time": "2022-04-22T18:05:44.642Z"
      },
      {
        "duration": 2059,
        "start_time": "2022-04-22T18:05:50.328Z"
      },
      {
        "duration": 536,
        "start_time": "2022-04-22T18:06:06.924Z"
      },
      {
        "duration": 600,
        "start_time": "2022-04-22T18:06:15.017Z"
      },
      {
        "duration": 544,
        "start_time": "2022-04-22T18:06:20.996Z"
      },
      {
        "duration": 2013,
        "start_time": "2022-04-22T18:06:46.224Z"
      },
      {
        "duration": 561,
        "start_time": "2022-04-22T18:06:57.086Z"
      },
      {
        "duration": 587,
        "start_time": "2022-04-22T18:07:00.286Z"
      },
      {
        "duration": 2233,
        "start_time": "2022-04-22T18:07:06.888Z"
      },
      {
        "duration": 551,
        "start_time": "2022-04-22T18:08:43.191Z"
      },
      {
        "duration": 615,
        "start_time": "2022-04-22T18:09:09.791Z"
      },
      {
        "duration": 15,
        "start_time": "2022-04-22T18:11:33.436Z"
      },
      {
        "duration": 15,
        "start_time": "2022-04-22T18:11:47.390Z"
      },
      {
        "duration": 66,
        "start_time": "2022-04-22T18:18:06.603Z"
      },
      {
        "duration": 65,
        "start_time": "2022-04-22T18:18:16.086Z"
      },
      {
        "duration": 70,
        "start_time": "2022-04-22T18:18:37.122Z"
      },
      {
        "duration": 119,
        "start_time": "2022-04-22T18:18:47.869Z"
      },
      {
        "duration": 75,
        "start_time": "2022-04-22T18:18:55.927Z"
      },
      {
        "duration": 74,
        "start_time": "2022-04-22T18:19:00.649Z"
      },
      {
        "duration": 70,
        "start_time": "2022-04-22T18:19:09.071Z"
      },
      {
        "duration": 72,
        "start_time": "2022-04-22T18:19:12.628Z"
      },
      {
        "duration": 82,
        "start_time": "2022-04-22T18:19:25.171Z"
      },
      {
        "duration": 63,
        "start_time": "2022-04-22T18:19:34.305Z"
      },
      {
        "duration": 64,
        "start_time": "2022-04-22T18:19:38.186Z"
      },
      {
        "duration": 66,
        "start_time": "2022-04-22T18:20:03.386Z"
      },
      {
        "duration": 74,
        "start_time": "2022-04-22T18:20:09.340Z"
      },
      {
        "duration": 75,
        "start_time": "2022-04-22T18:20:14.949Z"
      },
      {
        "duration": 73,
        "start_time": "2022-04-22T18:20:31.570Z"
      },
      {
        "duration": 620,
        "start_time": "2022-04-22T18:20:41.286Z"
      },
      {
        "duration": 68,
        "start_time": "2022-04-22T18:20:44.601Z"
      },
      {
        "duration": 67,
        "start_time": "2022-04-22T18:21:00.097Z"
      },
      {
        "duration": 135,
        "start_time": "2022-04-22T18:21:19.087Z"
      },
      {
        "duration": 74,
        "start_time": "2022-04-22T18:21:31.019Z"
      },
      {
        "duration": 76,
        "start_time": "2022-04-22T18:21:36.558Z"
      },
      {
        "duration": 70,
        "start_time": "2022-04-22T18:21:47.963Z"
      },
      {
        "duration": 74,
        "start_time": "2022-04-22T18:21:57.812Z"
      },
      {
        "duration": 76,
        "start_time": "2022-04-22T18:22:10.050Z"
      },
      {
        "duration": 70,
        "start_time": "2022-04-22T18:22:17.142Z"
      },
      {
        "duration": 66,
        "start_time": "2022-04-22T18:22:37.392Z"
      },
      {
        "duration": 64,
        "start_time": "2022-04-22T18:22:47.592Z"
      },
      {
        "duration": 124,
        "start_time": "2022-04-22T18:22:56.864Z"
      },
      {
        "duration": 134,
        "start_time": "2022-04-22T18:23:00.690Z"
      },
      {
        "duration": 116,
        "start_time": "2022-04-22T18:23:08.486Z"
      },
      {
        "duration": 130,
        "start_time": "2022-04-22T18:23:13.489Z"
      },
      {
        "duration": 71,
        "start_time": "2022-04-22T18:23:25.460Z"
      },
      {
        "duration": 68,
        "start_time": "2022-04-22T18:23:33.809Z"
      },
      {
        "duration": 74,
        "start_time": "2022-04-22T18:24:26.359Z"
      },
      {
        "duration": 65,
        "start_time": "2022-04-22T18:24:29.487Z"
      },
      {
        "duration": 79,
        "start_time": "2022-04-22T18:24:34.343Z"
      },
      {
        "duration": 71,
        "start_time": "2022-04-22T18:24:59.567Z"
      },
      {
        "duration": 72,
        "start_time": "2022-04-22T18:25:25.369Z"
      },
      {
        "duration": 67,
        "start_time": "2022-04-22T18:25:42.992Z"
      },
      {
        "duration": 65,
        "start_time": "2022-04-22T18:26:33.402Z"
      },
      {
        "duration": 73,
        "start_time": "2022-04-22T18:26:39.345Z"
      },
      {
        "duration": 66,
        "start_time": "2022-04-22T18:26:46.193Z"
      },
      {
        "duration": 74,
        "start_time": "2022-04-22T18:27:01.255Z"
      },
      {
        "duration": 65,
        "start_time": "2022-04-22T18:28:04.296Z"
      },
      {
        "duration": 66,
        "start_time": "2022-04-22T18:28:18.087Z"
      },
      {
        "duration": 70,
        "start_time": "2022-04-22T18:28:21.132Z"
      },
      {
        "duration": 90,
        "start_time": "2022-04-22T18:33:37.431Z"
      },
      {
        "duration": 97,
        "start_time": "2022-04-22T18:33:45.437Z"
      },
      {
        "duration": 88,
        "start_time": "2022-04-22T18:34:04.425Z"
      },
      {
        "duration": 86,
        "start_time": "2022-04-22T18:34:34.070Z"
      },
      {
        "duration": 81,
        "start_time": "2022-04-22T18:34:39.764Z"
      },
      {
        "duration": 75,
        "start_time": "2022-04-22T18:35:48.795Z"
      },
      {
        "duration": 77,
        "start_time": "2022-04-22T18:35:52.309Z"
      },
      {
        "duration": 88,
        "start_time": "2022-04-22T18:36:31.321Z"
      },
      {
        "duration": 129,
        "start_time": "2022-04-22T18:37:07.315Z"
      },
      {
        "duration": 86,
        "start_time": "2022-04-22T18:37:12.068Z"
      },
      {
        "duration": 88,
        "start_time": "2022-04-22T18:37:20.330Z"
      },
      {
        "duration": 88,
        "start_time": "2022-04-22T18:37:39.345Z"
      },
      {
        "duration": 90,
        "start_time": "2022-04-22T18:37:43.033Z"
      },
      {
        "duration": 79,
        "start_time": "2022-04-22T18:37:46.430Z"
      },
      {
        "duration": 84,
        "start_time": "2022-04-22T18:42:46.944Z"
      },
      {
        "duration": 83,
        "start_time": "2022-04-22T18:43:28.508Z"
      },
      {
        "duration": 82,
        "start_time": "2022-04-22T18:43:45.187Z"
      },
      {
        "duration": 84,
        "start_time": "2022-04-22T18:44:17.718Z"
      },
      {
        "duration": 94,
        "start_time": "2022-04-22T18:45:09.224Z"
      },
      {
        "duration": 91,
        "start_time": "2022-04-22T18:45:20.366Z"
      },
      {
        "duration": 149,
        "start_time": "2022-04-22T18:45:24.340Z"
      },
      {
        "duration": 77,
        "start_time": "2022-04-22T18:45:27.286Z"
      },
      {
        "duration": 79,
        "start_time": "2022-04-22T18:45:31.186Z"
      },
      {
        "duration": 75,
        "start_time": "2022-04-22T18:48:22.188Z"
      },
      {
        "duration": 79,
        "start_time": "2022-04-22T18:48:37.195Z"
      },
      {
        "duration": 85,
        "start_time": "2022-04-22T18:48:41.229Z"
      },
      {
        "duration": 86,
        "start_time": "2022-04-22T18:48:46.206Z"
      },
      {
        "duration": 82,
        "start_time": "2022-04-22T18:48:55.061Z"
      },
      {
        "duration": 160,
        "start_time": "2022-04-22T18:49:06.460Z"
      },
      {
        "duration": 151,
        "start_time": "2022-04-22T18:49:16.274Z"
      },
      {
        "duration": 94,
        "start_time": "2022-04-22T18:49:23.511Z"
      },
      {
        "duration": 47,
        "start_time": "2022-04-22T18:49:37.355Z"
      },
      {
        "duration": 86,
        "start_time": "2022-04-22T18:49:40.972Z"
      },
      {
        "duration": 122,
        "start_time": "2022-04-22T18:50:47.965Z"
      },
      {
        "duration": 2126,
        "start_time": "2022-04-22T18:50:52.347Z"
      },
      {
        "duration": 2021,
        "start_time": "2022-04-22T18:51:11.638Z"
      },
      {
        "duration": 2267,
        "start_time": "2022-04-22T18:51:18.173Z"
      },
      {
        "duration": 105,
        "start_time": "2022-04-22T18:52:20.834Z"
      },
      {
        "duration": 2424,
        "start_time": "2022-04-22T18:52:30.129Z"
      },
      {
        "duration": 4411,
        "start_time": "2022-04-22T18:52:42.459Z"
      },
      {
        "duration": 2709,
        "start_time": "2022-04-22T18:53:01.537Z"
      },
      {
        "duration": 2869,
        "start_time": "2022-04-22T18:53:11.099Z"
      },
      {
        "duration": 2552,
        "start_time": "2022-04-22T18:53:43.072Z"
      },
      {
        "duration": 2150,
        "start_time": "2022-04-22T18:53:57.652Z"
      },
      {
        "duration": 87,
        "start_time": "2022-04-22T18:54:03.571Z"
      },
      {
        "duration": 2441,
        "start_time": "2022-04-22T18:54:11.187Z"
      },
      {
        "duration": 2122,
        "start_time": "2022-04-22T18:54:26.945Z"
      },
      {
        "duration": 1911,
        "start_time": "2022-04-22T18:54:53.504Z"
      },
      {
        "duration": 2645,
        "start_time": "2022-04-22T18:55:05.510Z"
      },
      {
        "duration": 2115,
        "start_time": "2022-04-22T18:55:16.946Z"
      },
      {
        "duration": 1950,
        "start_time": "2022-04-22T18:55:25.286Z"
      },
      {
        "duration": 2019,
        "start_time": "2022-04-22T18:55:55.698Z"
      },
      {
        "duration": 4,
        "start_time": "2022-04-22T18:56:37.351Z"
      },
      {
        "duration": 1521,
        "start_time": "2022-04-22T18:56:40.267Z"
      },
      {
        "duration": 2312,
        "start_time": "2022-04-22T18:57:03.264Z"
      },
      {
        "duration": 4,
        "start_time": "2022-04-22T18:57:14.901Z"
      },
      {
        "duration": 82,
        "start_time": "2022-04-22T18:57:17.275Z"
      },
      {
        "duration": 77,
        "start_time": "2022-04-22T18:57:38.792Z"
      },
      {
        "duration": 94,
        "start_time": "2022-04-22T18:57:46.628Z"
      },
      {
        "duration": 90,
        "start_time": "2022-04-22T18:58:01.487Z"
      },
      {
        "duration": 86,
        "start_time": "2022-04-22T18:58:15.647Z"
      },
      {
        "duration": 91,
        "start_time": "2022-04-22T18:58:20.937Z"
      },
      {
        "duration": 84,
        "start_time": "2022-04-22T18:58:30.744Z"
      },
      {
        "duration": 94,
        "start_time": "2022-04-22T18:58:34.510Z"
      },
      {
        "duration": 86,
        "start_time": "2022-04-22T18:58:37.169Z"
      },
      {
        "duration": 77,
        "start_time": "2022-04-22T18:58:53.494Z"
      },
      {
        "duration": 85,
        "start_time": "2022-04-22T18:59:00.072Z"
      },
      {
        "duration": 84,
        "start_time": "2022-04-22T18:59:08.852Z"
      },
      {
        "duration": 77,
        "start_time": "2022-04-22T18:59:51.686Z"
      },
      {
        "duration": 96,
        "start_time": "2022-04-22T19:00:03.915Z"
      },
      {
        "duration": 87,
        "start_time": "2022-04-22T19:00:47.117Z"
      },
      {
        "duration": 79,
        "start_time": "2022-04-22T19:00:49.392Z"
      },
      {
        "duration": 91,
        "start_time": "2022-04-22T19:00:54.941Z"
      },
      {
        "duration": 1370,
        "start_time": "2022-04-22T19:01:47.053Z"
      },
      {
        "duration": 442,
        "start_time": "2022-04-22T19:01:48.426Z"
      },
      {
        "duration": 39,
        "start_time": "2022-04-22T19:01:48.870Z"
      },
      {
        "duration": 13,
        "start_time": "2022-04-22T19:01:48.910Z"
      },
      {
        "duration": 503,
        "start_time": "2022-04-22T19:01:48.925Z"
      },
      {
        "duration": 100,
        "start_time": "2022-04-22T19:01:49.430Z"
      },
      {
        "duration": 2221,
        "start_time": "2022-04-22T19:01:49.532Z"
      },
      {
        "duration": 45,
        "start_time": "2022-04-22T19:01:51.754Z"
      },
      {
        "duration": 97,
        "start_time": "2022-04-22T19:01:51.801Z"
      },
      {
        "duration": 136,
        "start_time": "2022-04-22T19:01:51.899Z"
      },
      {
        "duration": 65,
        "start_time": "2022-04-22T19:01:52.037Z"
      },
      {
        "duration": 43,
        "start_time": "2022-04-22T19:01:52.104Z"
      },
      {
        "duration": 50,
        "start_time": "2022-04-22T19:01:52.149Z"
      },
      {
        "duration": 15,
        "start_time": "2022-04-22T19:01:52.202Z"
      },
      {
        "duration": 34,
        "start_time": "2022-04-22T19:01:52.218Z"
      },
      {
        "duration": 326,
        "start_time": "2022-04-22T19:01:52.273Z"
      },
      {
        "duration": 637,
        "start_time": "2022-04-22T19:01:52.601Z"
      },
      {
        "duration": 28,
        "start_time": "2022-04-22T19:01:53.239Z"
      },
      {
        "duration": 60,
        "start_time": "2022-04-22T19:01:53.268Z"
      },
      {
        "duration": 4,
        "start_time": "2022-04-22T19:01:53.330Z"
      },
      {
        "duration": 46,
        "start_time": "2022-04-22T19:01:53.336Z"
      },
      {
        "duration": 34,
        "start_time": "2022-04-22T19:01:53.384Z"
      },
      {
        "duration": 5,
        "start_time": "2022-04-22T19:01:53.419Z"
      },
      {
        "duration": 56,
        "start_time": "2022-04-22T19:01:53.426Z"
      },
      {
        "duration": 62,
        "start_time": "2022-04-22T19:01:53.485Z"
      },
      {
        "duration": 94,
        "start_time": "2022-04-22T19:01:53.549Z"
      },
      {
        "duration": 160,
        "start_time": "2022-04-22T19:01:53.645Z"
      },
      {
        "duration": 227,
        "start_time": "2022-04-22T19:01:53.807Z"
      },
      {
        "duration": 78,
        "start_time": "2022-04-22T19:01:54.036Z"
      },
      {
        "duration": 104,
        "start_time": "2022-04-22T19:01:54.116Z"
      },
      {
        "duration": 7,
        "start_time": "2022-04-22T19:01:54.222Z"
      },
      {
        "duration": 8,
        "start_time": "2022-04-22T19:01:54.231Z"
      },
      {
        "duration": 1510,
        "start_time": "2022-04-22T19:01:54.241Z"
      },
      {
        "duration": 0,
        "start_time": "2022-04-22T19:01:55.753Z"
      },
      {
        "duration": 0,
        "start_time": "2022-04-22T19:01:55.754Z"
      },
      {
        "duration": 0,
        "start_time": "2022-04-22T19:01:55.757Z"
      },
      {
        "duration": 0,
        "start_time": "2022-04-22T19:01:55.758Z"
      },
      {
        "duration": 0,
        "start_time": "2022-04-22T19:01:55.760Z"
      },
      {
        "duration": 0,
        "start_time": "2022-04-22T19:01:55.761Z"
      },
      {
        "duration": 0,
        "start_time": "2022-04-22T19:01:55.762Z"
      },
      {
        "duration": 54,
        "start_time": "2022-04-22T19:02:34.067Z"
      },
      {
        "duration": 45,
        "start_time": "2022-04-22T19:02:54.600Z"
      },
      {
        "duration": 83,
        "start_time": "2022-04-22T19:02:56.289Z"
      },
      {
        "duration": 2054,
        "start_time": "2022-04-22T19:03:07.290Z"
      },
      {
        "duration": 4,
        "start_time": "2022-04-22T19:03:15.458Z"
      },
      {
        "duration": 84,
        "start_time": "2022-04-22T19:03:19.133Z"
      },
      {
        "duration": 49,
        "start_time": "2022-04-22T19:03:23.359Z"
      },
      {
        "duration": 77,
        "start_time": "2022-04-22T19:03:24.188Z"
      },
      {
        "duration": 1263,
        "start_time": "2022-04-22T19:03:34.893Z"
      },
      {
        "duration": 359,
        "start_time": "2022-04-22T19:03:36.158Z"
      },
      {
        "duration": 30,
        "start_time": "2022-04-22T19:03:36.519Z"
      },
      {
        "duration": 27,
        "start_time": "2022-04-22T19:03:36.551Z"
      },
      {
        "duration": 465,
        "start_time": "2022-04-22T19:03:36.581Z"
      },
      {
        "duration": 1388,
        "start_time": "2022-04-23T07:19:38.606Z"
      },
      {
        "duration": 341,
        "start_time": "2022-04-23T07:19:39.996Z"
      },
      {
        "duration": 29,
        "start_time": "2022-04-23T07:19:40.339Z"
      },
      {
        "duration": 12,
        "start_time": "2022-04-23T07:19:40.370Z"
      },
      {
        "duration": 490,
        "start_time": "2022-04-23T07:19:40.384Z"
      },
      {
        "duration": 100,
        "start_time": "2022-04-23T07:19:40.876Z"
      },
      {
        "duration": 2288,
        "start_time": "2022-04-23T07:19:40.978Z"
      },
      {
        "duration": 32,
        "start_time": "2022-04-23T07:19:43.267Z"
      },
      {
        "duration": 84,
        "start_time": "2022-04-23T07:19:43.307Z"
      },
      {
        "duration": 132,
        "start_time": "2022-04-23T07:19:43.392Z"
      },
      {
        "duration": 48,
        "start_time": "2022-04-23T07:19:43.526Z"
      },
      {
        "duration": 61,
        "start_time": "2022-04-23T07:19:43.575Z"
      },
      {
        "duration": 24,
        "start_time": "2022-04-23T07:19:43.638Z"
      },
      {
        "duration": 13,
        "start_time": "2022-04-23T07:19:43.665Z"
      },
      {
        "duration": 63,
        "start_time": "2022-04-23T07:19:43.680Z"
      },
      {
        "duration": 313,
        "start_time": "2022-04-23T07:19:43.745Z"
      },
      {
        "duration": 644,
        "start_time": "2022-04-23T07:19:44.059Z"
      },
      {
        "duration": 34,
        "start_time": "2022-04-23T07:19:44.705Z"
      },
      {
        "duration": 49,
        "start_time": "2022-04-23T07:19:44.740Z"
      },
      {
        "duration": 4,
        "start_time": "2022-04-23T07:19:44.791Z"
      },
      {
        "duration": 39,
        "start_time": "2022-04-23T07:19:44.797Z"
      },
      {
        "duration": 29,
        "start_time": "2022-04-23T07:19:44.838Z"
      },
      {
        "duration": 4,
        "start_time": "2022-04-23T07:19:44.868Z"
      },
      {
        "duration": 67,
        "start_time": "2022-04-23T07:19:44.874Z"
      },
      {
        "duration": 56,
        "start_time": "2022-04-23T07:19:44.943Z"
      },
      {
        "duration": 68,
        "start_time": "2022-04-23T07:19:45.001Z"
      },
      {
        "duration": 133,
        "start_time": "2022-04-23T07:19:45.071Z"
      },
      {
        "duration": 212,
        "start_time": "2022-04-23T07:19:45.207Z"
      },
      {
        "duration": 42,
        "start_time": "2022-04-23T07:19:45.421Z"
      },
      {
        "duration": 90,
        "start_time": "2022-04-23T07:19:45.465Z"
      },
      {
        "duration": 6,
        "start_time": "2022-04-23T07:19:45.557Z"
      },
      {
        "duration": 7,
        "start_time": "2022-04-23T07:19:45.564Z"
      },
      {
        "duration": 49,
        "start_time": "2022-04-23T07:19:45.572Z"
      },
      {
        "duration": 22,
        "start_time": "2022-04-23T07:19:45.623Z"
      },
      {
        "duration": 22,
        "start_time": "2022-04-23T07:19:45.647Z"
      },
      {
        "duration": 65,
        "start_time": "2022-04-23T07:19:45.671Z"
      },
      {
        "duration": 207,
        "start_time": "2022-04-23T07:19:45.737Z"
      },
      {
        "duration": 22,
        "start_time": "2022-04-23T07:19:45.945Z"
      },
      {
        "duration": 6,
        "start_time": "2022-04-23T07:19:45.969Z"
      },
      {
        "duration": 106,
        "start_time": "2022-04-23T07:19:45.977Z"
      },
      {
        "duration": 3,
        "start_time": "2022-04-23T07:41:46.291Z"
      },
      {
        "duration": 6,
        "start_time": "2022-04-23T07:42:58.100Z"
      },
      {
        "duration": 8,
        "start_time": "2022-04-23T07:44:31.270Z"
      },
      {
        "duration": 63,
        "start_time": "2022-04-23T07:47:54.952Z"
      },
      {
        "duration": 80,
        "start_time": "2022-04-23T07:48:15.100Z"
      },
      {
        "duration": 1064,
        "start_time": "2022-04-23T07:50:35.919Z"
      },
      {
        "duration": 9,
        "start_time": "2022-04-23T07:51:04.859Z"
      },
      {
        "duration": 3,
        "start_time": "2022-04-23T07:51:10.589Z"
      },
      {
        "duration": 95,
        "start_time": "2022-04-23T07:51:47.648Z"
      },
      {
        "duration": 16,
        "start_time": "2022-04-23T07:51:52.119Z"
      },
      {
        "duration": 4,
        "start_time": "2022-04-23T07:55:56.648Z"
      },
      {
        "duration": 57,
        "start_time": "2022-04-23T07:56:49.708Z"
      },
      {
        "duration": 12,
        "start_time": "2022-04-23T07:56:54.057Z"
      },
      {
        "duration": 10,
        "start_time": "2022-04-23T07:57:26.986Z"
      },
      {
        "duration": 55,
        "start_time": "2022-04-23T07:57:32.877Z"
      },
      {
        "duration": 6,
        "start_time": "2022-04-23T07:59:49.357Z"
      },
      {
        "duration": 986,
        "start_time": "2022-04-23T08:00:30.507Z"
      },
      {
        "duration": 9,
        "start_time": "2022-04-23T08:02:00.626Z"
      },
      {
        "duration": 962,
        "start_time": "2022-04-23T08:02:07.327Z"
      },
      {
        "duration": 4,
        "start_time": "2022-04-23T08:02:27.866Z"
      },
      {
        "duration": 4,
        "start_time": "2022-04-23T08:02:53.866Z"
      },
      {
        "duration": 4,
        "start_time": "2022-04-23T08:05:02.455Z"
      },
      {
        "duration": 7,
        "start_time": "2022-04-23T08:05:32.845Z"
      },
      {
        "duration": 4,
        "start_time": "2022-04-23T08:07:15.675Z"
      },
      {
        "duration": 4,
        "start_time": "2022-04-23T08:15:28.272Z"
      },
      {
        "duration": 4,
        "start_time": "2022-04-23T08:15:32.002Z"
      },
      {
        "duration": 1225,
        "start_time": "2022-04-23T08:16:01.370Z"
      },
      {
        "duration": 422,
        "start_time": "2022-04-23T08:16:02.597Z"
      },
      {
        "duration": 28,
        "start_time": "2022-04-23T08:16:03.020Z"
      },
      {
        "duration": 14,
        "start_time": "2022-04-23T08:16:03.050Z"
      },
      {
        "duration": 472,
        "start_time": "2022-04-23T08:16:03.065Z"
      },
      {
        "duration": 91,
        "start_time": "2022-04-23T08:16:03.538Z"
      },
      {
        "duration": 2051,
        "start_time": "2022-04-23T08:16:03.630Z"
      },
      {
        "duration": 38,
        "start_time": "2022-04-23T08:16:05.682Z"
      },
      {
        "duration": 95,
        "start_time": "2022-04-23T08:16:05.721Z"
      },
      {
        "duration": 119,
        "start_time": "2022-04-23T08:16:05.818Z"
      },
      {
        "duration": 50,
        "start_time": "2022-04-23T08:16:05.939Z"
      },
      {
        "duration": 52,
        "start_time": "2022-04-23T08:16:05.990Z"
      },
      {
        "duration": 26,
        "start_time": "2022-04-23T08:16:06.043Z"
      },
      {
        "duration": 37,
        "start_time": "2022-04-23T08:16:06.070Z"
      },
      {
        "duration": 34,
        "start_time": "2022-04-23T08:16:06.109Z"
      },
      {
        "duration": 313,
        "start_time": "2022-04-23T08:16:06.144Z"
      },
      {
        "duration": 621,
        "start_time": "2022-04-23T08:16:06.459Z"
      },
      {
        "duration": 27,
        "start_time": "2022-04-23T08:16:07.081Z"
      },
      {
        "duration": 50,
        "start_time": "2022-04-23T08:16:07.110Z"
      },
      {
        "duration": 4,
        "start_time": "2022-04-23T08:16:07.162Z"
      },
      {
        "duration": 44,
        "start_time": "2022-04-23T08:16:07.167Z"
      },
      {
        "duration": 29,
        "start_time": "2022-04-23T08:16:07.212Z"
      },
      {
        "duration": 4,
        "start_time": "2022-04-23T08:16:07.243Z"
      },
      {
        "duration": 30,
        "start_time": "2022-04-23T08:16:07.249Z"
      },
      {
        "duration": 80,
        "start_time": "2022-04-23T08:16:07.281Z"
      },
      {
        "duration": 83,
        "start_time": "2022-04-23T08:16:07.362Z"
      },
      {
        "duration": 128,
        "start_time": "2022-04-23T08:16:07.446Z"
      },
      {
        "duration": 173,
        "start_time": "2022-04-23T08:16:07.577Z"
      },
      {
        "duration": 61,
        "start_time": "2022-04-23T08:16:07.752Z"
      },
      {
        "duration": 83,
        "start_time": "2022-04-23T08:16:07.814Z"
      },
      {
        "duration": 4,
        "start_time": "2022-04-23T08:16:07.907Z"
      },
      {
        "duration": 8,
        "start_time": "2022-04-23T08:16:07.912Z"
      },
      {
        "duration": 8,
        "start_time": "2022-04-23T08:16:07.921Z"
      },
      {
        "duration": 25,
        "start_time": "2022-04-23T08:16:07.930Z"
      },
      {
        "duration": 23,
        "start_time": "2022-04-23T08:16:07.956Z"
      },
      {
        "duration": 50,
        "start_time": "2022-04-23T08:16:07.980Z"
      },
      {
        "duration": 46,
        "start_time": "2022-04-23T08:16:08.031Z"
      },
      {
        "duration": 221,
        "start_time": "2022-04-23T08:16:08.078Z"
      },
      {
        "duration": 29,
        "start_time": "2022-04-23T08:16:08.300Z"
      },
      {
        "duration": 9,
        "start_time": "2022-04-23T08:16:08.331Z"
      },
      {
        "duration": 107,
        "start_time": "2022-04-23T08:16:08.341Z"
      },
      {
        "duration": 50,
        "start_time": "2022-04-23T08:50:18.366Z"
      },
      {
        "duration": 1429,
        "start_time": "2022-04-23T08:50:27.406Z"
      },
      {
        "duration": 2053,
        "start_time": "2022-04-23T08:50:28.837Z"
      },
      {
        "duration": 29,
        "start_time": "2022-04-23T08:50:30.892Z"
      },
      {
        "duration": 13,
        "start_time": "2022-04-23T08:50:30.923Z"
      },
      {
        "duration": 452,
        "start_time": "2022-04-23T08:50:30.938Z"
      },
      {
        "duration": 90,
        "start_time": "2022-04-23T08:50:31.392Z"
      },
      {
        "duration": 1997,
        "start_time": "2022-04-23T08:50:31.484Z"
      },
      {
        "duration": 32,
        "start_time": "2022-04-23T08:50:33.483Z"
      },
      {
        "duration": 103,
        "start_time": "2022-04-23T08:50:33.516Z"
      },
      {
        "duration": 120,
        "start_time": "2022-04-23T08:50:33.621Z"
      },
      {
        "duration": 61,
        "start_time": "2022-04-23T08:50:33.743Z"
      },
      {
        "duration": 44,
        "start_time": "2022-04-23T08:50:33.805Z"
      },
      {
        "duration": 43,
        "start_time": "2022-04-23T08:50:33.851Z"
      },
      {
        "duration": 14,
        "start_time": "2022-04-23T08:50:33.896Z"
      },
      {
        "duration": 34,
        "start_time": "2022-04-23T08:50:33.912Z"
      },
      {
        "duration": 313,
        "start_time": "2022-04-23T08:50:33.948Z"
      },
      {
        "duration": 610,
        "start_time": "2022-04-23T08:50:34.263Z"
      },
      {
        "duration": 26,
        "start_time": "2022-04-23T08:50:34.875Z"
      },
      {
        "duration": 48,
        "start_time": "2022-04-23T08:50:34.903Z"
      },
      {
        "duration": 22,
        "start_time": "2022-04-23T08:50:34.953Z"
      },
      {
        "duration": 32,
        "start_time": "2022-04-23T08:50:34.976Z"
      },
      {
        "duration": 30,
        "start_time": "2022-04-23T08:50:35.010Z"
      },
      {
        "duration": 5,
        "start_time": "2022-04-23T08:50:35.042Z"
      },
      {
        "duration": 30,
        "start_time": "2022-04-23T08:50:35.073Z"
      },
      {
        "duration": 71,
        "start_time": "2022-04-23T08:50:35.105Z"
      },
      {
        "duration": 62,
        "start_time": "2022-04-23T08:50:35.177Z"
      },
      {
        "duration": 143,
        "start_time": "2022-04-23T08:50:35.241Z"
      },
      {
        "duration": 189,
        "start_time": "2022-04-23T08:50:35.387Z"
      },
      {
        "duration": 46,
        "start_time": "2022-04-23T08:50:35.578Z"
      },
      {
        "duration": 103,
        "start_time": "2022-04-23T08:50:35.625Z"
      },
      {
        "duration": 84,
        "start_time": "2022-04-23T08:50:35.730Z"
      },
      {
        "duration": 4,
        "start_time": "2022-04-23T08:50:35.815Z"
      },
      {
        "duration": 8,
        "start_time": "2022-04-23T08:50:35.821Z"
      },
      {
        "duration": 9,
        "start_time": "2022-04-23T08:50:35.831Z"
      },
      {
        "duration": 40,
        "start_time": "2022-04-23T08:50:35.841Z"
      },
      {
        "duration": 23,
        "start_time": "2022-04-23T08:50:35.882Z"
      },
      {
        "duration": 27,
        "start_time": "2022-04-23T08:50:35.907Z"
      },
      {
        "duration": 68,
        "start_time": "2022-04-23T08:50:35.936Z"
      },
      {
        "duration": 206,
        "start_time": "2022-04-23T08:50:36.006Z"
      },
      {
        "duration": 24,
        "start_time": "2022-04-23T08:50:36.213Z"
      },
      {
        "duration": 7,
        "start_time": "2022-04-23T08:50:36.239Z"
      },
      {
        "duration": 101,
        "start_time": "2022-04-23T08:50:36.248Z"
      },
      {
        "duration": 79,
        "start_time": "2022-04-23T08:52:49.091Z"
      },
      {
        "duration": 79,
        "start_time": "2022-04-23T08:54:19.949Z"
      },
      {
        "duration": 1950,
        "start_time": "2022-04-23T08:54:42.809Z"
      },
      {
        "duration": 76,
        "start_time": "2022-04-23T08:54:48.177Z"
      },
      {
        "duration": 76,
        "start_time": "2022-04-23T08:54:52.573Z"
      },
      {
        "duration": 80,
        "start_time": "2022-04-23T08:55:45.647Z"
      },
      {
        "duration": 1465,
        "start_time": "2022-04-23T08:56:03.269Z"
      },
      {
        "duration": 80,
        "start_time": "2022-04-23T08:56:07.318Z"
      },
      {
        "duration": 78,
        "start_time": "2022-04-23T08:56:56.252Z"
      },
      {
        "duration": 80,
        "start_time": "2022-04-23T08:57:00.541Z"
      },
      {
        "duration": 4,
        "start_time": "2022-04-23T08:57:11.354Z"
      },
      {
        "duration": 78,
        "start_time": "2022-04-23T08:57:25.037Z"
      },
      {
        "duration": 76,
        "start_time": "2022-04-23T08:57:30.871Z"
      },
      {
        "duration": 79,
        "start_time": "2022-04-23T08:57:38.205Z"
      },
      {
        "duration": 79,
        "start_time": "2022-04-23T08:59:15.706Z"
      },
      {
        "duration": 5,
        "start_time": "2022-04-23T08:59:53.253Z"
      },
      {
        "duration": 5,
        "start_time": "2022-04-23T09:03:31.357Z"
      },
      {
        "duration": 1559,
        "start_time": "2022-04-23T09:03:58.357Z"
      },
      {
        "duration": 78,
        "start_time": "2022-04-23T09:04:10.366Z"
      },
      {
        "duration": 79,
        "start_time": "2022-04-23T09:04:25.477Z"
      },
      {
        "duration": 1404,
        "start_time": "2022-04-23T09:04:38.452Z"
      },
      {
        "duration": 82,
        "start_time": "2022-04-23T09:04:48.771Z"
      },
      {
        "duration": 1902,
        "start_time": "2022-04-23T09:05:10.288Z"
      },
      {
        "duration": 2204,
        "start_time": "2022-04-23T09:06:15.191Z"
      },
      {
        "duration": 2143,
        "start_time": "2022-04-23T09:06:59.836Z"
      },
      {
        "duration": 5,
        "start_time": "2022-04-23T09:07:17.620Z"
      },
      {
        "duration": 5,
        "start_time": "2022-04-23T09:07:24.190Z"
      },
      {
        "duration": 5,
        "start_time": "2022-04-23T09:07:44.665Z"
      },
      {
        "duration": 4,
        "start_time": "2022-04-23T09:07:51.266Z"
      },
      {
        "duration": 5,
        "start_time": "2022-04-23T09:07:54.189Z"
      },
      {
        "duration": 5,
        "start_time": "2022-04-23T09:07:57.684Z"
      },
      {
        "duration": 3186,
        "start_time": "2022-04-23T09:08:03.699Z"
      },
      {
        "duration": 2023,
        "start_time": "2022-04-23T09:08:33.175Z"
      },
      {
        "duration": 1823,
        "start_time": "2022-04-23T09:09:07.828Z"
      },
      {
        "duration": 3,
        "start_time": "2022-04-23T09:09:17.202Z"
      },
      {
        "duration": 9,
        "start_time": "2022-04-23T09:09:21.146Z"
      },
      {
        "duration": 14,
        "start_time": "2022-04-23T09:09:24.672Z"
      },
      {
        "duration": 13,
        "start_time": "2022-04-23T09:09:29.219Z"
      },
      {
        "duration": 7,
        "start_time": "2022-04-23T09:09:33.763Z"
      },
      {
        "duration": 1903,
        "start_time": "2022-04-23T09:09:47.909Z"
      },
      {
        "duration": 1898,
        "start_time": "2022-04-23T09:10:10.559Z"
      },
      {
        "duration": 83,
        "start_time": "2022-04-23T09:10:24.601Z"
      },
      {
        "duration": 2111,
        "start_time": "2022-04-23T09:10:32.774Z"
      },
      {
        "duration": 86,
        "start_time": "2022-04-23T09:12:10.185Z"
      },
      {
        "duration": 80,
        "start_time": "2022-04-23T09:12:15.662Z"
      },
      {
        "duration": 1853,
        "start_time": "2022-04-23T09:16:20.518Z"
      },
      {
        "duration": 1908,
        "start_time": "2022-04-23T09:16:48.574Z"
      },
      {
        "duration": 8,
        "start_time": "2022-04-23T09:17:01.341Z"
      },
      {
        "duration": 57,
        "start_time": "2022-04-23T09:17:06.620Z"
      },
      {
        "duration": 7,
        "start_time": "2022-04-23T09:17:08.659Z"
      },
      {
        "duration": 2162,
        "start_time": "2022-04-23T09:17:10.297Z"
      },
      {
        "duration": 0,
        "start_time": "2022-04-23T09:17:12.461Z"
      },
      {
        "duration": 82,
        "start_time": "2022-04-23T09:17:20.964Z"
      },
      {
        "duration": 84,
        "start_time": "2022-04-23T09:17:26.598Z"
      },
      {
        "duration": 85,
        "start_time": "2022-04-23T09:17:32.137Z"
      },
      {
        "duration": 2524,
        "start_time": "2022-04-23T09:17:39.006Z"
      },
      {
        "duration": 2300,
        "start_time": "2022-04-23T09:17:47.061Z"
      },
      {
        "duration": 707,
        "start_time": "2022-04-23T09:18:03.574Z"
      },
      {
        "duration": 82,
        "start_time": "2022-04-23T09:18:26.541Z"
      },
      {
        "duration": 82,
        "start_time": "2022-04-23T09:18:49.040Z"
      },
      {
        "duration": 82,
        "start_time": "2022-04-23T09:18:54.245Z"
      },
      {
        "duration": 80,
        "start_time": "2022-04-23T09:19:03.081Z"
      },
      {
        "duration": 634,
        "start_time": "2022-04-23T09:19:41.993Z"
      },
      {
        "duration": 86,
        "start_time": "2022-04-23T09:19:50.902Z"
      },
      {
        "duration": 82,
        "start_time": "2022-04-23T09:20:05.621Z"
      },
      {
        "duration": 86,
        "start_time": "2022-04-23T09:20:09.946Z"
      },
      {
        "duration": 87,
        "start_time": "2022-04-23T09:20:15.939Z"
      },
      {
        "duration": 87,
        "start_time": "2022-04-23T09:20:25.013Z"
      },
      {
        "duration": 90,
        "start_time": "2022-04-23T09:21:06.128Z"
      },
      {
        "duration": 6,
        "start_time": "2022-04-23T09:21:28.554Z"
      },
      {
        "duration": 67,
        "start_time": "2022-04-23T09:29:12.024Z"
      },
      {
        "duration": 60,
        "start_time": "2022-04-23T09:31:09.588Z"
      },
      {
        "duration": 63,
        "start_time": "2022-04-23T09:34:05.220Z"
      },
      {
        "duration": 69,
        "start_time": "2022-04-23T09:40:01.494Z"
      },
      {
        "duration": 70,
        "start_time": "2022-04-23T09:40:05.181Z"
      },
      {
        "duration": 530,
        "start_time": "2022-04-23T09:40:14.587Z"
      },
      {
        "duration": 67,
        "start_time": "2022-04-23T09:40:18.201Z"
      },
      {
        "duration": 66,
        "start_time": "2022-04-23T09:40:29.286Z"
      },
      {
        "duration": 68,
        "start_time": "2022-04-23T09:40:43.626Z"
      },
      {
        "duration": 505,
        "start_time": "2022-04-23T09:42:43.359Z"
      },
      {
        "duration": 67,
        "start_time": "2022-04-23T09:42:57.671Z"
      },
      {
        "duration": 1912,
        "start_time": "2022-04-23T09:43:06.564Z"
      },
      {
        "duration": 82,
        "start_time": "2022-04-23T09:43:22.169Z"
      },
      {
        "duration": 9,
        "start_time": "2022-04-23T09:46:17.178Z"
      },
      {
        "duration": 113,
        "start_time": "2022-04-23T09:47:29.692Z"
      },
      {
        "duration": 22,
        "start_time": "2022-04-23T09:47:33.297Z"
      },
      {
        "duration": 6,
        "start_time": "2022-04-23T09:47:52.373Z"
      },
      {
        "duration": 4,
        "start_time": "2022-04-23T09:48:51.996Z"
      },
      {
        "duration": 80,
        "start_time": "2022-04-23T09:50:15.533Z"
      },
      {
        "duration": 5,
        "start_time": "2022-04-23T09:50:50.711Z"
      },
      {
        "duration": 94,
        "start_time": "2022-04-23T09:51:14.022Z"
      },
      {
        "duration": 82,
        "start_time": "2022-04-23T09:53:05.877Z"
      },
      {
        "duration": 943,
        "start_time": "2022-04-23T09:54:03.298Z"
      },
      {
        "duration": 528,
        "start_time": "2022-04-23T09:55:36.675Z"
      },
      {
        "duration": 75,
        "start_time": "2022-04-23T09:55:46.658Z"
      },
      {
        "duration": 80,
        "start_time": "2022-04-23T09:56:26.288Z"
      },
      {
        "duration": 80,
        "start_time": "2022-04-23T09:56:37.329Z"
      },
      {
        "duration": 10,
        "start_time": "2022-04-23T09:56:51.973Z"
      },
      {
        "duration": 9,
        "start_time": "2022-04-23T09:57:37.514Z"
      },
      {
        "duration": 79,
        "start_time": "2022-04-23T09:57:42.918Z"
      },
      {
        "duration": 78,
        "start_time": "2022-04-23T09:57:47.664Z"
      },
      {
        "duration": 83,
        "start_time": "2022-04-23T09:57:50.034Z"
      },
      {
        "duration": 94,
        "start_time": "2022-04-23T09:58:15.055Z"
      },
      {
        "duration": 78,
        "start_time": "2022-04-23T09:58:29.560Z"
      },
      {
        "duration": 1796,
        "start_time": "2022-04-23T09:59:02.657Z"
      },
      {
        "duration": 46,
        "start_time": "2022-04-23T09:59:36.154Z"
      },
      {
        "duration": 79,
        "start_time": "2022-04-23T09:59:45.296Z"
      },
      {
        "duration": 44,
        "start_time": "2022-04-23T09:59:48.317Z"
      },
      {
        "duration": 76,
        "start_time": "2022-04-23T09:59:50.443Z"
      },
      {
        "duration": 46,
        "start_time": "2022-04-23T10:00:21.123Z"
      },
      {
        "duration": 80,
        "start_time": "2022-04-23T10:00:23.248Z"
      },
      {
        "duration": 4,
        "start_time": "2022-04-23T10:00:25.219Z"
      },
      {
        "duration": 1376,
        "start_time": "2022-04-23T10:00:31.938Z"
      },
      {
        "duration": 489,
        "start_time": "2022-04-23T10:00:33.317Z"
      },
      {
        "duration": 31,
        "start_time": "2022-04-23T10:00:33.808Z"
      },
      {
        "duration": 34,
        "start_time": "2022-04-23T10:00:33.840Z"
      },
      {
        "duration": 497,
        "start_time": "2022-04-23T10:00:33.877Z"
      },
      {
        "duration": 82,
        "start_time": "2022-04-23T10:00:34.375Z"
      },
      {
        "duration": 2109,
        "start_time": "2022-04-23T10:00:34.459Z"
      },
      {
        "duration": 33,
        "start_time": "2022-04-23T10:00:36.570Z"
      },
      {
        "duration": 97,
        "start_time": "2022-04-23T10:00:36.605Z"
      },
      {
        "duration": 126,
        "start_time": "2022-04-23T10:00:36.704Z"
      },
      {
        "duration": 62,
        "start_time": "2022-04-23T10:00:36.832Z"
      },
      {
        "duration": 47,
        "start_time": "2022-04-23T10:00:36.897Z"
      },
      {
        "duration": 51,
        "start_time": "2022-04-23T10:00:36.946Z"
      },
      {
        "duration": 16,
        "start_time": "2022-04-23T10:00:37.002Z"
      },
      {
        "duration": 64,
        "start_time": "2022-04-23T10:00:37.021Z"
      },
      {
        "duration": 325,
        "start_time": "2022-04-23T10:00:37.088Z"
      },
      {
        "duration": 654,
        "start_time": "2022-04-23T10:00:37.415Z"
      },
      {
        "duration": 28,
        "start_time": "2022-04-23T10:00:38.071Z"
      },
      {
        "duration": 55,
        "start_time": "2022-04-23T10:00:38.101Z"
      },
      {
        "duration": 18,
        "start_time": "2022-04-23T10:00:38.157Z"
      },
      {
        "duration": 35,
        "start_time": "2022-04-23T10:00:38.177Z"
      },
      {
        "duration": 32,
        "start_time": "2022-04-23T10:00:38.214Z"
      },
      {
        "duration": 27,
        "start_time": "2022-04-23T10:00:38.248Z"
      },
      {
        "duration": 36,
        "start_time": "2022-04-23T10:00:38.277Z"
      },
      {
        "duration": 80,
        "start_time": "2022-04-23T10:00:38.315Z"
      },
      {
        "duration": 84,
        "start_time": "2022-04-23T10:00:38.397Z"
      },
      {
        "duration": 191,
        "start_time": "2022-04-23T10:00:38.483Z"
      },
      {
        "duration": 197,
        "start_time": "2022-04-23T10:00:38.676Z"
      },
      {
        "duration": 48,
        "start_time": "2022-04-23T10:00:38.875Z"
      },
      {
        "duration": 105,
        "start_time": "2022-04-23T10:00:38.925Z"
      },
      {
        "duration": 5,
        "start_time": "2022-04-23T10:00:39.032Z"
      },
      {
        "duration": 12,
        "start_time": "2022-04-23T10:00:39.038Z"
      },
      {
        "duration": 122,
        "start_time": "2022-04-23T10:00:39.052Z"
      },
      {
        "duration": 0,
        "start_time": "2022-04-23T10:00:39.176Z"
      },
      {
        "duration": 0,
        "start_time": "2022-04-23T10:00:39.177Z"
      },
      {
        "duration": 0,
        "start_time": "2022-04-23T10:00:39.178Z"
      },
      {
        "duration": 0,
        "start_time": "2022-04-23T10:00:39.179Z"
      },
      {
        "duration": 0,
        "start_time": "2022-04-23T10:00:39.181Z"
      },
      {
        "duration": 0,
        "start_time": "2022-04-23T10:00:39.181Z"
      },
      {
        "duration": 0,
        "start_time": "2022-04-23T10:00:39.182Z"
      },
      {
        "duration": 0,
        "start_time": "2022-04-23T10:00:39.184Z"
      },
      {
        "duration": 0,
        "start_time": "2022-04-23T10:00:39.185Z"
      },
      {
        "duration": 0,
        "start_time": "2022-04-23T10:00:39.186Z"
      },
      {
        "duration": 0,
        "start_time": "2022-04-23T10:00:39.187Z"
      },
      {
        "duration": 1829,
        "start_time": "2022-04-23T10:01:40.013Z"
      },
      {
        "duration": 9,
        "start_time": "2022-04-23T10:01:42.468Z"
      },
      {
        "duration": 5,
        "start_time": "2022-04-23T10:01:48.587Z"
      },
      {
        "duration": 1898,
        "start_time": "2022-04-23T10:01:51.321Z"
      },
      {
        "duration": 1292,
        "start_time": "2022-04-23T10:02:22.321Z"
      },
      {
        "duration": 368,
        "start_time": "2022-04-23T10:02:23.615Z"
      },
      {
        "duration": 31,
        "start_time": "2022-04-23T10:02:23.985Z"
      },
      {
        "duration": 14,
        "start_time": "2022-04-23T10:02:24.018Z"
      },
      {
        "duration": 493,
        "start_time": "2022-04-23T10:02:24.034Z"
      },
      {
        "duration": 97,
        "start_time": "2022-04-23T10:02:24.529Z"
      },
      {
        "duration": 2146,
        "start_time": "2022-04-23T10:02:24.628Z"
      },
      {
        "duration": 33,
        "start_time": "2022-04-23T10:02:26.775Z"
      },
      {
        "duration": 110,
        "start_time": "2022-04-23T10:02:26.810Z"
      },
      {
        "duration": 132,
        "start_time": "2022-04-23T10:02:26.923Z"
      },
      {
        "duration": 65,
        "start_time": "2022-04-23T10:02:27.057Z"
      },
      {
        "duration": 61,
        "start_time": "2022-04-23T10:02:27.124Z"
      },
      {
        "duration": 28,
        "start_time": "2022-04-23T10:02:27.187Z"
      },
      {
        "duration": 14,
        "start_time": "2022-04-23T10:02:27.217Z"
      },
      {
        "duration": 70,
        "start_time": "2022-04-23T10:02:27.232Z"
      },
      {
        "duration": 318,
        "start_time": "2022-04-23T10:02:27.304Z"
      },
      {
        "duration": 674,
        "start_time": "2022-04-23T10:02:27.624Z"
      },
      {
        "duration": 29,
        "start_time": "2022-04-23T10:02:28.300Z"
      },
      {
        "duration": 56,
        "start_time": "2022-04-23T10:02:28.331Z"
      },
      {
        "duration": 4,
        "start_time": "2022-04-23T10:02:28.389Z"
      },
      {
        "duration": 33,
        "start_time": "2022-04-23T10:02:28.395Z"
      },
      {
        "duration": 56,
        "start_time": "2022-04-23T10:02:28.430Z"
      },
      {
        "duration": 4,
        "start_time": "2022-04-23T10:02:28.488Z"
      },
      {
        "duration": 33,
        "start_time": "2022-04-23T10:02:28.494Z"
      },
      {
        "duration": 95,
        "start_time": "2022-04-23T10:02:28.528Z"
      },
      {
        "duration": 83,
        "start_time": "2022-04-23T10:02:28.625Z"
      },
      {
        "duration": 138,
        "start_time": "2022-04-23T10:02:28.709Z"
      },
      {
        "duration": 164,
        "start_time": "2022-04-23T10:02:28.851Z"
      },
      {
        "duration": 81,
        "start_time": "2022-04-23T10:02:29.017Z"
      },
      {
        "duration": 93,
        "start_time": "2022-04-23T10:02:29.099Z"
      },
      {
        "duration": 5,
        "start_time": "2022-04-23T10:02:29.193Z"
      },
      {
        "duration": 2171,
        "start_time": "2022-04-23T10:02:29.199Z"
      },
      {
        "duration": 0,
        "start_time": "2022-04-23T10:02:31.372Z"
      },
      {
        "duration": 0,
        "start_time": "2022-04-23T10:02:31.373Z"
      },
      {
        "duration": 0,
        "start_time": "2022-04-23T10:02:31.374Z"
      },
      {
        "duration": 0,
        "start_time": "2022-04-23T10:02:31.375Z"
      },
      {
        "duration": 0,
        "start_time": "2022-04-23T10:02:31.377Z"
      },
      {
        "duration": 0,
        "start_time": "2022-04-23T10:02:31.378Z"
      },
      {
        "duration": 0,
        "start_time": "2022-04-23T10:02:31.379Z"
      },
      {
        "duration": 0,
        "start_time": "2022-04-23T10:02:31.380Z"
      },
      {
        "duration": 0,
        "start_time": "2022-04-23T10:02:31.381Z"
      },
      {
        "duration": 0,
        "start_time": "2022-04-23T10:02:31.382Z"
      },
      {
        "duration": 1286,
        "start_time": "2022-04-23T10:02:51.398Z"
      },
      {
        "duration": 318,
        "start_time": "2022-04-23T10:02:52.685Z"
      },
      {
        "duration": 28,
        "start_time": "2022-04-23T10:02:53.005Z"
      },
      {
        "duration": 13,
        "start_time": "2022-04-23T10:02:53.035Z"
      },
      {
        "duration": 446,
        "start_time": "2022-04-23T10:02:53.050Z"
      },
      {
        "duration": 80,
        "start_time": "2022-04-23T10:02:53.497Z"
      },
      {
        "duration": 2038,
        "start_time": "2022-04-23T10:02:53.579Z"
      },
      {
        "duration": 32,
        "start_time": "2022-04-23T10:02:55.619Z"
      },
      {
        "duration": 85,
        "start_time": "2022-04-23T10:02:55.652Z"
      },
      {
        "duration": 123,
        "start_time": "2022-04-23T10:02:55.740Z"
      },
      {
        "duration": 52,
        "start_time": "2022-04-23T10:02:55.864Z"
      },
      {
        "duration": 43,
        "start_time": "2022-04-23T10:02:55.918Z"
      },
      {
        "duration": 33,
        "start_time": "2022-04-23T10:02:55.963Z"
      },
      {
        "duration": 14,
        "start_time": "2022-04-23T10:02:55.998Z"
      },
      {
        "duration": 35,
        "start_time": "2022-04-23T10:02:56.014Z"
      },
      {
        "duration": 304,
        "start_time": "2022-04-23T10:02:56.051Z"
      },
      {
        "duration": 618,
        "start_time": "2022-04-23T10:02:56.356Z"
      },
      {
        "duration": 29,
        "start_time": "2022-04-23T10:02:56.975Z"
      },
      {
        "duration": 53,
        "start_time": "2022-04-23T10:02:57.005Z"
      },
      {
        "duration": 4,
        "start_time": "2022-04-23T10:02:57.060Z"
      },
      {
        "duration": 36,
        "start_time": "2022-04-23T10:02:57.066Z"
      },
      {
        "duration": 30,
        "start_time": "2022-04-23T10:02:57.104Z"
      },
      {
        "duration": 4,
        "start_time": "2022-04-23T10:02:57.136Z"
      },
      {
        "duration": 37,
        "start_time": "2022-04-23T10:02:57.141Z"
      },
      {
        "duration": 59,
        "start_time": "2022-04-23T10:02:57.180Z"
      },
      {
        "duration": 70,
        "start_time": "2022-04-23T10:02:57.241Z"
      },
      {
        "duration": 1148,
        "start_time": "2022-04-23T10:02:57.313Z"
      },
      {
        "duration": 113,
        "start_time": "2022-04-23T10:02:58.465Z"
      },
      {
        "duration": 47,
        "start_time": "2022-04-23T10:02:58.579Z"
      },
      {
        "duration": 167,
        "start_time": "2022-04-23T10:02:58.628Z"
      },
      {
        "duration": 4,
        "start_time": "2022-04-23T10:02:58.797Z"
      },
      {
        "duration": 9,
        "start_time": "2022-04-23T10:02:58.803Z"
      },
      {
        "duration": 8,
        "start_time": "2022-04-23T10:02:58.814Z"
      },
      {
        "duration": 8,
        "start_time": "2022-04-23T10:02:58.823Z"
      },
      {
        "duration": 41,
        "start_time": "2022-04-23T10:02:58.833Z"
      },
      {
        "duration": 25,
        "start_time": "2022-04-23T10:02:58.875Z"
      },
      {
        "duration": 31,
        "start_time": "2022-04-23T10:02:58.902Z"
      },
      {
        "duration": 79,
        "start_time": "2022-04-23T10:02:58.934Z"
      },
      {
        "duration": 415,
        "start_time": "2022-04-23T10:02:59.015Z"
      },
      {
        "duration": 2248,
        "start_time": "2022-04-23T10:02:59.432Z"
      },
      {
        "duration": 1,
        "start_time": "2022-04-23T10:03:01.682Z"
      },
      {
        "duration": 0,
        "start_time": "2022-04-23T10:03:01.684Z"
      },
      {
        "duration": 8,
        "start_time": "2022-04-23T10:03:43.547Z"
      },
      {
        "duration": 1986,
        "start_time": "2022-04-23T10:03:44.720Z"
      },
      {
        "duration": 1265,
        "start_time": "2022-04-23T10:03:50.814Z"
      },
      {
        "duration": 290,
        "start_time": "2022-04-23T10:03:52.081Z"
      },
      {
        "duration": 29,
        "start_time": "2022-04-23T10:03:52.372Z"
      },
      {
        "duration": 14,
        "start_time": "2022-04-23T10:03:52.402Z"
      },
      {
        "duration": 458,
        "start_time": "2022-04-23T10:03:52.418Z"
      },
      {
        "duration": 80,
        "start_time": "2022-04-23T10:03:52.878Z"
      },
      {
        "duration": 2046,
        "start_time": "2022-04-23T10:03:52.959Z"
      },
      {
        "duration": 34,
        "start_time": "2022-04-23T10:03:55.007Z"
      },
      {
        "duration": 107,
        "start_time": "2022-04-23T10:03:55.043Z"
      },
      {
        "duration": 128,
        "start_time": "2022-04-23T10:03:55.152Z"
      },
      {
        "duration": 50,
        "start_time": "2022-04-23T10:03:55.282Z"
      },
      {
        "duration": 59,
        "start_time": "2022-04-23T10:03:55.333Z"
      },
      {
        "duration": 24,
        "start_time": "2022-04-23T10:03:55.394Z"
      },
      {
        "duration": 14,
        "start_time": "2022-04-23T10:03:55.421Z"
      },
      {
        "duration": 66,
        "start_time": "2022-04-23T10:03:55.436Z"
      },
      {
        "duration": 364,
        "start_time": "2022-04-23T10:03:55.504Z"
      },
      {
        "duration": 664,
        "start_time": "2022-04-23T10:03:55.870Z"
      },
      {
        "duration": 27,
        "start_time": "2022-04-23T10:03:56.536Z"
      },
      {
        "duration": 52,
        "start_time": "2022-04-23T10:03:56.565Z"
      },
      {
        "duration": 4,
        "start_time": "2022-04-23T10:03:56.618Z"
      },
      {
        "duration": 60,
        "start_time": "2022-04-23T10:03:56.624Z"
      },
      {
        "duration": 30,
        "start_time": "2022-04-23T10:03:56.686Z"
      },
      {
        "duration": 5,
        "start_time": "2022-04-23T10:03:56.718Z"
      },
      {
        "duration": 51,
        "start_time": "2022-04-23T10:03:56.725Z"
      },
      {
        "duration": 61,
        "start_time": "2022-04-23T10:03:56.778Z"
      },
      {
        "duration": 83,
        "start_time": "2022-04-23T10:03:56.840Z"
      },
      {
        "duration": 148,
        "start_time": "2022-04-23T10:03:56.925Z"
      },
      {
        "duration": 160,
        "start_time": "2022-04-23T10:03:57.074Z"
      },
      {
        "duration": 78,
        "start_time": "2022-04-23T10:03:57.236Z"
      },
      {
        "duration": 98,
        "start_time": "2022-04-23T10:03:57.315Z"
      },
      {
        "duration": 4,
        "start_time": "2022-04-23T10:03:57.415Z"
      },
      {
        "duration": 7,
        "start_time": "2022-04-23T10:03:57.420Z"
      },
      {
        "duration": 8,
        "start_time": "2022-04-23T10:03:57.429Z"
      },
      {
        "duration": 12,
        "start_time": "2022-04-23T10:03:57.438Z"
      },
      {
        "duration": 43,
        "start_time": "2022-04-23T10:03:57.451Z"
      },
      {
        "duration": 23,
        "start_time": "2022-04-23T10:03:57.495Z"
      },
      {
        "duration": 28,
        "start_time": "2022-04-23T10:03:57.520Z"
      },
      {
        "duration": 64,
        "start_time": "2022-04-23T10:03:57.550Z"
      },
      {
        "duration": 209,
        "start_time": "2022-04-23T10:03:57.616Z"
      },
      {
        "duration": 1895,
        "start_time": "2022-04-23T10:03:57.827Z"
      },
      {
        "duration": 0,
        "start_time": "2022-04-23T10:03:59.725Z"
      },
      {
        "duration": 0,
        "start_time": "2022-04-23T10:03:59.726Z"
      },
      {
        "duration": 1289,
        "start_time": "2022-04-23T10:04:43.116Z"
      },
      {
        "duration": 290,
        "start_time": "2022-04-23T10:04:44.407Z"
      },
      {
        "duration": 30,
        "start_time": "2022-04-23T10:04:44.699Z"
      },
      {
        "duration": 15,
        "start_time": "2022-04-23T10:04:44.731Z"
      },
      {
        "duration": 467,
        "start_time": "2022-04-23T10:04:44.747Z"
      },
      {
        "duration": 89,
        "start_time": "2022-04-23T10:04:45.216Z"
      },
      {
        "duration": 2078,
        "start_time": "2022-04-23T10:04:45.307Z"
      },
      {
        "duration": 33,
        "start_time": "2022-04-23T10:04:47.387Z"
      },
      {
        "duration": 108,
        "start_time": "2022-04-23T10:04:47.421Z"
      },
      {
        "duration": 123,
        "start_time": "2022-04-23T10:04:47.532Z"
      },
      {
        "duration": 56,
        "start_time": "2022-04-23T10:04:47.657Z"
      },
      {
        "duration": 59,
        "start_time": "2022-04-23T10:04:47.715Z"
      },
      {
        "duration": 28,
        "start_time": "2022-04-23T10:04:47.776Z"
      },
      {
        "duration": 14,
        "start_time": "2022-04-23T10:04:47.806Z"
      },
      {
        "duration": 63,
        "start_time": "2022-04-23T10:04:47.822Z"
      },
      {
        "duration": 323,
        "start_time": "2022-04-23T10:04:47.887Z"
      },
      {
        "duration": 650,
        "start_time": "2022-04-23T10:04:48.212Z"
      },
      {
        "duration": 29,
        "start_time": "2022-04-23T10:04:48.863Z"
      },
      {
        "duration": 52,
        "start_time": "2022-04-23T10:04:48.894Z"
      },
      {
        "duration": 4,
        "start_time": "2022-04-23T10:04:48.948Z"
      },
      {
        "duration": 30,
        "start_time": "2022-04-23T10:04:48.974Z"
      },
      {
        "duration": 31,
        "start_time": "2022-04-23T10:04:49.006Z"
      },
      {
        "duration": 5,
        "start_time": "2022-04-23T10:04:49.039Z"
      },
      {
        "duration": 33,
        "start_time": "2022-04-23T10:04:49.074Z"
      },
      {
        "duration": 84,
        "start_time": "2022-04-23T10:04:49.109Z"
      },
      {
        "duration": 78,
        "start_time": "2022-04-23T10:04:49.195Z"
      },
      {
        "duration": 146,
        "start_time": "2022-04-23T10:04:49.275Z"
      },
      {
        "duration": 196,
        "start_time": "2022-04-23T10:04:49.425Z"
      },
      {
        "duration": 71,
        "start_time": "2022-04-23T10:04:49.622Z"
      },
      {
        "duration": 95,
        "start_time": "2022-04-23T10:04:49.694Z"
      },
      {
        "duration": 4,
        "start_time": "2022-04-23T10:04:49.791Z"
      },
      {
        "duration": 7,
        "start_time": "2022-04-23T10:04:49.797Z"
      },
      {
        "duration": 9,
        "start_time": "2022-04-23T10:04:49.806Z"
      },
      {
        "duration": 9,
        "start_time": "2022-04-23T10:04:49.817Z"
      },
      {
        "duration": 57,
        "start_time": "2022-04-23T10:04:49.828Z"
      },
      {
        "duration": 26,
        "start_time": "2022-04-23T10:04:49.886Z"
      },
      {
        "duration": 24,
        "start_time": "2022-04-23T10:04:49.913Z"
      },
      {
        "duration": 77,
        "start_time": "2022-04-23T10:04:49.939Z"
      },
      {
        "duration": 221,
        "start_time": "2022-04-23T10:04:50.018Z"
      },
      {
        "duration": 33,
        "start_time": "2022-04-23T10:04:50.241Z"
      },
      {
        "duration": 8,
        "start_time": "2022-04-23T10:04:50.276Z"
      },
      {
        "duration": 108,
        "start_time": "2022-04-23T10:04:50.286Z"
      },
      {
        "duration": 4,
        "start_time": "2022-04-23T10:05:14.810Z"
      },
      {
        "duration": 2129,
        "start_time": "2022-04-23T10:05:31.744Z"
      },
      {
        "duration": 5,
        "start_time": "2022-04-23T10:05:42.050Z"
      },
      {
        "duration": 85,
        "start_time": "2022-04-23T10:07:00.283Z"
      },
      {
        "duration": 83,
        "start_time": "2022-04-23T10:07:05.412Z"
      },
      {
        "duration": 6,
        "start_time": "2022-04-23T10:07:59.978Z"
      },
      {
        "duration": 2126,
        "start_time": "2022-04-23T10:10:54.460Z"
      },
      {
        "duration": 6,
        "start_time": "2022-04-23T10:11:08.862Z"
      },
      {
        "duration": 103,
        "start_time": "2022-04-23T10:12:14.111Z"
      },
      {
        "duration": 5,
        "start_time": "2022-04-23T10:12:18.026Z"
      },
      {
        "duration": 2335,
        "start_time": "2022-04-23T10:13:16.400Z"
      },
      {
        "duration": 2463,
        "start_time": "2022-04-23T10:13:24.028Z"
      },
      {
        "duration": 6,
        "start_time": "2022-04-23T10:13:51.061Z"
      },
      {
        "duration": 5,
        "start_time": "2022-04-23T10:14:38.039Z"
      },
      {
        "duration": 81,
        "start_time": "2022-04-23T10:14:51.598Z"
      },
      {
        "duration": 90,
        "start_time": "2022-04-23T10:16:01.000Z"
      },
      {
        "duration": 90,
        "start_time": "2022-04-23T10:16:07.170Z"
      },
      {
        "duration": 84,
        "start_time": "2022-04-23T10:16:16.426Z"
      },
      {
        "duration": 82,
        "start_time": "2022-04-23T10:16:59.103Z"
      },
      {
        "duration": 89,
        "start_time": "2022-04-23T10:28:15.552Z"
      },
      {
        "duration": 12,
        "start_time": "2022-04-23T10:28:35.909Z"
      },
      {
        "duration": 66,
        "start_time": "2022-04-23T10:28:47.631Z"
      },
      {
        "duration": 68,
        "start_time": "2022-04-23T10:29:05.415Z"
      },
      {
        "duration": 65,
        "start_time": "2022-04-23T10:29:27.813Z"
      },
      {
        "duration": 61,
        "start_time": "2022-04-23T10:29:43.019Z"
      },
      {
        "duration": 67,
        "start_time": "2022-04-23T10:29:43.278Z"
      },
      {
        "duration": 11,
        "start_time": "2022-04-23T10:29:44.849Z"
      },
      {
        "duration": 64,
        "start_time": "2022-04-23T10:30:45.396Z"
      },
      {
        "duration": 66,
        "start_time": "2022-04-23T10:31:00.604Z"
      },
      {
        "duration": 66,
        "start_time": "2022-04-23T10:31:10.235Z"
      },
      {
        "duration": 63,
        "start_time": "2022-04-23T10:31:27.209Z"
      },
      {
        "duration": 60,
        "start_time": "2022-04-23T10:32:59.581Z"
      },
      {
        "duration": 65,
        "start_time": "2022-04-23T10:33:05.945Z"
      },
      {
        "duration": 89,
        "start_time": "2022-04-23T10:33:46.551Z"
      },
      {
        "duration": 62,
        "start_time": "2022-04-23T10:34:09.363Z"
      },
      {
        "duration": 66,
        "start_time": "2022-04-23T10:34:10.315Z"
      },
      {
        "duration": 65,
        "start_time": "2022-04-23T10:35:26.778Z"
      },
      {
        "duration": 1278,
        "start_time": "2022-04-23T10:35:32.417Z"
      },
      {
        "duration": 376,
        "start_time": "2022-04-23T10:35:33.697Z"
      },
      {
        "duration": 29,
        "start_time": "2022-04-23T10:35:34.075Z"
      },
      {
        "duration": 13,
        "start_time": "2022-04-23T10:35:34.106Z"
      },
      {
        "duration": 457,
        "start_time": "2022-04-23T10:35:34.121Z"
      },
      {
        "duration": 94,
        "start_time": "2022-04-23T10:35:34.580Z"
      },
      {
        "duration": 1993,
        "start_time": "2022-04-23T10:35:34.676Z"
      },
      {
        "duration": 31,
        "start_time": "2022-04-23T10:35:36.671Z"
      },
      {
        "duration": 95,
        "start_time": "2022-04-23T10:35:36.703Z"
      },
      {
        "duration": 124,
        "start_time": "2022-04-23T10:35:36.800Z"
      },
      {
        "duration": 54,
        "start_time": "2022-04-23T10:35:36.926Z"
      },
      {
        "duration": 46,
        "start_time": "2022-04-23T10:35:36.981Z"
      },
      {
        "duration": 49,
        "start_time": "2022-04-23T10:35:37.029Z"
      },
      {
        "duration": 15,
        "start_time": "2022-04-23T10:35:37.080Z"
      },
      {
        "duration": 35,
        "start_time": "2022-04-23T10:35:37.097Z"
      },
      {
        "duration": 317,
        "start_time": "2022-04-23T10:35:37.134Z"
      },
      {
        "duration": 673,
        "start_time": "2022-04-23T10:35:37.453Z"
      },
      {
        "duration": 29,
        "start_time": "2022-04-23T10:35:38.129Z"
      },
      {
        "duration": 60,
        "start_time": "2022-04-23T10:35:38.160Z"
      },
      {
        "duration": 4,
        "start_time": "2022-04-23T10:35:38.222Z"
      },
      {
        "duration": 47,
        "start_time": "2022-04-23T10:35:38.227Z"
      },
      {
        "duration": 29,
        "start_time": "2022-04-23T10:35:38.276Z"
      },
      {
        "duration": 5,
        "start_time": "2022-04-23T10:35:38.307Z"
      },
      {
        "duration": 34,
        "start_time": "2022-04-23T10:35:38.313Z"
      },
      {
        "duration": 87,
        "start_time": "2022-04-23T10:35:38.349Z"
      },
      {
        "duration": 148,
        "start_time": "2022-04-23T10:35:38.438Z"
      },
      {
        "duration": 190,
        "start_time": "2022-04-23T10:35:38.588Z"
      },
      {
        "duration": 44,
        "start_time": "2022-04-23T10:35:38.781Z"
      },
      {
        "duration": 119,
        "start_time": "2022-04-23T10:35:38.827Z"
      },
      {
        "duration": 0,
        "start_time": "2022-04-23T10:35:38.947Z"
      },
      {
        "duration": 0,
        "start_time": "2022-04-23T10:35:38.949Z"
      },
      {
        "duration": 0,
        "start_time": "2022-04-23T10:35:38.950Z"
      },
      {
        "duration": 0,
        "start_time": "2022-04-23T10:35:38.952Z"
      },
      {
        "duration": 0,
        "start_time": "2022-04-23T10:35:38.953Z"
      },
      {
        "duration": 0,
        "start_time": "2022-04-23T10:35:38.954Z"
      },
      {
        "duration": 0,
        "start_time": "2022-04-23T10:35:38.956Z"
      },
      {
        "duration": 0,
        "start_time": "2022-04-23T10:35:38.974Z"
      },
      {
        "duration": 0,
        "start_time": "2022-04-23T10:35:38.976Z"
      },
      {
        "duration": 0,
        "start_time": "2022-04-23T10:35:38.977Z"
      },
      {
        "duration": 0,
        "start_time": "2022-04-23T10:35:38.978Z"
      },
      {
        "duration": 0,
        "start_time": "2022-04-23T10:35:38.979Z"
      },
      {
        "duration": 1279,
        "start_time": "2022-04-23T10:36:02.419Z"
      },
      {
        "duration": 389,
        "start_time": "2022-04-23T10:36:03.700Z"
      },
      {
        "duration": 31,
        "start_time": "2022-04-23T10:36:04.091Z"
      },
      {
        "duration": 14,
        "start_time": "2022-04-23T10:36:04.123Z"
      },
      {
        "duration": 473,
        "start_time": "2022-04-23T10:36:04.140Z"
      },
      {
        "duration": 88,
        "start_time": "2022-04-23T10:36:04.615Z"
      },
      {
        "duration": 2070,
        "start_time": "2022-04-23T10:36:04.704Z"
      },
      {
        "duration": 34,
        "start_time": "2022-04-23T10:36:06.775Z"
      },
      {
        "duration": 112,
        "start_time": "2022-04-23T10:36:06.811Z"
      },
      {
        "duration": 130,
        "start_time": "2022-04-23T10:36:06.925Z"
      },
      {
        "duration": 61,
        "start_time": "2022-04-23T10:36:07.057Z"
      },
      {
        "duration": 57,
        "start_time": "2022-04-23T10:36:07.120Z"
      },
      {
        "duration": 30,
        "start_time": "2022-04-23T10:36:07.179Z"
      },
      {
        "duration": 13,
        "start_time": "2022-04-23T10:36:07.214Z"
      },
      {
        "duration": 63,
        "start_time": "2022-04-23T10:36:07.229Z"
      },
      {
        "duration": 311,
        "start_time": "2022-04-23T10:36:07.294Z"
      },
      {
        "duration": 638,
        "start_time": "2022-04-23T10:36:07.607Z"
      },
      {
        "duration": 29,
        "start_time": "2022-04-23T10:36:08.247Z"
      },
      {
        "duration": 52,
        "start_time": "2022-04-23T10:36:08.278Z"
      },
      {
        "duration": 5,
        "start_time": "2022-04-23T10:36:08.331Z"
      },
      {
        "duration": 47,
        "start_time": "2022-04-23T10:36:08.337Z"
      },
      {
        "duration": 30,
        "start_time": "2022-04-23T10:36:08.385Z"
      },
      {
        "duration": 5,
        "start_time": "2022-04-23T10:36:08.417Z"
      },
      {
        "duration": 55,
        "start_time": "2022-04-23T10:36:08.424Z"
      },
      {
        "duration": 65,
        "start_time": "2022-04-23T10:36:08.481Z"
      },
      {
        "duration": 149,
        "start_time": "2022-04-23T10:36:08.548Z"
      },
      {
        "duration": 196,
        "start_time": "2022-04-23T10:36:08.699Z"
      },
      {
        "duration": 79,
        "start_time": "2022-04-23T10:36:08.897Z"
      },
      {
        "duration": 103,
        "start_time": "2022-04-23T10:36:08.977Z"
      },
      {
        "duration": 5,
        "start_time": "2022-04-23T10:36:09.082Z"
      },
      {
        "duration": 14,
        "start_time": "2022-04-23T10:36:09.088Z"
      },
      {
        "duration": 13,
        "start_time": "2022-04-23T10:36:09.105Z"
      },
      {
        "duration": 34,
        "start_time": "2022-04-23T10:36:09.120Z"
      },
      {
        "duration": 38,
        "start_time": "2022-04-23T10:36:09.157Z"
      },
      {
        "duration": 35,
        "start_time": "2022-04-23T10:36:09.197Z"
      },
      {
        "duration": 68,
        "start_time": "2022-04-23T10:36:09.234Z"
      },
      {
        "duration": 213,
        "start_time": "2022-04-23T10:36:09.303Z"
      },
      {
        "duration": 26,
        "start_time": "2022-04-23T10:36:09.518Z"
      },
      {
        "duration": 27,
        "start_time": "2022-04-23T10:36:09.546Z"
      },
      {
        "duration": 109,
        "start_time": "2022-04-23T10:36:09.575Z"
      },
      {
        "duration": 113,
        "start_time": "2022-04-23T10:40:18.623Z"
      },
      {
        "duration": 103,
        "start_time": "2022-04-23T10:40:25.736Z"
      },
      {
        "duration": 65,
        "start_time": "2022-04-23T10:40:30.293Z"
      },
      {
        "duration": 1209,
        "start_time": "2022-04-24T11:13:04.252Z"
      },
      {
        "duration": 482,
        "start_time": "2022-04-24T11:13:05.463Z"
      },
      {
        "duration": 26,
        "start_time": "2022-04-24T11:13:05.946Z"
      },
      {
        "duration": 12,
        "start_time": "2022-04-24T11:13:05.973Z"
      },
      {
        "duration": 442,
        "start_time": "2022-04-24T11:13:05.986Z"
      },
      {
        "duration": 82,
        "start_time": "2022-04-24T11:13:06.430Z"
      },
      {
        "duration": 1972,
        "start_time": "2022-04-24T11:13:06.513Z"
      },
      {
        "duration": 40,
        "start_time": "2022-04-24T11:13:08.487Z"
      },
      {
        "duration": 85,
        "start_time": "2022-04-24T11:13:08.529Z"
      },
      {
        "duration": 112,
        "start_time": "2022-04-24T11:13:08.617Z"
      },
      {
        "duration": 49,
        "start_time": "2022-04-24T11:13:08.730Z"
      },
      {
        "duration": 51,
        "start_time": "2022-04-24T11:13:08.781Z"
      },
      {
        "duration": 25,
        "start_time": "2022-04-24T11:13:08.834Z"
      },
      {
        "duration": 13,
        "start_time": "2022-04-24T11:13:08.860Z"
      },
      {
        "duration": 52,
        "start_time": "2022-04-24T11:13:08.875Z"
      },
      {
        "duration": 265,
        "start_time": "2022-04-24T11:13:08.929Z"
      },
      {
        "duration": 548,
        "start_time": "2022-04-24T11:13:09.200Z"
      },
      {
        "duration": 26,
        "start_time": "2022-04-24T11:13:09.750Z"
      },
      {
        "duration": 46,
        "start_time": "2022-04-24T11:13:09.777Z"
      },
      {
        "duration": 5,
        "start_time": "2022-04-24T11:13:09.825Z"
      },
      {
        "duration": 29,
        "start_time": "2022-04-24T11:13:09.832Z"
      },
      {
        "duration": 43,
        "start_time": "2022-04-24T11:13:09.862Z"
      },
      {
        "duration": 4,
        "start_time": "2022-04-24T11:13:09.906Z"
      },
      {
        "duration": 29,
        "start_time": "2022-04-24T11:13:09.912Z"
      },
      {
        "duration": 68,
        "start_time": "2022-04-24T11:13:09.943Z"
      },
      {
        "duration": 255,
        "start_time": "2022-04-24T11:13:10.013Z"
      },
      {
        "duration": 162,
        "start_time": "2022-04-24T11:13:10.269Z"
      },
      {
        "duration": 40,
        "start_time": "2022-04-24T11:13:10.434Z"
      },
      {
        "duration": 90,
        "start_time": "2022-04-24T11:13:10.475Z"
      },
      {
        "duration": 4,
        "start_time": "2022-04-24T11:13:10.566Z"
      },
      {
        "duration": 12,
        "start_time": "2022-04-24T11:13:10.571Z"
      },
      {
        "duration": 19,
        "start_time": "2022-04-24T11:13:10.585Z"
      },
      {
        "duration": 31,
        "start_time": "2022-04-24T11:13:10.606Z"
      },
      {
        "duration": 24,
        "start_time": "2022-04-24T11:13:10.638Z"
      },
      {
        "duration": 25,
        "start_time": "2022-04-24T11:13:10.663Z"
      },
      {
        "duration": 44,
        "start_time": "2022-04-24T11:13:10.700Z"
      },
      {
        "duration": 194,
        "start_time": "2022-04-24T11:13:10.746Z"
      },
      {
        "duration": 23,
        "start_time": "2022-04-24T11:13:10.941Z"
      },
      {
        "duration": 7,
        "start_time": "2022-04-24T11:13:10.965Z"
      },
      {
        "duration": 95,
        "start_time": "2022-04-24T11:13:10.973Z"
      },
      {
        "duration": 8,
        "start_time": "2022-04-24T11:18:48.177Z"
      },
      {
        "duration": 101,
        "start_time": "2022-04-24T11:19:30.267Z"
      },
      {
        "duration": 29,
        "start_time": "2022-04-24T11:19:34.857Z"
      },
      {
        "duration": 4,
        "start_time": "2022-04-24T11:19:56.637Z"
      },
      {
        "duration": 7,
        "start_time": "2022-04-24T11:20:23.427Z"
      },
      {
        "duration": 3,
        "start_time": "2022-04-24T11:21:20.457Z"
      },
      {
        "duration": 53,
        "start_time": "2022-04-24T11:25:32.176Z"
      },
      {
        "duration": 55,
        "start_time": "2022-04-24T11:28:33.014Z"
      },
      {
        "duration": 4,
        "start_time": "2022-04-24T11:36:16.973Z"
      },
      {
        "duration": 3,
        "start_time": "2022-04-24T11:37:20.283Z"
      },
      {
        "duration": 1187,
        "start_time": "2022-04-24T11:47:30.972Z"
      },
      {
        "duration": 386,
        "start_time": "2022-04-24T11:47:32.161Z"
      },
      {
        "duration": 27,
        "start_time": "2022-04-24T11:47:32.548Z"
      },
      {
        "duration": 11,
        "start_time": "2022-04-24T11:47:32.577Z"
      },
      {
        "duration": 413,
        "start_time": "2022-04-24T11:47:32.590Z"
      },
      {
        "duration": 73,
        "start_time": "2022-04-24T11:47:33.004Z"
      },
      {
        "duration": 1915,
        "start_time": "2022-04-24T11:47:33.079Z"
      },
      {
        "duration": 30,
        "start_time": "2022-04-24T11:47:34.995Z"
      },
      {
        "duration": 92,
        "start_time": "2022-04-24T11:47:35.026Z"
      },
      {
        "duration": 111,
        "start_time": "2022-04-24T11:47:35.121Z"
      },
      {
        "duration": 55,
        "start_time": "2022-04-24T11:47:35.233Z"
      },
      {
        "duration": 48,
        "start_time": "2022-04-24T11:47:35.289Z"
      },
      {
        "duration": 23,
        "start_time": "2022-04-24T11:47:35.338Z"
      },
      {
        "duration": 12,
        "start_time": "2022-04-24T11:47:35.362Z"
      },
      {
        "duration": 51,
        "start_time": "2022-04-24T11:47:35.375Z"
      },
      {
        "duration": 266,
        "start_time": "2022-04-24T11:47:35.428Z"
      },
      {
        "duration": 554,
        "start_time": "2022-04-24T11:47:35.699Z"
      },
      {
        "duration": 26,
        "start_time": "2022-04-24T11:47:36.254Z"
      },
      {
        "duration": 46,
        "start_time": "2022-04-24T11:47:36.281Z"
      },
      {
        "duration": 4,
        "start_time": "2022-04-24T11:47:36.329Z"
      },
      {
        "duration": 34,
        "start_time": "2022-04-24T11:47:36.335Z"
      },
      {
        "duration": 39,
        "start_time": "2022-04-24T11:47:36.371Z"
      },
      {
        "duration": 5,
        "start_time": "2022-04-24T11:47:36.412Z"
      },
      {
        "duration": 31,
        "start_time": "2022-04-24T11:47:36.418Z"
      },
      {
        "duration": 79,
        "start_time": "2022-04-24T11:47:36.450Z"
      },
      {
        "duration": 228,
        "start_time": "2022-04-24T11:47:36.531Z"
      },
      {
        "duration": 167,
        "start_time": "2022-04-24T11:47:36.760Z"
      },
      {
        "duration": 42,
        "start_time": "2022-04-24T11:47:36.931Z"
      },
      {
        "duration": 96,
        "start_time": "2022-04-24T11:47:36.975Z"
      },
      {
        "duration": 5,
        "start_time": "2022-04-24T11:47:37.073Z"
      },
      {
        "duration": 21,
        "start_time": "2022-04-24T11:47:37.079Z"
      },
      {
        "duration": 6,
        "start_time": "2022-04-24T11:47:37.102Z"
      },
      {
        "duration": 26,
        "start_time": "2022-04-24T11:47:37.110Z"
      },
      {
        "duration": 22,
        "start_time": "2022-04-24T11:47:37.137Z"
      },
      {
        "duration": 40,
        "start_time": "2022-04-24T11:47:37.160Z"
      },
      {
        "duration": 44,
        "start_time": "2022-04-24T11:47:37.202Z"
      },
      {
        "duration": 188,
        "start_time": "2022-04-24T11:47:37.247Z"
      },
      {
        "duration": 21,
        "start_time": "2022-04-24T11:47:37.437Z"
      },
      {
        "duration": 5,
        "start_time": "2022-04-24T11:47:37.460Z"
      },
      {
        "duration": 92,
        "start_time": "2022-04-24T11:47:37.467Z"
      }
    ],
    "colab": {
      "collapsed_sections": [],
      "provenance": []
    },
    "kernelspec": {
      "display_name": "Python 3 (ipykernel)",
      "language": "python",
      "name": "python3"
    },
    "language_info": {
      "codemirror_mode": {
        "name": "ipython",
        "version": 3
      },
      "file_extension": ".py",
      "mimetype": "text/x-python",
      "name": "python",
      "nbconvert_exporter": "python",
      "pygments_lexer": "ipython3",
      "version": "3.9.7"
    },
    "toc": {
      "base_numbering": 1,
      "nav_menu": {},
      "number_sections": true,
      "sideBar": true,
      "skip_h1_title": true,
      "title_cell": "Содержание проекта",
      "title_sidebar": "Содержание проекта",
      "toc_cell": true,
      "toc_position": {
        "height": "835px",
        "left": "47px",
        "top": "180px",
        "width": "340.797px"
      },
      "toc_section_display": true,
      "toc_window_display": false
    }
  },
  "nbformat": 4,
  "nbformat_minor": 0
}