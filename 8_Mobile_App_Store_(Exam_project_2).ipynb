{
  "cells": [
    {
      "cell_type": "markdown",
      "metadata": {
        "id": "gqlDqMRlxkde"
      },
      "source": [
        "# Мобильное приложение Продукты питания\n"
      ]
    },
    {
      "cell_type": "markdown",
      "metadata": {
        "id": "nPfcmmcJxqaX"
      },
      "source": [
        "**Задание:**\n",
        "\n",
        "Вы работаете в стартапе, который продаёт продукты питания. Нужно разобраться, как ведут себя пользователи вашего мобильного приложения.\n",
        "\n",
        "1. Изучите воронку продаж. Узнайте, как пользователи доходят до покупки. \n",
        "Сколько пользователей доходит до покупки, а сколько — «застревает» на предыдущих шагах? На каких именно?\n",
        "\n",
        "\n",
        "2. После этого исследуйте результаты A/A/B-эксперимента. Дизайнеры захотели поменять шрифты во всём приложении, а менеджеры испугались, что пользователям будет непривычно. Договорились принять решение по результатам A/A/B-теста. Пользователей разбили на 3 группы: 2 контрольные со старыми шрифтами и одну экспериментальную — с новыми. Выясните, какой шрифт лучше."
      ]
    },
    {
      "cell_type": "markdown",
      "metadata": {
        "id": "Fd3cWkcWxqez"
      },
      "source": [
        "## Описание данных <a id=\"description\"></a>\n",
        "\n",
        "Каждая запись в логе — это действие пользователя, или событие.\n",
        "\n",
        "* `EventName` — название события;\n",
        "* `DeviceIDHash` — уникальный идентификатор пользователя;\n",
        "* `EventTimestamp` — время события;\n",
        "* `ExpId` — номер эксперимента: 246 и 247 — контрольные группы, а 248 — экспериментальная.\n"
      ]
    },
    {
      "cell_type": "markdown",
      "metadata": {
        "id": "zbucid94p3FC"
      },
      "source": [
        "---"
      ]
    },
    {
      "cell_type": "markdown",
      "metadata": {
        "id": "G2xBatMmm_we"
      },
      "source": [
        "## Общая информация"
      ]
    },
    {
      "cell_type": "code",
      "execution_count": 1,
      "metadata": {
        "id": "KxeKA4N4m_wf"
      },
      "outputs": [],
      "source": [
        "# подключим необходимые библиотеки и настройки отображения\n",
        "import pandas as pd\n",
        "import seaborn as sns\n",
        "import datetime\n",
        "import numpy as np\n",
        "import math as mth\n",
        "import matplotlib.pyplot as plt\n",
        "from scipy import stats as st\n",
        "import plotly.express as px\n",
        "from plotly import graph_objects as go \n",
        "\n",
        "custom_params = {'axes.spines.right': False, 'axes.spines.top': False}\n",
        "sns.set_theme(style='ticks', rc=custom_params)\n",
        "\n",
        "%config InlineBackend.figure_format = 'retina'\n",
        "pd.options.mode.chained_assignment = None  # default='warn'\n",
        "pd.set_option('display.float_format', '{:.2f}'.format)\n"
      ]
    },
    {
      "cell_type": "code",
      "execution_count": 2,
      "metadata": {
        "id": "mcn6Xu8uxf4_"
      },
      "outputs": [],
      "source": [
        "# прочитаем датасет и сохраним в переменную\n",
        "df = pd.read_csv('https://code.s3.yandex.net/datasets/logs_exp.csv', sep='\\t')"
      ]
    },
    {
      "cell_type": "code",
      "execution_count": 3,
      "metadata": {
        "colab": {
          "base_uri": "https://localhost:8080/",
          "height": 403
        },
        "id": "_ciLqVp2xpqn",
        "outputId": "2cd3bed6-de59-4a08-abca-b67647bd1da2"
      },
      "outputs": [
        {
          "output_type": "stream",
          "name": "stdout",
          "text": [
            "<class 'pandas.core.frame.DataFrame'>\n",
            "RangeIndex: 244126 entries, 0 to 244125\n",
            "Data columns (total 4 columns):\n",
            " #   Column          Non-Null Count   Dtype \n",
            "---  ------          --------------   ----- \n",
            " 0   EventName       244126 non-null  object\n",
            " 1   DeviceIDHash    244126 non-null  int64 \n",
            " 2   EventTimestamp  244126 non-null  int64 \n",
            " 3   ExpId           244126 non-null  int64 \n",
            "dtypes: int64(3), object(1)\n",
            "memory usage: 7.5+ MB\n"
          ]
        },
        {
          "output_type": "execute_result",
          "data": {
            "text/plain": [
              "                 EventName         DeviceIDHash  EventTimestamp  ExpId\n",
              "0         MainScreenAppear  4575588528974610257      1564029816    246\n",
              "1         MainScreenAppear  7416695313311560658      1564053102    246\n",
              "2  PaymentScreenSuccessful  3518123091307005509      1564054127    248\n",
              "3         CartScreenAppear  3518123091307005509      1564054127    248\n",
              "4  PaymentScreenSuccessful  6217807653094995999      1564055322    248"
            ],
            "text/html": [
              "\n",
              "  <div id=\"df-b2736fe9-4dca-41c4-82f2-9a798e50f268\">\n",
              "    <div class=\"colab-df-container\">\n",
              "      <div>\n",
              "<style scoped>\n",
              "    .dataframe tbody tr th:only-of-type {\n",
              "        vertical-align: middle;\n",
              "    }\n",
              "\n",
              "    .dataframe tbody tr th {\n",
              "        vertical-align: top;\n",
              "    }\n",
              "\n",
              "    .dataframe thead th {\n",
              "        text-align: right;\n",
              "    }\n",
              "</style>\n",
              "<table border=\"1\" class=\"dataframe\">\n",
              "  <thead>\n",
              "    <tr style=\"text-align: right;\">\n",
              "      <th></th>\n",
              "      <th>EventName</th>\n",
              "      <th>DeviceIDHash</th>\n",
              "      <th>EventTimestamp</th>\n",
              "      <th>ExpId</th>\n",
              "    </tr>\n",
              "  </thead>\n",
              "  <tbody>\n",
              "    <tr>\n",
              "      <th>0</th>\n",
              "      <td>MainScreenAppear</td>\n",
              "      <td>4575588528974610257</td>\n",
              "      <td>1564029816</td>\n",
              "      <td>246</td>\n",
              "    </tr>\n",
              "    <tr>\n",
              "      <th>1</th>\n",
              "      <td>MainScreenAppear</td>\n",
              "      <td>7416695313311560658</td>\n",
              "      <td>1564053102</td>\n",
              "      <td>246</td>\n",
              "    </tr>\n",
              "    <tr>\n",
              "      <th>2</th>\n",
              "      <td>PaymentScreenSuccessful</td>\n",
              "      <td>3518123091307005509</td>\n",
              "      <td>1564054127</td>\n",
              "      <td>248</td>\n",
              "    </tr>\n",
              "    <tr>\n",
              "      <th>3</th>\n",
              "      <td>CartScreenAppear</td>\n",
              "      <td>3518123091307005509</td>\n",
              "      <td>1564054127</td>\n",
              "      <td>248</td>\n",
              "    </tr>\n",
              "    <tr>\n",
              "      <th>4</th>\n",
              "      <td>PaymentScreenSuccessful</td>\n",
              "      <td>6217807653094995999</td>\n",
              "      <td>1564055322</td>\n",
              "      <td>248</td>\n",
              "    </tr>\n",
              "  </tbody>\n",
              "</table>\n",
              "</div>\n",
              "      <button class=\"colab-df-convert\" onclick=\"convertToInteractive('df-b2736fe9-4dca-41c4-82f2-9a798e50f268')\"\n",
              "              title=\"Convert this dataframe to an interactive table.\"\n",
              "              style=\"display:none;\">\n",
              "        \n",
              "  <svg xmlns=\"http://www.w3.org/2000/svg\" height=\"24px\"viewBox=\"0 0 24 24\"\n",
              "       width=\"24px\">\n",
              "    <path d=\"M0 0h24v24H0V0z\" fill=\"none\"/>\n",
              "    <path d=\"M18.56 5.44l.94 2.06.94-2.06 2.06-.94-2.06-.94-.94-2.06-.94 2.06-2.06.94zm-11 1L8.5 8.5l.94-2.06 2.06-.94-2.06-.94L8.5 2.5l-.94 2.06-2.06.94zm10 10l.94 2.06.94-2.06 2.06-.94-2.06-.94-.94-2.06-.94 2.06-2.06.94z\"/><path d=\"M17.41 7.96l-1.37-1.37c-.4-.4-.92-.59-1.43-.59-.52 0-1.04.2-1.43.59L10.3 9.45l-7.72 7.72c-.78.78-.78 2.05 0 2.83L4 21.41c.39.39.9.59 1.41.59.51 0 1.02-.2 1.41-.59l7.78-7.78 2.81-2.81c.8-.78.8-2.07 0-2.86zM5.41 20L4 18.59l7.72-7.72 1.47 1.35L5.41 20z\"/>\n",
              "  </svg>\n",
              "      </button>\n",
              "      \n",
              "  <style>\n",
              "    .colab-df-container {\n",
              "      display:flex;\n",
              "      flex-wrap:wrap;\n",
              "      gap: 12px;\n",
              "    }\n",
              "\n",
              "    .colab-df-convert {\n",
              "      background-color: #E8F0FE;\n",
              "      border: none;\n",
              "      border-radius: 50%;\n",
              "      cursor: pointer;\n",
              "      display: none;\n",
              "      fill: #1967D2;\n",
              "      height: 32px;\n",
              "      padding: 0 0 0 0;\n",
              "      width: 32px;\n",
              "    }\n",
              "\n",
              "    .colab-df-convert:hover {\n",
              "      background-color: #E2EBFA;\n",
              "      box-shadow: 0px 1px 2px rgba(60, 64, 67, 0.3), 0px 1px 3px 1px rgba(60, 64, 67, 0.15);\n",
              "      fill: #174EA6;\n",
              "    }\n",
              "\n",
              "    [theme=dark] .colab-df-convert {\n",
              "      background-color: #3B4455;\n",
              "      fill: #D2E3FC;\n",
              "    }\n",
              "\n",
              "    [theme=dark] .colab-df-convert:hover {\n",
              "      background-color: #434B5C;\n",
              "      box-shadow: 0px 1px 3px 1px rgba(0, 0, 0, 0.15);\n",
              "      filter: drop-shadow(0px 1px 2px rgba(0, 0, 0, 0.3));\n",
              "      fill: #FFFFFF;\n",
              "    }\n",
              "  </style>\n",
              "\n",
              "      <script>\n",
              "        const buttonEl =\n",
              "          document.querySelector('#df-b2736fe9-4dca-41c4-82f2-9a798e50f268 button.colab-df-convert');\n",
              "        buttonEl.style.display =\n",
              "          google.colab.kernel.accessAllowed ? 'block' : 'none';\n",
              "\n",
              "        async function convertToInteractive(key) {\n",
              "          const element = document.querySelector('#df-b2736fe9-4dca-41c4-82f2-9a798e50f268');\n",
              "          const dataTable =\n",
              "            await google.colab.kernel.invokeFunction('convertToInteractive',\n",
              "                                                     [key], {});\n",
              "          if (!dataTable) return;\n",
              "\n",
              "          const docLinkHtml = 'Like what you see? Visit the ' +\n",
              "            '<a target=\"_blank\" href=https://colab.research.google.com/notebooks/data_table.ipynb>data table notebook</a>'\n",
              "            + ' to learn more about interactive tables.';\n",
              "          element.innerHTML = '';\n",
              "          dataTable['output_type'] = 'display_data';\n",
              "          await google.colab.output.renderOutput(dataTable, element);\n",
              "          const docLink = document.createElement('div');\n",
              "          docLink.innerHTML = docLinkHtml;\n",
              "          element.appendChild(docLink);\n",
              "        }\n",
              "      </script>\n",
              "    </div>\n",
              "  </div>\n",
              "  "
            ]
          },
          "metadata": {},
          "execution_count": 3
        }
      ],
      "source": [
        "# посмотрим информацию о датафрейме\n",
        "df.info()\n",
        "df.head()"
      ]
    },
    {
      "cell_type": "markdown",
      "metadata": {
        "id": "f8VN5VfA03DA"
      },
      "source": [
        "**Вывод:**\n",
        "\n",
        "Датафрейм содержит 244126 записей и 4 столбца (признака). Пропусков значений не обнаружено.\n",
        "\n",
        "Обнаруженные проблемы:\n",
        "\n",
        "- Стилистическая ошибка в названиях столбцов и событий (CamelCase)\n",
        "- Целочисленный тип данных в столбце со временной отметкой\n",
        "- Целочисленный тип данных в категориальном столбце со значением группы AB-теста\n",
        "\n",
        "Устраним проблемы на следующем этапе – предобработка данных. "
      ]
    },
    {
      "cell_type": "markdown",
      "metadata": {
        "id": "i-HKlJLop4WS"
      },
      "source": [
        "---"
      ]
    },
    {
      "cell_type": "markdown",
      "metadata": {
        "id": "6GWQQJBy_Gyh"
      },
      "source": [
        "## Подготовка данных"
      ]
    },
    {
      "cell_type": "code",
      "execution_count": 4,
      "metadata": {
        "colab": {
          "base_uri": "https://localhost:8080/",
          "height": 206
        },
        "id": "mtCQZ9HL1Ssg",
        "outputId": "8178c589-59f9-4fd0-c7d4-1263a9efc0fd"
      },
      "outputs": [
        {
          "output_type": "execute_result",
          "data": {
            "text/plain": [
              "                     event              user_id   timestamp  group\n",
              "0         MainScreenAppear  4575588528974610257  1564029816    246\n",
              "1         MainScreenAppear  7416695313311560658  1564053102    246\n",
              "2  PaymentScreenSuccessful  3518123091307005509  1564054127    248\n",
              "3         CartScreenAppear  3518123091307005509  1564054127    248\n",
              "4  PaymentScreenSuccessful  6217807653094995999  1564055322    248"
            ],
            "text/html": [
              "\n",
              "  <div id=\"df-691abb8b-e7ab-4da0-9c04-deae7425055d\">\n",
              "    <div class=\"colab-df-container\">\n",
              "      <div>\n",
              "<style scoped>\n",
              "    .dataframe tbody tr th:only-of-type {\n",
              "        vertical-align: middle;\n",
              "    }\n",
              "\n",
              "    .dataframe tbody tr th {\n",
              "        vertical-align: top;\n",
              "    }\n",
              "\n",
              "    .dataframe thead th {\n",
              "        text-align: right;\n",
              "    }\n",
              "</style>\n",
              "<table border=\"1\" class=\"dataframe\">\n",
              "  <thead>\n",
              "    <tr style=\"text-align: right;\">\n",
              "      <th></th>\n",
              "      <th>event</th>\n",
              "      <th>user_id</th>\n",
              "      <th>timestamp</th>\n",
              "      <th>group</th>\n",
              "    </tr>\n",
              "  </thead>\n",
              "  <tbody>\n",
              "    <tr>\n",
              "      <th>0</th>\n",
              "      <td>MainScreenAppear</td>\n",
              "      <td>4575588528974610257</td>\n",
              "      <td>1564029816</td>\n",
              "      <td>246</td>\n",
              "    </tr>\n",
              "    <tr>\n",
              "      <th>1</th>\n",
              "      <td>MainScreenAppear</td>\n",
              "      <td>7416695313311560658</td>\n",
              "      <td>1564053102</td>\n",
              "      <td>246</td>\n",
              "    </tr>\n",
              "    <tr>\n",
              "      <th>2</th>\n",
              "      <td>PaymentScreenSuccessful</td>\n",
              "      <td>3518123091307005509</td>\n",
              "      <td>1564054127</td>\n",
              "      <td>248</td>\n",
              "    </tr>\n",
              "    <tr>\n",
              "      <th>3</th>\n",
              "      <td>CartScreenAppear</td>\n",
              "      <td>3518123091307005509</td>\n",
              "      <td>1564054127</td>\n",
              "      <td>248</td>\n",
              "    </tr>\n",
              "    <tr>\n",
              "      <th>4</th>\n",
              "      <td>PaymentScreenSuccessful</td>\n",
              "      <td>6217807653094995999</td>\n",
              "      <td>1564055322</td>\n",
              "      <td>248</td>\n",
              "    </tr>\n",
              "  </tbody>\n",
              "</table>\n",
              "</div>\n",
              "      <button class=\"colab-df-convert\" onclick=\"convertToInteractive('df-691abb8b-e7ab-4da0-9c04-deae7425055d')\"\n",
              "              title=\"Convert this dataframe to an interactive table.\"\n",
              "              style=\"display:none;\">\n",
              "        \n",
              "  <svg xmlns=\"http://www.w3.org/2000/svg\" height=\"24px\"viewBox=\"0 0 24 24\"\n",
              "       width=\"24px\">\n",
              "    <path d=\"M0 0h24v24H0V0z\" fill=\"none\"/>\n",
              "    <path d=\"M18.56 5.44l.94 2.06.94-2.06 2.06-.94-2.06-.94-.94-2.06-.94 2.06-2.06.94zm-11 1L8.5 8.5l.94-2.06 2.06-.94-2.06-.94L8.5 2.5l-.94 2.06-2.06.94zm10 10l.94 2.06.94-2.06 2.06-.94-2.06-.94-.94-2.06-.94 2.06-2.06.94z\"/><path d=\"M17.41 7.96l-1.37-1.37c-.4-.4-.92-.59-1.43-.59-.52 0-1.04.2-1.43.59L10.3 9.45l-7.72 7.72c-.78.78-.78 2.05 0 2.83L4 21.41c.39.39.9.59 1.41.59.51 0 1.02-.2 1.41-.59l7.78-7.78 2.81-2.81c.8-.78.8-2.07 0-2.86zM5.41 20L4 18.59l7.72-7.72 1.47 1.35L5.41 20z\"/>\n",
              "  </svg>\n",
              "      </button>\n",
              "      \n",
              "  <style>\n",
              "    .colab-df-container {\n",
              "      display:flex;\n",
              "      flex-wrap:wrap;\n",
              "      gap: 12px;\n",
              "    }\n",
              "\n",
              "    .colab-df-convert {\n",
              "      background-color: #E8F0FE;\n",
              "      border: none;\n",
              "      border-radius: 50%;\n",
              "      cursor: pointer;\n",
              "      display: none;\n",
              "      fill: #1967D2;\n",
              "      height: 32px;\n",
              "      padding: 0 0 0 0;\n",
              "      width: 32px;\n",
              "    }\n",
              "\n",
              "    .colab-df-convert:hover {\n",
              "      background-color: #E2EBFA;\n",
              "      box-shadow: 0px 1px 2px rgba(60, 64, 67, 0.3), 0px 1px 3px 1px rgba(60, 64, 67, 0.15);\n",
              "      fill: #174EA6;\n",
              "    }\n",
              "\n",
              "    [theme=dark] .colab-df-convert {\n",
              "      background-color: #3B4455;\n",
              "      fill: #D2E3FC;\n",
              "    }\n",
              "\n",
              "    [theme=dark] .colab-df-convert:hover {\n",
              "      background-color: #434B5C;\n",
              "      box-shadow: 0px 1px 3px 1px rgba(0, 0, 0, 0.15);\n",
              "      filter: drop-shadow(0px 1px 2px rgba(0, 0, 0, 0.3));\n",
              "      fill: #FFFFFF;\n",
              "    }\n",
              "  </style>\n",
              "\n",
              "      <script>\n",
              "        const buttonEl =\n",
              "          document.querySelector('#df-691abb8b-e7ab-4da0-9c04-deae7425055d button.colab-df-convert');\n",
              "        buttonEl.style.display =\n",
              "          google.colab.kernel.accessAllowed ? 'block' : 'none';\n",
              "\n",
              "        async function convertToInteractive(key) {\n",
              "          const element = document.querySelector('#df-691abb8b-e7ab-4da0-9c04-deae7425055d');\n",
              "          const dataTable =\n",
              "            await google.colab.kernel.invokeFunction('convertToInteractive',\n",
              "                                                     [key], {});\n",
              "          if (!dataTable) return;\n",
              "\n",
              "          const docLinkHtml = 'Like what you see? Visit the ' +\n",
              "            '<a target=\"_blank\" href=https://colab.research.google.com/notebooks/data_table.ipynb>data table notebook</a>'\n",
              "            + ' to learn more about interactive tables.';\n",
              "          element.innerHTML = '';\n",
              "          dataTable['output_type'] = 'display_data';\n",
              "          await google.colab.output.renderOutput(dataTable, element);\n",
              "          const docLink = document.createElement('div');\n",
              "          docLink.innerHTML = docLinkHtml;\n",
              "          element.appendChild(docLink);\n",
              "        }\n",
              "      </script>\n",
              "    </div>\n",
              "  </div>\n",
              "  "
            ]
          },
          "metadata": {},
          "execution_count": 4
        }
      ],
      "source": [
        "# переименуем столбцы в snake_case\n",
        "df = df.rename(columns={'DeviceIDHash':'user_id', 'EventName':'event', \\\n",
        "                        'EventTimestamp':'timestamp', 'ExpId':'group'}) \n",
        "df.head()"
      ]
    },
    {
      "cell_type": "code",
      "execution_count": 5,
      "metadata": {
        "colab": {
          "base_uri": "https://localhost:8080/",
          "height": 206
        },
        "id": "kvyRVi3K6jOf",
        "outputId": "236a5e07-27f7-4aa8-df85-5b8247a749be"
      },
      "outputs": [
        {
          "output_type": "execute_result",
          "data": {
            "text/plain": [
              "                       event              user_id   timestamp  group\n",
              "0         main_screen_appear  4575588528974610257  1564029816    246\n",
              "1         main_screen_appear  7416695313311560658  1564053102    246\n",
              "2  payment_screen_successful  3518123091307005509  1564054127    248\n",
              "3         cart_screen_appear  3518123091307005509  1564054127    248\n",
              "4  payment_screen_successful  6217807653094995999  1564055322    248"
            ],
            "text/html": [
              "\n",
              "  <div id=\"df-5cc24548-b812-4f4b-b247-7818abdf5fcf\">\n",
              "    <div class=\"colab-df-container\">\n",
              "      <div>\n",
              "<style scoped>\n",
              "    .dataframe tbody tr th:only-of-type {\n",
              "        vertical-align: middle;\n",
              "    }\n",
              "\n",
              "    .dataframe tbody tr th {\n",
              "        vertical-align: top;\n",
              "    }\n",
              "\n",
              "    .dataframe thead th {\n",
              "        text-align: right;\n",
              "    }\n",
              "</style>\n",
              "<table border=\"1\" class=\"dataframe\">\n",
              "  <thead>\n",
              "    <tr style=\"text-align: right;\">\n",
              "      <th></th>\n",
              "      <th>event</th>\n",
              "      <th>user_id</th>\n",
              "      <th>timestamp</th>\n",
              "      <th>group</th>\n",
              "    </tr>\n",
              "  </thead>\n",
              "  <tbody>\n",
              "    <tr>\n",
              "      <th>0</th>\n",
              "      <td>main_screen_appear</td>\n",
              "      <td>4575588528974610257</td>\n",
              "      <td>1564029816</td>\n",
              "      <td>246</td>\n",
              "    </tr>\n",
              "    <tr>\n",
              "      <th>1</th>\n",
              "      <td>main_screen_appear</td>\n",
              "      <td>7416695313311560658</td>\n",
              "      <td>1564053102</td>\n",
              "      <td>246</td>\n",
              "    </tr>\n",
              "    <tr>\n",
              "      <th>2</th>\n",
              "      <td>payment_screen_successful</td>\n",
              "      <td>3518123091307005509</td>\n",
              "      <td>1564054127</td>\n",
              "      <td>248</td>\n",
              "    </tr>\n",
              "    <tr>\n",
              "      <th>3</th>\n",
              "      <td>cart_screen_appear</td>\n",
              "      <td>3518123091307005509</td>\n",
              "      <td>1564054127</td>\n",
              "      <td>248</td>\n",
              "    </tr>\n",
              "    <tr>\n",
              "      <th>4</th>\n",
              "      <td>payment_screen_successful</td>\n",
              "      <td>6217807653094995999</td>\n",
              "      <td>1564055322</td>\n",
              "      <td>248</td>\n",
              "    </tr>\n",
              "  </tbody>\n",
              "</table>\n",
              "</div>\n",
              "      <button class=\"colab-df-convert\" onclick=\"convertToInteractive('df-5cc24548-b812-4f4b-b247-7818abdf5fcf')\"\n",
              "              title=\"Convert this dataframe to an interactive table.\"\n",
              "              style=\"display:none;\">\n",
              "        \n",
              "  <svg xmlns=\"http://www.w3.org/2000/svg\" height=\"24px\"viewBox=\"0 0 24 24\"\n",
              "       width=\"24px\">\n",
              "    <path d=\"M0 0h24v24H0V0z\" fill=\"none\"/>\n",
              "    <path d=\"M18.56 5.44l.94 2.06.94-2.06 2.06-.94-2.06-.94-.94-2.06-.94 2.06-2.06.94zm-11 1L8.5 8.5l.94-2.06 2.06-.94-2.06-.94L8.5 2.5l-.94 2.06-2.06.94zm10 10l.94 2.06.94-2.06 2.06-.94-2.06-.94-.94-2.06-.94 2.06-2.06.94z\"/><path d=\"M17.41 7.96l-1.37-1.37c-.4-.4-.92-.59-1.43-.59-.52 0-1.04.2-1.43.59L10.3 9.45l-7.72 7.72c-.78.78-.78 2.05 0 2.83L4 21.41c.39.39.9.59 1.41.59.51 0 1.02-.2 1.41-.59l7.78-7.78 2.81-2.81c.8-.78.8-2.07 0-2.86zM5.41 20L4 18.59l7.72-7.72 1.47 1.35L5.41 20z\"/>\n",
              "  </svg>\n",
              "      </button>\n",
              "      \n",
              "  <style>\n",
              "    .colab-df-container {\n",
              "      display:flex;\n",
              "      flex-wrap:wrap;\n",
              "      gap: 12px;\n",
              "    }\n",
              "\n",
              "    .colab-df-convert {\n",
              "      background-color: #E8F0FE;\n",
              "      border: none;\n",
              "      border-radius: 50%;\n",
              "      cursor: pointer;\n",
              "      display: none;\n",
              "      fill: #1967D2;\n",
              "      height: 32px;\n",
              "      padding: 0 0 0 0;\n",
              "      width: 32px;\n",
              "    }\n",
              "\n",
              "    .colab-df-convert:hover {\n",
              "      background-color: #E2EBFA;\n",
              "      box-shadow: 0px 1px 2px rgba(60, 64, 67, 0.3), 0px 1px 3px 1px rgba(60, 64, 67, 0.15);\n",
              "      fill: #174EA6;\n",
              "    }\n",
              "\n",
              "    [theme=dark] .colab-df-convert {\n",
              "      background-color: #3B4455;\n",
              "      fill: #D2E3FC;\n",
              "    }\n",
              "\n",
              "    [theme=dark] .colab-df-convert:hover {\n",
              "      background-color: #434B5C;\n",
              "      box-shadow: 0px 1px 3px 1px rgba(0, 0, 0, 0.15);\n",
              "      filter: drop-shadow(0px 1px 2px rgba(0, 0, 0, 0.3));\n",
              "      fill: #FFFFFF;\n",
              "    }\n",
              "  </style>\n",
              "\n",
              "      <script>\n",
              "        const buttonEl =\n",
              "          document.querySelector('#df-5cc24548-b812-4f4b-b247-7818abdf5fcf button.colab-df-convert');\n",
              "        buttonEl.style.display =\n",
              "          google.colab.kernel.accessAllowed ? 'block' : 'none';\n",
              "\n",
              "        async function convertToInteractive(key) {\n",
              "          const element = document.querySelector('#df-5cc24548-b812-4f4b-b247-7818abdf5fcf');\n",
              "          const dataTable =\n",
              "            await google.colab.kernel.invokeFunction('convertToInteractive',\n",
              "                                                     [key], {});\n",
              "          if (!dataTable) return;\n",
              "\n",
              "          const docLinkHtml = 'Like what you see? Visit the ' +\n",
              "            '<a target=\"_blank\" href=https://colab.research.google.com/notebooks/data_table.ipynb>data table notebook</a>'\n",
              "            + ' to learn more about interactive tables.';\n",
              "          element.innerHTML = '';\n",
              "          dataTable['output_type'] = 'display_data';\n",
              "          await google.colab.output.renderOutput(dataTable, element);\n",
              "          const docLink = document.createElement('div');\n",
              "          docLink.innerHTML = docLinkHtml;\n",
              "          element.appendChild(docLink);\n",
              "        }\n",
              "      </script>\n",
              "    </div>\n",
              "  </div>\n",
              "  "
            ]
          },
          "metadata": {},
          "execution_count": 5
        }
      ],
      "source": [
        "# переименуем названия событий в snake_case\n",
        "df['event'] = df['event'].str.replace(r'(?<!^)(?=[A-Z])', '_', regex=True) \\\n",
        "                         .str.lower()\n",
        "df.head()"
      ]
    },
    {
      "cell_type": "code",
      "execution_count": 6,
      "metadata": {
        "colab": {
          "base_uri": "https://localhost:8080/",
          "height": 206
        },
        "id": "p3UB_HDr_LCa",
        "outputId": "d42c16e1-ca2e-44ed-855f-799286a5b49c"
      },
      "outputs": [
        {
          "output_type": "execute_result",
          "data": {
            "text/plain": [
              "                       event              user_id           timestamp  group  \\\n",
              "0         main_screen_appear  4575588528974610257 2019-07-25 04:43:36    246   \n",
              "1         main_screen_appear  7416695313311560658 2019-07-25 11:11:42    246   \n",
              "2  payment_screen_successful  3518123091307005509 2019-07-25 11:28:47    248   \n",
              "3         cart_screen_appear  3518123091307005509 2019-07-25 11:28:47    248   \n",
              "4  payment_screen_successful  6217807653094995999 2019-07-25 11:48:42    248   \n",
              "\n",
              "         date  \n",
              "0  2019-07-25  \n",
              "1  2019-07-25  \n",
              "2  2019-07-25  \n",
              "3  2019-07-25  \n",
              "4  2019-07-25  "
            ],
            "text/html": [
              "\n",
              "  <div id=\"df-2c708f79-eb04-4270-9f45-1e5aa92d2920\">\n",
              "    <div class=\"colab-df-container\">\n",
              "      <div>\n",
              "<style scoped>\n",
              "    .dataframe tbody tr th:only-of-type {\n",
              "        vertical-align: middle;\n",
              "    }\n",
              "\n",
              "    .dataframe tbody tr th {\n",
              "        vertical-align: top;\n",
              "    }\n",
              "\n",
              "    .dataframe thead th {\n",
              "        text-align: right;\n",
              "    }\n",
              "</style>\n",
              "<table border=\"1\" class=\"dataframe\">\n",
              "  <thead>\n",
              "    <tr style=\"text-align: right;\">\n",
              "      <th></th>\n",
              "      <th>event</th>\n",
              "      <th>user_id</th>\n",
              "      <th>timestamp</th>\n",
              "      <th>group</th>\n",
              "      <th>date</th>\n",
              "    </tr>\n",
              "  </thead>\n",
              "  <tbody>\n",
              "    <tr>\n",
              "      <th>0</th>\n",
              "      <td>main_screen_appear</td>\n",
              "      <td>4575588528974610257</td>\n",
              "      <td>2019-07-25 04:43:36</td>\n",
              "      <td>246</td>\n",
              "      <td>2019-07-25</td>\n",
              "    </tr>\n",
              "    <tr>\n",
              "      <th>1</th>\n",
              "      <td>main_screen_appear</td>\n",
              "      <td>7416695313311560658</td>\n",
              "      <td>2019-07-25 11:11:42</td>\n",
              "      <td>246</td>\n",
              "      <td>2019-07-25</td>\n",
              "    </tr>\n",
              "    <tr>\n",
              "      <th>2</th>\n",
              "      <td>payment_screen_successful</td>\n",
              "      <td>3518123091307005509</td>\n",
              "      <td>2019-07-25 11:28:47</td>\n",
              "      <td>248</td>\n",
              "      <td>2019-07-25</td>\n",
              "    </tr>\n",
              "    <tr>\n",
              "      <th>3</th>\n",
              "      <td>cart_screen_appear</td>\n",
              "      <td>3518123091307005509</td>\n",
              "      <td>2019-07-25 11:28:47</td>\n",
              "      <td>248</td>\n",
              "      <td>2019-07-25</td>\n",
              "    </tr>\n",
              "    <tr>\n",
              "      <th>4</th>\n",
              "      <td>payment_screen_successful</td>\n",
              "      <td>6217807653094995999</td>\n",
              "      <td>2019-07-25 11:48:42</td>\n",
              "      <td>248</td>\n",
              "      <td>2019-07-25</td>\n",
              "    </tr>\n",
              "  </tbody>\n",
              "</table>\n",
              "</div>\n",
              "      <button class=\"colab-df-convert\" onclick=\"convertToInteractive('df-2c708f79-eb04-4270-9f45-1e5aa92d2920')\"\n",
              "              title=\"Convert this dataframe to an interactive table.\"\n",
              "              style=\"display:none;\">\n",
              "        \n",
              "  <svg xmlns=\"http://www.w3.org/2000/svg\" height=\"24px\"viewBox=\"0 0 24 24\"\n",
              "       width=\"24px\">\n",
              "    <path d=\"M0 0h24v24H0V0z\" fill=\"none\"/>\n",
              "    <path d=\"M18.56 5.44l.94 2.06.94-2.06 2.06-.94-2.06-.94-.94-2.06-.94 2.06-2.06.94zm-11 1L8.5 8.5l.94-2.06 2.06-.94-2.06-.94L8.5 2.5l-.94 2.06-2.06.94zm10 10l.94 2.06.94-2.06 2.06-.94-2.06-.94-.94-2.06-.94 2.06-2.06.94z\"/><path d=\"M17.41 7.96l-1.37-1.37c-.4-.4-.92-.59-1.43-.59-.52 0-1.04.2-1.43.59L10.3 9.45l-7.72 7.72c-.78.78-.78 2.05 0 2.83L4 21.41c.39.39.9.59 1.41.59.51 0 1.02-.2 1.41-.59l7.78-7.78 2.81-2.81c.8-.78.8-2.07 0-2.86zM5.41 20L4 18.59l7.72-7.72 1.47 1.35L5.41 20z\"/>\n",
              "  </svg>\n",
              "      </button>\n",
              "      \n",
              "  <style>\n",
              "    .colab-df-container {\n",
              "      display:flex;\n",
              "      flex-wrap:wrap;\n",
              "      gap: 12px;\n",
              "    }\n",
              "\n",
              "    .colab-df-convert {\n",
              "      background-color: #E8F0FE;\n",
              "      border: none;\n",
              "      border-radius: 50%;\n",
              "      cursor: pointer;\n",
              "      display: none;\n",
              "      fill: #1967D2;\n",
              "      height: 32px;\n",
              "      padding: 0 0 0 0;\n",
              "      width: 32px;\n",
              "    }\n",
              "\n",
              "    .colab-df-convert:hover {\n",
              "      background-color: #E2EBFA;\n",
              "      box-shadow: 0px 1px 2px rgba(60, 64, 67, 0.3), 0px 1px 3px 1px rgba(60, 64, 67, 0.15);\n",
              "      fill: #174EA6;\n",
              "    }\n",
              "\n",
              "    [theme=dark] .colab-df-convert {\n",
              "      background-color: #3B4455;\n",
              "      fill: #D2E3FC;\n",
              "    }\n",
              "\n",
              "    [theme=dark] .colab-df-convert:hover {\n",
              "      background-color: #434B5C;\n",
              "      box-shadow: 0px 1px 3px 1px rgba(0, 0, 0, 0.15);\n",
              "      filter: drop-shadow(0px 1px 2px rgba(0, 0, 0, 0.3));\n",
              "      fill: #FFFFFF;\n",
              "    }\n",
              "  </style>\n",
              "\n",
              "      <script>\n",
              "        const buttonEl =\n",
              "          document.querySelector('#df-2c708f79-eb04-4270-9f45-1e5aa92d2920 button.colab-df-convert');\n",
              "        buttonEl.style.display =\n",
              "          google.colab.kernel.accessAllowed ? 'block' : 'none';\n",
              "\n",
              "        async function convertToInteractive(key) {\n",
              "          const element = document.querySelector('#df-2c708f79-eb04-4270-9f45-1e5aa92d2920');\n",
              "          const dataTable =\n",
              "            await google.colab.kernel.invokeFunction('convertToInteractive',\n",
              "                                                     [key], {});\n",
              "          if (!dataTable) return;\n",
              "\n",
              "          const docLinkHtml = 'Like what you see? Visit the ' +\n",
              "            '<a target=\"_blank\" href=https://colab.research.google.com/notebooks/data_table.ipynb>data table notebook</a>'\n",
              "            + ' to learn more about interactive tables.';\n",
              "          element.innerHTML = '';\n",
              "          dataTable['output_type'] = 'display_data';\n",
              "          await google.colab.output.renderOutput(dataTable, element);\n",
              "          const docLink = document.createElement('div');\n",
              "          docLink.innerHTML = docLinkHtml;\n",
              "          element.appendChild(docLink);\n",
              "        }\n",
              "      </script>\n",
              "    </div>\n",
              "  </div>\n",
              "  "
            ]
          },
          "metadata": {},
          "execution_count": 6
        }
      ],
      "source": [
        "# переведем значения в столбце time в корректный тип данных\n",
        "df['timestamp'] = pd.to_datetime(df['timestamp'], unit='s')\n",
        "\n",
        "# добавим столбец с датой\n",
        "df['date'] = df['timestamp'].dt.date\n",
        "\n",
        "df.head() "
      ]
    },
    {
      "cell_type": "code",
      "execution_count": 7,
      "metadata": {
        "colab": {
          "base_uri": "https://localhost:8080/",
          "height": 363
        },
        "id": "tfKf_I8BAzYy",
        "outputId": "1edb0fe3-c484-4b95-9563-9134d7c1da58"
      },
      "outputs": [
        {
          "output_type": "execute_result",
          "data": {
            "text/plain": [
              "                       event              user_id           timestamp group  \\\n",
              "0         main_screen_appear  4575588528974610257 2019-07-25 04:43:36    A1   \n",
              "1         main_screen_appear  7416695313311560658 2019-07-25 11:11:42    A1   \n",
              "2  payment_screen_successful  3518123091307005509 2019-07-25 11:28:47     B   \n",
              "3         cart_screen_appear  3518123091307005509 2019-07-25 11:28:47     B   \n",
              "4  payment_screen_successful  6217807653094995999 2019-07-25 11:48:42     B   \n",
              "5         cart_screen_appear  6217807653094995999 2019-07-25 11:48:43     B   \n",
              "6       offers_screen_appear  8351860793733343758 2019-07-25 14:50:42    A1   \n",
              "7         main_screen_appear  5682100281902512875 2019-07-25 20:14:37    A1   \n",
              "8         main_screen_appear  1850981295691852772 2019-07-25 20:31:42    A2   \n",
              "9         main_screen_appear  5407636962369102641 2019-07-26 03:35:12    A1   \n",
              "\n",
              "         date  \n",
              "0  2019-07-25  \n",
              "1  2019-07-25  \n",
              "2  2019-07-25  \n",
              "3  2019-07-25  \n",
              "4  2019-07-25  \n",
              "5  2019-07-25  \n",
              "6  2019-07-25  \n",
              "7  2019-07-25  \n",
              "8  2019-07-25  \n",
              "9  2019-07-26  "
            ],
            "text/html": [
              "\n",
              "  <div id=\"df-6adbaca3-a5d2-4dca-aef0-cad909760713\">\n",
              "    <div class=\"colab-df-container\">\n",
              "      <div>\n",
              "<style scoped>\n",
              "    .dataframe tbody tr th:only-of-type {\n",
              "        vertical-align: middle;\n",
              "    }\n",
              "\n",
              "    .dataframe tbody tr th {\n",
              "        vertical-align: top;\n",
              "    }\n",
              "\n",
              "    .dataframe thead th {\n",
              "        text-align: right;\n",
              "    }\n",
              "</style>\n",
              "<table border=\"1\" class=\"dataframe\">\n",
              "  <thead>\n",
              "    <tr style=\"text-align: right;\">\n",
              "      <th></th>\n",
              "      <th>event</th>\n",
              "      <th>user_id</th>\n",
              "      <th>timestamp</th>\n",
              "      <th>group</th>\n",
              "      <th>date</th>\n",
              "    </tr>\n",
              "  </thead>\n",
              "  <tbody>\n",
              "    <tr>\n",
              "      <th>0</th>\n",
              "      <td>main_screen_appear</td>\n",
              "      <td>4575588528974610257</td>\n",
              "      <td>2019-07-25 04:43:36</td>\n",
              "      <td>A1</td>\n",
              "      <td>2019-07-25</td>\n",
              "    </tr>\n",
              "    <tr>\n",
              "      <th>1</th>\n",
              "      <td>main_screen_appear</td>\n",
              "      <td>7416695313311560658</td>\n",
              "      <td>2019-07-25 11:11:42</td>\n",
              "      <td>A1</td>\n",
              "      <td>2019-07-25</td>\n",
              "    </tr>\n",
              "    <tr>\n",
              "      <th>2</th>\n",
              "      <td>payment_screen_successful</td>\n",
              "      <td>3518123091307005509</td>\n",
              "      <td>2019-07-25 11:28:47</td>\n",
              "      <td>B</td>\n",
              "      <td>2019-07-25</td>\n",
              "    </tr>\n",
              "    <tr>\n",
              "      <th>3</th>\n",
              "      <td>cart_screen_appear</td>\n",
              "      <td>3518123091307005509</td>\n",
              "      <td>2019-07-25 11:28:47</td>\n",
              "      <td>B</td>\n",
              "      <td>2019-07-25</td>\n",
              "    </tr>\n",
              "    <tr>\n",
              "      <th>4</th>\n",
              "      <td>payment_screen_successful</td>\n",
              "      <td>6217807653094995999</td>\n",
              "      <td>2019-07-25 11:48:42</td>\n",
              "      <td>B</td>\n",
              "      <td>2019-07-25</td>\n",
              "    </tr>\n",
              "    <tr>\n",
              "      <th>5</th>\n",
              "      <td>cart_screen_appear</td>\n",
              "      <td>6217807653094995999</td>\n",
              "      <td>2019-07-25 11:48:43</td>\n",
              "      <td>B</td>\n",
              "      <td>2019-07-25</td>\n",
              "    </tr>\n",
              "    <tr>\n",
              "      <th>6</th>\n",
              "      <td>offers_screen_appear</td>\n",
              "      <td>8351860793733343758</td>\n",
              "      <td>2019-07-25 14:50:42</td>\n",
              "      <td>A1</td>\n",
              "      <td>2019-07-25</td>\n",
              "    </tr>\n",
              "    <tr>\n",
              "      <th>7</th>\n",
              "      <td>main_screen_appear</td>\n",
              "      <td>5682100281902512875</td>\n",
              "      <td>2019-07-25 20:14:37</td>\n",
              "      <td>A1</td>\n",
              "      <td>2019-07-25</td>\n",
              "    </tr>\n",
              "    <tr>\n",
              "      <th>8</th>\n",
              "      <td>main_screen_appear</td>\n",
              "      <td>1850981295691852772</td>\n",
              "      <td>2019-07-25 20:31:42</td>\n",
              "      <td>A2</td>\n",
              "      <td>2019-07-25</td>\n",
              "    </tr>\n",
              "    <tr>\n",
              "      <th>9</th>\n",
              "      <td>main_screen_appear</td>\n",
              "      <td>5407636962369102641</td>\n",
              "      <td>2019-07-26 03:35:12</td>\n",
              "      <td>A1</td>\n",
              "      <td>2019-07-26</td>\n",
              "    </tr>\n",
              "  </tbody>\n",
              "</table>\n",
              "</div>\n",
              "      <button class=\"colab-df-convert\" onclick=\"convertToInteractive('df-6adbaca3-a5d2-4dca-aef0-cad909760713')\"\n",
              "              title=\"Convert this dataframe to an interactive table.\"\n",
              "              style=\"display:none;\">\n",
              "        \n",
              "  <svg xmlns=\"http://www.w3.org/2000/svg\" height=\"24px\"viewBox=\"0 0 24 24\"\n",
              "       width=\"24px\">\n",
              "    <path d=\"M0 0h24v24H0V0z\" fill=\"none\"/>\n",
              "    <path d=\"M18.56 5.44l.94 2.06.94-2.06 2.06-.94-2.06-.94-.94-2.06-.94 2.06-2.06.94zm-11 1L8.5 8.5l.94-2.06 2.06-.94-2.06-.94L8.5 2.5l-.94 2.06-2.06.94zm10 10l.94 2.06.94-2.06 2.06-.94-2.06-.94-.94-2.06-.94 2.06-2.06.94z\"/><path d=\"M17.41 7.96l-1.37-1.37c-.4-.4-.92-.59-1.43-.59-.52 0-1.04.2-1.43.59L10.3 9.45l-7.72 7.72c-.78.78-.78 2.05 0 2.83L4 21.41c.39.39.9.59 1.41.59.51 0 1.02-.2 1.41-.59l7.78-7.78 2.81-2.81c.8-.78.8-2.07 0-2.86zM5.41 20L4 18.59l7.72-7.72 1.47 1.35L5.41 20z\"/>\n",
              "  </svg>\n",
              "      </button>\n",
              "      \n",
              "  <style>\n",
              "    .colab-df-container {\n",
              "      display:flex;\n",
              "      flex-wrap:wrap;\n",
              "      gap: 12px;\n",
              "    }\n",
              "\n",
              "    .colab-df-convert {\n",
              "      background-color: #E8F0FE;\n",
              "      border: none;\n",
              "      border-radius: 50%;\n",
              "      cursor: pointer;\n",
              "      display: none;\n",
              "      fill: #1967D2;\n",
              "      height: 32px;\n",
              "      padding: 0 0 0 0;\n",
              "      width: 32px;\n",
              "    }\n",
              "\n",
              "    .colab-df-convert:hover {\n",
              "      background-color: #E2EBFA;\n",
              "      box-shadow: 0px 1px 2px rgba(60, 64, 67, 0.3), 0px 1px 3px 1px rgba(60, 64, 67, 0.15);\n",
              "      fill: #174EA6;\n",
              "    }\n",
              "\n",
              "    [theme=dark] .colab-df-convert {\n",
              "      background-color: #3B4455;\n",
              "      fill: #D2E3FC;\n",
              "    }\n",
              "\n",
              "    [theme=dark] .colab-df-convert:hover {\n",
              "      background-color: #434B5C;\n",
              "      box-shadow: 0px 1px 3px 1px rgba(0, 0, 0, 0.15);\n",
              "      filter: drop-shadow(0px 1px 2px rgba(0, 0, 0, 0.3));\n",
              "      fill: #FFFFFF;\n",
              "    }\n",
              "  </style>\n",
              "\n",
              "      <script>\n",
              "        const buttonEl =\n",
              "          document.querySelector('#df-6adbaca3-a5d2-4dca-aef0-cad909760713 button.colab-df-convert');\n",
              "        buttonEl.style.display =\n",
              "          google.colab.kernel.accessAllowed ? 'block' : 'none';\n",
              "\n",
              "        async function convertToInteractive(key) {\n",
              "          const element = document.querySelector('#df-6adbaca3-a5d2-4dca-aef0-cad909760713');\n",
              "          const dataTable =\n",
              "            await google.colab.kernel.invokeFunction('convertToInteractive',\n",
              "                                                     [key], {});\n",
              "          if (!dataTable) return;\n",
              "\n",
              "          const docLinkHtml = 'Like what you see? Visit the ' +\n",
              "            '<a target=\"_blank\" href=https://colab.research.google.com/notebooks/data_table.ipynb>data table notebook</a>'\n",
              "            + ' to learn more about interactive tables.';\n",
              "          element.innerHTML = '';\n",
              "          dataTable['output_type'] = 'display_data';\n",
              "          await google.colab.output.renderOutput(dataTable, element);\n",
              "          const docLink = document.createElement('div');\n",
              "          docLink.innerHTML = docLinkHtml;\n",
              "          element.appendChild(docLink);\n",
              "        }\n",
              "      </script>\n",
              "    </div>\n",
              "  </div>\n",
              "  "
            ]
          },
          "metadata": {},
          "execution_count": 7
        }
      ],
      "source": [
        "# зададим функцию для определения группы теста\n",
        "def group_cat(df):\n",
        "    group = df['group']\n",
        "    if group == 246:\n",
        "        return 'A1'\n",
        "    if group == 247:\n",
        "        return 'A2'\n",
        "    if group == 248:\n",
        "        return 'B'\n",
        "    return 'error'\n",
        "\n",
        "\n",
        "# применим функцию к столбцу и проверим результат\n",
        "df['group'] = df.apply(group_cat, axis=1)\n",
        "df.head(10)"
      ]
    },
    {
      "cell_type": "code",
      "execution_count": 8,
      "metadata": {
        "colab": {
          "base_uri": "https://localhost:8080/"
        },
        "id": "PgbuOtnOKdUY",
        "outputId": "835a571b-6788-4433-d8da-97757181319c"
      },
      "outputs": [
        {
          "output_type": "execute_result",
          "data": {
            "text/plain": [
              "event        0\n",
              "user_id      0\n",
              "timestamp    0\n",
              "group        0\n",
              "date         0\n",
              "dtype: int64"
            ]
          },
          "metadata": {},
          "execution_count": 8
        }
      ],
      "source": [
        "# проверим пропуски\n",
        "df.isna().sum()"
      ]
    },
    {
      "cell_type": "code",
      "execution_count": 9,
      "metadata": {
        "colab": {
          "base_uri": "https://localhost:8080/"
        },
        "id": "HcTCDsys1u-G",
        "outputId": "e05c99c6-06e6-479a-de28-36721dfc31f8"
      },
      "outputs": [
        {
          "output_type": "execute_result",
          "data": {
            "text/plain": [
              "413"
            ]
          },
          "metadata": {},
          "execution_count": 9
        }
      ],
      "source": [
        " # подсчитаем явные дубликаты\n",
        "df.duplicated().sum() "
      ]
    },
    {
      "cell_type": "code",
      "execution_count": 10,
      "metadata": {
        "id": "3wHbfn992aqa"
      },
      "outputs": [],
      "source": [
        "# удалим явные дубликаты со сбросом индексов таблицы\n",
        "df = df.drop_duplicates().reset_index(drop=True) "
      ]
    },
    {
      "cell_type": "code",
      "execution_count": 11,
      "metadata": {
        "id": "zW3HlbEGt_7D",
        "outputId": "37c9c31e-4baf-4efd-f3e2-21b8876874ae",
        "colab": {
          "base_uri": "https://localhost:8080/"
        }
      },
      "outputs": [
        {
          "output_type": "execute_result",
          "data": {
            "text/plain": [
              "0"
            ]
          },
          "metadata": {},
          "execution_count": 11
        }
      ],
      "source": [
        "# проверим количество повторений уникальных user_id в группах\n",
        "intersection = len(df.groupby('user_id')\n",
        "                   .agg({'group': 'nunique'})\n",
        "                   .query('group > 1'))\n",
        "intersection"
      ]
    },
    {
      "cell_type": "code",
      "execution_count": 12,
      "metadata": {
        "colab": {
          "base_uri": "https://localhost:8080/",
          "height": 420
        },
        "id": "i_B31Ag6LE3-",
        "outputId": "324e7616-2d8f-4531-9c3e-b10dc6af9d76"
      },
      "outputs": [
        {
          "output_type": "stream",
          "name": "stdout",
          "text": [
            "<class 'pandas.core.frame.DataFrame'>\n",
            "RangeIndex: 243713 entries, 0 to 243712\n",
            "Data columns (total 5 columns):\n",
            " #   Column     Non-Null Count   Dtype         \n",
            "---  ------     --------------   -----         \n",
            " 0   event      243713 non-null  object        \n",
            " 1   user_id    243713 non-null  int64         \n",
            " 2   timestamp  243713 non-null  datetime64[ns]\n",
            " 3   group      243713 non-null  object        \n",
            " 4   date       243713 non-null  object        \n",
            "dtypes: datetime64[ns](1), int64(1), object(3)\n",
            "memory usage: 9.3+ MB\n"
          ]
        },
        {
          "output_type": "execute_result",
          "data": {
            "text/plain": [
              "                       event              user_id           timestamp group  \\\n",
              "0         main_screen_appear  4575588528974610257 2019-07-25 04:43:36    A1   \n",
              "1         main_screen_appear  7416695313311560658 2019-07-25 11:11:42    A1   \n",
              "2  payment_screen_successful  3518123091307005509 2019-07-25 11:28:47     B   \n",
              "3         cart_screen_appear  3518123091307005509 2019-07-25 11:28:47     B   \n",
              "4  payment_screen_successful  6217807653094995999 2019-07-25 11:48:42     B   \n",
              "\n",
              "         date  \n",
              "0  2019-07-25  \n",
              "1  2019-07-25  \n",
              "2  2019-07-25  \n",
              "3  2019-07-25  \n",
              "4  2019-07-25  "
            ],
            "text/html": [
              "\n",
              "  <div id=\"df-04ad870a-2423-404a-ac07-31ec6980b36a\">\n",
              "    <div class=\"colab-df-container\">\n",
              "      <div>\n",
              "<style scoped>\n",
              "    .dataframe tbody tr th:only-of-type {\n",
              "        vertical-align: middle;\n",
              "    }\n",
              "\n",
              "    .dataframe tbody tr th {\n",
              "        vertical-align: top;\n",
              "    }\n",
              "\n",
              "    .dataframe thead th {\n",
              "        text-align: right;\n",
              "    }\n",
              "</style>\n",
              "<table border=\"1\" class=\"dataframe\">\n",
              "  <thead>\n",
              "    <tr style=\"text-align: right;\">\n",
              "      <th></th>\n",
              "      <th>event</th>\n",
              "      <th>user_id</th>\n",
              "      <th>timestamp</th>\n",
              "      <th>group</th>\n",
              "      <th>date</th>\n",
              "    </tr>\n",
              "  </thead>\n",
              "  <tbody>\n",
              "    <tr>\n",
              "      <th>0</th>\n",
              "      <td>main_screen_appear</td>\n",
              "      <td>4575588528974610257</td>\n",
              "      <td>2019-07-25 04:43:36</td>\n",
              "      <td>A1</td>\n",
              "      <td>2019-07-25</td>\n",
              "    </tr>\n",
              "    <tr>\n",
              "      <th>1</th>\n",
              "      <td>main_screen_appear</td>\n",
              "      <td>7416695313311560658</td>\n",
              "      <td>2019-07-25 11:11:42</td>\n",
              "      <td>A1</td>\n",
              "      <td>2019-07-25</td>\n",
              "    </tr>\n",
              "    <tr>\n",
              "      <th>2</th>\n",
              "      <td>payment_screen_successful</td>\n",
              "      <td>3518123091307005509</td>\n",
              "      <td>2019-07-25 11:28:47</td>\n",
              "      <td>B</td>\n",
              "      <td>2019-07-25</td>\n",
              "    </tr>\n",
              "    <tr>\n",
              "      <th>3</th>\n",
              "      <td>cart_screen_appear</td>\n",
              "      <td>3518123091307005509</td>\n",
              "      <td>2019-07-25 11:28:47</td>\n",
              "      <td>B</td>\n",
              "      <td>2019-07-25</td>\n",
              "    </tr>\n",
              "    <tr>\n",
              "      <th>4</th>\n",
              "      <td>payment_screen_successful</td>\n",
              "      <td>6217807653094995999</td>\n",
              "      <td>2019-07-25 11:48:42</td>\n",
              "      <td>B</td>\n",
              "      <td>2019-07-25</td>\n",
              "    </tr>\n",
              "  </tbody>\n",
              "</table>\n",
              "</div>\n",
              "      <button class=\"colab-df-convert\" onclick=\"convertToInteractive('df-04ad870a-2423-404a-ac07-31ec6980b36a')\"\n",
              "              title=\"Convert this dataframe to an interactive table.\"\n",
              "              style=\"display:none;\">\n",
              "        \n",
              "  <svg xmlns=\"http://www.w3.org/2000/svg\" height=\"24px\"viewBox=\"0 0 24 24\"\n",
              "       width=\"24px\">\n",
              "    <path d=\"M0 0h24v24H0V0z\" fill=\"none\"/>\n",
              "    <path d=\"M18.56 5.44l.94 2.06.94-2.06 2.06-.94-2.06-.94-.94-2.06-.94 2.06-2.06.94zm-11 1L8.5 8.5l.94-2.06 2.06-.94-2.06-.94L8.5 2.5l-.94 2.06-2.06.94zm10 10l.94 2.06.94-2.06 2.06-.94-2.06-.94-.94-2.06-.94 2.06-2.06.94z\"/><path d=\"M17.41 7.96l-1.37-1.37c-.4-.4-.92-.59-1.43-.59-.52 0-1.04.2-1.43.59L10.3 9.45l-7.72 7.72c-.78.78-.78 2.05 0 2.83L4 21.41c.39.39.9.59 1.41.59.51 0 1.02-.2 1.41-.59l7.78-7.78 2.81-2.81c.8-.78.8-2.07 0-2.86zM5.41 20L4 18.59l7.72-7.72 1.47 1.35L5.41 20z\"/>\n",
              "  </svg>\n",
              "      </button>\n",
              "      \n",
              "  <style>\n",
              "    .colab-df-container {\n",
              "      display:flex;\n",
              "      flex-wrap:wrap;\n",
              "      gap: 12px;\n",
              "    }\n",
              "\n",
              "    .colab-df-convert {\n",
              "      background-color: #E8F0FE;\n",
              "      border: none;\n",
              "      border-radius: 50%;\n",
              "      cursor: pointer;\n",
              "      display: none;\n",
              "      fill: #1967D2;\n",
              "      height: 32px;\n",
              "      padding: 0 0 0 0;\n",
              "      width: 32px;\n",
              "    }\n",
              "\n",
              "    .colab-df-convert:hover {\n",
              "      background-color: #E2EBFA;\n",
              "      box-shadow: 0px 1px 2px rgba(60, 64, 67, 0.3), 0px 1px 3px 1px rgba(60, 64, 67, 0.15);\n",
              "      fill: #174EA6;\n",
              "    }\n",
              "\n",
              "    [theme=dark] .colab-df-convert {\n",
              "      background-color: #3B4455;\n",
              "      fill: #D2E3FC;\n",
              "    }\n",
              "\n",
              "    [theme=dark] .colab-df-convert:hover {\n",
              "      background-color: #434B5C;\n",
              "      box-shadow: 0px 1px 3px 1px rgba(0, 0, 0, 0.15);\n",
              "      filter: drop-shadow(0px 1px 2px rgba(0, 0, 0, 0.3));\n",
              "      fill: #FFFFFF;\n",
              "    }\n",
              "  </style>\n",
              "\n",
              "      <script>\n",
              "        const buttonEl =\n",
              "          document.querySelector('#df-04ad870a-2423-404a-ac07-31ec6980b36a button.colab-df-convert');\n",
              "        buttonEl.style.display =\n",
              "          google.colab.kernel.accessAllowed ? 'block' : 'none';\n",
              "\n",
              "        async function convertToInteractive(key) {\n",
              "          const element = document.querySelector('#df-04ad870a-2423-404a-ac07-31ec6980b36a');\n",
              "          const dataTable =\n",
              "            await google.colab.kernel.invokeFunction('convertToInteractive',\n",
              "                                                     [key], {});\n",
              "          if (!dataTable) return;\n",
              "\n",
              "          const docLinkHtml = 'Like what you see? Visit the ' +\n",
              "            '<a target=\"_blank\" href=https://colab.research.google.com/notebooks/data_table.ipynb>data table notebook</a>'\n",
              "            + ' to learn more about interactive tables.';\n",
              "          element.innerHTML = '';\n",
              "          dataTable['output_type'] = 'display_data';\n",
              "          await google.colab.output.renderOutput(dataTable, element);\n",
              "          const docLink = document.createElement('div');\n",
              "          docLink.innerHTML = docLinkHtml;\n",
              "          element.appendChild(docLink);\n",
              "        }\n",
              "      </script>\n",
              "    </div>\n",
              "  </div>\n",
              "  "
            ]
          },
          "metadata": {},
          "execution_count": 12
        }
      ],
      "source": [
        "# результат подготовки данных\n",
        "df.info()\n",
        "df.head()"
      ]
    },
    {
      "cell_type": "markdown",
      "metadata": {
        "id": "EHv371WfLQLD"
      },
      "source": [
        "**Вывод:**\n",
        "\n",
        "Мы обработали данные и подготовили датафрейм к анализу: переименовали столбцы и названия событий, поменяли тип данных у значений даты и времени события, поменяли значения в столбце с группой теста на категории, добавили новый столбец с датой и проверили на пересечение аудиторий.\n",
        "\n",
        "Было найдено 413 строк дубликатов – вероятно, они появились из-за технической ошибки. Количество незначительное относительно всего комлекта данных, поэтому мы их удалили. Осталось 243713 строк."
      ]
    },
    {
      "cell_type": "markdown",
      "metadata": {
        "id": "EeZjzTe1p6Lv"
      },
      "source": [
        "---"
      ]
    },
    {
      "cell_type": "markdown",
      "metadata": {
        "id": "DHd2rAkYHznn"
      },
      "source": [
        "## Изучение и проверка данных\n"
      ]
    },
    {
      "cell_type": "markdown",
      "metadata": {
        "id": "vg3BCBRIECCh"
      },
      "source": [
        "Сгруппируем данные по пользователю и количеству совершенных событий:\n",
        "\n",
        "---\n",
        "\n"
      ]
    },
    {
      "cell_type": "code",
      "execution_count": 13,
      "metadata": {
        "colab": {
          "base_uri": "https://localhost:8080/",
          "height": 424
        },
        "id": "ytzXjURkCx9I",
        "outputId": "190edf8a-62ab-4cc6-9388-826918bf43cd"
      },
      "outputs": [
        {
          "output_type": "execute_result",
          "data": {
            "text/plain": [
              "                  user_id  events\n",
              "0        6888746892508752       1\n",
              "1        6909561520679493       5\n",
              "2        6922444491712477      47\n",
              "3        7435777799948366       6\n",
              "4        7702139951469979     137\n",
              "...                   ...     ...\n",
              "7546  9217594193087726423       9\n",
              "7547  9219463515465815368      17\n",
              "7548  9220879493065341500       7\n",
              "7549  9221926045299980007       7\n",
              "7550  9222603179720523844      59\n",
              "\n",
              "[7551 rows x 2 columns]"
            ],
            "text/html": [
              "\n",
              "  <div id=\"df-07776ac6-c3cb-46e6-bebd-66e02748279c\">\n",
              "    <div class=\"colab-df-container\">\n",
              "      <div>\n",
              "<style scoped>\n",
              "    .dataframe tbody tr th:only-of-type {\n",
              "        vertical-align: middle;\n",
              "    }\n",
              "\n",
              "    .dataframe tbody tr th {\n",
              "        vertical-align: top;\n",
              "    }\n",
              "\n",
              "    .dataframe thead th {\n",
              "        text-align: right;\n",
              "    }\n",
              "</style>\n",
              "<table border=\"1\" class=\"dataframe\">\n",
              "  <thead>\n",
              "    <tr style=\"text-align: right;\">\n",
              "      <th></th>\n",
              "      <th>user_id</th>\n",
              "      <th>events</th>\n",
              "    </tr>\n",
              "  </thead>\n",
              "  <tbody>\n",
              "    <tr>\n",
              "      <th>0</th>\n",
              "      <td>6888746892508752</td>\n",
              "      <td>1</td>\n",
              "    </tr>\n",
              "    <tr>\n",
              "      <th>1</th>\n",
              "      <td>6909561520679493</td>\n",
              "      <td>5</td>\n",
              "    </tr>\n",
              "    <tr>\n",
              "      <th>2</th>\n",
              "      <td>6922444491712477</td>\n",
              "      <td>47</td>\n",
              "    </tr>\n",
              "    <tr>\n",
              "      <th>3</th>\n",
              "      <td>7435777799948366</td>\n",
              "      <td>6</td>\n",
              "    </tr>\n",
              "    <tr>\n",
              "      <th>4</th>\n",
              "      <td>7702139951469979</td>\n",
              "      <td>137</td>\n",
              "    </tr>\n",
              "    <tr>\n",
              "      <th>...</th>\n",
              "      <td>...</td>\n",
              "      <td>...</td>\n",
              "    </tr>\n",
              "    <tr>\n",
              "      <th>7546</th>\n",
              "      <td>9217594193087726423</td>\n",
              "      <td>9</td>\n",
              "    </tr>\n",
              "    <tr>\n",
              "      <th>7547</th>\n",
              "      <td>9219463515465815368</td>\n",
              "      <td>17</td>\n",
              "    </tr>\n",
              "    <tr>\n",
              "      <th>7548</th>\n",
              "      <td>9220879493065341500</td>\n",
              "      <td>7</td>\n",
              "    </tr>\n",
              "    <tr>\n",
              "      <th>7549</th>\n",
              "      <td>9221926045299980007</td>\n",
              "      <td>7</td>\n",
              "    </tr>\n",
              "    <tr>\n",
              "      <th>7550</th>\n",
              "      <td>9222603179720523844</td>\n",
              "      <td>59</td>\n",
              "    </tr>\n",
              "  </tbody>\n",
              "</table>\n",
              "<p>7551 rows × 2 columns</p>\n",
              "</div>\n",
              "      <button class=\"colab-df-convert\" onclick=\"convertToInteractive('df-07776ac6-c3cb-46e6-bebd-66e02748279c')\"\n",
              "              title=\"Convert this dataframe to an interactive table.\"\n",
              "              style=\"display:none;\">\n",
              "        \n",
              "  <svg xmlns=\"http://www.w3.org/2000/svg\" height=\"24px\"viewBox=\"0 0 24 24\"\n",
              "       width=\"24px\">\n",
              "    <path d=\"M0 0h24v24H0V0z\" fill=\"none\"/>\n",
              "    <path d=\"M18.56 5.44l.94 2.06.94-2.06 2.06-.94-2.06-.94-.94-2.06-.94 2.06-2.06.94zm-11 1L8.5 8.5l.94-2.06 2.06-.94-2.06-.94L8.5 2.5l-.94 2.06-2.06.94zm10 10l.94 2.06.94-2.06 2.06-.94-2.06-.94-.94-2.06-.94 2.06-2.06.94z\"/><path d=\"M17.41 7.96l-1.37-1.37c-.4-.4-.92-.59-1.43-.59-.52 0-1.04.2-1.43.59L10.3 9.45l-7.72 7.72c-.78.78-.78 2.05 0 2.83L4 21.41c.39.39.9.59 1.41.59.51 0 1.02-.2 1.41-.59l7.78-7.78 2.81-2.81c.8-.78.8-2.07 0-2.86zM5.41 20L4 18.59l7.72-7.72 1.47 1.35L5.41 20z\"/>\n",
              "  </svg>\n",
              "      </button>\n",
              "      \n",
              "  <style>\n",
              "    .colab-df-container {\n",
              "      display:flex;\n",
              "      flex-wrap:wrap;\n",
              "      gap: 12px;\n",
              "    }\n",
              "\n",
              "    .colab-df-convert {\n",
              "      background-color: #E8F0FE;\n",
              "      border: none;\n",
              "      border-radius: 50%;\n",
              "      cursor: pointer;\n",
              "      display: none;\n",
              "      fill: #1967D2;\n",
              "      height: 32px;\n",
              "      padding: 0 0 0 0;\n",
              "      width: 32px;\n",
              "    }\n",
              "\n",
              "    .colab-df-convert:hover {\n",
              "      background-color: #E2EBFA;\n",
              "      box-shadow: 0px 1px 2px rgba(60, 64, 67, 0.3), 0px 1px 3px 1px rgba(60, 64, 67, 0.15);\n",
              "      fill: #174EA6;\n",
              "    }\n",
              "\n",
              "    [theme=dark] .colab-df-convert {\n",
              "      background-color: #3B4455;\n",
              "      fill: #D2E3FC;\n",
              "    }\n",
              "\n",
              "    [theme=dark] .colab-df-convert:hover {\n",
              "      background-color: #434B5C;\n",
              "      box-shadow: 0px 1px 3px 1px rgba(0, 0, 0, 0.15);\n",
              "      filter: drop-shadow(0px 1px 2px rgba(0, 0, 0, 0.3));\n",
              "      fill: #FFFFFF;\n",
              "    }\n",
              "  </style>\n",
              "\n",
              "      <script>\n",
              "        const buttonEl =\n",
              "          document.querySelector('#df-07776ac6-c3cb-46e6-bebd-66e02748279c button.colab-df-convert');\n",
              "        buttonEl.style.display =\n",
              "          google.colab.kernel.accessAllowed ? 'block' : 'none';\n",
              "\n",
              "        async function convertToInteractive(key) {\n",
              "          const element = document.querySelector('#df-07776ac6-c3cb-46e6-bebd-66e02748279c');\n",
              "          const dataTable =\n",
              "            await google.colab.kernel.invokeFunction('convertToInteractive',\n",
              "                                                     [key], {});\n",
              "          if (!dataTable) return;\n",
              "\n",
              "          const docLinkHtml = 'Like what you see? Visit the ' +\n",
              "            '<a target=\"_blank\" href=https://colab.research.google.com/notebooks/data_table.ipynb>data table notebook</a>'\n",
              "            + ' to learn more about interactive tables.';\n",
              "          element.innerHTML = '';\n",
              "          dataTable['output_type'] = 'display_data';\n",
              "          await google.colab.output.renderOutput(dataTable, element);\n",
              "          const docLink = document.createElement('div');\n",
              "          docLink.innerHTML = docLinkHtml;\n",
              "          element.appendChild(docLink);\n",
              "        }\n",
              "      </script>\n",
              "    </div>\n",
              "  </div>\n",
              "  "
            ]
          },
          "metadata": {},
          "execution_count": 13
        }
      ],
      "source": [
        "# группировка по пользователю и количеству событий\n",
        "user_events = df \\\n",
        "    .groupby(['user_id'], as_index=False) \\\n",
        "    .agg({'event' : 'count'}) \\\n",
        "    .rename(columns=({'event' : 'events'})) \\\n",
        "    .sort_values(by='user_id', ascending=True)\n",
        "\n",
        "user_events"
      ]
    },
    {
      "cell_type": "code",
      "execution_count": 14,
      "metadata": {
        "id": "Kpv2rH-4t_7F",
        "outputId": "aadb7428-6048-4134-dab8-ef2d67c0c390",
        "colab": {
          "base_uri": "https://localhost:8080/",
          "height": 300
        }
      },
      "outputs": [
        {
          "output_type": "execute_result",
          "data": {
            "text/plain": [
              "                     user_id  events\n",
              "count                7551.00 7551.00\n",
              "mean  4677318727102441472.00   32.28\n",
              "std   2655343100552021504.00   65.15\n",
              "min      6888746892508752.00    1.00\n",
              "25%   2397700422051031552.00    9.00\n",
              "50%   4688021588771745792.00   20.00\n",
              "75%   7007352523282521088.00   37.00\n",
              "max   9222603179720523776.00 2307.00"
            ],
            "text/html": [
              "\n",
              "  <div id=\"df-40c2dd0d-b006-4a38-bc3d-8abe32bb8217\">\n",
              "    <div class=\"colab-df-container\">\n",
              "      <div>\n",
              "<style scoped>\n",
              "    .dataframe tbody tr th:only-of-type {\n",
              "        vertical-align: middle;\n",
              "    }\n",
              "\n",
              "    .dataframe tbody tr th {\n",
              "        vertical-align: top;\n",
              "    }\n",
              "\n",
              "    .dataframe thead th {\n",
              "        text-align: right;\n",
              "    }\n",
              "</style>\n",
              "<table border=\"1\" class=\"dataframe\">\n",
              "  <thead>\n",
              "    <tr style=\"text-align: right;\">\n",
              "      <th></th>\n",
              "      <th>user_id</th>\n",
              "      <th>events</th>\n",
              "    </tr>\n",
              "  </thead>\n",
              "  <tbody>\n",
              "    <tr>\n",
              "      <th>count</th>\n",
              "      <td>7551.00</td>\n",
              "      <td>7551.00</td>\n",
              "    </tr>\n",
              "    <tr>\n",
              "      <th>mean</th>\n",
              "      <td>4677318727102441472.00</td>\n",
              "      <td>32.28</td>\n",
              "    </tr>\n",
              "    <tr>\n",
              "      <th>std</th>\n",
              "      <td>2655343100552021504.00</td>\n",
              "      <td>65.15</td>\n",
              "    </tr>\n",
              "    <tr>\n",
              "      <th>min</th>\n",
              "      <td>6888746892508752.00</td>\n",
              "      <td>1.00</td>\n",
              "    </tr>\n",
              "    <tr>\n",
              "      <th>25%</th>\n",
              "      <td>2397700422051031552.00</td>\n",
              "      <td>9.00</td>\n",
              "    </tr>\n",
              "    <tr>\n",
              "      <th>50%</th>\n",
              "      <td>4688021588771745792.00</td>\n",
              "      <td>20.00</td>\n",
              "    </tr>\n",
              "    <tr>\n",
              "      <th>75%</th>\n",
              "      <td>7007352523282521088.00</td>\n",
              "      <td>37.00</td>\n",
              "    </tr>\n",
              "    <tr>\n",
              "      <th>max</th>\n",
              "      <td>9222603179720523776.00</td>\n",
              "      <td>2307.00</td>\n",
              "    </tr>\n",
              "  </tbody>\n",
              "</table>\n",
              "</div>\n",
              "      <button class=\"colab-df-convert\" onclick=\"convertToInteractive('df-40c2dd0d-b006-4a38-bc3d-8abe32bb8217')\"\n",
              "              title=\"Convert this dataframe to an interactive table.\"\n",
              "              style=\"display:none;\">\n",
              "        \n",
              "  <svg xmlns=\"http://www.w3.org/2000/svg\" height=\"24px\"viewBox=\"0 0 24 24\"\n",
              "       width=\"24px\">\n",
              "    <path d=\"M0 0h24v24H0V0z\" fill=\"none\"/>\n",
              "    <path d=\"M18.56 5.44l.94 2.06.94-2.06 2.06-.94-2.06-.94-.94-2.06-.94 2.06-2.06.94zm-11 1L8.5 8.5l.94-2.06 2.06-.94-2.06-.94L8.5 2.5l-.94 2.06-2.06.94zm10 10l.94 2.06.94-2.06 2.06-.94-2.06-.94-.94-2.06-.94 2.06-2.06.94z\"/><path d=\"M17.41 7.96l-1.37-1.37c-.4-.4-.92-.59-1.43-.59-.52 0-1.04.2-1.43.59L10.3 9.45l-7.72 7.72c-.78.78-.78 2.05 0 2.83L4 21.41c.39.39.9.59 1.41.59.51 0 1.02-.2 1.41-.59l7.78-7.78 2.81-2.81c.8-.78.8-2.07 0-2.86zM5.41 20L4 18.59l7.72-7.72 1.47 1.35L5.41 20z\"/>\n",
              "  </svg>\n",
              "      </button>\n",
              "      \n",
              "  <style>\n",
              "    .colab-df-container {\n",
              "      display:flex;\n",
              "      flex-wrap:wrap;\n",
              "      gap: 12px;\n",
              "    }\n",
              "\n",
              "    .colab-df-convert {\n",
              "      background-color: #E8F0FE;\n",
              "      border: none;\n",
              "      border-radius: 50%;\n",
              "      cursor: pointer;\n",
              "      display: none;\n",
              "      fill: #1967D2;\n",
              "      height: 32px;\n",
              "      padding: 0 0 0 0;\n",
              "      width: 32px;\n",
              "    }\n",
              "\n",
              "    .colab-df-convert:hover {\n",
              "      background-color: #E2EBFA;\n",
              "      box-shadow: 0px 1px 2px rgba(60, 64, 67, 0.3), 0px 1px 3px 1px rgba(60, 64, 67, 0.15);\n",
              "      fill: #174EA6;\n",
              "    }\n",
              "\n",
              "    [theme=dark] .colab-df-convert {\n",
              "      background-color: #3B4455;\n",
              "      fill: #D2E3FC;\n",
              "    }\n",
              "\n",
              "    [theme=dark] .colab-df-convert:hover {\n",
              "      background-color: #434B5C;\n",
              "      box-shadow: 0px 1px 3px 1px rgba(0, 0, 0, 0.15);\n",
              "      filter: drop-shadow(0px 1px 2px rgba(0, 0, 0, 0.3));\n",
              "      fill: #FFFFFF;\n",
              "    }\n",
              "  </style>\n",
              "\n",
              "      <script>\n",
              "        const buttonEl =\n",
              "          document.querySelector('#df-40c2dd0d-b006-4a38-bc3d-8abe32bb8217 button.colab-df-convert');\n",
              "        buttonEl.style.display =\n",
              "          google.colab.kernel.accessAllowed ? 'block' : 'none';\n",
              "\n",
              "        async function convertToInteractive(key) {\n",
              "          const element = document.querySelector('#df-40c2dd0d-b006-4a38-bc3d-8abe32bb8217');\n",
              "          const dataTable =\n",
              "            await google.colab.kernel.invokeFunction('convertToInteractive',\n",
              "                                                     [key], {});\n",
              "          if (!dataTable) return;\n",
              "\n",
              "          const docLinkHtml = 'Like what you see? Visit the ' +\n",
              "            '<a target=\"_blank\" href=https://colab.research.google.com/notebooks/data_table.ipynb>data table notebook</a>'\n",
              "            + ' to learn more about interactive tables.';\n",
              "          element.innerHTML = '';\n",
              "          dataTable['output_type'] = 'display_data';\n",
              "          await google.colab.output.renderOutput(dataTable, element);\n",
              "          const docLink = document.createElement('div');\n",
              "          docLink.innerHTML = docLinkHtml;\n",
              "          element.appendChild(docLink);\n",
              "        }\n",
              "      </script>\n",
              "    </div>\n",
              "  </div>\n",
              "  "
            ]
          },
          "metadata": {},
          "execution_count": 14
        }
      ],
      "source": [
        "# посмотрим статистики\n",
        "user_events.describe()"
      ]
    },
    {
      "cell_type": "markdown",
      "metadata": {
        "id": "BrVuGT1gEIi3"
      },
      "source": [
        "Выведем важные статистики:"
      ]
    },
    {
      "cell_type": "code",
      "execution_count": 15,
      "metadata": {
        "colab": {
          "base_uri": "https://localhost:8080/"
        },
        "id": "IYUVNRB3HBgs",
        "outputId": "cca451ea-8e40-478f-d4ad-77a4d94153ee"
      },
      "outputs": [
        {
          "output_type": "stream",
          "name": "stdout",
          "text": [
            "Наблюдений всего: 243713\n",
            "Уникальных пользователей: 7551 \n",
            "---\n",
            "Среднее число событий на пользователя: 32       \n",
            "Медиана числа событий на пользователя: 20       \n",
            "Мода числа событий на пользователя: 5       \n",
            "---\n",
            "Минимальное число событий на пользователя: 1       \n",
            "Максимальное число событий на пользователя: 2307       \n",
            "---\n",
            "Начало отслеживания событий: 2019-07-25 \n",
            "Конец отслеживания событий: 2019-08-07\n"
          ]
        }
      ],
      "source": [
        "# выведем количество событий в логе\n",
        "total_events = user_events['events'].sum()\n",
        "print('Наблюдений всего:', total_events)\n",
        "\n",
        "# выведем количество уникальных пользователей\n",
        "total_users = user_events['user_id'].nunique()\n",
        "print('Уникальных пользователей: {} \\n---'\n",
        "      .format(total_users))\n",
        "\n",
        "# среднее число и мода событий на пользователя\n",
        "print('Среднее число событий на пользователя: {} \\\n",
        "      \\nМедиана числа событий на пользователя: {} \\\n",
        "      \\nМода числа событий на пользователя: {} \\\n",
        "      \\n---'\\\n",
        "      .format(int(user_events['events'].mean()),\n",
        "              int(user_events['events'].median()),\n",
        "              int(user_events['events'].mode())))\n",
        "\n",
        "# минимальное и максимальное числособытий на пользователя\n",
        "print('Минимальное число событий на пользователя: {} \\\n",
        "      \\nМаксимальное число событий на пользователя: {} \\\n",
        "      \\n---'\\\n",
        "      .format(int(user_events['events'].min()),\n",
        "              int(user_events['events'].max())))\n",
        "\n",
        "# крайние даты событий\n",
        "print('Начало отслеживания событий: {} \\nКонец отслеживания событий: {}'\\\n",
        "      .format(df['date'].min(), df['date'].max()))"
      ]
    },
    {
      "cell_type": "markdown",
      "metadata": {
        "id": "14rGXH4Ot_7H"
      },
      "source": [
        "Видим большой разброс количества событий на пользователя, отфильтруем их до 100, чтобы посмотреть ближе без аномально больших значений, оценим распределение на графике:"
      ]
    },
    {
      "cell_type": "code",
      "execution_count": 16,
      "metadata": {
        "id": "P3Kz1vvNt_7H",
        "outputId": "96897e36-cc57-4a71-ae20-773f4f69faad",
        "colab": {
          "base_uri": "https://localhost:8080/",
          "height": 410
        }
      },
      "outputs": [
        {
          "output_type": "display_data",
          "data": {
            "text/plain": [
              "<Figure size 864x432 with 1 Axes>"
            ],
            "image/png": "[encoded data removed]"
          },
          "metadata": {
            "image/png": {
              "width": 730,
              "height": 393
            }
          }
        }
      ],
      "source": [
        "# построим гистограмму для визуализации числа событий на пользователя\n",
        "plt.figure(figsize=(12,6))\n",
        "\n",
        "sns.histplot(data=user_events, x=user_events.query('0 < events <= 100')['events']);\n",
        "plt.title('Количество событий для одного пользователя', fontsize=14);\n",
        "plt.xlabel('Количество событий');\n",
        "plt.ylabel('Количество пользователей');"
      ]
    },
    {
      "cell_type": "markdown",
      "metadata": {
        "id": "pqGlQ05Ot_7H"
      },
      "source": [
        "Вывод: выделяется мода, а основная часть событий состредоточена в диапазоне до 40."
      ]
    },
    {
      "cell_type": "markdown",
      "metadata": {
        "id": "GOMMCG-rNgfm"
      },
      "source": [
        "Построим гистограмму по дате и времени:"
      ]
    },
    {
      "cell_type": "code",
      "execution_count": 17,
      "metadata": {
        "colab": {
          "base_uri": "https://localhost:8080/",
          "height": 460
        },
        "id": "eNHQPnqwc63f",
        "outputId": "fa19c6d4-e60d-4da4-ac38-924658c8831f"
      },
      "outputs": [
        {
          "output_type": "display_data",
          "data": {
            "text/plain": [
              "<Figure size 864x432 with 1 Axes>"
            ],
            "image/png": "[encoded data removed]"
          },
          "metadata": {
            "image/png": {
              "width": 737,
              "height": 443
            }
          }
        }
      ],
      "source": [
        "# построим гистограмму для визуализации по времени и дате\n",
        "plt.figure(figsize=(12,6))\n",
        "\n",
        "sns.histplot(data=df, x=df['timestamp']);\n",
        "plt.title('Количество событий по времени и дате', fontsize=14);\n",
        "plt.xlabel('Дата');\n",
        "plt.xticks(rotation=60);\n",
        "plt.ylabel('Количество событий');"
      ]
    },
    {
      "cell_type": "code",
      "execution_count": 18,
      "metadata": {
        "colab": {
          "base_uri": "https://localhost:8080/",
          "height": 488
        },
        "id": "UARrFNJtNlfR",
        "outputId": "4219e29d-b10f-40da-e1da-04fcbe16d732"
      },
      "outputs": [
        {
          "output_type": "execute_result",
          "data": {
            "text/plain": [
              "          date  events\n",
              "0   2019-07-25       9\n",
              "1   2019-07-26      31\n",
              "2   2019-07-27      55\n",
              "3   2019-07-28     105\n",
              "4   2019-07-29     184\n",
              "5   2019-07-30     412\n",
              "6   2019-07-31    2030\n",
              "7   2019-08-01   36141\n",
              "8   2019-08-02   35554\n",
              "9   2019-08-03   33282\n",
              "10  2019-08-04   32968\n",
              "11  2019-08-05   36058\n",
              "12  2019-08-06   35788\n",
              "13  2019-08-07   31096"
            ],
            "text/html": [
              "\n",
              "  <div id=\"df-d9104af2-f43a-4a9c-b787-15b9b163209b\">\n",
              "    <div class=\"colab-df-container\">\n",
              "      <div>\n",
              "<style scoped>\n",
              "    .dataframe tbody tr th:only-of-type {\n",
              "        vertical-align: middle;\n",
              "    }\n",
              "\n",
              "    .dataframe tbody tr th {\n",
              "        vertical-align: top;\n",
              "    }\n",
              "\n",
              "    .dataframe thead th {\n",
              "        text-align: right;\n",
              "    }\n",
              "</style>\n",
              "<table border=\"1\" class=\"dataframe\">\n",
              "  <thead>\n",
              "    <tr style=\"text-align: right;\">\n",
              "      <th></th>\n",
              "      <th>date</th>\n",
              "      <th>events</th>\n",
              "    </tr>\n",
              "  </thead>\n",
              "  <tbody>\n",
              "    <tr>\n",
              "      <th>0</th>\n",
              "      <td>2019-07-25</td>\n",
              "      <td>9</td>\n",
              "    </tr>\n",
              "    <tr>\n",
              "      <th>1</th>\n",
              "      <td>2019-07-26</td>\n",
              "      <td>31</td>\n",
              "    </tr>\n",
              "    <tr>\n",
              "      <th>2</th>\n",
              "      <td>2019-07-27</td>\n",
              "      <td>55</td>\n",
              "    </tr>\n",
              "    <tr>\n",
              "      <th>3</th>\n",
              "      <td>2019-07-28</td>\n",
              "      <td>105</td>\n",
              "    </tr>\n",
              "    <tr>\n",
              "      <th>4</th>\n",
              "      <td>2019-07-29</td>\n",
              "      <td>184</td>\n",
              "    </tr>\n",
              "    <tr>\n",
              "      <th>5</th>\n",
              "      <td>2019-07-30</td>\n",
              "      <td>412</td>\n",
              "    </tr>\n",
              "    <tr>\n",
              "      <th>6</th>\n",
              "      <td>2019-07-31</td>\n",
              "      <td>2030</td>\n",
              "    </tr>\n",
              "    <tr>\n",
              "      <th>7</th>\n",
              "      <td>2019-08-01</td>\n",
              "      <td>36141</td>\n",
              "    </tr>\n",
              "    <tr>\n",
              "      <th>8</th>\n",
              "      <td>2019-08-02</td>\n",
              "      <td>35554</td>\n",
              "    </tr>\n",
              "    <tr>\n",
              "      <th>9</th>\n",
              "      <td>2019-08-03</td>\n",
              "      <td>33282</td>\n",
              "    </tr>\n",
              "    <tr>\n",
              "      <th>10</th>\n",
              "      <td>2019-08-04</td>\n",
              "      <td>32968</td>\n",
              "    </tr>\n",
              "    <tr>\n",
              "      <th>11</th>\n",
              "      <td>2019-08-05</td>\n",
              "      <td>36058</td>\n",
              "    </tr>\n",
              "    <tr>\n",
              "      <th>12</th>\n",
              "      <td>2019-08-06</td>\n",
              "      <td>35788</td>\n",
              "    </tr>\n",
              "    <tr>\n",
              "      <th>13</th>\n",
              "      <td>2019-08-07</td>\n",
              "      <td>31096</td>\n",
              "    </tr>\n",
              "  </tbody>\n",
              "</table>\n",
              "</div>\n",
              "      <button class=\"colab-df-convert\" onclick=\"convertToInteractive('df-d9104af2-f43a-4a9c-b787-15b9b163209b')\"\n",
              "              title=\"Convert this dataframe to an interactive table.\"\n",
              "              style=\"display:none;\">\n",
              "        \n",
              "  <svg xmlns=\"http://www.w3.org/2000/svg\" height=\"24px\"viewBox=\"0 0 24 24\"\n",
              "       width=\"24px\">\n",
              "    <path d=\"M0 0h24v24H0V0z\" fill=\"none\"/>\n",
              "    <path d=\"M18.56 5.44l.94 2.06.94-2.06 2.06-.94-2.06-.94-.94-2.06-.94 2.06-2.06.94zm-11 1L8.5 8.5l.94-2.06 2.06-.94-2.06-.94L8.5 2.5l-.94 2.06-2.06.94zm10 10l.94 2.06.94-2.06 2.06-.94-2.06-.94-.94-2.06-.94 2.06-2.06.94z\"/><path d=\"M17.41 7.96l-1.37-1.37c-.4-.4-.92-.59-1.43-.59-.52 0-1.04.2-1.43.59L10.3 9.45l-7.72 7.72c-.78.78-.78 2.05 0 2.83L4 21.41c.39.39.9.59 1.41.59.51 0 1.02-.2 1.41-.59l7.78-7.78 2.81-2.81c.8-.78.8-2.07 0-2.86zM5.41 20L4 18.59l7.72-7.72 1.47 1.35L5.41 20z\"/>\n",
              "  </svg>\n",
              "      </button>\n",
              "      \n",
              "  <style>\n",
              "    .colab-df-container {\n",
              "      display:flex;\n",
              "      flex-wrap:wrap;\n",
              "      gap: 12px;\n",
              "    }\n",
              "\n",
              "    .colab-df-convert {\n",
              "      background-color: #E8F0FE;\n",
              "      border: none;\n",
              "      border-radius: 50%;\n",
              "      cursor: pointer;\n",
              "      display: none;\n",
              "      fill: #1967D2;\n",
              "      height: 32px;\n",
              "      padding: 0 0 0 0;\n",
              "      width: 32px;\n",
              "    }\n",
              "\n",
              "    .colab-df-convert:hover {\n",
              "      background-color: #E2EBFA;\n",
              "      box-shadow: 0px 1px 2px rgba(60, 64, 67, 0.3), 0px 1px 3px 1px rgba(60, 64, 67, 0.15);\n",
              "      fill: #174EA6;\n",
              "    }\n",
              "\n",
              "    [theme=dark] .colab-df-convert {\n",
              "      background-color: #3B4455;\n",
              "      fill: #D2E3FC;\n",
              "    }\n",
              "\n",
              "    [theme=dark] .colab-df-convert:hover {\n",
              "      background-color: #434B5C;\n",
              "      box-shadow: 0px 1px 3px 1px rgba(0, 0, 0, 0.15);\n",
              "      filter: drop-shadow(0px 1px 2px rgba(0, 0, 0, 0.3));\n",
              "      fill: #FFFFFF;\n",
              "    }\n",
              "  </style>\n",
              "\n",
              "      <script>\n",
              "        const buttonEl =\n",
              "          document.querySelector('#df-d9104af2-f43a-4a9c-b787-15b9b163209b button.colab-df-convert');\n",
              "        buttonEl.style.display =\n",
              "          google.colab.kernel.accessAllowed ? 'block' : 'none';\n",
              "\n",
              "        async function convertToInteractive(key) {\n",
              "          const element = document.querySelector('#df-d9104af2-f43a-4a9c-b787-15b9b163209b');\n",
              "          const dataTable =\n",
              "            await google.colab.kernel.invokeFunction('convertToInteractive',\n",
              "                                                     [key], {});\n",
              "          if (!dataTable) return;\n",
              "\n",
              "          const docLinkHtml = 'Like what you see? Visit the ' +\n",
              "            '<a target=\"_blank\" href=https://colab.research.google.com/notebooks/data_table.ipynb>data table notebook</a>'\n",
              "            + ' to learn more about interactive tables.';\n",
              "          element.innerHTML = '';\n",
              "          dataTable['output_type'] = 'display_data';\n",
              "          await google.colab.output.renderOutput(dataTable, element);\n",
              "          const docLink = document.createElement('div');\n",
              "          docLink.innerHTML = docLinkHtml;\n",
              "          element.appendChild(docLink);\n",
              "        }\n",
              "      </script>\n",
              "    </div>\n",
              "  </div>\n",
              "  "
            ]
          },
          "metadata": {},
          "execution_count": 18
        }
      ],
      "source": [
        "# сгруппируем данные по дате и количеству событий\n",
        "events_by_date = df \\\n",
        "    .groupby(['date'], as_index=False) \\\n",
        "    .agg({'timestamp' : 'count'}) \\\n",
        "    .rename(columns=({'timestamp' : 'events'})) \\\n",
        "    .sort_values(by='date', ascending=True)\n",
        "\n",
        "events_by_date"
      ]
    },
    {
      "cell_type": "markdown",
      "metadata": {
        "id": "AoP0zTzqN7vv"
      },
      "source": [
        "Видим, что у нас есть данные за 2 недели, но на первой неделе было мало событий.\n",
        "\n",
        "Полные данные отслеживаются с 2019-08-01 по 2019-08-07 – за 7 дней."
      ]
    },
    {
      "cell_type": "markdown",
      "metadata": {
        "id": "Tbhr-eYVecUG"
      },
      "source": [
        "Посчитаем, много ли событий и пользователей мы потеряли, отбросив старые данные:"
      ]
    },
    {
      "cell_type": "code",
      "execution_count": 19,
      "metadata": {
        "colab": {
          "base_uri": "https://localhost:8080/",
          "height": 206
        },
        "id": "MaWx5wXOecpu",
        "outputId": "c24bccfe-9f01-4fae-d25f-e8ae5e15febd"
      },
      "outputs": [
        {
          "output_type": "execute_result",
          "data": {
            "text/plain": [
              "   index                 event              user_id           timestamp group  \\\n",
              "0   2826              tutorial  3737462046622621720 2019-08-01 00:07:28    A1   \n",
              "1   2827    main_screen_appear  3737462046622621720 2019-08-01 00:08:00    A1   \n",
              "2   2828    main_screen_appear  3737462046622621720 2019-08-01 00:08:55    A1   \n",
              "3   2829  offers_screen_appear  3737462046622621720 2019-08-01 00:08:58    A1   \n",
              "4   2830    main_screen_appear  1433840883824088890 2019-08-01 00:08:59    A2   \n",
              "\n",
              "         date  \n",
              "0  2019-08-01  \n",
              "1  2019-08-01  \n",
              "2  2019-08-01  \n",
              "3  2019-08-01  \n",
              "4  2019-08-01  "
            ],
            "text/html": [
              "\n",
              "  <div id=\"df-ca989fd6-faa5-46d7-acbb-7c0a83b58ee4\">\n",
              "    <div class=\"colab-df-container\">\n",
              "      <div>\n",
              "<style scoped>\n",
              "    .dataframe tbody tr th:only-of-type {\n",
              "        vertical-align: middle;\n",
              "    }\n",
              "\n",
              "    .dataframe tbody tr th {\n",
              "        vertical-align: top;\n",
              "    }\n",
              "\n",
              "    .dataframe thead th {\n",
              "        text-align: right;\n",
              "    }\n",
              "</style>\n",
              "<table border=\"1\" class=\"dataframe\">\n",
              "  <thead>\n",
              "    <tr style=\"text-align: right;\">\n",
              "      <th></th>\n",
              "      <th>index</th>\n",
              "      <th>event</th>\n",
              "      <th>user_id</th>\n",
              "      <th>timestamp</th>\n",
              "      <th>group</th>\n",
              "      <th>date</th>\n",
              "    </tr>\n",
              "  </thead>\n",
              "  <tbody>\n",
              "    <tr>\n",
              "      <th>0</th>\n",
              "      <td>2826</td>\n",
              "      <td>tutorial</td>\n",
              "      <td>3737462046622621720</td>\n",
              "      <td>2019-08-01 00:07:28</td>\n",
              "      <td>A1</td>\n",
              "      <td>2019-08-01</td>\n",
              "    </tr>\n",
              "    <tr>\n",
              "      <th>1</th>\n",
              "      <td>2827</td>\n",
              "      <td>main_screen_appear</td>\n",
              "      <td>3737462046622621720</td>\n",
              "      <td>2019-08-01 00:08:00</td>\n",
              "      <td>A1</td>\n",
              "      <td>2019-08-01</td>\n",
              "    </tr>\n",
              "    <tr>\n",
              "      <th>2</th>\n",
              "      <td>2828</td>\n",
              "      <td>main_screen_appear</td>\n",
              "      <td>3737462046622621720</td>\n",
              "      <td>2019-08-01 00:08:55</td>\n",
              "      <td>A1</td>\n",
              "      <td>2019-08-01</td>\n",
              "    </tr>\n",
              "    <tr>\n",
              "      <th>3</th>\n",
              "      <td>2829</td>\n",
              "      <td>offers_screen_appear</td>\n",
              "      <td>3737462046622621720</td>\n",
              "      <td>2019-08-01 00:08:58</td>\n",
              "      <td>A1</td>\n",
              "      <td>2019-08-01</td>\n",
              "    </tr>\n",
              "    <tr>\n",
              "      <th>4</th>\n",
              "      <td>2830</td>\n",
              "      <td>main_screen_appear</td>\n",
              "      <td>1433840883824088890</td>\n",
              "      <td>2019-08-01 00:08:59</td>\n",
              "      <td>A2</td>\n",
              "      <td>2019-08-01</td>\n",
              "    </tr>\n",
              "  </tbody>\n",
              "</table>\n",
              "</div>\n",
              "      <button class=\"colab-df-convert\" onclick=\"convertToInteractive('df-ca989fd6-faa5-46d7-acbb-7c0a83b58ee4')\"\n",
              "              title=\"Convert this dataframe to an interactive table.\"\n",
              "              style=\"display:none;\">\n",
              "        \n",
              "  <svg xmlns=\"http://www.w3.org/2000/svg\" height=\"24px\"viewBox=\"0 0 24 24\"\n",
              "       width=\"24px\">\n",
              "    <path d=\"M0 0h24v24H0V0z\" fill=\"none\"/>\n",
              "    <path d=\"M18.56 5.44l.94 2.06.94-2.06 2.06-.94-2.06-.94-.94-2.06-.94 2.06-2.06.94zm-11 1L8.5 8.5l.94-2.06 2.06-.94-2.06-.94L8.5 2.5l-.94 2.06-2.06.94zm10 10l.94 2.06.94-2.06 2.06-.94-2.06-.94-.94-2.06-.94 2.06-2.06.94z\"/><path d=\"M17.41 7.96l-1.37-1.37c-.4-.4-.92-.59-1.43-.59-.52 0-1.04.2-1.43.59L10.3 9.45l-7.72 7.72c-.78.78-.78 2.05 0 2.83L4 21.41c.39.39.9.59 1.41.59.51 0 1.02-.2 1.41-.59l7.78-7.78 2.81-2.81c.8-.78.8-2.07 0-2.86zM5.41 20L4 18.59l7.72-7.72 1.47 1.35L5.41 20z\"/>\n",
              "  </svg>\n",
              "      </button>\n",
              "      \n",
              "  <style>\n",
              "    .colab-df-container {\n",
              "      display:flex;\n",
              "      flex-wrap:wrap;\n",
              "      gap: 12px;\n",
              "    }\n",
              "\n",
              "    .colab-df-convert {\n",
              "      background-color: #E8F0FE;\n",
              "      border: none;\n",
              "      border-radius: 50%;\n",
              "      cursor: pointer;\n",
              "      display: none;\n",
              "      fill: #1967D2;\n",
              "      height: 32px;\n",
              "      padding: 0 0 0 0;\n",
              "      width: 32px;\n",
              "    }\n",
              "\n",
              "    .colab-df-convert:hover {\n",
              "      background-color: #E2EBFA;\n",
              "      box-shadow: 0px 1px 2px rgba(60, 64, 67, 0.3), 0px 1px 3px 1px rgba(60, 64, 67, 0.15);\n",
              "      fill: #174EA6;\n",
              "    }\n",
              "\n",
              "    [theme=dark] .colab-df-convert {\n",
              "      background-color: #3B4455;\n",
              "      fill: #D2E3FC;\n",
              "    }\n",
              "\n",
              "    [theme=dark] .colab-df-convert:hover {\n",
              "      background-color: #434B5C;\n",
              "      box-shadow: 0px 1px 3px 1px rgba(0, 0, 0, 0.15);\n",
              "      filter: drop-shadow(0px 1px 2px rgba(0, 0, 0, 0.3));\n",
              "      fill: #FFFFFF;\n",
              "    }\n",
              "  </style>\n",
              "\n",
              "      <script>\n",
              "        const buttonEl =\n",
              "          document.querySelector('#df-ca989fd6-faa5-46d7-acbb-7c0a83b58ee4 button.colab-df-convert');\n",
              "        buttonEl.style.display =\n",
              "          google.colab.kernel.accessAllowed ? 'block' : 'none';\n",
              "\n",
              "        async function convertToInteractive(key) {\n",
              "          const element = document.querySelector('#df-ca989fd6-faa5-46d7-acbb-7c0a83b58ee4');\n",
              "          const dataTable =\n",
              "            await google.colab.kernel.invokeFunction('convertToInteractive',\n",
              "                                                     [key], {});\n",
              "          if (!dataTable) return;\n",
              "\n",
              "          const docLinkHtml = 'Like what you see? Visit the ' +\n",
              "            '<a target=\"_blank\" href=https://colab.research.google.com/notebooks/data_table.ipynb>data table notebook</a>'\n",
              "            + ' to learn more about interactive tables.';\n",
              "          element.innerHTML = '';\n",
              "          dataTable['output_type'] = 'display_data';\n",
              "          await google.colab.output.renderOutput(dataTable, element);\n",
              "          const docLink = document.createElement('div');\n",
              "          docLink.innerHTML = docLinkHtml;\n",
              "          element.appendChild(docLink);\n",
              "        }\n",
              "      </script>\n",
              "    </div>\n",
              "  </div>\n",
              "  "
            ]
          },
          "metadata": {},
          "execution_count": 19
        }
      ],
      "source": [
        "# создадим копию датафрейма с очищенными по дате данными\n",
        "date_threshold = datetime.date(2019, 8, 1)\n",
        "df_filtered = df.query('date >= @date_threshold').reset_index()\n",
        "\n",
        "total_events_filtered = len(df_filtered)\n",
        "total_users_filtered = df_filtered['user_id'].nunique()\n",
        "df_filtered.head()"
      ]
    },
    {
      "cell_type": "code",
      "execution_count": 20,
      "metadata": {
        "colab": {
          "base_uri": "https://localhost:8080/"
        },
        "id": "h-v-bJFQj3OY",
        "outputId": "a708eec7-e135-4d99-a553-dc7f85e75e14"
      },
      "outputs": [
        {
          "output_type": "stream",
          "name": "stdout",
          "text": [
            "Количество событий до фильтрации: 243713, после: 240887. \n",
            "Разница: 2826 (1.16%)\n",
            "Количество пользователей до фильтрации: 7551, после: 7534. \n",
            "Разница: 17 (0.23%)\n"
          ]
        }
      ],
      "source": [
        "print('Количество событий до фильтрации: {}, после: {}. \\nРазница: {} ({}%)' \\\n",
        "      .format(total_events, total_events_filtered, \\\n",
        "              total_events - total_events_filtered, \\\n",
        "              round(100 - total_events_filtered / total_events * 100, 2)))\n",
        "print('Количество пользователей до фильтрации: {}, после: {}. \\nРазница: {} ({}%)' \\\n",
        "      .format(total_users, total_users_filtered, \\\n",
        "              total_users - total_users_filtered, \\\n",
        "              round(100 - total_users_filtered / total_users * 100, 2)))"
      ]
    },
    {
      "cell_type": "markdown",
      "metadata": {
        "id": "hBOytd6_l3pi"
      },
      "source": [
        "Проверим, что у нас есть пользователи из всех трёх экспериментальных групп:"
      ]
    },
    {
      "cell_type": "code",
      "execution_count": 21,
      "metadata": {
        "colab": {
          "base_uri": "https://localhost:8080/"
        },
        "id": "gcHpCQP627eL",
        "outputId": "86d38f73-ba7e-47bf-a426-690948a82da0"
      },
      "outputs": [
        {
          "output_type": "execute_result",
          "data": {
            "text/plain": [
              "group\n",
              "A1    80181\n",
              "A2    77950\n",
              "B     85582\n",
              "Name: event, dtype: int64"
            ]
          },
          "metadata": {},
          "execution_count": 21
        }
      ],
      "source": [
        "# подсчитаем количество событий в каждой экспериментальной группе оригинального датафрейма\n",
        "df_users = df.groupby('group')['event'].count()\n",
        "df_users"
      ]
    },
    {
      "cell_type": "code",
      "execution_count": 22,
      "metadata": {
        "colab": {
          "base_uri": "https://localhost:8080/"
        },
        "id": "dIYtgCgAjtuS",
        "outputId": "abb91f60-8bdd-41b1-fed1-321b2166ac7e"
      },
      "outputs": [
        {
          "output_type": "execute_result",
          "data": {
            "text/plain": [
              "group\n",
              "A1    79302\n",
              "A2    77022\n",
              "B     84563\n",
              "Name: event, dtype: int64"
            ]
          },
          "metadata": {},
          "execution_count": 22
        }
      ],
      "source": [
        "# подсчитаем количество событий в каждой экспериментальной группе отфильтрованного датафрейма\n",
        "df_filtered_groups = df_filtered.groupby('group')['event'].count()\n",
        "df_filtered_groups"
      ]
    },
    {
      "cell_type": "code",
      "execution_count": 23,
      "metadata": {
        "colab": {
          "base_uri": "https://localhost:8080/"
        },
        "id": "rUjv5ALQl9sF",
        "outputId": "31c2ed0a-4759-490f-9992-65c76a44d0a8"
      },
      "outputs": [
        {
          "output_type": "stream",
          "name": "stdout",
          "text": [
            "Потери в группах относительно оригинального датафрейма:        \n",
            "A1: 879 (1.1%) \n",
            "A2: 928 (1.19%) \n",
            "B: 1019 (1.19%)\n"
          ]
        }
      ],
      "source": [
        "# расссчитаем потери данных относительно оригинального датафрейма\n",
        "delta_a1 = df_users[0] - df_filtered_groups[0]\n",
        "delta_a2 = df_users[1] - df_filtered_groups[1]\n",
        "delta_b = df_users[2] - df_filtered_groups[2]\n",
        "\n",
        "\n",
        "print('Потери в группах относительно оригинального датафрейма: \\\n",
        "       \\nA1: {} ({}%) \\nA2: {} ({}%) \\nB: {} ({}%)' \\\n",
        "      .format(delta_a1, round(delta_a1 / df_users[0] * 100, 2), \\\n",
        "              delta_a2, round(delta_a2 / df_users[1] * 100, 2), \\\n",
        "              delta_b, round(delta_b / df_users[2] * 100, 2)))"
      ]
    },
    {
      "cell_type": "markdown",
      "metadata": {
        "id": "12Owdw3-qfiX"
      },
      "source": [
        "**Вывод:**\n",
        "\n",
        "Мы изучили и проверили данные. \n",
        "\n",
        "В начальном датафрейме имеются данные за 14 дней, но только 7 дней подходят для анализа, так как содержат полные данные. Мы собрали новый датафрейм с отфильтрованными данными с даты, когда события стали поступать полноценно.\n",
        "\n",
        "Мы проверили процент потерь данных – он оказался незначительным (не более 1.2%). Потери в тестовых группах также небольшие.\n",
        "\n",
        "Можно приступать к работе с отфильтрованным датафреймом."
      ]
    },
    {
      "cell_type": "markdown",
      "metadata": {
        "id": "HJ7IgFLDrQWi"
      },
      "source": [
        "---"
      ]
    },
    {
      "cell_type": "markdown",
      "metadata": {
        "id": "RxICR2tAqX5j"
      },
      "source": [
        "## Изучение воронки событий\n"
      ]
    },
    {
      "cell_type": "markdown",
      "metadata": {
        "id": "A_O_QdnGqPYs"
      },
      "source": [
        "Посмотрим, какие события есть в логах, как часто они встречаются. \n",
        "\n",
        "Отсортируем события по частоте:"
      ]
    },
    {
      "cell_type": "code",
      "execution_count": 24,
      "metadata": {
        "colab": {
          "base_uri": "https://localhost:8080/",
          "height": 206
        },
        "id": "Treu-HCnvIx5",
        "outputId": "c3b2f9df-e493-4604-f5d0-1630ab72b640"
      },
      "outputs": [
        {
          "output_type": "execute_result",
          "data": {
            "text/plain": [
              "                       event  total_events\n",
              "0         main_screen_appear        117328\n",
              "1       offers_screen_appear         46333\n",
              "2         cart_screen_appear         42303\n",
              "3  payment_screen_successful         33918\n",
              "4                   tutorial          1005"
            ],
            "text/html": [
              "\n",
              "  <div id=\"df-0d3765cc-1d45-4ee4-bf5d-5c216621cb68\">\n",
              "    <div class=\"colab-df-container\">\n",
              "      <div>\n",
              "<style scoped>\n",
              "    .dataframe tbody tr th:only-of-type {\n",
              "        vertical-align: middle;\n",
              "    }\n",
              "\n",
              "    .dataframe tbody tr th {\n",
              "        vertical-align: top;\n",
              "    }\n",
              "\n",
              "    .dataframe thead th {\n",
              "        text-align: right;\n",
              "    }\n",
              "</style>\n",
              "<table border=\"1\" class=\"dataframe\">\n",
              "  <thead>\n",
              "    <tr style=\"text-align: right;\">\n",
              "      <th></th>\n",
              "      <th>event</th>\n",
              "      <th>total_events</th>\n",
              "    </tr>\n",
              "  </thead>\n",
              "  <tbody>\n",
              "    <tr>\n",
              "      <th>0</th>\n",
              "      <td>main_screen_appear</td>\n",
              "      <td>117328</td>\n",
              "    </tr>\n",
              "    <tr>\n",
              "      <th>1</th>\n",
              "      <td>offers_screen_appear</td>\n",
              "      <td>46333</td>\n",
              "    </tr>\n",
              "    <tr>\n",
              "      <th>2</th>\n",
              "      <td>cart_screen_appear</td>\n",
              "      <td>42303</td>\n",
              "    </tr>\n",
              "    <tr>\n",
              "      <th>3</th>\n",
              "      <td>payment_screen_successful</td>\n",
              "      <td>33918</td>\n",
              "    </tr>\n",
              "    <tr>\n",
              "      <th>4</th>\n",
              "      <td>tutorial</td>\n",
              "      <td>1005</td>\n",
              "    </tr>\n",
              "  </tbody>\n",
              "</table>\n",
              "</div>\n",
              "      <button class=\"colab-df-convert\" onclick=\"convertToInteractive('df-0d3765cc-1d45-4ee4-bf5d-5c216621cb68')\"\n",
              "              title=\"Convert this dataframe to an interactive table.\"\n",
              "              style=\"display:none;\">\n",
              "        \n",
              "  <svg xmlns=\"http://www.w3.org/2000/svg\" height=\"24px\"viewBox=\"0 0 24 24\"\n",
              "       width=\"24px\">\n",
              "    <path d=\"M0 0h24v24H0V0z\" fill=\"none\"/>\n",
              "    <path d=\"M18.56 5.44l.94 2.06.94-2.06 2.06-.94-2.06-.94-.94-2.06-.94 2.06-2.06.94zm-11 1L8.5 8.5l.94-2.06 2.06-.94-2.06-.94L8.5 2.5l-.94 2.06-2.06.94zm10 10l.94 2.06.94-2.06 2.06-.94-2.06-.94-.94-2.06-.94 2.06-2.06.94z\"/><path d=\"M17.41 7.96l-1.37-1.37c-.4-.4-.92-.59-1.43-.59-.52 0-1.04.2-1.43.59L10.3 9.45l-7.72 7.72c-.78.78-.78 2.05 0 2.83L4 21.41c.39.39.9.59 1.41.59.51 0 1.02-.2 1.41-.59l7.78-7.78 2.81-2.81c.8-.78.8-2.07 0-2.86zM5.41 20L4 18.59l7.72-7.72 1.47 1.35L5.41 20z\"/>\n",
              "  </svg>\n",
              "      </button>\n",
              "      \n",
              "  <style>\n",
              "    .colab-df-container {\n",
              "      display:flex;\n",
              "      flex-wrap:wrap;\n",
              "      gap: 12px;\n",
              "    }\n",
              "\n",
              "    .colab-df-convert {\n",
              "      background-color: #E8F0FE;\n",
              "      border: none;\n",
              "      border-radius: 50%;\n",
              "      cursor: pointer;\n",
              "      display: none;\n",
              "      fill: #1967D2;\n",
              "      height: 32px;\n",
              "      padding: 0 0 0 0;\n",
              "      width: 32px;\n",
              "    }\n",
              "\n",
              "    .colab-df-convert:hover {\n",
              "      background-color: #E2EBFA;\n",
              "      box-shadow: 0px 1px 2px rgba(60, 64, 67, 0.3), 0px 1px 3px 1px rgba(60, 64, 67, 0.15);\n",
              "      fill: #174EA6;\n",
              "    }\n",
              "\n",
              "    [theme=dark] .colab-df-convert {\n",
              "      background-color: #3B4455;\n",
              "      fill: #D2E3FC;\n",
              "    }\n",
              "\n",
              "    [theme=dark] .colab-df-convert:hover {\n",
              "      background-color: #434B5C;\n",
              "      box-shadow: 0px 1px 3px 1px rgba(0, 0, 0, 0.15);\n",
              "      filter: drop-shadow(0px 1px 2px rgba(0, 0, 0, 0.3));\n",
              "      fill: #FFFFFF;\n",
              "    }\n",
              "  </style>\n",
              "\n",
              "      <script>\n",
              "        const buttonEl =\n",
              "          document.querySelector('#df-0d3765cc-1d45-4ee4-bf5d-5c216621cb68 button.colab-df-convert');\n",
              "        buttonEl.style.display =\n",
              "          google.colab.kernel.accessAllowed ? 'block' : 'none';\n",
              "\n",
              "        async function convertToInteractive(key) {\n",
              "          const element = document.querySelector('#df-0d3765cc-1d45-4ee4-bf5d-5c216621cb68');\n",
              "          const dataTable =\n",
              "            await google.colab.kernel.invokeFunction('convertToInteractive',\n",
              "                                                     [key], {});\n",
              "          if (!dataTable) return;\n",
              "\n",
              "          const docLinkHtml = 'Like what you see? Visit the ' +\n",
              "            '<a target=\"_blank\" href=https://colab.research.google.com/notebooks/data_table.ipynb>data table notebook</a>'\n",
              "            + ' to learn more about interactive tables.';\n",
              "          element.innerHTML = '';\n",
              "          dataTable['output_type'] = 'display_data';\n",
              "          await google.colab.output.renderOutput(dataTable, element);\n",
              "          const docLink = document.createElement('div');\n",
              "          docLink.innerHTML = docLinkHtml;\n",
              "          element.appendChild(docLink);\n",
              "        }\n",
              "      </script>\n",
              "    </div>\n",
              "  </div>\n",
              "  "
            ]
          },
          "metadata": {},
          "execution_count": 24
        }
      ],
      "source": [
        "# сгруппируем данные событиям с сортировкой по частоте\n",
        "events_count = df_filtered \\\n",
        "              .groupby(['event']) \\\n",
        "              .agg({'timestamp' : 'count'}) \\\n",
        "              .rename(columns=({'timestamp' : 'total_events'})) \\\n",
        "              .sort_values(by='total_events', ascending=False) \\\n",
        "              .reset_index()\n",
        "              \n",
        "events_count"
      ]
    },
    {
      "cell_type": "markdown",
      "metadata": {
        "id": "4k6N0_fJ1cUh"
      },
      "source": [
        "Всего имеется 5 типов событий. Самое частое – `main_screen_appear`."
      ]
    },
    {
      "cell_type": "markdown",
      "metadata": {
        "id": "9AM5Xgl7uHAa"
      },
      "source": [
        "Посчитаем, сколько пользователей совершали каждое из этих событий. \n",
        "\n",
        "Отсортируем события по числу пользователей. \n",
        "\n",
        "Посчитаем долю пользователей, которые хоть раз совершали событие."
      ]
    },
    {
      "cell_type": "code",
      "execution_count": 25,
      "metadata": {
        "id": "4UYxxOT7t_7K",
        "outputId": "ee63e7d7-1acd-4d13-a322-f27716c3f16f",
        "colab": {
          "base_uri": "https://localhost:8080/",
          "height": 206
        }
      },
      "outputs": [
        {
          "output_type": "execute_result",
          "data": {
            "text/plain": [
              "                       event  total_users  percent_initial  percent_previous  \\\n",
              "0         main_screen_appear         7419           100.00            100.00   \n",
              "1       offers_screen_appear         4593            61.91             61.91   \n",
              "2         cart_screen_appear         3734            50.33             81.30   \n",
              "3  payment_screen_successful         3539            47.70             94.78   \n",
              "4                   tutorial          840            11.32             23.74   \n",
              "\n",
              "   percent_total  \n",
              "0          98.25  \n",
              "1          60.83  \n",
              "2          49.45  \n",
              "3          46.87  \n",
              "4          11.12  "
            ],
            "text/html": [
              "\n",
              "  <div id=\"df-c9743be0-9861-4931-a6da-2d5b8e5eddb8\">\n",
              "    <div class=\"colab-df-container\">\n",
              "      <div>\n",
              "<style scoped>\n",
              "    .dataframe tbody tr th:only-of-type {\n",
              "        vertical-align: middle;\n",
              "    }\n",
              "\n",
              "    .dataframe tbody tr th {\n",
              "        vertical-align: top;\n",
              "    }\n",
              "\n",
              "    .dataframe thead th {\n",
              "        text-align: right;\n",
              "    }\n",
              "</style>\n",
              "<table border=\"1\" class=\"dataframe\">\n",
              "  <thead>\n",
              "    <tr style=\"text-align: right;\">\n",
              "      <th></th>\n",
              "      <th>event</th>\n",
              "      <th>total_users</th>\n",
              "      <th>percent_initial</th>\n",
              "      <th>percent_previous</th>\n",
              "      <th>percent_total</th>\n",
              "    </tr>\n",
              "  </thead>\n",
              "  <tbody>\n",
              "    <tr>\n",
              "      <th>0</th>\n",
              "      <td>main_screen_appear</td>\n",
              "      <td>7419</td>\n",
              "      <td>100.00</td>\n",
              "      <td>100.00</td>\n",
              "      <td>98.25</td>\n",
              "    </tr>\n",
              "    <tr>\n",
              "      <th>1</th>\n",
              "      <td>offers_screen_appear</td>\n",
              "      <td>4593</td>\n",
              "      <td>61.91</td>\n",
              "      <td>61.91</td>\n",
              "      <td>60.83</td>\n",
              "    </tr>\n",
              "    <tr>\n",
              "      <th>2</th>\n",
              "      <td>cart_screen_appear</td>\n",
              "      <td>3734</td>\n",
              "      <td>50.33</td>\n",
              "      <td>81.30</td>\n",
              "      <td>49.45</td>\n",
              "    </tr>\n",
              "    <tr>\n",
              "      <th>3</th>\n",
              "      <td>payment_screen_successful</td>\n",
              "      <td>3539</td>\n",
              "      <td>47.70</td>\n",
              "      <td>94.78</td>\n",
              "      <td>46.87</td>\n",
              "    </tr>\n",
              "    <tr>\n",
              "      <th>4</th>\n",
              "      <td>tutorial</td>\n",
              "      <td>840</td>\n",
              "      <td>11.32</td>\n",
              "      <td>23.74</td>\n",
              "      <td>11.12</td>\n",
              "    </tr>\n",
              "  </tbody>\n",
              "</table>\n",
              "</div>\n",
              "      <button class=\"colab-df-convert\" onclick=\"convertToInteractive('df-c9743be0-9861-4931-a6da-2d5b8e5eddb8')\"\n",
              "              title=\"Convert this dataframe to an interactive table.\"\n",
              "              style=\"display:none;\">\n",
              "        \n",
              "  <svg xmlns=\"http://www.w3.org/2000/svg\" height=\"24px\"viewBox=\"0 0 24 24\"\n",
              "       width=\"24px\">\n",
              "    <path d=\"M0 0h24v24H0V0z\" fill=\"none\"/>\n",
              "    <path d=\"M18.56 5.44l.94 2.06.94-2.06 2.06-.94-2.06-.94-.94-2.06-.94 2.06-2.06.94zm-11 1L8.5 8.5l.94-2.06 2.06-.94-2.06-.94L8.5 2.5l-.94 2.06-2.06.94zm10 10l.94 2.06.94-2.06 2.06-.94-2.06-.94-.94-2.06-.94 2.06-2.06.94z\"/><path d=\"M17.41 7.96l-1.37-1.37c-.4-.4-.92-.59-1.43-.59-.52 0-1.04.2-1.43.59L10.3 9.45l-7.72 7.72c-.78.78-.78 2.05 0 2.83L4 21.41c.39.39.9.59 1.41.59.51 0 1.02-.2 1.41-.59l7.78-7.78 2.81-2.81c.8-.78.8-2.07 0-2.86zM5.41 20L4 18.59l7.72-7.72 1.47 1.35L5.41 20z\"/>\n",
              "  </svg>\n",
              "      </button>\n",
              "      \n",
              "  <style>\n",
              "    .colab-df-container {\n",
              "      display:flex;\n",
              "      flex-wrap:wrap;\n",
              "      gap: 12px;\n",
              "    }\n",
              "\n",
              "    .colab-df-convert {\n",
              "      background-color: #E8F0FE;\n",
              "      border: none;\n",
              "      border-radius: 50%;\n",
              "      cursor: pointer;\n",
              "      display: none;\n",
              "      fill: #1967D2;\n",
              "      height: 32px;\n",
              "      padding: 0 0 0 0;\n",
              "      width: 32px;\n",
              "    }\n",
              "\n",
              "    .colab-df-convert:hover {\n",
              "      background-color: #E2EBFA;\n",
              "      box-shadow: 0px 1px 2px rgba(60, 64, 67, 0.3), 0px 1px 3px 1px rgba(60, 64, 67, 0.15);\n",
              "      fill: #174EA6;\n",
              "    }\n",
              "\n",
              "    [theme=dark] .colab-df-convert {\n",
              "      background-color: #3B4455;\n",
              "      fill: #D2E3FC;\n",
              "    }\n",
              "\n",
              "    [theme=dark] .colab-df-convert:hover {\n",
              "      background-color: #434B5C;\n",
              "      box-shadow: 0px 1px 3px 1px rgba(0, 0, 0, 0.15);\n",
              "      filter: drop-shadow(0px 1px 2px rgba(0, 0, 0, 0.3));\n",
              "      fill: #FFFFFF;\n",
              "    }\n",
              "  </style>\n",
              "\n",
              "      <script>\n",
              "        const buttonEl =\n",
              "          document.querySelector('#df-c9743be0-9861-4931-a6da-2d5b8e5eddb8 button.colab-df-convert');\n",
              "        buttonEl.style.display =\n",
              "          google.colab.kernel.accessAllowed ? 'block' : 'none';\n",
              "\n",
              "        async function convertToInteractive(key) {\n",
              "          const element = document.querySelector('#df-c9743be0-9861-4931-a6da-2d5b8e5eddb8');\n",
              "          const dataTable =\n",
              "            await google.colab.kernel.invokeFunction('convertToInteractive',\n",
              "                                                     [key], {});\n",
              "          if (!dataTable) return;\n",
              "\n",
              "          const docLinkHtml = 'Like what you see? Visit the ' +\n",
              "            '<a target=\"_blank\" href=https://colab.research.google.com/notebooks/data_table.ipynb>data table notebook</a>'\n",
              "            + ' to learn more about interactive tables.';\n",
              "          element.innerHTML = '';\n",
              "          dataTable['output_type'] = 'display_data';\n",
              "          await google.colab.output.renderOutput(dataTable, element);\n",
              "          const docLink = document.createElement('div');\n",
              "          docLink.innerHTML = docLinkHtml;\n",
              "          element.appendChild(docLink);\n",
              "        }\n",
              "      </script>\n",
              "    </div>\n",
              "  </div>\n",
              "  "
            ]
          },
          "metadata": {},
          "execution_count": 25
        }
      ],
      "source": [
        "# сгруппируем данные по событиям и количеству пользователей с сортировкой\n",
        "events_by_users = df_filtered \\\n",
        "    .groupby(['event']) \\\n",
        "    .agg({'user_id' : 'nunique'}) \\\n",
        "    .rename(columns=({'user_id' : 'total_users'})) \\\n",
        "    .sort_values(by='total_users', ascending=False) \\\n",
        "    .reset_index()\n",
        "\n",
        "# добавим столбцы с процентными соотношениями шагов воронки\n",
        "events_by_users['percent_initial'] = events_by_users['total_users'] \\\n",
        "    .apply(lambda x: (x/events_by_users['total_users'][0]*100))\n",
        "\n",
        "events_by_users['percent_previous'] = (events_by_users['total_users'] \\\n",
        "                                            / events_by_users['total_users'].shift() * 100)\n",
        "events_by_users['percent_previous'][0]=100\n",
        "events_by_users['percent_previous']=events_by_users['percent_previous']\n",
        "\n",
        "events_by_users['percent_total'] = events_by_users['total_users'] \\\n",
        "    .apply(lambda x: (x/total_users*100))\n",
        "\n",
        "\n",
        "events_by_users"
      ]
    },
    {
      "cell_type": "markdown",
      "metadata": {
        "id": "xfjUMJwqBNEW"
      },
      "source": [
        "Изучим воронку событий:"
      ]
    },
    {
      "cell_type": "code",
      "execution_count": 26,
      "metadata": {
        "colab": {
          "base_uri": "https://localhost:8080/",
          "height": 617
        },
        "id": "1EK57Jwi3R3m",
        "outputId": "2ebe76e2-59fa-4cec-8059-ddcfed3573f9"
      },
      "outputs": [
        {
          "output_type": "display_data",
          "data": {
            "text/html": [
              "<html>\n",
              "<head><meta charset=\"utf-8\" /></head>\n",
              "<body>\n",
              "    <div>            <script src=\"https://cdnjs.cloudflare.com/ajax/libs/mathjax/2.7.5/MathJax.js?config=TeX-AMS-MML_SVG\"></script><script type=\"text/javascript\">if (window.MathJax) {MathJax.Hub.Config({SVG: {font: \"STIX-Web\"}});}</script>                <script type=\"text/javascript\">window.PlotlyConfig = {MathJaxConfig: 'local'};</script>\n",
              "        <script src=\"https://cdn.plot.ly/plotly-2.8.3.min.js\"></script>                <div id=\"bbd7a01e-e7e4-4969-a26a-710c47494a17\" class=\"plotly-graph-div\" style=\"height:600px; width:1100px;\"></div>            <script type=\"text/javascript\">                                    window.PLOTLYENV=window.PLOTLYENV || {};                                    if (document.getElementById(\"bbd7a01e-e7e4-4969-a26a-710c47494a17\")) {                    Plotly.newPlot(                        \"bbd7a01e-e7e4-4969-a26a-710c47494a17\",                        [{\"textinfo\":\"value+percent initial+percent previous+percent total\",\"textposition\":\"inside\",\"x\":[7419,4593,3734,3539,840],\"y\":[\"main_screen_appear\",\"offers_screen_appear\",\"cart_screen_appear\",\"payment_screen_successful\",\"tutorial\"],\"type\":\"funnel\"}],                        {\"template\":{\"data\":{\"bar\":[{\"error_x\":{\"color\":\"#2a3f5f\"},\"error_y\":{\"color\":\"#2a3f5f\"},\"marker\":{\"line\":{\"color\":\"#E5ECF6\",\"width\":0.5},\"pattern\":{\"fillmode\":\"overlay\",\"size\":10,\"solidity\":0.2}},\"type\":\"bar\"}],\"barpolar\":[{\"marker\":{\"line\":{\"color\":\"#E5ECF6\",\"width\":0.5},\"pattern\":{\"fillmode\":\"overlay\",\"size\":10,\"solidity\":0.2}},\"type\":\"barpolar\"}],\"carpet\":[{\"aaxis\":{\"endlinecolor\":\"#2a3f5f\",\"gridcolor\":\"white\",\"linecolor\":\"white\",\"minorgridcolor\":\"white\",\"startlinecolor\":\"#2a3f5f\"},\"baxis\":{\"endlinecolor\":\"#2a3f5f\",\"gridcolor\":\"white\",\"linecolor\":\"white\",\"minorgridcolor\":\"white\",\"startlinecolor\":\"#2a3f5f\"},\"type\":\"carpet\"}],\"choropleth\":[{\"colorbar\":{\"outlinewidth\":0,\"ticks\":\"\"},\"type\":\"choropleth\"}],\"contour\":[{\"colorbar\":{\"outlinewidth\":0,\"ticks\":\"\"},\"colorscale\":[[0.0,\"#0d0887\"],[0.1111111111111111,\"#46039f\"],[0.2222222222222222,\"#7201a8\"],[0.3333333333333333,\"#9c179e\"],[0.4444444444444444,\"#bd3786\"],[0.5555555555555556,\"#d8576b\"],[0.6666666666666666,\"#ed7953\"],[0.7777777777777778,\"#fb9f3a\"],[0.8888888888888888,\"#fdca26\"],[1.0,\"#f0f921\"]],\"type\":\"contour\"}],\"contourcarpet\":[{\"colorbar\":{\"outlinewidth\":0,\"ticks\":\"\"},\"type\":\"contourcarpet\"}],\"heatmap\":[{\"colorbar\":{\"outlinewidth\":0,\"ticks\":\"\"},\"colorscale\":[[0.0,\"#0d0887\"],[0.1111111111111111,\"#46039f\"],[0.2222222222222222,\"#7201a8\"],[0.3333333333333333,\"#9c179e\"],[0.4444444444444444,\"#bd3786\"],[0.5555555555555556,\"#d8576b\"],[0.6666666666666666,\"#ed7953\"],[0.7777777777777778,\"#fb9f3a\"],[0.8888888888888888,\"#fdca26\"],[1.0,\"#f0f921\"]],\"type\":\"heatmap\"}],\"heatmapgl\":[{\"colorbar\":{\"outlinewidth\":0,\"ticks\":\"\"},\"colorscale\":[[0.0,\"#0d0887\"],[0.1111111111111111,\"#46039f\"],[0.2222222222222222,\"#7201a8\"],[0.3333333333333333,\"#9c179e\"],[0.4444444444444444,\"#bd3786\"],[0.5555555555555556,\"#d8576b\"],[0.6666666666666666,\"#ed7953\"],[0.7777777777777778,\"#fb9f3a\"],[0.8888888888888888,\"#fdca26\"],[1.0,\"#f0f921\"]],\"type\":\"heatmapgl\"}],\"histogram\":[{\"marker\":{\"pattern\":{\"fillmode\":\"overlay\",\"size\":10,\"solidity\":0.2}},\"type\":\"histogram\"}],\"histogram2d\":[{\"colorbar\":{\"outlinewidth\":0,\"ticks\":\"\"},\"colorscale\":[[0.0,\"#0d0887\"],[0.1111111111111111,\"#46039f\"],[0.2222222222222222,\"#7201a8\"],[0.3333333333333333,\"#9c179e\"],[0.4444444444444444,\"#bd3786\"],[0.5555555555555556,\"#d8576b\"],[0.6666666666666666,\"#ed7953\"],[0.7777777777777778,\"#fb9f3a\"],[0.8888888888888888,\"#fdca26\"],[1.0,\"#f0f921\"]],\"type\":\"histogram2d\"}],\"histogram2dcontour\":[{\"colorbar\":{\"outlinewidth\":0,\"ticks\":\"\"},\"colorscale\":[[0.0,\"#0d0887\"],[0.1111111111111111,\"#46039f\"],[0.2222222222222222,\"#7201a8\"],[0.3333333333333333,\"#9c179e\"],[0.4444444444444444,\"#bd3786\"],[0.5555555555555556,\"#d8576b\"],[0.6666666666666666,\"#ed7953\"],[0.7777777777777778,\"#fb9f3a\"],[0.8888888888888888,\"#fdca26\"],[1.0,\"#f0f921\"]],\"type\":\"histogram2dcontour\"}],\"mesh3d\":[{\"colorbar\":{\"outlinewidth\":0,\"ticks\":\"\"},\"type\":\"mesh3d\"}],\"parcoords\":[{\"line\":{\"colorbar\":{\"outlinewidth\":0,\"ticks\":\"\"}},\"type\":\"parcoords\"}],\"pie\":[{\"automargin\":true,\"type\":\"pie\"}],\"scatter\":[{\"marker\":{\"colorbar\":{\"outlinewidth\":0,\"ticks\":\"\"}},\"type\":\"scatter\"}],\"scatter3d\":[{\"line\":{\"colorbar\":{\"outlinewidth\":0,\"ticks\":\"\"}},\"marker\":{\"colorbar\":{\"outlinewidth\":0,\"ticks\":\"\"}},\"type\":\"scatter3d\"}],\"scattercarpet\":[{\"marker\":{\"colorbar\":{\"outlinewidth\":0,\"ticks\":\"\"}},\"type\":\"scattercarpet\"}],\"scattergeo\":[{\"marker\":{\"colorbar\":{\"outlinewidth\":0,\"ticks\":\"\"}},\"type\":\"scattergeo\"}],\"scattergl\":[{\"marker\":{\"colorbar\":{\"outlinewidth\":0,\"ticks\":\"\"}},\"type\":\"scattergl\"}],\"scattermapbox\":[{\"marker\":{\"colorbar\":{\"outlinewidth\":0,\"ticks\":\"\"}},\"type\":\"scattermapbox\"}],\"scatterpolar\":[{\"marker\":{\"colorbar\":{\"outlinewidth\":0,\"ticks\":\"\"}},\"type\":\"scatterpolar\"}],\"scatterpolargl\":[{\"marker\":{\"colorbar\":{\"outlinewidth\":0,\"ticks\":\"\"}},\"type\":\"scatterpolargl\"}],\"scatterternary\":[{\"marker\":{\"colorbar\":{\"outlinewidth\":0,\"ticks\":\"\"}},\"type\":\"scatterternary\"}],\"surface\":[{\"colorbar\":{\"outlinewidth\":0,\"ticks\":\"\"},\"colorscale\":[[0.0,\"#0d0887\"],[0.1111111111111111,\"#46039f\"],[0.2222222222222222,\"#7201a8\"],[0.3333333333333333,\"#9c179e\"],[0.4444444444444444,\"#bd3786\"],[0.5555555555555556,\"#d8576b\"],[0.6666666666666666,\"#ed7953\"],[0.7777777777777778,\"#fb9f3a\"],[0.8888888888888888,\"#fdca26\"],[1.0,\"#f0f921\"]],\"type\":\"surface\"}],\"table\":[{\"cells\":{\"fill\":{\"color\":\"#EBF0F8\"},\"line\":{\"color\":\"white\"}},\"header\":{\"fill\":{\"color\":\"#C8D4E3\"},\"line\":{\"color\":\"white\"}},\"type\":\"table\"}]},\"layout\":{\"annotationdefaults\":{\"arrowcolor\":\"#2a3f5f\",\"arrowhead\":0,\"arrowwidth\":1},\"autotypenumbers\":\"strict\",\"coloraxis\":{\"colorbar\":{\"outlinewidth\":0,\"ticks\":\"\"}},\"colorscale\":{\"diverging\":[[0,\"#8e0152\"],[0.1,\"#c51b7d\"],[0.2,\"#de77ae\"],[0.3,\"#f1b6da\"],[0.4,\"#fde0ef\"],[0.5,\"#f7f7f7\"],[0.6,\"#e6f5d0\"],[0.7,\"#b8e186\"],[0.8,\"#7fbc41\"],[0.9,\"#4d9221\"],[1,\"#276419\"]],\"sequential\":[[0.0,\"#0d0887\"],[0.1111111111111111,\"#46039f\"],[0.2222222222222222,\"#7201a8\"],[0.3333333333333333,\"#9c179e\"],[0.4444444444444444,\"#bd3786\"],[0.5555555555555556,\"#d8576b\"],[0.6666666666666666,\"#ed7953\"],[0.7777777777777778,\"#fb9f3a\"],[0.8888888888888888,\"#fdca26\"],[1.0,\"#f0f921\"]],\"sequentialminus\":[[0.0,\"#0d0887\"],[0.1111111111111111,\"#46039f\"],[0.2222222222222222,\"#7201a8\"],[0.3333333333333333,\"#9c179e\"],[0.4444444444444444,\"#bd3786\"],[0.5555555555555556,\"#d8576b\"],[0.6666666666666666,\"#ed7953\"],[0.7777777777777778,\"#fb9f3a\"],[0.8888888888888888,\"#fdca26\"],[1.0,\"#f0f921\"]]},\"colorway\":[\"#636efa\",\"#EF553B\",\"#00cc96\",\"#ab63fa\",\"#FFA15A\",\"#19d3f3\",\"#FF6692\",\"#B6E880\",\"#FF97FF\",\"#FECB52\"],\"font\":{\"color\":\"#2a3f5f\"},\"geo\":{\"bgcolor\":\"white\",\"lakecolor\":\"white\",\"landcolor\":\"#E5ECF6\",\"showlakes\":true,\"showland\":true,\"subunitcolor\":\"white\"},\"hoverlabel\":{\"align\":\"left\"},\"hovermode\":\"closest\",\"mapbox\":{\"style\":\"light\"},\"paper_bgcolor\":\"white\",\"plot_bgcolor\":\"#E5ECF6\",\"polar\":{\"angularaxis\":{\"gridcolor\":\"white\",\"linecolor\":\"white\",\"ticks\":\"\"},\"bgcolor\":\"#E5ECF6\",\"radialaxis\":{\"gridcolor\":\"white\",\"linecolor\":\"white\",\"ticks\":\"\"}},\"scene\":{\"xaxis\":{\"backgroundcolor\":\"#E5ECF6\",\"gridcolor\":\"white\",\"gridwidth\":2,\"linecolor\":\"white\",\"showbackground\":true,\"ticks\":\"\",\"zerolinecolor\":\"white\"},\"yaxis\":{\"backgroundcolor\":\"#E5ECF6\",\"gridcolor\":\"white\",\"gridwidth\":2,\"linecolor\":\"white\",\"showbackground\":true,\"ticks\":\"\",\"zerolinecolor\":\"white\"},\"zaxis\":{\"backgroundcolor\":\"#E5ECF6\",\"gridcolor\":\"white\",\"gridwidth\":2,\"linecolor\":\"white\",\"showbackground\":true,\"ticks\":\"\",\"zerolinecolor\":\"white\"}},\"shapedefaults\":{\"line\":{\"color\":\"#2a3f5f\"}},\"ternary\":{\"aaxis\":{\"gridcolor\":\"white\",\"linecolor\":\"white\",\"ticks\":\"\"},\"baxis\":{\"gridcolor\":\"white\",\"linecolor\":\"white\",\"ticks\":\"\"},\"bgcolor\":\"#E5ECF6\",\"caxis\":{\"gridcolor\":\"white\",\"linecolor\":\"white\",\"ticks\":\"\"}},\"title\":{\"x\":0.05},\"xaxis\":{\"automargin\":true,\"gridcolor\":\"white\",\"linecolor\":\"white\",\"ticks\":\"\",\"title\":{\"standoff\":15},\"zerolinecolor\":\"white\",\"zerolinewidth\":2},\"yaxis\":{\"automargin\":true,\"gridcolor\":\"white\",\"linecolor\":\"white\",\"ticks\":\"\",\"title\":{\"standoff\":15},\"zerolinecolor\":\"white\",\"zerolinewidth\":2}}},\"autosize\":false,\"width\":1100,\"height\":600,\"title\":{\"text\":\"\\u0412\\u043e\\u0440\\u043e\\u043d\\u043a\\u0430 \\u0432\\u0441\\u0435\\u0445 \\u0441\\u043e\\u0431\\u044b\\u0442\\u0438\\u0439 \\u0441 \\u0440\\u0430\\u0441\\u0447\\u0435\\u0442\\u043e\\u043c \\u0434\\u043e\\u043b\\u0438 \\u0448\\u0430\\u0433\\u043e\\u0432\"}},                        {\"responsive\": true}                    ).then(function(){\n",
              "                            \n",
              "var gd = document.getElementById('bbd7a01e-e7e4-4969-a26a-710c47494a17');\n",
              "var x = new MutationObserver(function (mutations, observer) {{\n",
              "        var display = window.getComputedStyle(gd).display;\n",
              "        if (!display || display === 'none') {{\n",
              "            console.log([gd, 'removed!']);\n",
              "            Plotly.purge(gd);\n",
              "            observer.disconnect();\n",
              "        }}\n",
              "}});\n",
              "\n",
              "// Listen for the removal of the full notebook cells\n",
              "var notebookContainer = gd.closest('#notebook-container');\n",
              "if (notebookContainer) {{\n",
              "    x.observe(notebookContainer, {childList: true});\n",
              "}}\n",
              "\n",
              "// Listen for the clearing of the current output cell\n",
              "var outputEl = gd.closest('.output');\n",
              "if (outputEl) {{\n",
              "    x.observe(outputEl, {childList: true});\n",
              "}}\n",
              "\n",
              "                        })                };                            </script>        </div>\n",
              "</body>\n",
              "</html>"
            ]
          },
          "metadata": {}
        }
      ],
      "source": [
        "# построим интерактивную воронку событий\n",
        "fig = go.Figure(\n",
        "    go.Funnel(\n",
        "        y=events_by_users['event'].unique(),\n",
        "        x=events_by_users['total_users'].unique(),\n",
        "        textposition = 'inside',\n",
        "        textinfo = 'value+percent initial+percent previous+percent total')\n",
        "    )\n",
        "\n",
        "fig.update_layout(\n",
        "    autosize=False,\n",
        "    width=1100,\n",
        "    height=600,\n",
        "    title='Воронка всех событий с расчетом доли шагов')\n",
        "\n",
        "fig.show() "
      ]
    },
    {
      "cell_type": "markdown",
      "source": [
        "![Screenshot 2022-10-20 at 13.44.29.png](data:image/png;base64,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)"
      ],
      "metadata": {
        "id": "q-7o5Yx8_qC_"
      }
    },
    {
      "cell_type": "markdown",
      "metadata": {
        "id": "D_VKyEXN9LfZ"
      },
      "source": [
        "Предположим, что последовательность событий для пользователя может быть такой:\n",
        "\n",
        "1. `main_screen_appear` – показ главного экрана приложения\n",
        "2. `tutorial` – прохождение (завершение?) обучалки (онбординг приложения, который можно пропустить)\n",
        "3. `offers_screen_appear` – показ экрана со спецпредложением\n",
        "4. `cart_screen_appear` – показ корзины\n",
        "5. `payment_screen_successful` – показ экрана успешной оплаты заказа\n",
        "\n",
        "\n",
        "Записи со срабатыванием события `tutorial` можно исключить из анализа, так как оно не является обязательным для оценки конверсии и, судя по количеству срабатываний, его часто пропускают."
      ]
    },
    {
      "cell_type": "markdown",
      "metadata": {
        "id": "ia5AYX7BAOjz"
      },
      "source": [
        "По воронке событий можно увидеть, какая доля пользователей проходит на следующий шаг воронки (от числа пользователей на предыдущем).\n",
        "\n",
        "Для просмотра отфильтрум датасет от события `tutorial` и просмотрим оставшиеся шаги:"
      ]
    },
    {
      "cell_type": "code",
      "execution_count": 27,
      "metadata": {
        "colab": {
          "base_uri": "https://localhost:8080/",
          "height": 617
        },
        "id": "HE729D1P3CcF",
        "outputId": "2e5663f0-c21e-4ffd-8073-8991fd26cc98"
      },
      "outputs": [
        {
          "output_type": "display_data",
          "data": {
            "text/html": [
              "<html>\n",
              "<head><meta charset=\"utf-8\" /></head>\n",
              "<body>\n",
              "    <div>            <script src=\"https://cdnjs.cloudflare.com/ajax/libs/mathjax/2.7.5/MathJax.js?config=TeX-AMS-MML_SVG\"></script><script type=\"text/javascript\">if (window.MathJax) {MathJax.Hub.Config({SVG: {font: \"STIX-Web\"}});}</script>                <script type=\"text/javascript\">window.PlotlyConfig = {MathJaxConfig: 'local'};</script>\n",
              "        <script src=\"https://cdn.plot.ly/plotly-2.8.3.min.js\"></script>                <div id=\"51d02a1c-8bed-416f-804e-ed2ff652f615\" class=\"plotly-graph-div\" style=\"height:600px; width:1100px;\"></div>            <script type=\"text/javascript\">                                    window.PLOTLYENV=window.PLOTLYENV || {};                                    if (document.getElementById(\"51d02a1c-8bed-416f-804e-ed2ff652f615\")) {                    Plotly.newPlot(                        \"51d02a1c-8bed-416f-804e-ed2ff652f615\",                        [{\"marker\":{\"color\":\"indigo\"},\"textinfo\":\"value+percent initial+percent previous+percent total\",\"textposition\":\"inside\",\"x\":[7419,4593,3734,3539],\"y\":[\"main_screen_appear\",\"offers_screen_appear\",\"cart_screen_appear\",\"payment_screen_successful\"],\"type\":\"funnel\"}],                        {\"template\":{\"data\":{\"bar\":[{\"error_x\":{\"color\":\"#2a3f5f\"},\"error_y\":{\"color\":\"#2a3f5f\"},\"marker\":{\"line\":{\"color\":\"#E5ECF6\",\"width\":0.5},\"pattern\":{\"fillmode\":\"overlay\",\"size\":10,\"solidity\":0.2}},\"type\":\"bar\"}],\"barpolar\":[{\"marker\":{\"line\":{\"color\":\"#E5ECF6\",\"width\":0.5},\"pattern\":{\"fillmode\":\"overlay\",\"size\":10,\"solidity\":0.2}},\"type\":\"barpolar\"}],\"carpet\":[{\"aaxis\":{\"endlinecolor\":\"#2a3f5f\",\"gridcolor\":\"white\",\"linecolor\":\"white\",\"minorgridcolor\":\"white\",\"startlinecolor\":\"#2a3f5f\"},\"baxis\":{\"endlinecolor\":\"#2a3f5f\",\"gridcolor\":\"white\",\"linecolor\":\"white\",\"minorgridcolor\":\"white\",\"startlinecolor\":\"#2a3f5f\"},\"type\":\"carpet\"}],\"choropleth\":[{\"colorbar\":{\"outlinewidth\":0,\"ticks\":\"\"},\"type\":\"choropleth\"}],\"contour\":[{\"colorbar\":{\"outlinewidth\":0,\"ticks\":\"\"},\"colorscale\":[[0.0,\"#0d0887\"],[0.1111111111111111,\"#46039f\"],[0.2222222222222222,\"#7201a8\"],[0.3333333333333333,\"#9c179e\"],[0.4444444444444444,\"#bd3786\"],[0.5555555555555556,\"#d8576b\"],[0.6666666666666666,\"#ed7953\"],[0.7777777777777778,\"#fb9f3a\"],[0.8888888888888888,\"#fdca26\"],[1.0,\"#f0f921\"]],\"type\":\"contour\"}],\"contourcarpet\":[{\"colorbar\":{\"outlinewidth\":0,\"ticks\":\"\"},\"type\":\"contourcarpet\"}],\"heatmap\":[{\"colorbar\":{\"outlinewidth\":0,\"ticks\":\"\"},\"colorscale\":[[0.0,\"#0d0887\"],[0.1111111111111111,\"#46039f\"],[0.2222222222222222,\"#7201a8\"],[0.3333333333333333,\"#9c179e\"],[0.4444444444444444,\"#bd3786\"],[0.5555555555555556,\"#d8576b\"],[0.6666666666666666,\"#ed7953\"],[0.7777777777777778,\"#fb9f3a\"],[0.8888888888888888,\"#fdca26\"],[1.0,\"#f0f921\"]],\"type\":\"heatmap\"}],\"heatmapgl\":[{\"colorbar\":{\"outlinewidth\":0,\"ticks\":\"\"},\"colorscale\":[[0.0,\"#0d0887\"],[0.1111111111111111,\"#46039f\"],[0.2222222222222222,\"#7201a8\"],[0.3333333333333333,\"#9c179e\"],[0.4444444444444444,\"#bd3786\"],[0.5555555555555556,\"#d8576b\"],[0.6666666666666666,\"#ed7953\"],[0.7777777777777778,\"#fb9f3a\"],[0.8888888888888888,\"#fdca26\"],[1.0,\"#f0f921\"]],\"type\":\"heatmapgl\"}],\"histogram\":[{\"marker\":{\"pattern\":{\"fillmode\":\"overlay\",\"size\":10,\"solidity\":0.2}},\"type\":\"histogram\"}],\"histogram2d\":[{\"colorbar\":{\"outlinewidth\":0,\"ticks\":\"\"},\"colorscale\":[[0.0,\"#0d0887\"],[0.1111111111111111,\"#46039f\"],[0.2222222222222222,\"#7201a8\"],[0.3333333333333333,\"#9c179e\"],[0.4444444444444444,\"#bd3786\"],[0.5555555555555556,\"#d8576b\"],[0.6666666666666666,\"#ed7953\"],[0.7777777777777778,\"#fb9f3a\"],[0.8888888888888888,\"#fdca26\"],[1.0,\"#f0f921\"]],\"type\":\"histogram2d\"}],\"histogram2dcontour\":[{\"colorbar\":{\"outlinewidth\":0,\"ticks\":\"\"},\"colorscale\":[[0.0,\"#0d0887\"],[0.1111111111111111,\"#46039f\"],[0.2222222222222222,\"#7201a8\"],[0.3333333333333333,\"#9c179e\"],[0.4444444444444444,\"#bd3786\"],[0.5555555555555556,\"#d8576b\"],[0.6666666666666666,\"#ed7953\"],[0.7777777777777778,\"#fb9f3a\"],[0.8888888888888888,\"#fdca26\"],[1.0,\"#f0f921\"]],\"type\":\"histogram2dcontour\"}],\"mesh3d\":[{\"colorbar\":{\"outlinewidth\":0,\"ticks\":\"\"},\"type\":\"mesh3d\"}],\"parcoords\":[{\"line\":{\"colorbar\":{\"outlinewidth\":0,\"ticks\":\"\"}},\"type\":\"parcoords\"}],\"pie\":[{\"automargin\":true,\"type\":\"pie\"}],\"scatter\":[{\"marker\":{\"colorbar\":{\"outlinewidth\":0,\"ticks\":\"\"}},\"type\":\"scatter\"}],\"scatter3d\":[{\"line\":{\"colorbar\":{\"outlinewidth\":0,\"ticks\":\"\"}},\"marker\":{\"colorbar\":{\"outlinewidth\":0,\"ticks\":\"\"}},\"type\":\"scatter3d\"}],\"scattercarpet\":[{\"marker\":{\"colorbar\":{\"outlinewidth\":0,\"ticks\":\"\"}},\"type\":\"scattercarpet\"}],\"scattergeo\":[{\"marker\":{\"colorbar\":{\"outlinewidth\":0,\"ticks\":\"\"}},\"type\":\"scattergeo\"}],\"scattergl\":[{\"marker\":{\"colorbar\":{\"outlinewidth\":0,\"ticks\":\"\"}},\"type\":\"scattergl\"}],\"scattermapbox\":[{\"marker\":{\"colorbar\":{\"outlinewidth\":0,\"ticks\":\"\"}},\"type\":\"scattermapbox\"}],\"scatterpolar\":[{\"marker\":{\"colorbar\":{\"outlinewidth\":0,\"ticks\":\"\"}},\"type\":\"scatterpolar\"}],\"scatterpolargl\":[{\"marker\":{\"colorbar\":{\"outlinewidth\":0,\"ticks\":\"\"}},\"type\":\"scatterpolargl\"}],\"scatterternary\":[{\"marker\":{\"colorbar\":{\"outlinewidth\":0,\"ticks\":\"\"}},\"type\":\"scatterternary\"}],\"surface\":[{\"colorbar\":{\"outlinewidth\":0,\"ticks\":\"\"},\"colorscale\":[[0.0,\"#0d0887\"],[0.1111111111111111,\"#46039f\"],[0.2222222222222222,\"#7201a8\"],[0.3333333333333333,\"#9c179e\"],[0.4444444444444444,\"#bd3786\"],[0.5555555555555556,\"#d8576b\"],[0.6666666666666666,\"#ed7953\"],[0.7777777777777778,\"#fb9f3a\"],[0.8888888888888888,\"#fdca26\"],[1.0,\"#f0f921\"]],\"type\":\"surface\"}],\"table\":[{\"cells\":{\"fill\":{\"color\":\"#EBF0F8\"},\"line\":{\"color\":\"white\"}},\"header\":{\"fill\":{\"color\":\"#C8D4E3\"},\"line\":{\"color\":\"white\"}},\"type\":\"table\"}]},\"layout\":{\"annotationdefaults\":{\"arrowcolor\":\"#2a3f5f\",\"arrowhead\":0,\"arrowwidth\":1},\"autotypenumbers\":\"strict\",\"coloraxis\":{\"colorbar\":{\"outlinewidth\":0,\"ticks\":\"\"}},\"colorscale\":{\"diverging\":[[0,\"#8e0152\"],[0.1,\"#c51b7d\"],[0.2,\"#de77ae\"],[0.3,\"#f1b6da\"],[0.4,\"#fde0ef\"],[0.5,\"#f7f7f7\"],[0.6,\"#e6f5d0\"],[0.7,\"#b8e186\"],[0.8,\"#7fbc41\"],[0.9,\"#4d9221\"],[1,\"#276419\"]],\"sequential\":[[0.0,\"#0d0887\"],[0.1111111111111111,\"#46039f\"],[0.2222222222222222,\"#7201a8\"],[0.3333333333333333,\"#9c179e\"],[0.4444444444444444,\"#bd3786\"],[0.5555555555555556,\"#d8576b\"],[0.6666666666666666,\"#ed7953\"],[0.7777777777777778,\"#fb9f3a\"],[0.8888888888888888,\"#fdca26\"],[1.0,\"#f0f921\"]],\"sequentialminus\":[[0.0,\"#0d0887\"],[0.1111111111111111,\"#46039f\"],[0.2222222222222222,\"#7201a8\"],[0.3333333333333333,\"#9c179e\"],[0.4444444444444444,\"#bd3786\"],[0.5555555555555556,\"#d8576b\"],[0.6666666666666666,\"#ed7953\"],[0.7777777777777778,\"#fb9f3a\"],[0.8888888888888888,\"#fdca26\"],[1.0,\"#f0f921\"]]},\"colorway\":[\"#636efa\",\"#EF553B\",\"#00cc96\",\"#ab63fa\",\"#FFA15A\",\"#19d3f3\",\"#FF6692\",\"#B6E880\",\"#FF97FF\",\"#FECB52\"],\"font\":{\"color\":\"#2a3f5f\"},\"geo\":{\"bgcolor\":\"white\",\"lakecolor\":\"white\",\"landcolor\":\"#E5ECF6\",\"showlakes\":true,\"showland\":true,\"subunitcolor\":\"white\"},\"hoverlabel\":{\"align\":\"left\"},\"hovermode\":\"closest\",\"mapbox\":{\"style\":\"light\"},\"paper_bgcolor\":\"white\",\"plot_bgcolor\":\"#E5ECF6\",\"polar\":{\"angularaxis\":{\"gridcolor\":\"white\",\"linecolor\":\"white\",\"ticks\":\"\"},\"bgcolor\":\"#E5ECF6\",\"radialaxis\":{\"gridcolor\":\"white\",\"linecolor\":\"white\",\"ticks\":\"\"}},\"scene\":{\"xaxis\":{\"backgroundcolor\":\"#E5ECF6\",\"gridcolor\":\"white\",\"gridwidth\":2,\"linecolor\":\"white\",\"showbackground\":true,\"ticks\":\"\",\"zerolinecolor\":\"white\"},\"yaxis\":{\"backgroundcolor\":\"#E5ECF6\",\"gridcolor\":\"white\",\"gridwidth\":2,\"linecolor\":\"white\",\"showbackground\":true,\"ticks\":\"\",\"zerolinecolor\":\"white\"},\"zaxis\":{\"backgroundcolor\":\"#E5ECF6\",\"gridcolor\":\"white\",\"gridwidth\":2,\"linecolor\":\"white\",\"showbackground\":true,\"ticks\":\"\",\"zerolinecolor\":\"white\"}},\"shapedefaults\":{\"line\":{\"color\":\"#2a3f5f\"}},\"ternary\":{\"aaxis\":{\"gridcolor\":\"white\",\"linecolor\":\"white\",\"ticks\":\"\"},\"baxis\":{\"gridcolor\":\"white\",\"linecolor\":\"white\",\"ticks\":\"\"},\"bgcolor\":\"#E5ECF6\",\"caxis\":{\"gridcolor\":\"white\",\"linecolor\":\"white\",\"ticks\":\"\"}},\"title\":{\"x\":0.05},\"xaxis\":{\"automargin\":true,\"gridcolor\":\"white\",\"linecolor\":\"white\",\"ticks\":\"\",\"title\":{\"standoff\":15},\"zerolinecolor\":\"white\",\"zerolinewidth\":2},\"yaxis\":{\"automargin\":true,\"gridcolor\":\"white\",\"linecolor\":\"white\",\"ticks\":\"\",\"title\":{\"standoff\":15},\"zerolinecolor\":\"white\",\"zerolinewidth\":2}}},\"autosize\":false,\"width\":1100,\"height\":600,\"title\":{\"text\":\"\\u0412\\u043e\\u0440\\u043e\\u043d\\u043a\\u0430 \\u0430\\u043d\\u0430\\u043b\\u0438\\u0437\\u0438\\u0440\\u0443\\u0435\\u043c\\u044b\\u0445 \\u0441\\u043e\\u0431\\u044b\\u0442\\u0438\\u0439 \\u0441 \\u0440\\u0430\\u0441\\u0447\\u0435\\u0442\\u043e\\u043c \\u0434\\u043e\\u043b\\u0438 \\u0448\\u0430\\u0433\\u043e\\u0432\"}},                        {\"responsive\": true}                    ).then(function(){\n",
              "                            \n",
              "var gd = document.getElementById('51d02a1c-8bed-416f-804e-ed2ff652f615');\n",
              "var x = new MutationObserver(function (mutations, observer) {{\n",
              "        var display = window.getComputedStyle(gd).display;\n",
              "        if (!display || display === 'none') {{\n",
              "            console.log([gd, 'removed!']);\n",
              "            Plotly.purge(gd);\n",
              "            observer.disconnect();\n",
              "        }}\n",
              "}});\n",
              "\n",
              "// Listen for the removal of the full notebook cells\n",
              "var notebookContainer = gd.closest('#notebook-container');\n",
              "if (notebookContainer) {{\n",
              "    x.observe(notebookContainer, {childList: true});\n",
              "}}\n",
              "\n",
              "// Listen for the clearing of the current output cell\n",
              "var outputEl = gd.closest('.output');\n",
              "if (outputEl) {{\n",
              "    x.observe(outputEl, {childList: true});\n",
              "}}\n",
              "\n",
              "                        })                };                            </script>        </div>\n",
              "</body>\n",
              "</html>"
            ]
          },
          "metadata": {}
        }
      ],
      "source": [
        "# исключим события tutorial из датафрейма\n",
        "df_final = df_filtered.query('event != \"tutorial\"').reset_index()\n",
        "\n",
        "# обновим расчет воронки\n",
        "events_by_users = df_final \\\n",
        "    .groupby(['event']) \\\n",
        "    .agg({'user_id' : 'nunique'}) \\\n",
        "    .rename(columns=({'user_id' : 'total_users'})) \\\n",
        "    .sort_values(by='total_users', ascending=False) \\\n",
        "    .reset_index()\n",
        "\n",
        "# построим интерактивную воронку с выводом процента от предыдущего шага\n",
        "fig = go.Figure(\n",
        "    go.Funnel(\n",
        "        y=events_by_users['event'].unique(),\n",
        "        x=events_by_users['total_users'].unique(),\n",
        "        textposition = 'inside',\n",
        "        textinfo = 'value+percent initial+percent previous+percent total',\n",
        "        marker = {'color': 'indigo'}\n",
        "    ))\n",
        "\n",
        "fig.update_layout(\n",
        "    autosize=False,\n",
        "    width=1100,\n",
        "    height=600,\n",
        "    title='Воронка анализируемых событий с расчетом доли шагов')\n",
        "\n",
        "fig.show()\n"
      ]
    },
    {
      "cell_type": "markdown",
      "source": [
        "![Screenshot 2022-10-20 at 13.44.47.png](data:image/png;base64,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)"
      ],
      "metadata": {
        "id": "yMpAQEIJ_udX"
      }
    },
    {
      "cell_type": "markdown",
      "metadata": {
        "id": "LTxkYMhqCp0P"
      },
      "source": [
        "**Вывод по шагу:**\n",
        "\n",
        "- Всего имеется 5 типов событий. Самое частое – `main_screen_appear`. Самое редкое – `tutorial` (исключено из анализа)\n",
        "- Больше всего пользователей приложение теряет на переходе с шага `main_screen_appear` на шаг `offers_screen_appear`: всего 62% после просмотра главного экрана увидели экран спецпредложения\n",
        "- При этом целых 48% пользователей доходит до шага `payment_screen_successful` (Оплата) – это хороший показатель конверсии."
      ]
    },
    {
      "cell_type": "markdown",
      "metadata": {
        "id": "9gOeGBIoEwAn"
      },
      "source": [
        "---"
      ]
    },
    {
      "cell_type": "markdown",
      "metadata": {
        "id": "aCVtbDdHEl6E"
      },
      "source": [
        "## Изучение результатов эксперимента"
      ]
    },
    {
      "cell_type": "markdown",
      "metadata": {
        "id": "88SBw-zX4EZY"
      },
      "source": [
        "Узнаем, сколько пользователей есть в каждой экспериментальной группе:\n"
      ]
    },
    {
      "cell_type": "code",
      "execution_count": 28,
      "metadata": {
        "colab": {
          "base_uri": "https://localhost:8080/",
          "height": 175
        },
        "id": "4Uc3QL114qRC",
        "outputId": "d4d30d9c-f563-47d6-8c22-f45ad92fc619"
      },
      "outputs": [
        {
          "output_type": "execute_result",
          "data": {
            "text/plain": [
              "       group_users\n",
              "group             \n",
              "A1            2483\n",
              "A2            2512\n",
              "B             2535"
            ],
            "text/html": [
              "\n",
              "  <div id=\"df-d9791ae3-af9c-45ce-8159-5fee26702898\">\n",
              "    <div class=\"colab-df-container\">\n",
              "      <div>\n",
              "<style scoped>\n",
              "    .dataframe tbody tr th:only-of-type {\n",
              "        vertical-align: middle;\n",
              "    }\n",
              "\n",
              "    .dataframe tbody tr th {\n",
              "        vertical-align: top;\n",
              "    }\n",
              "\n",
              "    .dataframe thead th {\n",
              "        text-align: right;\n",
              "    }\n",
              "</style>\n",
              "<table border=\"1\" class=\"dataframe\">\n",
              "  <thead>\n",
              "    <tr style=\"text-align: right;\">\n",
              "      <th></th>\n",
              "      <th>group_users</th>\n",
              "    </tr>\n",
              "    <tr>\n",
              "      <th>group</th>\n",
              "      <th></th>\n",
              "    </tr>\n",
              "  </thead>\n",
              "  <tbody>\n",
              "    <tr>\n",
              "      <th>A1</th>\n",
              "      <td>2483</td>\n",
              "    </tr>\n",
              "    <tr>\n",
              "      <th>A2</th>\n",
              "      <td>2512</td>\n",
              "    </tr>\n",
              "    <tr>\n",
              "      <th>B</th>\n",
              "      <td>2535</td>\n",
              "    </tr>\n",
              "  </tbody>\n",
              "</table>\n",
              "</div>\n",
              "      <button class=\"colab-df-convert\" onclick=\"convertToInteractive('df-d9791ae3-af9c-45ce-8159-5fee26702898')\"\n",
              "              title=\"Convert this dataframe to an interactive table.\"\n",
              "              style=\"display:none;\">\n",
              "        \n",
              "  <svg xmlns=\"http://www.w3.org/2000/svg\" height=\"24px\"viewBox=\"0 0 24 24\"\n",
              "       width=\"24px\">\n",
              "    <path d=\"M0 0h24v24H0V0z\" fill=\"none\"/>\n",
              "    <path d=\"M18.56 5.44l.94 2.06.94-2.06 2.06-.94-2.06-.94-.94-2.06-.94 2.06-2.06.94zm-11 1L8.5 8.5l.94-2.06 2.06-.94-2.06-.94L8.5 2.5l-.94 2.06-2.06.94zm10 10l.94 2.06.94-2.06 2.06-.94-2.06-.94-.94-2.06-.94 2.06-2.06.94z\"/><path d=\"M17.41 7.96l-1.37-1.37c-.4-.4-.92-.59-1.43-.59-.52 0-1.04.2-1.43.59L10.3 9.45l-7.72 7.72c-.78.78-.78 2.05 0 2.83L4 21.41c.39.39.9.59 1.41.59.51 0 1.02-.2 1.41-.59l7.78-7.78 2.81-2.81c.8-.78.8-2.07 0-2.86zM5.41 20L4 18.59l7.72-7.72 1.47 1.35L5.41 20z\"/>\n",
              "  </svg>\n",
              "      </button>\n",
              "      \n",
              "  <style>\n",
              "    .colab-df-container {\n",
              "      display:flex;\n",
              "      flex-wrap:wrap;\n",
              "      gap: 12px;\n",
              "    }\n",
              "\n",
              "    .colab-df-convert {\n",
              "      background-color: #E8F0FE;\n",
              "      border: none;\n",
              "      border-radius: 50%;\n",
              "      cursor: pointer;\n",
              "      display: none;\n",
              "      fill: #1967D2;\n",
              "      height: 32px;\n",
              "      padding: 0 0 0 0;\n",
              "      width: 32px;\n",
              "    }\n",
              "\n",
              "    .colab-df-convert:hover {\n",
              "      background-color: #E2EBFA;\n",
              "      box-shadow: 0px 1px 2px rgba(60, 64, 67, 0.3), 0px 1px 3px 1px rgba(60, 64, 67, 0.15);\n",
              "      fill: #174EA6;\n",
              "    }\n",
              "\n",
              "    [theme=dark] .colab-df-convert {\n",
              "      background-color: #3B4455;\n",
              "      fill: #D2E3FC;\n",
              "    }\n",
              "\n",
              "    [theme=dark] .colab-df-convert:hover {\n",
              "      background-color: #434B5C;\n",
              "      box-shadow: 0px 1px 3px 1px rgba(0, 0, 0, 0.15);\n",
              "      filter: drop-shadow(0px 1px 2px rgba(0, 0, 0, 0.3));\n",
              "      fill: #FFFFFF;\n",
              "    }\n",
              "  </style>\n",
              "\n",
              "      <script>\n",
              "        const buttonEl =\n",
              "          document.querySelector('#df-d9791ae3-af9c-45ce-8159-5fee26702898 button.colab-df-convert');\n",
              "        buttonEl.style.display =\n",
              "          google.colab.kernel.accessAllowed ? 'block' : 'none';\n",
              "\n",
              "        async function convertToInteractive(key) {\n",
              "          const element = document.querySelector('#df-d9791ae3-af9c-45ce-8159-5fee26702898');\n",
              "          const dataTable =\n",
              "            await google.colab.kernel.invokeFunction('convertToInteractive',\n",
              "                                                     [key], {});\n",
              "          if (!dataTable) return;\n",
              "\n",
              "          const docLinkHtml = 'Like what you see? Visit the ' +\n",
              "            '<a target=\"_blank\" href=https://colab.research.google.com/notebooks/data_table.ipynb>data table notebook</a>'\n",
              "            + ' to learn more about interactive tables.';\n",
              "          element.innerHTML = '';\n",
              "          dataTable['output_type'] = 'display_data';\n",
              "          await google.colab.output.renderOutput(dataTable, element);\n",
              "          const docLink = document.createElement('div');\n",
              "          docLink.innerHTML = docLinkHtml;\n",
              "          element.appendChild(docLink);\n",
              "        }\n",
              "      </script>\n",
              "    </div>\n",
              "  </div>\n",
              "  "
            ]
          },
          "metadata": {},
          "execution_count": 28
        }
      ],
      "source": [
        "# группируем пользователей по группам\n",
        "ab_users = df_final \\\n",
        "    .groupby(['group']) \\\n",
        "    .agg({'user_id' : 'nunique'}) \\\n",
        "    .rename(columns=({'user_id' : 'group_users'}))\n",
        "\n",
        "ab_users"
      ]
    },
    {
      "cell_type": "markdown",
      "metadata": {
        "id": "l-lTSNUQ4rUG"
      },
      "source": [
        "Есть 2 контрольные группы для А/А-эксперимента, чтобы проверить корректность всех механизмов и расчётов. \n",
        "\n",
        "Проверим, находят ли статистические критерии разницу между выборками A1 и A2."
      ]
    },
    {
      "cell_type": "markdown",
      "metadata": {
        "id": "g3RbnK0RRSow"
      },
      "source": [
        "Посчитаем число пользователей, совершивших каждое из событий в каждой из контрольных групп. \n",
        "\n",
        "Добавим в таблицу долю пользователей, совершивших это событие в данной группе:"
      ]
    },
    {
      "cell_type": "code",
      "execution_count": 29,
      "metadata": {
        "colab": {
          "base_uri": "https://localhost:8080/",
          "height": 426
        },
        "id": "LdFkhZ59bZxk",
        "outputId": "4b96a621-f342-4b0a-d592-e782319265f6",
        "scrolled": true
      },
      "outputs": [
        {
          "output_type": "execute_result",
          "data": {
            "text/plain": [
              "                        event group  total_users  percent_of_group\n",
              "0          cart_screen_appear    A1         1266             50.99\n",
              "1          main_screen_appear    A1         2450             98.67\n",
              "2        offers_screen_appear    A1         1542             62.10\n",
              "3   payment_screen_successful    A1         1200             48.33\n",
              "4          cart_screen_appear    A2         1238             49.28\n",
              "5          main_screen_appear    A2         2476             98.57\n",
              "6        offers_screen_appear    A2         1520             60.51\n",
              "7   payment_screen_successful    A2         1158             46.10\n",
              "8          cart_screen_appear     B         1230             48.52\n",
              "9          main_screen_appear     B         2493             98.34\n",
              "10       offers_screen_appear     B         1531             60.39\n",
              "11  payment_screen_successful     B         1181             46.59"
            ],
            "text/html": [
              "\n",
              "  <div id=\"df-5d0ee70b-de9d-4449-ae31-8b5eb8eb3ec0\">\n",
              "    <div class=\"colab-df-container\">\n",
              "      <div>\n",
              "<style scoped>\n",
              "    .dataframe tbody tr th:only-of-type {\n",
              "        vertical-align: middle;\n",
              "    }\n",
              "\n",
              "    .dataframe tbody tr th {\n",
              "        vertical-align: top;\n",
              "    }\n",
              "\n",
              "    .dataframe thead th {\n",
              "        text-align: right;\n",
              "    }\n",
              "</style>\n",
              "<table border=\"1\" class=\"dataframe\">\n",
              "  <thead>\n",
              "    <tr style=\"text-align: right;\">\n",
              "      <th></th>\n",
              "      <th>event</th>\n",
              "      <th>group</th>\n",
              "      <th>total_users</th>\n",
              "      <th>percent_of_group</th>\n",
              "    </tr>\n",
              "  </thead>\n",
              "  <tbody>\n",
              "    <tr>\n",
              "      <th>0</th>\n",
              "      <td>cart_screen_appear</td>\n",
              "      <td>A1</td>\n",
              "      <td>1266</td>\n",
              "      <td>50.99</td>\n",
              "    </tr>\n",
              "    <tr>\n",
              "      <th>1</th>\n",
              "      <td>main_screen_appear</td>\n",
              "      <td>A1</td>\n",
              "      <td>2450</td>\n",
              "      <td>98.67</td>\n",
              "    </tr>\n",
              "    <tr>\n",
              "      <th>2</th>\n",
              "      <td>offers_screen_appear</td>\n",
              "      <td>A1</td>\n",
              "      <td>1542</td>\n",
              "      <td>62.10</td>\n",
              "    </tr>\n",
              "    <tr>\n",
              "      <th>3</th>\n",
              "      <td>payment_screen_successful</td>\n",
              "      <td>A1</td>\n",
              "      <td>1200</td>\n",
              "      <td>48.33</td>\n",
              "    </tr>\n",
              "    <tr>\n",
              "      <th>4</th>\n",
              "      <td>cart_screen_appear</td>\n",
              "      <td>A2</td>\n",
              "      <td>1238</td>\n",
              "      <td>49.28</td>\n",
              "    </tr>\n",
              "    <tr>\n",
              "      <th>5</th>\n",
              "      <td>main_screen_appear</td>\n",
              "      <td>A2</td>\n",
              "      <td>2476</td>\n",
              "      <td>98.57</td>\n",
              "    </tr>\n",
              "    <tr>\n",
              "      <th>6</th>\n",
              "      <td>offers_screen_appear</td>\n",
              "      <td>A2</td>\n",
              "      <td>1520</td>\n",
              "      <td>60.51</td>\n",
              "    </tr>\n",
              "    <tr>\n",
              "      <th>7</th>\n",
              "      <td>payment_screen_successful</td>\n",
              "      <td>A2</td>\n",
              "      <td>1158</td>\n",
              "      <td>46.10</td>\n",
              "    </tr>\n",
              "    <tr>\n",
              "      <th>8</th>\n",
              "      <td>cart_screen_appear</td>\n",
              "      <td>B</td>\n",
              "      <td>1230</td>\n",
              "      <td>48.52</td>\n",
              "    </tr>\n",
              "    <tr>\n",
              "      <th>9</th>\n",
              "      <td>main_screen_appear</td>\n",
              "      <td>B</td>\n",
              "      <td>2493</td>\n",
              "      <td>98.34</td>\n",
              "    </tr>\n",
              "    <tr>\n",
              "      <th>10</th>\n",
              "      <td>offers_screen_appear</td>\n",
              "      <td>B</td>\n",
              "      <td>1531</td>\n",
              "      <td>60.39</td>\n",
              "    </tr>\n",
              "    <tr>\n",
              "      <th>11</th>\n",
              "      <td>payment_screen_successful</td>\n",
              "      <td>B</td>\n",
              "      <td>1181</td>\n",
              "      <td>46.59</td>\n",
              "    </tr>\n",
              "  </tbody>\n",
              "</table>\n",
              "</div>\n",
              "      <button class=\"colab-df-convert\" onclick=\"convertToInteractive('df-5d0ee70b-de9d-4449-ae31-8b5eb8eb3ec0')\"\n",
              "              title=\"Convert this dataframe to an interactive table.\"\n",
              "              style=\"display:none;\">\n",
              "        \n",
              "  <svg xmlns=\"http://www.w3.org/2000/svg\" height=\"24px\"viewBox=\"0 0 24 24\"\n",
              "       width=\"24px\">\n",
              "    <path d=\"M0 0h24v24H0V0z\" fill=\"none\"/>\n",
              "    <path d=\"M18.56 5.44l.94 2.06.94-2.06 2.06-.94-2.06-.94-.94-2.06-.94 2.06-2.06.94zm-11 1L8.5 8.5l.94-2.06 2.06-.94-2.06-.94L8.5 2.5l-.94 2.06-2.06.94zm10 10l.94 2.06.94-2.06 2.06-.94-2.06-.94-.94-2.06-.94 2.06-2.06.94z\"/><path d=\"M17.41 7.96l-1.37-1.37c-.4-.4-.92-.59-1.43-.59-.52 0-1.04.2-1.43.59L10.3 9.45l-7.72 7.72c-.78.78-.78 2.05 0 2.83L4 21.41c.39.39.9.59 1.41.59.51 0 1.02-.2 1.41-.59l7.78-7.78 2.81-2.81c.8-.78.8-2.07 0-2.86zM5.41 20L4 18.59l7.72-7.72 1.47 1.35L5.41 20z\"/>\n",
              "  </svg>\n",
              "      </button>\n",
              "      \n",
              "  <style>\n",
              "    .colab-df-container {\n",
              "      display:flex;\n",
              "      flex-wrap:wrap;\n",
              "      gap: 12px;\n",
              "    }\n",
              "\n",
              "    .colab-df-convert {\n",
              "      background-color: #E8F0FE;\n",
              "      border: none;\n",
              "      border-radius: 50%;\n",
              "      cursor: pointer;\n",
              "      display: none;\n",
              "      fill: #1967D2;\n",
              "      height: 32px;\n",
              "      padding: 0 0 0 0;\n",
              "      width: 32px;\n",
              "    }\n",
              "\n",
              "    .colab-df-convert:hover {\n",
              "      background-color: #E2EBFA;\n",
              "      box-shadow: 0px 1px 2px rgba(60, 64, 67, 0.3), 0px 1px 3px 1px rgba(60, 64, 67, 0.15);\n",
              "      fill: #174EA6;\n",
              "    }\n",
              "\n",
              "    [theme=dark] .colab-df-convert {\n",
              "      background-color: #3B4455;\n",
              "      fill: #D2E3FC;\n",
              "    }\n",
              "\n",
              "    [theme=dark] .colab-df-convert:hover {\n",
              "      background-color: #434B5C;\n",
              "      box-shadow: 0px 1px 3px 1px rgba(0, 0, 0, 0.15);\n",
              "      filter: drop-shadow(0px 1px 2px rgba(0, 0, 0, 0.3));\n",
              "      fill: #FFFFFF;\n",
              "    }\n",
              "  </style>\n",
              "\n",
              "      <script>\n",
              "        const buttonEl =\n",
              "          document.querySelector('#df-5d0ee70b-de9d-4449-ae31-8b5eb8eb3ec0 button.colab-df-convert');\n",
              "        buttonEl.style.display =\n",
              "          google.colab.kernel.accessAllowed ? 'block' : 'none';\n",
              "\n",
              "        async function convertToInteractive(key) {\n",
              "          const element = document.querySelector('#df-5d0ee70b-de9d-4449-ae31-8b5eb8eb3ec0');\n",
              "          const dataTable =\n",
              "            await google.colab.kernel.invokeFunction('convertToInteractive',\n",
              "                                                     [key], {});\n",
              "          if (!dataTable) return;\n",
              "\n",
              "          const docLinkHtml = 'Like what you see? Visit the ' +\n",
              "            '<a target=\"_blank\" href=https://colab.research.google.com/notebooks/data_table.ipynb>data table notebook</a>'\n",
              "            + ' to learn more about interactive tables.';\n",
              "          element.innerHTML = '';\n",
              "          dataTable['output_type'] = 'display_data';\n",
              "          await google.colab.output.renderOutput(dataTable, element);\n",
              "          const docLink = document.createElement('div');\n",
              "          docLink.innerHTML = docLinkHtml;\n",
              "          element.appendChild(docLink);\n",
              "        }\n",
              "      </script>\n",
              "    </div>\n",
              "  </div>\n",
              "  "
            ]
          },
          "metadata": {},
          "execution_count": 29
        }
      ],
      "source": [
        "# сгруппируем пользователей по событиям и группам\n",
        "ab_events = df_final \\\n",
        "    .groupby(['event', 'group'], as_index=False) \\\n",
        "    .agg({'user_id' : 'nunique'}) \\\n",
        "    .rename(columns=({'user_id' : 'total_users'}))\n",
        "    \n",
        "# объединим датасеты, добавив столбец с общим количеством в группе\n",
        "ab_events = ab_events.merge(ab_users.reset_index(), how='inner', on='group')\n",
        "\n",
        "# добавим столбец с долей от всех пользователей группы\n",
        "ab_events['percent_of_group'] = (ab_events['total_users'] / ab_events['group_users']*100)\n",
        "\n",
        "# удалим столбец, он больше не нужен   \n",
        "ab_events = ab_events.drop(['group_users'], axis=1)\n",
        "ab_events"
      ]
    },
    {
      "cell_type": "code",
      "execution_count": 30,
      "metadata": {
        "id": "G-V7iWHVt_7O",
        "outputId": "96def36d-6cd3-4d43-9969-4b973ef3f93f",
        "colab": {
          "base_uri": "https://localhost:8080/"
        }
      },
      "outputs": [
        {
          "output_type": "stream",
          "name": "stdout",
          "text": [
            "0.4928343949044586\n",
            "0.9856687898089171\n",
            "0.6050955414012739\n",
            "0.4609872611464968\n"
          ]
        }
      ],
      "source": [
        "#ячейка ревьюера\n",
        "for i in ab_events.index:\n",
        "    if ab_events.loc[i,'group'] == 'A2':\n",
        "        print(ab_events.loc[i,'total_users']/ab_users.loc['A2','group_users'])"
      ]
    },
    {
      "cell_type": "markdown",
      "metadata": {
        "id": "LfWyFknNe-re"
      },
      "source": [
        "Проверим, будет ли отличие между группами статистически достоверным.\n",
        "\n",
        "Обернем проверку в отдельную функцию: "
      ]
    },
    {
      "cell_type": "code",
      "execution_count": 31,
      "metadata": {
        "id": "M2v3WuWiIYEC"
      },
      "outputs": [],
      "source": [
        "# создадим список событий\n",
        "event_name = ['payment_screen_successful', 'cart_screen_appear', \\\n",
        "             'offers_screen_appear', 'main_screen_appear']\n",
        "\n",
        "# зададим функцию для проверки гипотезы для двух групп\n",
        "def event_diff_check(test_users, test_events, group_1, group_2):\n",
        "\n",
        "    \n",
        "    alpha = .05 # критический уровень статистической значимости\n",
        "\n",
        "    for name in event_name:\n",
        "        # рассчитываемое событие\n",
        "        successes = np.array([int(test_events.query('group == @group_1 \\\n",
        "                              & event == @name')['total_users']),\\\n",
        "                              int(test_events.query('group == @group_2 \\\n",
        "                              & event == @name')['total_users'])])\n",
        "\n",
        "        # все события\n",
        "        trials = np.array([test_users.loc[group_1, 'group_users'],\\\n",
        "                           test_users.loc[group_2, 'group_users']])\n",
        "\n",
        "        # пропорция успехов в первой группе\n",
        "        p1 = successes[0]/trials[0]\n",
        "\n",
        "        # пропорция успехов во второй группе\n",
        "        p2 = successes[1]/trials[1]\n",
        "\n",
        "        # пропорция успехов в комбинированном датасете\n",
        "        p_combined = (successes[0] + successes[1]) / (trials[0] + trials[1])\n",
        "\n",
        "        # разница пропорций в датасетах\n",
        "        difference = p1 - p2\n",
        "\n",
        "        # считаем статистику в ст.отклонениях стандартного нормального распределения\n",
        "        z_value = difference / mth.sqrt(p_combined * (1 - p_combined) \\\n",
        "                                        * (1/trials[0] + 1/trials[1]))\n",
        "\n",
        "        # задаем стандартное нормальное распределение (среднее 0, ст.отклонение 1)\n",
        "        distr = st.norm(0, 1)\n",
        "\n",
        "        p_value = (1 - distr.cdf(abs(z_value))) * 2\n",
        "\n",
        "        print('\\nГруппы: {} и {}\\\n",
        "        \\np-значение: {}'.format(group_1, group_2, p_value.round(2)))\n",
        "\n",
        "        if (p_value < alpha):\n",
        "            print('Событие: {}\\\n",
        "            \\nОтвергаем нулевую гипотезу. \\n---'\\\n",
        "                  .format(name))\n",
        "        else:\n",
        "            print('Событие: {} \\\n",
        "            \\nНе получилось отвергнуть нулевую гипотезу. \\n---'\\\n",
        "                  .format(name))"
      ]
    },
    {
      "cell_type": "code",
      "execution_count": 32,
      "metadata": {
        "id": "fuF2M-frt_7P"
      },
      "outputs": [],
      "source": [
        "# задаем уровень статистической значимости\n",
        "alpha = .05 \n",
        "\n",
        "# задаем универсальную функцию для статистического теста \n",
        "def z_test (successes1, successes2, trials1, trials2):\n",
        "    \n",
        "    # пропорция успехов в первой группе\n",
        "    p1 = successes1/trials1\n",
        "\n",
        "    # пропорция успехов во второй группе\n",
        "    p2 = successes2/trials2\n",
        "\n",
        "    # пропорция успехов в комбинированном датасете\n",
        "    p_combined = (successes1 + successes2) / (trials1 + trials2)\n",
        "\n",
        "    # разница пропорций в датасетах\n",
        "    difference = p1 - p2 \n",
        "    \n",
        "    # считаем статистику в ст.отклонениях стандартного нормального распределения\n",
        "    z_value = difference / mth.sqrt(p_combined * (1 - p_combined) * (1/trials1 + 1/trials2))\n",
        "    \n",
        "    # задаем стандартное нормальное распределение (среднее 0, ст.отклонение 1)\n",
        "    distr = st.norm(0, 1) \n",
        "    \n",
        "    p_value = (1 - distr.cdf(abs(z_value))) * 2\n",
        "    \n",
        "    print('p-значение: ', p_value)\n",
        "\n",
        "    if (p_value < alpha):\n",
        "        print('Отвергаем нулевую гипотезу: между долями есть значимая разница')\n",
        "    else:\n",
        "        print('Не получилось отвергнуть нулевую гипотезу, нет оснований считать доли разными')"
      ]
    },
    {
      "cell_type": "markdown",
      "metadata": {
        "id": "NiOx2aFNCvIZ"
      },
      "source": [
        "Теперь сформулируем гипотезу и проверим контрольные группы."
      ]
    },
    {
      "cell_type": "markdown",
      "metadata": {
        "id": "4-4X7N7D-KTb"
      },
      "source": [
        "### Гипотеза: статистически значимых различий после смены шрифта между группами нет."
      ]
    },
    {
      "cell_type": "markdown",
      "metadata": {
        "id": "8ZEzx3RgYFCp"
      },
      "source": [
        "- $H_0$: доли пользователей в группах A1 и A2 равны\n",
        "- $H_1$: доли пользователей в группах A1 и A2 отличаются"
      ]
    },
    {
      "cell_type": "code",
      "execution_count": 33,
      "metadata": {
        "colab": {
          "base_uri": "https://localhost:8080/"
        },
        "id": "tS0pEmTAATsW",
        "outputId": "04019609-48f9-4593-b660-27a67c49b9a5"
      },
      "outputs": [
        {
          "output_type": "stream",
          "name": "stdout",
          "text": [
            "\n",
            "Группы: A1 и A2        \n",
            "p-значение: 0.11\n",
            "Событие: payment_screen_successful             \n",
            "Не получилось отвергнуть нулевую гипотезу. \n",
            "---\n",
            "\n",
            "Группы: A1 и A2        \n",
            "p-значение: 0.23\n",
            "Событие: cart_screen_appear             \n",
            "Не получилось отвергнуть нулевую гипотезу. \n",
            "---\n",
            "\n",
            "Группы: A1 и A2        \n",
            "p-значение: 0.25\n",
            "Событие: offers_screen_appear             \n",
            "Не получилось отвергнуть нулевую гипотезу. \n",
            "---\n",
            "\n",
            "Группы: A1 и A2        \n",
            "p-значение: 0.75\n",
            "Событие: main_screen_appear             \n",
            "Не получилось отвергнуть нулевую гипотезу. \n",
            "---\n"
          ]
        }
      ],
      "source": [
        "# запускаем функцию для расчета\n",
        "event_diff_check(ab_users, ab_events, 'A1', 'A2')"
      ]
    },
    {
      "cell_type": "markdown",
      "metadata": {
        "id": "daUdxYUsQCwR"
      },
      "source": [
        "При расчете с критическим уровнем статистической значимости в 5% у групп A1 и A2 получились примерно одинаковые результаты.\n",
        "\n",
        "Гипотеза о равенстве групп подтвердилась. "
      ]
    },
    {
      "cell_type": "markdown",
      "metadata": {
        "id": "j1XZN139t_7R"
      },
      "source": [
        "**Вывод:** мы проверили контрольную группу и не обнаружили статистически значимой разницы между двумя группами пользователей – нет оснований считать доли разными."
      ]
    },
    {
      "cell_type": "markdown",
      "metadata": {
        "id": "5Vyaa1GORZPY"
      },
      "source": [
        "Аналогично поступим с группой с изменённым шрифтом (B). \n",
        "\n",
        "Сравним результаты с каждой из контрольных групп в отдельности по каждому событию:\n"
      ]
    },
    {
      "cell_type": "markdown",
      "metadata": {
        "id": "kr_6nnSUhHc7"
      },
      "source": [
        "### Проверка в группах A1 и B"
      ]
    },
    {
      "cell_type": "markdown",
      "metadata": {
        "id": "KMv3LKWohHdB"
      },
      "source": [
        "- $H_0$: доли пользователей в группах A1 и B равны\n",
        "- $H_1$: доли пользователей в группах A1 и B отличаются"
      ]
    },
    {
      "cell_type": "code",
      "execution_count": 34,
      "metadata": {
        "colab": {
          "base_uri": "https://localhost:8080/"
        },
        "id": "nCEI2lktRbnL",
        "outputId": "e68f2255-0581-4da4-e187-a3cde27a7f1f"
      },
      "outputs": [
        {
          "output_type": "stream",
          "name": "stdout",
          "text": [
            "\n",
            "Группы: A1 и B        \n",
            "p-значение: 0.22\n",
            "Событие: payment_screen_successful             \n",
            "Не получилось отвергнуть нулевую гипотезу. \n",
            "---\n",
            "\n",
            "Группы: A1 и B        \n",
            "p-значение: 0.08\n",
            "Событие: cart_screen_appear             \n",
            "Не получилось отвергнуть нулевую гипотезу. \n",
            "---\n",
            "\n",
            "Группы: A1 и B        \n",
            "p-значение: 0.21\n",
            "Событие: offers_screen_appear             \n",
            "Не получилось отвергнуть нулевую гипотезу. \n",
            "---\n",
            "\n",
            "Группы: A1 и B        \n",
            "p-значение: 0.34\n",
            "Событие: main_screen_appear             \n",
            "Не получилось отвергнуть нулевую гипотезу. \n",
            "---\n"
          ]
        }
      ],
      "source": [
        "# запускаем функцию для расчета\n",
        "event_diff_check(ab_users, ab_events, 'A1', 'B')"
      ]
    },
    {
      "cell_type": "markdown",
      "metadata": {
        "id": "IL3pSB1LhYgR"
      },
      "source": [
        "При расчете с критическим уровнем статистической значимости в 5% у контрольных групп A1 и B получились примерно одинаковые результаты.\n",
        "\n",
        "Гипотеза о равенстве групп подтвердилась. "
      ]
    },
    {
      "cell_type": "markdown",
      "metadata": {
        "id": "lXJ9_z6dt_7S"
      },
      "source": [
        "**Вывод:** для групп A1 и В нет оснований считать доли разными."
      ]
    },
    {
      "cell_type": "markdown",
      "metadata": {
        "id": "VHKJLziohMpw"
      },
      "source": [
        "### Проверка в группах A2 и B"
      ]
    },
    {
      "cell_type": "markdown",
      "metadata": {
        "id": "plcprnz0hMpw"
      },
      "source": [
        "- $H_0$: доли пользователей в группах A2 и B равны\n",
        "- $H_1$: доли пользователей в группах A2 и B отличаются"
      ]
    },
    {
      "cell_type": "code",
      "execution_count": 35,
      "metadata": {
        "colab": {
          "base_uri": "https://localhost:8080/"
        },
        "id": "ihd2Z1hRflar",
        "outputId": "faba07b8-8289-4fe4-a910-3dcf33cc3135"
      },
      "outputs": [
        {
          "output_type": "stream",
          "name": "stdout",
          "text": [
            "\n",
            "Группы: A2 и B        \n",
            "p-значение: 0.73\n",
            "Событие: payment_screen_successful             \n",
            "Не получилось отвергнуть нулевую гипотезу. \n",
            "---\n",
            "\n",
            "Группы: A2 и B        \n",
            "p-значение: 0.59\n",
            "Событие: cart_screen_appear             \n",
            "Не получилось отвергнуть нулевую гипотезу. \n",
            "---\n",
            "\n",
            "Группы: A2 и B        \n",
            "p-значение: 0.93\n",
            "Событие: offers_screen_appear             \n",
            "Не получилось отвергнуть нулевую гипотезу. \n",
            "---\n",
            "\n",
            "Группы: A2 и B        \n",
            "p-значение: 0.52\n",
            "Событие: main_screen_appear             \n",
            "Не получилось отвергнуть нулевую гипотезу. \n",
            "---\n"
          ]
        }
      ],
      "source": [
        "# запускаем функцию для расчета\n",
        "event_diff_check(ab_users, ab_events, 'A2', 'B')"
      ]
    },
    {
      "cell_type": "markdown",
      "metadata": {
        "id": "8wWyd5SVhb_6"
      },
      "source": [
        "При расчете с критическим уровнем статистической значимости в 5% у групп A2 и B получились примерно одинаковые результаты.\n",
        "\n",
        "Гипотеза о равенстве групп подтвердилась. "
      ]
    },
    {
      "cell_type": "markdown",
      "metadata": {
        "id": "OP0GyU7ct_7S"
      },
      "source": [
        "**Вывод:** для групп A2 и В нет оснований считать доли разными."
      ]
    },
    {
      "cell_type": "markdown",
      "metadata": {
        "id": "yXV3xz54plpV"
      },
      "source": [
        "Сравним результаты с объединённой контрольной группой:"
      ]
    },
    {
      "cell_type": "code",
      "execution_count": 36,
      "metadata": {
        "colab": {
          "base_uri": "https://localhost:8080/",
          "height": 143
        },
        "id": "7EK9hi-g2Xja",
        "outputId": "7f7e54a8-10c6-4f8c-f12e-837ae38762da"
      },
      "outputs": [
        {
          "output_type": "execute_result",
          "data": {
            "text/plain": [
              "       group_users\n",
              "group             \n",
              "AA            4995\n",
              "B             2535"
            ],
            "text/html": [
              "\n",
              "  <div id=\"df-60838893-fd73-49a9-a9c3-b0ece4c33cbf\">\n",
              "    <div class=\"colab-df-container\">\n",
              "      <div>\n",
              "<style scoped>\n",
              "    .dataframe tbody tr th:only-of-type {\n",
              "        vertical-align: middle;\n",
              "    }\n",
              "\n",
              "    .dataframe tbody tr th {\n",
              "        vertical-align: top;\n",
              "    }\n",
              "\n",
              "    .dataframe thead th {\n",
              "        text-align: right;\n",
              "    }\n",
              "</style>\n",
              "<table border=\"1\" class=\"dataframe\">\n",
              "  <thead>\n",
              "    <tr style=\"text-align: right;\">\n",
              "      <th></th>\n",
              "      <th>group_users</th>\n",
              "    </tr>\n",
              "    <tr>\n",
              "      <th>group</th>\n",
              "      <th></th>\n",
              "    </tr>\n",
              "  </thead>\n",
              "  <tbody>\n",
              "    <tr>\n",
              "      <th>AA</th>\n",
              "      <td>4995</td>\n",
              "    </tr>\n",
              "    <tr>\n",
              "      <th>B</th>\n",
              "      <td>2535</td>\n",
              "    </tr>\n",
              "  </tbody>\n",
              "</table>\n",
              "</div>\n",
              "      <button class=\"colab-df-convert\" onclick=\"convertToInteractive('df-60838893-fd73-49a9-a9c3-b0ece4c33cbf')\"\n",
              "              title=\"Convert this dataframe to an interactive table.\"\n",
              "              style=\"display:none;\">\n",
              "        \n",
              "  <svg xmlns=\"http://www.w3.org/2000/svg\" height=\"24px\"viewBox=\"0 0 24 24\"\n",
              "       width=\"24px\">\n",
              "    <path d=\"M0 0h24v24H0V0z\" fill=\"none\"/>\n",
              "    <path d=\"M18.56 5.44l.94 2.06.94-2.06 2.06-.94-2.06-.94-.94-2.06-.94 2.06-2.06.94zm-11 1L8.5 8.5l.94-2.06 2.06-.94-2.06-.94L8.5 2.5l-.94 2.06-2.06.94zm10 10l.94 2.06.94-2.06 2.06-.94-2.06-.94-.94-2.06-.94 2.06-2.06.94z\"/><path d=\"M17.41 7.96l-1.37-1.37c-.4-.4-.92-.59-1.43-.59-.52 0-1.04.2-1.43.59L10.3 9.45l-7.72 7.72c-.78.78-.78 2.05 0 2.83L4 21.41c.39.39.9.59 1.41.59.51 0 1.02-.2 1.41-.59l7.78-7.78 2.81-2.81c.8-.78.8-2.07 0-2.86zM5.41 20L4 18.59l7.72-7.72 1.47 1.35L5.41 20z\"/>\n",
              "  </svg>\n",
              "      </button>\n",
              "      \n",
              "  <style>\n",
              "    .colab-df-container {\n",
              "      display:flex;\n",
              "      flex-wrap:wrap;\n",
              "      gap: 12px;\n",
              "    }\n",
              "\n",
              "    .colab-df-convert {\n",
              "      background-color: #E8F0FE;\n",
              "      border: none;\n",
              "      border-radius: 50%;\n",
              "      cursor: pointer;\n",
              "      display: none;\n",
              "      fill: #1967D2;\n",
              "      height: 32px;\n",
              "      padding: 0 0 0 0;\n",
              "      width: 32px;\n",
              "    }\n",
              "\n",
              "    .colab-df-convert:hover {\n",
              "      background-color: #E2EBFA;\n",
              "      box-shadow: 0px 1px 2px rgba(60, 64, 67, 0.3), 0px 1px 3px 1px rgba(60, 64, 67, 0.15);\n",
              "      fill: #174EA6;\n",
              "    }\n",
              "\n",
              "    [theme=dark] .colab-df-convert {\n",
              "      background-color: #3B4455;\n",
              "      fill: #D2E3FC;\n",
              "    }\n",
              "\n",
              "    [theme=dark] .colab-df-convert:hover {\n",
              "      background-color: #434B5C;\n",
              "      box-shadow: 0px 1px 3px 1px rgba(0, 0, 0, 0.15);\n",
              "      filter: drop-shadow(0px 1px 2px rgba(0, 0, 0, 0.3));\n",
              "      fill: #FFFFFF;\n",
              "    }\n",
              "  </style>\n",
              "\n",
              "      <script>\n",
              "        const buttonEl =\n",
              "          document.querySelector('#df-60838893-fd73-49a9-a9c3-b0ece4c33cbf button.colab-df-convert');\n",
              "        buttonEl.style.display =\n",
              "          google.colab.kernel.accessAllowed ? 'block' : 'none';\n",
              "\n",
              "        async function convertToInteractive(key) {\n",
              "          const element = document.querySelector('#df-60838893-fd73-49a9-a9c3-b0ece4c33cbf');\n",
              "          const dataTable =\n",
              "            await google.colab.kernel.invokeFunction('convertToInteractive',\n",
              "                                                     [key], {});\n",
              "          if (!dataTable) return;\n",
              "\n",
              "          const docLinkHtml = 'Like what you see? Visit the ' +\n",
              "            '<a target=\"_blank\" href=https://colab.research.google.com/notebooks/data_table.ipynb>data table notebook</a>'\n",
              "            + ' to learn more about interactive tables.';\n",
              "          element.innerHTML = '';\n",
              "          dataTable['output_type'] = 'display_data';\n",
              "          await google.colab.output.renderOutput(dataTable, element);\n",
              "          const docLink = document.createElement('div');\n",
              "          docLink.innerHTML = docLinkHtml;\n",
              "          element.appendChild(docLink);\n",
              "        }\n",
              "      </script>\n",
              "    </div>\n",
              "  </div>\n",
              "  "
            ]
          },
          "metadata": {},
          "execution_count": 36
        }
      ],
      "source": [
        "# создадим таблицу с комбинированной группой AA\n",
        "aab_users = df_final \\\n",
        "    .groupby(['group'], as_index=False) \\\n",
        "    .agg({'user_id' : 'nunique'}) \\\n",
        "    .rename(columns=({'user_id' : 'group_users'}))\n",
        "\n",
        "aab_users['group'] = ['AA','AA','B']\n",
        "aab_users = aab_users.groupby('group').sum()\n",
        "aab_users"
      ]
    },
    {
      "cell_type": "code",
      "execution_count": 37,
      "metadata": {
        "colab": {
          "base_uri": "https://localhost:8080/",
          "height": 300
        },
        "id": "CanGiDrT4F4C",
        "outputId": "57eccf8f-103d-44f4-f590-c9dba589496c"
      },
      "outputs": [
        {
          "output_type": "execute_result",
          "data": {
            "text/plain": [
              "                       event group  total_users\n",
              "0         cart_screen_appear    AA         2504\n",
              "1         cart_screen_appear     B         1230\n",
              "2         main_screen_appear    AA         4926\n",
              "3         main_screen_appear     B         2493\n",
              "4       offers_screen_appear    AA         3062\n",
              "5       offers_screen_appear     B         1531\n",
              "6  payment_screen_successful    AA         2358\n",
              "7  payment_screen_successful     B         1181"
            ],
            "text/html": [
              "\n",
              "  <div id=\"df-43244abc-16d6-4b34-8d54-0b7eee5843c1\">\n",
              "    <div class=\"colab-df-container\">\n",
              "      <div>\n",
              "<style scoped>\n",
              "    .dataframe tbody tr th:only-of-type {\n",
              "        vertical-align: middle;\n",
              "    }\n",
              "\n",
              "    .dataframe tbody tr th {\n",
              "        vertical-align: top;\n",
              "    }\n",
              "\n",
              "    .dataframe thead th {\n",
              "        text-align: right;\n",
              "    }\n",
              "</style>\n",
              "<table border=\"1\" class=\"dataframe\">\n",
              "  <thead>\n",
              "    <tr style=\"text-align: right;\">\n",
              "      <th></th>\n",
              "      <th>event</th>\n",
              "      <th>group</th>\n",
              "      <th>total_users</th>\n",
              "    </tr>\n",
              "  </thead>\n",
              "  <tbody>\n",
              "    <tr>\n",
              "      <th>0</th>\n",
              "      <td>cart_screen_appear</td>\n",
              "      <td>AA</td>\n",
              "      <td>2504</td>\n",
              "    </tr>\n",
              "    <tr>\n",
              "      <th>1</th>\n",
              "      <td>cart_screen_appear</td>\n",
              "      <td>B</td>\n",
              "      <td>1230</td>\n",
              "    </tr>\n",
              "    <tr>\n",
              "      <th>2</th>\n",
              "      <td>main_screen_appear</td>\n",
              "      <td>AA</td>\n",
              "      <td>4926</td>\n",
              "    </tr>\n",
              "    <tr>\n",
              "      <th>3</th>\n",
              "      <td>main_screen_appear</td>\n",
              "      <td>B</td>\n",
              "      <td>2493</td>\n",
              "    </tr>\n",
              "    <tr>\n",
              "      <th>4</th>\n",
              "      <td>offers_screen_appear</td>\n",
              "      <td>AA</td>\n",
              "      <td>3062</td>\n",
              "    </tr>\n",
              "    <tr>\n",
              "      <th>5</th>\n",
              "      <td>offers_screen_appear</td>\n",
              "      <td>B</td>\n",
              "      <td>1531</td>\n",
              "    </tr>\n",
              "    <tr>\n",
              "      <th>6</th>\n",
              "      <td>payment_screen_successful</td>\n",
              "      <td>AA</td>\n",
              "      <td>2358</td>\n",
              "    </tr>\n",
              "    <tr>\n",
              "      <th>7</th>\n",
              "      <td>payment_screen_successful</td>\n",
              "      <td>B</td>\n",
              "      <td>1181</td>\n",
              "    </tr>\n",
              "  </tbody>\n",
              "</table>\n",
              "</div>\n",
              "      <button class=\"colab-df-convert\" onclick=\"convertToInteractive('df-43244abc-16d6-4b34-8d54-0b7eee5843c1')\"\n",
              "              title=\"Convert this dataframe to an interactive table.\"\n",
              "              style=\"display:none;\">\n",
              "        \n",
              "  <svg xmlns=\"http://www.w3.org/2000/svg\" height=\"24px\"viewBox=\"0 0 24 24\"\n",
              "       width=\"24px\">\n",
              "    <path d=\"M0 0h24v24H0V0z\" fill=\"none\"/>\n",
              "    <path d=\"M18.56 5.44l.94 2.06.94-2.06 2.06-.94-2.06-.94-.94-2.06-.94 2.06-2.06.94zm-11 1L8.5 8.5l.94-2.06 2.06-.94-2.06-.94L8.5 2.5l-.94 2.06-2.06.94zm10 10l.94 2.06.94-2.06 2.06-.94-2.06-.94-.94-2.06-.94 2.06-2.06.94z\"/><path d=\"M17.41 7.96l-1.37-1.37c-.4-.4-.92-.59-1.43-.59-.52 0-1.04.2-1.43.59L10.3 9.45l-7.72 7.72c-.78.78-.78 2.05 0 2.83L4 21.41c.39.39.9.59 1.41.59.51 0 1.02-.2 1.41-.59l7.78-7.78 2.81-2.81c.8-.78.8-2.07 0-2.86zM5.41 20L4 18.59l7.72-7.72 1.47 1.35L5.41 20z\"/>\n",
              "  </svg>\n",
              "      </button>\n",
              "      \n",
              "  <style>\n",
              "    .colab-df-container {\n",
              "      display:flex;\n",
              "      flex-wrap:wrap;\n",
              "      gap: 12px;\n",
              "    }\n",
              "\n",
              "    .colab-df-convert {\n",
              "      background-color: #E8F0FE;\n",
              "      border: none;\n",
              "      border-radius: 50%;\n",
              "      cursor: pointer;\n",
              "      display: none;\n",
              "      fill: #1967D2;\n",
              "      height: 32px;\n",
              "      padding: 0 0 0 0;\n",
              "      width: 32px;\n",
              "    }\n",
              "\n",
              "    .colab-df-convert:hover {\n",
              "      background-color: #E2EBFA;\n",
              "      box-shadow: 0px 1px 2px rgba(60, 64, 67, 0.3), 0px 1px 3px 1px rgba(60, 64, 67, 0.15);\n",
              "      fill: #174EA6;\n",
              "    }\n",
              "\n",
              "    [theme=dark] .colab-df-convert {\n",
              "      background-color: #3B4455;\n",
              "      fill: #D2E3FC;\n",
              "    }\n",
              "\n",
              "    [theme=dark] .colab-df-convert:hover {\n",
              "      background-color: #434B5C;\n",
              "      box-shadow: 0px 1px 3px 1px rgba(0, 0, 0, 0.15);\n",
              "      filter: drop-shadow(0px 1px 2px rgba(0, 0, 0, 0.3));\n",
              "      fill: #FFFFFF;\n",
              "    }\n",
              "  </style>\n",
              "\n",
              "      <script>\n",
              "        const buttonEl =\n",
              "          document.querySelector('#df-43244abc-16d6-4b34-8d54-0b7eee5843c1 button.colab-df-convert');\n",
              "        buttonEl.style.display =\n",
              "          google.colab.kernel.accessAllowed ? 'block' : 'none';\n",
              "\n",
              "        async function convertToInteractive(key) {\n",
              "          const element = document.querySelector('#df-43244abc-16d6-4b34-8d54-0b7eee5843c1');\n",
              "          const dataTable =\n",
              "            await google.colab.kernel.invokeFunction('convertToInteractive',\n",
              "                                                     [key], {});\n",
              "          if (!dataTable) return;\n",
              "\n",
              "          const docLinkHtml = 'Like what you see? Visit the ' +\n",
              "            '<a target=\"_blank\" href=https://colab.research.google.com/notebooks/data_table.ipynb>data table notebook</a>'\n",
              "            + ' to learn more about interactive tables.';\n",
              "          element.innerHTML = '';\n",
              "          dataTable['output_type'] = 'display_data';\n",
              "          await google.colab.output.renderOutput(dataTable, element);\n",
              "          const docLink = document.createElement('div');\n",
              "          docLink.innerHTML = docLinkHtml;\n",
              "          element.appendChild(docLink);\n",
              "        }\n",
              "      </script>\n",
              "    </div>\n",
              "  </div>\n",
              "  "
            ]
          },
          "metadata": {},
          "execution_count": 37
        }
      ],
      "source": [
        "# создадим таблицу по событиям для двух групп\n",
        "aab_events = df_final.replace({'A1':'AA', 'A2':'AA'}) \\\n",
        "    .groupby(['event', 'group'], as_index=False) \\\n",
        "    .agg({'user_id' : 'nunique'}) \\\n",
        "    .rename(columns=({'user_id' : 'total_users'}))\n",
        "\n",
        "aab_events"
      ]
    },
    {
      "cell_type": "markdown",
      "metadata": {
        "id": "u1kjFxf5hhHr"
      },
      "source": [
        "### Проверка в группах AA и B"
      ]
    },
    {
      "cell_type": "markdown",
      "metadata": {
        "id": "c5eZZ5mHhhHs"
      },
      "source": [
        "- $H_0$: доли пользователей в группах AA и B равны\n",
        "- $H_1$: доли пользователей в группах AA и B отличаются"
      ]
    },
    {
      "cell_type": "code",
      "execution_count": 38,
      "metadata": {
        "colab": {
          "base_uri": "https://localhost:8080/"
        },
        "id": "2DxvFHlar5Mb",
        "outputId": "ef7fc53f-a135-4124-8e40-2b9e1e2cd495"
      },
      "outputs": [
        {
          "output_type": "stream",
          "name": "stdout",
          "text": [
            "\n",
            "Группы: AA и B        \n",
            "p-значение: 0.61\n",
            "Событие: payment_screen_successful             \n",
            "Не получилось отвергнуть нулевую гипотезу. \n",
            "---\n",
            "\n",
            "Группы: AA и B        \n",
            "p-значение: 0.19\n",
            "Событие: cart_screen_appear             \n",
            "Не получилось отвергнуть нулевую гипотезу. \n",
            "---\n",
            "\n",
            "Группы: AA и B        \n",
            "p-значение: 0.45\n",
            "Событие: offers_screen_appear             \n",
            "Не получилось отвергнуть нулевую гипотезу. \n",
            "---\n",
            "\n",
            "Группы: AA и B        \n",
            "p-значение: 0.35\n",
            "Событие: main_screen_appear             \n",
            "Не получилось отвергнуть нулевую гипотезу. \n",
            "---\n"
          ]
        }
      ],
      "source": [
        "# запускаем функцию для расчета\n",
        "event_diff_check(aab_users, aab_events, 'AA', 'B')"
      ]
    },
    {
      "cell_type": "markdown",
      "metadata": {
        "id": "nxU_H2xQDju6"
      },
      "source": [
        "При расчете с критическим уровнем статистической значимости в 5% у групп AA и B получились примерно одинаковые результаты.\n",
        "\n",
        "Гипотеза о равенстве групп подтвердилась. "
      ]
    },
    {
      "cell_type": "markdown",
      "metadata": {
        "id": "Jsoksn0Pt_7T"
      },
      "source": [
        "**Вывод:** для групп AA и В нет оснований считать доли разными."
      ]
    },
    {
      "cell_type": "markdown",
      "metadata": {
        "id": "EcBFPSBMJ6u7"
      },
      "source": [
        "### Проверка с p_value=0.1"
      ]
    },
    {
      "cell_type": "markdown",
      "metadata": {
        "id": "RuD2sFL0-bvx"
      },
      "source": [
        "Проведено 16 тестов с уровнем значимости 5% – все они показали, что группы разбиты корректно и не имеют различий в долях.\n",
        "\n",
        "Попробуем изменить значение `p_value` на 10%, чтобы получить другой результат и предотвратить ошибку первого рода:"
      ]
    },
    {
      "cell_type": "code",
      "execution_count": 39,
      "metadata": {
        "id": "MaeSuRc2fhy3"
      },
      "outputs": [],
      "source": [
        "# зададим функцию для проверки гипотезы для двух групп\n",
        "def event_diff_check_01(test_users, test_events, group_1, group_2):\n",
        "\n",
        "    event_name = ['payment_screen_successful', 'cart_screen_appear', \\\n",
        "             'offers_screen_appear', 'main_screen_appear']\n",
        "\n",
        "    alpha = .1 # критический уровень статистической значимости\n",
        "\n",
        "    for name in event_name:\n",
        "        # рассчитываемое событие\n",
        "        successes = np.array([int(test_events.query('group == @group_1 \\\n",
        "                              & event == @name')['total_users']),\\\n",
        "                              int(test_events.query('group == @group_2 \\\n",
        "                              & event == @name')['total_users'])])\n",
        "\n",
        "        # все события\n",
        "        trials = np.array([test_users.loc[group_1, 'group_users'],\\\n",
        "                           test_users.loc[group_2, 'group_users']])\n",
        "\n",
        "        # пропорция успехов в первой группе\n",
        "        p1 = successes[0]/trials[0]\n",
        "\n",
        "        # пропорция успехов во второй группе\n",
        "        p2 = successes[1]/trials[1]\n",
        "\n",
        "        # пропорция успехов в комбинированном датасете\n",
        "        p_combined = (successes[0] + successes[1]) / (trials[0] + trials[1])\n",
        "\n",
        "        # разница пропорций в датасетах\n",
        "        difference = p1 - p2\n",
        "\n",
        "        # считаем статистику в ст.отклонениях стандартного нормального распределения\n",
        "        z_value = difference / mth.sqrt(p_combined * (1 - p_combined) \\\n",
        "                                        * (1/trials[0] + 1/trials[1]))\n",
        "\n",
        "        # задаем стандартное нормальное распределение (среднее 0, ст.отклонение 1)\n",
        "        distr = st.norm(0, 1)\n",
        "\n",
        "        p_value = (1 - distr.cdf(abs(z_value))) * 2\n",
        "\n",
        "        print('\\nГруппы: {} и {}\\\n",
        "        \\np-значение: {}'.format(group_1, group_2, p_value.round(2)))\n",
        "\n",
        "        if (p_value < alpha):\n",
        "            print('Событие: {}\\\n",
        "            \\nОтвергаем нулевую гипотезу! \\n---'\\\n",
        "                  .format(name))\n",
        "        else:\n",
        "            print('Событие: {} \\\n",
        "            \\nНе получилось отвергнуть нулевую гипотезу. \\n---'\\\n",
        "                  .format(name))"
      ]
    },
    {
      "cell_type": "code",
      "execution_count": 40,
      "metadata": {
        "colab": {
          "base_uri": "https://localhost:8080/"
        },
        "id": "DNaw97mA7-q7",
        "outputId": "0dc9fe43-2224-4747-83b6-3801eb8fae27"
      },
      "outputs": [
        {
          "output_type": "stream",
          "name": "stdout",
          "text": [
            "\n",
            "Группы: A1 и A2        \n",
            "p-значение: 0.11\n",
            "Событие: payment_screen_successful             \n",
            "Не получилось отвергнуть нулевую гипотезу. \n",
            "---\n",
            "\n",
            "Группы: A1 и A2        \n",
            "p-значение: 0.23\n",
            "Событие: cart_screen_appear             \n",
            "Не получилось отвергнуть нулевую гипотезу. \n",
            "---\n",
            "\n",
            "Группы: A1 и A2        \n",
            "p-значение: 0.25\n",
            "Событие: offers_screen_appear             \n",
            "Не получилось отвергнуть нулевую гипотезу. \n",
            "---\n",
            "\n",
            "Группы: A1 и A2        \n",
            "p-значение: 0.75\n",
            "Событие: main_screen_appear             \n",
            "Не получилось отвергнуть нулевую гипотезу. \n",
            "---\n",
            "\n",
            "Группы: A1 и B        \n",
            "p-значение: 0.22\n",
            "Событие: payment_screen_successful             \n",
            "Не получилось отвергнуть нулевую гипотезу. \n",
            "---\n",
            "\n",
            "Группы: A1 и B        \n",
            "p-значение: 0.08\n",
            "Событие: cart_screen_appear            \n",
            "Отвергаем нулевую гипотезу! \n",
            "---\n",
            "\n",
            "Группы: A1 и B        \n",
            "p-значение: 0.21\n",
            "Событие: offers_screen_appear             \n",
            "Не получилось отвергнуть нулевую гипотезу. \n",
            "---\n",
            "\n",
            "Группы: A1 и B        \n",
            "p-значение: 0.34\n",
            "Событие: main_screen_appear             \n",
            "Не получилось отвергнуть нулевую гипотезу. \n",
            "---\n",
            "\n",
            "Группы: A2 и B        \n",
            "p-значение: 0.73\n",
            "Событие: payment_screen_successful             \n",
            "Не получилось отвергнуть нулевую гипотезу. \n",
            "---\n",
            "\n",
            "Группы: A2 и B        \n",
            "p-значение: 0.59\n",
            "Событие: cart_screen_appear             \n",
            "Не получилось отвергнуть нулевую гипотезу. \n",
            "---\n",
            "\n",
            "Группы: A2 и B        \n",
            "p-значение: 0.93\n",
            "Событие: offers_screen_appear             \n",
            "Не получилось отвергнуть нулевую гипотезу. \n",
            "---\n",
            "\n",
            "Группы: A2 и B        \n",
            "p-значение: 0.52\n",
            "Событие: main_screen_appear             \n",
            "Не получилось отвергнуть нулевую гипотезу. \n",
            "---\n",
            "\n",
            "Группы: AA и B        \n",
            "p-значение: 0.61\n",
            "Событие: payment_screen_successful             \n",
            "Не получилось отвергнуть нулевую гипотезу. \n",
            "---\n",
            "\n",
            "Группы: AA и B        \n",
            "p-значение: 0.19\n",
            "Событие: cart_screen_appear             \n",
            "Не получилось отвергнуть нулевую гипотезу. \n",
            "---\n",
            "\n",
            "Группы: AA и B        \n",
            "p-значение: 0.45\n",
            "Событие: offers_screen_appear             \n",
            "Не получилось отвергнуть нулевую гипотезу. \n",
            "---\n",
            "\n",
            "Группы: AA и B        \n",
            "p-значение: 0.35\n",
            "Событие: main_screen_appear             \n",
            "Не получилось отвергнуть нулевую гипотезу. \n",
            "---\n"
          ]
        }
      ],
      "source": [
        "event_diff_check_01(ab_users, ab_events, 'A1', 'A2')\n",
        "event_diff_check_01(ab_users, ab_events, 'A1', 'B')\n",
        "event_diff_check_01(ab_users, ab_events, 'A2', 'B')\n",
        "event_diff_check_01(aab_users, aab_events, 'AA', 'B')"
      ]
    },
    {
      "cell_type": "markdown",
      "metadata": {
        "id": "stPjFbpy-Ek1"
      },
      "source": [
        "**Вывод:**\n",
        "\n",
        "- По результатам можно сделать вывод, что результаты эксперимента со шрифтами для контрольных и тестовой групп не имеют статистической значимости. Можно сделать вывод, что изменение шрифтов в приложении не повлияли на поведение пользователей в рамках рассматриваемых событий.\n",
        "\n",
        "- При тестировании с уровнем значимости в 10% среди 16 тестов обнаружен один, который опроверг гипотезу о равентстве групп. Это ошибка первого рода, поэтому стоит оставить уровень значимости в 5%, как и было изначально."
      ]
    },
    {
      "cell_type": "markdown",
      "metadata": {
        "id": "VFDOJ4WA_AgV"
      },
      "source": [
        "## Общий вывод"
      ]
    },
    {
      "cell_type": "markdown",
      "metadata": {
        "id": "wt3whUzED7oM"
      },
      "source": [
        " - **Вводные данные:**\n",
        "- Мы рассмоторели набор данных на 244126 записей и провели предобработку: устранили стилистические ошибки, удалили дубликаты, привели к корректным типам данных\n",
        "\n",
        " - **Обработка данных:**\n",
        "- На этапе изучения данных выяснилось, что из 14 дней наблюдений являются пригодными для анализа только 7: они содержат полные данные. Мы удалили данные за первую неделю наблюдений и проверили, что процент потерь оказался незначимым (около 1,2%). Начало отслеживания событий: 2019-07-25. Конец отслеживания событий: 2019-08-07\n",
        "- Наблюдений всего: 243713. Уникальных пользователей: 7551. Среднее число событий на пользователя: 32. Мода числа событий на пользователя: 5\n",
        "\n",
        " -**Анализ воронки событий:**\n",
        "- Всего найдено 5 уникальных типов событий, самое частое из которых – `main_screen_appear` (Просмотр главного экрана)\n",
        "- Найдено событие, которое можно исключить из анализа, так как его можно пропустить при пользовании приложением – это обучалка (tutorial). Создан новый датасет без этого события\n",
        "- Больше всего пользователей приложение теряет на переходе с шага `main_screen_appear` на шаг `offers_screen_appear`: всего 62% после просмотра главного экрана увидели экран спецпредложения\n",
        "- 48% пользователей доходит до шага `payment_screen_successful` (Оплата) – это хороший показатель конверсии\n",
        "\n",
        " -**Изучение результатов эксперимента:**\n",
        "- Была сформулирована нулевая гипотеза: статистически значимых различий после смены шрифта между группами нет\n",
        "- Мы проверили результаты эксперимента в контрольной группе (A/A-тест): при расчете с критическим уровнем статистической значимости в 5% получились примерно одинаковые результаты. Не получилось отвергнуть нулевую гипотезу\n",
        "- Было проведено 16 тестов с уровнем значимости 5% – все они показали, что группы в A/B-тесте разбиты корректно и не имеют различий в результатах эксперимента. Не получилось отвергнуть нулевую гипотезу\n",
        "- Провели тесты с уровнем значимости в 10% – здесь 1 из 16 тестов опроверг нулевую гипотезу и выявил разницу между группами A1 и B по событию `cart_screen_appear`. Это ошибка первого рода, оставляем уровень значимости в 5%\n",
        "\n",
        "\n",
        "\n",
        "**Итог:**\n",
        "По результатам исследования можно сделать вывод, что эксперимент со шрифтами для контрольных и тестовой групп не имеет статистической значимости результатов. Судя по всему, изменение шрифтов в приложении не повлияли на поведение пользователей в рамках рассматриваемых событий. \n",
        "\n",
        "Однако были выявлены другие проблемы воронки, на которые стоит обратить внимание разработчикам приложения – потери пользователей на некоторых шагах лучше уменьшить, чтобы увеличит доходимость до оплаты."
      ]
    }
  ],
  "metadata": {
    "ExecuteTimeLog": [
      {
        "duration": 1698,
        "start_time": "2022-04-21T13:16:34.535Z"
      },
      {
        "duration": 396,
        "start_time": "2022-04-21T13:16:36.236Z"
      },
      {
        "duration": 48,
        "start_time": "2022-04-21T13:16:36.635Z"
      },
      {
        "duration": 18,
        "start_time": "2022-04-21T13:16:36.686Z"
      },
      {
        "duration": 721,
        "start_time": "2022-04-21T13:16:36.706Z"
      },
      {
        "duration": 126,
        "start_time": "2022-04-21T13:16:37.430Z"
      },
      {
        "duration": 3675,
        "start_time": "2022-04-21T13:16:37.558Z"
      },
      {
        "duration": 50,
        "start_time": "2022-04-21T13:16:41.235Z"
      },
      {
        "duration": 141,
        "start_time": "2022-04-21T13:16:41.287Z"
      },
      {
        "duration": 283,
        "start_time": "2022-04-21T13:16:41.431Z"
      },
      {
        "duration": 69,
        "start_time": "2022-04-21T13:16:41.716Z"
      },
      {
        "duration": 36,
        "start_time": "2022-04-21T13:16:41.787Z"
      },
      {
        "duration": 65,
        "start_time": "2022-04-21T13:16:41.825Z"
      },
      {
        "duration": 1121,
        "start_time": "2022-04-21T13:16:41.892Z"
      },
      {
        "duration": 37,
        "start_time": "2022-04-21T13:16:43.016Z"
      },
      {
        "duration": 73,
        "start_time": "2022-04-21T13:16:43.056Z"
      },
      {
        "duration": 5,
        "start_time": "2022-04-21T13:16:43.131Z"
      },
      {
        "duration": 61,
        "start_time": "2022-04-21T13:16:43.138Z"
      },
      {
        "duration": 42,
        "start_time": "2022-04-21T13:16:43.201Z"
      },
      {
        "duration": 7,
        "start_time": "2022-04-21T13:16:43.245Z"
      },
      {
        "duration": 46,
        "start_time": "2022-04-21T13:16:43.281Z"
      },
      {
        "duration": 99,
        "start_time": "2022-04-21T13:16:43.329Z"
      },
      {
        "duration": 193,
        "start_time": "2022-04-21T13:16:43.430Z"
      },
      {
        "duration": 257,
        "start_time": "2022-04-21T13:16:43.625Z"
      },
      {
        "duration": 64,
        "start_time": "2022-04-21T13:16:43.884Z"
      },
      {
        "duration": 133,
        "start_time": "2022-04-21T13:16:43.950Z"
      },
      {
        "duration": 10,
        "start_time": "2022-04-21T13:16:44.085Z"
      },
      {
        "duration": 46,
        "start_time": "2022-04-21T13:16:44.099Z"
      },
      {
        "duration": 58,
        "start_time": "2022-04-21T13:16:44.147Z"
      },
      {
        "duration": 38,
        "start_time": "2022-04-21T13:16:44.207Z"
      },
      {
        "duration": 90,
        "start_time": "2022-04-21T13:16:44.247Z"
      },
      {
        "duration": 295,
        "start_time": "2022-04-21T13:16:44.339Z"
      },
      {
        "duration": 47,
        "start_time": "2022-04-21T13:16:44.636Z"
      },
      {
        "duration": 10,
        "start_time": "2022-04-21T13:16:44.686Z"
      },
      {
        "duration": 151,
        "start_time": "2022-04-21T13:16:44.698Z"
      },
      {
        "duration": 1684,
        "start_time": "2022-04-21T13:17:10.659Z"
      },
      {
        "duration": 611,
        "start_time": "2022-04-21T13:17:12.345Z"
      },
      {
        "duration": 46,
        "start_time": "2022-04-21T13:17:12.959Z"
      },
      {
        "duration": 18,
        "start_time": "2022-04-21T13:17:13.008Z"
      },
      {
        "duration": 696,
        "start_time": "2022-04-21T13:17:13.028Z"
      },
      {
        "duration": 135,
        "start_time": "2022-04-21T13:17:13.726Z"
      },
      {
        "duration": 3611,
        "start_time": "2022-04-21T13:17:13.863Z"
      },
      {
        "duration": 45,
        "start_time": "2022-04-21T13:17:17.476Z"
      },
      {
        "duration": 145,
        "start_time": "2022-04-21T13:17:17.524Z"
      },
      {
        "duration": 189,
        "start_time": "2022-04-21T13:17:17.673Z"
      },
      {
        "duration": 62,
        "start_time": "2022-04-21T13:17:17.865Z"
      },
      {
        "duration": 54,
        "start_time": "2022-04-21T13:17:17.929Z"
      },
      {
        "duration": 44,
        "start_time": "2022-04-21T13:17:17.985Z"
      },
      {
        "duration": 1071,
        "start_time": "2022-04-21T13:17:18.031Z"
      },
      {
        "duration": 39,
        "start_time": "2022-04-21T13:17:19.105Z"
      },
      {
        "duration": 76,
        "start_time": "2022-04-21T13:17:19.146Z"
      },
      {
        "duration": 6,
        "start_time": "2022-04-21T13:17:19.224Z"
      },
      {
        "duration": 68,
        "start_time": "2022-04-21T13:17:19.232Z"
      },
      {
        "duration": 45,
        "start_time": "2022-04-21T13:17:19.303Z"
      },
      {
        "duration": 7,
        "start_time": "2022-04-21T13:17:19.350Z"
      },
      {
        "duration": 46,
        "start_time": "2022-04-21T13:17:19.382Z"
      },
      {
        "duration": 104,
        "start_time": "2022-04-21T13:17:19.430Z"
      },
      {
        "duration": 190,
        "start_time": "2022-04-21T13:17:19.536Z"
      },
      {
        "duration": 222,
        "start_time": "2022-04-21T13:17:19.728Z"
      },
      {
        "duration": 89,
        "start_time": "2022-04-21T13:17:19.952Z"
      },
      {
        "duration": 139,
        "start_time": "2022-04-21T13:17:20.043Z"
      },
      {
        "duration": 10,
        "start_time": "2022-04-21T13:17:20.184Z"
      },
      {
        "duration": 54,
        "start_time": "2022-04-21T13:17:20.198Z"
      },
      {
        "duration": 47,
        "start_time": "2022-04-21T13:17:20.254Z"
      },
      {
        "duration": 39,
        "start_time": "2022-04-21T13:17:20.304Z"
      },
      {
        "duration": 100,
        "start_time": "2022-04-21T13:17:20.345Z"
      },
      {
        "duration": 400,
        "start_time": "2022-04-21T13:17:20.447Z"
      },
      {
        "duration": 48,
        "start_time": "2022-04-21T13:17:20.849Z"
      },
      {
        "duration": 22,
        "start_time": "2022-04-21T13:17:20.899Z"
      },
      {
        "duration": 151,
        "start_time": "2022-04-21T13:17:20.923Z"
      },
      {
        "duration": 96,
        "start_time": "2022-04-21T13:30:56.782Z"
      },
      {
        "duration": 7,
        "start_time": "2022-04-21T14:00:32.794Z"
      },
      {
        "duration": 99,
        "start_time": "2022-04-21T14:15:52.670Z"
      },
      {
        "duration": 102,
        "start_time": "2022-04-21T17:06:14.396Z"
      },
      {
        "duration": 100,
        "start_time": "2022-04-21T17:06:29.748Z"
      },
      {
        "duration": 10,
        "start_time": "2022-04-21T17:06:44.835Z"
      },
      {
        "duration": 1715,
        "start_time": "2022-04-21T17:06:54.789Z"
      },
      {
        "duration": 491,
        "start_time": "2022-04-21T17:06:56.506Z"
      },
      {
        "duration": 48,
        "start_time": "2022-04-21T17:06:57.000Z"
      },
      {
        "duration": 18,
        "start_time": "2022-04-21T17:06:57.051Z"
      },
      {
        "duration": 756,
        "start_time": "2022-04-21T17:06:57.071Z"
      },
      {
        "duration": 218,
        "start_time": "2022-04-21T17:06:57.829Z"
      },
      {
        "duration": 4644,
        "start_time": "2022-04-21T17:06:58.049Z"
      },
      {
        "duration": 50,
        "start_time": "2022-04-21T17:07:02.695Z"
      },
      {
        "duration": 170,
        "start_time": "2022-04-21T17:07:02.748Z"
      },
      {
        "duration": 191,
        "start_time": "2022-04-21T17:07:02.928Z"
      },
      {
        "duration": 1807,
        "start_time": "2022-04-21T17:07:03.121Z"
      },
      {
        "duration": 0,
        "start_time": "2022-04-21T17:07:04.931Z"
      },
      {
        "duration": 0,
        "start_time": "2022-04-21T17:07:04.932Z"
      },
      {
        "duration": 0,
        "start_time": "2022-04-21T17:07:04.934Z"
      },
      {
        "duration": 0,
        "start_time": "2022-04-21T17:07:04.936Z"
      },
      {
        "duration": 0,
        "start_time": "2022-04-21T17:07:04.937Z"
      },
      {
        "duration": 0,
        "start_time": "2022-04-21T17:07:04.939Z"
      },
      {
        "duration": 0,
        "start_time": "2022-04-21T17:07:04.941Z"
      },
      {
        "duration": 0,
        "start_time": "2022-04-21T17:07:04.942Z"
      },
      {
        "duration": 0,
        "start_time": "2022-04-21T17:07:04.944Z"
      },
      {
        "duration": 0,
        "start_time": "2022-04-21T17:07:04.946Z"
      },
      {
        "duration": 1,
        "start_time": "2022-04-21T17:07:04.947Z"
      },
      {
        "duration": 0,
        "start_time": "2022-04-21T17:07:04.949Z"
      },
      {
        "duration": 0,
        "start_time": "2022-04-21T17:07:04.951Z"
      },
      {
        "duration": 0,
        "start_time": "2022-04-21T17:07:04.953Z"
      },
      {
        "duration": 0,
        "start_time": "2022-04-21T17:07:04.954Z"
      },
      {
        "duration": 0,
        "start_time": "2022-04-21T17:07:04.955Z"
      },
      {
        "duration": 0,
        "start_time": "2022-04-21T17:07:04.957Z"
      },
      {
        "duration": 0,
        "start_time": "2022-04-21T17:07:04.959Z"
      },
      {
        "duration": 0,
        "start_time": "2022-04-21T17:07:04.960Z"
      },
      {
        "duration": 0,
        "start_time": "2022-04-21T17:07:04.961Z"
      },
      {
        "duration": 0,
        "start_time": "2022-04-21T17:07:04.962Z"
      },
      {
        "duration": 1,
        "start_time": "2022-04-21T17:07:04.963Z"
      },
      {
        "duration": 0,
        "start_time": "2022-04-21T17:07:04.965Z"
      },
      {
        "duration": 0,
        "start_time": "2022-04-21T17:07:04.966Z"
      },
      {
        "duration": 0,
        "start_time": "2022-04-21T17:07:04.967Z"
      },
      {
        "duration": 1632,
        "start_time": "2022-04-21T17:08:24.851Z"
      },
      {
        "duration": 2417,
        "start_time": "2022-04-21T17:08:40.076Z"
      },
      {
        "duration": 17,
        "start_time": "2022-04-21T17:10:14.862Z"
      },
      {
        "duration": 15,
        "start_time": "2022-04-21T17:10:53.953Z"
      },
      {
        "duration": 11,
        "start_time": "2022-04-21T17:11:04.732Z"
      },
      {
        "duration": 12,
        "start_time": "2022-04-21T17:11:10.486Z"
      },
      {
        "duration": 14,
        "start_time": "2022-04-21T17:11:17.851Z"
      },
      {
        "duration": 65,
        "start_time": "2022-04-21T17:24:35.445Z"
      },
      {
        "duration": 64,
        "start_time": "2022-04-21T17:24:40.519Z"
      },
      {
        "duration": 66,
        "start_time": "2022-04-21T17:24:50.973Z"
      },
      {
        "duration": 63,
        "start_time": "2022-04-21T17:25:11.887Z"
      },
      {
        "duration": 1655,
        "start_time": "2022-04-21T17:27:14.180Z"
      },
      {
        "duration": 472,
        "start_time": "2022-04-21T17:27:15.838Z"
      },
      {
        "duration": 43,
        "start_time": "2022-04-21T17:27:16.312Z"
      },
      {
        "duration": 17,
        "start_time": "2022-04-21T17:27:16.358Z"
      },
      {
        "duration": 970,
        "start_time": "2022-04-21T17:27:16.377Z"
      },
      {
        "duration": 277,
        "start_time": "2022-04-21T17:27:17.350Z"
      },
      {
        "duration": 4360,
        "start_time": "2022-04-21T17:27:17.630Z"
      },
      {
        "duration": 50,
        "start_time": "2022-04-21T17:27:21.992Z"
      },
      {
        "duration": 155,
        "start_time": "2022-04-21T17:27:22.044Z"
      },
      {
        "duration": 193,
        "start_time": "2022-04-21T17:27:22.203Z"
      },
      {
        "duration": 177,
        "start_time": "2022-04-21T17:27:22.398Z"
      },
      {
        "duration": 0,
        "start_time": "2022-04-21T17:27:22.578Z"
      },
      {
        "duration": 0,
        "start_time": "2022-04-21T17:27:22.579Z"
      },
      {
        "duration": 0,
        "start_time": "2022-04-21T17:27:22.580Z"
      },
      {
        "duration": 0,
        "start_time": "2022-04-21T17:27:22.581Z"
      },
      {
        "duration": 0,
        "start_time": "2022-04-21T17:27:22.583Z"
      },
      {
        "duration": 0,
        "start_time": "2022-04-21T17:27:22.584Z"
      },
      {
        "duration": 0,
        "start_time": "2022-04-21T17:27:22.585Z"
      },
      {
        "duration": 0,
        "start_time": "2022-04-21T17:27:22.586Z"
      },
      {
        "duration": 0,
        "start_time": "2022-04-21T17:27:22.588Z"
      },
      {
        "duration": 0,
        "start_time": "2022-04-21T17:27:22.589Z"
      },
      {
        "duration": 0,
        "start_time": "2022-04-21T17:27:22.591Z"
      },
      {
        "duration": 0,
        "start_time": "2022-04-21T17:27:22.625Z"
      },
      {
        "duration": 0,
        "start_time": "2022-04-21T17:27:22.629Z"
      },
      {
        "duration": 0,
        "start_time": "2022-04-21T17:27:22.631Z"
      },
      {
        "duration": 0,
        "start_time": "2022-04-21T17:27:22.633Z"
      },
      {
        "duration": 0,
        "start_time": "2022-04-21T17:27:22.635Z"
      },
      {
        "duration": 0,
        "start_time": "2022-04-21T17:27:22.639Z"
      },
      {
        "duration": 0,
        "start_time": "2022-04-21T17:27:22.641Z"
      },
      {
        "duration": 0,
        "start_time": "2022-04-21T17:27:22.642Z"
      },
      {
        "duration": 0,
        "start_time": "2022-04-21T17:27:22.644Z"
      },
      {
        "duration": 0,
        "start_time": "2022-04-21T17:27:22.645Z"
      },
      {
        "duration": 0,
        "start_time": "2022-04-21T17:27:22.647Z"
      },
      {
        "duration": 0,
        "start_time": "2022-04-21T17:27:22.649Z"
      },
      {
        "duration": 0,
        "start_time": "2022-04-21T17:27:22.650Z"
      },
      {
        "duration": 0,
        "start_time": "2022-04-21T17:27:22.652Z"
      },
      {
        "duration": 0,
        "start_time": "2022-04-21T17:27:22.653Z"
      },
      {
        "duration": 65,
        "start_time": "2022-04-21T17:27:37.781Z"
      },
      {
        "duration": 1699,
        "start_time": "2022-04-21T17:27:44.200Z"
      },
      {
        "duration": 662,
        "start_time": "2022-04-21T17:27:45.901Z"
      },
      {
        "duration": 40,
        "start_time": "2022-04-21T17:27:46.566Z"
      },
      {
        "duration": 26,
        "start_time": "2022-04-21T17:27:46.608Z"
      },
      {
        "duration": 703,
        "start_time": "2022-04-21T17:27:46.636Z"
      },
      {
        "duration": 128,
        "start_time": "2022-04-21T17:27:47.341Z"
      },
      {
        "duration": 3789,
        "start_time": "2022-04-21T17:27:47.471Z"
      },
      {
        "duration": 43,
        "start_time": "2022-04-21T17:27:51.262Z"
      },
      {
        "duration": 151,
        "start_time": "2022-04-21T17:27:51.326Z"
      },
      {
        "duration": 191,
        "start_time": "2022-04-21T17:27:51.481Z"
      },
      {
        "duration": 78,
        "start_time": "2022-04-21T17:27:51.674Z"
      },
      {
        "duration": 75,
        "start_time": "2022-04-21T17:27:51.754Z"
      },
      {
        "duration": 37,
        "start_time": "2022-04-21T17:27:51.831Z"
      },
      {
        "duration": 73,
        "start_time": "2022-04-21T17:27:51.871Z"
      },
      {
        "duration": 1075,
        "start_time": "2022-04-21T17:27:51.946Z"
      },
      {
        "duration": 37,
        "start_time": "2022-04-21T17:27:53.024Z"
      },
      {
        "duration": 96,
        "start_time": "2022-04-21T17:27:53.063Z"
      },
      {
        "duration": 6,
        "start_time": "2022-04-21T17:27:53.161Z"
      },
      {
        "duration": 70,
        "start_time": "2022-04-21T17:27:53.170Z"
      },
      {
        "duration": 44,
        "start_time": "2022-04-21T17:27:53.243Z"
      },
      {
        "duration": 6,
        "start_time": "2022-04-21T17:27:53.290Z"
      },
      {
        "duration": 53,
        "start_time": "2022-04-21T17:27:53.323Z"
      },
      {
        "duration": 116,
        "start_time": "2022-04-21T17:27:53.380Z"
      },
      {
        "duration": 207,
        "start_time": "2022-04-21T17:27:53.498Z"
      },
      {
        "duration": 270,
        "start_time": "2022-04-21T17:27:53.708Z"
      },
      {
        "duration": 92,
        "start_time": "2022-04-21T17:27:53.981Z"
      },
      {
        "duration": 135,
        "start_time": "2022-04-21T17:27:54.075Z"
      },
      {
        "duration": 10,
        "start_time": "2022-04-21T17:27:54.224Z"
      },
      {
        "duration": 64,
        "start_time": "2022-04-21T17:27:54.236Z"
      },
      {
        "duration": 47,
        "start_time": "2022-04-21T17:27:54.302Z"
      },
      {
        "duration": 41,
        "start_time": "2022-04-21T17:27:54.351Z"
      },
      {
        "duration": 94,
        "start_time": "2022-04-21T17:27:54.395Z"
      },
      {
        "duration": 315,
        "start_time": "2022-04-21T17:27:54.492Z"
      },
      {
        "duration": 46,
        "start_time": "2022-04-21T17:27:54.809Z"
      },
      {
        "duration": 11,
        "start_time": "2022-04-21T17:27:54.858Z"
      },
      {
        "duration": 190,
        "start_time": "2022-04-21T17:27:54.872Z"
      },
      {
        "duration": 88,
        "start_time": "2022-04-21T19:37:47.500Z"
      },
      {
        "duration": 78,
        "start_time": "2022-04-21T19:38:23.284Z"
      },
      {
        "duration": 74,
        "start_time": "2022-04-21T19:38:52.264Z"
      },
      {
        "duration": 203,
        "start_time": "2022-04-21T19:39:57.580Z"
      },
      {
        "duration": 72,
        "start_time": "2022-04-21T19:40:05.765Z"
      },
      {
        "duration": 87,
        "start_time": "2022-04-21T19:40:19.216Z"
      },
      {
        "duration": 92,
        "start_time": "2022-04-21T19:41:49.848Z"
      },
      {
        "duration": 499,
        "start_time": "2022-04-21T19:42:50.320Z"
      },
      {
        "duration": 92,
        "start_time": "2022-04-21T19:43:04.301Z"
      },
      {
        "duration": 96,
        "start_time": "2022-04-21T19:43:11.991Z"
      },
      {
        "duration": 105,
        "start_time": "2022-04-21T19:45:08.696Z"
      },
      {
        "duration": 94,
        "start_time": "2022-04-21T19:49:56.367Z"
      },
      {
        "duration": 98,
        "start_time": "2022-04-21T19:50:47.118Z"
      },
      {
        "duration": 28,
        "start_time": "2022-04-21T19:51:51.572Z"
      },
      {
        "duration": 17,
        "start_time": "2022-04-21T19:51:55.281Z"
      },
      {
        "duration": 15,
        "start_time": "2022-04-21T19:52:11.694Z"
      },
      {
        "duration": 15,
        "start_time": "2022-04-21T19:52:21.772Z"
      },
      {
        "duration": 20,
        "start_time": "2022-04-21T19:52:24.822Z"
      },
      {
        "duration": 14,
        "start_time": "2022-04-21T19:52:56.831Z"
      },
      {
        "duration": 14,
        "start_time": "2022-04-21T19:53:29.138Z"
      },
      {
        "duration": 102,
        "start_time": "2022-04-21T19:56:59.499Z"
      },
      {
        "duration": 1797,
        "start_time": "2022-04-21T19:58:59.127Z"
      },
      {
        "duration": 89,
        "start_time": "2022-04-21T19:59:03.792Z"
      },
      {
        "duration": 87,
        "start_time": "2022-04-21T19:59:57.443Z"
      },
      {
        "duration": 93,
        "start_time": "2022-04-21T20:00:09.250Z"
      },
      {
        "duration": 15,
        "start_time": "2022-04-21T20:00:29.981Z"
      },
      {
        "duration": 24,
        "start_time": "2022-04-21T20:00:59.719Z"
      },
      {
        "duration": 14,
        "start_time": "2022-04-21T20:01:35.144Z"
      },
      {
        "duration": 148,
        "start_time": "2022-04-21T20:01:40.657Z"
      },
      {
        "duration": 140,
        "start_time": "2022-04-21T20:01:48.978Z"
      },
      {
        "duration": 15,
        "start_time": "2022-04-21T20:01:56.437Z"
      },
      {
        "duration": 140,
        "start_time": "2022-04-21T20:02:01.432Z"
      },
      {
        "duration": 144,
        "start_time": "2022-04-21T20:03:39.745Z"
      },
      {
        "duration": 155,
        "start_time": "2022-04-21T20:03:48.001Z"
      },
      {
        "duration": 377,
        "start_time": "2022-04-21T20:04:19.488Z"
      },
      {
        "duration": 148,
        "start_time": "2022-04-21T20:04:24.640Z"
      },
      {
        "duration": 125,
        "start_time": "2022-04-21T20:04:55.861Z"
      },
      {
        "duration": 144,
        "start_time": "2022-04-21T20:05:06.054Z"
      },
      {
        "duration": 149,
        "start_time": "2022-04-21T20:05:15.022Z"
      },
      {
        "duration": 158,
        "start_time": "2022-04-21T20:05:21.352Z"
      },
      {
        "duration": 191,
        "start_time": "2022-04-21T20:05:53.218Z"
      },
      {
        "duration": 151,
        "start_time": "2022-04-21T20:05:58.938Z"
      },
      {
        "duration": 136,
        "start_time": "2022-04-21T20:06:11.242Z"
      },
      {
        "duration": 143,
        "start_time": "2022-04-21T20:06:27.069Z"
      },
      {
        "duration": 156,
        "start_time": "2022-04-21T20:07:45.210Z"
      },
      {
        "duration": 145,
        "start_time": "2022-04-21T20:07:55.978Z"
      },
      {
        "duration": 146,
        "start_time": "2022-04-21T20:08:05.738Z"
      },
      {
        "duration": 144,
        "start_time": "2022-04-21T20:08:20.397Z"
      },
      {
        "duration": 133,
        "start_time": "2022-04-21T20:08:25.104Z"
      },
      {
        "duration": 136,
        "start_time": "2022-04-21T20:09:01.591Z"
      },
      {
        "duration": 146,
        "start_time": "2022-04-21T20:09:06.449Z"
      },
      {
        "duration": 146,
        "start_time": "2022-04-21T20:09:13.398Z"
      },
      {
        "duration": 134,
        "start_time": "2022-04-21T20:09:34.311Z"
      },
      {
        "duration": 20,
        "start_time": "2022-04-21T20:09:54.240Z"
      },
      {
        "duration": 180,
        "start_time": "2022-04-21T20:10:10.385Z"
      },
      {
        "duration": 93,
        "start_time": "2022-04-21T20:11:06.144Z"
      },
      {
        "duration": 2265,
        "start_time": "2022-04-21T20:12:59.874Z"
      },
      {
        "duration": 582,
        "start_time": "2022-04-21T20:13:06.645Z"
      },
      {
        "duration": 589,
        "start_time": "2022-04-21T20:13:14.057Z"
      },
      {
        "duration": 120,
        "start_time": "2022-04-21T20:13:30.432Z"
      },
      {
        "duration": 6,
        "start_time": "2022-04-21T20:13:47.957Z"
      },
      {
        "duration": 1429,
        "start_time": "2022-04-21T20:15:56.805Z"
      },
      {
        "duration": 1294,
        "start_time": "2022-04-21T20:16:00.879Z"
      },
      {
        "duration": 3752,
        "start_time": "2022-04-21T20:16:23.852Z"
      },
      {
        "duration": 2248,
        "start_time": "2022-04-21T20:17:02.061Z"
      },
      {
        "duration": 1520,
        "start_time": "2022-04-21T20:17:14.374Z"
      },
      {
        "duration": 15,
        "start_time": "2022-04-21T20:17:37.186Z"
      },
      {
        "duration": 1371,
        "start_time": "2022-04-21T20:18:12.849Z"
      },
      {
        "duration": 111,
        "start_time": "2022-04-21T20:18:44.304Z"
      },
      {
        "duration": 126,
        "start_time": "2022-04-21T20:19:07.321Z"
      },
      {
        "duration": 25,
        "start_time": "2022-04-21T20:19:33.497Z"
      },
      {
        "duration": 116,
        "start_time": "2022-04-21T20:20:14.189Z"
      },
      {
        "duration": 114,
        "start_time": "2022-04-21T20:20:28.470Z"
      },
      {
        "duration": 12,
        "start_time": "2022-04-21T20:20:44.820Z"
      },
      {
        "duration": 1787,
        "start_time": "2022-04-21T20:21:30.799Z"
      },
      {
        "duration": 2326,
        "start_time": "2022-04-21T20:21:41.608Z"
      },
      {
        "duration": 497,
        "start_time": "2022-04-21T20:21:58.878Z"
      },
      {
        "duration": 164,
        "start_time": "2022-04-21T20:22:07.509Z"
      },
      {
        "duration": 13,
        "start_time": "2022-04-21T20:26:16.369Z"
      },
      {
        "duration": 14,
        "start_time": "2022-04-21T20:26:25.594Z"
      },
      {
        "duration": 113,
        "start_time": "2022-04-21T20:27:56.112Z"
      },
      {
        "duration": 117,
        "start_time": "2022-04-21T20:28:11.786Z"
      },
      {
        "duration": 61,
        "start_time": "2022-04-21T20:28:37.938Z"
      },
      {
        "duration": 13,
        "start_time": "2022-04-21T20:28:42.148Z"
      },
      {
        "duration": 124,
        "start_time": "2022-04-21T20:28:49.541Z"
      },
      {
        "duration": 119,
        "start_time": "2022-04-21T20:29:09.538Z"
      },
      {
        "duration": 125,
        "start_time": "2022-04-21T20:29:13.634Z"
      },
      {
        "duration": 129,
        "start_time": "2022-04-21T20:29:21.409Z"
      },
      {
        "duration": 135,
        "start_time": "2022-04-21T20:29:24.878Z"
      },
      {
        "duration": 117,
        "start_time": "2022-04-21T20:29:34.501Z"
      },
      {
        "duration": 132,
        "start_time": "2022-04-21T20:29:53.215Z"
      },
      {
        "duration": 132,
        "start_time": "2022-04-21T20:30:51.569Z"
      },
      {
        "duration": 129,
        "start_time": "2022-04-21T20:31:08.972Z"
      },
      {
        "duration": 123,
        "start_time": "2022-04-21T20:31:19.338Z"
      },
      {
        "duration": 65,
        "start_time": "2022-04-21T20:31:42.878Z"
      },
      {
        "duration": 137,
        "start_time": "2022-04-21T20:31:45.519Z"
      },
      {
        "duration": 143,
        "start_time": "2022-04-21T20:31:56.226Z"
      },
      {
        "duration": 130,
        "start_time": "2022-04-21T20:32:10.075Z"
      },
      {
        "duration": 160,
        "start_time": "2022-04-21T20:32:18.559Z"
      },
      {
        "duration": 135,
        "start_time": "2022-04-21T20:32:27.566Z"
      },
      {
        "duration": 130,
        "start_time": "2022-04-21T20:32:51.646Z"
      },
      {
        "duration": 143,
        "start_time": "2022-04-21T20:33:08.312Z"
      },
      {
        "duration": 132,
        "start_time": "2022-04-21T20:33:14.571Z"
      },
      {
        "duration": 143,
        "start_time": "2022-04-21T20:33:18.798Z"
      },
      {
        "duration": 25,
        "start_time": "2022-04-21T20:33:56.559Z"
      },
      {
        "duration": 42,
        "start_time": "2022-04-21T20:34:04.656Z"
      },
      {
        "duration": 44,
        "start_time": "2022-04-21T20:34:23.154Z"
      },
      {
        "duration": 48,
        "start_time": "2022-04-21T20:34:28.089Z"
      },
      {
        "duration": 136,
        "start_time": "2022-04-21T20:34:45.582Z"
      },
      {
        "duration": 10,
        "start_time": "2022-04-21T20:36:29.338Z"
      },
      {
        "duration": 49,
        "start_time": "2022-04-21T20:36:33.841Z"
      },
      {
        "duration": 8,
        "start_time": "2022-04-21T20:44:07.484Z"
      },
      {
        "duration": 211,
        "start_time": "2022-04-21T20:44:15.255Z"
      },
      {
        "duration": 7,
        "start_time": "2022-04-21T20:50:04.041Z"
      },
      {
        "duration": 102,
        "start_time": "2022-04-21T20:53:20.128Z"
      },
      {
        "duration": 7,
        "start_time": "2022-04-21T20:54:40.298Z"
      },
      {
        "duration": 122,
        "start_time": "2022-04-21T20:55:51.224Z"
      },
      {
        "duration": 7,
        "start_time": "2022-04-21T20:55:54.737Z"
      },
      {
        "duration": 14,
        "start_time": "2022-04-21T20:56:03.325Z"
      },
      {
        "duration": 8,
        "start_time": "2022-04-21T20:56:05.424Z"
      },
      {
        "duration": 24,
        "start_time": "2022-04-21T20:56:07.523Z"
      },
      {
        "duration": 14,
        "start_time": "2022-04-21T20:56:15.623Z"
      },
      {
        "duration": 7,
        "start_time": "2022-04-21T20:56:16.816Z"
      },
      {
        "duration": 17,
        "start_time": "2022-04-21T20:56:18.340Z"
      },
      {
        "duration": 10,
        "start_time": "2022-04-21T20:56:30.471Z"
      },
      {
        "duration": 7,
        "start_time": "2022-04-21T20:56:31.155Z"
      },
      {
        "duration": 47,
        "start_time": "2022-04-21T20:56:35.442Z"
      },
      {
        "duration": 48,
        "start_time": "2022-04-21T21:00:49.114Z"
      },
      {
        "duration": 67,
        "start_time": "2022-04-21T21:01:56.651Z"
      },
      {
        "duration": 42,
        "start_time": "2022-04-21T21:02:03.562Z"
      },
      {
        "duration": 40,
        "start_time": "2022-04-21T21:02:52.592Z"
      },
      {
        "duration": 1738,
        "start_time": "2022-04-21T21:03:41.826Z"
      },
      {
        "duration": 512,
        "start_time": "2022-04-21T21:03:43.567Z"
      },
      {
        "duration": 58,
        "start_time": "2022-04-21T21:03:44.081Z"
      },
      {
        "duration": 19,
        "start_time": "2022-04-21T21:03:44.143Z"
      },
      {
        "duration": 772,
        "start_time": "2022-04-21T21:03:44.165Z"
      },
      {
        "duration": 137,
        "start_time": "2022-04-21T21:03:44.941Z"
      },
      {
        "duration": 3673,
        "start_time": "2022-04-21T21:03:45.081Z"
      },
      {
        "duration": 42,
        "start_time": "2022-04-21T21:03:48.757Z"
      },
      {
        "duration": 178,
        "start_time": "2022-04-21T21:03:48.801Z"
      },
      {
        "duration": 195,
        "start_time": "2022-04-21T21:03:48.983Z"
      },
      {
        "duration": 93,
        "start_time": "2022-04-21T21:03:49.180Z"
      },
      {
        "duration": 73,
        "start_time": "2022-04-21T21:03:49.275Z"
      },
      {
        "duration": 38,
        "start_time": "2022-04-21T21:03:49.350Z"
      },
      {
        "duration": 83,
        "start_time": "2022-04-21T21:03:49.391Z"
      },
      {
        "duration": 1233,
        "start_time": "2022-04-21T21:03:49.476Z"
      },
      {
        "duration": 49,
        "start_time": "2022-04-21T21:03:50.712Z"
      },
      {
        "duration": 95,
        "start_time": "2022-04-21T21:03:50.764Z"
      },
      {
        "duration": 6,
        "start_time": "2022-04-21T21:03:50.862Z"
      },
      {
        "duration": 76,
        "start_time": "2022-04-21T21:03:50.871Z"
      },
      {
        "duration": 45,
        "start_time": "2022-04-21T21:03:50.950Z"
      },
      {
        "duration": 30,
        "start_time": "2022-04-21T21:03:50.997Z"
      },
      {
        "duration": 48,
        "start_time": "2022-04-21T21:03:51.032Z"
      },
      {
        "duration": 110,
        "start_time": "2022-04-21T21:03:51.082Z"
      },
      {
        "duration": 220,
        "start_time": "2022-04-21T21:03:51.194Z"
      },
      {
        "duration": 270,
        "start_time": "2022-04-21T21:03:51.417Z"
      },
      {
        "duration": 72,
        "start_time": "2022-04-21T21:03:51.726Z"
      },
      {
        "duration": 150,
        "start_time": "2022-04-21T21:03:51.828Z"
      },
      {
        "duration": 10,
        "start_time": "2022-04-21T21:03:51.984Z"
      },
      {
        "duration": 31,
        "start_time": "2022-04-21T21:03:51.997Z"
      },
      {
        "duration": 67,
        "start_time": "2022-04-21T21:03:52.036Z"
      },
      {
        "duration": 57,
        "start_time": "2022-04-21T21:03:52.105Z"
      },
      {
        "duration": 64,
        "start_time": "2022-04-21T21:03:52.165Z"
      },
      {
        "duration": 70,
        "start_time": "2022-04-21T21:03:52.232Z"
      },
      {
        "duration": 306,
        "start_time": "2022-04-21T21:03:52.325Z"
      },
      {
        "duration": 40,
        "start_time": "2022-04-21T21:03:52.635Z"
      },
      {
        "duration": 14,
        "start_time": "2022-04-21T21:03:52.678Z"
      },
      {
        "duration": 150,
        "start_time": "2022-04-21T21:03:52.737Z"
      },
      {
        "duration": 46,
        "start_time": "2022-04-21T21:06:34.676Z"
      },
      {
        "duration": 77,
        "start_time": "2022-04-21T21:06:55.377Z"
      },
      {
        "duration": 1676,
        "start_time": "2022-04-22T10:25:02.123Z"
      },
      {
        "duration": 650,
        "start_time": "2022-04-22T10:25:03.802Z"
      },
      {
        "duration": 42,
        "start_time": "2022-04-22T10:25:04.454Z"
      },
      {
        "duration": 19,
        "start_time": "2022-04-22T10:25:04.500Z"
      },
      {
        "duration": 690,
        "start_time": "2022-04-22T10:25:04.552Z"
      },
      {
        "duration": 134,
        "start_time": "2022-04-22T10:25:05.252Z"
      },
      {
        "duration": 3686,
        "start_time": "2022-04-22T10:25:05.389Z"
      },
      {
        "duration": 42,
        "start_time": "2022-04-22T10:25:09.077Z"
      },
      {
        "duration": 147,
        "start_time": "2022-04-22T10:25:09.121Z"
      },
      {
        "duration": 181,
        "start_time": "2022-04-22T10:25:09.272Z"
      },
      {
        "duration": 72,
        "start_time": "2022-04-22T10:25:09.455Z"
      },
      {
        "duration": 77,
        "start_time": "2022-04-22T10:25:09.529Z"
      },
      {
        "duration": 52,
        "start_time": "2022-04-22T10:25:09.608Z"
      },
      {
        "duration": 45,
        "start_time": "2022-04-22T10:25:09.663Z"
      },
      {
        "duration": 1082,
        "start_time": "2022-04-22T10:25:09.710Z"
      },
      {
        "duration": 38,
        "start_time": "2022-04-22T10:25:10.794Z"
      },
      {
        "duration": 85,
        "start_time": "2022-04-22T10:25:10.834Z"
      },
      {
        "duration": 6,
        "start_time": "2022-04-22T10:25:10.921Z"
      },
      {
        "duration": 59,
        "start_time": "2022-04-22T10:25:10.931Z"
      },
      {
        "duration": 44,
        "start_time": "2022-04-22T10:25:10.992Z"
      },
      {
        "duration": 7,
        "start_time": "2022-04-22T10:25:11.052Z"
      },
      {
        "duration": 75,
        "start_time": "2022-04-22T10:25:11.060Z"
      },
      {
        "duration": 81,
        "start_time": "2022-04-22T10:25:11.137Z"
      },
      {
        "duration": 197,
        "start_time": "2022-04-22T10:25:11.220Z"
      },
      {
        "duration": 254,
        "start_time": "2022-04-22T10:25:11.419Z"
      },
      {
        "duration": 83,
        "start_time": "2022-04-22T10:25:11.675Z"
      },
      {
        "duration": 139,
        "start_time": "2022-04-22T10:25:11.761Z"
      },
      {
        "duration": 10,
        "start_time": "2022-04-22T10:25:11.906Z"
      },
      {
        "duration": 12,
        "start_time": "2022-04-22T10:25:11.919Z"
      },
      {
        "duration": 59,
        "start_time": "2022-04-22T10:25:11.934Z"
      },
      {
        "duration": 69,
        "start_time": "2022-04-22T10:25:11.996Z"
      },
      {
        "duration": 42,
        "start_time": "2022-04-22T10:25:12.067Z"
      },
      {
        "duration": 101,
        "start_time": "2022-04-22T10:25:12.112Z"
      },
      {
        "duration": 296,
        "start_time": "2022-04-22T10:25:12.216Z"
      },
      {
        "duration": 48,
        "start_time": "2022-04-22T10:25:12.514Z"
      },
      {
        "duration": 12,
        "start_time": "2022-04-22T10:25:12.565Z"
      },
      {
        "duration": 175,
        "start_time": "2022-04-22T10:25:12.579Z"
      },
      {
        "duration": 1509,
        "start_time": "2022-04-22T17:30:13.302Z"
      },
      {
        "duration": 491,
        "start_time": "2022-04-22T17:30:14.813Z"
      },
      {
        "duration": 31,
        "start_time": "2022-04-22T17:30:15.306Z"
      },
      {
        "duration": 37,
        "start_time": "2022-04-22T17:30:15.340Z"
      },
      {
        "duration": 491,
        "start_time": "2022-04-22T17:30:15.379Z"
      },
      {
        "duration": 89,
        "start_time": "2022-04-22T17:30:15.872Z"
      },
      {
        "duration": 2260,
        "start_time": "2022-04-22T17:30:15.972Z"
      },
      {
        "duration": 45,
        "start_time": "2022-04-22T17:30:18.234Z"
      },
      {
        "duration": 110,
        "start_time": "2022-04-22T17:30:18.281Z"
      },
      {
        "duration": 131,
        "start_time": "2022-04-22T17:30:18.394Z"
      },
      {
        "duration": 66,
        "start_time": "2022-04-22T17:30:18.527Z"
      },
      {
        "duration": 45,
        "start_time": "2022-04-22T17:30:18.595Z"
      },
      {
        "duration": 61,
        "start_time": "2022-04-22T17:30:18.642Z"
      },
      {
        "duration": 35,
        "start_time": "2022-04-22T17:30:18.705Z"
      },
      {
        "duration": 704,
        "start_time": "2022-04-22T17:30:18.742Z"
      },
      {
        "duration": 35,
        "start_time": "2022-04-22T17:30:19.447Z"
      },
      {
        "duration": 58,
        "start_time": "2022-04-22T17:30:19.484Z"
      },
      {
        "duration": 4,
        "start_time": "2022-04-22T17:30:19.544Z"
      },
      {
        "duration": 55,
        "start_time": "2022-04-22T17:30:19.550Z"
      },
      {
        "duration": 31,
        "start_time": "2022-04-22T17:30:19.606Z"
      },
      {
        "duration": 4,
        "start_time": "2022-04-22T17:30:19.639Z"
      },
      {
        "duration": 66,
        "start_time": "2022-04-22T17:30:19.645Z"
      },
      {
        "duration": 81,
        "start_time": "2022-04-22T17:30:19.713Z"
      },
      {
        "duration": 140,
        "start_time": "2022-04-22T17:30:19.796Z"
      },
      {
        "duration": 255,
        "start_time": "2022-04-22T17:30:19.938Z"
      },
      {
        "duration": 83,
        "start_time": "2022-04-22T17:30:20.195Z"
      },
      {
        "duration": 130,
        "start_time": "2022-04-22T17:30:20.281Z"
      },
      {
        "duration": 8,
        "start_time": "2022-04-22T17:30:20.414Z"
      },
      {
        "duration": 15,
        "start_time": "2022-04-22T17:30:20.424Z"
      },
      {
        "duration": 46,
        "start_time": "2022-04-22T17:30:20.441Z"
      },
      {
        "duration": 30,
        "start_time": "2022-04-22T17:30:20.489Z"
      },
      {
        "duration": 29,
        "start_time": "2022-04-22T17:30:20.521Z"
      },
      {
        "duration": 76,
        "start_time": "2022-04-22T17:30:20.552Z"
      },
      {
        "duration": 235,
        "start_time": "2022-04-22T17:30:20.630Z"
      },
      {
        "duration": 35,
        "start_time": "2022-04-22T17:30:20.867Z"
      },
      {
        "duration": 8,
        "start_time": "2022-04-22T17:30:20.904Z"
      },
      {
        "duration": 129,
        "start_time": "2022-04-22T17:30:20.914Z"
      },
      {
        "duration": 1322,
        "start_time": "2022-04-22T17:31:58.021Z"
      },
      {
        "duration": 36,
        "start_time": "2022-04-22T17:33:16.335Z"
      },
      {
        "duration": 1352,
        "start_time": "2022-04-22T17:34:56.219Z"
      },
      {
        "duration": 117,
        "start_time": "2022-04-22T17:35:57.023Z"
      },
      {
        "duration": 280,
        "start_time": "2022-04-22T17:36:05.005Z"
      },
      {
        "duration": 239,
        "start_time": "2022-04-22T17:36:15.263Z"
      },
      {
        "duration": 287,
        "start_time": "2022-04-22T17:36:22.287Z"
      },
      {
        "duration": 278,
        "start_time": "2022-04-22T17:36:31.187Z"
      },
      {
        "duration": 8,
        "start_time": "2022-04-22T17:36:58.254Z"
      },
      {
        "duration": 293,
        "start_time": "2022-04-22T17:37:22.766Z"
      },
      {
        "duration": 286,
        "start_time": "2022-04-22T17:37:37.316Z"
      },
      {
        "duration": 1342,
        "start_time": "2022-04-22T17:37:49.508Z"
      },
      {
        "duration": 314,
        "start_time": "2022-04-22T17:38:47.905Z"
      },
      {
        "duration": 447,
        "start_time": "2022-04-22T17:41:07.624Z"
      },
      {
        "duration": 300,
        "start_time": "2022-04-22T17:41:17.094Z"
      },
      {
        "duration": 71,
        "start_time": "2022-04-22T17:42:09.419Z"
      },
      {
        "duration": 63,
        "start_time": "2022-04-22T17:42:52.780Z"
      },
      {
        "duration": 577,
        "start_time": "2022-04-22T17:44:24.029Z"
      },
      {
        "duration": 1979,
        "start_time": "2022-04-22T17:44:34.961Z"
      },
      {
        "duration": 5,
        "start_time": "2022-04-22T17:44:46.540Z"
      },
      {
        "duration": 67,
        "start_time": "2022-04-22T17:44:50.771Z"
      },
      {
        "duration": 73,
        "start_time": "2022-04-22T17:44:55.438Z"
      },
      {
        "duration": 76,
        "start_time": "2022-04-22T17:45:11.854Z"
      },
      {
        "duration": 69,
        "start_time": "2022-04-22T17:45:16.931Z"
      },
      {
        "duration": 72,
        "start_time": "2022-04-22T17:45:24.310Z"
      },
      {
        "duration": 63,
        "start_time": "2022-04-22T17:45:29.295Z"
      },
      {
        "duration": 2166,
        "start_time": "2022-04-22T17:46:00.054Z"
      },
      {
        "duration": 65,
        "start_time": "2022-04-22T17:46:12.275Z"
      },
      {
        "duration": 69,
        "start_time": "2022-04-22T17:46:17.269Z"
      },
      {
        "duration": 73,
        "start_time": "2022-04-22T17:46:22.349Z"
      },
      {
        "duration": 69,
        "start_time": "2022-04-22T17:46:25.474Z"
      },
      {
        "duration": 71,
        "start_time": "2022-04-22T17:46:30.050Z"
      },
      {
        "duration": 67,
        "start_time": "2022-04-22T17:46:37.811Z"
      },
      {
        "duration": 68,
        "start_time": "2022-04-22T17:46:42.370Z"
      },
      {
        "duration": 69,
        "start_time": "2022-04-22T17:47:38.636Z"
      },
      {
        "duration": 78,
        "start_time": "2022-04-22T17:47:42.530Z"
      },
      {
        "duration": 72,
        "start_time": "2022-04-22T17:47:55.068Z"
      },
      {
        "duration": 74,
        "start_time": "2022-04-22T17:48:04.159Z"
      },
      {
        "duration": 155,
        "start_time": "2022-04-22T17:48:32.249Z"
      },
      {
        "duration": 112,
        "start_time": "2022-04-22T17:48:41.833Z"
      },
      {
        "duration": 1926,
        "start_time": "2022-04-22T17:48:52.846Z"
      },
      {
        "duration": 2421,
        "start_time": "2022-04-22T17:48:59.051Z"
      },
      {
        "duration": 2156,
        "start_time": "2022-04-22T17:49:12.130Z"
      },
      {
        "duration": 2169,
        "start_time": "2022-04-22T17:49:29.755Z"
      },
      {
        "duration": 1899,
        "start_time": "2022-04-22T17:49:35.087Z"
      },
      {
        "duration": 2173,
        "start_time": "2022-04-22T17:49:55.915Z"
      },
      {
        "duration": 67,
        "start_time": "2022-04-22T17:49:58.664Z"
      },
      {
        "duration": 2597,
        "start_time": "2022-04-22T17:50:22.287Z"
      },
      {
        "duration": 555,
        "start_time": "2022-04-22T17:50:27.414Z"
      },
      {
        "duration": 65,
        "start_time": "2022-04-22T17:50:42.288Z"
      },
      {
        "duration": 63,
        "start_time": "2022-04-22T17:50:59.083Z"
      },
      {
        "duration": 72,
        "start_time": "2022-04-22T17:51:05.034Z"
      },
      {
        "duration": 62,
        "start_time": "2022-04-22T17:51:15.607Z"
      },
      {
        "duration": 80,
        "start_time": "2022-04-22T17:51:40.529Z"
      },
      {
        "duration": 624,
        "start_time": "2022-04-22T17:53:05.351Z"
      },
      {
        "duration": 75,
        "start_time": "2022-04-22T17:53:46.045Z"
      },
      {
        "duration": 72,
        "start_time": "2022-04-22T17:53:55.430Z"
      },
      {
        "duration": 63,
        "start_time": "2022-04-22T17:54:04.597Z"
      },
      {
        "duration": 69,
        "start_time": "2022-04-22T17:54:10.422Z"
      },
      {
        "duration": 66,
        "start_time": "2022-04-22T17:54:35.013Z"
      },
      {
        "duration": 1946,
        "start_time": "2022-04-22T17:55:10.494Z"
      },
      {
        "duration": 2302,
        "start_time": "2022-04-22T17:55:16.613Z"
      },
      {
        "duration": 547,
        "start_time": "2022-04-22T17:56:01.124Z"
      },
      {
        "duration": 119,
        "start_time": "2022-04-22T17:56:25.226Z"
      },
      {
        "duration": 604,
        "start_time": "2022-04-22T17:56:30.100Z"
      },
      {
        "duration": 515,
        "start_time": "2022-04-22T17:56:38.857Z"
      },
      {
        "duration": 123,
        "start_time": "2022-04-22T17:56:46.849Z"
      },
      {
        "duration": 560,
        "start_time": "2022-04-22T17:56:55.427Z"
      },
      {
        "duration": 557,
        "start_time": "2022-04-22T17:57:30.932Z"
      },
      {
        "duration": 542,
        "start_time": "2022-04-22T17:57:47.963Z"
      },
      {
        "duration": 621,
        "start_time": "2022-04-22T17:58:02.867Z"
      },
      {
        "duration": 602,
        "start_time": "2022-04-22T17:58:10.511Z"
      },
      {
        "duration": 676,
        "start_time": "2022-04-22T17:58:38.569Z"
      },
      {
        "duration": 124,
        "start_time": "2022-04-22T17:58:46.264Z"
      },
      {
        "duration": 114,
        "start_time": "2022-04-22T17:58:53.088Z"
      },
      {
        "duration": 71,
        "start_time": "2022-04-22T17:58:58.135Z"
      },
      {
        "duration": 71,
        "start_time": "2022-04-22T17:59:13.113Z"
      },
      {
        "duration": 64,
        "start_time": "2022-04-22T17:59:32.983Z"
      },
      {
        "duration": 2091,
        "start_time": "2022-04-22T18:00:12.798Z"
      },
      {
        "duration": 673,
        "start_time": "2022-04-22T18:00:23.215Z"
      },
      {
        "duration": 2368,
        "start_time": "2022-04-22T18:00:26.587Z"
      },
      {
        "duration": 2199,
        "start_time": "2022-04-22T18:00:54.272Z"
      },
      {
        "duration": 2149,
        "start_time": "2022-04-22T18:01:27.788Z"
      },
      {
        "duration": 2317,
        "start_time": "2022-04-22T18:01:52.041Z"
      },
      {
        "duration": 2006,
        "start_time": "2022-04-22T18:02:07.892Z"
      },
      {
        "duration": 552,
        "start_time": "2022-04-22T18:03:04.517Z"
      },
      {
        "duration": 2150,
        "start_time": "2022-04-22T18:03:44.995Z"
      },
      {
        "duration": 68,
        "start_time": "2022-04-22T18:03:53.217Z"
      },
      {
        "duration": 538,
        "start_time": "2022-04-22T18:04:53.803Z"
      },
      {
        "duration": 71,
        "start_time": "2022-04-22T18:04:59.641Z"
      },
      {
        "duration": 580,
        "start_time": "2022-04-22T18:05:06.762Z"
      },
      {
        "duration": 742,
        "start_time": "2022-04-22T18:05:16.786Z"
      },
      {
        "duration": 72,
        "start_time": "2022-04-22T18:05:20.830Z"
      },
      {
        "duration": 117,
        "start_time": "2022-04-22T18:05:44.642Z"
      },
      {
        "duration": 2059,
        "start_time": "2022-04-22T18:05:50.328Z"
      },
      {
        "duration": 536,
        "start_time": "2022-04-22T18:06:06.924Z"
      },
      {
        "duration": 600,
        "start_time": "2022-04-22T18:06:15.017Z"
      },
      {
        "duration": 544,
        "start_time": "2022-04-22T18:06:20.996Z"
      },
      {
        "duration": 2013,
        "start_time": "2022-04-22T18:06:46.224Z"
      },
      {
        "duration": 561,
        "start_time": "2022-04-22T18:06:57.086Z"
      },
      {
        "duration": 587,
        "start_time": "2022-04-22T18:07:00.286Z"
      },
      {
        "duration": 2233,
        "start_time": "2022-04-22T18:07:06.888Z"
      },
      {
        "duration": 551,
        "start_time": "2022-04-22T18:08:43.191Z"
      },
      {
        "duration": 615,
        "start_time": "2022-04-22T18:09:09.791Z"
      },
      {
        "duration": 15,
        "start_time": "2022-04-22T18:11:33.436Z"
      },
      {
        "duration": 15,
        "start_time": "2022-04-22T18:11:47.390Z"
      },
      {
        "duration": 66,
        "start_time": "2022-04-22T18:18:06.603Z"
      },
      {
        "duration": 65,
        "start_time": "2022-04-22T18:18:16.086Z"
      },
      {
        "duration": 70,
        "start_time": "2022-04-22T18:18:37.122Z"
      },
      {
        "duration": 119,
        "start_time": "2022-04-22T18:18:47.869Z"
      },
      {
        "duration": 75,
        "start_time": "2022-04-22T18:18:55.927Z"
      },
      {
        "duration": 74,
        "start_time": "2022-04-22T18:19:00.649Z"
      },
      {
        "duration": 70,
        "start_time": "2022-04-22T18:19:09.071Z"
      },
      {
        "duration": 72,
        "start_time": "2022-04-22T18:19:12.628Z"
      },
      {
        "duration": 82,
        "start_time": "2022-04-22T18:19:25.171Z"
      },
      {
        "duration": 63,
        "start_time": "2022-04-22T18:19:34.305Z"
      },
      {
        "duration": 64,
        "start_time": "2022-04-22T18:19:38.186Z"
      },
      {
        "duration": 66,
        "start_time": "2022-04-22T18:20:03.386Z"
      },
      {
        "duration": 74,
        "start_time": "2022-04-22T18:20:09.340Z"
      },
      {
        "duration": 75,
        "start_time": "2022-04-22T18:20:14.949Z"
      },
      {
        "duration": 73,
        "start_time": "2022-04-22T18:20:31.570Z"
      },
      {
        "duration": 620,
        "start_time": "2022-04-22T18:20:41.286Z"
      },
      {
        "duration": 68,
        "start_time": "2022-04-22T18:20:44.601Z"
      },
      {
        "duration": 67,
        "start_time": "2022-04-22T18:21:00.097Z"
      },
      {
        "duration": 135,
        "start_time": "2022-04-22T18:21:19.087Z"
      },
      {
        "duration": 74,
        "start_time": "2022-04-22T18:21:31.019Z"
      },
      {
        "duration": 76,
        "start_time": "2022-04-22T18:21:36.558Z"
      },
      {
        "duration": 70,
        "start_time": "2022-04-22T18:21:47.963Z"
      },
      {
        "duration": 74,
        "start_time": "2022-04-22T18:21:57.812Z"
      },
      {
        "duration": 76,
        "start_time": "2022-04-22T18:22:10.050Z"
      },
      {
        "duration": 70,
        "start_time": "2022-04-22T18:22:17.142Z"
      },
      {
        "duration": 66,
        "start_time": "2022-04-22T18:22:37.392Z"
      },
      {
        "duration": 64,
        "start_time": "2022-04-22T18:22:47.592Z"
      },
      {
        "duration": 124,
        "start_time": "2022-04-22T18:22:56.864Z"
      },
      {
        "duration": 134,
        "start_time": "2022-04-22T18:23:00.690Z"
      },
      {
        "duration": 116,
        "start_time": "2022-04-22T18:23:08.486Z"
      },
      {
        "duration": 130,
        "start_time": "2022-04-22T18:23:13.489Z"
      },
      {
        "duration": 71,
        "start_time": "2022-04-22T18:23:25.460Z"
      },
      {
        "duration": 68,
        "start_time": "2022-04-22T18:23:33.809Z"
      },
      {
        "duration": 74,
        "start_time": "2022-04-22T18:24:26.359Z"
      },
      {
        "duration": 65,
        "start_time": "2022-04-22T18:24:29.487Z"
      },
      {
        "duration": 79,
        "start_time": "2022-04-22T18:24:34.343Z"
      },
      {
        "duration": 71,
        "start_time": "2022-04-22T18:24:59.567Z"
      },
      {
        "duration": 72,
        "start_time": "2022-04-22T18:25:25.369Z"
      },
      {
        "duration": 67,
        "start_time": "2022-04-22T18:25:42.992Z"
      },
      {
        "duration": 65,
        "start_time": "2022-04-22T18:26:33.402Z"
      },
      {
        "duration": 73,
        "start_time": "2022-04-22T18:26:39.345Z"
      },
      {
        "duration": 66,
        "start_time": "2022-04-22T18:26:46.193Z"
      },
      {
        "duration": 74,
        "start_time": "2022-04-22T18:27:01.255Z"
      },
      {
        "duration": 65,
        "start_time": "2022-04-22T18:28:04.296Z"
      },
      {
        "duration": 66,
        "start_time": "2022-04-22T18:28:18.087Z"
      },
      {
        "duration": 70,
        "start_time": "2022-04-22T18:28:21.132Z"
      },
      {
        "duration": 90,
        "start_time": "2022-04-22T18:33:37.431Z"
      },
      {
        "duration": 97,
        "start_time": "2022-04-22T18:33:45.437Z"
      },
      {
        "duration": 88,
        "start_time": "2022-04-22T18:34:04.425Z"
      },
      {
        "duration": 86,
        "start_time": "2022-04-22T18:34:34.070Z"
      },
      {
        "duration": 81,
        "start_time": "2022-04-22T18:34:39.764Z"
      },
      {
        "duration": 75,
        "start_time": "2022-04-22T18:35:48.795Z"
      },
      {
        "duration": 77,
        "start_time": "2022-04-22T18:35:52.309Z"
      },
      {
        "duration": 88,
        "start_time": "2022-04-22T18:36:31.321Z"
      },
      {
        "duration": 129,
        "start_time": "2022-04-22T18:37:07.315Z"
      },
      {
        "duration": 86,
        "start_time": "2022-04-22T18:37:12.068Z"
      },
      {
        "duration": 88,
        "start_time": "2022-04-22T18:37:20.330Z"
      },
      {
        "duration": 88,
        "start_time": "2022-04-22T18:37:39.345Z"
      },
      {
        "duration": 90,
        "start_time": "2022-04-22T18:37:43.033Z"
      },
      {
        "duration": 79,
        "start_time": "2022-04-22T18:37:46.430Z"
      },
      {
        "duration": 84,
        "start_time": "2022-04-22T18:42:46.944Z"
      },
      {
        "duration": 83,
        "start_time": "2022-04-22T18:43:28.508Z"
      },
      {
        "duration": 82,
        "start_time": "2022-04-22T18:43:45.187Z"
      },
      {
        "duration": 84,
        "start_time": "2022-04-22T18:44:17.718Z"
      },
      {
        "duration": 94,
        "start_time": "2022-04-22T18:45:09.224Z"
      },
      {
        "duration": 91,
        "start_time": "2022-04-22T18:45:20.366Z"
      },
      {
        "duration": 149,
        "start_time": "2022-04-22T18:45:24.340Z"
      },
      {
        "duration": 77,
        "start_time": "2022-04-22T18:45:27.286Z"
      },
      {
        "duration": 79,
        "start_time": "2022-04-22T18:45:31.186Z"
      },
      {
        "duration": 75,
        "start_time": "2022-04-22T18:48:22.188Z"
      },
      {
        "duration": 79,
        "start_time": "2022-04-22T18:48:37.195Z"
      },
      {
        "duration": 85,
        "start_time": "2022-04-22T18:48:41.229Z"
      },
      {
        "duration": 86,
        "start_time": "2022-04-22T18:48:46.206Z"
      },
      {
        "duration": 82,
        "start_time": "2022-04-22T18:48:55.061Z"
      },
      {
        "duration": 160,
        "start_time": "2022-04-22T18:49:06.460Z"
      },
      {
        "duration": 151,
        "start_time": "2022-04-22T18:49:16.274Z"
      },
      {
        "duration": 94,
        "start_time": "2022-04-22T18:49:23.511Z"
      },
      {
        "duration": 47,
        "start_time": "2022-04-22T18:49:37.355Z"
      },
      {
        "duration": 86,
        "start_time": "2022-04-22T18:49:40.972Z"
      },
      {
        "duration": 122,
        "start_time": "2022-04-22T18:50:47.965Z"
      },
      {
        "duration": 2126,
        "start_time": "2022-04-22T18:50:52.347Z"
      },
      {
        "duration": 2021,
        "start_time": "2022-04-22T18:51:11.638Z"
      },
      {
        "duration": 2267,
        "start_time": "2022-04-22T18:51:18.173Z"
      },
      {
        "duration": 105,
        "start_time": "2022-04-22T18:52:20.834Z"
      },
      {
        "duration": 2424,
        "start_time": "2022-04-22T18:52:30.129Z"
      },
      {
        "duration": 4411,
        "start_time": "2022-04-22T18:52:42.459Z"
      },
      {
        "duration": 2709,
        "start_time": "2022-04-22T18:53:01.537Z"
      },
      {
        "duration": 2869,
        "start_time": "2022-04-22T18:53:11.099Z"
      },
      {
        "duration": 2552,
        "start_time": "2022-04-22T18:53:43.072Z"
      },
      {
        "duration": 2150,
        "start_time": "2022-04-22T18:53:57.652Z"
      },
      {
        "duration": 87,
        "start_time": "2022-04-22T18:54:03.571Z"
      },
      {
        "duration": 2441,
        "start_time": "2022-04-22T18:54:11.187Z"
      },
      {
        "duration": 2122,
        "start_time": "2022-04-22T18:54:26.945Z"
      },
      {
        "duration": 1911,
        "start_time": "2022-04-22T18:54:53.504Z"
      },
      {
        "duration": 2645,
        "start_time": "2022-04-22T18:55:05.510Z"
      },
      {
        "duration": 2115,
        "start_time": "2022-04-22T18:55:16.946Z"
      },
      {
        "duration": 1950,
        "start_time": "2022-04-22T18:55:25.286Z"
      },
      {
        "duration": 2019,
        "start_time": "2022-04-22T18:55:55.698Z"
      },
      {
        "duration": 4,
        "start_time": "2022-04-22T18:56:37.351Z"
      },
      {
        "duration": 1521,
        "start_time": "2022-04-22T18:56:40.267Z"
      },
      {
        "duration": 2312,
        "start_time": "2022-04-22T18:57:03.264Z"
      },
      {
        "duration": 4,
        "start_time": "2022-04-22T18:57:14.901Z"
      },
      {
        "duration": 82,
        "start_time": "2022-04-22T18:57:17.275Z"
      },
      {
        "duration": 77,
        "start_time": "2022-04-22T18:57:38.792Z"
      },
      {
        "duration": 94,
        "start_time": "2022-04-22T18:57:46.628Z"
      },
      {
        "duration": 90,
        "start_time": "2022-04-22T18:58:01.487Z"
      },
      {
        "duration": 86,
        "start_time": "2022-04-22T18:58:15.647Z"
      },
      {
        "duration": 91,
        "start_time": "2022-04-22T18:58:20.937Z"
      },
      {
        "duration": 84,
        "start_time": "2022-04-22T18:58:30.744Z"
      },
      {
        "duration": 94,
        "start_time": "2022-04-22T18:58:34.510Z"
      },
      {
        "duration": 86,
        "start_time": "2022-04-22T18:58:37.169Z"
      },
      {
        "duration": 77,
        "start_time": "2022-04-22T18:58:53.494Z"
      },
      {
        "duration": 85,
        "start_time": "2022-04-22T18:59:00.072Z"
      },
      {
        "duration": 84,
        "start_time": "2022-04-22T18:59:08.852Z"
      },
      {
        "duration": 77,
        "start_time": "2022-04-22T18:59:51.686Z"
      },
      {
        "duration": 96,
        "start_time": "2022-04-22T19:00:03.915Z"
      },
      {
        "duration": 87,
        "start_time": "2022-04-22T19:00:47.117Z"
      },
      {
        "duration": 79,
        "start_time": "2022-04-22T19:00:49.392Z"
      },
      {
        "duration": 91,
        "start_time": "2022-04-22T19:00:54.941Z"
      },
      {
        "duration": 1370,
        "start_time": "2022-04-22T19:01:47.053Z"
      },
      {
        "duration": 442,
        "start_time": "2022-04-22T19:01:48.426Z"
      },
      {
        "duration": 39,
        "start_time": "2022-04-22T19:01:48.870Z"
      },
      {
        "duration": 13,
        "start_time": "2022-04-22T19:01:48.910Z"
      },
      {
        "duration": 503,
        "start_time": "2022-04-22T19:01:48.925Z"
      },
      {
        "duration": 100,
        "start_time": "2022-04-22T19:01:49.430Z"
      },
      {
        "duration": 2221,
        "start_time": "2022-04-22T19:01:49.532Z"
      },
      {
        "duration": 45,
        "start_time": "2022-04-22T19:01:51.754Z"
      },
      {
        "duration": 97,
        "start_time": "2022-04-22T19:01:51.801Z"
      },
      {
        "duration": 136,
        "start_time": "2022-04-22T19:01:51.899Z"
      },
      {
        "duration": 65,
        "start_time": "2022-04-22T19:01:52.037Z"
      },
      {
        "duration": 43,
        "start_time": "2022-04-22T19:01:52.104Z"
      },
      {
        "duration": 50,
        "start_time": "2022-04-22T19:01:52.149Z"
      },
      {
        "duration": 15,
        "start_time": "2022-04-22T19:01:52.202Z"
      },
      {
        "duration": 34,
        "start_time": "2022-04-22T19:01:52.218Z"
      },
      {
        "duration": 326,
        "start_time": "2022-04-22T19:01:52.273Z"
      },
      {
        "duration": 637,
        "start_time": "2022-04-22T19:01:52.601Z"
      },
      {
        "duration": 28,
        "start_time": "2022-04-22T19:01:53.239Z"
      },
      {
        "duration": 60,
        "start_time": "2022-04-22T19:01:53.268Z"
      },
      {
        "duration": 4,
        "start_time": "2022-04-22T19:01:53.330Z"
      },
      {
        "duration": 46,
        "start_time": "2022-04-22T19:01:53.336Z"
      },
      {
        "duration": 34,
        "start_time": "2022-04-22T19:01:53.384Z"
      },
      {
        "duration": 5,
        "start_time": "2022-04-22T19:01:53.419Z"
      },
      {
        "duration": 56,
        "start_time": "2022-04-22T19:01:53.426Z"
      },
      {
        "duration": 62,
        "start_time": "2022-04-22T19:01:53.485Z"
      },
      {
        "duration": 94,
        "start_time": "2022-04-22T19:01:53.549Z"
      },
      {
        "duration": 160,
        "start_time": "2022-04-22T19:01:53.645Z"
      },
      {
        "duration": 227,
        "start_time": "2022-04-22T19:01:53.807Z"
      },
      {
        "duration": 78,
        "start_time": "2022-04-22T19:01:54.036Z"
      },
      {
        "duration": 104,
        "start_time": "2022-04-22T19:01:54.116Z"
      },
      {
        "duration": 7,
        "start_time": "2022-04-22T19:01:54.222Z"
      },
      {
        "duration": 8,
        "start_time": "2022-04-22T19:01:54.231Z"
      },
      {
        "duration": 1510,
        "start_time": "2022-04-22T19:01:54.241Z"
      },
      {
        "duration": 0,
        "start_time": "2022-04-22T19:01:55.753Z"
      },
      {
        "duration": 0,
        "start_time": "2022-04-22T19:01:55.754Z"
      },
      {
        "duration": 0,
        "start_time": "2022-04-22T19:01:55.757Z"
      },
      {
        "duration": 0,
        "start_time": "2022-04-22T19:01:55.758Z"
      },
      {
        "duration": 0,
        "start_time": "2022-04-22T19:01:55.760Z"
      },
      {
        "duration": 0,
        "start_time": "2022-04-22T19:01:55.761Z"
      },
      {
        "duration": 0,
        "start_time": "2022-04-22T19:01:55.762Z"
      },
      {
        "duration": 54,
        "start_time": "2022-04-22T19:02:34.067Z"
      },
      {
        "duration": 45,
        "start_time": "2022-04-22T19:02:54.600Z"
      },
      {
        "duration": 83,
        "start_time": "2022-04-22T19:02:56.289Z"
      },
      {
        "duration": 2054,
        "start_time": "2022-04-22T19:03:07.290Z"
      },
      {
        "duration": 4,
        "start_time": "2022-04-22T19:03:15.458Z"
      },
      {
        "duration": 84,
        "start_time": "2022-04-22T19:03:19.133Z"
      },
      {
        "duration": 49,
        "start_time": "2022-04-22T19:03:23.359Z"
      },
      {
        "duration": 77,
        "start_time": "2022-04-22T19:03:24.188Z"
      },
      {
        "duration": 1263,
        "start_time": "2022-04-22T19:03:34.893Z"
      },
      {
        "duration": 359,
        "start_time": "2022-04-22T19:03:36.158Z"
      },
      {
        "duration": 30,
        "start_time": "2022-04-22T19:03:36.519Z"
      },
      {
        "duration": 27,
        "start_time": "2022-04-22T19:03:36.551Z"
      },
      {
        "duration": 465,
        "start_time": "2022-04-22T19:03:36.581Z"
      },
      {
        "duration": 1388,
        "start_time": "2022-04-23T07:19:38.606Z"
      },
      {
        "duration": 341,
        "start_time": "2022-04-23T07:19:39.996Z"
      },
      {
        "duration": 29,
        "start_time": "2022-04-23T07:19:40.339Z"
      },
      {
        "duration": 12,
        "start_time": "2022-04-23T07:19:40.370Z"
      },
      {
        "duration": 490,
        "start_time": "2022-04-23T07:19:40.384Z"
      },
      {
        "duration": 100,
        "start_time": "2022-04-23T07:19:40.876Z"
      },
      {
        "duration": 2288,
        "start_time": "2022-04-23T07:19:40.978Z"
      },
      {
        "duration": 32,
        "start_time": "2022-04-23T07:19:43.267Z"
      },
      {
        "duration": 84,
        "start_time": "2022-04-23T07:19:43.307Z"
      },
      {
        "duration": 132,
        "start_time": "2022-04-23T07:19:43.392Z"
      },
      {
        "duration": 48,
        "start_time": "2022-04-23T07:19:43.526Z"
      },
      {
        "duration": 61,
        "start_time": "2022-04-23T07:19:43.575Z"
      },
      {
        "duration": 24,
        "start_time": "2022-04-23T07:19:43.638Z"
      },
      {
        "duration": 13,
        "start_time": "2022-04-23T07:19:43.665Z"
      },
      {
        "duration": 63,
        "start_time": "2022-04-23T07:19:43.680Z"
      },
      {
        "duration": 313,
        "start_time": "2022-04-23T07:19:43.745Z"
      },
      {
        "duration": 644,
        "start_time": "2022-04-23T07:19:44.059Z"
      },
      {
        "duration": 34,
        "start_time": "2022-04-23T07:19:44.705Z"
      },
      {
        "duration": 49,
        "start_time": "2022-04-23T07:19:44.740Z"
      },
      {
        "duration": 4,
        "start_time": "2022-04-23T07:19:44.791Z"
      },
      {
        "duration": 39,
        "start_time": "2022-04-23T07:19:44.797Z"
      },
      {
        "duration": 29,
        "start_time": "2022-04-23T07:19:44.838Z"
      },
      {
        "duration": 4,
        "start_time": "2022-04-23T07:19:44.868Z"
      },
      {
        "duration": 67,
        "start_time": "2022-04-23T07:19:44.874Z"
      },
      {
        "duration": 56,
        "start_time": "2022-04-23T07:19:44.943Z"
      },
      {
        "duration": 68,
        "start_time": "2022-04-23T07:19:45.001Z"
      },
      {
        "duration": 133,
        "start_time": "2022-04-23T07:19:45.071Z"
      },
      {
        "duration": 212,
        "start_time": "2022-04-23T07:19:45.207Z"
      },
      {
        "duration": 42,
        "start_time": "2022-04-23T07:19:45.421Z"
      },
      {
        "duration": 90,
        "start_time": "2022-04-23T07:19:45.465Z"
      },
      {
        "duration": 6,
        "start_time": "2022-04-23T07:19:45.557Z"
      },
      {
        "duration": 7,
        "start_time": "2022-04-23T07:19:45.564Z"
      },
      {
        "duration": 49,
        "start_time": "2022-04-23T07:19:45.572Z"
      },
      {
        "duration": 22,
        "start_time": "2022-04-23T07:19:45.623Z"
      },
      {
        "duration": 22,
        "start_time": "2022-04-23T07:19:45.647Z"
      },
      {
        "duration": 65,
        "start_time": "2022-04-23T07:19:45.671Z"
      },
      {
        "duration": 207,
        "start_time": "2022-04-23T07:19:45.737Z"
      },
      {
        "duration": 22,
        "start_time": "2022-04-23T07:19:45.945Z"
      },
      {
        "duration": 6,
        "start_time": "2022-04-23T07:19:45.969Z"
      },
      {
        "duration": 106,
        "start_time": "2022-04-23T07:19:45.977Z"
      },
      {
        "duration": 3,
        "start_time": "2022-04-23T07:41:46.291Z"
      },
      {
        "duration": 6,
        "start_time": "2022-04-23T07:42:58.100Z"
      },
      {
        "duration": 8,
        "start_time": "2022-04-23T07:44:31.270Z"
      },
      {
        "duration": 63,
        "start_time": "2022-04-23T07:47:54.952Z"
      },
      {
        "duration": 80,
        "start_time": "2022-04-23T07:48:15.100Z"
      },
      {
        "duration": 1064,
        "start_time": "2022-04-23T07:50:35.919Z"
      },
      {
        "duration": 9,
        "start_time": "2022-04-23T07:51:04.859Z"
      },
      {
        "duration": 3,
        "start_time": "2022-04-23T07:51:10.589Z"
      },
      {
        "duration": 95,
        "start_time": "2022-04-23T07:51:47.648Z"
      },
      {
        "duration": 16,
        "start_time": "2022-04-23T07:51:52.119Z"
      },
      {
        "duration": 4,
        "start_time": "2022-04-23T07:55:56.648Z"
      },
      {
        "duration": 57,
        "start_time": "2022-04-23T07:56:49.708Z"
      },
      {
        "duration": 12,
        "start_time": "2022-04-23T07:56:54.057Z"
      },
      {
        "duration": 10,
        "start_time": "2022-04-23T07:57:26.986Z"
      },
      {
        "duration": 55,
        "start_time": "2022-04-23T07:57:32.877Z"
      },
      {
        "duration": 6,
        "start_time": "2022-04-23T07:59:49.357Z"
      },
      {
        "duration": 986,
        "start_time": "2022-04-23T08:00:30.507Z"
      },
      {
        "duration": 9,
        "start_time": "2022-04-23T08:02:00.626Z"
      },
      {
        "duration": 962,
        "start_time": "2022-04-23T08:02:07.327Z"
      },
      {
        "duration": 4,
        "start_time": "2022-04-23T08:02:27.866Z"
      },
      {
        "duration": 4,
        "start_time": "2022-04-23T08:02:53.866Z"
      },
      {
        "duration": 4,
        "start_time": "2022-04-23T08:05:02.455Z"
      },
      {
        "duration": 7,
        "start_time": "2022-04-23T08:05:32.845Z"
      },
      {
        "duration": 4,
        "start_time": "2022-04-23T08:07:15.675Z"
      },
      {
        "duration": 4,
        "start_time": "2022-04-23T08:15:28.272Z"
      },
      {
        "duration": 4,
        "start_time": "2022-04-23T08:15:32.002Z"
      },
      {
        "duration": 1225,
        "start_time": "2022-04-23T08:16:01.370Z"
      },
      {
        "duration": 422,
        "start_time": "2022-04-23T08:16:02.597Z"
      },
      {
        "duration": 28,
        "start_time": "2022-04-23T08:16:03.020Z"
      },
      {
        "duration": 14,
        "start_time": "2022-04-23T08:16:03.050Z"
      },
      {
        "duration": 472,
        "start_time": "2022-04-23T08:16:03.065Z"
      },
      {
        "duration": 91,
        "start_time": "2022-04-23T08:16:03.538Z"
      },
      {
        "duration": 2051,
        "start_time": "2022-04-23T08:16:03.630Z"
      },
      {
        "duration": 38,
        "start_time": "2022-04-23T08:16:05.682Z"
      },
      {
        "duration": 95,
        "start_time": "2022-04-23T08:16:05.721Z"
      },
      {
        "duration": 119,
        "start_time": "2022-04-23T08:16:05.818Z"
      },
      {
        "duration": 50,
        "start_time": "2022-04-23T08:16:05.939Z"
      },
      {
        "duration": 52,
        "start_time": "2022-04-23T08:16:05.990Z"
      },
      {
        "duration": 26,
        "start_time": "2022-04-23T08:16:06.043Z"
      },
      {
        "duration": 37,
        "start_time": "2022-04-23T08:16:06.070Z"
      },
      {
        "duration": 34,
        "start_time": "2022-04-23T08:16:06.109Z"
      },
      {
        "duration": 313,
        "start_time": "2022-04-23T08:16:06.144Z"
      },
      {
        "duration": 621,
        "start_time": "2022-04-23T08:16:06.459Z"
      },
      {
        "duration": 27,
        "start_time": "2022-04-23T08:16:07.081Z"
      },
      {
        "duration": 50,
        "start_time": "2022-04-23T08:16:07.110Z"
      },
      {
        "duration": 4,
        "start_time": "2022-04-23T08:16:07.162Z"
      },
      {
        "duration": 44,
        "start_time": "2022-04-23T08:16:07.167Z"
      },
      {
        "duration": 29,
        "start_time": "2022-04-23T08:16:07.212Z"
      },
      {
        "duration": 4,
        "start_time": "2022-04-23T08:16:07.243Z"
      },
      {
        "duration": 30,
        "start_time": "2022-04-23T08:16:07.249Z"
      },
      {
        "duration": 80,
        "start_time": "2022-04-23T08:16:07.281Z"
      },
      {
        "duration": 83,
        "start_time": "2022-04-23T08:16:07.362Z"
      },
      {
        "duration": 128,
        "start_time": "2022-04-23T08:16:07.446Z"
      },
      {
        "duration": 173,
        "start_time": "2022-04-23T08:16:07.577Z"
      },
      {
        "duration": 61,
        "start_time": "2022-04-23T08:16:07.752Z"
      },
      {
        "duration": 83,
        "start_time": "2022-04-23T08:16:07.814Z"
      },
      {
        "duration": 4,
        "start_time": "2022-04-23T08:16:07.907Z"
      },
      {
        "duration": 8,
        "start_time": "2022-04-23T08:16:07.912Z"
      },
      {
        "duration": 8,
        "start_time": "2022-04-23T08:16:07.921Z"
      },
      {
        "duration": 25,
        "start_time": "2022-04-23T08:16:07.930Z"
      },
      {
        "duration": 23,
        "start_time": "2022-04-23T08:16:07.956Z"
      },
      {
        "duration": 50,
        "start_time": "2022-04-23T08:16:07.980Z"
      },
      {
        "duration": 46,
        "start_time": "2022-04-23T08:16:08.031Z"
      },
      {
        "duration": 221,
        "start_time": "2022-04-23T08:16:08.078Z"
      },
      {
        "duration": 29,
        "start_time": "2022-04-23T08:16:08.300Z"
      },
      {
        "duration": 9,
        "start_time": "2022-04-23T08:16:08.331Z"
      },
      {
        "duration": 107,
        "start_time": "2022-04-23T08:16:08.341Z"
      },
      {
        "duration": 50,
        "start_time": "2022-04-23T08:50:18.366Z"
      },
      {
        "duration": 1429,
        "start_time": "2022-04-23T08:50:27.406Z"
      },
      {
        "duration": 2053,
        "start_time": "2022-04-23T08:50:28.837Z"
      },
      {
        "duration": 29,
        "start_time": "2022-04-23T08:50:30.892Z"
      },
      {
        "duration": 13,
        "start_time": "2022-04-23T08:50:30.923Z"
      },
      {
        "duration": 452,
        "start_time": "2022-04-23T08:50:30.938Z"
      },
      {
        "duration": 90,
        "start_time": "2022-04-23T08:50:31.392Z"
      },
      {
        "duration": 1997,
        "start_time": "2022-04-23T08:50:31.484Z"
      },
      {
        "duration": 32,
        "start_time": "2022-04-23T08:50:33.483Z"
      },
      {
        "duration": 103,
        "start_time": "2022-04-23T08:50:33.516Z"
      },
      {
        "duration": 120,
        "start_time": "2022-04-23T08:50:33.621Z"
      },
      {
        "duration": 61,
        "start_time": "2022-04-23T08:50:33.743Z"
      },
      {
        "duration": 44,
        "start_time": "2022-04-23T08:50:33.805Z"
      },
      {
        "duration": 43,
        "start_time": "2022-04-23T08:50:33.851Z"
      },
      {
        "duration": 14,
        "start_time": "2022-04-23T08:50:33.896Z"
      },
      {
        "duration": 34,
        "start_time": "2022-04-23T08:50:33.912Z"
      },
      {
        "duration": 313,
        "start_time": "2022-04-23T08:50:33.948Z"
      },
      {
        "duration": 610,
        "start_time": "2022-04-23T08:50:34.263Z"
      },
      {
        "duration": 26,
        "start_time": "2022-04-23T08:50:34.875Z"
      },
      {
        "duration": 48,
        "start_time": "2022-04-23T08:50:34.903Z"
      },
      {
        "duration": 22,
        "start_time": "2022-04-23T08:50:34.953Z"
      },
      {
        "duration": 32,
        "start_time": "2022-04-23T08:50:34.976Z"
      },
      {
        "duration": 30,
        "start_time": "2022-04-23T08:50:35.010Z"
      },
      {
        "duration": 5,
        "start_time": "2022-04-23T08:50:35.042Z"
      },
      {
        "duration": 30,
        "start_time": "2022-04-23T08:50:35.073Z"
      },
      {
        "duration": 71,
        "start_time": "2022-04-23T08:50:35.105Z"
      },
      {
        "duration": 62,
        "start_time": "2022-04-23T08:50:35.177Z"
      },
      {
        "duration": 143,
        "start_time": "2022-04-23T08:50:35.241Z"
      },
      {
        "duration": 189,
        "start_time": "2022-04-23T08:50:35.387Z"
      },
      {
        "duration": 46,
        "start_time": "2022-04-23T08:50:35.578Z"
      },
      {
        "duration": 103,
        "start_time": "2022-04-23T08:50:35.625Z"
      },
      {
        "duration": 84,
        "start_time": "2022-04-23T08:50:35.730Z"
      },
      {
        "duration": 4,
        "start_time": "2022-04-23T08:50:35.815Z"
      },
      {
        "duration": 8,
        "start_time": "2022-04-23T08:50:35.821Z"
      },
      {
        "duration": 9,
        "start_time": "2022-04-23T08:50:35.831Z"
      },
      {
        "duration": 40,
        "start_time": "2022-04-23T08:50:35.841Z"
      },
      {
        "duration": 23,
        "start_time": "2022-04-23T08:50:35.882Z"
      },
      {
        "duration": 27,
        "start_time": "2022-04-23T08:50:35.907Z"
      },
      {
        "duration": 68,
        "start_time": "2022-04-23T08:50:35.936Z"
      },
      {
        "duration": 206,
        "start_time": "2022-04-23T08:50:36.006Z"
      },
      {
        "duration": 24,
        "start_time": "2022-04-23T08:50:36.213Z"
      },
      {
        "duration": 7,
        "start_time": "2022-04-23T08:50:36.239Z"
      },
      {
        "duration": 101,
        "start_time": "2022-04-23T08:50:36.248Z"
      },
      {
        "duration": 79,
        "start_time": "2022-04-23T08:52:49.091Z"
      },
      {
        "duration": 79,
        "start_time": "2022-04-23T08:54:19.949Z"
      },
      {
        "duration": 1950,
        "start_time": "2022-04-23T08:54:42.809Z"
      },
      {
        "duration": 76,
        "start_time": "2022-04-23T08:54:48.177Z"
      },
      {
        "duration": 76,
        "start_time": "2022-04-23T08:54:52.573Z"
      },
      {
        "duration": 80,
        "start_time": "2022-04-23T08:55:45.647Z"
      },
      {
        "duration": 1465,
        "start_time": "2022-04-23T08:56:03.269Z"
      },
      {
        "duration": 80,
        "start_time": "2022-04-23T08:56:07.318Z"
      },
      {
        "duration": 78,
        "start_time": "2022-04-23T08:56:56.252Z"
      },
      {
        "duration": 80,
        "start_time": "2022-04-23T08:57:00.541Z"
      },
      {
        "duration": 4,
        "start_time": "2022-04-23T08:57:11.354Z"
      },
      {
        "duration": 78,
        "start_time": "2022-04-23T08:57:25.037Z"
      },
      {
        "duration": 76,
        "start_time": "2022-04-23T08:57:30.871Z"
      },
      {
        "duration": 79,
        "start_time": "2022-04-23T08:57:38.205Z"
      },
      {
        "duration": 79,
        "start_time": "2022-04-23T08:59:15.706Z"
      },
      {
        "duration": 5,
        "start_time": "2022-04-23T08:59:53.253Z"
      },
      {
        "duration": 5,
        "start_time": "2022-04-23T09:03:31.357Z"
      },
      {
        "duration": 1559,
        "start_time": "2022-04-23T09:03:58.357Z"
      },
      {
        "duration": 78,
        "start_time": "2022-04-23T09:04:10.366Z"
      },
      {
        "duration": 79,
        "start_time": "2022-04-23T09:04:25.477Z"
      },
      {
        "duration": 1404,
        "start_time": "2022-04-23T09:04:38.452Z"
      },
      {
        "duration": 82,
        "start_time": "2022-04-23T09:04:48.771Z"
      },
      {
        "duration": 1902,
        "start_time": "2022-04-23T09:05:10.288Z"
      },
      {
        "duration": 2204,
        "start_time": "2022-04-23T09:06:15.191Z"
      },
      {
        "duration": 2143,
        "start_time": "2022-04-23T09:06:59.836Z"
      },
      {
        "duration": 5,
        "start_time": "2022-04-23T09:07:17.620Z"
      },
      {
        "duration": 5,
        "start_time": "2022-04-23T09:07:24.190Z"
      },
      {
        "duration": 5,
        "start_time": "2022-04-23T09:07:44.665Z"
      },
      {
        "duration": 4,
        "start_time": "2022-04-23T09:07:51.266Z"
      },
      {
        "duration": 5,
        "start_time": "2022-04-23T09:07:54.189Z"
      },
      {
        "duration": 5,
        "start_time": "2022-04-23T09:07:57.684Z"
      },
      {
        "duration": 3186,
        "start_time": "2022-04-23T09:08:03.699Z"
      },
      {
        "duration": 2023,
        "start_time": "2022-04-23T09:08:33.175Z"
      },
      {
        "duration": 1823,
        "start_time": "2022-04-23T09:09:07.828Z"
      },
      {
        "duration": 3,
        "start_time": "2022-04-23T09:09:17.202Z"
      },
      {
        "duration": 9,
        "start_time": "2022-04-23T09:09:21.146Z"
      },
      {
        "duration": 14,
        "start_time": "2022-04-23T09:09:24.672Z"
      },
      {
        "duration": 13,
        "start_time": "2022-04-23T09:09:29.219Z"
      },
      {
        "duration": 7,
        "start_time": "2022-04-23T09:09:33.763Z"
      },
      {
        "duration": 1903,
        "start_time": "2022-04-23T09:09:47.909Z"
      },
      {
        "duration": 1898,
        "start_time": "2022-04-23T09:10:10.559Z"
      },
      {
        "duration": 83,
        "start_time": "2022-04-23T09:10:24.601Z"
      },
      {
        "duration": 2111,
        "start_time": "2022-04-23T09:10:32.774Z"
      },
      {
        "duration": 86,
        "start_time": "2022-04-23T09:12:10.185Z"
      },
      {
        "duration": 80,
        "start_time": "2022-04-23T09:12:15.662Z"
      },
      {
        "duration": 1853,
        "start_time": "2022-04-23T09:16:20.518Z"
      },
      {
        "duration": 1908,
        "start_time": "2022-04-23T09:16:48.574Z"
      },
      {
        "duration": 8,
        "start_time": "2022-04-23T09:17:01.341Z"
      },
      {
        "duration": 57,
        "start_time": "2022-04-23T09:17:06.620Z"
      },
      {
        "duration": 7,
        "start_time": "2022-04-23T09:17:08.659Z"
      },
      {
        "duration": 2162,
        "start_time": "2022-04-23T09:17:10.297Z"
      },
      {
        "duration": 0,
        "start_time": "2022-04-23T09:17:12.461Z"
      },
      {
        "duration": 82,
        "start_time": "2022-04-23T09:17:20.964Z"
      },
      {
        "duration": 84,
        "start_time": "2022-04-23T09:17:26.598Z"
      },
      {
        "duration": 85,
        "start_time": "2022-04-23T09:17:32.137Z"
      },
      {
        "duration": 2524,
        "start_time": "2022-04-23T09:17:39.006Z"
      },
      {
        "duration": 2300,
        "start_time": "2022-04-23T09:17:47.061Z"
      },
      {
        "duration": 707,
        "start_time": "2022-04-23T09:18:03.574Z"
      },
      {
        "duration": 82,
        "start_time": "2022-04-23T09:18:26.541Z"
      },
      {
        "duration": 82,
        "start_time": "2022-04-23T09:18:49.040Z"
      },
      {
        "duration": 82,
        "start_time": "2022-04-23T09:18:54.245Z"
      },
      {
        "duration": 80,
        "start_time": "2022-04-23T09:19:03.081Z"
      },
      {
        "duration": 634,
        "start_time": "2022-04-23T09:19:41.993Z"
      },
      {
        "duration": 86,
        "start_time": "2022-04-23T09:19:50.902Z"
      },
      {
        "duration": 82,
        "start_time": "2022-04-23T09:20:05.621Z"
      },
      {
        "duration": 86,
        "start_time": "2022-04-23T09:20:09.946Z"
      },
      {
        "duration": 87,
        "start_time": "2022-04-23T09:20:15.939Z"
      },
      {
        "duration": 87,
        "start_time": "2022-04-23T09:20:25.013Z"
      },
      {
        "duration": 90,
        "start_time": "2022-04-23T09:21:06.128Z"
      },
      {
        "duration": 6,
        "start_time": "2022-04-23T09:21:28.554Z"
      },
      {
        "duration": 67,
        "start_time": "2022-04-23T09:29:12.024Z"
      },
      {
        "duration": 60,
        "start_time": "2022-04-23T09:31:09.588Z"
      },
      {
        "duration": 63,
        "start_time": "2022-04-23T09:34:05.220Z"
      },
      {
        "duration": 69,
        "start_time": "2022-04-23T09:40:01.494Z"
      },
      {
        "duration": 70,
        "start_time": "2022-04-23T09:40:05.181Z"
      },
      {
        "duration": 530,
        "start_time": "2022-04-23T09:40:14.587Z"
      },
      {
        "duration": 67,
        "start_time": "2022-04-23T09:40:18.201Z"
      },
      {
        "duration": 66,
        "start_time": "2022-04-23T09:40:29.286Z"
      },
      {
        "duration": 68,
        "start_time": "2022-04-23T09:40:43.626Z"
      },
      {
        "duration": 505,
        "start_time": "2022-04-23T09:42:43.359Z"
      },
      {
        "duration": 67,
        "start_time": "2022-04-23T09:42:57.671Z"
      },
      {
        "duration": 1912,
        "start_time": "2022-04-23T09:43:06.564Z"
      },
      {
        "duration": 82,
        "start_time": "2022-04-23T09:43:22.169Z"
      },
      {
        "duration": 9,
        "start_time": "2022-04-23T09:46:17.178Z"
      },
      {
        "duration": 113,
        "start_time": "2022-04-23T09:47:29.692Z"
      },
      {
        "duration": 22,
        "start_time": "2022-04-23T09:47:33.297Z"
      },
      {
        "duration": 6,
        "start_time": "2022-04-23T09:47:52.373Z"
      },
      {
        "duration": 4,
        "start_time": "2022-04-23T09:48:51.996Z"
      },
      {
        "duration": 80,
        "start_time": "2022-04-23T09:50:15.533Z"
      },
      {
        "duration": 5,
        "start_time": "2022-04-23T09:50:50.711Z"
      },
      {
        "duration": 94,
        "start_time": "2022-04-23T09:51:14.022Z"
      },
      {
        "duration": 82,
        "start_time": "2022-04-23T09:53:05.877Z"
      },
      {
        "duration": 943,
        "start_time": "2022-04-23T09:54:03.298Z"
      },
      {
        "duration": 528,
        "start_time": "2022-04-23T09:55:36.675Z"
      },
      {
        "duration": 75,
        "start_time": "2022-04-23T09:55:46.658Z"
      },
      {
        "duration": 80,
        "start_time": "2022-04-23T09:56:26.288Z"
      },
      {
        "duration": 80,
        "start_time": "2022-04-23T09:56:37.329Z"
      },
      {
        "duration": 10,
        "start_time": "2022-04-23T09:56:51.973Z"
      },
      {
        "duration": 9,
        "start_time": "2022-04-23T09:57:37.514Z"
      },
      {
        "duration": 79,
        "start_time": "2022-04-23T09:57:42.918Z"
      },
      {
        "duration": 78,
        "start_time": "2022-04-23T09:57:47.664Z"
      },
      {
        "duration": 83,
        "start_time": "2022-04-23T09:57:50.034Z"
      },
      {
        "duration": 94,
        "start_time": "2022-04-23T09:58:15.055Z"
      },
      {
        "duration": 78,
        "start_time": "2022-04-23T09:58:29.560Z"
      },
      {
        "duration": 1796,
        "start_time": "2022-04-23T09:59:02.657Z"
      },
      {
        "duration": 46,
        "start_time": "2022-04-23T09:59:36.154Z"
      },
      {
        "duration": 79,
        "start_time": "2022-04-23T09:59:45.296Z"
      },
      {
        "duration": 44,
        "start_time": "2022-04-23T09:59:48.317Z"
      },
      {
        "duration": 76,
        "start_time": "2022-04-23T09:59:50.443Z"
      },
      {
        "duration": 46,
        "start_time": "2022-04-23T10:00:21.123Z"
      },
      {
        "duration": 80,
        "start_time": "2022-04-23T10:00:23.248Z"
      },
      {
        "duration": 4,
        "start_time": "2022-04-23T10:00:25.219Z"
      },
      {
        "duration": 1376,
        "start_time": "2022-04-23T10:00:31.938Z"
      },
      {
        "duration": 489,
        "start_time": "2022-04-23T10:00:33.317Z"
      },
      {
        "duration": 31,
        "start_time": "2022-04-23T10:00:33.808Z"
      },
      {
        "duration": 34,
        "start_time": "2022-04-23T10:00:33.840Z"
      },
      {
        "duration": 497,
        "start_time": "2022-04-23T10:00:33.877Z"
      },
      {
        "duration": 82,
        "start_time": "2022-04-23T10:00:34.375Z"
      },
      {
        "duration": 2109,
        "start_time": "2022-04-23T10:00:34.459Z"
      },
      {
        "duration": 33,
        "start_time": "2022-04-23T10:00:36.570Z"
      },
      {
        "duration": 97,
        "start_time": "2022-04-23T10:00:36.605Z"
      },
      {
        "duration": 126,
        "start_time": "2022-04-23T10:00:36.704Z"
      },
      {
        "duration": 62,
        "start_time": "2022-04-23T10:00:36.832Z"
      },
      {
        "duration": 47,
        "start_time": "2022-04-23T10:00:36.897Z"
      },
      {
        "duration": 51,
        "start_time": "2022-04-23T10:00:36.946Z"
      },
      {
        "duration": 16,
        "start_time": "2022-04-23T10:00:37.002Z"
      },
      {
        "duration": 64,
        "start_time": "2022-04-23T10:00:37.021Z"
      },
      {
        "duration": 325,
        "start_time": "2022-04-23T10:00:37.088Z"
      },
      {
        "duration": 654,
        "start_time": "2022-04-23T10:00:37.415Z"
      },
      {
        "duration": 28,
        "start_time": "2022-04-23T10:00:38.071Z"
      },
      {
        "duration": 55,
        "start_time": "2022-04-23T10:00:38.101Z"
      },
      {
        "duration": 18,
        "start_time": "2022-04-23T10:00:38.157Z"
      },
      {
        "duration": 35,
        "start_time": "2022-04-23T10:00:38.177Z"
      },
      {
        "duration": 32,
        "start_time": "2022-04-23T10:00:38.214Z"
      },
      {
        "duration": 27,
        "start_time": "2022-04-23T10:00:38.248Z"
      },
      {
        "duration": 36,
        "start_time": "2022-04-23T10:00:38.277Z"
      },
      {
        "duration": 80,
        "start_time": "2022-04-23T10:00:38.315Z"
      },
      {
        "duration": 84,
        "start_time": "2022-04-23T10:00:38.397Z"
      },
      {
        "duration": 191,
        "start_time": "2022-04-23T10:00:38.483Z"
      },
      {
        "duration": 197,
        "start_time": "2022-04-23T10:00:38.676Z"
      },
      {
        "duration": 48,
        "start_time": "2022-04-23T10:00:38.875Z"
      },
      {
        "duration": 105,
        "start_time": "2022-04-23T10:00:38.925Z"
      },
      {
        "duration": 5,
        "start_time": "2022-04-23T10:00:39.032Z"
      },
      {
        "duration": 12,
        "start_time": "2022-04-23T10:00:39.038Z"
      },
      {
        "duration": 122,
        "start_time": "2022-04-23T10:00:39.052Z"
      },
      {
        "duration": 0,
        "start_time": "2022-04-23T10:00:39.176Z"
      },
      {
        "duration": 0,
        "start_time": "2022-04-23T10:00:39.177Z"
      },
      {
        "duration": 0,
        "start_time": "2022-04-23T10:00:39.178Z"
      },
      {
        "duration": 0,
        "start_time": "2022-04-23T10:00:39.179Z"
      },
      {
        "duration": 0,
        "start_time": "2022-04-23T10:00:39.181Z"
      },
      {
        "duration": 0,
        "start_time": "2022-04-23T10:00:39.181Z"
      },
      {
        "duration": 0,
        "start_time": "2022-04-23T10:00:39.182Z"
      },
      {
        "duration": 0,
        "start_time": "2022-04-23T10:00:39.184Z"
      },
      {
        "duration": 0,
        "start_time": "2022-04-23T10:00:39.185Z"
      },
      {
        "duration": 0,
        "start_time": "2022-04-23T10:00:39.186Z"
      },
      {
        "duration": 0,
        "start_time": "2022-04-23T10:00:39.187Z"
      },
      {
        "duration": 1829,
        "start_time": "2022-04-23T10:01:40.013Z"
      },
      {
        "duration": 9,
        "start_time": "2022-04-23T10:01:42.468Z"
      },
      {
        "duration": 5,
        "start_time": "2022-04-23T10:01:48.587Z"
      },
      {
        "duration": 1898,
        "start_time": "2022-04-23T10:01:51.321Z"
      },
      {
        "duration": 1292,
        "start_time": "2022-04-23T10:02:22.321Z"
      },
      {
        "duration": 368,
        "start_time": "2022-04-23T10:02:23.615Z"
      },
      {
        "duration": 31,
        "start_time": "2022-04-23T10:02:23.985Z"
      },
      {
        "duration": 14,
        "start_time": "2022-04-23T10:02:24.018Z"
      },
      {
        "duration": 493,
        "start_time": "2022-04-23T10:02:24.034Z"
      },
      {
        "duration": 97,
        "start_time": "2022-04-23T10:02:24.529Z"
      },
      {
        "duration": 2146,
        "start_time": "2022-04-23T10:02:24.628Z"
      },
      {
        "duration": 33,
        "start_time": "2022-04-23T10:02:26.775Z"
      },
      {
        "duration": 110,
        "start_time": "2022-04-23T10:02:26.810Z"
      },
      {
        "duration": 132,
        "start_time": "2022-04-23T10:02:26.923Z"
      },
      {
        "duration": 65,
        "start_time": "2022-04-23T10:02:27.057Z"
      },
      {
        "duration": 61,
        "start_time": "2022-04-23T10:02:27.124Z"
      },
      {
        "duration": 28,
        "start_time": "2022-04-23T10:02:27.187Z"
      },
      {
        "duration": 14,
        "start_time": "2022-04-23T10:02:27.217Z"
      },
      {
        "duration": 70,
        "start_time": "2022-04-23T10:02:27.232Z"
      },
      {
        "duration": 318,
        "start_time": "2022-04-23T10:02:27.304Z"
      },
      {
        "duration": 674,
        "start_time": "2022-04-23T10:02:27.624Z"
      },
      {
        "duration": 29,
        "start_time": "2022-04-23T10:02:28.300Z"
      },
      {
        "duration": 56,
        "start_time": "2022-04-23T10:02:28.331Z"
      },
      {
        "duration": 4,
        "start_time": "2022-04-23T10:02:28.389Z"
      },
      {
        "duration": 33,
        "start_time": "2022-04-23T10:02:28.395Z"
      },
      {
        "duration": 56,
        "start_time": "2022-04-23T10:02:28.430Z"
      },
      {
        "duration": 4,
        "start_time": "2022-04-23T10:02:28.488Z"
      },
      {
        "duration": 33,
        "start_time": "2022-04-23T10:02:28.494Z"
      },
      {
        "duration": 95,
        "start_time": "2022-04-23T10:02:28.528Z"
      },
      {
        "duration": 83,
        "start_time": "2022-04-23T10:02:28.625Z"
      },
      {
        "duration": 138,
        "start_time": "2022-04-23T10:02:28.709Z"
      },
      {
        "duration": 164,
        "start_time": "2022-04-23T10:02:28.851Z"
      },
      {
        "duration": 81,
        "start_time": "2022-04-23T10:02:29.017Z"
      },
      {
        "duration": 93,
        "start_time": "2022-04-23T10:02:29.099Z"
      },
      {
        "duration": 5,
        "start_time": "2022-04-23T10:02:29.193Z"
      },
      {
        "duration": 2171,
        "start_time": "2022-04-23T10:02:29.199Z"
      },
      {
        "duration": 0,
        "start_time": "2022-04-23T10:02:31.372Z"
      },
      {
        "duration": 0,
        "start_time": "2022-04-23T10:02:31.373Z"
      },
      {
        "duration": 0,
        "start_time": "2022-04-23T10:02:31.374Z"
      },
      {
        "duration": 0,
        "start_time": "2022-04-23T10:02:31.375Z"
      },
      {
        "duration": 0,
        "start_time": "2022-04-23T10:02:31.377Z"
      },
      {
        "duration": 0,
        "start_time": "2022-04-23T10:02:31.378Z"
      },
      {
        "duration": 0,
        "start_time": "2022-04-23T10:02:31.379Z"
      },
      {
        "duration": 0,
        "start_time": "2022-04-23T10:02:31.380Z"
      },
      {
        "duration": 0,
        "start_time": "2022-04-23T10:02:31.381Z"
      },
      {
        "duration": 0,
        "start_time": "2022-04-23T10:02:31.382Z"
      },
      {
        "duration": 1286,
        "start_time": "2022-04-23T10:02:51.398Z"
      },
      {
        "duration": 318,
        "start_time": "2022-04-23T10:02:52.685Z"
      },
      {
        "duration": 28,
        "start_time": "2022-04-23T10:02:53.005Z"
      },
      {
        "duration": 13,
        "start_time": "2022-04-23T10:02:53.035Z"
      },
      {
        "duration": 446,
        "start_time": "2022-04-23T10:02:53.050Z"
      },
      {
        "duration": 80,
        "start_time": "2022-04-23T10:02:53.497Z"
      },
      {
        "duration": 2038,
        "start_time": "2022-04-23T10:02:53.579Z"
      },
      {
        "duration": 32,
        "start_time": "2022-04-23T10:02:55.619Z"
      },
      {
        "duration": 85,
        "start_time": "2022-04-23T10:02:55.652Z"
      },
      {
        "duration": 123,
        "start_time": "2022-04-23T10:02:55.740Z"
      },
      {
        "duration": 52,
        "start_time": "2022-04-23T10:02:55.864Z"
      },
      {
        "duration": 43,
        "start_time": "2022-04-23T10:02:55.918Z"
      },
      {
        "duration": 33,
        "start_time": "2022-04-23T10:02:55.963Z"
      },
      {
        "duration": 14,
        "start_time": "2022-04-23T10:02:55.998Z"
      },
      {
        "duration": 35,
        "start_time": "2022-04-23T10:02:56.014Z"
      },
      {
        "duration": 304,
        "start_time": "2022-04-23T10:02:56.051Z"
      },
      {
        "duration": 618,
        "start_time": "2022-04-23T10:02:56.356Z"
      },
      {
        "duration": 29,
        "start_time": "2022-04-23T10:02:56.975Z"
      },
      {
        "duration": 53,
        "start_time": "2022-04-23T10:02:57.005Z"
      },
      {
        "duration": 4,
        "start_time": "2022-04-23T10:02:57.060Z"
      },
      {
        "duration": 36,
        "start_time": "2022-04-23T10:02:57.066Z"
      },
      {
        "duration": 30,
        "start_time": "2022-04-23T10:02:57.104Z"
      },
      {
        "duration": 4,
        "start_time": "2022-04-23T10:02:57.136Z"
      },
      {
        "duration": 37,
        "start_time": "2022-04-23T10:02:57.141Z"
      },
      {
        "duration": 59,
        "start_time": "2022-04-23T10:02:57.180Z"
      },
      {
        "duration": 70,
        "start_time": "2022-04-23T10:02:57.241Z"
      },
      {
        "duration": 1148,
        "start_time": "2022-04-23T10:02:57.313Z"
      },
      {
        "duration": 113,
        "start_time": "2022-04-23T10:02:58.465Z"
      },
      {
        "duration": 47,
        "start_time": "2022-04-23T10:02:58.579Z"
      },
      {
        "duration": 167,
        "start_time": "2022-04-23T10:02:58.628Z"
      },
      {
        "duration": 4,
        "start_time": "2022-04-23T10:02:58.797Z"
      },
      {
        "duration": 9,
        "start_time": "2022-04-23T10:02:58.803Z"
      },
      {
        "duration": 8,
        "start_time": "2022-04-23T10:02:58.814Z"
      },
      {
        "duration": 8,
        "start_time": "2022-04-23T10:02:58.823Z"
      },
      {
        "duration": 41,
        "start_time": "2022-04-23T10:02:58.833Z"
      },
      {
        "duration": 25,
        "start_time": "2022-04-23T10:02:58.875Z"
      },
      {
        "duration": 31,
        "start_time": "2022-04-23T10:02:58.902Z"
      },
      {
        "duration": 79,
        "start_time": "2022-04-23T10:02:58.934Z"
      },
      {
        "duration": 415,
        "start_time": "2022-04-23T10:02:59.015Z"
      },
      {
        "duration": 2248,
        "start_time": "2022-04-23T10:02:59.432Z"
      },
      {
        "duration": 1,
        "start_time": "2022-04-23T10:03:01.682Z"
      },
      {
        "duration": 0,
        "start_time": "2022-04-23T10:03:01.684Z"
      },
      {
        "duration": 8,
        "start_time": "2022-04-23T10:03:43.547Z"
      },
      {
        "duration": 1986,
        "start_time": "2022-04-23T10:03:44.720Z"
      },
      {
        "duration": 1265,
        "start_time": "2022-04-23T10:03:50.814Z"
      },
      {
        "duration": 290,
        "start_time": "2022-04-23T10:03:52.081Z"
      },
      {
        "duration": 29,
        "start_time": "2022-04-23T10:03:52.372Z"
      },
      {
        "duration": 14,
        "start_time": "2022-04-23T10:03:52.402Z"
      },
      {
        "duration": 458,
        "start_time": "2022-04-23T10:03:52.418Z"
      },
      {
        "duration": 80,
        "start_time": "2022-04-23T10:03:52.878Z"
      },
      {
        "duration": 2046,
        "start_time": "2022-04-23T10:03:52.959Z"
      },
      {
        "duration": 34,
        "start_time": "2022-04-23T10:03:55.007Z"
      },
      {
        "duration": 107,
        "start_time": "2022-04-23T10:03:55.043Z"
      },
      {
        "duration": 128,
        "start_time": "2022-04-23T10:03:55.152Z"
      },
      {
        "duration": 50,
        "start_time": "2022-04-23T10:03:55.282Z"
      },
      {
        "duration": 59,
        "start_time": "2022-04-23T10:03:55.333Z"
      },
      {
        "duration": 24,
        "start_time": "2022-04-23T10:03:55.394Z"
      },
      {
        "duration": 14,
        "start_time": "2022-04-23T10:03:55.421Z"
      },
      {
        "duration": 66,
        "start_time": "2022-04-23T10:03:55.436Z"
      },
      {
        "duration": 364,
        "start_time": "2022-04-23T10:03:55.504Z"
      },
      {
        "duration": 664,
        "start_time": "2022-04-23T10:03:55.870Z"
      },
      {
        "duration": 27,
        "start_time": "2022-04-23T10:03:56.536Z"
      },
      {
        "duration": 52,
        "start_time": "2022-04-23T10:03:56.565Z"
      },
      {
        "duration": 4,
        "start_time": "2022-04-23T10:03:56.618Z"
      },
      {
        "duration": 60,
        "start_time": "2022-04-23T10:03:56.624Z"
      },
      {
        "duration": 30,
        "start_time": "2022-04-23T10:03:56.686Z"
      },
      {
        "duration": 5,
        "start_time": "2022-04-23T10:03:56.718Z"
      },
      {
        "duration": 51,
        "start_time": "2022-04-23T10:03:56.725Z"
      },
      {
        "duration": 61,
        "start_time": "2022-04-23T10:03:56.778Z"
      },
      {
        "duration": 83,
        "start_time": "2022-04-23T10:03:56.840Z"
      },
      {
        "duration": 148,
        "start_time": "2022-04-23T10:03:56.925Z"
      },
      {
        "duration": 160,
        "start_time": "2022-04-23T10:03:57.074Z"
      },
      {
        "duration": 78,
        "start_time": "2022-04-23T10:03:57.236Z"
      },
      {
        "duration": 98,
        "start_time": "2022-04-23T10:03:57.315Z"
      },
      {
        "duration": 4,
        "start_time": "2022-04-23T10:03:57.415Z"
      },
      {
        "duration": 7,
        "start_time": "2022-04-23T10:03:57.420Z"
      },
      {
        "duration": 8,
        "start_time": "2022-04-23T10:03:57.429Z"
      },
      {
        "duration": 12,
        "start_time": "2022-04-23T10:03:57.438Z"
      },
      {
        "duration": 43,
        "start_time": "2022-04-23T10:03:57.451Z"
      },
      {
        "duration": 23,
        "start_time": "2022-04-23T10:03:57.495Z"
      },
      {
        "duration": 28,
        "start_time": "2022-04-23T10:03:57.520Z"
      },
      {
        "duration": 64,
        "start_time": "2022-04-23T10:03:57.550Z"
      },
      {
        "duration": 209,
        "start_time": "2022-04-23T10:03:57.616Z"
      },
      {
        "duration": 1895,
        "start_time": "2022-04-23T10:03:57.827Z"
      },
      {
        "duration": 0,
        "start_time": "2022-04-23T10:03:59.725Z"
      },
      {
        "duration": 0,
        "start_time": "2022-04-23T10:03:59.726Z"
      },
      {
        "duration": 1289,
        "start_time": "2022-04-23T10:04:43.116Z"
      },
      {
        "duration": 290,
        "start_time": "2022-04-23T10:04:44.407Z"
      },
      {
        "duration": 30,
        "start_time": "2022-04-23T10:04:44.699Z"
      },
      {
        "duration": 15,
        "start_time": "2022-04-23T10:04:44.731Z"
      },
      {
        "duration": 467,
        "start_time": "2022-04-23T10:04:44.747Z"
      },
      {
        "duration": 89,
        "start_time": "2022-04-23T10:04:45.216Z"
      },
      {
        "duration": 2078,
        "start_time": "2022-04-23T10:04:45.307Z"
      },
      {
        "duration": 33,
        "start_time": "2022-04-23T10:04:47.387Z"
      },
      {
        "duration": 108,
        "start_time": "2022-04-23T10:04:47.421Z"
      },
      {
        "duration": 123,
        "start_time": "2022-04-23T10:04:47.532Z"
      },
      {
        "duration": 56,
        "start_time": "2022-04-23T10:04:47.657Z"
      },
      {
        "duration": 59,
        "start_time": "2022-04-23T10:04:47.715Z"
      },
      {
        "duration": 28,
        "start_time": "2022-04-23T10:04:47.776Z"
      },
      {
        "duration": 14,
        "start_time": "2022-04-23T10:04:47.806Z"
      },
      {
        "duration": 63,
        "start_time": "2022-04-23T10:04:47.822Z"
      },
      {
        "duration": 323,
        "start_time": "2022-04-23T10:04:47.887Z"
      },
      {
        "duration": 650,
        "start_time": "2022-04-23T10:04:48.212Z"
      },
      {
        "duration": 29,
        "start_time": "2022-04-23T10:04:48.863Z"
      },
      {
        "duration": 52,
        "start_time": "2022-04-23T10:04:48.894Z"
      },
      {
        "duration": 4,
        "start_time": "2022-04-23T10:04:48.948Z"
      },
      {
        "duration": 30,
        "start_time": "2022-04-23T10:04:48.974Z"
      },
      {
        "duration": 31,
        "start_time": "2022-04-23T10:04:49.006Z"
      },
      {
        "duration": 5,
        "start_time": "2022-04-23T10:04:49.039Z"
      },
      {
        "duration": 33,
        "start_time": "2022-04-23T10:04:49.074Z"
      },
      {
        "duration": 84,
        "start_time": "2022-04-23T10:04:49.109Z"
      },
      {
        "duration": 78,
        "start_time": "2022-04-23T10:04:49.195Z"
      },
      {
        "duration": 146,
        "start_time": "2022-04-23T10:04:49.275Z"
      },
      {
        "duration": 196,
        "start_time": "2022-04-23T10:04:49.425Z"
      },
      {
        "duration": 71,
        "start_time": "2022-04-23T10:04:49.622Z"
      },
      {
        "duration": 95,
        "start_time": "2022-04-23T10:04:49.694Z"
      },
      {
        "duration": 4,
        "start_time": "2022-04-23T10:04:49.791Z"
      },
      {
        "duration": 7,
        "start_time": "2022-04-23T10:04:49.797Z"
      },
      {
        "duration": 9,
        "start_time": "2022-04-23T10:04:49.806Z"
      },
      {
        "duration": 9,
        "start_time": "2022-04-23T10:04:49.817Z"
      },
      {
        "duration": 57,
        "start_time": "2022-04-23T10:04:49.828Z"
      },
      {
        "duration": 26,
        "start_time": "2022-04-23T10:04:49.886Z"
      },
      {
        "duration": 24,
        "start_time": "2022-04-23T10:04:49.913Z"
      },
      {
        "duration": 77,
        "start_time": "2022-04-23T10:04:49.939Z"
      },
      {
        "duration": 221,
        "start_time": "2022-04-23T10:04:50.018Z"
      },
      {
        "duration": 33,
        "start_time": "2022-04-23T10:04:50.241Z"
      },
      {
        "duration": 8,
        "start_time": "2022-04-23T10:04:50.276Z"
      },
      {
        "duration": 108,
        "start_time": "2022-04-23T10:04:50.286Z"
      },
      {
        "duration": 4,
        "start_time": "2022-04-23T10:05:14.810Z"
      },
      {
        "duration": 2129,
        "start_time": "2022-04-23T10:05:31.744Z"
      },
      {
        "duration": 5,
        "start_time": "2022-04-23T10:05:42.050Z"
      },
      {
        "duration": 85,
        "start_time": "2022-04-23T10:07:00.283Z"
      },
      {
        "duration": 83,
        "start_time": "2022-04-23T10:07:05.412Z"
      },
      {
        "duration": 6,
        "start_time": "2022-04-23T10:07:59.978Z"
      },
      {
        "duration": 2126,
        "start_time": "2022-04-23T10:10:54.460Z"
      },
      {
        "duration": 6,
        "start_time": "2022-04-23T10:11:08.862Z"
      },
      {
        "duration": 103,
        "start_time": "2022-04-23T10:12:14.111Z"
      },
      {
        "duration": 5,
        "start_time": "2022-04-23T10:12:18.026Z"
      },
      {
        "duration": 2335,
        "start_time": "2022-04-23T10:13:16.400Z"
      },
      {
        "duration": 2463,
        "start_time": "2022-04-23T10:13:24.028Z"
      },
      {
        "duration": 6,
        "start_time": "2022-04-23T10:13:51.061Z"
      },
      {
        "duration": 5,
        "start_time": "2022-04-23T10:14:38.039Z"
      },
      {
        "duration": 81,
        "start_time": "2022-04-23T10:14:51.598Z"
      },
      {
        "duration": 90,
        "start_time": "2022-04-23T10:16:01.000Z"
      },
      {
        "duration": 90,
        "start_time": "2022-04-23T10:16:07.170Z"
      },
      {
        "duration": 84,
        "start_time": "2022-04-23T10:16:16.426Z"
      },
      {
        "duration": 82,
        "start_time": "2022-04-23T10:16:59.103Z"
      },
      {
        "duration": 89,
        "start_time": "2022-04-23T10:28:15.552Z"
      },
      {
        "duration": 12,
        "start_time": "2022-04-23T10:28:35.909Z"
      },
      {
        "duration": 66,
        "start_time": "2022-04-23T10:28:47.631Z"
      },
      {
        "duration": 68,
        "start_time": "2022-04-23T10:29:05.415Z"
      },
      {
        "duration": 65,
        "start_time": "2022-04-23T10:29:27.813Z"
      },
      {
        "duration": 61,
        "start_time": "2022-04-23T10:29:43.019Z"
      },
      {
        "duration": 67,
        "start_time": "2022-04-23T10:29:43.278Z"
      },
      {
        "duration": 11,
        "start_time": "2022-04-23T10:29:44.849Z"
      },
      {
        "duration": 64,
        "start_time": "2022-04-23T10:30:45.396Z"
      },
      {
        "duration": 66,
        "start_time": "2022-04-23T10:31:00.604Z"
      },
      {
        "duration": 66,
        "start_time": "2022-04-23T10:31:10.235Z"
      },
      {
        "duration": 63,
        "start_time": "2022-04-23T10:31:27.209Z"
      },
      {
        "duration": 60,
        "start_time": "2022-04-23T10:32:59.581Z"
      },
      {
        "duration": 65,
        "start_time": "2022-04-23T10:33:05.945Z"
      },
      {
        "duration": 89,
        "start_time": "2022-04-23T10:33:46.551Z"
      },
      {
        "duration": 62,
        "start_time": "2022-04-23T10:34:09.363Z"
      },
      {
        "duration": 66,
        "start_time": "2022-04-23T10:34:10.315Z"
      },
      {
        "duration": 65,
        "start_time": "2022-04-23T10:35:26.778Z"
      },
      {
        "duration": 1278,
        "start_time": "2022-04-23T10:35:32.417Z"
      },
      {
        "duration": 376,
        "start_time": "2022-04-23T10:35:33.697Z"
      },
      {
        "duration": 29,
        "start_time": "2022-04-23T10:35:34.075Z"
      },
      {
        "duration": 13,
        "start_time": "2022-04-23T10:35:34.106Z"
      },
      {
        "duration": 457,
        "start_time": "2022-04-23T10:35:34.121Z"
      },
      {
        "duration": 94,
        "start_time": "2022-04-23T10:35:34.580Z"
      },
      {
        "duration": 1993,
        "start_time": "2022-04-23T10:35:34.676Z"
      },
      {
        "duration": 31,
        "start_time": "2022-04-23T10:35:36.671Z"
      },
      {
        "duration": 95,
        "start_time": "2022-04-23T10:35:36.703Z"
      },
      {
        "duration": 124,
        "start_time": "2022-04-23T10:35:36.800Z"
      },
      {
        "duration": 54,
        "start_time": "2022-04-23T10:35:36.926Z"
      },
      {
        "duration": 46,
        "start_time": "2022-04-23T10:35:36.981Z"
      },
      {
        "duration": 49,
        "start_time": "2022-04-23T10:35:37.029Z"
      },
      {
        "duration": 15,
        "start_time": "2022-04-23T10:35:37.080Z"
      },
      {
        "duration": 35,
        "start_time": "2022-04-23T10:35:37.097Z"
      },
      {
        "duration": 317,
        "start_time": "2022-04-23T10:35:37.134Z"
      },
      {
        "duration": 673,
        "start_time": "2022-04-23T10:35:37.453Z"
      },
      {
        "duration": 29,
        "start_time": "2022-04-23T10:35:38.129Z"
      },
      {
        "duration": 60,
        "start_time": "2022-04-23T10:35:38.160Z"
      },
      {
        "duration": 4,
        "start_time": "2022-04-23T10:35:38.222Z"
      },
      {
        "duration": 47,
        "start_time": "2022-04-23T10:35:38.227Z"
      },
      {
        "duration": 29,
        "start_time": "2022-04-23T10:35:38.276Z"
      },
      {
        "duration": 5,
        "start_time": "2022-04-23T10:35:38.307Z"
      },
      {
        "duration": 34,
        "start_time": "2022-04-23T10:35:38.313Z"
      },
      {
        "duration": 87,
        "start_time": "2022-04-23T10:35:38.349Z"
      },
      {
        "duration": 148,
        "start_time": "2022-04-23T10:35:38.438Z"
      },
      {
        "duration": 190,
        "start_time": "2022-04-23T10:35:38.588Z"
      },
      {
        "duration": 44,
        "start_time": "2022-04-23T10:35:38.781Z"
      },
      {
        "duration": 119,
        "start_time": "2022-04-23T10:35:38.827Z"
      },
      {
        "duration": 0,
        "start_time": "2022-04-23T10:35:38.947Z"
      },
      {
        "duration": 0,
        "start_time": "2022-04-23T10:35:38.949Z"
      },
      {
        "duration": 0,
        "start_time": "2022-04-23T10:35:38.950Z"
      },
      {
        "duration": 0,
        "start_time": "2022-04-23T10:35:38.952Z"
      },
      {
        "duration": 0,
        "start_time": "2022-04-23T10:35:38.953Z"
      },
      {
        "duration": 0,
        "start_time": "2022-04-23T10:35:38.954Z"
      },
      {
        "duration": 0,
        "start_time": "2022-04-23T10:35:38.956Z"
      },
      {
        "duration": 0,
        "start_time": "2022-04-23T10:35:38.974Z"
      },
      {
        "duration": 0,
        "start_time": "2022-04-23T10:35:38.976Z"
      },
      {
        "duration": 0,
        "start_time": "2022-04-23T10:35:38.977Z"
      },
      {
        "duration": 0,
        "start_time": "2022-04-23T10:35:38.978Z"
      },
      {
        "duration": 0,
        "start_time": "2022-04-23T10:35:38.979Z"
      },
      {
        "duration": 1279,
        "start_time": "2022-04-23T10:36:02.419Z"
      },
      {
        "duration": 389,
        "start_time": "2022-04-23T10:36:03.700Z"
      },
      {
        "duration": 31,
        "start_time": "2022-04-23T10:36:04.091Z"
      },
      {
        "duration": 14,
        "start_time": "2022-04-23T10:36:04.123Z"
      },
      {
        "duration": 473,
        "start_time": "2022-04-23T10:36:04.140Z"
      },
      {
        "duration": 88,
        "start_time": "2022-04-23T10:36:04.615Z"
      },
      {
        "duration": 2070,
        "start_time": "2022-04-23T10:36:04.704Z"
      },
      {
        "duration": 34,
        "start_time": "2022-04-23T10:36:06.775Z"
      },
      {
        "duration": 112,
        "start_time": "2022-04-23T10:36:06.811Z"
      },
      {
        "duration": 130,
        "start_time": "2022-04-23T10:36:06.925Z"
      },
      {
        "duration": 61,
        "start_time": "2022-04-23T10:36:07.057Z"
      },
      {
        "duration": 57,
        "start_time": "2022-04-23T10:36:07.120Z"
      },
      {
        "duration": 30,
        "start_time": "2022-04-23T10:36:07.179Z"
      },
      {
        "duration": 13,
        "start_time": "2022-04-23T10:36:07.214Z"
      },
      {
        "duration": 63,
        "start_time": "2022-04-23T10:36:07.229Z"
      },
      {
        "duration": 311,
        "start_time": "2022-04-23T10:36:07.294Z"
      },
      {
        "duration": 638,
        "start_time": "2022-04-23T10:36:07.607Z"
      },
      {
        "duration": 29,
        "start_time": "2022-04-23T10:36:08.247Z"
      },
      {
        "duration": 52,
        "start_time": "2022-04-23T10:36:08.278Z"
      },
      {
        "duration": 5,
        "start_time": "2022-04-23T10:36:08.331Z"
      },
      {
        "duration": 47,
        "start_time": "2022-04-23T10:36:08.337Z"
      },
      {
        "duration": 30,
        "start_time": "2022-04-23T10:36:08.385Z"
      },
      {
        "duration": 5,
        "start_time": "2022-04-23T10:36:08.417Z"
      },
      {
        "duration": 55,
        "start_time": "2022-04-23T10:36:08.424Z"
      },
      {
        "duration": 65,
        "start_time": "2022-04-23T10:36:08.481Z"
      },
      {
        "duration": 149,
        "start_time": "2022-04-23T10:36:08.548Z"
      },
      {
        "duration": 196,
        "start_time": "2022-04-23T10:36:08.699Z"
      },
      {
        "duration": 79,
        "start_time": "2022-04-23T10:36:08.897Z"
      },
      {
        "duration": 103,
        "start_time": "2022-04-23T10:36:08.977Z"
      },
      {
        "duration": 5,
        "start_time": "2022-04-23T10:36:09.082Z"
      },
      {
        "duration": 14,
        "start_time": "2022-04-23T10:36:09.088Z"
      },
      {
        "duration": 13,
        "start_time": "2022-04-23T10:36:09.105Z"
      },
      {
        "duration": 34,
        "start_time": "2022-04-23T10:36:09.120Z"
      },
      {
        "duration": 38,
        "start_time": "2022-04-23T10:36:09.157Z"
      },
      {
        "duration": 35,
        "start_time": "2022-04-23T10:36:09.197Z"
      },
      {
        "duration": 68,
        "start_time": "2022-04-23T10:36:09.234Z"
      },
      {
        "duration": 213,
        "start_time": "2022-04-23T10:36:09.303Z"
      },
      {
        "duration": 26,
        "start_time": "2022-04-23T10:36:09.518Z"
      },
      {
        "duration": 27,
        "start_time": "2022-04-23T10:36:09.546Z"
      },
      {
        "duration": 109,
        "start_time": "2022-04-23T10:36:09.575Z"
      },
      {
        "duration": 113,
        "start_time": "2022-04-23T10:40:18.623Z"
      },
      {
        "duration": 103,
        "start_time": "2022-04-23T10:40:25.736Z"
      },
      {
        "duration": 65,
        "start_time": "2022-04-23T10:40:30.293Z"
      },
      {
        "duration": 1209,
        "start_time": "2022-04-24T11:13:04.252Z"
      },
      {
        "duration": 482,
        "start_time": "2022-04-24T11:13:05.463Z"
      },
      {
        "duration": 26,
        "start_time": "2022-04-24T11:13:05.946Z"
      },
      {
        "duration": 12,
        "start_time": "2022-04-24T11:13:05.973Z"
      },
      {
        "duration": 442,
        "start_time": "2022-04-24T11:13:05.986Z"
      },
      {
        "duration": 82,
        "start_time": "2022-04-24T11:13:06.430Z"
      },
      {
        "duration": 1972,
        "start_time": "2022-04-24T11:13:06.513Z"
      },
      {
        "duration": 40,
        "start_time": "2022-04-24T11:13:08.487Z"
      },
      {
        "duration": 85,
        "start_time": "2022-04-24T11:13:08.529Z"
      },
      {
        "duration": 112,
        "start_time": "2022-04-24T11:13:08.617Z"
      },
      {
        "duration": 49,
        "start_time": "2022-04-24T11:13:08.730Z"
      },
      {
        "duration": 51,
        "start_time": "2022-04-24T11:13:08.781Z"
      },
      {
        "duration": 25,
        "start_time": "2022-04-24T11:13:08.834Z"
      },
      {
        "duration": 13,
        "start_time": "2022-04-24T11:13:08.860Z"
      },
      {
        "duration": 52,
        "start_time": "2022-04-24T11:13:08.875Z"
      },
      {
        "duration": 265,
        "start_time": "2022-04-24T11:13:08.929Z"
      },
      {
        "duration": 548,
        "start_time": "2022-04-24T11:13:09.200Z"
      },
      {
        "duration": 26,
        "start_time": "2022-04-24T11:13:09.750Z"
      },
      {
        "duration": 46,
        "start_time": "2022-04-24T11:13:09.777Z"
      },
      {
        "duration": 5,
        "start_time": "2022-04-24T11:13:09.825Z"
      },
      {
        "duration": 29,
        "start_time": "2022-04-24T11:13:09.832Z"
      },
      {
        "duration": 43,
        "start_time": "2022-04-24T11:13:09.862Z"
      },
      {
        "duration": 4,
        "start_time": "2022-04-24T11:13:09.906Z"
      },
      {
        "duration": 29,
        "start_time": "2022-04-24T11:13:09.912Z"
      },
      {
        "duration": 68,
        "start_time": "2022-04-24T11:13:09.943Z"
      },
      {
        "duration": 255,
        "start_time": "2022-04-24T11:13:10.013Z"
      },
      {
        "duration": 162,
        "start_time": "2022-04-24T11:13:10.269Z"
      },
      {
        "duration": 40,
        "start_time": "2022-04-24T11:13:10.434Z"
      },
      {
        "duration": 90,
        "start_time": "2022-04-24T11:13:10.475Z"
      },
      {
        "duration": 4,
        "start_time": "2022-04-24T11:13:10.566Z"
      },
      {
        "duration": 12,
        "start_time": "2022-04-24T11:13:10.571Z"
      },
      {
        "duration": 19,
        "start_time": "2022-04-24T11:13:10.585Z"
      },
      {
        "duration": 31,
        "start_time": "2022-04-24T11:13:10.606Z"
      },
      {
        "duration": 24,
        "start_time": "2022-04-24T11:13:10.638Z"
      },
      {
        "duration": 25,
        "start_time": "2022-04-24T11:13:10.663Z"
      },
      {
        "duration": 44,
        "start_time": "2022-04-24T11:13:10.700Z"
      },
      {
        "duration": 194,
        "start_time": "2022-04-24T11:13:10.746Z"
      },
      {
        "duration": 23,
        "start_time": "2022-04-24T11:13:10.941Z"
      },
      {
        "duration": 7,
        "start_time": "2022-04-24T11:13:10.965Z"
      },
      {
        "duration": 95,
        "start_time": "2022-04-24T11:13:10.973Z"
      },
      {
        "duration": 8,
        "start_time": "2022-04-24T11:18:48.177Z"
      },
      {
        "duration": 101,
        "start_time": "2022-04-24T11:19:30.267Z"
      },
      {
        "duration": 29,
        "start_time": "2022-04-24T11:19:34.857Z"
      },
      {
        "duration": 4,
        "start_time": "2022-04-24T11:19:56.637Z"
      },
      {
        "duration": 7,
        "start_time": "2022-04-24T11:20:23.427Z"
      },
      {
        "duration": 3,
        "start_time": "2022-04-24T11:21:20.457Z"
      },
      {
        "duration": 53,
        "start_time": "2022-04-24T11:25:32.176Z"
      },
      {
        "duration": 55,
        "start_time": "2022-04-24T11:28:33.014Z"
      },
      {
        "duration": 4,
        "start_time": "2022-04-24T11:36:16.973Z"
      },
      {
        "duration": 3,
        "start_time": "2022-04-24T11:37:20.283Z"
      },
      {
        "duration": 1187,
        "start_time": "2022-04-24T11:47:30.972Z"
      },
      {
        "duration": 386,
        "start_time": "2022-04-24T11:47:32.161Z"
      },
      {
        "duration": 27,
        "start_time": "2022-04-24T11:47:32.548Z"
      },
      {
        "duration": 11,
        "start_time": "2022-04-24T11:47:32.577Z"
      },
      {
        "duration": 413,
        "start_time": "2022-04-24T11:47:32.590Z"
      },
      {
        "duration": 73,
        "start_time": "2022-04-24T11:47:33.004Z"
      },
      {
        "duration": 1915,
        "start_time": "2022-04-24T11:47:33.079Z"
      },
      {
        "duration": 30,
        "start_time": "2022-04-24T11:47:34.995Z"
      },
      {
        "duration": 92,
        "start_time": "2022-04-24T11:47:35.026Z"
      },
      {
        "duration": 111,
        "start_time": "2022-04-24T11:47:35.121Z"
      },
      {
        "duration": 55,
        "start_time": "2022-04-24T11:47:35.233Z"
      },
      {
        "duration": 48,
        "start_time": "2022-04-24T11:47:35.289Z"
      },
      {
        "duration": 23,
        "start_time": "2022-04-24T11:47:35.338Z"
      },
      {
        "duration": 12,
        "start_time": "2022-04-24T11:47:35.362Z"
      },
      {
        "duration": 51,
        "start_time": "2022-04-24T11:47:35.375Z"
      },
      {
        "duration": 266,
        "start_time": "2022-04-24T11:47:35.428Z"
      },
      {
        "duration": 554,
        "start_time": "2022-04-24T11:47:35.699Z"
      },
      {
        "duration": 26,
        "start_time": "2022-04-24T11:47:36.254Z"
      },
      {
        "duration": 46,
        "start_time": "2022-04-24T11:47:36.281Z"
      },
      {
        "duration": 4,
        "start_time": "2022-04-24T11:47:36.329Z"
      },
      {
        "duration": 34,
        "start_time": "2022-04-24T11:47:36.335Z"
      },
      {
        "duration": 39,
        "start_time": "2022-04-24T11:47:36.371Z"
      },
      {
        "duration": 5,
        "start_time": "2022-04-24T11:47:36.412Z"
      },
      {
        "duration": 31,
        "start_time": "2022-04-24T11:47:36.418Z"
      },
      {
        "duration": 79,
        "start_time": "2022-04-24T11:47:36.450Z"
      },
      {
        "duration": 228,
        "start_time": "2022-04-24T11:47:36.531Z"
      },
      {
        "duration": 167,
        "start_time": "2022-04-24T11:47:36.760Z"
      },
      {
        "duration": 42,
        "start_time": "2022-04-24T11:47:36.931Z"
      },
      {
        "duration": 96,
        "start_time": "2022-04-24T11:47:36.975Z"
      },
      {
        "duration": 5,
        "start_time": "2022-04-24T11:47:37.073Z"
      },
      {
        "duration": 21,
        "start_time": "2022-04-24T11:47:37.079Z"
      },
      {
        "duration": 6,
        "start_time": "2022-04-24T11:47:37.102Z"
      },
      {
        "duration": 26,
        "start_time": "2022-04-24T11:47:37.110Z"
      },
      {
        "duration": 22,
        "start_time": "2022-04-24T11:47:37.137Z"
      },
      {
        "duration": 40,
        "start_time": "2022-04-24T11:47:37.160Z"
      },
      {
        "duration": 44,
        "start_time": "2022-04-24T11:47:37.202Z"
      },
      {
        "duration": 188,
        "start_time": "2022-04-24T11:47:37.247Z"
      },
      {
        "duration": 21,
        "start_time": "2022-04-24T11:47:37.437Z"
      },
      {
        "duration": 5,
        "start_time": "2022-04-24T11:47:37.460Z"
      },
      {
        "duration": 92,
        "start_time": "2022-04-24T11:47:37.467Z"
      }
    ],
    "colab": {
      "collapsed_sections": [],
      "provenance": []
    },
    "kernelspec": {
      "display_name": "Python 3 (ipykernel)",
      "language": "python",
      "name": "python3"
    },
    "language_info": {
      "codemirror_mode": {
        "name": "ipython",
        "version": 3
      },
      "file_extension": ".py",
      "mimetype": "text/x-python",
      "name": "python",
      "nbconvert_exporter": "python",
      "pygments_lexer": "ipython3",
      "version": "3.9.7"
    },
    "toc": {
      "base_numbering": 1,
      "nav_menu": {},
      "number_sections": true,
      "sideBar": true,
      "skip_h1_title": true,
      "title_cell": "Содержание проекта",
      "title_sidebar": "Содержание проекта",
      "toc_cell": true,
      "toc_position": {
        "height": "835px",
        "left": "47px",
        "top": "180px",
        "width": "340.797px"
      },
      "toc_section_display": true,
      "toc_window_display": false
    }
  },
  "nbformat": 4,
  "nbformat_minor": 0
}