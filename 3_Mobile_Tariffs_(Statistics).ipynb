{
  "cells": [
    {
      "cell_type": "markdown",
      "metadata": {
        "id": "WZ7tbm2sfTeq"
      },
      "source": [
        "# Исследование тарифных планов оператора сотовой связи «Мегалайн»"
      ]
    },
    {
      "cell_type": "markdown",
      "metadata": {
        "id": "WJsb2VQEfTeq"
      },
      "source": [
        "Заказчик – компания «Мегалайн», федеральный оператор сотовой связи. \n",
        "Клиентам компании предлагают два тарифных плана: «Смарт» и «Ультра». Чтобы скорректировать рекламный бюджет, коммерческий департамент хочет понять, какой тариф приносит больше денег.\n",
        "\n",
        "Необходимо сделать предварительный анализ тарифов на небольшой выборке клиентов. \n",
        "Имеются данные 500 пользователей «Мегалайна»: кто они, откуда, каким тарифом пользуются, сколько звонков и сообщений каждый отправил за 2018 год. \n",
        "\n",
        "Проанализируем поведение клиентов и сделаем вывод — какой тариф лучше (приносит большую прибыль)."
      ]
    },
    {
      "cell_type": "markdown",
      "metadata": {
        "id": "drkAfhMsfTeq"
      },
      "source": [
        "## Общая информация"
      ]
    },
    {
      "cell_type": "code",
      "execution_count": 35,
      "metadata": {
        "id": "J9tw5Q7wfTer"
      },
      "outputs": [],
      "source": [
        "# подключение рабочих библиотек и настроек\n",
        "\n",
        "import pandas as pd\n",
        "import matplotlib\n",
        "import matplotlib.pyplot as plt\n",
        "import seaborn as sns\n",
        "import numpy as np\n",
        "from scipy import stats as st\n",
        "\n",
        "\n",
        "sns.set_palette(palette='Set1')\n",
        "%config InlineBackend.figure_format = 'retina'\n",
        "pd.options.mode.chained_assignment = None  # default='warn'"
      ]
    },
    {
      "cell_type": "code",
      "execution_count": 36,
      "metadata": {
        "id": "wcgVx2tUfTes"
      },
      "outputs": [],
      "source": [
        "# чтение файлов и сохранение датафреймов \n",
        "\n",
        "users = pd.read_csv('https://code.s3.yandex.net/datasets/users.csv')\n",
        "calls = pd.read_csv('https://code.s3.yandex.net/datasets/calls.csv')\n",
        "internet = pd.read_csv('https://code.s3.yandex.net/datasets/internet.csv')\n",
        "messages = pd.read_csv('https://code.s3.yandex.net/datasets/messages.csv')\n",
        "tariffs = pd.read_csv('https://code.s3.yandex.net/datasets/tariffs.csv')"
      ]
    },
    {
      "cell_type": "code",
      "execution_count": 37,
      "metadata": {
        "id": "PJR8jElbfTes",
        "outputId": "866492ba-b350-4dc6-d8df-001689f1cbdd",
        "colab": {
          "base_uri": "https://localhost:8080/"
        }
      },
      "outputs": [
        {
          "output_type": "stream",
          "name": "stdout",
          "text": [
            "<class 'pandas.core.frame.DataFrame'>\n",
            "RangeIndex: 202607 entries, 0 to 202606\n",
            "Data columns (total 4 columns):\n",
            " #   Column     Non-Null Count   Dtype  \n",
            "---  ------     --------------   -----  \n",
            " 0   id         202607 non-null  object \n",
            " 1   call_date  202607 non-null  object \n",
            " 2   duration   202607 non-null  float64\n",
            " 3   user_id    202607 non-null  int64  \n",
            "dtypes: float64(1), int64(1), object(2)\n",
            "memory usage: 6.2+ MB\n",
            "\n",
            "<class 'pandas.core.frame.DataFrame'>\n",
            "RangeIndex: 149396 entries, 0 to 149395\n",
            "Data columns (total 5 columns):\n",
            " #   Column        Non-Null Count   Dtype  \n",
            "---  ------        --------------   -----  \n",
            " 0   Unnamed: 0    149396 non-null  int64  \n",
            " 1   id            149396 non-null  object \n",
            " 2   mb_used       149396 non-null  float64\n",
            " 3   session_date  149396 non-null  object \n",
            " 4   user_id       149396 non-null  int64  \n",
            "dtypes: float64(1), int64(2), object(2)\n",
            "memory usage: 5.7+ MB\n",
            "\n",
            "<class 'pandas.core.frame.DataFrame'>\n",
            "RangeIndex: 123036 entries, 0 to 123035\n",
            "Data columns (total 3 columns):\n",
            " #   Column        Non-Null Count   Dtype \n",
            "---  ------        --------------   ----- \n",
            " 0   id            123036 non-null  object\n",
            " 1   message_date  123036 non-null  object\n",
            " 2   user_id       123036 non-null  int64 \n",
            "dtypes: int64(1), object(2)\n",
            "memory usage: 2.8+ MB\n",
            "\n",
            "<class 'pandas.core.frame.DataFrame'>\n",
            "RangeIndex: 500 entries, 0 to 499\n",
            "Data columns (total 8 columns):\n",
            " #   Column      Non-Null Count  Dtype \n",
            "---  ------      --------------  ----- \n",
            " 0   user_id     500 non-null    int64 \n",
            " 1   age         500 non-null    int64 \n",
            " 2   churn_date  38 non-null     object\n",
            " 3   city        500 non-null    object\n",
            " 4   first_name  500 non-null    object\n",
            " 5   last_name   500 non-null    object\n",
            " 6   reg_date    500 non-null    object\n",
            " 7   tariff      500 non-null    object\n",
            "dtypes: int64(2), object(6)\n",
            "memory usage: 31.4+ KB\n",
            "\n",
            "<class 'pandas.core.frame.DataFrame'>\n",
            "RangeIndex: 2 entries, 0 to 1\n",
            "Data columns (total 8 columns):\n",
            " #   Column                 Non-Null Count  Dtype \n",
            "---  ------                 --------------  ----- \n",
            " 0   messages_included      2 non-null      int64 \n",
            " 1   mb_per_month_included  2 non-null      int64 \n",
            " 2   minutes_included       2 non-null      int64 \n",
            " 3   rub_monthly_fee        2 non-null      int64 \n",
            " 4   rub_per_gb             2 non-null      int64 \n",
            " 5   rub_per_message        2 non-null      int64 \n",
            " 6   rub_per_minute         2 non-null      int64 \n",
            " 7   tariff_name            2 non-null      object\n",
            "dtypes: int64(7), object(1)\n",
            "memory usage: 256.0+ bytes\n",
            "\n"
          ]
        }
      ],
      "source": [
        "# просмотр информации о датафреймах\n",
        "\n",
        "for data in [calls, internet, messages, users, tariffs]:\n",
        "    data.info()\n",
        "    print('')"
      ]
    },
    {
      "cell_type": "markdown",
      "metadata": {
        "id": "mqiFZeGLfTeu"
      },
      "source": [
        "### Вывод\n",
        "\n",
        "Мы загрузили и рассмотрели полученные от заказчика датасеты. В таблицах содержатся записи по 500 клиентам.\n",
        "\n",
        "Обнаружены пропущенные значения в столбце `churn_date`. Согласно документации, в этот столбец записываются данные о дате прекращения пользования тарифом (если значение пропущено, то тариф ещё действовал на момент выгрузки данных). Очевидно, что отсутствие данных здесь – не ошибка, поэтому заполнять или заменять пропуски не требуется.\n",
        "\n",
        "\n",
        "Подготовим данные к анализу: поменяем тип данных в столбцах с датами, переименуем столбцы с названиями тарифов, создадим новые столбцы с рассчитанными значениями."
      ]
    },
    {
      "cell_type": "markdown",
      "metadata": {
        "id": "V-vnG43ifTev"
      },
      "source": [
        "## Предобработка данных"
      ]
    },
    {
      "cell_type": "markdown",
      "metadata": {
        "id": "Jqx1sUbXfTev"
      },
      "source": [
        "### Приведем данные к корректным типам"
      ]
    },
    {
      "cell_type": "code",
      "execution_count": 38,
      "metadata": {
        "id": "0woVzyiKfTev"
      },
      "outputs": [],
      "source": [
        "users.churn_date = pd.to_datetime(users.churn_date, format='%Y-%m-%d')\n",
        "users.reg_date = pd.to_datetime(users.reg_date, format='%Y-%m-%d')\n",
        "calls.call_date = pd.to_datetime(calls.call_date, format='%Y-%m-%d')\n",
        "internet.session_date = pd.to_datetime(internet.session_date, format='%Y-%m-%d')\n",
        "messages.message_date = pd.to_datetime(messages.message_date, format='%Y-%m-%d')"
      ]
    },
    {
      "cell_type": "markdown",
      "metadata": {
        "id": "Qi-JAacVfTev"
      },
      "source": [
        "### Заменим название столбца\n",
        "\n",
        "Поменяем `tariff_name` на `tariff` в датафрейме `tariffs`. Это позволит объединить два датафрейма по полю с одинаковым названием."
      ]
    },
    {
      "cell_type": "code",
      "execution_count": 39,
      "metadata": {
        "id": "cvcHftr_fTew"
      },
      "outputs": [],
      "source": [
        "tariffs = tariffs.rename(columns={'tariff_name': 'tariff'})"
      ]
    },
    {
      "cell_type": "markdown",
      "metadata": {
        "id": "Yr8mtzXPfTew"
      },
      "source": [
        "### Рассчитаем и добавим в таблицы недостающие значения, необходимые для анализа"
      ]
    },
    {
      "cell_type": "markdown",
      "metadata": {
        "id": "hQGBF2fTfTew"
      },
      "source": [
        "Посчитаем для каждого пользователя:\n",
        "- количество сделанных звонков и израсходованных минут разговора по месяцам;\n",
        "- количество отправленных сообщений по месяцам;\n",
        "- объем израсходованного интернет-трафика по месяцам;\n",
        "- помесячную выручку с каждого пользователя (вычтите бесплатный лимит из суммарного количества звонков, сообщений и интернет-трафика; остаток умножьте на значение из тарифного плана; прибавьте абонентскую плату, соответствующую тарифному плану).\n"
      ]
    },
    {
      "cell_type": "markdown",
      "metadata": {
        "id": "byAjzcXIfTex"
      },
      "source": [
        "*Примечание:\n",
        "«Мегалайн» всегда округляет секунды до минут, а мегабайты — до гигабайт. Каждый звонок округляется отдельно: даже если он длился всего 1 секунду, будет засчитан как 1 минута. Для веб-трафика отдельные сессии не считаются. Вместо этого общая сумма за месяц округляется в бо́льшую сторону. Если абонент использует 1025 мегабайт в этом месяце, с него возьмут плату за 2 гигабайта.*"
      ]
    },
    {
      "cell_type": "markdown",
      "metadata": {
        "id": "OXOIHAKCfTex"
      },
      "source": [
        "Округлим значения длительности для каждого звонка отдельно. Переведем минуты в секунды и округлим в большую сторону.\n",
        "Звонки длительностью 0 **не заменяем** – это пропущенные звонки по условию задачи, они не оплачиваются, а значит – не округляются."
      ]
    },
    {
      "cell_type": "code",
      "execution_count": 40,
      "metadata": {
        "id": "-IuT8f06fTex"
      },
      "outputs": [],
      "source": [
        "# округление и смена типа на целочисленный в новом столбце\n",
        "\n",
        "calls['duration_rounded'] = np.ceil(calls['duration']).astype('int')"
      ]
    },
    {
      "cell_type": "markdown",
      "metadata": {
        "id": "X9CRL-iRfTex"
      },
      "source": [
        "### Создадим сводные таблицы по месяцам для каждого типа связи. А затем соберем общий датафрейм со всеми данными:"
      ]
    },
    {
      "cell_type": "code",
      "execution_count": 41,
      "metadata": {
        "id": "FTZEt_offTey",
        "outputId": "4556ba82-1269-4563-c49a-5e0cd7264a11",
        "colab": {
          "base_uri": "https://localhost:8080/",
          "height": 363
        }
      },
      "outputs": [
        {
          "output_type": "execute_result",
          "data": {
            "text/plain": [
              "   user_id  month  minutes_total  calls_total\n",
              "0     1000      5            159           22\n",
              "1     1000      6            172           43\n",
              "2     1000      7            340           47\n",
              "3     1000      8            408           52\n",
              "4     1000      9            466           58\n",
              "5     1000     10            350           57\n",
              "6     1000     11            338           43\n",
              "7     1000     12            333           46\n",
              "8     1001     11            430           59\n",
              "9     1001     12            414           63"
            ],
            "text/html": [
              "\n",
              "  <div id=\"df-aac34ab8-e00e-44e9-9b3b-6bfb8a87dd91\">\n",
              "    <div class=\"colab-df-container\">\n",
              "      <div>\n",
              "<style scoped>\n",
              "    .dataframe tbody tr th:only-of-type {\n",
              "        vertical-align: middle;\n",
              "    }\n",
              "\n",
              "    .dataframe tbody tr th {\n",
              "        vertical-align: top;\n",
              "    }\n",
              "\n",
              "    .dataframe thead th {\n",
              "        text-align: right;\n",
              "    }\n",
              "</style>\n",
              "<table border=\"1\" class=\"dataframe\">\n",
              "  <thead>\n",
              "    <tr style=\"text-align: right;\">\n",
              "      <th></th>\n",
              "      <th>user_id</th>\n",
              "      <th>month</th>\n",
              "      <th>minutes_total</th>\n",
              "      <th>calls_total</th>\n",
              "    </tr>\n",
              "  </thead>\n",
              "  <tbody>\n",
              "    <tr>\n",
              "      <th>0</th>\n",
              "      <td>1000</td>\n",
              "      <td>5</td>\n",
              "      <td>159</td>\n",
              "      <td>22</td>\n",
              "    </tr>\n",
              "    <tr>\n",
              "      <th>1</th>\n",
              "      <td>1000</td>\n",
              "      <td>6</td>\n",
              "      <td>172</td>\n",
              "      <td>43</td>\n",
              "    </tr>\n",
              "    <tr>\n",
              "      <th>2</th>\n",
              "      <td>1000</td>\n",
              "      <td>7</td>\n",
              "      <td>340</td>\n",
              "      <td>47</td>\n",
              "    </tr>\n",
              "    <tr>\n",
              "      <th>3</th>\n",
              "      <td>1000</td>\n",
              "      <td>8</td>\n",
              "      <td>408</td>\n",
              "      <td>52</td>\n",
              "    </tr>\n",
              "    <tr>\n",
              "      <th>4</th>\n",
              "      <td>1000</td>\n",
              "      <td>9</td>\n",
              "      <td>466</td>\n",
              "      <td>58</td>\n",
              "    </tr>\n",
              "    <tr>\n",
              "      <th>5</th>\n",
              "      <td>1000</td>\n",
              "      <td>10</td>\n",
              "      <td>350</td>\n",
              "      <td>57</td>\n",
              "    </tr>\n",
              "    <tr>\n",
              "      <th>6</th>\n",
              "      <td>1000</td>\n",
              "      <td>11</td>\n",
              "      <td>338</td>\n",
              "      <td>43</td>\n",
              "    </tr>\n",
              "    <tr>\n",
              "      <th>7</th>\n",
              "      <td>1000</td>\n",
              "      <td>12</td>\n",
              "      <td>333</td>\n",
              "      <td>46</td>\n",
              "    </tr>\n",
              "    <tr>\n",
              "      <th>8</th>\n",
              "      <td>1001</td>\n",
              "      <td>11</td>\n",
              "      <td>430</td>\n",
              "      <td>59</td>\n",
              "    </tr>\n",
              "    <tr>\n",
              "      <th>9</th>\n",
              "      <td>1001</td>\n",
              "      <td>12</td>\n",
              "      <td>414</td>\n",
              "      <td>63</td>\n",
              "    </tr>\n",
              "  </tbody>\n",
              "</table>\n",
              "</div>\n",
              "      <button class=\"colab-df-convert\" onclick=\"convertToInteractive('df-aac34ab8-e00e-44e9-9b3b-6bfb8a87dd91')\"\n",
              "              title=\"Convert this dataframe to an interactive table.\"\n",
              "              style=\"display:none;\">\n",
              "        \n",
              "  <svg xmlns=\"http://www.w3.org/2000/svg\" height=\"24px\"viewBox=\"0 0 24 24\"\n",
              "       width=\"24px\">\n",
              "    <path d=\"M0 0h24v24H0V0z\" fill=\"none\"/>\n",
              "    <path d=\"M18.56 5.44l.94 2.06.94-2.06 2.06-.94-2.06-.94-.94-2.06-.94 2.06-2.06.94zm-11 1L8.5 8.5l.94-2.06 2.06-.94-2.06-.94L8.5 2.5l-.94 2.06-2.06.94zm10 10l.94 2.06.94-2.06 2.06-.94-2.06-.94-.94-2.06-.94 2.06-2.06.94z\"/><path d=\"M17.41 7.96l-1.37-1.37c-.4-.4-.92-.59-1.43-.59-.52 0-1.04.2-1.43.59L10.3 9.45l-7.72 7.72c-.78.78-.78 2.05 0 2.83L4 21.41c.39.39.9.59 1.41.59.51 0 1.02-.2 1.41-.59l7.78-7.78 2.81-2.81c.8-.78.8-2.07 0-2.86zM5.41 20L4 18.59l7.72-7.72 1.47 1.35L5.41 20z\"/>\n",
              "  </svg>\n",
              "      </button>\n",
              "      \n",
              "  <style>\n",
              "    .colab-df-container {\n",
              "      display:flex;\n",
              "      flex-wrap:wrap;\n",
              "      gap: 12px;\n",
              "    }\n",
              "\n",
              "    .colab-df-convert {\n",
              "      background-color: #E8F0FE;\n",
              "      border: none;\n",
              "      border-radius: 50%;\n",
              "      cursor: pointer;\n",
              "      display: none;\n",
              "      fill: #1967D2;\n",
              "      height: 32px;\n",
              "      padding: 0 0 0 0;\n",
              "      width: 32px;\n",
              "    }\n",
              "\n",
              "    .colab-df-convert:hover {\n",
              "      background-color: #E2EBFA;\n",
              "      box-shadow: 0px 1px 2px rgba(60, 64, 67, 0.3), 0px 1px 3px 1px rgba(60, 64, 67, 0.15);\n",
              "      fill: #174EA6;\n",
              "    }\n",
              "\n",
              "    [theme=dark] .colab-df-convert {\n",
              "      background-color: #3B4455;\n",
              "      fill: #D2E3FC;\n",
              "    }\n",
              "\n",
              "    [theme=dark] .colab-df-convert:hover {\n",
              "      background-color: #434B5C;\n",
              "      box-shadow: 0px 1px 3px 1px rgba(0, 0, 0, 0.15);\n",
              "      filter: drop-shadow(0px 1px 2px rgba(0, 0, 0, 0.3));\n",
              "      fill: #FFFFFF;\n",
              "    }\n",
              "  </style>\n",
              "\n",
              "      <script>\n",
              "        const buttonEl =\n",
              "          document.querySelector('#df-aac34ab8-e00e-44e9-9b3b-6bfb8a87dd91 button.colab-df-convert');\n",
              "        buttonEl.style.display =\n",
              "          google.colab.kernel.accessAllowed ? 'block' : 'none';\n",
              "\n",
              "        async function convertToInteractive(key) {\n",
              "          const element = document.querySelector('#df-aac34ab8-e00e-44e9-9b3b-6bfb8a87dd91');\n",
              "          const dataTable =\n",
              "            await google.colab.kernel.invokeFunction('convertToInteractive',\n",
              "                                                     [key], {});\n",
              "          if (!dataTable) return;\n",
              "\n",
              "          const docLinkHtml = 'Like what you see? Visit the ' +\n",
              "            '<a target=\"_blank\" href=https://colab.research.google.com/notebooks/data_table.ipynb>data table notebook</a>'\n",
              "            + ' to learn more about interactive tables.';\n",
              "          element.innerHTML = '';\n",
              "          dataTable['output_type'] = 'display_data';\n",
              "          await google.colab.output.renderOutput(dataTable, element);\n",
              "          const docLink = document.createElement('div');\n",
              "          docLink.innerHTML = docLinkHtml;\n",
              "          element.appendChild(docLink);\n",
              "        }\n",
              "      </script>\n",
              "    </div>\n",
              "  </div>\n",
              "  "
            ]
          },
          "metadata": {},
          "execution_count": 41
        }
      ],
      "source": [
        "# создание нового столбца month и сводной таблицы для calls\n",
        "\n",
        "calls['month'] = calls['call_date'].dt.month\n",
        "calls_pivot = calls \\\n",
        "    .groupby(['user_id', 'month'], as_index=False) \\\n",
        "    .agg({'duration_rounded' : 'sum', 'call_date' : 'count'}) \\\n",
        "    .rename(columns=({'duration_rounded' : 'minutes_total', 'call_date' : 'calls_total'})) \\\n",
        "    .fillna(0)\n",
        "\n",
        "calls_pivot.head(10)"
      ]
    },
    {
      "cell_type": "code",
      "execution_count": 42,
      "metadata": {
        "id": "QFqp8cc8fTey",
        "outputId": "c82cac18-9810-4f27-ec9d-4a6ce9a29425",
        "colab": {
          "base_uri": "https://localhost:8080/",
          "height": 363
        }
      },
      "outputs": [
        {
          "output_type": "execute_result",
          "data": {
            "text/plain": [
              "   user_id  month  messages_total\n",
              "0     1000      5              22\n",
              "1     1000      6              60\n",
              "2     1000      7              75\n",
              "3     1000      8              81\n",
              "4     1000      9              57\n",
              "5     1000     10              73\n",
              "6     1000     11              58\n",
              "7     1000     12              70\n",
              "8     1002      6               4\n",
              "9     1002      7              11"
            ],
            "text/html": [
              "\n",
              "  <div id=\"df-c1262770-98fe-4e91-9875-9d75660f2f50\">\n",
              "    <div class=\"colab-df-container\">\n",
              "      <div>\n",
              "<style scoped>\n",
              "    .dataframe tbody tr th:only-of-type {\n",
              "        vertical-align: middle;\n",
              "    }\n",
              "\n",
              "    .dataframe tbody tr th {\n",
              "        vertical-align: top;\n",
              "    }\n",
              "\n",
              "    .dataframe thead th {\n",
              "        text-align: right;\n",
              "    }\n",
              "</style>\n",
              "<table border=\"1\" class=\"dataframe\">\n",
              "  <thead>\n",
              "    <tr style=\"text-align: right;\">\n",
              "      <th></th>\n",
              "      <th>user_id</th>\n",
              "      <th>month</th>\n",
              "      <th>messages_total</th>\n",
              "    </tr>\n",
              "  </thead>\n",
              "  <tbody>\n",
              "    <tr>\n",
              "      <th>0</th>\n",
              "      <td>1000</td>\n",
              "      <td>5</td>\n",
              "      <td>22</td>\n",
              "    </tr>\n",
              "    <tr>\n",
              "      <th>1</th>\n",
              "      <td>1000</td>\n",
              "      <td>6</td>\n",
              "      <td>60</td>\n",
              "    </tr>\n",
              "    <tr>\n",
              "      <th>2</th>\n",
              "      <td>1000</td>\n",
              "      <td>7</td>\n",
              "      <td>75</td>\n",
              "    </tr>\n",
              "    <tr>\n",
              "      <th>3</th>\n",
              "      <td>1000</td>\n",
              "      <td>8</td>\n",
              "      <td>81</td>\n",
              "    </tr>\n",
              "    <tr>\n",
              "      <th>4</th>\n",
              "      <td>1000</td>\n",
              "      <td>9</td>\n",
              "      <td>57</td>\n",
              "    </tr>\n",
              "    <tr>\n",
              "      <th>5</th>\n",
              "      <td>1000</td>\n",
              "      <td>10</td>\n",
              "      <td>73</td>\n",
              "    </tr>\n",
              "    <tr>\n",
              "      <th>6</th>\n",
              "      <td>1000</td>\n",
              "      <td>11</td>\n",
              "      <td>58</td>\n",
              "    </tr>\n",
              "    <tr>\n",
              "      <th>7</th>\n",
              "      <td>1000</td>\n",
              "      <td>12</td>\n",
              "      <td>70</td>\n",
              "    </tr>\n",
              "    <tr>\n",
              "      <th>8</th>\n",
              "      <td>1002</td>\n",
              "      <td>6</td>\n",
              "      <td>4</td>\n",
              "    </tr>\n",
              "    <tr>\n",
              "      <th>9</th>\n",
              "      <td>1002</td>\n",
              "      <td>7</td>\n",
              "      <td>11</td>\n",
              "    </tr>\n",
              "  </tbody>\n",
              "</table>\n",
              "</div>\n",
              "      <button class=\"colab-df-convert\" onclick=\"convertToInteractive('df-c1262770-98fe-4e91-9875-9d75660f2f50')\"\n",
              "              title=\"Convert this dataframe to an interactive table.\"\n",
              "              style=\"display:none;\">\n",
              "        \n",
              "  <svg xmlns=\"http://www.w3.org/2000/svg\" height=\"24px\"viewBox=\"0 0 24 24\"\n",
              "       width=\"24px\">\n",
              "    <path d=\"M0 0h24v24H0V0z\" fill=\"none\"/>\n",
              "    <path d=\"M18.56 5.44l.94 2.06.94-2.06 2.06-.94-2.06-.94-.94-2.06-.94 2.06-2.06.94zm-11 1L8.5 8.5l.94-2.06 2.06-.94-2.06-.94L8.5 2.5l-.94 2.06-2.06.94zm10 10l.94 2.06.94-2.06 2.06-.94-2.06-.94-.94-2.06-.94 2.06-2.06.94z\"/><path d=\"M17.41 7.96l-1.37-1.37c-.4-.4-.92-.59-1.43-.59-.52 0-1.04.2-1.43.59L10.3 9.45l-7.72 7.72c-.78.78-.78 2.05 0 2.83L4 21.41c.39.39.9.59 1.41.59.51 0 1.02-.2 1.41-.59l7.78-7.78 2.81-2.81c.8-.78.8-2.07 0-2.86zM5.41 20L4 18.59l7.72-7.72 1.47 1.35L5.41 20z\"/>\n",
              "  </svg>\n",
              "      </button>\n",
              "      \n",
              "  <style>\n",
              "    .colab-df-container {\n",
              "      display:flex;\n",
              "      flex-wrap:wrap;\n",
              "      gap: 12px;\n",
              "    }\n",
              "\n",
              "    .colab-df-convert {\n",
              "      background-color: #E8F0FE;\n",
              "      border: none;\n",
              "      border-radius: 50%;\n",
              "      cursor: pointer;\n",
              "      display: none;\n",
              "      fill: #1967D2;\n",
              "      height: 32px;\n",
              "      padding: 0 0 0 0;\n",
              "      width: 32px;\n",
              "    }\n",
              "\n",
              "    .colab-df-convert:hover {\n",
              "      background-color: #E2EBFA;\n",
              "      box-shadow: 0px 1px 2px rgba(60, 64, 67, 0.3), 0px 1px 3px 1px rgba(60, 64, 67, 0.15);\n",
              "      fill: #174EA6;\n",
              "    }\n",
              "\n",
              "    [theme=dark] .colab-df-convert {\n",
              "      background-color: #3B4455;\n",
              "      fill: #D2E3FC;\n",
              "    }\n",
              "\n",
              "    [theme=dark] .colab-df-convert:hover {\n",
              "      background-color: #434B5C;\n",
              "      box-shadow: 0px 1px 3px 1px rgba(0, 0, 0, 0.15);\n",
              "      filter: drop-shadow(0px 1px 2px rgba(0, 0, 0, 0.3));\n",
              "      fill: #FFFFFF;\n",
              "    }\n",
              "  </style>\n",
              "\n",
              "      <script>\n",
              "        const buttonEl =\n",
              "          document.querySelector('#df-c1262770-98fe-4e91-9875-9d75660f2f50 button.colab-df-convert');\n",
              "        buttonEl.style.display =\n",
              "          google.colab.kernel.accessAllowed ? 'block' : 'none';\n",
              "\n",
              "        async function convertToInteractive(key) {\n",
              "          const element = document.querySelector('#df-c1262770-98fe-4e91-9875-9d75660f2f50');\n",
              "          const dataTable =\n",
              "            await google.colab.kernel.invokeFunction('convertToInteractive',\n",
              "                                                     [key], {});\n",
              "          if (!dataTable) return;\n",
              "\n",
              "          const docLinkHtml = 'Like what you see? Visit the ' +\n",
              "            '<a target=\"_blank\" href=https://colab.research.google.com/notebooks/data_table.ipynb>data table notebook</a>'\n",
              "            + ' to learn more about interactive tables.';\n",
              "          element.innerHTML = '';\n",
              "          dataTable['output_type'] = 'display_data';\n",
              "          await google.colab.output.renderOutput(dataTable, element);\n",
              "          const docLink = document.createElement('div');\n",
              "          docLink.innerHTML = docLinkHtml;\n",
              "          element.appendChild(docLink);\n",
              "        }\n",
              "      </script>\n",
              "    </div>\n",
              "  </div>\n",
              "  "
            ]
          },
          "metadata": {},
          "execution_count": 42
        }
      ],
      "source": [
        "# создание сводной таблицы для messages и нового столбца month\n",
        "\n",
        "messages['month'] = messages['message_date'].dt.month\n",
        "messages_pivot = messages \\\n",
        "    .groupby(['user_id', 'month'], as_index=False) \\\n",
        "    .agg({'message_date' : 'count'}) \\\n",
        "    .rename(columns=({'message_date' : 'messages_total'})) \\\n",
        "    .fillna(0)\n",
        "\n",
        "messages_pivot.head(10)"
      ]
    },
    {
      "cell_type": "code",
      "execution_count": 43,
      "metadata": {
        "id": "4QmV4SRLfTez",
        "outputId": "525c183f-afc6-4e8a-b9a2-d0db9404f6d7",
        "colab": {
          "base_uri": "https://localhost:8080/",
          "height": 363
        }
      },
      "outputs": [
        {
          "output_type": "execute_result",
          "data": {
            "text/plain": [
              "   user_id  month  mb_used_total\n",
              "0     1000      5           3072\n",
              "1     1000      6          23552\n",
              "2     1000      7          14336\n",
              "3     1000      8          14336\n",
              "4     1000      9          15360\n",
              "5     1000     10          15360\n",
              "6     1000     11          15360\n",
              "7     1000     12          10240\n",
              "8     1001     11          18432\n",
              "9     1001     12          14336"
            ],
            "text/html": [
              "\n",
              "  <div id=\"df-7f9e9927-e844-44d8-8c28-349c120f47ba\">\n",
              "    <div class=\"colab-df-container\">\n",
              "      <div>\n",
              "<style scoped>\n",
              "    .dataframe tbody tr th:only-of-type {\n",
              "        vertical-align: middle;\n",
              "    }\n",
              "\n",
              "    .dataframe tbody tr th {\n",
              "        vertical-align: top;\n",
              "    }\n",
              "\n",
              "    .dataframe thead th {\n",
              "        text-align: right;\n",
              "    }\n",
              "</style>\n",
              "<table border=\"1\" class=\"dataframe\">\n",
              "  <thead>\n",
              "    <tr style=\"text-align: right;\">\n",
              "      <th></th>\n",
              "      <th>user_id</th>\n",
              "      <th>month</th>\n",
              "      <th>mb_used_total</th>\n",
              "    </tr>\n",
              "  </thead>\n",
              "  <tbody>\n",
              "    <tr>\n",
              "      <th>0</th>\n",
              "      <td>1000</td>\n",
              "      <td>5</td>\n",
              "      <td>3072</td>\n",
              "    </tr>\n",
              "    <tr>\n",
              "      <th>1</th>\n",
              "      <td>1000</td>\n",
              "      <td>6</td>\n",
              "      <td>23552</td>\n",
              "    </tr>\n",
              "    <tr>\n",
              "      <th>2</th>\n",
              "      <td>1000</td>\n",
              "      <td>7</td>\n",
              "      <td>14336</td>\n",
              "    </tr>\n",
              "    <tr>\n",
              "      <th>3</th>\n",
              "      <td>1000</td>\n",
              "      <td>8</td>\n",
              "      <td>14336</td>\n",
              "    </tr>\n",
              "    <tr>\n",
              "      <th>4</th>\n",
              "      <td>1000</td>\n",
              "      <td>9</td>\n",
              "      <td>15360</td>\n",
              "    </tr>\n",
              "    <tr>\n",
              "      <th>5</th>\n",
              "      <td>1000</td>\n",
              "      <td>10</td>\n",
              "      <td>15360</td>\n",
              "    </tr>\n",
              "    <tr>\n",
              "      <th>6</th>\n",
              "      <td>1000</td>\n",
              "      <td>11</td>\n",
              "      <td>15360</td>\n",
              "    </tr>\n",
              "    <tr>\n",
              "      <th>7</th>\n",
              "      <td>1000</td>\n",
              "      <td>12</td>\n",
              "      <td>10240</td>\n",
              "    </tr>\n",
              "    <tr>\n",
              "      <th>8</th>\n",
              "      <td>1001</td>\n",
              "      <td>11</td>\n",
              "      <td>18432</td>\n",
              "    </tr>\n",
              "    <tr>\n",
              "      <th>9</th>\n",
              "      <td>1001</td>\n",
              "      <td>12</td>\n",
              "      <td>14336</td>\n",
              "    </tr>\n",
              "  </tbody>\n",
              "</table>\n",
              "</div>\n",
              "      <button class=\"colab-df-convert\" onclick=\"convertToInteractive('df-7f9e9927-e844-44d8-8c28-349c120f47ba')\"\n",
              "              title=\"Convert this dataframe to an interactive table.\"\n",
              "              style=\"display:none;\">\n",
              "        \n",
              "  <svg xmlns=\"http://www.w3.org/2000/svg\" height=\"24px\"viewBox=\"0 0 24 24\"\n",
              "       width=\"24px\">\n",
              "    <path d=\"M0 0h24v24H0V0z\" fill=\"none\"/>\n",
              "    <path d=\"M18.56 5.44l.94 2.06.94-2.06 2.06-.94-2.06-.94-.94-2.06-.94 2.06-2.06.94zm-11 1L8.5 8.5l.94-2.06 2.06-.94-2.06-.94L8.5 2.5l-.94 2.06-2.06.94zm10 10l.94 2.06.94-2.06 2.06-.94-2.06-.94-.94-2.06-.94 2.06-2.06.94z\"/><path d=\"M17.41 7.96l-1.37-1.37c-.4-.4-.92-.59-1.43-.59-.52 0-1.04.2-1.43.59L10.3 9.45l-7.72 7.72c-.78.78-.78 2.05 0 2.83L4 21.41c.39.39.9.59 1.41.59.51 0 1.02-.2 1.41-.59l7.78-7.78 2.81-2.81c.8-.78.8-2.07 0-2.86zM5.41 20L4 18.59l7.72-7.72 1.47 1.35L5.41 20z\"/>\n",
              "  </svg>\n",
              "      </button>\n",
              "      \n",
              "  <style>\n",
              "    .colab-df-container {\n",
              "      display:flex;\n",
              "      flex-wrap:wrap;\n",
              "      gap: 12px;\n",
              "    }\n",
              "\n",
              "    .colab-df-convert {\n",
              "      background-color: #E8F0FE;\n",
              "      border: none;\n",
              "      border-radius: 50%;\n",
              "      cursor: pointer;\n",
              "      display: none;\n",
              "      fill: #1967D2;\n",
              "      height: 32px;\n",
              "      padding: 0 0 0 0;\n",
              "      width: 32px;\n",
              "    }\n",
              "\n",
              "    .colab-df-convert:hover {\n",
              "      background-color: #E2EBFA;\n",
              "      box-shadow: 0px 1px 2px rgba(60, 64, 67, 0.3), 0px 1px 3px 1px rgba(60, 64, 67, 0.15);\n",
              "      fill: #174EA6;\n",
              "    }\n",
              "\n",
              "    [theme=dark] .colab-df-convert {\n",
              "      background-color: #3B4455;\n",
              "      fill: #D2E3FC;\n",
              "    }\n",
              "\n",
              "    [theme=dark] .colab-df-convert:hover {\n",
              "      background-color: #434B5C;\n",
              "      box-shadow: 0px 1px 3px 1px rgba(0, 0, 0, 0.15);\n",
              "      filter: drop-shadow(0px 1px 2px rgba(0, 0, 0, 0.3));\n",
              "      fill: #FFFFFF;\n",
              "    }\n",
              "  </style>\n",
              "\n",
              "      <script>\n",
              "        const buttonEl =\n",
              "          document.querySelector('#df-7f9e9927-e844-44d8-8c28-349c120f47ba button.colab-df-convert');\n",
              "        buttonEl.style.display =\n",
              "          google.colab.kernel.accessAllowed ? 'block' : 'none';\n",
              "\n",
              "        async function convertToInteractive(key) {\n",
              "          const element = document.querySelector('#df-7f9e9927-e844-44d8-8c28-349c120f47ba');\n",
              "          const dataTable =\n",
              "            await google.colab.kernel.invokeFunction('convertToInteractive',\n",
              "                                                     [key], {});\n",
              "          if (!dataTable) return;\n",
              "\n",
              "          const docLinkHtml = 'Like what you see? Visit the ' +\n",
              "            '<a target=\"_blank\" href=https://colab.research.google.com/notebooks/data_table.ipynb>data table notebook</a>'\n",
              "            + ' to learn more about interactive tables.';\n",
              "          element.innerHTML = '';\n",
              "          dataTable['output_type'] = 'display_data';\n",
              "          await google.colab.output.renderOutput(dataTable, element);\n",
              "          const docLink = document.createElement('div');\n",
              "          docLink.innerHTML = docLinkHtml;\n",
              "          element.appendChild(docLink);\n",
              "        }\n",
              "      </script>\n",
              "    </div>\n",
              "  </div>\n",
              "  "
            ]
          },
          "metadata": {},
          "execution_count": 43
        }
      ],
      "source": [
        "# создание сводной таблицы для messages и нового столбца month\n",
        "\n",
        "internet['month'] = internet['session_date'].dt.month\n",
        "internet_pivot = internet \\\n",
        "    .groupby(['user_id', 'month'], as_index=False) \\\n",
        "    .agg({'mb_used' : 'sum'}) \\\n",
        "    .rename(columns=({'mb_used' : 'mb_used_total'}))\n",
        "\n",
        "# функция для округления мегабайт в гигабайты\n",
        "def roundup(x):\n",
        "    return int(np.ceil(x / 1024.0) * 1024)\n",
        "\n",
        "# добавление столбца с округленными значениями\n",
        "internet_pivot['mb_used_total'] = internet_pivot['mb_used_total'].apply(roundup) \\\n",
        "    .fillna(0)\n",
        "\n",
        "internet_pivot.head(10)"
      ]
    },
    {
      "cell_type": "code",
      "execution_count": 44,
      "metadata": {
        "id": "bHhhUJQzfTez"
      },
      "outputs": [],
      "source": [
        "# сборка таблиц активностей в один датафрейм \n",
        "\n",
        "activities = calls_pivot.merge(messages_pivot, how='outer') \\\n",
        "    .merge(internet_pivot, how='outer')"
      ]
    },
    {
      "cell_type": "code",
      "execution_count": 45,
      "metadata": {
        "id": "mLm1tm2VfTez"
      },
      "outputs": [],
      "source": [
        "# сборка финального датафрейма пользователей, активностей и тарифов\n",
        "\n",
        "df = users.merge(activities, how='left') \\\n",
        "    .merge(tariffs)"
      ]
    },
    {
      "cell_type": "markdown",
      "metadata": {
        "id": "aIzUlf_VfTez"
      },
      "source": [
        "### Рассчитаем помесячную выручку с каждого пользователя за вычетом бесплатного лимита из суммарного количества звонков, сообщений и интернет-трафика."
      ]
    },
    {
      "cell_type": "code",
      "execution_count": 46,
      "metadata": {
        "id": "5wfTNlfYfTe0"
      },
      "outputs": [],
      "source": [
        "# добавление новых столбцов за вычетом тарифного лимита\n",
        "\n",
        "df['paid_minutes'] = df['minutes_total'] - df['minutes_included']\n",
        "df['paid_messages'] = df['messages_total'] - df['messages_included']\n",
        "df['paid_mb'] = df['mb_used_total'] - df['mb_per_month_included']"
      ]
    },
    {
      "cell_type": "markdown",
      "metadata": {
        "id": "QjAMKN4WfTe0"
      },
      "source": [
        "В тех случаях, где клиентом было израсходовано меньше, чем предлагается тарифом получились отрицательные значения. Избавимся от них, заменив на 0:"
      ]
    },
    {
      "cell_type": "code",
      "execution_count": 47,
      "metadata": {
        "id": "SXQP-QY6fTe0"
      },
      "outputs": [],
      "source": [
        "# отрицательные значения меняем на 0\n",
        "\n",
        "df.loc[df['paid_minutes'] < 0, 'paid_minutes'] = 0\n",
        "df.loc[df['paid_messages'] < 0, 'paid_messages'] = 0\n",
        "df.loc[df['paid_mb'] < 0, 'paid_mb'] = 0\n",
        "\n",
        "# заменяем пропуски нулями\n",
        "\n",
        "df['paid_minutes'] = df['paid_minutes'].fillna(0)\n",
        "df['paid_messages'] = df['paid_messages'].fillna(0)\n",
        "df['paid_mb'] = df['paid_mb'].fillna(0)"
      ]
    },
    {
      "cell_type": "markdown",
      "metadata": {
        "id": "wYaP7oXJfTe1"
      },
      "source": [
        "Добавим новый столбец для абонентской платы сверх тарифа. Сложив суммы в столбцах абонентской платы и тарифного плана, получим сумму месячной выручки для каждой записи."
      ]
    },
    {
      "cell_type": "code",
      "execution_count": 48,
      "metadata": {
        "id": "Vl_8rDr5fTe1"
      },
      "outputs": [],
      "source": [
        "# добавление нового столбца с расчетом суммы перерасхода\n",
        "\n",
        "df['additional_payment'] \\\n",
        "    = (df.paid_minutes * df.rub_per_minute) \\\n",
        "    + (df.paid_messages * df.rub_per_message) \\\n",
        "    + ((df.paid_mb / 1024) * df.rub_per_gb)\n",
        "\n",
        "\n",
        "# добавление нового столбца с финальной суммой\n",
        "\n",
        "df['total_payment'] = df.additional_payment + df.rub_monthly_fee"
      ]
    },
    {
      "cell_type": "code",
      "execution_count": 49,
      "metadata": {
        "id": "8Xmi6s93fTe1"
      },
      "outputs": [],
      "source": [
        "# очистим датафрейм от лишних столбцов\n",
        "\n",
        "df = df[['user_id', 'city', 'tariff', 'month', 'minutes_total', 'calls_total',\n",
        "       'messages_total', 'mb_used_total', 'rub_monthly_fee', 'additional_payment', 'total_payment']]\n",
        "\n",
        "# замена типов данных в столбцах и заполнение пропусков\n",
        "to_int_list = ['month', 'messages_total', 'mb_used_total',\n",
        "       'minutes_total', 'calls_total', 'additional_payment', 'total_payment']\n",
        "\n",
        "df[to_int_list] = df[to_int_list].fillna(0).astype(int)"
      ]
    },
    {
      "cell_type": "code",
      "execution_count": 50,
      "metadata": {
        "id": "ALSPaVVtfTe1",
        "outputId": "3115e499-ddaf-4898-912b-0aba0852df04",
        "colab": {
          "base_uri": "https://localhost:8080/"
        }
      },
      "outputs": [
        {
          "output_type": "stream",
          "name": "stdout",
          "text": [
            "<class 'pandas.core.frame.DataFrame'>\n",
            "Int64Index: 3216 entries, 0 to 3215\n",
            "Data columns (total 11 columns):\n",
            " #   Column              Non-Null Count  Dtype \n",
            "---  ------              --------------  ----- \n",
            " 0   user_id             3216 non-null   int64 \n",
            " 1   city                3216 non-null   object\n",
            " 2   tariff              3216 non-null   object\n",
            " 3   month               3216 non-null   int64 \n",
            " 4   minutes_total       3216 non-null   int64 \n",
            " 5   calls_total         3216 non-null   int64 \n",
            " 6   messages_total      3216 non-null   int64 \n",
            " 7   mb_used_total       3216 non-null   int64 \n",
            " 8   rub_monthly_fee     3216 non-null   int64 \n",
            " 9   additional_payment  3216 non-null   int64 \n",
            " 10  total_payment       3216 non-null   int64 \n",
            "dtypes: int64(9), object(2)\n",
            "memory usage: 301.5+ KB\n"
          ]
        }
      ],
      "source": [
        "df.info()"
      ]
    },
    {
      "cell_type": "markdown",
      "metadata": {
        "id": "PHt7D1QBfTe1"
      },
      "source": [
        "### Вывод\n",
        "\n",
        "Мы обработали недочеты в данных – поменяли типы данных, переименовали столбцы для удобства дальнейшей работы.\n",
        "\n",
        "Также мы создали сборный датафрейм, в котором  вновых столбцах посчитали для каждого пользователя:\n",
        "- количество сделанных звонков и израсходованных минут разговора по месяцам;\n",
        "- количество отправленных сообщений по месяцам;\n",
        "- объем израсходованного интернет-трафика по месяцам;\n",
        "- помесячную выручку с каждого пользователя.\n",
        "\n",
        "Для удобства работы мы оставили только те столбцы, которые будут участвовать в расчетах. Получилось `3216` строк со сводными данными, которые предстоит проанализировать."
      ]
    },
    {
      "cell_type": "markdown",
      "metadata": {
        "id": "K8a6OKJlfTe2"
      },
      "source": [
        "## Анализ данных\n"
      ]
    },
    {
      "cell_type": "markdown",
      "metadata": {
        "id": "fdRcT8kyfTe2"
      },
      "source": [
        "Опишем поведение клиентов оператора, исходя из выборки."
      ]
    },
    {
      "cell_type": "markdown",
      "metadata": {
        "id": "psHXrG8JfTe2"
      },
      "source": [
        "### Расчет среднего количества, дисперсии и стандартного отклонения.\n",
        "\n",
        "Сколько минут разговора, сколько сообщений и какой объём интернет-трафика требуется пользователям каждого тарифа в месяц?"
      ]
    },
    {
      "cell_type": "code",
      "execution_count": 51,
      "metadata": {
        "id": "9N9aW0S6fTe2",
        "outputId": "8ea3dfcb-a5c1-4e6e-e911-ca8270d5067c",
        "colab": {
          "base_uri": "https://localhost:8080/",
          "height": 143
        }
      },
      "outputs": [
        {
          "output_type": "execute_result",
          "data": {
            "text/plain": [
              "        minutes_median  messages_median  mb_used_median\n",
              "tariff                                                 \n",
              "smart              421               28           17408\n",
              "ultra              518               38           19456"
            ],
            "text/html": [
              "\n",
              "  <div id=\"df-ff0e8112-5769-4028-a4b7-485c2207f819\">\n",
              "    <div class=\"colab-df-container\">\n",
              "      <div>\n",
              "<style scoped>\n",
              "    .dataframe tbody tr th:only-of-type {\n",
              "        vertical-align: middle;\n",
              "    }\n",
              "\n",
              "    .dataframe tbody tr th {\n",
              "        vertical-align: top;\n",
              "    }\n",
              "\n",
              "    .dataframe thead th {\n",
              "        text-align: right;\n",
              "    }\n",
              "</style>\n",
              "<table border=\"1\" class=\"dataframe\">\n",
              "  <thead>\n",
              "    <tr style=\"text-align: right;\">\n",
              "      <th></th>\n",
              "      <th>minutes_median</th>\n",
              "      <th>messages_median</th>\n",
              "      <th>mb_used_median</th>\n",
              "    </tr>\n",
              "    <tr>\n",
              "      <th>tariff</th>\n",
              "      <th></th>\n",
              "      <th></th>\n",
              "      <th></th>\n",
              "    </tr>\n",
              "  </thead>\n",
              "  <tbody>\n",
              "    <tr>\n",
              "      <th>smart</th>\n",
              "      <td>421</td>\n",
              "      <td>28</td>\n",
              "      <td>17408</td>\n",
              "    </tr>\n",
              "    <tr>\n",
              "      <th>ultra</th>\n",
              "      <td>518</td>\n",
              "      <td>38</td>\n",
              "      <td>19456</td>\n",
              "    </tr>\n",
              "  </tbody>\n",
              "</table>\n",
              "</div>\n",
              "      <button class=\"colab-df-convert\" onclick=\"convertToInteractive('df-ff0e8112-5769-4028-a4b7-485c2207f819')\"\n",
              "              title=\"Convert this dataframe to an interactive table.\"\n",
              "              style=\"display:none;\">\n",
              "        \n",
              "  <svg xmlns=\"http://www.w3.org/2000/svg\" height=\"24px\"viewBox=\"0 0 24 24\"\n",
              "       width=\"24px\">\n",
              "    <path d=\"M0 0h24v24H0V0z\" fill=\"none\"/>\n",
              "    <path d=\"M18.56 5.44l.94 2.06.94-2.06 2.06-.94-2.06-.94-.94-2.06-.94 2.06-2.06.94zm-11 1L8.5 8.5l.94-2.06 2.06-.94-2.06-.94L8.5 2.5l-.94 2.06-2.06.94zm10 10l.94 2.06.94-2.06 2.06-.94-2.06-.94-.94-2.06-.94 2.06-2.06.94z\"/><path d=\"M17.41 7.96l-1.37-1.37c-.4-.4-.92-.59-1.43-.59-.52 0-1.04.2-1.43.59L10.3 9.45l-7.72 7.72c-.78.78-.78 2.05 0 2.83L4 21.41c.39.39.9.59 1.41.59.51 0 1.02-.2 1.41-.59l7.78-7.78 2.81-2.81c.8-.78.8-2.07 0-2.86zM5.41 20L4 18.59l7.72-7.72 1.47 1.35L5.41 20z\"/>\n",
              "  </svg>\n",
              "      </button>\n",
              "      \n",
              "  <style>\n",
              "    .colab-df-container {\n",
              "      display:flex;\n",
              "      flex-wrap:wrap;\n",
              "      gap: 12px;\n",
              "    }\n",
              "\n",
              "    .colab-df-convert {\n",
              "      background-color: #E8F0FE;\n",
              "      border: none;\n",
              "      border-radius: 50%;\n",
              "      cursor: pointer;\n",
              "      display: none;\n",
              "      fill: #1967D2;\n",
              "      height: 32px;\n",
              "      padding: 0 0 0 0;\n",
              "      width: 32px;\n",
              "    }\n",
              "\n",
              "    .colab-df-convert:hover {\n",
              "      background-color: #E2EBFA;\n",
              "      box-shadow: 0px 1px 2px rgba(60, 64, 67, 0.3), 0px 1px 3px 1px rgba(60, 64, 67, 0.15);\n",
              "      fill: #174EA6;\n",
              "    }\n",
              "\n",
              "    [theme=dark] .colab-df-convert {\n",
              "      background-color: #3B4455;\n",
              "      fill: #D2E3FC;\n",
              "    }\n",
              "\n",
              "    [theme=dark] .colab-df-convert:hover {\n",
              "      background-color: #434B5C;\n",
              "      box-shadow: 0px 1px 3px 1px rgba(0, 0, 0, 0.15);\n",
              "      filter: drop-shadow(0px 1px 2px rgba(0, 0, 0, 0.3));\n",
              "      fill: #FFFFFF;\n",
              "    }\n",
              "  </style>\n",
              "\n",
              "      <script>\n",
              "        const buttonEl =\n",
              "          document.querySelector('#df-ff0e8112-5769-4028-a4b7-485c2207f819 button.colab-df-convert');\n",
              "        buttonEl.style.display =\n",
              "          google.colab.kernel.accessAllowed ? 'block' : 'none';\n",
              "\n",
              "        async function convertToInteractive(key) {\n",
              "          const element = document.querySelector('#df-ff0e8112-5769-4028-a4b7-485c2207f819');\n",
              "          const dataTable =\n",
              "            await google.colab.kernel.invokeFunction('convertToInteractive',\n",
              "                                                     [key], {});\n",
              "          if (!dataTable) return;\n",
              "\n",
              "          const docLinkHtml = 'Like what you see? Visit the ' +\n",
              "            '<a target=\"_blank\" href=https://colab.research.google.com/notebooks/data_table.ipynb>data table notebook</a>'\n",
              "            + ' to learn more about interactive tables.';\n",
              "          element.innerHTML = '';\n",
              "          dataTable['output_type'] = 'display_data';\n",
              "          await google.colab.output.renderOutput(dataTable, element);\n",
              "          const docLink = document.createElement('div');\n",
              "          docLink.innerHTML = docLinkHtml;\n",
              "          element.appendChild(docLink);\n",
              "        }\n",
              "      </script>\n",
              "    </div>\n",
              "  </div>\n",
              "  "
            ]
          },
          "metadata": {},
          "execution_count": 51
        }
      ],
      "source": [
        "# группировка по тарифам и медианные значения\n",
        "\n",
        "tariffs_medians = df \\\n",
        "    .groupby(['tariff']) \\\n",
        "    .agg({'minutes_total' : 'median', 'messages_total' : 'median', 'mb_used_total' : 'median'}) \\\n",
        "    .rename(columns=({'minutes_total' : 'minutes_median', 'messages_total' : 'messages_median', \\\n",
        "                      'mb_used_total' : 'mb_used_median'})) \\\n",
        "    .astype(int)\n",
        "\n",
        "tariffs_medians"
      ]
    },
    {
      "cell_type": "markdown",
      "metadata": {
        "id": "JgRkUvCufTe2"
      },
      "source": [
        "- Пользователям тарифа **smart** требуется около 421 минуты звонков, 28 сообщений и 17 Гб интернет-трафика в месяц. Медианный платеж по тарифу – 1065 рублей. \n",
        "\n",
        "\n",
        "- Пользователям тарифа **ultra** требуется около 518 минут звонков, 38 сообщений и 20 Гб интернет-трафика в месяц. Медианный платеж по тарифу – 1950 рублей."
      ]
    },
    {
      "cell_type": "code",
      "execution_count": 52,
      "metadata": {
        "id": "fgcJAefNfTe2",
        "outputId": "650585c6-2199-4886-df62-8525abc613e2",
        "colab": {
          "base_uri": "https://localhost:8080/"
        }
      },
      "outputs": [
        {
          "output_type": "stream",
          "name": "stdout",
          "text": [
            "Количество пользователей тарифа ultra: 149\n"
          ]
        }
      ],
      "source": [
        "print('Количество пользователей тарифа ultra:', df.query('tariff == \"ultra\"').user_id.value_counts().count())\n"
      ]
    },
    {
      "cell_type": "code",
      "execution_count": 53,
      "metadata": {
        "id": "SqwsdP5DfTe2",
        "outputId": "3cea8ec6-ea59-435a-cbda-e6e4db12f2ba",
        "colab": {
          "base_uri": "https://localhost:8080/"
        }
      },
      "outputs": [
        {
          "output_type": "stream",
          "name": "stdout",
          "text": [
            "Количество пользователей тарифа smart: 351\n"
          ]
        }
      ],
      "source": [
        "print('Количество пользователей тарифа smart:', df.query('tariff == \"smart\"').user_id.value_counts().count())"
      ]
    },
    {
      "cell_type": "markdown",
      "metadata": {
        "id": "ZCCeBDqQfTe3"
      },
      "source": [
        "Сводная таблица по тарифам с расчетами стандартного отклонения и дисперсии:"
      ]
    },
    {
      "cell_type": "code",
      "execution_count": 54,
      "metadata": {
        "scrolled": true,
        "id": "t1duoP-ufTe3",
        "outputId": "c0ecb036-9240-48ba-bffd-d097b88e6488",
        "colab": {
          "base_uri": "https://localhost:8080/",
          "height": 175
        }
      },
      "outputs": [
        {
          "output_type": "execute_result",
          "data": {
            "text/plain": [
              "       minutes              messages           mb_used                  \n",
              "        median     var  std   median   var std  median        var    std\n",
              "tariff                                                                  \n",
              "smart      421   36281  190       28   796  28   17408   34742943   5894\n",
              "ultra      518  101052  317       38  2285  47   19456  102108804  10104"
            ],
            "text/html": [
              "\n",
              "  <div id=\"df-3630b16c-9fc9-4a03-8b05-358f7904e9c4\">\n",
              "    <div class=\"colab-df-container\">\n",
              "      <div>\n",
              "<style scoped>\n",
              "    .dataframe tbody tr th:only-of-type {\n",
              "        vertical-align: middle;\n",
              "    }\n",
              "\n",
              "    .dataframe tbody tr th {\n",
              "        vertical-align: top;\n",
              "    }\n",
              "\n",
              "    .dataframe thead tr th {\n",
              "        text-align: left;\n",
              "    }\n",
              "\n",
              "    .dataframe thead tr:last-of-type th {\n",
              "        text-align: right;\n",
              "    }\n",
              "</style>\n",
              "<table border=\"1\" class=\"dataframe\">\n",
              "  <thead>\n",
              "    <tr>\n",
              "      <th></th>\n",
              "      <th colspan=\"3\" halign=\"left\">minutes</th>\n",
              "      <th colspan=\"3\" halign=\"left\">messages</th>\n",
              "      <th colspan=\"3\" halign=\"left\">mb_used</th>\n",
              "    </tr>\n",
              "    <tr>\n",
              "      <th></th>\n",
              "      <th>median</th>\n",
              "      <th>var</th>\n",
              "      <th>std</th>\n",
              "      <th>median</th>\n",
              "      <th>var</th>\n",
              "      <th>std</th>\n",
              "      <th>median</th>\n",
              "      <th>var</th>\n",
              "      <th>std</th>\n",
              "    </tr>\n",
              "    <tr>\n",
              "      <th>tariff</th>\n",
              "      <th></th>\n",
              "      <th></th>\n",
              "      <th></th>\n",
              "      <th></th>\n",
              "      <th></th>\n",
              "      <th></th>\n",
              "      <th></th>\n",
              "      <th></th>\n",
              "      <th></th>\n",
              "    </tr>\n",
              "  </thead>\n",
              "  <tbody>\n",
              "    <tr>\n",
              "      <th>smart</th>\n",
              "      <td>421</td>\n",
              "      <td>36281</td>\n",
              "      <td>190</td>\n",
              "      <td>28</td>\n",
              "      <td>796</td>\n",
              "      <td>28</td>\n",
              "      <td>17408</td>\n",
              "      <td>34742943</td>\n",
              "      <td>5894</td>\n",
              "    </tr>\n",
              "    <tr>\n",
              "      <th>ultra</th>\n",
              "      <td>518</td>\n",
              "      <td>101052</td>\n",
              "      <td>317</td>\n",
              "      <td>38</td>\n",
              "      <td>2285</td>\n",
              "      <td>47</td>\n",
              "      <td>19456</td>\n",
              "      <td>102108804</td>\n",
              "      <td>10104</td>\n",
              "    </tr>\n",
              "  </tbody>\n",
              "</table>\n",
              "</div>\n",
              "      <button class=\"colab-df-convert\" onclick=\"convertToInteractive('df-3630b16c-9fc9-4a03-8b05-358f7904e9c4')\"\n",
              "              title=\"Convert this dataframe to an interactive table.\"\n",
              "              style=\"display:none;\">\n",
              "        \n",
              "  <svg xmlns=\"http://www.w3.org/2000/svg\" height=\"24px\"viewBox=\"0 0 24 24\"\n",
              "       width=\"24px\">\n",
              "    <path d=\"M0 0h24v24H0V0z\" fill=\"none\"/>\n",
              "    <path d=\"M18.56 5.44l.94 2.06.94-2.06 2.06-.94-2.06-.94-.94-2.06-.94 2.06-2.06.94zm-11 1L8.5 8.5l.94-2.06 2.06-.94-2.06-.94L8.5 2.5l-.94 2.06-2.06.94zm10 10l.94 2.06.94-2.06 2.06-.94-2.06-.94-.94-2.06-.94 2.06-2.06.94z\"/><path d=\"M17.41 7.96l-1.37-1.37c-.4-.4-.92-.59-1.43-.59-.52 0-1.04.2-1.43.59L10.3 9.45l-7.72 7.72c-.78.78-.78 2.05 0 2.83L4 21.41c.39.39.9.59 1.41.59.51 0 1.02-.2 1.41-.59l7.78-7.78 2.81-2.81c.8-.78.8-2.07 0-2.86zM5.41 20L4 18.59l7.72-7.72 1.47 1.35L5.41 20z\"/>\n",
              "  </svg>\n",
              "      </button>\n",
              "      \n",
              "  <style>\n",
              "    .colab-df-container {\n",
              "      display:flex;\n",
              "      flex-wrap:wrap;\n",
              "      gap: 12px;\n",
              "    }\n",
              "\n",
              "    .colab-df-convert {\n",
              "      background-color: #E8F0FE;\n",
              "      border: none;\n",
              "      border-radius: 50%;\n",
              "      cursor: pointer;\n",
              "      display: none;\n",
              "      fill: #1967D2;\n",
              "      height: 32px;\n",
              "      padding: 0 0 0 0;\n",
              "      width: 32px;\n",
              "    }\n",
              "\n",
              "    .colab-df-convert:hover {\n",
              "      background-color: #E2EBFA;\n",
              "      box-shadow: 0px 1px 2px rgba(60, 64, 67, 0.3), 0px 1px 3px 1px rgba(60, 64, 67, 0.15);\n",
              "      fill: #174EA6;\n",
              "    }\n",
              "\n",
              "    [theme=dark] .colab-df-convert {\n",
              "      background-color: #3B4455;\n",
              "      fill: #D2E3FC;\n",
              "    }\n",
              "\n",
              "    [theme=dark] .colab-df-convert:hover {\n",
              "      background-color: #434B5C;\n",
              "      box-shadow: 0px 1px 3px 1px rgba(0, 0, 0, 0.15);\n",
              "      filter: drop-shadow(0px 1px 2px rgba(0, 0, 0, 0.3));\n",
              "      fill: #FFFFFF;\n",
              "    }\n",
              "  </style>\n",
              "\n",
              "      <script>\n",
              "        const buttonEl =\n",
              "          document.querySelector('#df-3630b16c-9fc9-4a03-8b05-358f7904e9c4 button.colab-df-convert');\n",
              "        buttonEl.style.display =\n",
              "          google.colab.kernel.accessAllowed ? 'block' : 'none';\n",
              "\n",
              "        async function convertToInteractive(key) {\n",
              "          const element = document.querySelector('#df-3630b16c-9fc9-4a03-8b05-358f7904e9c4');\n",
              "          const dataTable =\n",
              "            await google.colab.kernel.invokeFunction('convertToInteractive',\n",
              "                                                     [key], {});\n",
              "          if (!dataTable) return;\n",
              "\n",
              "          const docLinkHtml = 'Like what you see? Visit the ' +\n",
              "            '<a target=\"_blank\" href=https://colab.research.google.com/notebooks/data_table.ipynb>data table notebook</a>'\n",
              "            + ' to learn more about interactive tables.';\n",
              "          element.innerHTML = '';\n",
              "          dataTable['output_type'] = 'display_data';\n",
              "          await google.colab.output.renderOutput(dataTable, element);\n",
              "          const docLink = document.createElement('div');\n",
              "          docLink.innerHTML = docLinkHtml;\n",
              "          element.appendChild(docLink);\n",
              "        }\n",
              "      </script>\n",
              "    </div>\n",
              "  </div>\n",
              "  "
            ]
          },
          "metadata": {},
          "execution_count": 54
        }
      ],
      "source": [
        "tariffs_stats = df \\\n",
        "    .groupby(['tariff']) \\\n",
        "    .agg({'minutes_total' : [np.median, np.var, np.std], \\\n",
        "          'messages_total' : [np.median, np.var, np.std], \\\n",
        "          'mb_used_total' : [np.median, np.var, np.std]}) \\\n",
        "    .rename(columns=({'minutes_total' : 'minutes', \\\n",
        "                      'messages_total' : 'messages', \\\n",
        "                      'mb_used_total' : 'mb_used'})) \\\n",
        "    .astype(int)\n",
        "\n",
        "tariffs_stats"
      ]
    },
    {
      "cell_type": "code",
      "execution_count": 55,
      "metadata": {
        "id": "ND3cX67qfTe3",
        "outputId": "de933bea-18bf-4b9e-d262-3269eb139e2b",
        "colab": {
          "base_uri": "https://localhost:8080/",
          "height": 300
        }
      },
      "outputs": [
        {
          "output_type": "execute_result",
          "data": {
            "text/plain": [
              "       user_id   month  minutes_total  calls_total  messages_total  \\\n",
              "count   2230.0  2230.0         2230.0       2230.0          2230.0   \n",
              "mean    1247.0     8.0          418.0         58.0            33.0   \n",
              "std      146.0     3.0          190.0         26.0            28.0   \n",
              "min     1001.0     0.0            0.0          0.0             0.0   \n",
              "25%     1121.0     6.0          282.0         40.0            10.0   \n",
              "50%     1240.0     9.0          422.0         60.0            28.0   \n",
              "75%     1376.0    11.0          545.0         76.0            51.0   \n",
              "max     1499.0    12.0         1435.0        198.0           143.0   \n",
              "\n",
              "       mb_used_total  rub_monthly_fee  additional_payment  total_payment  \n",
              "count         2230.0           2230.0              2230.0         2230.0  \n",
              "mean         16713.0            550.0               740.0         1290.0  \n",
              "std           5894.0              0.0               818.0          818.0  \n",
              "min              0.0            550.0                 0.0          550.0  \n",
              "25%          13312.0            550.0                 0.0          550.0  \n",
              "50%          17408.0            550.0               471.0         1021.0  \n",
              "75%          20480.0            550.0              1200.0         1750.0  \n",
              "max          38912.0            550.0              6220.0         6770.0  "
            ],
            "text/html": [
              "\n",
              "  <div id=\"df-b4c1051c-1697-40ed-82d6-5aec8976fd2b\">\n",
              "    <div class=\"colab-df-container\">\n",
              "      <div>\n",
              "<style scoped>\n",
              "    .dataframe tbody tr th:only-of-type {\n",
              "        vertical-align: middle;\n",
              "    }\n",
              "\n",
              "    .dataframe tbody tr th {\n",
              "        vertical-align: top;\n",
              "    }\n",
              "\n",
              "    .dataframe thead th {\n",
              "        text-align: right;\n",
              "    }\n",
              "</style>\n",
              "<table border=\"1\" class=\"dataframe\">\n",
              "  <thead>\n",
              "    <tr style=\"text-align: right;\">\n",
              "      <th></th>\n",
              "      <th>user_id</th>\n",
              "      <th>month</th>\n",
              "      <th>minutes_total</th>\n",
              "      <th>calls_total</th>\n",
              "      <th>messages_total</th>\n",
              "      <th>mb_used_total</th>\n",
              "      <th>rub_monthly_fee</th>\n",
              "      <th>additional_payment</th>\n",
              "      <th>total_payment</th>\n",
              "    </tr>\n",
              "  </thead>\n",
              "  <tbody>\n",
              "    <tr>\n",
              "      <th>count</th>\n",
              "      <td>2230.0</td>\n",
              "      <td>2230.0</td>\n",
              "      <td>2230.0</td>\n",
              "      <td>2230.0</td>\n",
              "      <td>2230.0</td>\n",
              "      <td>2230.0</td>\n",
              "      <td>2230.0</td>\n",
              "      <td>2230.0</td>\n",
              "      <td>2230.0</td>\n",
              "    </tr>\n",
              "    <tr>\n",
              "      <th>mean</th>\n",
              "      <td>1247.0</td>\n",
              "      <td>8.0</td>\n",
              "      <td>418.0</td>\n",
              "      <td>58.0</td>\n",
              "      <td>33.0</td>\n",
              "      <td>16713.0</td>\n",
              "      <td>550.0</td>\n",
              "      <td>740.0</td>\n",
              "      <td>1290.0</td>\n",
              "    </tr>\n",
              "    <tr>\n",
              "      <th>std</th>\n",
              "      <td>146.0</td>\n",
              "      <td>3.0</td>\n",
              "      <td>190.0</td>\n",
              "      <td>26.0</td>\n",
              "      <td>28.0</td>\n",
              "      <td>5894.0</td>\n",
              "      <td>0.0</td>\n",
              "      <td>818.0</td>\n",
              "      <td>818.0</td>\n",
              "    </tr>\n",
              "    <tr>\n",
              "      <th>min</th>\n",
              "      <td>1001.0</td>\n",
              "      <td>0.0</td>\n",
              "      <td>0.0</td>\n",
              "      <td>0.0</td>\n",
              "      <td>0.0</td>\n",
              "      <td>0.0</td>\n",
              "      <td>550.0</td>\n",
              "      <td>0.0</td>\n",
              "      <td>550.0</td>\n",
              "    </tr>\n",
              "    <tr>\n",
              "      <th>25%</th>\n",
              "      <td>1121.0</td>\n",
              "      <td>6.0</td>\n",
              "      <td>282.0</td>\n",
              "      <td>40.0</td>\n",
              "      <td>10.0</td>\n",
              "      <td>13312.0</td>\n",
              "      <td>550.0</td>\n",
              "      <td>0.0</td>\n",
              "      <td>550.0</td>\n",
              "    </tr>\n",
              "    <tr>\n",
              "      <th>50%</th>\n",
              "      <td>1240.0</td>\n",
              "      <td>9.0</td>\n",
              "      <td>422.0</td>\n",
              "      <td>60.0</td>\n",
              "      <td>28.0</td>\n",
              "      <td>17408.0</td>\n",
              "      <td>550.0</td>\n",
              "      <td>471.0</td>\n",
              "      <td>1021.0</td>\n",
              "    </tr>\n",
              "    <tr>\n",
              "      <th>75%</th>\n",
              "      <td>1376.0</td>\n",
              "      <td>11.0</td>\n",
              "      <td>545.0</td>\n",
              "      <td>76.0</td>\n",
              "      <td>51.0</td>\n",
              "      <td>20480.0</td>\n",
              "      <td>550.0</td>\n",
              "      <td>1200.0</td>\n",
              "      <td>1750.0</td>\n",
              "    </tr>\n",
              "    <tr>\n",
              "      <th>max</th>\n",
              "      <td>1499.0</td>\n",
              "      <td>12.0</td>\n",
              "      <td>1435.0</td>\n",
              "      <td>198.0</td>\n",
              "      <td>143.0</td>\n",
              "      <td>38912.0</td>\n",
              "      <td>550.0</td>\n",
              "      <td>6220.0</td>\n",
              "      <td>6770.0</td>\n",
              "    </tr>\n",
              "  </tbody>\n",
              "</table>\n",
              "</div>\n",
              "      <button class=\"colab-df-convert\" onclick=\"convertToInteractive('df-b4c1051c-1697-40ed-82d6-5aec8976fd2b')\"\n",
              "              title=\"Convert this dataframe to an interactive table.\"\n",
              "              style=\"display:none;\">\n",
              "        \n",
              "  <svg xmlns=\"http://www.w3.org/2000/svg\" height=\"24px\"viewBox=\"0 0 24 24\"\n",
              "       width=\"24px\">\n",
              "    <path d=\"M0 0h24v24H0V0z\" fill=\"none\"/>\n",
              "    <path d=\"M18.56 5.44l.94 2.06.94-2.06 2.06-.94-2.06-.94-.94-2.06-.94 2.06-2.06.94zm-11 1L8.5 8.5l.94-2.06 2.06-.94-2.06-.94L8.5 2.5l-.94 2.06-2.06.94zm10 10l.94 2.06.94-2.06 2.06-.94-2.06-.94-.94-2.06-.94 2.06-2.06.94z\"/><path d=\"M17.41 7.96l-1.37-1.37c-.4-.4-.92-.59-1.43-.59-.52 0-1.04.2-1.43.59L10.3 9.45l-7.72 7.72c-.78.78-.78 2.05 0 2.83L4 21.41c.39.39.9.59 1.41.59.51 0 1.02-.2 1.41-.59l7.78-7.78 2.81-2.81c.8-.78.8-2.07 0-2.86zM5.41 20L4 18.59l7.72-7.72 1.47 1.35L5.41 20z\"/>\n",
              "  </svg>\n",
              "      </button>\n",
              "      \n",
              "  <style>\n",
              "    .colab-df-container {\n",
              "      display:flex;\n",
              "      flex-wrap:wrap;\n",
              "      gap: 12px;\n",
              "    }\n",
              "\n",
              "    .colab-df-convert {\n",
              "      background-color: #E8F0FE;\n",
              "      border: none;\n",
              "      border-radius: 50%;\n",
              "      cursor: pointer;\n",
              "      display: none;\n",
              "      fill: #1967D2;\n",
              "      height: 32px;\n",
              "      padding: 0 0 0 0;\n",
              "      width: 32px;\n",
              "    }\n",
              "\n",
              "    .colab-df-convert:hover {\n",
              "      background-color: #E2EBFA;\n",
              "      box-shadow: 0px 1px 2px rgba(60, 64, 67, 0.3), 0px 1px 3px 1px rgba(60, 64, 67, 0.15);\n",
              "      fill: #174EA6;\n",
              "    }\n",
              "\n",
              "    [theme=dark] .colab-df-convert {\n",
              "      background-color: #3B4455;\n",
              "      fill: #D2E3FC;\n",
              "    }\n",
              "\n",
              "    [theme=dark] .colab-df-convert:hover {\n",
              "      background-color: #434B5C;\n",
              "      box-shadow: 0px 1px 3px 1px rgba(0, 0, 0, 0.15);\n",
              "      filter: drop-shadow(0px 1px 2px rgba(0, 0, 0, 0.3));\n",
              "      fill: #FFFFFF;\n",
              "    }\n",
              "  </style>\n",
              "\n",
              "      <script>\n",
              "        const buttonEl =\n",
              "          document.querySelector('#df-b4c1051c-1697-40ed-82d6-5aec8976fd2b button.colab-df-convert');\n",
              "        buttonEl.style.display =\n",
              "          google.colab.kernel.accessAllowed ? 'block' : 'none';\n",
              "\n",
              "        async function convertToInteractive(key) {\n",
              "          const element = document.querySelector('#df-b4c1051c-1697-40ed-82d6-5aec8976fd2b');\n",
              "          const dataTable =\n",
              "            await google.colab.kernel.invokeFunction('convertToInteractive',\n",
              "                                                     [key], {});\n",
              "          if (!dataTable) return;\n",
              "\n",
              "          const docLinkHtml = 'Like what you see? Visit the ' +\n",
              "            '<a target=\"_blank\" href=https://colab.research.google.com/notebooks/data_table.ipynb>data table notebook</a>'\n",
              "            + ' to learn more about interactive tables.';\n",
              "          element.innerHTML = '';\n",
              "          dataTable['output_type'] = 'display_data';\n",
              "          await google.colab.output.renderOutput(dataTable, element);\n",
              "          const docLink = document.createElement('div');\n",
              "          docLink.innerHTML = docLinkHtml;\n",
              "          element.appendChild(docLink);\n",
              "        }\n",
              "      </script>\n",
              "    </div>\n",
              "  </div>\n",
              "  "
            ]
          },
          "metadata": {},
          "execution_count": 55
        }
      ],
      "source": [
        "df.query('tariff == \"smart\"').describe().round()"
      ]
    },
    {
      "cell_type": "code",
      "execution_count": 56,
      "metadata": {
        "scrolled": true,
        "id": "qVv1N48ZfTe3",
        "outputId": "6d224bbc-e046-4666-d684-88434ae2d49c",
        "colab": {
          "base_uri": "https://localhost:8080/",
          "height": 300
        }
      },
      "outputs": [
        {
          "output_type": "execute_result",
          "data": {
            "text/plain": [
              "       user_id  month  minutes_total  calls_total  messages_total  \\\n",
              "count    986.0  986.0          986.0        986.0           986.0   \n",
              "mean    1263.0    8.0          526.0         73.0            49.0   \n",
              "std      141.0    3.0          318.0         44.0            48.0   \n",
              "min     1000.0    0.0            0.0          0.0             0.0   \n",
              "25%     1143.0    6.0          282.0         41.0             6.0   \n",
              "50%     1277.0    9.0          518.0         74.0            38.0   \n",
              "75%     1381.0   11.0          752.0        104.0            79.0   \n",
              "max     1495.0   12.0         1673.0        244.0           224.0   \n",
              "\n",
              "       mb_used_total  rub_monthly_fee  additional_payment  total_payment  \n",
              "count          986.0            986.0               986.0          986.0  \n",
              "mean         19942.0           1950.0               120.0         2070.0  \n",
              "std          10105.0              0.0               376.0          376.0  \n",
              "min              0.0           1950.0                 0.0         1950.0  \n",
              "25%          12288.0           1950.0                 0.0         1950.0  \n",
              "50%          19456.0           1950.0                 0.0         1950.0  \n",
              "75%          27648.0           1950.0                 0.0         1950.0  \n",
              "max          50176.0           1950.0              2850.0         4800.0  "
            ],
            "text/html": [
              "\n",
              "  <div id=\"df-4d84832a-6508-4738-b53e-286f3e9cfb11\">\n",
              "    <div class=\"colab-df-container\">\n",
              "      <div>\n",
              "<style scoped>\n",
              "    .dataframe tbody tr th:only-of-type {\n",
              "        vertical-align: middle;\n",
              "    }\n",
              "\n",
              "    .dataframe tbody tr th {\n",
              "        vertical-align: top;\n",
              "    }\n",
              "\n",
              "    .dataframe thead th {\n",
              "        text-align: right;\n",
              "    }\n",
              "</style>\n",
              "<table border=\"1\" class=\"dataframe\">\n",
              "  <thead>\n",
              "    <tr style=\"text-align: right;\">\n",
              "      <th></th>\n",
              "      <th>user_id</th>\n",
              "      <th>month</th>\n",
              "      <th>minutes_total</th>\n",
              "      <th>calls_total</th>\n",
              "      <th>messages_total</th>\n",
              "      <th>mb_used_total</th>\n",
              "      <th>rub_monthly_fee</th>\n",
              "      <th>additional_payment</th>\n",
              "      <th>total_payment</th>\n",
              "    </tr>\n",
              "  </thead>\n",
              "  <tbody>\n",
              "    <tr>\n",
              "      <th>count</th>\n",
              "      <td>986.0</td>\n",
              "      <td>986.0</td>\n",
              "      <td>986.0</td>\n",
              "      <td>986.0</td>\n",
              "      <td>986.0</td>\n",
              "      <td>986.0</td>\n",
              "      <td>986.0</td>\n",
              "      <td>986.0</td>\n",
              "      <td>986.0</td>\n",
              "    </tr>\n",
              "    <tr>\n",
              "      <th>mean</th>\n",
              "      <td>1263.0</td>\n",
              "      <td>8.0</td>\n",
              "      <td>526.0</td>\n",
              "      <td>73.0</td>\n",
              "      <td>49.0</td>\n",
              "      <td>19942.0</td>\n",
              "      <td>1950.0</td>\n",
              "      <td>120.0</td>\n",
              "      <td>2070.0</td>\n",
              "    </tr>\n",
              "    <tr>\n",
              "      <th>std</th>\n",
              "      <td>141.0</td>\n",
              "      <td>3.0</td>\n",
              "      <td>318.0</td>\n",
              "      <td>44.0</td>\n",
              "      <td>48.0</td>\n",
              "      <td>10105.0</td>\n",
              "      <td>0.0</td>\n",
              "      <td>376.0</td>\n",
              "      <td>376.0</td>\n",
              "    </tr>\n",
              "    <tr>\n",
              "      <th>min</th>\n",
              "      <td>1000.0</td>\n",
              "      <td>0.0</td>\n",
              "      <td>0.0</td>\n",
              "      <td>0.0</td>\n",
              "      <td>0.0</td>\n",
              "      <td>0.0</td>\n",
              "      <td>1950.0</td>\n",
              "      <td>0.0</td>\n",
              "      <td>1950.0</td>\n",
              "    </tr>\n",
              "    <tr>\n",
              "      <th>25%</th>\n",
              "      <td>1143.0</td>\n",
              "      <td>6.0</td>\n",
              "      <td>282.0</td>\n",
              "      <td>41.0</td>\n",
              "      <td>6.0</td>\n",
              "      <td>12288.0</td>\n",
              "      <td>1950.0</td>\n",
              "      <td>0.0</td>\n",
              "      <td>1950.0</td>\n",
              "    </tr>\n",
              "    <tr>\n",
              "      <th>50%</th>\n",
              "      <td>1277.0</td>\n",
              "      <td>9.0</td>\n",
              "      <td>518.0</td>\n",
              "      <td>74.0</td>\n",
              "      <td>38.0</td>\n",
              "      <td>19456.0</td>\n",
              "      <td>1950.0</td>\n",
              "      <td>0.0</td>\n",
              "      <td>1950.0</td>\n",
              "    </tr>\n",
              "    <tr>\n",
              "      <th>75%</th>\n",
              "      <td>1381.0</td>\n",
              "      <td>11.0</td>\n",
              "      <td>752.0</td>\n",
              "      <td>104.0</td>\n",
              "      <td>79.0</td>\n",
              "      <td>27648.0</td>\n",
              "      <td>1950.0</td>\n",
              "      <td>0.0</td>\n",
              "      <td>1950.0</td>\n",
              "    </tr>\n",
              "    <tr>\n",
              "      <th>max</th>\n",
              "      <td>1495.0</td>\n",
              "      <td>12.0</td>\n",
              "      <td>1673.0</td>\n",
              "      <td>244.0</td>\n",
              "      <td>224.0</td>\n",
              "      <td>50176.0</td>\n",
              "      <td>1950.0</td>\n",
              "      <td>2850.0</td>\n",
              "      <td>4800.0</td>\n",
              "    </tr>\n",
              "  </tbody>\n",
              "</table>\n",
              "</div>\n",
              "      <button class=\"colab-df-convert\" onclick=\"convertToInteractive('df-4d84832a-6508-4738-b53e-286f3e9cfb11')\"\n",
              "              title=\"Convert this dataframe to an interactive table.\"\n",
              "              style=\"display:none;\">\n",
              "        \n",
              "  <svg xmlns=\"http://www.w3.org/2000/svg\" height=\"24px\"viewBox=\"0 0 24 24\"\n",
              "       width=\"24px\">\n",
              "    <path d=\"M0 0h24v24H0V0z\" fill=\"none\"/>\n",
              "    <path d=\"M18.56 5.44l.94 2.06.94-2.06 2.06-.94-2.06-.94-.94-2.06-.94 2.06-2.06.94zm-11 1L8.5 8.5l.94-2.06 2.06-.94-2.06-.94L8.5 2.5l-.94 2.06-2.06.94zm10 10l.94 2.06.94-2.06 2.06-.94-2.06-.94-.94-2.06-.94 2.06-2.06.94z\"/><path d=\"M17.41 7.96l-1.37-1.37c-.4-.4-.92-.59-1.43-.59-.52 0-1.04.2-1.43.59L10.3 9.45l-7.72 7.72c-.78.78-.78 2.05 0 2.83L4 21.41c.39.39.9.59 1.41.59.51 0 1.02-.2 1.41-.59l7.78-7.78 2.81-2.81c.8-.78.8-2.07 0-2.86zM5.41 20L4 18.59l7.72-7.72 1.47 1.35L5.41 20z\"/>\n",
              "  </svg>\n",
              "      </button>\n",
              "      \n",
              "  <style>\n",
              "    .colab-df-container {\n",
              "      display:flex;\n",
              "      flex-wrap:wrap;\n",
              "      gap: 12px;\n",
              "    }\n",
              "\n",
              "    .colab-df-convert {\n",
              "      background-color: #E8F0FE;\n",
              "      border: none;\n",
              "      border-radius: 50%;\n",
              "      cursor: pointer;\n",
              "      display: none;\n",
              "      fill: #1967D2;\n",
              "      height: 32px;\n",
              "      padding: 0 0 0 0;\n",
              "      width: 32px;\n",
              "    }\n",
              "\n",
              "    .colab-df-convert:hover {\n",
              "      background-color: #E2EBFA;\n",
              "      box-shadow: 0px 1px 2px rgba(60, 64, 67, 0.3), 0px 1px 3px 1px rgba(60, 64, 67, 0.15);\n",
              "      fill: #174EA6;\n",
              "    }\n",
              "\n",
              "    [theme=dark] .colab-df-convert {\n",
              "      background-color: #3B4455;\n",
              "      fill: #D2E3FC;\n",
              "    }\n",
              "\n",
              "    [theme=dark] .colab-df-convert:hover {\n",
              "      background-color: #434B5C;\n",
              "      box-shadow: 0px 1px 3px 1px rgba(0, 0, 0, 0.15);\n",
              "      filter: drop-shadow(0px 1px 2px rgba(0, 0, 0, 0.3));\n",
              "      fill: #FFFFFF;\n",
              "    }\n",
              "  </style>\n",
              "\n",
              "      <script>\n",
              "        const buttonEl =\n",
              "          document.querySelector('#df-4d84832a-6508-4738-b53e-286f3e9cfb11 button.colab-df-convert');\n",
              "        buttonEl.style.display =\n",
              "          google.colab.kernel.accessAllowed ? 'block' : 'none';\n",
              "\n",
              "        async function convertToInteractive(key) {\n",
              "          const element = document.querySelector('#df-4d84832a-6508-4738-b53e-286f3e9cfb11');\n",
              "          const dataTable =\n",
              "            await google.colab.kernel.invokeFunction('convertToInteractive',\n",
              "                                                     [key], {});\n",
              "          if (!dataTable) return;\n",
              "\n",
              "          const docLinkHtml = 'Like what you see? Visit the ' +\n",
              "            '<a target=\"_blank\" href=https://colab.research.google.com/notebooks/data_table.ipynb>data table notebook</a>'\n",
              "            + ' to learn more about interactive tables.';\n",
              "          element.innerHTML = '';\n",
              "          dataTable['output_type'] = 'display_data';\n",
              "          await google.colab.output.renderOutput(dataTable, element);\n",
              "          const docLink = document.createElement('div');\n",
              "          docLink.innerHTML = docLinkHtml;\n",
              "          element.appendChild(docLink);\n",
              "        }\n",
              "      </script>\n",
              "    </div>\n",
              "  </div>\n",
              "  "
            ]
          },
          "metadata": {},
          "execution_count": 56
        }
      ],
      "source": [
        "df.query('tariff == \"ultra\"').describe().round()"
      ]
    },
    {
      "cell_type": "markdown",
      "metadata": {
        "id": "5KOW8tuxfTe4"
      },
      "source": [
        "### Построение гистограмм."
      ]
    },
    {
      "cell_type": "code",
      "execution_count": 57,
      "metadata": {
        "id": "ncjTNr1rfTe4",
        "outputId": "94fd1023-0760-4333-e124-02ebad5e6701",
        "colab": {
          "base_uri": "https://localhost:8080/",
          "height": 1000
        }
      },
      "outputs": [
        {
          "output_type": "display_data",
          "data": {
            "text/plain": [
              "<Figure size 360x360 with 1 Axes>"
            ],
            "image/png": "[encoded data removed]"
          },
          "metadata": {
            "image/png": {
              "width": 352,
              "height": 351
            },
            "needs_background": "light"
          }
        },
        {
          "output_type": "display_data",
          "data": {
            "text/plain": [
              "<Figure size 360x360 with 1 Axes>"
            ],
            "image/png": "[encoded data removed]"
          },
          "metadata": {
            "image/png": {
              "width": 352,
              "height": 351
            },
            "needs_background": "light"
          }
        },
        {
          "output_type": "display_data",
          "data": {
            "text/plain": [
              "<Figure size 360x360 with 1 Axes>"
            ],
            "image/png": "[encoded data removed]"
          },
          "metadata": {
            "image/png": {
              "width": 352,
              "height": 351
            },
            "needs_background": "light"
          }
        }
      ],
      "source": [
        "# боксплоты сравнения тарифов по типам связи\n",
        "\n",
        "for col in ['minutes_total', 'messages_total', 'mb_used_total']:    \n",
        "    sns.catplot(x=\"tariff\", y=col, kind='box', data=df, orient='v')"
      ]
    },
    {
      "cell_type": "markdown",
      "metadata": {
        "id": "YADgyDyjfTe4"
      },
      "source": [
        "На боксплотах видно, что показатели дорогого тарифа `ultra` имеют большую дисперсию по потраченным минутам голосовой связи, сообщениям и интернет-трафику. Медианы смещены в большую сторону. \n",
        "\n",
        "На более дешевом тарифе `smart` обнаружено большое количество выбросов."
      ]
    },
    {
      "cell_type": "code",
      "execution_count": 58,
      "metadata": {
        "id": "THW1MuIAfTe4",
        "outputId": "39fc8754-8867-4b60-a831-f09440aaa402",
        "colab": {
          "base_uri": "https://localhost:8080/",
          "height": 552
        }
      },
      "outputs": [
        {
          "output_type": "stream",
          "name": "stderr",
          "text": [
            "/usr/local/lib/python3.7/dist-packages/seaborn/distributions.py:2619: FutureWarning: `distplot` is a deprecated function and will be removed in a future version. Please adapt your code to use either `displot` (a figure-level function with similar flexibility) or `histplot` (an axes-level function for histograms).\n",
            "  warnings.warn(msg, FutureWarning)\n"
          ]
        },
        {
          "output_type": "display_data",
          "data": {
            "text/plain": [
              "<Figure size 864x576 with 1 Axes>"
            ],
            "image/png": "[encoded data removed]"
          },
          "metadata": {
            "image/png": {
              "width": 720,
              "height": 479
            },
            "needs_background": "light"
          }
        }
      ],
      "source": [
        "# графики сравнения двух тарифов по потраченным минутам\n",
        "\n",
        "plt.figure(figsize=(12, 8))\n",
        "\n",
        "for tariff in ['ultra', 'smart']:\n",
        "    sns.distplot(df.query('tariff == @tariff').minutes_total, label=tariff, kde=False)\n",
        "    _ = plt.legend(['ultra', 'smart'])"
      ]
    },
    {
      "cell_type": "code",
      "execution_count": 59,
      "metadata": {
        "id": "SX3Ur_ThfTe4",
        "outputId": "3a91f2ad-db67-4d30-8650-e0535417aece",
        "colab": {
          "base_uri": "https://localhost:8080/",
          "height": 496
        }
      },
      "outputs": [
        {
          "output_type": "display_data",
          "data": {
            "text/plain": [
              "<Figure size 864x576 with 1 Axes>"
            ],
            "image/png": "[encoded data removed]"
          },
          "metadata": {
            "image/png": {
              "width": 710,
              "height": 479
            },
            "needs_background": "light"
          }
        }
      ],
      "source": [
        "# графики сравнения двух тарифов по сообщениям\n",
        "\n",
        "plt.figure(figsize=(12, 8))\n",
        "\n",
        "for tariff in ['ultra', 'smart']:\n",
        "    sns.distplot(df.query('tariff == @tariff').messages_total, label=tariff, kde=False)\n",
        "    _ = plt.legend(['ultra', 'smart'])"
      ]
    },
    {
      "cell_type": "code",
      "execution_count": 60,
      "metadata": {
        "scrolled": true,
        "id": "rqr-1oSafTe5",
        "outputId": "1b92f9b0-afe6-4e41-b5da-2773e56c0bef",
        "colab": {
          "base_uri": "https://localhost:8080/",
          "height": 333
        }
      },
      "outputs": [
        {
          "output_type": "display_data",
          "data": {
            "text/plain": [
              "<Figure size 864x360 with 1 Axes>"
            ],
            "image/png": "[encoded data removed]"
          },
          "metadata": {
            "image/png": {
              "width": 710,
              "height": 316
            },
            "needs_background": "light"
          }
        }
      ],
      "source": [
        "# графики сравнения двух тарифов по интернет-трафику\n",
        "\n",
        "plt.figure(figsize=(12, 5))\n",
        "\n",
        "for tariff in ['ultra', 'smart']:\n",
        "    sns.distplot(df.query('tariff == @tariff').mb_used_total, label=tariff, kde=False)\n",
        "    _ = plt.legend(['ultra', 'smart'])"
      ]
    },
    {
      "cell_type": "code",
      "execution_count": 61,
      "metadata": {
        "id": "Trzh6Yj-fTe5",
        "outputId": "8f75aedd-cf08-4cd9-aa3c-d7de52d3bc9d",
        "colab": {
          "base_uri": "https://localhost:8080/",
          "height": 333
        }
      },
      "outputs": [
        {
          "output_type": "display_data",
          "data": {
            "text/plain": [
              "<Figure size 864x360 with 1 Axes>"
            ],
            "image/png": "[encoded data removed]"
          },
          "metadata": {
            "image/png": {
              "width": 710,
              "height": 316
            },
            "needs_background": "light"
          }
        }
      ],
      "source": [
        "# графики сравнения двух тарифов по доплатам\n",
        "\n",
        "plt.figure(figsize=(12, 5))\n",
        "\n",
        "for tariff in ['ultra', 'smart']:\n",
        "    sns.distplot(df.query('tariff == @tariff & additional_payment > 0').additional_payment, label=tariff, kde=False)\n",
        "    _ = plt.legend(['ultra', 'smart'])"
      ]
    },
    {
      "cell_type": "markdown",
      "metadata": {
        "id": "_TRYEHZcfTe5"
      },
      "source": [
        "### Вывод \n",
        "Гистограммы хорошо показывают различия в поведении пользователей тарифов:\n",
        "- большая дисперсия у тарифа `ultra` указывает на то, что пользователи используют его очень по-разному, по сути нет четкого портрета потребителя. Из-за больших лимитов пользователи редко выходят за границы лимитов и им практически не приходится доплачивать за связь;\n",
        "- у тарифа `smart` выделяются четкие моды по каждому типу связи. Поведение этих пользователей более предсказуемо и схоже между собой. Кроме того, пользователи тарифа довольно часто выходят за рамки лимита и доплачивают за связь – средний чек у них больше, чем стоимость тарифа.\n",
        "\n",
        "На гистограммах хорошо видны пересечения зон тарифов – вероятно, это можно использовать для создания \"универсального\" среднего тарифа."
      ]
    },
    {
      "cell_type": "markdown",
      "metadata": {
        "id": "ydvqpqWsfTe5"
      },
      "source": [
        "## Проверка гипотез"
      ]
    },
    {
      "cell_type": "markdown",
      "metadata": {
        "id": "kF3Wy7vQfTe5"
      },
      "source": [
        "### Гипотеза №1: средняя выручка пользователей тарифов «Ультра» и «Смарт» различаются."
      ]
    },
    {
      "cell_type": "markdown",
      "metadata": {
        "id": "07LN5cNffTe5"
      },
      "source": [
        "- $H_0$: средняя выручка от пользователей тарифов `ultra` и `smart` равна\n",
        "- $H_1$: средняя выручка от пользователей тарифов `ultra` и `smart` различается\n",
        "\n",
        "Нулевой гипотезой считается принимаемое по умолчанию предположение о том, что не существует связи между двумя наблюдаемыми событиями."
      ]
    },
    {
      "cell_type": "code",
      "execution_count": 62,
      "metadata": {
        "id": "fYmryYd_fTe6",
        "outputId": "c1a10b35-b1b9-497b-d861-b3ed6674c6c4",
        "colab": {
          "base_uri": "https://localhost:8080/"
        }
      },
      "outputs": [
        {
          "output_type": "stream",
          "name": "stdout",
          "text": [
            "p-значение: 1.927011394420941e-250\n",
            "Отвергаем нулевую гипотезу\n"
          ]
        }
      ],
      "source": [
        "# создаем выборки с платежами пользователей тарифов\n",
        "ultra_pays = df.query('tariff == \"ultra\"')['total_payment']\n",
        "smart_pays = df.query('tariff == \"smart\"')['total_payment']\n",
        "\n",
        "alpha = .05 # критический уровень статистической значимости\n",
        "\n",
        "results = st.ttest_ind(\n",
        "    ultra_pays, smart_pays, \n",
        "    equal_var=False) # используется критерий Уэлтча, так как дисперсии выборок различаются\n",
        "\n",
        "print('p-значение:', results.pvalue)\n",
        "\n",
        "if (results.pvalue < alpha):\n",
        "    print(\"Отвергаем нулевую гипотезу\")\n",
        "else:\n",
        "    print(\"Не получилось отвергнуть нулевую гипотезу\")"
      ]
    },
    {
      "cell_type": "code",
      "execution_count": 63,
      "metadata": {
        "id": "iPmceWrgfTe6",
        "outputId": "5bf06c10-9224-42e5-f9ce-90451a672294",
        "colab": {
          "base_uri": "https://localhost:8080/",
          "height": 494
        }
      },
      "outputs": [
        {
          "output_type": "execute_result",
          "data": {
            "text/plain": [
              "        total_payment\n",
              "tariff               \n",
              "smart          1021.0\n",
              "ultra          1950.0"
            ],
            "text/html": [
              "\n",
              "  <div id=\"df-1d81bd36-2908-4075-9563-c05a2864e5f5\">\n",
              "    <div class=\"colab-df-container\">\n",
              "      <div>\n",
              "<style scoped>\n",
              "    .dataframe tbody tr th:only-of-type {\n",
              "        vertical-align: middle;\n",
              "    }\n",
              "\n",
              "    .dataframe tbody tr th {\n",
              "        vertical-align: top;\n",
              "    }\n",
              "\n",
              "    .dataframe thead th {\n",
              "        text-align: right;\n",
              "    }\n",
              "</style>\n",
              "<table border=\"1\" class=\"dataframe\">\n",
              "  <thead>\n",
              "    <tr style=\"text-align: right;\">\n",
              "      <th></th>\n",
              "      <th>total_payment</th>\n",
              "    </tr>\n",
              "    <tr>\n",
              "      <th>tariff</th>\n",
              "      <th></th>\n",
              "    </tr>\n",
              "  </thead>\n",
              "  <tbody>\n",
              "    <tr>\n",
              "      <th>smart</th>\n",
              "      <td>1021.0</td>\n",
              "    </tr>\n",
              "    <tr>\n",
              "      <th>ultra</th>\n",
              "      <td>1950.0</td>\n",
              "    </tr>\n",
              "  </tbody>\n",
              "</table>\n",
              "</div>\n",
              "      <button class=\"colab-df-convert\" onclick=\"convertToInteractive('df-1d81bd36-2908-4075-9563-c05a2864e5f5')\"\n",
              "              title=\"Convert this dataframe to an interactive table.\"\n",
              "              style=\"display:none;\">\n",
              "        \n",
              "  <svg xmlns=\"http://www.w3.org/2000/svg\" height=\"24px\"viewBox=\"0 0 24 24\"\n",
              "       width=\"24px\">\n",
              "    <path d=\"M0 0h24v24H0V0z\" fill=\"none\"/>\n",
              "    <path d=\"M18.56 5.44l.94 2.06.94-2.06 2.06-.94-2.06-.94-.94-2.06-.94 2.06-2.06.94zm-11 1L8.5 8.5l.94-2.06 2.06-.94-2.06-.94L8.5 2.5l-.94 2.06-2.06.94zm10 10l.94 2.06.94-2.06 2.06-.94-2.06-.94-.94-2.06-.94 2.06-2.06.94z\"/><path d=\"M17.41 7.96l-1.37-1.37c-.4-.4-.92-.59-1.43-.59-.52 0-1.04.2-1.43.59L10.3 9.45l-7.72 7.72c-.78.78-.78 2.05 0 2.83L4 21.41c.39.39.9.59 1.41.59.51 0 1.02-.2 1.41-.59l7.78-7.78 2.81-2.81c.8-.78.8-2.07 0-2.86zM5.41 20L4 18.59l7.72-7.72 1.47 1.35L5.41 20z\"/>\n",
              "  </svg>\n",
              "      </button>\n",
              "      \n",
              "  <style>\n",
              "    .colab-df-container {\n",
              "      display:flex;\n",
              "      flex-wrap:wrap;\n",
              "      gap: 12px;\n",
              "    }\n",
              "\n",
              "    .colab-df-convert {\n",
              "      background-color: #E8F0FE;\n",
              "      border: none;\n",
              "      border-radius: 50%;\n",
              "      cursor: pointer;\n",
              "      display: none;\n",
              "      fill: #1967D2;\n",
              "      height: 32px;\n",
              "      padding: 0 0 0 0;\n",
              "      width: 32px;\n",
              "    }\n",
              "\n",
              "    .colab-df-convert:hover {\n",
              "      background-color: #E2EBFA;\n",
              "      box-shadow: 0px 1px 2px rgba(60, 64, 67, 0.3), 0px 1px 3px 1px rgba(60, 64, 67, 0.15);\n",
              "      fill: #174EA6;\n",
              "    }\n",
              "\n",
              "    [theme=dark] .colab-df-convert {\n",
              "      background-color: #3B4455;\n",
              "      fill: #D2E3FC;\n",
              "    }\n",
              "\n",
              "    [theme=dark] .colab-df-convert:hover {\n",
              "      background-color: #434B5C;\n",
              "      box-shadow: 0px 1px 3px 1px rgba(0, 0, 0, 0.15);\n",
              "      filter: drop-shadow(0px 1px 2px rgba(0, 0, 0, 0.3));\n",
              "      fill: #FFFFFF;\n",
              "    }\n",
              "  </style>\n",
              "\n",
              "      <script>\n",
              "        const buttonEl =\n",
              "          document.querySelector('#df-1d81bd36-2908-4075-9563-c05a2864e5f5 button.colab-df-convert');\n",
              "        buttonEl.style.display =\n",
              "          google.colab.kernel.accessAllowed ? 'block' : 'none';\n",
              "\n",
              "        async function convertToInteractive(key) {\n",
              "          const element = document.querySelector('#df-1d81bd36-2908-4075-9563-c05a2864e5f5');\n",
              "          const dataTable =\n",
              "            await google.colab.kernel.invokeFunction('convertToInteractive',\n",
              "                                                     [key], {});\n",
              "          if (!dataTable) return;\n",
              "\n",
              "          const docLinkHtml = 'Like what you see? Visit the ' +\n",
              "            '<a target=\"_blank\" href=https://colab.research.google.com/notebooks/data_table.ipynb>data table notebook</a>'\n",
              "            + ' to learn more about interactive tables.';\n",
              "          element.innerHTML = '';\n",
              "          dataTable['output_type'] = 'display_data';\n",
              "          await google.colab.output.renderOutput(dataTable, element);\n",
              "          const docLink = document.createElement('div');\n",
              "          docLink.innerHTML = docLinkHtml;\n",
              "          element.appendChild(docLink);\n",
              "        }\n",
              "      </script>\n",
              "    </div>\n",
              "  </div>\n",
              "  "
            ]
          },
          "metadata": {},
          "execution_count": 63
        },
        {
          "output_type": "display_data",
          "data": {
            "text/plain": [
              "<Figure size 360x360 with 1 Axes>"
            ],
            "image/png": "[encoded data removed]"
          },
          "metadata": {
            "image/png": {
              "width": 352,
              "height": 351
            },
            "needs_background": "light"
          }
        }
      ],
      "source": [
        "# создаем группировку со средней выручкой по тарифам\n",
        "\n",
        "tariffs_pays = df \\\n",
        "    .groupby(['tariff']) \\\n",
        "    .agg({'total_payment' : 'median'})\n",
        "\n",
        "sns.catplot(x='tariff', y='total_payment', kind='box', data=df, orient='v');\n",
        "tariffs_pays"
      ]
    },
    {
      "cell_type": "markdown",
      "metadata": {
        "id": "B3aTy_ClfTe6"
      },
      "source": [
        "**Отвергаем нулевую гипотезу.**\n",
        "\n",
        "Построив группировку и визуализировав даные, видим, что выручка от тарифа `ultra` больше тарифа `smart` почти в 2 раза. \n",
        "Кроме того, пользователи тарифа `smart` переплачивают сверх тарифной платы больше. \n",
        "\n",
        "Средняя выручка от пользователей тарифов «Ультра» и «Смарт» различаются."
      ]
    },
    {
      "cell_type": "markdown",
      "metadata": {
        "id": "Wxl7-3WvfTe6"
      },
      "source": [
        "### Гипотеза №2: средняя выручка пользователей из Москвы отличается от выручки пользователей из других регионов."
      ]
    },
    {
      "cell_type": "markdown",
      "metadata": {
        "id": "7V1z2TjEfTe6"
      },
      "source": [
        "- $H_0$: средняя выручка пользователей из Москвы равна средней выручке пользователей из других регионов\n",
        "- $H_1$: средняя выручка пользователей из Москвы отличается от средней выручки пользователей из других регионов\n",
        "\n",
        "Нулевой гипотезой считается принимаемое по умолчанию предположение о том, что не существует связи между двумя наблюдаемыми событиями."
      ]
    },
    {
      "cell_type": "code",
      "execution_count": 64,
      "metadata": {
        "id": "x9ifNy6-fTe6",
        "outputId": "8cfd5671-9148-4f50-c110-e6a1410a8e6c",
        "colab": {
          "base_uri": "https://localhost:8080/"
        }
      },
      "outputs": [
        {
          "output_type": "stream",
          "name": "stdout",
          "text": [
            "p-значение: 0.5216952110000278\n",
            "Не получилось отвергнуть нулевую гипотезу\n"
          ]
        }
      ],
      "source": [
        "# создаем выборки с платежами из Москвы и остальных регионов\n",
        "msk_pays = df.query('city == \"Москва\"')['total_payment']\n",
        "russia_pays = df.query('city != \"Москва\"')['total_payment']\n",
        "\n",
        "alpha = .05 # критический уровень статистической значимости\n",
        "\n",
        "results = st.ttest_ind(\n",
        "    msk_pays, russia_pays, \n",
        "    equal_var=False) # используется критерий Уэлтча, так как дисперсии выборок различаются\n",
        "\n",
        "print('p-значение:', results.pvalue) \n",
        "\n",
        "if (results.pvalue < alpha):\n",
        "    print(\"Отвергаем нулевую гипотезу\")\n",
        "else:\n",
        "    print(\"Не получилось отвергнуть нулевую гипотезу\")"
      ]
    },
    {
      "cell_type": "code",
      "execution_count": 65,
      "metadata": {
        "id": "rPx2ebN7fTe6",
        "outputId": "7caf53cd-1db9-42cf-9f32-721841f28d82",
        "colab": {
          "base_uri": "https://localhost:8080/",
          "height": 494
        }
      },
      "outputs": [
        {
          "output_type": "execute_result",
          "data": {
            "text/plain": [
              "               total_payment\n",
              "region                      \n",
              "Другой регион         1583.0\n",
              "Москва                1750.0"
            ],
            "text/html": [
              "\n",
              "  <div id=\"df-44ec624a-9895-46bc-9c97-cfef693ed417\">\n",
              "    <div class=\"colab-df-container\">\n",
              "      <div>\n",
              "<style scoped>\n",
              "    .dataframe tbody tr th:only-of-type {\n",
              "        vertical-align: middle;\n",
              "    }\n",
              "\n",
              "    .dataframe tbody tr th {\n",
              "        vertical-align: top;\n",
              "    }\n",
              "\n",
              "    .dataframe thead th {\n",
              "        text-align: right;\n",
              "    }\n",
              "</style>\n",
              "<table border=\"1\" class=\"dataframe\">\n",
              "  <thead>\n",
              "    <tr style=\"text-align: right;\">\n",
              "      <th></th>\n",
              "      <th>total_payment</th>\n",
              "    </tr>\n",
              "    <tr>\n",
              "      <th>region</th>\n",
              "      <th></th>\n",
              "    </tr>\n",
              "  </thead>\n",
              "  <tbody>\n",
              "    <tr>\n",
              "      <th>Другой регион</th>\n",
              "      <td>1583.0</td>\n",
              "    </tr>\n",
              "    <tr>\n",
              "      <th>Москва</th>\n",
              "      <td>1750.0</td>\n",
              "    </tr>\n",
              "  </tbody>\n",
              "</table>\n",
              "</div>\n",
              "      <button class=\"colab-df-convert\" onclick=\"convertToInteractive('df-44ec624a-9895-46bc-9c97-cfef693ed417')\"\n",
              "              title=\"Convert this dataframe to an interactive table.\"\n",
              "              style=\"display:none;\">\n",
              "        \n",
              "  <svg xmlns=\"http://www.w3.org/2000/svg\" height=\"24px\"viewBox=\"0 0 24 24\"\n",
              "       width=\"24px\">\n",
              "    <path d=\"M0 0h24v24H0V0z\" fill=\"none\"/>\n",
              "    <path d=\"M18.56 5.44l.94 2.06.94-2.06 2.06-.94-2.06-.94-.94-2.06-.94 2.06-2.06.94zm-11 1L8.5 8.5l.94-2.06 2.06-.94-2.06-.94L8.5 2.5l-.94 2.06-2.06.94zm10 10l.94 2.06.94-2.06 2.06-.94-2.06-.94-.94-2.06-.94 2.06-2.06.94z\"/><path d=\"M17.41 7.96l-1.37-1.37c-.4-.4-.92-.59-1.43-.59-.52 0-1.04.2-1.43.59L10.3 9.45l-7.72 7.72c-.78.78-.78 2.05 0 2.83L4 21.41c.39.39.9.59 1.41.59.51 0 1.02-.2 1.41-.59l7.78-7.78 2.81-2.81c.8-.78.8-2.07 0-2.86zM5.41 20L4 18.59l7.72-7.72 1.47 1.35L5.41 20z\"/>\n",
              "  </svg>\n",
              "      </button>\n",
              "      \n",
              "  <style>\n",
              "    .colab-df-container {\n",
              "      display:flex;\n",
              "      flex-wrap:wrap;\n",
              "      gap: 12px;\n",
              "    }\n",
              "\n",
              "    .colab-df-convert {\n",
              "      background-color: #E8F0FE;\n",
              "      border: none;\n",
              "      border-radius: 50%;\n",
              "      cursor: pointer;\n",
              "      display: none;\n",
              "      fill: #1967D2;\n",
              "      height: 32px;\n",
              "      padding: 0 0 0 0;\n",
              "      width: 32px;\n",
              "    }\n",
              "\n",
              "    .colab-df-convert:hover {\n",
              "      background-color: #E2EBFA;\n",
              "      box-shadow: 0px 1px 2px rgba(60, 64, 67, 0.3), 0px 1px 3px 1px rgba(60, 64, 67, 0.15);\n",
              "      fill: #174EA6;\n",
              "    }\n",
              "\n",
              "    [theme=dark] .colab-df-convert {\n",
              "      background-color: #3B4455;\n",
              "      fill: #D2E3FC;\n",
              "    }\n",
              "\n",
              "    [theme=dark] .colab-df-convert:hover {\n",
              "      background-color: #434B5C;\n",
              "      box-shadow: 0px 1px 3px 1px rgba(0, 0, 0, 0.15);\n",
              "      filter: drop-shadow(0px 1px 2px rgba(0, 0, 0, 0.3));\n",
              "      fill: #FFFFFF;\n",
              "    }\n",
              "  </style>\n",
              "\n",
              "      <script>\n",
              "        const buttonEl =\n",
              "          document.querySelector('#df-44ec624a-9895-46bc-9c97-cfef693ed417 button.colab-df-convert');\n",
              "        buttonEl.style.display =\n",
              "          google.colab.kernel.accessAllowed ? 'block' : 'none';\n",
              "\n",
              "        async function convertToInteractive(key) {\n",
              "          const element = document.querySelector('#df-44ec624a-9895-46bc-9c97-cfef693ed417');\n",
              "          const dataTable =\n",
              "            await google.colab.kernel.invokeFunction('convertToInteractive',\n",
              "                                                     [key], {});\n",
              "          if (!dataTable) return;\n",
              "\n",
              "          const docLinkHtml = 'Like what you see? Visit the ' +\n",
              "            '<a target=\"_blank\" href=https://colab.research.google.com/notebooks/data_table.ipynb>data table notebook</a>'\n",
              "            + ' to learn more about interactive tables.';\n",
              "          element.innerHTML = '';\n",
              "          dataTable['output_type'] = 'display_data';\n",
              "          await google.colab.output.renderOutput(dataTable, element);\n",
              "          const docLink = document.createElement('div');\n",
              "          docLink.innerHTML = docLinkHtml;\n",
              "          element.appendChild(docLink);\n",
              "        }\n",
              "      </script>\n",
              "    </div>\n",
              "  </div>\n",
              "  "
            ]
          },
          "metadata": {},
          "execution_count": 65
        },
        {
          "output_type": "display_data",
          "data": {
            "text/plain": [
              "<Figure size 360x360 with 1 Axes>"
            ],
            "image/png": "[encoded data removed]"
          },
          "metadata": {
            "image/png": {
              "width": 352,
              "height": 351
            },
            "needs_background": "light"
          }
        }
      ],
      "source": [
        "# функция для определения региона – Москва или нет\n",
        "def rus_reg(city):\n",
        "    if city == 'Москва':\n",
        "        return 'Москва'\n",
        "    return 'Другой регион'\n",
        "    \n",
        "# создает столбец с обозначением региона, применив функцию\n",
        "df['region'] = df['city'].apply(rus_reg)\n",
        "region_pays = df \\\n",
        "    .groupby(['region']) \\\n",
        "    .agg({'total_payment' : 'median'})\n",
        "\n",
        "sns.catplot(x='region', y='total_payment', kind='box', data=df, orient='v');\n",
        "region_pays"
      ]
    },
    {
      "cell_type": "markdown",
      "metadata": {
        "id": "Ky-R-41efTe9"
      },
      "source": [
        "**Нулевую гипотезу не удалось отвергнуть.**\n",
        "\n",
        "Средняя выручка пользователей из Москвы равна средней выручке пользователей из других регионов или очень близка к ней.\n"
      ]
    },
    {
      "cell_type": "markdown",
      "metadata": {
        "id": "WYh6w8ZufTe9"
      },
      "source": [
        "### Вывод\n",
        "\n",
        "Мы проверили две гипотезы и готовы предоставить заказчику результаты анализа.\n",
        "\n",
        "1. Нулевую гипотезу о равенстве доходов от двух тарифов получилось опровергнуть\n",
        "2. Нулевую гипотезу о равенстве доходов от клиентов из разных регионов не получилось отвергнуть"
      ]
    },
    {
      "cell_type": "markdown",
      "metadata": {
        "id": "1WnPo52rfTe9"
      },
      "source": [
        "## Общий вывод"
      ]
    },
    {
      "cell_type": "markdown",
      "metadata": {
        "id": "XTZZzfodfTe9"
      },
      "source": [
        "Мы проанализировали выборку заказчика и сделали выводы по нескольким гипотезам.\n",
        "\n",
        "**Результаты статистического анализа:**\n",
        "- доходы от пользователей с тарифом не равны: доход от пользователей `ultra` выше, чем от пользователей `smart`. Интересно, что хотя изначально тариф `smart` более дешевый, пользователям не хватает выделенных лимитом минут, сообщений и трафика и приходится доплачивать (в среднем – 515 рублей, практически полную стоимость тарифа);\n",
        "- доходы от пользователей из Москвы не отличаются от доходов от пользователей в регионах, по крайней мере разница статистически не значима. Разница в платежах составляет в среднем 120 рублей.\n",
        "\n",
        "\n",
        "**Если затраты на обслуживание тарифов для оператора одинаковы, то более выгодным по доходности можно считать тариф `ultra`.**"
      ]
    }
  ],
  "metadata": {
    "ExecuteTimeLog": [
      {
        "duration": 926,
        "start_time": "2022-01-22T16:13:04.982Z"
      },
      {
        "duration": 2032,
        "start_time": "2022-01-22T16:31:13.401Z"
      },
      {
        "duration": 2651,
        "start_time": "2022-01-22T16:32:16.189Z"
      },
      {
        "duration": 98,
        "start_time": "2022-01-22T16:32:39.940Z"
      },
      {
        "duration": 93,
        "start_time": "2022-01-22T16:32:44.142Z"
      },
      {
        "duration": 392,
        "start_time": "2022-01-22T16:32:53.234Z"
      },
      {
        "duration": 879,
        "start_time": "2022-01-22T16:33:15.102Z"
      },
      {
        "duration": 283,
        "start_time": "2022-01-22T16:33:34.353Z"
      },
      {
        "duration": 2650,
        "start_time": "2022-01-22T16:33:41.500Z"
      },
      {
        "duration": 267,
        "start_time": "2022-01-22T16:33:48.335Z"
      },
      {
        "duration": 2,
        "start_time": "2022-01-22T16:35:18.135Z"
      },
      {
        "duration": 249,
        "start_time": "2022-01-22T16:35:18.543Z"
      },
      {
        "duration": 294,
        "start_time": "2022-01-22T16:35:19.358Z"
      },
      {
        "duration": 194,
        "start_time": "2022-01-22T16:35:19.654Z"
      },
      {
        "duration": 39,
        "start_time": "2022-01-22T16:35:19.850Z"
      },
      {
        "duration": 57,
        "start_time": "2022-01-22T16:35:19.989Z"
      },
      {
        "duration": 46,
        "start_time": "2022-01-22T16:35:37.611Z"
      },
      {
        "duration": 19,
        "start_time": "2022-01-22T16:35:43.829Z"
      },
      {
        "duration": 16,
        "start_time": "2022-01-22T16:35:49.534Z"
      },
      {
        "duration": 14,
        "start_time": "2022-01-22T16:35:55.674Z"
      },
      {
        "duration": 6,
        "start_time": "2022-01-22T16:36:01.503Z"
      },
      {
        "duration": 7,
        "start_time": "2022-01-22T16:36:05.275Z"
      },
      {
        "duration": 184,
        "start_time": "2022-01-22T16:37:25.536Z"
      },
      {
        "duration": 2,
        "start_time": "2022-01-22T16:38:20.361Z"
      },
      {
        "duration": 48,
        "start_time": "2022-01-22T16:38:21.641Z"
      },
      {
        "duration": 47,
        "start_time": "2022-01-22T16:38:27.595Z"
      },
      {
        "duration": 45,
        "start_time": "2022-01-22T16:38:43.212Z"
      },
      {
        "duration": 51,
        "start_time": "2022-01-22T16:38:46.974Z"
      },
      {
        "duration": 48,
        "start_time": "2022-01-22T16:38:51.072Z"
      },
      {
        "duration": 52,
        "start_time": "2022-01-22T16:39:06.218Z"
      },
      {
        "duration": 77,
        "start_time": "2022-01-22T16:39:11.954Z"
      },
      {
        "duration": 77,
        "start_time": "2022-01-22T16:39:17.880Z"
      },
      {
        "duration": 66,
        "start_time": "2022-01-22T16:39:27.087Z"
      },
      {
        "duration": 60,
        "start_time": "2022-01-22T16:40:05.591Z"
      },
      {
        "duration": 302,
        "start_time": "2022-01-22T16:40:19.204Z"
      },
      {
        "duration": 47,
        "start_time": "2022-01-22T16:40:23.425Z"
      },
      {
        "duration": 70,
        "start_time": "2022-01-22T16:40:34.747Z"
      },
      {
        "duration": 311,
        "start_time": "2022-01-22T16:41:05.327Z"
      },
      {
        "duration": 379,
        "start_time": "2022-01-22T16:41:21.477Z"
      },
      {
        "duration": 306,
        "start_time": "2022-01-22T16:45:37.791Z"
      },
      {
        "duration": 46,
        "start_time": "2022-01-22T16:45:47.384Z"
      },
      {
        "duration": 61,
        "start_time": "2022-01-22T16:47:37.433Z"
      },
      {
        "duration": 86,
        "start_time": "2022-01-22T16:47:41.775Z"
      },
      {
        "duration": 50,
        "start_time": "2022-01-22T16:47:46.729Z"
      },
      {
        "duration": 6,
        "start_time": "2022-01-22T16:49:15.602Z"
      },
      {
        "duration": 4,
        "start_time": "2022-01-22T16:49:23.192Z"
      },
      {
        "duration": 4,
        "start_time": "2022-01-22T16:49:25.446Z"
      },
      {
        "duration": 3,
        "start_time": "2022-01-22T16:49:28.753Z"
      },
      {
        "duration": 13,
        "start_time": "2022-01-22T16:51:38.234Z"
      },
      {
        "duration": 10,
        "start_time": "2022-01-22T16:51:47.359Z"
      },
      {
        "duration": 8,
        "start_time": "2022-01-22T16:51:56.316Z"
      },
      {
        "duration": 18,
        "start_time": "2022-01-22T16:52:28.743Z"
      },
      {
        "duration": 99,
        "start_time": "2022-01-22T16:52:35.323Z"
      },
      {
        "duration": 18,
        "start_time": "2022-01-22T16:52:43.492Z"
      },
      {
        "duration": 17,
        "start_time": "2022-01-22T16:53:12.465Z"
      },
      {
        "duration": 3,
        "start_time": "2022-01-22T16:53:18.705Z"
      },
      {
        "duration": 17,
        "start_time": "2022-01-22T16:53:26.925Z"
      },
      {
        "duration": 8,
        "start_time": "2022-01-22T16:53:37.936Z"
      },
      {
        "duration": 8,
        "start_time": "2022-01-22T16:54:10.758Z"
      },
      {
        "duration": 8,
        "start_time": "2022-01-22T16:54:27.186Z"
      },
      {
        "duration": 8,
        "start_time": "2022-01-22T16:54:28.611Z"
      },
      {
        "duration": 14,
        "start_time": "2022-01-22T16:56:03.045Z"
      },
      {
        "duration": 360,
        "start_time": "2022-01-22T16:57:00.219Z"
      },
      {
        "duration": 9,
        "start_time": "2022-01-22T16:57:21.576Z"
      },
      {
        "duration": 6,
        "start_time": "2022-01-22T16:57:44.571Z"
      },
      {
        "duration": 9,
        "start_time": "2022-01-22T16:57:51.036Z"
      },
      {
        "duration": 1087,
        "start_time": "2022-01-22T17:17:12.005Z"
      },
      {
        "duration": 999,
        "start_time": "2022-01-22T17:17:15.024Z"
      },
      {
        "duration": 3,
        "start_time": "2022-01-22T17:17:23.018Z"
      },
      {
        "duration": 51,
        "start_time": "2022-01-22T17:17:23.631Z"
      },
      {
        "duration": 325,
        "start_time": "2022-01-22T17:18:32.145Z"
      },
      {
        "duration": 295,
        "start_time": "2022-01-22T17:18:40.112Z"
      },
      {
        "duration": 323,
        "start_time": "2022-01-22T17:18:42.980Z"
      },
      {
        "duration": 1160,
        "start_time": "2022-01-22T17:19:04.056Z"
      },
      {
        "duration": 2376,
        "start_time": "2022-01-22T17:19:05.218Z"
      },
      {
        "duration": 3,
        "start_time": "2022-01-22T17:19:07.598Z"
      },
      {
        "duration": 54,
        "start_time": "2022-01-22T17:19:07.602Z"
      },
      {
        "duration": 364,
        "start_time": "2022-01-22T17:20:24.394Z"
      },
      {
        "duration": 317,
        "start_time": "2022-01-22T17:20:30.874Z"
      },
      {
        "duration": 332,
        "start_time": "2022-01-22T17:22:14.149Z"
      },
      {
        "duration": 1125,
        "start_time": "2022-01-22T17:22:18.282Z"
      },
      {
        "duration": 2,
        "start_time": "2022-01-22T17:22:25.647Z"
      },
      {
        "duration": 854,
        "start_time": "2022-01-22T17:22:26.011Z"
      },
      {
        "duration": 2,
        "start_time": "2022-01-22T17:22:26.867Z"
      },
      {
        "duration": 7,
        "start_time": "2022-01-22T17:22:58.454Z"
      },
      {
        "duration": 15,
        "start_time": "2022-01-22T17:23:04.257Z"
      },
      {
        "duration": 13,
        "start_time": "2022-01-22T17:23:34.612Z"
      },
      {
        "duration": 25,
        "start_time": "2022-01-22T17:23:49.909Z"
      },
      {
        "duration": 24,
        "start_time": "2022-01-22T17:23:54.283Z"
      },
      {
        "duration": 26,
        "start_time": "2022-01-22T17:23:56.510Z"
      },
      {
        "duration": 25,
        "start_time": "2022-01-22T17:24:27.762Z"
      },
      {
        "duration": 22,
        "start_time": "2022-01-22T17:25:04.596Z"
      },
      {
        "duration": 12,
        "start_time": "2022-01-22T17:25:27.515Z"
      },
      {
        "duration": 13,
        "start_time": "2022-01-22T17:25:41.077Z"
      },
      {
        "duration": 24,
        "start_time": "2022-01-22T17:25:43.785Z"
      },
      {
        "duration": 23,
        "start_time": "2022-01-22T17:25:44.071Z"
      },
      {
        "duration": 19,
        "start_time": "2022-01-22T17:25:56.310Z"
      },
      {
        "duration": 11,
        "start_time": "2022-01-22T17:26:09.097Z"
      },
      {
        "duration": 1091,
        "start_time": "2022-01-22T17:37:13.722Z"
      },
      {
        "duration": 835,
        "start_time": "2022-01-22T17:37:14.816Z"
      },
      {
        "duration": 18,
        "start_time": "2022-01-22T17:37:15.653Z"
      },
      {
        "duration": 27,
        "start_time": "2022-01-22T17:37:15.673Z"
      },
      {
        "duration": 24,
        "start_time": "2022-01-22T17:37:15.702Z"
      },
      {
        "duration": 46,
        "start_time": "2022-01-22T17:37:15.728Z"
      },
      {
        "duration": 12,
        "start_time": "2022-01-22T17:37:15.775Z"
      },
      {
        "duration": 3,
        "start_time": "2022-01-22T17:37:15.789Z"
      },
      {
        "duration": 339,
        "start_time": "2022-01-22T17:40:37.318Z"
      },
      {
        "duration": 1090,
        "start_time": "2022-01-22T17:40:43.721Z"
      },
      {
        "duration": 873,
        "start_time": "2022-01-22T17:40:44.813Z"
      },
      {
        "duration": 15,
        "start_time": "2022-01-22T17:40:45.688Z"
      },
      {
        "duration": 24,
        "start_time": "2022-01-22T17:40:47.186Z"
      },
      {
        "duration": 21,
        "start_time": "2022-01-22T17:42:20.068Z"
      },
      {
        "duration": 21,
        "start_time": "2022-01-22T17:42:23.765Z"
      },
      {
        "duration": 14,
        "start_time": "2022-01-22T17:44:07.807Z"
      },
      {
        "duration": 19,
        "start_time": "2022-01-22T17:44:43.209Z"
      },
      {
        "duration": 19,
        "start_time": "2022-01-22T17:44:46.073Z"
      },
      {
        "duration": 23,
        "start_time": "2022-01-22T17:45:22.406Z"
      },
      {
        "duration": 23,
        "start_time": "2022-01-22T17:45:27.128Z"
      },
      {
        "duration": 22,
        "start_time": "2022-01-22T17:45:57.215Z"
      },
      {
        "duration": 18,
        "start_time": "2022-01-22T17:46:04.846Z"
      },
      {
        "duration": 12,
        "start_time": "2022-01-22T17:48:28.731Z"
      },
      {
        "duration": 120,
        "start_time": "2022-01-22T17:51:03.549Z"
      },
      {
        "duration": 107,
        "start_time": "2022-01-22T17:52:21.839Z"
      },
      {
        "duration": 107,
        "start_time": "2022-01-22T17:52:26.464Z"
      },
      {
        "duration": 108,
        "start_time": "2022-01-22T17:52:30.745Z"
      },
      {
        "duration": 103,
        "start_time": "2022-01-22T17:52:35.537Z"
      },
      {
        "duration": 102,
        "start_time": "2022-01-22T17:52:44.313Z"
      },
      {
        "duration": 10,
        "start_time": "2022-01-22T18:00:01.629Z"
      },
      {
        "duration": 345,
        "start_time": "2022-01-22T18:00:12.497Z"
      },
      {
        "duration": 4,
        "start_time": "2022-01-22T18:00:15.871Z"
      },
      {
        "duration": 12,
        "start_time": "2022-01-22T18:00:28.164Z"
      },
      {
        "duration": 13,
        "start_time": "2022-01-22T18:01:17.938Z"
      },
      {
        "duration": 8,
        "start_time": "2022-01-22T18:01:31.790Z"
      },
      {
        "duration": 750,
        "start_time": "2022-01-22T18:01:36.541Z"
      },
      {
        "duration": 1113,
        "start_time": "2022-01-22T18:01:48.207Z"
      },
      {
        "duration": 1870,
        "start_time": "2022-01-22T18:01:49.322Z"
      },
      {
        "duration": 16,
        "start_time": "2022-01-22T18:01:51.194Z"
      },
      {
        "duration": 22,
        "start_time": "2022-01-22T18:01:51.212Z"
      },
      {
        "duration": 20,
        "start_time": "2022-01-22T18:01:51.236Z"
      },
      {
        "duration": 25,
        "start_time": "2022-01-22T18:01:51.257Z"
      },
      {
        "duration": 9,
        "start_time": "2022-01-22T18:01:51.284Z"
      },
      {
        "duration": 13,
        "start_time": "2022-01-22T18:01:51.295Z"
      },
      {
        "duration": 8,
        "start_time": "2022-01-22T18:01:51.309Z"
      },
      {
        "duration": 142,
        "start_time": "2022-01-22T18:01:51.319Z"
      },
      {
        "duration": 2,
        "start_time": "2022-01-22T18:01:51.463Z"
      },
      {
        "duration": 2,
        "start_time": "2022-01-22T18:02:09.873Z"
      },
      {
        "duration": 2619,
        "start_time": "2022-01-22T18:02:10.252Z"
      },
      {
        "duration": 12,
        "start_time": "2022-01-22T18:02:12.873Z"
      },
      {
        "duration": 25,
        "start_time": "2022-01-22T18:02:17.924Z"
      },
      {
        "duration": 22,
        "start_time": "2022-01-22T18:02:19.985Z"
      },
      {
        "duration": 22,
        "start_time": "2022-01-22T18:03:44.196Z"
      },
      {
        "duration": 22,
        "start_time": "2022-01-22T18:03:48.662Z"
      },
      {
        "duration": 1084,
        "start_time": "2022-01-22T18:03:57.729Z"
      },
      {
        "duration": 971,
        "start_time": "2022-01-22T18:03:58.815Z"
      },
      {
        "duration": 16,
        "start_time": "2022-01-22T18:03:59.789Z"
      },
      {
        "duration": 25,
        "start_time": "2022-01-22T18:03:59.807Z"
      },
      {
        "duration": 21,
        "start_time": "2022-01-22T18:03:59.833Z"
      },
      {
        "duration": 17,
        "start_time": "2022-01-22T18:03:59.871Z"
      },
      {
        "duration": 10,
        "start_time": "2022-01-22T18:03:59.889Z"
      },
      {
        "duration": 11,
        "start_time": "2022-01-22T18:03:59.901Z"
      },
      {
        "duration": 7,
        "start_time": "2022-01-22T18:03:59.914Z"
      },
      {
        "duration": 142,
        "start_time": "2022-01-22T18:03:59.923Z"
      },
      {
        "duration": 5,
        "start_time": "2022-01-22T18:04:00.067Z"
      },
      {
        "duration": 6,
        "start_time": "2022-01-22T18:04:17.054Z"
      },
      {
        "duration": 392,
        "start_time": "2022-01-22T18:04:24.558Z"
      },
      {
        "duration": 322,
        "start_time": "2022-01-22T18:04:26.628Z"
      },
      {
        "duration": 320,
        "start_time": "2022-01-22T18:04:47.865Z"
      },
      {
        "duration": 328,
        "start_time": "2022-01-22T18:05:00.929Z"
      },
      {
        "duration": 7,
        "start_time": "2022-01-22T18:05:09.489Z"
      },
      {
        "duration": 1130,
        "start_time": "2022-01-22T18:05:20.211Z"
      },
      {
        "duration": 1027,
        "start_time": "2022-01-22T18:05:21.343Z"
      },
      {
        "duration": 17,
        "start_time": "2022-01-22T18:05:22.374Z"
      },
      {
        "duration": 24,
        "start_time": "2022-01-22T18:05:22.392Z"
      },
      {
        "duration": 21,
        "start_time": "2022-01-22T18:05:22.417Z"
      },
      {
        "duration": 46,
        "start_time": "2022-01-22T18:05:22.439Z"
      },
      {
        "duration": 10,
        "start_time": "2022-01-22T18:05:22.486Z"
      },
      {
        "duration": 11,
        "start_time": "2022-01-22T18:05:22.499Z"
      },
      {
        "duration": 7,
        "start_time": "2022-01-22T18:05:22.511Z"
      },
      {
        "duration": 141,
        "start_time": "2022-01-22T18:05:22.519Z"
      },
      {
        "duration": 3,
        "start_time": "2022-01-22T18:05:22.661Z"
      },
      {
        "duration": 399,
        "start_time": "2022-01-22T18:05:48.826Z"
      },
      {
        "duration": 11,
        "start_time": "2022-01-22T18:05:57.784Z"
      },
      {
        "duration": 1174,
        "start_time": "2022-01-22T18:06:04.747Z"
      },
      {
        "duration": 986,
        "start_time": "2022-01-22T18:06:05.922Z"
      },
      {
        "duration": 17,
        "start_time": "2022-01-22T18:06:06.913Z"
      },
      {
        "duration": 25,
        "start_time": "2022-01-22T18:06:06.932Z"
      },
      {
        "duration": 22,
        "start_time": "2022-01-22T18:06:06.959Z"
      },
      {
        "duration": 21,
        "start_time": "2022-01-22T18:06:06.983Z"
      },
      {
        "duration": 11,
        "start_time": "2022-01-22T18:06:07.006Z"
      },
      {
        "duration": 11,
        "start_time": "2022-01-22T18:06:07.020Z"
      },
      {
        "duration": 40,
        "start_time": "2022-01-22T18:06:07.032Z"
      },
      {
        "duration": 121,
        "start_time": "2022-01-22T18:06:07.074Z"
      },
      {
        "duration": 2,
        "start_time": "2022-01-22T18:06:07.197Z"
      },
      {
        "duration": 366,
        "start_time": "2022-01-22T18:06:16.480Z"
      },
      {
        "duration": 308,
        "start_time": "2022-01-22T18:06:20.172Z"
      },
      {
        "duration": 303,
        "start_time": "2022-01-22T18:06:26.273Z"
      },
      {
        "duration": 1145,
        "start_time": "2022-01-22T18:06:34.359Z"
      },
      {
        "duration": 1831,
        "start_time": "2022-01-22T18:06:35.506Z"
      },
      {
        "duration": 16,
        "start_time": "2022-01-22T18:06:37.339Z"
      },
      {
        "duration": 24,
        "start_time": "2022-01-22T18:06:37.357Z"
      },
      {
        "duration": 21,
        "start_time": "2022-01-22T18:06:37.383Z"
      },
      {
        "duration": 16,
        "start_time": "2022-01-22T18:06:37.406Z"
      },
      {
        "duration": 10,
        "start_time": "2022-01-22T18:06:37.424Z"
      },
      {
        "duration": 40,
        "start_time": "2022-01-22T18:06:37.436Z"
      },
      {
        "duration": 19,
        "start_time": "2022-01-22T18:06:37.477Z"
      },
      {
        "duration": 132,
        "start_time": "2022-01-22T18:06:37.498Z"
      },
      {
        "duration": 2,
        "start_time": "2022-01-22T18:06:37.632Z"
      },
      {
        "duration": 5,
        "start_time": "2022-01-22T18:06:59.148Z"
      },
      {
        "duration": 1231,
        "start_time": "2022-01-22T18:07:04.598Z"
      },
      {
        "duration": 1061,
        "start_time": "2022-01-22T18:07:05.831Z"
      },
      {
        "duration": 16,
        "start_time": "2022-01-22T18:07:06.894Z"
      },
      {
        "duration": 25,
        "start_time": "2022-01-22T18:07:06.912Z"
      },
      {
        "duration": 21,
        "start_time": "2022-01-22T18:07:06.939Z"
      },
      {
        "duration": 28,
        "start_time": "2022-01-22T18:07:06.961Z"
      },
      {
        "duration": 13,
        "start_time": "2022-01-22T18:07:06.991Z"
      },
      {
        "duration": 12,
        "start_time": "2022-01-22T18:07:07.007Z"
      },
      {
        "duration": 7,
        "start_time": "2022-01-22T18:07:07.021Z"
      },
      {
        "duration": 45,
        "start_time": "2022-01-22T18:07:07.030Z"
      },
      {
        "duration": 129,
        "start_time": "2022-01-22T18:07:07.077Z"
      },
      {
        "duration": 2,
        "start_time": "2022-01-22T18:07:07.208Z"
      },
      {
        "duration": 4,
        "start_time": "2022-01-22T18:07:23.587Z"
      },
      {
        "duration": 4,
        "start_time": "2022-01-22T18:07:28.131Z"
      },
      {
        "duration": 13,
        "start_time": "2022-01-22T18:07:33.688Z"
      },
      {
        "duration": 435,
        "start_time": "2022-01-22T18:07:35.733Z"
      },
      {
        "duration": 4,
        "start_time": "2022-01-22T18:07:38.899Z"
      },
      {
        "duration": 1151,
        "start_time": "2022-01-22T18:07:45.071Z"
      },
      {
        "duration": 1865,
        "start_time": "2022-01-22T18:07:46.224Z"
      },
      {
        "duration": 17,
        "start_time": "2022-01-22T18:07:48.091Z"
      },
      {
        "duration": 26,
        "start_time": "2022-01-22T18:07:48.110Z"
      },
      {
        "duration": 21,
        "start_time": "2022-01-22T18:07:48.138Z"
      },
      {
        "duration": 25,
        "start_time": "2022-01-22T18:07:48.161Z"
      },
      {
        "duration": 10,
        "start_time": "2022-01-22T18:07:48.188Z"
      },
      {
        "duration": 12,
        "start_time": "2022-01-22T18:07:48.200Z"
      },
      {
        "duration": 5,
        "start_time": "2022-01-22T18:07:48.214Z"
      },
      {
        "duration": 5,
        "start_time": "2022-01-22T18:07:48.221Z"
      },
      {
        "duration": 151,
        "start_time": "2022-01-22T18:07:48.227Z"
      },
      {
        "duration": 2,
        "start_time": "2022-01-22T18:07:48.379Z"
      },
      {
        "duration": 366,
        "start_time": "2022-01-22T18:09:41.955Z"
      },
      {
        "duration": 3,
        "start_time": "2022-01-22T18:09:49.582Z"
      },
      {
        "duration": 2827,
        "start_time": "2022-01-22T18:09:50.088Z"
      },
      {
        "duration": 1151,
        "start_time": "2022-01-22T18:09:59.885Z"
      },
      {
        "duration": 2836,
        "start_time": "2022-01-22T18:10:03.231Z"
      },
      {
        "duration": 23,
        "start_time": "2022-01-22T18:10:06.744Z"
      },
      {
        "duration": 25,
        "start_time": "2022-01-22T18:10:10.612Z"
      },
      {
        "duration": 21,
        "start_time": "2022-01-22T18:10:12.599Z"
      },
      {
        "duration": 2505,
        "start_time": "2022-01-22T18:11:55.866Z"
      },
      {
        "duration": 15,
        "start_time": "2022-01-22T18:12:00.674Z"
      },
      {
        "duration": 18,
        "start_time": "2022-01-22T18:12:03.531Z"
      },
      {
        "duration": 861,
        "start_time": "2022-01-22T18:13:48.847Z"
      },
      {
        "duration": 13,
        "start_time": "2022-01-22T18:13:50.895Z"
      },
      {
        "duration": 18,
        "start_time": "2022-01-22T18:13:52.623Z"
      },
      {
        "duration": 22,
        "start_time": "2022-01-22T18:13:57.430Z"
      },
      {
        "duration": 15,
        "start_time": "2022-01-22T18:14:07.205Z"
      },
      {
        "duration": 12,
        "start_time": "2022-01-22T18:14:15.465Z"
      },
      {
        "duration": 391,
        "start_time": "2022-01-22T18:14:26.127Z"
      },
      {
        "duration": 1158,
        "start_time": "2022-01-22T18:14:42.055Z"
      },
      {
        "duration": 791,
        "start_time": "2022-01-22T18:14:43.215Z"
      },
      {
        "duration": 14,
        "start_time": "2022-01-22T18:14:44.008Z"
      },
      {
        "duration": 23,
        "start_time": "2022-01-22T18:14:44.024Z"
      },
      {
        "duration": 20,
        "start_time": "2022-01-22T18:14:44.049Z"
      },
      {
        "duration": 17,
        "start_time": "2022-01-22T18:14:44.070Z"
      },
      {
        "duration": 10,
        "start_time": "2022-01-22T18:14:44.089Z"
      },
      {
        "duration": 11,
        "start_time": "2022-01-22T18:14:44.100Z"
      },
      {
        "duration": 6,
        "start_time": "2022-01-22T18:14:44.114Z"
      },
      {
        "duration": 5,
        "start_time": "2022-01-22T18:14:44.121Z"
      },
      {
        "duration": 145,
        "start_time": "2022-01-22T18:14:44.128Z"
      },
      {
        "duration": 3,
        "start_time": "2022-01-22T18:14:44.275Z"
      },
      {
        "duration": 25,
        "start_time": "2022-01-22T18:20:35.597Z"
      },
      {
        "duration": 23,
        "start_time": "2022-01-22T18:20:38.025Z"
      },
      {
        "duration": 18,
        "start_time": "2022-01-22T18:20:41.771Z"
      },
      {
        "duration": 10,
        "start_time": "2022-01-22T18:20:43.774Z"
      },
      {
        "duration": 11,
        "start_time": "2022-01-22T18:20:49.365Z"
      },
      {
        "duration": 102,
        "start_time": "2022-01-22T18:21:22.661Z"
      },
      {
        "duration": 1083,
        "start_time": "2022-01-22T18:21:57.425Z"
      },
      {
        "duration": 1131,
        "start_time": "2022-01-22T18:21:58.510Z"
      },
      {
        "duration": 17,
        "start_time": "2022-01-22T18:21:59.643Z"
      },
      {
        "duration": 24,
        "start_time": "2022-01-22T18:21:59.662Z"
      },
      {
        "duration": 21,
        "start_time": "2022-01-22T18:21:59.688Z"
      },
      {
        "duration": 19,
        "start_time": "2022-01-22T18:21:59.711Z"
      },
      {
        "duration": 11,
        "start_time": "2022-01-22T18:21:59.732Z"
      },
      {
        "duration": 14,
        "start_time": "2022-01-22T18:21:59.772Z"
      },
      {
        "duration": 3,
        "start_time": "2022-01-22T18:21:59.788Z"
      },
      {
        "duration": 3,
        "start_time": "2022-01-22T18:21:59.793Z"
      },
      {
        "duration": 12,
        "start_time": "2022-01-22T18:22:04.696Z"
      },
      {
        "duration": 4,
        "start_time": "2022-01-22T18:22:16.082Z"
      },
      {
        "duration": 4,
        "start_time": "2022-01-22T18:22:24.051Z"
      },
      {
        "duration": 114,
        "start_time": "2022-01-22T18:22:28.391Z"
      },
      {
        "duration": 416,
        "start_time": "2022-01-22T18:23:56.952Z"
      },
      {
        "duration": 94,
        "start_time": "2022-01-22T18:24:43.755Z"
      },
      {
        "duration": 363,
        "start_time": "2022-01-22T18:24:55.729Z"
      },
      {
        "duration": 88,
        "start_time": "2022-01-22T18:25:28.912Z"
      },
      {
        "duration": 8,
        "start_time": "2022-01-22T18:25:47.454Z"
      },
      {
        "duration": 9,
        "start_time": "2022-01-22T18:25:49.348Z"
      },
      {
        "duration": 1117,
        "start_time": "2022-01-22T18:26:02.591Z"
      },
      {
        "duration": 1842,
        "start_time": "2022-01-22T18:26:04.259Z"
      },
      {
        "duration": 17,
        "start_time": "2022-01-22T18:26:08.919Z"
      },
      {
        "duration": 31,
        "start_time": "2022-01-22T18:26:12.492Z"
      },
      {
        "duration": 22,
        "start_time": "2022-01-22T18:26:14.697Z"
      },
      {
        "duration": 1819,
        "start_time": "2022-01-22T18:28:32.455Z"
      },
      {
        "duration": 12,
        "start_time": "2022-01-22T18:28:34.275Z"
      },
      {
        "duration": 2398,
        "start_time": "2022-01-22T18:28:39.434Z"
      },
      {
        "duration": 12,
        "start_time": "2022-01-22T18:28:41.834Z"
      },
      {
        "duration": 878,
        "start_time": "2022-01-22T18:28:54.036Z"
      },
      {
        "duration": 12,
        "start_time": "2022-01-22T18:28:54.915Z"
      },
      {
        "duration": 17,
        "start_time": "2022-01-22T18:28:57.032Z"
      },
      {
        "duration": 21,
        "start_time": "2022-01-22T18:29:00.855Z"
      },
      {
        "duration": 2613,
        "start_time": "2022-01-22T18:29:08.268Z"
      },
      {
        "duration": 11,
        "start_time": "2022-01-22T18:29:10.883Z"
      },
      {
        "duration": 1839,
        "start_time": "2022-01-22T18:29:12.499Z"
      },
      {
        "duration": 12,
        "start_time": "2022-01-22T18:29:14.340Z"
      },
      {
        "duration": 1162,
        "start_time": "2022-01-22T18:29:18.701Z"
      },
      {
        "duration": 901,
        "start_time": "2022-01-22T18:29:19.865Z"
      },
      {
        "duration": 21,
        "start_time": "2022-01-22T18:29:20.768Z"
      },
      {
        "duration": 26,
        "start_time": "2022-01-22T18:29:20.791Z"
      },
      {
        "duration": 21,
        "start_time": "2022-01-22T18:29:20.819Z"
      },
      {
        "duration": 36,
        "start_time": "2022-01-22T18:29:20.842Z"
      },
      {
        "duration": 14,
        "start_time": "2022-01-22T18:29:20.880Z"
      },
      {
        "duration": 1442,
        "start_time": "2022-01-22T18:29:20.896Z"
      },
      {
        "duration": -8,
        "start_time": "2022-01-22T18:29:22.348Z"
      },
      {
        "duration": -8,
        "start_time": "2022-01-22T18:29:22.349Z"
      },
      {
        "duration": -8,
        "start_time": "2022-01-22T18:29:22.350Z"
      },
      {
        "duration": -8,
        "start_time": "2022-01-22T18:29:22.352Z"
      },
      {
        "duration": 1863,
        "start_time": "2022-01-22T18:29:38.522Z"
      },
      {
        "duration": 1103,
        "start_time": "2022-01-22T18:29:44.707Z"
      },
      {
        "duration": 866,
        "start_time": "2022-01-22T18:29:45.812Z"
      },
      {
        "duration": 16,
        "start_time": "2022-01-22T18:29:46.680Z"
      },
      {
        "duration": 25,
        "start_time": "2022-01-22T18:29:46.698Z"
      },
      {
        "duration": 20,
        "start_time": "2022-01-22T18:29:46.725Z"
      },
      {
        "duration": 40,
        "start_time": "2022-01-22T18:29:46.747Z"
      },
      {
        "duration": 11,
        "start_time": "2022-01-22T18:29:46.789Z"
      },
      {
        "duration": 13,
        "start_time": "2022-01-22T18:29:46.802Z"
      },
      {
        "duration": 10,
        "start_time": "2022-01-22T18:29:46.816Z"
      },
      {
        "duration": 14,
        "start_time": "2022-01-22T18:29:46.828Z"
      },
      {
        "duration": 151,
        "start_time": "2022-01-22T18:29:46.844Z"
      },
      {
        "duration": 2,
        "start_time": "2022-01-22T18:29:46.997Z"
      },
      {
        "duration": 18,
        "start_time": "2022-01-22T18:30:24.176Z"
      },
      {
        "duration": 9,
        "start_time": "2022-01-22T18:30:26.351Z"
      },
      {
        "duration": 8,
        "start_time": "2022-01-22T18:30:27.009Z"
      },
      {
        "duration": 99,
        "start_time": "2022-01-22T18:30:28.526Z"
      },
      {
        "duration": 17,
        "start_time": "2022-01-22T18:30:39.980Z"
      },
      {
        "duration": 9,
        "start_time": "2022-01-22T18:30:42.386Z"
      },
      {
        "duration": 8,
        "start_time": "2022-01-22T18:30:43.285Z"
      },
      {
        "duration": 6,
        "start_time": "2022-01-22T18:31:11.944Z"
      },
      {
        "duration": 9,
        "start_time": "2022-01-22T18:31:13.048Z"
      },
      {
        "duration": 8,
        "start_time": "2022-01-22T18:31:13.628Z"
      },
      {
        "duration": 429,
        "start_time": "2022-01-22T18:31:34.417Z"
      },
      {
        "duration": 313,
        "start_time": "2022-01-22T18:31:38.683Z"
      },
      {
        "duration": 343,
        "start_time": "2022-01-22T18:31:40.340Z"
      },
      {
        "duration": 1101,
        "start_time": "2022-01-22T18:31:46.521Z"
      },
      {
        "duration": 1204,
        "start_time": "2022-01-22T18:31:47.624Z"
      },
      {
        "duration": 16,
        "start_time": "2022-01-22T18:31:48.833Z"
      },
      {
        "duration": 23,
        "start_time": "2022-01-22T18:31:48.850Z"
      },
      {
        "duration": 19,
        "start_time": "2022-01-22T18:31:48.875Z"
      },
      {
        "duration": 18,
        "start_time": "2022-01-22T18:31:48.895Z"
      },
      {
        "duration": 10,
        "start_time": "2022-01-22T18:31:48.915Z"
      },
      {
        "duration": 11,
        "start_time": "2022-01-22T18:31:48.926Z"
      },
      {
        "duration": 6,
        "start_time": "2022-01-22T18:31:48.971Z"
      },
      {
        "duration": 10,
        "start_time": "2022-01-22T18:31:48.979Z"
      },
      {
        "duration": 8,
        "start_time": "2022-01-22T18:31:48.991Z"
      },
      {
        "duration": 123,
        "start_time": "2022-01-22T18:31:49.000Z"
      },
      {
        "duration": 2,
        "start_time": "2022-01-22T18:31:49.125Z"
      },
      {
        "duration": 395,
        "start_time": "2022-01-22T18:31:52.285Z"
      },
      {
        "duration": 1267,
        "start_time": "2022-01-22T18:31:57.842Z"
      },
      {
        "duration": 879,
        "start_time": "2022-01-22T18:31:59.111Z"
      },
      {
        "duration": 17,
        "start_time": "2022-01-22T18:31:59.992Z"
      },
      {
        "duration": 26,
        "start_time": "2022-01-22T18:32:00.012Z"
      },
      {
        "duration": 35,
        "start_time": "2022-01-22T18:32:00.040Z"
      },
      {
        "duration": 19,
        "start_time": "2022-01-22T18:32:00.077Z"
      },
      {
        "duration": 11,
        "start_time": "2022-01-22T18:32:00.098Z"
      },
      {
        "duration": 16,
        "start_time": "2022-01-22T18:32:00.111Z"
      },
      {
        "duration": 44,
        "start_time": "2022-01-22T18:32:00.129Z"
      },
      {
        "duration": 9,
        "start_time": "2022-01-22T18:32:00.175Z"
      },
      {
        "duration": 10,
        "start_time": "2022-01-22T18:32:00.186Z"
      },
      {
        "duration": 122,
        "start_time": "2022-01-22T18:32:00.197Z"
      },
      {
        "duration": 2,
        "start_time": "2022-01-22T18:32:00.321Z"
      },
      {
        "duration": 1098,
        "start_time": "2022-01-22T18:32:09.808Z"
      },
      {
        "duration": 820,
        "start_time": "2022-01-22T18:32:10.908Z"
      },
      {
        "duration": 14,
        "start_time": "2022-01-22T18:32:11.730Z"
      },
      {
        "duration": 24,
        "start_time": "2022-01-22T18:32:11.746Z"
      },
      {
        "duration": 20,
        "start_time": "2022-01-22T18:32:11.771Z"
      },
      {
        "duration": 16,
        "start_time": "2022-01-22T18:32:11.793Z"
      },
      {
        "duration": 10,
        "start_time": "2022-01-22T18:32:11.810Z"
      },
      {
        "duration": 60,
        "start_time": "2022-01-22T18:32:11.822Z"
      },
      {
        "duration": 5,
        "start_time": "2022-01-22T18:32:11.884Z"
      },
      {
        "duration": 10,
        "start_time": "2022-01-22T18:32:11.890Z"
      },
      {
        "duration": 6,
        "start_time": "2022-01-22T18:32:11.902Z"
      },
      {
        "duration": 121,
        "start_time": "2022-01-22T18:32:11.910Z"
      },
      {
        "duration": 2,
        "start_time": "2022-01-22T18:32:12.032Z"
      },
      {
        "duration": 10,
        "start_time": "2022-01-22T18:32:19.190Z"
      },
      {
        "duration": 8,
        "start_time": "2022-01-22T18:32:21.072Z"
      },
      {
        "duration": 434,
        "start_time": "2022-01-22T18:32:30.111Z"
      },
      {
        "duration": 40,
        "start_time": "2022-01-22T18:32:59.106Z"
      },
      {
        "duration": 1091,
        "start_time": "2022-01-22T18:33:10.023Z"
      },
      {
        "duration": 856,
        "start_time": "2022-01-22T18:33:11.115Z"
      },
      {
        "duration": 17,
        "start_time": "2022-01-22T18:33:11.973Z"
      },
      {
        "duration": 26,
        "start_time": "2022-01-22T18:33:11.993Z"
      },
      {
        "duration": 21,
        "start_time": "2022-01-22T18:33:12.021Z"
      },
      {
        "duration": 19,
        "start_time": "2022-01-22T18:33:12.072Z"
      },
      {
        "duration": 11,
        "start_time": "2022-01-22T18:33:12.092Z"
      },
      {
        "duration": 10,
        "start_time": "2022-01-22T18:33:12.104Z"
      },
      {
        "duration": 68,
        "start_time": "2022-01-22T18:33:12.116Z"
      },
      {
        "duration": 9,
        "start_time": "2022-01-22T18:33:12.186Z"
      },
      {
        "duration": 7,
        "start_time": "2022-01-22T18:33:12.197Z"
      },
      {
        "duration": 141,
        "start_time": "2022-01-22T18:33:12.205Z"
      },
      {
        "duration": 2,
        "start_time": "2022-01-22T18:33:12.348Z"
      },
      {
        "duration": 10,
        "start_time": "2022-01-22T18:33:32.239Z"
      },
      {
        "duration": 41,
        "start_time": "2022-01-22T18:33:33.973Z"
      },
      {
        "duration": 10,
        "start_time": "2022-01-22T18:33:44.817Z"
      },
      {
        "duration": 43,
        "start_time": "2022-01-22T18:33:45.836Z"
      },
      {
        "duration": 11,
        "start_time": "2022-01-22T18:34:14.035Z"
      },
      {
        "duration": 44,
        "start_time": "2022-01-22T18:34:14.774Z"
      },
      {
        "duration": 10,
        "start_time": "2022-01-22T18:34:22.668Z"
      },
      {
        "duration": 43,
        "start_time": "2022-01-22T18:34:23.199Z"
      },
      {
        "duration": 12,
        "start_time": "2022-01-22T18:34:25.988Z"
      },
      {
        "duration": 8,
        "start_time": "2022-01-22T18:34:26.264Z"
      },
      {
        "duration": 11,
        "start_time": "2022-01-22T18:34:57.508Z"
      },
      {
        "duration": 44,
        "start_time": "2022-01-22T18:34:58.354Z"
      },
      {
        "duration": 10,
        "start_time": "2022-01-22T18:36:04.200Z"
      },
      {
        "duration": 29,
        "start_time": "2022-01-22T18:36:04.650Z"
      },
      {
        "duration": 1420,
        "start_time": "2022-01-22T18:36:14.867Z"
      },
      {
        "duration": 2544,
        "start_time": "2022-01-22T18:36:16.289Z"
      },
      {
        "duration": 17,
        "start_time": "2022-01-22T18:36:18.835Z"
      },
      {
        "duration": 26,
        "start_time": "2022-01-22T18:36:18.854Z"
      },
      {
        "duration": 21,
        "start_time": "2022-01-22T18:36:18.882Z"
      },
      {
        "duration": 17,
        "start_time": "2022-01-22T18:36:18.905Z"
      },
      {
        "duration": 9,
        "start_time": "2022-01-22T18:36:18.924Z"
      },
      {
        "duration": 38,
        "start_time": "2022-01-22T18:36:18.935Z"
      },
      {
        "duration": 33,
        "start_time": "2022-01-22T18:36:18.975Z"
      },
      {
        "duration": 9,
        "start_time": "2022-01-22T18:36:19.010Z"
      },
      {
        "duration": 10,
        "start_time": "2022-01-22T18:36:19.021Z"
      },
      {
        "duration": 135,
        "start_time": "2022-01-22T18:36:19.033Z"
      },
      {
        "duration": 2,
        "start_time": "2022-01-22T18:36:19.172Z"
      },
      {
        "duration": 26,
        "start_time": "2022-01-22T18:36:30.939Z"
      },
      {
        "duration": 422,
        "start_time": "2022-01-22T18:36:58.340Z"
      },
      {
        "duration": 1143,
        "start_time": "2022-01-22T18:37:04.281Z"
      },
      {
        "duration": 971,
        "start_time": "2022-01-22T18:37:05.426Z"
      },
      {
        "duration": 17,
        "start_time": "2022-01-22T18:37:06.403Z"
      },
      {
        "duration": 25,
        "start_time": "2022-01-22T18:37:06.422Z"
      },
      {
        "duration": 28,
        "start_time": "2022-01-22T18:37:06.448Z"
      },
      {
        "duration": 17,
        "start_time": "2022-01-22T18:37:06.478Z"
      },
      {
        "duration": 9,
        "start_time": "2022-01-22T18:37:06.497Z"
      },
      {
        "duration": 10,
        "start_time": "2022-01-22T18:37:06.508Z"
      },
      {
        "duration": 8,
        "start_time": "2022-01-22T18:37:06.519Z"
      },
      {
        "duration": 8,
        "start_time": "2022-01-22T18:37:06.529Z"
      },
      {
        "duration": 119,
        "start_time": "2022-01-22T18:37:06.571Z"
      },
      {
        "duration": 2,
        "start_time": "2022-01-22T18:37:06.693Z"
      },
      {
        "duration": 58,
        "start_time": "2022-01-22T18:37:39.420Z"
      },
      {
        "duration": 103,
        "start_time": "2022-01-22T18:38:21.830Z"
      },
      {
        "duration": 324,
        "start_time": "2022-01-22T18:38:41.868Z"
      },
      {
        "duration": 295,
        "start_time": "2022-01-22T18:38:54.457Z"
      },
      {
        "duration": 1112,
        "start_time": "2022-01-22T18:39:09.304Z"
      },
      {
        "duration": 1078,
        "start_time": "2022-01-22T18:39:10.418Z"
      },
      {
        "duration": 15,
        "start_time": "2022-01-22T18:39:11.498Z"
      },
      {
        "duration": 23,
        "start_time": "2022-01-22T18:39:11.515Z"
      },
      {
        "duration": 21,
        "start_time": "2022-01-22T18:39:11.539Z"
      },
      {
        "duration": 22,
        "start_time": "2022-01-22T18:39:11.561Z"
      },
      {
        "duration": 9,
        "start_time": "2022-01-22T18:39:11.585Z"
      },
      {
        "duration": 10,
        "start_time": "2022-01-22T18:39:11.596Z"
      },
      {
        "duration": 65,
        "start_time": "2022-01-22T18:39:11.607Z"
      },
      {
        "duration": 365,
        "start_time": "2022-01-22T18:39:23.271Z"
      },
      {
        "duration": 306,
        "start_time": "2022-01-22T18:39:26.011Z"
      },
      {
        "duration": 1111,
        "start_time": "2022-01-22T18:39:31.899Z"
      },
      {
        "duration": 802,
        "start_time": "2022-01-22T18:39:33.012Z"
      },
      {
        "duration": 15,
        "start_time": "2022-01-22T18:39:33.816Z"
      },
      {
        "duration": 24,
        "start_time": "2022-01-22T18:39:33.833Z"
      },
      {
        "duration": 19,
        "start_time": "2022-01-22T18:39:33.859Z"
      },
      {
        "duration": 23,
        "start_time": "2022-01-22T18:39:33.880Z"
      },
      {
        "duration": 17,
        "start_time": "2022-01-22T18:39:33.905Z"
      },
      {
        "duration": 15,
        "start_time": "2022-01-22T18:39:33.923Z"
      },
      {
        "duration": 56,
        "start_time": "2022-01-22T18:39:33.940Z"
      },
      {
        "duration": 1111,
        "start_time": "2022-01-22T18:40:23.113Z"
      },
      {
        "duration": 1469,
        "start_time": "2022-01-22T18:40:24.227Z"
      },
      {
        "duration": 15,
        "start_time": "2022-01-22T18:40:25.700Z"
      },
      {
        "duration": 26,
        "start_time": "2022-01-22T18:40:25.716Z"
      },
      {
        "duration": 19,
        "start_time": "2022-01-22T18:40:25.744Z"
      },
      {
        "duration": 20,
        "start_time": "2022-01-22T18:40:25.764Z"
      },
      {
        "duration": 10,
        "start_time": "2022-01-22T18:40:25.786Z"
      },
      {
        "duration": 9,
        "start_time": "2022-01-22T18:40:25.798Z"
      },
      {
        "duration": 65,
        "start_time": "2022-01-22T18:40:25.808Z"
      },
      {
        "duration": 336,
        "start_time": "2022-01-22T18:40:54.600Z"
      },
      {
        "duration": 297,
        "start_time": "2022-01-22T18:41:04.836Z"
      },
      {
        "duration": 1086,
        "start_time": "2022-01-22T18:41:11.315Z"
      },
      {
        "duration": 2639,
        "start_time": "2022-01-22T18:41:12.403Z"
      },
      {
        "duration": 16,
        "start_time": "2022-01-22T18:41:15.044Z"
      },
      {
        "duration": 33,
        "start_time": "2022-01-22T18:41:15.062Z"
      },
      {
        "duration": 21,
        "start_time": "2022-01-22T18:41:15.097Z"
      },
      {
        "duration": 16,
        "start_time": "2022-01-22T18:41:15.119Z"
      },
      {
        "duration": 36,
        "start_time": "2022-01-22T18:41:15.137Z"
      },
      {
        "duration": 9,
        "start_time": "2022-01-22T18:41:15.176Z"
      },
      {
        "duration": 420,
        "start_time": "2022-01-22T18:41:15.187Z"
      },
      {
        "duration": -51,
        "start_time": "2022-01-22T18:41:15.659Z"
      },
      {
        "duration": -52,
        "start_time": "2022-01-22T18:41:15.661Z"
      },
      {
        "duration": -53,
        "start_time": "2022-01-22T18:41:15.663Z"
      },
      {
        "duration": 49,
        "start_time": "2022-01-22T18:41:19.969Z"
      },
      {
        "duration": 72,
        "start_time": "2022-01-22T18:41:21.379Z"
      },
      {
        "duration": 52,
        "start_time": "2022-01-22T18:41:30.239Z"
      },
      {
        "duration": 1089,
        "start_time": "2022-01-22T18:43:11.819Z"
      },
      {
        "duration": 968,
        "start_time": "2022-01-22T18:43:12.909Z"
      },
      {
        "duration": 16,
        "start_time": "2022-01-22T18:43:13.879Z"
      },
      {
        "duration": 24,
        "start_time": "2022-01-22T18:43:13.897Z"
      },
      {
        "duration": 20,
        "start_time": "2022-01-22T18:43:13.923Z"
      },
      {
        "duration": 43,
        "start_time": "2022-01-22T18:43:13.945Z"
      },
      {
        "duration": 10,
        "start_time": "2022-01-22T18:43:13.990Z"
      },
      {
        "duration": 12,
        "start_time": "2022-01-22T18:43:14.002Z"
      },
      {
        "duration": 72,
        "start_time": "2022-01-22T18:43:14.016Z"
      },
      {
        "duration": 89,
        "start_time": "2022-01-22T18:43:14.090Z"
      },
      {
        "duration": 339,
        "start_time": "2022-01-22T18:49:03.900Z"
      },
      {
        "duration": 1168,
        "start_time": "2022-01-22T18:49:15.938Z"
      },
      {
        "duration": 887,
        "start_time": "2022-01-22T18:49:17.108Z"
      },
      {
        "duration": 15,
        "start_time": "2022-01-22T18:49:17.997Z"
      },
      {
        "duration": 23,
        "start_time": "2022-01-22T18:49:18.014Z"
      },
      {
        "duration": 20,
        "start_time": "2022-01-22T18:49:18.038Z"
      },
      {
        "duration": 21,
        "start_time": "2022-01-22T18:49:18.060Z"
      },
      {
        "duration": 9,
        "start_time": "2022-01-22T18:49:18.083Z"
      },
      {
        "duration": 10,
        "start_time": "2022-01-22T18:49:18.094Z"
      },
      {
        "duration": 66,
        "start_time": "2022-01-22T18:49:18.106Z"
      },
      {
        "duration": 81,
        "start_time": "2022-01-22T18:49:18.174Z"
      },
      {
        "duration": 1106,
        "start_time": "2022-01-22T18:50:12.205Z"
      },
      {
        "duration": 2680,
        "start_time": "2022-01-22T18:50:13.313Z"
      },
      {
        "duration": 18,
        "start_time": "2022-01-22T18:50:15.995Z"
      },
      {
        "duration": 32,
        "start_time": "2022-01-22T18:50:16.015Z"
      },
      {
        "duration": 25,
        "start_time": "2022-01-22T18:50:16.049Z"
      },
      {
        "duration": 17,
        "start_time": "2022-01-22T18:50:16.076Z"
      },
      {
        "duration": 10,
        "start_time": "2022-01-22T18:50:16.095Z"
      },
      {
        "duration": 10,
        "start_time": "2022-01-22T18:50:16.107Z"
      },
      {
        "duration": 73,
        "start_time": "2022-01-22T18:50:16.119Z"
      },
      {
        "duration": 93,
        "start_time": "2022-01-22T18:50:16.194Z"
      },
      {
        "duration": 1093,
        "start_time": "2022-01-22T18:50:58.806Z"
      },
      {
        "duration": 874,
        "start_time": "2022-01-22T18:50:59.900Z"
      },
      {
        "duration": 15,
        "start_time": "2022-01-22T18:51:00.778Z"
      },
      {
        "duration": 25,
        "start_time": "2022-01-22T18:51:00.795Z"
      },
      {
        "duration": 21,
        "start_time": "2022-01-22T18:51:00.822Z"
      },
      {
        "duration": 43,
        "start_time": "2022-01-22T18:51:00.845Z"
      },
      {
        "duration": 13,
        "start_time": "2022-01-22T18:51:00.890Z"
      },
      {
        "duration": 15,
        "start_time": "2022-01-22T18:51:00.905Z"
      },
      {
        "duration": 64,
        "start_time": "2022-01-22T18:51:00.922Z"
      },
      {
        "duration": 1135,
        "start_time": "2022-01-22T18:52:38.847Z"
      },
      {
        "duration": 848,
        "start_time": "2022-01-22T18:52:39.984Z"
      },
      {
        "duration": 15,
        "start_time": "2022-01-22T18:52:40.834Z"
      },
      {
        "duration": 24,
        "start_time": "2022-01-22T18:52:40.851Z"
      },
      {
        "duration": 21,
        "start_time": "2022-01-22T18:52:40.877Z"
      },
      {
        "duration": 17,
        "start_time": "2022-01-22T18:52:40.899Z"
      },
      {
        "duration": 10,
        "start_time": "2022-01-22T18:52:40.918Z"
      },
      {
        "duration": 12,
        "start_time": "2022-01-22T18:52:40.930Z"
      },
      {
        "duration": 69,
        "start_time": "2022-01-22T18:52:40.944Z"
      },
      {
        "duration": 1126,
        "start_time": "2022-01-22T18:53:04.480Z"
      },
      {
        "duration": 1096,
        "start_time": "2022-01-22T18:53:05.608Z"
      },
      {
        "duration": 17,
        "start_time": "2022-01-22T18:53:06.709Z"
      },
      {
        "duration": 26,
        "start_time": "2022-01-22T18:53:06.727Z"
      },
      {
        "duration": 22,
        "start_time": "2022-01-22T18:53:06.754Z"
      },
      {
        "duration": 18,
        "start_time": "2022-01-22T18:53:06.777Z"
      },
      {
        "duration": 10,
        "start_time": "2022-01-22T18:53:06.798Z"
      },
      {
        "duration": 11,
        "start_time": "2022-01-22T18:53:06.810Z"
      },
      {
        "duration": 73,
        "start_time": "2022-01-22T18:53:06.822Z"
      },
      {
        "duration": 1118,
        "start_time": "2022-01-22T18:53:22.995Z"
      },
      {
        "duration": 828,
        "start_time": "2022-01-22T18:53:24.115Z"
      },
      {
        "duration": 16,
        "start_time": "2022-01-22T18:53:24.945Z"
      },
      {
        "duration": 23,
        "start_time": "2022-01-22T18:53:24.963Z"
      },
      {
        "duration": 20,
        "start_time": "2022-01-22T18:53:24.987Z"
      },
      {
        "duration": 19,
        "start_time": "2022-01-22T18:53:25.008Z"
      },
      {
        "duration": 11,
        "start_time": "2022-01-22T18:53:25.028Z"
      },
      {
        "duration": 11,
        "start_time": "2022-01-22T18:53:25.072Z"
      },
      {
        "duration": 44,
        "start_time": "2022-01-22T18:53:25.085Z"
      },
      {
        "duration": 340,
        "start_time": "2022-01-22T18:54:03.309Z"
      },
      {
        "duration": 1095,
        "start_time": "2022-01-22T18:54:09.133Z"
      },
      {
        "duration": 2357,
        "start_time": "2022-01-22T18:54:10.230Z"
      },
      {
        "duration": 17,
        "start_time": "2022-01-22T18:54:12.588Z"
      },
      {
        "duration": 25,
        "start_time": "2022-01-22T18:54:12.607Z"
      },
      {
        "duration": 22,
        "start_time": "2022-01-22T18:54:12.634Z"
      },
      {
        "duration": 29,
        "start_time": "2022-01-22T18:54:12.658Z"
      },
      {
        "duration": 10,
        "start_time": "2022-01-22T18:54:12.688Z"
      },
      {
        "duration": 9,
        "start_time": "2022-01-22T18:54:12.700Z"
      },
      {
        "duration": 67,
        "start_time": "2022-01-22T18:54:12.711Z"
      },
      {
        "duration": 1163,
        "start_time": "2022-01-22T18:54:32.053Z"
      },
      {
        "duration": 1743,
        "start_time": "2022-01-22T18:54:33.218Z"
      },
      {
        "duration": 16,
        "start_time": "2022-01-22T18:54:34.962Z"
      },
      {
        "duration": 26,
        "start_time": "2022-01-22T18:54:34.980Z"
      },
      {
        "duration": 20,
        "start_time": "2022-01-22T18:54:35.008Z"
      },
      {
        "duration": 47,
        "start_time": "2022-01-22T18:54:35.030Z"
      },
      {
        "duration": 12,
        "start_time": "2022-01-22T18:54:35.079Z"
      },
      {
        "duration": 11,
        "start_time": "2022-01-22T18:54:35.094Z"
      },
      {
        "duration": 73,
        "start_time": "2022-01-22T18:54:35.107Z"
      },
      {
        "duration": 4376,
        "start_time": "2022-01-22T18:54:35.182Z"
      },
      {
        "duration": 2,
        "start_time": "2022-01-22T18:54:39.560Z"
      },
      {
        "duration": 390,
        "start_time": "2022-01-22T18:55:12.202Z"
      },
      {
        "duration": 304,
        "start_time": "2022-01-22T18:55:19.609Z"
      },
      {
        "duration": 313,
        "start_time": "2022-01-22T18:55:22.725Z"
      },
      {
        "duration": 309,
        "start_time": "2022-01-22T18:55:47.598Z"
      },
      {
        "duration": 316,
        "start_time": "2022-01-22T18:56:05.181Z"
      },
      {
        "duration": 307,
        "start_time": "2022-01-22T18:56:16.016Z"
      },
      {
        "duration": 335,
        "start_time": "2022-01-22T18:56:21.887Z"
      },
      {
        "duration": 6,
        "start_time": "2022-01-22T18:58:06.793Z"
      },
      {
        "duration": 292,
        "start_time": "2022-01-22T18:58:11.355Z"
      },
      {
        "duration": 294,
        "start_time": "2022-01-22T18:58:13.267Z"
      },
      {
        "duration": 316,
        "start_time": "2022-01-22T18:58:15.326Z"
      },
      {
        "duration": 300,
        "start_time": "2022-01-22T18:58:26.353Z"
      },
      {
        "duration": 5,
        "start_time": "2022-01-22T18:58:31.387Z"
      },
      {
        "duration": 5,
        "start_time": "2022-01-22T18:58:33.725Z"
      },
      {
        "duration": 111,
        "start_time": "2022-01-22T19:00:22.928Z"
      },
      {
        "duration": 321,
        "start_time": "2022-01-22T19:00:26.972Z"
      },
      {
        "duration": 14,
        "start_time": "2022-01-22T19:00:36.456Z"
      },
      {
        "duration": 7,
        "start_time": "2022-01-22T19:00:41.608Z"
      },
      {
        "duration": 40,
        "start_time": "2022-01-22T19:01:01.670Z"
      },
      {
        "duration": 8,
        "start_time": "2022-01-22T19:01:02.313Z"
      },
      {
        "duration": 6,
        "start_time": "2022-01-22T19:01:13.376Z"
      },
      {
        "duration": 7,
        "start_time": "2022-01-22T19:01:29.651Z"
      },
      {
        "duration": 53,
        "start_time": "2022-01-22T19:01:32.931Z"
      },
      {
        "duration": 17,
        "start_time": "2022-01-22T19:01:33.567Z"
      },
      {
        "duration": 18,
        "start_time": "2022-01-22T19:01:49.927Z"
      },
      {
        "duration": 1156,
        "start_time": "2022-01-22T19:02:01.157Z"
      },
      {
        "duration": 2574,
        "start_time": "2022-01-22T19:02:02.315Z"
      },
      {
        "duration": 16,
        "start_time": "2022-01-22T19:02:04.891Z"
      },
      {
        "duration": 28,
        "start_time": "2022-01-22T19:02:04.909Z"
      },
      {
        "duration": 39,
        "start_time": "2022-01-22T19:02:04.938Z"
      },
      {
        "duration": 10,
        "start_time": "2022-01-22T19:02:04.979Z"
      },
      {
        "duration": 31,
        "start_time": "2022-01-22T19:02:04.991Z"
      },
      {
        "duration": 18,
        "start_time": "2022-01-22T19:02:05.024Z"
      },
      {
        "duration": 10,
        "start_time": "2022-01-22T19:02:05.043Z"
      },
      {
        "duration": 28,
        "start_time": "2022-01-22T19:02:05.054Z"
      },
      {
        "duration": 47,
        "start_time": "2022-01-22T19:02:05.083Z"
      },
      {
        "duration": 436,
        "start_time": "2022-01-22T19:02:05.132Z"
      },
      {
        "duration": -23,
        "start_time": "2022-01-22T19:02:05.593Z"
      },
      {
        "duration": 43,
        "start_time": "2022-01-22T19:02:31.676Z"
      },
      {
        "duration": 11,
        "start_time": "2022-01-22T19:02:33.560Z"
      },
      {
        "duration": 37,
        "start_time": "2022-01-22T19:03:11.415Z"
      },
      {
        "duration": 13,
        "start_time": "2022-01-22T19:03:15.888Z"
      },
      {
        "duration": 8264,
        "start_time": "2022-01-22T19:04:51.091Z"
      },
      {
        "duration": 1163,
        "start_time": "2022-01-22T19:05:08.951Z"
      },
      {
        "duration": 792,
        "start_time": "2022-01-22T19:05:10.116Z"
      },
      {
        "duration": 16,
        "start_time": "2022-01-22T19:05:10.910Z"
      },
      {
        "duration": 23,
        "start_time": "2022-01-22T19:05:10.928Z"
      },
      {
        "duration": 20,
        "start_time": "2022-01-22T19:05:10.953Z"
      },
      {
        "duration": 18,
        "start_time": "2022-01-22T19:05:10.974Z"
      },
      {
        "duration": 11,
        "start_time": "2022-01-22T19:05:10.993Z"
      },
      {
        "duration": 69,
        "start_time": "2022-01-22T19:05:11.005Z"
      },
      {
        "duration": 2185,
        "start_time": "2022-01-22T19:05:11.077Z"
      },
      {
        "duration": -18,
        "start_time": "2022-01-22T19:05:13.282Z"
      },
      {
        "duration": -19,
        "start_time": "2022-01-22T19:05:13.284Z"
      },
      {
        "duration": -19,
        "start_time": "2022-01-22T19:05:13.285Z"
      },
      {
        "duration": 17,
        "start_time": "2022-01-22T19:05:26.661Z"
      },
      {
        "duration": 42,
        "start_time": "2022-01-22T19:05:41.111Z"
      },
      {
        "duration": 10,
        "start_time": "2022-01-22T19:06:00.186Z"
      },
      {
        "duration": 4621,
        "start_time": "2022-01-22T19:06:29.465Z"
      },
      {
        "duration": 4598,
        "start_time": "2022-01-22T19:06:39.186Z"
      },
      {
        "duration": 9,
        "start_time": "2022-01-22T19:06:49.089Z"
      },
      {
        "duration": 43,
        "start_time": "2022-01-22T19:07:14.774Z"
      },
      {
        "duration": 8037,
        "start_time": "2022-01-22T19:07:38.172Z"
      },
      {
        "duration": -35,
        "start_time": "2022-01-22T19:07:46.246Z"
      },
      {
        "duration": 1118,
        "start_time": "2022-01-22T19:07:56.581Z"
      },
      {
        "duration": 962,
        "start_time": "2022-01-22T19:07:57.701Z"
      },
      {
        "duration": 15,
        "start_time": "2022-01-22T19:07:58.666Z"
      },
      {
        "duration": 24,
        "start_time": "2022-01-22T19:07:58.683Z"
      },
      {
        "duration": 19,
        "start_time": "2022-01-22T19:07:58.708Z"
      },
      {
        "duration": 19,
        "start_time": "2022-01-22T19:07:58.728Z"
      },
      {
        "duration": 10,
        "start_time": "2022-01-22T19:07:58.748Z"
      },
      {
        "duration": 51,
        "start_time": "2022-01-22T19:07:58.760Z"
      },
      {
        "duration": 12,
        "start_time": "2022-01-22T19:07:58.813Z"
      },
      {
        "duration": 46,
        "start_time": "2022-01-22T19:07:58.826Z"
      },
      {
        "duration": 8,
        "start_time": "2022-01-22T19:07:58.873Z"
      },
      {
        "duration": 36,
        "start_time": "2022-01-22T19:07:58.882Z"
      },
      {
        "duration": 6,
        "start_time": "2022-01-22T19:07:58.920Z"
      },
      {
        "duration": 25,
        "start_time": "2022-01-22T19:07:58.928Z"
      },
      {
        "duration": 2110,
        "start_time": "2022-01-22T19:07:58.955Z"
      },
      {
        "duration": -121,
        "start_time": "2022-01-22T19:08:01.187Z"
      },
      {
        "duration": 8,
        "start_time": "2022-01-22T19:08:18.640Z"
      },
      {
        "duration": 1062,
        "start_time": "2022-01-22T19:09:58.159Z"
      },
      {
        "duration": 847,
        "start_time": "2022-01-22T19:09:59.223Z"
      },
      {
        "duration": 17,
        "start_time": "2022-01-22T19:10:00.075Z"
      },
      {
        "duration": 26,
        "start_time": "2022-01-22T19:10:00.094Z"
      },
      {
        "duration": 22,
        "start_time": "2022-01-22T19:10:00.121Z"
      },
      {
        "duration": 19,
        "start_time": "2022-01-22T19:10:00.172Z"
      },
      {
        "duration": 12,
        "start_time": "2022-01-22T19:10:00.193Z"
      },
      {
        "duration": 69,
        "start_time": "2022-01-22T19:10:00.206Z"
      },
      {
        "duration": 43,
        "start_time": "2022-01-22T19:10:00.277Z"
      },
      {
        "duration": 54,
        "start_time": "2022-01-22T19:10:00.321Z"
      },
      {
        "duration": 24,
        "start_time": "2022-01-22T19:10:00.377Z"
      },
      {
        "duration": 341,
        "start_time": "2022-01-22T19:11:47.287Z"
      },
      {
        "duration": 1124,
        "start_time": "2022-01-22T19:11:52.488Z"
      },
      {
        "duration": 855,
        "start_time": "2022-01-22T19:11:53.613Z"
      },
      {
        "duration": 15,
        "start_time": "2022-01-22T19:11:54.470Z"
      },
      {
        "duration": 23,
        "start_time": "2022-01-22T19:11:54.487Z"
      },
      {
        "duration": 20,
        "start_time": "2022-01-22T19:11:54.512Z"
      },
      {
        "duration": 40,
        "start_time": "2022-01-22T19:11:54.533Z"
      },
      {
        "duration": 10,
        "start_time": "2022-01-22T19:11:54.574Z"
      },
      {
        "duration": 43,
        "start_time": "2022-01-22T19:11:54.586Z"
      },
      {
        "duration": 60,
        "start_time": "2022-01-22T19:11:54.631Z"
      },
      {
        "duration": 35,
        "start_time": "2022-01-22T19:11:54.693Z"
      },
      {
        "duration": 21,
        "start_time": "2022-01-22T19:11:54.729Z"
      },
      {
        "duration": 1434,
        "start_time": "2022-01-22T19:11:54.752Z"
      },
      {
        "duration": 16,
        "start_time": "2022-01-22T19:12:02.810Z"
      },
      {
        "duration": 2147,
        "start_time": "2022-01-22T19:12:50.073Z"
      },
      {
        "duration": 1577,
        "start_time": "2022-01-22T19:13:22.622Z"
      },
      {
        "duration": 1203,
        "start_time": "2022-01-22T19:14:16.996Z"
      },
      {
        "duration": 3158,
        "start_time": "2022-01-22T19:14:18.202Z"
      },
      {
        "duration": 17,
        "start_time": "2022-01-22T19:14:21.362Z"
      },
      {
        "duration": 25,
        "start_time": "2022-01-22T19:14:21.381Z"
      },
      {
        "duration": 21,
        "start_time": "2022-01-22T19:14:21.408Z"
      },
      {
        "duration": 45,
        "start_time": "2022-01-22T19:14:21.431Z"
      },
      {
        "duration": 10,
        "start_time": "2022-01-22T19:14:21.478Z"
      },
      {
        "duration": 58,
        "start_time": "2022-01-22T19:14:21.491Z"
      },
      {
        "duration": 50,
        "start_time": "2022-01-22T19:14:21.551Z"
      },
      {
        "duration": 34,
        "start_time": "2022-01-22T19:14:21.603Z"
      },
      {
        "duration": 39,
        "start_time": "2022-01-22T19:14:21.639Z"
      },
      {
        "duration": 2137,
        "start_time": "2022-01-22T19:14:21.679Z"
      },
      {
        "duration": 1171,
        "start_time": "2022-01-22T19:14:37.037Z"
      },
      {
        "duration": 1925,
        "start_time": "2022-01-22T19:14:38.210Z"
      },
      {
        "duration": 16,
        "start_time": "2022-01-22T19:14:40.138Z"
      },
      {
        "duration": 24,
        "start_time": "2022-01-22T19:14:40.156Z"
      },
      {
        "duration": 21,
        "start_time": "2022-01-22T19:14:40.182Z"
      },
      {
        "duration": 17,
        "start_time": "2022-01-22T19:14:40.204Z"
      },
      {
        "duration": 10,
        "start_time": "2022-01-22T19:14:40.222Z"
      },
      {
        "duration": 71,
        "start_time": "2022-01-22T19:14:40.233Z"
      },
      {
        "duration": 41,
        "start_time": "2022-01-22T19:14:40.307Z"
      },
      {
        "duration": 53,
        "start_time": "2022-01-22T19:14:40.349Z"
      },
      {
        "duration": 22,
        "start_time": "2022-01-22T19:14:40.404Z"
      },
      {
        "duration": 2171,
        "start_time": "2022-01-22T19:14:40.428Z"
      },
      {
        "duration": 1568,
        "start_time": "2022-01-22T19:14:42.601Z"
      },
      {
        "duration": 1161,
        "start_time": "2022-01-22T19:16:05.661Z"
      },
      {
        "duration": 865,
        "start_time": "2022-01-22T19:16:06.824Z"
      },
      {
        "duration": 16,
        "start_time": "2022-01-22T19:16:07.693Z"
      },
      {
        "duration": 26,
        "start_time": "2022-01-22T19:16:07.710Z"
      },
      {
        "duration": 21,
        "start_time": "2022-01-22T19:16:07.738Z"
      },
      {
        "duration": 19,
        "start_time": "2022-01-22T19:16:07.772Z"
      },
      {
        "duration": 10,
        "start_time": "2022-01-22T19:16:07.793Z"
      },
      {
        "duration": 45,
        "start_time": "2022-01-22T19:16:07.805Z"
      },
      {
        "duration": 40,
        "start_time": "2022-01-22T19:16:07.872Z"
      },
      {
        "duration": 36,
        "start_time": "2022-01-22T19:16:07.913Z"
      },
      {
        "duration": 40,
        "start_time": "2022-01-22T19:16:07.950Z"
      },
      {
        "duration": 1946,
        "start_time": "2022-01-22T19:16:07.991Z"
      },
      {
        "duration": 1371,
        "start_time": "2022-01-22T19:16:09.939Z"
      },
      {
        "duration": 1229,
        "start_time": "2022-01-22T19:22:10.252Z"
      },
      {
        "duration": 1102,
        "start_time": "2022-01-22T19:22:11.483Z"
      },
      {
        "duration": 15,
        "start_time": "2022-01-22T19:22:12.928Z"
      },
      {
        "duration": 25,
        "start_time": "2022-01-22T19:22:26.182Z"
      },
      {
        "duration": 22,
        "start_time": "2022-01-22T19:22:28.550Z"
      },
      {
        "duration": 18,
        "start_time": "2022-01-22T19:22:29.856Z"
      },
      {
        "duration": 12,
        "start_time": "2022-01-22T19:22:30.642Z"
      },
      {
        "duration": 9,
        "start_time": "2022-01-22T19:25:24.947Z"
      },
      {
        "duration": 36,
        "start_time": "2022-01-22T19:25:37.559Z"
      },
      {
        "duration": 10,
        "start_time": "2022-01-22T19:25:52.556Z"
      },
      {
        "duration": 26,
        "start_time": "2022-01-22T19:26:00.665Z"
      },
      {
        "duration": 28,
        "start_time": "2022-01-22T19:26:04.316Z"
      },
      {
        "duration": 384,
        "start_time": "2022-01-22T19:27:46.213Z"
      },
      {
        "duration": 5,
        "start_time": "2022-01-22T19:27:53.056Z"
      },
      {
        "duration": 7,
        "start_time": "2022-01-22T19:28:39.460Z"
      },
      {
        "duration": 14,
        "start_time": "2022-01-22T19:28:44.983Z"
      },
      {
        "duration": 5,
        "start_time": "2022-01-22T19:28:51.744Z"
      },
      {
        "duration": 307,
        "start_time": "2022-01-22T19:31:56.858Z"
      },
      {
        "duration": 2,
        "start_time": "2022-01-22T19:31:59.359Z"
      },
      {
        "duration": 298,
        "start_time": "2022-01-22T19:31:59.363Z"
      },
      {
        "duration": 3,
        "start_time": "2022-01-22T19:32:35.407Z"
      },
      {
        "duration": 343,
        "start_time": "2022-01-22T19:32:35.599Z"
      },
      {
        "duration": 4,
        "start_time": "2022-01-22T19:33:10.477Z"
      },
      {
        "duration": 5,
        "start_time": "2022-01-22T19:34:30.131Z"
      },
      {
        "duration": 5,
        "start_time": "2022-01-22T19:34:37.757Z"
      },
      {
        "duration": 3,
        "start_time": "2022-01-22T19:35:44.140Z"
      },
      {
        "duration": 4,
        "start_time": "2022-01-22T19:35:44.421Z"
      },
      {
        "duration": 4,
        "start_time": "2022-01-22T19:35:52.608Z"
      },
      {
        "duration": 5,
        "start_time": "2022-01-22T19:35:54.061Z"
      },
      {
        "duration": 5,
        "start_time": "2022-01-22T19:36:01.350Z"
      },
      {
        "duration": 5,
        "start_time": "2022-01-22T19:36:01.356Z"
      },
      {
        "duration": 9,
        "start_time": "2022-01-22T19:36:01.362Z"
      },
      {
        "duration": 1152,
        "start_time": "2022-01-22T19:36:09.671Z"
      },
      {
        "duration": 942,
        "start_time": "2022-01-22T19:36:10.825Z"
      },
      {
        "duration": 11,
        "start_time": "2022-01-22T19:36:11.769Z"
      },
      {
        "duration": 33,
        "start_time": "2022-01-22T19:36:11.782Z"
      },
      {
        "duration": 27,
        "start_time": "2022-01-22T19:36:11.817Z"
      },
      {
        "duration": 44,
        "start_time": "2022-01-22T19:36:11.845Z"
      },
      {
        "duration": 8,
        "start_time": "2022-01-22T19:36:11.890Z"
      },
      {
        "duration": 6,
        "start_time": "2022-01-22T19:36:11.899Z"
      },
      {
        "duration": 3,
        "start_time": "2022-01-22T19:36:11.907Z"
      },
      {
        "duration": 5,
        "start_time": "2022-01-22T19:36:11.911Z"
      },
      {
        "duration": 7,
        "start_time": "2022-01-22T19:36:11.917Z"
      },
      {
        "duration": 78,
        "start_time": "2022-01-22T19:36:11.926Z"
      },
      {
        "duration": 41,
        "start_time": "2022-01-22T19:36:12.006Z"
      },
      {
        "duration": 51,
        "start_time": "2022-01-22T19:36:12.048Z"
      },
      {
        "duration": 4,
        "start_time": "2022-01-22T19:37:07.737Z"
      },
      {
        "duration": 5,
        "start_time": "2022-01-22T19:37:11.580Z"
      },
      {
        "duration": 3,
        "start_time": "2022-01-22T19:37:34.443Z"
      },
      {
        "duration": 5,
        "start_time": "2022-01-22T19:37:41.949Z"
      },
      {
        "duration": 686,
        "start_time": "2022-01-22T19:37:47.894Z"
      },
      {
        "duration": 4,
        "start_time": "2022-01-22T19:37:57.295Z"
      },
      {
        "duration": 294,
        "start_time": "2022-01-22T19:38:15.913Z"
      },
      {
        "duration": 5,
        "start_time": "2022-01-22T19:38:39.347Z"
      },
      {
        "duration": 4,
        "start_time": "2022-01-22T19:38:50.231Z"
      },
      {
        "duration": 4,
        "start_time": "2022-01-22T19:39:31.331Z"
      },
      {
        "duration": 4,
        "start_time": "2022-01-22T19:39:32.395Z"
      },
      {
        "duration": 5,
        "start_time": "2022-01-22T19:39:32.772Z"
      },
      {
        "duration": 4,
        "start_time": "2022-01-22T19:40:20.427Z"
      },
      {
        "duration": 4,
        "start_time": "2022-01-22T19:40:37.744Z"
      },
      {
        "duration": 4,
        "start_time": "2022-01-22T19:41:04.442Z"
      },
      {
        "duration": 4,
        "start_time": "2022-01-22T19:41:10.370Z"
      },
      {
        "duration": 4,
        "start_time": "2022-01-22T19:41:22.640Z"
      },
      {
        "duration": 301,
        "start_time": "2022-01-22T19:41:34.520Z"
      },
      {
        "duration": 607,
        "start_time": "2022-01-22T19:42:00.877Z"
      },
      {
        "duration": 5,
        "start_time": "2022-01-22T19:42:03.992Z"
      },
      {
        "duration": 100,
        "start_time": "2022-01-22T19:42:40.440Z"
      },
      {
        "duration": 308,
        "start_time": "2022-01-22T19:42:53.657Z"
      },
      {
        "duration": 2981,
        "start_time": "2022-01-22T19:43:33.022Z"
      },
      {
        "duration": 307,
        "start_time": "2022-01-22T19:45:52.481Z"
      },
      {
        "duration": 291,
        "start_time": "2022-01-22T19:46:48.324Z"
      },
      {
        "duration": 3353,
        "start_time": "2022-01-22T19:47:21.021Z"
      },
      {
        "duration": 3050,
        "start_time": "2022-01-22T19:48:03.809Z"
      },
      {
        "duration": 3165,
        "start_time": "2022-01-22T19:48:52.282Z"
      },
      {
        "duration": 9732,
        "start_time": "2022-01-22T19:50:48.639Z"
      },
      {
        "duration": 4087,
        "start_time": "2022-01-22T19:52:12.728Z"
      },
      {
        "duration": 530,
        "start_time": "2022-01-22T19:52:36.486Z"
      },
      {
        "duration": 4,
        "start_time": "2022-01-22T19:58:05.667Z"
      },
      {
        "duration": 5,
        "start_time": "2022-01-22T19:58:26.952Z"
      },
      {
        "duration": 13,
        "start_time": "2022-01-22T19:58:27.465Z"
      },
      {
        "duration": 10,
        "start_time": "2022-01-22T19:58:27.877Z"
      },
      {
        "duration": 4,
        "start_time": "2022-01-22T19:58:28.689Z"
      },
      {
        "duration": 7232,
        "start_time": "2022-01-22T19:58:50.909Z"
      },
      {
        "duration": 1110,
        "start_time": "2022-01-22T19:59:07.400Z"
      },
      {
        "duration": 1895,
        "start_time": "2022-01-22T19:59:08.512Z"
      },
      {
        "duration": 11,
        "start_time": "2022-01-22T19:59:10.409Z"
      },
      {
        "duration": 33,
        "start_time": "2022-01-22T19:59:10.422Z"
      },
      {
        "duration": 26,
        "start_time": "2022-01-22T19:59:10.457Z"
      },
      {
        "duration": 27,
        "start_time": "2022-01-22T19:59:10.484Z"
      },
      {
        "duration": 8,
        "start_time": "2022-01-22T19:59:10.513Z"
      },
      {
        "duration": 4,
        "start_time": "2022-01-22T19:59:10.523Z"
      },
      {
        "duration": 45,
        "start_time": "2022-01-22T19:59:10.529Z"
      },
      {
        "duration": 18,
        "start_time": "2022-01-22T19:59:10.576Z"
      },
      {
        "duration": 52,
        "start_time": "2022-01-22T19:59:10.596Z"
      },
      {
        "duration": 55,
        "start_time": "2022-01-22T19:59:10.649Z"
      },
      {
        "duration": 34,
        "start_time": "2022-01-22T19:59:10.706Z"
      },
      {
        "duration": 5,
        "start_time": "2022-01-22T20:00:47.501Z"
      },
      {
        "duration": 4,
        "start_time": "2022-01-22T20:01:24.570Z"
      },
      {
        "duration": 5,
        "start_time": "2022-01-22T20:01:24.890Z"
      },
      {
        "duration": 6,
        "start_time": "2022-01-22T20:01:25.194Z"
      },
      {
        "duration": 13,
        "start_time": "2022-01-22T20:02:11.379Z"
      },
      {
        "duration": 7,
        "start_time": "2022-01-22T20:02:15.803Z"
      },
      {
        "duration": 1096,
        "start_time": "2022-01-22T20:02:32.819Z"
      },
      {
        "duration": 804,
        "start_time": "2022-01-22T20:02:33.917Z"
      },
      {
        "duration": 16,
        "start_time": "2022-01-22T20:02:34.723Z"
      },
      {
        "duration": 8,
        "start_time": "2022-01-22T20:02:34.741Z"
      },
      {
        "duration": 27,
        "start_time": "2022-01-22T20:02:34.751Z"
      },
      {
        "duration": 22,
        "start_time": "2022-01-22T20:02:34.779Z"
      },
      {
        "duration": 18,
        "start_time": "2022-01-22T20:02:34.803Z"
      },
      {
        "duration": 10,
        "start_time": "2022-01-22T20:02:34.823Z"
      },
      {
        "duration": 5,
        "start_time": "2022-01-22T20:02:34.834Z"
      },
      {
        "duration": 20,
        "start_time": "2022-01-22T20:02:34.872Z"
      },
      {
        "duration": 17,
        "start_time": "2022-01-22T20:02:34.893Z"
      },
      {
        "duration": 62,
        "start_time": "2022-01-22T20:02:34.911Z"
      },
      {
        "duration": 39,
        "start_time": "2022-01-22T20:02:34.974Z"
      },
      {
        "duration": 37,
        "start_time": "2022-01-22T20:02:35.014Z"
      },
      {
        "duration": 9,
        "start_time": "2022-01-22T20:05:13.779Z"
      },
      {
        "duration": 7,
        "start_time": "2022-01-22T20:09:35.603Z"
      },
      {
        "duration": 1106,
        "start_time": "2022-01-22T20:09:47.503Z"
      },
      {
        "duration": 1089,
        "start_time": "2022-01-22T20:09:48.611Z"
      },
      {
        "duration": 16,
        "start_time": "2022-01-22T20:09:49.702Z"
      },
      {
        "duration": 5,
        "start_time": "2022-01-22T20:09:49.720Z"
      },
      {
        "duration": 27,
        "start_time": "2022-01-22T20:09:49.726Z"
      },
      {
        "duration": 21,
        "start_time": "2022-01-22T20:09:49.754Z"
      },
      {
        "duration": 18,
        "start_time": "2022-01-22T20:09:49.776Z"
      },
      {
        "duration": 10,
        "start_time": "2022-01-22T20:09:49.796Z"
      },
      {
        "duration": 5,
        "start_time": "2022-01-22T20:09:49.808Z"
      },
      {
        "duration": 20,
        "start_time": "2022-01-22T20:09:49.815Z"
      },
      {
        "duration": 44,
        "start_time": "2022-01-22T20:09:49.836Z"
      },
      {
        "duration": 8,
        "start_time": "2022-01-22T20:09:49.882Z"
      },
      {
        "duration": 9,
        "start_time": "2022-01-22T20:09:49.891Z"
      },
      {
        "duration": 383,
        "start_time": "2022-01-22T20:09:49.901Z"
      },
      {
        "duration": 8,
        "start_time": "2022-01-22T20:10:28.095Z"
      },
      {
        "duration": 332,
        "start_time": "2022-01-22T20:11:21.500Z"
      },
      {
        "duration": 104,
        "start_time": "2022-01-22T20:11:38.182Z"
      },
      {
        "duration": 303,
        "start_time": "2022-01-22T20:11:41.816Z"
      },
      {
        "duration": 316,
        "start_time": "2022-01-22T20:11:49.333Z"
      },
      {
        "duration": 5,
        "start_time": "2022-01-22T20:11:52.109Z"
      },
      {
        "duration": 3,
        "start_time": "2022-01-22T20:12:14.057Z"
      },
      {
        "duration": 3,
        "start_time": "2022-01-22T20:12:18.895Z"
      },
      {
        "duration": 30,
        "start_time": "2022-01-22T20:12:25.845Z"
      },
      {
        "duration": 24,
        "start_time": "2022-01-22T20:12:32.777Z"
      },
      {
        "duration": 14,
        "start_time": "2022-01-22T20:12:39.892Z"
      },
      {
        "duration": 5,
        "start_time": "2022-01-22T20:13:09.331Z"
      },
      {
        "duration": 16,
        "start_time": "2022-01-22T20:13:09.754Z"
      },
      {
        "duration": 13,
        "start_time": "2022-01-22T20:13:13.754Z"
      },
      {
        "duration": 5,
        "start_time": "2022-01-22T20:13:17.132Z"
      },
      {
        "duration": 14,
        "start_time": "2022-01-22T20:13:17.364Z"
      },
      {
        "duration": 23,
        "start_time": "2022-01-22T20:13:20.499Z"
      },
      {
        "duration": 12,
        "start_time": "2022-01-22T20:13:20.723Z"
      },
      {
        "duration": 321,
        "start_time": "2022-01-22T20:14:49.614Z"
      },
      {
        "duration": 21,
        "start_time": "2022-01-22T20:15:02.235Z"
      },
      {
        "duration": -91,
        "start_time": "2022-01-22T20:15:17.483Z"
      },
      {
        "duration": -96,
        "start_time": "2022-01-22T20:15:27.076Z"
      },
      {
        "duration": 1098,
        "start_time": "2022-01-22T20:15:32.911Z"
      },
      {
        "duration": 790,
        "start_time": "2022-01-22T20:15:34.011Z"
      },
      {
        "duration": 15,
        "start_time": "2022-01-22T20:15:34.803Z"
      },
      {
        "duration": 6,
        "start_time": "2022-01-22T20:15:34.820Z"
      },
      {
        "duration": 24,
        "start_time": "2022-01-22T20:15:34.828Z"
      },
      {
        "duration": 20,
        "start_time": "2022-01-22T20:15:34.853Z"
      },
      {
        "duration": 17,
        "start_time": "2022-01-22T20:15:34.874Z"
      },
      {
        "duration": 10,
        "start_time": "2022-01-22T20:15:34.893Z"
      },
      {
        "duration": 5,
        "start_time": "2022-01-22T20:15:34.904Z"
      },
      {
        "duration": 24,
        "start_time": "2022-01-22T20:15:34.911Z"
      },
      {
        "duration": 51,
        "start_time": "2022-01-22T20:15:34.937Z"
      },
      {
        "duration": 17,
        "start_time": "2022-01-22T20:15:34.990Z"
      },
      {
        "duration": 8,
        "start_time": "2022-01-22T20:15:35.009Z"
      },
      {
        "duration": 26,
        "start_time": "2022-01-22T20:15:35.018Z"
      },
      {
        "duration": 34,
        "start_time": "2022-01-22T20:15:35.046Z"
      },
      {
        "duration": 21,
        "start_time": "2022-01-22T20:15:35.082Z"
      },
      {
        "duration": 10,
        "start_time": "2022-01-22T20:15:35.104Z"
      },
      {
        "duration": 1155,
        "start_time": "2022-01-22T20:16:20.179Z"
      },
      {
        "duration": 1838,
        "start_time": "2022-01-22T20:16:21.336Z"
      },
      {
        "duration": 16,
        "start_time": "2022-01-22T20:16:23.176Z"
      },
      {
        "duration": 6,
        "start_time": "2022-01-22T20:16:23.193Z"
      },
      {
        "duration": 30,
        "start_time": "2022-01-22T20:16:23.201Z"
      },
      {
        "duration": 44,
        "start_time": "2022-01-22T20:16:23.234Z"
      },
      {
        "duration": 17,
        "start_time": "2022-01-22T20:16:23.280Z"
      },
      {
        "duration": 11,
        "start_time": "2022-01-22T20:16:23.298Z"
      },
      {
        "duration": 5,
        "start_time": "2022-01-22T20:16:23.311Z"
      },
      {
        "duration": 56,
        "start_time": "2022-01-22T20:16:23.318Z"
      },
      {
        "duration": 20,
        "start_time": "2022-01-22T20:16:23.376Z"
      },
      {
        "duration": 16,
        "start_time": "2022-01-22T20:16:23.398Z"
      },
      {
        "duration": 8,
        "start_time": "2022-01-22T20:16:23.416Z"
      },
      {
        "duration": 47,
        "start_time": "2022-01-22T20:16:23.426Z"
      },
      {
        "duration": 12,
        "start_time": "2022-01-22T20:16:23.475Z"
      },
      {
        "duration": 19,
        "start_time": "2022-01-22T20:16:23.488Z"
      },
      {
        "duration": 9,
        "start_time": "2022-01-22T20:16:23.509Z"
      },
      {
        "duration": 15,
        "start_time": "2022-01-22T20:16:50.596Z"
      },
      {
        "duration": 11,
        "start_time": "2022-01-22T20:16:51.686Z"
      },
      {
        "duration": 1118,
        "start_time": "2022-01-22T20:17:08.149Z"
      },
      {
        "duration": 961,
        "start_time": "2022-01-22T20:17:09.269Z"
      },
      {
        "duration": 18,
        "start_time": "2022-01-22T20:17:10.232Z"
      },
      {
        "duration": 5,
        "start_time": "2022-01-22T20:17:10.252Z"
      },
      {
        "duration": 25,
        "start_time": "2022-01-22T20:17:10.259Z"
      },
      {
        "duration": 22,
        "start_time": "2022-01-22T20:17:10.286Z"
      },
      {
        "duration": 19,
        "start_time": "2022-01-22T20:17:10.310Z"
      },
      {
        "duration": 11,
        "start_time": "2022-01-22T20:17:10.331Z"
      },
      {
        "duration": 33,
        "start_time": "2022-01-22T20:17:10.344Z"
      },
      {
        "duration": 29,
        "start_time": "2022-01-22T20:17:10.379Z"
      },
      {
        "duration": 21,
        "start_time": "2022-01-22T20:17:10.410Z"
      },
      {
        "duration": 44,
        "start_time": "2022-01-22T20:17:10.433Z"
      },
      {
        "duration": 8,
        "start_time": "2022-01-22T20:17:10.479Z"
      },
      {
        "duration": 26,
        "start_time": "2022-01-22T20:17:10.489Z"
      },
      {
        "duration": 12,
        "start_time": "2022-01-22T20:17:10.517Z"
      },
      {
        "duration": 49,
        "start_time": "2022-01-22T20:17:10.531Z"
      },
      {
        "duration": 10,
        "start_time": "2022-01-22T20:17:10.581Z"
      },
      {
        "duration": 15,
        "start_time": "2022-01-22T20:18:05.517Z"
      },
      {
        "duration": 9,
        "start_time": "2022-01-22T20:18:06.779Z"
      },
      {
        "duration": 16,
        "start_time": "2022-01-22T20:18:26.564Z"
      },
      {
        "duration": 11,
        "start_time": "2022-01-22T20:18:27.114Z"
      },
      {
        "duration": 47,
        "start_time": "2022-01-22T20:20:45.095Z"
      },
      {
        "duration": 11,
        "start_time": "2022-01-22T20:20:48.805Z"
      },
      {
        "duration": 12,
        "start_time": "2022-01-22T20:20:52.181Z"
      },
      {
        "duration": 54,
        "start_time": "2022-01-22T20:21:46.825Z"
      },
      {
        "duration": 53,
        "start_time": "2022-01-22T20:21:57.639Z"
      },
      {
        "duration": 382,
        "start_time": "2022-01-22T20:22:14.842Z"
      },
      {
        "duration": 51,
        "start_time": "2022-01-22T20:23:34.711Z"
      },
      {
        "duration": 56,
        "start_time": "2022-01-22T20:24:49.759Z"
      },
      {
        "duration": 318,
        "start_time": "2022-01-22T20:28:42.270Z"
      },
      {
        "duration": 308,
        "start_time": "2022-01-22T20:28:54.098Z"
      },
      {
        "duration": 52,
        "start_time": "2022-01-22T20:28:56.622Z"
      },
      {
        "duration": 55,
        "start_time": "2022-01-22T20:29:13.749Z"
      },
      {
        "duration": 42,
        "start_time": "2022-01-22T20:29:31.140Z"
      },
      {
        "duration": 42,
        "start_time": "2022-01-22T20:29:38.424Z"
      },
      {
        "duration": 41,
        "start_time": "2022-01-22T20:29:49.127Z"
      },
      {
        "duration": 40,
        "start_time": "2022-01-22T20:29:57.276Z"
      },
      {
        "duration": 42,
        "start_time": "2022-01-22T20:30:06.866Z"
      },
      {
        "duration": 14,
        "start_time": "2022-01-22T20:36:51.153Z"
      },
      {
        "duration": 13,
        "start_time": "2022-01-22T20:37:27.543Z"
      },
      {
        "duration": 39,
        "start_time": "2022-01-22T20:38:16.397Z"
      },
      {
        "duration": 10,
        "start_time": "2022-01-22T20:38:21.467Z"
      },
      {
        "duration": 937,
        "start_time": "2022-01-22T20:38:23.185Z"
      },
      {
        "duration": 22,
        "start_time": "2022-01-22T20:38:34.201Z"
      },
      {
        "duration": 23,
        "start_time": "2022-01-22T20:39:25.688Z"
      },
      {
        "duration": 24,
        "start_time": "2022-01-22T20:39:38.356Z"
      },
      {
        "duration": 44,
        "start_time": "2022-01-22T20:39:53.283Z"
      },
      {
        "duration": 23,
        "start_time": "2022-01-22T20:39:55.547Z"
      },
      {
        "duration": 11,
        "start_time": "2022-01-22T20:43:29.715Z"
      },
      {
        "duration": 23,
        "start_time": "2022-01-22T20:43:48.016Z"
      },
      {
        "duration": 27,
        "start_time": "2022-01-22T20:44:18.853Z"
      },
      {
        "duration": 47,
        "start_time": "2022-01-22T20:44:31.098Z"
      },
      {
        "duration": 311,
        "start_time": "2022-01-22T20:44:54.518Z"
      },
      {
        "duration": 19,
        "start_time": "2022-01-22T20:44:59.530Z"
      },
      {
        "duration": 19,
        "start_time": "2022-01-22T20:45:03.737Z"
      },
      {
        "duration": 11,
        "start_time": "2022-01-22T20:45:17.719Z"
      },
      {
        "duration": 3968,
        "start_time": "2022-01-22T20:45:24.520Z"
      },
      {
        "duration": 95,
        "start_time": "2022-01-22T20:45:28.394Z"
      },
      {
        "duration": 1110,
        "start_time": "2022-01-22T20:45:35.105Z"
      },
      {
        "duration": 878,
        "start_time": "2022-01-22T20:45:36.217Z"
      },
      {
        "duration": 16,
        "start_time": "2022-01-22T20:45:37.097Z"
      },
      {
        "duration": 6,
        "start_time": "2022-01-22T20:45:37.115Z"
      },
      {
        "duration": 25,
        "start_time": "2022-01-22T20:45:37.122Z"
      },
      {
        "duration": 29,
        "start_time": "2022-01-22T20:45:37.148Z"
      },
      {
        "duration": 18,
        "start_time": "2022-01-22T20:45:37.179Z"
      },
      {
        "duration": 11,
        "start_time": "2022-01-22T20:45:37.199Z"
      },
      {
        "duration": 5,
        "start_time": "2022-01-22T20:45:37.212Z"
      },
      {
        "duration": 55,
        "start_time": "2022-01-22T20:45:37.218Z"
      },
      {
        "duration": 21,
        "start_time": "2022-01-22T20:45:37.274Z"
      },
      {
        "duration": 17,
        "start_time": "2022-01-22T20:45:37.296Z"
      },
      {
        "duration": 9,
        "start_time": "2022-01-22T20:45:37.315Z"
      },
      {
        "duration": 76,
        "start_time": "2022-01-22T20:45:37.326Z"
      },
      {
        "duration": 26,
        "start_time": "2022-01-22T20:45:37.404Z"
      },
      {
        "duration": 1293,
        "start_time": "2022-01-22T20:45:37.432Z"
      },
      {
        "duration": 31,
        "start_time": "2022-01-22T20:45:38.696Z"
      },
      {
        "duration": 18,
        "start_time": "2022-01-22T20:45:38.710Z"
      },
      {
        "duration": 18,
        "start_time": "2022-01-22T20:45:38.712Z"
      },
      {
        "duration": 311,
        "start_time": "2022-01-22T20:45:49.616Z"
      },
      {
        "duration": 1087,
        "start_time": "2022-01-22T20:45:54.526Z"
      },
      {
        "duration": 1205,
        "start_time": "2022-01-22T20:45:55.614Z"
      },
      {
        "duration": 17,
        "start_time": "2022-01-22T20:45:56.821Z"
      },
      {
        "duration": 18,
        "start_time": "2022-01-22T20:45:56.839Z"
      },
      {
        "duration": 30,
        "start_time": "2022-01-22T20:45:56.858Z"
      },
      {
        "duration": 21,
        "start_time": "2022-01-22T20:45:56.889Z"
      },
      {
        "duration": 17,
        "start_time": "2022-01-22T20:45:56.911Z"
      },
      {
        "duration": 10,
        "start_time": "2022-01-22T20:45:56.930Z"
      },
      {
        "duration": 5,
        "start_time": "2022-01-22T20:45:56.942Z"
      },
      {
        "duration": 28,
        "start_time": "2022-01-22T20:45:56.972Z"
      },
      {
        "duration": 20,
        "start_time": "2022-01-22T20:45:57.002Z"
      },
      {
        "duration": 17,
        "start_time": "2022-01-22T20:45:57.024Z"
      },
      {
        "duration": 36,
        "start_time": "2022-01-22T20:45:57.043Z"
      },
      {
        "duration": 52,
        "start_time": "2022-01-22T20:45:57.080Z"
      },
      {
        "duration": 50,
        "start_time": "2022-01-22T20:45:57.134Z"
      },
      {
        "duration": 46,
        "start_time": "2022-01-22T20:45:57.186Z"
      },
      {
        "duration": 41,
        "start_time": "2022-01-22T20:45:57.234Z"
      },
      {
        "duration": 13,
        "start_time": "2022-01-22T20:45:57.277Z"
      },
      {
        "duration": 30,
        "start_time": "2022-01-22T20:45:57.292Z"
      },
      {
        "duration": 17,
        "start_time": "2022-01-22T20:46:27.737Z"
      },
      {
        "duration": 1064,
        "start_time": "2022-01-22T20:46:57.660Z"
      },
      {
        "duration": 828,
        "start_time": "2022-01-22T20:46:58.725Z"
      },
      {
        "duration": 15,
        "start_time": "2022-01-22T20:46:59.555Z"
      },
      {
        "duration": 5,
        "start_time": "2022-01-22T20:46:59.572Z"
      },
      {
        "duration": 24,
        "start_time": "2022-01-22T20:46:59.578Z"
      },
      {
        "duration": 20,
        "start_time": "2022-01-22T20:46:59.603Z"
      },
      {
        "duration": 17,
        "start_time": "2022-01-22T20:46:59.624Z"
      },
      {
        "duration": 39,
        "start_time": "2022-01-22T20:46:59.642Z"
      },
      {
        "duration": 4,
        "start_time": "2022-01-22T20:46:59.683Z"
      },
      {
        "duration": 24,
        "start_time": "2022-01-22T20:46:59.689Z"
      },
      {
        "duration": 19,
        "start_time": "2022-01-22T20:46:59.715Z"
      },
      {
        "duration": 41,
        "start_time": "2022-01-22T20:46:59.736Z"
      },
      {
        "duration": 9,
        "start_time": "2022-01-22T20:46:59.779Z"
      },
      {
        "duration": 52,
        "start_time": "2022-01-22T20:46:59.790Z"
      },
      {
        "duration": 34,
        "start_time": "2022-01-22T20:46:59.844Z"
      },
      {
        "duration": 49,
        "start_time": "2022-01-22T20:46:59.880Z"
      },
      {
        "duration": 45,
        "start_time": "2022-01-22T20:46:59.931Z"
      },
      {
        "duration": 11,
        "start_time": "2022-01-22T20:46:59.978Z"
      },
      {
        "duration": 25,
        "start_time": "2022-01-22T20:46:59.990Z"
      },
      {
        "duration": 9,
        "start_time": "2022-01-22T20:47:35.987Z"
      },
      {
        "duration": 4,
        "start_time": "2022-01-22T20:49:16.002Z"
      },
      {
        "duration": 9,
        "start_time": "2022-01-22T20:49:23.101Z"
      },
      {
        "duration": 11,
        "start_time": "2022-01-22T20:49:26.376Z"
      },
      {
        "duration": 4,
        "start_time": "2022-01-22T20:52:02.288Z"
      },
      {
        "duration": 17,
        "start_time": "2022-01-22T20:52:15.532Z"
      },
      {
        "duration": 1491,
        "start_time": "2022-01-22T20:52:31.595Z"
      },
      {
        "duration": 916,
        "start_time": "2022-01-22T20:52:33.088Z"
      },
      {
        "duration": 17,
        "start_time": "2022-01-22T20:52:34.006Z"
      },
      {
        "duration": 6,
        "start_time": "2022-01-22T20:52:34.025Z"
      },
      {
        "duration": 31,
        "start_time": "2022-01-22T20:52:34.034Z"
      },
      {
        "duration": 34,
        "start_time": "2022-01-22T20:52:34.067Z"
      },
      {
        "duration": 21,
        "start_time": "2022-01-22T20:52:34.103Z"
      },
      {
        "duration": 18,
        "start_time": "2022-01-22T20:52:34.127Z"
      },
      {
        "duration": 31,
        "start_time": "2022-01-22T20:52:34.147Z"
      },
      {
        "duration": 6,
        "start_time": "2022-01-22T20:52:34.180Z"
      },
      {
        "duration": 28,
        "start_time": "2022-01-22T20:52:34.187Z"
      },
      {
        "duration": 19,
        "start_time": "2022-01-22T20:52:34.217Z"
      },
      {
        "duration": 51,
        "start_time": "2022-01-22T20:52:34.238Z"
      },
      {
        "duration": 9,
        "start_time": "2022-01-22T20:52:34.291Z"
      },
      {
        "duration": 50,
        "start_time": "2022-01-22T20:52:34.301Z"
      },
      {
        "duration": 1255,
        "start_time": "2022-01-22T20:52:34.353Z"
      },
      {
        "duration": 120,
        "start_time": "2022-01-22T20:52:35.490Z"
      },
      {
        "duration": 119,
        "start_time": "2022-01-22T20:52:35.492Z"
      },
      {
        "duration": 113,
        "start_time": "2022-01-22T20:52:35.499Z"
      },
      {
        "duration": 111,
        "start_time": "2022-01-22T20:52:35.502Z"
      },
      {
        "duration": 29,
        "start_time": "2022-01-22T20:52:48.412Z"
      },
      {
        "duration": 26,
        "start_time": "2022-01-22T20:52:53.633Z"
      },
      {
        "duration": 27,
        "start_time": "2022-01-22T20:52:59.304Z"
      },
      {
        "duration": 298,
        "start_time": "2022-01-22T20:53:27.629Z"
      },
      {
        "duration": 62,
        "start_time": "2022-01-22T20:53:45.776Z"
      },
      {
        "duration": 18,
        "start_time": "2022-01-22T20:55:48.030Z"
      },
      {
        "duration": 17,
        "start_time": "2022-01-22T20:55:53.262Z"
      },
      {
        "duration": 16,
        "start_time": "2022-01-22T20:56:13.270Z"
      },
      {
        "duration": 17,
        "start_time": "2022-01-22T20:56:22.336Z"
      },
      {
        "duration": 19,
        "start_time": "2022-01-22T20:56:50.175Z"
      },
      {
        "duration": 16,
        "start_time": "2022-01-22T20:56:55.060Z"
      },
      {
        "duration": 13,
        "start_time": "2022-01-22T20:57:05.421Z"
      },
      {
        "duration": 11,
        "start_time": "2022-01-22T20:57:09.268Z"
      },
      {
        "duration": 852,
        "start_time": "2022-01-22T20:57:31.945Z"
      },
      {
        "duration": 773,
        "start_time": "2022-01-22T20:58:24.440Z"
      },
      {
        "duration": 1174,
        "start_time": "2022-01-22T20:58:29.864Z"
      },
      {
        "duration": 2499,
        "start_time": "2022-01-22T20:58:31.040Z"
      },
      {
        "duration": 16,
        "start_time": "2022-01-22T20:58:33.541Z"
      },
      {
        "duration": 5,
        "start_time": "2022-01-22T20:58:33.559Z"
      },
      {
        "duration": 24,
        "start_time": "2022-01-22T20:58:33.565Z"
      },
      {
        "duration": 20,
        "start_time": "2022-01-22T20:58:33.590Z"
      },
      {
        "duration": 16,
        "start_time": "2022-01-22T20:58:33.612Z"
      },
      {
        "duration": 10,
        "start_time": "2022-01-22T20:58:33.630Z"
      },
      {
        "duration": 32,
        "start_time": "2022-01-22T20:58:33.643Z"
      },
      {
        "duration": 25,
        "start_time": "2022-01-22T20:58:33.676Z"
      },
      {
        "duration": 21,
        "start_time": "2022-01-22T20:58:33.703Z"
      },
      {
        "duration": 16,
        "start_time": "2022-01-22T20:58:33.726Z"
      },
      {
        "duration": 35,
        "start_time": "2022-01-22T20:58:33.743Z"
      },
      {
        "duration": 19,
        "start_time": "2022-01-22T20:58:33.780Z"
      },
      {
        "duration": 787,
        "start_time": "2022-01-22T20:58:33.801Z"
      },
      {
        "duration": 144,
        "start_time": "2022-01-22T20:58:34.446Z"
      },
      {
        "duration": 133,
        "start_time": "2022-01-22T20:58:34.458Z"
      },
      {
        "duration": 132,
        "start_time": "2022-01-22T20:58:34.460Z"
      },
      {
        "duration": 131,
        "start_time": "2022-01-22T20:58:34.462Z"
      },
      {
        "duration": 129,
        "start_time": "2022-01-22T20:58:34.464Z"
      },
      {
        "duration": 123,
        "start_time": "2022-01-22T20:58:34.471Z"
      },
      {
        "duration": 859,
        "start_time": "2022-01-22T21:00:01.671Z"
      },
      {
        "duration": 98,
        "start_time": "2022-01-22T21:00:21.696Z"
      },
      {
        "duration": 890,
        "start_time": "2022-01-22T21:00:25.007Z"
      },
      {
        "duration": 1167,
        "start_time": "2022-01-23T10:33:05.595Z"
      },
      {
        "duration": 1136,
        "start_time": "2022-01-23T10:33:06.763Z"
      },
      {
        "duration": 17,
        "start_time": "2022-01-23T10:33:07.901Z"
      },
      {
        "duration": 9,
        "start_time": "2022-01-23T10:33:07.920Z"
      },
      {
        "duration": 39,
        "start_time": "2022-01-23T10:33:07.931Z"
      },
      {
        "duration": 27,
        "start_time": "2022-01-23T10:33:07.972Z"
      },
      {
        "duration": 18,
        "start_time": "2022-01-23T10:33:08.001Z"
      },
      {
        "duration": 18,
        "start_time": "2022-01-23T10:33:08.022Z"
      },
      {
        "duration": 14,
        "start_time": "2022-01-23T10:33:08.042Z"
      },
      {
        "duration": 47,
        "start_time": "2022-01-23T10:33:08.058Z"
      },
      {
        "duration": 22,
        "start_time": "2022-01-23T10:33:08.107Z"
      },
      {
        "duration": 22,
        "start_time": "2022-01-23T10:33:08.130Z"
      },
      {
        "duration": 22,
        "start_time": "2022-01-23T10:33:08.154Z"
      },
      {
        "duration": 34,
        "start_time": "2022-01-23T10:33:08.178Z"
      },
      {
        "duration": 1703,
        "start_time": "2022-01-23T10:33:08.213Z"
      },
      {
        "duration": 2,
        "start_time": "2022-01-23T10:33:09.916Z"
      },
      {
        "duration": 1,
        "start_time": "2022-01-23T10:33:09.918Z"
      },
      {
        "duration": -6,
        "start_time": "2022-01-23T10:33:09.926Z"
      },
      {
        "duration": -7,
        "start_time": "2022-01-23T10:33:09.928Z"
      },
      {
        "duration": -7,
        "start_time": "2022-01-23T10:33:09.930Z"
      },
      {
        "duration": -8,
        "start_time": "2022-01-23T10:33:09.932Z"
      },
      {
        "duration": 1165,
        "start_time": "2022-01-23T11:15:53.902Z"
      },
      {
        "duration": 2967,
        "start_time": "2022-01-23T11:15:55.070Z"
      },
      {
        "duration": 18,
        "start_time": "2022-01-23T11:15:59.048Z"
      },
      {
        "duration": 6,
        "start_time": "2022-01-23T11:16:00.239Z"
      },
      {
        "duration": 27,
        "start_time": "2022-01-23T11:16:00.789Z"
      },
      {
        "duration": 25,
        "start_time": "2022-01-23T11:16:01.491Z"
      },
      {
        "duration": 19,
        "start_time": "2022-01-23T11:16:02.297Z"
      },
      {
        "duration": 12,
        "start_time": "2022-01-23T11:16:03.324Z"
      },
      {
        "duration": 3,
        "start_time": "2022-01-23T11:16:05.993Z"
      },
      {
        "duration": 53,
        "start_time": "2022-01-23T11:16:07.238Z"
      },
      {
        "duration": 56,
        "start_time": "2022-01-23T11:16:29.750Z"
      },
      {
        "duration": 5,
        "start_time": "2022-01-23T11:16:29.824Z"
      },
      {
        "duration": 1149,
        "start_time": "2022-01-23T11:16:41.016Z"
      },
      {
        "duration": 2714,
        "start_time": "2022-01-23T11:16:42.167Z"
      },
      {
        "duration": 17,
        "start_time": "2022-01-23T11:16:44.883Z"
      },
      {
        "duration": 8,
        "start_time": "2022-01-23T11:16:44.901Z"
      },
      {
        "duration": 29,
        "start_time": "2022-01-23T11:16:44.910Z"
      },
      {
        "duration": 21,
        "start_time": "2022-01-23T11:16:44.941Z"
      },
      {
        "duration": 39,
        "start_time": "2022-01-23T11:16:44.964Z"
      },
      {
        "duration": 13,
        "start_time": "2022-01-23T11:16:45.006Z"
      },
      {
        "duration": 8,
        "start_time": "2022-01-23T11:16:45.021Z"
      },
      {
        "duration": 81,
        "start_time": "2022-01-23T11:16:45.030Z"
      },
      {
        "duration": 10,
        "start_time": "2022-01-23T11:16:45.113Z"
      },
      {
        "duration": 20,
        "start_time": "2022-01-23T11:16:45.124Z"
      },
      {
        "duration": 768,
        "start_time": "2022-01-23T11:16:45.146Z"
      },
      {
        "duration": -99,
        "start_time": "2022-01-23T11:16:46.015Z"
      },
      {
        "duration": -99,
        "start_time": "2022-01-23T11:16:46.017Z"
      },
      {
        "duration": -100,
        "start_time": "2022-01-23T11:16:46.019Z"
      },
      {
        "duration": -101,
        "start_time": "2022-01-23T11:16:46.021Z"
      },
      {
        "duration": -101,
        "start_time": "2022-01-23T11:16:46.023Z"
      },
      {
        "duration": -102,
        "start_time": "2022-01-23T11:16:46.025Z"
      },
      {
        "duration": 54,
        "start_time": "2022-01-23T11:16:57.581Z"
      },
      {
        "duration": 4,
        "start_time": "2022-01-23T11:17:10.574Z"
      },
      {
        "duration": 5,
        "start_time": "2022-01-23T11:17:15.027Z"
      },
      {
        "duration": 1182,
        "start_time": "2022-01-23T11:17:29.082Z"
      },
      {
        "duration": 2548,
        "start_time": "2022-01-23T11:17:30.267Z"
      },
      {
        "duration": 19,
        "start_time": "2022-01-23T11:17:32.817Z"
      },
      {
        "duration": 23,
        "start_time": "2022-01-23T11:17:32.839Z"
      },
      {
        "duration": 39,
        "start_time": "2022-01-23T11:17:32.864Z"
      },
      {
        "duration": 23,
        "start_time": "2022-01-23T11:17:32.905Z"
      },
      {
        "duration": 23,
        "start_time": "2022-01-23T11:17:32.930Z"
      },
      {
        "duration": 11,
        "start_time": "2022-01-23T11:17:32.955Z"
      },
      {
        "duration": 33,
        "start_time": "2022-01-23T11:17:32.968Z"
      },
      {
        "duration": 58,
        "start_time": "2022-01-23T11:17:33.002Z"
      },
      {
        "duration": 5,
        "start_time": "2022-01-23T11:17:33.062Z"
      },
      {
        "duration": 17,
        "start_time": "2022-01-23T11:17:33.068Z"
      },
      {
        "duration": 18,
        "start_time": "2022-01-23T11:17:33.098Z"
      },
      {
        "duration": 742,
        "start_time": "2022-01-23T11:17:33.117Z"
      },
      {
        "duration": -6,
        "start_time": "2022-01-23T11:17:33.868Z"
      },
      {
        "duration": -8,
        "start_time": "2022-01-23T11:17:33.871Z"
      },
      {
        "duration": -7,
        "start_time": "2022-01-23T11:17:33.872Z"
      },
      {
        "duration": -8,
        "start_time": "2022-01-23T11:17:33.874Z"
      },
      {
        "duration": -8,
        "start_time": "2022-01-23T11:17:33.876Z"
      },
      {
        "duration": -7,
        "start_time": "2022-01-23T11:17:33.877Z"
      },
      {
        "duration": 4,
        "start_time": "2022-01-23T11:18:27.538Z"
      },
      {
        "duration": 1148,
        "start_time": "2022-01-23T11:18:33.106Z"
      },
      {
        "duration": 1898,
        "start_time": "2022-01-23T11:18:34.256Z"
      },
      {
        "duration": 18,
        "start_time": "2022-01-23T11:18:36.155Z"
      },
      {
        "duration": 15,
        "start_time": "2022-01-23T11:18:36.175Z"
      },
      {
        "duration": 29,
        "start_time": "2022-01-23T11:18:36.192Z"
      },
      {
        "duration": 25,
        "start_time": "2022-01-23T11:18:36.223Z"
      },
      {
        "duration": 21,
        "start_time": "2022-01-23T11:18:36.249Z"
      },
      {
        "duration": 34,
        "start_time": "2022-01-23T11:18:36.272Z"
      },
      {
        "duration": 2,
        "start_time": "2022-01-23T11:18:36.309Z"
      },
      {
        "duration": 5,
        "start_time": "2022-01-23T11:18:36.313Z"
      },
      {
        "duration": 7,
        "start_time": "2022-01-23T11:18:36.319Z"
      },
      {
        "duration": 11,
        "start_time": "2022-01-23T11:18:36.327Z"
      },
      {
        "duration": 24,
        "start_time": "2022-01-23T11:18:36.340Z"
      },
      {
        "duration": 721,
        "start_time": "2022-01-23T11:18:36.366Z"
      },
      {
        "duration": -9,
        "start_time": "2022-01-23T11:18:37.098Z"
      },
      {
        "duration": -9,
        "start_time": "2022-01-23T11:18:37.100Z"
      },
      {
        "duration": -11,
        "start_time": "2022-01-23T11:18:37.103Z"
      },
      {
        "duration": -12,
        "start_time": "2022-01-23T11:18:37.105Z"
      },
      {
        "duration": -17,
        "start_time": "2022-01-23T11:18:37.111Z"
      },
      {
        "duration": -17,
        "start_time": "2022-01-23T11:18:37.112Z"
      },
      {
        "duration": 54,
        "start_time": "2022-01-23T11:19:41.296Z"
      },
      {
        "duration": 6,
        "start_time": "2022-01-23T11:19:42.994Z"
      },
      {
        "duration": 62,
        "start_time": "2022-01-23T11:20:00.272Z"
      },
      {
        "duration": 111,
        "start_time": "2022-01-23T11:20:05.712Z"
      },
      {
        "duration": 1314,
        "start_time": "2022-01-23T11:20:18.852Z"
      },
      {
        "duration": 1950,
        "start_time": "2022-01-23T11:20:20.168Z"
      },
      {
        "duration": 18,
        "start_time": "2022-01-23T11:20:22.120Z"
      },
      {
        "duration": 7,
        "start_time": "2022-01-23T11:20:22.140Z"
      },
      {
        "duration": 32,
        "start_time": "2022-01-23T11:20:22.149Z"
      },
      {
        "duration": 32,
        "start_time": "2022-01-23T11:20:22.183Z"
      },
      {
        "duration": 20,
        "start_time": "2022-01-23T11:20:22.217Z"
      },
      {
        "duration": 13,
        "start_time": "2022-01-23T11:20:22.239Z"
      },
      {
        "duration": 5,
        "start_time": "2022-01-23T11:20:22.254Z"
      },
      {
        "duration": 95,
        "start_time": "2022-01-23T11:20:22.261Z"
      },
      {
        "duration": 5,
        "start_time": "2022-01-23T11:20:22.359Z"
      },
      {
        "duration": 37,
        "start_time": "2022-01-23T11:20:22.367Z"
      },
      {
        "duration": 20,
        "start_time": "2022-01-23T11:20:22.406Z"
      },
      {
        "duration": 734,
        "start_time": "2022-01-23T11:20:22.429Z"
      },
      {
        "duration": -5,
        "start_time": "2022-01-23T11:20:23.169Z"
      },
      {
        "duration": -6,
        "start_time": "2022-01-23T11:20:23.171Z"
      },
      {
        "duration": -7,
        "start_time": "2022-01-23T11:20:23.173Z"
      },
      {
        "duration": -7,
        "start_time": "2022-01-23T11:20:23.175Z"
      },
      {
        "duration": -8,
        "start_time": "2022-01-23T11:20:23.177Z"
      },
      {
        "duration": -8,
        "start_time": "2022-01-23T11:20:23.178Z"
      },
      {
        "duration": 57,
        "start_time": "2022-01-23T11:20:27.873Z"
      },
      {
        "duration": 4,
        "start_time": "2022-01-23T11:20:28.913Z"
      },
      {
        "duration": 357,
        "start_time": "2022-01-23T11:25:13.068Z"
      },
      {
        "duration": -11,
        "start_time": "2022-01-23T11:25:13.439Z"
      },
      {
        "duration": 262,
        "start_time": "2022-01-23T11:26:56.051Z"
      },
      {
        "duration": 267,
        "start_time": "2022-01-23T11:27:00.859Z"
      },
      {
        "duration": -11,
        "start_time": "2022-01-23T11:27:01.140Z"
      },
      {
        "duration": 315,
        "start_time": "2022-01-23T11:27:10.712Z"
      },
      {
        "duration": 51,
        "start_time": "2022-01-23T11:27:16.398Z"
      },
      {
        "duration": 5,
        "start_time": "2022-01-23T11:27:17.485Z"
      },
      {
        "duration": 3,
        "start_time": "2022-01-23T11:27:37.309Z"
      },
      {
        "duration": 54,
        "start_time": "2022-01-23T11:27:38.092Z"
      },
      {
        "duration": 5,
        "start_time": "2022-01-23T11:27:38.861Z"
      },
      {
        "duration": 1168,
        "start_time": "2022-01-23T11:33:07.772Z"
      },
      {
        "duration": 907,
        "start_time": "2022-01-23T11:33:08.942Z"
      },
      {
        "duration": 17,
        "start_time": "2022-01-23T11:33:09.851Z"
      },
      {
        "duration": 5,
        "start_time": "2022-01-23T11:33:09.870Z"
      },
      {
        "duration": 27,
        "start_time": "2022-01-23T11:33:09.877Z"
      },
      {
        "duration": 22,
        "start_time": "2022-01-23T11:33:09.906Z"
      },
      {
        "duration": 19,
        "start_time": "2022-01-23T11:33:09.929Z"
      },
      {
        "duration": 10,
        "start_time": "2022-01-23T11:33:09.950Z"
      },
      {
        "duration": 3,
        "start_time": "2022-01-23T11:33:09.962Z"
      },
      {
        "duration": 84,
        "start_time": "2022-01-23T11:33:09.966Z"
      },
      {
        "duration": 5,
        "start_time": "2022-01-23T11:33:10.052Z"
      },
      {
        "duration": 15,
        "start_time": "2022-01-23T11:33:10.058Z"
      },
      {
        "duration": 33,
        "start_time": "2022-01-23T11:33:10.075Z"
      },
      {
        "duration": 2451,
        "start_time": "2022-01-23T11:33:10.110Z"
      },
      {
        "duration": -89,
        "start_time": "2022-01-23T11:33:12.652Z"
      },
      {
        "duration": -96,
        "start_time": "2022-01-23T11:33:12.660Z"
      },
      {
        "duration": -98,
        "start_time": "2022-01-23T11:33:12.663Z"
      },
      {
        "duration": -99,
        "start_time": "2022-01-23T11:33:12.665Z"
      },
      {
        "duration": -100,
        "start_time": "2022-01-23T11:33:12.667Z"
      },
      {
        "duration": -100,
        "start_time": "2022-01-23T11:33:12.669Z"
      },
      {
        "duration": 25,
        "start_time": "2022-01-23T11:34:15.249Z"
      },
      {
        "duration": 5,
        "start_time": "2022-01-23T11:34:16.095Z"
      },
      {
        "duration": 27,
        "start_time": "2022-01-23T11:35:36.697Z"
      },
      {
        "duration": 30,
        "start_time": "2022-01-23T11:35:36.962Z"
      },
      {
        "duration": 22,
        "start_time": "2022-01-23T11:35:37.206Z"
      },
      {
        "duration": 19,
        "start_time": "2022-01-23T11:35:37.446Z"
      },
      {
        "duration": 9,
        "start_time": "2022-01-23T11:35:56.644Z"
      },
      {
        "duration": 7,
        "start_time": "2022-01-23T11:36:29.827Z"
      },
      {
        "duration": 1172,
        "start_time": "2022-01-23T11:36:59.270Z"
      },
      {
        "duration": 2039,
        "start_time": "2022-01-23T11:37:00.444Z"
      },
      {
        "duration": 18,
        "start_time": "2022-01-23T11:37:02.488Z"
      },
      {
        "duration": 10,
        "start_time": "2022-01-23T11:37:02.508Z"
      },
      {
        "duration": 42,
        "start_time": "2022-01-23T11:37:02.520Z"
      },
      {
        "duration": 34,
        "start_time": "2022-01-23T11:37:02.564Z"
      },
      {
        "duration": 20,
        "start_time": "2022-01-23T11:37:02.602Z"
      },
      {
        "duration": 31,
        "start_time": "2022-01-23T11:37:02.624Z"
      },
      {
        "duration": 33,
        "start_time": "2022-01-23T11:37:02.657Z"
      },
      {
        "duration": 29,
        "start_time": "2022-01-23T11:37:02.699Z"
      },
      {
        "duration": 22,
        "start_time": "2022-01-23T11:37:02.730Z"
      },
      {
        "duration": 45,
        "start_time": "2022-01-23T11:37:02.754Z"
      },
      {
        "duration": 10,
        "start_time": "2022-01-23T11:37:02.801Z"
      },
      {
        "duration": 32,
        "start_time": "2022-01-23T11:37:02.813Z"
      },
      {
        "duration": 697,
        "start_time": "2022-01-23T11:37:02.847Z"
      },
      {
        "duration": -27,
        "start_time": "2022-01-23T11:37:03.573Z"
      },
      {
        "duration": -27,
        "start_time": "2022-01-23T11:37:03.574Z"
      },
      {
        "duration": -28,
        "start_time": "2022-01-23T11:37:03.576Z"
      },
      {
        "duration": -37,
        "start_time": "2022-01-23T11:37:03.586Z"
      },
      {
        "duration": -39,
        "start_time": "2022-01-23T11:37:03.589Z"
      },
      {
        "duration": -40,
        "start_time": "2022-01-23T11:37:03.591Z"
      },
      {
        "duration": 9,
        "start_time": "2022-01-23T11:37:27.404Z"
      },
      {
        "duration": 8,
        "start_time": "2022-01-23T11:37:35.665Z"
      },
      {
        "duration": 8,
        "start_time": "2022-01-23T11:37:35.845Z"
      },
      {
        "duration": 7,
        "start_time": "2022-01-23T11:37:36.021Z"
      },
      {
        "duration": 7,
        "start_time": "2022-01-23T11:37:36.213Z"
      },
      {
        "duration": 9,
        "start_time": "2022-01-23T11:37:41.822Z"
      },
      {
        "duration": 17,
        "start_time": "2022-01-23T11:37:43.841Z"
      },
      {
        "duration": 18,
        "start_time": "2022-01-23T11:37:58.236Z"
      },
      {
        "duration": 18,
        "start_time": "2022-01-23T11:38:30.843Z"
      },
      {
        "duration": 48890,
        "start_time": "2022-01-23T11:40:05.571Z"
      },
      {
        "duration": 250,
        "start_time": "2022-01-23T11:44:10.872Z"
      },
      {
        "duration": 255,
        "start_time": "2022-01-23T11:44:14.003Z"
      },
      {
        "duration": 5,
        "start_time": "2022-01-23T11:46:00.636Z"
      },
      {
        "duration": 4,
        "start_time": "2022-01-23T11:46:13.020Z"
      },
      {
        "duration": 6,
        "start_time": "2022-01-23T11:46:19.461Z"
      },
      {
        "duration": 5,
        "start_time": "2022-01-23T11:46:24.988Z"
      },
      {
        "duration": 5,
        "start_time": "2022-01-23T11:46:49.261Z"
      },
      {
        "duration": 6,
        "start_time": "2022-01-23T11:47:14.315Z"
      },
      {
        "duration": 12,
        "start_time": "2022-01-23T11:48:00.062Z"
      },
      {
        "duration": 19,
        "start_time": "2022-01-23T11:48:48.150Z"
      },
      {
        "duration": 4,
        "start_time": "2022-01-23T11:48:56.996Z"
      },
      {
        "duration": 2157,
        "start_time": "2022-01-23T11:49:09.009Z"
      },
      {
        "duration": 4008,
        "start_time": "2022-01-23T11:49:11.168Z"
      },
      {
        "duration": 16,
        "start_time": "2022-01-23T11:49:15.178Z"
      },
      {
        "duration": 15,
        "start_time": "2022-01-23T11:49:15.196Z"
      },
      {
        "duration": 43,
        "start_time": "2022-01-23T11:49:15.212Z"
      },
      {
        "duration": 22,
        "start_time": "2022-01-23T11:49:15.256Z"
      },
      {
        "duration": 30,
        "start_time": "2022-01-23T11:49:15.279Z"
      },
      {
        "duration": 21,
        "start_time": "2022-01-23T11:49:15.311Z"
      },
      {
        "duration": 97,
        "start_time": "2022-01-23T11:49:15.334Z"
      },
      {
        "duration": 360,
        "start_time": "2022-01-23T11:49:15.433Z"
      },
      {
        "duration": -3,
        "start_time": "2022-01-23T11:49:15.798Z"
      },
      {
        "duration": -5,
        "start_time": "2022-01-23T11:49:15.801Z"
      },
      {
        "duration": -6,
        "start_time": "2022-01-23T11:49:15.803Z"
      },
      {
        "duration": -10,
        "start_time": "2022-01-23T11:49:15.809Z"
      },
      {
        "duration": -12,
        "start_time": "2022-01-23T11:49:15.811Z"
      },
      {
        "duration": -13,
        "start_time": "2022-01-23T11:49:15.813Z"
      },
      {
        "duration": -14,
        "start_time": "2022-01-23T11:49:15.815Z"
      },
      {
        "duration": -14,
        "start_time": "2022-01-23T11:49:15.816Z"
      },
      {
        "duration": -14,
        "start_time": "2022-01-23T11:49:15.818Z"
      },
      {
        "duration": -15,
        "start_time": "2022-01-23T11:49:15.820Z"
      },
      {
        "duration": -15,
        "start_time": "2022-01-23T11:49:15.821Z"
      },
      {
        "duration": -16,
        "start_time": "2022-01-23T11:49:15.823Z"
      },
      {
        "duration": 3,
        "start_time": "2022-01-23T11:49:22.478Z"
      },
      {
        "duration": 1121,
        "start_time": "2022-01-23T11:50:09.939Z"
      },
      {
        "duration": 881,
        "start_time": "2022-01-23T11:50:11.062Z"
      },
      {
        "duration": 17,
        "start_time": "2022-01-23T11:50:11.946Z"
      },
      {
        "duration": 5,
        "start_time": "2022-01-23T11:50:11.964Z"
      },
      {
        "duration": 37,
        "start_time": "2022-01-23T11:50:11.971Z"
      },
      {
        "duration": 22,
        "start_time": "2022-01-23T11:50:12.009Z"
      },
      {
        "duration": 19,
        "start_time": "2022-01-23T11:50:12.033Z"
      },
      {
        "duration": 12,
        "start_time": "2022-01-23T11:50:12.054Z"
      },
      {
        "duration": 51,
        "start_time": "2022-01-23T11:50:12.068Z"
      },
      {
        "duration": 5,
        "start_time": "2022-01-23T11:50:12.121Z"
      },
      {
        "duration": 28,
        "start_time": "2022-01-23T11:50:12.128Z"
      },
      {
        "duration": 47,
        "start_time": "2022-01-23T11:50:12.157Z"
      },
      {
        "duration": 18,
        "start_time": "2022-01-23T11:50:12.205Z"
      },
      {
        "duration": 9,
        "start_time": "2022-01-23T11:50:12.224Z"
      },
      {
        "duration": 13447,
        "start_time": "2022-01-23T11:50:12.235Z"
      },
      {
        "duration": -77,
        "start_time": "2022-01-23T11:50:25.761Z"
      },
      {
        "duration": -78,
        "start_time": "2022-01-23T11:50:25.763Z"
      },
      {
        "duration": -79,
        "start_time": "2022-01-23T11:50:25.765Z"
      },
      {
        "duration": -81,
        "start_time": "2022-01-23T11:50:25.768Z"
      },
      {
        "duration": -82,
        "start_time": "2022-01-23T11:50:25.770Z"
      },
      {
        "duration": -83,
        "start_time": "2022-01-23T11:50:25.772Z"
      },
      {
        "duration": 2918,
        "start_time": "2022-01-23T11:50:31.660Z"
      },
      {
        "duration": 89,
        "start_time": "2022-01-23T11:56:05.054Z"
      },
      {
        "duration": 482,
        "start_time": "2022-01-23T11:56:19.356Z"
      },
      {
        "duration": 8,
        "start_time": "2022-01-23T11:56:19.833Z"
      },
      {
        "duration": 94,
        "start_time": "2022-01-23T11:56:58.756Z"
      },
      {
        "duration": 436,
        "start_time": "2022-01-23T11:57:10.224Z"
      },
      {
        "duration": 91,
        "start_time": "2022-01-23T11:57:24.136Z"
      },
      {
        "duration": 84,
        "start_time": "2022-01-23T11:57:28.185Z"
      },
      {
        "duration": 95,
        "start_time": "2022-01-23T11:57:35.611Z"
      },
      {
        "duration": 84,
        "start_time": "2022-01-23T11:58:04.736Z"
      },
      {
        "duration": 87,
        "start_time": "2022-01-23T11:58:12.787Z"
      },
      {
        "duration": 440,
        "start_time": "2022-01-23T11:58:15.115Z"
      },
      {
        "duration": 493,
        "start_time": "2022-01-23T11:58:19.963Z"
      },
      {
        "duration": 646,
        "start_time": "2022-01-23T11:58:25.287Z"
      },
      {
        "duration": 439,
        "start_time": "2022-01-23T11:58:34.589Z"
      },
      {
        "duration": 419,
        "start_time": "2022-01-23T11:58:39.300Z"
      },
      {
        "duration": 77,
        "start_time": "2022-01-23T11:58:42.745Z"
      },
      {
        "duration": 130,
        "start_time": "2022-01-23T11:58:46.050Z"
      },
      {
        "duration": 97,
        "start_time": "2022-01-23T11:58:54.966Z"
      },
      {
        "duration": 425,
        "start_time": "2022-01-23T11:58:59.050Z"
      },
      {
        "duration": 82,
        "start_time": "2022-01-23T11:59:02.209Z"
      },
      {
        "duration": 90,
        "start_time": "2022-01-23T11:59:09.991Z"
      },
      {
        "duration": 100,
        "start_time": "2022-01-23T11:59:14.080Z"
      },
      {
        "duration": 1138,
        "start_time": "2022-01-23T11:59:34.023Z"
      },
      {
        "duration": 2211,
        "start_time": "2022-01-23T11:59:35.163Z"
      },
      {
        "duration": 17,
        "start_time": "2022-01-23T11:59:37.376Z"
      },
      {
        "duration": 9,
        "start_time": "2022-01-23T11:59:37.395Z"
      },
      {
        "duration": 28,
        "start_time": "2022-01-23T11:59:37.406Z"
      },
      {
        "duration": 22,
        "start_time": "2022-01-23T11:59:37.436Z"
      },
      {
        "duration": 45,
        "start_time": "2022-01-23T11:59:37.461Z"
      },
      {
        "duration": 11,
        "start_time": "2022-01-23T11:59:37.509Z"
      },
      {
        "duration": 28,
        "start_time": "2022-01-23T11:59:37.522Z"
      },
      {
        "duration": 5,
        "start_time": "2022-01-23T11:59:37.552Z"
      },
      {
        "duration": 58,
        "start_time": "2022-01-23T11:59:37.559Z"
      },
      {
        "duration": 25,
        "start_time": "2022-01-23T11:59:37.620Z"
      },
      {
        "duration": 20,
        "start_time": "2022-01-23T11:59:37.648Z"
      },
      {
        "duration": 39,
        "start_time": "2022-01-23T11:59:37.670Z"
      },
      {
        "duration": 12088,
        "start_time": "2022-01-23T11:59:37.711Z"
      },
      {
        "duration": 33,
        "start_time": "2022-01-23T11:59:49.768Z"
      },
      {
        "duration": 32,
        "start_time": "2022-01-23T11:59:49.770Z"
      },
      {
        "duration": 31,
        "start_time": "2022-01-23T11:59:49.772Z"
      },
      {
        "duration": 29,
        "start_time": "2022-01-23T11:59:49.775Z"
      },
      {
        "duration": 29,
        "start_time": "2022-01-23T11:59:49.776Z"
      },
      {
        "duration": 28,
        "start_time": "2022-01-23T11:59:49.778Z"
      },
      {
        "duration": 27,
        "start_time": "2022-01-23T11:59:49.779Z"
      },
      {
        "duration": 4,
        "start_time": "2022-01-23T11:59:52.026Z"
      },
      {
        "duration": 5,
        "start_time": "2022-01-23T11:59:56.027Z"
      },
      {
        "duration": 263,
        "start_time": "2022-01-23T12:01:24.694Z"
      },
      {
        "duration": 1112,
        "start_time": "2022-01-23T12:01:43.444Z"
      },
      {
        "duration": 905,
        "start_time": "2022-01-23T12:01:44.557Z"
      },
      {
        "duration": 18,
        "start_time": "2022-01-23T12:01:45.464Z"
      },
      {
        "duration": 5,
        "start_time": "2022-01-23T12:01:45.484Z"
      },
      {
        "duration": 31,
        "start_time": "2022-01-23T12:01:45.491Z"
      },
      {
        "duration": 23,
        "start_time": "2022-01-23T12:01:45.523Z"
      },
      {
        "duration": 20,
        "start_time": "2022-01-23T12:01:45.547Z"
      },
      {
        "duration": 36,
        "start_time": "2022-01-23T12:01:45.569Z"
      },
      {
        "duration": 29,
        "start_time": "2022-01-23T12:01:45.606Z"
      },
      {
        "duration": 6,
        "start_time": "2022-01-23T12:01:45.636Z"
      },
      {
        "duration": 31,
        "start_time": "2022-01-23T12:01:45.644Z"
      },
      {
        "duration": 24,
        "start_time": "2022-01-23T12:01:45.697Z"
      },
      {
        "duration": 20,
        "start_time": "2022-01-23T12:01:45.722Z"
      },
      {
        "duration": 9,
        "start_time": "2022-01-23T12:01:45.743Z"
      },
      {
        "duration": 366,
        "start_time": "2022-01-23T12:01:45.754Z"
      },
      {
        "duration": 48,
        "start_time": "2022-01-23T12:01:46.073Z"
      },
      {
        "duration": 47,
        "start_time": "2022-01-23T12:01:46.075Z"
      },
      {
        "duration": 45,
        "start_time": "2022-01-23T12:01:46.078Z"
      },
      {
        "duration": 44,
        "start_time": "2022-01-23T12:01:46.080Z"
      },
      {
        "duration": 43,
        "start_time": "2022-01-23T12:01:46.082Z"
      },
      {
        "duration": 43,
        "start_time": "2022-01-23T12:01:46.084Z"
      },
      {
        "duration": 12,
        "start_time": "2022-01-23T12:03:01.146Z"
      },
      {
        "duration": 15,
        "start_time": "2022-01-23T12:03:08.092Z"
      },
      {
        "duration": 27,
        "start_time": "2022-01-23T12:03:32.827Z"
      },
      {
        "duration": 27,
        "start_time": "2022-01-23T12:03:36.828Z"
      },
      {
        "duration": 27,
        "start_time": "2022-01-23T12:04:07.765Z"
      },
      {
        "duration": 18,
        "start_time": "2022-01-23T12:04:16.165Z"
      },
      {
        "duration": 1143,
        "start_time": "2022-01-23T12:04:26.629Z"
      },
      {
        "duration": 943,
        "start_time": "2022-01-23T12:04:27.774Z"
      },
      {
        "duration": 17,
        "start_time": "2022-01-23T12:04:28.719Z"
      },
      {
        "duration": 5,
        "start_time": "2022-01-23T12:04:28.738Z"
      },
      {
        "duration": 29,
        "start_time": "2022-01-23T12:04:28.745Z"
      },
      {
        "duration": 37,
        "start_time": "2022-01-23T12:04:28.776Z"
      },
      {
        "duration": 18,
        "start_time": "2022-01-23T12:04:28.815Z"
      },
      {
        "duration": 11,
        "start_time": "2022-01-23T12:04:28.835Z"
      },
      {
        "duration": 54,
        "start_time": "2022-01-23T12:04:28.848Z"
      },
      {
        "duration": 6,
        "start_time": "2022-01-23T12:04:28.903Z"
      },
      {
        "duration": 35,
        "start_time": "2022-01-23T12:04:28.911Z"
      },
      {
        "duration": 21,
        "start_time": "2022-01-23T12:04:28.948Z"
      },
      {
        "duration": 32,
        "start_time": "2022-01-23T12:04:28.971Z"
      },
      {
        "duration": 8,
        "start_time": "2022-01-23T12:04:29.005Z"
      },
      {
        "duration": 23,
        "start_time": "2022-01-23T12:04:29.015Z"
      },
      {
        "duration": 19,
        "start_time": "2022-01-23T12:04:29.039Z"
      },
      {
        "duration": 78,
        "start_time": "2022-01-23T12:04:29.060Z"
      },
      {
        "duration": 356,
        "start_time": "2022-01-23T12:04:29.139Z"
      },
      {
        "duration": -19,
        "start_time": "2022-01-23T12:04:29.516Z"
      },
      {
        "duration": -20,
        "start_time": "2022-01-23T12:04:29.519Z"
      },
      {
        "duration": -21,
        "start_time": "2022-01-23T12:04:29.521Z"
      },
      {
        "duration": -22,
        "start_time": "2022-01-23T12:04:29.523Z"
      },
      {
        "duration": 20,
        "start_time": "2022-01-23T12:04:43.540Z"
      },
      {
        "duration": 18,
        "start_time": "2022-01-23T12:04:56.709Z"
      },
      {
        "duration": 1168,
        "start_time": "2022-01-23T12:05:45.679Z"
      },
      {
        "duration": 1168,
        "start_time": "2022-01-23T12:05:46.849Z"
      },
      {
        "duration": 17,
        "start_time": "2022-01-23T12:05:48.019Z"
      },
      {
        "duration": 6,
        "start_time": "2022-01-23T12:05:48.038Z"
      },
      {
        "duration": 28,
        "start_time": "2022-01-23T12:05:48.046Z"
      },
      {
        "duration": 35,
        "start_time": "2022-01-23T12:05:48.076Z"
      },
      {
        "duration": 17,
        "start_time": "2022-01-23T12:05:48.113Z"
      },
      {
        "duration": 10,
        "start_time": "2022-01-23T12:05:48.132Z"
      },
      {
        "duration": 27,
        "start_time": "2022-01-23T12:05:48.144Z"
      },
      {
        "duration": 6,
        "start_time": "2022-01-23T12:05:48.199Z"
      },
      {
        "duration": 30,
        "start_time": "2022-01-23T12:05:48.207Z"
      },
      {
        "duration": 21,
        "start_time": "2022-01-23T12:05:48.239Z"
      },
      {
        "duration": 41,
        "start_time": "2022-01-23T12:05:48.261Z"
      },
      {
        "duration": 8,
        "start_time": "2022-01-23T12:05:48.304Z"
      },
      {
        "duration": 20,
        "start_time": "2022-01-23T12:05:48.314Z"
      },
      {
        "duration": 18,
        "start_time": "2022-01-23T12:05:48.336Z"
      },
      {
        "duration": 79,
        "start_time": "2022-01-23T12:05:48.356Z"
      },
      {
        "duration": 363,
        "start_time": "2022-01-23T12:05:48.437Z"
      },
      {
        "duration": 42,
        "start_time": "2022-01-23T12:05:48.761Z"
      },
      {
        "duration": 41,
        "start_time": "2022-01-23T12:05:48.763Z"
      },
      {
        "duration": 39,
        "start_time": "2022-01-23T12:05:48.765Z"
      },
      {
        "duration": 38,
        "start_time": "2022-01-23T12:05:48.767Z"
      },
      {
        "duration": 6,
        "start_time": "2022-01-23T12:06:19.111Z"
      },
      {
        "duration": 7,
        "start_time": "2022-01-23T12:06:46.855Z"
      },
      {
        "duration": 7,
        "start_time": "2022-01-23T12:06:52.403Z"
      },
      {
        "duration": 7,
        "start_time": "2022-01-23T12:06:54.993Z"
      },
      {
        "duration": 7,
        "start_time": "2022-01-23T12:07:06.107Z"
      },
      {
        "duration": 5,
        "start_time": "2022-01-23T12:07:16.633Z"
      },
      {
        "duration": 7,
        "start_time": "2022-01-23T12:07:18.851Z"
      },
      {
        "duration": 1145,
        "start_time": "2022-01-23T12:07:25.016Z"
      },
      {
        "duration": 1966,
        "start_time": "2022-01-23T12:07:26.163Z"
      },
      {
        "duration": 17,
        "start_time": "2022-01-23T12:07:28.133Z"
      },
      {
        "duration": 6,
        "start_time": "2022-01-23T12:07:28.151Z"
      },
      {
        "duration": 28,
        "start_time": "2022-01-23T12:07:28.158Z"
      },
      {
        "duration": 22,
        "start_time": "2022-01-23T12:07:28.188Z"
      },
      {
        "duration": 19,
        "start_time": "2022-01-23T12:07:28.212Z"
      },
      {
        "duration": 13,
        "start_time": "2022-01-23T12:07:28.234Z"
      },
      {
        "duration": 54,
        "start_time": "2022-01-23T12:07:28.249Z"
      },
      {
        "duration": 5,
        "start_time": "2022-01-23T12:07:28.305Z"
      },
      {
        "duration": 30,
        "start_time": "2022-01-23T12:07:28.312Z"
      },
      {
        "duration": 21,
        "start_time": "2022-01-23T12:07:28.344Z"
      },
      {
        "duration": 43,
        "start_time": "2022-01-23T12:07:28.367Z"
      },
      {
        "duration": 9,
        "start_time": "2022-01-23T12:07:28.412Z"
      },
      {
        "duration": 20,
        "start_time": "2022-01-23T12:07:28.422Z"
      },
      {
        "duration": 18,
        "start_time": "2022-01-23T12:07:28.443Z"
      },
      {
        "duration": 5,
        "start_time": "2022-01-23T12:07:28.463Z"
      },
      {
        "duration": 33,
        "start_time": "2022-01-23T12:07:28.470Z"
      },
      {
        "duration": 51,
        "start_time": "2022-01-23T12:07:28.505Z"
      },
      {
        "duration": 367,
        "start_time": "2022-01-23T12:07:28.558Z"
      },
      {
        "duration": 65,
        "start_time": "2022-01-23T12:07:28.862Z"
      },
      {
        "duration": 63,
        "start_time": "2022-01-23T12:07:28.865Z"
      },
      {
        "duration": 63,
        "start_time": "2022-01-23T12:07:28.867Z"
      },
      {
        "duration": 62,
        "start_time": "2022-01-23T12:07:28.869Z"
      },
      {
        "duration": 265,
        "start_time": "2022-01-23T12:08:23.524Z"
      },
      {
        "duration": 6,
        "start_time": "2022-01-23T12:09:06.980Z"
      },
      {
        "duration": 8,
        "start_time": "2022-01-23T12:10:22.432Z"
      },
      {
        "duration": 5,
        "start_time": "2022-01-23T12:10:27.100Z"
      },
      {
        "duration": 1323,
        "start_time": "2022-01-23T12:10:33.945Z"
      },
      {
        "duration": 1881,
        "start_time": "2022-01-23T12:10:35.270Z"
      },
      {
        "duration": 18,
        "start_time": "2022-01-23T12:10:37.153Z"
      },
      {
        "duration": 13,
        "start_time": "2022-01-23T12:10:37.173Z"
      },
      {
        "duration": 33,
        "start_time": "2022-01-23T12:10:37.187Z"
      },
      {
        "duration": 23,
        "start_time": "2022-01-23T12:10:37.221Z"
      },
      {
        "duration": 18,
        "start_time": "2022-01-23T12:10:37.246Z"
      },
      {
        "duration": 17,
        "start_time": "2022-01-23T12:10:37.266Z"
      },
      {
        "duration": 29,
        "start_time": "2022-01-23T12:10:37.300Z"
      },
      {
        "duration": 5,
        "start_time": "2022-01-23T12:10:37.331Z"
      },
      {
        "duration": 31,
        "start_time": "2022-01-23T12:10:37.338Z"
      },
      {
        "duration": 43,
        "start_time": "2022-01-23T12:10:37.371Z"
      },
      {
        "duration": 19,
        "start_time": "2022-01-23T12:10:37.415Z"
      },
      {
        "duration": 9,
        "start_time": "2022-01-23T12:10:37.436Z"
      },
      {
        "duration": 41,
        "start_time": "2022-01-23T12:10:37.446Z"
      },
      {
        "duration": 26,
        "start_time": "2022-01-23T12:10:37.488Z"
      },
      {
        "duration": 5,
        "start_time": "2022-01-23T12:10:37.516Z"
      },
      {
        "duration": 12,
        "start_time": "2022-01-23T12:10:37.523Z"
      },
      {
        "duration": 75,
        "start_time": "2022-01-23T12:10:37.537Z"
      },
      {
        "duration": 1087,
        "start_time": "2022-01-23T12:10:37.614Z"
      },
      {
        "duration": 40,
        "start_time": "2022-01-23T12:10:38.663Z"
      },
      {
        "duration": 27,
        "start_time": "2022-01-23T12:10:38.677Z"
      },
      {
        "duration": 26,
        "start_time": "2022-01-23T12:10:38.679Z"
      },
      {
        "duration": 25,
        "start_time": "2022-01-23T12:10:38.681Z"
      },
      {
        "duration": 9,
        "start_time": "2022-01-23T12:12:01.247Z"
      },
      {
        "duration": 9,
        "start_time": "2022-01-23T12:13:17.574Z"
      },
      {
        "duration": 92,
        "start_time": "2022-01-23T12:14:27.968Z"
      },
      {
        "duration": 9,
        "start_time": "2022-01-23T12:14:33.281Z"
      },
      {
        "duration": 28,
        "start_time": "2022-01-23T12:14:36.903Z"
      },
      {
        "duration": 17,
        "start_time": "2022-01-23T12:15:09.174Z"
      },
      {
        "duration": 17,
        "start_time": "2022-01-23T12:15:13.464Z"
      },
      {
        "duration": 5,
        "start_time": "2022-01-23T12:16:23.599Z"
      },
      {
        "duration": 11,
        "start_time": "2022-01-23T12:16:31.434Z"
      },
      {
        "duration": 20,
        "start_time": "2022-01-23T12:16:39.801Z"
      },
      {
        "duration": 12,
        "start_time": "2022-01-23T12:16:46.663Z"
      },
      {
        "duration": 93,
        "start_time": "2022-01-23T12:17:19.742Z"
      },
      {
        "duration": 19,
        "start_time": "2022-01-23T12:17:22.154Z"
      },
      {
        "duration": 17,
        "start_time": "2022-01-23T12:17:35.212Z"
      },
      {
        "duration": 317,
        "start_time": "2022-01-23T12:17:41.119Z"
      },
      {
        "duration": 293,
        "start_time": "2022-01-23T12:18:02.026Z"
      },
      {
        "duration": 17,
        "start_time": "2022-01-23T12:18:42.530Z"
      },
      {
        "duration": 17,
        "start_time": "2022-01-23T12:18:49.391Z"
      },
      {
        "duration": 17,
        "start_time": "2022-01-23T12:18:52.294Z"
      },
      {
        "duration": 18,
        "start_time": "2022-01-23T12:18:56.217Z"
      },
      {
        "duration": 19,
        "start_time": "2022-01-23T12:19:01.781Z"
      },
      {
        "duration": 17,
        "start_time": "2022-01-23T12:19:03.739Z"
      },
      {
        "duration": 17,
        "start_time": "2022-01-23T12:19:06.491Z"
      },
      {
        "duration": 293,
        "start_time": "2022-01-23T12:20:32.178Z"
      },
      {
        "duration": 276,
        "start_time": "2022-01-23T12:20:42.135Z"
      },
      {
        "duration": 289,
        "start_time": "2022-01-23T12:21:00.979Z"
      },
      {
        "duration": 313,
        "start_time": "2022-01-23T12:21:12.980Z"
      },
      {
        "duration": 292,
        "start_time": "2022-01-23T12:21:17.172Z"
      },
      {
        "duration": 17,
        "start_time": "2022-01-23T12:21:22.157Z"
      },
      {
        "duration": 27,
        "start_time": "2022-01-23T12:21:28.168Z"
      },
      {
        "duration": 16,
        "start_time": "2022-01-23T12:22:49.030Z"
      },
      {
        "duration": 16,
        "start_time": "2022-01-23T12:22:53.133Z"
      },
      {
        "duration": 15,
        "start_time": "2022-01-23T12:22:58.560Z"
      },
      {
        "duration": 18,
        "start_time": "2022-01-23T12:23:02.335Z"
      },
      {
        "duration": 11406,
        "start_time": "2022-01-23T12:23:23.237Z"
      },
      {
        "duration": 279,
        "start_time": "2022-01-23T12:23:40.650Z"
      },
      {
        "duration": 300,
        "start_time": "2022-01-23T12:23:44.540Z"
      },
      {
        "duration": 15,
        "start_time": "2022-01-23T12:23:47.532Z"
      },
      {
        "duration": 1100,
        "start_time": "2022-01-23T12:24:11.659Z"
      },
      {
        "duration": 11,
        "start_time": "2022-01-23T12:24:22.851Z"
      },
      {
        "duration": 275,
        "start_time": "2022-01-23T12:24:54.373Z"
      },
      {
        "duration": 1134,
        "start_time": "2022-01-23T12:25:08.439Z"
      },
      {
        "duration": 884,
        "start_time": "2022-01-23T12:25:09.575Z"
      },
      {
        "duration": 19,
        "start_time": "2022-01-23T12:25:10.462Z"
      },
      {
        "duration": 8,
        "start_time": "2022-01-23T12:25:10.483Z"
      },
      {
        "duration": 28,
        "start_time": "2022-01-23T12:25:10.493Z"
      },
      {
        "duration": 30,
        "start_time": "2022-01-23T12:25:10.523Z"
      },
      {
        "duration": 19,
        "start_time": "2022-01-23T12:25:10.554Z"
      },
      {
        "duration": 32,
        "start_time": "2022-01-23T12:25:10.576Z"
      },
      {
        "duration": 28,
        "start_time": "2022-01-23T12:25:10.610Z"
      },
      {
        "duration": 6,
        "start_time": "2022-01-23T12:25:10.640Z"
      },
      {
        "duration": 56,
        "start_time": "2022-01-23T12:25:10.647Z"
      },
      {
        "duration": 21,
        "start_time": "2022-01-23T12:25:10.705Z"
      },
      {
        "duration": 19,
        "start_time": "2022-01-23T12:25:10.728Z"
      },
      {
        "duration": 9,
        "start_time": "2022-01-23T12:25:10.748Z"
      },
      {
        "duration": 46,
        "start_time": "2022-01-23T12:25:10.759Z"
      },
      {
        "duration": 21,
        "start_time": "2022-01-23T12:25:10.806Z"
      },
      {
        "duration": 12,
        "start_time": "2022-01-23T12:25:10.828Z"
      },
      {
        "duration": 12,
        "start_time": "2022-01-23T12:25:10.843Z"
      },
      {
        "duration": 12,
        "start_time": "2022-01-23T12:25:10.857Z"
      },
      {
        "duration": 76,
        "start_time": "2022-01-23T12:25:10.871Z"
      },
      {
        "duration": 1362,
        "start_time": "2022-01-23T12:25:10.951Z"
      },
      {
        "duration": 84,
        "start_time": "2022-01-23T12:25:12.232Z"
      },
      {
        "duration": 73,
        "start_time": "2022-01-23T12:25:12.244Z"
      },
      {
        "duration": 71,
        "start_time": "2022-01-23T12:25:12.247Z"
      },
      {
        "duration": 70,
        "start_time": "2022-01-23T12:25:12.249Z"
      },
      {
        "duration": 53,
        "start_time": "2022-01-23T12:28:58.131Z"
      },
      {
        "duration": 8,
        "start_time": "2022-01-23T12:28:59.240Z"
      },
      {
        "duration": 19,
        "start_time": "2022-01-23T12:29:11.495Z"
      },
      {
        "duration": 16,
        "start_time": "2022-01-23T12:32:07.444Z"
      },
      {
        "duration": 19,
        "start_time": "2022-01-23T12:32:07.894Z"
      },
      {
        "duration": 4,
        "start_time": "2022-01-23T12:32:09.693Z"
      },
      {
        "duration": 8,
        "start_time": "2022-01-23T12:32:09.870Z"
      },
      {
        "duration": 50,
        "start_time": "2022-01-23T12:33:22.427Z"
      },
      {
        "duration": 43,
        "start_time": "2022-01-23T12:34:04.358Z"
      },
      {
        "duration": 41,
        "start_time": "2022-01-23T12:34:17.344Z"
      },
      {
        "duration": 42,
        "start_time": "2022-01-23T12:34:40.940Z"
      },
      {
        "duration": 44,
        "start_time": "2022-01-23T12:34:50.602Z"
      },
      {
        "duration": 28,
        "start_time": "2022-01-23T12:35:43.060Z"
      },
      {
        "duration": 24,
        "start_time": "2022-01-23T12:35:54.922Z"
      },
      {
        "duration": 27,
        "start_time": "2022-01-23T12:36:55.988Z"
      },
      {
        "duration": 26,
        "start_time": "2022-01-23T12:37:44.685Z"
      },
      {
        "duration": 201,
        "start_time": "2022-01-23T12:38:05.415Z"
      },
      {
        "duration": 274,
        "start_time": "2022-01-23T12:39:00.665Z"
      },
      {
        "duration": 3,
        "start_time": "2022-01-23T12:39:13.101Z"
      },
      {
        "duration": 382,
        "start_time": "2022-01-23T12:39:18.710Z"
      },
      {
        "duration": 6751,
        "start_time": "2022-01-23T12:40:12.501Z"
      },
      {
        "duration": 298,
        "start_time": "2022-01-23T12:42:04.238Z"
      },
      {
        "duration": 279,
        "start_time": "2022-01-23T12:42:11.984Z"
      },
      {
        "duration": 187,
        "start_time": "2022-01-23T12:42:15.641Z"
      },
      {
        "duration": 35,
        "start_time": "2022-01-23T12:42:18.625Z"
      },
      {
        "duration": 33,
        "start_time": "2022-01-23T12:42:26.655Z"
      },
      {
        "duration": 299,
        "start_time": "2022-01-23T12:42:36.148Z"
      },
      {
        "duration": 288,
        "start_time": "2022-01-23T12:42:38.848Z"
      },
      {
        "duration": 39,
        "start_time": "2022-01-23T12:42:50.746Z"
      },
      {
        "duration": 285,
        "start_time": "2022-01-23T12:42:53.552Z"
      },
      {
        "duration": 158,
        "start_time": "2022-01-23T12:42:57.285Z"
      },
      {
        "duration": 31,
        "start_time": "2022-01-23T12:42:59.109Z"
      },
      {
        "duration": 32,
        "start_time": "2022-01-23T12:43:25.068Z"
      },
      {
        "duration": 32,
        "start_time": "2022-01-23T12:43:37.147Z"
      },
      {
        "duration": 531,
        "start_time": "2022-01-23T12:44:26.203Z"
      },
      {
        "duration": 293,
        "start_time": "2022-01-23T12:44:55.286Z"
      },
      {
        "duration": 862,
        "start_time": "2022-01-23T12:45:11.889Z"
      },
      {
        "duration": 33,
        "start_time": "2022-01-23T12:45:15.646Z"
      },
      {
        "duration": 33,
        "start_time": "2022-01-23T12:48:32.949Z"
      },
      {
        "duration": 89,
        "start_time": "2022-01-23T12:50:37.245Z"
      },
      {
        "duration": 98,
        "start_time": "2022-01-23T12:50:39.516Z"
      },
      {
        "duration": 35,
        "start_time": "2022-01-23T12:51:06.372Z"
      },
      {
        "duration": 307,
        "start_time": "2022-01-23T12:51:51.849Z"
      },
      {
        "duration": 350,
        "start_time": "2022-01-23T12:52:21.506Z"
      },
      {
        "duration": 6760,
        "start_time": "2022-01-23T12:52:31.183Z"
      },
      {
        "duration": 7366,
        "start_time": "2022-01-23T12:52:43.076Z"
      },
      {
        "duration": 85,
        "start_time": "2022-01-23T12:53:07.949Z"
      },
      {
        "duration": 35,
        "start_time": "2022-01-23T12:53:24.439Z"
      },
      {
        "duration": 358,
        "start_time": "2022-01-23T12:53:45.931Z"
      },
      {
        "duration": 282,
        "start_time": "2022-01-23T12:53:51.061Z"
      },
      {
        "duration": 304,
        "start_time": "2022-01-23T12:53:53.476Z"
      },
      {
        "duration": 36,
        "start_time": "2022-01-23T12:54:07.357Z"
      },
      {
        "duration": 29,
        "start_time": "2022-01-23T12:54:48.626Z"
      },
      {
        "duration": 25,
        "start_time": "2022-01-23T12:54:54.807Z"
      },
      {
        "duration": 33,
        "start_time": "2022-01-23T12:55:00.371Z"
      },
      {
        "duration": 61,
        "start_time": "2022-01-23T12:55:26.507Z"
      },
      {
        "duration": 88,
        "start_time": "2022-01-23T12:55:47.157Z"
      },
      {
        "duration": 86,
        "start_time": "2022-01-23T12:56:04.236Z"
      },
      {
        "duration": 84,
        "start_time": "2022-01-23T12:56:12.055Z"
      },
      {
        "duration": 59,
        "start_time": "2022-01-23T12:56:40.039Z"
      },
      {
        "duration": 303,
        "start_time": "2022-01-23T12:56:57.467Z"
      },
      {
        "duration": 36,
        "start_time": "2022-01-23T12:57:02.368Z"
      },
      {
        "duration": 352,
        "start_time": "2022-01-23T12:57:18.394Z"
      },
      {
        "duration": 296,
        "start_time": "2022-01-23T12:57:21.035Z"
      },
      {
        "duration": 35,
        "start_time": "2022-01-23T12:57:25.604Z"
      },
      {
        "duration": 98,
        "start_time": "2022-01-23T12:58:15.954Z"
      },
      {
        "duration": 268,
        "start_time": "2022-01-23T12:58:22.205Z"
      },
      {
        "duration": 299,
        "start_time": "2022-01-23T12:58:31.383Z"
      },
      {
        "duration": 22,
        "start_time": "2022-01-23T13:00:09.603Z"
      },
      {
        "duration": 19,
        "start_time": "2022-01-23T13:00:40.058Z"
      },
      {
        "duration": 81,
        "start_time": "2022-01-23T13:00:53.831Z"
      },
      {
        "duration": 19,
        "start_time": "2022-01-23T13:00:59.810Z"
      },
      {
        "duration": 306,
        "start_time": "2022-01-23T13:01:14.026Z"
      },
      {
        "duration": 2486,
        "start_time": "2022-01-23T13:01:24.103Z"
      },
      {
        "duration": 374,
        "start_time": "2022-01-23T13:01:30.886Z"
      },
      {
        "duration": 23,
        "start_time": "2022-01-23T13:01:37.259Z"
      },
      {
        "duration": 270,
        "start_time": "2022-01-23T13:02:18.719Z"
      },
      {
        "duration": 19,
        "start_time": "2022-01-23T13:02:38.154Z"
      },
      {
        "duration": 19,
        "start_time": "2022-01-23T13:02:45.133Z"
      },
      {
        "duration": 22,
        "start_time": "2022-01-23T13:03:18.149Z"
      },
      {
        "duration": 18,
        "start_time": "2022-01-23T13:03:45.177Z"
      },
      {
        "duration": 21,
        "start_time": "2022-01-23T13:03:48.728Z"
      },
      {
        "duration": 19,
        "start_time": "2022-01-23T13:03:53.552Z"
      },
      {
        "duration": 277,
        "start_time": "2022-01-23T13:05:22.265Z"
      },
      {
        "duration": 19,
        "start_time": "2022-01-23T13:05:28.040Z"
      },
      {
        "duration": 16,
        "start_time": "2022-01-23T13:06:20.027Z"
      },
      {
        "duration": 29,
        "start_time": "2022-01-23T13:06:45.591Z"
      },
      {
        "duration": 30,
        "start_time": "2022-01-23T13:06:55.783Z"
      },
      {
        "duration": 19,
        "start_time": "2022-01-23T13:07:19.139Z"
      },
      {
        "duration": 24,
        "start_time": "2022-01-23T13:07:23.738Z"
      },
      {
        "duration": 22,
        "start_time": "2022-01-23T13:07:30.820Z"
      },
      {
        "duration": 23,
        "start_time": "2022-01-23T13:09:56.839Z"
      },
      {
        "duration": 27,
        "start_time": "2022-01-23T13:11:16.214Z"
      },
      {
        "duration": 14,
        "start_time": "2022-01-23T13:11:35.090Z"
      },
      {
        "duration": 24,
        "start_time": "2022-01-23T13:11:45.238Z"
      },
      {
        "duration": 23,
        "start_time": "2022-01-23T13:12:21.638Z"
      },
      {
        "duration": 521,
        "start_time": "2022-01-23T13:12:39.775Z"
      },
      {
        "duration": 27,
        "start_time": "2022-01-23T13:12:43.659Z"
      },
      {
        "duration": 36,
        "start_time": "2022-01-23T13:12:50.817Z"
      },
      {
        "duration": 28,
        "start_time": "2022-01-23T13:13:04.588Z"
      },
      {
        "duration": 31,
        "start_time": "2022-01-23T13:13:42.687Z"
      },
      {
        "duration": 30,
        "start_time": "2022-01-23T13:13:58.737Z"
      },
      {
        "duration": 27,
        "start_time": "2022-01-23T13:14:20.686Z"
      },
      {
        "duration": 30,
        "start_time": "2022-01-23T13:14:51.680Z"
      },
      {
        "duration": 21,
        "start_time": "2022-01-23T13:14:55.199Z"
      },
      {
        "duration": 23,
        "start_time": "2022-01-23T13:15:04.717Z"
      },
      {
        "duration": 24,
        "start_time": "2022-01-23T13:16:51.255Z"
      },
      {
        "duration": 22,
        "start_time": "2022-01-23T13:16:58.223Z"
      },
      {
        "duration": 21,
        "start_time": "2022-01-23T13:17:12.831Z"
      },
      {
        "duration": 20,
        "start_time": "2022-01-23T13:17:33.107Z"
      },
      {
        "duration": 22,
        "start_time": "2022-01-23T13:18:10.249Z"
      },
      {
        "duration": 21,
        "start_time": "2022-01-23T13:18:14.327Z"
      },
      {
        "duration": 21,
        "start_time": "2022-01-23T13:19:47.309Z"
      },
      {
        "duration": 21,
        "start_time": "2022-01-23T13:19:53.669Z"
      },
      {
        "duration": 22,
        "start_time": "2022-01-23T13:19:56.941Z"
      },
      {
        "duration": 21,
        "start_time": "2022-01-23T13:19:58.921Z"
      },
      {
        "duration": 292,
        "start_time": "2022-01-23T13:20:33.065Z"
      },
      {
        "duration": 275,
        "start_time": "2022-01-23T13:20:42.346Z"
      },
      {
        "duration": 22,
        "start_time": "2022-01-23T13:21:00.051Z"
      },
      {
        "duration": 37,
        "start_time": "2022-01-23T13:21:35.189Z"
      },
      {
        "duration": 29,
        "start_time": "2022-01-23T13:21:49.676Z"
      },
      {
        "duration": 23,
        "start_time": "2022-01-23T13:22:14.967Z"
      },
      {
        "duration": 21,
        "start_time": "2022-01-23T13:22:18.765Z"
      },
      {
        "duration": 21,
        "start_time": "2022-01-23T13:22:22.885Z"
      },
      {
        "duration": 23,
        "start_time": "2022-01-23T13:22:25.756Z"
      },
      {
        "duration": 87,
        "start_time": "2022-01-23T13:24:40.428Z"
      },
      {
        "duration": 26,
        "start_time": "2022-01-23T13:24:44.350Z"
      },
      {
        "duration": 27,
        "start_time": "2022-01-23T13:24:56.937Z"
      },
      {
        "duration": 28,
        "start_time": "2022-01-23T13:25:01.146Z"
      },
      {
        "duration": 583,
        "start_time": "2022-01-23T13:25:52.054Z"
      },
      {
        "duration": 26,
        "start_time": "2022-01-23T13:26:00.366Z"
      },
      {
        "duration": 13,
        "start_time": "2022-01-23T13:26:09.911Z"
      },
      {
        "duration": 13,
        "start_time": "2022-01-23T13:26:11.955Z"
      },
      {
        "duration": 18,
        "start_time": "2022-01-23T13:26:30.119Z"
      },
      {
        "duration": 19,
        "start_time": "2022-01-23T13:26:52.213Z"
      },
      {
        "duration": 9,
        "start_time": "2022-01-23T13:27:15.962Z"
      },
      {
        "duration": 1145,
        "start_time": "2022-01-23T13:27:38.826Z"
      },
      {
        "duration": 964,
        "start_time": "2022-01-23T13:27:39.973Z"
      },
      {
        "duration": 18,
        "start_time": "2022-01-23T13:27:40.939Z"
      },
      {
        "duration": 20,
        "start_time": "2022-01-23T13:27:40.959Z"
      },
      {
        "duration": 33,
        "start_time": "2022-01-23T13:27:40.981Z"
      },
      {
        "duration": 23,
        "start_time": "2022-01-23T13:27:41.016Z"
      },
      {
        "duration": 35,
        "start_time": "2022-01-23T13:27:41.040Z"
      },
      {
        "duration": 22,
        "start_time": "2022-01-23T13:27:41.077Z"
      },
      {
        "duration": 31,
        "start_time": "2022-01-23T13:27:41.101Z"
      },
      {
        "duration": 5,
        "start_time": "2022-01-23T13:27:41.134Z"
      },
      {
        "duration": 45,
        "start_time": "2022-01-23T13:27:41.141Z"
      },
      {
        "duration": 28,
        "start_time": "2022-01-23T13:27:41.187Z"
      },
      {
        "duration": 20,
        "start_time": "2022-01-23T13:27:41.216Z"
      },
      {
        "duration": 9,
        "start_time": "2022-01-23T13:27:41.238Z"
      },
      {
        "duration": 1217,
        "start_time": "2022-01-23T13:27:41.248Z"
      },
      {
        "duration": 10,
        "start_time": "2022-01-23T13:27:42.457Z"
      },
      {
        "duration": 8,
        "start_time": "2022-01-23T13:27:42.460Z"
      },
      {
        "duration": 7,
        "start_time": "2022-01-23T13:27:42.462Z"
      },
      {
        "duration": 6,
        "start_time": "2022-01-23T13:27:42.464Z"
      },
      {
        "duration": 5,
        "start_time": "2022-01-23T13:27:42.466Z"
      },
      {
        "duration": 4,
        "start_time": "2022-01-23T13:27:42.468Z"
      },
      {
        "duration": 3,
        "start_time": "2022-01-23T13:27:42.470Z"
      },
      {
        "duration": 0,
        "start_time": "2022-01-23T13:27:42.474Z"
      },
      {
        "duration": 0,
        "start_time": "2022-01-23T13:27:42.475Z"
      },
      {
        "duration": 1514,
        "start_time": "2022-01-23T13:28:59.652Z"
      },
      {
        "duration": 1938,
        "start_time": "2022-01-23T13:29:01.169Z"
      },
      {
        "duration": 16,
        "start_time": "2022-01-23T13:29:03.109Z"
      },
      {
        "duration": 6,
        "start_time": "2022-01-23T13:29:03.127Z"
      },
      {
        "duration": 27,
        "start_time": "2022-01-23T13:29:03.134Z"
      },
      {
        "duration": 41,
        "start_time": "2022-01-23T13:29:03.163Z"
      },
      {
        "duration": 20,
        "start_time": "2022-01-23T13:29:03.205Z"
      },
      {
        "duration": 12,
        "start_time": "2022-01-23T13:29:03.227Z"
      },
      {
        "duration": 29,
        "start_time": "2022-01-23T13:29:03.241Z"
      },
      {
        "duration": 32,
        "start_time": "2022-01-23T13:29:03.272Z"
      },
      {
        "duration": 31,
        "start_time": "2022-01-23T13:29:03.306Z"
      },
      {
        "duration": 21,
        "start_time": "2022-01-23T13:29:03.339Z"
      },
      {
        "duration": 48,
        "start_time": "2022-01-23T13:29:03.362Z"
      },
      {
        "duration": 9,
        "start_time": "2022-01-23T13:29:03.411Z"
      },
      {
        "duration": 55,
        "start_time": "2022-01-23T13:29:03.421Z"
      },
      {
        "duration": 34,
        "start_time": "2022-01-23T13:29:03.477Z"
      },
      {
        "duration": 18,
        "start_time": "2022-01-23T13:29:03.513Z"
      },
      {
        "duration": 7,
        "start_time": "2022-01-23T13:29:03.532Z"
      },
      {
        "duration": 27,
        "start_time": "2022-01-23T13:29:03.541Z"
      },
      {
        "duration": 19,
        "start_time": "2022-01-23T13:29:03.599Z"
      },
      {
        "duration": 2,
        "start_time": "2022-01-23T13:29:03.620Z"
      },
      {
        "duration": 19,
        "start_time": "2022-01-23T13:29:03.623Z"
      },
      {
        "duration": 17,
        "start_time": "2022-01-23T13:29:03.645Z"
      },
      {
        "duration": 3,
        "start_time": "2022-01-23T13:29:39.399Z"
      },
      {
        "duration": 352,
        "start_time": "2022-01-23T13:44:13.685Z"
      },
      {
        "duration": 271,
        "start_time": "2022-01-23T13:44:30.723Z"
      },
      {
        "duration": 269,
        "start_time": "2022-01-23T13:45:18.415Z"
      },
      {
        "duration": 261,
        "start_time": "2022-01-23T13:45:25.783Z"
      },
      {
        "duration": 265,
        "start_time": "2022-01-23T13:45:33.628Z"
      },
      {
        "duration": 6,
        "start_time": "2022-01-23T13:46:09.524Z"
      },
      {
        "duration": 14,
        "start_time": "2022-01-23T13:46:12.821Z"
      },
      {
        "duration": 16,
        "start_time": "2022-01-23T13:46:45.558Z"
      },
      {
        "duration": 19,
        "start_time": "2022-01-23T13:47:11.018Z"
      },
      {
        "duration": 23,
        "start_time": "2022-01-23T13:47:21.506Z"
      },
      {
        "duration": 25,
        "start_time": "2022-01-23T13:47:27.504Z"
      },
      {
        "duration": 22,
        "start_time": "2022-01-23T13:48:00.083Z"
      },
      {
        "duration": 24,
        "start_time": "2022-01-23T13:48:02.994Z"
      },
      {
        "duration": 23,
        "start_time": "2022-01-23T13:48:06.414Z"
      },
      {
        "duration": 23,
        "start_time": "2022-01-23T13:48:10.190Z"
      },
      {
        "duration": 24,
        "start_time": "2022-01-23T13:48:12.826Z"
      },
      {
        "duration": 93,
        "start_time": "2022-01-23T13:48:15.530Z"
      },
      {
        "duration": 25,
        "start_time": "2022-01-23T13:48:22.141Z"
      },
      {
        "duration": 277,
        "start_time": "2022-01-23T13:48:53.199Z"
      },
      {
        "duration": 25,
        "start_time": "2022-01-23T13:48:56.717Z"
      },
      {
        "duration": 24,
        "start_time": "2022-01-23T13:49:18.403Z"
      },
      {
        "duration": 23,
        "start_time": "2022-01-23T13:49:27.792Z"
      },
      {
        "duration": 23,
        "start_time": "2022-01-23T13:49:31.498Z"
      },
      {
        "duration": 21,
        "start_time": "2022-01-23T13:49:34.178Z"
      },
      {
        "duration": 34,
        "start_time": "2022-01-23T13:49:44.411Z"
      },
      {
        "duration": 20,
        "start_time": "2022-01-23T13:49:45.798Z"
      },
      {
        "duration": 24,
        "start_time": "2022-01-23T13:49:48.301Z"
      },
      {
        "duration": 84,
        "start_time": "2022-01-23T13:51:22.061Z"
      },
      {
        "duration": 96,
        "start_time": "2022-01-23T13:51:32.547Z"
      },
      {
        "duration": 16,
        "start_time": "2022-01-23T13:51:41.258Z"
      },
      {
        "duration": 3,
        "start_time": "2022-01-23T13:52:12.276Z"
      },
      {
        "duration": 18,
        "start_time": "2022-01-23T13:52:12.703Z"
      },
      {
        "duration": 20,
        "start_time": "2022-01-23T13:52:13.115Z"
      },
      {
        "duration": 3,
        "start_time": "2022-01-23T13:52:19.120Z"
      },
      {
        "duration": 15,
        "start_time": "2022-01-23T13:52:21.191Z"
      },
      {
        "duration": 18,
        "start_time": "2022-01-23T13:52:21.363Z"
      },
      {
        "duration": 3,
        "start_time": "2022-01-23T13:52:25.338Z"
      },
      {
        "duration": 14,
        "start_time": "2022-01-23T13:52:25.615Z"
      },
      {
        "duration": 16,
        "start_time": "2022-01-23T13:52:25.955Z"
      },
      {
        "duration": 3,
        "start_time": "2022-01-23T13:52:35.803Z"
      },
      {
        "duration": 15,
        "start_time": "2022-01-23T13:52:36.011Z"
      },
      {
        "duration": 19,
        "start_time": "2022-01-23T13:52:36.334Z"
      },
      {
        "duration": 3,
        "start_time": "2022-01-23T13:52:59.929Z"
      },
      {
        "duration": 14,
        "start_time": "2022-01-23T13:53:00.184Z"
      },
      {
        "duration": 18,
        "start_time": "2022-01-23T13:53:00.535Z"
      },
      {
        "duration": 17,
        "start_time": "2022-01-23T13:53:12.636Z"
      },
      {
        "duration": 3,
        "start_time": "2022-01-23T13:53:18.757Z"
      },
      {
        "duration": 14,
        "start_time": "2022-01-23T13:53:19.192Z"
      },
      {
        "duration": 17,
        "start_time": "2022-01-23T13:53:19.577Z"
      },
      {
        "duration": 21,
        "start_time": "2022-01-23T13:53:25.288Z"
      },
      {
        "duration": 19,
        "start_time": "2022-01-23T13:53:52.143Z"
      },
      {
        "duration": 2,
        "start_time": "2022-01-23T13:53:53.274Z"
      },
      {
        "duration": 13,
        "start_time": "2022-01-23T13:53:53.438Z"
      },
      {
        "duration": 17,
        "start_time": "2022-01-23T13:53:53.611Z"
      },
      {
        "duration": 22,
        "start_time": "2022-01-23T13:53:54.595Z"
      },
      {
        "duration": 21,
        "start_time": "2022-01-23T13:54:00.100Z"
      },
      {
        "duration": 21,
        "start_time": "2022-01-23T13:54:18.359Z"
      },
      {
        "duration": 26,
        "start_time": "2022-01-23T13:54:22.194Z"
      },
      {
        "duration": 24,
        "start_time": "2022-01-23T13:54:31.854Z"
      },
      {
        "duration": 39,
        "start_time": "2022-01-23T13:54:53.490Z"
      },
      {
        "duration": 35,
        "start_time": "2022-01-23T13:55:12.057Z"
      },
      {
        "duration": 22,
        "start_time": "2022-01-23T13:55:15.779Z"
      },
      {
        "duration": 21,
        "start_time": "2022-01-23T13:55:19.765Z"
      },
      {
        "duration": 24,
        "start_time": "2022-01-23T13:57:10.044Z"
      },
      {
        "duration": 24,
        "start_time": "2022-01-23T13:58:38.352Z"
      },
      {
        "duration": 10,
        "start_time": "2022-01-23T13:58:52.541Z"
      },
      {
        "duration": 29,
        "start_time": "2022-01-23T13:58:54.784Z"
      },
      {
        "duration": 6,
        "start_time": "2022-01-23T13:59:49.538Z"
      },
      {
        "duration": 11,
        "start_time": "2022-01-23T14:00:02.568Z"
      },
      {
        "duration": 20,
        "start_time": "2022-01-23T14:00:07.300Z"
      },
      {
        "duration": 16,
        "start_time": "2022-01-23T14:00:21.102Z"
      },
      {
        "duration": 13,
        "start_time": "2022-01-23T14:00:28.215Z"
      },
      {
        "duration": 8,
        "start_time": "2022-01-23T14:00:37.719Z"
      },
      {
        "duration": 85,
        "start_time": "2022-01-23T14:01:55.400Z"
      },
      {
        "duration": 6,
        "start_time": "2022-01-23T14:02:00.124Z"
      },
      {
        "duration": 8,
        "start_time": "2022-01-23T14:03:07.157Z"
      },
      {
        "duration": 8,
        "start_time": "2022-01-23T14:03:19.571Z"
      },
      {
        "duration": 25,
        "start_time": "2022-01-23T14:04:36.600Z"
      },
      {
        "duration": 25,
        "start_time": "2022-01-23T14:05:31.625Z"
      },
      {
        "duration": 40,
        "start_time": "2022-01-23T14:05:38.442Z"
      },
      {
        "duration": 27,
        "start_time": "2022-01-23T14:06:24.235Z"
      },
      {
        "duration": 29,
        "start_time": "2022-01-23T14:06:58.813Z"
      },
      {
        "duration": 31,
        "start_time": "2022-01-23T14:07:09.924Z"
      },
      {
        "duration": 27,
        "start_time": "2022-01-23T14:08:56.120Z"
      },
      {
        "duration": 1701,
        "start_time": "2022-01-23T14:10:08.569Z"
      },
      {
        "duration": 4,
        "start_time": "2022-01-23T14:10:14.932Z"
      },
      {
        "duration": 4,
        "start_time": "2022-01-23T14:10:20.097Z"
      },
      {
        "duration": 1196,
        "start_time": "2022-01-23T14:11:44.069Z"
      },
      {
        "duration": 2214,
        "start_time": "2022-01-23T14:11:45.267Z"
      },
      {
        "duration": 16,
        "start_time": "2022-01-23T14:11:47.482Z"
      },
      {
        "duration": 5,
        "start_time": "2022-01-23T14:11:47.500Z"
      },
      {
        "duration": 31,
        "start_time": "2022-01-23T14:11:47.507Z"
      },
      {
        "duration": 21,
        "start_time": "2022-01-23T14:11:47.540Z"
      },
      {
        "duration": 40,
        "start_time": "2022-01-23T14:11:47.563Z"
      },
      {
        "duration": 11,
        "start_time": "2022-01-23T14:11:47.605Z"
      },
      {
        "duration": 28,
        "start_time": "2022-01-23T14:11:47.618Z"
      },
      {
        "duration": 6,
        "start_time": "2022-01-23T14:11:47.647Z"
      },
      {
        "duration": 57,
        "start_time": "2022-01-23T14:11:47.654Z"
      },
      {
        "duration": 22,
        "start_time": "2022-01-23T14:11:47.713Z"
      },
      {
        "duration": 19,
        "start_time": "2022-01-23T14:11:47.736Z"
      },
      {
        "duration": 9,
        "start_time": "2022-01-23T14:11:47.756Z"
      },
      {
        "duration": 79,
        "start_time": "2022-01-23T14:11:47.766Z"
      },
      {
        "duration": 20,
        "start_time": "2022-01-23T14:11:47.847Z"
      },
      {
        "duration": 31,
        "start_time": "2022-01-23T14:11:47.868Z"
      },
      {
        "duration": 6,
        "start_time": "2022-01-23T14:11:47.901Z"
      },
      {
        "duration": 28,
        "start_time": "2022-01-23T14:11:47.909Z"
      },
      {
        "duration": 19,
        "start_time": "2022-01-23T14:11:47.939Z"
      },
      {
        "duration": 3,
        "start_time": "2022-01-23T14:11:47.960Z"
      },
      {
        "duration": 49,
        "start_time": "2022-01-23T14:11:47.964Z"
      },
      {
        "duration": 18,
        "start_time": "2022-01-23T14:11:48.016Z"
      },
      {
        "duration": 17,
        "start_time": "2022-01-23T14:11:48.036Z"
      },
      {
        "duration": 5,
        "start_time": "2022-01-23T14:11:48.054Z"
      },
      {
        "duration": 7,
        "start_time": "2022-01-23T14:11:48.061Z"
      },
      {
        "duration": 26,
        "start_time": "2022-01-23T14:11:48.099Z"
      },
      {
        "duration": 4,
        "start_time": "2022-01-23T14:11:48.127Z"
      },
      {
        "duration": 36,
        "start_time": "2022-01-23T14:11:48.132Z"
      },
      {
        "duration": 21,
        "start_time": "2022-01-23T14:12:22.877Z"
      },
      {
        "duration": 34,
        "start_time": "2022-01-23T14:12:34.906Z"
      },
      {
        "duration": 10,
        "start_time": "2022-01-23T14:12:45.789Z"
      },
      {
        "duration": 15,
        "start_time": "2022-01-23T14:12:54.192Z"
      },
      {
        "duration": 19,
        "start_time": "2022-01-23T14:12:58.363Z"
      },
      {
        "duration": 13,
        "start_time": "2022-01-23T14:13:23.155Z"
      },
      {
        "duration": 18,
        "start_time": "2022-01-23T14:13:32.637Z"
      },
      {
        "duration": 9,
        "start_time": "2022-01-23T14:13:38.928Z"
      },
      {
        "duration": 27,
        "start_time": "2022-01-23T14:13:57.086Z"
      },
      {
        "duration": 5,
        "start_time": "2022-01-23T14:13:57.971Z"
      },
      {
        "duration": 350,
        "start_time": "2022-01-23T14:22:27.494Z"
      },
      {
        "duration": 285,
        "start_time": "2022-01-23T14:22:32.843Z"
      },
      {
        "duration": 272,
        "start_time": "2022-01-23T14:23:17.420Z"
      },
      {
        "duration": 281,
        "start_time": "2022-01-23T14:24:34.598Z"
      },
      {
        "duration": 269,
        "start_time": "2022-01-23T14:24:41.088Z"
      },
      {
        "duration": 4,
        "start_time": "2022-01-23T14:26:16.092Z"
      },
      {
        "duration": 275,
        "start_time": "2022-01-23T14:26:26.734Z"
      },
      {
        "duration": 4,
        "start_time": "2022-01-23T14:26:30.682Z"
      },
      {
        "duration": 302,
        "start_time": "2022-01-23T14:26:30.839Z"
      },
      {
        "duration": 287,
        "start_time": "2022-01-23T14:26:39.857Z"
      },
      {
        "duration": 4,
        "start_time": "2022-01-23T14:26:45.954Z"
      },
      {
        "duration": 4,
        "start_time": "2022-01-23T14:26:51.320Z"
      },
      {
        "duration": 266,
        "start_time": "2022-01-23T14:26:51.864Z"
      },
      {
        "duration": 3,
        "start_time": "2022-01-23T14:27:33.212Z"
      },
      {
        "duration": 269,
        "start_time": "2022-01-23T14:27:33.650Z"
      },
      {
        "duration": 5,
        "start_time": "2022-01-23T14:27:43.058Z"
      },
      {
        "duration": 264,
        "start_time": "2022-01-23T14:27:43.393Z"
      },
      {
        "duration": 4,
        "start_time": "2022-01-23T14:28:04.592Z"
      },
      {
        "duration": 277,
        "start_time": "2022-01-23T14:28:05.177Z"
      },
      {
        "duration": 277,
        "start_time": "2022-01-23T14:30:44.621Z"
      },
      {
        "duration": 21,
        "start_time": "2022-01-23T14:30:50.603Z"
      },
      {
        "duration": 23,
        "start_time": "2022-01-23T14:31:12.720Z"
      },
      {
        "duration": 25,
        "start_time": "2022-01-23T14:31:33.661Z"
      },
      {
        "duration": 298,
        "start_time": "2022-01-23T14:33:53.181Z"
      },
      {
        "duration": 6924,
        "start_time": "2022-01-23T14:34:05.047Z"
      },
      {
        "duration": 4,
        "start_time": "2022-01-23T14:35:44.352Z"
      },
      {
        "duration": 1945,
        "start_time": "2022-01-23T14:35:44.765Z"
      },
      {
        "duration": 3,
        "start_time": "2022-01-23T14:36:17.110Z"
      },
      {
        "duration": 924,
        "start_time": "2022-01-23T14:36:22.353Z"
      },
      {
        "duration": 4,
        "start_time": "2022-01-23T14:36:45.973Z"
      },
      {
        "duration": 769,
        "start_time": "2022-01-23T14:36:47.130Z"
      },
      {
        "duration": 4,
        "start_time": "2022-01-23T14:37:11.457Z"
      },
      {
        "duration": 568,
        "start_time": "2022-01-23T14:37:12.009Z"
      },
      {
        "duration": 4,
        "start_time": "2022-01-23T14:37:27.130Z"
      },
      {
        "duration": 672,
        "start_time": "2022-01-23T14:37:27.732Z"
      },
      {
        "duration": 4,
        "start_time": "2022-01-23T14:37:46.352Z"
      },
      {
        "duration": 522,
        "start_time": "2022-01-23T14:37:47.113Z"
      },
      {
        "duration": 312,
        "start_time": "2022-01-23T14:39:40.348Z"
      },
      {
        "duration": 264,
        "start_time": "2022-01-23T14:39:57.323Z"
      },
      {
        "duration": 281,
        "start_time": "2022-01-23T14:40:09.548Z"
      },
      {
        "duration": 264,
        "start_time": "2022-01-23T14:40:15.517Z"
      },
      {
        "duration": 105,
        "start_time": "2022-01-23T14:40:21.421Z"
      },
      {
        "duration": 302,
        "start_time": "2022-01-23T14:40:34.940Z"
      },
      {
        "duration": 303,
        "start_time": "2022-01-23T14:43:06.132Z"
      },
      {
        "duration": 294,
        "start_time": "2022-01-23T14:43:36.591Z"
      },
      {
        "duration": 289,
        "start_time": "2022-01-23T14:43:44.193Z"
      },
      {
        "duration": 276,
        "start_time": "2022-01-23T14:44:18.820Z"
      },
      {
        "duration": 25,
        "start_time": "2022-01-23T14:44:28.418Z"
      },
      {
        "duration": 331,
        "start_time": "2022-01-23T14:44:51.854Z"
      },
      {
        "duration": 25,
        "start_time": "2022-01-23T14:44:53.338Z"
      },
      {
        "duration": 277,
        "start_time": "2022-01-23T14:45:19.295Z"
      },
      {
        "duration": 83,
        "start_time": "2022-01-23T14:45:35.830Z"
      },
      {
        "duration": 271,
        "start_time": "2022-01-23T14:45:44.847Z"
      },
      {
        "duration": 252,
        "start_time": "2022-01-23T14:46:11.700Z"
      },
      {
        "duration": 268,
        "start_time": "2022-01-23T14:46:21.337Z"
      },
      {
        "duration": 6,
        "start_time": "2022-01-23T14:46:39.616Z"
      },
      {
        "duration": 270,
        "start_time": "2022-01-23T14:47:07.392Z"
      },
      {
        "duration": 254,
        "start_time": "2022-01-23T14:47:12.529Z"
      },
      {
        "duration": 548,
        "start_time": "2022-01-23T14:47:21.934Z"
      },
      {
        "duration": 279,
        "start_time": "2022-01-23T14:47:25.585Z"
      },
      {
        "duration": 85,
        "start_time": "2022-01-23T14:50:38.724Z"
      },
      {
        "duration": 93,
        "start_time": "2022-01-23T14:51:28.812Z"
      },
      {
        "duration": 288,
        "start_time": "2022-01-23T14:51:41.530Z"
      },
      {
        "duration": 21,
        "start_time": "2022-01-23T14:52:53.825Z"
      },
      {
        "duration": 8,
        "start_time": "2022-01-23T14:53:20.889Z"
      },
      {
        "duration": 265,
        "start_time": "2022-01-23T14:54:03.917Z"
      },
      {
        "duration": 272,
        "start_time": "2022-01-23T14:54:20.619Z"
      },
      {
        "duration": 270,
        "start_time": "2022-01-23T14:54:30.462Z"
      },
      {
        "duration": 269,
        "start_time": "2022-01-23T14:54:36.687Z"
      },
      {
        "duration": 290,
        "start_time": "2022-01-23T14:54:43.486Z"
      },
      {
        "duration": 277,
        "start_time": "2022-01-23T14:54:48.968Z"
      },
      {
        "duration": 251,
        "start_time": "2022-01-23T14:54:56.408Z"
      },
      {
        "duration": 271,
        "start_time": "2022-01-23T14:55:00.529Z"
      },
      {
        "duration": 555,
        "start_time": "2022-01-23T14:55:21.890Z"
      },
      {
        "duration": 4,
        "start_time": "2022-01-23T14:55:30.679Z"
      },
      {
        "duration": 528,
        "start_time": "2022-01-23T14:55:30.848Z"
      },
      {
        "duration": 274,
        "start_time": "2022-01-23T14:55:55.103Z"
      },
      {
        "duration": 284,
        "start_time": "2022-01-23T14:56:38.070Z"
      },
      {
        "duration": 275,
        "start_time": "2022-01-23T14:57:07.789Z"
      },
      {
        "duration": 18738,
        "start_time": "2022-01-23T14:59:42.706Z"
      },
      {
        "duration": 824,
        "start_time": "2022-01-23T15:00:05.690Z"
      },
      {
        "duration": 3,
        "start_time": "2022-01-23T15:00:52.282Z"
      },
      {
        "duration": 274,
        "start_time": "2022-01-23T15:00:56.869Z"
      },
      {
        "duration": 3,
        "start_time": "2022-01-23T15:01:01.349Z"
      },
      {
        "duration": 275,
        "start_time": "2022-01-23T15:01:01.498Z"
      },
      {
        "duration": 260,
        "start_time": "2022-01-23T15:02:33.728Z"
      },
      {
        "duration": 4,
        "start_time": "2022-01-23T15:10:45.186Z"
      },
      {
        "duration": 401,
        "start_time": "2022-01-23T15:10:46.462Z"
      },
      {
        "duration": 3,
        "start_time": "2022-01-23T15:10:53.887Z"
      },
      {
        "duration": 271,
        "start_time": "2022-01-23T15:10:54.040Z"
      },
      {
        "duration": 3145,
        "start_time": "2022-01-23T15:10:56.814Z"
      },
      {
        "duration": 1305,
        "start_time": "2022-01-23T15:11:03.583Z"
      },
      {
        "duration": 3,
        "start_time": "2022-01-23T15:11:51.865Z"
      },
      {
        "duration": 1256,
        "start_time": "2022-01-23T15:11:52.992Z"
      },
      {
        "duration": 3,
        "start_time": "2022-01-23T15:12:00.541Z"
      },
      {
        "duration": 1287,
        "start_time": "2022-01-23T15:12:01.408Z"
      },
      {
        "duration": 3,
        "start_time": "2022-01-23T15:12:16.426Z"
      },
      {
        "duration": 1298,
        "start_time": "2022-01-23T15:12:17.147Z"
      },
      {
        "duration": 3,
        "start_time": "2022-01-23T15:18:34.643Z"
      },
      {
        "duration": 3,
        "start_time": "2022-01-23T15:18:54.405Z"
      },
      {
        "duration": 270,
        "start_time": "2022-01-23T15:18:54.584Z"
      },
      {
        "duration": 484,
        "start_time": "2022-01-23T15:19:02.878Z"
      },
      {
        "duration": 3,
        "start_time": "2022-01-23T15:19:04.778Z"
      },
      {
        "duration": 278,
        "start_time": "2022-01-23T15:19:04.981Z"
      },
      {
        "duration": 444,
        "start_time": "2022-01-23T15:19:18.126Z"
      },
      {
        "duration": 303,
        "start_time": "2022-01-23T15:19:24.198Z"
      },
      {
        "duration": 3,
        "start_time": "2022-01-23T15:19:25.865Z"
      },
      {
        "duration": 2750,
        "start_time": "2022-01-23T15:20:04.093Z"
      },
      {
        "duration": 3,
        "start_time": "2022-01-23T15:20:09.391Z"
      },
      {
        "duration": 700,
        "start_time": "2022-01-23T15:20:24.060Z"
      },
      {
        "duration": 3,
        "start_time": "2022-01-23T15:20:39.337Z"
      },
      {
        "duration": 306,
        "start_time": "2022-01-23T15:20:39.941Z"
      },
      {
        "duration": 3,
        "start_time": "2022-01-23T15:21:15.815Z"
      },
      {
        "duration": 76,
        "start_time": "2022-01-23T15:21:16.185Z"
      },
      {
        "duration": 72,
        "start_time": "2022-01-23T15:21:33.502Z"
      },
      {
        "duration": 61,
        "start_time": "2022-01-23T15:21:50.335Z"
      },
      {
        "duration": 130,
        "start_time": "2022-01-23T15:28:10.566Z"
      },
      {
        "duration": 4,
        "start_time": "2022-01-23T15:28:34.131Z"
      },
      {
        "duration": 540,
        "start_time": "2022-01-23T15:28:35.987Z"
      },
      {
        "duration": 3,
        "start_time": "2022-01-23T15:28:52.249Z"
      },
      {
        "duration": 61,
        "start_time": "2022-01-23T15:28:53.041Z"
      },
      {
        "duration": 6,
        "start_time": "2022-01-23T15:28:55.032Z"
      },
      {
        "duration": 602,
        "start_time": "2022-01-23T15:29:08.152Z"
      },
      {
        "duration": 1061,
        "start_time": "2022-01-23T15:29:18.738Z"
      },
      {
        "duration": 1561,
        "start_time": "2022-01-23T15:29:26.052Z"
      },
      {
        "duration": 1176,
        "start_time": "2022-01-23T15:29:33.649Z"
      },
      {
        "duration": 547,
        "start_time": "2022-01-23T15:30:00.720Z"
      },
      {
        "duration": 4,
        "start_time": "2022-01-23T15:31:14.570Z"
      },
      {
        "duration": 542,
        "start_time": "2022-01-23T15:31:15.281Z"
      },
      {
        "duration": 5,
        "start_time": "2022-01-23T15:31:34.415Z"
      },
      {
        "duration": 612,
        "start_time": "2022-01-23T15:31:35.182Z"
      },
      {
        "duration": 27,
        "start_time": "2022-01-23T15:37:17.014Z"
      },
      {
        "duration": 39,
        "start_time": "2022-01-23T15:37:36.618Z"
      },
      {
        "duration": 15,
        "start_time": "2022-01-23T15:38:04.079Z"
      },
      {
        "duration": 1124,
        "start_time": "2022-01-23T15:38:49.633Z"
      },
      {
        "duration": 3089,
        "start_time": "2022-01-23T15:38:50.760Z"
      },
      {
        "duration": 18,
        "start_time": "2022-01-23T15:38:53.851Z"
      },
      {
        "duration": 6,
        "start_time": "2022-01-23T15:38:53.871Z"
      },
      {
        "duration": 26,
        "start_time": "2022-01-23T15:38:53.879Z"
      },
      {
        "duration": 23,
        "start_time": "2022-01-23T15:38:53.907Z"
      },
      {
        "duration": 18,
        "start_time": "2022-01-23T15:38:53.931Z"
      },
      {
        "duration": 10,
        "start_time": "2022-01-23T15:38:53.952Z"
      },
      {
        "duration": 57,
        "start_time": "2022-01-23T15:38:53.964Z"
      },
      {
        "duration": 5,
        "start_time": "2022-01-23T15:38:54.023Z"
      },
      {
        "duration": 29,
        "start_time": "2022-01-23T15:38:54.030Z"
      },
      {
        "duration": 41,
        "start_time": "2022-01-23T15:38:54.061Z"
      },
      {
        "duration": 18,
        "start_time": "2022-01-23T15:38:54.104Z"
      },
      {
        "duration": 9,
        "start_time": "2022-01-23T15:38:54.124Z"
      },
      {
        "duration": 70,
        "start_time": "2022-01-23T15:38:54.134Z"
      },
      {
        "duration": 21,
        "start_time": "2022-01-23T15:38:54.206Z"
      },
      {
        "duration": 18,
        "start_time": "2022-01-23T15:38:54.229Z"
      },
      {
        "duration": 7,
        "start_time": "2022-01-23T15:38:54.248Z"
      },
      {
        "duration": 58,
        "start_time": "2022-01-23T15:38:54.256Z"
      },
      {
        "duration": 19,
        "start_time": "2022-01-23T15:38:54.316Z"
      },
      {
        "duration": 2,
        "start_time": "2022-01-23T15:38:54.337Z"
      },
      {
        "duration": 18,
        "start_time": "2022-01-23T15:38:54.341Z"
      },
      {
        "duration": 39,
        "start_time": "2022-01-23T15:38:54.362Z"
      },
      {
        "duration": 13,
        "start_time": "2022-01-23T15:38:54.402Z"
      },
      {
        "duration": 5,
        "start_time": "2022-01-23T15:38:54.417Z"
      },
      {
        "duration": 6,
        "start_time": "2022-01-23T15:38:54.424Z"
      },
      {
        "duration": 14,
        "start_time": "2022-01-23T15:38:54.432Z"
      },
      {
        "duration": 18,
        "start_time": "2022-01-23T15:39:17.046Z"
      },
      {
        "duration": 16,
        "start_time": "2022-01-23T15:39:20.132Z"
      },
      {
        "duration": 12,
        "start_time": "2022-01-23T15:39:28.381Z"
      },
      {
        "duration": 39,
        "start_time": "2022-01-23T15:39:32.560Z"
      },
      {
        "duration": 6,
        "start_time": "2022-01-23T15:40:04.929Z"
      },
      {
        "duration": 368,
        "start_time": "2022-01-23T15:40:20.396Z"
      },
      {
        "duration": 5,
        "start_time": "2022-01-23T15:40:22.788Z"
      },
      {
        "duration": 276,
        "start_time": "2022-01-23T15:40:49.255Z"
      },
      {
        "duration": 7,
        "start_time": "2022-01-23T15:41:03.248Z"
      },
      {
        "duration": 281,
        "start_time": "2022-01-23T15:41:22.642Z"
      },
      {
        "duration": 7,
        "start_time": "2022-01-23T15:41:25.042Z"
      },
      {
        "duration": 278,
        "start_time": "2022-01-23T15:41:25.399Z"
      },
      {
        "duration": 15,
        "start_time": "2022-01-23T15:42:03.415Z"
      },
      {
        "duration": 13,
        "start_time": "2022-01-23T15:42:12.310Z"
      },
      {
        "duration": 270,
        "start_time": "2022-01-23T15:42:36.937Z"
      },
      {
        "duration": 93,
        "start_time": "2022-01-23T15:42:43.161Z"
      },
      {
        "duration": 290,
        "start_time": "2022-01-23T15:42:48.366Z"
      },
      {
        "duration": 34,
        "start_time": "2022-01-23T15:43:02.004Z"
      },
      {
        "duration": 257,
        "start_time": "2022-01-23T15:43:08.720Z"
      },
      {
        "duration": 15,
        "start_time": "2022-01-23T15:43:15.800Z"
      },
      {
        "duration": 38,
        "start_time": "2022-01-23T15:43:31.631Z"
      },
      {
        "duration": 15,
        "start_time": "2022-01-23T15:43:46.215Z"
      },
      {
        "duration": 14,
        "start_time": "2022-01-23T15:43:49.652Z"
      },
      {
        "duration": 276,
        "start_time": "2022-01-23T15:44:00.888Z"
      },
      {
        "duration": 257,
        "start_time": "2022-01-23T15:44:03.970Z"
      },
      {
        "duration": 262,
        "start_time": "2022-01-23T15:44:12.028Z"
      },
      {
        "duration": 9,
        "start_time": "2022-01-23T15:44:16.730Z"
      },
      {
        "duration": 34,
        "start_time": "2022-01-23T15:44:22.955Z"
      },
      {
        "duration": 5,
        "start_time": "2022-01-23T15:44:32.155Z"
      },
      {
        "duration": 7,
        "start_time": "2022-01-23T15:46:33.795Z"
      },
      {
        "duration": 6,
        "start_time": "2022-01-23T15:46:48.425Z"
      },
      {
        "duration": 312,
        "start_time": "2022-01-23T15:47:00.231Z"
      },
      {
        "duration": 6,
        "start_time": "2022-01-23T15:48:28.574Z"
      },
      {
        "duration": 6,
        "start_time": "2022-01-23T15:48:37.348Z"
      },
      {
        "duration": 276,
        "start_time": "2022-01-23T15:48:47.627Z"
      },
      {
        "duration": 6,
        "start_time": "2022-01-23T15:49:08.694Z"
      },
      {
        "duration": 16,
        "start_time": "2022-01-23T15:50:25.157Z"
      },
      {
        "duration": 38,
        "start_time": "2022-01-23T15:50:28.884Z"
      },
      {
        "duration": 1094,
        "start_time": "2022-01-23T15:51:11.853Z"
      },
      {
        "duration": 1929,
        "start_time": "2022-01-23T15:51:12.949Z"
      },
      {
        "duration": 16,
        "start_time": "2022-01-23T15:51:14.880Z"
      },
      {
        "duration": 8,
        "start_time": "2022-01-23T15:51:14.898Z"
      },
      {
        "duration": 26,
        "start_time": "2022-01-23T15:51:14.908Z"
      },
      {
        "duration": 21,
        "start_time": "2022-01-23T15:51:14.935Z"
      },
      {
        "duration": 18,
        "start_time": "2022-01-23T15:51:14.958Z"
      },
      {
        "duration": 12,
        "start_time": "2022-01-23T15:51:14.998Z"
      },
      {
        "duration": 35,
        "start_time": "2022-01-23T15:51:15.013Z"
      },
      {
        "duration": 6,
        "start_time": "2022-01-23T15:51:15.050Z"
      },
      {
        "duration": 48,
        "start_time": "2022-01-23T15:51:15.057Z"
      },
      {
        "duration": 22,
        "start_time": "2022-01-23T15:51:15.106Z"
      },
      {
        "duration": 18,
        "start_time": "2022-01-23T15:51:15.130Z"
      },
      {
        "duration": 8,
        "start_time": "2022-01-23T15:51:15.150Z"
      },
      {
        "duration": 82,
        "start_time": "2022-01-23T15:51:15.160Z"
      },
      {
        "duration": 20,
        "start_time": "2022-01-23T15:51:15.244Z"
      },
      {
        "duration": 37,
        "start_time": "2022-01-23T15:51:15.266Z"
      },
      {
        "duration": 7,
        "start_time": "2022-01-23T15:51:15.305Z"
      },
      {
        "duration": 29,
        "start_time": "2022-01-23T15:51:15.314Z"
      },
      {
        "duration": 19,
        "start_time": "2022-01-23T15:51:15.344Z"
      },
      {
        "duration": 2,
        "start_time": "2022-01-23T15:51:15.365Z"
      },
      {
        "duration": 43,
        "start_time": "2022-01-23T15:51:15.369Z"
      },
      {
        "duration": 17,
        "start_time": "2022-01-23T15:51:15.413Z"
      },
      {
        "duration": 13,
        "start_time": "2022-01-23T15:51:15.432Z"
      },
      {
        "duration": 6,
        "start_time": "2022-01-23T15:51:15.447Z"
      },
      {
        "duration": 6,
        "start_time": "2022-01-23T15:51:15.455Z"
      },
      {
        "duration": 39,
        "start_time": "2022-01-23T15:51:15.501Z"
      },
      {
        "duration": 7,
        "start_time": "2022-01-23T15:51:15.542Z"
      },
      {
        "duration": 1123,
        "start_time": "2022-01-23T15:51:15.551Z"
      },
      {
        "duration": -88,
        "start_time": "2022-01-23T15:51:16.765Z"
      },
      {
        "duration": 1107,
        "start_time": "2022-01-23T15:51:24.040Z"
      },
      {
        "duration": 1989,
        "start_time": "2022-01-23T15:51:25.149Z"
      },
      {
        "duration": 17,
        "start_time": "2022-01-23T15:51:27.140Z"
      },
      {
        "duration": 5,
        "start_time": "2022-01-23T15:51:27.159Z"
      },
      {
        "duration": 27,
        "start_time": "2022-01-23T15:51:27.166Z"
      },
      {
        "duration": 21,
        "start_time": "2022-01-23T15:51:27.195Z"
      },
      {
        "duration": 19,
        "start_time": "2022-01-23T15:51:27.218Z"
      },
      {
        "duration": 11,
        "start_time": "2022-01-23T15:51:27.239Z"
      },
      {
        "duration": 54,
        "start_time": "2022-01-23T15:51:27.252Z"
      },
      {
        "duration": 5,
        "start_time": "2022-01-23T15:51:27.308Z"
      },
      {
        "duration": 31,
        "start_time": "2022-01-23T15:51:27.315Z"
      },
      {
        "duration": 23,
        "start_time": "2022-01-23T15:51:27.348Z"
      },
      {
        "duration": 42,
        "start_time": "2022-01-23T15:51:27.373Z"
      },
      {
        "duration": 8,
        "start_time": "2022-01-23T15:51:27.417Z"
      },
      {
        "duration": 53,
        "start_time": "2022-01-23T15:51:27.427Z"
      },
      {
        "duration": 34,
        "start_time": "2022-01-23T15:51:27.482Z"
      },
      {
        "duration": 18,
        "start_time": "2022-01-23T15:51:27.518Z"
      },
      {
        "duration": 7,
        "start_time": "2022-01-23T15:51:27.537Z"
      },
      {
        "duration": 59,
        "start_time": "2022-01-23T15:51:27.545Z"
      },
      {
        "duration": 19,
        "start_time": "2022-01-23T15:51:27.606Z"
      },
      {
        "duration": 3,
        "start_time": "2022-01-23T15:51:27.626Z"
      },
      {
        "duration": 16,
        "start_time": "2022-01-23T15:51:27.631Z"
      },
      {
        "duration": 17,
        "start_time": "2022-01-23T15:51:27.650Z"
      },
      {
        "duration": 41,
        "start_time": "2022-01-23T15:51:27.669Z"
      },
      {
        "duration": 5,
        "start_time": "2022-01-23T15:51:27.712Z"
      },
      {
        "duration": 6,
        "start_time": "2022-01-23T15:51:27.719Z"
      },
      {
        "duration": 40,
        "start_time": "2022-01-23T15:51:27.727Z"
      },
      {
        "duration": 35,
        "start_time": "2022-01-23T15:51:27.769Z"
      },
      {
        "duration": 359,
        "start_time": "2022-01-23T15:51:27.806Z"
      },
      {
        "duration": -259,
        "start_time": "2022-01-23T15:51:28.426Z"
      },
      {
        "duration": 13,
        "start_time": "2022-01-23T15:51:56.380Z"
      },
      {
        "duration": 5,
        "start_time": "2022-01-23T15:51:57.649Z"
      },
      {
        "duration": 15,
        "start_time": "2022-01-23T15:52:08.457Z"
      },
      {
        "duration": 7,
        "start_time": "2022-01-23T15:52:09.154Z"
      },
      {
        "duration": 7,
        "start_time": "2022-01-23T15:52:10.946Z"
      },
      {
        "duration": 37,
        "start_time": "2022-01-23T15:52:20.203Z"
      },
      {
        "duration": 7,
        "start_time": "2022-01-23T15:52:22.207Z"
      },
      {
        "duration": 6,
        "start_time": "2022-01-23T15:52:25.923Z"
      },
      {
        "duration": 4,
        "start_time": "2022-01-23T15:52:27.937Z"
      },
      {
        "duration": 40,
        "start_time": "2022-01-23T15:52:40.404Z"
      },
      {
        "duration": 7,
        "start_time": "2022-01-23T15:52:41.569Z"
      },
      {
        "duration": 7,
        "start_time": "2022-01-23T15:52:43.812Z"
      },
      {
        "duration": 4,
        "start_time": "2022-01-23T15:52:44.971Z"
      },
      {
        "duration": 39,
        "start_time": "2022-01-23T15:52:54.299Z"
      },
      {
        "duration": 8,
        "start_time": "2022-01-23T15:52:55.288Z"
      },
      {
        "duration": 333,
        "start_time": "2022-01-23T15:52:55.712Z"
      },
      {
        "duration": 40,
        "start_time": "2022-01-23T15:53:02.019Z"
      },
      {
        "duration": 8,
        "start_time": "2022-01-23T15:53:02.784Z"
      },
      {
        "duration": 36,
        "start_time": "2022-01-23T15:53:10.901Z"
      },
      {
        "duration": 8,
        "start_time": "2022-01-23T15:53:11.519Z"
      },
      {
        "duration": 39,
        "start_time": "2022-01-23T15:53:16.644Z"
      },
      {
        "duration": 7,
        "start_time": "2022-01-23T15:53:17.725Z"
      },
      {
        "duration": 7,
        "start_time": "2022-01-23T15:53:20.960Z"
      },
      {
        "duration": 4,
        "start_time": "2022-01-23T15:53:21.448Z"
      },
      {
        "duration": 41,
        "start_time": "2022-01-23T15:53:27.220Z"
      },
      {
        "duration": 8,
        "start_time": "2022-01-23T15:53:27.698Z"
      },
      {
        "duration": 6,
        "start_time": "2022-01-23T15:53:28.181Z"
      },
      {
        "duration": 5,
        "start_time": "2022-01-23T15:53:29.430Z"
      },
      {
        "duration": 7,
        "start_time": "2022-01-23T15:53:50.010Z"
      },
      {
        "duration": 16,
        "start_time": "2022-01-23T15:54:03.342Z"
      },
      {
        "duration": 8,
        "start_time": "2022-01-23T15:54:04.079Z"
      },
      {
        "duration": 6,
        "start_time": "2022-01-23T15:54:04.949Z"
      },
      {
        "duration": 41,
        "start_time": "2022-01-23T15:54:13.787Z"
      },
      {
        "duration": 7,
        "start_time": "2022-01-23T15:54:14.418Z"
      },
      {
        "duration": 7,
        "start_time": "2022-01-23T15:54:15.005Z"
      },
      {
        "duration": 5,
        "start_time": "2022-01-23T15:54:15.954Z"
      },
      {
        "duration": 1151,
        "start_time": "2022-01-23T15:54:51.011Z"
      },
      {
        "duration": 2280,
        "start_time": "2022-01-23T15:54:52.164Z"
      },
      {
        "duration": 17,
        "start_time": "2022-01-23T15:54:54.446Z"
      },
      {
        "duration": 6,
        "start_time": "2022-01-23T15:54:54.465Z"
      },
      {
        "duration": 27,
        "start_time": "2022-01-23T15:54:54.473Z"
      },
      {
        "duration": 36,
        "start_time": "2022-01-23T15:54:54.502Z"
      },
      {
        "duration": 21,
        "start_time": "2022-01-23T15:54:54.540Z"
      },
      {
        "duration": 11,
        "start_time": "2022-01-23T15:54:54.564Z"
      },
      {
        "duration": 45,
        "start_time": "2022-01-23T15:54:54.577Z"
      },
      {
        "duration": 6,
        "start_time": "2022-01-23T15:54:54.625Z"
      },
      {
        "duration": 30,
        "start_time": "2022-01-23T15:54:54.634Z"
      },
      {
        "duration": 49,
        "start_time": "2022-01-23T15:54:54.666Z"
      },
      {
        "duration": 21,
        "start_time": "2022-01-23T15:54:54.718Z"
      },
      {
        "duration": 10,
        "start_time": "2022-01-23T15:54:54.741Z"
      },
      {
        "duration": 81,
        "start_time": "2022-01-23T15:54:54.753Z"
      },
      {
        "duration": 20,
        "start_time": "2022-01-23T15:54:54.836Z"
      },
      {
        "duration": 19,
        "start_time": "2022-01-23T15:54:54.858Z"
      },
      {
        "duration": 24,
        "start_time": "2022-01-23T15:54:54.878Z"
      },
      {
        "duration": 29,
        "start_time": "2022-01-23T15:54:54.904Z"
      },
      {
        "duration": 19,
        "start_time": "2022-01-23T15:54:54.935Z"
      },
      {
        "duration": 3,
        "start_time": "2022-01-23T15:54:54.956Z"
      },
      {
        "duration": 48,
        "start_time": "2022-01-23T15:54:54.960Z"
      },
      {
        "duration": 19,
        "start_time": "2022-01-23T15:54:55.011Z"
      },
      {
        "duration": 28,
        "start_time": "2022-01-23T15:54:55.031Z"
      },
      {
        "duration": 3,
        "start_time": "2022-01-23T15:54:55.063Z"
      },
      {
        "duration": 8,
        "start_time": "2022-01-23T15:54:55.068Z"
      },
      {
        "duration": 59,
        "start_time": "2022-01-23T15:54:55.078Z"
      },
      {
        "duration": 7,
        "start_time": "2022-01-23T15:54:55.138Z"
      },
      {
        "duration": 368,
        "start_time": "2022-01-23T15:54:55.147Z"
      },
      {
        "duration": -16,
        "start_time": "2022-01-23T15:54:55.533Z"
      },
      {
        "duration": 10,
        "start_time": "2022-01-23T15:55:12.372Z"
      },
      {
        "duration": 21,
        "start_time": "2022-01-23T15:55:27.535Z"
      },
      {
        "duration": 24,
        "start_time": "2022-01-23T15:55:31.127Z"
      },
      {
        "duration": 14,
        "start_time": "2022-01-23T15:55:33.695Z"
      },
      {
        "duration": 10,
        "start_time": "2022-01-23T15:55:39.002Z"
      },
      {
        "duration": 1183,
        "start_time": "2022-01-23T15:55:47.304Z"
      },
      {
        "duration": 11,
        "start_time": "2022-01-23T15:55:55.075Z"
      },
      {
        "duration": 438,
        "start_time": "2022-01-23T15:56:03.512Z"
      },
      {
        "duration": 16,
        "start_time": "2022-01-23T15:56:07.672Z"
      },
      {
        "duration": 15,
        "start_time": "2022-01-23T15:56:34.373Z"
      },
      {
        "duration": 5,
        "start_time": "2022-01-23T15:56:37.506Z"
      },
      {
        "duration": 11,
        "start_time": "2022-01-23T15:56:42.958Z"
      },
      {
        "duration": 4,
        "start_time": "2022-01-23T15:56:44.257Z"
      },
      {
        "duration": 405,
        "start_time": "2022-01-23T15:57:58.098Z"
      },
      {
        "duration": 293,
        "start_time": "2022-01-23T15:58:06.126Z"
      },
      {
        "duration": 268,
        "start_time": "2022-01-23T15:58:17.860Z"
      },
      {
        "duration": 250,
        "start_time": "2022-01-23T15:58:28.357Z"
      },
      {
        "duration": 281,
        "start_time": "2022-01-23T15:58:37.659Z"
      },
      {
        "duration": 272,
        "start_time": "2022-01-23T15:58:43.622Z"
      },
      {
        "duration": 13,
        "start_time": "2022-01-23T15:58:59.172Z"
      },
      {
        "duration": 2,
        "start_time": "2022-01-23T15:59:00.181Z"
      },
      {
        "duration": 4,
        "start_time": "2022-01-23T15:59:00.623Z"
      },
      {
        "duration": 15,
        "start_time": "2022-01-23T15:59:11.470Z"
      },
      {
        "duration": 2,
        "start_time": "2022-01-23T15:59:12.714Z"
      },
      {
        "duration": 4,
        "start_time": "2022-01-23T15:59:12.949Z"
      },
      {
        "duration": 14,
        "start_time": "2022-01-23T15:59:20.242Z"
      },
      {
        "duration": 2,
        "start_time": "2022-01-23T15:59:20.818Z"
      },
      {
        "duration": 4,
        "start_time": "2022-01-23T15:59:21.048Z"
      },
      {
        "duration": 14,
        "start_time": "2022-01-23T15:59:24.896Z"
      },
      {
        "duration": 2,
        "start_time": "2022-01-23T15:59:25.386Z"
      },
      {
        "duration": 5,
        "start_time": "2022-01-23T15:59:25.607Z"
      },
      {
        "duration": 7,
        "start_time": "2022-01-23T15:59:46.089Z"
      },
      {
        "duration": 14,
        "start_time": "2022-01-23T15:59:50.502Z"
      },
      {
        "duration": 15,
        "start_time": "2022-01-23T16:00:00.255Z"
      },
      {
        "duration": 2,
        "start_time": "2022-01-23T16:00:01.076Z"
      },
      {
        "duration": 4,
        "start_time": "2022-01-23T16:00:01.313Z"
      },
      {
        "duration": 14,
        "start_time": "2022-01-23T16:00:05.325Z"
      },
      {
        "duration": 3,
        "start_time": "2022-01-23T16:00:05.781Z"
      },
      {
        "duration": 5,
        "start_time": "2022-01-23T16:00:06.022Z"
      },
      {
        "duration": 6,
        "start_time": "2022-01-23T16:00:07.895Z"
      },
      {
        "duration": 37,
        "start_time": "2022-01-23T16:00:10.330Z"
      },
      {
        "duration": 7,
        "start_time": "2022-01-23T16:00:11.384Z"
      },
      {
        "duration": 6,
        "start_time": "2022-01-23T16:00:12.070Z"
      },
      {
        "duration": 4,
        "start_time": "2022-01-23T16:00:13.135Z"
      },
      {
        "duration": 14,
        "start_time": "2022-01-23T16:00:22.315Z"
      },
      {
        "duration": 3,
        "start_time": "2022-01-23T16:00:22.685Z"
      },
      {
        "duration": 5,
        "start_time": "2022-01-23T16:00:22.951Z"
      },
      {
        "duration": 1186,
        "start_time": "2022-01-23T16:00:35.769Z"
      },
      {
        "duration": 932,
        "start_time": "2022-01-23T16:00:36.957Z"
      },
      {
        "duration": 18,
        "start_time": "2022-01-23T16:00:37.892Z"
      },
      {
        "duration": 9,
        "start_time": "2022-01-23T16:00:37.913Z"
      },
      {
        "duration": 42,
        "start_time": "2022-01-23T16:00:37.924Z"
      },
      {
        "duration": 30,
        "start_time": "2022-01-23T16:00:37.968Z"
      },
      {
        "duration": 19,
        "start_time": "2022-01-23T16:00:38.001Z"
      },
      {
        "duration": 21,
        "start_time": "2022-01-23T16:00:38.023Z"
      },
      {
        "duration": 58,
        "start_time": "2022-01-23T16:00:38.046Z"
      },
      {
        "duration": 5,
        "start_time": "2022-01-23T16:00:38.106Z"
      },
      {
        "duration": 54,
        "start_time": "2022-01-23T16:00:38.113Z"
      },
      {
        "duration": 36,
        "start_time": "2022-01-23T16:00:38.169Z"
      },
      {
        "duration": 27,
        "start_time": "2022-01-23T16:00:38.207Z"
      },
      {
        "duration": 33,
        "start_time": "2022-01-23T16:00:38.236Z"
      },
      {
        "duration": 77,
        "start_time": "2022-01-23T16:00:38.270Z"
      },
      {
        "duration": 22,
        "start_time": "2022-01-23T16:00:38.349Z"
      },
      {
        "duration": 40,
        "start_time": "2022-01-23T16:00:38.372Z"
      },
      {
        "duration": 7,
        "start_time": "2022-01-23T16:00:38.414Z"
      },
      {
        "duration": 54,
        "start_time": "2022-01-23T16:00:38.422Z"
      },
      {
        "duration": 29,
        "start_time": "2022-01-23T16:00:38.478Z"
      },
      {
        "duration": 3,
        "start_time": "2022-01-23T16:00:38.509Z"
      },
      {
        "duration": 47,
        "start_time": "2022-01-23T16:00:38.514Z"
      },
      {
        "duration": 27,
        "start_time": "2022-01-23T16:00:38.564Z"
      },
      {
        "duration": 44,
        "start_time": "2022-01-23T16:00:38.593Z"
      },
      {
        "duration": 25,
        "start_time": "2022-01-23T16:00:38.639Z"
      },
      {
        "duration": 19,
        "start_time": "2022-01-23T16:00:38.666Z"
      },
      {
        "duration": 41,
        "start_time": "2022-01-23T16:00:38.687Z"
      },
      {
        "duration": 59,
        "start_time": "2022-01-23T16:00:38.730Z"
      },
      {
        "duration": 6,
        "start_time": "2022-01-23T16:00:38.791Z"
      },
      {
        "duration": 810,
        "start_time": "2022-01-23T16:00:38.798Z"
      },
      {
        "duration": -44,
        "start_time": "2022-01-23T16:00:39.654Z"
      },
      {
        "duration": 13,
        "start_time": "2022-01-23T16:01:33.545Z"
      },
      {
        "duration": 18,
        "start_time": "2022-01-23T16:01:45.128Z"
      },
      {
        "duration": 32,
        "start_time": "2022-01-23T16:02:48.588Z"
      },
      {
        "duration": 7,
        "start_time": "2022-01-23T16:02:51.263Z"
      },
      {
        "duration": 7,
        "start_time": "2022-01-23T16:02:52.679Z"
      },
      {
        "duration": 5,
        "start_time": "2022-01-23T16:02:54.030Z"
      },
      {
        "duration": 32,
        "start_time": "2022-01-23T16:03:11.318Z"
      },
      {
        "duration": 47,
        "start_time": "2022-01-23T16:03:14.542Z"
      },
      {
        "duration": 50,
        "start_time": "2022-01-23T16:04:12.117Z"
      },
      {
        "duration": 33,
        "start_time": "2022-01-23T16:04:28.866Z"
      },
      {
        "duration": 30,
        "start_time": "2022-01-23T16:04:37.368Z"
      },
      {
        "duration": 8,
        "start_time": "2022-01-23T16:04:39.935Z"
      },
      {
        "duration": 278,
        "start_time": "2022-01-23T16:04:43.797Z"
      },
      {
        "duration": -33,
        "start_time": "2022-01-23T16:04:44.110Z"
      },
      {
        "duration": 8,
        "start_time": "2022-01-23T16:05:00.454Z"
      },
      {
        "duration": 34,
        "start_time": "2022-01-23T16:05:53.217Z"
      },
      {
        "duration": 7,
        "start_time": "2022-01-23T16:06:03.128Z"
      },
      {
        "duration": 270,
        "start_time": "2022-01-23T16:06:11.143Z"
      },
      {
        "duration": 26,
        "start_time": "2022-01-23T16:06:49.218Z"
      },
      {
        "duration": 5,
        "start_time": "2022-01-23T16:06:50.440Z"
      },
      {
        "duration": 9,
        "start_time": "2022-01-23T16:06:56.205Z"
      },
      {
        "duration": 270,
        "start_time": "2022-01-23T16:07:48.851Z"
      },
      {
        "duration": 265,
        "start_time": "2022-01-23T16:07:53.938Z"
      },
      {
        "duration": 262,
        "start_time": "2022-01-23T16:08:00.658Z"
      },
      {
        "duration": 4,
        "start_time": "2022-01-23T16:08:05.002Z"
      },
      {
        "duration": 6,
        "start_time": "2022-01-23T16:08:10.325Z"
      },
      {
        "duration": 6,
        "start_time": "2022-01-23T16:08:18.952Z"
      },
      {
        "duration": 19,
        "start_time": "2022-01-23T16:09:06.156Z"
      },
      {
        "duration": 3,
        "start_time": "2022-01-23T16:12:23.289Z"
      },
      {
        "duration": 15,
        "start_time": "2022-01-23T16:12:23.934Z"
      },
      {
        "duration": 16,
        "start_time": "2022-01-23T16:12:24.315Z"
      },
      {
        "duration": 3,
        "start_time": "2022-01-23T16:12:33.081Z"
      },
      {
        "duration": 13,
        "start_time": "2022-01-23T16:12:33.287Z"
      },
      {
        "duration": 17,
        "start_time": "2022-01-23T16:12:33.538Z"
      },
      {
        "duration": 3,
        "start_time": "2022-01-23T16:12:36.570Z"
      },
      {
        "duration": 14,
        "start_time": "2022-01-23T16:12:36.783Z"
      },
      {
        "duration": 16,
        "start_time": "2022-01-23T16:12:36.990Z"
      },
      {
        "duration": 3,
        "start_time": "2022-01-23T16:12:55.269Z"
      },
      {
        "duration": 15,
        "start_time": "2022-01-23T16:12:55.528Z"
      },
      {
        "duration": 17,
        "start_time": "2022-01-23T16:12:55.804Z"
      },
      {
        "duration": 40,
        "start_time": "2022-01-23T16:12:58.692Z"
      },
      {
        "duration": 61,
        "start_time": "2022-01-23T16:12:59.446Z"
      },
      {
        "duration": 1176,
        "start_time": "2022-01-23T16:13:11.295Z"
      },
      {
        "duration": 2298,
        "start_time": "2022-01-23T16:13:12.473Z"
      },
      {
        "duration": 18,
        "start_time": "2022-01-23T16:13:14.774Z"
      },
      {
        "duration": 7,
        "start_time": "2022-01-23T16:13:14.793Z"
      },
      {
        "duration": 34,
        "start_time": "2022-01-23T16:13:14.801Z"
      },
      {
        "duration": 24,
        "start_time": "2022-01-23T16:13:14.836Z"
      },
      {
        "duration": 43,
        "start_time": "2022-01-23T16:13:14.861Z"
      },
      {
        "duration": 13,
        "start_time": "2022-01-23T16:13:14.906Z"
      },
      {
        "duration": 38,
        "start_time": "2022-01-23T16:13:14.922Z"
      },
      {
        "duration": 6,
        "start_time": "2022-01-23T16:13:14.963Z"
      },
      {
        "duration": 33,
        "start_time": "2022-01-23T16:13:14.998Z"
      },
      {
        "duration": 26,
        "start_time": "2022-01-23T16:13:15.033Z"
      },
      {
        "duration": 44,
        "start_time": "2022-01-23T16:13:15.060Z"
      },
      {
        "duration": 10,
        "start_time": "2022-01-23T16:13:15.105Z"
      },
      {
        "duration": 61,
        "start_time": "2022-01-23T16:13:15.116Z"
      },
      {
        "duration": 37,
        "start_time": "2022-01-23T16:13:15.179Z"
      },
      {
        "duration": 21,
        "start_time": "2022-01-23T16:13:15.217Z"
      },
      {
        "duration": 7,
        "start_time": "2022-01-23T16:13:15.240Z"
      },
      {
        "duration": 60,
        "start_time": "2022-01-23T16:13:15.248Z"
      },
      {
        "duration": 20,
        "start_time": "2022-01-23T16:13:15.310Z"
      },
      {
        "duration": 2,
        "start_time": "2022-01-23T16:13:15.332Z"
      },
      {
        "duration": 18,
        "start_time": "2022-01-23T16:13:15.336Z"
      },
      {
        "duration": 17,
        "start_time": "2022-01-23T16:13:15.355Z"
      },
      {
        "duration": 361,
        "start_time": "2022-01-23T16:13:15.399Z"
      },
      {
        "duration": -25,
        "start_time": "2022-01-23T16:13:15.787Z"
      },
      {
        "duration": -26,
        "start_time": "2022-01-23T16:13:15.789Z"
      },
      {
        "duration": -27,
        "start_time": "2022-01-23T16:13:15.791Z"
      },
      {
        "duration": 30,
        "start_time": "2022-01-23T16:15:19.557Z"
      },
      {
        "duration": 302,
        "start_time": "2022-01-23T16:15:22.170Z"
      },
      {
        "duration": 16,
        "start_time": "2022-01-23T16:15:37.756Z"
      },
      {
        "duration": 28,
        "start_time": "2022-01-23T16:15:45.432Z"
      },
      {
        "duration": 5,
        "start_time": "2022-01-23T16:16:12.532Z"
      },
      {
        "duration": 4,
        "start_time": "2022-01-23T16:16:17.090Z"
      },
      {
        "duration": 22,
        "start_time": "2022-01-23T16:17:00.487Z"
      },
      {
        "duration": 5,
        "start_time": "2022-01-23T16:17:45.203Z"
      },
      {
        "duration": 442,
        "start_time": "2022-01-23T16:24:31.048Z"
      },
      {
        "duration": 286,
        "start_time": "2022-01-23T16:25:35.095Z"
      },
      {
        "duration": 292,
        "start_time": "2022-01-23T16:26:19.953Z"
      },
      {
        "duration": 266,
        "start_time": "2022-01-23T16:28:12.468Z"
      },
      {
        "duration": 105,
        "start_time": "2022-01-23T16:28:36.161Z"
      },
      {
        "duration": 292,
        "start_time": "2022-01-23T16:28:50.761Z"
      },
      {
        "duration": 267,
        "start_time": "2022-01-23T16:29:12.578Z"
      },
      {
        "duration": 304,
        "start_time": "2022-01-23T16:29:33.998Z"
      },
      {
        "duration": 267,
        "start_time": "2022-01-23T16:30:43.518Z"
      },
      {
        "duration": 88,
        "start_time": "2022-01-23T16:31:09.039Z"
      },
      {
        "duration": 270,
        "start_time": "2022-01-23T16:31:13.306Z"
      },
      {
        "duration": 365,
        "start_time": "2022-01-23T16:31:29.744Z"
      },
      {
        "duration": 263,
        "start_time": "2022-01-23T16:32:48.064Z"
      },
      {
        "duration": 697,
        "start_time": "2022-01-23T16:33:34.247Z"
      },
      {
        "duration": 268,
        "start_time": "2022-01-23T16:34:02.602Z"
      },
      {
        "duration": 579,
        "start_time": "2022-01-23T16:34:29.830Z"
      },
      {
        "duration": 91,
        "start_time": "2022-01-23T16:34:34.315Z"
      },
      {
        "duration": 86,
        "start_time": "2022-01-23T16:34:37.498Z"
      },
      {
        "duration": 86,
        "start_time": "2022-01-23T16:34:49.002Z"
      },
      {
        "duration": 407,
        "start_time": "2022-01-23T16:35:01.804Z"
      },
      {
        "duration": 1812,
        "start_time": "2022-01-23T16:35:40.142Z"
      },
      {
        "duration": 944,
        "start_time": "2022-01-23T16:35:41.956Z"
      },
      {
        "duration": 17,
        "start_time": "2022-01-23T16:35:42.902Z"
      },
      {
        "duration": 5,
        "start_time": "2022-01-23T16:35:42.921Z"
      },
      {
        "duration": 30,
        "start_time": "2022-01-23T16:35:42.928Z"
      },
      {
        "duration": 39,
        "start_time": "2022-01-23T16:35:42.960Z"
      },
      {
        "duration": 19,
        "start_time": "2022-01-23T16:35:43.001Z"
      },
      {
        "duration": 10,
        "start_time": "2022-01-23T16:35:43.021Z"
      },
      {
        "duration": 28,
        "start_time": "2022-01-23T16:35:43.034Z"
      },
      {
        "duration": 6,
        "start_time": "2022-01-23T16:35:43.064Z"
      },
      {
        "duration": 27,
        "start_time": "2022-01-23T16:35:43.099Z"
      },
      {
        "duration": 22,
        "start_time": "2022-01-23T16:35:43.128Z"
      },
      {
        "duration": 23,
        "start_time": "2022-01-23T16:35:43.151Z"
      },
      {
        "duration": 11,
        "start_time": "2022-01-23T16:35:43.198Z"
      },
      {
        "duration": 60,
        "start_time": "2022-01-23T16:35:43.210Z"
      },
      {
        "duration": 29,
        "start_time": "2022-01-23T16:35:43.271Z"
      },
      {
        "duration": 18,
        "start_time": "2022-01-23T16:35:43.301Z"
      },
      {
        "duration": 7,
        "start_time": "2022-01-23T16:35:43.320Z"
      },
      {
        "duration": 32,
        "start_time": "2022-01-23T16:35:43.329Z"
      },
      {
        "duration": 43,
        "start_time": "2022-01-23T16:35:43.363Z"
      },
      {
        "duration": 2,
        "start_time": "2022-01-23T16:35:43.407Z"
      },
      {
        "duration": 17,
        "start_time": "2022-01-23T16:35:43.411Z"
      },
      {
        "duration": 15,
        "start_time": "2022-01-23T16:35:43.430Z"
      },
      {
        "duration": 29,
        "start_time": "2022-01-23T16:35:43.446Z"
      },
      {
        "duration": 23,
        "start_time": "2022-01-23T16:35:43.477Z"
      },
      {
        "duration": 5233,
        "start_time": "2022-01-23T16:35:43.501Z"
      },
      {
        "duration": 53,
        "start_time": "2022-01-23T16:35:48.683Z"
      },
      {
        "duration": 287,
        "start_time": "2022-01-23T16:37:35.127Z"
      },
      {
        "duration": 296,
        "start_time": "2022-01-23T16:37:51.270Z"
      },
      {
        "duration": 326,
        "start_time": "2022-01-23T16:39:52.444Z"
      },
      {
        "duration": 267,
        "start_time": "2022-01-23T16:40:10.251Z"
      },
      {
        "duration": 303,
        "start_time": "2022-01-23T16:40:40.012Z"
      },
      {
        "duration": 274,
        "start_time": "2022-01-23T16:42:06.229Z"
      },
      {
        "duration": 793,
        "start_time": "2022-01-23T16:42:29.652Z"
      },
      {
        "duration": 259,
        "start_time": "2022-01-23T16:43:29.047Z"
      },
      {
        "duration": 285,
        "start_time": "2022-01-23T16:43:33.014Z"
      },
      {
        "duration": 282,
        "start_time": "2022-01-23T16:43:41.217Z"
      },
      {
        "duration": 276,
        "start_time": "2022-01-23T16:43:45.634Z"
      },
      {
        "duration": 4,
        "start_time": "2022-01-23T16:44:56.148Z"
      },
      {
        "duration": 34,
        "start_time": "2022-01-23T16:45:00.979Z"
      },
      {
        "duration": 309,
        "start_time": "2022-01-23T16:45:21.826Z"
      },
      {
        "duration": 269,
        "start_time": "2022-01-23T16:45:43.164Z"
      },
      {
        "duration": 257,
        "start_time": "2022-01-23T16:45:46.005Z"
      },
      {
        "duration": 32,
        "start_time": "2022-01-23T16:45:46.345Z"
      },
      {
        "duration": 271,
        "start_time": "2022-01-23T16:45:50.369Z"
      },
      {
        "duration": 87,
        "start_time": "2022-01-23T16:45:58.927Z"
      },
      {
        "duration": 5,
        "start_time": "2022-01-23T16:46:23.365Z"
      },
      {
        "duration": 33,
        "start_time": "2022-01-23T16:46:23.989Z"
      },
      {
        "duration": 4,
        "start_time": "2022-01-23T16:46:34.949Z"
      },
      {
        "duration": 33,
        "start_time": "2022-01-23T16:46:35.188Z"
      },
      {
        "duration": 17515,
        "start_time": "2022-01-23T16:46:58.180Z"
      },
      {
        "duration": 17989,
        "start_time": "2022-01-23T16:49:04.989Z"
      },
      {
        "duration": 1063,
        "start_time": "2022-01-23T16:49:40.713Z"
      },
      {
        "duration": -23,
        "start_time": "2022-01-23T16:49:41.801Z"
      },
      {
        "duration": 1041,
        "start_time": "2022-01-23T16:49:46.782Z"
      },
      {
        "duration": 311,
        "start_time": "2022-01-23T16:49:51.470Z"
      },
      {
        "duration": 263,
        "start_time": "2022-01-23T16:49:53.246Z"
      },
      {
        "duration": 292,
        "start_time": "2022-01-23T16:50:03.095Z"
      },
      {
        "duration": 286,
        "start_time": "2022-01-23T16:53:40.076Z"
      },
      {
        "duration": 36,
        "start_time": "2022-01-23T16:54:29.630Z"
      },
      {
        "duration": 258,
        "start_time": "2022-01-23T16:55:39.005Z"
      },
      {
        "duration": 303,
        "start_time": "2022-01-23T16:55:48.125Z"
      },
      {
        "duration": 327,
        "start_time": "2022-01-23T16:56:20.745Z"
      },
      {
        "duration": 291,
        "start_time": "2022-01-23T16:56:34.152Z"
      },
      {
        "duration": 264,
        "start_time": "2022-01-23T16:56:43.727Z"
      },
      {
        "duration": 261,
        "start_time": "2022-01-23T16:58:23.186Z"
      },
      {
        "duration": 55,
        "start_time": "2022-01-23T16:58:37.907Z"
      },
      {
        "duration": 34,
        "start_time": "2022-01-23T16:58:43.091Z"
      },
      {
        "duration": 1199,
        "start_time": "2022-01-23T16:59:04.486Z"
      },
      {
        "duration": 2167,
        "start_time": "2022-01-23T16:59:05.687Z"
      },
      {
        "duration": 18,
        "start_time": "2022-01-23T16:59:07.856Z"
      },
      {
        "duration": 9,
        "start_time": "2022-01-23T16:59:07.876Z"
      },
      {
        "duration": 31,
        "start_time": "2022-01-23T16:59:07.886Z"
      },
      {
        "duration": 22,
        "start_time": "2022-01-23T16:59:07.918Z"
      },
      {
        "duration": 23,
        "start_time": "2022-01-23T16:59:07.941Z"
      },
      {
        "duration": 11,
        "start_time": "2022-01-23T16:59:07.966Z"
      },
      {
        "duration": 27,
        "start_time": "2022-01-23T16:59:07.999Z"
      },
      {
        "duration": 5,
        "start_time": "2022-01-23T16:59:08.028Z"
      },
      {
        "duration": 28,
        "start_time": "2022-01-23T16:59:08.035Z"
      },
      {
        "duration": 43,
        "start_time": "2022-01-23T16:59:08.065Z"
      },
      {
        "duration": 17,
        "start_time": "2022-01-23T16:59:08.110Z"
      },
      {
        "duration": 8,
        "start_time": "2022-01-23T16:59:08.128Z"
      },
      {
        "duration": 72,
        "start_time": "2022-01-23T16:59:08.137Z"
      },
      {
        "duration": 22,
        "start_time": "2022-01-23T16:59:08.210Z"
      },
      {
        "duration": 19,
        "start_time": "2022-01-23T16:59:08.233Z"
      },
      {
        "duration": 7,
        "start_time": "2022-01-23T16:59:08.253Z"
      },
      {
        "duration": 56,
        "start_time": "2022-01-23T16:59:08.262Z"
      },
      {
        "duration": 20,
        "start_time": "2022-01-23T16:59:08.319Z"
      },
      {
        "duration": 3,
        "start_time": "2022-01-23T16:59:08.340Z"
      },
      {
        "duration": 18,
        "start_time": "2022-01-23T16:59:08.345Z"
      },
      {
        "duration": 40,
        "start_time": "2022-01-23T16:59:08.366Z"
      },
      {
        "duration": 29,
        "start_time": "2022-01-23T16:59:08.408Z"
      },
      {
        "duration": 4,
        "start_time": "2022-01-23T16:59:08.438Z"
      },
      {
        "duration": 362,
        "start_time": "2022-01-23T16:59:08.444Z"
      },
      {
        "duration": 32,
        "start_time": "2022-01-23T16:59:08.776Z"
      },
      {
        "duration": 31,
        "start_time": "2022-01-23T16:59:08.778Z"
      },
      {
        "duration": 30,
        "start_time": "2022-01-23T16:59:08.780Z"
      },
      {
        "duration": 29,
        "start_time": "2022-01-23T16:59:08.782Z"
      },
      {
        "duration": 29,
        "start_time": "2022-01-23T16:59:08.783Z"
      },
      {
        "duration": 51,
        "start_time": "2022-01-23T16:59:12.714Z"
      },
      {
        "duration": 33,
        "start_time": "2022-01-23T16:59:13.473Z"
      },
      {
        "duration": 10,
        "start_time": "2022-01-23T16:59:33.631Z"
      },
      {
        "duration": 6,
        "start_time": "2022-01-23T16:59:53.985Z"
      },
      {
        "duration": 55,
        "start_time": "2022-01-23T17:00:14.440Z"
      },
      {
        "duration": 6,
        "start_time": "2022-01-23T17:00:15.102Z"
      },
      {
        "duration": 12,
        "start_time": "2022-01-23T17:01:31.014Z"
      },
      {
        "duration": 270,
        "start_time": "2022-01-23T17:02:15.904Z"
      },
      {
        "duration": 277,
        "start_time": "2022-01-23T17:02:22.237Z"
      },
      {
        "duration": 272,
        "start_time": "2022-01-23T17:02:36.906Z"
      },
      {
        "duration": 327,
        "start_time": "2022-01-23T17:02:40.794Z"
      },
      {
        "duration": 3503,
        "start_time": "2022-01-23T17:03:01.578Z"
      },
      {
        "duration": 3456,
        "start_time": "2022-01-23T17:03:05.702Z"
      },
      {
        "duration": 4441,
        "start_time": "2022-01-23T17:03:24.510Z"
      },
      {
        "duration": 716,
        "start_time": "2022-01-23T17:06:00.687Z"
      },
      {
        "duration": 81,
        "start_time": "2022-01-23T17:06:13.913Z"
      },
      {
        "duration": 273,
        "start_time": "2022-01-23T17:22:12.908Z"
      },
      {
        "duration": 34,
        "start_time": "2022-01-23T17:23:30.266Z"
      },
      {
        "duration": 31,
        "start_time": "2022-01-23T17:24:52.717Z"
      },
      {
        "duration": 265,
        "start_time": "2022-01-23T17:26:46.896Z"
      },
      {
        "duration": 269,
        "start_time": "2022-01-23T17:27:18.191Z"
      },
      {
        "duration": 257,
        "start_time": "2022-01-23T17:27:38.452Z"
      },
      {
        "duration": 269,
        "start_time": "2022-01-23T17:27:48.823Z"
      },
      {
        "duration": 102,
        "start_time": "2022-01-23T17:28:33.593Z"
      },
      {
        "duration": 84,
        "start_time": "2022-01-23T17:28:48.264Z"
      },
      {
        "duration": 87,
        "start_time": "2022-01-23T17:28:56.362Z"
      },
      {
        "duration": 270,
        "start_time": "2022-01-23T17:29:02.793Z"
      },
      {
        "duration": 95,
        "start_time": "2022-01-23T17:29:06.937Z"
      },
      {
        "duration": 175,
        "start_time": "2022-01-23T17:29:17.282Z"
      },
      {
        "duration": 337,
        "start_time": "2022-01-23T17:29:21.408Z"
      },
      {
        "duration": 277,
        "start_time": "2022-01-23T17:29:23.481Z"
      },
      {
        "duration": 1056,
        "start_time": "2022-01-23T17:30:14.722Z"
      },
      {
        "duration": 87,
        "start_time": "2022-01-23T17:34:00.488Z"
      },
      {
        "duration": 336,
        "start_time": "2022-01-23T17:34:04.877Z"
      },
      {
        "duration": 288,
        "start_time": "2022-01-23T17:34:12.032Z"
      },
      {
        "duration": 263,
        "start_time": "2022-01-23T17:34:36.711Z"
      },
      {
        "duration": 268,
        "start_time": "2022-01-23T17:34:42.199Z"
      },
      {
        "duration": 317,
        "start_time": "2022-01-23T17:35:00.345Z"
      },
      {
        "duration": 2042,
        "start_time": "2022-01-23T17:35:36.031Z"
      },
      {
        "duration": 141,
        "start_time": "2022-01-23T17:36:08.094Z"
      },
      {
        "duration": 341,
        "start_time": "2022-01-23T17:36:11.274Z"
      },
      {
        "duration": 4222,
        "start_time": "2022-01-23T17:36:25.817Z"
      },
      {
        "duration": 15098,
        "start_time": "2022-01-23T17:37:02.987Z"
      },
      {
        "duration": 31,
        "start_time": "2022-01-23T17:37:26.852Z"
      },
      {
        "duration": 14854,
        "start_time": "2022-01-23T17:37:46.168Z"
      },
      {
        "duration": 32,
        "start_time": "2022-01-23T17:38:01.024Z"
      },
      {
        "duration": 4572,
        "start_time": "2022-01-23T17:38:01.337Z"
      },
      {
        "duration": 4457,
        "start_time": "2022-01-23T17:38:19.245Z"
      },
      {
        "duration": 301,
        "start_time": "2022-01-23T17:38:26.594Z"
      },
      {
        "duration": 84,
        "start_time": "2022-01-23T17:38:32.212Z"
      },
      {
        "duration": 15589,
        "start_time": "2022-01-23T17:38:38.742Z"
      },
      {
        "duration": 1279,
        "start_time": "2022-01-23T17:39:01.711Z"
      },
      {
        "duration": 2162,
        "start_time": "2022-01-23T17:39:02.992Z"
      },
      {
        "duration": 17,
        "start_time": "2022-01-23T17:39:05.156Z"
      },
      {
        "duration": 5,
        "start_time": "2022-01-23T17:39:05.175Z"
      },
      {
        "duration": 33,
        "start_time": "2022-01-23T17:39:05.182Z"
      },
      {
        "duration": 24,
        "start_time": "2022-01-23T17:39:05.217Z"
      },
      {
        "duration": 19,
        "start_time": "2022-01-23T17:39:05.242Z"
      },
      {
        "duration": 11,
        "start_time": "2022-01-23T17:39:05.263Z"
      },
      {
        "duration": 57,
        "start_time": "2022-01-23T17:39:05.276Z"
      },
      {
        "duration": 5,
        "start_time": "2022-01-23T17:39:05.335Z"
      },
      {
        "duration": 31,
        "start_time": "2022-01-23T17:39:05.342Z"
      },
      {
        "duration": 50,
        "start_time": "2022-01-23T17:39:05.374Z"
      },
      {
        "duration": 19,
        "start_time": "2022-01-23T17:39:05.426Z"
      },
      {
        "duration": 10,
        "start_time": "2022-01-23T17:39:05.447Z"
      },
      {
        "duration": 88,
        "start_time": "2022-01-23T17:39:05.458Z"
      },
      {
        "duration": 22,
        "start_time": "2022-01-23T17:39:05.548Z"
      },
      {
        "duration": 35,
        "start_time": "2022-01-23T17:39:05.572Z"
      },
      {
        "duration": 9,
        "start_time": "2022-01-23T17:39:05.609Z"
      },
      {
        "duration": 32,
        "start_time": "2022-01-23T17:39:05.620Z"
      },
      {
        "duration": 19,
        "start_time": "2022-01-23T17:39:05.654Z"
      },
      {
        "duration": 3,
        "start_time": "2022-01-23T17:39:05.675Z"
      },
      {
        "duration": 20,
        "start_time": "2022-01-23T17:39:05.698Z"
      },
      {
        "duration": 15,
        "start_time": "2022-01-23T17:39:05.721Z"
      },
      {
        "duration": 31,
        "start_time": "2022-01-23T17:39:05.738Z"
      },
      {
        "duration": 4,
        "start_time": "2022-01-23T17:39:05.770Z"
      },
      {
        "duration": 27,
        "start_time": "2022-01-23T17:39:05.799Z"
      },
      {
        "duration": 15318,
        "start_time": "2022-01-23T17:39:05.828Z"
      },
      {
        "duration": 28,
        "start_time": "2022-01-23T17:39:21.147Z"
      },
      {
        "duration": 408,
        "start_time": "2022-01-23T17:39:51.215Z"
      },
      {
        "duration": 1046,
        "start_time": "2022-01-24T16:59:23.510Z"
      },
      {
        "duration": 1865,
        "start_time": "2022-01-24T16:59:24.558Z"
      },
      {
        "duration": 14,
        "start_time": "2022-01-24T16:59:26.425Z"
      },
      {
        "duration": 6,
        "start_time": "2022-01-24T16:59:26.441Z"
      },
      {
        "duration": 26,
        "start_time": "2022-01-24T16:59:26.448Z"
      },
      {
        "duration": 37,
        "start_time": "2022-01-24T16:59:26.476Z"
      },
      {
        "duration": 18,
        "start_time": "2022-01-24T16:59:26.514Z"
      },
      {
        "duration": 11,
        "start_time": "2022-01-24T16:59:26.535Z"
      },
      {
        "duration": 26,
        "start_time": "2022-01-24T16:59:26.548Z"
      },
      {
        "duration": 37,
        "start_time": "2022-01-24T16:59:26.576Z"
      },
      {
        "duration": 27,
        "start_time": "2022-01-24T16:59:26.615Z"
      },
      {
        "duration": 21,
        "start_time": "2022-01-24T16:59:26.644Z"
      },
      {
        "duration": 16,
        "start_time": "2022-01-24T16:59:26.666Z"
      },
      {
        "duration": 32,
        "start_time": "2022-01-24T16:59:26.684Z"
      },
      {
        "duration": 50,
        "start_time": "2022-01-24T16:59:26.717Z"
      },
      {
        "duration": 20,
        "start_time": "2022-01-24T16:59:26.768Z"
      },
      {
        "duration": 32,
        "start_time": "2022-01-24T16:59:26.789Z"
      },
      {
        "duration": 6,
        "start_time": "2022-01-24T16:59:26.823Z"
      },
      {
        "duration": 28,
        "start_time": "2022-01-24T16:59:26.830Z"
      },
      {
        "duration": 17,
        "start_time": "2022-01-24T16:59:26.860Z"
      },
      {
        "duration": 3,
        "start_time": "2022-01-24T16:59:26.878Z"
      },
      {
        "duration": 16,
        "start_time": "2022-01-24T16:59:26.912Z"
      },
      {
        "duration": 14,
        "start_time": "2022-01-24T16:59:26.931Z"
      },
      {
        "duration": 25,
        "start_time": "2022-01-24T16:59:26.946Z"
      },
      {
        "duration": 3,
        "start_time": "2022-01-24T16:59:26.973Z"
      },
      {
        "duration": 49,
        "start_time": "2022-01-24T16:59:26.977Z"
      },
      {
        "duration": 504,
        "start_time": "2022-01-24T16:59:27.027Z"
      },
      {
        "duration": 51,
        "start_time": "2022-01-24T16:59:27.482Z"
      },
      {
        "duration": 1075,
        "start_time": "2022-01-24T17:09:16.009Z"
      },
      {
        "duration": 2582,
        "start_time": "2022-01-24T17:09:17.086Z"
      },
      {
        "duration": 16,
        "start_time": "2022-01-24T17:09:19.670Z"
      },
      {
        "duration": 5,
        "start_time": "2022-01-24T17:09:19.688Z"
      },
      {
        "duration": 34,
        "start_time": "2022-01-24T17:09:19.694Z"
      },
      {
        "duration": 23,
        "start_time": "2022-01-24T17:09:19.730Z"
      },
      {
        "duration": 20,
        "start_time": "2022-01-24T17:09:19.755Z"
      },
      {
        "duration": 41,
        "start_time": "2022-01-24T17:09:19.778Z"
      },
      {
        "duration": 30,
        "start_time": "2022-01-24T17:09:19.822Z"
      },
      {
        "duration": 6,
        "start_time": "2022-01-24T17:09:19.853Z"
      },
      {
        "duration": 57,
        "start_time": "2022-01-24T17:09:19.860Z"
      },
      {
        "duration": 22,
        "start_time": "2022-01-24T17:09:19.920Z"
      },
      {
        "duration": 17,
        "start_time": "2022-01-24T17:09:19.944Z"
      },
      {
        "duration": 8,
        "start_time": "2022-01-24T17:09:19.963Z"
      },
      {
        "duration": 79,
        "start_time": "2022-01-24T17:09:19.973Z"
      },
      {
        "duration": 20,
        "start_time": "2022-01-24T17:09:20.054Z"
      },
      {
        "duration": 40,
        "start_time": "2022-01-24T17:09:20.076Z"
      },
      {
        "duration": 10,
        "start_time": "2022-01-24T17:09:20.119Z"
      },
      {
        "duration": 30,
        "start_time": "2022-01-24T17:09:20.131Z"
      },
      {
        "duration": 19,
        "start_time": "2022-01-24T17:09:20.163Z"
      },
      {
        "duration": 3,
        "start_time": "2022-01-24T17:09:20.183Z"
      },
      {
        "duration": 43,
        "start_time": "2022-01-24T17:09:20.188Z"
      },
      {
        "duration": 14,
        "start_time": "2022-01-24T17:09:20.234Z"
      },
      {
        "duration": 25,
        "start_time": "2022-01-24T17:09:20.250Z"
      },
      {
        "duration": 4,
        "start_time": "2022-01-24T17:09:20.277Z"
      },
      {
        "duration": 51,
        "start_time": "2022-01-24T17:09:20.282Z"
      },
      {
        "duration": 4,
        "start_time": "2022-01-24T17:09:20.334Z"
      },
      {
        "duration": 22,
        "start_time": "2022-01-24T17:09:36.541Z"
      },
      {
        "duration": 307,
        "start_time": "2022-01-24T17:11:30.868Z"
      },
      {
        "duration": 186,
        "start_time": "2022-01-24T17:12:12.355Z"
      },
      {
        "duration": 198,
        "start_time": "2022-01-24T17:12:18.337Z"
      },
      {
        "duration": 63,
        "start_time": "2022-01-24T17:12:30.557Z"
      },
      {
        "duration": 195,
        "start_time": "2022-01-24T17:13:31.548Z"
      },
      {
        "duration": 207,
        "start_time": "2022-01-24T17:15:48.087Z"
      },
      {
        "duration": 190,
        "start_time": "2022-01-24T17:15:59.542Z"
      },
      {
        "duration": 196,
        "start_time": "2022-01-24T17:16:15.898Z"
      },
      {
        "duration": 214,
        "start_time": "2022-01-24T17:16:30.034Z"
      },
      {
        "duration": 216,
        "start_time": "2022-01-24T17:16:34.502Z"
      },
      {
        "duration": 197,
        "start_time": "2022-01-24T17:16:54.380Z"
      },
      {
        "duration": 180,
        "start_time": "2022-01-24T17:17:05.278Z"
      },
      {
        "duration": 195,
        "start_time": "2022-01-24T17:17:51.073Z"
      },
      {
        "duration": 191,
        "start_time": "2022-01-24T17:17:58.501Z"
      },
      {
        "duration": 191,
        "start_time": "2022-01-24T17:18:08.657Z"
      },
      {
        "duration": 197,
        "start_time": "2022-01-24T17:18:46.840Z"
      },
      {
        "duration": 197,
        "start_time": "2022-01-24T17:18:50.529Z"
      },
      {
        "duration": 223,
        "start_time": "2022-01-24T17:18:56.239Z"
      },
      {
        "duration": 255,
        "start_time": "2022-01-24T17:18:58.247Z"
      },
      {
        "duration": 47,
        "start_time": "2022-01-24T17:18:58.457Z"
      },
      {
        "duration": 1157,
        "start_time": "2022-01-24T17:19:08.505Z"
      },
      {
        "duration": 1095,
        "start_time": "2022-01-24T17:19:09.664Z"
      },
      {
        "duration": 16,
        "start_time": "2022-01-24T17:19:10.763Z"
      },
      {
        "duration": 7,
        "start_time": "2022-01-24T17:19:10.781Z"
      },
      {
        "duration": 27,
        "start_time": "2022-01-24T17:19:10.790Z"
      },
      {
        "duration": 22,
        "start_time": "2022-01-24T17:19:10.818Z"
      },
      {
        "duration": 18,
        "start_time": "2022-01-24T17:19:10.842Z"
      },
      {
        "duration": 10,
        "start_time": "2022-01-24T17:19:10.862Z"
      },
      {
        "duration": 62,
        "start_time": "2022-01-24T17:19:10.874Z"
      },
      {
        "duration": 6,
        "start_time": "2022-01-24T17:19:10.938Z"
      },
      {
        "duration": 30,
        "start_time": "2022-01-24T17:19:10.946Z"
      },
      {
        "duration": 37,
        "start_time": "2022-01-24T17:19:10.978Z"
      },
      {
        "duration": 24,
        "start_time": "2022-01-24T17:19:11.017Z"
      },
      {
        "duration": 9,
        "start_time": "2022-01-24T17:19:11.043Z"
      },
      {
        "duration": 74,
        "start_time": "2022-01-24T17:19:11.054Z"
      },
      {
        "duration": 19,
        "start_time": "2022-01-24T17:19:11.131Z"
      },
      {
        "duration": 17,
        "start_time": "2022-01-24T17:19:11.152Z"
      },
      {
        "duration": 7,
        "start_time": "2022-01-24T17:19:11.171Z"
      },
      {
        "duration": 55,
        "start_time": "2022-01-24T17:19:11.180Z"
      },
      {
        "duration": 18,
        "start_time": "2022-01-24T17:19:11.237Z"
      },
      {
        "duration": 3,
        "start_time": "2022-01-24T17:19:11.256Z"
      },
      {
        "duration": 16,
        "start_time": "2022-01-24T17:19:11.262Z"
      },
      {
        "duration": 44,
        "start_time": "2022-01-24T17:19:11.280Z"
      },
      {
        "duration": 30,
        "start_time": "2022-01-24T17:19:11.327Z"
      },
      {
        "duration": 4,
        "start_time": "2022-01-24T17:19:11.359Z"
      },
      {
        "duration": 20,
        "start_time": "2022-01-24T17:19:11.365Z"
      },
      {
        "duration": 6,
        "start_time": "2022-01-24T17:19:11.412Z"
      },
      {
        "duration": 14,
        "start_time": "2022-01-24T17:19:11.420Z"
      },
      {
        "duration": 4,
        "start_time": "2022-01-24T17:20:04.904Z"
      },
      {
        "duration": 24,
        "start_time": "2022-01-24T17:21:52.963Z"
      },
      {
        "duration": 26,
        "start_time": "2022-01-24T17:30:07.398Z"
      },
      {
        "duration": 22,
        "start_time": "2022-01-24T17:30:11.002Z"
      },
      {
        "duration": 982,
        "start_time": "2022-01-24T17:30:39.874Z"
      },
      {
        "duration": 757,
        "start_time": "2022-01-24T17:30:40.857Z"
      },
      {
        "duration": 15,
        "start_time": "2022-01-24T17:30:41.617Z"
      },
      {
        "duration": 5,
        "start_time": "2022-01-24T17:30:41.634Z"
      },
      {
        "duration": 25,
        "start_time": "2022-01-24T17:30:41.641Z"
      },
      {
        "duration": 45,
        "start_time": "2022-01-24T17:30:41.668Z"
      },
      {
        "duration": 19,
        "start_time": "2022-01-24T17:30:41.715Z"
      },
      {
        "duration": 11,
        "start_time": "2022-01-24T17:30:41.736Z"
      },
      {
        "duration": 29,
        "start_time": "2022-01-24T17:30:41.749Z"
      },
      {
        "duration": 33,
        "start_time": "2022-01-24T17:30:41.779Z"
      },
      {
        "duration": 25,
        "start_time": "2022-01-24T17:30:41.814Z"
      },
      {
        "duration": 18,
        "start_time": "2022-01-24T17:30:41.841Z"
      },
      {
        "duration": 16,
        "start_time": "2022-01-24T17:30:41.861Z"
      },
      {
        "duration": 34,
        "start_time": "2022-01-24T17:30:41.879Z"
      },
      {
        "duration": 46,
        "start_time": "2022-01-24T17:30:41.914Z"
      },
      {
        "duration": 18,
        "start_time": "2022-01-24T17:30:41.962Z"
      },
      {
        "duration": 32,
        "start_time": "2022-01-24T17:30:41.982Z"
      },
      {
        "duration": 8,
        "start_time": "2022-01-24T17:30:42.015Z"
      },
      {
        "duration": 27,
        "start_time": "2022-01-24T17:30:42.025Z"
      },
      {
        "duration": 17,
        "start_time": "2022-01-24T17:30:42.054Z"
      },
      {
        "duration": 3,
        "start_time": "2022-01-24T17:30:42.072Z"
      },
      {
        "duration": 14,
        "start_time": "2022-01-24T17:30:42.112Z"
      },
      {
        "duration": 15,
        "start_time": "2022-01-24T17:30:42.130Z"
      },
      {
        "duration": 27,
        "start_time": "2022-01-24T17:30:42.148Z"
      },
      {
        "duration": 4,
        "start_time": "2022-01-24T17:30:42.177Z"
      },
      {
        "duration": 45,
        "start_time": "2022-01-24T17:30:42.183Z"
      },
      {
        "duration": 4,
        "start_time": "2022-01-24T17:30:42.230Z"
      },
      {
        "duration": 6,
        "start_time": "2022-01-24T17:30:42.236Z"
      },
      {
        "duration": 5,
        "start_time": "2022-01-24T17:30:42.243Z"
      },
      {
        "duration": 33,
        "start_time": "2022-01-24T17:30:42.249Z"
      },
      {
        "duration": 5,
        "start_time": "2022-01-24T17:30:53.861Z"
      },
      {
        "duration": 24,
        "start_time": "2022-01-24T17:30:56.382Z"
      },
      {
        "duration": 1052,
        "start_time": "2022-01-24T17:31:37.223Z"
      },
      {
        "duration": 734,
        "start_time": "2022-01-24T17:31:38.276Z"
      },
      {
        "duration": 16,
        "start_time": "2022-01-24T17:31:39.015Z"
      },
      {
        "duration": 6,
        "start_time": "2022-01-24T17:31:39.033Z"
      },
      {
        "duration": 28,
        "start_time": "2022-01-24T17:31:39.040Z"
      },
      {
        "duration": 52,
        "start_time": "2022-01-24T17:31:39.070Z"
      },
      {
        "duration": 17,
        "start_time": "2022-01-24T17:31:39.124Z"
      },
      {
        "duration": 10,
        "start_time": "2022-01-24T17:31:39.143Z"
      },
      {
        "duration": 25,
        "start_time": "2022-01-24T17:31:39.154Z"
      },
      {
        "duration": 35,
        "start_time": "2022-01-24T17:31:39.180Z"
      },
      {
        "duration": 29,
        "start_time": "2022-01-24T17:31:39.217Z"
      },
      {
        "duration": 21,
        "start_time": "2022-01-24T17:31:39.248Z"
      },
      {
        "duration": 17,
        "start_time": "2022-01-24T17:31:39.271Z"
      },
      {
        "duration": 30,
        "start_time": "2022-01-24T17:31:39.289Z"
      },
      {
        "duration": 49,
        "start_time": "2022-01-24T17:31:39.321Z"
      },
      {
        "duration": 40,
        "start_time": "2022-01-24T17:31:39.372Z"
      },
      {
        "duration": 18,
        "start_time": "2022-01-24T17:31:39.414Z"
      },
      {
        "duration": 7,
        "start_time": "2022-01-24T17:31:39.433Z"
      },
      {
        "duration": 28,
        "start_time": "2022-01-24T17:31:39.441Z"
      },
      {
        "duration": 42,
        "start_time": "2022-01-24T17:31:39.471Z"
      },
      {
        "duration": 3,
        "start_time": "2022-01-24T17:31:39.515Z"
      },
      {
        "duration": 30,
        "start_time": "2022-01-24T17:31:39.520Z"
      },
      {
        "duration": 15,
        "start_time": "2022-01-24T17:31:39.552Z"
      },
      {
        "duration": 43,
        "start_time": "2022-01-24T17:31:39.569Z"
      },
      {
        "duration": 4,
        "start_time": "2022-01-24T17:31:39.614Z"
      },
      {
        "duration": 21,
        "start_time": "2022-01-24T17:31:39.619Z"
      },
      {
        "duration": 8,
        "start_time": "2022-01-24T17:31:39.642Z"
      },
      {
        "duration": 6,
        "start_time": "2022-01-24T17:31:39.651Z"
      },
      {
        "duration": 7,
        "start_time": "2022-01-24T17:31:39.658Z"
      },
      {
        "duration": 49,
        "start_time": "2022-01-24T17:31:39.666Z"
      },
      {
        "duration": 32,
        "start_time": "2022-01-24T17:32:00.633Z"
      },
      {
        "duration": 26,
        "start_time": "2022-01-24T17:32:58.275Z"
      },
      {
        "duration": 1051,
        "start_time": "2022-01-24T17:33:06.866Z"
      },
      {
        "duration": 754,
        "start_time": "2022-01-24T17:33:07.919Z"
      },
      {
        "duration": 15,
        "start_time": "2022-01-24T17:33:08.675Z"
      },
      {
        "duration": 6,
        "start_time": "2022-01-24T17:33:08.692Z"
      },
      {
        "duration": 30,
        "start_time": "2022-01-24T17:33:08.699Z"
      },
      {
        "duration": 21,
        "start_time": "2022-01-24T17:33:08.730Z"
      },
      {
        "duration": 18,
        "start_time": "2022-01-24T17:33:08.753Z"
      },
      {
        "duration": 11,
        "start_time": "2022-01-24T17:33:08.773Z"
      },
      {
        "duration": 50,
        "start_time": "2022-01-24T17:33:08.786Z"
      },
      {
        "duration": 5,
        "start_time": "2022-01-24T17:33:08.838Z"
      },
      {
        "duration": 27,
        "start_time": "2022-01-24T17:33:08.845Z"
      },
      {
        "duration": 42,
        "start_time": "2022-01-24T17:33:08.874Z"
      },
      {
        "duration": 17,
        "start_time": "2022-01-24T17:33:08.917Z"
      },
      {
        "duration": 8,
        "start_time": "2022-01-24T17:33:08.935Z"
      },
      {
        "duration": 48,
        "start_time": "2022-01-24T17:33:08.945Z"
      },
      {
        "duration": 36,
        "start_time": "2022-01-24T17:33:08.994Z"
      },
      {
        "duration": 16,
        "start_time": "2022-01-24T17:33:09.031Z"
      },
      {
        "duration": 6,
        "start_time": "2022-01-24T17:33:09.049Z"
      },
      {
        "duration": 27,
        "start_time": "2022-01-24T17:33:09.057Z"
      },
      {
        "duration": 43,
        "start_time": "2022-01-24T17:33:09.085Z"
      },
      {
        "duration": 2,
        "start_time": "2022-01-24T17:33:09.130Z"
      },
      {
        "duration": 18,
        "start_time": "2022-01-24T17:33:09.134Z"
      },
      {
        "duration": 16,
        "start_time": "2022-01-24T17:33:09.155Z"
      },
      {
        "duration": 50,
        "start_time": "2022-01-24T17:33:09.173Z"
      },
      {
        "duration": 4,
        "start_time": "2022-01-24T17:33:09.225Z"
      },
      {
        "duration": 18,
        "start_time": "2022-01-24T17:33:09.230Z"
      },
      {
        "duration": 6,
        "start_time": "2022-01-24T17:33:09.249Z"
      },
      {
        "duration": 5,
        "start_time": "2022-01-24T17:33:09.256Z"
      },
      {
        "duration": 7,
        "start_time": "2022-01-24T17:33:09.262Z"
      },
      {
        "duration": 10,
        "start_time": "2022-01-24T17:33:09.270Z"
      },
      {
        "duration": 56,
        "start_time": "2022-01-24T17:33:09.282Z"
      },
      {
        "duration": 4,
        "start_time": "2022-01-24T17:33:30.221Z"
      },
      {
        "duration": 33,
        "start_time": "2022-01-24T17:33:34.090Z"
      },
      {
        "duration": 5,
        "start_time": "2022-01-24T17:36:00.972Z"
      },
      {
        "duration": 31,
        "start_time": "2022-01-24T17:36:06.484Z"
      },
      {
        "duration": 4,
        "start_time": "2022-01-24T17:40:35.477Z"
      },
      {
        "duration": 32,
        "start_time": "2022-01-24T17:40:40.717Z"
      },
      {
        "duration": 308,
        "start_time": "2022-01-24T17:40:59.352Z"
      },
      {
        "duration": 1124,
        "start_time": "2022-01-24T17:41:05.494Z"
      },
      {
        "duration": 823,
        "start_time": "2022-01-24T17:41:06.620Z"
      },
      {
        "duration": 16,
        "start_time": "2022-01-24T17:41:07.445Z"
      },
      {
        "duration": 5,
        "start_time": "2022-01-24T17:41:07.463Z"
      },
      {
        "duration": 30,
        "start_time": "2022-01-24T17:41:07.469Z"
      },
      {
        "duration": 21,
        "start_time": "2022-01-24T17:41:07.501Z"
      },
      {
        "duration": 18,
        "start_time": "2022-01-24T17:41:07.524Z"
      },
      {
        "duration": 14,
        "start_time": "2022-01-24T17:41:07.545Z"
      },
      {
        "duration": 28,
        "start_time": "2022-01-24T17:41:07.561Z"
      },
      {
        "duration": 26,
        "start_time": "2022-01-24T17:41:07.590Z"
      },
      {
        "duration": 29,
        "start_time": "2022-01-24T17:41:07.618Z"
      },
      {
        "duration": 20,
        "start_time": "2022-01-24T17:41:07.649Z"
      },
      {
        "duration": 17,
        "start_time": "2022-01-24T17:41:07.670Z"
      },
      {
        "duration": 9,
        "start_time": "2022-01-24T17:41:07.712Z"
      },
      {
        "duration": 50,
        "start_time": "2022-01-24T17:41:07.723Z"
      },
      {
        "duration": 42,
        "start_time": "2022-01-24T17:41:07.775Z"
      },
      {
        "duration": 18,
        "start_time": "2022-01-24T17:41:07.820Z"
      },
      {
        "duration": 8,
        "start_time": "2022-01-24T17:41:07.840Z"
      },
      {
        "duration": 29,
        "start_time": "2022-01-24T17:41:07.850Z"
      },
      {
        "duration": 20,
        "start_time": "2022-01-24T17:41:07.911Z"
      },
      {
        "duration": 3,
        "start_time": "2022-01-24T17:41:07.933Z"
      },
      {
        "duration": 17,
        "start_time": "2022-01-24T17:41:07.938Z"
      },
      {
        "duration": 15,
        "start_time": "2022-01-24T17:41:07.959Z"
      },
      {
        "duration": 60,
        "start_time": "2022-01-24T17:41:07.976Z"
      },
      {
        "duration": 5,
        "start_time": "2022-01-24T17:41:08.038Z"
      },
      {
        "duration": 5,
        "start_time": "2022-01-24T17:41:08.044Z"
      },
      {
        "duration": 6,
        "start_time": "2022-01-24T17:41:08.050Z"
      },
      {
        "duration": 11,
        "start_time": "2022-01-24T17:41:08.057Z"
      },
      {
        "duration": 6,
        "start_time": "2022-01-24T17:41:08.069Z"
      },
      {
        "duration": 313,
        "start_time": "2022-01-24T17:41:08.077Z"
      },
      {
        "duration": -38,
        "start_time": "2022-01-24T17:41:08.431Z"
      },
      {
        "duration": 1120,
        "start_time": "2022-01-24T17:41:28.329Z"
      },
      {
        "duration": 2535,
        "start_time": "2022-01-24T17:41:29.451Z"
      },
      {
        "duration": 16,
        "start_time": "2022-01-24T17:41:31.988Z"
      },
      {
        "duration": 7,
        "start_time": "2022-01-24T17:41:32.006Z"
      },
      {
        "duration": 32,
        "start_time": "2022-01-24T17:41:32.014Z"
      },
      {
        "duration": 21,
        "start_time": "2022-01-24T17:41:32.048Z"
      },
      {
        "duration": 18,
        "start_time": "2022-01-24T17:41:32.072Z"
      },
      {
        "duration": 12,
        "start_time": "2022-01-24T17:41:32.092Z"
      },
      {
        "duration": 30,
        "start_time": "2022-01-24T17:41:32.105Z"
      },
      {
        "duration": 5,
        "start_time": "2022-01-24T17:41:32.137Z"
      },
      {
        "duration": 31,
        "start_time": "2022-01-24T17:41:32.144Z"
      },
      {
        "duration": 21,
        "start_time": "2022-01-24T17:41:32.177Z"
      },
      {
        "duration": 21,
        "start_time": "2022-01-24T17:41:32.200Z"
      },
      {
        "duration": 8,
        "start_time": "2022-01-24T17:41:32.223Z"
      },
      {
        "duration": 59,
        "start_time": "2022-01-24T17:41:32.233Z"
      },
      {
        "duration": 20,
        "start_time": "2022-01-24T17:41:32.293Z"
      },
      {
        "duration": 18,
        "start_time": "2022-01-24T17:41:32.315Z"
      },
      {
        "duration": 7,
        "start_time": "2022-01-24T17:41:32.334Z"
      },
      {
        "duration": 27,
        "start_time": "2022-01-24T17:41:32.342Z"
      },
      {
        "duration": 18,
        "start_time": "2022-01-24T17:41:32.370Z"
      },
      {
        "duration": 3,
        "start_time": "2022-01-24T17:41:32.390Z"
      },
      {
        "duration": 23,
        "start_time": "2022-01-24T17:41:32.396Z"
      },
      {
        "duration": 15,
        "start_time": "2022-01-24T17:41:32.421Z"
      },
      {
        "duration": 27,
        "start_time": "2022-01-24T17:41:32.437Z"
      },
      {
        "duration": 4,
        "start_time": "2022-01-24T17:41:32.465Z"
      },
      {
        "duration": 8,
        "start_time": "2022-01-24T17:41:32.471Z"
      },
      {
        "duration": 5,
        "start_time": "2022-01-24T17:41:32.481Z"
      },
      {
        "duration": 9,
        "start_time": "2022-01-24T17:41:32.488Z"
      },
      {
        "duration": 4,
        "start_time": "2022-01-24T17:41:32.499Z"
      },
      {
        "duration": 305,
        "start_time": "2022-01-24T17:41:32.505Z"
      },
      {
        "duration": -296,
        "start_time": "2022-01-24T17:41:33.108Z"
      },
      {
        "duration": 5,
        "start_time": "2022-01-24T17:41:52.058Z"
      },
      {
        "duration": 3,
        "start_time": "2022-01-24T17:41:57.383Z"
      },
      {
        "duration": 32,
        "start_time": "2022-01-24T17:41:58.161Z"
      },
      {
        "duration": 1021,
        "start_time": "2022-01-24T17:42:54.450Z"
      },
      {
        "duration": 1186,
        "start_time": "2022-01-24T17:42:55.472Z"
      },
      {
        "duration": 16,
        "start_time": "2022-01-24T17:42:56.660Z"
      },
      {
        "duration": 5,
        "start_time": "2022-01-24T17:42:56.678Z"
      },
      {
        "duration": 25,
        "start_time": "2022-01-24T17:42:56.685Z"
      },
      {
        "duration": 21,
        "start_time": "2022-01-24T17:42:56.712Z"
      },
      {
        "duration": 18,
        "start_time": "2022-01-24T17:42:56.734Z"
      },
      {
        "duration": 12,
        "start_time": "2022-01-24T17:42:56.754Z"
      },
      {
        "duration": 56,
        "start_time": "2022-01-24T17:42:56.768Z"
      },
      {
        "duration": 6,
        "start_time": "2022-01-24T17:42:56.826Z"
      },
      {
        "duration": 31,
        "start_time": "2022-01-24T17:42:56.834Z"
      },
      {
        "duration": 46,
        "start_time": "2022-01-24T17:42:56.867Z"
      },
      {
        "duration": 20,
        "start_time": "2022-01-24T17:42:56.915Z"
      },
      {
        "duration": 8,
        "start_time": "2022-01-24T17:42:56.937Z"
      },
      {
        "duration": 69,
        "start_time": "2022-01-24T17:42:56.947Z"
      },
      {
        "duration": 21,
        "start_time": "2022-01-24T17:42:57.018Z"
      },
      {
        "duration": 18,
        "start_time": "2022-01-24T17:42:57.042Z"
      },
      {
        "duration": 8,
        "start_time": "2022-01-24T17:42:57.063Z"
      },
      {
        "duration": 62,
        "start_time": "2022-01-24T17:42:57.073Z"
      },
      {
        "duration": 19,
        "start_time": "2022-01-24T17:42:57.136Z"
      },
      {
        "duration": 3,
        "start_time": "2022-01-24T17:42:57.156Z"
      },
      {
        "duration": 18,
        "start_time": "2022-01-24T17:42:57.160Z"
      },
      {
        "duration": 40,
        "start_time": "2022-01-24T17:42:57.181Z"
      },
      {
        "duration": 29,
        "start_time": "2022-01-24T17:42:57.222Z"
      },
      {
        "duration": 4,
        "start_time": "2022-01-24T17:42:57.252Z"
      },
      {
        "duration": 9,
        "start_time": "2022-01-24T17:42:57.258Z"
      },
      {
        "duration": 5,
        "start_time": "2022-01-24T17:42:57.269Z"
      },
      {
        "duration": 10,
        "start_time": "2022-01-24T17:42:57.275Z"
      },
      {
        "duration": 25,
        "start_time": "2022-01-24T17:42:57.287Z"
      },
      {
        "duration": 7,
        "start_time": "2022-01-24T17:42:57.314Z"
      },
      {
        "duration": 32,
        "start_time": "2022-01-24T17:42:57.323Z"
      },
      {
        "duration": 1160,
        "start_time": "2022-01-24T17:45:13.817Z"
      },
      {
        "duration": 789,
        "start_time": "2022-01-24T17:45:14.979Z"
      },
      {
        "duration": 17,
        "start_time": "2022-01-24T17:45:15.770Z"
      },
      {
        "duration": 7,
        "start_time": "2022-01-24T17:45:15.789Z"
      },
      {
        "duration": 31,
        "start_time": "2022-01-24T17:45:15.798Z"
      },
      {
        "duration": 21,
        "start_time": "2022-01-24T17:45:15.831Z"
      },
      {
        "duration": 18,
        "start_time": "2022-01-24T17:45:15.854Z"
      },
      {
        "duration": 42,
        "start_time": "2022-01-24T17:45:15.874Z"
      },
      {
        "duration": 35,
        "start_time": "2022-01-24T17:45:15.920Z"
      },
      {
        "duration": 5,
        "start_time": "2022-01-24T17:45:15.957Z"
      },
      {
        "duration": 28,
        "start_time": "2022-01-24T17:45:15.964Z"
      },
      {
        "duration": 28,
        "start_time": "2022-01-24T17:45:16.013Z"
      },
      {
        "duration": 18,
        "start_time": "2022-01-24T17:45:16.043Z"
      },
      {
        "duration": 9,
        "start_time": "2022-01-24T17:45:16.063Z"
      },
      {
        "duration": 86,
        "start_time": "2022-01-24T17:45:16.073Z"
      },
      {
        "duration": 23,
        "start_time": "2022-01-24T17:45:16.161Z"
      },
      {
        "duration": 40,
        "start_time": "2022-01-24T17:45:16.185Z"
      },
      {
        "duration": 8,
        "start_time": "2022-01-24T17:45:16.227Z"
      },
      {
        "duration": 31,
        "start_time": "2022-01-24T17:45:16.238Z"
      },
      {
        "duration": 54,
        "start_time": "2022-01-24T17:45:16.271Z"
      },
      {
        "duration": 3,
        "start_time": "2022-01-24T17:45:16.328Z"
      },
      {
        "duration": 27,
        "start_time": "2022-01-24T17:45:16.333Z"
      },
      {
        "duration": 17,
        "start_time": "2022-01-24T17:45:16.363Z"
      },
      {
        "duration": 51,
        "start_time": "2022-01-24T17:45:16.382Z"
      },
      {
        "duration": 5,
        "start_time": "2022-01-24T17:45:16.435Z"
      },
      {
        "duration": 9,
        "start_time": "2022-01-24T17:45:16.442Z"
      },
      {
        "duration": 11,
        "start_time": "2022-01-24T17:45:16.453Z"
      },
      {
        "duration": 17,
        "start_time": "2022-01-24T17:45:16.465Z"
      },
      {
        "duration": 8,
        "start_time": "2022-01-24T17:45:16.483Z"
      },
      {
        "duration": 12,
        "start_time": "2022-01-24T17:45:16.492Z"
      },
      {
        "duration": 45,
        "start_time": "2022-01-24T17:45:16.506Z"
      },
      {
        "duration": 12,
        "start_time": "2022-01-24T17:49:23.177Z"
      },
      {
        "duration": 12,
        "start_time": "2022-01-24T17:50:09.585Z"
      },
      {
        "duration": 875,
        "start_time": "2022-01-24T17:50:22.920Z"
      },
      {
        "duration": 11,
        "start_time": "2022-01-24T17:50:26.597Z"
      },
      {
        "duration": 11,
        "start_time": "2022-01-24T17:50:28.968Z"
      },
      {
        "duration": 13,
        "start_time": "2022-01-24T17:51:08.729Z"
      },
      {
        "duration": 13,
        "start_time": "2022-01-24T17:51:46.126Z"
      },
      {
        "duration": 216,
        "start_time": "2022-01-24T17:55:29.628Z"
      },
      {
        "duration": 194,
        "start_time": "2022-01-24T17:55:40.505Z"
      },
      {
        "duration": 223,
        "start_time": "2022-01-24T17:55:43.006Z"
      },
      {
        "duration": 211,
        "start_time": "2022-01-24T17:55:58.514Z"
      },
      {
        "duration": 188,
        "start_time": "2022-01-24T17:56:10.033Z"
      },
      {
        "duration": 204,
        "start_time": "2022-01-24T18:24:00.471Z"
      },
      {
        "duration": 4,
        "start_time": "2022-01-24T18:25:59.794Z"
      },
      {
        "duration": 195,
        "start_time": "2022-01-24T18:26:01.583Z"
      },
      {
        "duration": 727,
        "start_time": "2022-01-24T18:26:05.334Z"
      },
      {
        "duration": 4,
        "start_time": "2022-01-24T18:27:20.316Z"
      },
      {
        "duration": 755,
        "start_time": "2022-01-24T18:27:20.539Z"
      },
      {
        "duration": 313,
        "start_time": "2022-01-24T18:27:25.980Z"
      },
      {
        "duration": 4,
        "start_time": "2022-01-24T18:28:06.936Z"
      },
      {
        "duration": 319,
        "start_time": "2022-01-24T18:28:08.596Z"
      },
      {
        "duration": 1211,
        "start_time": "2022-01-24T18:28:18.257Z"
      },
      {
        "duration": 4,
        "start_time": "2022-01-24T18:28:36.968Z"
      },
      {
        "duration": 690,
        "start_time": "2022-01-24T18:28:38.399Z"
      },
      {
        "duration": 70,
        "start_time": "2022-01-24T18:29:07.246Z"
      },
      {
        "duration": 846,
        "start_time": "2022-01-24T18:29:07.398Z"
      },
      {
        "duration": 4,
        "start_time": "2022-01-24T18:29:16.177Z"
      },
      {
        "duration": 306,
        "start_time": "2022-01-24T18:29:16.448Z"
      },
      {
        "duration": 4,
        "start_time": "2022-01-24T18:30:03.130Z"
      },
      {
        "duration": 398,
        "start_time": "2022-01-24T18:30:03.428Z"
      },
      {
        "duration": 5,
        "start_time": "2022-01-24T18:30:29.942Z"
      },
      {
        "duration": 424,
        "start_time": "2022-01-24T18:30:30.264Z"
      },
      {
        "duration": 362,
        "start_time": "2022-01-24T18:31:22.162Z"
      },
      {
        "duration": 6,
        "start_time": "2022-01-24T18:31:38.483Z"
      },
      {
        "duration": 211,
        "start_time": "2022-01-24T18:31:40.103Z"
      },
      {
        "duration": 315,
        "start_time": "2022-01-24T18:32:15.080Z"
      },
      {
        "duration": 15,
        "start_time": "2022-01-24T18:32:34.847Z"
      },
      {
        "duration": 184,
        "start_time": "2022-01-24T18:33:25.657Z"
      },
      {
        "duration": 312,
        "start_time": "2022-01-24T18:33:29.344Z"
      },
      {
        "duration": 193,
        "start_time": "2022-01-24T18:34:09.197Z"
      },
      {
        "duration": 306,
        "start_time": "2022-01-24T18:34:16.262Z"
      },
      {
        "duration": 386,
        "start_time": "2022-01-24T18:34:26.813Z"
      },
      {
        "duration": 311,
        "start_time": "2022-01-24T18:34:32.001Z"
      },
      {
        "duration": 298,
        "start_time": "2022-01-24T18:34:40.696Z"
      },
      {
        "duration": 297,
        "start_time": "2022-01-24T18:35:47.940Z"
      },
      {
        "duration": 4,
        "start_time": "2022-01-24T18:36:20.042Z"
      },
      {
        "duration": 2888,
        "start_time": "2022-01-24T18:36:34.686Z"
      },
      {
        "duration": 1106,
        "start_time": "2022-01-24T18:36:37.576Z"
      },
      {
        "duration": 16,
        "start_time": "2022-01-24T18:36:38.684Z"
      },
      {
        "duration": 5,
        "start_time": "2022-01-24T18:36:38.702Z"
      },
      {
        "duration": 27,
        "start_time": "2022-01-24T18:36:38.708Z"
      },
      {
        "duration": 21,
        "start_time": "2022-01-24T18:36:38.736Z"
      },
      {
        "duration": 17,
        "start_time": "2022-01-24T18:36:38.758Z"
      },
      {
        "duration": 39,
        "start_time": "2022-01-24T18:36:38.778Z"
      },
      {
        "duration": 36,
        "start_time": "2022-01-24T18:36:38.820Z"
      },
      {
        "duration": 6,
        "start_time": "2022-01-24T18:36:38.857Z"
      },
      {
        "duration": 47,
        "start_time": "2022-01-24T18:36:38.865Z"
      },
      {
        "duration": 24,
        "start_time": "2022-01-24T18:36:38.914Z"
      },
      {
        "duration": 19,
        "start_time": "2022-01-24T18:36:38.940Z"
      },
      {
        "duration": 8,
        "start_time": "2022-01-24T18:36:38.961Z"
      },
      {
        "duration": 80,
        "start_time": "2022-01-24T18:36:38.971Z"
      },
      {
        "duration": 20,
        "start_time": "2022-01-24T18:36:39.053Z"
      },
      {
        "duration": 16,
        "start_time": "2022-01-24T18:36:39.074Z"
      },
      {
        "duration": 25,
        "start_time": "2022-01-24T18:36:39.092Z"
      },
      {
        "duration": 28,
        "start_time": "2022-01-24T18:36:39.118Z"
      },
      {
        "duration": 18,
        "start_time": "2022-01-24T18:36:39.147Z"
      },
      {
        "duration": 2,
        "start_time": "2022-01-24T18:36:39.166Z"
      },
      {
        "duration": 18,
        "start_time": "2022-01-24T18:36:39.170Z"
      },
      {
        "duration": 23,
        "start_time": "2022-01-24T18:36:39.214Z"
      },
      {
        "duration": 29,
        "start_time": "2022-01-24T18:36:39.239Z"
      },
      {
        "duration": 4,
        "start_time": "2022-01-24T18:36:39.269Z"
      },
      {
        "duration": 5,
        "start_time": "2022-01-24T18:36:39.274Z"
      },
      {
        "duration": 5,
        "start_time": "2022-01-24T18:36:39.280Z"
      },
      {
        "duration": 33,
        "start_time": "2022-01-24T18:36:39.287Z"
      },
      {
        "duration": 6,
        "start_time": "2022-01-24T18:36:39.321Z"
      },
      {
        "duration": 12,
        "start_time": "2022-01-24T18:36:39.328Z"
      },
      {
        "duration": 36,
        "start_time": "2022-01-24T18:36:39.342Z"
      },
      {
        "duration": 12,
        "start_time": "2022-01-24T18:36:39.379Z"
      },
      {
        "duration": 20,
        "start_time": "2022-01-24T18:36:39.392Z"
      },
      {
        "duration": 4,
        "start_time": "2022-01-24T18:36:39.414Z"
      },
      {
        "duration": 498,
        "start_time": "2022-01-24T18:36:39.419Z"
      },
      {
        "duration": 5,
        "start_time": "2022-01-24T18:37:05.011Z"
      },
      {
        "duration": 5,
        "start_time": "2022-01-24T18:37:14.006Z"
      },
      {
        "duration": 6,
        "start_time": "2022-01-24T18:37:20.261Z"
      },
      {
        "duration": 4,
        "start_time": "2022-01-24T18:37:32.682Z"
      },
      {
        "duration": 5,
        "start_time": "2022-01-24T18:37:43.264Z"
      },
      {
        "duration": 206,
        "start_time": "2022-01-24T18:38:53.411Z"
      },
      {
        "duration": 215,
        "start_time": "2022-01-24T18:40:01.475Z"
      },
      {
        "duration": 191,
        "start_time": "2022-01-24T18:40:10.651Z"
      },
      {
        "duration": 4945,
        "start_time": "2022-01-24T18:41:01.634Z"
      },
      {
        "duration": 184,
        "start_time": "2022-01-24T18:41:19.635Z"
      },
      {
        "duration": 5,
        "start_time": "2022-01-24T18:42:40.670Z"
      },
      {
        "duration": 5,
        "start_time": "2022-01-24T18:42:52.923Z"
      },
      {
        "duration": 218,
        "start_time": "2022-01-24T18:43:27.781Z"
      },
      {
        "duration": 8,
        "start_time": "2022-01-24T18:43:32.832Z"
      },
      {
        "duration": 10,
        "start_time": "2022-01-24T18:43:38.545Z"
      },
      {
        "duration": 201,
        "start_time": "2022-01-24T18:43:57.405Z"
      },
      {
        "duration": 210,
        "start_time": "2022-01-24T18:44:28.820Z"
      },
      {
        "duration": 192,
        "start_time": "2022-01-24T18:44:54.023Z"
      },
      {
        "duration": 8,
        "start_time": "2022-01-24T18:45:15.302Z"
      },
      {
        "duration": 5,
        "start_time": "2022-01-24T18:45:19.920Z"
      },
      {
        "duration": 311,
        "start_time": "2022-01-24T18:45:42.780Z"
      },
      {
        "duration": 334,
        "start_time": "2022-01-24T18:46:23.935Z"
      },
      {
        "duration": 8,
        "start_time": "2022-01-24T18:46:46.341Z"
      },
      {
        "duration": 346,
        "start_time": "2022-01-24T18:46:58.727Z"
      },
      {
        "duration": 8,
        "start_time": "2022-01-24T18:47:28.287Z"
      },
      {
        "duration": 6,
        "start_time": "2022-01-24T18:47:30.782Z"
      },
      {
        "duration": 4,
        "start_time": "2022-01-24T18:47:44.311Z"
      },
      {
        "duration": 7,
        "start_time": "2022-01-24T18:47:50.038Z"
      },
      {
        "duration": 200,
        "start_time": "2022-01-24T18:47:56.025Z"
      },
      {
        "duration": 1047,
        "start_time": "2022-01-24T18:48:08.605Z"
      },
      {
        "duration": 837,
        "start_time": "2022-01-24T18:48:09.654Z"
      },
      {
        "duration": 16,
        "start_time": "2022-01-24T18:48:10.495Z"
      },
      {
        "duration": 15,
        "start_time": "2022-01-24T18:48:10.513Z"
      },
      {
        "duration": 25,
        "start_time": "2022-01-24T18:48:10.530Z"
      },
      {
        "duration": 20,
        "start_time": "2022-01-24T18:48:10.557Z"
      },
      {
        "duration": 33,
        "start_time": "2022-01-24T18:48:10.579Z"
      },
      {
        "duration": 11,
        "start_time": "2022-01-24T18:48:10.614Z"
      },
      {
        "duration": 26,
        "start_time": "2022-01-24T18:48:10.627Z"
      },
      {
        "duration": 6,
        "start_time": "2022-01-24T18:48:10.654Z"
      },
      {
        "duration": 57,
        "start_time": "2022-01-24T18:48:10.662Z"
      },
      {
        "duration": 20,
        "start_time": "2022-01-24T18:48:10.720Z"
      },
      {
        "duration": 17,
        "start_time": "2022-01-24T18:48:10.741Z"
      },
      {
        "duration": 9,
        "start_time": "2022-01-24T18:48:10.759Z"
      },
      {
        "duration": 71,
        "start_time": "2022-01-24T18:48:10.769Z"
      },
      {
        "duration": 19,
        "start_time": "2022-01-24T18:48:10.842Z"
      },
      {
        "duration": 16,
        "start_time": "2022-01-24T18:48:10.863Z"
      },
      {
        "duration": 6,
        "start_time": "2022-01-24T18:48:10.881Z"
      },
      {
        "duration": 47,
        "start_time": "2022-01-24T18:48:10.888Z"
      },
      {
        "duration": 18,
        "start_time": "2022-01-24T18:48:10.936Z"
      },
      {
        "duration": 3,
        "start_time": "2022-01-24T18:48:10.955Z"
      },
      {
        "duration": 16,
        "start_time": "2022-01-24T18:48:10.961Z"
      },
      {
        "duration": 42,
        "start_time": "2022-01-24T18:48:10.978Z"
      },
      {
        "duration": 27,
        "start_time": "2022-01-24T18:48:11.022Z"
      },
      {
        "duration": 4,
        "start_time": "2022-01-24T18:48:11.050Z"
      },
      {
        "duration": 11,
        "start_time": "2022-01-24T18:48:11.056Z"
      },
      {
        "duration": 6,
        "start_time": "2022-01-24T18:48:11.069Z"
      },
      {
        "duration": 11,
        "start_time": "2022-01-24T18:48:11.077Z"
      },
      {
        "duration": 25,
        "start_time": "2022-01-24T18:48:11.089Z"
      },
      {
        "duration": 4,
        "start_time": "2022-01-24T18:48:11.115Z"
      },
      {
        "duration": 7,
        "start_time": "2022-01-24T18:48:11.120Z"
      },
      {
        "duration": 294,
        "start_time": "2022-01-24T18:48:11.128Z"
      },
      {
        "duration": 33,
        "start_time": "2022-01-24T18:48:11.390Z"
      },
      {
        "duration": 31,
        "start_time": "2022-01-24T18:48:11.393Z"
      },
      {
        "duration": 30,
        "start_time": "2022-01-24T18:48:11.396Z"
      },
      {
        "duration": 29,
        "start_time": "2022-01-24T18:48:11.398Z"
      },
      {
        "duration": 7,
        "start_time": "2022-01-24T18:48:26.064Z"
      },
      {
        "duration": 13,
        "start_time": "2022-01-24T18:48:28.418Z"
      },
      {
        "duration": 2,
        "start_time": "2022-01-24T18:48:28.863Z"
      },
      {
        "duration": 4,
        "start_time": "2022-01-24T18:48:29.028Z"
      },
      {
        "duration": 341,
        "start_time": "2022-01-24T18:48:29.195Z"
      },
      {
        "duration": 324,
        "start_time": "2022-01-24T18:49:12.503Z"
      },
      {
        "duration": 353,
        "start_time": "2022-01-24T19:22:15.615Z"
      },
      {
        "duration": 355,
        "start_time": "2022-01-24T19:22:35.252Z"
      },
      {
        "duration": 340,
        "start_time": "2022-01-24T19:22:41.290Z"
      },
      {
        "duration": 339,
        "start_time": "2022-01-24T19:22:48.882Z"
      },
      {
        "duration": 432,
        "start_time": "2022-01-24T19:23:03.994Z"
      },
      {
        "duration": 329,
        "start_time": "2022-01-24T19:23:05.006Z"
      },
      {
        "duration": 351,
        "start_time": "2022-01-24T19:23:09.785Z"
      },
      {
        "duration": 360,
        "start_time": "2022-01-24T19:23:15.022Z"
      },
      {
        "duration": 351,
        "start_time": "2022-01-24T19:23:19.085Z"
      },
      {
        "duration": 349,
        "start_time": "2022-01-24T19:23:23.994Z"
      },
      {
        "duration": 326,
        "start_time": "2022-01-24T19:23:35.067Z"
      },
      {
        "duration": 350,
        "start_time": "2022-01-24T19:23:40.232Z"
      },
      {
        "duration": 334,
        "start_time": "2022-01-24T19:23:55.185Z"
      },
      {
        "duration": 347,
        "start_time": "2022-01-24T19:24:09.425Z"
      },
      {
        "duration": 6,
        "start_time": "2022-01-24T19:26:37.935Z"
      },
      {
        "duration": 19,
        "start_time": "2022-01-24T19:26:42.909Z"
      },
      {
        "duration": 17,
        "start_time": "2022-01-24T19:27:11.284Z"
      },
      {
        "duration": 188,
        "start_time": "2022-01-24T19:30:13.702Z"
      },
      {
        "duration": 40,
        "start_time": "2022-01-24T19:30:26.651Z"
      },
      {
        "duration": 4688,
        "start_time": "2022-01-24T19:30:29.738Z"
      },
      {
        "duration": 8,
        "start_time": "2022-01-24T19:33:03.916Z"
      },
      {
        "duration": 9,
        "start_time": "2022-01-24T19:33:17.934Z"
      },
      {
        "duration": 1139,
        "start_time": "2022-01-24T19:33:22.529Z"
      },
      {
        "duration": 776,
        "start_time": "2022-01-24T19:33:23.670Z"
      },
      {
        "duration": 16,
        "start_time": "2022-01-24T19:33:24.448Z"
      },
      {
        "duration": 5,
        "start_time": "2022-01-24T19:33:24.466Z"
      },
      {
        "duration": 26,
        "start_time": "2022-01-24T19:33:24.473Z"
      },
      {
        "duration": 22,
        "start_time": "2022-01-24T19:33:24.500Z"
      },
      {
        "duration": 18,
        "start_time": "2022-01-24T19:33:24.523Z"
      },
      {
        "duration": 11,
        "start_time": "2022-01-24T19:33:24.543Z"
      },
      {
        "duration": 25,
        "start_time": "2022-01-24T19:33:24.556Z"
      },
      {
        "duration": 36,
        "start_time": "2022-01-24T19:33:24.582Z"
      },
      {
        "duration": 29,
        "start_time": "2022-01-24T19:33:24.619Z"
      },
      {
        "duration": 20,
        "start_time": "2022-01-24T19:33:24.650Z"
      },
      {
        "duration": 18,
        "start_time": "2022-01-24T19:33:24.671Z"
      },
      {
        "duration": 9,
        "start_time": "2022-01-24T19:33:24.713Z"
      },
      {
        "duration": 50,
        "start_time": "2022-01-24T19:33:24.724Z"
      },
      {
        "duration": 37,
        "start_time": "2022-01-24T19:33:24.776Z"
      },
      {
        "duration": 18,
        "start_time": "2022-01-24T19:33:24.815Z"
      },
      {
        "duration": 6,
        "start_time": "2022-01-24T19:33:24.834Z"
      },
      {
        "duration": 29,
        "start_time": "2022-01-24T19:33:24.842Z"
      },
      {
        "duration": 46,
        "start_time": "2022-01-24T19:33:24.873Z"
      },
      {
        "duration": 3,
        "start_time": "2022-01-24T19:33:24.920Z"
      },
      {
        "duration": 16,
        "start_time": "2022-01-24T19:33:24.925Z"
      },
      {
        "duration": 15,
        "start_time": "2022-01-24T19:33:24.944Z"
      },
      {
        "duration": 25,
        "start_time": "2022-01-24T19:33:24.961Z"
      },
      {
        "duration": 27,
        "start_time": "2022-01-24T19:33:24.988Z"
      },
      {
        "duration": 3,
        "start_time": "2022-01-24T19:33:25.017Z"
      },
      {
        "duration": 7,
        "start_time": "2022-01-24T19:33:25.022Z"
      },
      {
        "duration": 11,
        "start_time": "2022-01-24T19:33:25.031Z"
      },
      {
        "duration": 4,
        "start_time": "2022-01-24T19:33:25.044Z"
      },
      {
        "duration": 6,
        "start_time": "2022-01-24T19:33:25.049Z"
      },
      {
        "duration": 15,
        "start_time": "2022-01-24T19:33:25.056Z"
      },
      {
        "duration": 7,
        "start_time": "2022-01-24T19:33:25.072Z"
      },
      {
        "duration": 9,
        "start_time": "2022-01-24T19:33:25.113Z"
      },
      {
        "duration": 57,
        "start_time": "2022-01-24T19:33:25.123Z"
      },
      {
        "duration": 132,
        "start_time": "2022-01-24T19:33:25.050Z"
      },
      {
        "duration": 130,
        "start_time": "2022-01-24T19:33:25.052Z"
      },
      {
        "duration": 55,
        "start_time": "2022-01-24T19:33:25.128Z"
      },
      {
        "duration": 52,
        "start_time": "2022-01-24T19:33:25.132Z"
      },
      {
        "duration": 51,
        "start_time": "2022-01-24T19:33:25.134Z"
      },
      {
        "duration": 50,
        "start_time": "2022-01-24T19:33:25.136Z"
      },
      {
        "duration": 49,
        "start_time": "2022-01-24T19:33:25.138Z"
      },
      {
        "duration": 291,
        "start_time": "2022-01-24T19:34:33.158Z"
      },
      {
        "duration": 191,
        "start_time": "2022-01-24T19:34:52.409Z"
      },
      {
        "duration": 199,
        "start_time": "2022-01-24T19:35:10.429Z"
      },
      {
        "duration": 48,
        "start_time": "2022-01-24T19:35:45.536Z"
      },
      {
        "duration": 48,
        "start_time": "2022-01-24T19:35:58.697Z"
      },
      {
        "duration": 208,
        "start_time": "2022-01-24T19:36:12.004Z"
      },
      {
        "duration": 200,
        "start_time": "2022-01-24T19:36:15.893Z"
      },
      {
        "duration": 211,
        "start_time": "2022-01-24T19:36:22.839Z"
      },
      {
        "duration": 202,
        "start_time": "2022-01-24T19:36:31.577Z"
      },
      {
        "duration": 46,
        "start_time": "2022-01-24T19:36:35.268Z"
      },
      {
        "duration": 13,
        "start_time": "2022-01-24T19:36:51.375Z"
      },
      {
        "duration": 18,
        "start_time": "2022-01-24T19:36:51.931Z"
      },
      {
        "duration": 4729,
        "start_time": "2022-01-24T19:36:52.088Z"
      },
      {
        "duration": 19,
        "start_time": "2022-01-24T19:36:56.800Z"
      },
      {
        "duration": 11,
        "start_time": "2022-01-24T19:36:56.809Z"
      },
      {
        "duration": 9,
        "start_time": "2022-01-24T19:36:56.812Z"
      },
      {
        "duration": 4,
        "start_time": "2022-01-24T19:36:56.818Z"
      },
      {
        "duration": 16,
        "start_time": "2022-01-24T19:37:19.723Z"
      },
      {
        "duration": 12,
        "start_time": "2022-01-24T19:37:20.785Z"
      },
      {
        "duration": 15,
        "start_time": "2022-01-24T19:37:34.643Z"
      },
      {
        "duration": 13,
        "start_time": "2022-01-24T19:37:56.505Z"
      },
      {
        "duration": 20,
        "start_time": "2022-01-24T19:38:00.884Z"
      },
      {
        "duration": 187,
        "start_time": "2022-01-24T19:39:00.939Z"
      },
      {
        "duration": 55,
        "start_time": "2022-01-24T19:39:05.298Z"
      },
      {
        "duration": 60,
        "start_time": "2022-01-24T19:39:19.692Z"
      },
      {
        "duration": 20,
        "start_time": "2022-01-24T19:39:50.548Z"
      },
      {
        "duration": 17,
        "start_time": "2022-01-24T19:40:32.775Z"
      },
      {
        "duration": 198,
        "start_time": "2022-01-24T19:42:58.077Z"
      },
      {
        "duration": 210,
        "start_time": "2022-01-24T19:43:09.687Z"
      },
      {
        "duration": 14,
        "start_time": "2022-01-24T19:43:12.883Z"
      },
      {
        "duration": 13,
        "start_time": "2022-01-24T19:43:18.170Z"
      },
      {
        "duration": 15,
        "start_time": "2022-01-24T19:43:21.245Z"
      },
      {
        "duration": 13,
        "start_time": "2022-01-24T19:43:26.788Z"
      },
      {
        "duration": 15,
        "start_time": "2022-01-24T19:43:34.789Z"
      },
      {
        "duration": 14,
        "start_time": "2022-01-24T19:43:41.736Z"
      },
      {
        "duration": 14,
        "start_time": "2022-01-24T19:43:46.434Z"
      },
      {
        "duration": 13,
        "start_time": "2022-01-24T19:43:49.277Z"
      },
      {
        "duration": 14,
        "start_time": "2022-01-24T19:43:52.188Z"
      },
      {
        "duration": 23,
        "start_time": "2022-01-24T19:44:06.584Z"
      },
      {
        "duration": 66,
        "start_time": "2022-01-24T19:44:40.187Z"
      },
      {
        "duration": 65,
        "start_time": "2022-01-24T19:44:44.924Z"
      },
      {
        "duration": 13,
        "start_time": "2022-01-24T19:44:57.717Z"
      },
      {
        "duration": 19,
        "start_time": "2022-01-24T19:45:01.436Z"
      },
      {
        "duration": 14,
        "start_time": "2022-01-24T19:45:07.302Z"
      },
      {
        "duration": 14,
        "start_time": "2022-01-24T19:45:24.823Z"
      },
      {
        "duration": 20,
        "start_time": "2022-01-24T19:45:26.305Z"
      },
      {
        "duration": 56,
        "start_time": "2022-01-24T19:45:35.076Z"
      },
      {
        "duration": 20,
        "start_time": "2022-01-24T19:45:38.679Z"
      },
      {
        "duration": 21,
        "start_time": "2022-01-24T19:45:43.306Z"
      },
      {
        "duration": 57,
        "start_time": "2022-01-24T19:45:45.319Z"
      },
      {
        "duration": 58,
        "start_time": "2022-01-24T19:46:22.258Z"
      },
      {
        "duration": 5604,
        "start_time": "2022-01-24T19:47:08.977Z"
      },
      {
        "duration": 5,
        "start_time": "2022-01-24T19:47:21.559Z"
      },
      {
        "duration": 5,
        "start_time": "2022-01-24T19:47:31.617Z"
      },
      {
        "duration": 199,
        "start_time": "2022-01-24T19:47:36.504Z"
      },
      {
        "duration": 5,
        "start_time": "2022-01-24T19:47:56.817Z"
      },
      {
        "duration": 5,
        "start_time": "2022-01-24T19:48:01.260Z"
      },
      {
        "duration": 193,
        "start_time": "2022-01-24T19:48:05.886Z"
      },
      {
        "duration": 201,
        "start_time": "2022-01-24T19:48:14.372Z"
      },
      {
        "duration": 6,
        "start_time": "2022-01-24T19:48:32.254Z"
      },
      {
        "duration": 5,
        "start_time": "2022-01-24T19:48:40.243Z"
      },
      {
        "duration": 8,
        "start_time": "2022-01-24T19:48:43.566Z"
      },
      {
        "duration": 6,
        "start_time": "2022-01-24T19:48:45.808Z"
      },
      {
        "duration": 235,
        "start_time": "2022-01-24T19:49:54.805Z"
      },
      {
        "duration": 178,
        "start_time": "2022-01-24T19:49:59.126Z"
      },
      {
        "duration": 12,
        "start_time": "2022-01-24T19:50:14.129Z"
      },
      {
        "duration": 10,
        "start_time": "2022-01-24T19:50:18.658Z"
      },
      {
        "duration": 10,
        "start_time": "2022-01-24T19:50:33.171Z"
      },
      {
        "duration": 11,
        "start_time": "2022-01-24T19:50:39.063Z"
      },
      {
        "duration": 8,
        "start_time": "2022-01-24T19:50:46.740Z"
      },
      {
        "duration": 8,
        "start_time": "2022-01-24T19:50:49.986Z"
      },
      {
        "duration": 8,
        "start_time": "2022-01-24T19:51:26.575Z"
      },
      {
        "duration": 9,
        "start_time": "2022-01-24T19:51:39.990Z"
      },
      {
        "duration": 9,
        "start_time": "2022-01-24T19:51:47.162Z"
      },
      {
        "duration": 10,
        "start_time": "2022-01-24T19:51:47.465Z"
      },
      {
        "duration": 308,
        "start_time": "2022-01-24T19:52:29.539Z"
      },
      {
        "duration": 65,
        "start_time": "2022-01-24T19:54:26.876Z"
      },
      {
        "duration": 215,
        "start_time": "2022-01-24T19:54:28.513Z"
      },
      {
        "duration": 5,
        "start_time": "2022-01-24T19:55:52.840Z"
      },
      {
        "duration": 1235,
        "start_time": "2022-01-24T19:56:00.842Z"
      },
      {
        "duration": 340,
        "start_time": "2022-01-24T19:56:06.945Z"
      },
      {
        "duration": 334,
        "start_time": "2022-01-24T19:56:07.287Z"
      },
      {
        "duration": 370,
        "start_time": "2022-01-24T19:56:07.623Z"
      },
      {
        "duration": 36,
        "start_time": "2022-01-24T19:58:32.262Z"
      },
      {
        "duration": 215,
        "start_time": "2022-01-24T19:58:50.582Z"
      },
      {
        "duration": 35,
        "start_time": "2022-01-24T19:58:56.805Z"
      },
      {
        "duration": 34,
        "start_time": "2022-01-24T19:59:02.948Z"
      },
      {
        "duration": 34,
        "start_time": "2022-01-24T20:01:39.314Z"
      },
      {
        "duration": 3,
        "start_time": "2022-01-24T20:04:24.541Z"
      },
      {
        "duration": 867,
        "start_time": "2022-01-24T20:04:24.834Z"
      },
      {
        "duration": 50,
        "start_time": "2022-01-24T20:04:25.703Z"
      },
      {
        "duration": 1075,
        "start_time": "2022-01-24T20:04:47.686Z"
      },
      {
        "duration": 889,
        "start_time": "2022-01-24T20:04:48.763Z"
      },
      {
        "duration": 47,
        "start_time": "2022-01-24T20:04:49.657Z"
      },
      {
        "duration": 27,
        "start_time": "2022-01-24T20:04:49.706Z"
      },
      {
        "duration": 6,
        "start_time": "2022-01-24T20:04:49.735Z"
      },
      {
        "duration": 39,
        "start_time": "2022-01-24T20:04:49.743Z"
      },
      {
        "duration": 33,
        "start_time": "2022-01-24T20:04:49.785Z"
      },
      {
        "duration": 17,
        "start_time": "2022-01-24T20:04:49.820Z"
      },
      {
        "duration": 11,
        "start_time": "2022-01-24T20:04:49.839Z"
      },
      {
        "duration": 68,
        "start_time": "2022-01-24T20:04:49.851Z"
      },
      {
        "duration": 19,
        "start_time": "2022-01-24T20:04:49.921Z"
      },
      {
        "duration": 17,
        "start_time": "2022-01-24T20:04:49.942Z"
      },
      {
        "duration": 6,
        "start_time": "2022-01-24T20:04:49.960Z"
      },
      {
        "duration": 52,
        "start_time": "2022-01-24T20:04:49.967Z"
      },
      {
        "duration": 19,
        "start_time": "2022-01-24T20:04:50.021Z"
      },
      {
        "duration": 3,
        "start_time": "2022-01-24T20:04:50.042Z"
      },
      {
        "duration": 25,
        "start_time": "2022-01-24T20:04:50.046Z"
      },
      {
        "duration": 15,
        "start_time": "2022-01-24T20:04:50.073Z"
      },
      {
        "duration": 45,
        "start_time": "2022-01-24T20:04:50.089Z"
      },
      {
        "duration": 3,
        "start_time": "2022-01-24T20:04:50.136Z"
      },
      {
        "duration": 5,
        "start_time": "2022-01-24T20:04:50.141Z"
      },
      {
        "duration": 3,
        "start_time": "2022-01-24T20:04:50.149Z"
      },
      {
        "duration": 9,
        "start_time": "2022-01-24T20:04:50.154Z"
      },
      {
        "duration": 4,
        "start_time": "2022-01-24T20:04:50.165Z"
      },
      {
        "duration": 5,
        "start_time": "2022-01-24T20:04:50.171Z"
      },
      {
        "duration": 35,
        "start_time": "2022-01-24T20:04:50.178Z"
      },
      {
        "duration": 8,
        "start_time": "2022-01-24T20:04:50.215Z"
      },
      {
        "duration": 8,
        "start_time": "2022-01-24T20:04:50.225Z"
      },
      {
        "duration": 13,
        "start_time": "2022-01-24T20:04:50.235Z"
      },
      {
        "duration": 81,
        "start_time": "2022-01-24T20:04:50.250Z"
      },
      {
        "duration": 6,
        "start_time": "2022-01-24T20:04:50.333Z"
      },
      {
        "duration": 6,
        "start_time": "2022-01-24T20:04:50.341Z"
      },
      {
        "duration": 361,
        "start_time": "2022-01-24T20:04:50.349Z"
      },
      {
        "duration": 345,
        "start_time": "2022-01-24T20:04:50.712Z"
      },
      {
        "duration": 351,
        "start_time": "2022-01-24T20:04:51.058Z"
      },
      {
        "duration": 266,
        "start_time": "2022-01-24T20:04:51.412Z"
      },
      {
        "duration": 88,
        "start_time": "2022-01-24T20:04:51.591Z"
      },
      {
        "duration": 1466,
        "start_time": "2022-01-24T20:05:47.516Z"
      },
      {
        "duration": 10,
        "start_time": "2022-01-24T20:05:55.202Z"
      },
      {
        "duration": 1737,
        "start_time": "2022-01-24T20:05:57.386Z"
      },
      {
        "duration": 47,
        "start_time": "2022-01-24T20:05:59.125Z"
      },
      {
        "duration": 1085,
        "start_time": "2022-01-24T20:06:23.483Z"
      },
      {
        "duration": 1780,
        "start_time": "2022-01-24T20:06:24.571Z"
      },
      {
        "duration": 53,
        "start_time": "2022-01-24T20:06:26.353Z"
      },
      {
        "duration": 26,
        "start_time": "2022-01-24T20:06:26.408Z"
      },
      {
        "duration": 6,
        "start_time": "2022-01-24T20:06:26.435Z"
      },
      {
        "duration": 31,
        "start_time": "2022-01-24T20:06:26.443Z"
      },
      {
        "duration": 48,
        "start_time": "2022-01-24T20:06:26.476Z"
      },
      {
        "duration": 19,
        "start_time": "2022-01-24T20:06:26.527Z"
      },
      {
        "duration": 12,
        "start_time": "2022-01-24T20:06:26.549Z"
      },
      {
        "duration": 73,
        "start_time": "2022-01-24T20:06:26.562Z"
      },
      {
        "duration": 20,
        "start_time": "2022-01-24T20:06:26.637Z"
      },
      {
        "duration": 19,
        "start_time": "2022-01-24T20:06:26.658Z"
      },
      {
        "duration": 7,
        "start_time": "2022-01-24T20:06:26.679Z"
      },
      {
        "duration": 30,
        "start_time": "2022-01-24T20:06:26.712Z"
      },
      {
        "duration": 22,
        "start_time": "2022-01-24T20:06:26.744Z"
      },
      {
        "duration": 3,
        "start_time": "2022-01-24T20:06:26.767Z"
      },
      {
        "duration": 41,
        "start_time": "2022-01-24T20:06:26.771Z"
      },
      {
        "duration": 16,
        "start_time": "2022-01-24T20:06:26.814Z"
      },
      {
        "duration": 27,
        "start_time": "2022-01-24T20:06:26.831Z"
      },
      {
        "duration": 4,
        "start_time": "2022-01-24T20:06:26.860Z"
      },
      {
        "duration": 6,
        "start_time": "2022-01-24T20:06:26.865Z"
      },
      {
        "duration": 6,
        "start_time": "2022-01-24T20:06:26.872Z"
      },
      {
        "duration": 38,
        "start_time": "2022-01-24T20:06:26.880Z"
      },
      {
        "duration": 5,
        "start_time": "2022-01-24T20:06:26.920Z"
      },
      {
        "duration": 4,
        "start_time": "2022-01-24T20:06:26.926Z"
      },
      {
        "duration": 11,
        "start_time": "2022-01-24T20:06:26.932Z"
      },
      {
        "duration": 7,
        "start_time": "2022-01-24T20:06:26.945Z"
      },
      {
        "duration": 9,
        "start_time": "2022-01-24T20:06:26.953Z"
      },
      {
        "duration": 13,
        "start_time": "2022-01-24T20:06:26.963Z"
      },
      {
        "duration": 91,
        "start_time": "2022-01-24T20:06:26.977Z"
      },
      {
        "duration": 7,
        "start_time": "2022-01-24T20:06:27.070Z"
      },
      {
        "duration": 9,
        "start_time": "2022-01-24T20:06:27.079Z"
      },
      {
        "duration": 657,
        "start_time": "2022-01-24T20:06:27.090Z"
      },
      {
        "duration": 607,
        "start_time": "2022-01-24T20:06:27.749Z"
      },
      {
        "duration": 645,
        "start_time": "2022-01-24T20:06:28.358Z"
      },
      {
        "duration": 600,
        "start_time": "2022-01-24T20:06:29.004Z"
      },
      {
        "duration": 17,
        "start_time": "2022-01-24T20:06:29.589Z"
      },
      {
        "duration": 64,
        "start_time": "2022-01-24T20:11:01.719Z"
      },
      {
        "duration": 17,
        "start_time": "2022-01-24T20:11:09.172Z"
      },
      {
        "duration": 16,
        "start_time": "2022-01-24T20:11:18.080Z"
      },
      {
        "duration": 1039,
        "start_time": "2022-01-24T20:11:28.333Z"
      },
      {
        "duration": 888,
        "start_time": "2022-01-24T20:11:29.374Z"
      },
      {
        "duration": 51,
        "start_time": "2022-01-24T20:11:30.264Z"
      },
      {
        "duration": 57,
        "start_time": "2022-01-24T20:11:30.318Z"
      },
      {
        "duration": 67,
        "start_time": "2022-01-24T20:11:30.377Z"
      },
      {
        "duration": 79,
        "start_time": "2022-01-24T20:11:30.368Z"
      },
      {
        "duration": 78,
        "start_time": "2022-01-24T20:11:30.371Z"
      },
      {
        "duration": 76,
        "start_time": "2022-01-24T20:11:30.374Z"
      },
      {
        "duration": 73,
        "start_time": "2022-01-24T20:11:30.378Z"
      },
      {
        "duration": 73,
        "start_time": "2022-01-24T20:11:30.380Z"
      },
      {
        "duration": 70,
        "start_time": "2022-01-24T20:11:30.384Z"
      },
      {
        "duration": 68,
        "start_time": "2022-01-24T20:11:30.388Z"
      },
      {
        "duration": 66,
        "start_time": "2022-01-24T20:11:30.391Z"
      },
      {
        "duration": 66,
        "start_time": "2022-01-24T20:11:30.393Z"
      },
      {
        "duration": 65,
        "start_time": "2022-01-24T20:11:30.395Z"
      },
      {
        "duration": 65,
        "start_time": "2022-01-24T20:11:30.397Z"
      },
      {
        "duration": 64,
        "start_time": "2022-01-24T20:11:30.399Z"
      },
      {
        "duration": 64,
        "start_time": "2022-01-24T20:11:30.401Z"
      },
      {
        "duration": 62,
        "start_time": "2022-01-24T20:11:30.404Z"
      },
      {
        "duration": 61,
        "start_time": "2022-01-24T20:11:30.406Z"
      },
      {
        "duration": 60,
        "start_time": "2022-01-24T20:11:30.409Z"
      },
      {
        "duration": 59,
        "start_time": "2022-01-24T20:11:30.411Z"
      },
      {
        "duration": 58,
        "start_time": "2022-01-24T20:11:30.414Z"
      },
      {
        "duration": 58,
        "start_time": "2022-01-24T20:11:30.415Z"
      },
      {
        "duration": 58,
        "start_time": "2022-01-24T20:11:30.417Z"
      },
      {
        "duration": 49,
        "start_time": "2022-01-24T20:11:30.427Z"
      },
      {
        "duration": 48,
        "start_time": "2022-01-24T20:11:30.429Z"
      },
      {
        "duration": 48,
        "start_time": "2022-01-24T20:11:30.431Z"
      },
      {
        "duration": 43,
        "start_time": "2022-01-24T20:11:30.437Z"
      },
      {
        "duration": 42,
        "start_time": "2022-01-24T20:11:30.439Z"
      },
      {
        "duration": 41,
        "start_time": "2022-01-24T20:11:30.441Z"
      },
      {
        "duration": 39,
        "start_time": "2022-01-24T20:11:30.444Z"
      },
      {
        "duration": 38,
        "start_time": "2022-01-24T20:11:30.446Z"
      },
      {
        "duration": 37,
        "start_time": "2022-01-24T20:11:30.448Z"
      },
      {
        "duration": 61,
        "start_time": "2022-01-24T20:11:30.450Z"
      },
      {
        "duration": 61,
        "start_time": "2022-01-24T20:11:30.452Z"
      },
      {
        "duration": 59,
        "start_time": "2022-01-24T20:11:30.454Z"
      },
      {
        "duration": 60,
        "start_time": "2022-01-24T20:11:30.456Z"
      },
      {
        "duration": 7,
        "start_time": "2022-01-24T20:11:45.722Z"
      },
      {
        "duration": 4,
        "start_time": "2022-01-24T20:11:52.186Z"
      },
      {
        "duration": 4,
        "start_time": "2022-01-24T20:11:54.504Z"
      },
      {
        "duration": 277,
        "start_time": "2022-01-24T20:11:56.562Z"
      },
      {
        "duration": 5,
        "start_time": "2022-01-24T20:12:01.040Z"
      },
      {
        "duration": 52,
        "start_time": "2022-01-24T20:12:58.439Z"
      },
      {
        "duration": 4,
        "start_time": "2022-01-24T20:13:00.098Z"
      },
      {
        "duration": 289,
        "start_time": "2022-01-24T20:13:13.203Z"
      },
      {
        "duration": 69,
        "start_time": "2022-01-24T20:13:18.460Z"
      },
      {
        "duration": 323,
        "start_time": "2022-01-24T20:13:31.588Z"
      },
      {
        "duration": 58,
        "start_time": "2022-01-24T20:17:05.162Z"
      },
      {
        "duration": 5,
        "start_time": "2022-01-24T20:17:07.554Z"
      },
      {
        "duration": 18,
        "start_time": "2022-01-24T20:18:30.043Z"
      },
      {
        "duration": 5,
        "start_time": "2022-01-24T20:18:39.221Z"
      },
      {
        "duration": 5,
        "start_time": "2022-01-24T20:18:45.572Z"
      },
      {
        "duration": 5,
        "start_time": "2022-01-24T20:18:48.698Z"
      },
      {
        "duration": 5,
        "start_time": "2022-01-24T20:18:51.615Z"
      },
      {
        "duration": 5,
        "start_time": "2022-01-24T20:19:01.433Z"
      },
      {
        "duration": 15,
        "start_time": "2022-01-24T20:19:08.253Z"
      },
      {
        "duration": 10,
        "start_time": "2022-01-24T20:19:33.320Z"
      },
      {
        "duration": 4,
        "start_time": "2022-01-24T20:19:37.127Z"
      },
      {
        "duration": 16,
        "start_time": "2022-01-24T20:19:46.756Z"
      },
      {
        "duration": 4,
        "start_time": "2022-01-24T20:19:47.512Z"
      },
      {
        "duration": 1084,
        "start_time": "2022-01-24T20:21:31.068Z"
      },
      {
        "duration": 903,
        "start_time": "2022-01-24T20:21:32.154Z"
      },
      {
        "duration": 48,
        "start_time": "2022-01-24T20:21:33.059Z"
      },
      {
        "duration": 64,
        "start_time": "2022-01-24T20:21:33.109Z"
      },
      {
        "duration": 3,
        "start_time": "2022-01-24T20:21:33.174Z"
      },
      {
        "duration": 61,
        "start_time": "2022-01-24T20:21:33.179Z"
      },
      {
        "duration": 23,
        "start_time": "2022-01-24T20:21:33.242Z"
      },
      {
        "duration": 18,
        "start_time": "2022-01-24T20:21:33.267Z"
      },
      {
        "duration": 25,
        "start_time": "2022-01-24T20:21:33.287Z"
      },
      {
        "duration": 29,
        "start_time": "2022-01-24T20:21:33.313Z"
      },
      {
        "duration": 18,
        "start_time": "2022-01-24T20:21:33.344Z"
      },
      {
        "duration": 3,
        "start_time": "2022-01-24T20:21:33.363Z"
      },
      {
        "duration": 16,
        "start_time": "2022-01-24T20:21:33.368Z"
      },
      {
        "duration": 39,
        "start_time": "2022-01-24T20:21:33.386Z"
      },
      {
        "duration": 27,
        "start_time": "2022-01-24T20:21:33.427Z"
      },
      {
        "duration": 56,
        "start_time": "2022-01-24T20:21:33.456Z"
      },
      {
        "duration": 4,
        "start_time": "2022-01-24T20:21:33.514Z"
      },
      {
        "duration": 6,
        "start_time": "2022-01-24T20:21:33.519Z"
      },
      {
        "duration": 11,
        "start_time": "2022-01-24T20:21:33.526Z"
      },
      {
        "duration": 4,
        "start_time": "2022-01-24T20:21:33.538Z"
      },
      {
        "duration": 5,
        "start_time": "2022-01-24T20:21:33.544Z"
      },
      {
        "duration": 10,
        "start_time": "2022-01-24T20:21:33.550Z"
      },
      {
        "duration": 8,
        "start_time": "2022-01-24T20:21:33.614Z"
      },
      {
        "duration": 8,
        "start_time": "2022-01-24T20:21:33.623Z"
      },
      {
        "duration": 13,
        "start_time": "2022-01-24T20:21:33.633Z"
      },
      {
        "duration": 108,
        "start_time": "2022-01-24T20:21:33.647Z"
      },
      {
        "duration": 59,
        "start_time": "2022-01-24T20:21:33.757Z"
      },
      {
        "duration": 7,
        "start_time": "2022-01-24T20:21:33.818Z"
      },
      {
        "duration": 727,
        "start_time": "2022-01-24T20:21:33.826Z"
      },
      {
        "duration": 606,
        "start_time": "2022-01-24T20:21:34.554Z"
      },
      {
        "duration": 638,
        "start_time": "2022-01-24T20:21:35.161Z"
      },
      {
        "duration": 278,
        "start_time": "2022-01-24T20:21:35.800Z"
      },
      {
        "duration": -77,
        "start_time": "2022-01-24T20:21:36.158Z"
      },
      {
        "duration": 12,
        "start_time": "2022-01-24T20:22:44.296Z"
      },
      {
        "duration": 8,
        "start_time": "2022-01-24T20:22:56.632Z"
      },
      {
        "duration": 1084,
        "start_time": "2022-01-24T20:25:40.088Z"
      },
      {
        "duration": 806,
        "start_time": "2022-01-24T20:25:41.174Z"
      },
      {
        "duration": 47,
        "start_time": "2022-01-24T20:25:41.982Z"
      },
      {
        "duration": 63,
        "start_time": "2022-01-24T20:25:42.099Z"
      },
      {
        "duration": 4,
        "start_time": "2022-01-24T20:25:43.009Z"
      },
      {
        "duration": 47,
        "start_time": "2022-01-24T20:25:47.272Z"
      },
      {
        "duration": 394,
        "start_time": "2022-01-24T20:26:10.016Z"
      },
      {
        "duration": 66,
        "start_time": "2022-01-24T20:26:25.552Z"
      },
      {
        "duration": 492,
        "start_time": "2022-01-24T20:26:34.054Z"
      },
      {
        "duration": 10,
        "start_time": "2022-01-24T20:26:53.886Z"
      },
      {
        "duration": 295,
        "start_time": "2022-01-24T20:26:56.854Z"
      },
      {
        "duration": 9,
        "start_time": "2022-01-24T20:27:07.221Z"
      },
      {
        "duration": 26,
        "start_time": "2022-01-24T20:27:08.189Z"
      },
      {
        "duration": 10,
        "start_time": "2022-01-24T20:28:11.365Z"
      },
      {
        "duration": 1122,
        "start_time": "2022-01-24T20:28:16.290Z"
      },
      {
        "duration": 2306,
        "start_time": "2022-01-24T20:28:17.414Z"
      },
      {
        "duration": 51,
        "start_time": "2022-01-24T20:28:19.722Z"
      },
      {
        "duration": 73,
        "start_time": "2022-01-24T20:28:19.775Z"
      },
      {
        "duration": 4,
        "start_time": "2022-01-24T20:28:19.850Z"
      },
      {
        "duration": 57,
        "start_time": "2022-01-24T20:28:19.855Z"
      },
      {
        "duration": 7,
        "start_time": "2022-01-24T20:28:19.914Z"
      },
      {
        "duration": 31,
        "start_time": "2022-01-24T20:28:19.924Z"
      },
      {
        "duration": 17,
        "start_time": "2022-01-24T20:28:19.957Z"
      },
      {
        "duration": 2,
        "start_time": "2022-01-24T20:28:19.976Z"
      },
      {
        "duration": 41,
        "start_time": "2022-01-24T20:28:19.979Z"
      },
      {
        "duration": 15,
        "start_time": "2022-01-24T20:28:20.022Z"
      },
      {
        "duration": 30,
        "start_time": "2022-01-24T20:28:20.038Z"
      },
      {
        "duration": 5,
        "start_time": "2022-01-24T20:28:20.069Z"
      },
      {
        "duration": 6,
        "start_time": "2022-01-24T20:28:20.076Z"
      },
      {
        "duration": 7,
        "start_time": "2022-01-24T20:28:20.084Z"
      },
      {
        "duration": 27,
        "start_time": "2022-01-24T20:28:20.093Z"
      },
      {
        "duration": 16,
        "start_time": "2022-01-24T20:28:20.122Z"
      },
      {
        "duration": 4,
        "start_time": "2022-01-24T20:28:20.140Z"
      },
      {
        "duration": 10,
        "start_time": "2022-01-24T20:28:20.146Z"
      },
      {
        "duration": 8,
        "start_time": "2022-01-24T20:28:20.158Z"
      },
      {
        "duration": 9,
        "start_time": "2022-01-24T20:28:20.168Z"
      },
      {
        "duration": 41,
        "start_time": "2022-01-24T20:28:20.181Z"
      },
      {
        "duration": 58,
        "start_time": "2022-01-24T20:28:20.225Z"
      },
      {
        "duration": 7,
        "start_time": "2022-01-24T20:28:20.284Z"
      },
      {
        "duration": 7,
        "start_time": "2022-01-24T20:28:20.312Z"
      },
      {
        "duration": 638,
        "start_time": "2022-01-24T20:28:20.321Z"
      },
      {
        "duration": 613,
        "start_time": "2022-01-24T20:28:20.961Z"
      },
      {
        "duration": 631,
        "start_time": "2022-01-24T20:28:21.576Z"
      },
      {
        "duration": 269,
        "start_time": "2022-01-24T20:28:22.208Z"
      },
      {
        "duration": -15,
        "start_time": "2022-01-24T20:28:22.494Z"
      },
      {
        "duration": 25,
        "start_time": "2022-01-24T20:29:39.304Z"
      },
      {
        "duration": 25,
        "start_time": "2022-01-24T20:29:52.988Z"
      },
      {
        "duration": 198,
        "start_time": "2022-01-24T20:31:56.564Z"
      },
      {
        "duration": 1114,
        "start_time": "2022-01-24T20:32:13.788Z"
      },
      {
        "duration": 762,
        "start_time": "2022-01-24T20:32:14.904Z"
      },
      {
        "duration": 52,
        "start_time": "2022-01-24T20:32:15.670Z"
      },
      {
        "duration": 63,
        "start_time": "2022-01-24T20:32:15.724Z"
      },
      {
        "duration": 5,
        "start_time": "2022-01-24T20:32:15.789Z"
      },
      {
        "duration": 49,
        "start_time": "2022-01-24T20:32:15.812Z"
      },
      {
        "duration": 9,
        "start_time": "2022-01-24T20:32:15.864Z"
      },
      {
        "duration": 54,
        "start_time": "2022-01-24T20:32:15.875Z"
      },
      {
        "duration": 20,
        "start_time": "2022-01-24T20:32:15.932Z"
      },
      {
        "duration": 25,
        "start_time": "2022-01-24T20:32:15.954Z"
      },
      {
        "duration": 46,
        "start_time": "2022-01-24T20:32:15.981Z"
      },
      {
        "duration": 7,
        "start_time": "2022-01-24T20:32:16.029Z"
      },
      {
        "duration": 11,
        "start_time": "2022-01-24T20:32:16.038Z"
      },
      {
        "duration": 8,
        "start_time": "2022-01-24T20:32:16.050Z"
      },
      {
        "duration": 11,
        "start_time": "2022-01-24T20:32:16.060Z"
      },
      {
        "duration": 9,
        "start_time": "2022-01-24T20:32:16.072Z"
      },
      {
        "duration": 42,
        "start_time": "2022-01-24T20:32:16.083Z"
      },
      {
        "duration": 55,
        "start_time": "2022-01-24T20:32:16.126Z"
      },
      {
        "duration": 6,
        "start_time": "2022-01-24T20:32:16.183Z"
      },
      {
        "duration": 29,
        "start_time": "2022-01-24T20:32:16.191Z"
      },
      {
        "duration": 646,
        "start_time": "2022-01-24T20:32:16.221Z"
      },
      {
        "duration": 605,
        "start_time": "2022-01-24T20:32:16.870Z"
      },
      {
        "duration": 651,
        "start_time": "2022-01-24T20:32:17.477Z"
      },
      {
        "duration": 286,
        "start_time": "2022-01-24T20:32:18.130Z"
      },
      {
        "duration": -11,
        "start_time": "2022-01-24T20:32:18.428Z"
      },
      {
        "duration": 1046,
        "start_time": "2022-01-24T20:33:31.940Z"
      },
      {
        "duration": 780,
        "start_time": "2022-01-24T20:33:32.988Z"
      },
      {
        "duration": 48,
        "start_time": "2022-01-24T20:33:33.772Z"
      },
      {
        "duration": 62,
        "start_time": "2022-01-24T20:33:33.822Z"
      },
      {
        "duration": 3,
        "start_time": "2022-01-24T20:33:33.885Z"
      },
      {
        "duration": 61,
        "start_time": "2022-01-24T20:33:33.890Z"
      },
      {
        "duration": 7,
        "start_time": "2022-01-24T20:33:33.954Z"
      },
      {
        "duration": 31,
        "start_time": "2022-01-24T20:33:33.963Z"
      },
      {
        "duration": 35,
        "start_time": "2022-01-24T20:33:33.996Z"
      },
      {
        "duration": 25,
        "start_time": "2022-01-24T20:33:34.032Z"
      },
      {
        "duration": 19,
        "start_time": "2022-01-24T20:33:34.058Z"
      },
      {
        "duration": 5,
        "start_time": "2022-01-24T20:33:34.079Z"
      },
      {
        "duration": 32,
        "start_time": "2022-01-24T20:33:34.086Z"
      },
      {
        "duration": 5,
        "start_time": "2022-01-24T20:33:34.119Z"
      },
      {
        "duration": 12,
        "start_time": "2022-01-24T20:33:34.126Z"
      },
      {
        "duration": 277,
        "start_time": "2022-01-24T20:33:34.140Z"
      },
      {
        "duration": -101,
        "start_time": "2022-01-24T20:33:34.520Z"
      },
      {
        "duration": -103,
        "start_time": "2022-01-24T20:33:34.523Z"
      },
      {
        "duration": -104,
        "start_time": "2022-01-24T20:33:34.525Z"
      },
      {
        "duration": -111,
        "start_time": "2022-01-24T20:33:34.533Z"
      },
      {
        "duration": -111,
        "start_time": "2022-01-24T20:33:34.534Z"
      },
      {
        "duration": -112,
        "start_time": "2022-01-24T20:33:34.536Z"
      },
      {
        "duration": -113,
        "start_time": "2022-01-24T20:33:34.538Z"
      },
      {
        "duration": -114,
        "start_time": "2022-01-24T20:33:34.540Z"
      },
      {
        "duration": -114,
        "start_time": "2022-01-24T20:33:34.541Z"
      },
      {
        "duration": -115,
        "start_time": "2022-01-24T20:33:34.543Z"
      },
      {
        "duration": 8,
        "start_time": "2022-01-24T20:34:09.377Z"
      },
      {
        "duration": 8,
        "start_time": "2022-01-24T20:34:10.894Z"
      },
      {
        "duration": 6,
        "start_time": "2022-01-24T20:36:18.402Z"
      },
      {
        "duration": 1097,
        "start_time": "2022-01-24T20:36:23.662Z"
      },
      {
        "duration": 688,
        "start_time": "2022-01-24T20:36:24.761Z"
      },
      {
        "duration": 49,
        "start_time": "2022-01-24T20:36:25.451Z"
      },
      {
        "duration": 63,
        "start_time": "2022-01-24T20:36:25.502Z"
      },
      {
        "duration": 4,
        "start_time": "2022-01-24T20:36:25.566Z"
      },
      {
        "duration": 61,
        "start_time": "2022-01-24T20:36:25.571Z"
      },
      {
        "duration": 8,
        "start_time": "2022-01-24T20:36:25.634Z"
      },
      {
        "duration": 30,
        "start_time": "2022-01-24T20:36:25.643Z"
      },
      {
        "duration": 37,
        "start_time": "2022-01-24T20:36:25.676Z"
      },
      {
        "duration": 26,
        "start_time": "2022-01-24T20:36:25.715Z"
      },
      {
        "duration": 21,
        "start_time": "2022-01-24T20:36:25.743Z"
      },
      {
        "duration": 6,
        "start_time": "2022-01-24T20:36:25.766Z"
      },
      {
        "duration": 11,
        "start_time": "2022-01-24T20:36:25.774Z"
      },
      {
        "duration": 27,
        "start_time": "2022-01-24T20:36:25.787Z"
      },
      {
        "duration": 11,
        "start_time": "2022-01-24T20:36:25.816Z"
      },
      {
        "duration": 8,
        "start_time": "2022-01-24T20:36:25.828Z"
      },
      {
        "duration": 13,
        "start_time": "2022-01-24T20:36:25.838Z"
      },
      {
        "duration": 80,
        "start_time": "2022-01-24T20:36:25.853Z"
      },
      {
        "duration": 8,
        "start_time": "2022-01-24T20:36:25.935Z"
      },
      {
        "duration": 6,
        "start_time": "2022-01-24T20:36:25.944Z"
      },
      {
        "duration": 645,
        "start_time": "2022-01-24T20:36:25.952Z"
      },
      {
        "duration": 617,
        "start_time": "2022-01-24T20:36:26.598Z"
      },
      {
        "duration": 632,
        "start_time": "2022-01-24T20:36:27.216Z"
      },
      {
        "duration": 291,
        "start_time": "2022-01-24T20:36:27.849Z"
      },
      {
        "duration": -23,
        "start_time": "2022-01-24T20:36:28.164Z"
      },
      {
        "duration": 19,
        "start_time": "2022-01-24T20:36:56.936Z"
      },
      {
        "duration": 12,
        "start_time": "2022-01-24T20:39:24.125Z"
      },
      {
        "duration": 134,
        "start_time": "2022-01-24T20:39:39.148Z"
      },
      {
        "duration": 10,
        "start_time": "2022-01-24T20:41:20.247Z"
      },
      {
        "duration": 1031,
        "start_time": "2022-01-24T20:41:35.624Z"
      },
      {
        "duration": 1753,
        "start_time": "2022-01-24T20:41:36.657Z"
      },
      {
        "duration": 47,
        "start_time": "2022-01-24T20:41:38.413Z"
      },
      {
        "duration": 75,
        "start_time": "2022-01-24T20:41:38.462Z"
      },
      {
        "duration": 4,
        "start_time": "2022-01-24T20:41:38.539Z"
      },
      {
        "duration": 48,
        "start_time": "2022-01-24T20:41:38.545Z"
      },
      {
        "duration": 20,
        "start_time": "2022-01-24T20:41:38.595Z"
      },
      {
        "duration": 31,
        "start_time": "2022-01-24T20:41:38.618Z"
      },
      {
        "duration": 19,
        "start_time": "2022-01-24T20:41:38.651Z"
      },
      {
        "duration": 54,
        "start_time": "2022-01-24T20:41:38.671Z"
      },
      {
        "duration": 21,
        "start_time": "2022-01-24T20:41:38.727Z"
      },
      {
        "duration": 7,
        "start_time": "2022-01-24T20:41:38.750Z"
      },
      {
        "duration": 10,
        "start_time": "2022-01-24T20:41:38.758Z"
      },
      {
        "duration": 5,
        "start_time": "2022-01-24T20:41:38.769Z"
      },
      {
        "duration": 43,
        "start_time": "2022-01-24T20:41:38.776Z"
      },
      {
        "duration": 14,
        "start_time": "2022-01-24T20:41:38.821Z"
      },
      {
        "duration": 56,
        "start_time": "2022-01-24T20:41:38.837Z"
      },
      {
        "duration": 23,
        "start_time": "2022-01-24T20:41:38.895Z"
      },
      {
        "duration": 7,
        "start_time": "2022-01-24T20:41:38.920Z"
      },
      {
        "duration": 649,
        "start_time": "2022-01-24T20:41:38.928Z"
      },
      {
        "duration": 824,
        "start_time": "2022-01-24T20:41:39.579Z"
      },
      {
        "duration": 623,
        "start_time": "2022-01-24T20:41:40.405Z"
      },
      {
        "duration": 272,
        "start_time": "2022-01-24T20:41:41.031Z"
      },
      {
        "duration": 116,
        "start_time": "2022-01-24T20:41:41.188Z"
      },
      {
        "duration": 4,
        "start_time": "2022-01-24T20:42:05.981Z"
      },
      {
        "duration": 5,
        "start_time": "2022-01-24T20:42:50.440Z"
      },
      {
        "duration": 24,
        "start_time": "2022-01-24T20:42:54.778Z"
      },
      {
        "duration": 4,
        "start_time": "2022-01-24T20:43:25.474Z"
      },
      {
        "duration": 19,
        "start_time": "2022-01-24T20:43:25.665Z"
      },
      {
        "duration": 1088,
        "start_time": "2022-01-24T20:43:47.413Z"
      },
      {
        "duration": 2387,
        "start_time": "2022-01-24T20:43:48.510Z"
      },
      {
        "duration": 48,
        "start_time": "2022-01-24T20:43:50.898Z"
      },
      {
        "duration": 70,
        "start_time": "2022-01-24T20:43:50.948Z"
      },
      {
        "duration": 4,
        "start_time": "2022-01-24T20:43:51.019Z"
      },
      {
        "duration": 49,
        "start_time": "2022-01-24T20:43:51.024Z"
      },
      {
        "duration": 7,
        "start_time": "2022-01-24T20:43:51.074Z"
      },
      {
        "duration": 54,
        "start_time": "2022-01-24T20:43:51.084Z"
      },
      {
        "duration": 16,
        "start_time": "2022-01-24T20:43:51.140Z"
      },
      {
        "duration": 24,
        "start_time": "2022-01-24T20:43:51.157Z"
      },
      {
        "duration": 37,
        "start_time": "2022-01-24T20:43:51.182Z"
      },
      {
        "duration": 5,
        "start_time": "2022-01-24T20:43:51.221Z"
      },
      {
        "duration": 8,
        "start_time": "2022-01-24T20:43:51.228Z"
      },
      {
        "duration": 5,
        "start_time": "2022-01-24T20:43:51.237Z"
      },
      {
        "duration": 8,
        "start_time": "2022-01-24T20:43:51.243Z"
      },
      {
        "duration": 4,
        "start_time": "2022-01-24T20:43:51.253Z"
      },
      {
        "duration": 17,
        "start_time": "2022-01-24T20:43:51.258Z"
      },
      {
        "duration": 39,
        "start_time": "2022-01-24T20:43:51.277Z"
      },
      {
        "duration": 29,
        "start_time": "2022-01-24T20:43:51.318Z"
      },
      {
        "duration": 7,
        "start_time": "2022-01-24T20:43:51.348Z"
      },
      {
        "duration": 6,
        "start_time": "2022-01-24T20:43:51.356Z"
      },
      {
        "duration": 653,
        "start_time": "2022-01-24T20:43:51.363Z"
      },
      {
        "duration": 597,
        "start_time": "2022-01-24T20:43:52.018Z"
      },
      {
        "duration": 620,
        "start_time": "2022-01-24T20:43:52.617Z"
      },
      {
        "duration": 455,
        "start_time": "2022-01-24T20:43:53.239Z"
      },
      {
        "duration": 121,
        "start_time": "2022-01-24T20:43:53.574Z"
      },
      {
        "duration": 985,
        "start_time": "2022-01-24T20:44:49.772Z"
      },
      {
        "duration": 806,
        "start_time": "2022-01-24T20:44:50.759Z"
      },
      {
        "duration": 46,
        "start_time": "2022-01-24T20:44:51.567Z"
      },
      {
        "duration": 64,
        "start_time": "2022-01-24T20:44:51.616Z"
      },
      {
        "duration": 4,
        "start_time": "2022-01-24T20:44:51.681Z"
      },
      {
        "duration": 59,
        "start_time": "2022-01-24T20:44:51.687Z"
      },
      {
        "duration": 7,
        "start_time": "2022-01-24T20:44:51.748Z"
      },
      {
        "duration": 31,
        "start_time": "2022-01-24T20:44:51.756Z"
      },
      {
        "duration": 34,
        "start_time": "2022-01-24T20:44:51.789Z"
      },
      {
        "duration": 25,
        "start_time": "2022-01-24T20:44:51.825Z"
      },
      {
        "duration": 20,
        "start_time": "2022-01-24T20:44:51.852Z"
      },
      {
        "duration": 6,
        "start_time": "2022-01-24T20:44:51.874Z"
      },
      {
        "duration": 34,
        "start_time": "2022-01-24T20:44:51.881Z"
      },
      {
        "duration": 6,
        "start_time": "2022-01-24T20:44:51.916Z"
      },
      {
        "duration": 13,
        "start_time": "2022-01-24T20:44:51.923Z"
      },
      {
        "duration": 7,
        "start_time": "2022-01-24T20:44:51.938Z"
      },
      {
        "duration": 21,
        "start_time": "2022-01-24T20:44:51.947Z"
      },
      {
        "duration": 14,
        "start_time": "2022-01-24T20:44:51.970Z"
      },
      {
        "duration": 53,
        "start_time": "2022-01-24T20:44:51.986Z"
      },
      {
        "duration": 7,
        "start_time": "2022-01-24T20:44:52.041Z"
      },
      {
        "duration": 9,
        "start_time": "2022-01-24T20:44:52.049Z"
      },
      {
        "duration": 757,
        "start_time": "2022-01-24T20:44:52.060Z"
      },
      {
        "duration": 749,
        "start_time": "2022-01-24T20:44:52.818Z"
      },
      {
        "duration": 635,
        "start_time": "2022-01-24T20:44:53.569Z"
      },
      {
        "duration": 295,
        "start_time": "2022-01-24T20:44:54.205Z"
      },
      {
        "duration": 128,
        "start_time": "2022-01-24T20:44:54.374Z"
      },
      {
        "duration": 22,
        "start_time": "2022-01-24T20:45:31.710Z"
      },
      {
        "duration": 22,
        "start_time": "2022-01-24T20:45:45.487Z"
      },
      {
        "duration": 1124,
        "start_time": "2022-01-24T20:46:00.733Z"
      },
      {
        "duration": 710,
        "start_time": "2022-01-24T20:46:01.858Z"
      },
      {
        "duration": 56,
        "start_time": "2022-01-24T20:46:02.570Z"
      },
      {
        "duration": 73,
        "start_time": "2022-01-24T20:46:02.628Z"
      },
      {
        "duration": 9,
        "start_time": "2022-01-24T20:46:02.703Z"
      },
      {
        "duration": 51,
        "start_time": "2022-01-24T20:46:02.714Z"
      },
      {
        "duration": 8,
        "start_time": "2022-01-24T20:46:02.767Z"
      },
      {
        "duration": 51,
        "start_time": "2022-01-24T20:46:02.778Z"
      },
      {
        "duration": 18,
        "start_time": "2022-01-24T20:46:02.831Z"
      },
      {
        "duration": 25,
        "start_time": "2022-01-24T20:46:02.851Z"
      },
      {
        "duration": 40,
        "start_time": "2022-01-24T20:46:02.878Z"
      },
      {
        "duration": 7,
        "start_time": "2022-01-24T20:46:02.920Z"
      },
      {
        "duration": 9,
        "start_time": "2022-01-24T20:46:02.928Z"
      },
      {
        "duration": 5,
        "start_time": "2022-01-24T20:46:02.938Z"
      },
      {
        "duration": 11,
        "start_time": "2022-01-24T20:46:02.944Z"
      },
      {
        "duration": 19,
        "start_time": "2022-01-24T20:46:02.957Z"
      },
      {
        "duration": 39,
        "start_time": "2022-01-24T20:46:02.978Z"
      },
      {
        "duration": 33,
        "start_time": "2022-01-24T20:46:03.019Z"
      },
      {
        "duration": 6,
        "start_time": "2022-01-24T20:46:03.054Z"
      },
      {
        "duration": 7,
        "start_time": "2022-01-24T20:46:03.062Z"
      },
      {
        "duration": 651,
        "start_time": "2022-01-24T20:46:03.070Z"
      },
      {
        "duration": 581,
        "start_time": "2022-01-24T20:46:03.722Z"
      },
      {
        "duration": 639,
        "start_time": "2022-01-24T20:46:04.313Z"
      },
      {
        "duration": 290,
        "start_time": "2022-01-24T20:46:04.954Z"
      },
      {
        "duration": 142,
        "start_time": "2022-01-24T20:46:05.104Z"
      },
      {
        "duration": 192,
        "start_time": "2022-01-24T20:47:04.773Z"
      },
      {
        "duration": 194,
        "start_time": "2022-01-24T20:47:27.604Z"
      },
      {
        "duration": 34,
        "start_time": "2022-01-24T20:47:34.326Z"
      },
      {
        "duration": 194,
        "start_time": "2022-01-24T20:50:00.633Z"
      },
      {
        "duration": 219,
        "start_time": "2022-01-24T20:50:30.141Z"
      },
      {
        "duration": 201,
        "start_time": "2022-01-24T20:50:38.733Z"
      },
      {
        "duration": 18,
        "start_time": "2022-01-24T20:50:53.446Z"
      },
      {
        "duration": 201,
        "start_time": "2022-01-24T20:50:59.895Z"
      },
      {
        "duration": 32,
        "start_time": "2022-01-24T20:51:07.169Z"
      },
      {
        "duration": 19,
        "start_time": "2022-01-24T20:51:12.251Z"
      },
      {
        "duration": 30,
        "start_time": "2022-01-24T20:51:29.929Z"
      },
      {
        "duration": 21,
        "start_time": "2022-01-24T20:51:38.828Z"
      },
      {
        "duration": 186,
        "start_time": "2022-01-24T20:51:58.362Z"
      },
      {
        "duration": 13,
        "start_time": "2022-01-24T20:52:43.640Z"
      },
      {
        "duration": 21,
        "start_time": "2022-01-24T20:52:51.631Z"
      },
      {
        "duration": 21,
        "start_time": "2022-01-24T20:53:19.308Z"
      },
      {
        "duration": 14,
        "start_time": "2022-01-24T20:53:28.929Z"
      },
      {
        "duration": 1092,
        "start_time": "2022-01-25T16:11:58.722Z"
      },
      {
        "duration": 1129,
        "start_time": "2022-01-25T16:11:59.816Z"
      },
      {
        "duration": 47,
        "start_time": "2022-01-25T16:12:00.947Z"
      },
      {
        "duration": 70,
        "start_time": "2022-01-25T16:12:00.996Z"
      },
      {
        "duration": 4,
        "start_time": "2022-01-25T16:12:01.067Z"
      },
      {
        "duration": 63,
        "start_time": "2022-01-25T16:12:01.072Z"
      },
      {
        "duration": 7,
        "start_time": "2022-01-25T16:12:01.137Z"
      },
      {
        "duration": 34,
        "start_time": "2022-01-25T16:12:01.146Z"
      },
      {
        "duration": 31,
        "start_time": "2022-01-25T16:12:01.182Z"
      },
      {
        "duration": 30,
        "start_time": "2022-01-25T16:12:01.216Z"
      },
      {
        "duration": 24,
        "start_time": "2022-01-25T16:12:01.248Z"
      },
      {
        "duration": 6,
        "start_time": "2022-01-25T16:12:01.273Z"
      },
      {
        "duration": 35,
        "start_time": "2022-01-25T16:12:01.281Z"
      },
      {
        "duration": 6,
        "start_time": "2022-01-25T16:12:01.318Z"
      },
      {
        "duration": 10,
        "start_time": "2022-01-25T16:12:01.327Z"
      },
      {
        "duration": 22,
        "start_time": "2022-01-25T16:12:01.339Z"
      },
      {
        "duration": 12,
        "start_time": "2022-01-25T16:12:01.363Z"
      },
      {
        "duration": 60,
        "start_time": "2022-01-25T16:12:01.377Z"
      },
      {
        "duration": -30,
        "start_time": "2022-01-25T16:12:01.468Z"
      },
      {
        "duration": -33,
        "start_time": "2022-01-25T16:12:01.473Z"
      },
      {
        "duration": -36,
        "start_time": "2022-01-25T16:12:01.477Z"
      },
      {
        "duration": -38,
        "start_time": "2022-01-25T16:12:01.480Z"
      },
      {
        "duration": -41,
        "start_time": "2022-01-25T16:12:01.484Z"
      },
      {
        "duration": -43,
        "start_time": "2022-01-25T16:12:01.487Z"
      },
      {
        "duration": -47,
        "start_time": "2022-01-25T16:12:01.492Z"
      },
      {
        "duration": -57,
        "start_time": "2022-01-25T16:12:01.503Z"
      },
      {
        "duration": -60,
        "start_time": "2022-01-25T16:12:01.507Z"
      },
      {
        "duration": -62,
        "start_time": "2022-01-25T16:12:01.510Z"
      },
      {
        "duration": 19,
        "start_time": "2022-01-25T16:12:22.040Z"
      },
      {
        "duration": 294,
        "start_time": "2022-01-25T16:12:23.301Z"
      },
      {
        "duration": -56,
        "start_time": "2022-01-25T16:12:23.653Z"
      },
      {
        "duration": 8,
        "start_time": "2022-01-25T16:12:23.605Z"
      },
      {
        "duration": 8,
        "start_time": "2022-01-25T16:12:23.757Z"
      },
      {
        "duration": 1078,
        "start_time": "2022-01-25T16:12:37.550Z"
      },
      {
        "duration": 1830,
        "start_time": "2022-01-25T16:12:38.631Z"
      },
      {
        "duration": 52,
        "start_time": "2022-01-25T16:12:40.463Z"
      },
      {
        "duration": 68,
        "start_time": "2022-01-25T16:12:40.517Z"
      },
      {
        "duration": 4,
        "start_time": "2022-01-25T16:12:40.586Z"
      },
      {
        "duration": 62,
        "start_time": "2022-01-25T16:12:40.591Z"
      },
      {
        "duration": 8,
        "start_time": "2022-01-25T16:12:40.654Z"
      },
      {
        "duration": 30,
        "start_time": "2022-01-25T16:12:40.665Z"
      },
      {
        "duration": 33,
        "start_time": "2022-01-25T16:12:40.697Z"
      },
      {
        "duration": 25,
        "start_time": "2022-01-25T16:12:40.732Z"
      },
      {
        "duration": 21,
        "start_time": "2022-01-25T16:12:40.758Z"
      },
      {
        "duration": 32,
        "start_time": "2022-01-25T16:12:40.780Z"
      },
      {
        "duration": 9,
        "start_time": "2022-01-25T16:12:40.814Z"
      },
      {
        "duration": 6,
        "start_time": "2022-01-25T16:12:40.824Z"
      },
      {
        "duration": 9,
        "start_time": "2022-01-25T16:12:40.831Z"
      },
      {
        "duration": 19,
        "start_time": "2022-01-25T16:12:40.841Z"
      },
      {
        "duration": 13,
        "start_time": "2022-01-25T16:12:40.861Z"
      },
      {
        "duration": 50,
        "start_time": "2022-01-25T16:12:40.875Z"
      },
      {
        "duration": 524,
        "start_time": "2022-01-25T16:12:40.927Z"
      },
      {
        "duration": -49,
        "start_time": "2022-01-25T16:12:41.502Z"
      },
      {
        "duration": -51,
        "start_time": "2022-01-25T16:12:41.505Z"
      },
      {
        "duration": -53,
        "start_time": "2022-01-25T16:12:41.508Z"
      },
      {
        "duration": -54,
        "start_time": "2022-01-25T16:12:41.510Z"
      },
      {
        "duration": -55,
        "start_time": "2022-01-25T16:12:41.512Z"
      },
      {
        "duration": -56,
        "start_time": "2022-01-25T16:12:41.514Z"
      },
      {
        "duration": -58,
        "start_time": "2022-01-25T16:12:41.517Z"
      },
      {
        "duration": -59,
        "start_time": "2022-01-25T16:12:41.519Z"
      },
      {
        "duration": 22,
        "start_time": "2022-01-25T16:15:59.356Z"
      },
      {
        "duration": 23,
        "start_time": "2022-01-25T16:16:02.014Z"
      },
      {
        "duration": 14,
        "start_time": "2022-01-25T16:16:25.295Z"
      },
      {
        "duration": 17,
        "start_time": "2022-01-25T16:16:52.832Z"
      },
      {
        "duration": 766,
        "start_time": "2022-01-25T16:16:53.318Z"
      },
      {
        "duration": 1149,
        "start_time": "2022-01-25T16:17:00.112Z"
      },
      {
        "duration": 2321,
        "start_time": "2022-01-25T16:17:16.255Z"
      },
      {
        "duration": 56,
        "start_time": "2022-01-25T16:17:19.580Z"
      },
      {
        "duration": 790,
        "start_time": "2022-01-25T16:17:32.118Z"
      },
      {
        "duration": 61,
        "start_time": "2022-01-25T16:17:32.909Z"
      },
      {
        "duration": 1124,
        "start_time": "2022-01-25T16:17:49.737Z"
      },
      {
        "duration": 866,
        "start_time": "2022-01-25T16:17:51.694Z"
      },
      {
        "duration": 63,
        "start_time": "2022-01-25T16:17:53.693Z"
      },
      {
        "duration": 73,
        "start_time": "2022-01-25T16:18:15.965Z"
      },
      {
        "duration": 34,
        "start_time": "2022-01-25T16:19:42.717Z"
      },
      {
        "duration": 15,
        "start_time": "2022-01-25T16:19:44.231Z"
      },
      {
        "duration": 4,
        "start_time": "2022-01-25T16:19:45.087Z"
      },
      {
        "duration": 52,
        "start_time": "2022-01-25T16:19:48.896Z"
      },
      {
        "duration": 11,
        "start_time": "2022-01-25T16:19:50.319Z"
      },
      {
        "duration": 32,
        "start_time": "2022-01-25T16:19:53.308Z"
      },
      {
        "duration": 30,
        "start_time": "2022-01-25T16:19:58.918Z"
      },
      {
        "duration": 19,
        "start_time": "2022-01-25T16:19:59.668Z"
      },
      {
        "duration": 26,
        "start_time": "2022-01-25T16:20:00.783Z"
      },
      {
        "duration": 22,
        "start_time": "2022-01-25T16:20:03.562Z"
      },
      {
        "duration": 7,
        "start_time": "2022-01-25T16:20:04.167Z"
      },
      {
        "duration": 10,
        "start_time": "2022-01-25T16:20:05.028Z"
      },
      {
        "duration": 6,
        "start_time": "2022-01-25T16:20:06.999Z"
      },
      {
        "duration": 9,
        "start_time": "2022-01-25T16:20:08.726Z"
      },
      {
        "duration": 21,
        "start_time": "2022-01-25T16:20:08.884Z"
      },
      {
        "duration": 7,
        "start_time": "2022-01-25T16:20:15.881Z"
      },
      {
        "duration": 7,
        "start_time": "2022-01-25T16:20:18.775Z"
      },
      {
        "duration": 7,
        "start_time": "2022-01-25T16:20:27.161Z"
      },
      {
        "duration": 23,
        "start_time": "2022-01-25T16:20:29.896Z"
      },
      {
        "duration": 21,
        "start_time": "2022-01-25T16:21:00.535Z"
      },
      {
        "duration": 1153,
        "start_time": "2022-01-25T16:21:23.078Z"
      },
      {
        "duration": 757,
        "start_time": "2022-01-25T16:21:24.234Z"
      },
      {
        "duration": 60,
        "start_time": "2022-01-25T16:21:24.993Z"
      },
      {
        "duration": 92,
        "start_time": "2022-01-25T16:21:25.055Z"
      },
      {
        "duration": 4,
        "start_time": "2022-01-25T16:21:25.149Z"
      },
      {
        "duration": 60,
        "start_time": "2022-01-25T16:21:25.154Z"
      },
      {
        "duration": 11,
        "start_time": "2022-01-25T16:21:25.217Z"
      },
      {
        "duration": 36,
        "start_time": "2022-01-25T16:21:25.232Z"
      },
      {
        "duration": 19,
        "start_time": "2022-01-25T16:21:25.270Z"
      },
      {
        "duration": 58,
        "start_time": "2022-01-25T16:21:25.290Z"
      },
      {
        "duration": 22,
        "start_time": "2022-01-25T16:21:25.349Z"
      },
      {
        "duration": 6,
        "start_time": "2022-01-25T16:21:25.373Z"
      },
      {
        "duration": 32,
        "start_time": "2022-01-25T16:21:25.380Z"
      },
      {
        "duration": 9,
        "start_time": "2022-01-25T16:21:25.414Z"
      },
      {
        "duration": 9,
        "start_time": "2022-01-25T16:21:25.425Z"
      },
      {
        "duration": 21,
        "start_time": "2022-01-25T16:21:25.436Z"
      },
      {
        "duration": 14,
        "start_time": "2022-01-25T16:21:25.459Z"
      },
      {
        "duration": 54,
        "start_time": "2022-01-25T16:21:25.474Z"
      },
      {
        "duration": 307,
        "start_time": "2022-01-25T16:21:25.530Z"
      },
      {
        "duration": -31,
        "start_time": "2022-01-25T16:21:25.870Z"
      },
      {
        "duration": -33,
        "start_time": "2022-01-25T16:21:25.873Z"
      },
      {
        "duration": -34,
        "start_time": "2022-01-25T16:21:25.876Z"
      },
      {
        "duration": -38,
        "start_time": "2022-01-25T16:21:25.882Z"
      },
      {
        "duration": -39,
        "start_time": "2022-01-25T16:21:25.884Z"
      },
      {
        "duration": -40,
        "start_time": "2022-01-25T16:21:25.886Z"
      },
      {
        "duration": -40,
        "start_time": "2022-01-25T16:21:25.888Z"
      },
      {
        "duration": -41,
        "start_time": "2022-01-25T16:21:25.890Z"
      },
      {
        "duration": 22,
        "start_time": "2022-01-25T16:22:10.813Z"
      },
      {
        "duration": 17,
        "start_time": "2022-01-25T16:22:23.887Z"
      },
      {
        "duration": 16,
        "start_time": "2022-01-25T16:23:57.042Z"
      },
      {
        "duration": 1178,
        "start_time": "2022-01-25T16:25:18.906Z"
      },
      {
        "duration": 2068,
        "start_time": "2022-01-25T16:25:20.087Z"
      },
      {
        "duration": 49,
        "start_time": "2022-01-25T16:25:22.157Z"
      },
      {
        "duration": 63,
        "start_time": "2022-01-25T16:25:22.208Z"
      },
      {
        "duration": 4,
        "start_time": "2022-01-25T16:25:22.272Z"
      },
      {
        "duration": 66,
        "start_time": "2022-01-25T16:25:22.278Z"
      },
      {
        "duration": 8,
        "start_time": "2022-01-25T16:25:22.346Z"
      },
      {
        "duration": 17,
        "start_time": "2022-01-25T16:25:22.356Z"
      },
      {
        "duration": 46,
        "start_time": "2022-01-25T16:25:22.375Z"
      },
      {
        "duration": 19,
        "start_time": "2022-01-25T16:25:22.423Z"
      },
      {
        "duration": 25,
        "start_time": "2022-01-25T16:25:22.443Z"
      },
      {
        "duration": 42,
        "start_time": "2022-01-25T16:25:22.470Z"
      },
      {
        "duration": 7,
        "start_time": "2022-01-25T16:25:22.514Z"
      },
      {
        "duration": 10,
        "start_time": "2022-01-25T16:25:22.523Z"
      },
      {
        "duration": 5,
        "start_time": "2022-01-25T16:25:22.535Z"
      },
      {
        "duration": 7,
        "start_time": "2022-01-25T16:25:22.541Z"
      },
      {
        "duration": 20,
        "start_time": "2022-01-25T16:25:22.549Z"
      },
      {
        "duration": 42,
        "start_time": "2022-01-25T16:25:22.571Z"
      },
      {
        "duration": 16,
        "start_time": "2022-01-25T16:25:22.615Z"
      },
      {
        "duration": 1336,
        "start_time": "2022-01-25T16:25:22.632Z"
      },
      {
        "duration": -32,
        "start_time": "2022-01-25T16:25:24.002Z"
      },
      {
        "duration": -33,
        "start_time": "2022-01-25T16:25:24.004Z"
      },
      {
        "duration": -35,
        "start_time": "2022-01-25T16:25:24.007Z"
      },
      {
        "duration": -37,
        "start_time": "2022-01-25T16:25:24.010Z"
      },
      {
        "duration": -38,
        "start_time": "2022-01-25T16:25:24.012Z"
      },
      {
        "duration": -39,
        "start_time": "2022-01-25T16:25:24.014Z"
      },
      {
        "duration": -39,
        "start_time": "2022-01-25T16:25:24.015Z"
      },
      {
        "duration": -40,
        "start_time": "2022-01-25T16:25:24.017Z"
      },
      {
        "duration": 25,
        "start_time": "2022-01-25T16:25:42.227Z"
      },
      {
        "duration": 6,
        "start_time": "2022-01-25T16:26:36.065Z"
      },
      {
        "duration": 1203,
        "start_time": "2022-01-25T16:27:20.250Z"
      },
      {
        "duration": 2732,
        "start_time": "2022-01-25T16:27:21.455Z"
      },
      {
        "duration": 48,
        "start_time": "2022-01-25T16:27:24.189Z"
      },
      {
        "duration": 73,
        "start_time": "2022-01-25T16:27:24.239Z"
      },
      {
        "duration": 3,
        "start_time": "2022-01-25T16:27:24.314Z"
      },
      {
        "duration": 53,
        "start_time": "2022-01-25T16:27:24.319Z"
      },
      {
        "duration": 8,
        "start_time": "2022-01-25T16:27:24.374Z"
      },
      {
        "duration": 34,
        "start_time": "2022-01-25T16:27:24.384Z"
      },
      {
        "duration": 29,
        "start_time": "2022-01-25T16:27:24.420Z"
      },
      {
        "duration": 18,
        "start_time": "2022-01-25T16:27:24.450Z"
      },
      {
        "duration": 46,
        "start_time": "2022-01-25T16:27:24.470Z"
      },
      {
        "duration": 21,
        "start_time": "2022-01-25T16:27:24.517Z"
      },
      {
        "duration": 6,
        "start_time": "2022-01-25T16:27:24.539Z"
      },
      {
        "duration": 9,
        "start_time": "2022-01-25T16:27:24.546Z"
      },
      {
        "duration": 5,
        "start_time": "2022-01-25T16:27:24.557Z"
      },
      {
        "duration": 9,
        "start_time": "2022-01-25T16:27:24.563Z"
      },
      {
        "duration": 16,
        "start_time": "2022-01-25T16:27:24.573Z"
      },
      {
        "duration": 40,
        "start_time": "2022-01-25T16:27:24.591Z"
      },
      {
        "duration": 13,
        "start_time": "2022-01-25T16:27:24.632Z"
      },
      {
        "duration": 19,
        "start_time": "2022-01-25T16:27:24.646Z"
      },
      {
        "duration": 298,
        "start_time": "2022-01-25T16:27:24.666Z"
      },
      {
        "duration": -117,
        "start_time": "2022-01-25T16:27:25.083Z"
      },
      {
        "duration": -122,
        "start_time": "2022-01-25T16:27:25.088Z"
      },
      {
        "duration": -123,
        "start_time": "2022-01-25T16:27:25.090Z"
      },
      {
        "duration": -124,
        "start_time": "2022-01-25T16:27:25.092Z"
      },
      {
        "duration": -125,
        "start_time": "2022-01-25T16:27:25.094Z"
      },
      {
        "duration": -126,
        "start_time": "2022-01-25T16:27:25.096Z"
      },
      {
        "duration": -126,
        "start_time": "2022-01-25T16:27:25.097Z"
      },
      {
        "duration": -127,
        "start_time": "2022-01-25T16:27:25.099Z"
      },
      {
        "duration": 7,
        "start_time": "2022-01-25T16:28:31.755Z"
      },
      {
        "duration": 1035,
        "start_time": "2022-01-25T16:28:43.139Z"
      },
      {
        "duration": 680,
        "start_time": "2022-01-25T16:28:44.176Z"
      },
      {
        "duration": 51,
        "start_time": "2022-01-25T16:32:22.816Z"
      },
      {
        "duration": 64,
        "start_time": "2022-01-25T16:32:26.416Z"
      },
      {
        "duration": 4,
        "start_time": "2022-01-25T16:32:27.383Z"
      },
      {
        "duration": 4,
        "start_time": "2022-01-25T16:32:33.980Z"
      },
      {
        "duration": 49,
        "start_time": "2022-01-25T16:32:34.893Z"
      },
      {
        "duration": 8,
        "start_time": "2022-01-25T16:32:38.991Z"
      },
      {
        "duration": 15,
        "start_time": "2022-01-25T16:32:43.530Z"
      },
      {
        "duration": 20,
        "start_time": "2022-01-25T16:32:56.826Z"
      },
      {
        "duration": 14,
        "start_time": "2022-01-25T16:33:00.155Z"
      },
      {
        "duration": 26,
        "start_time": "2022-01-25T16:33:02.135Z"
      },
      {
        "duration": 21,
        "start_time": "2022-01-25T16:33:04.875Z"
      },
      {
        "duration": 23,
        "start_time": "2022-01-25T16:33:10.797Z"
      },
      {
        "duration": 19,
        "start_time": "2022-01-25T16:33:13.487Z"
      },
      {
        "duration": 15,
        "start_time": "2022-01-25T16:33:15.864Z"
      },
      {
        "duration": 18,
        "start_time": "2022-01-25T16:33:19.017Z"
      },
      {
        "duration": 28,
        "start_time": "2022-01-25T16:33:21.974Z"
      },
      {
        "duration": 24,
        "start_time": "2022-01-25T16:33:25.434Z"
      },
      {
        "duration": 25,
        "start_time": "2022-01-25T16:33:34.315Z"
      },
      {
        "duration": 22,
        "start_time": "2022-01-25T16:33:42.332Z"
      },
      {
        "duration": 7,
        "start_time": "2022-01-25T16:33:42.662Z"
      },
      {
        "duration": 19,
        "start_time": "2022-01-25T16:35:01.192Z"
      },
      {
        "duration": 7,
        "start_time": "2022-01-25T16:35:02.796Z"
      },
      {
        "duration": 6,
        "start_time": "2022-01-25T16:35:09.958Z"
      },
      {
        "duration": 4,
        "start_time": "2022-01-25T16:35:21.508Z"
      },
      {
        "duration": 18,
        "start_time": "2022-01-25T16:35:35.954Z"
      },
      {
        "duration": 8,
        "start_time": "2022-01-25T16:35:37.187Z"
      },
      {
        "duration": 5,
        "start_time": "2022-01-25T16:35:38.249Z"
      },
      {
        "duration": 18,
        "start_time": "2022-01-25T16:35:49.013Z"
      },
      {
        "duration": 8,
        "start_time": "2022-01-25T16:35:50.103Z"
      },
      {
        "duration": 5,
        "start_time": "2022-01-25T16:35:51.079Z"
      },
      {
        "duration": 20,
        "start_time": "2022-01-25T16:35:59.414Z"
      },
      {
        "duration": 7,
        "start_time": "2022-01-25T16:35:59.823Z"
      },
      {
        "duration": 4,
        "start_time": "2022-01-25T16:36:00.875Z"
      },
      {
        "duration": 21,
        "start_time": "2022-01-25T16:36:03.797Z"
      },
      {
        "duration": 6,
        "start_time": "2022-01-25T16:36:04.041Z"
      },
      {
        "duration": 4,
        "start_time": "2022-01-25T16:36:05.550Z"
      },
      {
        "duration": 20,
        "start_time": "2022-01-25T16:36:09.424Z"
      },
      {
        "duration": 7,
        "start_time": "2022-01-25T16:36:09.776Z"
      },
      {
        "duration": 4,
        "start_time": "2022-01-25T16:36:10.963Z"
      },
      {
        "duration": 21,
        "start_time": "2022-01-25T16:36:18.162Z"
      },
      {
        "duration": 7,
        "start_time": "2022-01-25T16:36:18.623Z"
      },
      {
        "duration": 5,
        "start_time": "2022-01-25T16:36:20.109Z"
      },
      {
        "duration": 23,
        "start_time": "2022-01-25T16:36:25.962Z"
      },
      {
        "duration": 7,
        "start_time": "2022-01-25T16:36:26.245Z"
      },
      {
        "duration": 4,
        "start_time": "2022-01-25T16:36:26.546Z"
      },
      {
        "duration": 19,
        "start_time": "2022-01-25T16:37:35.209Z"
      },
      {
        "duration": 8,
        "start_time": "2022-01-25T16:37:38.292Z"
      },
      {
        "duration": 8,
        "start_time": "2022-01-25T16:37:41.512Z"
      },
      {
        "duration": 11,
        "start_time": "2022-01-25T16:37:43.150Z"
      },
      {
        "duration": 6,
        "start_time": "2022-01-25T16:37:45.538Z"
      },
      {
        "duration": 8,
        "start_time": "2022-01-25T16:37:47.160Z"
      },
      {
        "duration": 6,
        "start_time": "2022-01-25T16:37:55.708Z"
      },
      {
        "duration": 10,
        "start_time": "2022-01-25T16:38:00.933Z"
      },
      {
        "duration": 19,
        "start_time": "2022-01-25T16:38:01.276Z"
      },
      {
        "duration": 14,
        "start_time": "2022-01-25T16:38:08.165Z"
      },
      {
        "duration": 20,
        "start_time": "2022-01-25T16:38:15.521Z"
      },
      {
        "duration": 7,
        "start_time": "2022-01-25T16:38:43.025Z"
      },
      {
        "duration": 282,
        "start_time": "2022-01-25T16:38:54.974Z"
      },
      {
        "duration": 16,
        "start_time": "2022-01-25T16:39:32.756Z"
      },
      {
        "duration": 20,
        "start_time": "2022-01-25T16:39:43.381Z"
      },
      {
        "duration": 23,
        "start_time": "2022-01-25T16:39:53.810Z"
      },
      {
        "duration": 14,
        "start_time": "2022-01-25T16:40:12.244Z"
      },
      {
        "duration": 23,
        "start_time": "2022-01-25T16:40:45.506Z"
      },
      {
        "duration": 22,
        "start_time": "2022-01-25T16:40:48.806Z"
      },
      {
        "duration": 16,
        "start_time": "2022-01-25T16:41:00.265Z"
      },
      {
        "duration": 26,
        "start_time": "2022-01-25T16:41:04.897Z"
      },
      {
        "duration": 15,
        "start_time": "2022-01-25T16:41:18.497Z"
      },
      {
        "duration": 20,
        "start_time": "2022-01-25T16:41:38.742Z"
      },
      {
        "duration": 8,
        "start_time": "2022-01-25T16:41:39.214Z"
      },
      {
        "duration": 17,
        "start_time": "2022-01-25T16:41:40.422Z"
      },
      {
        "duration": 19,
        "start_time": "2022-01-25T16:41:59.861Z"
      },
      {
        "duration": 514,
        "start_time": "2022-01-25T16:42:00.304Z"
      },
      {
        "duration": 17,
        "start_time": "2022-01-25T16:42:01.888Z"
      },
      {
        "duration": 20,
        "start_time": "2022-01-25T16:42:25.027Z"
      },
      {
        "duration": 7,
        "start_time": "2022-01-25T16:42:25.270Z"
      },
      {
        "duration": 11,
        "start_time": "2022-01-25T16:42:26.273Z"
      },
      {
        "duration": 21,
        "start_time": "2022-01-25T16:42:35.296Z"
      },
      {
        "duration": 6,
        "start_time": "2022-01-25T16:42:35.646Z"
      },
      {
        "duration": 16,
        "start_time": "2022-01-25T16:42:36.563Z"
      },
      {
        "duration": 19,
        "start_time": "2022-01-25T16:42:51.381Z"
      },
      {
        "duration": 7,
        "start_time": "2022-01-25T16:42:51.750Z"
      },
      {
        "duration": 11,
        "start_time": "2022-01-25T16:42:52.780Z"
      },
      {
        "duration": 19,
        "start_time": "2022-01-25T16:42:59.097Z"
      },
      {
        "duration": 7,
        "start_time": "2022-01-25T16:42:59.533Z"
      },
      {
        "duration": 11,
        "start_time": "2022-01-25T16:43:00.385Z"
      },
      {
        "duration": 47,
        "start_time": "2022-01-25T16:43:34.553Z"
      },
      {
        "duration": 24,
        "start_time": "2022-01-25T16:44:05.008Z"
      },
      {
        "duration": 22,
        "start_time": "2022-01-25T16:44:08.782Z"
      },
      {
        "duration": 17,
        "start_time": "2022-01-25T16:44:12.568Z"
      },
      {
        "duration": 64,
        "start_time": "2022-01-25T16:44:53.460Z"
      },
      {
        "duration": 9,
        "start_time": "2022-01-25T16:44:56.091Z"
      },
      {
        "duration": 26,
        "start_time": "2022-01-25T16:45:07.331Z"
      },
      {
        "duration": 25,
        "start_time": "2022-01-25T16:45:10.890Z"
      },
      {
        "duration": 20,
        "start_time": "2022-01-25T16:45:33.939Z"
      },
      {
        "duration": 7,
        "start_time": "2022-01-25T16:45:35.059Z"
      },
      {
        "duration": 12,
        "start_time": "2022-01-25T16:45:38.952Z"
      },
      {
        "duration": 89,
        "start_time": "2022-01-25T16:45:47.778Z"
      },
      {
        "duration": 71,
        "start_time": "2022-01-25T16:45:48.700Z"
      },
      {
        "duration": 21,
        "start_time": "2022-01-25T16:45:49.830Z"
      },
      {
        "duration": 22,
        "start_time": "2022-01-25T16:46:06.375Z"
      },
      {
        "duration": 24,
        "start_time": "2022-01-25T16:46:13.090Z"
      },
      {
        "duration": 202,
        "start_time": "2022-01-25T16:46:20.194Z"
      },
      {
        "duration": 20,
        "start_time": "2022-01-25T16:46:45.984Z"
      },
      {
        "duration": 7,
        "start_time": "2022-01-25T16:46:46.445Z"
      },
      {
        "duration": 24,
        "start_time": "2022-01-25T16:46:47.729Z"
      },
      {
        "duration": 203,
        "start_time": "2022-01-25T16:48:09.783Z"
      },
      {
        "duration": 57,
        "start_time": "2022-01-25T16:49:42.090Z"
      },
      {
        "duration": 199,
        "start_time": "2022-01-25T16:49:48.889Z"
      },
      {
        "duration": 30,
        "start_time": "2022-01-25T16:49:55.235Z"
      },
      {
        "duration": 209,
        "start_time": "2022-01-25T16:49:56.581Z"
      },
      {
        "duration": 1156,
        "start_time": "2022-01-25T16:50:02.098Z"
      },
      {
        "duration": 4201,
        "start_time": "2022-01-25T16:50:03.256Z"
      },
      {
        "duration": 60,
        "start_time": "2022-01-25T16:50:07.460Z"
      },
      {
        "duration": 63,
        "start_time": "2022-01-25T16:50:07.522Z"
      },
      {
        "duration": 4,
        "start_time": "2022-01-25T16:50:07.586Z"
      },
      {
        "duration": 61,
        "start_time": "2022-01-25T16:50:07.592Z"
      },
      {
        "duration": 8,
        "start_time": "2022-01-25T16:50:07.655Z"
      },
      {
        "duration": 48,
        "start_time": "2022-01-25T16:50:07.665Z"
      },
      {
        "duration": 20,
        "start_time": "2022-01-25T16:50:07.715Z"
      },
      {
        "duration": 26,
        "start_time": "2022-01-25T16:50:07.736Z"
      },
      {
        "duration": 289,
        "start_time": "2022-01-25T16:50:07.764Z"
      },
      {
        "duration": -66,
        "start_time": "2022-01-25T16:50:08.122Z"
      },
      {
        "duration": -68,
        "start_time": "2022-01-25T16:50:08.125Z"
      },
      {
        "duration": -69,
        "start_time": "2022-01-25T16:50:08.127Z"
      },
      {
        "duration": -70,
        "start_time": "2022-01-25T16:50:08.130Z"
      },
      {
        "duration": -71,
        "start_time": "2022-01-25T16:50:08.132Z"
      },
      {
        "duration": -73,
        "start_time": "2022-01-25T16:50:08.135Z"
      },
      {
        "duration": -73,
        "start_time": "2022-01-25T16:50:08.136Z"
      },
      {
        "duration": -80,
        "start_time": "2022-01-25T16:50:08.144Z"
      },
      {
        "duration": -81,
        "start_time": "2022-01-25T16:50:08.146Z"
      },
      {
        "duration": -82,
        "start_time": "2022-01-25T16:50:08.148Z"
      },
      {
        "duration": -83,
        "start_time": "2022-01-25T16:50:08.150Z"
      },
      {
        "duration": -84,
        "start_time": "2022-01-25T16:50:08.152Z"
      },
      {
        "duration": -85,
        "start_time": "2022-01-25T16:50:08.154Z"
      },
      {
        "duration": -86,
        "start_time": "2022-01-25T16:50:08.156Z"
      },
      {
        "duration": -87,
        "start_time": "2022-01-25T16:50:08.158Z"
      },
      {
        "duration": -87,
        "start_time": "2022-01-25T16:50:08.159Z"
      },
      {
        "duration": -88,
        "start_time": "2022-01-25T16:50:08.161Z"
      },
      {
        "duration": -89,
        "start_time": "2022-01-25T16:50:08.163Z"
      },
      {
        "duration": -89,
        "start_time": "2022-01-25T16:50:08.164Z"
      },
      {
        "duration": 22,
        "start_time": "2022-01-25T16:51:30.057Z"
      },
      {
        "duration": 7,
        "start_time": "2022-01-25T16:51:32.135Z"
      },
      {
        "duration": 19,
        "start_time": "2022-01-25T16:51:37.296Z"
      },
      {
        "duration": 206,
        "start_time": "2022-01-25T16:58:12.665Z"
      },
      {
        "duration": 225,
        "start_time": "2022-01-25T16:58:23.806Z"
      },
      {
        "duration": 5473,
        "start_time": "2022-01-25T16:58:47.918Z"
      },
      {
        "duration": 29,
        "start_time": "2022-01-25T16:58:55.579Z"
      },
      {
        "duration": 30,
        "start_time": "2022-01-25T16:59:23.885Z"
      },
      {
        "duration": 21,
        "start_time": "2022-01-25T17:00:15.285Z"
      },
      {
        "duration": 31,
        "start_time": "2022-01-25T17:00:19.696Z"
      },
      {
        "duration": 24,
        "start_time": "2022-01-25T17:00:32.861Z"
      },
      {
        "duration": 805,
        "start_time": "2022-01-25T17:00:41.968Z"
      },
      {
        "duration": 31,
        "start_time": "2022-01-25T17:00:56.867Z"
      },
      {
        "duration": 27,
        "start_time": "2022-01-25T17:01:03.216Z"
      },
      {
        "duration": 30,
        "start_time": "2022-01-25T17:01:08.100Z"
      },
      {
        "duration": 25,
        "start_time": "2022-01-25T17:01:14.112Z"
      },
      {
        "duration": 28,
        "start_time": "2022-01-25T17:01:41.204Z"
      },
      {
        "duration": 26,
        "start_time": "2022-01-25T17:01:45.129Z"
      },
      {
        "duration": 27,
        "start_time": "2022-01-25T17:01:47.177Z"
      },
      {
        "duration": 45,
        "start_time": "2022-01-25T17:02:24.273Z"
      },
      {
        "duration": 8,
        "start_time": "2022-01-25T17:02:28.313Z"
      },
      {
        "duration": 61,
        "start_time": "2022-01-25T17:03:04.190Z"
      },
      {
        "duration": 11,
        "start_time": "2022-01-25T17:03:06.468Z"
      },
      {
        "duration": 94,
        "start_time": "2022-01-25T17:03:43.549Z"
      },
      {
        "duration": 16,
        "start_time": "2022-01-25T17:03:49.155Z"
      },
      {
        "duration": 16,
        "start_time": "2022-01-25T17:03:51.255Z"
      },
      {
        "duration": 87,
        "start_time": "2022-01-25T17:04:19.232Z"
      },
      {
        "duration": 85,
        "start_time": "2022-01-25T17:04:39.480Z"
      },
      {
        "duration": 16,
        "start_time": "2022-01-25T17:04:42.284Z"
      },
      {
        "duration": 96,
        "start_time": "2022-01-25T17:04:51.468Z"
      },
      {
        "duration": 40,
        "start_time": "2022-01-25T17:07:03.433Z"
      },
      {
        "duration": 32,
        "start_time": "2022-01-25T17:07:19.690Z"
      },
      {
        "duration": 47,
        "start_time": "2022-01-25T17:07:25.578Z"
      },
      {
        "duration": 31,
        "start_time": "2022-01-25T17:07:29.464Z"
      },
      {
        "duration": 43,
        "start_time": "2022-01-25T17:07:55.416Z"
      },
      {
        "duration": 27,
        "start_time": "2022-01-25T17:07:59.584Z"
      },
      {
        "duration": 16,
        "start_time": "2022-01-25T17:08:47.184Z"
      },
      {
        "duration": 34,
        "start_time": "2022-01-25T17:09:19.160Z"
      },
      {
        "duration": 17,
        "start_time": "2022-01-25T17:09:30.472Z"
      },
      {
        "duration": 184,
        "start_time": "2022-01-25T17:10:01.471Z"
      },
      {
        "duration": 202,
        "start_time": "2022-01-25T17:10:05.919Z"
      },
      {
        "duration": 192,
        "start_time": "2022-01-25T17:10:10.263Z"
      },
      {
        "duration": 7,
        "start_time": "2022-01-25T17:10:24.185Z"
      },
      {
        "duration": 7,
        "start_time": "2022-01-25T17:10:26.506Z"
      },
      {
        "duration": 23,
        "start_time": "2022-01-25T17:10:41.952Z"
      },
      {
        "duration": 9,
        "start_time": "2022-01-25T17:10:42.702Z"
      },
      {
        "duration": 19,
        "start_time": "2022-01-25T17:10:55.601Z"
      },
      {
        "duration": 22,
        "start_time": "2022-01-25T17:13:53.254Z"
      },
      {
        "duration": 8,
        "start_time": "2022-01-25T17:13:53.680Z"
      },
      {
        "duration": 16,
        "start_time": "2022-01-25T17:13:54.929Z"
      },
      {
        "duration": 21,
        "start_time": "2022-01-25T17:44:02.028Z"
      },
      {
        "duration": 7,
        "start_time": "2022-01-25T17:44:03.513Z"
      },
      {
        "duration": 17,
        "start_time": "2022-01-25T17:44:04.380Z"
      },
      {
        "duration": 21,
        "start_time": "2022-01-25T17:44:18.272Z"
      },
      {
        "duration": 7,
        "start_time": "2022-01-25T17:44:18.736Z"
      },
      {
        "duration": 11,
        "start_time": "2022-01-25T17:44:19.283Z"
      },
      {
        "duration": 21,
        "start_time": "2022-01-25T17:44:29.151Z"
      },
      {
        "duration": 8,
        "start_time": "2022-01-25T17:44:29.748Z"
      },
      {
        "duration": 16,
        "start_time": "2022-01-25T17:44:30.639Z"
      },
      {
        "duration": 4,
        "start_time": "2022-01-25T17:48:54.326Z"
      },
      {
        "duration": 36,
        "start_time": "2022-01-25T17:49:16.073Z"
      },
      {
        "duration": 21,
        "start_time": "2022-01-25T17:49:17.130Z"
      },
      {
        "duration": 30,
        "start_time": "2022-01-25T17:49:22.121Z"
      },
      {
        "duration": 7,
        "start_time": "2022-01-25T17:49:25.709Z"
      },
      {
        "duration": 20,
        "start_time": "2022-01-25T17:50:10.153Z"
      },
      {
        "duration": 34,
        "start_time": "2022-01-25T17:50:51.118Z"
      },
      {
        "duration": 19,
        "start_time": "2022-01-25T17:50:51.524Z"
      },
      {
        "duration": 5648,
        "start_time": "2022-01-25T17:52:35.380Z"
      },
      {
        "duration": 204,
        "start_time": "2022-01-25T17:52:41.131Z"
      },
      {
        "duration": 6,
        "start_time": "2022-01-25T17:53:01.758Z"
      },
      {
        "duration": 9,
        "start_time": "2022-01-25T17:53:02.721Z"
      },
      {
        "duration": 7,
        "start_time": "2022-01-25T17:53:03.825Z"
      },
      {
        "duration": 10,
        "start_time": "2022-01-25T17:53:04.391Z"
      },
      {
        "duration": 17,
        "start_time": "2022-01-25T17:53:04.792Z"
      },
      {
        "duration": 22,
        "start_time": "2022-01-25T17:53:12.408Z"
      },
      {
        "duration": 7,
        "start_time": "2022-01-25T17:53:22.382Z"
      },
      {
        "duration": 19,
        "start_time": "2022-01-25T17:53:25.566Z"
      },
      {
        "duration": 8,
        "start_time": "2022-01-25T17:53:42.476Z"
      },
      {
        "duration": 202,
        "start_time": "2022-01-25T17:54:16.063Z"
      },
      {
        "duration": 206,
        "start_time": "2022-01-25T17:54:16.353Z"
      },
      {
        "duration": 207,
        "start_time": "2022-01-25T17:54:18.930Z"
      },
      {
        "duration": 1214,
        "start_time": "2022-01-25T17:54:21.822Z"
      },
      {
        "duration": -70,
        "start_time": "2022-01-25T17:54:23.109Z"
      },
      {
        "duration": 39,
        "start_time": "2022-01-25T17:54:25.736Z"
      },
      {
        "duration": 6,
        "start_time": "2022-01-25T17:54:26.310Z"
      },
      {
        "duration": 11,
        "start_time": "2022-01-25T17:54:26.889Z"
      },
      {
        "duration": 6,
        "start_time": "2022-01-25T17:54:27.578Z"
      },
      {
        "duration": 11,
        "start_time": "2022-01-25T17:54:28.061Z"
      },
      {
        "duration": 9,
        "start_time": "2022-01-25T17:54:29.365Z"
      },
      {
        "duration": 1930,
        "start_time": "2022-01-25T17:56:18.733Z"
      },
      {
        "duration": 1199,
        "start_time": "2022-01-25T17:56:23.385Z"
      },
      {
        "duration": 1045,
        "start_time": "2022-01-25T17:56:24.586Z"
      },
      {
        "duration": 51,
        "start_time": "2022-01-25T17:56:25.633Z"
      },
      {
        "duration": 5,
        "start_time": "2022-01-25T17:56:25.686Z"
      },
      {
        "duration": 10,
        "start_time": "2022-01-25T17:56:25.693Z"
      },
      {
        "duration": 304,
        "start_time": "2022-01-25T17:56:25.712Z"
      },
      {
        "duration": -73,
        "start_time": "2022-01-25T17:56:26.092Z"
      },
      {
        "duration": -75,
        "start_time": "2022-01-25T17:56:26.095Z"
      },
      {
        "duration": -77,
        "start_time": "2022-01-25T17:56:26.098Z"
      },
      {
        "duration": -78,
        "start_time": "2022-01-25T17:56:26.100Z"
      },
      {
        "duration": -80,
        "start_time": "2022-01-25T17:56:26.103Z"
      },
      {
        "duration": -81,
        "start_time": "2022-01-25T17:56:26.105Z"
      },
      {
        "duration": -82,
        "start_time": "2022-01-25T17:56:26.107Z"
      },
      {
        "duration": -88,
        "start_time": "2022-01-25T17:56:26.114Z"
      },
      {
        "duration": -89,
        "start_time": "2022-01-25T17:56:26.116Z"
      },
      {
        "duration": -90,
        "start_time": "2022-01-25T17:56:26.118Z"
      },
      {
        "duration": -91,
        "start_time": "2022-01-25T17:56:26.120Z"
      },
      {
        "duration": -92,
        "start_time": "2022-01-25T17:56:26.122Z"
      },
      {
        "duration": -94,
        "start_time": "2022-01-25T17:56:26.124Z"
      },
      {
        "duration": -94,
        "start_time": "2022-01-25T17:56:26.125Z"
      },
      {
        "duration": -95,
        "start_time": "2022-01-25T17:56:26.127Z"
      },
      {
        "duration": -101,
        "start_time": "2022-01-25T17:56:26.134Z"
      },
      {
        "duration": -103,
        "start_time": "2022-01-25T17:56:26.137Z"
      },
      {
        "duration": -103,
        "start_time": "2022-01-25T17:56:26.139Z"
      },
      {
        "duration": -104,
        "start_time": "2022-01-25T17:56:26.141Z"
      },
      {
        "duration": -109,
        "start_time": "2022-01-25T17:56:26.147Z"
      },
      {
        "duration": -111,
        "start_time": "2022-01-25T17:56:26.150Z"
      },
      {
        "duration": 1106,
        "start_time": "2022-01-25T17:57:18.169Z"
      },
      {
        "duration": 751,
        "start_time": "2022-01-25T17:57:19.277Z"
      },
      {
        "duration": 51,
        "start_time": "2022-01-25T17:57:20.029Z"
      },
      {
        "duration": 312,
        "start_time": "2022-01-25T17:57:20.082Z"
      },
      {
        "duration": 3,
        "start_time": "2022-01-25T17:57:20.393Z"
      },
      {
        "duration": -3,
        "start_time": "2022-01-25T17:57:20.400Z"
      },
      {
        "duration": -30,
        "start_time": "2022-01-25T17:57:20.428Z"
      },
      {
        "duration": -32,
        "start_time": "2022-01-25T17:57:20.431Z"
      },
      {
        "duration": -32,
        "start_time": "2022-01-25T17:57:20.433Z"
      },
      {
        "duration": -35,
        "start_time": "2022-01-25T17:57:20.437Z"
      },
      {
        "duration": -40,
        "start_time": "2022-01-25T17:57:20.443Z"
      },
      {
        "duration": -55,
        "start_time": "2022-01-25T17:57:20.459Z"
      },
      {
        "duration": -59,
        "start_time": "2022-01-25T17:57:20.464Z"
      },
      {
        "duration": -62,
        "start_time": "2022-01-25T17:57:20.468Z"
      },
      {
        "duration": -81,
        "start_time": "2022-01-25T17:57:20.488Z"
      },
      {
        "duration": -86,
        "start_time": "2022-01-25T17:57:20.494Z"
      },
      {
        "duration": -88,
        "start_time": "2022-01-25T17:57:20.497Z"
      },
      {
        "duration": -90,
        "start_time": "2022-01-25T17:57:20.500Z"
      },
      {
        "duration": -92,
        "start_time": "2022-01-25T17:57:20.503Z"
      },
      {
        "duration": -95,
        "start_time": "2022-01-25T17:57:20.507Z"
      },
      {
        "duration": -98,
        "start_time": "2022-01-25T17:57:20.511Z"
      },
      {
        "duration": -107,
        "start_time": "2022-01-25T17:57:20.521Z"
      },
      {
        "duration": -115,
        "start_time": "2022-01-25T17:57:20.530Z"
      },
      {
        "duration": -130,
        "start_time": "2022-01-25T17:57:20.547Z"
      },
      {
        "duration": -132,
        "start_time": "2022-01-25T17:57:20.550Z"
      },
      {
        "duration": -135,
        "start_time": "2022-01-25T17:57:20.554Z"
      },
      {
        "duration": -137,
        "start_time": "2022-01-25T17:57:20.557Z"
      },
      {
        "duration": 69,
        "start_time": "2022-01-25T17:57:29.541Z"
      },
      {
        "duration": 4,
        "start_time": "2022-01-25T17:57:30.970Z"
      },
      {
        "duration": 9,
        "start_time": "2022-01-25T17:57:32.519Z"
      },
      {
        "duration": 51,
        "start_time": "2022-01-25T17:57:33.965Z"
      },
      {
        "duration": 33,
        "start_time": "2022-01-25T17:57:34.649Z"
      },
      {
        "duration": 34,
        "start_time": "2022-01-25T17:57:35.283Z"
      },
      {
        "duration": 18,
        "start_time": "2022-01-25T17:57:36.237Z"
      },
      {
        "duration": 38,
        "start_time": "2022-01-25T17:57:37.295Z"
      },
      {
        "duration": 7,
        "start_time": "2022-01-25T17:57:37.924Z"
      },
      {
        "duration": 10,
        "start_time": "2022-01-25T17:57:38.730Z"
      },
      {
        "duration": 6,
        "start_time": "2022-01-25T17:57:39.965Z"
      },
      {
        "duration": 206,
        "start_time": "2022-01-25T17:57:40.344Z"
      },
      {
        "duration": 9,
        "start_time": "2022-01-25T17:57:40.721Z"
      },
      {
        "duration": 192,
        "start_time": "2022-01-25T17:58:10.741Z"
      },
      {
        "duration": 1132,
        "start_time": "2022-01-25T17:58:24.446Z"
      },
      {
        "duration": 1800,
        "start_time": "2022-01-25T17:58:25.580Z"
      },
      {
        "duration": 52,
        "start_time": "2022-01-25T17:58:27.384Z"
      },
      {
        "duration": 64,
        "start_time": "2022-01-25T17:58:27.438Z"
      },
      {
        "duration": 9,
        "start_time": "2022-01-25T17:58:27.504Z"
      },
      {
        "duration": 10,
        "start_time": "2022-01-25T17:58:27.515Z"
      },
      {
        "duration": 54,
        "start_time": "2022-01-25T17:58:27.527Z"
      },
      {
        "duration": 50,
        "start_time": "2022-01-25T17:58:27.584Z"
      },
      {
        "duration": 36,
        "start_time": "2022-01-25T17:58:27.636Z"
      },
      {
        "duration": 16,
        "start_time": "2022-01-25T17:58:27.674Z"
      },
      {
        "duration": 60,
        "start_time": "2022-01-25T17:58:27.691Z"
      },
      {
        "duration": 7,
        "start_time": "2022-01-25T17:58:27.752Z"
      },
      {
        "duration": 8,
        "start_time": "2022-01-25T17:58:27.761Z"
      },
      {
        "duration": 5,
        "start_time": "2022-01-25T17:58:27.771Z"
      },
      {
        "duration": 2450,
        "start_time": "2022-01-25T17:58:27.778Z"
      },
      {
        "duration": -87,
        "start_time": "2022-01-25T17:58:30.317Z"
      },
      {
        "duration": -89,
        "start_time": "2022-01-25T17:58:30.320Z"
      },
      {
        "duration": -90,
        "start_time": "2022-01-25T17:58:30.322Z"
      },
      {
        "duration": -90,
        "start_time": "2022-01-25T17:58:30.324Z"
      },
      {
        "duration": -91,
        "start_time": "2022-01-25T17:58:30.326Z"
      },
      {
        "duration": -92,
        "start_time": "2022-01-25T17:58:30.328Z"
      },
      {
        "duration": -93,
        "start_time": "2022-01-25T17:58:30.330Z"
      },
      {
        "duration": -93,
        "start_time": "2022-01-25T17:58:30.331Z"
      },
      {
        "duration": -94,
        "start_time": "2022-01-25T17:58:30.333Z"
      },
      {
        "duration": -94,
        "start_time": "2022-01-25T17:58:30.334Z"
      },
      {
        "duration": -95,
        "start_time": "2022-01-25T17:58:30.336Z"
      },
      {
        "duration": -96,
        "start_time": "2022-01-25T17:58:30.338Z"
      },
      {
        "duration": 2726,
        "start_time": "2022-01-25T17:58:44.699Z"
      },
      {
        "duration": 6,
        "start_time": "2022-01-25T17:58:56.068Z"
      },
      {
        "duration": 7,
        "start_time": "2022-01-25T17:59:00.910Z"
      },
      {
        "duration": 1037,
        "start_time": "2022-01-25T17:59:54.229Z"
      },
      {
        "duration": 3270,
        "start_time": "2022-01-25T17:59:55.268Z"
      },
      {
        "duration": 89,
        "start_time": "2022-01-25T17:59:58.540Z"
      },
      {
        "duration": 120,
        "start_time": "2022-01-25T17:59:58.631Z"
      },
      {
        "duration": 3,
        "start_time": "2022-01-25T17:59:58.753Z"
      },
      {
        "duration": 59,
        "start_time": "2022-01-25T17:59:58.757Z"
      },
      {
        "duration": 48,
        "start_time": "2022-01-25T17:59:58.818Z"
      },
      {
        "duration": 58,
        "start_time": "2022-01-25T17:59:58.868Z"
      },
      {
        "duration": 33,
        "start_time": "2022-01-25T17:59:58.928Z"
      },
      {
        "duration": 15,
        "start_time": "2022-01-25T17:59:58.962Z"
      },
      {
        "duration": 2065,
        "start_time": "2022-01-25T17:59:58.979Z"
      },
      {
        "duration": 3,
        "start_time": "2022-01-25T18:00:01.044Z"
      },
      {
        "duration": 3,
        "start_time": "2022-01-25T18:00:01.045Z"
      },
      {
        "duration": 2,
        "start_time": "2022-01-25T18:00:01.047Z"
      },
      {
        "duration": 1,
        "start_time": "2022-01-25T18:00:01.048Z"
      },
      {
        "duration": -10,
        "start_time": "2022-01-25T18:00:01.060Z"
      },
      {
        "duration": -11,
        "start_time": "2022-01-25T18:00:01.062Z"
      },
      {
        "duration": -11,
        "start_time": "2022-01-25T18:00:01.064Z"
      },
      {
        "duration": -13,
        "start_time": "2022-01-25T18:00:01.066Z"
      },
      {
        "duration": -18,
        "start_time": "2022-01-25T18:00:01.072Z"
      },
      {
        "duration": -20,
        "start_time": "2022-01-25T18:00:01.075Z"
      },
      {
        "duration": -20,
        "start_time": "2022-01-25T18:00:01.076Z"
      },
      {
        "duration": -21,
        "start_time": "2022-01-25T18:00:01.078Z"
      },
      {
        "duration": -21,
        "start_time": "2022-01-25T18:00:01.079Z"
      },
      {
        "duration": -22,
        "start_time": "2022-01-25T18:00:01.081Z"
      },
      {
        "duration": -22,
        "start_time": "2022-01-25T18:00:01.082Z"
      },
      {
        "duration": -23,
        "start_time": "2022-01-25T18:00:01.084Z"
      },
      {
        "duration": 41,
        "start_time": "2022-01-25T18:00:14.859Z"
      },
      {
        "duration": 2133,
        "start_time": "2022-01-25T18:00:21.992Z"
      },
      {
        "duration": 20,
        "start_time": "2022-01-25T18:00:41.753Z"
      },
      {
        "duration": 26,
        "start_time": "2022-01-25T18:00:47.830Z"
      },
      {
        "duration": 5,
        "start_time": "2022-01-25T18:00:53.026Z"
      },
      {
        "duration": 1169,
        "start_time": "2022-01-25T18:01:09.896Z"
      },
      {
        "duration": 710,
        "start_time": "2022-01-25T18:01:11.067Z"
      },
      {
        "duration": 50,
        "start_time": "2022-01-25T18:01:11.778Z"
      },
      {
        "duration": 62,
        "start_time": "2022-01-25T18:01:11.830Z"
      },
      {
        "duration": 3,
        "start_time": "2022-01-25T18:01:11.893Z"
      },
      {
        "duration": 8,
        "start_time": "2022-01-25T18:01:11.912Z"
      },
      {
        "duration": 51,
        "start_time": "2022-01-25T18:01:11.921Z"
      },
      {
        "duration": 45,
        "start_time": "2022-01-25T18:01:11.974Z"
      },
      {
        "duration": 33,
        "start_time": "2022-01-25T18:01:12.022Z"
      },
      {
        "duration": 15,
        "start_time": "2022-01-25T18:01:12.056Z"
      },
      {
        "duration": 45,
        "start_time": "2022-01-25T18:01:12.072Z"
      },
      {
        "duration": 5,
        "start_time": "2022-01-25T18:01:12.119Z"
      },
      {
        "duration": 268,
        "start_time": "2022-01-25T18:01:12.125Z"
      },
      {
        "duration": -38,
        "start_time": "2022-01-25T18:01:12.433Z"
      },
      {
        "duration": -39,
        "start_time": "2022-01-25T18:01:12.435Z"
      },
      {
        "duration": -41,
        "start_time": "2022-01-25T18:01:12.438Z"
      },
      {
        "duration": -42,
        "start_time": "2022-01-25T18:01:12.440Z"
      },
      {
        "duration": -42,
        "start_time": "2022-01-25T18:01:12.441Z"
      },
      {
        "duration": -44,
        "start_time": "2022-01-25T18:01:12.444Z"
      },
      {
        "duration": -50,
        "start_time": "2022-01-25T18:01:12.451Z"
      },
      {
        "duration": -51,
        "start_time": "2022-01-25T18:01:12.453Z"
      },
      {
        "duration": -52,
        "start_time": "2022-01-25T18:01:12.455Z"
      },
      {
        "duration": -53,
        "start_time": "2022-01-25T18:01:12.457Z"
      },
      {
        "duration": -61,
        "start_time": "2022-01-25T18:01:12.466Z"
      },
      {
        "duration": -64,
        "start_time": "2022-01-25T18:01:12.470Z"
      },
      {
        "duration": -64,
        "start_time": "2022-01-25T18:01:12.472Z"
      },
      {
        "duration": -65,
        "start_time": "2022-01-25T18:01:12.474Z"
      },
      {
        "duration": -65,
        "start_time": "2022-01-25T18:01:12.475Z"
      },
      {
        "duration": -66,
        "start_time": "2022-01-25T18:01:12.477Z"
      },
      {
        "duration": 43,
        "start_time": "2022-01-25T18:01:26.923Z"
      },
      {
        "duration": 28,
        "start_time": "2022-01-25T18:01:31.835Z"
      },
      {
        "duration": 32,
        "start_time": "2022-01-25T18:01:33.786Z"
      },
      {
        "duration": 14,
        "start_time": "2022-01-25T18:01:37.524Z"
      },
      {
        "duration": 21,
        "start_time": "2022-01-25T18:01:50.124Z"
      },
      {
        "duration": 6,
        "start_time": "2022-01-25T18:01:50.480Z"
      },
      {
        "duration": 8,
        "start_time": "2022-01-25T18:02:14.656Z"
      },
      {
        "duration": 227,
        "start_time": "2022-01-25T18:04:40.323Z"
      },
      {
        "duration": 36,
        "start_time": "2022-01-25T18:04:55.404Z"
      },
      {
        "duration": 186,
        "start_time": "2022-01-25T18:04:56.287Z"
      },
      {
        "duration": 36,
        "start_time": "2022-01-25T18:04:59.747Z"
      },
      {
        "duration": 196,
        "start_time": "2022-01-25T18:05:00.408Z"
      },
      {
        "duration": 36,
        "start_time": "2022-01-25T18:05:06.102Z"
      },
      {
        "duration": 6,
        "start_time": "2022-01-25T18:05:06.476Z"
      },
      {
        "duration": 19,
        "start_time": "2022-01-25T18:06:11.976Z"
      },
      {
        "duration": 8,
        "start_time": "2022-01-25T18:06:12.302Z"
      },
      {
        "duration": 210,
        "start_time": "2022-01-25T18:06:13.615Z"
      },
      {
        "duration": 6,
        "start_time": "2022-01-25T18:06:22.389Z"
      },
      {
        "duration": 1080,
        "start_time": "2022-01-25T18:06:34.067Z"
      },
      {
        "duration": 840,
        "start_time": "2022-01-25T18:06:35.149Z"
      },
      {
        "duration": 49,
        "start_time": "2022-01-25T18:06:35.990Z"
      },
      {
        "duration": 71,
        "start_time": "2022-01-25T18:06:36.041Z"
      },
      {
        "duration": 3,
        "start_time": "2022-01-25T18:06:36.114Z"
      },
      {
        "duration": 10,
        "start_time": "2022-01-25T18:06:36.119Z"
      },
      {
        "duration": 48,
        "start_time": "2022-01-25T18:06:36.130Z"
      },
      {
        "duration": 45,
        "start_time": "2022-01-25T18:06:36.181Z"
      },
      {
        "duration": 32,
        "start_time": "2022-01-25T18:06:36.228Z"
      },
      {
        "duration": 12,
        "start_time": "2022-01-25T18:06:36.262Z"
      },
      {
        "duration": 43,
        "start_time": "2022-01-25T18:06:36.276Z"
      },
      {
        "duration": 4,
        "start_time": "2022-01-25T18:06:36.321Z"
      },
      {
        "duration": 7,
        "start_time": "2022-01-25T18:06:36.327Z"
      },
      {
        "duration": 8,
        "start_time": "2022-01-25T18:06:36.336Z"
      },
      {
        "duration": 5,
        "start_time": "2022-01-25T18:06:36.345Z"
      },
      {
        "duration": 10,
        "start_time": "2022-01-25T18:06:36.352Z"
      },
      {
        "duration": 8,
        "start_time": "2022-01-25T18:06:36.364Z"
      },
      {
        "duration": 47,
        "start_time": "2022-01-25T18:06:36.374Z"
      },
      {
        "duration": 20,
        "start_time": "2022-01-25T18:06:36.423Z"
      },
      {
        "duration": 296,
        "start_time": "2022-01-25T18:06:36.445Z"
      },
      {
        "duration": -1,
        "start_time": "2022-01-25T18:06:36.745Z"
      },
      {
        "duration": -2,
        "start_time": "2022-01-25T18:06:36.747Z"
      },
      {
        "duration": -4,
        "start_time": "2022-01-25T18:06:36.750Z"
      },
      {
        "duration": -4,
        "start_time": "2022-01-25T18:06:36.752Z"
      },
      {
        "duration": -5,
        "start_time": "2022-01-25T18:06:36.754Z"
      },
      {
        "duration": -5,
        "start_time": "2022-01-25T18:06:36.755Z"
      },
      {
        "duration": -5,
        "start_time": "2022-01-25T18:06:36.757Z"
      },
      {
        "duration": -5,
        "start_time": "2022-01-25T18:06:36.758Z"
      },
      {
        "duration": 14,
        "start_time": "2022-01-25T18:07:05.491Z"
      },
      {
        "duration": 15,
        "start_time": "2022-01-25T18:07:10.730Z"
      },
      {
        "duration": 4,
        "start_time": "2022-01-25T18:07:19.708Z"
      },
      {
        "duration": 5,
        "start_time": "2022-01-25T18:07:21.727Z"
      },
      {
        "duration": 15,
        "start_time": "2022-01-25T18:07:31.941Z"
      },
      {
        "duration": 22,
        "start_time": "2022-01-25T18:07:40.369Z"
      },
      {
        "duration": 1086,
        "start_time": "2022-01-25T18:07:49.578Z"
      },
      {
        "duration": 964,
        "start_time": "2022-01-25T18:07:50.666Z"
      },
      {
        "duration": 49,
        "start_time": "2022-01-25T18:07:51.634Z"
      },
      {
        "duration": 66,
        "start_time": "2022-01-25T18:07:51.685Z"
      },
      {
        "duration": 4,
        "start_time": "2022-01-25T18:07:51.752Z"
      },
      {
        "duration": 10,
        "start_time": "2022-01-25T18:07:51.757Z"
      },
      {
        "duration": 61,
        "start_time": "2022-01-25T18:07:51.769Z"
      },
      {
        "duration": 30,
        "start_time": "2022-01-25T18:07:51.832Z"
      },
      {
        "duration": 51,
        "start_time": "2022-01-25T18:07:51.864Z"
      },
      {
        "duration": 13,
        "start_time": "2022-01-25T18:07:51.917Z"
      },
      {
        "duration": 20,
        "start_time": "2022-01-25T18:07:51.932Z"
      },
      {
        "duration": 6,
        "start_time": "2022-01-25T18:07:51.953Z"
      },
      {
        "duration": 8,
        "start_time": "2022-01-25T18:07:51.961Z"
      },
      {
        "duration": 5,
        "start_time": "2022-01-25T18:07:51.970Z"
      },
      {
        "duration": 36,
        "start_time": "2022-01-25T18:07:51.977Z"
      },
      {
        "duration": 26,
        "start_time": "2022-01-25T18:07:52.015Z"
      },
      {
        "duration": 12,
        "start_time": "2022-01-25T18:07:52.043Z"
      },
      {
        "duration": 16,
        "start_time": "2022-01-25T18:07:52.056Z"
      },
      {
        "duration": 322,
        "start_time": "2022-01-25T18:07:52.074Z"
      },
      {
        "duration": 6,
        "start_time": "2022-01-25T18:07:52.393Z"
      },
      {
        "duration": 4,
        "start_time": "2022-01-25T18:07:52.395Z"
      },
      {
        "duration": 3,
        "start_time": "2022-01-25T18:07:52.397Z"
      },
      {
        "duration": 3,
        "start_time": "2022-01-25T18:07:52.398Z"
      },
      {
        "duration": 4,
        "start_time": "2022-01-25T18:07:52.399Z"
      },
      {
        "duration": 3,
        "start_time": "2022-01-25T18:07:52.401Z"
      },
      {
        "duration": 3,
        "start_time": "2022-01-25T18:07:52.402Z"
      },
      {
        "duration": 1,
        "start_time": "2022-01-25T18:07:52.404Z"
      },
      {
        "duration": 39,
        "start_time": "2022-01-25T18:09:01.226Z"
      },
      {
        "duration": 7,
        "start_time": "2022-01-25T18:09:22.803Z"
      },
      {
        "duration": 27,
        "start_time": "2022-01-25T18:09:33.071Z"
      },
      {
        "duration": 26,
        "start_time": "2022-01-25T18:09:41.125Z"
      },
      {
        "duration": 29,
        "start_time": "2022-01-25T18:09:46.255Z"
      },
      {
        "duration": 40,
        "start_time": "2022-01-25T18:09:49.727Z"
      },
      {
        "duration": 31,
        "start_time": "2022-01-25T18:09:55.634Z"
      },
      {
        "duration": 32,
        "start_time": "2022-01-25T18:10:07.720Z"
      },
      {
        "duration": 7,
        "start_time": "2022-01-25T18:10:29.858Z"
      },
      {
        "duration": 13,
        "start_time": "2022-01-25T18:10:33.429Z"
      },
      {
        "duration": 22,
        "start_time": "2022-01-25T18:10:34.341Z"
      },
      {
        "duration": 9,
        "start_time": "2022-01-25T18:10:34.814Z"
      },
      {
        "duration": 19,
        "start_time": "2022-01-25T18:10:44.912Z"
      },
      {
        "duration": 9,
        "start_time": "2022-01-25T18:10:45.626Z"
      },
      {
        "duration": 21,
        "start_time": "2022-01-25T18:10:48.678Z"
      },
      {
        "duration": 8,
        "start_time": "2022-01-25T18:10:49.067Z"
      },
      {
        "duration": 1094,
        "start_time": "2022-01-25T18:10:59.335Z"
      },
      {
        "duration": 2291,
        "start_time": "2022-01-25T18:11:00.431Z"
      },
      {
        "duration": 50,
        "start_time": "2022-01-25T18:11:02.724Z"
      },
      {
        "duration": 74,
        "start_time": "2022-01-25T18:11:02.776Z"
      },
      {
        "duration": 3,
        "start_time": "2022-01-25T18:11:02.852Z"
      },
      {
        "duration": 10,
        "start_time": "2022-01-25T18:11:02.857Z"
      },
      {
        "duration": 61,
        "start_time": "2022-01-25T18:11:02.868Z"
      },
      {
        "duration": 28,
        "start_time": "2022-01-25T18:11:02.931Z"
      },
      {
        "duration": 50,
        "start_time": "2022-01-25T18:11:02.962Z"
      },
      {
        "duration": 15,
        "start_time": "2022-01-25T18:11:03.015Z"
      },
      {
        "duration": 25,
        "start_time": "2022-01-25T18:11:03.033Z"
      },
      {
        "duration": 7,
        "start_time": "2022-01-25T18:11:03.060Z"
      },
      {
        "duration": 10,
        "start_time": "2022-01-25T18:11:03.069Z"
      },
      {
        "duration": 35,
        "start_time": "2022-01-25T18:11:03.081Z"
      },
      {
        "duration": 8,
        "start_time": "2022-01-25T18:11:03.118Z"
      },
      {
        "duration": 23,
        "start_time": "2022-01-25T18:11:03.128Z"
      },
      {
        "duration": 14,
        "start_time": "2022-01-25T18:11:03.153Z"
      },
      {
        "duration": 55,
        "start_time": "2022-01-25T18:11:03.169Z"
      },
      {
        "duration": 295,
        "start_time": "2022-01-25T18:11:03.226Z"
      },
      {
        "duration": -27,
        "start_time": "2022-01-25T18:11:03.550Z"
      },
      {
        "duration": -27,
        "start_time": "2022-01-25T18:11:03.552Z"
      },
      {
        "duration": -28,
        "start_time": "2022-01-25T18:11:03.554Z"
      },
      {
        "duration": -29,
        "start_time": "2022-01-25T18:11:03.556Z"
      },
      {
        "duration": -28,
        "start_time": "2022-01-25T18:11:03.557Z"
      },
      {
        "duration": -29,
        "start_time": "2022-01-25T18:11:03.559Z"
      },
      {
        "duration": -28,
        "start_time": "2022-01-25T18:11:03.560Z"
      },
      {
        "duration": -60,
        "start_time": "2022-01-25T18:11:03.593Z"
      },
      {
        "duration": 7,
        "start_time": "2022-01-25T18:11:30.610Z"
      },
      {
        "duration": 20,
        "start_time": "2022-01-25T18:11:40.222Z"
      },
      {
        "duration": 6,
        "start_time": "2022-01-25T18:11:41.089Z"
      },
      {
        "duration": 10,
        "start_time": "2022-01-25T18:11:41.881Z"
      },
      {
        "duration": 7,
        "start_time": "2022-01-25T18:11:43.039Z"
      },
      {
        "duration": 8,
        "start_time": "2022-01-25T18:11:43.453Z"
      },
      {
        "duration": 8,
        "start_time": "2022-01-25T18:11:43.833Z"
      },
      {
        "duration": 22,
        "start_time": "2022-01-25T18:11:50.091Z"
      },
      {
        "duration": 12,
        "start_time": "2022-01-25T18:11:56.317Z"
      },
      {
        "duration": 11,
        "start_time": "2022-01-25T18:12:25.733Z"
      },
      {
        "duration": 207,
        "start_time": "2022-01-25T18:12:36.662Z"
      },
      {
        "duration": 12,
        "start_time": "2022-01-25T18:12:39.897Z"
      },
      {
        "duration": 10,
        "start_time": "2022-01-25T18:12:48.451Z"
      },
      {
        "duration": 1017,
        "start_time": "2022-01-25T18:13:30.874Z"
      },
      {
        "duration": 1119,
        "start_time": "2022-01-25T18:13:31.893Z"
      },
      {
        "duration": 49,
        "start_time": "2022-01-25T18:13:33.016Z"
      },
      {
        "duration": 98,
        "start_time": "2022-01-25T18:13:33.066Z"
      },
      {
        "duration": 3,
        "start_time": "2022-01-25T18:13:33.166Z"
      },
      {
        "duration": 8,
        "start_time": "2022-01-25T18:13:33.171Z"
      },
      {
        "duration": 64,
        "start_time": "2022-01-25T18:13:33.181Z"
      },
      {
        "duration": 27,
        "start_time": "2022-01-25T18:13:33.248Z"
      },
      {
        "duration": 50,
        "start_time": "2022-01-25T18:13:33.277Z"
      },
      {
        "duration": 12,
        "start_time": "2022-01-25T18:13:33.329Z"
      },
      {
        "duration": 21,
        "start_time": "2022-01-25T18:13:33.343Z"
      },
      {
        "duration": 6,
        "start_time": "2022-01-25T18:13:33.365Z"
      },
      {
        "duration": 10,
        "start_time": "2022-01-25T18:13:33.372Z"
      },
      {
        "duration": 29,
        "start_time": "2022-01-25T18:13:33.383Z"
      },
      {
        "duration": 9,
        "start_time": "2022-01-25T18:13:33.414Z"
      },
      {
        "duration": 9,
        "start_time": "2022-01-25T18:13:33.425Z"
      },
      {
        "duration": 12,
        "start_time": "2022-01-25T18:13:33.435Z"
      },
      {
        "duration": 18,
        "start_time": "2022-01-25T18:13:33.448Z"
      },
      {
        "duration": 378,
        "start_time": "2022-01-25T18:13:33.468Z"
      },
      {
        "duration": 1,
        "start_time": "2022-01-25T18:13:33.847Z"
      },
      {
        "duration": 0,
        "start_time": "2022-01-25T18:13:33.849Z"
      },
      {
        "duration": -3,
        "start_time": "2022-01-25T18:13:33.852Z"
      },
      {
        "duration": -3,
        "start_time": "2022-01-25T18:13:33.854Z"
      },
      {
        "duration": -5,
        "start_time": "2022-01-25T18:13:33.856Z"
      },
      {
        "duration": -6,
        "start_time": "2022-01-25T18:13:33.858Z"
      },
      {
        "duration": -7,
        "start_time": "2022-01-25T18:13:33.860Z"
      },
      {
        "duration": -7,
        "start_time": "2022-01-25T18:13:33.861Z"
      },
      {
        "duration": 36,
        "start_time": "2022-01-25T18:14:29.712Z"
      },
      {
        "duration": 36,
        "start_time": "2022-01-25T18:14:56.739Z"
      },
      {
        "duration": 198,
        "start_time": "2022-01-25T18:18:48.206Z"
      },
      {
        "duration": 20,
        "start_time": "2022-01-25T18:19:20.876Z"
      },
      {
        "duration": 23,
        "start_time": "2022-01-25T18:19:38.787Z"
      },
      {
        "duration": 17,
        "start_time": "2022-01-25T18:20:00.975Z"
      },
      {
        "duration": 1142,
        "start_time": "2022-01-25T18:21:15.141Z"
      },
      {
        "duration": 2376,
        "start_time": "2022-01-25T18:21:16.285Z"
      },
      {
        "duration": 51,
        "start_time": "2022-01-25T18:21:18.663Z"
      },
      {
        "duration": 65,
        "start_time": "2022-01-25T18:21:18.715Z"
      },
      {
        "duration": 3,
        "start_time": "2022-01-25T18:21:18.782Z"
      },
      {
        "duration": 26,
        "start_time": "2022-01-25T18:21:18.786Z"
      },
      {
        "duration": 52,
        "start_time": "2022-01-25T18:21:18.814Z"
      },
      {
        "duration": 44,
        "start_time": "2022-01-25T18:21:18.869Z"
      },
      {
        "duration": 35,
        "start_time": "2022-01-25T18:21:18.915Z"
      },
      {
        "duration": 13,
        "start_time": "2022-01-25T18:21:18.952Z"
      },
      {
        "duration": 21,
        "start_time": "2022-01-25T18:21:18.967Z"
      },
      {
        "duration": 28,
        "start_time": "2022-01-25T18:21:18.989Z"
      },
      {
        "duration": 10,
        "start_time": "2022-01-25T18:21:19.018Z"
      },
      {
        "duration": 6,
        "start_time": "2022-01-25T18:21:19.030Z"
      },
      {
        "duration": 8,
        "start_time": "2022-01-25T18:21:19.038Z"
      },
      {
        "duration": 15,
        "start_time": "2022-01-25T18:21:19.048Z"
      },
      {
        "duration": 14,
        "start_time": "2022-01-25T18:21:19.064Z"
      },
      {
        "duration": 41,
        "start_time": "2022-01-25T18:21:19.079Z"
      },
      {
        "duration": 39,
        "start_time": "2022-01-25T18:21:19.122Z"
      },
      {
        "duration": 16,
        "start_time": "2022-01-25T18:21:19.163Z"
      },
      {
        "duration": 354,
        "start_time": "2022-01-25T18:21:19.180Z"
      },
      {
        "duration": 9,
        "start_time": "2022-01-25T18:21:19.528Z"
      },
      {
        "duration": 8,
        "start_time": "2022-01-25T18:21:19.530Z"
      },
      {
        "duration": 7,
        "start_time": "2022-01-25T18:21:19.533Z"
      },
      {
        "duration": 6,
        "start_time": "2022-01-25T18:21:19.535Z"
      },
      {
        "duration": 1,
        "start_time": "2022-01-25T18:21:19.542Z"
      },
      {
        "duration": 0,
        "start_time": "2022-01-25T18:21:19.544Z"
      },
      {
        "duration": 0,
        "start_time": "2022-01-25T18:21:19.546Z"
      },
      {
        "duration": 0,
        "start_time": "2022-01-25T18:21:19.547Z"
      },
      {
        "duration": 43,
        "start_time": "2022-01-25T18:21:27.825Z"
      },
      {
        "duration": 29,
        "start_time": "2022-01-25T18:21:33.013Z"
      },
      {
        "duration": 32,
        "start_time": "2022-01-25T18:21:37.889Z"
      },
      {
        "duration": 11,
        "start_time": "2022-01-25T18:21:43.296Z"
      },
      {
        "duration": 803,
        "start_time": "2022-01-25T18:21:43.689Z"
      },
      {
        "duration": 50,
        "start_time": "2022-01-25T18:21:44.494Z"
      },
      {
        "duration": 70,
        "start_time": "2022-01-25T18:21:44.591Z"
      },
      {
        "duration": 4,
        "start_time": "2022-01-25T18:21:44.872Z"
      },
      {
        "duration": 11,
        "start_time": "2022-01-25T18:21:45.638Z"
      },
      {
        "duration": 49,
        "start_time": "2022-01-25T18:21:46.109Z"
      },
      {
        "duration": 30,
        "start_time": "2022-01-25T18:21:46.261Z"
      },
      {
        "duration": 36,
        "start_time": "2022-01-25T18:21:46.417Z"
      },
      {
        "duration": 20,
        "start_time": "2022-01-25T18:21:52.215Z"
      },
      {
        "duration": 22,
        "start_time": "2022-01-25T18:21:57.945Z"
      },
      {
        "duration": 18,
        "start_time": "2022-01-25T18:22:11.314Z"
      },
      {
        "duration": 5,
        "start_time": "2022-01-25T18:22:35.638Z"
      },
      {
        "duration": 11,
        "start_time": "2022-01-25T18:22:36.904Z"
      },
      {
        "duration": 22,
        "start_time": "2022-01-25T18:22:41.235Z"
      },
      {
        "duration": 6,
        "start_time": "2022-01-25T18:22:53.724Z"
      },
      {
        "duration": 8,
        "start_time": "2022-01-25T18:23:01.812Z"
      },
      {
        "duration": 20,
        "start_time": "2022-01-25T18:23:06.234Z"
      },
      {
        "duration": 1155,
        "start_time": "2022-01-25T18:23:25.528Z"
      },
      {
        "duration": 806,
        "start_time": "2022-01-25T18:23:26.685Z"
      },
      {
        "duration": 51,
        "start_time": "2022-01-25T18:23:27.493Z"
      },
      {
        "duration": 74,
        "start_time": "2022-01-25T18:23:27.547Z"
      },
      {
        "duration": 4,
        "start_time": "2022-01-25T18:23:27.623Z"
      },
      {
        "duration": 9,
        "start_time": "2022-01-25T18:23:27.629Z"
      },
      {
        "duration": 52,
        "start_time": "2022-01-25T18:23:27.640Z"
      },
      {
        "duration": 48,
        "start_time": "2022-01-25T18:23:27.694Z"
      },
      {
        "duration": 35,
        "start_time": "2022-01-25T18:23:27.744Z"
      },
      {
        "duration": 32,
        "start_time": "2022-01-25T18:23:27.781Z"
      },
      {
        "duration": 22,
        "start_time": "2022-01-25T18:23:27.815Z"
      },
      {
        "duration": 18,
        "start_time": "2022-01-25T18:23:27.839Z"
      },
      {
        "duration": 7,
        "start_time": "2022-01-25T18:23:27.859Z"
      },
      {
        "duration": 12,
        "start_time": "2022-01-25T18:23:27.867Z"
      },
      {
        "duration": 46,
        "start_time": "2022-01-25T18:23:27.881Z"
      },
      {
        "duration": 6,
        "start_time": "2022-01-25T18:23:27.929Z"
      },
      {
        "duration": 12,
        "start_time": "2022-01-25T18:23:27.936Z"
      },
      {
        "duration": 295,
        "start_time": "2022-01-25T18:23:27.950Z"
      },
      {
        "duration": -7,
        "start_time": "2022-01-25T18:23:28.255Z"
      },
      {
        "duration": -9,
        "start_time": "2022-01-25T18:23:28.258Z"
      },
      {
        "duration": -17,
        "start_time": "2022-01-25T18:23:28.267Z"
      },
      {
        "duration": -18,
        "start_time": "2022-01-25T18:23:28.269Z"
      },
      {
        "duration": -18,
        "start_time": "2022-01-25T18:23:28.270Z"
      },
      {
        "duration": -20,
        "start_time": "2022-01-25T18:23:28.273Z"
      },
      {
        "duration": -19,
        "start_time": "2022-01-25T18:23:28.274Z"
      },
      {
        "duration": -20,
        "start_time": "2022-01-25T18:23:28.276Z"
      },
      {
        "duration": -21,
        "start_time": "2022-01-25T18:23:28.278Z"
      },
      {
        "duration": -22,
        "start_time": "2022-01-25T18:23:28.280Z"
      },
      {
        "duration": -23,
        "start_time": "2022-01-25T18:23:28.282Z"
      },
      {
        "duration": -23,
        "start_time": "2022-01-25T18:23:28.283Z"
      },
      {
        "duration": -24,
        "start_time": "2022-01-25T18:23:28.285Z"
      },
      {
        "duration": -25,
        "start_time": "2022-01-25T18:23:28.287Z"
      },
      {
        "duration": 20,
        "start_time": "2022-01-25T18:23:39.929Z"
      },
      {
        "duration": 1150,
        "start_time": "2022-01-25T18:25:50.015Z"
      },
      {
        "duration": 1704,
        "start_time": "2022-01-25T18:25:51.167Z"
      },
      {
        "duration": 51,
        "start_time": "2022-01-25T18:25:52.873Z"
      },
      {
        "duration": 117,
        "start_time": "2022-01-25T18:25:52.926Z"
      },
      {
        "duration": 4,
        "start_time": "2022-01-25T18:25:53.045Z"
      },
      {
        "duration": 9,
        "start_time": "2022-01-25T18:25:53.051Z"
      },
      {
        "duration": 101,
        "start_time": "2022-01-25T18:25:53.112Z"
      },
      {
        "duration": 30,
        "start_time": "2022-01-25T18:25:53.216Z"
      },
      {
        "duration": 88,
        "start_time": "2022-01-25T18:25:53.248Z"
      },
      {
        "duration": 15,
        "start_time": "2022-01-25T18:25:53.338Z"
      },
      {
        "duration": 70,
        "start_time": "2022-01-25T18:25:53.354Z"
      },
      {
        "duration": 17,
        "start_time": "2022-01-25T18:25:53.426Z"
      },
      {
        "duration": 6,
        "start_time": "2022-01-25T18:25:53.445Z"
      },
      {
        "duration": 9,
        "start_time": "2022-01-25T18:25:53.452Z"
      },
      {
        "duration": 20,
        "start_time": "2022-01-25T18:25:53.462Z"
      },
      {
        "duration": 33,
        "start_time": "2022-01-25T18:25:53.483Z"
      },
      {
        "duration": 20,
        "start_time": "2022-01-25T18:25:53.517Z"
      },
      {
        "duration": 7,
        "start_time": "2022-01-25T18:25:53.539Z"
      },
      {
        "duration": 17,
        "start_time": "2022-01-25T18:25:53.548Z"
      },
      {
        "duration": 9,
        "start_time": "2022-01-25T18:25:53.566Z"
      },
      {
        "duration": 40,
        "start_time": "2022-01-25T18:25:53.576Z"
      },
      {
        "duration": 17,
        "start_time": "2022-01-25T18:25:53.618Z"
      },
      {
        "duration": 76,
        "start_time": "2022-01-25T18:25:53.637Z"
      },
      {
        "duration": 19,
        "start_time": "2022-01-25T18:25:53.715Z"
      },
      {
        "duration": 289,
        "start_time": "2022-01-25T18:25:53.735Z"
      },
      {
        "duration": -20,
        "start_time": "2022-01-25T18:25:54.046Z"
      },
      {
        "duration": -21,
        "start_time": "2022-01-25T18:25:54.048Z"
      },
      {
        "duration": -22,
        "start_time": "2022-01-25T18:25:54.050Z"
      },
      {
        "duration": -23,
        "start_time": "2022-01-25T18:25:54.052Z"
      },
      {
        "duration": -24,
        "start_time": "2022-01-25T18:25:54.054Z"
      },
      {
        "duration": -24,
        "start_time": "2022-01-25T18:25:54.056Z"
      },
      {
        "duration": -25,
        "start_time": "2022-01-25T18:25:54.058Z"
      },
      {
        "duration": -26,
        "start_time": "2022-01-25T18:25:54.060Z"
      },
      {
        "duration": 8,
        "start_time": "2022-01-25T18:29:50.464Z"
      },
      {
        "duration": 1162,
        "start_time": "2022-01-25T18:30:03.834Z"
      },
      {
        "duration": 971,
        "start_time": "2022-01-25T18:30:04.998Z"
      },
      {
        "duration": 104,
        "start_time": "2022-01-25T18:30:06.011Z"
      },
      {
        "duration": 69,
        "start_time": "2022-01-25T18:30:06.117Z"
      },
      {
        "duration": 3,
        "start_time": "2022-01-25T18:30:06.188Z"
      },
      {
        "duration": 25,
        "start_time": "2022-01-25T18:30:06.193Z"
      },
      {
        "duration": 65,
        "start_time": "2022-01-25T18:30:06.220Z"
      },
      {
        "duration": 34,
        "start_time": "2022-01-25T18:30:06.287Z"
      },
      {
        "duration": 36,
        "start_time": "2022-01-25T18:30:06.323Z"
      },
      {
        "duration": 14,
        "start_time": "2022-01-25T18:30:06.361Z"
      },
      {
        "duration": 38,
        "start_time": "2022-01-25T18:30:06.376Z"
      },
      {
        "duration": 18,
        "start_time": "2022-01-25T18:30:06.416Z"
      },
      {
        "duration": 6,
        "start_time": "2022-01-25T18:30:06.435Z"
      },
      {
        "duration": 6,
        "start_time": "2022-01-25T18:30:06.442Z"
      },
      {
        "duration": 10,
        "start_time": "2022-01-25T18:30:06.450Z"
      },
      {
        "duration": 52,
        "start_time": "2022-01-25T18:30:06.461Z"
      },
      {
        "duration": 6,
        "start_time": "2022-01-25T18:30:06.515Z"
      },
      {
        "duration": 23,
        "start_time": "2022-01-25T18:30:06.523Z"
      },
      {
        "duration": 7,
        "start_time": "2022-01-25T18:30:06.548Z"
      },
      {
        "duration": 18,
        "start_time": "2022-01-25T18:30:06.556Z"
      },
      {
        "duration": 38,
        "start_time": "2022-01-25T18:30:06.576Z"
      },
      {
        "duration": 14,
        "start_time": "2022-01-25T18:30:06.616Z"
      },
      {
        "duration": 17,
        "start_time": "2022-01-25T18:30:06.634Z"
      },
      {
        "duration": 94,
        "start_time": "2022-01-25T18:30:06.653Z"
      },
      {
        "duration": 20,
        "start_time": "2022-01-25T18:30:06.748Z"
      },
      {
        "duration": 2037,
        "start_time": "2022-01-25T18:30:06.769Z"
      },
      {
        "duration": -42,
        "start_time": "2022-01-25T18:30:08.850Z"
      },
      {
        "duration": -43,
        "start_time": "2022-01-25T18:30:08.852Z"
      },
      {
        "duration": -45,
        "start_time": "2022-01-25T18:30:08.855Z"
      },
      {
        "duration": -46,
        "start_time": "2022-01-25T18:30:08.857Z"
      },
      {
        "duration": -46,
        "start_time": "2022-01-25T18:30:08.858Z"
      },
      {
        "duration": -47,
        "start_time": "2022-01-25T18:30:08.860Z"
      },
      {
        "duration": -48,
        "start_time": "2022-01-25T18:30:08.862Z"
      },
      {
        "duration": -48,
        "start_time": "2022-01-25T18:30:08.864Z"
      },
      {
        "duration": 8,
        "start_time": "2022-01-25T18:30:56.833Z"
      },
      {
        "duration": 5,
        "start_time": "2022-01-25T18:31:54.021Z"
      },
      {
        "duration": 1058,
        "start_time": "2022-01-25T18:32:41.562Z"
      },
      {
        "duration": 769,
        "start_time": "2022-01-25T18:32:42.622Z"
      },
      {
        "duration": 48,
        "start_time": "2022-01-25T18:32:43.393Z"
      },
      {
        "duration": 69,
        "start_time": "2022-01-25T18:32:43.443Z"
      },
      {
        "duration": 3,
        "start_time": "2022-01-25T18:32:43.514Z"
      },
      {
        "duration": 9,
        "start_time": "2022-01-25T18:32:43.519Z"
      },
      {
        "duration": 53,
        "start_time": "2022-01-25T18:32:43.530Z"
      },
      {
        "duration": 50,
        "start_time": "2022-01-25T18:32:43.585Z"
      },
      {
        "duration": 36,
        "start_time": "2022-01-25T18:32:43.637Z"
      },
      {
        "duration": 14,
        "start_time": "2022-01-25T18:32:43.675Z"
      },
      {
        "duration": 31,
        "start_time": "2022-01-25T18:32:43.691Z"
      },
      {
        "duration": 13,
        "start_time": "2022-01-25T18:32:43.723Z"
      },
      {
        "duration": 8,
        "start_time": "2022-01-25T18:32:43.737Z"
      },
      {
        "duration": 20,
        "start_time": "2022-01-25T18:32:43.747Z"
      },
      {
        "duration": 6,
        "start_time": "2022-01-25T18:32:43.769Z"
      },
      {
        "duration": 20,
        "start_time": "2022-01-25T18:32:43.812Z"
      },
      {
        "duration": 7,
        "start_time": "2022-01-25T18:32:43.834Z"
      },
      {
        "duration": 18,
        "start_time": "2022-01-25T18:32:43.842Z"
      },
      {
        "duration": 10,
        "start_time": "2022-01-25T18:32:43.863Z"
      },
      {
        "duration": 40,
        "start_time": "2022-01-25T18:32:43.875Z"
      },
      {
        "duration": 16,
        "start_time": "2022-01-25T18:32:43.917Z"
      },
      {
        "duration": 56,
        "start_time": "2022-01-25T18:32:43.935Z"
      },
      {
        "duration": 36,
        "start_time": "2022-01-25T18:32:43.993Z"
      },
      {
        "duration": 297,
        "start_time": "2022-01-25T18:32:44.030Z"
      },
      {
        "duration": 4,
        "start_time": "2022-01-25T18:32:44.325Z"
      },
      {
        "duration": 2,
        "start_time": "2022-01-25T18:32:44.328Z"
      },
      {
        "duration": 1,
        "start_time": "2022-01-25T18:32:44.330Z"
      },
      {
        "duration": 0,
        "start_time": "2022-01-25T18:32:44.332Z"
      },
      {
        "duration": -1,
        "start_time": "2022-01-25T18:32:44.334Z"
      },
      {
        "duration": -2,
        "start_time": "2022-01-25T18:32:44.336Z"
      },
      {
        "duration": -1,
        "start_time": "2022-01-25T18:32:44.337Z"
      },
      {
        "duration": -3,
        "start_time": "2022-01-25T18:32:44.339Z"
      },
      {
        "duration": 39,
        "start_time": "2022-01-25T19:18:30.782Z"
      },
      {
        "duration": 83,
        "start_time": "2022-01-25T19:18:37.721Z"
      },
      {
        "duration": 44,
        "start_time": "2022-01-25T19:18:41.650Z"
      },
      {
        "duration": 35,
        "start_time": "2022-01-25T19:18:45.712Z"
      },
      {
        "duration": 64,
        "start_time": "2022-01-25T19:18:50.494Z"
      },
      {
        "duration": 34,
        "start_time": "2022-01-25T19:18:53.879Z"
      },
      {
        "duration": 37,
        "start_time": "2022-01-25T19:19:06.284Z"
      },
      {
        "duration": 1136,
        "start_time": "2022-01-25T19:19:16.134Z"
      },
      {
        "duration": 2477,
        "start_time": "2022-01-25T19:19:17.272Z"
      },
      {
        "duration": 52,
        "start_time": "2022-01-25T19:19:19.752Z"
      },
      {
        "duration": 67,
        "start_time": "2022-01-25T19:19:19.807Z"
      },
      {
        "duration": 4,
        "start_time": "2022-01-25T19:19:19.876Z"
      },
      {
        "duration": 13,
        "start_time": "2022-01-25T19:19:19.882Z"
      },
      {
        "duration": 59,
        "start_time": "2022-01-25T19:19:19.896Z"
      },
      {
        "duration": 31,
        "start_time": "2022-01-25T19:19:19.957Z"
      },
      {
        "duration": 36,
        "start_time": "2022-01-25T19:19:20.011Z"
      },
      {
        "duration": 15,
        "start_time": "2022-01-25T19:19:20.049Z"
      },
      {
        "duration": 46,
        "start_time": "2022-01-25T19:19:20.066Z"
      },
      {
        "duration": 15,
        "start_time": "2022-01-25T19:19:20.114Z"
      },
      {
        "duration": 10,
        "start_time": "2022-01-25T19:19:20.130Z"
      },
      {
        "duration": 22,
        "start_time": "2022-01-25T19:19:20.142Z"
      },
      {
        "duration": 6,
        "start_time": "2022-01-25T19:19:20.165Z"
      },
      {
        "duration": 51,
        "start_time": "2022-01-25T19:19:20.172Z"
      },
      {
        "duration": 7,
        "start_time": "2022-01-25T19:19:20.225Z"
      },
      {
        "duration": 18,
        "start_time": "2022-01-25T19:19:20.233Z"
      },
      {
        "duration": 9,
        "start_time": "2022-01-25T19:19:20.253Z"
      },
      {
        "duration": 12,
        "start_time": "2022-01-25T19:19:20.264Z"
      },
      {
        "duration": 50,
        "start_time": "2022-01-25T19:19:20.277Z"
      },
      {
        "duration": 58,
        "start_time": "2022-01-25T19:19:20.328Z"
      },
      {
        "duration": 30,
        "start_time": "2022-01-25T19:19:20.388Z"
      },
      {
        "duration": 299,
        "start_time": "2022-01-25T19:19:20.419Z"
      },
      {
        "duration": -105,
        "start_time": "2022-01-25T19:19:20.825Z"
      },
      {
        "duration": -107,
        "start_time": "2022-01-25T19:19:20.828Z"
      },
      {
        "duration": -109,
        "start_time": "2022-01-25T19:19:20.830Z"
      },
      {
        "duration": -110,
        "start_time": "2022-01-25T19:19:20.832Z"
      },
      {
        "duration": -111,
        "start_time": "2022-01-25T19:19:20.834Z"
      },
      {
        "duration": -112,
        "start_time": "2022-01-25T19:19:20.836Z"
      },
      {
        "duration": -113,
        "start_time": "2022-01-25T19:19:20.838Z"
      },
      {
        "duration": -113,
        "start_time": "2022-01-25T19:19:20.839Z"
      },
      {
        "duration": 11,
        "start_time": "2022-01-25T19:19:32.015Z"
      },
      {
        "duration": 2186,
        "start_time": "2022-01-25T19:19:32.486Z"
      },
      {
        "duration": 48,
        "start_time": "2022-01-25T19:19:34.674Z"
      },
      {
        "duration": 1036,
        "start_time": "2022-01-25T19:19:45.831Z"
      },
      {
        "duration": 725,
        "start_time": "2022-01-25T19:19:46.869Z"
      },
      {
        "duration": 60,
        "start_time": "2022-01-25T19:19:47.596Z"
      },
      {
        "duration": 73,
        "start_time": "2022-01-25T19:19:47.658Z"
      },
      {
        "duration": 4,
        "start_time": "2022-01-25T19:19:47.733Z"
      },
      {
        "duration": 9,
        "start_time": "2022-01-25T19:19:47.739Z"
      },
      {
        "duration": 72,
        "start_time": "2022-01-25T19:19:47.750Z"
      },
      {
        "duration": 29,
        "start_time": "2022-01-25T19:19:47.824Z"
      },
      {
        "duration": 33,
        "start_time": "2022-01-25T19:19:47.855Z"
      },
      {
        "duration": 29,
        "start_time": "2022-01-25T19:19:47.890Z"
      },
      {
        "duration": 20,
        "start_time": "2022-01-25T19:19:47.920Z"
      },
      {
        "duration": 12,
        "start_time": "2022-01-25T19:19:47.941Z"
      },
      {
        "duration": 8,
        "start_time": "2022-01-25T19:19:47.954Z"
      },
      {
        "duration": 19,
        "start_time": "2022-01-25T19:19:47.964Z"
      },
      {
        "duration": 31,
        "start_time": "2022-01-25T19:19:47.984Z"
      },
      {
        "duration": 24,
        "start_time": "2022-01-25T19:19:48.017Z"
      },
      {
        "duration": 7,
        "start_time": "2022-01-25T19:19:48.043Z"
      },
      {
        "duration": 19,
        "start_time": "2022-01-25T19:19:48.051Z"
      },
      {
        "duration": 9,
        "start_time": "2022-01-25T19:19:48.072Z"
      },
      {
        "duration": 14,
        "start_time": "2022-01-25T19:19:48.113Z"
      },
      {
        "duration": 16,
        "start_time": "2022-01-25T19:19:48.129Z"
      },
      {
        "duration": 81,
        "start_time": "2022-01-25T19:19:48.147Z"
      },
      {
        "duration": 18,
        "start_time": "2022-01-25T19:19:48.232Z"
      },
      {
        "duration": 288,
        "start_time": "2022-01-25T19:19:48.252Z"
      },
      {
        "duration": -29,
        "start_time": "2022-01-25T19:19:48.571Z"
      },
      {
        "duration": -31,
        "start_time": "2022-01-25T19:19:48.575Z"
      },
      {
        "duration": -33,
        "start_time": "2022-01-25T19:19:48.578Z"
      },
      {
        "duration": -35,
        "start_time": "2022-01-25T19:19:48.581Z"
      },
      {
        "duration": -85,
        "start_time": "2022-01-25T19:19:48.633Z"
      },
      {
        "duration": -91,
        "start_time": "2022-01-25T19:19:48.640Z"
      },
      {
        "duration": -92,
        "start_time": "2022-01-25T19:19:48.642Z"
      },
      {
        "duration": -93,
        "start_time": "2022-01-25T19:19:48.645Z"
      },
      {
        "duration": 744,
        "start_time": "2022-01-25T19:20:16.729Z"
      },
      {
        "duration": 736,
        "start_time": "2022-01-25T19:20:17.770Z"
      },
      {
        "duration": 764,
        "start_time": "2022-01-25T19:20:18.507Z"
      },
      {
        "duration": 10,
        "start_time": "2022-01-25T19:20:29.849Z"
      },
      {
        "duration": 711,
        "start_time": "2022-01-25T19:20:35.262Z"
      },
      {
        "duration": 1105,
        "start_time": "2022-01-25T19:20:46.443Z"
      },
      {
        "duration": 1775,
        "start_time": "2022-01-25T19:20:47.550Z"
      },
      {
        "duration": 48,
        "start_time": "2022-01-25T19:20:49.329Z"
      },
      {
        "duration": 65,
        "start_time": "2022-01-25T19:20:49.379Z"
      },
      {
        "duration": 4,
        "start_time": "2022-01-25T19:20:49.446Z"
      },
      {
        "duration": 10,
        "start_time": "2022-01-25T19:20:49.451Z"
      },
      {
        "duration": 64,
        "start_time": "2022-01-25T19:20:49.463Z"
      },
      {
        "duration": 27,
        "start_time": "2022-01-25T19:20:49.529Z"
      },
      {
        "duration": 32,
        "start_time": "2022-01-25T19:20:49.558Z"
      },
      {
        "duration": 31,
        "start_time": "2022-01-25T19:20:49.592Z"
      },
      {
        "duration": 21,
        "start_time": "2022-01-25T19:20:49.624Z"
      },
      {
        "duration": 12,
        "start_time": "2022-01-25T19:20:49.646Z"
      },
      {
        "duration": 7,
        "start_time": "2022-01-25T19:20:49.660Z"
      },
      {
        "duration": 47,
        "start_time": "2022-01-25T19:20:49.669Z"
      },
      {
        "duration": 6,
        "start_time": "2022-01-25T19:20:49.717Z"
      },
      {
        "duration": 22,
        "start_time": "2022-01-25T19:20:49.725Z"
      },
      {
        "duration": 7,
        "start_time": "2022-01-25T19:20:49.749Z"
      },
      {
        "duration": 18,
        "start_time": "2022-01-25T19:20:49.757Z"
      },
      {
        "duration": 37,
        "start_time": "2022-01-25T19:20:49.777Z"
      },
      {
        "duration": 12,
        "start_time": "2022-01-25T19:20:49.815Z"
      },
      {
        "duration": 15,
        "start_time": "2022-01-25T19:20:49.829Z"
      },
      {
        "duration": 79,
        "start_time": "2022-01-25T19:20:49.847Z"
      },
      {
        "duration": 18,
        "start_time": "2022-01-25T19:20:49.928Z"
      },
      {
        "duration": 506,
        "start_time": "2022-01-25T19:20:49.948Z"
      },
      {
        "duration": -78,
        "start_time": "2022-01-25T19:20:50.534Z"
      },
      {
        "duration": -78,
        "start_time": "2022-01-25T19:20:50.536Z"
      },
      {
        "duration": -79,
        "start_time": "2022-01-25T19:20:50.538Z"
      },
      {
        "duration": -78,
        "start_time": "2022-01-25T19:20:50.539Z"
      },
      {
        "duration": -79,
        "start_time": "2022-01-25T19:20:50.541Z"
      },
      {
        "duration": -79,
        "start_time": "2022-01-25T19:20:50.543Z"
      },
      {
        "duration": -80,
        "start_time": "2022-01-25T19:20:50.545Z"
      },
      {
        "duration": -80,
        "start_time": "2022-01-25T19:20:50.546Z"
      },
      {
        "duration": 1174,
        "start_time": "2022-01-25T19:23:57.838Z"
      },
      {
        "duration": 896,
        "start_time": "2022-01-25T19:23:59.015Z"
      },
      {
        "duration": 86,
        "start_time": "2022-01-25T19:23:59.914Z"
      },
      {
        "duration": 86,
        "start_time": "2022-01-25T19:24:00.012Z"
      },
      {
        "duration": 17,
        "start_time": "2022-01-25T19:24:00.099Z"
      },
      {
        "duration": 17,
        "start_time": "2022-01-25T19:24:00.119Z"
      },
      {
        "duration": 61,
        "start_time": "2022-01-25T19:24:00.138Z"
      },
      {
        "duration": 41,
        "start_time": "2022-01-25T19:24:00.201Z"
      },
      {
        "duration": 37,
        "start_time": "2022-01-25T19:24:00.246Z"
      },
      {
        "duration": 45,
        "start_time": "2022-01-25T19:24:00.286Z"
      },
      {
        "duration": 45,
        "start_time": "2022-01-25T19:24:00.334Z"
      },
      {
        "duration": 57,
        "start_time": "2022-01-25T19:24:00.382Z"
      },
      {
        "duration": 16,
        "start_time": "2022-01-25T19:24:00.441Z"
      },
      {
        "duration": 35,
        "start_time": "2022-01-25T19:24:00.459Z"
      },
      {
        "duration": 45,
        "start_time": "2022-01-25T19:24:00.496Z"
      },
      {
        "duration": 34,
        "start_time": "2022-01-25T19:24:00.543Z"
      },
      {
        "duration": 19,
        "start_time": "2022-01-25T19:24:00.579Z"
      },
      {
        "duration": 27,
        "start_time": "2022-01-25T19:24:00.600Z"
      },
      {
        "duration": 13,
        "start_time": "2022-01-25T19:24:00.629Z"
      },
      {
        "duration": 18,
        "start_time": "2022-01-25T19:24:00.644Z"
      },
      {
        "duration": 51,
        "start_time": "2022-01-25T19:24:00.665Z"
      },
      {
        "duration": 77,
        "start_time": "2022-01-25T19:24:00.718Z"
      },
      {
        "duration": 31,
        "start_time": "2022-01-25T19:24:00.797Z"
      },
      {
        "duration": 2024,
        "start_time": "2022-01-25T19:24:00.829Z"
      },
      {
        "duration": -130,
        "start_time": "2022-01-25T19:24:02.985Z"
      },
      {
        "duration": -130,
        "start_time": "2022-01-25T19:24:02.987Z"
      },
      {
        "duration": -131,
        "start_time": "2022-01-25T19:24:02.989Z"
      },
      {
        "duration": -132,
        "start_time": "2022-01-25T19:24:02.991Z"
      },
      {
        "duration": -133,
        "start_time": "2022-01-25T19:24:02.993Z"
      },
      {
        "duration": -139,
        "start_time": "2022-01-25T19:24:03.000Z"
      },
      {
        "duration": -140,
        "start_time": "2022-01-25T19:24:03.002Z"
      },
      {
        "duration": -142,
        "start_time": "2022-01-25T19:24:03.005Z"
      },
      {
        "duration": 23,
        "start_time": "2022-01-25T19:25:00.302Z"
      },
      {
        "duration": 20,
        "start_time": "2022-01-25T19:25:06.545Z"
      },
      {
        "duration": 7,
        "start_time": "2022-01-25T19:26:33.947Z"
      },
      {
        "duration": 1011,
        "start_time": "2022-01-25T19:26:51.436Z"
      },
      {
        "duration": 1848,
        "start_time": "2022-01-25T19:26:52.449Z"
      },
      {
        "duration": 47,
        "start_time": "2022-01-25T19:26:54.299Z"
      },
      {
        "duration": 73,
        "start_time": "2022-01-25T19:26:54.348Z"
      },
      {
        "duration": 4,
        "start_time": "2022-01-25T19:26:54.422Z"
      },
      {
        "duration": 10,
        "start_time": "2022-01-25T19:26:54.427Z"
      },
      {
        "duration": 49,
        "start_time": "2022-01-25T19:26:54.438Z"
      },
      {
        "duration": 44,
        "start_time": "2022-01-25T19:26:54.488Z"
      },
      {
        "duration": 31,
        "start_time": "2022-01-25T19:26:54.534Z"
      },
      {
        "duration": 13,
        "start_time": "2022-01-25T19:26:54.567Z"
      },
      {
        "duration": 43,
        "start_time": "2022-01-25T19:26:54.582Z"
      },
      {
        "duration": 12,
        "start_time": "2022-01-25T19:26:54.627Z"
      },
      {
        "duration": 8,
        "start_time": "2022-01-25T19:26:54.641Z"
      },
      {
        "duration": 5,
        "start_time": "2022-01-25T19:26:54.651Z"
      },
      {
        "duration": 8,
        "start_time": "2022-01-25T19:26:54.658Z"
      },
      {
        "duration": 8,
        "start_time": "2022-01-25T19:26:54.668Z"
      },
      {
        "duration": 48,
        "start_time": "2022-01-25T19:26:54.678Z"
      },
      {
        "duration": 1078,
        "start_time": "2022-01-25T19:26:54.728Z"
      },
      {
        "duration": -66,
        "start_time": "2022-01-25T19:26:55.875Z"
      },
      {
        "duration": -68,
        "start_time": "2022-01-25T19:26:55.878Z"
      },
      {
        "duration": -74,
        "start_time": "2022-01-25T19:26:55.885Z"
      },
      {
        "duration": -74,
        "start_time": "2022-01-25T19:26:55.887Z"
      },
      {
        "duration": -75,
        "start_time": "2022-01-25T19:26:55.889Z"
      },
      {
        "duration": -75,
        "start_time": "2022-01-25T19:26:55.891Z"
      },
      {
        "duration": -75,
        "start_time": "2022-01-25T19:26:55.892Z"
      },
      {
        "duration": -76,
        "start_time": "2022-01-25T19:26:55.894Z"
      },
      {
        "duration": -75,
        "start_time": "2022-01-25T19:26:55.895Z"
      },
      {
        "duration": -76,
        "start_time": "2022-01-25T19:26:55.897Z"
      },
      {
        "duration": -76,
        "start_time": "2022-01-25T19:26:55.899Z"
      },
      {
        "duration": -77,
        "start_time": "2022-01-25T19:26:55.901Z"
      },
      {
        "duration": -77,
        "start_time": "2022-01-25T19:26:55.902Z"
      },
      {
        "duration": 1071,
        "start_time": "2022-01-25T19:27:50.395Z"
      },
      {
        "duration": 2221,
        "start_time": "2022-01-25T19:27:51.468Z"
      },
      {
        "duration": 50,
        "start_time": "2022-01-25T19:27:53.692Z"
      },
      {
        "duration": 71,
        "start_time": "2022-01-25T19:27:53.744Z"
      },
      {
        "duration": 5,
        "start_time": "2022-01-25T19:27:53.817Z"
      },
      {
        "duration": 11,
        "start_time": "2022-01-25T19:27:53.823Z"
      },
      {
        "duration": 50,
        "start_time": "2022-01-25T19:27:53.836Z"
      },
      {
        "duration": 49,
        "start_time": "2022-01-25T19:27:53.889Z"
      },
      {
        "duration": 32,
        "start_time": "2022-01-25T19:27:53.941Z"
      },
      {
        "duration": 13,
        "start_time": "2022-01-25T19:27:53.975Z"
      },
      {
        "duration": 20,
        "start_time": "2022-01-25T19:27:54.013Z"
      },
      {
        "duration": 7,
        "start_time": "2022-01-25T19:27:54.035Z"
      },
      {
        "duration": 12,
        "start_time": "2022-01-25T19:27:54.043Z"
      },
      {
        "duration": 6,
        "start_time": "2022-01-25T19:27:54.057Z"
      },
      {
        "duration": 9,
        "start_time": "2022-01-25T19:27:54.064Z"
      },
      {
        "duration": 39,
        "start_time": "2022-01-25T19:27:54.074Z"
      },
      {
        "duration": 8,
        "start_time": "2022-01-25T19:27:54.114Z"
      },
      {
        "duration": 8,
        "start_time": "2022-01-25T19:27:54.123Z"
      },
      {
        "duration": 21,
        "start_time": "2022-01-25T19:27:54.132Z"
      },
      {
        "duration": 59,
        "start_time": "2022-01-25T19:27:54.155Z"
      },
      {
        "duration": 13,
        "start_time": "2022-01-25T19:27:54.203Z"
      },
      {
        "duration": 7,
        "start_time": "2022-01-25T19:27:54.211Z"
      },
      {
        "duration": -41,
        "start_time": "2022-01-25T19:27:54.260Z"
      },
      {
        "duration": -42,
        "start_time": "2022-01-25T19:27:54.263Z"
      },
      {
        "duration": -44,
        "start_time": "2022-01-25T19:27:54.266Z"
      },
      {
        "duration": -53,
        "start_time": "2022-01-25T19:27:54.277Z"
      },
      {
        "duration": -55,
        "start_time": "2022-01-25T19:27:54.280Z"
      },
      {
        "duration": -55,
        "start_time": "2022-01-25T19:27:54.282Z"
      },
      {
        "duration": -55,
        "start_time": "2022-01-25T19:27:54.283Z"
      },
      {
        "duration": -55,
        "start_time": "2022-01-25T19:27:54.285Z"
      },
      {
        "duration": -55,
        "start_time": "2022-01-25T19:27:54.287Z"
      },
      {
        "duration": -56,
        "start_time": "2022-01-25T19:27:54.289Z"
      },
      {
        "duration": -55,
        "start_time": "2022-01-25T19:27:54.290Z"
      },
      {
        "duration": 1029,
        "start_time": "2022-01-25T19:29:51.631Z"
      },
      {
        "duration": 732,
        "start_time": "2022-01-25T19:29:52.662Z"
      },
      {
        "duration": 50,
        "start_time": "2022-01-25T19:29:53.397Z"
      },
      {
        "duration": 76,
        "start_time": "2022-01-25T19:29:53.449Z"
      },
      {
        "duration": 3,
        "start_time": "2022-01-25T19:29:53.527Z"
      },
      {
        "duration": 14,
        "start_time": "2022-01-25T19:29:53.532Z"
      },
      {
        "duration": 94,
        "start_time": "2022-01-25T19:29:53.548Z"
      },
      {
        "duration": 81,
        "start_time": "2022-01-25T19:29:53.644Z"
      },
      {
        "duration": 33,
        "start_time": "2022-01-25T19:29:53.727Z"
      },
      {
        "duration": 13,
        "start_time": "2022-01-25T19:29:53.813Z"
      },
      {
        "duration": 28,
        "start_time": "2022-01-25T19:29:53.827Z"
      },
      {
        "duration": 56,
        "start_time": "2022-01-25T19:29:53.857Z"
      },
      {
        "duration": 12,
        "start_time": "2022-01-25T19:29:53.914Z"
      },
      {
        "duration": 9,
        "start_time": "2022-01-25T19:29:53.928Z"
      },
      {
        "duration": 4,
        "start_time": "2022-01-25T19:29:53.939Z"
      },
      {
        "duration": 11,
        "start_time": "2022-01-25T19:29:53.944Z"
      },
      {
        "duration": 57,
        "start_time": "2022-01-25T19:29:53.956Z"
      },
      {
        "duration": 9,
        "start_time": "2022-01-25T19:29:54.015Z"
      },
      {
        "duration": 6,
        "start_time": "2022-01-25T19:29:54.026Z"
      },
      {
        "duration": 9,
        "start_time": "2022-01-25T19:29:54.033Z"
      },
      {
        "duration": 6,
        "start_time": "2022-01-25T19:29:54.044Z"
      },
      {
        "duration": 22,
        "start_time": "2022-01-25T19:29:54.052Z"
      },
      {
        "duration": 65,
        "start_time": "2022-01-25T19:29:54.077Z"
      },
      {
        "duration": -37,
        "start_time": "2022-01-25T19:29:54.181Z"
      },
      {
        "duration": -37,
        "start_time": "2022-01-25T19:29:54.182Z"
      },
      {
        "duration": -38,
        "start_time": "2022-01-25T19:29:54.184Z"
      },
      {
        "duration": -39,
        "start_time": "2022-01-25T19:29:54.186Z"
      },
      {
        "duration": -40,
        "start_time": "2022-01-25T19:29:54.188Z"
      },
      {
        "duration": -41,
        "start_time": "2022-01-25T19:29:54.190Z"
      },
      {
        "duration": -42,
        "start_time": "2022-01-25T19:29:54.192Z"
      },
      {
        "duration": -43,
        "start_time": "2022-01-25T19:29:54.194Z"
      },
      {
        "duration": -44,
        "start_time": "2022-01-25T19:29:54.196Z"
      },
      {
        "duration": -45,
        "start_time": "2022-01-25T19:29:54.198Z"
      },
      {
        "duration": -44,
        "start_time": "2022-01-25T19:29:54.199Z"
      },
      {
        "duration": -45,
        "start_time": "2022-01-25T19:29:54.201Z"
      },
      {
        "duration": -46,
        "start_time": "2022-01-25T19:29:54.203Z"
      },
      {
        "duration": 11,
        "start_time": "2022-01-25T19:30:08.037Z"
      },
      {
        "duration": 6,
        "start_time": "2022-01-25T19:30:08.464Z"
      },
      {
        "duration": 1275,
        "start_time": "2022-01-25T19:30:47.657Z"
      },
      {
        "duration": 983,
        "start_time": "2022-01-25T19:30:48.934Z"
      },
      {
        "duration": 49,
        "start_time": "2022-01-25T19:30:49.919Z"
      },
      {
        "duration": 73,
        "start_time": "2022-01-25T19:30:49.970Z"
      },
      {
        "duration": 4,
        "start_time": "2022-01-25T19:30:50.044Z"
      },
      {
        "duration": 12,
        "start_time": "2022-01-25T19:30:50.050Z"
      },
      {
        "duration": 57,
        "start_time": "2022-01-25T19:30:50.064Z"
      },
      {
        "duration": 28,
        "start_time": "2022-01-25T19:30:50.124Z"
      },
      {
        "duration": 31,
        "start_time": "2022-01-25T19:30:50.154Z"
      },
      {
        "duration": 32,
        "start_time": "2022-01-25T19:30:50.186Z"
      },
      {
        "duration": 22,
        "start_time": "2022-01-25T19:30:50.219Z"
      },
      {
        "duration": 6,
        "start_time": "2022-01-25T19:30:50.242Z"
      },
      {
        "duration": 11,
        "start_time": "2022-01-25T19:30:50.250Z"
      },
      {
        "duration": 9,
        "start_time": "2022-01-25T19:30:50.262Z"
      },
      {
        "duration": 13,
        "start_time": "2022-01-25T19:30:50.272Z"
      },
      {
        "duration": 8,
        "start_time": "2022-01-25T19:30:50.286Z"
      },
      {
        "duration": 7,
        "start_time": "2022-01-25T19:30:50.312Z"
      },
      {
        "duration": 9,
        "start_time": "2022-01-25T19:30:50.320Z"
      },
      {
        "duration": 6,
        "start_time": "2022-01-25T19:30:50.330Z"
      },
      {
        "duration": 11,
        "start_time": "2022-01-25T19:30:50.337Z"
      },
      {
        "duration": 9,
        "start_time": "2022-01-25T19:30:50.349Z"
      },
      {
        "duration": 18,
        "start_time": "2022-01-25T19:30:50.359Z"
      },
      {
        "duration": 64,
        "start_time": "2022-01-25T19:30:50.380Z"
      },
      {
        "duration": 18,
        "start_time": "2022-01-25T19:30:50.428Z"
      },
      {
        "duration": -5,
        "start_time": "2022-01-25T19:30:50.452Z"
      },
      {
        "duration": -6,
        "start_time": "2022-01-25T19:30:50.454Z"
      },
      {
        "duration": -7,
        "start_time": "2022-01-25T19:30:50.456Z"
      },
      {
        "duration": -8,
        "start_time": "2022-01-25T19:30:50.458Z"
      },
      {
        "duration": -8,
        "start_time": "2022-01-25T19:30:50.459Z"
      },
      {
        "duration": -9,
        "start_time": "2022-01-25T19:30:50.461Z"
      },
      {
        "duration": -10,
        "start_time": "2022-01-25T19:30:50.463Z"
      },
      {
        "duration": -17,
        "start_time": "2022-01-25T19:30:50.471Z"
      },
      {
        "duration": -19,
        "start_time": "2022-01-25T19:30:50.474Z"
      },
      {
        "duration": -20,
        "start_time": "2022-01-25T19:30:50.476Z"
      },
      {
        "duration": -20,
        "start_time": "2022-01-25T19:30:50.477Z"
      },
      {
        "duration": -21,
        "start_time": "2022-01-25T19:30:50.479Z"
      },
      {
        "duration": 1124,
        "start_time": "2022-01-25T19:31:34.935Z"
      },
      {
        "duration": 785,
        "start_time": "2022-01-25T19:31:36.061Z"
      },
      {
        "duration": 47,
        "start_time": "2022-01-25T19:31:36.851Z"
      },
      {
        "duration": 64,
        "start_time": "2022-01-25T19:31:36.899Z"
      },
      {
        "duration": 3,
        "start_time": "2022-01-25T19:31:36.965Z"
      },
      {
        "duration": 10,
        "start_time": "2022-01-25T19:31:36.970Z"
      },
      {
        "duration": 48,
        "start_time": "2022-01-25T19:31:36.983Z"
      },
      {
        "duration": 27,
        "start_time": "2022-01-25T19:31:37.033Z"
      },
      {
        "duration": 51,
        "start_time": "2022-01-25T19:31:37.062Z"
      },
      {
        "duration": 14,
        "start_time": "2022-01-25T19:31:37.114Z"
      },
      {
        "duration": 19,
        "start_time": "2022-01-25T19:31:37.129Z"
      },
      {
        "duration": 6,
        "start_time": "2022-01-25T19:31:37.150Z"
      },
      {
        "duration": 65,
        "start_time": "2022-01-25T19:31:37.158Z"
      },
      {
        "duration": 7,
        "start_time": "2022-01-25T19:31:37.225Z"
      },
      {
        "duration": 11,
        "start_time": "2022-01-25T19:31:37.233Z"
      },
      {
        "duration": 9,
        "start_time": "2022-01-25T19:31:37.246Z"
      },
      {
        "duration": 58,
        "start_time": "2022-01-25T19:31:37.257Z"
      },
      {
        "duration": 10,
        "start_time": "2022-01-25T19:31:37.317Z"
      },
      {
        "duration": 7,
        "start_time": "2022-01-25T19:31:37.329Z"
      },
      {
        "duration": 17,
        "start_time": "2022-01-25T19:31:37.337Z"
      },
      {
        "duration": 64,
        "start_time": "2022-01-25T19:31:37.355Z"
      },
      {
        "duration": -401,
        "start_time": "2022-01-25T19:31:37.823Z"
      },
      {
        "duration": -402,
        "start_time": "2022-01-25T19:31:37.825Z"
      },
      {
        "duration": -403,
        "start_time": "2022-01-25T19:31:37.827Z"
      },
      {
        "duration": -405,
        "start_time": "2022-01-25T19:31:37.830Z"
      },
      {
        "duration": -407,
        "start_time": "2022-01-25T19:31:37.833Z"
      },
      {
        "duration": -408,
        "start_time": "2022-01-25T19:31:37.835Z"
      },
      {
        "duration": -410,
        "start_time": "2022-01-25T19:31:37.837Z"
      },
      {
        "duration": -412,
        "start_time": "2022-01-25T19:31:37.840Z"
      },
      {
        "duration": -414,
        "start_time": "2022-01-25T19:31:37.843Z"
      },
      {
        "duration": -414,
        "start_time": "2022-01-25T19:31:37.844Z"
      },
      {
        "duration": -415,
        "start_time": "2022-01-25T19:31:37.846Z"
      },
      {
        "duration": -416,
        "start_time": "2022-01-25T19:31:37.848Z"
      },
      {
        "duration": -417,
        "start_time": "2022-01-25T19:31:37.850Z"
      },
      {
        "duration": 290,
        "start_time": "2022-01-25T19:32:54.138Z"
      },
      {
        "duration": 1076,
        "start_time": "2022-01-25T19:33:06.605Z"
      },
      {
        "duration": 734,
        "start_time": "2022-01-25T19:33:07.683Z"
      },
      {
        "duration": 51,
        "start_time": "2022-01-25T19:33:08.420Z"
      },
      {
        "duration": 70,
        "start_time": "2022-01-25T19:33:08.474Z"
      },
      {
        "duration": 4,
        "start_time": "2022-01-25T19:33:08.545Z"
      },
      {
        "duration": 63,
        "start_time": "2022-01-25T19:33:08.550Z"
      },
      {
        "duration": 102,
        "start_time": "2022-01-25T19:33:08.615Z"
      },
      {
        "duration": 30,
        "start_time": "2022-01-25T19:33:08.720Z"
      },
      {
        "duration": 88,
        "start_time": "2022-01-25T19:33:08.752Z"
      },
      {
        "duration": 13,
        "start_time": "2022-01-25T19:33:08.841Z"
      },
      {
        "duration": 73,
        "start_time": "2022-01-25T19:33:08.856Z"
      },
      {
        "duration": 6,
        "start_time": "2022-01-25T19:33:08.931Z"
      },
      {
        "duration": 275,
        "start_time": "2022-01-25T19:33:08.939Z"
      },
      {
        "duration": 19,
        "start_time": "2022-01-25T19:33:09.197Z"
      },
      {
        "duration": 17,
        "start_time": "2022-01-25T19:33:09.201Z"
      },
      {
        "duration": 5,
        "start_time": "2022-01-25T19:33:09.213Z"
      },
      {
        "duration": 3,
        "start_time": "2022-01-25T19:33:09.216Z"
      },
      {
        "duration": 2,
        "start_time": "2022-01-25T19:33:09.218Z"
      },
      {
        "duration": 1,
        "start_time": "2022-01-25T19:33:09.220Z"
      },
      {
        "duration": -1,
        "start_time": "2022-01-25T19:33:09.223Z"
      },
      {
        "duration": -2,
        "start_time": "2022-01-25T19:33:09.225Z"
      },
      {
        "duration": -10,
        "start_time": "2022-01-25T19:33:09.234Z"
      },
      {
        "duration": -12,
        "start_time": "2022-01-25T19:33:09.236Z"
      },
      {
        "duration": -13,
        "start_time": "2022-01-25T19:33:09.238Z"
      },
      {
        "duration": -18,
        "start_time": "2022-01-25T19:33:09.244Z"
      },
      {
        "duration": -19,
        "start_time": "2022-01-25T19:33:09.246Z"
      },
      {
        "duration": -20,
        "start_time": "2022-01-25T19:33:09.248Z"
      },
      {
        "duration": -26,
        "start_time": "2022-01-25T19:33:09.255Z"
      },
      {
        "duration": -27,
        "start_time": "2022-01-25T19:33:09.257Z"
      },
      {
        "duration": -28,
        "start_time": "2022-01-25T19:33:09.259Z"
      },
      {
        "duration": -30,
        "start_time": "2022-01-25T19:33:09.261Z"
      },
      {
        "duration": -68,
        "start_time": "2022-01-25T19:33:09.300Z"
      },
      {
        "duration": -69,
        "start_time": "2022-01-25T19:33:09.302Z"
      },
      {
        "duration": -70,
        "start_time": "2022-01-25T19:33:09.304Z"
      },
      {
        "duration": -70,
        "start_time": "2022-01-25T19:33:09.305Z"
      },
      {
        "duration": 10,
        "start_time": "2022-01-25T19:33:22.684Z"
      },
      {
        "duration": 6,
        "start_time": "2022-01-25T19:33:25.792Z"
      },
      {
        "duration": 1019,
        "start_time": "2022-01-25T19:34:28.938Z"
      },
      {
        "duration": 720,
        "start_time": "2022-01-25T19:34:29.959Z"
      },
      {
        "duration": 48,
        "start_time": "2022-01-25T19:34:30.681Z"
      },
      {
        "duration": 63,
        "start_time": "2022-01-25T19:34:30.731Z"
      },
      {
        "duration": 16,
        "start_time": "2022-01-25T19:34:30.796Z"
      },
      {
        "duration": 13,
        "start_time": "2022-01-25T19:34:30.813Z"
      },
      {
        "duration": 98,
        "start_time": "2022-01-25T19:34:30.827Z"
      },
      {
        "duration": 28,
        "start_time": "2022-01-25T19:34:30.926Z"
      },
      {
        "duration": 83,
        "start_time": "2022-01-25T19:34:30.957Z"
      },
      {
        "duration": 14,
        "start_time": "2022-01-25T19:34:31.041Z"
      },
      {
        "duration": 74,
        "start_time": "2022-01-25T19:34:31.056Z"
      },
      {
        "duration": 11,
        "start_time": "2022-01-25T19:34:31.132Z"
      },
      {
        "duration": 6,
        "start_time": "2022-01-25T19:34:31.145Z"
      },
      {
        "duration": 65,
        "start_time": "2022-01-25T19:34:31.153Z"
      },
      {
        "duration": 9,
        "start_time": "2022-01-25T19:34:31.219Z"
      },
      {
        "duration": 13,
        "start_time": "2022-01-25T19:34:31.229Z"
      },
      {
        "duration": 9,
        "start_time": "2022-01-25T19:34:31.244Z"
      },
      {
        "duration": 68,
        "start_time": "2022-01-25T19:34:31.254Z"
      },
      {
        "duration": 66,
        "start_time": "2022-01-25T19:34:31.324Z"
      },
      {
        "duration": -42,
        "start_time": "2022-01-25T19:34:31.434Z"
      },
      {
        "duration": -42,
        "start_time": "2022-01-25T19:34:31.435Z"
      },
      {
        "duration": -43,
        "start_time": "2022-01-25T19:34:31.437Z"
      },
      {
        "duration": -43,
        "start_time": "2022-01-25T19:34:31.438Z"
      },
      {
        "duration": -44,
        "start_time": "2022-01-25T19:34:31.440Z"
      },
      {
        "duration": -44,
        "start_time": "2022-01-25T19:34:31.441Z"
      },
      {
        "duration": -44,
        "start_time": "2022-01-25T19:34:31.442Z"
      },
      {
        "duration": -45,
        "start_time": "2022-01-25T19:34:31.444Z"
      },
      {
        "duration": -46,
        "start_time": "2022-01-25T19:34:31.446Z"
      },
      {
        "duration": -46,
        "start_time": "2022-01-25T19:34:31.447Z"
      },
      {
        "duration": -47,
        "start_time": "2022-01-25T19:34:31.449Z"
      },
      {
        "duration": -47,
        "start_time": "2022-01-25T19:34:31.450Z"
      },
      {
        "duration": -47,
        "start_time": "2022-01-25T19:34:31.451Z"
      },
      {
        "duration": 37,
        "start_time": "2022-01-25T19:34:51.639Z"
      },
      {
        "duration": 9,
        "start_time": "2022-01-25T19:35:09.319Z"
      },
      {
        "duration": 1143,
        "start_time": "2022-01-25T19:35:30.017Z"
      },
      {
        "duration": 862,
        "start_time": "2022-01-25T19:35:31.161Z"
      },
      {
        "duration": 50,
        "start_time": "2022-01-25T19:35:32.025Z"
      },
      {
        "duration": 74,
        "start_time": "2022-01-25T19:35:32.077Z"
      },
      {
        "duration": 4,
        "start_time": "2022-01-25T19:35:32.153Z"
      },
      {
        "duration": 16,
        "start_time": "2022-01-25T19:35:32.159Z"
      },
      {
        "duration": 57,
        "start_time": "2022-01-25T19:35:32.177Z"
      },
      {
        "duration": 30,
        "start_time": "2022-01-25T19:35:32.235Z"
      },
      {
        "duration": 59,
        "start_time": "2022-01-25T19:35:32.269Z"
      },
      {
        "duration": 21,
        "start_time": "2022-01-25T19:35:32.331Z"
      },
      {
        "duration": 13,
        "start_time": "2022-01-25T19:35:32.354Z"
      },
      {
        "duration": 9,
        "start_time": "2022-01-25T19:35:32.369Z"
      },
      {
        "duration": 35,
        "start_time": "2022-01-25T19:35:32.380Z"
      },
      {
        "duration": 11,
        "start_time": "2022-01-25T19:35:32.417Z"
      },
      {
        "duration": 7,
        "start_time": "2022-01-25T19:35:32.430Z"
      },
      {
        "duration": 13,
        "start_time": "2022-01-25T19:35:32.439Z"
      },
      {
        "duration": 7,
        "start_time": "2022-01-25T19:35:32.454Z"
      },
      {
        "duration": 19,
        "start_time": "2022-01-25T19:35:32.463Z"
      },
      {
        "duration": 72,
        "start_time": "2022-01-25T19:35:32.512Z"
      },
      {
        "duration": 9,
        "start_time": "2022-01-25T19:35:32.578Z"
      },
      {
        "duration": 8,
        "start_time": "2022-01-25T19:35:32.580Z"
      },
      {
        "duration": 8,
        "start_time": "2022-01-25T19:35:32.581Z"
      },
      {
        "duration": 2,
        "start_time": "2022-01-25T19:35:32.589Z"
      },
      {
        "duration": 1,
        "start_time": "2022-01-25T19:35:32.591Z"
      },
      {
        "duration": -12,
        "start_time": "2022-01-25T19:35:32.605Z"
      },
      {
        "duration": -13,
        "start_time": "2022-01-25T19:35:32.607Z"
      },
      {
        "duration": -14,
        "start_time": "2022-01-25T19:35:32.609Z"
      },
      {
        "duration": -14,
        "start_time": "2022-01-25T19:35:32.610Z"
      },
      {
        "duration": -14,
        "start_time": "2022-01-25T19:35:32.612Z"
      },
      {
        "duration": -15,
        "start_time": "2022-01-25T19:35:32.613Z"
      },
      {
        "duration": -16,
        "start_time": "2022-01-25T19:35:32.615Z"
      },
      {
        "duration": -24,
        "start_time": "2022-01-25T19:35:32.624Z"
      },
      {
        "duration": 1102,
        "start_time": "2022-01-25T19:36:07.444Z"
      },
      {
        "duration": 1818,
        "start_time": "2022-01-25T19:36:08.548Z"
      },
      {
        "duration": 49,
        "start_time": "2022-01-25T19:36:10.369Z"
      },
      {
        "duration": 62,
        "start_time": "2022-01-25T19:36:10.420Z"
      },
      {
        "duration": 3,
        "start_time": "2022-01-25T19:36:10.484Z"
      },
      {
        "duration": 26,
        "start_time": "2022-01-25T19:36:10.489Z"
      },
      {
        "duration": 48,
        "start_time": "2022-01-25T19:36:10.517Z"
      },
      {
        "duration": 29,
        "start_time": "2022-01-25T19:36:10.567Z"
      },
      {
        "duration": 51,
        "start_time": "2022-01-25T19:36:10.598Z"
      },
      {
        "duration": 20,
        "start_time": "2022-01-25T19:36:10.651Z"
      },
      {
        "duration": 11,
        "start_time": "2022-01-25T19:36:10.673Z"
      },
      {
        "duration": 32,
        "start_time": "2022-01-25T19:36:10.685Z"
      },
      {
        "duration": 6,
        "start_time": "2022-01-25T19:36:10.718Z"
      },
      {
        "duration": 7,
        "start_time": "2022-01-25T19:36:10.726Z"
      },
      {
        "duration": 5,
        "start_time": "2022-01-25T19:36:10.735Z"
      },
      {
        "duration": 7,
        "start_time": "2022-01-25T19:36:10.741Z"
      },
      {
        "duration": 7,
        "start_time": "2022-01-25T19:36:10.749Z"
      },
      {
        "duration": 17,
        "start_time": "2022-01-25T19:36:10.758Z"
      },
      {
        "duration": 42,
        "start_time": "2022-01-25T19:36:10.776Z"
      },
      {
        "duration": 12,
        "start_time": "2022-01-25T19:36:10.820Z"
      },
      {
        "duration": 16,
        "start_time": "2022-01-25T19:36:10.833Z"
      },
      {
        "duration": 36,
        "start_time": "2022-01-25T19:36:10.850Z"
      },
      {
        "duration": 19,
        "start_time": "2022-01-25T19:36:10.913Z"
      },
      {
        "duration": 494,
        "start_time": "2022-01-25T19:36:10.934Z"
      },
      {
        "duration": -84,
        "start_time": "2022-01-25T19:36:11.514Z"
      },
      {
        "duration": -86,
        "start_time": "2022-01-25T19:36:11.517Z"
      },
      {
        "duration": -88,
        "start_time": "2022-01-25T19:36:11.520Z"
      },
      {
        "duration": -89,
        "start_time": "2022-01-25T19:36:11.522Z"
      },
      {
        "duration": -90,
        "start_time": "2022-01-25T19:36:11.524Z"
      },
      {
        "duration": -91,
        "start_time": "2022-01-25T19:36:11.526Z"
      },
      {
        "duration": -91,
        "start_time": "2022-01-25T19:36:11.527Z"
      },
      {
        "duration": -92,
        "start_time": "2022-01-25T19:36:11.529Z"
      },
      {
        "duration": 15,
        "start_time": "2022-01-25T19:36:44.475Z"
      },
      {
        "duration": 7,
        "start_time": "2022-01-25T19:37:22.708Z"
      },
      {
        "duration": 6,
        "start_time": "2022-01-25T19:38:27.844Z"
      },
      {
        "duration": 992,
        "start_time": "2022-01-25T19:38:50.372Z"
      },
      {
        "duration": 1821,
        "start_time": "2022-01-25T19:38:51.366Z"
      },
      {
        "duration": 46,
        "start_time": "2022-01-25T19:38:53.189Z"
      },
      {
        "duration": 61,
        "start_time": "2022-01-25T19:38:53.237Z"
      },
      {
        "duration": 15,
        "start_time": "2022-01-25T19:38:53.299Z"
      },
      {
        "duration": 19,
        "start_time": "2022-01-25T19:38:53.316Z"
      },
      {
        "duration": 49,
        "start_time": "2022-01-25T19:38:53.337Z"
      },
      {
        "duration": 37,
        "start_time": "2022-01-25T19:38:53.388Z"
      },
      {
        "duration": 37,
        "start_time": "2022-01-25T19:38:53.427Z"
      },
      {
        "duration": 20,
        "start_time": "2022-01-25T19:38:53.466Z"
      },
      {
        "duration": 27,
        "start_time": "2022-01-25T19:38:53.487Z"
      },
      {
        "duration": 4,
        "start_time": "2022-01-25T19:38:53.516Z"
      },
      {
        "duration": 8,
        "start_time": "2022-01-25T19:38:53.521Z"
      },
      {
        "duration": 1296,
        "start_time": "2022-01-25T19:38:53.531Z"
      },
      {
        "duration": 25,
        "start_time": "2022-01-25T19:38:54.805Z"
      },
      {
        "duration": 11,
        "start_time": "2022-01-25T19:38:54.820Z"
      },
      {
        "duration": 9,
        "start_time": "2022-01-25T19:38:54.823Z"
      },
      {
        "duration": 9,
        "start_time": "2022-01-25T19:38:54.824Z"
      },
      {
        "duration": 8,
        "start_time": "2022-01-25T19:38:54.826Z"
      },
      {
        "duration": 7,
        "start_time": "2022-01-25T19:38:54.828Z"
      },
      {
        "duration": 6,
        "start_time": "2022-01-25T19:38:54.830Z"
      },
      {
        "duration": 4,
        "start_time": "2022-01-25T19:38:54.833Z"
      },
      {
        "duration": 3,
        "start_time": "2022-01-25T19:38:54.835Z"
      },
      {
        "duration": 2,
        "start_time": "2022-01-25T19:38:54.836Z"
      },
      {
        "duration": 1,
        "start_time": "2022-01-25T19:38:54.838Z"
      },
      {
        "duration": 1,
        "start_time": "2022-01-25T19:38:54.839Z"
      },
      {
        "duration": 0,
        "start_time": "2022-01-25T19:38:54.841Z"
      },
      {
        "duration": -1,
        "start_time": "2022-01-25T19:38:54.843Z"
      },
      {
        "duration": -2,
        "start_time": "2022-01-25T19:38:54.845Z"
      },
      {
        "duration": -21,
        "start_time": "2022-01-25T19:38:54.865Z"
      },
      {
        "duration": -47,
        "start_time": "2022-01-25T19:38:54.892Z"
      },
      {
        "duration": -48,
        "start_time": "2022-01-25T19:38:54.894Z"
      },
      {
        "duration": -48,
        "start_time": "2022-01-25T19:38:54.895Z"
      },
      {
        "duration": 20,
        "start_time": "2022-01-25T19:39:12.336Z"
      },
      {
        "duration": 7,
        "start_time": "2022-01-25T19:39:12.989Z"
      },
      {
        "duration": 21,
        "start_time": "2022-01-25T19:39:17.402Z"
      },
      {
        "duration": 8,
        "start_time": "2022-01-25T19:39:17.780Z"
      },
      {
        "duration": 20,
        "start_time": "2022-01-25T19:39:26.168Z"
      },
      {
        "duration": 7,
        "start_time": "2022-01-25T19:39:26.524Z"
      },
      {
        "duration": 4,
        "start_time": "2022-01-25T19:39:39.898Z"
      },
      {
        "duration": 19,
        "start_time": "2022-01-25T19:39:45.117Z"
      },
      {
        "duration": 6,
        "start_time": "2022-01-25T19:39:45.276Z"
      },
      {
        "duration": 5,
        "start_time": "2022-01-25T19:39:46.269Z"
      },
      {
        "duration": 19,
        "start_time": "2022-01-25T19:39:49.085Z"
      },
      {
        "duration": 7,
        "start_time": "2022-01-25T19:39:49.369Z"
      },
      {
        "duration": 4,
        "start_time": "2022-01-25T19:39:50.530Z"
      },
      {
        "duration": 23,
        "start_time": "2022-01-25T19:39:56.212Z"
      },
      {
        "duration": 7,
        "start_time": "2022-01-25T19:39:56.403Z"
      },
      {
        "duration": 5,
        "start_time": "2022-01-25T19:39:57.664Z"
      },
      {
        "duration": 20,
        "start_time": "2022-01-25T19:40:01.169Z"
      },
      {
        "duration": 8,
        "start_time": "2022-01-25T19:40:01.451Z"
      },
      {
        "duration": 5,
        "start_time": "2022-01-25T19:40:03.159Z"
      },
      {
        "duration": 19,
        "start_time": "2022-01-25T19:40:08.665Z"
      },
      {
        "duration": 8,
        "start_time": "2022-01-25T19:40:09.505Z"
      },
      {
        "duration": 5,
        "start_time": "2022-01-25T19:40:10.482Z"
      },
      {
        "duration": 29,
        "start_time": "2022-01-25T19:40:26.020Z"
      },
      {
        "duration": 28,
        "start_time": "2022-01-25T19:40:35.618Z"
      },
      {
        "duration": 29,
        "start_time": "2022-01-25T19:40:39.630Z"
      },
      {
        "duration": 200,
        "start_time": "2022-01-25T19:41:01.297Z"
      },
      {
        "duration": 7,
        "start_time": "2022-01-25T19:41:01.865Z"
      },
      {
        "duration": 20,
        "start_time": "2022-01-25T19:41:11.156Z"
      },
      {
        "duration": 8,
        "start_time": "2022-01-25T19:41:12.752Z"
      },
      {
        "duration": 5,
        "start_time": "2022-01-25T19:41:14.340Z"
      },
      {
        "duration": 6,
        "start_time": "2022-01-25T19:41:15.100Z"
      },
      {
        "duration": 20,
        "start_time": "2022-01-25T19:41:21.797Z"
      },
      {
        "duration": 8,
        "start_time": "2022-01-25T19:41:22.401Z"
      },
      {
        "duration": 24,
        "start_time": "2022-01-25T19:41:29.325Z"
      },
      {
        "duration": 13,
        "start_time": "2022-01-25T19:41:29.795Z"
      },
      {
        "duration": 4,
        "start_time": "2022-01-25T19:41:31.240Z"
      },
      {
        "duration": 27,
        "start_time": "2022-01-25T19:41:43.055Z"
      },
      {
        "duration": 7,
        "start_time": "2022-01-25T19:41:43.433Z"
      },
      {
        "duration": 11,
        "start_time": "2022-01-25T19:42:01.290Z"
      },
      {
        "duration": 217,
        "start_time": "2022-01-25T19:42:04.776Z"
      },
      {
        "duration": 11,
        "start_time": "2022-01-25T19:42:08.431Z"
      },
      {
        "duration": 33,
        "start_time": "2022-01-25T19:42:11.376Z"
      },
      {
        "duration": 26,
        "start_time": "2022-01-25T19:42:37.969Z"
      },
      {
        "duration": 232,
        "start_time": "2022-01-25T19:42:45.418Z"
      },
      {
        "duration": 42,
        "start_time": "2022-01-25T19:42:47.361Z"
      },
      {
        "duration": 38,
        "start_time": "2022-01-25T19:42:49.381Z"
      },
      {
        "duration": 27,
        "start_time": "2022-01-25T19:42:55.276Z"
      },
      {
        "duration": 37,
        "start_time": "2022-01-25T19:43:00.982Z"
      },
      {
        "duration": 36,
        "start_time": "2022-01-25T19:43:02.816Z"
      },
      {
        "duration": 4,
        "start_time": "2022-01-25T19:43:10.504Z"
      },
      {
        "duration": 21,
        "start_time": "2022-01-25T19:43:11.953Z"
      },
      {
        "duration": 7,
        "start_time": "2022-01-25T19:43:12.858Z"
      },
      {
        "duration": 4,
        "start_time": "2022-01-25T19:43:13.195Z"
      },
      {
        "duration": 6,
        "start_time": "2022-01-25T19:43:18.770Z"
      },
      {
        "duration": 9,
        "start_time": "2022-01-25T19:43:19.691Z"
      },
      {
        "duration": 4,
        "start_time": "2022-01-25T19:43:21.858Z"
      },
      {
        "duration": 6,
        "start_time": "2022-01-25T19:43:23.625Z"
      },
      {
        "duration": 8,
        "start_time": "2022-01-25T19:43:44.242Z"
      },
      {
        "duration": 9,
        "start_time": "2022-01-25T19:43:44.977Z"
      },
      {
        "duration": 5,
        "start_time": "2022-01-25T19:43:46.667Z"
      },
      {
        "duration": 7,
        "start_time": "2022-01-25T19:43:48.356Z"
      },
      {
        "duration": 7,
        "start_time": "2022-01-25T19:43:58.472Z"
      },
      {
        "duration": 10,
        "start_time": "2022-01-25T19:43:59.464Z"
      },
      {
        "duration": 5,
        "start_time": "2022-01-25T19:44:09.100Z"
      },
      {
        "duration": 8,
        "start_time": "2022-01-25T19:44:09.897Z"
      },
      {
        "duration": 22,
        "start_time": "2022-01-25T19:44:13.019Z"
      },
      {
        "duration": 8,
        "start_time": "2022-01-25T19:44:13.391Z"
      },
      {
        "duration": 22,
        "start_time": "2022-01-25T19:44:26.578Z"
      },
      {
        "duration": 7,
        "start_time": "2022-01-25T19:44:27.050Z"
      },
      {
        "duration": 5,
        "start_time": "2022-01-25T19:44:29.346Z"
      },
      {
        "duration": 7,
        "start_time": "2022-01-25T19:44:30.112Z"
      },
      {
        "duration": 8,
        "start_time": "2022-01-25T19:44:30.787Z"
      },
      {
        "duration": 7,
        "start_time": "2022-01-25T19:44:34.679Z"
      },
      {
        "duration": 19,
        "start_time": "2022-01-25T19:45:25.672Z"
      },
      {
        "duration": 7,
        "start_time": "2022-01-25T19:45:26.004Z"
      },
      {
        "duration": 5,
        "start_time": "2022-01-25T19:45:28.759Z"
      },
      {
        "duration": 5,
        "start_time": "2022-01-25T19:45:31.041Z"
      },
      {
        "duration": 8,
        "start_time": "2022-01-25T19:45:31.509Z"
      },
      {
        "duration": 6,
        "start_time": "2022-01-25T19:45:39.111Z"
      },
      {
        "duration": 9,
        "start_time": "2022-01-25T19:45:40.285Z"
      },
      {
        "duration": 6,
        "start_time": "2022-01-25T19:45:42.606Z"
      },
      {
        "duration": 7,
        "start_time": "2022-01-25T19:45:42.784Z"
      },
      {
        "duration": 7,
        "start_time": "2022-01-25T19:45:47.885Z"
      },
      {
        "duration": 20,
        "start_time": "2022-01-25T19:45:48.761Z"
      },
      {
        "duration": 13,
        "start_time": "2022-01-25T19:45:50.255Z"
      },
      {
        "duration": 14,
        "start_time": "2022-01-25T19:47:19.372Z"
      },
      {
        "duration": 12,
        "start_time": "2022-01-25T19:49:19.685Z"
      },
      {
        "duration": 5,
        "start_time": "2022-01-25T19:50:24.818Z"
      },
      {
        "duration": 6,
        "start_time": "2022-01-25T19:50:53.449Z"
      },
      {
        "duration": 4,
        "start_time": "2022-01-25T19:51:10.793Z"
      },
      {
        "duration": 5,
        "start_time": "2022-01-25T19:51:10.930Z"
      },
      {
        "duration": 5,
        "start_time": "2022-01-25T19:51:11.769Z"
      },
      {
        "duration": 5,
        "start_time": "2022-01-25T19:51:12.089Z"
      },
      {
        "duration": 12,
        "start_time": "2022-01-25T19:52:07.417Z"
      },
      {
        "duration": 20,
        "start_time": "2022-01-25T19:53:44.933Z"
      },
      {
        "duration": 1034,
        "start_time": "2022-01-25T19:54:34.620Z"
      },
      {
        "duration": 900,
        "start_time": "2022-01-25T19:54:35.655Z"
      },
      {
        "duration": 50,
        "start_time": "2022-01-25T19:54:36.559Z"
      },
      {
        "duration": 63,
        "start_time": "2022-01-25T19:54:36.610Z"
      },
      {
        "duration": 5,
        "start_time": "2022-01-25T19:54:36.675Z"
      },
      {
        "duration": 6,
        "start_time": "2022-01-25T19:54:36.682Z"
      },
      {
        "duration": 3,
        "start_time": "2022-01-25T19:54:36.691Z"
      },
      {
        "duration": 4,
        "start_time": "2022-01-25T19:54:36.713Z"
      },
      {
        "duration": 4,
        "start_time": "2022-01-25T19:54:36.718Z"
      },
      {
        "duration": 10,
        "start_time": "2022-01-25T19:54:36.724Z"
      },
      {
        "duration": 15,
        "start_time": "2022-01-25T19:54:36.736Z"
      },
      {
        "duration": 74,
        "start_time": "2022-01-25T19:54:36.753Z"
      },
      {
        "duration": 30,
        "start_time": "2022-01-25T19:54:36.830Z"
      },
      {
        "duration": 61,
        "start_time": "2022-01-25T19:54:36.862Z"
      },
      {
        "duration": 20,
        "start_time": "2022-01-25T19:54:36.926Z"
      },
      {
        "duration": 25,
        "start_time": "2022-01-25T19:54:36.948Z"
      },
      {
        "duration": 8,
        "start_time": "2022-01-25T19:54:36.975Z"
      },
      {
        "duration": 32,
        "start_time": "2022-01-25T19:54:36.984Z"
      },
      {
        "duration": 270,
        "start_time": "2022-01-25T19:54:37.018Z"
      },
      {
        "duration": -15,
        "start_time": "2022-01-25T19:54:37.305Z"
      },
      {
        "duration": -59,
        "start_time": "2022-01-25T19:54:37.350Z"
      },
      {
        "duration": -60,
        "start_time": "2022-01-25T19:54:37.353Z"
      },
      {
        "duration": -62,
        "start_time": "2022-01-25T19:54:37.356Z"
      },
      {
        "duration": -62,
        "start_time": "2022-01-25T19:54:37.358Z"
      },
      {
        "duration": -63,
        "start_time": "2022-01-25T19:54:37.360Z"
      },
      {
        "duration": -64,
        "start_time": "2022-01-25T19:54:37.362Z"
      },
      {
        "duration": -64,
        "start_time": "2022-01-25T19:54:37.364Z"
      },
      {
        "duration": -81,
        "start_time": "2022-01-25T19:54:37.382Z"
      },
      {
        "duration": -89,
        "start_time": "2022-01-25T19:54:37.391Z"
      },
      {
        "duration": -89,
        "start_time": "2022-01-25T19:54:37.393Z"
      },
      {
        "duration": -90,
        "start_time": "2022-01-25T19:54:37.395Z"
      },
      {
        "duration": -91,
        "start_time": "2022-01-25T19:54:37.398Z"
      },
      {
        "duration": -100,
        "start_time": "2022-01-25T19:54:37.408Z"
      },
      {
        "duration": -100,
        "start_time": "2022-01-25T19:54:37.410Z"
      },
      {
        "duration": -101,
        "start_time": "2022-01-25T19:54:37.412Z"
      },
      {
        "duration": -101,
        "start_time": "2022-01-25T19:54:37.414Z"
      },
      {
        "duration": -110,
        "start_time": "2022-01-25T19:54:37.424Z"
      },
      {
        "duration": -110,
        "start_time": "2022-01-25T19:54:37.426Z"
      },
      {
        "duration": -112,
        "start_time": "2022-01-25T19:54:37.429Z"
      },
      {
        "duration": -114,
        "start_time": "2022-01-25T19:54:37.432Z"
      },
      {
        "duration": 34,
        "start_time": "2022-01-25T19:55:24.002Z"
      },
      {
        "duration": 11,
        "start_time": "2022-01-25T19:55:27.112Z"
      },
      {
        "duration": 11,
        "start_time": "2022-01-25T19:55:30.822Z"
      },
      {
        "duration": 205,
        "start_time": "2022-01-25T19:55:37.425Z"
      },
      {
        "duration": 6,
        "start_time": "2022-01-25T19:55:47.697Z"
      },
      {
        "duration": 4,
        "start_time": "2022-01-25T19:55:51.787Z"
      },
      {
        "duration": 4,
        "start_time": "2022-01-25T19:56:00.554Z"
      },
      {
        "duration": 5,
        "start_time": "2022-01-25T19:56:03.842Z"
      },
      {
        "duration": 13,
        "start_time": "2022-01-25T19:56:25.729Z"
      },
      {
        "duration": 16,
        "start_time": "2022-01-25T19:56:27.729Z"
      },
      {
        "duration": 24,
        "start_time": "2022-01-25T19:56:44.600Z"
      },
      {
        "duration": 55,
        "start_time": "2022-01-25T19:57:07.022Z"
      },
      {
        "duration": 7,
        "start_time": "2022-01-25T19:57:29.419Z"
      },
      {
        "duration": 4,
        "start_time": "2022-01-25T19:57:41.018Z"
      },
      {
        "duration": 7,
        "start_time": "2022-01-25T19:57:42.932Z"
      },
      {
        "duration": 186,
        "start_time": "2022-01-25T19:58:08.164Z"
      },
      {
        "duration": 206,
        "start_time": "2022-01-25T19:58:23.468Z"
      },
      {
        "duration": 178,
        "start_time": "2022-01-25T19:58:27.781Z"
      },
      {
        "duration": 24,
        "start_time": "2022-01-25T19:58:32.053Z"
      },
      {
        "duration": 5,
        "start_time": "2022-01-25T19:59:16.108Z"
      },
      {
        "duration": 20,
        "start_time": "2022-01-25T19:59:37.488Z"
      },
      {
        "duration": 7,
        "start_time": "2022-01-25T19:59:37.510Z"
      },
      {
        "duration": 20,
        "start_time": "2022-01-25T19:59:45.976Z"
      },
      {
        "duration": 7,
        "start_time": "2022-01-25T19:59:46.169Z"
      },
      {
        "duration": 206,
        "start_time": "2022-01-25T19:59:59.985Z"
      },
      {
        "duration": 5,
        "start_time": "2022-01-25T20:00:04.364Z"
      },
      {
        "duration": 15,
        "start_time": "2022-01-25T20:00:59.137Z"
      },
      {
        "duration": 12,
        "start_time": "2022-01-25T20:01:28.868Z"
      },
      {
        "duration": 9,
        "start_time": "2022-01-25T20:01:44.063Z"
      },
      {
        "duration": 13,
        "start_time": "2022-01-25T20:01:49.250Z"
      },
      {
        "duration": 1090,
        "start_time": "2022-01-25T20:02:22.291Z"
      },
      {
        "duration": 1819,
        "start_time": "2022-01-25T20:02:23.383Z"
      },
      {
        "duration": 49,
        "start_time": "2022-01-25T20:02:25.204Z"
      },
      {
        "duration": 70,
        "start_time": "2022-01-25T20:02:25.255Z"
      },
      {
        "duration": 7,
        "start_time": "2022-01-25T20:02:25.326Z"
      },
      {
        "duration": 17,
        "start_time": "2022-01-25T20:02:25.335Z"
      },
      {
        "duration": 6,
        "start_time": "2022-01-25T20:02:25.353Z"
      },
      {
        "duration": 8,
        "start_time": "2022-01-25T20:02:25.362Z"
      },
      {
        "duration": 5,
        "start_time": "2022-01-25T20:02:25.372Z"
      },
      {
        "duration": 37,
        "start_time": "2022-01-25T20:02:25.378Z"
      },
      {
        "duration": 10,
        "start_time": "2022-01-25T20:02:25.417Z"
      },
      {
        "duration": 13,
        "start_time": "2022-01-25T20:02:25.429Z"
      },
      {
        "duration": 70,
        "start_time": "2022-01-25T20:02:25.443Z"
      },
      {
        "duration": 5,
        "start_time": "2022-01-25T20:02:25.516Z"
      },
      {
        "duration": 32,
        "start_time": "2022-01-25T20:02:25.523Z"
      },
      {
        "duration": 62,
        "start_time": "2022-01-25T20:02:25.556Z"
      },
      {
        "duration": 22,
        "start_time": "2022-01-25T20:02:25.620Z"
      },
      {
        "duration": 8,
        "start_time": "2022-01-25T20:02:25.643Z"
      },
      {
        "duration": 5,
        "start_time": "2022-01-25T20:02:25.653Z"
      },
      {
        "duration": 52,
        "start_time": "2022-01-25T20:02:25.660Z"
      },
      {
        "duration": 1029,
        "start_time": "2022-01-25T20:02:25.714Z"
      },
      {
        "duration": 58,
        "start_time": "2022-01-25T20:02:26.689Z"
      },
      {
        "duration": 57,
        "start_time": "2022-01-25T20:02:26.691Z"
      },
      {
        "duration": 56,
        "start_time": "2022-01-25T20:02:26.693Z"
      },
      {
        "duration": 44,
        "start_time": "2022-01-25T20:02:26.707Z"
      },
      {
        "duration": 41,
        "start_time": "2022-01-25T20:02:26.711Z"
      },
      {
        "duration": 41,
        "start_time": "2022-01-25T20:02:26.713Z"
      },
      {
        "duration": 34,
        "start_time": "2022-01-25T20:02:26.721Z"
      },
      {
        "duration": 34,
        "start_time": "2022-01-25T20:02:26.723Z"
      },
      {
        "duration": 32,
        "start_time": "2022-01-25T20:02:26.726Z"
      },
      {
        "duration": 32,
        "start_time": "2022-01-25T20:02:26.728Z"
      },
      {
        "duration": 31,
        "start_time": "2022-01-25T20:02:26.730Z"
      },
      {
        "duration": 25,
        "start_time": "2022-01-25T20:02:26.738Z"
      },
      {
        "duration": 23,
        "start_time": "2022-01-25T20:02:26.741Z"
      },
      {
        "duration": 21,
        "start_time": "2022-01-25T20:02:26.744Z"
      },
      {
        "duration": 16,
        "start_time": "2022-01-25T20:02:26.751Z"
      },
      {
        "duration": 15,
        "start_time": "2022-01-25T20:02:26.753Z"
      },
      {
        "duration": 14,
        "start_time": "2022-01-25T20:02:26.755Z"
      },
      {
        "duration": 13,
        "start_time": "2022-01-25T20:02:26.757Z"
      },
      {
        "duration": 12,
        "start_time": "2022-01-25T20:02:26.759Z"
      },
      {
        "duration": 12,
        "start_time": "2022-01-25T20:02:26.760Z"
      },
      {
        "duration": 11,
        "start_time": "2022-01-25T20:02:26.762Z"
      },
      {
        "duration": 9,
        "start_time": "2022-01-25T20:02:57.513Z"
      },
      {
        "duration": 684,
        "start_time": "2022-01-25T20:02:57.909Z"
      },
      {
        "duration": 52,
        "start_time": "2022-01-25T20:02:58.661Z"
      },
      {
        "duration": 62,
        "start_time": "2022-01-25T20:03:00.592Z"
      },
      {
        "duration": 5,
        "start_time": "2022-01-25T20:03:01.484Z"
      },
      {
        "duration": 15,
        "start_time": "2022-01-25T20:03:02.546Z"
      },
      {
        "duration": 11,
        "start_time": "2022-01-25T20:03:11.387Z"
      },
      {
        "duration": 10,
        "start_time": "2022-01-25T20:04:11.109Z"
      },
      {
        "duration": 6,
        "start_time": "2022-01-25T20:04:16.724Z"
      },
      {
        "duration": 5,
        "start_time": "2022-01-25T20:04:29.206Z"
      },
      {
        "duration": 12,
        "start_time": "2022-01-25T20:04:51.243Z"
      },
      {
        "duration": 6,
        "start_time": "2022-01-25T20:04:51.925Z"
      },
      {
        "duration": 10,
        "start_time": "2022-01-25T20:04:58.285Z"
      },
      {
        "duration": 5,
        "start_time": "2022-01-25T20:04:58.528Z"
      },
      {
        "duration": 12,
        "start_time": "2022-01-25T20:05:03.866Z"
      },
      {
        "duration": 5,
        "start_time": "2022-01-25T20:05:04.125Z"
      },
      {
        "duration": 11,
        "start_time": "2022-01-25T20:05:12.581Z"
      },
      {
        "duration": 4,
        "start_time": "2022-01-25T20:05:12.751Z"
      },
      {
        "duration": 6,
        "start_time": "2022-01-25T20:05:13.632Z"
      },
      {
        "duration": 9,
        "start_time": "2022-01-25T20:05:31.867Z"
      },
      {
        "duration": 5,
        "start_time": "2022-01-25T20:05:32.044Z"
      },
      {
        "duration": 7,
        "start_time": "2022-01-25T20:05:32.655Z"
      },
      {
        "duration": 4,
        "start_time": "2022-01-25T20:05:34.994Z"
      },
      {
        "duration": 191,
        "start_time": "2022-01-25T20:06:41.703Z"
      },
      {
        "duration": 5193,
        "start_time": "2022-01-25T20:08:54.192Z"
      },
      {
        "duration": 31,
        "start_time": "2022-01-25T20:10:03.003Z"
      },
      {
        "duration": 25,
        "start_time": "2022-01-25T20:10:03.011Z"
      },
      {
        "duration": 1049,
        "start_time": "2022-01-25T20:11:01.413Z"
      },
      {
        "duration": 2241,
        "start_time": "2022-01-25T20:11:02.463Z"
      },
      {
        "duration": 48,
        "start_time": "2022-01-25T20:11:04.706Z"
      },
      {
        "duration": 73,
        "start_time": "2022-01-25T20:11:04.755Z"
      },
      {
        "duration": 3,
        "start_time": "2022-01-25T20:11:04.830Z"
      },
      {
        "duration": 8,
        "start_time": "2022-01-25T20:11:04.835Z"
      },
      {
        "duration": 68,
        "start_time": "2022-01-25T20:11:04.845Z"
      },
      {
        "duration": 30,
        "start_time": "2022-01-25T20:11:04.915Z"
      },
      {
        "duration": 39,
        "start_time": "2022-01-25T20:11:04.947Z"
      },
      {
        "duration": 42,
        "start_time": "2022-01-25T20:11:04.988Z"
      },
      {
        "duration": 4,
        "start_time": "2022-01-25T20:11:05.032Z"
      },
      {
        "duration": 12,
        "start_time": "2022-01-25T20:11:05.037Z"
      },
      {
        "duration": 283,
        "start_time": "2022-01-25T20:11:05.051Z"
      },
      {
        "duration": -8,
        "start_time": "2022-01-25T20:11:05.344Z"
      },
      {
        "duration": -9,
        "start_time": "2022-01-25T20:11:05.346Z"
      },
      {
        "duration": -24,
        "start_time": "2022-01-25T20:11:05.362Z"
      },
      {
        "duration": -31,
        "start_time": "2022-01-25T20:11:05.370Z"
      },
      {
        "duration": -33,
        "start_time": "2022-01-25T20:11:05.373Z"
      },
      {
        "duration": -34,
        "start_time": "2022-01-25T20:11:05.375Z"
      },
      {
        "duration": -36,
        "start_time": "2022-01-25T20:11:05.378Z"
      },
      {
        "duration": -37,
        "start_time": "2022-01-25T20:11:05.380Z"
      },
      {
        "duration": -38,
        "start_time": "2022-01-25T20:11:05.382Z"
      },
      {
        "duration": -39,
        "start_time": "2022-01-25T20:11:05.384Z"
      },
      {
        "duration": -40,
        "start_time": "2022-01-25T20:11:05.386Z"
      },
      {
        "duration": -42,
        "start_time": "2022-01-25T20:11:05.388Z"
      },
      {
        "duration": -42,
        "start_time": "2022-01-25T20:11:05.390Z"
      },
      {
        "duration": -44,
        "start_time": "2022-01-25T20:11:05.393Z"
      },
      {
        "duration": -44,
        "start_time": "2022-01-25T20:11:05.394Z"
      },
      {
        "duration": -45,
        "start_time": "2022-01-25T20:11:05.396Z"
      },
      {
        "duration": -46,
        "start_time": "2022-01-25T20:11:05.398Z"
      },
      {
        "duration": -48,
        "start_time": "2022-01-25T20:11:05.401Z"
      },
      {
        "duration": -49,
        "start_time": "2022-01-25T20:11:05.403Z"
      },
      {
        "duration": -50,
        "start_time": "2022-01-25T20:11:05.405Z"
      },
      {
        "duration": -52,
        "start_time": "2022-01-25T20:11:05.408Z"
      },
      {
        "duration": 24,
        "start_time": "2022-01-25T20:11:25.691Z"
      },
      {
        "duration": 188,
        "start_time": "2022-01-25T20:11:48.237Z"
      },
      {
        "duration": 200,
        "start_time": "2022-01-25T20:11:52.690Z"
      },
      {
        "duration": 12,
        "start_time": "2022-01-25T20:13:17.059Z"
      },
      {
        "duration": 14,
        "start_time": "2022-01-25T20:13:17.517Z"
      },
      {
        "duration": 8,
        "start_time": "2022-01-25T20:13:27.225Z"
      },
      {
        "duration": 4,
        "start_time": "2022-01-25T20:13:48.837Z"
      },
      {
        "duration": 11,
        "start_time": "2022-01-25T20:14:23.348Z"
      },
      {
        "duration": 4,
        "start_time": "2022-01-25T20:14:24.631Z"
      },
      {
        "duration": 11,
        "start_time": "2022-01-25T20:14:30.544Z"
      },
      {
        "duration": 4,
        "start_time": "2022-01-25T20:14:30.785Z"
      },
      {
        "duration": 10,
        "start_time": "2022-01-25T20:14:34.988Z"
      },
      {
        "duration": 5,
        "start_time": "2022-01-25T20:14:35.386Z"
      },
      {
        "duration": 11,
        "start_time": "2022-01-25T20:14:48.235Z"
      },
      {
        "duration": 4,
        "start_time": "2022-01-25T20:14:48.413Z"
      },
      {
        "duration": 38,
        "start_time": "2022-01-25T20:15:18.266Z"
      },
      {
        "duration": 1050,
        "start_time": "2022-01-25T20:18:04.915Z"
      },
      {
        "duration": 777,
        "start_time": "2022-01-25T20:18:05.967Z"
      },
      {
        "duration": 48,
        "start_time": "2022-01-25T20:18:11.801Z"
      },
      {
        "duration": 64,
        "start_time": "2022-01-25T20:18:19.476Z"
      },
      {
        "duration": 4,
        "start_time": "2022-01-25T20:18:26.550Z"
      },
      {
        "duration": 45,
        "start_time": "2022-01-25T20:19:08.909Z"
      },
      {
        "duration": 29,
        "start_time": "2022-01-25T20:19:11.972Z"
      },
      {
        "duration": 43,
        "start_time": "2022-01-25T20:19:12.945Z"
      },
      {
        "duration": 13,
        "start_time": "2022-01-25T20:19:13.923Z"
      },
      {
        "duration": 5,
        "start_time": "2022-01-25T20:19:14.433Z"
      },
      {
        "duration": 22,
        "start_time": "2022-01-25T20:19:14.963Z"
      },
      {
        "duration": 5,
        "start_time": "2022-01-25T20:19:15.526Z"
      },
      {
        "duration": 8,
        "start_time": "2022-01-25T20:19:15.980Z"
      },
      {
        "duration": 1154,
        "start_time": "2022-01-25T20:19:41.799Z"
      },
      {
        "duration": 885,
        "start_time": "2022-01-25T20:19:42.955Z"
      },
      {
        "duration": 52,
        "start_time": "2022-01-25T20:19:43.842Z"
      },
      {
        "duration": 71,
        "start_time": "2022-01-25T20:19:43.897Z"
      },
      {
        "duration": 4,
        "start_time": "2022-01-25T20:19:43.970Z"
      },
      {
        "duration": 9,
        "start_time": "2022-01-25T20:19:43.976Z"
      },
      {
        "duration": 63,
        "start_time": "2022-01-25T20:19:43.987Z"
      },
      {
        "duration": 30,
        "start_time": "2022-01-25T20:19:44.053Z"
      },
      {
        "duration": 55,
        "start_time": "2022-01-25T20:19:44.086Z"
      },
      {
        "duration": 11,
        "start_time": "2022-01-25T20:19:44.143Z"
      },
      {
        "duration": 5,
        "start_time": "2022-01-25T20:19:44.155Z"
      },
      {
        "duration": 20,
        "start_time": "2022-01-25T20:19:44.162Z"
      },
      {
        "duration": 30,
        "start_time": "2022-01-25T20:19:44.183Z"
      },
      {
        "duration": 8,
        "start_time": "2022-01-25T20:19:44.215Z"
      },
      {
        "duration": 22,
        "start_time": "2022-01-25T20:19:44.225Z"
      },
      {
        "duration": 298,
        "start_time": "2022-01-25T20:19:44.249Z"
      },
      {
        "duration": 54,
        "start_time": "2022-01-25T20:19:44.496Z"
      },
      {
        "duration": 54,
        "start_time": "2022-01-25T20:19:44.498Z"
      },
      {
        "duration": 53,
        "start_time": "2022-01-25T20:19:44.500Z"
      },
      {
        "duration": 53,
        "start_time": "2022-01-25T20:19:44.502Z"
      },
      {
        "duration": 52,
        "start_time": "2022-01-25T20:19:44.504Z"
      },
      {
        "duration": 52,
        "start_time": "2022-01-25T20:19:44.506Z"
      },
      {
        "duration": 51,
        "start_time": "2022-01-25T20:19:44.508Z"
      },
      {
        "duration": 37,
        "start_time": "2022-01-25T20:19:44.524Z"
      },
      {
        "duration": 36,
        "start_time": "2022-01-25T20:19:44.526Z"
      },
      {
        "duration": 35,
        "start_time": "2022-01-25T20:19:44.529Z"
      },
      {
        "duration": 33,
        "start_time": "2022-01-25T20:19:44.532Z"
      },
      {
        "duration": 31,
        "start_time": "2022-01-25T20:19:44.535Z"
      },
      {
        "duration": 31,
        "start_time": "2022-01-25T20:19:44.537Z"
      },
      {
        "duration": 30,
        "start_time": "2022-01-25T20:19:44.539Z"
      },
      {
        "duration": 31,
        "start_time": "2022-01-25T20:19:44.540Z"
      },
      {
        "duration": 30,
        "start_time": "2022-01-25T20:19:44.542Z"
      },
      {
        "duration": 29,
        "start_time": "2022-01-25T20:19:44.544Z"
      },
      {
        "duration": 29,
        "start_time": "2022-01-25T20:19:44.545Z"
      },
      {
        "duration": 28,
        "start_time": "2022-01-25T20:19:44.547Z"
      },
      {
        "duration": 27,
        "start_time": "2022-01-25T20:19:44.549Z"
      },
      {
        "duration": 26,
        "start_time": "2022-01-25T20:19:44.551Z"
      },
      {
        "duration": 23,
        "start_time": "2022-01-25T20:20:54.931Z"
      },
      {
        "duration": 23,
        "start_time": "2022-01-25T20:21:11.524Z"
      },
      {
        "duration": 202,
        "start_time": "2022-01-25T20:21:45.798Z"
      },
      {
        "duration": 10,
        "start_time": "2022-01-25T20:22:02.350Z"
      },
      {
        "duration": 11,
        "start_time": "2022-01-25T20:22:13.856Z"
      },
      {
        "duration": 10,
        "start_time": "2022-01-25T20:22:56.647Z"
      },
      {
        "duration": 25,
        "start_time": "2022-01-25T20:22:59.795Z"
      },
      {
        "duration": 210,
        "start_time": "2022-01-25T20:23:23.086Z"
      },
      {
        "duration": 25,
        "start_time": "2022-01-25T20:24:41.624Z"
      },
      {
        "duration": 10,
        "start_time": "2022-01-25T20:32:53.123Z"
      },
      {
        "duration": 198,
        "start_time": "2022-01-25T20:32:54.238Z"
      },
      {
        "duration": 11,
        "start_time": "2022-01-25T20:33:01.863Z"
      },
      {
        "duration": 5,
        "start_time": "2022-01-25T20:33:14.822Z"
      },
      {
        "duration": 11,
        "start_time": "2022-01-25T20:33:21.324Z"
      },
      {
        "duration": 4,
        "start_time": "2022-01-25T20:33:21.994Z"
      },
      {
        "duration": 207,
        "start_time": "2022-01-25T20:34:04.102Z"
      },
      {
        "duration": 14,
        "start_time": "2022-01-25T20:34:09.358Z"
      },
      {
        "duration": 20,
        "start_time": "2022-01-25T20:34:14.731Z"
      },
      {
        "duration": 6,
        "start_time": "2022-01-25T20:34:26.549Z"
      },
      {
        "duration": 7,
        "start_time": "2022-01-25T20:34:30.266Z"
      },
      {
        "duration": 7,
        "start_time": "2022-01-25T20:34:35.554Z"
      },
      {
        "duration": 11,
        "start_time": "2022-01-25T20:34:37.100Z"
      },
      {
        "duration": 193,
        "start_time": "2022-01-25T20:35:45.777Z"
      },
      {
        "duration": 9,
        "start_time": "2022-01-25T20:35:57.676Z"
      },
      {
        "duration": 40,
        "start_time": "2022-01-25T20:36:04.694Z"
      },
      {
        "duration": 18,
        "start_time": "2022-01-25T20:36:14.456Z"
      },
      {
        "duration": 5,
        "start_time": "2022-01-25T20:36:19.265Z"
      },
      {
        "duration": 20,
        "start_time": "2022-01-25T20:36:26.460Z"
      },
      {
        "duration": 19,
        "start_time": "2022-01-25T20:36:50.394Z"
      },
      {
        "duration": 5,
        "start_time": "2022-01-25T20:36:50.592Z"
      },
      {
        "duration": 4,
        "start_time": "2022-01-25T20:37:18.537Z"
      },
      {
        "duration": 4,
        "start_time": "2022-01-25T20:37:26.694Z"
      },
      {
        "duration": 6,
        "start_time": "2022-01-25T20:37:32.766Z"
      },
      {
        "duration": 214,
        "start_time": "2022-01-25T20:38:16.168Z"
      },
      {
        "duration": 6,
        "start_time": "2022-01-25T20:38:26.217Z"
      },
      {
        "duration": 19,
        "start_time": "2022-01-25T20:38:50.512Z"
      },
      {
        "duration": 39,
        "start_time": "2022-01-25T20:38:58.859Z"
      },
      {
        "duration": 226,
        "start_time": "2022-01-25T20:39:00.384Z"
      },
      {
        "duration": 14,
        "start_time": "2022-01-25T20:39:55.582Z"
      },
      {
        "duration": 15,
        "start_time": "2022-01-25T20:40:40.914Z"
      },
      {
        "duration": 14,
        "start_time": "2022-01-25T20:40:45.160Z"
      },
      {
        "duration": 234,
        "start_time": "2022-01-25T20:41:04.007Z"
      },
      {
        "duration": 10,
        "start_time": "2022-01-25T20:41:44.749Z"
      },
      {
        "duration": 10,
        "start_time": "2022-01-25T20:41:49.128Z"
      },
      {
        "duration": 10,
        "start_time": "2022-01-25T20:41:51.606Z"
      },
      {
        "duration": 14,
        "start_time": "2022-01-25T20:42:01.482Z"
      },
      {
        "duration": 18,
        "start_time": "2022-01-25T20:42:03.176Z"
      },
      {
        "duration": 7,
        "start_time": "2022-01-25T20:42:19.468Z"
      },
      {
        "duration": 15,
        "start_time": "2022-01-25T20:42:40.616Z"
      },
      {
        "duration": 7,
        "start_time": "2022-01-25T20:42:44.012Z"
      },
      {
        "duration": 15,
        "start_time": "2022-01-25T20:43:12.059Z"
      },
      {
        "duration": 7,
        "start_time": "2022-01-25T20:43:14.321Z"
      },
      {
        "duration": 181,
        "start_time": "2022-01-25T20:44:36.295Z"
      },
      {
        "duration": 200,
        "start_time": "2022-01-25T20:44:50.830Z"
      },
      {
        "duration": 208,
        "start_time": "2022-01-25T20:44:57.937Z"
      },
      {
        "duration": 1343,
        "start_time": "2022-01-25T20:45:10.508Z"
      },
      {
        "duration": 7,
        "start_time": "2022-01-25T20:45:13.131Z"
      },
      {
        "duration": 13,
        "start_time": "2022-01-25T20:45:21.395Z"
      },
      {
        "duration": 17,
        "start_time": "2022-01-25T20:45:32.991Z"
      },
      {
        "duration": 13,
        "start_time": "2022-01-25T20:46:14.899Z"
      },
      {
        "duration": 20,
        "start_time": "2022-01-25T20:46:17.858Z"
      },
      {
        "duration": 13,
        "start_time": "2022-01-25T20:46:28.348Z"
      },
      {
        "duration": 15,
        "start_time": "2022-01-25T20:46:35.682Z"
      },
      {
        "duration": 13,
        "start_time": "2022-01-25T20:46:42.564Z"
      },
      {
        "duration": 15,
        "start_time": "2022-01-25T20:47:04.736Z"
      },
      {
        "duration": 10,
        "start_time": "2022-01-25T20:47:20.896Z"
      },
      {
        "duration": 8,
        "start_time": "2022-01-25T20:47:31.261Z"
      },
      {
        "duration": 761,
        "start_time": "2022-01-25T20:48:15.171Z"
      },
      {
        "duration": 11,
        "start_time": "2022-01-25T20:48:26.710Z"
      },
      {
        "duration": 9,
        "start_time": "2022-01-25T20:48:36.269Z"
      },
      {
        "duration": 9,
        "start_time": "2022-01-25T20:48:41.571Z"
      },
      {
        "duration": 8,
        "start_time": "2022-01-25T20:48:45.900Z"
      },
      {
        "duration": 1144,
        "start_time": "2022-01-25T20:49:36.223Z"
      },
      {
        "duration": 684,
        "start_time": "2022-01-25T20:49:38.951Z"
      },
      {
        "duration": 48,
        "start_time": "2022-01-25T20:49:41.529Z"
      },
      {
        "duration": 63,
        "start_time": "2022-01-25T20:49:47.108Z"
      },
      {
        "duration": 4,
        "start_time": "2022-01-25T20:49:50.579Z"
      },
      {
        "duration": 973,
        "start_time": "2022-01-25T20:50:22.097Z"
      },
      {
        "duration": 39,
        "start_time": "2022-01-25T20:50:23.076Z"
      },
      {
        "duration": 688,
        "start_time": "2022-01-25T20:50:37.269Z"
      },
      {
        "duration": 47,
        "start_time": "2022-01-25T20:50:37.959Z"
      },
      {
        "duration": 60,
        "start_time": "2022-01-25T20:50:41.636Z"
      },
      {
        "duration": 4,
        "start_time": "2022-01-25T20:50:43.915Z"
      },
      {
        "duration": 8,
        "start_time": "2022-01-25T20:50:48.386Z"
      },
      {
        "duration": 47,
        "start_time": "2022-01-25T20:50:54.824Z"
      },
      {
        "duration": 29,
        "start_time": "2022-01-25T20:51:00.361Z"
      },
      {
        "duration": 40,
        "start_time": "2022-01-25T20:51:06.432Z"
      },
      {
        "duration": 21,
        "start_time": "2022-01-25T20:51:26.393Z"
      },
      {
        "duration": 5,
        "start_time": "2022-01-25T20:51:27.017Z"
      },
      {
        "duration": 8,
        "start_time": "2022-01-25T20:51:27.713Z"
      },
      {
        "duration": 46,
        "start_time": "2022-01-25T20:51:37.624Z"
      },
      {
        "duration": 5,
        "start_time": "2022-01-25T20:51:37.672Z"
      },
      {
        "duration": 8,
        "start_time": "2022-01-25T20:51:38.233Z"
      },
      {
        "duration": 5,
        "start_time": "2022-01-25T20:51:47.411Z"
      },
      {
        "duration": 8,
        "start_time": "2022-01-25T20:51:48.163Z"
      },
      {
        "duration": 7,
        "start_time": "2022-01-25T20:51:53.145Z"
      },
      {
        "duration": 22,
        "start_time": "2022-01-25T20:52:32.473Z"
      },
      {
        "duration": 5,
        "start_time": "2022-01-25T20:52:32.822Z"
      },
      {
        "duration": 8,
        "start_time": "2022-01-25T20:52:33.441Z"
      },
      {
        "duration": 19,
        "start_time": "2022-01-25T20:52:41.514Z"
      },
      {
        "duration": 5,
        "start_time": "2022-01-25T20:52:41.812Z"
      },
      {
        "duration": 7,
        "start_time": "2022-01-25T20:52:42.101Z"
      },
      {
        "duration": 23,
        "start_time": "2022-01-25T20:52:47.257Z"
      },
      {
        "duration": 7,
        "start_time": "2022-01-25T20:53:06.080Z"
      },
      {
        "duration": 13,
        "start_time": "2022-01-25T20:53:52.729Z"
      },
      {
        "duration": 5,
        "start_time": "2022-01-25T20:54:00.212Z"
      },
      {
        "duration": 6,
        "start_time": "2022-01-25T20:54:10.910Z"
      },
      {
        "duration": 13,
        "start_time": "2022-01-25T20:54:26.639Z"
      },
      {
        "duration": 4,
        "start_time": "2022-01-25T20:54:30.025Z"
      },
      {
        "duration": 6,
        "start_time": "2022-01-25T20:54:32.699Z"
      },
      {
        "duration": 12,
        "start_time": "2022-01-25T20:54:51.793Z"
      },
      {
        "duration": 5,
        "start_time": "2022-01-25T20:54:53.000Z"
      },
      {
        "duration": 7,
        "start_time": "2022-01-25T20:54:54.047Z"
      },
      {
        "duration": 16,
        "start_time": "2022-01-25T20:55:07.010Z"
      },
      {
        "duration": 4,
        "start_time": "2022-01-25T20:55:07.596Z"
      },
      {
        "duration": 6,
        "start_time": "2022-01-25T20:55:08.033Z"
      },
      {
        "duration": 13,
        "start_time": "2022-01-25T20:55:19.697Z"
      },
      {
        "duration": 277,
        "start_time": "2022-01-25T20:55:19.965Z"
      },
      {
        "duration": 7,
        "start_time": "2022-01-25T20:55:20.391Z"
      },
      {
        "duration": 4,
        "start_time": "2022-01-25T20:55:23.589Z"
      },
      {
        "duration": 7,
        "start_time": "2022-01-25T20:55:24.014Z"
      },
      {
        "duration": 5,
        "start_time": "2022-01-25T20:55:35.052Z"
      },
      {
        "duration": 5,
        "start_time": "2022-01-25T20:55:37.423Z"
      },
      {
        "duration": 15,
        "start_time": "2022-01-25T20:55:44.284Z"
      },
      {
        "duration": 12,
        "start_time": "2022-01-25T20:55:45.913Z"
      },
      {
        "duration": 6,
        "start_time": "2022-01-25T20:55:46.195Z"
      },
      {
        "duration": 6,
        "start_time": "2022-01-25T20:55:47.222Z"
      },
      {
        "duration": 12,
        "start_time": "2022-01-25T20:55:57.263Z"
      },
      {
        "duration": 11,
        "start_time": "2022-01-25T20:55:57.584Z"
      },
      {
        "duration": 3,
        "start_time": "2022-01-25T20:55:57.927Z"
      },
      {
        "duration": 5,
        "start_time": "2022-01-25T20:55:58.557Z"
      },
      {
        "duration": 75,
        "start_time": "2022-01-25T20:56:07.546Z"
      },
      {
        "duration": 11,
        "start_time": "2022-01-25T20:56:07.931Z"
      },
      {
        "duration": 13,
        "start_time": "2022-01-25T20:56:10.762Z"
      },
      {
        "duration": 12,
        "start_time": "2022-01-25T20:56:11.246Z"
      },
      {
        "duration": 5,
        "start_time": "2022-01-25T20:56:11.687Z"
      },
      {
        "duration": 6,
        "start_time": "2022-01-25T20:56:12.170Z"
      },
      {
        "duration": 12,
        "start_time": "2022-01-25T20:56:29.003Z"
      },
      {
        "duration": 12,
        "start_time": "2022-01-25T20:56:29.309Z"
      },
      {
        "duration": 4,
        "start_time": "2022-01-25T20:56:29.734Z"
      },
      {
        "duration": 5,
        "start_time": "2022-01-25T20:56:30.653Z"
      },
      {
        "duration": 12,
        "start_time": "2022-01-25T20:56:34.897Z"
      },
      {
        "duration": 4,
        "start_time": "2022-01-25T20:56:35.593Z"
      },
      {
        "duration": 6,
        "start_time": "2022-01-25T20:56:35.961Z"
      },
      {
        "duration": 24,
        "start_time": "2022-01-25T20:56:37.395Z"
      },
      {
        "duration": 7,
        "start_time": "2022-01-25T20:56:48.141Z"
      },
      {
        "duration": 14,
        "start_time": "2022-01-25T20:57:04.690Z"
      },
      {
        "duration": 12,
        "start_time": "2022-01-25T20:57:05.016Z"
      },
      {
        "duration": 4,
        "start_time": "2022-01-25T20:57:05.341Z"
      },
      {
        "duration": 5,
        "start_time": "2022-01-25T20:57:06.287Z"
      },
      {
        "duration": 8,
        "start_time": "2022-01-25T20:57:06.645Z"
      },
      {
        "duration": 25,
        "start_time": "2022-01-25T20:57:07.720Z"
      },
      {
        "duration": 6,
        "start_time": "2022-01-25T20:57:59.983Z"
      },
      {
        "duration": 15,
        "start_time": "2022-01-25T20:58:37.278Z"
      },
      {
        "duration": 11,
        "start_time": "2022-01-25T20:58:54.650Z"
      },
      {
        "duration": 7,
        "start_time": "2022-01-25T20:59:23.709Z"
      },
      {
        "duration": 8,
        "start_time": "2022-01-25T20:59:31.627Z"
      },
      {
        "duration": 14,
        "start_time": "2022-01-25T20:59:33.890Z"
      },
      {
        "duration": 7,
        "start_time": "2022-01-25T20:59:34.151Z"
      },
      {
        "duration": 8,
        "start_time": "2022-01-25T20:59:34.435Z"
      },
      {
        "duration": 9,
        "start_time": "2022-01-25T20:59:38.127Z"
      },
      {
        "duration": 6,
        "start_time": "2022-01-25T20:59:46.856Z"
      },
      {
        "duration": 12,
        "start_time": "2022-01-25T21:00:08.525Z"
      },
      {
        "duration": 13,
        "start_time": "2022-01-25T21:00:10.353Z"
      },
      {
        "duration": 12,
        "start_time": "2022-01-25T21:00:10.645Z"
      },
      {
        "duration": 12,
        "start_time": "2022-01-25T21:00:25.174Z"
      },
      {
        "duration": 8,
        "start_time": "2022-01-25T21:00:40.656Z"
      },
      {
        "duration": 8,
        "start_time": "2022-01-25T21:01:02.784Z"
      },
      {
        "duration": 10,
        "start_time": "2022-01-25T21:01:03.585Z"
      },
      {
        "duration": 9,
        "start_time": "2022-01-25T21:01:09.394Z"
      },
      {
        "duration": 6,
        "start_time": "2022-01-25T21:01:10.274Z"
      },
      {
        "duration": 7,
        "start_time": "2022-01-25T21:01:11.024Z"
      },
      {
        "duration": 5,
        "start_time": "2022-01-25T21:01:32.016Z"
      },
      {
        "duration": 14,
        "start_time": "2022-01-25T21:01:38.903Z"
      },
      {
        "duration": 9,
        "start_time": "2022-01-25T21:01:40.411Z"
      },
      {
        "duration": 18,
        "start_time": "2022-01-25T21:01:40.769Z"
      },
      {
        "duration": 15,
        "start_time": "2022-01-25T21:02:05.420Z"
      },
      {
        "duration": 13,
        "start_time": "2022-01-25T21:02:05.707Z"
      },
      {
        "duration": 6,
        "start_time": "2022-01-25T21:02:06.282Z"
      },
      {
        "duration": 13,
        "start_time": "2022-01-25T21:02:06.847Z"
      },
      {
        "duration": 6,
        "start_time": "2022-01-25T21:02:07.806Z"
      },
      {
        "duration": 5,
        "start_time": "2022-01-25T21:02:08.265Z"
      },
      {
        "duration": 7,
        "start_time": "2022-01-25T21:02:08.791Z"
      },
      {
        "duration": 14,
        "start_time": "2022-01-25T21:02:09.377Z"
      },
      {
        "duration": 10,
        "start_time": "2022-01-25T21:02:10.984Z"
      },
      {
        "duration": 238,
        "start_time": "2022-01-25T21:02:21.944Z"
      },
      {
        "duration": 6,
        "start_time": "2022-01-25T21:02:58.631Z"
      },
      {
        "duration": 12,
        "start_time": "2022-01-25T21:02:59.080Z"
      },
      {
        "duration": 7,
        "start_time": "2022-01-25T21:03:01.422Z"
      },
      {
        "duration": 11,
        "start_time": "2022-01-25T21:03:01.720Z"
      },
      {
        "duration": 10,
        "start_time": "2022-01-25T21:03:01.979Z"
      },
      {
        "duration": 5,
        "start_time": "2022-01-25T21:03:09.995Z"
      },
      {
        "duration": 11,
        "start_time": "2022-01-25T21:03:11.090Z"
      },
      {
        "duration": 10,
        "start_time": "2022-01-25T21:03:11.438Z"
      },
      {
        "duration": 15,
        "start_time": "2022-01-25T21:03:23.125Z"
      },
      {
        "duration": 12,
        "start_time": "2022-01-25T21:03:23.734Z"
      },
      {
        "duration": 6,
        "start_time": "2022-01-25T21:03:25.281Z"
      },
      {
        "duration": 10,
        "start_time": "2022-01-25T21:03:26.268Z"
      },
      {
        "duration": 6,
        "start_time": "2022-01-25T21:03:28.380Z"
      },
      {
        "duration": 5,
        "start_time": "2022-01-25T21:03:29.067Z"
      },
      {
        "duration": 7,
        "start_time": "2022-01-25T21:03:30.761Z"
      },
      {
        "duration": 9,
        "start_time": "2022-01-25T21:03:31.591Z"
      },
      {
        "duration": 225,
        "start_time": "2022-01-25T21:03:42.259Z"
      },
      {
        "duration": 187,
        "start_time": "2022-01-25T21:03:52.957Z"
      },
      {
        "duration": 9,
        "start_time": "2022-01-25T21:04:05.049Z"
      },
      {
        "duration": 9,
        "start_time": "2022-01-25T21:04:06.429Z"
      },
      {
        "duration": 5,
        "start_time": "2022-01-25T21:04:12.962Z"
      },
      {
        "duration": 203,
        "start_time": "2022-01-25T21:04:23.465Z"
      },
      {
        "duration": 16,
        "start_time": "2022-01-25T21:04:29.024Z"
      },
      {
        "duration": 13,
        "start_time": "2022-01-25T21:04:29.256Z"
      },
      {
        "duration": 6,
        "start_time": "2022-01-25T21:04:29.700Z"
      },
      {
        "duration": 10,
        "start_time": "2022-01-25T21:04:30.175Z"
      },
      {
        "duration": 6,
        "start_time": "2022-01-25T21:04:31.526Z"
      },
      {
        "duration": 5,
        "start_time": "2022-01-25T21:04:32.207Z"
      },
      {
        "duration": 8,
        "start_time": "2022-01-25T21:04:33.102Z"
      },
      {
        "duration": 11,
        "start_time": "2022-01-25T21:04:34.327Z"
      },
      {
        "duration": 1056,
        "start_time": "2022-01-25T21:04:53.059Z"
      },
      {
        "duration": 1984,
        "start_time": "2022-01-25T21:04:54.117Z"
      },
      {
        "duration": 47,
        "start_time": "2022-01-25T21:04:56.103Z"
      },
      {
        "duration": 68,
        "start_time": "2022-01-25T21:04:56.151Z"
      },
      {
        "duration": 3,
        "start_time": "2022-01-25T21:04:56.221Z"
      },
      {
        "duration": 9,
        "start_time": "2022-01-25T21:04:56.226Z"
      },
      {
        "duration": 49,
        "start_time": "2022-01-25T21:04:56.236Z"
      },
      {
        "duration": 43,
        "start_time": "2022-01-25T21:04:56.288Z"
      },
      {
        "duration": 37,
        "start_time": "2022-01-25T21:04:56.334Z"
      },
      {
        "duration": 13,
        "start_time": "2022-01-25T21:04:56.373Z"
      },
      {
        "duration": 33,
        "start_time": "2022-01-25T21:04:56.387Z"
      },
      {
        "duration": 5,
        "start_time": "2022-01-25T21:04:56.422Z"
      },
      {
        "duration": 9,
        "start_time": "2022-01-25T21:04:56.429Z"
      },
      {
        "duration": 5,
        "start_time": "2022-01-25T21:04:56.439Z"
      },
      {
        "duration": 9,
        "start_time": "2022-01-25T21:04:56.446Z"
      },
      {
        "duration": 9,
        "start_time": "2022-01-25T21:04:56.457Z"
      },
      {
        "duration": 10,
        "start_time": "2022-01-25T21:04:56.467Z"
      },
      {
        "duration": 44,
        "start_time": "2022-01-25T21:04:56.479Z"
      },
      {
        "duration": 16,
        "start_time": "2022-01-25T21:04:56.525Z"
      },
      {
        "duration": 35,
        "start_time": "2022-01-25T21:04:56.543Z"
      },
      {
        "duration": 46,
        "start_time": "2022-01-25T21:04:56.580Z"
      },
      {
        "duration": 740,
        "start_time": "2022-01-25T21:04:56.628Z"
      },
      {
        "duration": 148,
        "start_time": "2022-01-25T21:04:57.222Z"
      },
      {
        "duration": 145,
        "start_time": "2022-01-25T21:04:57.226Z"
      },
      {
        "duration": 140,
        "start_time": "2022-01-25T21:04:57.233Z"
      },
      {
        "duration": 138,
        "start_time": "2022-01-25T21:04:57.236Z"
      },
      {
        "duration": 139,
        "start_time": "2022-01-25T21:04:57.237Z"
      },
      {
        "duration": 138,
        "start_time": "2022-01-25T21:04:57.239Z"
      },
      {
        "duration": 136,
        "start_time": "2022-01-25T21:04:57.242Z"
      },
      {
        "duration": 135,
        "start_time": "2022-01-25T21:04:57.244Z"
      },
      {
        "duration": 7,
        "start_time": "2022-01-25T21:05:23.369Z"
      },
      {
        "duration": 7,
        "start_time": "2022-01-25T21:06:22.677Z"
      },
      {
        "duration": 12,
        "start_time": "2022-01-25T21:06:27.985Z"
      },
      {
        "duration": 986,
        "start_time": "2022-01-25T21:06:35.665Z"
      },
      {
        "duration": 962,
        "start_time": "2022-01-25T21:06:36.652Z"
      },
      {
        "duration": 49,
        "start_time": "2022-01-25T21:06:37.616Z"
      },
      {
        "duration": 79,
        "start_time": "2022-01-25T21:06:37.667Z"
      },
      {
        "duration": 4,
        "start_time": "2022-01-25T21:06:37.748Z"
      },
      {
        "duration": 11,
        "start_time": "2022-01-25T21:06:37.754Z"
      },
      {
        "duration": 19,
        "start_time": "2022-01-25T21:06:37.767Z"
      },
      {
        "duration": 7123,
        "start_time": "2022-01-25T21:06:37.789Z"
      },
      {
        "duration": 94,
        "start_time": "2022-01-25T21:06:44.821Z"
      },
      {
        "duration": 93,
        "start_time": "2022-01-25T21:06:44.823Z"
      },
      {
        "duration": 91,
        "start_time": "2022-01-25T21:06:44.826Z"
      },
      {
        "duration": 90,
        "start_time": "2022-01-25T21:06:44.828Z"
      },
      {
        "duration": 89,
        "start_time": "2022-01-25T21:06:44.830Z"
      },
      {
        "duration": 88,
        "start_time": "2022-01-25T21:06:44.832Z"
      },
      {
        "duration": 87,
        "start_time": "2022-01-25T21:06:44.834Z"
      },
      {
        "duration": 86,
        "start_time": "2022-01-25T21:06:44.836Z"
      },
      {
        "duration": 84,
        "start_time": "2022-01-25T21:06:44.839Z"
      },
      {
        "duration": 83,
        "start_time": "2022-01-25T21:06:44.840Z"
      },
      {
        "duration": 82,
        "start_time": "2022-01-25T21:06:44.842Z"
      },
      {
        "duration": 81,
        "start_time": "2022-01-25T21:06:44.844Z"
      },
      {
        "duration": 81,
        "start_time": "2022-01-25T21:06:44.845Z"
      },
      {
        "duration": 80,
        "start_time": "2022-01-25T21:06:44.847Z"
      },
      {
        "duration": 79,
        "start_time": "2022-01-25T21:06:44.849Z"
      },
      {
        "duration": 79,
        "start_time": "2022-01-25T21:06:44.850Z"
      },
      {
        "duration": 78,
        "start_time": "2022-01-25T21:06:44.852Z"
      },
      {
        "duration": 76,
        "start_time": "2022-01-25T21:06:44.854Z"
      },
      {
        "duration": 75,
        "start_time": "2022-01-25T21:06:44.856Z"
      },
      {
        "duration": 75,
        "start_time": "2022-01-25T21:06:44.858Z"
      },
      {
        "duration": 74,
        "start_time": "2022-01-25T21:06:44.860Z"
      },
      {
        "duration": 72,
        "start_time": "2022-01-25T21:06:44.862Z"
      },
      {
        "duration": 71,
        "start_time": "2022-01-25T21:06:44.864Z"
      },
      {
        "duration": 6,
        "start_time": "2022-01-25T21:06:59.725Z"
      },
      {
        "duration": 12,
        "start_time": "2022-01-25T21:07:00.800Z"
      },
      {
        "duration": 1002,
        "start_time": "2022-01-25T21:07:30.958Z"
      },
      {
        "duration": 835,
        "start_time": "2022-01-25T21:07:31.962Z"
      },
      {
        "duration": 49,
        "start_time": "2022-01-25T21:07:32.799Z"
      },
      {
        "duration": 76,
        "start_time": "2022-01-25T21:07:32.850Z"
      },
      {
        "duration": 4,
        "start_time": "2022-01-25T21:07:32.928Z"
      },
      {
        "duration": 8,
        "start_time": "2022-01-25T21:07:32.934Z"
      },
      {
        "duration": 14,
        "start_time": "2022-01-25T21:07:32.944Z"
      },
      {
        "duration": 71,
        "start_time": "2022-01-25T21:07:32.961Z"
      },
      {
        "duration": 29,
        "start_time": "2022-01-25T21:07:33.035Z"
      },
      {
        "duration": 55,
        "start_time": "2022-01-25T21:07:33.065Z"
      },
      {
        "duration": 12,
        "start_time": "2022-01-25T21:07:33.122Z"
      },
      {
        "duration": 10,
        "start_time": "2022-01-25T21:07:33.135Z"
      },
      {
        "duration": 6,
        "start_time": "2022-01-25T21:07:33.147Z"
      },
      {
        "duration": 9,
        "start_time": "2022-01-25T21:07:33.154Z"
      },
      {
        "duration": 5,
        "start_time": "2022-01-25T21:07:33.164Z"
      },
      {
        "duration": 7,
        "start_time": "2022-01-25T21:07:33.171Z"
      },
      {
        "duration": 39,
        "start_time": "2022-01-25T21:07:33.179Z"
      },
      {
        "duration": 9,
        "start_time": "2022-01-25T21:07:33.220Z"
      },
      {
        "duration": 13,
        "start_time": "2022-01-25T21:07:33.230Z"
      },
      {
        "duration": 16,
        "start_time": "2022-01-25T21:07:33.244Z"
      },
      {
        "duration": 65,
        "start_time": "2022-01-25T21:07:33.261Z"
      },
      {
        "duration": 17,
        "start_time": "2022-01-25T21:07:33.328Z"
      },
      {
        "duration": 286,
        "start_time": "2022-01-25T21:07:33.348Z"
      },
      {
        "duration": 5,
        "start_time": "2022-01-25T21:07:33.631Z"
      },
      {
        "duration": 5,
        "start_time": "2022-01-25T21:07:33.633Z"
      },
      {
        "duration": 0,
        "start_time": "2022-01-25T21:07:33.639Z"
      },
      {
        "duration": -2,
        "start_time": "2022-01-25T21:07:33.642Z"
      },
      {
        "duration": -4,
        "start_time": "2022-01-25T21:07:33.645Z"
      },
      {
        "duration": -6,
        "start_time": "2022-01-25T21:07:33.648Z"
      },
      {
        "duration": -12,
        "start_time": "2022-01-25T21:07:33.655Z"
      },
      {
        "duration": -13,
        "start_time": "2022-01-25T21:07:33.657Z"
      },
      {
        "duration": 12,
        "start_time": "2022-01-25T21:08:41.992Z"
      },
      {
        "duration": 9,
        "start_time": "2022-01-25T21:08:47.555Z"
      },
      {
        "duration": 14,
        "start_time": "2022-01-25T21:09:54.503Z"
      },
      {
        "duration": 11,
        "start_time": "2022-01-25T21:10:07.412Z"
      },
      {
        "duration": 14,
        "start_time": "2022-01-25T21:10:15.075Z"
      },
      {
        "duration": 12,
        "start_time": "2022-01-25T21:10:51.619Z"
      },
      {
        "duration": 11,
        "start_time": "2022-01-25T21:11:58.374Z"
      },
      {
        "duration": 1363,
        "start_time": "2022-01-25T21:13:30.393Z"
      },
      {
        "duration": 786,
        "start_time": "2022-01-25T21:13:31.758Z"
      },
      {
        "duration": 49,
        "start_time": "2022-01-25T21:13:32.546Z"
      },
      {
        "duration": 72,
        "start_time": "2022-01-25T21:13:32.597Z"
      },
      {
        "duration": 4,
        "start_time": "2022-01-25T21:13:32.671Z"
      },
      {
        "duration": 9,
        "start_time": "2022-01-25T21:13:32.676Z"
      },
      {
        "duration": 67,
        "start_time": "2022-01-25T21:13:32.687Z"
      },
      {
        "duration": 28,
        "start_time": "2022-01-25T21:13:32.756Z"
      },
      {
        "duration": 52,
        "start_time": "2022-01-25T21:13:32.786Z"
      },
      {
        "duration": 13,
        "start_time": "2022-01-25T21:13:32.840Z"
      },
      {
        "duration": 10,
        "start_time": "2022-01-25T21:13:32.854Z"
      },
      {
        "duration": 6,
        "start_time": "2022-01-25T21:13:32.866Z"
      },
      {
        "duration": 10,
        "start_time": "2022-01-25T21:13:32.873Z"
      },
      {
        "duration": 32,
        "start_time": "2022-01-25T21:13:32.884Z"
      },
      {
        "duration": 3,
        "start_time": "2022-01-25T21:13:32.917Z"
      },
      {
        "duration": 11,
        "start_time": "2022-01-25T21:13:32.921Z"
      },
      {
        "duration": 10,
        "start_time": "2022-01-25T21:13:32.934Z"
      },
      {
        "duration": 14,
        "start_time": "2022-01-25T21:13:32.945Z"
      },
      {
        "duration": 89,
        "start_time": "2022-01-25T21:13:32.961Z"
      },
      {
        "duration": 14,
        "start_time": "2022-01-25T21:13:33.052Z"
      },
      {
        "duration": 290,
        "start_time": "2022-01-25T21:13:33.068Z"
      },
      {
        "duration": 13,
        "start_time": "2022-01-25T21:13:33.347Z"
      },
      {
        "duration": 12,
        "start_time": "2022-01-25T21:13:33.349Z"
      },
      {
        "duration": 11,
        "start_time": "2022-01-25T21:13:33.351Z"
      },
      {
        "duration": 9,
        "start_time": "2022-01-25T21:13:33.354Z"
      },
      {
        "duration": 8,
        "start_time": "2022-01-25T21:13:33.356Z"
      },
      {
        "duration": 8,
        "start_time": "2022-01-25T21:13:33.357Z"
      },
      {
        "duration": 6,
        "start_time": "2022-01-25T21:13:33.359Z"
      },
      {
        "duration": 5,
        "start_time": "2022-01-25T21:13:33.361Z"
      },
      {
        "duration": 13,
        "start_time": "2022-01-25T21:14:14.264Z"
      },
      {
        "duration": 12,
        "start_time": "2022-01-25T21:14:14.675Z"
      },
      {
        "duration": 7,
        "start_time": "2022-01-25T21:14:15.354Z"
      },
      {
        "duration": 10,
        "start_time": "2022-01-25T21:14:16.126Z"
      },
      {
        "duration": 6,
        "start_time": "2022-01-25T21:14:17.396Z"
      },
      {
        "duration": 2,
        "start_time": "2022-01-25T21:14:17.795Z"
      },
      {
        "duration": 9,
        "start_time": "2022-01-25T21:14:18.217Z"
      },
      {
        "duration": 11,
        "start_time": "2022-01-25T21:14:20.874Z"
      },
      {
        "duration": 12,
        "start_time": "2022-01-25T21:14:39.396Z"
      },
      {
        "duration": 2550,
        "start_time": "2022-01-25T21:14:39.595Z"
      },
      {
        "duration": 46,
        "start_time": "2022-01-25T21:14:42.147Z"
      },
      {
        "duration": 60,
        "start_time": "2022-01-25T21:14:42.195Z"
      },
      {
        "duration": 4,
        "start_time": "2022-01-25T21:14:42.451Z"
      },
      {
        "duration": 6,
        "start_time": "2022-01-25T21:14:48.860Z"
      },
      {
        "duration": 45,
        "start_time": "2022-01-25T21:14:53.577Z"
      },
      {
        "duration": 7,
        "start_time": "2022-01-25T21:15:33.599Z"
      },
      {
        "duration": 7,
        "start_time": "2022-01-25T21:15:41.392Z"
      },
      {
        "duration": 51,
        "start_time": "2022-01-25T21:15:42.342Z"
      },
      {
        "duration": 29,
        "start_time": "2022-01-25T21:15:42.704Z"
      },
      {
        "duration": 40,
        "start_time": "2022-01-25T21:15:43.141Z"
      },
      {
        "duration": 14,
        "start_time": "2022-01-25T21:15:43.909Z"
      },
      {
        "duration": 12,
        "start_time": "2022-01-25T21:15:44.136Z"
      },
      {
        "duration": 6,
        "start_time": "2022-01-25T21:15:44.584Z"
      },
      {
        "duration": 10,
        "start_time": "2022-01-25T21:15:44.961Z"
      },
      {
        "duration": 6,
        "start_time": "2022-01-25T21:15:45.516Z"
      },
      {
        "duration": 3,
        "start_time": "2022-01-25T21:15:45.699Z"
      },
      {
        "duration": 9,
        "start_time": "2022-01-25T21:15:45.881Z"
      },
      {
        "duration": 12,
        "start_time": "2022-01-25T21:15:48.125Z"
      },
      {
        "duration": 10,
        "start_time": "2022-01-25T21:15:55.685Z"
      },
      {
        "duration": 910,
        "start_time": "2022-01-25T21:15:55.929Z"
      },
      {
        "duration": 50,
        "start_time": "2022-01-25T21:15:56.840Z"
      },
      {
        "duration": 61,
        "start_time": "2022-01-25T21:15:57.706Z"
      },
      {
        "duration": 4,
        "start_time": "2022-01-25T21:15:58.333Z"
      },
      {
        "duration": 8,
        "start_time": "2022-01-25T21:16:03.124Z"
      },
      {
        "duration": 8,
        "start_time": "2022-01-25T21:16:15.680Z"
      },
      {
        "duration": 44,
        "start_time": "2022-01-25T21:16:17.841Z"
      },
      {
        "duration": 39,
        "start_time": "2022-01-25T21:16:37.348Z"
      },
      {
        "duration": 30,
        "start_time": "2022-01-25T21:16:37.672Z"
      },
      {
        "duration": 39,
        "start_time": "2022-01-25T21:16:38.599Z"
      },
      {
        "duration": 14,
        "start_time": "2022-01-25T21:16:39.764Z"
      },
      {
        "duration": 13,
        "start_time": "2022-01-25T21:16:40.113Z"
      },
      {
        "duration": 5,
        "start_time": "2022-01-25T21:16:40.787Z"
      },
      {
        "duration": 10,
        "start_time": "2022-01-25T21:16:41.518Z"
      },
      {
        "duration": 5,
        "start_time": "2022-01-25T21:16:42.623Z"
      },
      {
        "duration": 3,
        "start_time": "2022-01-25T21:16:42.987Z"
      },
      {
        "duration": 8,
        "start_time": "2022-01-25T21:16:43.365Z"
      },
      {
        "duration": 1070,
        "start_time": "2022-01-25T21:17:08.308Z"
      },
      {
        "duration": 1943,
        "start_time": "2022-01-25T21:17:09.380Z"
      },
      {
        "duration": 51,
        "start_time": "2022-01-25T21:17:11.327Z"
      },
      {
        "duration": 78,
        "start_time": "2022-01-25T21:17:11.380Z"
      },
      {
        "duration": 5,
        "start_time": "2022-01-25T21:17:11.460Z"
      },
      {
        "duration": 10,
        "start_time": "2022-01-25T21:17:11.467Z"
      },
      {
        "duration": 67,
        "start_time": "2022-01-25T21:17:11.478Z"
      },
      {
        "duration": 31,
        "start_time": "2022-01-25T21:17:11.549Z"
      },
      {
        "duration": 61,
        "start_time": "2022-01-25T21:17:11.583Z"
      },
      {
        "duration": 14,
        "start_time": "2022-01-25T21:17:11.646Z"
      },
      {
        "duration": 13,
        "start_time": "2022-01-25T21:17:11.661Z"
      },
      {
        "duration": 7,
        "start_time": "2022-01-25T21:17:11.675Z"
      },
      {
        "duration": 35,
        "start_time": "2022-01-25T21:17:11.684Z"
      },
      {
        "duration": 7,
        "start_time": "2022-01-25T21:17:11.721Z"
      },
      {
        "duration": 11,
        "start_time": "2022-01-25T21:17:11.729Z"
      },
      {
        "duration": 11,
        "start_time": "2022-01-25T21:17:11.741Z"
      },
      {
        "duration": 11,
        "start_time": "2022-01-25T21:17:11.754Z"
      },
      {
        "duration": 48,
        "start_time": "2022-01-25T21:17:11.766Z"
      },
      {
        "duration": 37,
        "start_time": "2022-01-25T21:17:11.816Z"
      },
      {
        "duration": 17,
        "start_time": "2022-01-25T21:17:11.855Z"
      },
      {
        "duration": 512,
        "start_time": "2022-01-25T21:17:11.874Z"
      },
      {
        "duration": -26,
        "start_time": "2022-01-25T21:17:12.414Z"
      },
      {
        "duration": -28,
        "start_time": "2022-01-25T21:17:12.417Z"
      },
      {
        "duration": -29,
        "start_time": "2022-01-25T21:17:12.419Z"
      },
      {
        "duration": -30,
        "start_time": "2022-01-25T21:17:12.421Z"
      },
      {
        "duration": -31,
        "start_time": "2022-01-25T21:17:12.423Z"
      },
      {
        "duration": -33,
        "start_time": "2022-01-25T21:17:12.425Z"
      },
      {
        "duration": -34,
        "start_time": "2022-01-25T21:17:12.427Z"
      },
      {
        "duration": -34,
        "start_time": "2022-01-25T21:17:12.428Z"
      },
      {
        "duration": 12,
        "start_time": "2022-01-25T21:18:30.714Z"
      },
      {
        "duration": 8,
        "start_time": "2022-01-25T21:18:39.444Z"
      },
      {
        "duration": 12,
        "start_time": "2022-01-25T21:18:39.973Z"
      },
      {
        "duration": 44,
        "start_time": "2022-01-25T21:19:03.722Z"
      },
      {
        "duration": 1013,
        "start_time": "2022-01-25T21:19:51.548Z"
      },
      {
        "duration": 874,
        "start_time": "2022-01-25T21:19:52.563Z"
      },
      {
        "duration": 48,
        "start_time": "2022-01-25T21:19:53.439Z"
      },
      {
        "duration": 61,
        "start_time": "2022-01-25T21:19:53.489Z"
      },
      {
        "duration": 3,
        "start_time": "2022-01-25T21:19:53.552Z"
      },
      {
        "duration": 9,
        "start_time": "2022-01-25T21:19:53.557Z"
      },
      {
        "duration": 14,
        "start_time": "2022-01-25T21:19:53.567Z"
      },
      {
        "duration": 68,
        "start_time": "2022-01-25T21:19:53.582Z"
      },
      {
        "duration": 28,
        "start_time": "2022-01-25T21:19:53.653Z"
      },
      {
        "duration": 56,
        "start_time": "2022-01-25T21:19:53.682Z"
      },
      {
        "duration": 14,
        "start_time": "2022-01-25T21:19:53.740Z"
      },
      {
        "duration": 11,
        "start_time": "2022-01-25T21:19:53.756Z"
      },
      {
        "duration": 7,
        "start_time": "2022-01-25T21:19:53.769Z"
      },
      {
        "duration": 35,
        "start_time": "2022-01-25T21:19:53.777Z"
      },
      {
        "duration": 6,
        "start_time": "2022-01-25T21:19:53.814Z"
      },
      {
        "duration": 10,
        "start_time": "2022-01-25T21:19:53.822Z"
      },
      {
        "duration": 10,
        "start_time": "2022-01-25T21:19:53.834Z"
      },
      {
        "duration": 13,
        "start_time": "2022-01-25T21:19:53.846Z"
      },
      {
        "duration": 52,
        "start_time": "2022-01-25T21:19:53.860Z"
      },
      {
        "duration": 37,
        "start_time": "2022-01-25T21:19:53.914Z"
      },
      {
        "duration": 20,
        "start_time": "2022-01-25T21:19:53.953Z"
      },
      {
        "duration": 2078,
        "start_time": "2022-01-25T21:19:53.975Z"
      },
      {
        "duration": -37,
        "start_time": "2022-01-25T21:19:56.092Z"
      },
      {
        "duration": -39,
        "start_time": "2022-01-25T21:19:56.095Z"
      },
      {
        "duration": -40,
        "start_time": "2022-01-25T21:19:56.097Z"
      },
      {
        "duration": -41,
        "start_time": "2022-01-25T21:19:56.099Z"
      },
      {
        "duration": -42,
        "start_time": "2022-01-25T21:19:56.101Z"
      },
      {
        "duration": -42,
        "start_time": "2022-01-25T21:19:56.102Z"
      },
      {
        "duration": -43,
        "start_time": "2022-01-25T21:19:56.104Z"
      },
      {
        "duration": -44,
        "start_time": "2022-01-25T21:19:56.106Z"
      },
      {
        "duration": 8,
        "start_time": "2022-01-25T21:20:29.041Z"
      },
      {
        "duration": 19,
        "start_time": "2022-01-25T21:20:59.704Z"
      },
      {
        "duration": 17,
        "start_time": "2022-01-25T21:21:18.607Z"
      },
      {
        "duration": 38,
        "start_time": "2022-01-25T21:21:19.169Z"
      },
      {
        "duration": 8,
        "start_time": "2022-01-25T21:22:07.861Z"
      },
      {
        "duration": 7,
        "start_time": "2022-01-25T21:22:08.088Z"
      },
      {
        "duration": 19,
        "start_time": "2022-01-25T21:22:20.294Z"
      },
      {
        "duration": 8,
        "start_time": "2022-01-25T21:22:20.646Z"
      },
      {
        "duration": 8,
        "start_time": "2022-01-25T21:22:21.341Z"
      },
      {
        "duration": 34,
        "start_time": "2022-01-25T21:22:39.198Z"
      },
      {
        "duration": 13,
        "start_time": "2022-01-25T21:23:16.339Z"
      },
      {
        "duration": 18,
        "start_time": "2022-01-25T21:23:24.686Z"
      },
      {
        "duration": 11,
        "start_time": "2022-01-25T21:24:13.868Z"
      },
      {
        "duration": 11,
        "start_time": "2022-01-25T21:24:26.233Z"
      },
      {
        "duration": 8,
        "start_time": "2022-01-25T21:24:30.285Z"
      },
      {
        "duration": 16,
        "start_time": "2022-01-25T21:24:43.620Z"
      },
      {
        "duration": 17,
        "start_time": "2022-01-25T21:26:03.371Z"
      },
      {
        "duration": 18,
        "start_time": "2022-01-25T21:26:06.881Z"
      },
      {
        "duration": 16,
        "start_time": "2022-01-25T21:26:14.158Z"
      },
      {
        "duration": 16,
        "start_time": "2022-01-25T21:26:33.016Z"
      },
      {
        "duration": 17,
        "start_time": "2022-01-25T21:26:39.701Z"
      },
      {
        "duration": 15,
        "start_time": "2022-01-25T21:26:46.152Z"
      },
      {
        "duration": 17,
        "start_time": "2022-01-25T21:26:52.447Z"
      },
      {
        "duration": 15,
        "start_time": "2022-01-25T21:26:57.327Z"
      },
      {
        "duration": 18,
        "start_time": "2022-01-25T21:27:15.437Z"
      },
      {
        "duration": 20,
        "start_time": "2022-01-25T21:27:18.003Z"
      },
      {
        "duration": 21,
        "start_time": "2022-01-25T21:27:21.019Z"
      },
      {
        "duration": 17,
        "start_time": "2022-01-25T21:28:30.328Z"
      },
      {
        "duration": 17,
        "start_time": "2022-01-25T21:28:59.818Z"
      },
      {
        "duration": 17,
        "start_time": "2022-01-25T21:29:15.026Z"
      },
      {
        "duration": 16,
        "start_time": "2022-01-25T21:29:23.943Z"
      },
      {
        "duration": 21,
        "start_time": "2022-01-25T21:29:42.833Z"
      },
      {
        "duration": 1072,
        "start_time": "2022-01-25T21:30:18.192Z"
      },
      {
        "duration": 756,
        "start_time": "2022-01-25T21:30:19.266Z"
      },
      {
        "duration": 51,
        "start_time": "2022-01-25T21:30:20.024Z"
      },
      {
        "duration": 74,
        "start_time": "2022-01-25T21:30:20.077Z"
      },
      {
        "duration": 3,
        "start_time": "2022-01-25T21:30:20.153Z"
      },
      {
        "duration": 11,
        "start_time": "2022-01-25T21:30:20.158Z"
      },
      {
        "duration": 16,
        "start_time": "2022-01-25T21:30:20.170Z"
      },
      {
        "duration": 71,
        "start_time": "2022-01-25T21:30:20.188Z"
      },
      {
        "duration": 29,
        "start_time": "2022-01-25T21:30:20.262Z"
      },
      {
        "duration": 51,
        "start_time": "2022-01-25T21:30:20.293Z"
      },
      {
        "duration": 12,
        "start_time": "2022-01-25T21:30:20.345Z"
      },
      {
        "duration": 10,
        "start_time": "2022-01-25T21:30:20.359Z"
      },
      {
        "duration": 5,
        "start_time": "2022-01-25T21:30:20.371Z"
      },
      {
        "duration": 34,
        "start_time": "2022-01-25T21:30:20.378Z"
      },
      {
        "duration": 5,
        "start_time": "2022-01-25T21:30:20.414Z"
      },
      {
        "duration": 7,
        "start_time": "2022-01-25T21:30:20.421Z"
      },
      {
        "duration": 17,
        "start_time": "2022-01-25T21:30:20.430Z"
      },
      {
        "duration": 18,
        "start_time": "2022-01-25T21:30:20.449Z"
      },
      {
        "duration": 11,
        "start_time": "2022-01-25T21:30:20.469Z"
      },
      {
        "duration": 38,
        "start_time": "2022-01-25T21:30:20.482Z"
      },
      {
        "duration": 8,
        "start_time": "2022-01-25T21:30:20.522Z"
      },
      {
        "duration": 84,
        "start_time": "2022-01-25T21:30:20.532Z"
      },
      {
        "duration": 63,
        "start_time": "2022-01-25T21:30:20.618Z"
      },
      {
        "duration": 36,
        "start_time": "2022-01-25T21:30:20.683Z"
      },
      {
        "duration": 1022,
        "start_time": "2022-01-25T21:30:20.720Z"
      },
      {
        "duration": 22,
        "start_time": "2022-01-25T21:30:21.722Z"
      },
      {
        "duration": 21,
        "start_time": "2022-01-25T21:30:21.724Z"
      },
      {
        "duration": 21,
        "start_time": "2022-01-25T21:30:21.725Z"
      },
      {
        "duration": 13,
        "start_time": "2022-01-25T21:30:21.734Z"
      },
      {
        "duration": 16,
        "start_time": "2022-01-25T21:30:39.031Z"
      },
      {
        "duration": 26,
        "start_time": "2022-01-25T21:30:59.501Z"
      },
      {
        "duration": 20,
        "start_time": "2022-01-25T21:31:27.158Z"
      },
      {
        "duration": 1090,
        "start_time": "2022-01-25T21:32:19.981Z"
      },
      {
        "duration": 784,
        "start_time": "2022-01-25T21:32:21.072Z"
      },
      {
        "duration": 47,
        "start_time": "2022-01-25T21:32:21.858Z"
      },
      {
        "duration": 62,
        "start_time": "2022-01-25T21:32:21.907Z"
      },
      {
        "duration": 3,
        "start_time": "2022-01-25T21:32:21.971Z"
      },
      {
        "duration": 11,
        "start_time": "2022-01-25T21:32:21.976Z"
      },
      {
        "duration": 25,
        "start_time": "2022-01-25T21:32:21.988Z"
      },
      {
        "duration": 49,
        "start_time": "2022-01-25T21:32:22.016Z"
      },
      {
        "duration": 28,
        "start_time": "2022-01-25T21:32:22.067Z"
      },
      {
        "duration": 51,
        "start_time": "2022-01-25T21:32:22.096Z"
      },
      {
        "duration": 12,
        "start_time": "2022-01-25T21:32:22.149Z"
      },
      {
        "duration": 11,
        "start_time": "2022-01-25T21:32:22.162Z"
      },
      {
        "duration": 41,
        "start_time": "2022-01-25T21:32:22.174Z"
      },
      {
        "duration": 18,
        "start_time": "2022-01-25T21:32:22.217Z"
      },
      {
        "duration": 6,
        "start_time": "2022-01-25T21:32:22.236Z"
      },
      {
        "duration": 20,
        "start_time": "2022-01-25T21:32:22.244Z"
      },
      {
        "duration": 8,
        "start_time": "2022-01-25T21:32:22.265Z"
      },
      {
        "duration": 49,
        "start_time": "2022-01-25T21:32:22.275Z"
      },
      {
        "duration": 5,
        "start_time": "2022-01-25T21:32:22.325Z"
      },
      {
        "duration": 8,
        "start_time": "2022-01-25T21:32:22.332Z"
      },
      {
        "duration": 17,
        "start_time": "2022-01-25T21:32:22.341Z"
      },
      {
        "duration": 71,
        "start_time": "2022-01-25T21:32:22.359Z"
      },
      {
        "duration": 16,
        "start_time": "2022-01-25T21:32:22.433Z"
      },
      {
        "duration": 62,
        "start_time": "2022-01-25T21:32:22.451Z"
      },
      {
        "duration": 7,
        "start_time": "2022-01-25T21:32:22.515Z"
      },
      {
        "duration": 6,
        "start_time": "2022-01-25T21:32:22.524Z"
      },
      {
        "duration": 112,
        "start_time": "2022-01-25T21:32:22.532Z"
      },
      {
        "duration": 179,
        "start_time": "2022-01-25T21:32:22.646Z"
      },
      {
        "duration": 15,
        "start_time": "2022-01-25T21:32:22.827Z"
      },
      {
        "duration": 2524,
        "start_time": "2022-01-25T21:32:22.843Z"
      },
      {
        "duration": 72,
        "start_time": "2022-01-25T21:32:25.297Z"
      },
      {
        "duration": 70,
        "start_time": "2022-01-25T21:32:25.300Z"
      },
      {
        "duration": 69,
        "start_time": "2022-01-25T21:32:25.302Z"
      },
      {
        "duration": 67,
        "start_time": "2022-01-25T21:32:25.304Z"
      },
      {
        "duration": 19,
        "start_time": "2022-01-25T21:33:01.494Z"
      },
      {
        "duration": 1020,
        "start_time": "2022-01-25T21:33:44.160Z"
      },
      {
        "duration": 830,
        "start_time": "2022-01-25T21:33:45.182Z"
      },
      {
        "duration": 98,
        "start_time": "2022-01-25T21:33:46.014Z"
      },
      {
        "duration": 116,
        "start_time": "2022-01-25T21:33:46.114Z"
      },
      {
        "duration": 3,
        "start_time": "2022-01-25T21:33:46.232Z"
      },
      {
        "duration": 9,
        "start_time": "2022-01-25T21:33:46.237Z"
      },
      {
        "duration": 13,
        "start_time": "2022-01-25T21:33:46.248Z"
      },
      {
        "duration": 78,
        "start_time": "2022-01-25T21:33:46.263Z"
      },
      {
        "duration": 27,
        "start_time": "2022-01-25T21:33:46.344Z"
      },
      {
        "duration": 54,
        "start_time": "2022-01-25T21:33:46.373Z"
      },
      {
        "duration": 12,
        "start_time": "2022-01-25T21:33:46.428Z"
      },
      {
        "duration": 10,
        "start_time": "2022-01-25T21:33:46.441Z"
      },
      {
        "duration": 10,
        "start_time": "2022-01-25T21:33:46.452Z"
      },
      {
        "duration": 16,
        "start_time": "2022-01-25T21:33:46.464Z"
      },
      {
        "duration": 30,
        "start_time": "2022-01-25T21:33:46.482Z"
      },
      {
        "duration": 20,
        "start_time": "2022-01-25T21:33:46.513Z"
      },
      {
        "duration": 8,
        "start_time": "2022-01-25T21:33:46.535Z"
      },
      {
        "duration": 18,
        "start_time": "2022-01-25T21:33:46.544Z"
      },
      {
        "duration": 5,
        "start_time": "2022-01-25T21:33:46.563Z"
      },
      {
        "duration": 49,
        "start_time": "2022-01-25T21:33:46.569Z"
      },
      {
        "duration": 3,
        "start_time": "2022-01-25T21:33:46.619Z"
      },
      {
        "duration": 20,
        "start_time": "2022-01-25T21:33:46.623Z"
      },
      {
        "duration": 18,
        "start_time": "2022-01-25T21:33:46.645Z"
      },
      {
        "duration": 15,
        "start_time": "2022-01-25T21:33:46.664Z"
      },
      {
        "duration": 33,
        "start_time": "2022-01-25T21:33:46.680Z"
      },
      {
        "duration": 7,
        "start_time": "2022-01-25T21:33:46.714Z"
      },
      {
        "duration": 6,
        "start_time": "2022-01-25T21:33:46.724Z"
      },
      {
        "duration": 57,
        "start_time": "2022-01-25T21:33:46.732Z"
      },
      {
        "duration": 61,
        "start_time": "2022-01-25T21:33:46.812Z"
      },
      {
        "duration": 14,
        "start_time": "2022-01-25T21:33:46.875Z"
      },
      {
        "duration": 2576,
        "start_time": "2022-01-25T21:33:46.890Z"
      },
      {
        "duration": 74,
        "start_time": "2022-01-25T21:33:49.395Z"
      },
      {
        "duration": 72,
        "start_time": "2022-01-25T21:33:49.398Z"
      },
      {
        "duration": 70,
        "start_time": "2022-01-25T21:33:49.401Z"
      },
      {
        "duration": 60,
        "start_time": "2022-01-25T21:33:49.411Z"
      },
      {
        "duration": 14,
        "start_time": "2022-01-25T21:35:08.004Z"
      },
      {
        "duration": 10,
        "start_time": "2022-01-25T21:35:21.612Z"
      },
      {
        "duration": 21,
        "start_time": "2022-01-25T21:35:22.767Z"
      },
      {
        "duration": 1062,
        "start_time": "2022-01-25T21:35:29.211Z"
      },
      {
        "duration": 1117,
        "start_time": "2022-01-25T21:35:30.275Z"
      },
      {
        "duration": 48,
        "start_time": "2022-01-25T21:35:31.394Z"
      },
      {
        "duration": 112,
        "start_time": "2022-01-25T21:35:31.443Z"
      },
      {
        "duration": 57,
        "start_time": "2022-01-25T21:35:31.557Z"
      },
      {
        "duration": 10,
        "start_time": "2022-01-25T21:35:31.616Z"
      },
      {
        "duration": 15,
        "start_time": "2022-01-25T21:35:31.628Z"
      },
      {
        "duration": 96,
        "start_time": "2022-01-25T21:35:31.646Z"
      },
      {
        "duration": 81,
        "start_time": "2022-01-25T21:35:31.744Z"
      },
      {
        "duration": 93,
        "start_time": "2022-01-25T21:35:31.827Z"
      },
      {
        "duration": 12,
        "start_time": "2022-01-25T21:35:31.921Z"
      },
      {
        "duration": 11,
        "start_time": "2022-01-25T21:35:31.934Z"
      },
      {
        "duration": 11,
        "start_time": "2022-01-25T21:35:31.946Z"
      },
      {
        "duration": 16,
        "start_time": "2022-01-25T21:35:31.958Z"
      },
      {
        "duration": 40,
        "start_time": "2022-01-25T21:35:31.976Z"
      },
      {
        "duration": 23,
        "start_time": "2022-01-25T21:35:32.018Z"
      },
      {
        "duration": 10,
        "start_time": "2022-01-25T21:35:32.042Z"
      },
      {
        "duration": 18,
        "start_time": "2022-01-25T21:35:32.054Z"
      },
      {
        "duration": 6,
        "start_time": "2022-01-25T21:35:32.074Z"
      },
      {
        "duration": 46,
        "start_time": "2022-01-25T21:35:32.081Z"
      },
      {
        "duration": 2,
        "start_time": "2022-01-25T21:35:32.129Z"
      },
      {
        "duration": 22,
        "start_time": "2022-01-25T21:35:32.133Z"
      },
      {
        "duration": 18,
        "start_time": "2022-01-25T21:35:32.158Z"
      },
      {
        "duration": 35,
        "start_time": "2022-01-25T21:35:32.178Z"
      },
      {
        "duration": 9,
        "start_time": "2022-01-25T21:35:32.214Z"
      },
      {
        "duration": 8,
        "start_time": "2022-01-25T21:35:32.224Z"
      },
      {
        "duration": 8,
        "start_time": "2022-01-25T21:35:32.234Z"
      },
      {
        "duration": 72,
        "start_time": "2022-01-25T21:35:32.244Z"
      },
      {
        "duration": 58,
        "start_time": "2022-01-25T21:35:32.318Z"
      },
      {
        "duration": 15,
        "start_time": "2022-01-25T21:35:32.378Z"
      },
      {
        "duration": 765,
        "start_time": "2022-01-25T21:35:32.413Z"
      },
      {
        "duration": 83,
        "start_time": "2022-01-25T21:35:33.098Z"
      },
      {
        "duration": 81,
        "start_time": "2022-01-25T21:35:33.101Z"
      },
      {
        "duration": 80,
        "start_time": "2022-01-25T21:35:33.103Z"
      },
      {
        "duration": 80,
        "start_time": "2022-01-25T21:35:33.104Z"
      },
      {
        "duration": 8,
        "start_time": "2022-01-25T21:35:43.157Z"
      },
      {
        "duration": 18,
        "start_time": "2022-01-25T21:35:43.862Z"
      },
      {
        "duration": 11,
        "start_time": "2022-01-25T21:36:03.853Z"
      },
      {
        "duration": 19,
        "start_time": "2022-01-25T21:36:04.495Z"
      },
      {
        "duration": 8,
        "start_time": "2022-01-25T21:36:42.808Z"
      },
      {
        "duration": 1050,
        "start_time": "2022-01-25T21:36:49.446Z"
      },
      {
        "duration": 903,
        "start_time": "2022-01-25T21:36:50.498Z"
      },
      {
        "duration": 46,
        "start_time": "2022-01-25T21:36:51.402Z"
      },
      {
        "duration": 63,
        "start_time": "2022-01-25T21:36:51.450Z"
      },
      {
        "duration": 3,
        "start_time": "2022-01-25T21:36:51.514Z"
      },
      {
        "duration": 9,
        "start_time": "2022-01-25T21:36:51.519Z"
      },
      {
        "duration": 14,
        "start_time": "2022-01-25T21:36:51.529Z"
      },
      {
        "duration": 68,
        "start_time": "2022-01-25T21:36:51.545Z"
      },
      {
        "duration": 27,
        "start_time": "2022-01-25T21:36:51.615Z"
      },
      {
        "duration": 36,
        "start_time": "2022-01-25T21:36:51.643Z"
      },
      {
        "duration": 32,
        "start_time": "2022-01-25T21:36:51.680Z"
      },
      {
        "duration": 12,
        "start_time": "2022-01-25T21:36:51.713Z"
      },
      {
        "duration": 6,
        "start_time": "2022-01-25T21:36:51.726Z"
      },
      {
        "duration": 12,
        "start_time": "2022-01-25T21:36:51.734Z"
      },
      {
        "duration": 6,
        "start_time": "2022-01-25T21:36:51.747Z"
      },
      {
        "duration": 11,
        "start_time": "2022-01-25T21:36:51.754Z"
      },
      {
        "duration": 7,
        "start_time": "2022-01-25T21:36:51.767Z"
      },
      {
        "duration": 50,
        "start_time": "2022-01-25T21:36:51.776Z"
      },
      {
        "duration": 11,
        "start_time": "2022-01-25T21:36:51.828Z"
      },
      {
        "duration": 7,
        "start_time": "2022-01-25T21:36:51.840Z"
      },
      {
        "duration": 6,
        "start_time": "2022-01-25T21:36:51.849Z"
      },
      {
        "duration": 86,
        "start_time": "2022-01-25T21:36:51.857Z"
      },
      {
        "duration": 69,
        "start_time": "2022-01-25T21:36:51.946Z"
      },
      {
        "duration": 18,
        "start_time": "2022-01-25T21:36:52.016Z"
      },
      {
        "duration": 826,
        "start_time": "2022-01-25T21:36:52.036Z"
      },
      {
        "duration": 587,
        "start_time": "2022-01-25T21:36:52.864Z"
      },
      {
        "duration": 629,
        "start_time": "2022-01-25T21:36:53.453Z"
      },
      {
        "duration": 328,
        "start_time": "2022-01-25T21:36:54.083Z"
      },
      {
        "duration": 27,
        "start_time": "2022-01-25T21:36:54.386Z"
      },
      {
        "duration": 17,
        "start_time": "2022-01-25T21:37:08.299Z"
      },
      {
        "duration": 13,
        "start_time": "2022-01-25T21:37:09.009Z"
      },
      {
        "duration": 8,
        "start_time": "2022-01-25T21:37:10.191Z"
      },
      {
        "duration": 8,
        "start_time": "2022-01-25T21:37:12.271Z"
      },
      {
        "duration": 57,
        "start_time": "2022-01-25T21:37:40.442Z"
      },
      {
        "duration": 61,
        "start_time": "2022-01-25T21:37:42.813Z"
      },
      {
        "duration": 188,
        "start_time": "2022-01-25T21:38:05.727Z"
      },
      {
        "duration": 5,
        "start_time": "2022-01-25T21:38:09.908Z"
      },
      {
        "duration": 4,
        "start_time": "2022-01-25T21:40:24.770Z"
      },
      {
        "duration": 7,
        "start_time": "2022-01-25T21:40:25.551Z"
      },
      {
        "duration": 1074,
        "start_time": "2022-01-25T21:41:06.584Z"
      },
      {
        "duration": 740,
        "start_time": "2022-01-25T21:41:07.660Z"
      },
      {
        "duration": 48,
        "start_time": "2022-01-25T21:41:08.404Z"
      },
      {
        "duration": 65,
        "start_time": "2022-01-25T21:41:08.453Z"
      },
      {
        "duration": 4,
        "start_time": "2022-01-25T21:41:08.519Z"
      },
      {
        "duration": 9,
        "start_time": "2022-01-25T21:41:08.524Z"
      },
      {
        "duration": 14,
        "start_time": "2022-01-25T21:41:08.536Z"
      },
      {
        "duration": 67,
        "start_time": "2022-01-25T21:41:08.552Z"
      },
      {
        "duration": 28,
        "start_time": "2022-01-25T21:41:08.620Z"
      },
      {
        "duration": 38,
        "start_time": "2022-01-25T21:41:08.650Z"
      },
      {
        "duration": 33,
        "start_time": "2022-01-25T21:41:08.689Z"
      },
      {
        "duration": 11,
        "start_time": "2022-01-25T21:41:08.723Z"
      },
      {
        "duration": 6,
        "start_time": "2022-01-25T21:41:08.735Z"
      },
      {
        "duration": 11,
        "start_time": "2022-01-25T21:41:08.742Z"
      },
      {
        "duration": 5,
        "start_time": "2022-01-25T21:41:08.754Z"
      },
      {
        "duration": 8,
        "start_time": "2022-01-25T21:41:08.761Z"
      },
      {
        "duration": 5,
        "start_time": "2022-01-25T21:41:08.770Z"
      },
      {
        "duration": 36,
        "start_time": "2022-01-25T21:41:08.776Z"
      },
      {
        "duration": 17,
        "start_time": "2022-01-25T21:41:08.814Z"
      },
      {
        "duration": 10,
        "start_time": "2022-01-25T21:41:08.833Z"
      },
      {
        "duration": 5,
        "start_time": "2022-01-25T21:41:08.845Z"
      },
      {
        "duration": 6,
        "start_time": "2022-01-25T21:41:08.853Z"
      },
      {
        "duration": 63,
        "start_time": "2022-01-25T21:41:08.861Z"
      },
      {
        "duration": 33,
        "start_time": "2022-01-25T21:41:08.926Z"
      },
      {
        "duration": 17,
        "start_time": "2022-01-25T21:41:08.961Z"
      },
      {
        "duration": 637,
        "start_time": "2022-01-25T21:41:08.979Z"
      },
      {
        "duration": 602,
        "start_time": "2022-01-25T21:41:09.617Z"
      },
      {
        "duration": 620,
        "start_time": "2022-01-25T21:41:10.221Z"
      },
      {
        "duration": 287,
        "start_time": "2022-01-25T21:41:10.843Z"
      },
      {
        "duration": 2,
        "start_time": "2022-01-25T21:41:11.130Z"
      },
      {
        "duration": 843,
        "start_time": "2022-01-25T21:41:30.041Z"
      },
      {
        "duration": 16,
        "start_time": "2022-01-25T21:41:47.043Z"
      },
      {
        "duration": 16,
        "start_time": "2022-01-25T21:41:55.174Z"
      },
      {
        "duration": 7,
        "start_time": "2022-01-25T21:43:24.376Z"
      },
      {
        "duration": 7,
        "start_time": "2022-01-25T21:43:24.951Z"
      },
      {
        "duration": 12,
        "start_time": "2022-01-25T21:43:31.889Z"
      },
      {
        "duration": 12,
        "start_time": "2022-01-25T21:43:32.169Z"
      },
      {
        "duration": 6,
        "start_time": "2022-01-25T21:43:32.819Z"
      },
      {
        "duration": 12,
        "start_time": "2022-01-25T21:43:33.606Z"
      },
      {
        "duration": 6,
        "start_time": "2022-01-25T21:43:34.889Z"
      },
      {
        "duration": 8,
        "start_time": "2022-01-25T21:43:35.363Z"
      },
      {
        "duration": 7,
        "start_time": "2022-01-25T21:43:36.173Z"
      },
      {
        "duration": 37,
        "start_time": "2022-01-25T21:43:47.071Z"
      },
      {
        "duration": 16,
        "start_time": "2022-01-25T21:43:47.593Z"
      },
      {
        "duration": 11,
        "start_time": "2022-01-25T21:43:47.867Z"
      },
      {
        "duration": 6,
        "start_time": "2022-01-25T21:43:48.494Z"
      },
      {
        "duration": 11,
        "start_time": "2022-01-25T21:43:49.858Z"
      },
      {
        "duration": 6,
        "start_time": "2022-01-25T21:43:51.344Z"
      },
      {
        "duration": 5,
        "start_time": "2022-01-25T21:44:09.616Z"
      },
      {
        "duration": 8,
        "start_time": "2022-01-25T21:44:10.630Z"
      },
      {
        "duration": 1064,
        "start_time": "2022-01-25T21:44:22.604Z"
      },
      {
        "duration": 886,
        "start_time": "2022-01-25T21:44:23.669Z"
      },
      {
        "duration": 65,
        "start_time": "2022-01-25T21:44:24.557Z"
      },
      {
        "duration": 62,
        "start_time": "2022-01-25T21:44:24.624Z"
      },
      {
        "duration": 3,
        "start_time": "2022-01-25T21:44:24.688Z"
      },
      {
        "duration": 30,
        "start_time": "2022-01-25T21:44:24.693Z"
      },
      {
        "duration": 16,
        "start_time": "2022-01-25T21:44:24.725Z"
      },
      {
        "duration": 51,
        "start_time": "2022-01-25T21:44:24.744Z"
      },
      {
        "duration": 31,
        "start_time": "2022-01-25T21:44:24.812Z"
      },
      {
        "duration": 42,
        "start_time": "2022-01-25T21:44:24.845Z"
      },
      {
        "duration": 33,
        "start_time": "2022-01-25T21:44:24.889Z"
      },
      {
        "duration": 13,
        "start_time": "2022-01-25T21:44:24.923Z"
      },
      {
        "duration": 8,
        "start_time": "2022-01-25T21:44:24.937Z"
      },
      {
        "duration": 12,
        "start_time": "2022-01-25T21:44:24.946Z"
      },
      {
        "duration": 6,
        "start_time": "2022-01-25T21:44:24.960Z"
      },
      {
        "duration": 44,
        "start_time": "2022-01-25T21:44:24.968Z"
      },
      {
        "duration": 290,
        "start_time": "2022-01-25T21:44:25.014Z"
      },
      {
        "duration": 14,
        "start_time": "2022-01-25T21:44:25.293Z"
      },
      {
        "duration": 11,
        "start_time": "2022-01-25T21:44:25.297Z"
      },
      {
        "duration": 10,
        "start_time": "2022-01-25T21:44:25.299Z"
      },
      {
        "duration": 3,
        "start_time": "2022-01-25T21:44:25.308Z"
      },
      {
        "duration": 1,
        "start_time": "2022-01-25T21:44:25.311Z"
      },
      {
        "duration": 0,
        "start_time": "2022-01-25T21:44:25.314Z"
      },
      {
        "duration": -1,
        "start_time": "2022-01-25T21:44:25.316Z"
      },
      {
        "duration": -1,
        "start_time": "2022-01-25T21:44:25.318Z"
      },
      {
        "duration": -8,
        "start_time": "2022-01-25T21:44:25.326Z"
      },
      {
        "duration": -9,
        "start_time": "2022-01-25T21:44:25.328Z"
      },
      {
        "duration": -8,
        "start_time": "2022-01-25T21:44:25.329Z"
      },
      {
        "duration": -9,
        "start_time": "2022-01-25T21:44:25.331Z"
      },
      {
        "duration": -10,
        "start_time": "2022-01-25T21:44:25.333Z"
      },
      {
        "duration": 18,
        "start_time": "2022-01-25T21:44:33.863Z"
      },
      {
        "duration": 5,
        "start_time": "2022-01-25T21:44:43.964Z"
      },
      {
        "duration": 6,
        "start_time": "2022-01-25T21:44:51.476Z"
      },
      {
        "duration": 9,
        "start_time": "2022-01-25T21:45:27.965Z"
      },
      {
        "duration": 7,
        "start_time": "2022-01-25T21:45:28.153Z"
      },
      {
        "duration": 1141,
        "start_time": "2022-01-25T21:45:33.397Z"
      },
      {
        "duration": 738,
        "start_time": "2022-01-25T21:45:34.540Z"
      },
      {
        "duration": 48,
        "start_time": "2022-01-25T21:45:35.280Z"
      },
      {
        "duration": 63,
        "start_time": "2022-01-25T21:45:35.329Z"
      },
      {
        "duration": 3,
        "start_time": "2022-01-25T21:45:35.394Z"
      },
      {
        "duration": 20,
        "start_time": "2022-01-25T21:45:35.399Z"
      },
      {
        "duration": 15,
        "start_time": "2022-01-25T21:45:35.421Z"
      },
      {
        "duration": 47,
        "start_time": "2022-01-25T21:45:35.438Z"
      },
      {
        "duration": 47,
        "start_time": "2022-01-25T21:45:35.487Z"
      },
      {
        "duration": 36,
        "start_time": "2022-01-25T21:45:35.535Z"
      },
      {
        "duration": 11,
        "start_time": "2022-01-25T21:45:35.572Z"
      },
      {
        "duration": 30,
        "start_time": "2022-01-25T21:45:35.585Z"
      },
      {
        "duration": 6,
        "start_time": "2022-01-25T21:45:35.616Z"
      },
      {
        "duration": 11,
        "start_time": "2022-01-25T21:45:35.623Z"
      },
      {
        "duration": 5,
        "start_time": "2022-01-25T21:45:35.636Z"
      },
      {
        "duration": 9,
        "start_time": "2022-01-25T21:45:35.642Z"
      },
      {
        "duration": 12,
        "start_time": "2022-01-25T21:45:35.652Z"
      },
      {
        "duration": 13,
        "start_time": "2022-01-25T21:45:35.666Z"
      },
      {
        "duration": 39,
        "start_time": "2022-01-25T21:45:35.681Z"
      },
      {
        "duration": 6,
        "start_time": "2022-01-25T21:45:35.721Z"
      },
      {
        "duration": 7,
        "start_time": "2022-01-25T21:45:35.729Z"
      },
      {
        "duration": 31,
        "start_time": "2022-01-25T21:45:35.738Z"
      },
      {
        "duration": 54,
        "start_time": "2022-01-25T21:45:35.771Z"
      },
      {
        "duration": 17,
        "start_time": "2022-01-25T21:45:35.827Z"
      },
      {
        "duration": 795,
        "start_time": "2022-01-25T21:45:35.846Z"
      },
      {
        "duration": 585,
        "start_time": "2022-01-25T21:45:36.642Z"
      },
      {
        "duration": 618,
        "start_time": "2022-01-25T21:45:37.229Z"
      },
      {
        "duration": 291,
        "start_time": "2022-01-25T21:45:37.848Z"
      },
      {
        "duration": -427,
        "start_time": "2022-01-25T21:45:38.568Z"
      },
      {
        "duration": 18,
        "start_time": "2022-01-25T21:47:15.222Z"
      },
      {
        "duration": 72,
        "start_time": "2022-01-25T21:49:59.267Z"
      },
      {
        "duration": 34,
        "start_time": "2022-01-25T21:50:02.985Z"
      },
      {
        "duration": 35,
        "start_time": "2022-01-25T21:50:10.082Z"
      },
      {
        "duration": 30,
        "start_time": "2022-01-25T21:50:51.836Z"
      },
      {
        "duration": 39,
        "start_time": "2022-01-25T21:50:59.040Z"
      },
      {
        "duration": 36,
        "start_time": "2022-01-25T21:51:03.368Z"
      },
      {
        "duration": 36,
        "start_time": "2022-01-25T21:51:06.630Z"
      },
      {
        "duration": 33,
        "start_time": "2022-01-25T21:52:26.924Z"
      },
      {
        "duration": 33,
        "start_time": "2022-01-25T21:52:27.395Z"
      },
      {
        "duration": 22,
        "start_time": "2022-01-25T21:53:54.459Z"
      },
      {
        "duration": 39,
        "start_time": "2022-01-25T21:54:33.940Z"
      },
      {
        "duration": 227,
        "start_time": "2022-01-25T21:55:59.906Z"
      },
      {
        "duration": 18,
        "start_time": "2022-01-25T21:56:08.621Z"
      },
      {
        "duration": 15,
        "start_time": "2022-01-25T21:56:24.532Z"
      },
      {
        "duration": 219,
        "start_time": "2022-01-25T21:56:46.930Z"
      },
      {
        "duration": 19,
        "start_time": "2022-01-25T21:56:53.099Z"
      },
      {
        "duration": 65,
        "start_time": "2022-01-25T21:58:36.179Z"
      },
      {
        "duration": 19,
        "start_time": "2022-01-25T21:58:41.486Z"
      },
      {
        "duration": 20,
        "start_time": "2022-01-25T21:59:30.513Z"
      },
      {
        "duration": 16,
        "start_time": "2022-01-25T21:59:54.990Z"
      },
      {
        "duration": 192,
        "start_time": "2022-01-25T22:01:23.533Z"
      },
      {
        "duration": 1264,
        "start_time": "2022-01-25T22:01:29.253Z"
      },
      {
        "duration": 1255,
        "start_time": "2022-01-25T22:01:59.425Z"
      },
      {
        "duration": 1201,
        "start_time": "2022-01-25T22:02:14.503Z"
      },
      {
        "duration": 1333,
        "start_time": "2022-01-25T22:02:34.972Z"
      },
      {
        "duration": 1255,
        "start_time": "2022-01-25T22:02:53.560Z"
      },
      {
        "duration": 1338,
        "start_time": "2022-01-25T22:03:12.476Z"
      },
      {
        "duration": 1157,
        "start_time": "2022-01-25T22:03:39.557Z"
      },
      {
        "duration": 1347,
        "start_time": "2022-01-25T22:03:58.144Z"
      },
      {
        "duration": 203,
        "start_time": "2022-01-25T22:04:36.926Z"
      },
      {
        "duration": 195,
        "start_time": "2022-01-25T22:04:48.725Z"
      },
      {
        "duration": 57,
        "start_time": "2022-01-25T22:05:02.208Z"
      },
      {
        "duration": 794,
        "start_time": "2022-01-25T22:05:09.249Z"
      },
      {
        "duration": 64,
        "start_time": "2022-01-25T22:05:16.602Z"
      },
      {
        "duration": 60,
        "start_time": "2022-01-25T22:05:52.414Z"
      },
      {
        "duration": 780,
        "start_time": "2022-01-25T22:05:55.289Z"
      },
      {
        "duration": 17,
        "start_time": "2022-01-25T22:06:14.713Z"
      },
      {
        "duration": 203,
        "start_time": "2022-01-25T22:06:37.036Z"
      },
      {
        "duration": 29,
        "start_time": "2022-01-25T22:09:00.894Z"
      },
      {
        "duration": 29,
        "start_time": "2022-01-25T22:09:13.133Z"
      },
      {
        "duration": 31,
        "start_time": "2022-01-25T22:09:41.790Z"
      },
      {
        "duration": 31,
        "start_time": "2022-01-25T22:10:16.407Z"
      },
      {
        "duration": 29,
        "start_time": "2022-01-25T22:10:24.779Z"
      },
      {
        "duration": 184,
        "start_time": "2022-01-25T22:10:37.259Z"
      },
      {
        "duration": 28,
        "start_time": "2022-01-25T22:10:42.755Z"
      },
      {
        "duration": 30,
        "start_time": "2022-01-25T22:11:01.321Z"
      },
      {
        "duration": 68,
        "start_time": "2022-01-25T22:11:15.305Z"
      },
      {
        "duration": 201,
        "start_time": "2022-01-25T22:11:21.087Z"
      },
      {
        "duration": 60,
        "start_time": "2022-01-25T22:11:24.341Z"
      },
      {
        "duration": 65,
        "start_time": "2022-01-25T22:11:28.730Z"
      },
      {
        "duration": 26,
        "start_time": "2022-01-25T22:11:38.345Z"
      },
      {
        "duration": 34,
        "start_time": "2022-01-25T22:12:23.208Z"
      },
      {
        "duration": 31,
        "start_time": "2022-01-25T22:12:33.944Z"
      },
      {
        "duration": 28,
        "start_time": "2022-01-25T22:13:00.020Z"
      },
      {
        "duration": 7,
        "start_time": "2022-01-25T22:13:01.069Z"
      },
      {
        "duration": 6,
        "start_time": "2022-01-25T22:13:01.526Z"
      },
      {
        "duration": 35,
        "start_time": "2022-01-25T22:13:03.502Z"
      },
      {
        "duration": 35,
        "start_time": "2022-01-25T22:13:03.971Z"
      },
      {
        "duration": 39,
        "start_time": "2022-01-25T22:13:04.990Z"
      },
      {
        "duration": 192,
        "start_time": "2022-01-25T22:13:06.418Z"
      },
      {
        "duration": 230,
        "start_time": "2022-01-25T22:13:14.242Z"
      },
      {
        "duration": 207,
        "start_time": "2022-01-25T22:13:28.905Z"
      },
      {
        "duration": 1156,
        "start_time": "2022-01-25T22:16:31.812Z"
      },
      {
        "duration": 795,
        "start_time": "2022-01-25T22:16:32.971Z"
      },
      {
        "duration": 46,
        "start_time": "2022-01-25T22:16:33.767Z"
      },
      {
        "duration": 60,
        "start_time": "2022-01-25T22:16:33.815Z"
      },
      {
        "duration": 4,
        "start_time": "2022-01-25T22:16:33.876Z"
      },
      {
        "duration": 12,
        "start_time": "2022-01-25T22:16:33.881Z"
      },
      {
        "duration": 64,
        "start_time": "2022-01-25T22:16:33.894Z"
      },
      {
        "duration": 30,
        "start_time": "2022-01-25T22:16:33.961Z"
      },
      {
        "duration": 53,
        "start_time": "2022-01-25T22:16:33.993Z"
      },
      {
        "duration": 13,
        "start_time": "2022-01-25T22:16:34.047Z"
      },
      {
        "duration": 11,
        "start_time": "2022-01-25T22:16:34.062Z"
      },
      {
        "duration": 6,
        "start_time": "2022-01-25T22:16:34.075Z"
      },
      {
        "duration": 40,
        "start_time": "2022-01-25T22:16:34.082Z"
      },
      {
        "duration": 5,
        "start_time": "2022-01-25T22:16:34.124Z"
      },
      {
        "duration": 8,
        "start_time": "2022-01-25T22:16:34.131Z"
      },
      {
        "duration": 7,
        "start_time": "2022-01-25T22:16:34.140Z"
      },
      {
        "duration": 28,
        "start_time": "2022-01-25T22:16:34.149Z"
      },
      {
        "duration": 323,
        "start_time": "2022-01-25T22:16:34.179Z"
      },
      {
        "duration": -11,
        "start_time": "2022-01-25T22:16:34.515Z"
      },
      {
        "duration": -18,
        "start_time": "2022-01-25T22:16:34.523Z"
      },
      {
        "duration": -20,
        "start_time": "2022-01-25T22:16:34.526Z"
      },
      {
        "duration": -23,
        "start_time": "2022-01-25T22:16:34.530Z"
      },
      {
        "duration": -25,
        "start_time": "2022-01-25T22:16:34.532Z"
      },
      {
        "duration": -26,
        "start_time": "2022-01-25T22:16:34.534Z"
      },
      {
        "duration": -28,
        "start_time": "2022-01-25T22:16:34.537Z"
      },
      {
        "duration": -28,
        "start_time": "2022-01-25T22:16:34.538Z"
      },
      {
        "duration": -29,
        "start_time": "2022-01-25T22:16:34.540Z"
      },
      {
        "duration": -30,
        "start_time": "2022-01-25T22:16:34.542Z"
      },
      {
        "duration": -31,
        "start_time": "2022-01-25T22:16:34.544Z"
      },
      {
        "duration": -32,
        "start_time": "2022-01-25T22:16:34.546Z"
      },
      {
        "duration": -33,
        "start_time": "2022-01-25T22:16:34.548Z"
      },
      {
        "duration": -34,
        "start_time": "2022-01-25T22:16:34.550Z"
      },
      {
        "duration": -34,
        "start_time": "2022-01-25T22:16:34.551Z"
      },
      {
        "duration": 11,
        "start_time": "2022-01-25T22:17:45.204Z"
      },
      {
        "duration": 16,
        "start_time": "2022-01-25T22:18:01.820Z"
      },
      {
        "duration": 1098,
        "start_time": "2022-01-25T22:18:12.868Z"
      },
      {
        "duration": 915,
        "start_time": "2022-01-25T22:18:13.968Z"
      },
      {
        "duration": 51,
        "start_time": "2022-01-25T22:18:14.885Z"
      },
      {
        "duration": 67,
        "start_time": "2022-01-25T22:18:14.938Z"
      },
      {
        "duration": 4,
        "start_time": "2022-01-25T22:18:15.013Z"
      },
      {
        "duration": 23,
        "start_time": "2022-01-25T22:18:15.019Z"
      },
      {
        "duration": 53,
        "start_time": "2022-01-25T22:18:15.044Z"
      },
      {
        "duration": 38,
        "start_time": "2022-01-25T22:18:15.100Z"
      },
      {
        "duration": 45,
        "start_time": "2022-01-25T22:18:15.140Z"
      },
      {
        "duration": 33,
        "start_time": "2022-01-25T22:18:15.187Z"
      },
      {
        "duration": 13,
        "start_time": "2022-01-25T22:18:15.222Z"
      },
      {
        "duration": 19,
        "start_time": "2022-01-25T22:18:15.237Z"
      },
      {
        "duration": 7,
        "start_time": "2022-01-25T22:18:15.258Z"
      },
      {
        "duration": 11,
        "start_time": "2022-01-25T22:18:15.267Z"
      },
      {
        "duration": 32,
        "start_time": "2022-01-25T22:18:15.280Z"
      },
      {
        "duration": 11,
        "start_time": "2022-01-25T22:18:15.314Z"
      },
      {
        "duration": 7,
        "start_time": "2022-01-25T22:18:15.327Z"
      },
      {
        "duration": 29,
        "start_time": "2022-01-25T22:18:15.336Z"
      },
      {
        "duration": 275,
        "start_time": "2022-01-25T22:18:15.367Z"
      },
      {
        "duration": 7,
        "start_time": "2022-01-25T22:18:15.637Z"
      },
      {
        "duration": 6,
        "start_time": "2022-01-25T22:18:15.639Z"
      },
      {
        "duration": 2,
        "start_time": "2022-01-25T22:18:15.644Z"
      },
      {
        "duration": 2,
        "start_time": "2022-01-25T22:18:15.646Z"
      },
      {
        "duration": -8,
        "start_time": "2022-01-25T22:18:15.657Z"
      },
      {
        "duration": -10,
        "start_time": "2022-01-25T22:18:15.660Z"
      },
      {
        "duration": -11,
        "start_time": "2022-01-25T22:18:15.662Z"
      },
      {
        "duration": -18,
        "start_time": "2022-01-25T22:18:15.670Z"
      },
      {
        "duration": -19,
        "start_time": "2022-01-25T22:18:15.672Z"
      },
      {
        "duration": -21,
        "start_time": "2022-01-25T22:18:15.674Z"
      },
      {
        "duration": -22,
        "start_time": "2022-01-25T22:18:15.676Z"
      },
      {
        "duration": -23,
        "start_time": "2022-01-25T22:18:15.678Z"
      },
      {
        "duration": -31,
        "start_time": "2022-01-25T22:18:15.687Z"
      },
      {
        "duration": -32,
        "start_time": "2022-01-25T22:18:15.689Z"
      },
      {
        "duration": -33,
        "start_time": "2022-01-25T22:18:15.691Z"
      },
      {
        "duration": 189,
        "start_time": "2022-01-25T22:19:19.276Z"
      },
      {
        "duration": 201,
        "start_time": "2022-01-25T22:19:23.842Z"
      },
      {
        "duration": 779,
        "start_time": "2022-01-25T22:20:52.196Z"
      },
      {
        "duration": 16,
        "start_time": "2022-01-25T22:21:07.059Z"
      },
      {
        "duration": 65,
        "start_time": "2022-01-25T22:21:24.488Z"
      },
      {
        "duration": 12,
        "start_time": "2022-01-25T22:21:29.696Z"
      },
      {
        "duration": 13,
        "start_time": "2022-01-25T22:21:59.350Z"
      },
      {
        "duration": 14,
        "start_time": "2022-01-25T22:22:13.026Z"
      },
      {
        "duration": 9,
        "start_time": "2022-01-25T22:22:30.030Z"
      },
      {
        "duration": 8,
        "start_time": "2022-01-25T22:22:30.266Z"
      },
      {
        "duration": 48,
        "start_time": "2022-01-25T22:22:34.184Z"
      },
      {
        "duration": 36,
        "start_time": "2022-01-25T22:22:34.337Z"
      },
      {
        "duration": 36,
        "start_time": "2022-01-25T22:22:36.254Z"
      },
      {
        "duration": 26,
        "start_time": "2022-01-25T22:23:20.701Z"
      },
      {
        "duration": 29,
        "start_time": "2022-01-25T22:23:31.032Z"
      },
      {
        "duration": 23,
        "start_time": "2022-01-25T22:23:38.252Z"
      },
      {
        "duration": 28,
        "start_time": "2022-01-25T22:24:21.127Z"
      },
      {
        "duration": 29,
        "start_time": "2022-01-25T22:24:27.792Z"
      },
      {
        "duration": 27,
        "start_time": "2022-01-25T22:24:34.906Z"
      },
      {
        "duration": 26,
        "start_time": "2022-01-25T22:24:38.809Z"
      },
      {
        "duration": 25,
        "start_time": "2022-01-25T22:24:43.656Z"
      },
      {
        "duration": 196,
        "start_time": "2022-01-25T22:25:30.839Z"
      },
      {
        "duration": 194,
        "start_time": "2022-01-25T22:25:33.396Z"
      },
      {
        "duration": 1170,
        "start_time": "2022-01-25T22:25:57.421Z"
      },
      {
        "duration": 406,
        "start_time": "2022-01-25T22:26:47.209Z"
      },
      {
        "duration": 282,
        "start_time": "2022-01-25T22:26:53.689Z"
      },
      {
        "duration": 1190,
        "start_time": "2022-01-25T22:26:58.204Z"
      },
      {
        "duration": 1235,
        "start_time": "2022-01-25T22:27:41.667Z"
      },
      {
        "duration": -20,
        "start_time": "2022-01-25T22:28:30.396Z"
      },
      {
        "duration": 1136,
        "start_time": "2022-01-25T22:28:33.357Z"
      },
      {
        "duration": 1229,
        "start_time": "2022-01-25T22:28:56.459Z"
      },
      {
        "duration": 1138,
        "start_time": "2022-01-25T22:29:01.157Z"
      },
      {
        "duration": 200,
        "start_time": "2022-01-25T22:29:05.186Z"
      },
      {
        "duration": 1223,
        "start_time": "2022-01-25T22:29:12.601Z"
      },
      {
        "duration": 211,
        "start_time": "2022-01-25T22:29:16.320Z"
      },
      {
        "duration": 1167,
        "start_time": "2022-01-25T22:29:21.847Z"
      },
      {
        "duration": 206,
        "start_time": "2022-01-25T22:29:27.498Z"
      },
      {
        "duration": 1263,
        "start_time": "2022-01-25T22:29:36.050Z"
      },
      {
        "duration": 1156,
        "start_time": "2022-01-25T22:29:40.723Z"
      },
      {
        "duration": 1237,
        "start_time": "2022-01-25T22:29:46.580Z"
      },
      {
        "duration": 199,
        "start_time": "2022-01-25T22:29:52.652Z"
      },
      {
        "duration": 1181,
        "start_time": "2022-01-25T22:29:57.805Z"
      },
      {
        "duration": 1193,
        "start_time": "2022-01-25T22:30:02.829Z"
      },
      {
        "duration": 215,
        "start_time": "2022-01-25T22:30:04.828Z"
      },
      {
        "duration": 1201,
        "start_time": "2022-01-25T22:30:12.834Z"
      },
      {
        "duration": 203,
        "start_time": "2022-01-25T22:30:15.275Z"
      },
      {
        "duration": 1229,
        "start_time": "2022-01-25T22:30:19.081Z"
      },
      {
        "duration": 195,
        "start_time": "2022-01-25T22:30:24.358Z"
      },
      {
        "duration": 1197,
        "start_time": "2022-01-25T22:30:30.787Z"
      },
      {
        "duration": 1181,
        "start_time": "2022-01-25T22:30:33.603Z"
      },
      {
        "duration": 1894,
        "start_time": "2022-01-25T22:30:37.782Z"
      },
      {
        "duration": 201,
        "start_time": "2022-01-25T22:30:44.537Z"
      },
      {
        "duration": 1215,
        "start_time": "2022-01-25T22:30:52.200Z"
      },
      {
        "duration": 196,
        "start_time": "2022-01-25T22:30:57.061Z"
      },
      {
        "duration": 1198,
        "start_time": "2022-01-25T22:31:05.416Z"
      },
      {
        "duration": 198,
        "start_time": "2022-01-25T22:31:11.201Z"
      },
      {
        "duration": 212,
        "start_time": "2022-01-25T22:31:14.274Z"
      },
      {
        "duration": 1278,
        "start_time": "2022-01-25T22:31:28.056Z"
      },
      {
        "duration": 1178,
        "start_time": "2022-01-25T22:31:35.142Z"
      },
      {
        "duration": 618,
        "start_time": "2022-01-25T22:32:25.259Z"
      },
      {
        "duration": 605,
        "start_time": "2022-01-25T22:32:25.879Z"
      },
      {
        "duration": 640,
        "start_time": "2022-01-25T22:32:26.486Z"
      },
      {
        "duration": 362,
        "start_time": "2022-01-25T22:32:47.246Z"
      },
      {
        "duration": 606,
        "start_time": "2022-01-25T22:33:09.501Z"
      },
      {
        "duration": 621,
        "start_time": "2022-01-25T22:33:16.878Z"
      },
      {
        "duration": 577,
        "start_time": "2022-01-25T22:33:59.485Z"
      },
      {
        "duration": 611,
        "start_time": "2022-01-25T22:34:05.825Z"
      },
      {
        "duration": 641,
        "start_time": "2022-01-25T22:34:16.002Z"
      },
      {
        "duration": 1005,
        "start_time": "2022-01-25T22:34:46.059Z"
      },
      {
        "duration": 58,
        "start_time": "2022-01-25T22:35:01.022Z"
      },
      {
        "duration": 71,
        "start_time": "2022-01-25T22:35:04.499Z"
      },
      {
        "duration": 220,
        "start_time": "2022-01-25T22:35:17.663Z"
      },
      {
        "duration": 660,
        "start_time": "2022-01-25T22:35:22.469Z"
      },
      {
        "duration": 197,
        "start_time": "2022-01-25T22:35:39.293Z"
      },
      {
        "duration": 378,
        "start_time": "2022-01-25T22:35:45.726Z"
      },
      {
        "duration": 416,
        "start_time": "2022-01-25T22:36:30.187Z"
      },
      {
        "duration": 375,
        "start_time": "2022-01-25T22:36:39.596Z"
      },
      {
        "duration": 365,
        "start_time": "2022-01-25T22:36:46.584Z"
      },
      {
        "duration": 229,
        "start_time": "2022-01-25T22:37:26.041Z"
      },
      {
        "duration": 207,
        "start_time": "2022-01-25T22:37:33.394Z"
      },
      {
        "duration": 436,
        "start_time": "2022-01-25T22:37:40.426Z"
      },
      {
        "duration": 608,
        "start_time": "2022-01-25T22:38:12.816Z"
      },
      {
        "duration": 611,
        "start_time": "2022-01-25T22:38:40.759Z"
      },
      {
        "duration": 403,
        "start_time": "2022-01-25T22:39:09.850Z"
      },
      {
        "duration": 454,
        "start_time": "2022-01-25T22:39:14.665Z"
      },
      {
        "duration": 506,
        "start_time": "2022-01-25T22:39:22.680Z"
      },
      {
        "duration": 425,
        "start_time": "2022-01-25T22:39:28.525Z"
      },
      {
        "duration": 2,
        "start_time": "2022-01-25T22:40:26.828Z"
      },
      {
        "duration": 3,
        "start_time": "2022-01-25T22:40:31.442Z"
      },
      {
        "duration": 1567,
        "start_time": "2022-01-26T17:04:00.961Z"
      },
      {
        "duration": 1042,
        "start_time": "2022-01-26T17:04:02.534Z"
      },
      {
        "duration": 70,
        "start_time": "2022-01-26T17:04:03.579Z"
      },
      {
        "duration": 107,
        "start_time": "2022-01-26T17:04:03.651Z"
      },
      {
        "duration": 5,
        "start_time": "2022-01-26T17:04:03.761Z"
      },
      {
        "duration": 15,
        "start_time": "2022-01-26T17:04:03.768Z"
      },
      {
        "duration": 97,
        "start_time": "2022-01-26T17:04:03.786Z"
      },
      {
        "duration": 59,
        "start_time": "2022-01-26T17:04:03.887Z"
      },
      {
        "duration": 61,
        "start_time": "2022-01-26T17:04:03.949Z"
      },
      {
        "duration": 39,
        "start_time": "2022-01-26T17:04:04.012Z"
      },
      {
        "duration": 17,
        "start_time": "2022-01-26T17:04:04.054Z"
      },
      {
        "duration": 11,
        "start_time": "2022-01-26T17:04:04.073Z"
      },
      {
        "duration": 48,
        "start_time": "2022-01-26T17:04:04.087Z"
      },
      {
        "duration": 8,
        "start_time": "2022-01-26T17:04:04.137Z"
      },
      {
        "duration": 21,
        "start_time": "2022-01-26T17:04:04.147Z"
      },
      {
        "duration": 15,
        "start_time": "2022-01-26T17:04:04.170Z"
      },
      {
        "duration": 46,
        "start_time": "2022-01-26T17:04:04.188Z"
      },
      {
        "duration": 11,
        "start_time": "2022-01-26T17:04:04.236Z"
      },
      {
        "duration": 12,
        "start_time": "2022-01-26T17:04:04.249Z"
      },
      {
        "duration": 92,
        "start_time": "2022-01-26T17:04:04.263Z"
      },
      {
        "duration": 56,
        "start_time": "2022-01-26T17:04:04.358Z"
      },
      {
        "duration": 40,
        "start_time": "2022-01-26T17:04:04.433Z"
      },
      {
        "duration": 2519,
        "start_time": "2022-01-26T17:04:04.477Z"
      },
      {
        "duration": 1689,
        "start_time": "2022-01-26T17:04:07.000Z"
      },
      {
        "duration": 1521,
        "start_time": "2022-01-26T17:04:08.692Z"
      },
      {
        "duration": 1146,
        "start_time": "2022-01-26T17:04:10.217Z"
      },
      {
        "duration": 492,
        "start_time": "2022-01-26T17:04:11.367Z"
      },
      {
        "duration": -5,
        "start_time": "2022-01-26T17:04:11.867Z"
      },
      {
        "duration": 39,
        "start_time": "2022-01-26T17:10:36.286Z"
      },
      {
        "duration": 21,
        "start_time": "2022-01-26T17:11:25.844Z"
      },
      {
        "duration": 12,
        "start_time": "2022-01-26T17:11:27.004Z"
      },
      {
        "duration": 12,
        "start_time": "2022-01-26T17:11:27.506Z"
      },
      {
        "duration": 141,
        "start_time": "2022-01-26T17:11:28.379Z"
      },
      {
        "duration": 2083,
        "start_time": "2022-01-26T17:11:29.443Z"
      },
      {
        "duration": 39,
        "start_time": "2022-01-26T17:11:56.076Z"
      },
      {
        "duration": 588,
        "start_time": "2022-01-26T17:17:17.412Z"
      },
      {
        "duration": 1433,
        "start_time": "2022-01-26T17:17:22.985Z"
      },
      {
        "duration": 1355,
        "start_time": "2022-01-26T17:17:27.971Z"
      },
      {
        "duration": 736,
        "start_time": "2022-01-26T17:17:32.389Z"
      },
      {
        "duration": 1580,
        "start_time": "2022-01-26T17:17:39.813Z"
      },
      {
        "duration": 1008,
        "start_time": "2022-01-26T17:17:48.437Z"
      },
      {
        "duration": 906,
        "start_time": "2022-01-26T17:17:53.587Z"
      },
      {
        "duration": 255,
        "start_time": "2022-01-26T17:19:55.981Z"
      },
      {
        "duration": 1308,
        "start_time": "2022-01-26T17:20:01.050Z"
      },
      {
        "duration": 254,
        "start_time": "2022-01-26T17:20:17.396Z"
      },
      {
        "duration": 1287,
        "start_time": "2022-01-26T17:20:29.427Z"
      },
      {
        "duration": 1191,
        "start_time": "2022-01-26T17:20:42.541Z"
      },
      {
        "duration": 1208,
        "start_time": "2022-01-26T17:20:51.489Z"
      },
      {
        "duration": 1221,
        "start_time": "2022-01-26T17:20:55.504Z"
      },
      {
        "duration": 1291,
        "start_time": "2022-01-26T17:21:04.812Z"
      },
      {
        "duration": 1240,
        "start_time": "2022-01-26T17:21:18.128Z"
      },
      {
        "duration": 1675,
        "start_time": "2022-01-26T17:21:23.099Z"
      },
      {
        "duration": 19,
        "start_time": "2022-01-26T17:21:32.544Z"
      },
      {
        "duration": 1499,
        "start_time": "2022-01-26T17:21:48.688Z"
      },
      {
        "duration": 1070,
        "start_time": "2022-01-26T17:21:51.349Z"
      },
      {
        "duration": 871,
        "start_time": "2022-01-26T17:21:52.987Z"
      },
      {
        "duration": 287,
        "start_time": "2022-01-26T17:22:10.294Z"
      },
      {
        "duration": 236,
        "start_time": "2022-01-26T17:22:14.131Z"
      },
      {
        "duration": 17,
        "start_time": "2022-01-26T17:22:19.246Z"
      },
      {
        "duration": 276,
        "start_time": "2022-01-26T17:22:40.215Z"
      },
      {
        "duration": 20,
        "start_time": "2022-01-26T17:22:43.821Z"
      },
      {
        "duration": 2627,
        "start_time": "2022-01-26T17:22:51.588Z"
      },
      {
        "duration": 1561,
        "start_time": "2022-01-26T17:22:55.886Z"
      },
      {
        "duration": 1539,
        "start_time": "2022-01-26T17:23:03.221Z"
      },
      {
        "duration": 931,
        "start_time": "2022-01-26T17:23:04.763Z"
      },
      {
        "duration": 224,
        "start_time": "2022-01-26T17:32:16.749Z"
      },
      {
        "duration": 23,
        "start_time": "2022-01-26T17:32:20.073Z"
      },
      {
        "duration": 1190,
        "start_time": "2022-01-26T17:32:25.408Z"
      },
      {
        "duration": 982,
        "start_time": "2022-01-26T17:32:38.275Z"
      },
      {
        "duration": 1314,
        "start_time": "2022-01-26T17:33:00.686Z"
      },
      {
        "duration": 1194,
        "start_time": "2022-01-26T17:33:07.469Z"
      },
      {
        "duration": 1110,
        "start_time": "2022-01-26T17:33:21.401Z"
      },
      {
        "duration": 1335,
        "start_time": "2022-01-26T17:33:42.180Z"
      },
      {
        "duration": 1005,
        "start_time": "2022-01-26T17:33:48.334Z"
      },
      {
        "duration": 947,
        "start_time": "2022-01-26T17:33:53.351Z"
      },
      {
        "duration": 908,
        "start_time": "2022-01-26T17:34:00.124Z"
      },
      {
        "duration": 1017,
        "start_time": "2022-01-26T17:34:19.588Z"
      },
      {
        "duration": 1805,
        "start_time": "2022-01-26T17:43:09.333Z"
      },
      {
        "duration": 1134,
        "start_time": "2022-01-26T17:43:11.141Z"
      },
      {
        "duration": 100,
        "start_time": "2022-01-26T17:43:12.278Z"
      },
      {
        "duration": 114,
        "start_time": "2022-01-26T17:43:12.382Z"
      },
      {
        "duration": 6,
        "start_time": "2022-01-26T17:43:12.498Z"
      },
      {
        "duration": 27,
        "start_time": "2022-01-26T17:43:12.506Z"
      },
      {
        "duration": 100,
        "start_time": "2022-01-26T17:43:12.536Z"
      },
      {
        "duration": 50,
        "start_time": "2022-01-26T17:43:12.640Z"
      },
      {
        "duration": 91,
        "start_time": "2022-01-26T17:43:12.693Z"
      },
      {
        "duration": 27,
        "start_time": "2022-01-26T17:43:12.787Z"
      },
      {
        "duration": 24,
        "start_time": "2022-01-26T17:43:12.834Z"
      },
      {
        "duration": 13,
        "start_time": "2022-01-26T17:43:12.861Z"
      },
      {
        "duration": 20,
        "start_time": "2022-01-26T17:43:12.877Z"
      },
      {
        "duration": 36,
        "start_time": "2022-01-26T17:43:12.900Z"
      },
      {
        "duration": 25,
        "start_time": "2022-01-26T17:43:12.940Z"
      },
      {
        "duration": 14,
        "start_time": "2022-01-26T17:43:12.969Z"
      },
      {
        "duration": 60,
        "start_time": "2022-01-26T17:43:12.986Z"
      },
      {
        "duration": 15,
        "start_time": "2022-01-26T17:43:13.049Z"
      },
      {
        "duration": 17,
        "start_time": "2022-01-26T17:43:13.072Z"
      },
      {
        "duration": 66,
        "start_time": "2022-01-26T17:43:13.092Z"
      },
      {
        "duration": 54,
        "start_time": "2022-01-26T17:43:13.160Z"
      },
      {
        "duration": 62,
        "start_time": "2022-01-26T17:43:13.231Z"
      },
      {
        "duration": 2047,
        "start_time": "2022-01-26T17:43:13.299Z"
      },
      {
        "duration": 1320,
        "start_time": "2022-01-26T17:43:15.350Z"
      },
      {
        "duration": 1119,
        "start_time": "2022-01-26T17:43:16.674Z"
      },
      {
        "duration": 1031,
        "start_time": "2022-01-26T17:43:17.795Z"
      },
      {
        "duration": 1104,
        "start_time": "2022-01-26T17:43:18.832Z"
      },
      {
        "duration": 392,
        "start_time": "2022-01-26T17:43:19.939Z"
      },
      {
        "duration": 61,
        "start_time": "2022-01-26T17:43:20.273Z"
      },
      {
        "duration": 27,
        "start_time": "2022-01-26T17:43:52.293Z"
      },
      {
        "duration": 1972,
        "start_time": "2022-01-26T17:43:57.052Z"
      },
      {
        "duration": 1252,
        "start_time": "2022-01-26T17:44:02.154Z"
      },
      {
        "duration": 17,
        "start_time": "2022-01-26T17:44:25.611Z"
      },
      {
        "duration": 1958,
        "start_time": "2022-01-26T17:44:29.159Z"
      },
      {
        "duration": 1579,
        "start_time": "2022-01-26T17:44:34.469Z"
      },
      {
        "duration": 906,
        "start_time": "2022-01-26T17:44:36.052Z"
      },
      {
        "duration": 75,
        "start_time": "2022-01-26T17:44:36.961Z"
      },
      {
        "duration": 111,
        "start_time": "2022-01-26T17:44:37.039Z"
      },
      {
        "duration": 5,
        "start_time": "2022-01-26T17:44:37.153Z"
      },
      {
        "duration": 18,
        "start_time": "2022-01-26T17:44:37.161Z"
      },
      {
        "duration": 106,
        "start_time": "2022-01-26T17:44:37.182Z"
      },
      {
        "duration": 53,
        "start_time": "2022-01-26T17:44:37.291Z"
      },
      {
        "duration": 60,
        "start_time": "2022-01-26T17:44:37.349Z"
      },
      {
        "duration": 35,
        "start_time": "2022-01-26T17:44:37.412Z"
      },
      {
        "duration": 18,
        "start_time": "2022-01-26T17:44:37.450Z"
      },
      {
        "duration": 11,
        "start_time": "2022-01-26T17:44:37.471Z"
      },
      {
        "duration": 50,
        "start_time": "2022-01-26T17:44:37.485Z"
      },
      {
        "duration": 19,
        "start_time": "2022-01-26T17:44:37.538Z"
      },
      {
        "duration": 17,
        "start_time": "2022-01-26T17:44:37.559Z"
      },
      {
        "duration": 13,
        "start_time": "2022-01-26T17:44:37.579Z"
      },
      {
        "duration": 55,
        "start_time": "2022-01-26T17:44:37.595Z"
      },
      {
        "duration": 11,
        "start_time": "2022-01-26T17:44:37.652Z"
      },
      {
        "duration": 15,
        "start_time": "2022-01-26T17:44:37.665Z"
      },
      {
        "duration": 77,
        "start_time": "2022-01-26T17:44:37.683Z"
      },
      {
        "duration": 70,
        "start_time": "2022-01-26T17:44:37.763Z"
      },
      {
        "duration": 55,
        "start_time": "2022-01-26T17:44:37.836Z"
      },
      {
        "duration": 2519,
        "start_time": "2022-01-26T17:44:37.893Z"
      },
      {
        "duration": 1790,
        "start_time": "2022-01-26T17:44:40.415Z"
      },
      {
        "duration": 1155,
        "start_time": "2022-01-26T17:44:42.208Z"
      },
      {
        "duration": 1280,
        "start_time": "2022-01-26T17:44:43.366Z"
      },
      {
        "duration": 1374,
        "start_time": "2022-01-26T17:44:44.653Z"
      },
      {
        "duration": 626,
        "start_time": "2022-01-26T17:44:46.034Z"
      },
      {
        "duration": 101,
        "start_time": "2022-01-26T17:44:46.563Z"
      },
      {
        "duration": 16,
        "start_time": "2022-01-26T17:48:34.946Z"
      },
      {
        "duration": 15,
        "start_time": "2022-01-26T17:48:37.057Z"
      },
      {
        "duration": 433,
        "start_time": "2022-01-26T17:48:58.470Z"
      },
      {
        "duration": 488,
        "start_time": "2022-01-26T17:49:09.515Z"
      },
      {
        "duration": 34,
        "start_time": "2022-01-26T17:49:52.422Z"
      },
      {
        "duration": 15,
        "start_time": "2022-01-26T17:50:04.470Z"
      },
      {
        "duration": 17,
        "start_time": "2022-01-26T17:50:22.023Z"
      },
      {
        "duration": 15,
        "start_time": "2022-01-26T17:50:24.863Z"
      },
      {
        "duration": 14,
        "start_time": "2022-01-26T17:50:39.187Z"
      },
      {
        "duration": 14,
        "start_time": "2022-01-26T17:51:52.781Z"
      },
      {
        "duration": 14,
        "start_time": "2022-01-26T17:52:32.483Z"
      },
      {
        "duration": 16,
        "start_time": "2022-01-26T17:52:35.425Z"
      },
      {
        "duration": 14,
        "start_time": "2022-01-26T17:52:37.974Z"
      },
      {
        "duration": 14,
        "start_time": "2022-01-26T17:52:39.927Z"
      },
      {
        "duration": 15,
        "start_time": "2022-01-26T17:54:30.102Z"
      },
      {
        "duration": 73,
        "start_time": "2022-01-26T17:54:40.407Z"
      },
      {
        "duration": 88,
        "start_time": "2022-01-26T17:54:44.001Z"
      },
      {
        "duration": 13,
        "start_time": "2022-01-26T17:54:48.075Z"
      },
      {
        "duration": 15,
        "start_time": "2022-01-26T17:54:53.116Z"
      },
      {
        "duration": 13,
        "start_time": "2022-01-26T17:54:57.475Z"
      },
      {
        "duration": 13,
        "start_time": "2022-01-26T17:55:01.195Z"
      },
      {
        "duration": 18,
        "start_time": "2022-01-26T17:56:59.373Z"
      },
      {
        "duration": 17,
        "start_time": "2022-01-26T17:57:15.866Z"
      },
      {
        "duration": 14,
        "start_time": "2022-01-26T17:57:30.458Z"
      },
      {
        "duration": 14,
        "start_time": "2022-01-26T17:57:34.352Z"
      },
      {
        "duration": 76,
        "start_time": "2022-01-26T17:59:03.380Z"
      },
      {
        "duration": 287,
        "start_time": "2022-01-26T17:59:13.302Z"
      },
      {
        "duration": 18,
        "start_time": "2022-01-26T18:00:08.427Z"
      },
      {
        "duration": 13,
        "start_time": "2022-01-26T18:00:13.805Z"
      },
      {
        "duration": 13,
        "start_time": "2022-01-26T18:00:56.709Z"
      },
      {
        "duration": 712,
        "start_time": "2022-01-26T18:01:20.134Z"
      },
      {
        "duration": 138,
        "start_time": "2022-01-26T18:01:30.249Z"
      },
      {
        "duration": 655,
        "start_time": "2022-01-26T18:01:32.849Z"
      },
      {
        "duration": 850,
        "start_time": "2022-01-26T18:01:37.938Z"
      },
      {
        "duration": 647,
        "start_time": "2022-01-26T18:01:44.058Z"
      },
      {
        "duration": 635,
        "start_time": "2022-01-26T18:01:48.574Z"
      },
      {
        "duration": 645,
        "start_time": "2022-01-26T18:01:51.097Z"
      },
      {
        "duration": 652,
        "start_time": "2022-01-26T18:01:54.106Z"
      },
      {
        "duration": 645,
        "start_time": "2022-01-26T18:01:57.714Z"
      },
      {
        "duration": 689,
        "start_time": "2022-01-26T18:02:07.591Z"
      },
      {
        "duration": 251,
        "start_time": "2022-01-26T18:03:06.472Z"
      },
      {
        "duration": 22,
        "start_time": "2022-01-26T18:09:49.198Z"
      },
      {
        "duration": 18,
        "start_time": "2022-01-26T18:10:03.527Z"
      },
      {
        "duration": 17,
        "start_time": "2022-01-26T18:10:21.010Z"
      },
      {
        "duration": 15,
        "start_time": "2022-01-26T18:10:36.746Z"
      },
      {
        "duration": 258,
        "start_time": "2022-01-26T18:10:57.807Z"
      },
      {
        "duration": 16,
        "start_time": "2022-01-26T18:11:00.704Z"
      },
      {
        "duration": 17,
        "start_time": "2022-01-26T18:11:11.331Z"
      },
      {
        "duration": 10,
        "start_time": "2022-01-26T18:12:06.700Z"
      },
      {
        "duration": 11,
        "start_time": "2022-01-26T18:12:06.906Z"
      },
      {
        "duration": 16,
        "start_time": "2022-01-26T18:12:19.385Z"
      },
      {
        "duration": 4287,
        "start_time": "2022-01-26T18:12:54.212Z"
      },
      {
        "duration": 16,
        "start_time": "2022-01-26T18:14:28.405Z"
      },
      {
        "duration": 15,
        "start_time": "2022-01-26T18:14:36.709Z"
      },
      {
        "duration": 290,
        "start_time": "2022-01-26T18:14:58.425Z"
      },
      {
        "duration": 7598,
        "start_time": "2022-01-26T18:15:01.364Z"
      },
      {
        "duration": 6135,
        "start_time": "2022-01-26T18:15:53.993Z"
      },
      {
        "duration": 43,
        "start_time": "2022-01-26T18:17:29.410Z"
      },
      {
        "duration": 31,
        "start_time": "2022-01-26T18:17:44.838Z"
      },
      {
        "duration": 28,
        "start_time": "2022-01-26T18:18:08.469Z"
      },
      {
        "duration": 42,
        "start_time": "2022-01-26T18:18:16.426Z"
      },
      {
        "duration": 425,
        "start_time": "2022-01-26T18:18:24.817Z"
      },
      {
        "duration": 30,
        "start_time": "2022-01-26T18:18:34.300Z"
      },
      {
        "duration": 29,
        "start_time": "2022-01-26T18:19:17.164Z"
      },
      {
        "duration": 1509,
        "start_time": "2022-01-26T18:19:29.394Z"
      },
      {
        "duration": 2538,
        "start_time": "2022-01-26T18:19:30.906Z"
      },
      {
        "duration": 84,
        "start_time": "2022-01-26T18:19:33.447Z"
      },
      {
        "duration": 161,
        "start_time": "2022-01-26T18:19:33.535Z"
      },
      {
        "duration": 7,
        "start_time": "2022-01-26T18:19:33.699Z"
      },
      {
        "duration": 35,
        "start_time": "2022-01-26T18:19:33.709Z"
      },
      {
        "duration": 99,
        "start_time": "2022-01-26T18:19:33.748Z"
      },
      {
        "duration": 45,
        "start_time": "2022-01-26T18:19:33.849Z"
      },
      {
        "duration": 88,
        "start_time": "2022-01-26T18:19:33.900Z"
      },
      {
        "duration": 20,
        "start_time": "2022-01-26T18:19:33.991Z"
      },
      {
        "duration": 42,
        "start_time": "2022-01-26T18:19:34.014Z"
      },
      {
        "duration": 11,
        "start_time": "2022-01-26T18:19:34.058Z"
      },
      {
        "duration": 18,
        "start_time": "2022-01-26T18:19:34.072Z"
      },
      {
        "duration": 46,
        "start_time": "2022-01-26T18:19:34.093Z"
      },
      {
        "duration": 20,
        "start_time": "2022-01-26T18:19:34.146Z"
      },
      {
        "duration": 10,
        "start_time": "2022-01-26T18:19:34.168Z"
      },
      {
        "duration": 16,
        "start_time": "2022-01-26T18:19:34.181Z"
      },
      {
        "duration": 41,
        "start_time": "2022-01-26T18:19:34.200Z"
      },
      {
        "duration": 24,
        "start_time": "2022-01-26T18:19:34.244Z"
      },
      {
        "duration": 37,
        "start_time": "2022-01-26T18:19:34.270Z"
      },
      {
        "duration": 81,
        "start_time": "2022-01-26T18:19:34.309Z"
      },
      {
        "duration": 89,
        "start_time": "2022-01-26T18:19:34.392Z"
      },
      {
        "duration": 2179,
        "start_time": "2022-01-26T18:19:34.483Z"
      },
      {
        "duration": 1975,
        "start_time": "2022-01-26T18:19:36.665Z"
      },
      {
        "duration": 1139,
        "start_time": "2022-01-26T18:19:38.643Z"
      },
      {
        "duration": 1263,
        "start_time": "2022-01-26T18:19:39.785Z"
      },
      {
        "duration": 994,
        "start_time": "2022-01-26T18:19:41.055Z"
      },
      {
        "duration": 19,
        "start_time": "2022-01-26T18:19:42.054Z"
      },
      {
        "duration": 766,
        "start_time": "2022-01-26T18:19:42.077Z"
      },
      {
        "duration": 19,
        "start_time": "2022-01-26T18:19:42.847Z"
      },
      {
        "duration": 39,
        "start_time": "2022-01-26T18:19:42.868Z"
      },
      {
        "duration": 5027,
        "start_time": "2022-01-26T18:19:42.910Z"
      },
      {
        "duration": 409,
        "start_time": "2022-01-26T18:22:06.322Z"
      },
      {
        "duration": 22,
        "start_time": "2022-01-26T18:22:17.255Z"
      },
      {
        "duration": 21,
        "start_time": "2022-01-26T18:22:34.286Z"
      },
      {
        "duration": 715,
        "start_time": "2022-01-26T18:23:25.929Z"
      },
      {
        "duration": 822,
        "start_time": "2022-01-26T18:23:52.293Z"
      },
      {
        "duration": 920,
        "start_time": "2022-01-26T18:24:00.495Z"
      },
      {
        "duration": 867,
        "start_time": "2022-01-26T18:24:15.657Z"
      },
      {
        "duration": 638,
        "start_time": "2022-01-26T18:24:41.281Z"
      },
      {
        "duration": 1546,
        "start_time": "2022-01-26T18:34:34.507Z"
      },
      {
        "duration": 1102,
        "start_time": "2022-01-26T18:34:36.057Z"
      },
      {
        "duration": 78,
        "start_time": "2022-01-26T18:34:37.162Z"
      },
      {
        "duration": 126,
        "start_time": "2022-01-26T18:34:37.243Z"
      },
      {
        "duration": 6,
        "start_time": "2022-01-26T18:34:37.371Z"
      },
      {
        "duration": 13,
        "start_time": "2022-01-26T18:34:37.380Z"
      },
      {
        "duration": 128,
        "start_time": "2022-01-26T18:34:37.396Z"
      },
      {
        "duration": 47,
        "start_time": "2022-01-26T18:34:37.528Z"
      },
      {
        "duration": 92,
        "start_time": "2022-01-26T18:34:37.579Z"
      },
      {
        "duration": 20,
        "start_time": "2022-01-26T18:34:37.674Z"
      },
      {
        "duration": 18,
        "start_time": "2022-01-26T18:34:37.696Z"
      },
      {
        "duration": 26,
        "start_time": "2022-01-26T18:34:37.716Z"
      },
      {
        "duration": 31,
        "start_time": "2022-01-26T18:34:37.747Z"
      },
      {
        "duration": 8,
        "start_time": "2022-01-26T18:34:37.781Z"
      },
      {
        "duration": 15,
        "start_time": "2022-01-26T18:34:37.792Z"
      },
      {
        "duration": 32,
        "start_time": "2022-01-26T18:34:37.810Z"
      },
      {
        "duration": 17,
        "start_time": "2022-01-26T18:34:37.845Z"
      },
      {
        "duration": 12,
        "start_time": "2022-01-26T18:34:37.865Z"
      },
      {
        "duration": 9,
        "start_time": "2022-01-26T18:34:37.880Z"
      },
      {
        "duration": 45,
        "start_time": "2022-01-26T18:34:37.933Z"
      },
      {
        "duration": 83,
        "start_time": "2022-01-26T18:34:37.981Z"
      },
      {
        "duration": 72,
        "start_time": "2022-01-26T18:34:38.066Z"
      },
      {
        "duration": 2004,
        "start_time": "2022-01-26T18:34:38.145Z"
      },
      {
        "duration": 1863,
        "start_time": "2022-01-26T18:34:40.152Z"
      },
      {
        "duration": 1551,
        "start_time": "2022-01-26T18:34:42.017Z"
      },
      {
        "duration": 1180,
        "start_time": "2022-01-26T18:34:43.570Z"
      },
      {
        "duration": 1022,
        "start_time": "2022-01-26T18:34:44.753Z"
      },
      {
        "duration": 21,
        "start_time": "2022-01-26T18:34:45.779Z"
      },
      {
        "duration": 875,
        "start_time": "2022-01-26T18:34:45.803Z"
      },
      {
        "duration": 19,
        "start_time": "2022-01-26T18:34:46.681Z"
      },
      {
        "duration": 676,
        "start_time": "2022-01-26T18:34:46.703Z"
      },
      {
        "duration": 33,
        "start_time": "2022-01-26T18:35:44.347Z"
      },
      {
        "duration": 97,
        "start_time": "2022-01-26T18:36:25.718Z"
      },
      {
        "duration": 77,
        "start_time": "2022-01-26T18:36:29.254Z"
      },
      {
        "duration": 108,
        "start_time": "2022-01-26T18:36:32.452Z"
      },
      {
        "duration": 107,
        "start_time": "2022-01-26T18:36:34.114Z"
      },
      {
        "duration": 85,
        "start_time": "2022-01-26T18:36:39.359Z"
      },
      {
        "duration": 110,
        "start_time": "2022-01-26T18:36:41.973Z"
      },
      {
        "duration": 83,
        "start_time": "2022-01-26T18:36:45.912Z"
      },
      {
        "duration": 89,
        "start_time": "2022-01-26T18:36:52.565Z"
      },
      {
        "duration": 93,
        "start_time": "2022-01-26T18:36:57.972Z"
      },
      {
        "duration": 2195,
        "start_time": "2022-01-26T18:44:32.834Z"
      },
      {
        "duration": 1217,
        "start_time": "2022-01-26T18:44:35.033Z"
      },
      {
        "duration": 118,
        "start_time": "2022-01-26T18:44:36.256Z"
      },
      {
        "duration": 394,
        "start_time": "2022-01-26T18:44:36.378Z"
      },
      {
        "duration": 7,
        "start_time": "2022-01-26T18:44:36.776Z"
      },
      {
        "duration": 17,
        "start_time": "2022-01-26T18:44:36.786Z"
      },
      {
        "duration": 100,
        "start_time": "2022-01-26T18:44:36.806Z"
      },
      {
        "duration": 62,
        "start_time": "2022-01-26T18:44:36.911Z"
      },
      {
        "duration": 86,
        "start_time": "2022-01-26T18:44:36.976Z"
      },
      {
        "duration": 20,
        "start_time": "2022-01-26T18:44:37.065Z"
      },
      {
        "duration": 17,
        "start_time": "2022-01-26T18:44:37.088Z"
      },
      {
        "duration": 18,
        "start_time": "2022-01-26T18:44:37.132Z"
      },
      {
        "duration": 18,
        "start_time": "2022-01-26T18:44:37.154Z"
      },
      {
        "duration": 8,
        "start_time": "2022-01-26T18:44:37.175Z"
      },
      {
        "duration": 49,
        "start_time": "2022-01-26T18:44:37.186Z"
      },
      {
        "duration": 16,
        "start_time": "2022-01-26T18:44:37.239Z"
      },
      {
        "duration": 46,
        "start_time": "2022-01-26T18:44:37.258Z"
      },
      {
        "duration": 29,
        "start_time": "2022-01-26T18:44:37.307Z"
      },
      {
        "duration": 33,
        "start_time": "2022-01-26T18:44:37.343Z"
      },
      {
        "duration": 70,
        "start_time": "2022-01-26T18:44:37.379Z"
      },
      {
        "duration": 56,
        "start_time": "2022-01-26T18:44:37.452Z"
      },
      {
        "duration": 79,
        "start_time": "2022-01-26T18:44:37.510Z"
      },
      {
        "duration": 1900,
        "start_time": "2022-01-26T18:44:37.593Z"
      },
      {
        "duration": 1411,
        "start_time": "2022-01-26T18:44:39.496Z"
      },
      {
        "duration": 1141,
        "start_time": "2022-01-26T18:44:40.909Z"
      },
      {
        "duration": 952,
        "start_time": "2022-01-26T18:44:42.056Z"
      },
      {
        "duration": 997,
        "start_time": "2022-01-26T18:44:43.011Z"
      },
      {
        "duration": 31,
        "start_time": "2022-01-26T18:44:44.010Z"
      },
      {
        "duration": 861,
        "start_time": "2022-01-26T18:44:44.044Z"
      },
      {
        "duration": 33,
        "start_time": "2022-01-26T18:44:44.909Z"
      },
      {
        "duration": 881,
        "start_time": "2022-01-26T18:44:44.946Z"
      },
      {
        "duration": 88,
        "start_time": "2022-02-04T12:26:16.174Z"
      },
      {
        "duration": 1104,
        "start_time": "2022-02-05T13:06:39.760Z"
      },
      {
        "duration": 905,
        "start_time": "2022-02-05T13:06:40.865Z"
      },
      {
        "duration": 503,
        "start_time": "2022-02-05T13:06:45.395Z"
      },
      {
        "duration": 62,
        "start_time": "2022-02-05T13:06:51.606Z"
      },
      {
        "duration": 300,
        "start_time": "2022-02-05T13:06:59.045Z"
      },
      {
        "duration": 55,
        "start_time": "2022-02-05T13:07:03.554Z"
      },
      {
        "duration": 48,
        "start_time": "2022-02-05T13:07:10.478Z"
      },
      {
        "duration": 48,
        "start_time": "2022-02-05T13:07:12.923Z"
      },
      {
        "duration": 11,
        "start_time": "2022-02-05T13:07:37.843Z"
      },
      {
        "duration": 978,
        "start_time": "2022-02-05T13:07:38.110Z"
      },
      {
        "duration": 36,
        "start_time": "2022-02-05T13:07:39.090Z"
      },
      {
        "duration": 55,
        "start_time": "2022-02-05T13:07:44.494Z"
      },
      {
        "duration": 63,
        "start_time": "2022-02-05T13:07:53.242Z"
      },
      {
        "duration": 64,
        "start_time": "2022-02-05T13:07:56.582Z"
      },
      {
        "duration": 69,
        "start_time": "2022-02-05T13:07:59.004Z"
      },
      {
        "duration": 38,
        "start_time": "2022-02-05T13:08:06.803Z"
      },
      {
        "duration": 41,
        "start_time": "2022-02-05T13:08:12.350Z"
      },
      {
        "duration": 16,
        "start_time": "2022-02-05T13:33:54.926Z"
      },
      {
        "duration": 2574,
        "start_time": "2022-02-05T13:33:55.183Z"
      },
      {
        "duration": 40,
        "start_time": "2022-02-05T13:33:57.759Z"
      },
      {
        "duration": 66,
        "start_time": "2022-02-05T13:34:04.898Z"
      },
      {
        "duration": 4,
        "start_time": "2022-02-05T13:34:06.097Z"
      },
      {
        "duration": 6,
        "start_time": "2022-02-05T13:34:37.953Z"
      },
      {
        "duration": 13,
        "start_time": "2022-02-05T13:34:49.571Z"
      },
      {
        "duration": 6,
        "start_time": "2022-02-05T13:35:25.303Z"
      },
      {
        "duration": 4,
        "start_time": "2022-02-05T13:36:54.038Z"
      },
      {
        "duration": 5,
        "start_time": "2022-02-05T13:37:02.984Z"
      },
      {
        "duration": 3,
        "start_time": "2022-02-05T13:37:42.033Z"
      },
      {
        "duration": 6,
        "start_time": "2022-02-05T13:37:43.443Z"
      },
      {
        "duration": 9,
        "start_time": "2022-02-05T13:37:52.147Z"
      },
      {
        "duration": 9,
        "start_time": "2022-02-05T13:37:56.039Z"
      },
      {
        "duration": 5,
        "start_time": "2022-02-05T13:38:44.027Z"
      },
      {
        "duration": 41,
        "start_time": "2022-02-05T13:41:39.603Z"
      },
      {
        "duration": 43,
        "start_time": "2022-02-05T13:41:55.734Z"
      },
      {
        "duration": 5,
        "start_time": "2022-02-05T13:42:29.566Z"
      },
      {
        "duration": 252,
        "start_time": "2022-02-05T13:42:37.188Z"
      },
      {
        "duration": 113,
        "start_time": "2022-02-05T13:43:12.066Z"
      },
      {
        "duration": 5213,
        "start_time": "2022-02-05T13:44:00.234Z"
      },
      {
        "duration": 33,
        "start_time": "2022-02-05T13:44:15.078Z"
      },
      {
        "duration": 76,
        "start_time": "2022-02-05T13:44:19.862Z"
      },
      {
        "duration": 38,
        "start_time": "2022-02-05T13:44:43.308Z"
      },
      {
        "duration": 5114,
        "start_time": "2022-02-05T13:46:09.739Z"
      },
      {
        "duration": 27,
        "start_time": "2022-02-05T13:46:44.537Z"
      },
      {
        "duration": 21,
        "start_time": "2022-02-05T13:47:04.225Z"
      },
      {
        "duration": 26,
        "start_time": "2022-02-05T13:47:08.736Z"
      },
      {
        "duration": 3,
        "start_time": "2022-02-05T13:47:21.865Z"
      },
      {
        "duration": 4,
        "start_time": "2022-02-05T13:47:30.531Z"
      },
      {
        "duration": 191,
        "start_time": "2022-02-05T13:47:57.622Z"
      },
      {
        "duration": 174,
        "start_time": "2022-02-05T13:48:19.724Z"
      },
      {
        "duration": 41,
        "start_time": "2022-02-05T13:48:45.132Z"
      },
      {
        "duration": 29,
        "start_time": "2022-02-05T13:48:46.305Z"
      },
      {
        "duration": 39,
        "start_time": "2022-02-05T13:49:33.234Z"
      },
      {
        "duration": 13,
        "start_time": "2022-02-05T13:49:33.634Z"
      },
      {
        "duration": 193,
        "start_time": "2022-02-05T13:49:34.318Z"
      },
      {
        "duration": 28,
        "start_time": "2022-02-05T13:49:47.869Z"
      },
      {
        "duration": 39,
        "start_time": "2022-02-05T13:49:48.587Z"
      },
      {
        "duration": 13,
        "start_time": "2022-02-05T13:49:48.813Z"
      },
      {
        "duration": 203,
        "start_time": "2022-02-05T13:49:50.249Z"
      },
      {
        "duration": 11,
        "start_time": "2022-02-05T13:49:55.038Z"
      },
      {
        "duration": 2321,
        "start_time": "2022-02-05T13:49:55.463Z"
      },
      {
        "duration": 38,
        "start_time": "2022-02-05T13:49:57.786Z"
      },
      {
        "duration": 62,
        "start_time": "2022-02-05T13:50:01.187Z"
      },
      {
        "duration": 4,
        "start_time": "2022-02-05T13:50:02.036Z"
      },
      {
        "duration": 2,
        "start_time": "2022-02-05T13:50:05.038Z"
      },
      {
        "duration": 5,
        "start_time": "2022-02-05T13:50:05.456Z"
      },
      {
        "duration": 43,
        "start_time": "2022-02-05T13:50:08.299Z"
      },
      {
        "duration": 30,
        "start_time": "2022-02-05T13:50:08.811Z"
      },
      {
        "duration": 51,
        "start_time": "2022-02-05T13:50:10.849Z"
      },
      {
        "duration": 13,
        "start_time": "2022-02-05T13:50:11.800Z"
      },
      {
        "duration": 200,
        "start_time": "2022-02-05T13:50:12.344Z"
      },
      {
        "duration": 1125,
        "start_time": "2022-02-05T13:52:31.187Z"
      },
      {
        "duration": 2456,
        "start_time": "2022-02-05T13:52:32.314Z"
      },
      {
        "duration": 38,
        "start_time": "2022-02-05T13:52:34.772Z"
      },
      {
        "duration": 63,
        "start_time": "2022-02-05T13:52:34.813Z"
      },
      {
        "duration": 4,
        "start_time": "2022-02-05T13:52:34.878Z"
      },
      {
        "duration": 6,
        "start_time": "2022-02-05T13:52:34.883Z"
      },
      {
        "duration": 22,
        "start_time": "2022-02-05T13:52:34.890Z"
      },
      {
        "duration": 48,
        "start_time": "2022-02-05T13:52:34.914Z"
      },
      {
        "duration": 29,
        "start_time": "2022-02-05T13:52:34.964Z"
      },
      {
        "duration": 56,
        "start_time": "2022-02-05T13:52:34.995Z"
      },
      {
        "duration": 14,
        "start_time": "2022-02-05T13:52:35.052Z"
      },
      {
        "duration": 289,
        "start_time": "2022-02-05T13:52:35.067Z"
      },
      {
        "duration": -104,
        "start_time": "2022-02-05T13:52:35.462Z"
      },
      {
        "duration": -106,
        "start_time": "2022-02-05T13:52:35.465Z"
      },
      {
        "duration": -108,
        "start_time": "2022-02-05T13:52:35.468Z"
      },
      {
        "duration": -109,
        "start_time": "2022-02-05T13:52:35.470Z"
      },
      {
        "duration": -110,
        "start_time": "2022-02-05T13:52:35.472Z"
      },
      {
        "duration": -113,
        "start_time": "2022-02-05T13:52:35.475Z"
      },
      {
        "duration": -114,
        "start_time": "2022-02-05T13:52:35.477Z"
      },
      {
        "duration": -114,
        "start_time": "2022-02-05T13:52:35.479Z"
      },
      {
        "duration": -117,
        "start_time": "2022-02-05T13:52:35.482Z"
      },
      {
        "duration": -124,
        "start_time": "2022-02-05T13:52:35.490Z"
      },
      {
        "duration": -125,
        "start_time": "2022-02-05T13:52:35.492Z"
      },
      {
        "duration": -127,
        "start_time": "2022-02-05T13:52:35.495Z"
      },
      {
        "duration": -128,
        "start_time": "2022-02-05T13:52:35.497Z"
      },
      {
        "duration": -129,
        "start_time": "2022-02-05T13:52:35.499Z"
      },
      {
        "duration": -131,
        "start_time": "2022-02-05T13:52:35.501Z"
      },
      {
        "duration": -133,
        "start_time": "2022-02-05T13:52:35.504Z"
      },
      {
        "duration": -134,
        "start_time": "2022-02-05T13:52:35.506Z"
      },
      {
        "duration": -136,
        "start_time": "2022-02-05T13:52:35.509Z"
      },
      {
        "duration": -138,
        "start_time": "2022-02-05T13:52:35.512Z"
      },
      {
        "duration": -139,
        "start_time": "2022-02-05T13:52:35.514Z"
      },
      {
        "duration": 61,
        "start_time": "2022-02-05T13:53:35.377Z"
      },
      {
        "duration": 25,
        "start_time": "2022-02-05T13:53:39.778Z"
      },
      {
        "duration": 189,
        "start_time": "2022-02-05T13:55:04.262Z"
      },
      {
        "duration": 14,
        "start_time": "2022-02-05T13:55:40.488Z"
      },
      {
        "duration": 15,
        "start_time": "2022-02-05T13:55:46.872Z"
      },
      {
        "duration": 893,
        "start_time": "2022-02-05T13:56:36.532Z"
      },
      {
        "duration": 1183,
        "start_time": "2022-02-05T13:56:43.608Z"
      },
      {
        "duration": 791,
        "start_time": "2022-02-05T13:56:44.793Z"
      },
      {
        "duration": 54,
        "start_time": "2022-02-05T13:56:45.586Z"
      },
      {
        "duration": 74,
        "start_time": "2022-02-05T13:56:45.642Z"
      },
      {
        "duration": 3,
        "start_time": "2022-02-05T13:56:45.718Z"
      },
      {
        "duration": 5,
        "start_time": "2022-02-05T13:56:45.723Z"
      },
      {
        "duration": 11,
        "start_time": "2022-02-05T13:56:45.729Z"
      },
      {
        "duration": 75,
        "start_time": "2022-02-05T13:56:45.742Z"
      },
      {
        "duration": 29,
        "start_time": "2022-02-05T13:56:45.818Z"
      },
      {
        "duration": 45,
        "start_time": "2022-02-05T13:56:45.848Z"
      },
      {
        "duration": 13,
        "start_time": "2022-02-05T13:56:45.912Z"
      },
      {
        "duration": 18,
        "start_time": "2022-02-05T13:56:45.926Z"
      },
      {
        "duration": 13,
        "start_time": "2022-02-05T13:56:45.945Z"
      },
      {
        "duration": 11,
        "start_time": "2022-02-05T13:56:45.960Z"
      },
      {
        "duration": 39,
        "start_time": "2022-02-05T13:56:45.973Z"
      },
      {
        "duration": 12,
        "start_time": "2022-02-05T13:56:46.014Z"
      },
      {
        "duration": 6,
        "start_time": "2022-02-05T13:56:46.028Z"
      },
      {
        "duration": 10,
        "start_time": "2022-02-05T13:56:46.036Z"
      },
      {
        "duration": 7,
        "start_time": "2022-02-05T13:56:46.048Z"
      },
      {
        "duration": 14,
        "start_time": "2022-02-05T13:56:46.057Z"
      },
      {
        "duration": 42,
        "start_time": "2022-02-05T13:56:46.073Z"
      },
      {
        "duration": 7,
        "start_time": "2022-02-05T13:56:46.117Z"
      },
      {
        "duration": 29,
        "start_time": "2022-02-05T13:56:46.128Z"
      },
      {
        "duration": 70,
        "start_time": "2022-02-05T13:56:46.159Z"
      },
      {
        "duration": 40,
        "start_time": "2022-02-05T13:56:46.232Z"
      },
      {
        "duration": 1294,
        "start_time": "2022-02-05T13:56:46.274Z"
      },
      {
        "duration": 715,
        "start_time": "2022-02-05T13:56:47.569Z"
      },
      {
        "duration": 663,
        "start_time": "2022-02-05T13:56:48.286Z"
      },
      {
        "duration": 534,
        "start_time": "2022-02-05T13:56:48.951Z"
      },
      {
        "duration": 602,
        "start_time": "2022-02-05T13:56:49.487Z"
      },
      {
        "duration": 23,
        "start_time": "2022-02-05T13:56:50.090Z"
      },
      {
        "duration": 418,
        "start_time": "2022-02-05T13:56:50.115Z"
      },
      {
        "duration": 10,
        "start_time": "2022-02-05T13:56:50.535Z"
      },
      {
        "duration": 492,
        "start_time": "2022-02-05T13:56:50.548Z"
      },
      {
        "duration": 5086,
        "start_time": "2022-02-05T13:58:35.118Z"
      },
      {
        "duration": 1168,
        "start_time": "2022-02-05T13:58:45.001Z"
      },
      {
        "duration": 922,
        "start_time": "2022-02-05T13:58:46.171Z"
      },
      {
        "duration": 51,
        "start_time": "2022-02-05T13:58:47.095Z"
      },
      {
        "duration": 75,
        "start_time": "2022-02-05T13:58:47.149Z"
      },
      {
        "duration": 5,
        "start_time": "2022-02-05T13:58:47.226Z"
      },
      {
        "duration": 5,
        "start_time": "2022-02-05T13:58:47.232Z"
      },
      {
        "duration": 6,
        "start_time": "2022-02-05T13:58:47.239Z"
      },
      {
        "duration": 65,
        "start_time": "2022-02-05T13:58:47.248Z"
      },
      {
        "duration": 29,
        "start_time": "2022-02-05T13:58:47.315Z"
      },
      {
        "duration": 40,
        "start_time": "2022-02-05T13:58:47.345Z"
      },
      {
        "duration": 33,
        "start_time": "2022-02-05T13:58:47.386Z"
      },
      {
        "duration": 12,
        "start_time": "2022-02-05T13:58:47.420Z"
      },
      {
        "duration": 6,
        "start_time": "2022-02-05T13:58:47.434Z"
      },
      {
        "duration": 10,
        "start_time": "2022-02-05T13:58:47.442Z"
      },
      {
        "duration": 5,
        "start_time": "2022-02-05T13:58:47.454Z"
      },
      {
        "duration": 57,
        "start_time": "2022-02-05T13:58:47.461Z"
      },
      {
        "duration": 18,
        "start_time": "2022-02-05T13:58:47.520Z"
      },
      {
        "duration": 16,
        "start_time": "2022-02-05T13:58:47.539Z"
      },
      {
        "duration": 6,
        "start_time": "2022-02-05T13:58:47.557Z"
      },
      {
        "duration": 6,
        "start_time": "2022-02-05T13:58:47.565Z"
      },
      {
        "duration": 26,
        "start_time": "2022-02-05T13:58:47.573Z"
      },
      {
        "duration": 45,
        "start_time": "2022-02-05T13:58:47.601Z"
      },
      {
        "duration": 34,
        "start_time": "2022-02-05T13:58:47.648Z"
      },
      {
        "duration": 1222,
        "start_time": "2022-02-05T13:58:47.684Z"
      },
      {
        "duration": 718,
        "start_time": "2022-02-05T13:58:48.907Z"
      },
      {
        "duration": 650,
        "start_time": "2022-02-05T13:58:49.626Z"
      },
      {
        "duration": 543,
        "start_time": "2022-02-05T13:58:50.278Z"
      },
      {
        "duration": 595,
        "start_time": "2022-02-05T13:58:50.824Z"
      },
      {
        "duration": 10,
        "start_time": "2022-02-05T13:58:51.421Z"
      },
      {
        "duration": 415,
        "start_time": "2022-02-05T13:58:51.433Z"
      },
      {
        "duration": 9,
        "start_time": "2022-02-05T13:58:51.850Z"
      },
      {
        "duration": 463,
        "start_time": "2022-02-05T13:58:51.861Z"
      },
      {
        "duration": 289,
        "start_time": "2022-02-05T14:03:23.282Z"
      },
      {
        "duration": 1071,
        "start_time": "2022-02-05T14:03:34.897Z"
      },
      {
        "duration": 681,
        "start_time": "2022-02-05T14:03:35.969Z"
      },
      {
        "duration": 50,
        "start_time": "2022-02-05T14:03:36.652Z"
      },
      {
        "duration": 63,
        "start_time": "2022-02-05T14:03:36.704Z"
      },
      {
        "duration": 3,
        "start_time": "2022-02-05T14:03:36.769Z"
      },
      {
        "duration": 4,
        "start_time": "2022-02-05T14:03:36.774Z"
      },
      {
        "duration": 10,
        "start_time": "2022-02-05T14:03:36.780Z"
      },
      {
        "duration": 61,
        "start_time": "2022-02-05T14:03:36.792Z"
      },
      {
        "duration": 31,
        "start_time": "2022-02-05T14:03:36.855Z"
      },
      {
        "duration": 60,
        "start_time": "2022-02-05T14:03:36.888Z"
      },
      {
        "duration": 12,
        "start_time": "2022-02-05T14:03:36.950Z"
      },
      {
        "duration": 10,
        "start_time": "2022-02-05T14:03:36.963Z"
      },
      {
        "duration": 6,
        "start_time": "2022-02-05T14:03:36.975Z"
      },
      {
        "duration": 264,
        "start_time": "2022-02-05T14:03:36.983Z"
      },
      {
        "duration": 38,
        "start_time": "2022-02-05T14:03:37.212Z"
      },
      {
        "duration": 31,
        "start_time": "2022-02-05T14:03:37.220Z"
      },
      {
        "duration": 1,
        "start_time": "2022-02-05T14:03:37.251Z"
      },
      {
        "duration": -9,
        "start_time": "2022-02-05T14:03:37.262Z"
      },
      {
        "duration": -12,
        "start_time": "2022-02-05T14:03:37.266Z"
      },
      {
        "duration": -29,
        "start_time": "2022-02-05T14:03:37.285Z"
      },
      {
        "duration": -41,
        "start_time": "2022-02-05T14:03:37.298Z"
      },
      {
        "duration": -44,
        "start_time": "2022-02-05T14:03:37.302Z"
      },
      {
        "duration": -46,
        "start_time": "2022-02-05T14:03:37.305Z"
      },
      {
        "duration": -48,
        "start_time": "2022-02-05T14:03:37.308Z"
      },
      {
        "duration": -85,
        "start_time": "2022-02-05T14:03:37.346Z"
      },
      {
        "duration": -87,
        "start_time": "2022-02-05T14:03:37.349Z"
      },
      {
        "duration": -90,
        "start_time": "2022-02-05T14:03:37.353Z"
      },
      {
        "duration": -93,
        "start_time": "2022-02-05T14:03:37.357Z"
      },
      {
        "duration": -97,
        "start_time": "2022-02-05T14:03:37.362Z"
      },
      {
        "duration": -98,
        "start_time": "2022-02-05T14:03:37.364Z"
      },
      {
        "duration": -100,
        "start_time": "2022-02-05T14:03:37.367Z"
      },
      {
        "duration": -102,
        "start_time": "2022-02-05T14:03:37.369Z"
      },
      {
        "duration": -103,
        "start_time": "2022-02-05T14:03:37.371Z"
      },
      {
        "duration": 4,
        "start_time": "2022-02-05T14:03:47.756Z"
      },
      {
        "duration": 1078,
        "start_time": "2022-02-05T14:05:45.371Z"
      },
      {
        "duration": 2313,
        "start_time": "2022-02-05T14:05:46.450Z"
      },
      {
        "duration": 50,
        "start_time": "2022-02-05T14:05:48.767Z"
      },
      {
        "duration": 63,
        "start_time": "2022-02-05T14:05:48.818Z"
      },
      {
        "duration": 4,
        "start_time": "2022-02-05T14:05:48.883Z"
      },
      {
        "duration": 4,
        "start_time": "2022-02-05T14:05:48.888Z"
      },
      {
        "duration": 4,
        "start_time": "2022-02-05T14:05:48.913Z"
      },
      {
        "duration": 52,
        "start_time": "2022-02-05T14:05:48.919Z"
      },
      {
        "duration": 45,
        "start_time": "2022-02-05T14:05:48.973Z"
      },
      {
        "duration": 42,
        "start_time": "2022-02-05T14:05:49.020Z"
      },
      {
        "duration": 13,
        "start_time": "2022-02-05T14:05:49.063Z"
      },
      {
        "duration": 34,
        "start_time": "2022-02-05T14:05:49.078Z"
      },
      {
        "duration": 7,
        "start_time": "2022-02-05T14:05:49.114Z"
      },
      {
        "duration": 12,
        "start_time": "2022-02-05T14:05:49.122Z"
      },
      {
        "duration": 6,
        "start_time": "2022-02-05T14:05:49.135Z"
      },
      {
        "duration": 10,
        "start_time": "2022-02-05T14:05:49.142Z"
      },
      {
        "duration": 7,
        "start_time": "2022-02-05T14:05:49.154Z"
      },
      {
        "duration": 11,
        "start_time": "2022-02-05T14:05:49.162Z"
      },
      {
        "duration": 41,
        "start_time": "2022-02-05T14:05:49.175Z"
      },
      {
        "duration": 6,
        "start_time": "2022-02-05T14:05:49.218Z"
      },
      {
        "duration": 23,
        "start_time": "2022-02-05T14:05:49.226Z"
      },
      {
        "duration": 33,
        "start_time": "2022-02-05T14:05:49.252Z"
      },
      {
        "duration": 34,
        "start_time": "2022-02-05T14:05:49.312Z"
      },
      {
        "duration": 1604,
        "start_time": "2022-02-05T14:05:49.347Z"
      },
      {
        "duration": 703,
        "start_time": "2022-02-05T14:05:50.953Z"
      },
      {
        "duration": 631,
        "start_time": "2022-02-05T14:05:51.658Z"
      },
      {
        "duration": 529,
        "start_time": "2022-02-05T14:05:52.291Z"
      },
      {
        "duration": 585,
        "start_time": "2022-02-05T14:05:52.821Z"
      },
      {
        "duration": 10,
        "start_time": "2022-02-05T14:05:53.407Z"
      },
      {
        "duration": 416,
        "start_time": "2022-02-05T14:05:53.419Z"
      },
      {
        "duration": 10,
        "start_time": "2022-02-05T14:05:53.836Z"
      },
      {
        "duration": 461,
        "start_time": "2022-02-05T14:05:53.848Z"
      },
      {
        "duration": 1148,
        "start_time": "2022-02-05T14:08:18.913Z"
      },
      {
        "duration": 755,
        "start_time": "2022-02-05T14:08:20.063Z"
      },
      {
        "duration": 52,
        "start_time": "2022-02-05T14:08:20.821Z"
      },
      {
        "duration": 77,
        "start_time": "2022-02-05T14:08:20.875Z"
      },
      {
        "duration": 4,
        "start_time": "2022-02-05T14:08:20.953Z"
      },
      {
        "duration": 4,
        "start_time": "2022-02-05T14:08:20.959Z"
      },
      {
        "duration": 8,
        "start_time": "2022-02-05T14:08:20.965Z"
      },
      {
        "duration": 69,
        "start_time": "2022-02-05T14:08:20.976Z"
      },
      {
        "duration": 30,
        "start_time": "2022-02-05T14:08:21.048Z"
      },
      {
        "duration": 58,
        "start_time": "2022-02-05T14:08:21.080Z"
      },
      {
        "duration": 13,
        "start_time": "2022-02-05T14:08:21.139Z"
      },
      {
        "duration": 11,
        "start_time": "2022-02-05T14:08:21.154Z"
      },
      {
        "duration": 6,
        "start_time": "2022-02-05T14:08:21.167Z"
      },
      {
        "duration": 15,
        "start_time": "2022-02-05T14:08:21.174Z"
      },
      {
        "duration": 6,
        "start_time": "2022-02-05T14:08:21.212Z"
      },
      {
        "duration": 11,
        "start_time": "2022-02-05T14:08:21.220Z"
      },
      {
        "duration": 12,
        "start_time": "2022-02-05T14:08:21.233Z"
      },
      {
        "duration": 16,
        "start_time": "2022-02-05T14:08:21.246Z"
      },
      {
        "duration": 10,
        "start_time": "2022-02-05T14:08:21.264Z"
      },
      {
        "duration": 20,
        "start_time": "2022-02-05T14:08:21.275Z"
      },
      {
        "duration": 31,
        "start_time": "2022-02-05T14:08:21.297Z"
      },
      {
        "duration": 33,
        "start_time": "2022-02-05T14:08:21.330Z"
      },
      {
        "duration": 49,
        "start_time": "2022-02-05T14:08:21.366Z"
      },
      {
        "duration": 1296,
        "start_time": "2022-02-05T14:08:21.417Z"
      },
      {
        "duration": 879,
        "start_time": "2022-02-05T14:08:22.714Z"
      },
      {
        "duration": 642,
        "start_time": "2022-02-05T14:08:23.595Z"
      },
      {
        "duration": 541,
        "start_time": "2022-02-05T14:08:24.238Z"
      },
      {
        "duration": 602,
        "start_time": "2022-02-05T14:08:24.781Z"
      },
      {
        "duration": 10,
        "start_time": "2022-02-05T14:08:25.385Z"
      },
      {
        "duration": 437,
        "start_time": "2022-02-05T14:08:25.396Z"
      },
      {
        "duration": 9,
        "start_time": "2022-02-05T14:08:25.835Z"
      },
      {
        "duration": 506,
        "start_time": "2022-02-05T14:08:25.846Z"
      },
      {
        "duration": 39,
        "start_time": "2022-02-05T14:09:34.773Z"
      },
      {
        "duration": 37,
        "start_time": "2022-02-05T14:09:40.055Z"
      },
      {
        "duration": 44,
        "start_time": "2022-02-05T14:09:46.326Z"
      },
      {
        "duration": 65,
        "start_time": "2022-02-05T14:10:24.521Z"
      },
      {
        "duration": 36,
        "start_time": "2022-02-05T14:10:30.106Z"
      }
    ],
    "kernelspec": {
      "display_name": "Python 3 (ipykernel)",
      "language": "python",
      "name": "python3"
    },
    "language_info": {
      "codemirror_mode": {
        "name": "ipython",
        "version": 3
      },
      "file_extension": ".py",
      "mimetype": "text/x-python",
      "name": "python",
      "nbconvert_exporter": "python",
      "pygments_lexer": "ipython3",
      "version": "3.9.7"
    },
    "toc": {
      "base_numbering": 1,
      "nav_menu": {},
      "number_sections": true,
      "sideBar": true,
      "skip_h1_title": true,
      "title_cell": "Table of Contents",
      "title_sidebar": "Contents",
      "toc_cell": false,
      "toc_position": {
        "height": "calc(100% - 180px)",
        "left": "10px",
        "top": "150px",
        "width": "217.797px"
      },
      "toc_section_display": true,
      "toc_window_display": true
    },
    "colab": {
      "provenance": []
    }
  },
  "nbformat": 4,
  "nbformat_minor": 0
}